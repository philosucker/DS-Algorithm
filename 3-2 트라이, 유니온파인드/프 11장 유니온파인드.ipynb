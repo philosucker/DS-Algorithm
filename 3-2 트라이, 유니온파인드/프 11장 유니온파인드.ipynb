{
 "cells": [
  {
   "cell_type": "markdown",
   "id": "19e69086-025f-47ce-a80f-0acd38b40921",
   "metadata": {},
   "source": [
    "유니온-파인드(Union-Find) 알고리즘은  \n",
    "주로 집합들의 합집합을 다루는 데 사용되는 알고리즘으로  \n",
    ", 두 주요 연산인 `find`와 `union`으로 구성됩니다.  \n",
    "  \n",
    "이 알고리즘은 동적 연결성 문제를 효율적으로 해결하기 위해 사용되며,  \n",
    "네트워크 연결, 최소 신장 트리, 이미지 처리 등 다양한 분야에서 활용됩니다.  \n",
    "\n",
    "### 주요 연산\n",
    "\n",
    "1. **Find**:  \n",
    "`find` 연산은 어떤 요소가 속한 집합의 대표(루트)를 찾는 연산입니다.  \n",
    "이를 통해 두 요소가 같은 집합에 속해 있는지를 확인할 수 있습니다.  \n",
    "     \n",
    "2. **Union**:  \n",
    "`union` 연산은 두 개의 집합을 하나의 집합으로 합치는 연산입니다.  \n",
    "보통 두 요소 각각에 대해 `find`를 수행한 뒤, 두 요소의 대표가 다를 경우 두 집합을 하나로 합칩니다.  \n",
    "\n",
    "### 구현\n",
    "\n",
    "유니온-파인드 알고리즘은 주로 트리 구조를 사용하여 각 집합을 표현합니다.  \n",
    "초기 상태에서는 모든 요소가 각각 독립적인 집합으로 취급되며, 자기 자신을 대표로 가집니다.  \n",
    "`union` 연산을 통해 두 집합이 합쳐질 때,  \n",
    "한 집합의 대표를 다른 집합의 대표에 연결함으로써 두 집합을 하나로 합칩니다.  \n",
    "\n",
    "### 최적화 기법\n",
    "\n",
    "- **경로 압축(Path Compression)**:  \n",
    "`find` 연산을 수행하는 동안 만나는 모든 노드가 직접 루트를 가리키도록 함으로써,  \n",
    "나중에 이 노드들을 다시 찾을 때 경로를 단축시킵니다. 이는 `find` 연산의 시간 복잡도를 크게 개선합니다.  \n",
    "  \n",
    "- **랭크 기반 합치기(Union by Rank)**:  \n",
    "두 트리를 합칠 때, 항상 랭크(높이나 깊이를 추정하는 값)가 낮은 트리를 랭크가 높은 트리 아래에 붙입니다.  \n",
    "이를 통해 트리의 높이 증가를 최소화하여 `find` 연산이 빠르게 수행될 수 있도록 합니다.  \n",
    "\n",
    "### 사용 예시\n",
    "  \n",
    "유니온-파인드 알고리즘은 그래프의 연결성 분석, 서로소 집합(disjoint sets)의 관리,  \n",
    "최소 신장 트리 알고리즘(예: 크루스칼 알고리즘) 등에 널리 사용됩니다.  \n",
    "이 알고리즘을 통해 효율적으로 집합 간의 관계를 관리하고,   \n",
    "복잡한 네트워크 구조에서 요소들 간의 연결 상태를 파악할 수 있습니다.  "
   ]
  },
  {
   "cell_type": "markdown",
   "id": "5f6a6071-722a-4832-a1f9-87b88271eeee",
   "metadata": {},
   "source": [
    "# 문50 섬 연결하기 h\n",
    "https://school.programmers.co.kr/learn/courses/30/lessons/42861"
   ]
  },
  {
   "cell_type": "code",
   "execution_count": null,
   "id": "dbe02117-d49f-4080-8ade-5edec5e2ad80",
   "metadata": {},
   "outputs": [],
   "source": []
  }
 ],
 "metadata": {
  "kernelspec": {
   "display_name": "Python 3 (ipykernel)",
   "language": "python",
   "name": "python3"
  },
  "language_info": {
   "codemirror_mode": {
    "name": "ipython",
    "version": 3
   },
   "file_extension": ".py",
   "mimetype": "text/x-python",
   "name": "python",
   "nbconvert_exporter": "python",
   "pygments_lexer": "ipython3",
   "version": "3.11.0"
  }
 },
 "nbformat": 4,
 "nbformat_minor": 5
}
