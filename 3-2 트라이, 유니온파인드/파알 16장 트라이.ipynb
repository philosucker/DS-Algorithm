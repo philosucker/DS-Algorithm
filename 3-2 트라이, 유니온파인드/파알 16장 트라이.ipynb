{
 "cells": [
  {
   "cell_type": "markdown",
   "id": "22efd4d4-523d-4b2a-895f-8be8d5d7fe71",
   "metadata": {},
   "source": [
    "### m: 56\n",
    "### h: 57"
   ]
  },
  {
   "cell_type": "markdown",
   "id": "dca977c8-5483-42d8-a87c-b9447740da58",
   "metadata": {},
   "source": [
    "# 16장 Trie"
   ]
  },
  {
   "cell_type": "markdown",
   "id": "621f87b1-2efc-4409-8460-d6c5f6e099a5",
   "metadata": {},
   "source": [
    "retrieval  \n",
    "  **trie**\n",
    "\n",
    "    \n",
    "### 다진 트리\n",
    "    \n",
    "    문자열을 저장하고 검색하는 데 특화된 트리 구조\n",
    "    NLP에서 형태소분석기에서 분석패턴을 트라이로 만들어두고, \n",
    "    자연어 문장에 대해 패턴을 찾아 처리하는 용도\n",
    "\n",
    "    \n",
    "    \n",
    "    \n",
    "    "
   ]
  },
  {
   "cell_type": "markdown",
   "id": "6cc79547-1cbe-4246-8ae8-7b77f28deb97",
   "metadata": {},
   "source": [
    "        (root)\n",
    "         /    \\\n",
    "        a      b\n",
    "       /        \\\n",
    "      p          a\n",
    "     /|\\        / \\\n",
    "    p p l      t   t\n",
    "    |   |      |   |   \n",
    "    l   r      t   h  \n",
    "    e   i     / \\\n",
    "        l     l  e\n",
    "              e  r\n",
    "                 y\n",
    "\n",
    "    효율적인 검색: 특정 단어나 접두사를 빠르게 검색할 수 있습니다.\n",
    "    공간 효율성: 공통 접두사를 공유하기 때문에 메모리를 절약할 수 있습니다.\n",
    "    자동완성 기능\n",
    "    스펠링 체크"
   ]
  },
  {
   "cell_type": "markdown",
   "id": "ce523597-0545-4b4a-b484-066442e44948",
   "metadata": {},
   "source": [
    "# 문56 트라이 구현 m\n",
    "https://leetcode.com/problems/implement-trie-prefix-tree"
   ]
  },
  {
   "cell_type": "code",
   "execution_count": null,
   "id": "57919b00-989d-465d-b91a-d1fc899d7bc4",
   "metadata": {},
   "outputs": [],
   "source": [
    "A trie (pronounced as \"try\") or prefix tree is a tree data structure used to efficiently store and retrieve keys in a dataset of strings. \n",
    "There are various applications of this data structure, such as autocomplete and spellchecker.\n",
    "\n",
    "Implement the Trie class:\n",
    "\n",
    "Trie() Initializes the trie object.\n",
    "void insert(String word) Inserts the string word into the trie.\n",
    "boolean search(String word) Returns true if the string word is in the trie (i.e., was inserted before), and false otherwise.\n",
    "boolean startsWith(String prefix) Returns true if there is a previously inserted string word that has the prefix prefix, and false otherwise.\n",
    " \n",
    "\n",
    "Example 1:\n",
    "\n",
    "Input\n",
    "[\"Trie\", \"insert\", \"search\", \"search\", \"startsWith\", \"insert\", \"search\"]\n",
    "[[], [\"apple\"], [\"apple\"], [\"app\"], [\"app\"], [\"app\"], [\"app\"]]\n",
    "Output\n",
    "[null, null, true, false, true, null, true]"
   ]
  },
  {
   "cell_type": "code",
   "execution_count": 2,
   "id": "64bb8461-9fc0-4ce4-b37c-c1853d602821",
   "metadata": {
    "tags": []
   },
   "outputs": [],
   "source": [
    "class Trie:\n",
    "\n",
    "    def __init__(self):\n",
    "        pass\n",
    "\n",
    "    def insert(self, word: str) -> None:\n",
    "        pass\n",
    "\n",
    "    def search(self, word: str) -> bool:\n",
    "        pass\n",
    "\n",
    "    def startsWith(self, prefix: str) -> bool:\n",
    "        pass\n",
    "\n",
    "\n",
    "# Your Trie object will be instantiated and called as such:\n",
    "# obj = Trie()\n",
    "# obj.insert(word)\n",
    "# param_2 = obj.search(word)\n",
    "# param_3 = obj.startsWith(prefix)"
   ]
  },
  {
   "cell_type": "markdown",
   "id": "a93f366c-c27f-4b1a-ac82-64107f9acae9",
   "metadata": {},
   "source": [
    "    Input\n",
    "    [\"Trie\", \"insert\", \"search\", \"search\", \"startsWith\", \"insert\", \"search\"]\n",
    "    [[], [\"apple\"], [\"apple\"], [\"app\"], [\"app\"], [\"app\"], [\"app\"]]\n",
    "    Output\n",
    "    [null, null, true, false, true, null, true]\n",
    "\n",
    "    Explanation\n",
    "    Trie trie = new Trie();\n",
    "    trie.insert(\"apple\");\n",
    "    trie.search(\"apple\");   // return True\n",
    "    trie.search(\"app\");     // return False\n",
    "    trie.startsWith(\"app\"); // return True\n",
    "    trie.insert(\"app\");\n",
    "    trie.search(\"app\");     // return True\n"
   ]
  },
  {
   "cell_type": "code",
   "execution_count": 1,
   "id": "e3414e8d-1849-4225-806b-0ce971a6be9c",
   "metadata": {
    "tags": []
   },
   "outputs": [],
   "source": [
    "class TrieNode:\n",
    "    \n",
    "    \n",
    "    def __init__(self):\n",
    "        \n",
    "        self.word = False\n",
    "        self.children = {}\n",
    "        \n",
    "class Trie:\n",
    "    \n",
    "    \n",
    "    def __init__(self):\n",
    "\n",
    "        self.root = TrieNode()\n",
    "        \n",
    "    def insert(self, word):\n",
    "        \n",
    "        node = self.root\n",
    "        for char in word:\n",
    "            if char not in node.children:\n",
    "                node.children[char] = TrieNode() # 이 트라이는, 다음 문자를 키로 하는 자식 노드 형태로 깊어진다.\n",
    "            node = node.children[char]\n",
    "        node.word = True # 단어 삽입이 완성되면, 완성된 단어의 마지막 문자 노드의 self.word 값은 True 처리  "
   ]
  },
  {
   "cell_type": "code",
   "execution_count": 6,
   "id": "043c6bed-14dc-401d-97c6-60bb5b4f1e18",
   "metadata": {
    "tags": []
   },
   "outputs": [
    {
     "name": "stdout",
     "output_type": "stream",
     "text": [
      "<__main__.TrieNode object at 0x7f5151839810>\n",
      "{}\n",
      "<__main__.TrieNode object at 0x7f5151839810>\n",
      "{'a': <__main__.TrieNode object at 0x7f5151838750>}\n",
      "{'p': <__main__.TrieNode object at 0x7f5151839750>}\n",
      "{'p': <__main__.TrieNode object at 0x7f515183de90>}\n",
      "{'l': <__main__.TrieNode object at 0x7f515183df50>}\n",
      "{'e': <__main__.TrieNode object at 0x7f515183c890>}\n"
     ]
    }
   ],
   "source": [
    "t = Trie()\n",
    "print(t.root)\n",
    "print(t.root.children)\n",
    "t.insert(\"apple\")\n",
    "print(t.root)\n",
    "print(t.root.children)\n",
    "print(t.root.children['a'].children)\n",
    "print(t.root.children['a'].children['p'].children)\n",
    "print(t.root.children['a'].children['p'].children['p'].children)\n",
    "print(t.root.children['a'].children['p'].children['p'].children['l'].children)"
   ]
  },
  {
   "cell_type": "code",
   "execution_count": 25,
   "id": "b04d54b3-8f16-468a-b553-65a81dc9dce0",
   "metadata": {
    "tags": []
   },
   "outputs": [
    {
     "name": "stdout",
     "output_type": "stream",
     "text": [
      "{'a': <__main__.TrieNode object at 0x7f03088642d0>}\n",
      "{'p': <__main__.TrieNode object at 0x7f02ee232250>}\n",
      "{'p': <__main__.TrieNode object at 0x7f02ee232c10>}\n",
      "{'l': <__main__.TrieNode object at 0x7f02ee232c50>, 'e': <__main__.TrieNode object at 0x7f0304303650>}\n"
     ]
    }
   ],
   "source": [
    "t.insert('appear')\n",
    "print(t.root.children)\n",
    "print(t.root.children['a'].children)\n",
    "print(t.root.children['a'].children['p'].children)\n",
    "print(t.root.children['a'].children['p'].children['p'].children)"
   ]
  },
  {
   "cell_type": "code",
   "execution_count": 26,
   "id": "5740660c-8ff8-4847-a719-3c6b63b85848",
   "metadata": {
    "tags": []
   },
   "outputs": [
    {
     "name": "stdout",
     "output_type": "stream",
     "text": [
      "{'a': <__main__.TrieNode object at 0x7f03088642d0>}\n",
      "{'p': <__main__.TrieNode object at 0x7f02ee232250>}\n",
      "{'p': <__main__.TrieNode object at 0x7f02ee232c10>}\n",
      "{'r': <__main__.TrieNode object at 0x7f0304302c10>, 'l': <__main__.TrieNode object at 0x7f02ee233ad0>}\n"
     ]
    }
   ],
   "source": [
    "t.insert('appeal')\n",
    "print(t.root.children)\n",
    "print(t.root.children['a'].children)\n",
    "print(t.root.children['a'].children['p'].children)\n",
    "print(t.root.children['a'].children['p'].children['p'].children['e'].children['a'].children)"
   ]
  },
  {
   "cell_type": "code",
   "execution_count": 28,
   "id": "2aa26bd7-1829-4b98-8c8e-5cc3ca588607",
   "metadata": {
    "tags": []
   },
   "outputs": [],
   "source": [
    "class TrieNode:\n",
    "    \n",
    "    \n",
    "    def __init__(self):\n",
    "        \n",
    "        self.word = False\n",
    "        self.children = {}\n",
    "        \n",
    "class Trie:\n",
    "    \n",
    "    \n",
    "    def __init__(self):\n",
    "\n",
    "        self.root = TrieNode()\n",
    "        \n",
    "    def insert(self, word):\n",
    "        \n",
    "        node = self.root\n",
    "        for char in word:\n",
    "            if char not in node.children:\n",
    "                node.children[char] = TrieNode() # 이 트라이는, 다음 문자를 키로 하는 자식 노드 형태로 깊어진다.\n",
    "            node = node.children[char]\n",
    "        node.word = True  # 단어 삽입이 완성되면, 완성된 단어의 마지막 문자 노드의 self.word 값은 True 처리  \n",
    "        \n",
    "    def search(self, word):\n",
    "        \n",
    "        node = self.root\n",
    "        for char in word:\n",
    "            if char not in node.children:\n",
    "                return False\n",
    "            node = node.children[char]\n",
    "            \n",
    "        return node.word\n",
    "    \n",
    "    def startswith(self, prefix):\n",
    "        \n",
    "        node = self.root\n",
    "        for char in prefix:\n",
    "            if char not in node.children:\n",
    "                return False\n",
    "            node = node.children[char]\n",
    "        \n",
    "        return True"
   ]
  },
  {
   "cell_type": "markdown",
   "id": "ee71887e-948c-48b0-81e0-4f565a755449",
   "metadata": {},
   "source": [
    "### 최종 코드"
   ]
  },
  {
   "cell_type": "code",
   "execution_count": 30,
   "id": "515d1b24-b124-4405-9984-944bc07810f0",
   "metadata": {
    "tags": []
   },
   "outputs": [],
   "source": [
    "import collections\n",
    "\n",
    "class TrieNode:\n",
    "    \n",
    "    \n",
    "    def __init__(self):\n",
    "        \n",
    "        self.word = False\n",
    "        self.children = collections.defaultdict(TrieNode)  # 코드 개선\n",
    "        \n",
    "\n",
    "class Trie:\n",
    "    \n",
    "    \n",
    "    def __init__(self):\n",
    "        \n",
    "        self.root = TrieNode()\n",
    "        \n",
    "    def insert(self, word):\n",
    "        \n",
    "        node = self.root\n",
    "        for char in word:\n",
    "            node = node.children[char]\n",
    "        node.word = True\n",
    "        \n",
    "    def search(self, word):\n",
    "        \n",
    "        node = self.root\n",
    "        for char in word:\n",
    "            if char not in node.children:\n",
    "                return False\n",
    "            node = node.children[char]\n",
    "            \n",
    "        return node.word\n",
    "    \n",
    "    def startswith(self, prefix):\n",
    "        \n",
    "        node = self.root\n",
    "        for char in prefix:\n",
    "            if char not in node.children:\n",
    "                return False\n",
    "            node = node.children[char]\n",
    "        \n",
    "        return True"
   ]
  },
  {
   "cell_type": "markdown",
   "id": "c76d4a31-fe82-4a5f-9a35-ea117973ecf8",
   "metadata": {},
   "source": [
    "# 문57 팰린드롬 페어 h\n",
    "https://leetcode.com/problems/palindrome-pairs"
   ]
  },
  {
   "cell_type": "code",
   "execution_count": null,
   "id": "bdb1986f-8226-42e8-9829-8e9ff0f6472f",
   "metadata": {},
   "outputs": [],
   "source": [
    "You are given a 0-indexed array of unique strings words.\n",
    "A palindrome pair is a pair of integers (i, j) such that:\n",
    "\n",
    "0 <= i, j < words.length,\n",
    "i != j, and\n",
    "words[i] + words[j] (the concatenation of the two strings) is a palindrome.\n",
    "Return an array of all the palindrome pairs of words.\n",
    "\n",
    "You must write an algorithm with O(sum of words[i].length) runtime complexity.\n",
    "\n",
    " \n",
    "\n",
    "Example 1:\n",
    "\n",
    "Input: words = [\"abcd\",\"dcba\",\"lls\",\"s\",\"sssll\"]\n",
    "Output: [[0,1],[1,0],[3,2],[2,4]]\n",
    "Explanation: The palindromes are [\"abcddcba\",\"dcbaabcd\",\"slls\",\"llssssll\"]\n",
    "\n",
    "\n",
    "Example 2:\n",
    "\n",
    "Input: words = [\"bat\",\"tab\",\"cat\"]\n",
    "Output: [[0,1],[1,0]]\n",
    "Explanation: The palindromes are [\"battab\",\"tabbat\"]"
   ]
  },
  {
   "cell_type": "code",
   "execution_count": null,
   "id": "aaffdb72-05b1-4fa2-818b-1d323a8489c3",
   "metadata": {},
   "outputs": [],
   "source": [
    "class Solution:\n",
    "    def palindromePairs(self, words: List[str]) -> List[List[int]]:\n",
    "        "
   ]
  }
 ],
 "metadata": {
  "kernelspec": {
   "display_name": "Python 3 (ipykernel)",
   "language": "python",
   "name": "python3"
  },
  "language_info": {
   "codemirror_mode": {
    "name": "ipython",
    "version": 3
   },
   "file_extension": ".py",
   "mimetype": "text/x-python",
   "name": "python",
   "nbconvert_exporter": "python",
   "pygments_lexer": "ipython3",
   "version": "3.11.0"
  }
 },
 "nbformat": 4,
 "nbformat_minor": 5
}
