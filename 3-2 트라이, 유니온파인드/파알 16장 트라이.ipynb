{
 "cells": [
  {
   "cell_type": "markdown",
   "id": "22efd4d4-523d-4b2a-895f-8be8d5d7fe71",
   "metadata": {},
   "source": [
    "### m: 56\n",
    "### h: 57"
   ]
  },
  {
   "cell_type": "markdown",
   "id": "dca977c8-5483-42d8-a87c-b9447740da58",
   "metadata": {},
   "source": [
    "# 16장 Trie"
   ]
  },
  {
   "cell_type": "markdown",
   "id": "621f87b1-2efc-4409-8460-d6c5f6e099a5",
   "metadata": {},
   "source": [
    "\n",
    "```python\n",
    "retrieval  \n",
    "--trie---\n",
    "```\n",
    "    \n",
    "### 다진 트리\n",
    "    \n",
    "    문자열을 저장하고 검색하는 데 특화된 트리 구조\n",
    "    NLP에서 형태소분석기에서 분석패턴을 트라이로 만들어두고, \n",
    "    자연어 문장에 대해 패턴을 찾아 처리하는 용도\n",
    "\n",
    "    \n",
    "    \n",
    "    \n",
    "    "
   ]
  },
  {
   "cell_type": "markdown",
   "id": "6cc79547-1cbe-4246-8ae8-7b77f28deb97",
   "metadata": {},
   "source": [
    "        (root)\n",
    "         /    \\\n",
    "        a      b\n",
    "       /        \\\n",
    "      p          a\n",
    "     /|\\        / \\\n",
    "    p p l      t   t\n",
    "    |   |      |   |   \n",
    "    l   r      t   h  \n",
    "    e   i     / \\\n",
    "        l     l  e\n",
    "              e  r\n",
    "                 y\n",
    "\n",
    "    효율적인 검색: 특정 단어나 접두사를 빠르게 검색할 수 있습니다.\n",
    "    공간 효율성: 공통 접두사를 공유하기 때문에 메모리를 절약할 수 있습니다.\n",
    "    자동완성 기능\n",
    "    스펠링 체크"
   ]
  },
  {
   "cell_type": "markdown",
   "id": "ce523597-0545-4b4a-b484-066442e44948",
   "metadata": {},
   "source": [
    "# 문56 트라이 구현 m\n",
    "https://leetcode.com/problems/implement-trie-prefix-tree"
   ]
  },
  {
   "cell_type": "code",
   "execution_count": null,
   "id": "57919b00-989d-465d-b91a-d1fc899d7bc4",
   "metadata": {},
   "outputs": [],
   "source": [
    "A trie (pronounced as \"try\") or prefix tree is a tree data structure \n",
    "used to efficiently store and retrieve keys in a dataset of strings. \n",
    "\n",
    "There are various applications of this data structure, \n",
    "such as autocomplete and spellchecker.\n",
    "\n",
    "Implement the Trie class:\n",
    "\n",
    "Trie() Initializes the trie object.\n",
    "Inserts the string word into the trie.\n",
    "Returns true if the string word is in the trie (i.e., was inserted before), and false otherwise.\n",
    "Returns true if there is a previously inserted string word \n",
    "that has the prefix, and false otherwise.\n",
    " \n",
    "class Trie:\n",
    "\n",
    "    def __init__(self):\n",
    "        pass\n",
    "\n",
    "    def insert(self, word: str) -> None:\n",
    "        pass\n",
    "\n",
    "    def search(self, word: str) -> bool:\n",
    "        pass\n",
    "\n",
    "    def startsWith(self, prefix: str) -> bool:\n",
    "        pass\n",
    "\n",
    "\n",
    "# Your Trie object will be instantiated and called as such:\n",
    "# obj = Trie()\n",
    "# obj.insert(word)\n",
    "# param_2 = obj.search(word)\n",
    "# param_3 = obj.startsWith(prefix)\n",
    "\n",
    "Example 1:\n",
    "\n",
    "Input\n",
    "[\"Trie\", \"insert\", \"search\", \"search\", \"startsWith\", \"insert\", \"search\"]\n",
    "[    [], [\"apple\"], [\"apple\"], [\"app\"],     [\"app\"],  [\"app\"], [\"app\"]]\n",
    "Output\n",
    "[  null,     null,      true,    false,        true,     null,   true]\n",
    "\n",
    "Explanation\n",
    "Trie trie = new Trie();\n",
    "trie.insert(\"apple\");\n",
    "trie.search(\"apple\");   // return True\n",
    "trie.search(\"app\");     // return False\n",
    "trie.startsWith(\"app\"); // return True\n",
    "trie.insert(\"app\");\n",
    "trie.search(\"app\");     // return True"
   ]
  },
  {
   "cell_type": "code",
   "execution_count": 2,
   "id": "64bb8461-9fc0-4ce4-b37c-c1853d602821",
   "metadata": {
    "tags": []
   },
   "outputs": [],
   "source": [
    "class Trie:\n",
    "\n",
    "    def __init__(self):\n",
    "        pass\n",
    "\n",
    "    def insert(self, word: str) -> None:\n",
    "        pass\n",
    "\n",
    "    def search(self, word: str) -> bool:\n",
    "        pass\n",
    "\n",
    "    def startsWith(self, prefix: str) -> bool:\n",
    "        pass\n",
    "\n",
    "\n",
    "# Your Trie object will be instantiated and called as such:\n",
    "# obj = Trie()\n",
    "# obj.insert(word)\n",
    "# param_2 = obj.search(word)\n",
    "# param_3 = obj.startsWith(prefix)"
   ]
  },
  {
   "cell_type": "code",
   "execution_count": null,
   "id": "1acac0f4-a1f9-42b0-ba2d-a8ff9cac96c6",
   "metadata": {},
   "outputs": [],
   "source": []
  },
  {
   "cell_type": "code",
   "execution_count": 19,
   "id": "7ca77a5c-0686-4606-b8df-1c98f03b4ca6",
   "metadata": {
    "tags": []
   },
   "outputs": [],
   "source": [
    "import collections\n",
    "\n",
    "class TrieNode:\n",
    "    def __init__(self):\n",
    "        '''\n",
    "        단어의 각 문자는 각 노드에 인스턴스 변수로 있는 children 딕셔너리에서 키로 존재.\n",
    "        각 노드는 자신의 children 딕셔너리를 통해 자식 노드와 연결. 키의 밸류는 자식노드, 즉 이 밸류에 있는 딕셔너리에 다음 문자들이 키로 존재\n",
    "        '''\n",
    "        self.word = False  # 단어의 끝을 나타내는 플래그. 노드가 단어의 마지막 글자를 나타내면 True.\n",
    "        self.children = {}  # 현재 노드의 자식 노드를 저장하는 딕셔너리. \n",
    "                            # 키는 문자를, 값은 해당 문자에 해당하는 TrieNode를 나타냄.\n",
    "        # self.children = collections.defaultdict(TrieNode)  # 따라서 이렇게 쓸 수도 있다.\n",
    "        \n",
    "class Trie:\n",
    "    \n",
    "    def __init__(self):\n",
    "        \n",
    "        self.root = TrieNode()  # 루트 드 초기화\n",
    "        \n",
    "        \n",
    "    def insert(self, word):\n",
    "        '''\n",
    "        문자가 자식으로 존재하지 않으면 새 노드를 생성하고, \n",
    "        단어의 마지막 문자에 도달하면 word 플래그를 True로 설정합니다.\n",
    "        '''\n",
    "        node = self.root                \n",
    "        for char in word:\n",
    "            if char not in node.children:\n",
    "                node.children[char] = TrieNode()  # 현재 문자에 해당하는 자식 노드가 없으면 새로 생성\n",
    "            node = node.children[char]  # 다음 문자를 처리하기 위해 현재 문자의 노드로 이동\n",
    "        node.word = True  # 단어의 마지막 문자에 도달했으므로, word 플래그를 True로 설정하여 단어의 끝임을 표시\n",
    "        \n",
    "        \n",
    "    def search(self, word):\n",
    "    \n",
    "        node = self.root\n",
    "        for char in word:\n",
    "            if char not in node.children:\n",
    "                return False\n",
    "            node = node.children[char]  # 단어의 각 문자는 딕셔너리의 키로 존재, 딕셔너리는 노드마다 있고, 부모자식 노드는 딕셔너리의 키와 밸류로 참조관계 형성\n",
    "        return node.word\n",
    "\n",
    "    \n",
    "    def startsWith(self, prefix):\n",
    "        node = self.root\n",
    "        for char in prefix:\n",
    "            if char not in node.children:\n",
    "                return False\n",
    "            node = node.children[char]\n",
    "        return True"
   ]
  },
  {
   "cell_type": "code",
   "execution_count": 20,
   "id": "043c6bed-14dc-401d-97c6-60bb5b4f1e18",
   "metadata": {
    "tags": []
   },
   "outputs": [
    {
     "name": "stdout",
     "output_type": "stream",
     "text": [
      "{'a': <__main__.TrieNode object at 0x7b02b39d7e90>}\n",
      "{'p': <__main__.TrieNode object at 0x7b02b39d7ed0>}\n",
      "{'p': <__main__.TrieNode object at 0x7b02b39d7e10>}\n",
      "{'l': <__main__.TrieNode object at 0x7b02b39d7f10>}\n",
      "{'e': <__main__.TrieNode object at 0x7b02b3b24410>}\n",
      "{}\n"
     ]
    },
    {
     "data": {
      "text/plain": [
       "True"
      ]
     },
     "execution_count": 20,
     "metadata": {},
     "output_type": "execute_result"
    }
   ],
   "source": [
    "t = Trie()\n",
    "t.insert(\"apple\")\n",
    "\n",
    "print(t.root.children)\n",
    "print(t.root.children['a'].children)\n",
    "print(t.root.children['a'].children['p'].children)\n",
    "print(t.root.children['a'].children['p'].children['p'].children)\n",
    "print(t.root.children['a'].children['p'].children['p'].children['l'].children)\n",
    "print(t.root.children['a'].children['p'].children['p'].children['l'].children['e'].children)\n",
    "t.root.word\n",
    "t.root.children['a'].word\n",
    "t.root.children['a'].children['p'].word\n",
    "t.root.children['a'].children['p'].children['p'].word\n",
    "t.root.children['a'].children['p'].children['p'].children['l'].word\n",
    "t.root.children['a'].children['p'].children['p'].children['l'].children['e'].word"
   ]
  },
  {
   "cell_type": "code",
   "execution_count": 21,
   "id": "b04d54b3-8f16-468a-b553-65a81dc9dce0",
   "metadata": {
    "tags": []
   },
   "outputs": [
    {
     "name": "stdout",
     "output_type": "stream",
     "text": [
      "{'a': <__main__.TrieNode object at 0x7b02b39d7e90>}\n",
      "{'p': <__main__.TrieNode object at 0x7b02b39d7ed0>}\n",
      "{'p': <__main__.TrieNode object at 0x7b02b39d7e10>}\n",
      "{'l': <__main__.TrieNode object at 0x7b02b39d7f10>, 'e': <__main__.TrieNode object at 0x7b02b3b67e90>}\n"
     ]
    }
   ],
   "source": [
    "t.insert('appear')\n",
    "print(t.root.children)\n",
    "print(t.root.children['a'].children)\n",
    "print(t.root.children['a'].children['p'].children)\n",
    "print(t.root.children['a'].children['p'].children['p'].children)"
   ]
  },
  {
   "cell_type": "code",
   "execution_count": 22,
   "id": "5740660c-8ff8-4847-a719-3c6b63b85848",
   "metadata": {
    "tags": []
   },
   "outputs": [
    {
     "name": "stdout",
     "output_type": "stream",
     "text": [
      "{'a': <__main__.TrieNode object at 0x7b02b39d7e90>}\n",
      "{'p': <__main__.TrieNode object at 0x7b02b39d7ed0>}\n",
      "{'p': <__main__.TrieNode object at 0x7b02b39d7e10>}\n",
      "{'r': <__main__.TrieNode object at 0x7b02b3b65910>, 'l': <__main__.TrieNode object at 0x7b02b3b67bd0>}\n"
     ]
    }
   ],
   "source": [
    "t.insert('appeal')\n",
    "print(t.root.children)\n",
    "print(t.root.children['a'].children)\n",
    "print(t.root.children['a'].children['p'].children)\n",
    "print(t.root.children['a'].children['p'].children['p'].children['e'].children['a'].children)"
   ]
  },
  {
   "cell_type": "code",
   "execution_count": null,
   "id": "a20f1293-085e-43a4-bda5-ff36edf51164",
   "metadata": {},
   "outputs": [],
   "source": []
  },
  {
   "cell_type": "code",
   "execution_count": 30,
   "id": "8e8e3c7c-7e37-4cf0-bb5f-09111ca0c18d",
   "metadata": {
    "tags": []
   },
   "outputs": [
    {
     "data": {
      "text/plain": [
       "True"
      ]
     },
     "execution_count": 30,
     "metadata": {},
     "output_type": "execute_result"
    }
   ],
   "source": [
    "t.search('app')"
   ]
  },
  {
   "cell_type": "code",
   "execution_count": 24,
   "id": "5e14e93a-3c5c-4919-9ba8-d43550c7319f",
   "metadata": {
    "tags": []
   },
   "outputs": [],
   "source": [
    "t = Trie()"
   ]
  },
  {
   "cell_type": "markdown",
   "id": "c76d4a31-fe82-4a5f-9a35-ea117973ecf8",
   "metadata": {},
   "source": [
    "# 문57 팰린드롬 페어 h\n",
    "https://leetcode.com/problems/palindrome-pairs"
   ]
  },
  {
   "cell_type": "code",
   "execution_count": null,
   "id": "bdb1986f-8226-42e8-9829-8e9ff0f6472f",
   "metadata": {},
   "outputs": [],
   "source": [
    "You are given a 0-indexed array of unique strings words.\n",
    "A palindrome pair is a pair of integers (i, j) such that:\n",
    "\n",
    "0 <= i, j < words.length,\n",
    "i != j, and\n",
    "words[i] + words[j] (the concatenation of the two strings) is a palindrome.\n",
    "Return an array of all the palindrome pairs of words.\n",
    "\n",
    "You must write an algorithm with O(sum of words[i].length) runtime complexity.\n",
    "\n",
    " \n",
    "\n",
    "Example 1:\n",
    "\n",
    "Input: words = [\"abcd\",\"dcba\",\"lls\",\"s\",\"sssll\"]\n",
    "Output: [[0,1],[1,0],[3,2],[2,4]]\n",
    "Explanation: The palindromes are [\"abcddcba\",\"dcbaabcd\",\"slls\",\"llssssll\"]\n",
    "\n",
    "\n",
    "Example 2:\n",
    "\n",
    "Input: words = [\"bat\",\"tab\",\"cat\"]\n",
    "Output: [[0,1],[1,0]]\n",
    "Explanation: The palindromes are [\"battab\",\"tabbat\"]\n",
    "\n",
    "1 <= words.length <= 5000\n",
    "0 <= words[i].length <= 300\n",
    "words[i] consists of lowercase English letters.\n",
    "\n",
    "class Solution:\n",
    "    def palindromePairs(self, words: List[str]) -> List[List[int]]:\n",
    "        "
   ]
  },
  {
   "cell_type": "markdown",
   "id": "3bf47f5c-c2ff-4ea9-a753-dc4f9ec45be6",
   "metadata": {},
   "source": [
    "### 브루트 포스 풀이\n",
    "시간 초과"
   ]
  },
  {
   "cell_type": "code",
   "execution_count": null,
   "id": "aaffdb72-05b1-4fa2-818b-1d323a8489c3",
   "metadata": {},
   "outputs": [],
   "source": [
    "class Solution:\n",
    "    def palindromePairs(self, words: List[str]) -> List[List[int]]:\n",
    "        answer = []\n",
    "        for i, word1 in enumerate(words):\n",
    "            for j, word2 in enumerate(words):\n",
    "                if i == j:\n",
    "                    continue\n",
    "                con = word1+word2\n",
    "                if con == con[::-1]:\n",
    "                    answer.append([i,j])\n",
    "        return answer"
   ]
  },
  {
   "cell_type": "code",
   "execution_count": null,
   "id": "f72b65e1-0b5b-48f5-92d9-360b35b0e6e0",
   "metadata": {},
   "outputs": [],
   "source": [
    "문제해결전략 접근 아이디어\n",
    "\n",
    "어떤 단어가 있을 때, 그 단어의 역순인 단어가 있는 경우\n",
    "다른 단어와 합쳤을 때 팰린드롬인 경우\n",
    "\n",
    "두 경우를 찾는게 문제다.\n",
    "\n",
    "첫번째 경우는 단어 앞뒤로 역순인 단어를 붙일 때 모두 팰린드롬이 되고\n",
    "두번째 경우는 앞 또는 뒤에 붙일 때 팰린드롬이 되므로\n",
    "\n",
    "단어를 단어 자릿수마다 접두사, 접미사 두 부분으로 나눠서 (단어 자체가 접두사/접미사가 되는 경우도 포함해서)\n",
    "접두사가 팰린드롬일 때, 접미사를 뒤집은 게 입력리스트에 있으면\n",
    "두 단어는 정답쌍이 되는 거고\n",
    "\n",
    "반대로 접미사가 팰린드롬일 때, 접두사를 뒤집은게 입력리스트에 있으면\n",
    "이 경우 역시 두 단어는 정답쌍이 된다.\n",
    "\n",
    "여기서 어떤 단어의 접두사, 접미사가 모두 팰린드롬일 때, 자기 자신이 복수로 정답쌍에 추가 되지 않도록 하고\n",
    "정답이 중복되어 들어가지 않게 조건문을 걸어주면 \n",
    "알고리즘이 완성된다"
   ]
  },
  {
   "cell_type": "markdown",
   "id": "296b6bda-0a59-4704-9060-5d6f9a1ff0f1",
   "metadata": {},
   "source": [
    "### chatGPT 풀이\n",
    "이 방법은 각 단어를 한 번씩만 확인하면 되므로, O(단어의 총 길이 합) 시간 복잡도를 가집니다."
   ]
  },
  {
   "cell_type": "code",
   "execution_count": 48,
   "id": "03290508-b5c1-427a-be62-9e09f33d78aa",
   "metadata": {
    "tags": []
   },
   "outputs": [],
   "source": [
    "from typing import List\n",
    "\n",
    "class Solution:\n",
    "    def palindromePairs(self, words: List[str]) -> List[List[int]]:\n",
    "        def is_palindrome(check):\n",
    "            return check == check[::-1]\n",
    "\n",
    "        words_dict = {word: i for i, word in enumerate(words)}\n",
    "        # 각 단어를 키로 하고 인덱스를 값으로 하는 딕셔너리입니다. 이를 통해 특정 단어의 인덱스를 빠르게 찾을 수 있습니다.\n",
    "        result = []\n",
    "\n",
    "        for i, word in enumerate(words):\n",
    "            for j in range(len(word) + 1):\n",
    "                # 접두사와 접미사 분할\n",
    "                prefix, suffix = word[:j], word[j:]\n",
    "                \n",
    "                # 접두사가 팰린드롬이고 접미사의 역순이 다른 단어로 존재하는 경우, 이는 팰린드롬 쌍의 하나로 간주됩니다. \n",
    "                # 이 경우, 접미사의 역순이 시작 단어가 되고, 현재 단어가 끝 단어가 됩니다.\n",
    "                if is_palindrome(prefix):\n",
    "                    back = suffix[::-1]\n",
    "                    if back in words_dict and words_dict[back] != i: # 접미사를 뒤집은게 words 리스트에 있고, 그 인덱스가 현재 단어의 인덱스가 아니면\n",
    "                        result.append([words_dict[back], i])\n",
    "                    # 만약 두 인덱스가 같다면, 이는 현재 단어와 back이 같은 단어임을 의미합니다.\n",
    "                    # 팰린드롬 쌍을 찾는 문제에서는 두 단어가 서로 다른 단어여야 하므로, 같은 단어를 가리키는 경우를 제외해야 합니다.\n",
    "                    # 예를 들어 words에 \"s\" 같은 한 문자인 단어가 있을 때, \"s\"의 접두사가 \"\"이고, 접미사는 \"s\"인 경우, back(접미사의 역순)도 \"s\"가 된다.\n",
    "                    # 현재 분석중인 단어가 \"s\" 였으므로 words_dict[back]과 i 는 같은 값이 되는데, 문제에선 팰린드롬 쌍은 서로 다른 단어여야 하므로 이런 케이스를 제외해야 한다.\n",
    "                        \n",
    "                # 접미사가 팰린드롬이고 접두사의 역순이 다른 단어로 존재하는 경우도 팰린드롬 쌍으로 간주됩니다. \n",
    "                # 여기서는 현재 단어가 시작 단어가 되고, 접두사의 역순이 끝 단어가 됩니다.\n",
    "                # j != len(word) 조건은, 팰린드롬 쌍이 될 수 있는 두 단어가 words에 있는 경우 result에 중복된 값이 추가 되는 걸 방지\n",
    "                if j != len(word) and is_palindrome(suffix):\n",
    "                    back = prefix[::-1]\n",
    "                    if back in words_dict and words_dict[back] != i:\n",
    "                        result.append([i, words_dict[back]])\n",
    "                # j == len(word) 조건이 없을 때 어떤 문제가 생기는지, 예를 들어 현재 word가 \"abcd\" 이고, 그 역순인 단어 \"dcba\" 두 단어만 words에 있다고 해보자. 내부 루프에서\n",
    "                # 첫번째 조건문에서 prefix가 팰린드롬(\"\")일 때 back인 \"dcba\"가 다른 인덱스로 words에 있으므로 result에 \"dcba\"의 인덱스와 \"abcd\"의 인덱스가 추가된다. 루프 마지막에 \n",
    "                # 두번째 조건문에서 suffix가 팰린드롬(\"\")일 때 back인 \"dcba\"가 다른 인덱스로 words에 있으므로 result에 \"abcd\"의 인덱스와 \"dcba\"의 인덱스가 추가된다.\n",
    "                # 여기 까진 문제가 없다. 그러나 현재 word가 \"dcba\"인 경우 외부루프를 돌 때, 이제 그 역순인 단어 \"abcd\"가 words 에 있으므로 \n",
    "                # 같은 결과가 중복되어 result에 추가돼 팰린드롬 쌍인 두 단어의 인덱스 똑같은 묶음이 두 개씩 result에 있게 된다.\n",
    "                    # 이를 방지하기 위해 두번째 조건문에 j != len(word) 를 추가해주면 된다. \n",
    "                        # 그러면 현재 word가 \"abcd\" 일 때 prefix가 \"\" 일 때만 result에 \"dcba\"의 인덱스와 \"abcd\"의 인덱스가 추가된다.\n",
    "                        # 내부 루프 마지막에서 suffix가 \"\"가 되어 팰린드롬이지만 단어길이 제약에 걸려 조건문이 실행되지 않고, 외부 루프로 나와\n",
    "                        # 이제 현재 단어가 \"dcba\" 가 되면, 여기서 prefix가 \"\" 일 때, result에 back 인 \"abcd\"의 인덱스와 현재단어 \"dcba\"의 인덱스가 추가되고\n",
    "                        # 내부 루프 마지막에서 suffix가 \"\" 일 땐 마찬가지로 조건문이 실행되지 않아 \n",
    "                        # 결과적으로 첫번째 조건문에서 서로 역순 관계인 단어 쌍들이 result에 추가 된다.\n",
    "                # 그러면 반대로, 첫번째 조건문에서 j != len(word) 조건을 걸고 두번째 조건문에선 걸지 않으면 왜 효과가 없는 걸까? 실제로 해보자\n",
    "                # 첫번째 조건문에서 prefix가 \"\" 일 때는 단어의 맨 처음을 검사할 때다. 따라서  j != len(word) 조건에 걸리지 않는다.\n",
    "                # 즉 첫번째 조건문에 j != len(word)를 달고 두번째 조건문에 달지 않는다면, \n",
    "                # 첫번째 단어에서 정답이 모두 추가 되어, 외부 루프를 돌아 두번째 단어를 검사할 때도 중복되는 정답이 추가된다\n",
    "                \n",
    "                # 다시 말해 두번째 조건문에서 j != len(word) 를 거는 이유는, 접미사가 \"\" 빈문자열일 때를 패스하기 위해서다. \n",
    "                # 반대로 접두사가 \"\" 빈 문자열일 때를 패스 하려면  j != len(word) 이 아니라 j != 0 이라고 해줘야 한다.\n",
    "                # 그러면 두번째 조건문에서 접미사가 \"\"빈문자열일 경우, 접두사가 단어 자체일 때 그 역순이 입력리스트에 있는지를 고려할 수 있게 된다.\n",
    "                # 이경우엔 외부 루프를 돌면서 두번째 조건문에서 현재 단어에서 가능한 답이 모두 result에 추가되게 된다. \n",
    "\n",
    "        return result"
   ]
  },
  {
   "cell_type": "code",
   "execution_count": 47,
   "id": "2c967190-93a0-43e3-81f6-6c7f1095e5f7",
   "metadata": {
    "tags": []
   },
   "outputs": [
    {
     "name": "stdout",
     "output_type": "stream",
     "text": [
      " bat\n",
      "b at\n",
      "ba t\n",
      "bat \n",
      " tab\n",
      "t ab\n",
      "ta b\n",
      "tab \n",
      " cat\n",
      "c at\n",
      "ca t\n",
      "cat \n"
     ]
    }
   ],
   "source": [
    "words = [\"bat\",\"tab\",\"cat\"]\n",
    "for i, word in enumerate(words):\n",
    "    for j in range(len(word) + 1):\n",
    "        # 접두사와 접미사 분할\n",
    "        prefix, suffix = word[:j], word[j:]\n",
    "        print(prefix, suffix)"
   ]
  },
  {
   "cell_type": "markdown",
   "id": "a3ad08da-889b-4d20-8aca-bba021f3ddbc",
   "metadata": {},
   "source": [
    "### 실험용 코드"
   ]
  },
  {
   "cell_type": "code",
   "execution_count": 91,
   "id": "56db4f50-34c1-4115-b0e8-7f9871555bda",
   "metadata": {
    "tags": []
   },
   "outputs": [
    {
     "name": "stdout",
     "output_type": "stream",
     "text": [
      "[[0, 1]] abcd\n",
      "[[0, 1], [1, 0]] dcba\n"
     ]
    },
    {
     "data": {
      "text/plain": [
       "[[0, 1], [1, 0]]"
      ]
     },
     "execution_count": 91,
     "metadata": {},
     "output_type": "execute_result"
    }
   ],
   "source": [
    "def palindromePairs(words):\n",
    "    def is_palindrome(check):\n",
    "        return check == check[::-1]\n",
    "\n",
    "    words_dict = {word: i for i, word in enumerate(words)}\n",
    "    result = []\n",
    "\n",
    "    for i, word in enumerate(words):\n",
    "        for j in range(len(word) + 1):\n",
    "            prefix, suffix = word[:j], word[j:]\n",
    "            \n",
    "            # if is_palindrome(prefix):\n",
    "            # if j!=len(word) and is_palindrome(prefix):\n",
    "            if j!=0 and is_palindrome(prefix):\n",
    "                back = suffix[::-1]\n",
    "                if back in words_dict and words_dict[back] != i:\n",
    "                    result.append([words_dict[back], i])\n",
    "            \n",
    "            # if j!=len(word) and is_palindrome(suffix):\n",
    "            if is_palindrome(suffix):\n",
    "                back = prefix[::-1]\n",
    "                if back in words_dict and words_dict[back] != i:\n",
    "                    result.append([i, words_dict[back]])\n",
    "        print(result, word)\n",
    "\n",
    "    return result\n",
    "words = [\"abcd\", \"dcba\"]\n",
    "result = palindromePairs(words)\n",
    "result"
   ]
  },
  {
   "cell_type": "markdown",
   "id": "3fea374a-f556-4801-8d4d-d5e7910c0e55",
   "metadata": {},
   "source": [
    "### 제일 빠른 풀이\n",
    "이해 안됨"
   ]
  },
  {
   "cell_type": "code",
   "execution_count": 38,
   "id": "30dbf08d-f55a-4dee-bcec-436db012c36b",
   "metadata": {
    "tags": []
   },
   "outputs": [],
   "source": [
    "from itertools import chain\n",
    "\n",
    "class Solution:\n",
    "    def palindromePairs(self, words):\n",
    "        # 단어와 그 역순을 포함한 확장된 목록 생성 및 정렬\n",
    "        extended_words = sorted(\n",
    "            chain([(i, word, False) for i, word in enumerate(words)],       # False 는 원래 순서\n",
    "                  [(i, word[::-1], True) for i, word in enumerate(words)]), # True는 역순\n",
    "            key=lambda x: x[1] # 단어 기준으로 정렬\n",
    "        )\n",
    "                # words = [\"abcd\", \"dcba\"] 라면 \n",
    "                # (0, 'abcd', False), (1, 'dcba', False), (0, 'dcba', True), (1, 'abcd', True) 가\n",
    "                # [(0, 'abcd', False), (1, 'abcd', True), (1, 'dcba', False), (0, 'dcba', True)] 로 정렬 됨\n",
    "        \n",
    "        result = []\n",
    "        \n",
    "        for i, (index1, part1, reversed1) in enumerate(extended_words):\n",
    "            for j in range(i + 1, len(extended_words)):\n",
    "                index2, part2, reversed2 = extended_words[j]\n",
    "                # part2가 part1으로 시작하는 경우만 고려\n",
    "                if part2.startswith(part1):\n",
    "                    # 두 단어의 순서가 반대인 경우를 제외\n",
    "                    if reversed1 == reversed2:\n",
    "                        continue\n",
    "                    # part1을 제외한 나머지 부분\n",
    "                    remaining = part2[len(part1):]\n",
    "                    # 남은 부분이 팰린드롬이면 결과에 추가\n",
    "                    if index1 != index2 and remaining == remaining[::-1]:\n",
    "                        pair = (index1, index2) if reversed2 else (index2, index1)\n",
    "                        result.append(pair)\n",
    "                else:\n",
    "                    break\n",
    "\n",
    "        return result\n"
   ]
  },
  {
   "cell_type": "markdown",
   "id": "5318964b-0eaf-4d8b-b4fa-a18ef574164a",
   "metadata": {},
   "source": [
    "### 첫번째 chatGPT풀이, 두번째 제일빠른풀이 비교 분석:\n",
    "효율성: 두 번째 솔루션이 첫 번째 솔루션보다 효율성 면에서 우위에 있습니다.   \n",
    "이는 정렬과 startswith 메소드를 통해 검사해야 할 쌍의 수를 크게 줄이기 때문입니다.  \n",
    "\n",
    "가독성과 구현의 단순성: 첫 번째 솔루션은 더 직관적이고 간단한 접근 방식을 사용합니다.  \n",
    "반면, 두 번째 솔루션은 추가적인 최적화를 통해 성능을 향상시키지만, 이로 인해 코드의 복잡성이 약간 증가합니다.  \n",
    "\n",
    "적용 가능한 상황: 두 번째 솔루션은 큰 데이터 세트에 대해 더 나은 성능을 제공할 가능성이 높습니다.  \n",
    "반면, 첫 번째 솔루션은 코드의 이해와 수정이 더 쉬울 수 있어, 작은 데이터 세트나 교육적 목적에 더 적합할 수 있습니다."
   ]
  },
  {
   "cell_type": "markdown",
   "id": "98ee0500-fc38-40c7-aeba-1870b65be60c",
   "metadata": {},
   "source": [
    "### 실험용 코드"
   ]
  },
  {
   "cell_type": "code",
   "execution_count": null,
   "id": "db257f2b-4a2a-47e2-8fca-794b413b9a57",
   "metadata": {},
   "outputs": [],
   "source": [
    "def palindromePairs(words):\n",
    "    # 단어와 그 역순을 포함한 확장된 목록 생성 및 정렬\n",
    "    extended_words = sorted(\n",
    "        chain(\n",
    "            [(i, word, False) for i, word in enumerate(words)], \n",
    "            [(i, word[::-1], True) for i, word in enumerate(words)] \n",
    "        ), \n",
    "        key=lambda x: x[1]\n",
    "    )\n",
    "\n",
    "    result = []\n",
    "\n",
    "    for i, (index1, part1, reversed1) in enumerate(extended_words):\n",
    "        for j in range(i + 1, len(extended_words)):\n",
    "            index2, part2, reversed2 = extended_words[j]\n",
    "            # part2가 part1으로 시작하는 경우만 고려\n",
    "            if part2.startswith(part1):\n",
    "                # 두 단어의 순서가 반대인 경우를 제외\n",
    "                if reversed1 == reversed2:\n",
    "                    continue\n",
    "                # part1을 제외한 나머지 부분\n",
    "                remaining = part2[len(part1):]\n",
    "                # 남은 부분이 팰린드롬이면 결과에 추가\n",
    "                if index1 != index2 and remaining == remaining[::-1]:\n",
    "                    pair = (index1, index2) if reversed2 else (index2, index1)\n",
    "                    result.append(pair)\n",
    "            else:\n",
    "                break\n",
    "\n",
    "    return result"
   ]
  },
  {
   "cell_type": "markdown",
   "id": "505b1c0b-cb32-492c-b7d7-676acf94b498",
   "metadata": {},
   "source": [
    "### chain 모듈 설명"
   ]
  },
  {
   "cell_type": "code",
   "execution_count": 37,
   "id": "c81af89a-53aa-4ead-a624-6967606f388d",
   "metadata": {
    "tags": []
   },
   "outputs": [
    {
     "name": "stdout",
     "output_type": "stream",
     "text": [
      "1\n",
      "2\n",
      "3\n",
      "4\n",
      "5\n",
      "6\n",
      "7\n",
      "8\n",
      "9\n"
     ]
    }
   ],
   "source": [
    "from itertools import chain\n",
    "\n",
    "# 여러 반복 가능한 객체들\n",
    "list1 = [1, 2, 3]\n",
    "list2 = [4, 5, 6]\n",
    "list3 = [7, 8, 9]\n",
    "\n",
    "# chain을 사용하여 모든 리스트를 연결\n",
    "combined = chain(list1, list2, list3)\n",
    "\n",
    "# 연결된 객체를 순회\n",
    "for i in combined:\n",
    "    print(i)"
   ]
  },
  {
   "cell_type": "markdown",
   "id": "42fb1ffc-3d50-400f-9323-03b6b195e763",
   "metadata": {},
   "source": [
    "`extend` 메소드와 `itertools.chain` 함수는  \n",
    "여러 반복 가능한(iterable) 객체들을 하나로 합치는 데 사용되지만, 사용 방식과 작동 원리에 차이가 있습니다.  \n",
    "\n",
    "### `extend` 메소드\n",
    "  \n",
    "- `extend`는 리스트(List) 타입의 메소드로, 한 리스트에 다른 반복 가능한 객체의 모든 항목을 추가합니다.  \n",
    "- 결과는 원본 리스트가 수정되며, 추가된 항목을 포함하게 됩니다.  \n",
    "- 주로 한 리스트에 다른 리스트(또는 반복 가능한 객체)의 요소를 추가할 때 사용됩니다.  \n",
    "  \n",
    "```python\n",
    "list1 = [1, 2, 3]\n",
    "list2 = [4, 5, 6]\n",
    "\n",
    "# list1에 list2의 요소를 추가\n",
    "list1.extend(list2)\n",
    "\n",
    "# list1은 이제 [1, 2, 3, 4, 5, 6]을 포함\n",
    "print(list1)\n",
    "```\n",
    "\n",
    "### `itertools.chain` 함수\n",
    "  \n",
    "- `chain` 함수는 여러 반복 가능한 객체들을 인자로 받아, 하나의 연속된 반복자(iterator)를 생성합니다.  \n",
    "- `chain`은 새로운 반복 가능한 객체를 만들지만, 원본 데이터는 변경하지 않습니다.  \n",
    "- 여러 다른 반복 가능한 객체들을 순회할 필요가 있을 때 유용하게 사용할 수 있습니다.  \n",
    "\n",
    "```python\n",
    "from itertools import chain\n",
    "\n",
    "list1 = [1, 2, 3]\n",
    "list2 = [4, 5, 6]\n",
    "\n",
    "# list1과 list2를 연결하는 새 반복자 생성  \n",
    "combined = chain(list1, list2)  \n",
    "\n",
    "# combined를 순회\n",
    "for i in combined:\n",
    "    print(i)  # 1부터 6까지 출력\n",
    "```\n",
    "\n",
    "### 주요 차이점\n",
    "  \n",
    "- **결과의 타입**: `extend`는 리스트에 직접 요소를 추가하므로 결과도 리스트입니다. 반면, `chain`은 여러 반복 가능한 객체들을 하나로 연결한 새로운 반복자를 생성합니다.  \n",
    "- **원본 데이터의 변경**: `extend`는 원본 리스트를 변경합니다. `chain`은 원본 데이터를 변경하지 않고, 새로운 반복자를 제공합니다.  \n",
    "- **사용 가능한 타입**: `extend`는 리스트 타입의 메소드입니다. `chain`은 어떤 종류의 반복 가능한 객체들도 연결할 수 있는 더 일반적인 함수입니다.  \n",
    "  \n",
    "따라서 사용 상황에 따라 `extend`와 `chain` 중 적합한 도구를 선택할 수 있습니다.  \n",
    "리스트에 여러 요소를 추가하려면 `extend`를,  \n",
    "여러 반복 가능한 객체들을 순회하면서 각각의 요소를 처리해야 할 때는 `chain`을 사용하는 것이 좋습니다."
   ]
  },
  {
   "cell_type": "markdown",
   "id": "3ec01098-0956-43e8-9016-5a3900686a98",
   "metadata": {},
   "source": [
    "### 책풀이\n",
    "이해 안됨"
   ]
  },
  {
   "cell_type": "code",
   "execution_count": null,
   "id": "3b2bfda6-f073-47c5-a501-07d3cbbb6787",
   "metadata": {},
   "outputs": [],
   "source": [
    "import collections\n",
    "from typing import List\n",
    "\n",
    "\n",
    "# 트라이 저장할 노드\n",
    "class TrieNode:\n",
    "    def __init__(self):\n",
    "        self.children = collections.defaultdict(TrieNode)\n",
    "        self.word_id = -1\n",
    "        self.palindrome_word_ids = []\n",
    "\n",
    "\n",
    "class Trie:\n",
    "    def __init__(self):\n",
    "        self.root = TrieNode()\n",
    "\n",
    "    @staticmethod\n",
    "    def is_palindrome(word: str) -> bool:\n",
    "        return word[::] == word[::-1]\n",
    "\n",
    "    # 단어 삽입\n",
    "    def insert(self, index, word) -> None:\n",
    "        node = self.root\n",
    "        for i, char in enumerate(reversed(word)):\n",
    "            if self.is_palindrome(word[0:len(word) - i]):\n",
    "                node.palindrome_word_ids.append(index)\n",
    "            node = node.children[char]\n",
    "        node.word_id = index\n",
    "\n",
    "    def search(self, index, word) -> List[List[int]]:\n",
    "        result = []\n",
    "        node = self.root\n",
    "\n",
    "        while word:\n",
    "            # 판별 로직 3) \n",
    "            if node.word_id >= 0:\n",
    "                if self.is_palindrome(word):\n",
    "                    result.append([index, node.word_id])\n",
    "            if not word[0] in node.children:\n",
    "                return result\n",
    "            node = node.children[word[0]]\n",
    "            word = word[1:]\n",
    "\n",
    "        # 판별 로직 1)\n",
    "        if node.word_id >= 0 and node.word_id != index:\n",
    "            result.append([index, node.word_id])\n",
    "\n",
    "        # 판별 로직 2)\n",
    "        for palindrome_word_id in node.palindrome_word_ids:\n",
    "            result.append([index, palindrome_word_id])\n",
    "\n",
    "        return result\n",
    "\n",
    "\n",
    "class Solution:\n",
    "    def palindromePairs(self, words: List[str]) -> List[List[int]]:\n",
    "        trie = Trie()\n",
    "\n",
    "        for i, word in enumerate(words):\n",
    "            trie.insert(i, word)\n",
    "\n",
    "        results = []\n",
    "        for i, word in enumerate(words):\n",
    "            results.extend(trie.search(i, word))\n",
    "\n",
    "        return results"
   ]
  },
  {
   "cell_type": "markdown",
   "id": "367e0617-5cb6-44ed-aa65-3b4ee30cd80a",
   "metadata": {},
   "source": [
    "### 제일 빠른 풀이와 책 풀이 비교"
   ]
  },
  {
   "cell_type": "markdown",
   "id": "1afb0510-a1d0-4ff8-8598-9f5ddfb5e040",
   "metadata": {},
   "source": [
    "두 알고리즘은 주어진 단어 목록에서 모든 팰린드롬 쌍을 찾는 문제를 해결하는 데 있지만,  \n",
    "접근 방식과 내부 로직에서 상당한 차이가 있습니다.  \n",
    "첫 번째 알고리즘은 정렬과 간단한 문자열 조작을 사용하는 반면,  \n",
    "두 번째 알고리즘은 트라이(Trie) 자료구조를 활용하여 문제를 해결합니다.\n",
    "\n",
    "### 첫 번째 알고리즘(정렬 및 문자열 조작 사용):  \n",
    "- **접근 방식**: 확장된 목록을 생성하고, 이를 사전 순으로 정렬합니다. 그 후, 정렬된 목록을 바탕으로 팰린드롬 쌍을 찾습니다.  \n",
    "- **장점**: 구현이 상대적으로 직관적이고 이해하기 쉽습니다. 정렬을 통해 팰린드롬 쌍을 찾는 과정이 최적화됩니다.  \n",
    "- **단점**: 전체 목록을 두 번 순회해야 하므로, 큰 데이터 세트에서는 비효율적일 수 있습니다.  \n",
    "           확장된 목록과 정렬 과정이 추가 메모리를 필요로 합니다.  \n",
    "  \n",
    "### 두 번째 알고리즘(트라이 자료구조 사용):\n",
    "- **접근 방식**: 트라이 자료구조를 사용하여 단어를 역순으로 삽입하고, 팰린드롬 가능성을 검사하는 과정에 특화된 로직을 적용합니다.  \n",
    "- **특징**:  \n",
    "  - **트라이 삽입**: 각 단어를 역순으로 트라이에 삽입하면서, 삽입 과정에서 현재 접두사가 팰린드롬을 형성하는지 확인하고, 해당 정보를 저장합니다.  \n",
    "  - **팰린드롬 검색**: 각 단어에 대해 트라이를 검색하면서, 팰린드롬 쌍을 형성할 수 있는 조건을 체크합니다. 이때, 세 가지 주요 판별 로직을 사용합니다:  \n",
    "    1. 검색 중인 단어의 나머지 부분이 팰린드롬인 경우.  \n",
    "    2. 검색이 완료된 시점에서, 현재 노드가 특정 단어를 나타내는 경우.  \n",
    "    3. 현재 노드에서 끝나는 단어의 나머지 부분이 팰린드롬을 형성하는 경우.  \n",
    "- **장점**: 트라이 자료구조를 사용함으로써, 팰린드롬 검사를 효율적으로 수행할 수 있습니다. 단어를 검색하면서 팰린드롬 쌍을 찾습니다.  \n",
    "           특히, 대규모 데이터셋에서 빠른 검색과 삽입이 가능합니다.  \n",
    "- **단점**: 트라이 자료구조의 구현과 이해가 더 복잡할 수 있습니다. 또한, 메모리 사용량이 증가할 수 있습니다.  \n"
   ]
  },
  {
   "cell_type": "code",
   "execution_count": null,
   "id": "b1ef35db-c17f-4e8e-b98f-56fa029cc5a5",
   "metadata": {},
   "outputs": [],
   "source": []
  }
 ],
 "metadata": {
  "kernelspec": {
   "display_name": "Python 3 (ipykernel)",
   "language": "python",
   "name": "python3"
  },
  "language_info": {
   "codemirror_mode": {
    "name": "ipython",
    "version": 3
   },
   "file_extension": ".py",
   "mimetype": "text/x-python",
   "name": "python",
   "nbconvert_exporter": "python",
   "pygments_lexer": "ipython3",
   "version": "3.11.0"
  }
 },
 "nbformat": 4,
 "nbformat_minor": 5
}
