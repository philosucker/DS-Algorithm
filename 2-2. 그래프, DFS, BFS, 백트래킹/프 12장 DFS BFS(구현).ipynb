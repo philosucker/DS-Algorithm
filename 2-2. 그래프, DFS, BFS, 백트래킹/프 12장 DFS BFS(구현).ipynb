{
 "cells": [
  {
   "cell_type": "markdown",
   "id": "71b8b8a6-2545-4f72-bab2-02b22788a4ef",
   "metadata": {},
   "source": [
    "### m DFS: 56, 59\n",
    "### h BDFS: 57, 58, \n",
    "### h BFS: 45, 46, 60, 61, 62"
   ]
  },
  {
   "cell_type": "markdown",
   "id": "0f952e3f-304e-4e32-9d2d-b63507a58302",
   "metadata": {},
   "source": [
    "# DFS"
   ]
  },
  {
   "cell_type": "markdown",
   "id": "434fb4fb-3edf-4fe2-9767-d1a8251bdd27",
   "metadata": {},
   "source": [
    "# 문56 DFS 타깃넘버 m\n",
    "https://school.programmers.co.kr/learn/courses/30/lessons/43165\n"
   ]
  },
  {
   "cell_type": "code",
   "execution_count": null,
   "id": "6f0901fb-19a5-4308-ab64-97de2b284da4",
   "metadata": {},
   "outputs": [],
   "source": [
    "n개의 음이 아닌 정수들이 있습니다.\n",
    "이 정수들을 순서를 바꾸지 않고 적절히 더하거나 빼서 타겟 넘버를 만들려고 합니다. \n",
    "예를 들어 [1, 1, 1, 1, 1]로 숫자 3을 만들려면 다음 다섯 방법을 쓸 수 있습니다.\n",
    "\n",
    "-1+1+1+1+1 = 3\n",
    "+1-1+1+1+1 = 3\n",
    "+1+1-1+1+1 = 3\n",
    "+1+1+1-1+1 = 3\n",
    "+1+1+1+1-1 = 3\n",
    "사용할 수 있는 숫자가 담긴 배열 numbers, \n",
    "타겟 넘버 target이 매개변수로 주어질 때 숫자를 적절히 더하고 빼서 \n",
    "타겟 넘버를 만드는 방법의 수를 return 하도록 solution 함수를 작성해주세요.\n",
    "\n",
    "제한사항\n",
    "주어지는 숫자의 개수는 2개 이상 20개 이하입니다.\n",
    "각 숫자는 1 이상 50 이하인 자연수입니다.\n",
    "타겟 넘버는 1 이상 1000 이하인 자연수입니다.\n",
    "\n",
    "입출력 예\n",
    "numbers\ttarget\treturn\n",
    "[1, 1, 1, 1, 1]\t3\t5\n",
    "\n",
    "def solution(numbers, target):\n",
    "    answer = 0\n",
    "    return answer"
   ]
  },
  {
   "cell_type": "code",
   "execution_count": null,
   "id": "354a042e-784d-4afc-b89d-45a0d08bdaf3",
   "metadata": {},
   "outputs": [],
   "source": [
    "def solution(numbers, target):\n",
    "    answer = 0\n",
    "\n",
    "    def dfs(index, current_sum):\n",
    "        nonlocal answer\n",
    "        # 주어진 숫자들을 모두 탐색했을 때,\n",
    "        if index == len(numbers):\n",
    "            # 현재 합계가 타겟 넘버와 같다면, 방법의 수를 하나 증가시킨다.\n",
    "            if current_sum == target:\n",
    "                answer += 1\n",
    "            return\n",
    "\n",
    "        # 현재 숫자를 더하는 경우\n",
    "        dfs(index + 1, current_sum + numbers[index])\n",
    "        # 현재 숫자를 빼는 경우\n",
    "        dfs(index + 1, current_sum - numbers[index])\n",
    "\n",
    "    # DFS 탐색 시작\n",
    "    dfs(0, 0)\n",
    "    \n",
    "    return answer\n"
   ]
  },
  {
   "cell_type": "markdown",
   "id": "67eac034-e67c-4f4b-8a6c-c57913564790",
   "metadata": {},
   "source": [
    "# 문59 DFS 괄호 변환 m\n",
    "https://school.programmers.co.kr/learn/courses/30/lessons/60058"
   ]
  },
  {
   "cell_type": "markdown",
   "id": "26178861-6e02-4459-876a-6369613ed092",
   "metadata": {},
   "source": [
    "# 문57 DFS 여행 경로 h\n",
    "https://school.programmers.co.kr/learn/courses/30/lessons/43164"
   ]
  },
  {
   "cell_type": "markdown",
   "id": "b05b38c6-af04-46c9-9683-922363a602c1",
   "metadata": {},
   "source": [
    "# 문58 DFS 네트워크 h\n",
    "https://school.programmers.co.kr/learn/courses/30/lessons/43162"
   ]
  },
  {
   "cell_type": "markdown",
   "id": "28a24302-4a92-43e6-8da8-a08d3df9ccfa",
   "metadata": {},
   "source": [
    "# BFS"
   ]
  },
  {
   "cell_type": "markdown",
   "id": "84a462c7-4120-4f50-8018-9ebc00fc5b99",
   "metadata": {},
   "source": [
    "# 문45 BFS 가장 먼 노드 h\n",
    "https://school.programmers.co.kr/learn/courses/30/lessons/49189"
   ]
  },
  {
   "cell_type": "markdown",
   "id": "aaeeb83b-7c5a-45e5-94bb-d8ac4ba08013",
   "metadata": {},
   "source": [
    "# 문46 BFS 순위 h\n",
    "https://school.programmers.co.kr/learn/courses/30/lessons/49191"
   ]
  },
  {
   "cell_type": "markdown",
   "id": "4830a5ef-7261-4d42-8f23-2ec5d14a3b5a",
   "metadata": {},
   "source": [
    "# 문60 BFS 단어 변환 h\n",
    "https://school.programmers.co.kr/learn/courses/30/lessons/43163"
   ]
  },
  {
   "cell_type": "markdown",
   "id": "b59f97d6-b83f-40ae-bb88-1f56259eb630",
   "metadata": {},
   "source": [
    "# 문61 BFS 게임 맵 최단거리 h\n",
    "https://school.programmers.co.kr/learn/courses/30/lessons/1844"
   ]
  },
  {
   "cell_type": "markdown",
   "id": "79361a4d-2481-41ba-a550-603452073403",
   "metadata": {},
   "source": [
    "# 문62 BFS 경주로 건설 h\n",
    "https://school.programmers.co.kr/learn/courses/30/lessons/67259"
   ]
  }
 ],
 "metadata": {
  "kernelspec": {
   "display_name": "Python 3 (ipykernel)",
   "language": "python",
   "name": "python3"
  },
  "language_info": {
   "codemirror_mode": {
    "name": "ipython",
    "version": 3
   },
   "file_extension": ".py",
   "mimetype": "text/x-python",
   "name": "python",
   "nbconvert_exporter": "python",
   "pygments_lexer": "ipython3",
   "version": "3.11.0"
  }
 },
 "nbformat": 4,
 "nbformat_minor": 5
}
