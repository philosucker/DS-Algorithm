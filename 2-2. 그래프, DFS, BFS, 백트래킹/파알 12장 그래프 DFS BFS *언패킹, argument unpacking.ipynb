{
 "cells": [
  {
   "cell_type": "markdown",
   "id": "3c18b7c4-9291-4e67-b332-38fa0f775771",
   "metadata": {},
   "source": [
    "### m: 32, 33, 34, 35, 36, 37, 39\n",
    "### h: 38"
   ]
  },
  {
   "cell_type": "markdown",
   "id": "0ae63a88-c64b-4c1f-99df-4ada8e0b5c10",
   "metadata": {},
   "source": [
    "# 그래프의 특징 (트리 비교) 프 11장"
   ]
  },
  {
   "cell_type": "markdown",
   "id": "e7bda177-8420-44d8-8f29-724e6a2f1621",
   "metadata": {},
   "source": [
    "(연결 그래프인 경우)다른 노드와 연결되지 않은 노드가 없다면 어떻게 연결돼도 상관없다. (트리는 비순환 구조만 가능)\n",
    "\n",
    "방향 그래프: 모든 엣지가 방향을 가진다. (트리는 방향 그래프의 일종. 단방향만 가능)\n",
    "무방향 그래프 : 모든 엣지가 양방향을 가진다. \n",
    "\n",
    "시작점은 어디든 될 수 있다. (대개 첫번째 원소가 루트)\n",
    "\n",
    "노드들끼리 서로 동등한 관계 (트리는 부모, 자식, 형제 관계가 있다)\n",
    "\n",
    "탐색은 DFS, BFS를 사용 (트리는 DFS로 전위, 중위, 후위 순회 /BFS로 레벨별 순회를 한다)"
   ]
  },
  {
   "cell_type": "markdown",
   "id": "ed67b0d3-141d-4f00-8515-785f117df632",
   "metadata": {},
   "source": [
    "    인접 행렬\n",
    "\n",
    "    노드 개수 N만큼의 NxN 행렬을 만들고 각 노드가 다른 모든 노드와 어떤 관계를 맺는지 2차원 배열로 표현\n",
    "    무방향 그래프의 인접행렬은 대칭행렬이다.\n",
    "\n",
    "    방향그래프의 경우 \n",
    "\n",
    "    노드 1에서 노드 2로 가는 간선이 있습니다.\n",
    "    노드 1에서 노드 3으로 가는 간선이 있습니다.\n",
    "    노드 2에서 노드 3으로 가는 간선이 있습니다.\n",
    "    노드 3에서 노드 1으로 가는 간선이 있습니다.\n",
    "    이 그래프의 인접 행렬은 다음과 같이 표현될 수 있습니다:\n",
    "\n",
    "        1\t2\t3\n",
    "    1\t0\t1\t1\n",
    "    2\t0\t0\t1\n",
    "    3\t1\t0\t0\n",
    "\n",
    "    입력이 크면 인접리스트\n",
    "    입력이 작고 여러번 입력해야 한다면 인접행렬 사용"
   ]
  },
  {
   "cell_type": "markdown",
   "id": "1b6028cc-b2b1-4424-88e0-870d7934d7df",
   "metadata": {},
   "source": [
    "# 12장 그래프"
   ]
  },
  {
   "cell_type": "markdown",
   "id": "0695eb83-e574-476d-b651-62df93432c80",
   "metadata": {},
   "source": [
    "**오일러 경로:** \n",
    "\n",
    "    그래프에서 모든 edge를 한번씩 거치는 경로\n",
    "    \n",
    "    조건 : 그래프에서 모든 vertex의 차수degree가 짝수"
   ]
  },
  {
   "cell_type": "markdown",
   "id": "3e382c67-3fd4-49d6-b45a-c8e505891d4a",
   "metadata": {},
   "source": [
    "**해밀턴 경로:**\n",
    "    \n",
    "    그래프에서 모든 vertex를 한번씩 방문하는 경로"
   ]
  },
  {
   "cell_type": "markdown",
   "id": "31ef8ae0-c3aa-4d4c-85eb-fb2c68fdd119",
   "metadata": {},
   "source": [
    "**해밀턴 순환:**\n",
    "    \n",
    "    그래프에서 모든 vertex를 한번씩 방문하고 출발지로 돌아오는 경로"
   ]
  },
  {
   "cell_type": "markdown",
   "id": "d8ed9927-40be-43ec-8849-518539da9898",
   "metadata": {},
   "source": [
    "**외판원 문제 Travelling Salesman Problem TSM:** \n",
    "\n",
    "    최단거리 해밀턴 순환 경로 문제"
   ]
  },
  {
   "cell_type": "markdown",
   "id": "806e63d3-e82f-4781-8d3a-e3dd882058de",
   "metadata": {},
   "source": [
    "참고  \n",
    "\n",
    "해밀턴 경로문제는 NP-완전(complete) 문제 (NP-완전은 NP-난해와 NP의 교집합)\n",
    "\n",
    "TSM은 NP-난해(hard) 문제다. \n",
    "        \n",
    "    NP-난해(hard) : 맞는지 확인하는건 쉬운데 풀기 어려운 문제\n",
    "    \n",
    "        TSM은 브루트포스로는 O(n!), DP 로는 O(n^2 * 2^n) 걸린다.\n",
    "        \n",
    "    NP 문제 : Non deterministic Polynomial time\n",
    "             비결정론적 튜링기계로 다항 시간에 검증 가능한 문제\n",
    "             \n",
    "             다항시간 : 주어진 입력의 크기를 n이라고 하였을 때, \n",
    "                      알고리즘이 수행한 단계의 수가 \n",
    "                      n에 대한 어떤 다항식을 넘지 않을 때\n",
    "                      ex) log n, n, n^2 등\n",
    "\n",
    "             지수시간 : ex) 2^n 시간  \n",
    "\n",
    "             비결정론적 튜링기계 : 계산 경로가 트리형태\n",
    "\n",
    "             결정론적 튜링기계 : 계산 경로가 한방향 유일한 경로\n",
    "             \n",
    "             P 문제 : 결정론적 튜링기계로 다항시간에 검증 가능한 문제\n",
    "                     \n",
    "             P-NP 문제 : P 집합은 NP 집합의 부분집합이다.\n",
    "                        이 때 P가 NP의 진부분집합인가 아니면 P와 NP가 같은가?\n",
    "\n",
    "                        답을 빠르게 검산할 수 있는 문제는 빠르게 풀릴 수도 있는가?\n",
    "\n",
    "                        P ≠ NP인 것으로 드러난다면 \n",
    "                        NP인 문제들 중에는 풀이법을 확인하는 것보다 \n",
    "                        답을 구하는 게 더 어려운 경우가 있다는 것을 의미한다.\n",
    "\n",
    "                            만약 P-NP 문제가 P=NP로 풀린다면 \n",
    "                            P와 NP는 NP-난해의 부분집합 문제가 된다. \n",
    "\n",
    "                            P≠NP인 경우는 \n",
    "                            P는 NP의 부분집합이 되고\n",
    "                            NP-난해 문제와는 서로소가 된다."
   ]
  },
  {
   "cell_type": "markdown",
   "id": "95daba8a-e2ff-419a-ad74-10a98e580605",
   "metadata": {},
   "source": [
    "## 그래프 순회"
   ]
  },
  {
   "cell_type": "markdown",
   "id": "8665d8de-d559-4899-a49b-af156f837bfb",
   "metadata": {},
   "source": [
    "#### 그래프 순회: 그래프의 각 vertex를 방문\n",
    "\n",
    "#### DFS와 BFS 알고리즘이 있다."
   ]
  },
  {
   "cell_type": "markdown",
   "id": "69d8a64c-1b0d-4298-aa78-1f1db4880af6",
   "metadata": {},
   "source": [
    "**일반적으로 코테에선 DFS가 BFS보다 더 널리 쓰인다.**  \n",
    "**대부분의 그래프 탐색은 DFS로 구현한다.**"
   ]
  },
  {
   "cell_type": "markdown",
   "id": "2d9d62fe-cdbc-4d87-a3d8-a370c7c794b2",
   "metadata": {},
   "source": [
    "자료구조 9장 트리 참고\n",
    "\n",
    "    DFS: 트리순회에 사용\n",
    "\n",
    "    전위순회 preorder : 노드방문 -> 왼쪽자식 -> 오른쪽자식\n",
    "    중위순회 inorder : 왼쪽자식 -> 노드방문 -> 오른쪽자식\n",
    "    후위순회 postorder : 왼쪽자식 -> 오른쪽자식 -> 노드방문\n",
    "\n",
    "        이진검색트리는 중위순회 DFS로 스캔하면\n",
    "        모든 노드의 값을 오름차순으로 얻을 수 있다"
   ]
  },
  {
   "cell_type": "markdown",
   "id": "177bfb35-d92a-4319-a228-7ea2d8e280f4",
   "metadata": {},
   "source": [
    "자료구조 6장  힙정렬 참고\n",
    "\n",
    "    최초 배열을 힙 구조(부분순서트리)로 만들때\n",
    "    \"서브트리 단위\"로 BFS를 역방향으로 가면서 다운힙을 쓰면 된다"
   ]
  },
  {
   "cell_type": "markdown",
   "id": "5732c9dd-c33a-4600-9533-0c436b3ddf39",
   "metadata": {},
   "source": [
    "## **DFS는 주로 재귀, 스택으로 구현** \n",
    "    (이진검색트리 dump 함수 참고 자료구조 9장 트리)\n",
    "\n",
    "모든 경우의 수를 탐색해야 하는 경우,      \n",
    "**백트래킹**을 같이 쓰면 효율적 (탐색시 제약 조건을 붙이거나, 계속 진행하면서 결과가 누적되어야 하는 조건이 있는 경우)  \n",
    "깊이가 깊고 복잡한 그래프 구조의 경우\n",
    "  \n",
    "일단 한번 시작하면 출발점에서 목적지까지 도달할 수 있는지를 중점적으로 탐색하는 완전탐색 법이다.  \n",
    "일단 한번 시작하면 목적지에 닿을때까지 한방향으로만 쭉 간다.  \n",
    "스택의 작동원리를 알고 있다면 DFS가 목표를 달성할 때까지 왜 한방향으로만 흘러가는지 이해할 수 있다 (그래프 DFS 스택 구현 참고)\n",
    "\n",
    "    def dfs (<현재위치>, <방문배열>):\n",
    "        if <마지막에 도달하거나, 더이상 진행할수 없을때> : return\n",
    "        <방문배열에 현재 위치 방문처리>\n",
    "        <이번 방문에서 처리할 일들>\n",
    "        dfs(<다음위치>, <방문배열>)\n",
    "        백트래킹\n",
    "        \n",
    "탐색대상은 그래프일수도 있고 2차원 배열로 이뤄진 지도형태일 수도 있다.  \n",
    "그래프는 다음 노드를 찾아 나서는 방식  \n",
    "배열은 다음 배열 위치를 계산하는 방식  \n",
    "  \n",
    "똑같은 탐색을 반복한다면 DP 최적화로 연산을 개선할 수 있다.  \n",
    "\n",
    "구현시 집중해야 하는 사항은 각 탐색마다 무엇을 할 것인지, 어떤 경우에 다음 방문이 유효한지 검사하는 것  \n",
    "\n",
    "## **BFS는 큐로 구현**\n",
    "  \n",
    "최단경로 구하는 경우 (참고 파알 13장 다익스트라 / 플로이드 워셜 알고리즘)  \n",
    "최소비용 등 가장 적은 횟수로 답을 찾아야 하는 경우 (가장 짧은 탐색이 최적해가 되므로 빠르게 답을 찾을 수 있다)  \n",
    "깊이가 얕고 한노드가 여러 노드와 아주 많이 연결되어 있는 그래프 구조의 경우  \n",
    "  \n",
    "BFS도 방문처리를 할 수 있고,  \n",
    "똑같은 탐색을 반복한다면 DP 최적화로 연산을 개선할 수 있다.  \n",
    "  \n",
    "BFS도 구현시 집중해야 하는 사항은 각 탐색마다 무엇을 할 것인지, 어떤 경우에 다음 방문이 유효한지 검사하는 것  \n",
    "  \n",
    "    방문배열 = []\n",
    "    queue = collections.deque([<시작위치>])\n",
    "\n",
    "    while queue:\n",
    "        <현재값> = queue.popleft()\n",
    "        <방문 배열에 현재 위치 방문 처리>\n",
    "        <이번 방문에서 처리할 일들>\n",
    "        if <다음 방문 위치를 방문할 수 있을 때>: queue.append(<다음값>)`    "
   ]
  },
  {
   "cell_type": "markdown",
   "id": "6909a48a-8652-450f-b38d-34574358d0e4",
   "metadata": {},
   "source": [
    "# 그래프 구현"
   ]
  },
  {
   "cell_type": "markdown",
   "id": "74433449-3d12-4dce-b035-142a0dcbaf61",
   "metadata": {
    "tags": []
   },
   "source": [
    "### 구현방법\n",
    "\n",
    "#### 1. 인접행렬 \n",
    "\n",
    "#### 2. 인접리스트"
   ]
  },
  {
   "cell_type": "code",
   "execution_count": 1,
   "id": "1d6b9175-5fb4-4604-8fad-d2f2c9e05420",
   "metadata": {
    "tags": []
   },
   "outputs": [],
   "source": [
    "#인접 리스트 구현법\n",
    "graph = {\n",
    "    1: [2,3,4],  # 출발노드 : [도착노드]\n",
    "    2: [5],\n",
    "    3: [5],\n",
    "    4: [],\n",
    "    5: [6, 7],\n",
    "    6: [],\n",
    "    7: [3],\n",
    "}"
   ]
  },
  {
   "cell_type": "markdown",
   "id": "283d1ef2-9d05-49cf-ab86-dd8df316440d",
   "metadata": {
    "tags": []
   },
   "source": [
    "## 그래프 DFS 재귀 구현"
   ]
  },
  {
   "cell_type": "code",
   "execution_count": 135,
   "id": "5c558dd9-41d7-40e8-80e9-3ec94979b632",
   "metadata": {
    "tags": []
   },
   "outputs": [
    {
     "data": {
      "text/plain": [
       "[1, 2, 5, 6, 7, 3, 4]"
      ]
     },
     "execution_count": 135,
     "metadata": {},
     "output_type": "execute_result"
    }
   ],
   "source": [
    "def recursive_dfs(v, discovered=[]):\n",
    "    discovered.append(v)\n",
    "    for w in graph[v]:\n",
    "        if w not in discovered:\n",
    "            discovered = recursive_dfs(w, discovered)\n",
    "    return discovered\n",
    "\n",
    "recursive_dfs(1)"
   ]
  },
  {
   "cell_type": "code",
   "execution_count": 136,
   "id": "44b0a13c-76e0-4360-97d7-603d252f7b95",
   "metadata": {
    "tags": []
   },
   "outputs": [
    {
     "data": {
      "text/plain": [
       "[1, 2, 5, 6, 7, 3, 4]"
      ]
     },
     "execution_count": 136,
     "metadata": {},
     "output_type": "execute_result"
    }
   ],
   "source": [
    "discovered = []\n",
    "def recursive_dfs(v):\n",
    "    discovered.append(v)\n",
    "    for w in graph[v]:\n",
    "        if w not in discovered:\n",
    "            recursive_dfs(w)\n",
    "    return discovered\n",
    "\n",
    "recursive_dfs(1)"
   ]
  },
  {
   "cell_type": "code",
   "execution_count": null,
   "id": "17a045db-5422-4ed6-b20c-20d035590a0b",
   "metadata": {},
   "outputs": [],
   "source": [
    "def dfs (<현재위치>, <방문배열>):\n",
    "    if <마지막에 도달하거나, 더이상 진행할수 없을때> : return\n",
    "    <방문배열에 현재 위치 방문처리>\n",
    "    <이번 방문에서 처리할 일들>\n",
    "    dfs(<다음위치>, <방문배열>)"
   ]
  },
  {
   "cell_type": "markdown",
   "id": "2cccd80d-82d2-4f77-9073-a39094ff641b",
   "metadata": {
    "tags": []
   },
   "source": [
    "## 그래프 DFS 스택 구현"
   ]
  },
  {
   "cell_type": "code",
   "execution_count": 123,
   "id": "3f20c3c1-a40a-4b78-b10f-648d49db654e",
   "metadata": {
    "tags": []
   },
   "outputs": [
    {
     "name": "stdout",
     "output_type": "stream",
     "text": [
      "[2, 3, 4]\n",
      "[2, 3]\n",
      "[2, 5]\n",
      "[2, 6, 7]\n",
      "[2, 6, 3]\n",
      "[2]\n",
      "[5]\n"
     ]
    },
    {
     "data": {
      "text/plain": [
       "[1, 4, 3, 5, 7, 6, 2]"
      ]
     },
     "execution_count": 123,
     "metadata": {},
     "output_type": "execute_result"
    }
   ],
   "source": [
    "def iterative_reversed_dfs(start_v):\n",
    "    discovered = []\n",
    "    stack = [start_v]\n",
    "    while stack:\n",
    "        v = stack.pop()\n",
    "        if v not in discovered:\n",
    "            discovered.append(v)\n",
    "            for w in graph[v]:\n",
    "                stack.append(w)\n",
    "            print(stack)\n",
    "    return discovered\n",
    "\n",
    "iterative_reversed_dfs(1)"
   ]
  },
  {
   "cell_type": "markdown",
   "id": "13079413-9fd9-4bd1-915d-cd91dea8e066",
   "metadata": {
    "tags": []
   },
   "source": [
    "#### recusrive_dfs는 전위 순회 (Preorder Traversal)\n",
    "#### iterative_reversed_dfs는 recursive_dfs의 역순으로 방문한다."
   ]
  },
  {
   "cell_type": "markdown",
   "id": "0e1615df-e699-4c44-a85b-9993590d8aaa",
   "metadata": {},
   "source": [
    "### iterative_dfs는 recursive_dfs처럼 전위순회로 방문한다"
   ]
  },
  {
   "cell_type": "code",
   "execution_count": 124,
   "id": "6682ef32-5ff1-47fe-8256-b96711f91de0",
   "metadata": {
    "tags": []
   },
   "outputs": [
    {
     "data": {
      "text/plain": [
       "[1, 2, 5, 6, 7, 3, 4]"
      ]
     },
     "execution_count": 124,
     "metadata": {},
     "output_type": "execute_result"
    }
   ],
   "source": [
    "def iterative_dfs(start_v):\n",
    "    discovered = []\n",
    "    stack = [start_v]\n",
    "    while stack:\n",
    "        v = stack.pop()\n",
    "        if v not in discovered:\n",
    "            discovered.append(v)\n",
    "            # graph[v]의 이웃 정점들을 역순으로 스택에 추가\n",
    "            for w in reversed(graph[v]):\n",
    "            # for w in graph[v][::-1]:\n",
    "                stack.append(w)\n",
    "    return discovered\n",
    "\n",
    "iterative_dfs(1)"
   ]
  },
  {
   "cell_type": "markdown",
   "id": "4933dd32-c828-4c76-b6e9-c06718d212f9",
   "metadata": {},
   "source": [
    "## 그래프 BFS 큐 구현"
   ]
  },
  {
   "cell_type": "markdown",
   "id": "d1e5daeb-705f-4562-b764-7e20bc5d035a",
   "metadata": {},
   "source": [
    "#### BFS는 큐로 구현하는 것이 가장 좋다"
   ]
  },
  {
   "cell_type": "markdown",
   "id": "bb80e167-7e84-4c8a-9dbb-b88a3aae88b3",
   "metadata": {},
   "source": [
    "### 왼쪽으로 BFS"
   ]
  },
  {
   "cell_type": "code",
   "execution_count": 5,
   "id": "58a1b545-2a60-43e7-9a8d-01a9edc51bea",
   "metadata": {
    "tags": []
   },
   "outputs": [],
   "source": [
    "#인접 리스트 구현법\n",
    "graph = {\n",
    "    1: [2,3,4],  # 출발노드 : [도착노드]\n",
    "    2: [5],\n",
    "    3: [5],\n",
    "    4: [],\n",
    "    5: [6, 7],\n",
    "    6: [],\n",
    "    7: [3],\n",
    "}"
   ]
  },
  {
   "cell_type": "code",
   "execution_count": 104,
   "id": "c108eec6-1e46-4658-8c60-45487722516b",
   "metadata": {
    "tags": []
   },
   "outputs": [
    {
     "data": {
      "text/plain": [
       "[1, 2, 3, 4, 5, 6, 7]"
      ]
     },
     "execution_count": 104,
     "metadata": {},
     "output_type": "execute_result"
    }
   ],
   "source": [
    "import collections\n",
    "\n",
    "def queue_bfs_left(start_v):\n",
    "    discovered = [start_v]\n",
    "    queue = collections.deque([start_v])\n",
    "    while queue:\n",
    "        v = queue.popleft()\n",
    "        for w in graph[v]:\n",
    "            if w not in discovered:\n",
    "                discovered.append(w)\n",
    "                queue.append(w)\n",
    "    return discovered\n",
    "\n",
    "queue_bfs_left(1)"
   ]
  },
  {
   "cell_type": "code",
   "execution_count": null,
   "id": "6d26f029-c6be-4c07-bc56-288d3b4d6cc9",
   "metadata": {},
   "outputs": [],
   "source": [
    "방문배열 = []\n",
    "queue = collections.deque([<시작위치>])\n",
    "\n",
    "while queue:\n",
    "    <현재값> = queue.popleft()\n",
    "    <방문 배열에 현재 위치 방문 처리>\n",
    "    <이번 방문에서 처리할 일들>\n",
    "    if <다음 방문 위치를 방문할 수 있을 때>: queue.append(<다음값>)`    "
   ]
  },
  {
   "cell_type": "markdown",
   "id": "6dcb91b6-c063-4440-859e-fbb9651805bd",
   "metadata": {},
   "source": [
    "### 오른쪽으로 BFS"
   ]
  },
  {
   "cell_type": "code",
   "execution_count": 105,
   "id": "b1e5894e-25a8-4c98-a8ca-eecaa193e2f3",
   "metadata": {
    "tags": []
   },
   "outputs": [
    {
     "name": "stdout",
     "output_type": "stream",
     "text": [
      "deque([4, 3, 2])\n",
      "deque([3, 2])\n",
      "deque([2, 5])\n",
      "deque([5])\n",
      "deque([7, 6])\n",
      "deque([6])\n",
      "deque([])\n"
     ]
    },
    {
     "data": {
      "text/plain": [
       "[1, 4, 3, 2, 5, 7, 6]"
      ]
     },
     "execution_count": 105,
     "metadata": {},
     "output_type": "execute_result"
    }
   ],
   "source": [
    "def queue_bfs_right(start_v):\n",
    "    discovered = [start_v]\n",
    "    queue = collections.deque([start_v])\n",
    "    while queue:\n",
    "        v = queue.popleft()\n",
    "        for w in graph[v][::-1]:\n",
    "            if w not in discovered:\n",
    "                discovered.append(w)\n",
    "                queue.append(w)\n",
    "        print(queue)\n",
    "    return discovered\n",
    "\n",
    "queue_bfs_right(1)"
   ]
  },
  {
   "cell_type": "markdown",
   "id": "d3f9c3c8-3f7c-4f4b-a0a2-719fe28fb43e",
   "metadata": {},
   "source": [
    "# 백트래킹 (트리 pruning)"
   ]
  },
  {
   "cell_type": "markdown",
   "id": "67671113-b890-414a-b856-953ec382522d",
   "metadata": {},
   "source": [
    "\n",
    "의미 : **탐색을 하다가 더 갈 수 없으면 왔던 길을 되돌아가 다른 길을 찾는 것**\n",
    "\n",
    "    백트래킹은 DFS와 같은 방식으로 탐색하는 모든 방법을 지칭한다\n",
    "    백트래킹은 기본적으로 DFS 알고리즘에 속한다.\n",
    "    \n",
    "    한 번 방문후 가능성이 없는 경우엔 되돌아와 다른 길을 찾으므로\n",
    "    운이 좋으면 시행 착오를 덜 거치고 목적지에 도착 가능하지만\n",
    "    최악의 경우 모든 경우를 다 거쳐야 한다\n",
    "    \n",
    "**주로 재귀로 구현**"
   ]
  },
  {
   "cell_type": "markdown",
   "id": "3c58dbf5-361e-44f7-b1bd-e54049dfcc0c",
   "metadata": {},
   "source": [
    "백트래킹은 제약충족문제 CSP(constraint satisfaction problems)를 풀 때 필수적인 알고리즘이다\n",
    "\n",
    "    CSP : 제약조건을 충족하는 상태를 찾아내는 문제"
   ]
  },
  {
   "cell_type": "markdown",
   "id": "608d3cb5-c9e0-4522-b4d5-f64359da59e4",
   "metadata": {},
   "source": [
    "### 방문 처리(Visitation)\n",
    "\n",
    "    방문 처리는 특정 노드나 요소를 이미 처리했음을 표시하는 기술입니다.  \n",
    "    이는 주로 그래프 탐색 알고리즘(예: 깊이 우선 탐색(DFS), 너비 우선 탐색(BFS))에서 사용됩니다.   \n",
    "    방문 처리의 주 목적은 무한 루프에 빠지지 않고,  \n",
    "    같은 요소나 노드를 중복해서 처리하지 않도록 하는 것입니다. \n",
    "    방문 처리는 보통 방문한 노드에 표시를 남기거나, \n",
    "    별도의 자료 구조(예: 집합, 리스트, 불리언 배열)를 사용해 관리합니다.\n",
    "\n",
    "### 백트래킹(Backtracking)\n",
    "\n",
    "    백트래킹은 해결책에 도달하기 위해 가능한 모든 경로를 시도해보고, \n",
    "    실패한 경로에서 되돌아와(Backtrack) 다른 경로를 시도하는 알고리즘 기법입니다. \n",
    "\n",
    "    백트래킹은 결정 트리를 깊이 우선으로 탐색하는 방식으로 작동하며, \n",
    "    주로 조합, 순열, 파티셔닝, 서브셋 생성과 같은 문제에 사용됩니다. \n",
    "\n",
    "    백트래킹 과정에서 방문 처리를 사용할 수 있으나, \n",
    "    백트래킹의 핵심은 해결책으로 가는 경로를 찾아나가다가 막히면 \n",
    "    이전 분기점으로 되돌아가(즉, 백트랙) 다른 가능성을 탐색하는 것입니다.\n",
    "\n",
    "### 결론\n",
    "\n",
    "- **방문 처리**는 \n",
    "\n",
    "        주로 그래프 탐색이나 알고리즘에서 특정 노드나 요소가 이미 처리되었는지 추적하는 데 사용됩니다. \n",
    "        이는 중복 처리를 방지하고 효율적인 탐색을 보장하기 위한 목적을 가지고 있습니다.\n",
    "  \n",
    "  \n",
    "- **백트래킹**은 \n",
    "\n",
    "        가능한 모든 해결책을 탐색하는 과정에서 사용되는 알고리즘 기법으로, \n",
    "        실패한 시도에서 되돌아와 다른 경로를 탐색합니다.\n",
    "        백트래킹은 방문 처리를 포함할 수 있지만, \n",
    "        그보다 더 넓은 개념으로, 문제 해결을 위한 전략적인 접근 방식을 의미합니다.\n",
    "\n",
    "        따라서, 방문 처리와 백트래킹은 밀접하게 관련되어 있으나, 동일한 개념은 아닙니다. \n",
    "        방문 처리는 일종의 상태 관리 방법이고, 백트래킹은 문제 해결을 위한 전략적인 접근 방식입니다."
   ]
  },
  {
   "cell_type": "markdown",
   "id": "15988418-526a-441d-9933-271463b5ebcd",
   "metadata": {},
   "source": [
    "# 문32 섬의 개수 e\n",
    "https://leetcode.com/problems/number-of-islands/"
   ]
  },
  {
   "cell_type": "markdown",
   "id": "720c3d2b-52ce-4e32-90da-12701574691a",
   "metadata": {
    "tags": []
   },
   "source": [
    "Given an m x n 2D binary grin, grid which represents a map of '1's (land) and '0's (water), return the number of islands.\n",
    "\n",
    "An island is surrounded by water and is formed by connecting adjacent lands horizontally or vertically. \n",
    "You may assume all four edges of the grid are all surrounded by water.\n",
    "\n",
    "    Input: grid = [\n",
    "      [\"1\",\"1\",\"1\",\"1\",\"0\"],\n",
    "      [\"1\",\"1\",\"0\",\"1\",\"0\"],\n",
    "      [\"1\",\"1\",\"0\",\"0\",\"0\"],\n",
    "      [\"0\",\"0\",\"0\",\"0\",\"0\"]\n",
    "    ]\n",
    "    Output: 1\n",
    "\n",
    "\n",
    "    Input: grid = [\n",
    "      [\"1\",\"1\",\"0\",\"0\",\"0\"],\n",
    "      [\"1\",\"1\",\"0\",\"0\",\"0\"],\n",
    "      [\"0\",\"0\",\"1\",\"0\",\"0\"],\n",
    "      [\"0\",\"0\",\"0\",\"1\",\"1\"]\n",
    "    ]\n",
    "    Output: 3"
   ]
  },
  {
   "cell_type": "code",
   "execution_count": null,
   "id": "43544557-5f64-4ab4-a540-ff91b774c7f3",
   "metadata": {},
   "outputs": [],
   "source": [
    "def dfs (<현재위치>, <방문배열>):\n",
    "    if <마지막에 도달하거나, 더이상 진행할수 없을때> : return\n",
    "    <방문배열에 현재 위치 방문처리>\n",
    "    <이번 방문에서 처리할 일들>\n",
    "    dfs(<다음위치>, <방문배열>)"
   ]
  },
  {
   "cell_type": "markdown",
   "id": "78f8926c-ac55-4613-8423-68c3d7c1cf1b",
   "metadata": {},
   "source": [
    "동서남북이 모두 연결된 그래프로 가정하고  \n",
    "네 방향 각각 DFS 재귀를 이용해 방문처리를 해서 육지flag 1을 다른 값으로 바꾸고,  \n",
    "탐색을 모두 마치면 섬 개수를 1 증가시키는 방식"
   ]
  },
  {
   "cell_type": "code",
   "execution_count": 129,
   "id": "058f6e21-3000-4d34-8526-fb66d2b2533e",
   "metadata": {
    "tags": []
   },
   "outputs": [
    {
     "data": {
      "text/plain": [
       "3"
      ]
     },
     "execution_count": 129,
     "metadata": {},
     "output_type": "execute_result"
    }
   ],
   "source": [
    "def dfs(grid, i, j):  # grid : 방문배열, ij 현재 위치\n",
    "    if i < 0 or i >= len(grid) or j < 0 or j >= len(grid[0]) or grid[i][j] != \"1\": # 땅이 아니면 종료\n",
    "        return\n",
    "    grid[i][j] = \"0\" # 현재 위치 방문처리\n",
    "    # 이번 방문에서 처리할 일들\n",
    "    dfs(grid, i+1, j) # 남쪽으로 이동\n",
    "    dfs(grid, i-1, j) # 북쪽으로 이동\n",
    "    dfs(grid, i, j+1) # 동쪽으로 이동\n",
    "    dfs(grid, i, j-1) # 서쪽으로 이동\n",
    "\n",
    "def NumIslands(grid):\n",
    "    \n",
    "    if not grid:\n",
    "        return 0\n",
    "    \n",
    "    count = 0\n",
    "    for i in range(len(grid)):\n",
    "        for j in range(len(grid[0])):\n",
    "            if grid[i][j] == \"1\":\n",
    "                dfs(grid, i, j)\n",
    "                count += 1\n",
    "    return count\n",
    "\n",
    "grid = [[\"1\",\"1\",\"0\",\"0\",\"0\"],\n",
    "        [\"1\",\"1\",\"0\",\"0\",\"0\"],\n",
    "        [\"0\",\"0\",\"1\",\"0\",\"0\"],\n",
    "        [\"0\",\"0\",\"0\",\"1\",\"1\"]]\n",
    "\n",
    "NumIslands(grid)"
   ]
  },
  {
   "cell_type": "markdown",
   "id": "bda7ef28-993f-460c-ae1a-77e6d6543342",
   "metadata": {
    "tags": []
   },
   "source": [
    "### 코드 개선 1\n",
    "dfs 함수에 grid를 인자로 넣어줄 필요가 없다.  "
   ]
  },
  {
   "cell_type": "markdown",
   "id": "46040603-67a8-4d48-92d3-1ab6e8ecb23c",
   "metadata": {
    "tags": []
   },
   "source": [
    "### 코드 개선 2\n",
    "중첩함수 nested func 로 만들면 더 깔끔해진다  \n",
    "solution 클래스 안에 구현하는 경우, dfs에 있던 self가 다 사라진다."
   ]
  },
  {
   "cell_type": "markdown",
   "id": "35f79967-3df3-4d46-b0de-3874692763b9",
   "metadata": {},
   "source": [
    "Leetcode용 답안"
   ]
  },
  {
   "cell_type": "code",
   "execution_count": 141,
   "id": "39dfd8d2-6345-445f-8bde-d51f9a15963e",
   "metadata": {},
   "outputs": [],
   "source": [
    "from typing import List\n",
    "\n",
    "class Solution:\n",
    "    def numIslands(self, grid: List[List[str]]) -> int:\n",
    "        \n",
    "        def dfs(i, j):  # grid : 방문배열, ij 현재 위치\n",
    "            if i < 0 or i >= len(grid) or j < 0 or j >= len(grid[0]) or grid[i][j] != \"1\": # 땅이 아니면 종료\n",
    "                return\n",
    "            grid[i][j] = \"0\" # 현재 위치 방문처리\n",
    "            # 이번 방문에서 처리할 일들\n",
    "            dfs(i+1, j) # 남쪽으로 이동\n",
    "            dfs(i-1, j) # 북쪽으로 이동\n",
    "            dfs(i, j+1) # 동쪽으로 이동\n",
    "            dfs(i, j-1) # 서쪽으로 이동\n",
    "\n",
    "        if not grid:\n",
    "            return 0\n",
    "\n",
    "        count = 0\n",
    "        for i in range(len(grid)):\n",
    "            for j in range(len(grid[0])):\n",
    "                if grid[i][j] == \"1\":\n",
    "                    dfs(i, j)\n",
    "                    count += 1\n",
    "        return count"
   ]
  },
  {
   "cell_type": "markdown",
   "id": "76e8af12-a9a5-4cbf-9732-f1201149e25e",
   "metadata": {},
   "source": [
    "dfs 함수에 grid를 인자로 넣어줄 필요가 없는 이유는  \n",
    "dfs가 중첩함수이기 때문에 부모함수인 numIslands함수의 변수를 자유롭게 읽을 수 있기 때문이다.  \n",
    "\n",
    "    중첩 함수가 외부 함수의 지역 변수에 접근할 수 있는 파이썬의 클로저(closure) 특성 덕분이다.\n",
    "        클로저는 함수가 정의된 환경(lexical scope)을 기억하는 함수입니다. \n",
    "        파이썬에서 함수는 일급 객체(first-class citizen)이므로, \n",
    "        함수를 변수에 할당하거나 다른 함수의 인자로 전달하거나, \n",
    "        함수 내부에서 다른 함수를 정의(중첩 함수)할 수 있습니다. \n",
    "        중첩 함수는 외부 함수의 변수에 접근할 수 있으며, \n",
    "        이러한 특성을 이용하여 프로그램에서 특정 변수를 캡슐화하고 숨기면서도 그 변수에 접근할 수 있게 합니다.\n",
    "이런 중첩함수는 실무에서 자주 쓰이는 편은 아니지만 코테에서는 매우 자주 쓰인다.  \n",
    "특히 부모 함수의 변수가 가변객체인 경우 중첩함수 내에서 변수 조작이 가능하다.\n",
    "\n",
    "\n",
    "\n"
   ]
  },
  {
   "cell_type": "markdown",
   "id": "dbf71934-95ce-4815-98d3-2d8e3a71ed27",
   "metadata": {},
   "source": [
    "# 문33 전화번호 문자 조합 m\n",
    "https://leetcode.com/problems/letter-combinations-of-a-phone-number/"
   ]
  },
  {
   "cell_type": "markdown",
   "id": "3b5eb8bc-7d00-4740-91fe-2b8749839858",
   "metadata": {},
   "source": [
    "### 내풀이\n",
    "brute force"
   ]
  },
  {
   "cell_type": "code",
   "execution_count": 9,
   "id": "c2553617-465b-42cd-817e-84260dd9ffd1",
   "metadata": {
    "tags": []
   },
   "outputs": [],
   "source": [
    "from typing import List\n",
    "\n",
    "class Solution:\n",
    "    def letterCombinations(self, digits: str) -> List[str]:\n",
    "        num2char = dict()\n",
    "        num2char = {\n",
    "            \"2\" : [\"a\", \"b\", \"c\"],\n",
    "            \"3\" : [\"d\", \"e\", \"f\"],\n",
    "            \"4\" : [\"g\", \"h\", \"i\"],\n",
    "            \"5\" : [\"j\", \"k\", \"l\"],\n",
    "            \"6\" : [\"m\", \"n\", \"o\"],\n",
    "            \"7\" : [\"p\", \"q\", \"r\", \"s\"],\n",
    "            \"8\" : [\"t\", \"u\", \"v\"],\n",
    "            \"9\" : [\"w\", \"x\", \"y\", \"z\"]\n",
    "        }\n",
    "        \n",
    "        if not digits:\n",
    "            return []\n",
    "        \n",
    "        elif len(digits) == 1:\n",
    "            result = []\n",
    "            for n in num2char[digits]:\n",
    "                result.append(n)\n",
    "            return result\n",
    "        \n",
    "        elif len(digits) == 2:\n",
    "            result = []\n",
    "            for n in num2char[digits[0]]:\n",
    "                for m in num2char[digits[1]]:\n",
    "                    result.append(n+m)\n",
    "            return result\n",
    "        \n",
    "        elif len(digits) == 3:\n",
    "            result = []\n",
    "            for n in num2char[digits[0]]:\n",
    "                for m in num2char[digits[1]]:\n",
    "                    for p in num2char[digits[2]]:\n",
    "                        result.append(n+m+p)\n",
    "            return result\n",
    "        elif len(digits) == 4:\n",
    "            result = []\n",
    "            for n in num2char[digits[0]]:\n",
    "                for m in num2char[digits[1]]:\n",
    "                    for p in num2char[digits[2]]:\n",
    "                        for q in num2char[digits[3]]:\n",
    "                            result.append(n+m+p+q)\n",
    "            return result"
   ]
  },
  {
   "cell_type": "markdown",
   "id": "a8d7519e-f353-400a-82e8-0851397570bb",
   "metadata": {},
   "source": [
    "### chatGPT"
   ]
  },
  {
   "cell_type": "markdown",
   "id": "cd0bdab2-9a05-4dc3-b3b8-0f51dcff3426",
   "metadata": {},
   "source": [
    "brute force 코드는 직접적이고 이해하기 쉽지만,  \n",
    "숫자 문자열의 길이가 늘어남에 따라 중첩된 루프를 추가해야 하므로 확장성이 떨어집니다.  \n",
    "  \n",
    "재귀적 접근 방법을 사용하면, 문자 조합을 동적으로 생성할 수 있어,   \n",
    "입력 문자열의 길이에 관계없이 코드를 간결하게 유지할 수 있습니다.  "
   ]
  },
  {
   "cell_type": "code",
   "execution_count": null,
   "id": "1b8e3e1f-5103-427d-a5ab-d1adf72b4a43",
   "metadata": {},
   "outputs": [],
   "source": [
    "def dfs (<현재위치>, <방문배열>):\n",
    "    if <마지막에 도달하거나, 더이상 진행할수 없을때> : return\n",
    "    <방문배열에 현재 위치 방문처리>\n",
    "    <이번 방문에서 처리할 일들>\n",
    "    dfs(<다음위치>, <방문배열>)\n",
    "    백트래킹"
   ]
  },
  {
   "cell_type": "code",
   "execution_count": null,
   "id": "53387798-c9a7-4d54-ad5b-b6163284b979",
   "metadata": {},
   "outputs": [],
   "source": [
    "from typing import List\n",
    "\n",
    "class Solution:\n",
    "    def letterCombinations(self, digits: str) -> List[str]:\n",
    "        if not digits:\n",
    "            return []\n",
    "\n",
    "        num2char = {\n",
    "            \"2\": [\"a\", \"b\", \"c\"],\n",
    "            \"3\": [\"d\", \"e\", \"f\"],\n",
    "            \"4\": [\"g\", \"h\", \"i\"],\n",
    "            \"5\": [\"j\", \"k\", \"l\"],\n",
    "            \"6\": [\"m\", \"n\", \"o\"],\n",
    "            \"7\": [\"p\", \"q\", \"r\", \"s\"],\n",
    "            \"8\": [\"t\", \"u\", \"v\"],\n",
    "            \"9\": [\"w\", \"x\", \"y\", \"z\"]\n",
    "        }\n",
    "\n",
    "        def backtrack(index, path):\n",
    "            # 재귀의 종료 조건: path의 길이가 digits의 길이와 같을 때\n",
    "            if len(path) == len(digits):\n",
    "                combinations.append(\"\".join(path))\n",
    "                return\n",
    "            \n",
    "            # 현재 숫자에 해당하는 모든 문자에 대해 재귀 호출\n",
    "            for char in num2char[digits[index]]:\n",
    "                path.append(char)  # 문자 추가\n",
    "                backtrack(index + 1, path)  # 다음 숫자로 이동\n",
    "                path.pop()  # 백트래킹\n",
    "\n",
    "        combinations = []\n",
    "        backtrack(0, [])\n",
    "        return combinations"
   ]
  },
  {
   "cell_type": "code",
   "execution_count": 8,
   "id": "50a91aec-077a-4619-8883-e68b72ae23c2",
   "metadata": {
    "tags": []
   },
   "outputs": [
    {
     "data": {
      "text/plain": [
       "['ad', 'ae', 'af', 'bd', 'be', 'bf', 'cd', 'ce', 'cf']"
      ]
     },
     "execution_count": 8,
     "metadata": {},
     "output_type": "execute_result"
    }
   ],
   "source": [
    "digits = \"23\"\n",
    "num2char = dict()\n",
    "num2char = {\n",
    "    \"2\" : [\"a\", \"b\", \"c\"],\n",
    "    \"3\" : [\"d\", \"e\", \"f\"],\n",
    "    \"4\" : [\"g\", \"h\", \"i\"],\n",
    "    \"5\" : [\"j\", \"k\", \"l\"],\n",
    "    \"6\" : [\"m\", \"n\", \"o\"],\n",
    "    \"7\" : [\"p\", \"q\", \"r\", \"s\"],\n",
    "    \"8\" : [\"t\", \"u\", \"v\"],\n",
    "    \"9\" : [\"w\", \"x\", \"y\", \"z\"]\n",
    "}\n",
    "\n",
    "path = []\n",
    "answer = []\n",
    "\n",
    "def backtrack(idx):\n",
    "    if len(path) == len(digits):\n",
    "        answer.append(\"\".join(path.copy()))\n",
    "        return\n",
    "\n",
    "    for num in num2char[digits[idx]]:\n",
    "        path.append(num)\n",
    "        backtrack(idx+1)\n",
    "        path.pop()\n",
    "\n",
    "backtrack(0)\n",
    "answer"
   ]
  },
  {
   "cell_type": "markdown",
   "id": "c8cb1425-97bf-42cb-9fb0-edc7c55fcc67",
   "metadata": {
    "tags": []
   },
   "source": [
    "#### 문제 해결에서의 트리 구조\n",
    "    문제 해결 과정에서 재귀 함수를 사용하는 백트래킹 방법은 \n",
    "    사실상 트리의 깊이 우선 탐색(DFS)을 수행하는 것과 유사합니다. \n",
    "    각 단계에서 모든 가능한 선택(현재 숫자에 해당하는 모든 문자)을 고려하고,\n",
    "    각 선택에 대해 다음 단계로 나아가면서 (즉, 트리에서 더 깊은 노드로 내려가면서) \n",
    "    모든 가능한 문자 조합을 탐색합니다.\n",
    "\n",
    "    따라서, 이 문제에서의 \"트리\"는 가능한 모든 문자 조합을 시각화하는 구조로, \n",
    "    각 숫자를 입력 받았을 때 그 숫자에 해당하는 문자들로 만들 수 있는 모든 조합을 나타내는 가상의 트리입니다. \n",
    "\n",
    "#### \"경로(path)\"변수의 의미\n",
    "    이 트리에서 루트(시작점)부터 어떤 리프 노드(최종 문자 조합)까지의 선택된 문자들의 시퀀스를 의미합니다.\n",
    "\n",
    "    변수 이름 `path`는 백트래킹 알고리즘에서 자주 사용되는 용어입니다.\n",
    "    백트래킹은 해결책에 도달하기 위해 탐색 트리를 깊이 우선 방식으로 탐색하는 알고리즘으로, \n",
    "    가능한 모든 경로를 따라가며 조건에 맞는 해결책을 찾습니다. \n",
    "    이 과정에서, `path` 변수는 현재까지 탐색한 경로를 나타내는 데 사용됩니다.\n",
    "\n",
    "    함수에서 `path`는 현재까지 구성된 문자열 조합을 나타냅니다. \n",
    "    이 함수의 목적은 주어진 숫자 문자열에 대해 가능한 모든 문자 조합을 찾는 것이므로, \n",
    "    각 숫자에 해당하는 문자들을 조합하여 만들 수 있는 \"경로\"를 탐색하는 과정에서 `path`를 사용합니다. \n",
    "\n",
    "    각 재귀 호출 단계에서 `path`에 문자를 추가함으로써, \n",
    "    현재까지의 문자 조합을 구성하고, \n",
    "    이 조합이 최종 길이에 도달하면 \n",
    "    완성된 조합으로 간주하여 결과 목록에 추가합니다.\n",
    "\n",
    "#### backtrack의 의미\n",
    "\n",
    "    backtrack 함수의 각 재귀 호출에서 path에 문자를 추가하는 것은 \n",
    "    그 문자를 \"방문\"하는 것으로 볼 수 있으며, \n",
    "    재귀 호출이 반환될 때 path.pop()을 호출하여 \n",
    "    마지막에 추가된 문자를 제거(즉, \"방문 취소\")하는 것은 \n",
    "    그 문자를 현재 경로에서 제외하고 다른 선택지를 탐색할 준비를 하는 것입니다. \n",
    "\n",
    "    이는 백트래킹의 핵심 개념인 \"시도하고 되돌리기(try and backtrack)\"를 구현하는 방식입니다."
   ]
  },
  {
   "cell_type": "code",
   "execution_count": 12,
   "id": "edb42630-6dcc-407f-9cec-301d414c3b24",
   "metadata": {
    "tags": []
   },
   "outputs": [],
   "source": [
    "from typing import List\n",
    "from itertools import product\n",
    "\n",
    "class Solution:\n",
    "    def letterCombinations(self, digits: str) -> List[str]:\n",
    "        if not digits:\n",
    "            return []\n",
    "        \n",
    "        num2char = {\n",
    "            \"2\": [\"a\", \"b\", \"c\"],\n",
    "            \"3\": [\"d\", \"e\", \"f\"],\n",
    "            \"4\": [\"g\", \"h\", \"i\"],\n",
    "            \"5\": [\"j\", \"k\", \"l\"],\n",
    "            \"6\": [\"m\", \"n\", \"o\"],\n",
    "            \"7\": [\"p\", \"q\", \"r\", \"s\"],\n",
    "            \"8\": [\"t\", \"u\", \"v\"],\n",
    "            \"9\": [\"w\", \"x\", \"y\", \"z\"]\n",
    "        }\n",
    "\n",
    "        # 각 숫자에 해당하는 문자 리스트를 product 함수에 전달하기 위해 리스트 컴프리헨션 사용\n",
    "        chars = [num2char[digit] for digit in digits]\n",
    "        # product 함수로 모든 가능한 조합 생성 후, 각 조합을 문자열로 변환\n",
    "        combinations = [''.join(combination) for combination in product(*chars)]\n",
    "\n",
    "        return combinations"
   ]
  },
  {
   "cell_type": "code",
   "execution_count": 30,
   "id": "cf57f3bc-edc5-409d-a9f9-f330d4d97499",
   "metadata": {
    "tags": []
   },
   "outputs": [],
   "source": [
    "num2char = {\n",
    "    \"2\": [\"a\", \"b\", \"c\"],\n",
    "    \"3\": [\"d\", \"e\", \"f\"],\n",
    "    \"4\": [\"g\", \"h\", \"i\"],\n",
    "    \"5\": [\"j\", \"k\", \"l\"],\n",
    "    \"6\": [\"m\", \"n\", \"o\"],\n",
    "    \"7\": [\"p\", \"q\", \"r\", \"s\"],\n",
    "    \"8\": [\"t\", \"u\", \"v\"],\n",
    "    \"9\": [\"w\", \"x\", \"y\", \"z\"]\n",
    "}"
   ]
  },
  {
   "cell_type": "code",
   "execution_count": 31,
   "id": "60eb71d5-424b-4d1b-8901-76796de7244a",
   "metadata": {
    "tags": []
   },
   "outputs": [
    {
     "data": {
      "text/plain": [
       "[['a', 'b', 'c'], ['d', 'e', 'f']]"
      ]
     },
     "execution_count": 31,
     "metadata": {},
     "output_type": "execute_result"
    }
   ],
   "source": [
    "digits = \"23\"\n",
    "chars = [num2char[digit] for digit in digits]\n",
    "chars"
   ]
  },
  {
   "cell_type": "code",
   "execution_count": 33,
   "id": "0680e1a8-7c78-4787-8798-d3d00535fb7f",
   "metadata": {
    "tags": []
   },
   "outputs": [
    {
     "data": {
      "text/plain": [
       "[('a', 'd'),\n",
       " ('a', 'e'),\n",
       " ('a', 'f'),\n",
       " ('b', 'd'),\n",
       " ('b', 'e'),\n",
       " ('b', 'f'),\n",
       " ('c', 'd'),\n",
       " ('c', 'e'),\n",
       " ('c', 'f')]"
      ]
     },
     "execution_count": 33,
     "metadata": {},
     "output_type": "execute_result"
    }
   ],
   "source": [
    "list(product(*chars))"
   ]
  },
  {
   "cell_type": "markdown",
   "id": "81ddd2a6-ce64-41f9-957f-6c4a41cf00a5",
   "metadata": {},
   "source": [
    "시퀀스들의 데카르트곱(또는 카르테시안 곱, Cartesian product)은  \n",
    "수학 및 컴퓨팅에서 사용되는 개념으로,  \n",
    "여러 집합 간의 모든 가능한 조합을 나타냅니다.   \n",
    "이는 두 집합 A와 B가 있을 때 A의 모든 원소와 B의 모든 원소 간의   \n",
    "가능한 모든 쌍(조합)을 생성하는 과정을 말합니다.   \n",
    "데카르트 곱의 결과는 튜플의 집합으로 표현되며, 각 튜플은 원래 집합들의 원소들로 구성됩니다  \n",
    "  \n",
    "데카르트 곱의 예시:  \n",
    "집합 A={1,2}와 집합 B={x,y}의 데카르트 곱은 (1,x),(1,y),(2,x),(2,y)  \n",
    "  \n",
    "itertools.product 함수는 여러 시퀀스의 데카르트 곱을 계산하는 데 사용될 수 있다.  \n",
    "\n",
    "    3x1 행렬 [[\"d\"],[\"e\"],[\"f\"]] 과 1x3 행렬 [\"a\", \"b\", \"c\"] 의 외적을 했을 때\n",
    "    문자열의 곱연산을 +로 대신하면\n",
    "    여기서 두 행렬의 외적은 결과적으로 \n",
    "    [\"a\", \"b\", \"c\"] 와 [\"d\", \"e\", \"f\"]의 데카르트 곱과 같다.\n",
    "    \n",
    "\n",
    "itertools.product 함수는 여러 개의 반복 가능 객체(iterable)를 인자로 받고,  \n",
    "이들의 데카르트 곱(Cartesian product)을 계산합니다. 즉, 가능한 모든 조합을 생성합니다  \n",
    "    \n",
    "    product(*chars)에서 * 연산자는 Python에서의 argument unpacking을 나타냅니다. \n",
    "    이 문법은 주로 함수에 여러 인자를 리스트나 튜플 형태로 전달할 때 사용되며, \n",
    "    이 리스트나 튜플을 함수에 전달될 개별 인자로 \"풀어주는\" 역할을 합니다.\n",
    "    즉\n",
    "    *chars는 chars 리스트 안에 있는 각각의 시퀀스를 \n",
    "    product 함수에 개별적인 인자로 전달합니다. \n",
    "    예를 들어, chars = [[1, 2], [3, 4]]가 있다면, \n",
    "    product(*chars)는 product([1, 2], [3, 4])와 동일하게 작동합니다."
   ]
  },
  {
   "cell_type": "markdown",
   "id": "9f5db6e3-304b-4458-b3ac-5fd1dd4c85a2",
   "metadata": {},
   "source": [
    "# Python에서의 *argument unpacking*\n",
    "\n",
    "Python에서의 *argument unpacking*은 함수에 여러 개의 인자를 전달할 때 사용하는 유용한 문법입니다.  \n",
    "이 기능을 사용하면 리스트, 튜플, 또는 다른 반복 가능한(iterable) 객체에 저장된 값을   \n",
    "개별 인자로 함수에 전달할 수 있습니다.   \n",
    "Argument unpacking은 `*` 연산자를 사용하여   \n",
    "리스트나 튜플과 같은 반복 가능한 객체를 \"풀어서(unpack)\" 함수의 인자로 전달합니다.  \n",
    "\n",
    "## 함수 호출 시 Argument Unpacking의 기본 사용법\n",
    "\n",
    "### Argument unpacking은 두 가지 주요 방식으로 사용됩니다:\n",
    "#### 1. **Positional arguments unpacking** (`*args`): 함수에 위치 인자로 전달됩니다.\n",
    "#### 2. **Keyword arguments unpacking** (`**kwargs`): 함수에 키워드 인자로 전달됩니다.\n",
    "\n",
    "### Positional Arguments Unpacking (`*args`)\n",
    "\n",
    "```python\n",
    "def sum_numbers(a, b, c):\n",
    "    return a + b + c\n",
    "\n",
    "numbers = [1, 2, 3]\n",
    "# 리스트의 각 요소를 개별 인자로 전달\n",
    "print(sum_numbers(*numbers))  # 출력: 6\n",
    "```\n",
    "위 예시에서 `*numbers`는   \n",
    "`numbers` 리스트의 각 요소를   \n",
    "`sum_numbers` 함수의 `a`, `b`, `c` 위치 인자로 전달합니다.  \n",
    "\n",
    "### Keyword Arguments Unpacking (`**kwargs`)\n",
    "\n",
    "```python\n",
    "def greet(first_name, last_name):\n",
    "    print(f\"Hello, {first_name} {last_name}!\")\n",
    "\n",
    "person = {\"first_name\": \"John\", \"last_name\": \"Doe\"}  \n",
    "# 사전의 각 키-값 쌍을 키워드 인자로 전달  \n",
    "greet(**person)  # 출력: Hello, John Doe!  \n",
    "```\n",
    "위 예시에서 `**person`은  \n",
    "`person` 사전의 각 키-값 쌍을  \n",
    "`greet` 함수의 `first_name`과 `last_name` 키워드 인자로 전달합니다.  \n",
    "\n",
    "### 왜 Argument Unpacking을 사용하나요?\n",
    "  \n",
    "Argument unpacking을 사용하면 코드의 유연성과 가독성이 향상됩니다.  \n",
    "예를 들어, 함수에 전달할 인자의 수가 변동적이거나,  \n",
    "인자를 리스트나 사전 등에 저장해야 하는 경우에 매우 유용합니다.  \n",
    "또한, argument unpacking을 사용하면 함수 호출 시 인자를 보다 명확하게 전달할 수 있으며,  \n",
    "코드를 간결하게 유지할 수 있습니다. \n",
    "  \n",
    "### 주의사항\n",
    "\n",
    "- `*` 연산자는 반복 가능한 객체의 모든 요소를 개별적인 위치 인자로 전달합니다.  \n",
    "- `**` 연산자는 키와 값을 가지는 사전(dict)의 각 항목을 키워드 인자로 전달합니다.  \n",
    "- 함수를 정의할 때 `*args`와 `**kwargs`를 사용하면, 함수가 가변적인 수의 위치 인자나 키워드 인자를 받을 수 있습니다.   \n",
    "- 하지만 함수 호출 시 `*`와 `**`의 사용은 함수에 인자를 전달하는 방식과 관련이 있습니다.  "
   ]
  },
  {
   "cell_type": "markdown",
   "id": "89ba7a96-19ef-4c0a-92d4-ebeaf96d8129",
   "metadata": {},
   "source": [
    "## 함수 정의 시 Argument Unpacking의 기본 사용법\n",
    "\n",
    "`*args`와 `**kwargs`는 함수를 정의할 때,  \n",
    "함수가 가변적인 수의 인자를 받을 수 있도록 합니다.  \n",
    "여기서 `*args`는 가변적인 수의 위치 인자를 처리하며,  \n",
    "`**kwargs`는 가변적인 수의 키워드 인자를 처리합니다.  \n",
    "\n",
    "### `*args` 사용 예시\n",
    "\n",
    "`*args`는 함수에 전달된 위치 인자들을 튜플로 묶어줍니다.   \n",
    "이를 사용해 함수가 받을 위치 인자의 수를 미리 정의하지 않고도 여러 개의 인자를 받을 수 있게 됩니다.  \n",
    "\n",
    "```python\n",
    "def print_args(*args):\n",
    "    for arg in args:\n",
    "        print(arg)\n",
    "\n",
    "print_args('apple', 'banana', 'cherry')\n",
    "```\n",
    "  \n",
    "위 예제에서 `print_args` 함수는 `*args`를 사용해 정의되었습니다.   \n",
    "이 함수는 전달받은 모든 위치 인자를 순회하고 출력합니다.   \n",
    "호출 시에는 `apple`, `banana`, `cherry`라는 세 개의 인자를 전달했고, 함수는 이를 모두 출력합니다.   \n",
    "`*args` 덕분에 함수는 세 개뿐만 아니라 어떤 수의 위치 인자도 받을 수 있습니다.  \n",
    "  \n",
    "### `**kwargs` 사용 예시\n",
    "  \n",
    "`**kwargs`는 함수에 전달된 키워드 인자들을 사전으로 묶어줍니다.   \n",
    "이를 사용하면 함수가 받을 키워드 인자의 수를 미리 정의하지 않고도, 이름이 있는 인자를 여러 개 받을 수 있습니다.  \n",
    "  \n",
    "```python\n",
    "def print_kwargs(**kwargs):\n",
    "    for key, value in kwargs.items():\n",
    "        print(f\"{key}: {value}\")\n",
    "\n",
    "print_kwargs(fruit='apple', vegetable='carrot', drink='water')\n",
    "``` \n",
    "  \n",
    "위 예제에서 `print_kwargs` 함수는 `**kwargs`를 사용해 정의되었습니다.  \n",
    "이 함수는 전달받은 모든 키워드 인자를 순회하며, 각 키와 값의 쌍을 출력합니다.  \n",
    "호출 시에는 `fruit`, `vegetable`, `drink`라는 세 개의 키워드 인자를 전달했고,  \n",
    "함수는 이를 모두 출력합니다.  \n",
    "`**kwargs` 덕분에 함수는 세 개뿐만 아니라 어떤 수의 키워드 인자도 받을 수 있습니다.  \n",
    "\n",
    "### 결합 사용\n",
    "  \n",
    "`*args`와 `**kwargs`를 동시에 사용해  \n",
    "함수가 위치 인자와 키워드 인자를 모두 가변적으로 받을 수 있도록 할 수도 있습니다.  \n",
    "  \n",
    "```python\n",
    "def print_both(*args, **kwargs):\n",
    "    for arg in args:\n",
    "        print(arg)\n",
    "    for key, value in kwargs.items():\n",
    "        print(f\"{key}: {value}\")\n",
    "\n",
    "print_both('apple', 'banana', drink='water', snack='nuts')\n",
    "```\n",
    "  \n",
    "이 함수는 위치 인자 `apple`, `banana`와  \n",
    "키워드 인자 `drink='water'`, `snack='nuts'`를 모두 받습니다.  \n",
    "`*args`는 위치 인자들을 처리하고, `**kwargs`는 키워드 인자들을 처리합니다.  \n",
    "이렇게 `*args`와 `**kwargs`를 함께 사용하면 함수가 더 유연하게 다양한 인자를 처리할 수 있습니다.  "
   ]
  },
  {
   "cell_type": "markdown",
   "id": "9dd3bc83-2e4d-4638-9a3a-d8e9a83998c9",
   "metadata": {},
   "source": [
    "# 문34 순열 m\n",
    "https://leetcode.com/problems/permutations/"
   ]
  },
  {
   "cell_type": "code",
   "execution_count": null,
   "id": "d9488edf-5dd1-4eee-9da2-80b1fd3c8334",
   "metadata": {},
   "outputs": [],
   "source": [
    "Given an array nums of distinct integers, \n",
    "return all the possible permutations. \n",
    "You can return the answer in any order.\n",
    "\n",
    "Example 1:\n",
    "\n",
    "Input: nums = [1,2,3]\n",
    "Output: [[1,2,3],[1,3,2],[2,1,3],[2,3,1],[3,1,2],[3,2,1]]\n",
    "\n",
    "class Solution:\n",
    "    def permute(self, nums: List[int]) -> List[List[int]]:"
   ]
  },
  {
   "cell_type": "code",
   "execution_count": null,
   "id": "c5cfa7dd-2f37-4ac3-a551-89ee8121ee8b",
   "metadata": {},
   "outputs": [],
   "source": [
    "import itertools\n",
    "class Solution:\n",
    "    def permute(self, nums: List[int]) -> List[List[int]]:\n",
    "        return list(map(list, permutations(nums,len(nums))))"
   ]
  },
  {
   "cell_type": "code",
   "execution_count": null,
   "id": "bcff4d84-f272-4ee9-8e71-66d54e66fd11",
   "metadata": {},
   "outputs": [],
   "source": [
    "def dfs (<현재위치>, <방문배열>):\n",
    "    if <마지막에 도달하거나, 더이상 진행할수 없을때> : return\n",
    "    <방문배열에 현재 위치 방문처리>\n",
    "    <이번 방문에서 처리할 일들>\n",
    "    dfs(<다음위치>, <방문배열>)\n",
    "    백트래킹"
   ]
  },
  {
   "cell_type": "code",
   "execution_count": 42,
   "id": "fd611942-f71b-4f40-9387-ebb8f28aa8d6",
   "metadata": {
    "tags": []
   },
   "outputs": [
    {
     "data": {
      "text/plain": [
       "[[1, 2, 3], [1, 3, 2], [2, 1, 3], [2, 3, 1], [3, 1, 2], [3, 2, 1]]"
      ]
     },
     "execution_count": 42,
     "metadata": {},
     "output_type": "execute_result"
    }
   ],
   "source": [
    "def permute(nums):\n",
    "    \n",
    "    answer = []  \n",
    "    permutation = [] \n",
    "\n",
    "    def dfs(idx):  \n",
    "        if idx == len(nums): \n",
    "            answer.append(permutation.copy())  \n",
    "            return \n",
    "\n",
    "        for num in nums:  # 입력 리스트의 모든 숫자에 대해\n",
    "            if num not in permutation:  # 현재 숫자가 현재 순열에 포함되지 않았다면\n",
    "                permutation.append(num)  # 순열에 숫자 추가\n",
    "                dfs(idx+1)  # 다음 숫자를 위해 재귀 호출\n",
    "                permutation.pop()  # 백트래킹: 마지막에 추가된 숫자를 제거하고 다음 선택 탐색\n",
    "\n",
    "    dfs(0) \n",
    "    return answer \n",
    "\n",
    "permute([1, 2, 3])"
   ]
  },
  {
   "cell_type": "markdown",
   "id": "947ccddf-78d3-4bf3-b37a-bfc22302d040",
   "metadata": {},
   "source": [
    "permutation.copy()를 사용하는 이유는  \n",
    "permutation 리스트의 현재 상태(순열)를 answer 리스트에 추가할 때,  \n",
    "그 순간의 순열 상태를 \"스냅샷\"으로 저장하기 위함입니다.   \n",
    "  \n",
    "Python에서 리스트와 같은 가변 객체를 다룰 때,   \n",
    "객체의 참조를 추가하는 대신 객체의 복사본을 만들어 추가해야 합니다.     \n",
    "이렇게 하지 않으면, permutation 리스트가 변경될 때마다   \n",
    "answer 리스트에 추가된 모든 순열이 함께 변경되기 때문에,   \n",
    "최종적으로 모든 순열이 같은 내용(마지막 상태)으로 덮어쓰여지게 됩니다.  \n",
    "  \n",
    "permutation.copy()를 호출하면,   \n",
    "permutation의 현재 내용을 새로운 리스트로 복사하여 answer에 추가합니다.   \n",
    "이렇게 하면 permutation 리스트의 후속 변경 사항이   \n",
    "answer에 이미 추가된 순열에 영향을 주지 않습니다.  "
   ]
  },
  {
   "cell_type": "markdown",
   "id": "7a6b9e3a-7ac7-4c22-89cb-7abbb132a208",
   "metadata": {},
   "source": [
    "```python\n",
    "def dfs(idx):  \n",
    "    if idx == len(nums): \n",
    "        answer.append(permutation.copy())  \n",
    "        return \n",
    "\n",
    "    for num in nums: \n",
    "        if num not in permutation:\n",
    "            permutation.append(num)  \n",
    "            dfs(idx+1)  \n",
    "            permutation.pop() \n",
    "                \n",
    "[1, 2, 3] 순열이 answer에 추가된 후, \n",
    "for 루프는 계속 실행되어 permutation에서 3을 제거합니다(pop 호출).\n",
    "이제 permutation은 [1, 2]입니다. \n",
    "재귀 호출(dfs)이 반환되고, for 루프의 다음 반복으로 진행됩니다. \n",
    "이때, 이미 nums의 모든 숫자(1, 2, 3)가 시도되었습니다.\n",
    "따라서, dfs 함수의 현재 실행 컨텍스트는 종료되고, 이전 재귀 레벨로 돌아갑니다. \n",
    "이때 permutation에서 2가 제거되고, 다음 숫자를 시도합니다. \n",
    "이 과정은 모든 가능한 순열을 탐색할 때까지 계속됩니다.\n",
    "```"
   ]
  },
  {
   "cell_type": "markdown",
   "id": "522547db-9cc5-4cda-b1f0-e893b938569a",
   "metadata": {},
   "source": [
    "# 문35 조합 m\n",
    "https://leetcode.com/problems/combinations/"
   ]
  },
  {
   "cell_type": "code",
   "execution_count": null,
   "id": "858e456b-8dfa-43b7-a5f4-e392d94ede4d",
   "metadata": {},
   "outputs": [],
   "source": [
    "Given two integers n and k, \n",
    "return all possible combinations of k numbers chosen from the range [1, n].\n",
    "\n",
    "You may return the answer in any order.\n",
    "\n",
    "Example 1:\n",
    "\n",
    "Input: n = 4, k = 2\n",
    "Output: [[1,2],[1,3],[1,4],[2,3],[2,4],[3,4]]\n",
    "\n",
    "class Solution:\n",
    "    def combine(self, n: int, k: int) -> List[List[int]]:"
   ]
  },
  {
   "cell_type": "code",
   "execution_count": null,
   "id": "bbec18e0-7e12-44c8-b01d-a7a485b4ca18",
   "metadata": {},
   "outputs": [],
   "source": [
    "import itertools\n",
    "class Solution:\n",
    "    def combine(self, n: int, k: int) -> List[List[int]]:\n",
    "        iterable = range(1, n+1)\n",
    "        return list(map(list, combinations(iterable, k)))"
   ]
  },
  {
   "cell_type": "code",
   "execution_count": 38,
   "id": "b4d60512-abf1-46cc-89d9-9496e8f43056",
   "metadata": {
    "tags": []
   },
   "outputs": [
    {
     "data": {
      "text/plain": [
       "[(1, 2), (1, 3), (1, 4), (2, 3), (2, 4), (3, 4)]"
      ]
     },
     "execution_count": 38,
     "metadata": {},
     "output_type": "execute_result"
    }
   ],
   "source": [
    "import itertools\n",
    "list(itertools.combinations([1,2,3,4], 2))"
   ]
  },
  {
   "cell_type": "code",
   "execution_count": 44,
   "id": "6b093b8c-fa96-4880-a932-cd77a3d7e912",
   "metadata": {
    "tags": []
   },
   "outputs": [
    {
     "data": {
      "text/plain": [
       "[[1, 2], [1, 3], [1, 4], [2, 3], [2, 4], [3, 4]]"
      ]
     },
     "execution_count": 44,
     "metadata": {},
     "output_type": "execute_result"
    }
   ],
   "source": [
    "def combinate(n, k):\n",
    "    def backtrack(number):\n",
    "        # 기저 조건: path의 길이가 k와 같으면, path의 복사본을 정답 리스트에 추가\n",
    "        if len(path) == k:\n",
    "            answer.append(path.copy())\n",
    "            return  # 기저 조건에 도달하면 재귀 호출 종료\n",
    "\n",
    "        # 현재 number부터 시작하여 n까지 숫자를 순회\n",
    "        for num in range(number, n + 1):\n",
    "            path.append(num)  # path에 현재 숫자 추가\n",
    "            backtrack(num + 1)  # 다음 숫자를 선택하기 위해 재귀 호출\n",
    "            path.pop()  # 현재 선택을 취소하고 다음 숫자 선택을 위해 마지막 숫자 제거\n",
    "\n",
    "    path = []\n",
    "    answer = []  # 모든 조합을 저장할 리스트\n",
    "    backtrack(1)  # 1부터 숫자 선택을 시작\n",
    "    return answer  # 생성된 모든 조합을 담은 리스트 반환\n",
    "\n",
    "combinate(4, 2)"
   ]
  },
  {
   "cell_type": "markdown",
   "id": "708aaaa2-6c84-4c43-81d2-03d4079e7860",
   "metadata": {},
   "source": [
    "```python\n",
    "    def dfs(idx):  \n",
    "        if idx == len(nums): \n",
    "            answer.append(permutation.copy())  \n",
    "            return \n",
    "\n",
    "        for num in nums:  # 입력 리스트의 모든 숫자에 대해\n",
    "            if num not in permutation:  # 현재 숫자가 현재 순열에 포함되지 않았다면\n",
    "                permutation.append(num)  # 순열에 숫자 추가\n",
    "                dfs(idx+1)  # 다음 숫자를 위해 재귀 호출\n",
    "                permutation.pop()  # 백트래킹: 마지막에 추가된 숫자를 제거하고 다음 선택 탐색\n",
    "```"
   ]
  },
  {
   "cell_type": "markdown",
   "id": "1093c0a1-6e5b-4591-af18-8390f1a4775e",
   "metadata": {},
   "source": [
    "\n",
    "오프셋(offset)이란,  \n",
    "주어진 시작점이나 기준점으로부터의 거리나 차이를 나타내는 용어입니다.  \n",
    "컴퓨터 과학, 프로그래밍, 데이터 처리 등 다양한 분야에서 사용되며,  \n",
    "특정 위치나 요소에 접근하기 위해 사용되는 상대적인 위치나 인덱스를 의미할 수 있습니다.  \n",
    "  \n",
    "예를 들어, 배열이나 리스트에서 특정 요소에 접근할 때,   \n",
    "오프셋은 배열의 시작점(보통 0번 인덱스)으로부터 해당 요소까지의 거리(또는 차이)를 나타냅니다.   \n",
    "예를 들어, 배열 [a, b, c, d]에서 요소 c의 오프셋은 2입니다(0부터 시작하는 인덱싱을 가정할 때).  "
   ]
  },
  {
   "cell_type": "markdown",
   "id": "c5186d68-1134-4810-bd10-8de799a77989",
   "metadata": {},
   "source": [
    "# 문36 조합의 합 m\n",
    "https://leetcode.com/problems/combination-sum"
   ]
  },
  {
   "cell_type": "code",
   "execution_count": null,
   "id": "354137fb-4548-4f12-bbce-0a44da598c51",
   "metadata": {},
   "outputs": [],
   "source": [
    "Given an array of distinct integers candidates and a target integer target, \n",
    "return a list of all unique combinations of candidates where the chosen numbers sum to target. \n",
    "You may return the combinations in any order.\n",
    "\n",
    "The same number may be chosen from candidates an unlimited number of times. \n",
    "Two combinations are unique if the frequency of at least one of the chosen numbers is different.\n",
    "\n",
    "The test cases are generated such that the number of unique combinations that sum up to target \n",
    "is less than 150 combinations for the given input.\n",
    "\"\"\"\n",
    "주어진 candidates 배열에서 중복을 허용하여 숫자를 선택해, \n",
    "그 합이 target이 되는 모든 유니크한 조합을 찾는 함수.\n",
    "\"\"\"\n",
    "\n",
    "Example 1:\n",
    "\n",
    "Input: candidates = [2,3,6,7], target = 7\n",
    "Output: [[2,2,3],[7]]"
   ]
  },
  {
   "cell_type": "markdown",
   "id": "1e458a77-a7a3-497d-aafc-5330ca045257",
   "metadata": {},
   "source": [
    "### chatGPT 풀이"
   ]
  },
  {
   "cell_type": "code",
   "execution_count": 15,
   "id": "e9581073-8f27-47ca-afeb-7884152baf53",
   "metadata": {
    "tags": []
   },
   "outputs": [
    {
     "name": "stdout",
     "output_type": "stream",
     "text": [
      "[]\n",
      "[2]\n",
      "[2, 2]\n",
      "[2, 2, 2]\n",
      "[2, 2, 2, 2]\n",
      "[2, 2, 2, 3]\n",
      "[2, 2, 2, 6]\n",
      "[2, 2, 2, 7]\n",
      "[2, 2, 3]\n",
      "[2, 2, 6]\n",
      "[2, 2, 7]\n",
      "[2, 3]\n",
      "[2, 3, 3]\n",
      "[2, 3, 6]\n",
      "[2, 3, 7]\n",
      "[2, 6]\n",
      "[2, 7]\n",
      "[3]\n",
      "[3, 3]\n",
      "[3, 3, 3]\n",
      "[3, 3, 6]\n",
      "[3, 3, 7]\n",
      "[3, 6]\n",
      "[3, 7]\n",
      "[6]\n",
      "[6, 6]\n",
      "[6, 7]\n",
      "[7]\n"
     ]
    },
    {
     "data": {
      "text/plain": [
       "[[2, 2, 3], [7]]"
      ]
     },
     "execution_count": 15,
     "metadata": {},
     "output_type": "execute_result"
    }
   ],
   "source": [
    "candidates = [2,3,6,7]\n",
    "target = 7\n",
    "\n",
    "def backtrack(start, path, target):\n",
    "    # 기저 조건: target이 0이 되면 현재 path를 결과에 추가\n",
    "    print(path)\n",
    "    if target == 0:\n",
    "        result.append(path)\n",
    "        return\n",
    "    # 타겟을 초과하면 더 이상 진행하지 않음\n",
    "    elif target < 0:\n",
    "        return\n",
    "    \n",
    "    for i in range(start, len(candidates)):\n",
    "        # 현재 숫자를 선택하고, 남은 타겟 값으로 재귀 호출\n",
    "        backtrack(i, path + [candidates[i]], target - candidates[i])\n",
    "\n",
    "result = []\n",
    "path = []\n",
    "backtrack(0, path, target)\n",
    "result\n",
    "\n",
    "'''\n",
    "재귀 호출 과정에서 path + [candidates[i]]를 사용해 새로운 리스트를 생성하고 \n",
    "이를 다음 재귀 호출의 path 인자로 전달함으로써, \n",
    "원본 path 리스트는 변경되지 않고, 각 재귀 호출마다 독립적인 path 리스트가 생성되고 사용됩니다. \n",
    "다시 말해 각 재귀 호출시 새롭게 생성되어 인자로 넘겨진 path 리스트는 그 호출의 컨텍스트에만 속합니다.\n",
    "\n",
    "이 방식은 함수 호출 간에 path의 상태를 격리시켜, \n",
    "각 호출이 서로에게 영향을 주지 않도록 합니다. \n",
    "따라서, 기저 조건에서 result.append(path)를 호출할 때 별도로 path.copy()를 호출할 필요가 없습니다. \n",
    "이미 path + [candidates[i]] 연산을 통해 새로운 리스트가 생성되었기 때문에, \n",
    "이 리스트는 유니크하며 그 상태가 독립적입니다.\n",
    "이는 곧 함수 호출 간에 path의 상태가 독립적이라는 것을 의미합니다.\n",
    "\n",
    "이런 방식으로, 재귀 함수는 각각의 호출에서 상태를 새롭게 만들어내며, \n",
    "최종적으로 조건을 만족하는 경우에만 그 상태를 결과에 추가하게 됩니다.\n",
    "이 접근법은 코드의 복잡성을 줄이고, 상태 관리를 단순화하는 데 도움이 됩니다.\n",
    "'''"
   ]
  },
  {
   "cell_type": "code",
   "execution_count": null,
   "id": "c5919cf2-d3e4-48ad-a56d-5f9196c49209",
   "metadata": {},
   "outputs": [],
   "source": [
    "         2             3       6    7\n",
    "      2  3  6 7      3 67    67\n",
    "   2367 367        367      \n",
    "2367               "
   ]
  },
  {
   "cell_type": "markdown",
   "id": "c79a9ba1-ca96-4443-ad21-881c536389ef",
   "metadata": {},
   "source": [
    "불변성을 유지하는 방식은 코드의 가독성과 유지보수성을 중시할 때 더 적합합니다.  \n",
    "불변성: path + [candidates[i]]를 통해 새로운 리스트를 생성하므로, path의 불변성을 유지합니다.  \n",
    "이는 함수 사이드 이펙트를 최소화하고, 각 재귀 호출이 독립적인 상태를 유지하게 해 줍니다.   \n",
    "이해하기 쉬움: 각 단계에서의 path 변화가 명시적으로 보여져서, 코드의 흐름을 이해하기가 더 쉽습니다.  \n",
    "성능: 리스트를 새로 생성하는 작업이 필요하므로, 추가 메모리 할당과 복사 비용이 발생합니다.  "
   ]
  },
  {
   "cell_type": "markdown",
   "id": "fb6e0253-7af1-4565-a626-f93ed7d7e0d5",
   "metadata": {},
   "source": [
    "```python\n",
    "파이썬에서 리스트 덧셈 연산 (`list1 + list2`)을 사용하면  \n",
    "기존의 리스트 복사본을 만들고,  \n",
    "두 번째 리스트의 요소를 첫 번째 리스트의 복사본에 추가하여 새로운 리스트를 생성합니다.  \n",
    "이 연산은 원본 리스트들을 변경하지 않고, 새로운 리스트 객체를 반환합니다.  \n",
    "  \n",
    "예를 들어:  \n",
    "\n",
    "list1 = [1, 2, 3]\n",
    "list2 = [4, 5, 6]\n",
    "\n",
    "# 리스트 덧셈 연산을 사용하여 새 리스트 생성  \n",
    "result = list1 + list2  \n",
    "  \n",
    "# 결과 출력\n",
    "print(result)  # [1, 2, 3, 4, 5, 6]\n",
    "\n",
    "   \n",
    "위의 코드에서 `list1`과 `list2`는 변경되지 않고,   \n",
    "`result`는 두 리스트의 요소를 모두 포함하는 새로운 리스트가 됩니다. \n",
    "리스트 덧셈 연산을 통해 생성된 `result` 리스트는 새로운 메모리 공간에 할당됩니다.  \n",
    "\n",
    "이러한 특성 때문에, 리스트 덧셈 연산은 특히 큰 리스트를 다룰 때 메모리 사용량과 실행 시간에 영향을 줄 수 있습니다. \n",
    "따라서 대량의 데이터를 다룰 때는 리스트 덧셈 연산보다는 \n",
    "`.append()`나 `.extend()` 메소드를 사용하는 것이 더 효율적일 수 있습니다.\n",
    "`.append()`는 단일 요소를, `.extend()`는 다른 리스트의 요소들을 기존 리스트에 추가합니다.\n",
    "```"
   ]
  },
  {
   "cell_type": "markdown",
   "id": "fea099b9-7492-479e-a32b-2b100b8accdc",
   "metadata": {},
   "source": [
    "\n",
    "```python\n",
    "파이썬에서 리스트와 정수의 곱셈 연산도 비슷한 원리로 작동합니다. \n",
    "리스트와 정수를 곱하면, 원래 리스트의 요소들이 정수만큼 반복되어 새로운 리스트를 생성합니다. \n",
    "이 때, 새로운 리스트는 원본 리스트의 복사본을 사용하여 구성됩니다. 원본 리스트는 변경되지 않습니다.\n",
    "\n",
    "예를 들어:\n",
    "\n",
    "original_list = [1, 2, 3]\n",
    "multiplied_list = original_list * 3\n",
    "\n",
    "print(multiplied_list)\n",
    "\n",
    "위 코드는 `[1, 2, 3]` 리스트의 요소를 3번 반복하여\n",
    "`[1, 2, 3, 1, 2, 3, 1, 2, 3]`라는 새로운 리스트를 생성하고 출력합니다. \n",
    "여기서 `original_list`는 변경되지 않으며, `multiplied_list`는 완전히 새로운 리스트 객체입니다.\n",
    "\n",
    "곱셈 연산을 사용할 때, 리스트 내부의 객체들은 실제로 복사되지 않습니다. \n",
    "단지, 같은 객체에 대한 참조들이 반복되어 포함되는 것입니다. \n",
    "즉, 리스트가 객체에 대한 참조를 포함하고 있을 경우, \n",
    "새 리스트에도 같은 객체에 대한 참조들이 여러 번 포함되게 됩니다.\n",
    "객체 자체는 하나이며, 여러 위치에서 동일한 객체를 참조하게 됩니다.\n",
    "\n",
    "이러한 특성은 특히 리스트 내부에 변경 가능한(mutable) 객체들이 있을 때 주의해야 합니다. \n",
    "예를 들어, 리스트 안에 또 다른 리스트가 요소로 포함되어 있을 경우, \n",
    "곱셈 연산을 통해 생성된 새 리스트에서 내부 리스트 요소를 변경하면, \n",
    "동일한 내부 리스트를 참조하는 모든 위치에서 변경사항이 반영됩니다.\n",
    "```"
   ]
  },
  {
   "cell_type": "code",
   "execution_count": 28,
   "id": "164a0a17-0662-41ab-9833-f46f0b1b5bcc",
   "metadata": {
    "tags": []
   },
   "outputs": [
    {
     "name": "stdout",
     "output_type": "stream",
     "text": [
      "[[1, 2, 3], [0], [4, 5, 6], [1]]\n",
      "[[1, 2, 3], [3], [4, 5, 6], [1]]\n"
     ]
    }
   ],
   "source": [
    "list1 = [[1, 2, 3],[0]]\n",
    "list2 = [[4, 5, 6],[1]]\n",
    "\n",
    "# 리스트 덧셈 연산을 사용하여 새 리스트 생성  \n",
    "result = list1 + list2\n",
    "print(result)\n",
    "\n",
    "list1[1][0] = 3\n",
    "print(result)"
   ]
  },
  {
   "cell_type": "code",
   "execution_count": 29,
   "id": "071da35c-cd91-4fa9-b3ce-8e6dc5ee3cde",
   "metadata": {
    "tags": []
   },
   "outputs": [
    {
     "name": "stdout",
     "output_type": "stream",
     "text": [
      "[[4, 5, 6], [1], [4, 5, 6], [1]]\n",
      "[[4, 5, 6], [3], [4, 5, 6], [3]]\n"
     ]
    }
   ],
   "source": [
    "# 리스트 곱셈 연산을 사용하여 새 리스트 생성  \n",
    "result = list2 * 2\n",
    "print(result)\n",
    "\n",
    "list2[1][0] = 3\n",
    "print(result)"
   ]
  },
  {
   "cell_type": "code",
   "execution_count": null,
   "id": "d150facd-d97e-4493-a442-bd697961bf0a",
   "metadata": {},
   "outputs": [],
   "source": []
  },
  {
   "cell_type": "code",
   "execution_count": 16,
   "id": "1eeb7b3d-a858-4266-b73e-9e0bfd761239",
   "metadata": {
    "tags": []
   },
   "outputs": [
    {
     "name": "stdout",
     "output_type": "stream",
     "text": [
      "[]\n",
      "[2]\n",
      "[2, 2]\n",
      "[2, 2, 2]\n",
      "[2, 2, 2, 2]\n",
      "[2, 2, 2, 3]\n",
      "[2, 2, 2, 6]\n",
      "[2, 2, 2, 7]\n",
      "[2, 2, 3]\n",
      "[2, 2, 6]\n",
      "[2, 2, 7]\n",
      "[2, 3]\n",
      "[2, 3, 3]\n",
      "[2, 3, 6]\n",
      "[2, 3, 7]\n",
      "[2, 6]\n",
      "[2, 7]\n",
      "[3]\n",
      "[3, 3]\n",
      "[3, 3, 3]\n",
      "[3, 3, 6]\n",
      "[3, 3, 7]\n",
      "[3, 6]\n",
      "[3, 7]\n",
      "[6]\n",
      "[6, 6]\n",
      "[6, 7]\n",
      "[7]\n"
     ]
    },
    {
     "data": {
      "text/plain": [
       "[[2, 2, 3], [7]]"
      ]
     },
     "execution_count": 16,
     "metadata": {},
     "output_type": "execute_result"
    }
   ],
   "source": [
    "candidates = [2,3,6,7]\n",
    "target = 7\n",
    "\n",
    "def backtrack(start, path, target):\n",
    "    # 기저 조건: target이 0이 되면 현재 path를 결과에 추가\n",
    "    print(path)\n",
    "    if target == 0:\n",
    "        result.append(path.copy())  # 현재 path의 복사본을 추가\n",
    "        return\n",
    "        \n",
    "    elif target < 0:\n",
    "        return  # 타겟을 초과하면 더 이상 진행하지 않음\n",
    "\n",
    "    for i in range(start, len(candidates)):\n",
    "        # 현재 숫자를 선택하고, 남은 타겟 값으로 재귀 호출\n",
    "        path.append(candidates[i])  # 현재 숫자 추가\n",
    "        backtrack(i, path, target - candidates[i])  # 재귀 호출\n",
    "        path.pop()  # 재귀 호출이 끝나면 마지막 숫자 제거하여 다음 숫자 시도 준비\n",
    "\n",
    "result = []\n",
    "path = []\n",
    "backtrack(0, path, target)\n",
    "result"
   ]
  },
  {
   "cell_type": "markdown",
   "id": "f2e5f010-eccd-4c80-b403-db6c8b2e039e",
   "metadata": {},
   "source": [
    "명시적 상태 변경 방식은 메모리 사용량과 실행 시간을 줄일 수 있어 성능 최적화가 중요한 상황에서 더 유리할 수 있습니다.  \n",
    "성능: 새로운 리스트를 생성하지 않기 때문에, 메모리 할당과 복사 비용이 절약됩니다.  \n",
    "이는 대규모 데이터셋이나 성능이 중요한 상황에서 유리할 수 있습니다.  \n",
    "주의 필요: path의 상태를 변경하기 때문에, 재귀 호출의 흐름을 정확히 이해하고 있어야 하며, 실수로 인한 버그가 발생할 가능성이 있습니다.  \n"
   ]
  },
  {
   "cell_type": "markdown",
   "id": "e71dff86-5dfd-47f2-9e96-ed554bea9fbf",
   "metadata": {},
   "source": [
    "### 중복순열"
   ]
  },
  {
   "cell_type": "code",
   "execution_count": 42,
   "id": "b6af4cbf-9517-4767-8c31-00f8b306c486",
   "metadata": {
    "tags": []
   },
   "outputs": [
    {
     "name": "stdout",
     "output_type": "stream",
     "text": [
      "[]\n",
      "[2]\n",
      "[2, 2]\n",
      "[2, 2, 2]\n",
      "[2, 2, 2, 2]\n",
      "[2, 2, 2, 3]\n",
      "[2, 2, 2, 6]\n",
      "[2, 2, 2, 7]\n",
      "[2, 2, 3]\n",
      "[2, 2, 6]\n",
      "[2, 2, 7]\n",
      "[2, 3]\n",
      "[2, 3, 2]\n",
      "[2, 3, 3]\n",
      "[2, 3, 6]\n",
      "[2, 3, 7]\n",
      "[2, 6]\n",
      "[2, 7]\n",
      "[3]\n",
      "[3, 2]\n",
      "[3, 2, 2]\n",
      "[3, 2, 3]\n",
      "[3, 2, 6]\n",
      "[3, 2, 7]\n",
      "[3, 3]\n",
      "[3, 3, 2]\n",
      "[3, 3, 3]\n",
      "[3, 3, 6]\n",
      "[3, 3, 7]\n",
      "[3, 6]\n",
      "[3, 7]\n",
      "[6]\n",
      "[6, 2]\n",
      "[6, 3]\n",
      "[6, 6]\n",
      "[6, 7]\n",
      "[7]\n"
     ]
    },
    {
     "data": {
      "text/plain": [
       "[[2, 2, 3], [2, 3, 2], [3, 2, 2], [7]]"
      ]
     },
     "execution_count": 42,
     "metadata": {},
     "output_type": "execute_result"
    }
   ],
   "source": [
    "candidates = [2,3,6,7]\n",
    "target = 7\n",
    "\n",
    "def backtrack(start, path, target):\n",
    "    # 기저 조건: target이 0이 되면 현재 path를 결과에 추가\n",
    "    print(path)\n",
    "    if target == 0:\n",
    "        result.append(path.copy())  # 현재 path의 복사본을 추가\n",
    "        return\n",
    "        \n",
    "    elif target < 0:\n",
    "        return  # 타겟을 초과하면 더 이상 진행하지 않음\n",
    "\n",
    "    for i in range(start, len(candidates)):\n",
    "        path.append(candidates[i])  # 현재 숫자 추가\n",
    "        backtrack(0, path, target - candidates[i])  # 재귀 호출\n",
    "        path.pop()  # 재귀 호출이 끝나면 마지막 숫자 제거하여 다음 숫자 시도 준비\n",
    "\n",
    "result = []\n",
    "path = []\n",
    "backtrack(0, path, target)\n",
    "result"
   ]
  },
  {
   "cell_type": "markdown",
   "id": "6e93bbdc-05f1-4c86-adb1-6a02c9d7a75b",
   "metadata": {},
   "source": [
    "# 문37 부분집합 m\n",
    "https://leetcode.com/problems/subsets/"
   ]
  },
  {
   "cell_type": "code",
   "execution_count": null,
   "id": "2e0bc5ce-3ee0-41fd-87fe-345c53580acb",
   "metadata": {},
   "outputs": [],
   "source": [
    "Given an integer array nums of unique elements, return all possible subsets (the power set).\n",
    "The solution set must not contain duplicate subsets. Return the solution in any order.\n",
    "\n",
    "Example 1:\n",
    "\n",
    "Input: nums = [1,2,3]\n",
    "Output: [[],[1],[2],[1,2],[3],[1,3],[2,3],[1,2,3]]\n",
    "\n",
    "class Solution:\n",
    "    def subsets(self, nums: List[int]) -> List[List[int]]:"
   ]
  },
  {
   "cell_type": "code",
   "execution_count": 92,
   "id": "0fcbe1d7-35c9-42ee-b707-b1c1c89ab86c",
   "metadata": {
    "tags": []
   },
   "outputs": [
    {
     "name": "stdout",
     "output_type": "stream",
     "text": [
      "[]\n",
      "[1]\n",
      "[1, 2]\n",
      "[1, 2, 3]\n",
      "[1, 3]\n",
      "[2]\n",
      "[2, 3]\n",
      "[3]\n"
     ]
    }
   ],
   "source": [
    "nums = [1,2,3]\n",
    "\n",
    "def backtrack(start, path):\n",
    "\n",
    "    result.append(path.copy())\n",
    "    print(path)\n",
    "    \n",
    "    for i in range(start, len(nums)):\n",
    "        \n",
    "        path.append(nums[i])\n",
    "        backtrack(i + 1, path)\n",
    "        p = path.pop()\n",
    "\n",
    "result = []\n",
    "path = []\n",
    "backtrack(0, path)"
   ]
  },
  {
   "cell_type": "code",
   "execution_count": 81,
   "id": "98a2b754-88ae-4587-9191-fd9ff839031e",
   "metadata": {
    "tags": []
   },
   "outputs": [
    {
     "name": "stdout",
     "output_type": "stream",
     "text": [
      "[]\n",
      "[1]\n",
      "[1, 2]\n",
      "[1, 2, 3]\n",
      "[1, 3]\n",
      "[2]\n",
      "[2, 3]\n",
      "[3]\n"
     ]
    }
   ],
   "source": [
    "nums = [1,2,3]\n",
    "\n",
    "def backtrack(start, path):\n",
    "    \n",
    "    result.append(path)\n",
    "    print(path)\n",
    "    for i in range(start, len(nums)):\n",
    "        backtrack(i+1, path+[nums[i]])\n",
    "        \n",
    "result = []\n",
    "path = []\n",
    "\n",
    "backtrack(0, path)"
   ]
  },
  {
   "cell_type": "markdown",
   "id": "29edb3b3-9b21-4b61-b74c-706813a656e6",
   "metadata": {},
   "source": [
    "# 문39 코스 스케줄\n",
    "https://leetcode.com/problems/course-schedule"
   ]
  },
  {
   "cell_type": "code",
   "execution_count": null,
   "id": "23eac538-9d16-40b2-9557-717889812b99",
   "metadata": {},
   "outputs": [],
   "source": [
    "There are a total of numCourses courses you have to take, labeled from 0 to numCourses - 1. \n",
    "You are given an array prerequisites where prerequisites[i] = [ai, bi] indicates that you must take course bi first if you want to take course ai.\n",
    "\n",
    "For example, the pair [0, 1], indicates that to take course 0 you have to first take course 1.\n",
    "Return true if you can finish all courses. Otherwise, return false.\n",
    "\n",
    "Example 1:\n",
    "\n",
    "Input: numCourses = 2, prerequisites = [[1,0]]\n",
    "Output: true\n",
    "Explanation: There are a total of 2 courses to take. \n",
    "To take course 1 you should have finished course 0. So it is possible.\n",
    "\n",
    "Example 2:\n",
    "\n",
    "Input: numCourses = 2, prerequisites = [[1,0],[0,1]]\n",
    "Output: false\n",
    "Explanation: There are a total of 2 courses to take. \n",
    "To take course 1 you should have finished course 0, and to take course 0 you should also have finished course 1. So it is impossible.\n",
    "\n",
    "class Solution:\n",
    "    def canFinish(self, numCourses: int, prerequisites: List[List[int]]) -> bool:\n",
    "        "
   ]
  },
  {
   "cell_type": "markdown",
   "id": "ea0b156c-72ad-48fe-b7ab-c660fd5b8c6d",
   "metadata": {},
   "source": [
    "# 문38 일정 재구성 m\n",
    "https://leetcode.com/problems/reconstruct-itinerary"
   ]
  },
  {
   "cell_type": "code",
   "execution_count": null,
   "id": "ff78e876-563d-4e5e-9578-e9797a4d056a",
   "metadata": {},
   "outputs": [],
   "source": [
    "You are given a list of airline tickets where tickets[i] = [fromi, toi] represent the departure \n",
    "and the arrival airports of one flight. Reconstruct the itinerary in order and return it.\n",
    "\n",
    "All of the tickets belong to a man who departs from \"JFK\", \n",
    "thus, the itinerary must begin with \"JFK\". If there are multiple valid itineraries, \n",
    "you should return the itinerary that has the smallest lexical order when read as a single string.\n",
    "\n",
    "For example, the itinerary [\"JFK\", \"LGA\"] has a smaller lexical order than [\"JFK\", \"LGB\"].\n",
    "You may assume all tickets form at least one valid itinerary. You must use all the tickets once and only once.\n",
    "\n",
    "Example 1:\n",
    "\n",
    "Input: tickets = [[\"MUC\",\"LHR\"],[\"JFK\",\"MUC\"],[\"SFO\",\"SJC\"],[\"LHR\",\"SFO\"]]\n",
    "Output: [\"JFK\",\"MUC\",\"LHR\",\"SFO\",\"SJC\"]\n",
    "\n",
    "class Solution:\n",
    "    def findItinerary(self, tickets: List[List[str]]) -> List[str]:\n",
    "        "
   ]
  }
 ],
 "metadata": {
  "kernelspec": {
   "display_name": "Python 3 (ipykernel)",
   "language": "python",
   "name": "python3"
  },
  "language_info": {
   "codemirror_mode": {
    "name": "ipython",
    "version": 3
   },
   "file_extension": ".py",
   "mimetype": "text/x-python",
   "name": "python",
   "nbconvert_exporter": "python",
   "pygments_lexer": "ipython3",
   "version": "3.11.0"
  }
 },
 "nbformat": 4,
 "nbformat_minor": 5
}
