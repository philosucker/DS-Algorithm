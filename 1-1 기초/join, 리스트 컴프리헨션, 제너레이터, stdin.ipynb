{
 "cells": [
  {
   "cell_type": "markdown",
   "id": "5f4f41e3-c6da-43d0-b21e-5c13851e954b",
   "metadata": {},
   "source": [
    "# 프 2장"
   ]
  },
  {
   "cell_type": "markdown",
   "id": "8c89ffff-c34a-43b1-81a7-70e367f6291d",
   "metadata": {},
   "source": [
    "아래 구구단 함수 모두 O(n) 이 걸린다. "
   ]
  },
  {
   "cell_type": "code",
   "execution_count": 5,
   "id": "bf169cd8-7d0e-47d3-b636-50c4a1838b6e",
   "metadata": {
    "tags": []
   },
   "outputs": [
    {
     "name": "stdout",
     "output_type": "stream",
     "text": [
      "elapsed_time: 38.47856140136719\n",
      "elapsed_time: 180.63191413879395\n"
     ]
    }
   ],
   "source": [
    "def multiplication_table(n):\n",
    "    for i in range(1, 10):\n",
    "        # print(f'{n} x {i} = {n*i}')\n",
    "        n*i\n",
    "    \n",
    "multiplication_table(9)\n",
    "\n",
    "def multiplication_table_2(n):\n",
    "    for i in range(n, 10):\n",
    "        for j in range(1, 10):\n",
    "            # print(f'{i} x {j} = {i*j}')\n",
    "            i*j\n",
    "\n",
    "multiplication_table_2(8)\n",
    "\n",
    "\n",
    "import time\n",
    "import random\n",
    "\n",
    "data = [random.randrange(1, 10) for i in range(100000000)]\n",
    "start_time = time.time()\n",
    "\n",
    "for num in data:\n",
    "    multiplication_table(num)\n",
    "print(f'elapsed_time: {time.time()-start_time}')\n",
    "\n",
    "start_time = time.time()\n",
    "\n",
    "for num in data:\n",
    "    multiplication_table_2(num)\n",
    "print(f'elapsed_time: {time.time()-start_time}')"
   ]
  },
  {
   "cell_type": "markdown",
   "id": "43e7e1fc-353a-4468-992c-eaf0b2941435",
   "metadata": {},
   "source": [
    "#### 문자열을 합칠땐 + 연산자를 쓰지 말고 리스트로 바꿔 join()을 쓰는 게 좋다"
   ]
  },
  {
   "cell_type": "markdown",
   "id": "69364371-9856-4a88-94bc-79ec54bce77f",
   "metadata": {},
   "source": [
    "    if 식에서 조건이 여러개 있을 땐, \n",
    "    두 조건 중 빨리 실행되는 쪽을 앞쪽에 배치하는 게 좋다.\n",
    "    \n",
    "        and의 경우 false가 나오기 쉬운 걸 앞에 넣으면, \n",
    "        false가 나왔을 때 and 뒤 연산은 하지 않는다\n",
    "\n",
    "        or의 경우 True가 나오기 쉬운걸 앞에 넣으면, \n",
    "        연산결과가 True일 때 or 뒤 연산은 하지 않는다"
   ]
  },
  {
   "cell_type": "markdown",
   "id": "30ccc87e-3759-4433-a2dd-9dae45d64b49",
   "metadata": {},
   "source": [
    "#### 리스트 초기화 방법"
   ]
  },
  {
   "cell_type": "code",
   "execution_count": 2,
   "id": "a80ed6be-d1a0-4329-90ce-495c4e4744a6",
   "metadata": {
    "tags": []
   },
   "outputs": [],
   "source": [
    "import time"
   ]
  },
  {
   "cell_type": "markdown",
   "id": "b6babb28-c262-4cad-adcd-68d15c11e2ca",
   "metadata": {},
   "source": [
    "    [0]으로 초기화 해서 * 연산자 쓰는게\n",
    "    리스트 컴프리헨션을 쓰는 것보다\n",
    "    5배 정도 빠르다"
   ]
  },
  {
   "cell_type": "code",
   "execution_count": 3,
   "id": "0559201e-e85c-4740-bf6c-7cd2421b016f",
   "metadata": {
    "tags": []
   },
   "outputs": [
    {
     "data": {
      "text/plain": [
       "2.156259775161743"
      ]
     },
     "execution_count": 3,
     "metadata": {},
     "output_type": "execute_result"
    }
   ],
   "source": [
    "start = time.time()\n",
    "data1 = [ 0 for _ in range(100000000)]\n",
    "time.time()-start"
   ]
  },
  {
   "cell_type": "code",
   "execution_count": 4,
   "id": "d67c91ae-be2c-403c-b31c-d6e1a5fdf2dc",
   "metadata": {
    "tags": []
   },
   "outputs": [
    {
     "data": {
      "text/plain": [
       "0.40489649772644043"
      ]
     },
     "execution_count": 4,
     "metadata": {},
     "output_type": "execute_result"
    }
   ],
   "source": [
    "start = time.time()\n",
    "data2 = [0] * 100000000\n",
    "time.time()-start"
   ]
  },
  {
   "cell_type": "code",
   "execution_count": 6,
   "id": "0303415a-7a44-414c-88f4-30a04516f86b",
   "metadata": {
    "tags": []
   },
   "outputs": [
    {
     "data": {
      "text/plain": [
       "39.59374642372131"
      ]
     },
     "execution_count": 6,
     "metadata": {},
     "output_type": "execute_result"
    }
   ],
   "source": [
    "start = time.time()\n",
    "data1 = [ 0 for _ in range(1000000000)]\n",
    "time.time()-start"
   ]
  },
  {
   "cell_type": "code",
   "execution_count": 5,
   "id": "f887a618-e433-4e7c-86a9-e9d6bd3e96fe",
   "metadata": {
    "tags": []
   },
   "outputs": [
    {
     "data": {
      "text/plain": [
       "8.851893186569214"
      ]
     },
     "execution_count": 5,
     "metadata": {},
     "output_type": "execute_result"
    }
   ],
   "source": [
    "start = time.time()\n",
    "data2 = [0] * 1000000000\n",
    "time.time()-start"
   ]
  },
  {
   "cell_type": "markdown",
   "id": "e8a1eece-351f-4789-b2a7-b4162a85e479",
   "metadata": {},
   "source": [
    "    data1 = [0 for _ in range(100000000)]\n",
    "\n",
    "    이 코드에서 리스트 컴프리헨션은 \n",
    "    100000000번 반복문을 실행하면서 각 반복에서 0을 리스트에 추가합니다. \n",
    "    따라서 리스트의 크기가 1억일 때, 1억번의 연산이 \n",
    "    10억일 땐 10억번의 연산이 필요합니다. \n",
    "    즉, 초기화에 걸리는 시간은 리스트의 크기에 비례하므로 시간 복잡도는 O(n)입니다.\n",
    "\n",
    "    반면에, data2 = [0] * 100000000 코드에서 * 연산자는 \n",
    "    이미 초기화된 0 값 하나를 100000000번 복사(반복)하여 리스트를 생성합니다. \n",
    "\n",
    "    복사 연산은 리스트의 크기에 비례하지 않고, \n",
    "    이미 초기화된 값 하나를 복사하는 작업이므로 상수 시간이 소요됩니다.\n",
    "\n",
    "    즉 리스트의 크기가 1억이든, 10억이든, 관계없이 한 번의 복사 연산만이 필요합니다. \n",
    "    따라서 * 연산자를 사용하여 리스트를 초기화할 때는 \n",
    "    초기화에 걸리는 시간이 입력 크기에 비례하지 않고 항상 일정합니다. \n",
    "    이것이 \"상수 시간\"에 초기화된다는 의미입니다."
   ]
  },
  {
   "cell_type": "code",
   "execution_count": null,
   "id": "c82c1405-ed64-4489-96f9-e7b1a10d97c5",
   "metadata": {},
   "outputs": [],
   "source": []
  },
  {
   "cell_type": "markdown",
   "id": "bae84493-609b-4e78-a009-ef4f57ae6db7",
   "metadata": {},
   "source": [
    "#### 컴프리헨션 활용하기 O(n)"
   ]
  },
  {
   "cell_type": "markdown",
   "id": "988972f2-828b-4118-8142-da5508f34c9b",
   "metadata": {},
   "source": [
    "조건식을 중첩하면 and로 취급"
   ]
  },
  {
   "cell_type": "code",
   "execution_count": 7,
   "id": "0a05852e-f1fc-4692-a161-fbec0b215948",
   "metadata": {},
   "outputs": [
    {
     "data": {
      "text/plain": [
       "[5, 15]"
      ]
     },
     "execution_count": 7,
     "metadata": {},
     "output_type": "execute_result"
    }
   ],
   "source": [
    "[i+5 for i in range(11) if i%2==0 if i%5==0]"
   ]
  },
  {
   "cell_type": "markdown",
   "id": "7364ed0e-cf98-42b7-9c0f-a390e71d2e55",
   "metadata": {},
   "source": [
    "컴프리헨션은 반복문에서 돌린만큼의 데이터를 모두 생성하기 때문에 공간복잡도를 고려해야한다"
   ]
  },
  {
   "cell_type": "markdown",
   "id": "6d47a7b3-b748-48cc-9396-043db3d72aed",
   "metadata": {},
   "source": [
    "#### 제너레이터 활용하기"
   ]
  },
  {
   "cell_type": "code",
   "execution_count": 26,
   "id": "78dcd625-411e-4381-b176-71ce680ffb54",
   "metadata": {
    "tags": []
   },
   "outputs": [],
   "source": [
    "gen1 = (i for i in range(1, 11))\n",
    "# 제너레이터 gen1은 1에서 10까지의 range이터러블로부터 이터레이터를 반환한다."
   ]
  },
  {
   "cell_type": "code",
   "execution_count": 27,
   "id": "a83d8579-dece-4fb3-a196-91341584bcef",
   "metadata": {
    "tags": []
   },
   "outputs": [
    {
     "data": {
      "text/plain": [
       "1"
      ]
     },
     "execution_count": 27,
     "metadata": {},
     "output_type": "execute_result"
    }
   ],
   "source": [
    "next(gen1)"
   ]
  },
  {
   "cell_type": "code",
   "execution_count": 28,
   "id": "c40994d1-7994-48a9-b67b-dcffd18da6d8",
   "metadata": {
    "tags": []
   },
   "outputs": [
    {
     "data": {
      "text/plain": [
       "'제너레이터 gen2은 1에서 10까지의 range이터러블로부터 이터레이터를 반환한다.\\n'"
      ]
     },
     "execution_count": 28,
     "metadata": {},
     "output_type": "execute_result"
    }
   ],
   "source": [
    "def gen2():\n",
    "    for i in range(1, 11):\n",
    "        yield i\n",
    "\"\"\"제너레이터 gen2은 1에서 10까지의 range이터러블로부터 이터레이터를 반환한다.\n",
    "\"\"\""
   ]
  },
  {
   "cell_type": "code",
   "execution_count": 29,
   "id": "3edc1abd-b87e-42d2-8a4a-607610424011",
   "metadata": {},
   "outputs": [],
   "source": [
    "gen = gen2()\n",
    "# 제너레이터 gen2를 이터레이터 gen으로 만든다"
   ]
  },
  {
   "cell_type": "code",
   "execution_count": 30,
   "id": "5ff79c59-f0dd-4210-b6b7-d501a8f17e3e",
   "metadata": {
    "tags": []
   },
   "outputs": [
    {
     "data": {
      "text/plain": [
       "1"
      ]
     },
     "execution_count": 30,
     "metadata": {},
     "output_type": "execute_result"
    }
   ],
   "source": [
    "gen.__next__()"
   ]
  },
  {
   "cell_type": "code",
   "execution_count": 31,
   "id": "dddb96b1-0f95-49f5-a96b-bbe3a893d9e1",
   "metadata": {
    "tags": []
   },
   "outputs": [
    {
     "data": {
      "text/plain": [
       "2"
      ]
     },
     "execution_count": 31,
     "metadata": {},
     "output_type": "execute_result"
    }
   ],
   "source": [
    "next(gen)   "
   ]
  },
  {
   "cell_type": "code",
   "execution_count": 40,
   "id": "83b8e644-40cd-4f7b-b980-94855a71b1ac",
   "metadata": {
    "tags": []
   },
   "outputs": [
    {
     "name": "stdout",
     "output_type": "stream",
     "text": [
      "comprehension_time: 0.01019430160522461\n",
      "comprehension_memory_size: 8448728Bytes, which means 8.057334899902344MB\n",
      "generator_time: 0.0745391845703125\n",
      "generator_memory_size: 208Bytes\n"
     ]
    }
   ],
   "source": [
    "from sys import getsizeof\n",
    "import time\n",
    "\n",
    "comprehension = [num**2 for num in range(1000000)]\n",
    "start_time = time.time()\n",
    "sum_comprehension = sum(comprehension)\n",
    "print(f'comprehension_time: {time.time()-start_time}')\n",
    "print(f'comprehension_memory_size: {getsizeof(comprehension)}Bytes, which means {getsizeof(comprehension)/1024/1024}MB')\n",
    "\n",
    "generator = (num**2 for num in range(1000000))\n",
    "start_time = time.time()\n",
    "sum_generator = sum(generator)\n",
    "print(f'generator_time: {time.time()-start_time}')\n",
    "print(f'generator_memory_size: {getsizeof(generator)}Bytes')\n"
   ]
  },
  {
   "cell_type": "code",
   "execution_count": 258,
   "id": "2d68023d-35e3-4658-b5ed-9c08f4785835",
   "metadata": {
    "tags": []
   },
   "outputs": [
    {
     "data": {
      "text/plain": [
       "333332833333500000"
      ]
     },
     "execution_count": 258,
     "metadata": {},
     "output_type": "execute_result"
    }
   ],
   "source": [
    "sum_comprehension"
   ]
  },
  {
   "cell_type": "code",
   "execution_count": 266,
   "id": "c7de8760-4e0a-44ec-802d-9f9c95fe07db",
   "metadata": {
    "tags": []
   },
   "outputs": [
    {
     "data": {
      "text/plain": [
       "333332833333500000"
      ]
     },
     "execution_count": 266,
     "metadata": {},
     "output_type": "execute_result"
    }
   ],
   "source": [
    "sum_generator"
   ]
  },
  {
   "cell_type": "code",
   "execution_count": 261,
   "id": "f81f2bcc-e2f8-48a3-8ce7-9e714302bc7a",
   "metadata": {
    "tags": []
   },
   "outputs": [
    {
     "data": {
      "text/plain": [
       "[0,\n",
       " 1,\n",
       " 4,\n",
       " 9,\n",
       " 16,\n",
       " 25,\n",
       " 36,\n",
       " 49,\n",
       " 64,\n",
       " 81,\n",
       " 100,\n",
       " 121,\n",
       " 144,\n",
       " 169,\n",
       " 196,\n",
       " 225,\n",
       " 256,\n",
       " 289,\n",
       " 324,\n",
       " 361,\n",
       " 400,\n",
       " 441,\n",
       " 484,\n",
       " 529,\n",
       " 576,\n",
       " 625,\n",
       " 676,\n",
       " 729,\n",
       " 784,\n",
       " 841,\n",
       " 900,\n",
       " 961,\n",
       " 1024,\n",
       " 1089,\n",
       " 1156,\n",
       " 1225,\n",
       " 1296,\n",
       " 1369,\n",
       " 1444,\n",
       " 1521,\n",
       " 1600,\n",
       " 1681,\n",
       " 1764,\n",
       " 1849,\n",
       " 1936,\n",
       " 2025,\n",
       " 2116,\n",
       " 2209,\n",
       " 2304,\n",
       " 2401]"
      ]
     },
     "execution_count": 261,
     "metadata": {},
     "output_type": "execute_result"
    }
   ],
   "source": [
    "comprehension[:50]"
   ]
  },
  {
   "cell_type": "code",
   "execution_count": 267,
   "id": "6d7dd5c5-b3ac-4427-a14c-c6d20411e3a5",
   "metadata": {
    "tags": []
   },
   "outputs": [
    {
     "ename": "StopIteration",
     "evalue": "",
     "output_type": "error",
     "traceback": [
      "\u001b[0;31m---------------------------------------------------------------------------\u001b[0m",
      "\u001b[0;31mStopIteration\u001b[0m                             Traceback (most recent call last)",
      "Cell \u001b[0;32mIn[267], line 1\u001b[0m\n\u001b[0;32m----> 1\u001b[0m \u001b[38;5;28mnext\u001b[39m(generator)\n",
      "\u001b[0;31mStopIteration\u001b[0m: "
     ]
    }
   ],
   "source": [
    "next(generator)"
   ]
  },
  {
   "cell_type": "code",
   "execution_count": 269,
   "id": "978bd7f6-eb06-43f1-b00d-98ba377d468d",
   "metadata": {
    "tags": []
   },
   "outputs": [],
   "source": [
    "generator = (num**2 for num in range(1000000))"
   ]
  },
  {
   "cell_type": "code",
   "execution_count": 316,
   "id": "5605b476-c0e5-4b1a-8377-cfee8babf851",
   "metadata": {
    "tags": []
   },
   "outputs": [
    {
     "data": {
      "text/plain": [
       "2116"
      ]
     },
     "execution_count": 316,
     "metadata": {},
     "output_type": "execute_result"
    }
   ],
   "source": [
    "next(generator)"
   ]
  },
  {
   "cell_type": "markdown",
   "id": "cdefd543-8597-48fb-a4f6-fd3a952b0885",
   "metadata": {},
   "source": [
    "#### readline() 입력 속도를 빠르게"
   ]
  },
  {
   "cell_type": "code",
   "execution_count": 4,
   "id": "c801efd4-fc13-4b4e-9e03-92aaf3aee134",
   "metadata": {},
   "outputs": [],
   "source": [
    "import sys\n",
    "data = sys.stdin.readline()"
   ]
  },
  {
   "cell_type": "code",
   "execution_count": 3,
   "id": "c3ba6b79-ba62-4d4d-83bb-555e7bc40fdb",
   "metadata": {
    "tags": []
   },
   "outputs": [
    {
     "name": "stdout",
     "output_type": "stream",
     "text": [
      "\n"
     ]
    }
   ],
   "source": [
    "print(data)"
   ]
  },
  {
   "cell_type": "markdown",
   "id": "127fb157-48f2-438d-a92e-8e27914fa835",
   "metadata": {},
   "source": [
    "    sys.stdin.readline() 함수는 \n",
    "    대화형 환경(예: 터미널, 명령 프롬프트)에서 사용자로부터 입력을 받는데 적합합니다. \n",
    "    대화형 환경에서는 사용자가 직접 키보드로 입력을 제공할 수 있습니다.\n",
    "\n",
    "    그러나 스크립트가 실행되는 환경(예: 텍스트 에디터, 통합 개발 환경)에서는 \n",
    "    사용자가 실시간으로 입력을 제공할 수 없기 때문에 프로그램이 블록될 수 있습니다. \n",
    "    즉, 스크립트가 실행되는 환경에서는 사용자의 입력을 기다리면서 작업을 수행하지 않습니다.\n",
    "\n",
    "    따라서, 일반적인 파이썬 스크립트에서 사용자로부터 입력을 받으려면 \n",
    "    input() 함수를 사용하는 것이 훨씬 더 일반적이고 적합한 방법입니다. \n",
    "    input() 함수는 스크립트가 실행되는 환경에서도 사용자의 입력을 받을 수 있습니다. \n",
    "    아래는 input() 함수를 사용하는 예제입니다:\n",
    "\n",
    "    # 사용자로부터 입력을 받아서 data 변수에 저장합니다.\n",
    "    data = input(\"입력하세요: \")\n",
    "\n",
    "    # 입력된 값을 출력합니다.\n",
    "    print(\"사용자 입력값:\", data)\n",
    "\n",
    "    이렇게 하면 스크립트가 실행되는 환경에서도 사용자의 입력을 받을 수 있습니다."
   ]
  },
  {
   "cell_type": "code",
   "execution_count": 8,
   "id": "c869061e-696f-4ade-b182-9b5a5507efa0",
   "metadata": {
    "tags": []
   },
   "outputs": [],
   "source": [
    "data = list(map(int,sys.stdin.readline().split()))"
   ]
  },
  {
   "cell_type": "code",
   "execution_count": 10,
   "id": "93e79a2f-83cf-4d75-adb0-6047eefbe069",
   "metadata": {
    "tags": []
   },
   "outputs": [
    {
     "ename": "ValueError",
     "evalue": "invalid literal for int() with base 10: ''",
     "output_type": "error",
     "traceback": [
      "\u001b[0;31m---------------------------------------------------------------------------\u001b[0m",
      "\u001b[0;31mValueError\u001b[0m                                Traceback (most recent call last)",
      "Cell \u001b[0;32mIn[10], line 3\u001b[0m\n\u001b[1;32m      1\u001b[0m \u001b[38;5;28;01mimport\u001b[39;00m \u001b[38;5;21;01msys\u001b[39;00m\n\u001b[1;32m      2\u001b[0m data \u001b[38;5;241m=\u001b[39m []\n\u001b[0;32m----> 3\u001b[0m n \u001b[38;5;241m=\u001b[39m \u001b[38;5;28mint\u001b[39m(sys\u001b[38;5;241m.\u001b[39mstdin\u001b[38;5;241m.\u001b[39mreadline())\n\u001b[1;32m      4\u001b[0m \u001b[38;5;28;01mfor\u001b[39;00m i \u001b[38;5;129;01min\u001b[39;00m \u001b[38;5;28mrange\u001b[39m(n):\n\u001b[1;32m      5\u001b[0m     data\u001b[38;5;241m.\u001b[39mappend(\u001b[38;5;28mlist\u001b[39m(\u001b[38;5;28mmap\u001b[39m(\u001b[38;5;28mint\u001b[39m,sys\u001b[38;5;241m.\u001b[39mstdin\u001b[38;5;241m.\u001b[39mreadline()\u001b[38;5;241m.\u001b[39msplit())))\n",
      "\u001b[0;31mValueError\u001b[0m: invalid literal for int() with base 10: ''"
     ]
    }
   ],
   "source": [
    "# 터미널에서\n",
    "import sys\n",
    "data = []\n",
    "n = int(sys.stdin.readline())\n",
    "for i in range(n):\n",
    "    data.append(list(map(int,sys.stdin.readline().split())))"
   ]
  },
  {
   "cell_type": "code",
   "execution_count": 11,
   "id": "1f4e6685-5200-4c6a-8202-a166c62496c4",
   "metadata": {
    "tags": []
   },
   "outputs": [
    {
     "ename": "ValueError",
     "evalue": "invalid literal for int() with base 10: ''",
     "output_type": "error",
     "traceback": [
      "\u001b[0;31m---------------------------------------------------------------------------\u001b[0m",
      "\u001b[0;31mValueError\u001b[0m                                Traceback (most recent call last)",
      "Cell \u001b[0;32mIn[11], line 2\u001b[0m\n\u001b[1;32m      1\u001b[0m \u001b[38;5;28;01mimport\u001b[39;00m \u001b[38;5;21;01msys\u001b[39;00m\n\u001b[0;32m----> 2\u001b[0m n \u001b[38;5;241m=\u001b[39m \u001b[38;5;28mint\u001b[39m(sys\u001b[38;5;241m.\u001b[39mstdin\u001b[38;5;241m.\u001b[39mreadline())\n\u001b[1;32m      3\u001b[0m data \u001b[38;5;241m=\u001b[39m [sys\u001b[38;5;241m.\u001b[39mstdin\u001b[38;5;241m.\u001b[39mreadline()\u001b[38;5;241m.\u001b[39mstrip() \u001b[38;5;28;01mfor\u001b[39;00m i \u001b[38;5;129;01min\u001b[39;00m \u001b[38;5;28mrange\u001b[39m(n)]\n",
      "\u001b[0;31mValueError\u001b[0m: invalid literal for int() with base 10: ''"
     ]
    }
   ],
   "source": [
    "# 터미널에서\n",
    "import sys\n",
    "n = int(sys.stdin.readline())\n",
    "data = [sys.stdin.readline().strip() for i in range(n)]"
   ]
  },
  {
   "cell_type": "code",
   "execution_count": null,
   "id": "0d55dcd0-536d-41db-84a0-4362d38eae7f",
   "metadata": {},
   "outputs": [],
   "source": []
  }
 ],
 "metadata": {
  "kernelspec": {
   "display_name": "tf",
   "language": "python",
   "name": "tf"
  },
  "language_info": {
   "codemirror_mode": {
    "name": "ipython",
    "version": 3
   },
   "file_extension": ".py",
   "mimetype": "text/x-python",
   "name": "python",
   "nbconvert_exporter": "python",
   "pygments_lexer": "ipython3",
   "version": "3.11.0"
  }
 },
 "nbformat": 4,
 "nbformat_minor": 5
}
