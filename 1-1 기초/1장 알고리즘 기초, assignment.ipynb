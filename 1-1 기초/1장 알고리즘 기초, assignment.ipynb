{
 "cells": [
  {
   "cell_type": "markdown",
   "id": "a4c7ab88-9290-4ac6-b930-f9e663a05e82",
   "metadata": {},
   "source": [
    "# 문1 세 정수의 최대값 구하기"
   ]
  },
  {
   "cell_type": "code",
   "execution_count": 6,
   "id": "9c4f905b-ac99-45e1-91aa-ba7ff0f2063c",
   "metadata": {
    "tags": []
   },
   "outputs": [
    {
     "name": "stdin",
     "output_type": "stream",
     "text": [
      "첫번째 정수를 입력하세요:  123\n",
      "두번째 정수를 입력하세요:  -8\n",
      "세번째 정수를 입력하세요:  23415\n"
     ]
    },
    {
     "data": {
      "text/plain": [
       "23415"
      ]
     },
     "execution_count": 6,
     "metadata": {},
     "output_type": "execute_result"
    }
   ],
   "source": [
    "def find_maximum() -> int:\n",
    "    \n",
    "    first = int(input(\"첫번째 정수를 입력하세요: \"))\n",
    "    second = int(input(\"두번째 정수를 입력하세요: \"))\n",
    "    third = int(input(\"세번째 정수를 입력하세요: \"))\n",
    "    \n",
    "    max_value = first\n",
    "    \n",
    "    if second > max_value: max_value = second\n",
    "    if third > max_value: max_value = third\n",
    "    \n",
    "    return max_value\n",
    "\n",
    "find_maximum()"
   ]
  },
  {
   "cell_type": "code",
   "execution_count": 7,
   "id": "3319038f-d5cc-4976-b287-a1f43f1b6de8",
   "metadata": {
    "tags": []
   },
   "outputs": [],
   "source": [
    "def find_minimum() -> int:\n",
    "    first = int(input(\"첫번째 정수를 입력하세요: \"))\n",
    "    second = int(input(\"두번째 정수를 입력하세요: \"))\n",
    "    third = int(input(\"세번째 정수를 입력하세요: \"))\n",
    "    \n",
    "    min_ = first\n",
    "    if second < min_:\n",
    "        min_ = second\n",
    "    if third < min_:\n",
    "        min_ = third\n",
    "        \n",
    "    return min_"
   ]
  },
  {
   "cell_type": "markdown",
   "id": "5dc0054e-a739-4701-92a7-d7f1aac3dbe5",
   "metadata": {},
   "source": [
    "# 문2 input() 함수의 기능"
   ]
  },
  {
   "cell_type": "markdown",
   "id": "d2f90b3e-7d1d-4048-9783-375a47c6f7ec",
   "metadata": {},
   "source": [
    "문자열을 입력받아 반환한다"
   ]
  },
  {
   "cell_type": "code",
   "execution_count": null,
   "id": "192b2f4f-dffa-4f64-8489-c6f620c9512a",
   "metadata": {
    "id": "192b2f4f-dffa-4f64-8489-c6f620c9512a",
    "outputId": "f14c3f51-dff1-4143-9ef9-8d6eafe7cd63"
   },
   "outputs": [],
   "source": [
    "name = input(\"이름을 입력하세요: \")"
   ]
  },
  {
   "cell_type": "code",
   "execution_count": 2,
   "id": "66d13fc8-9394-4088-9d3a-08c614927c28",
   "metadata": {
    "id": "66d13fc8-9394-4088-9d3a-08c614927c28",
    "outputId": "5a664f10-36e4-466e-d8bc-3333dbc67a4a"
   },
   "outputs": [
    {
     "name": "stdout",
     "output_type": "stream",
     "text": [
      "안녕하세요? 이창호 님.\n"
     ]
    }
   ],
   "source": [
    "print(f'안녕하세요? {name} 님.')"
   ]
  },
  {
   "cell_type": "markdown",
   "id": "12c47f3d-59b4-49a5-8ded-d1bb29a806f8",
   "metadata": {},
   "source": [
    "# 문3  int(), float() 함수의 기능"
   ]
  },
  {
   "cell_type": "markdown",
   "id": "4f0779b0-9a82-4e43-bd94-d4a659186f2f",
   "metadata": {
    "tags": []
   },
   "source": [
    "문자열을 입력받아 정수, 실수를 반환한다"
   ]
  },
  {
   "cell_type": "code",
   "execution_count": 11,
   "id": "8104edb2-a14e-4713-b09e-916ccdf16f50",
   "metadata": {
    "id": "8104edb2-a14e-4713-b09e-916ccdf16f50",
    "outputId": "1462b332-6918-400e-f557-0f16452f7c12"
   },
   "outputs": [
    {
     "name": "stdin",
     "output_type": "stream",
     "text": [
      "정수를 입력하세요:  2345\n"
     ]
    },
    {
     "name": "stdout",
     "output_type": "stream",
     "text": [
      "이 수는 양수입니다\n"
     ]
    }
   ],
   "source": [
    "def decision_int():\n",
    "    n = int(input(\"정수를 입력하세요: \"))\n",
    "    \n",
    "    if n > 0:\n",
    "        print(\"이 수는 양수입니다\")\n",
    "    elif n < 0:\n",
    "        print(\"이 수는 음수입니다\")\n",
    "    else:\n",
    "        print(\"이 수는 0입니다\")\n",
    "        \n",
    "decision_int()"
   ]
  },
  {
   "cell_type": "markdown",
   "id": "a54bd843-57f1-4566-9882-95583311ca05",
   "metadata": {
    "id": "91d54b5b-2c6e-48a5-95c2-4555d128b259"
   },
   "source": [
    "# 문4 조건문에서 헤더와 스위트의 작성규칙"
   ]
  },
  {
   "cell_type": "code",
   "execution_count": 29,
   "id": "0999c1aa-6829-4660-8acc-722dccdaf17a",
   "metadata": {
    "tags": []
   },
   "outputs": [
    {
     "name": "stdin",
     "output_type": "stream",
     "text": [
      "정수를 입력하세요:  0\n"
     ]
    },
    {
     "name": "stdout",
     "output_type": "stream",
     "text": [
      "0은 0입니다\n",
      "0도 정수입니다\n"
     ]
    }
   ],
   "source": [
    "def decision_int() -> int:\n",
    "    \n",
    "    try:\n",
    "        n = int(input(\"정수를 입력하세요: \"))\n",
    "    except ValueError:\n",
    "        print(\"정수를 입력해주세요\")\n",
    "        return decision_int()\n",
    "       \n",
    "    if 0 < n:   # 헤더 \n",
    "        print(f'{n}은 양수입니다') # 스위트\n",
    "        \n",
    "    elif 0 == n: print(f'{n}은 0입니다'); print(f'{n}도 정수입니다')  # 스위트가 단순문이면 헤더와 같은 행에 둘 수 있다.\n",
    "                                         # 단순문이 2개 이상이면 ; 세미콜론을 써서 헤더와 같은 행에 둘 수 있다\n",
    "    \n",
    "    else: print(f'{n}은 음수입니다')\n",
    "\n",
    "decision_int()"
   ]
  },
  {
   "cell_type": "markdown",
   "id": "4f6ca8a0-ff4b-499a-97a3-c5e0153a9024",
   "metadata": {
    "tags": []
   },
   "source": [
    "# 문5 elif 사용법"
   ]
  },
  {
   "cell_type": "markdown",
   "id": "bf94be68-12db-4bd6-9223-4696218d90ec",
   "metadata": {},
   "source": [
    "    elif는 첫 번째 if 조건이 False일 때 실행되며, \n",
    "    이후의 elif 블록들은 이전 elif 또는 if 조건들이 모두 False일 때만 평가됩니다. \n",
    "    else 블록은 모든 if 및 elif 조건들이 False일 때 실행됩니다."
   ]
  },
  {
   "cell_type": "code",
   "execution_count": 20,
   "id": "1a75890e-fb07-473a-a752-b7ad29855fc1",
   "metadata": {
    "tags": []
   },
   "outputs": [
    {
     "name": "stdout",
     "output_type": "stream",
     "text": [
      "x는 20 이상이지만 30보다 작습니다.\n"
     ]
    }
   ],
   "source": [
    "x = 20\n",
    "\n",
    "if x < 10:\n",
    "    print(\"x는 10보다 작습니다.\")\n",
    "elif x < 20:                                # 바꿔쓰면 elif 10 <= x < 20:\n",
    "    print(\"x는 10 이상이지만 20보다 작습니다.\")\n",
    "elif x < 30:                                # 바꿔쓰면 elif 20 <= x < 30:\n",
    "    print(\"x는 20 이상이지만 30보다 작습니다.\")\n",
    "else:                                       # 바꿔쓰면 if 30 <= x:\n",
    "    print(\"x는 30 이상입니다.\")"
   ]
  },
  {
   "cell_type": "markdown",
   "id": "4073e7c4-c81f-4b08-8c8d-9d3e28f040fd",
   "metadata": {},
   "source": [
    "# 문6 세 정수의 중앙값 구하기"
   ]
  },
  {
   "cell_type": "code",
   "execution_count": 31,
   "id": "4cf46d3a-ed9a-4ac4-987c-a10469514809",
   "metadata": {
    "tags": []
   },
   "outputs": [
    {
     "name": "stdin",
     "output_type": "stream",
     "text": [
      "첫번째 정수를 입력하세요 :  100\n",
      "두번째 정수를 입력하세요 :  100\n",
      "세번째 정수를 입력하세요 :  103\n"
     ]
    },
    {
     "data": {
      "text/plain": [
       "100"
      ]
     },
     "execution_count": 31,
     "metadata": {},
     "output_type": "execute_result"
    }
   ],
   "source": [
    "def find_median():\n",
    "    \n",
    "    first = int(input(\"첫번째 정수를 입력하세요 : \"))\n",
    "    second = int(input(\"두번째 정수를 입력하세요 : \"))\n",
    "    third = int(input(\"세번째 정수를 입력하세요 : \"))\n",
    "    \n",
    "    if first < second:\n",
    "        if second < third:\n",
    "            median = second\n",
    "        else:\n",
    "            if first < third:\n",
    "                median = third\n",
    "            else:\n",
    "                median = fisrt\n",
    "    else:\n",
    "        if first < third:\n",
    "            median = first\n",
    "        else:\n",
    "            if second < third:\n",
    "                median = third\n",
    "            else:\n",
    "                median = second\n",
    "                \n",
    "    return median\n",
    "        \n",
    "find_median()\n",
    "    "
   ]
  },
  {
   "cell_type": "code",
   "execution_count": 35,
   "id": "e4074830-9dbb-4719-8d38-12cf34949330",
   "metadata": {
    "tags": []
   },
   "outputs": [
    {
     "name": "stdin",
     "output_type": "stream",
     "text": [
      "첫번째 정수를 입력하세요 :  3\n",
      "두번째 정수를 입력하세요 :  2\n",
      "세번째 정수를 입력하세요 :  3\n"
     ]
    },
    {
     "data": {
      "text/plain": [
       "3"
      ]
     },
     "execution_count": 35,
     "metadata": {},
     "output_type": "execute_result"
    }
   ],
   "source": [
    "def find_median():\n",
    "    \n",
    "    first = int(input(\"첫번째 정수를 입력하세요 : \"))\n",
    "    second = int(input(\"두번째 정수를 입력하세요 : \"))\n",
    "    third = int(input(\"세번째 정수를 입력하세요 : \"))\n",
    "    \n",
    "    if first < second:\n",
    "        if second < third:\n",
    "            median = second\n",
    "            return median\n",
    "        else:\n",
    "            if first < third:\n",
    "                median = third\n",
    "                return median\n",
    "            else:\n",
    "                median = first\n",
    "                return median\n",
    "    else:\n",
    "        if first < third:\n",
    "            median = first\n",
    "            return median\n",
    "        else:\n",
    "            if second < third:\n",
    "                median = third\n",
    "                return median\n",
    "            else:\n",
    "                median = second\n",
    "                return median\n",
    "        \n",
    "find_median()"
   ]
  },
  {
   "cell_type": "code",
   "execution_count": 37,
   "id": "8b3a3a53-e8af-406a-be08-0b1a3e43b623",
   "metadata": {
    "tags": []
   },
   "outputs": [],
   "source": [
    "def med3(f, s, t):\n",
    "    \n",
    "    if f >= s:\n",
    "        if s >= t:\n",
    "            return s\n",
    "        elif f <= t:\n",
    "            return f\n",
    "        else:\n",
    "            return t\n",
    "    elif f > t: # 바꿔 쓰면 t < f < s\n",
    "        return f\n",
    "    elif s > t: # 바꿔 쓰면 f < t < s\n",
    "        return t\n",
    "    else:       # 바꿔 쓰면 f < s < t\n",
    "        return s\n",
    "        "
   ]
  },
  {
   "cell_type": "markdown",
   "id": "e0d519e6-ee6a-4a84-8b9f-1b165500bd01",
   "metadata": {},
   "source": [
    "# 문7  else가 생략되는 경우 "
   ]
  },
  {
   "cell_type": "markdown",
   "id": "9cffb2bc-cf91-4a74-93a2-3a0cff1402f7",
   "metadata": {},
   "source": [
    "if 또는 elif만 쓴 조건문에는 else: pass 가 생략된 것이다."
   ]
  },
  {
   "cell_type": "markdown",
   "id": "a71a1014-18a3-44fa-8f41-26409ee68ce9",
   "metadata": {},
   "source": [
    "# 문8 1부터 n까지 정수의 합 구하기 while, for 두가지 방법으로 구현"
   ]
  },
  {
   "cell_type": "code",
   "execution_count": 40,
   "id": "1a2c7c86-65ab-4483-b249-73966e0c2d09",
   "metadata": {
    "tags": []
   },
   "outputs": [
    {
     "name": "stdin",
     "output_type": "stream",
     "text": [
      "시작지점 정수 값을 입력하세요:  1\n",
      "종료지점 정수 값을 입력하세요:  10\n"
     ]
    },
    {
     "data": {
      "text/plain": [
       "55"
      ]
     },
     "execution_count": 40,
     "metadata": {},
     "output_type": "execute_result"
    }
   ],
   "source": [
    "def sum_int():\n",
    "    \n",
    "    start_value = int(input(\"시작지점 정수 값을 입력하세요: \"))\n",
    "    end_value = int(input(\"종료지점 정수 값을 입력하세요: \"))\n",
    "    \n",
    "    answer = 0\n",
    "    \n",
    "    for n in range(start_value, end_value+1):\n",
    "        answer += n\n",
    "    return answer\n",
    "\n",
    "sum_int()"
   ]
  },
  {
   "cell_type": "code",
   "execution_count": 41,
   "id": "3c530305-dce5-4892-bbf9-739f5bededf2",
   "metadata": {
    "tags": []
   },
   "outputs": [
    {
     "name": "stdin",
     "output_type": "stream",
     "text": [
      "종료지점 정수 값을 입력하세요:  10\n"
     ]
    },
    {
     "data": {
      "text/plain": [
       "55"
      ]
     },
     "execution_count": 41,
     "metadata": {},
     "output_type": "execute_result"
    }
   ],
   "source": [
    "def sum_int():\n",
    "    \n",
    "    end_value = int(input(\"종료지점 정수 값을 입력하세요: \"))\n",
    "    \n",
    "    answer = 0\n",
    "    i = 1\n",
    "    while i <= end_value:\n",
    "        answer += i\n",
    "        i += 1\n",
    "    return answer\n",
    "\n",
    "sum_int()"
   ]
  },
  {
   "cell_type": "code",
   "execution_count": 42,
   "id": "9dfea733-f913-499a-b8fa-111f911cfb78",
   "metadata": {
    "tags": []
   },
   "outputs": [
    {
     "name": "stdin",
     "output_type": "stream",
     "text": [
      "종료지점 정수 값을 입력하세요:  10\n"
     ]
    },
    {
     "data": {
      "text/plain": [
       "55"
      ]
     },
     "execution_count": 42,
     "metadata": {},
     "output_type": "execute_result"
    }
   ],
   "source": [
    "def sum_int():\n",
    "    \n",
    "    end_value = int(input(\"종료지점 정수 값을 입력하세요: \"))\n",
    "\n",
    "    answer = (end_value * (end_value + 1)) // 2\n",
    "    \n",
    "    return answer\n",
    "\n",
    "sum_int()"
   ]
  },
  {
   "cell_type": "markdown",
   "id": "0927cc51-deec-419c-b7ef-db8667a8fb92",
   "metadata": {},
   "source": [
    "# 문9 정수 a부터 정수 b까지의 합 구하기"
   ]
  },
  {
   "cell_type": "code",
   "execution_count": 44,
   "id": "87bb9951-b2b0-42b6-a65e-b5d59a2d8673",
   "metadata": {
    "tags": []
   },
   "outputs": [
    {
     "name": "stdin",
     "output_type": "stream",
     "text": [
      "정수 a를 입력하세요:  100\n",
      "정수 b를 입력하세요:  1\n"
     ]
    },
    {
     "data": {
      "text/plain": [
       "5050"
      ]
     },
     "execution_count": 44,
     "metadata": {},
     "output_type": "execute_result"
    }
   ],
   "source": [
    "def sum_a_to_b():\n",
    "    a = int(input(\"정수 a를 입력하세요: \"))\n",
    "    b = int(input(\"정수 b를 입력하세요: \"))\n",
    "    \n",
    "    if a > b:\n",
    "        a, b = b, a  # a, b를 오름차순 정렬\n",
    "        \n",
    "    s = 0\n",
    "    for n in range(a, b+1):\n",
    "        s += n\n",
    "        \n",
    "    return s\n",
    "\n",
    "sum_a_to_b()"
   ]
  },
  {
   "cell_type": "markdown",
   "id": "6a83bd0f-25a4-4e0e-9576-7338968ff04e",
   "metadata": {},
   "source": [
    "# 문10 정수 a부터 정수 b까지의 합산 과정을 출력하는 함수"
   ]
  },
  {
   "cell_type": "code",
   "execution_count": 45,
   "id": "bc40ce5e-cf7f-45c8-9049-2ec9be1faa9c",
   "metadata": {
    "tags": []
   },
   "outputs": [
    {
     "name": "stdin",
     "output_type": "stream",
     "text": [
      "정수 a를 입력하세요:  1\n",
      "정수 b를 입력하세요:  10\n"
     ]
    },
    {
     "name": "stdout",
     "output_type": "stream",
     "text": [
      "1 + 2 + 3 + 4 + 5 + 6 + 7 + 8 + 9 + 10 = 55\n"
     ]
    }
   ],
   "source": [
    "def sum_a_to_b():\n",
    "    a = int(input(\"정수 a를 입력하세요: \"))\n",
    "    b = int(input(\"정수 b를 입력하세요: \"))\n",
    "    \n",
    "    if a > b:\n",
    "        a, b = b, a  # a, b를 오름차순 정렬\n",
    "        \n",
    "    s = 0\n",
    "    for n in range(a, b):\n",
    "        print(f'{n} + ', end = \"\")\n",
    "        s += n\n",
    "    \n",
    "    s += b\n",
    "    print(f'{b} = {s}')\n",
    "\n",
    "sum_a_to_b()"
   ]
  },
  {
   "cell_type": "markdown",
   "id": "b080e828-597d-45a8-8659-d895148af541",
   "metadata": {},
   "source": [
    "# 문11 +, - 를 번갈아 n번 출력하는 함수"
   ]
  },
  {
   "cell_type": "code",
   "execution_count": 60,
   "id": "d2b9bb3a-3bf5-4464-810a-99ddf73a749d",
   "metadata": {
    "tags": []
   },
   "outputs": [],
   "source": [
    "def plus_minus():\n",
    "    \n",
    "    n = int(input(\"몇번 출력할까요: \"))\n",
    "    \n",
    "    if n % 2 == 0:\n",
    "        for _ in range((n+1)//2):\n",
    "            print(\"+-\", end=\"\")\n",
    "    elif n == 1:\n",
    "        print(\"+\")\n",
    "    else:\n",
    "        for _ in range(n//2):\n",
    "            print(\"+-\", end=\"\")\n",
    "        print(\"+\")"
   ]
  },
  {
   "cell_type": "code",
   "execution_count": 61,
   "id": "fd8cf535-af66-4fd6-91aa-4d36c6909a1e",
   "metadata": {
    "tags": []
   },
   "outputs": [
    {
     "name": "stdin",
     "output_type": "stream",
     "text": [
      "몇번 출력할까요:  15\n"
     ]
    },
    {
     "name": "stdout",
     "output_type": "stream",
     "text": [
      "+-+-+-+-+-+-+-+\n"
     ]
    }
   ],
   "source": [
    "plus_minus()"
   ]
  },
  {
   "cell_type": "code",
   "execution_count": 67,
   "id": "c4b04317-6734-4082-855d-6000db153dcf",
   "metadata": {
    "tags": []
   },
   "outputs": [],
   "source": [
    "def plus_minus():\n",
    "    \n",
    "    n = int(input(\"몇번 출력할까요: \"))\n",
    "    \n",
    "    for _ in range(n//2):\n",
    "        print(\"+-\", end=\"\")\n",
    "    \n",
    "    if n%2:\n",
    "        print(\"+\")"
   ]
  },
  {
   "cell_type": "code",
   "execution_count": 68,
   "id": "7a0f5602-3eab-4ba1-bba0-ee62c2c0c65c",
   "metadata": {
    "tags": []
   },
   "outputs": [
    {
     "name": "stdin",
     "output_type": "stream",
     "text": [
      "몇번 출력할까요:  15\n"
     ]
    },
    {
     "name": "stdout",
     "output_type": "stream",
     "text": [
      "+-+-+-+-+-+-+-+\n"
     ]
    }
   ],
   "source": [
    "plus_minus()"
   ]
  },
  {
   "cell_type": "code",
   "execution_count": 69,
   "id": "b6d49bcc-3035-442f-8a6c-c2bce8f28b23",
   "metadata": {
    "tags": []
   },
   "outputs": [],
   "source": [
    "for i in range(0):\n",
    "    print(i)"
   ]
  },
  {
   "cell_type": "code",
   "execution_count": 70,
   "id": "1eab96fd-4e57-4cc1-a8ee-8ea541ff72dd",
   "metadata": {
    "tags": []
   },
   "outputs": [
    {
     "name": "stdout",
     "output_type": "stream",
     "text": [
      "0\n"
     ]
    }
   ],
   "source": [
    "for i in range(1):\n",
    "    print(i)"
   ]
  },
  {
   "cell_type": "code",
   "execution_count": 71,
   "id": "8109eede-fb69-4339-9cb7-19d1bc30d4ca",
   "metadata": {
    "tags": []
   },
   "outputs": [
    {
     "data": {
      "text/plain": [
       "1"
      ]
     },
     "execution_count": 71,
     "metadata": {},
     "output_type": "execute_result"
    }
   ],
   "source": [
    "3//2"
   ]
  },
  {
   "cell_type": "markdown",
   "id": "6d6005e5-8127-41b9-973d-16f26acd085d",
   "metadata": {},
   "source": [
    "# 문12 *를 n개 출력하되 w개 마다 줄바꿈하는 함수"
   ]
  },
  {
   "cell_type": "code",
   "execution_count": 76,
   "id": "503494b5-3b15-4c4e-85d8-8464ac39bd7a",
   "metadata": {
    "tags": []
   },
   "outputs": [],
   "source": [
    "def star_printer():\n",
    "    \n",
    "    n = int(input(\"*을 몇개 출력하시겠습니까? \"))\n",
    "    w = int(input(\"w개 마다 줄바꿈하시겠습니까? \"))\n",
    "    \n",
    "    for _ in range(n//w):\n",
    "        for _ in range(w):\n",
    "            print(\"*\", end=\"\")\n",
    "        print()\n",
    "        \n",
    "    for _ in range(n%w):\n",
    "        print(\"*\", end=\"\")"
   ]
  },
  {
   "cell_type": "code",
   "execution_count": 77,
   "id": "4fe36f1d-81a7-40df-958a-2cd90be2498e",
   "metadata": {
    "tags": []
   },
   "outputs": [
    {
     "name": "stdin",
     "output_type": "stream",
     "text": [
      "*을 몇개 출력하시겠습니까?  50\n",
      "w개 마다 줄바꿈하시겠습니까?  8\n"
     ]
    },
    {
     "name": "stdout",
     "output_type": "stream",
     "text": [
      "********\n",
      "********\n",
      "********\n",
      "********\n",
      "********\n",
      "********\n",
      "**"
     ]
    }
   ],
   "source": [
    "star_printer()"
   ]
  },
  {
   "cell_type": "code",
   "execution_count": 80,
   "id": "b190cb45-540f-4d4c-8825-12e5b432c6c4",
   "metadata": {
    "tags": []
   },
   "outputs": [],
   "source": [
    "def star_printer():\n",
    "    \n",
    "    n = int(input(\"*을 몇개 출력하시겠습니까? \"))\n",
    "    w = int(input(\"w개 마다 줄바꿈하시겠습니까? \"))\n",
    "    \n",
    "    for _ in range(n//w):\n",
    "        print(\"*\" * w)\n",
    "        \n",
    "    rest = n%w\n",
    "    if rest:\n",
    "        print(\"*\" * rest)"
   ]
  },
  {
   "cell_type": "code",
   "execution_count": 81,
   "id": "d036396c-756e-4d9d-a6dd-e62178e4afba",
   "metadata": {
    "tags": []
   },
   "outputs": [
    {
     "name": "stdin",
     "output_type": "stream",
     "text": [
      "*을 몇개 출력하시겠습니까?  50\n",
      "w개 마다 줄바꿈하시겠습니까?  8\n"
     ]
    },
    {
     "name": "stdout",
     "output_type": "stream",
     "text": [
      "********\n",
      "********\n",
      "********\n",
      "********\n",
      "********\n",
      "********\n",
      "**\n"
     ]
    }
   ],
   "source": [
    "star_printer()"
   ]
  },
  {
   "cell_type": "markdown",
   "id": "6bf43b26-7698-4812-bf70-b9db82709c2d",
   "metadata": {},
   "source": [
    "# 문13 1부터 n까지 정수의 합 구하기, 양수만 입력받게 구현"
   ]
  },
  {
   "cell_type": "code",
   "execution_count": 84,
   "id": "cea3dc41-db94-4b91-9933-780e3b83fb39",
   "metadata": {
    "tags": []
   },
   "outputs": [
    {
     "name": "stdin",
     "output_type": "stream",
     "text": [
      "1부터 몇까지 더할까요?  -5\n"
     ]
    },
    {
     "name": "stdout",
     "output_type": "stream",
     "text": [
      "양수를 입력해주세요\n"
     ]
    },
    {
     "name": "stdin",
     "output_type": "stream",
     "text": [
      "1부터 몇까지 더할까요?  0\n"
     ]
    }
   ],
   "source": [
    "def sum_int():\n",
    "    \n",
    "    while True:\n",
    "        n = int(input(\"1부터 몇까지 더할까요? \"))\n",
    "        if n >= 0:\n",
    "            break\n",
    "        else:\n",
    "            print(\"양수를 입력해주세요\")\n",
    "sum_int()"
   ]
  },
  {
   "cell_type": "markdown",
   "id": "aab99b53-0edf-405c-b130-9130fa0fe3d6",
   "metadata": {},
   "source": [
    "# 문14 직사각형의 넓이를 입력하면 가능한 변의 길이 조합을 반환하는 함수"
   ]
  },
  {
   "cell_type": "code",
   "execution_count": null,
   "id": "6c2b0f00-979e-4e95-a5a3-4e0bd62781f0",
   "metadata": {},
   "outputs": [],
   "source": []
  },
  {
   "cell_type": "code",
   "execution_count": 3,
   "id": "c68ccc20-dc46-47e7-8523-49e4547bcc8f",
   "metadata": {
    "tags": []
   },
   "outputs": [
    {
     "data": {
      "text/plain": [
       "False"
      ]
     },
     "execution_count": 3,
     "metadata": {},
     "output_type": "execute_result"
    }
   ],
   "source": [
    "5*5 > 25"
   ]
  },
  {
   "cell_type": "code",
   "execution_count": null,
   "id": "e5a2a485-a152-489a-90df-c9fdf62483c3",
   "metadata": {},
   "outputs": [],
   "source": []
  },
  {
   "cell_type": "code",
   "execution_count": 4,
   "id": "24c058fb-e604-42c9-a7c5-f5ce66947257",
   "metadata": {
    "tags": []
   },
   "outputs": [
    {
     "name": "stdin",
     "output_type": "stream",
     "text": [
      "직사각형의 넓이를 입력하세요:  25\n"
     ]
    },
    {
     "name": "stdout",
     "output_type": "stream",
     "text": [
      "1 x 25\n",
      "5 x 5\n"
     ]
    }
   ],
   "source": [
    "def area_to_side():\n",
    "    \n",
    "    area = int(input(\"직사각형의 넓이를 입력하세요: \"))\n",
    "    \n",
    "    for n in range(1, area+1):\n",
    "        if n * n > area: break # 이 코드가 있어야 중복출력이 안된다\n",
    "        '''\n",
    "        왜냐면 area의 약수쌍들을 모으면 쌍의 원소 중 하나는 area의 제곱근보다 무조건 작거나 같다.\n",
    "        예를 들어 area가 a*b 로 표현될 때, a와 b중 둘 중 하나는 무조건 area의 제곱근 보다 작거나 같다.\n",
    "        a와 b 둘 다 area의 제곱근보다 크다면 a * b는 area보다 커지기 때문.\n",
    "        이 성질을 이용해서\n",
    "        n이 약수쌍의 원소 중 작은 값이라고 간주하고,\n",
    "        약수쌍을 모두 출력할 때 , 큰값이 쌍의 원소 순서에서 앞에 나오는 경우들은 다 날려버리는 역할을 하게 된다. \n",
    "        '''\n",
    "        if area % n: continue  # n으로 나눠 떨어지지 않으면 반복문 처음으로 돌아감\n",
    "        print(f'{n} x {area//n}') # 나눠 떨어지면, i.e. n이 area의 약수면, n(짧은변)과 n으로 나눴을 때 몫(긴변)을 출력\n",
    "\n",
    "area_to_side()"
   ]
  },
  {
   "cell_type": "markdown",
   "id": "2ee40045-3c01-4063-813f-5b2922b9cd53",
   "metadata": {},
   "source": [
    "약수를 나열하는 프로그램"
   ]
  },
  {
   "cell_type": "code",
   "execution_count": 86,
   "id": "d2d267bc-a75c-4f6f-8ce9-09d3e57004c5",
   "metadata": {
    "tags": []
   },
   "outputs": [
    {
     "name": "stdin",
     "output_type": "stream",
     "text": [
      "직사각형의 넓이를 입력하세요:  36\n"
     ]
    },
    {
     "name": "stdout",
     "output_type": "stream",
     "text": [
      "1 x 36\n",
      "2 x 18\n",
      "3 x 12\n",
      "4 x 9\n",
      "6 x 6\n"
     ]
    }
   ],
   "source": [
    "area_to_side()"
   ]
  },
  {
   "cell_type": "markdown",
   "id": "0371c5cd-da90-4337-93c0-a85afac4fd7c",
   "metadata": {},
   "source": [
    "# 문15 10~99 사이의 난수 n개 생성하기 (13이 나오면 중단, else문 사용)"
   ]
  },
  {
   "cell_type": "markdown",
   "id": "d7656252-71a0-4688-bd4d-ce837d798e30",
   "metadata": {},
   "source": [
    "2장 문15 참고"
   ]
  },
  {
   "cell_type": "code",
   "execution_count": 100,
   "id": "e6ea4ccd-a7ef-49b0-944f-d5ef2c20bdaf",
   "metadata": {
    "tags": []
   },
   "outputs": [
    {
     "name": "stdin",
     "output_type": "stream",
     "text": [
      "몇개의 난수를 생성할까요?  1000\n"
     ]
    },
    {
     "name": "stdout",
     "output_type": "stream",
     "text": [
      "42 50 47 37 33 80 86 67 35 58 31 35 22 98 42 23 35 89 63 56 38 64 24 53 93 90 97 52 22 97 27 97 56 83 42 18 94 88 73 35 24 59 74 95 88 16 57 91 44 92 96 52 44 33 26 25 94 30 64 31 93 39 51 51 18 57 50 61 87 46 46 53 42 38 94 55 60 21 79 23 42 87 21 42 41 44 10 69 65 63 85 88 45 15 87 18 49 10 26 92 47 81 10 68 59 67 85 16 14 55 75 26 77 83 53 12 57 79 31 77 46 20 25 17 39 55 46 10 87 37 36 67 96 45 83 29 34 99 69 49 97 70 93 31 39 75 97 75 69 48 11 18 93 97 43 22 17 45 92 40 49 59 58 83 55 49 64 59 17 72 76 65 86 98 14 87 62 11 87 51 25 41 55 27 98 89 15 41 30 57 64 10 89 55 46 25 32 55 46 24 48 11 86 67 37 87 12 77 11 19 30 99 57 80 13 \n",
      "프로그램을 중단합니다\n"
     ]
    }
   ],
   "source": [
    "import random\n",
    "\n",
    "def random_int():\n",
    "    \n",
    "    n = int(input(\"몇개의 난수를 생성할까요? \"))\n",
    "    \n",
    "    for _ in range(n):\n",
    "        r = random.randint(10, 99)\n",
    "        print(r, end=\" \")\n",
    "        if r == 13:\n",
    "            print(\"\\n프로그램을 중단합니다\")\n",
    "            break\n",
    "            \n",
    "    else:\n",
    "        print(\"\\n프로그램을 종료합니다\")\n",
    "        \n",
    "random_int()"
   ]
  },
  {
   "cell_type": "markdown",
   "id": "d294d8ab-5690-4894-aa6b-e762a37e7e48",
   "metadata": {},
   "source": [
    "Python에서 반복문에 대한 else 문은  \n",
    "루프가 중간에 break 문으로 인해 중단되지 않고,  \n",
    "모든 항목에 대해 정상적으로 실행을 마쳤을 때 실행됩니다.  \n",
    "바꿔 말해  \n",
    "중간에 중단되면 else문은 실행되지 않음"
   ]
  },
  {
   "cell_type": "markdown",
   "id": "c39c0947-9843-4018-82de-7918f2a68960",
   "metadata": {},
   "source": [
    "# 문16 1부터 100까지 출력할 때 중간에 건너뛰는 값을 아는 경우 for문"
   ]
  },
  {
   "cell_type": "code",
   "execution_count": 101,
   "id": "13bb8940-da16-43d1-935b-22936babf3e8",
   "metadata": {
    "tags": []
   },
   "outputs": [
    {
     "name": "stdout",
     "output_type": "stream",
     "text": [
      "1 2 3 4 5 6 7 8 9 10 11 12 13 14 15 16 17 18 19 20 21 22 23 24 25 26 27 28 29 30 31 32 33 34 35 36 37 38 39 40 41 42 43 44 45 46 47 48 49 50 51 52 53 54 55 56 57 58 59 60 61 62 63 64 65 66 67 68 69 70 71 72 73 74 76 77 78 79 80 81 82 83 84 85 86 87 88 89 90 91 92 93 94 95 96 97 98 99 100 "
     ]
    }
   ],
   "source": [
    "# 75를 건너뜀\n",
    "\n",
    "for i in list(range(1,75)) + list(range(76, 101)):\n",
    "    print(i, end= \" \")"
   ]
  },
  {
   "cell_type": "markdown",
   "id": "8cadb221-28a8-44a8-a19c-eb700dac4807",
   "metadata": {},
   "source": [
    "# 문17 10 <= no <= 90 의 드모르간 법칙"
   ]
  },
  {
   "cell_type": "code",
   "execution_count": 102,
   "id": "a19c7634-ae26-4319-bb35-e35016d7c6ff",
   "metadata": {
    "tags": []
   },
   "outputs": [
    {
     "data": {
      "text/plain": [
       "True"
      ]
     },
     "execution_count": 102,
     "metadata": {},
     "output_type": "execute_result"
    }
   ],
   "source": [
    "no = 50\n",
    "\n",
    "not(10 > no or no > 90)"
   ]
  },
  {
   "cell_type": "markdown",
   "id": "88433f48-9dcf-46d9-ba58-0e2e197dab70",
   "metadata": {},
   "source": [
    "# 문18 구구단 곱셈표 출력하기"
   ]
  },
  {
   "cell_type": "code",
   "execution_count": 114,
   "id": "b682ac33-9280-4d28-9cc4-4a7bc567c479",
   "metadata": {
    "tags": []
   },
   "outputs": [
    {
     "name": "stdin",
     "output_type": "stream",
     "text": [
      "몇단 까지 출력하시겠습니까?  9\n"
     ]
    },
    {
     "name": "stdout",
     "output_type": "stream",
     "text": [
      "1 단 출력\n",
      "1x1=1 | 1x2=2 | 1x3=3 | 1x4=4 | 1x5=5 | 1x6=6 | 1x7=7 | 1x8=8 | 1x9=9 | \n",
      "2 단 출력\n",
      "2x1=2 | 2x2=4 | 2x3=6 | 2x4=8 | 2x5=10 | 2x6=12 | 2x7=14 | 2x8=16 | 2x9=18 | \n",
      "3 단 출력\n",
      "3x1=3 | 3x2=6 | 3x3=9 | 3x4=12 | 3x5=15 | 3x6=18 | 3x7=21 | 3x8=24 | 3x9=27 | \n",
      "4 단 출력\n",
      "4x1=4 | 4x2=8 | 4x3=12 | 4x4=16 | 4x5=20 | 4x6=24 | 4x7=28 | 4x8=32 | 4x9=36 | \n",
      "5 단 출력\n",
      "5x1=5 | 5x2=10 | 5x3=15 | 5x4=20 | 5x5=25 | 5x6=30 | 5x7=35 | 5x8=40 | 5x9=45 | \n",
      "6 단 출력\n",
      "6x1=6 | 6x2=12 | 6x3=18 | 6x4=24 | 6x5=30 | 6x6=36 | 6x7=42 | 6x8=48 | 6x9=54 | \n",
      "7 단 출력\n",
      "7x1=7 | 7x2=14 | 7x3=21 | 7x4=28 | 7x5=35 | 7x6=42 | 7x7=49 | 7x8=56 | 7x9=63 | \n",
      "8 단 출력\n",
      "8x1=8 | 8x2=16 | 8x3=24 | 8x4=32 | 8x5=40 | 8x6=48 | 8x7=56 | 8x8=64 | 8x9=72 | \n",
      "9 단 출력\n",
      "9x1=9 | 9x2=18 | 9x3=27 | 9x4=36 | 9x5=45 | 9x6=54 | 9x7=63 | 9x8=72 | 9x9=81 | \n"
     ]
    }
   ],
   "source": [
    "def multiplication_table():\n",
    "    \n",
    "    n = int(input(\"몇단 까지 출력하시겠습니까? \"))\n",
    "    \n",
    "    for i in range(n):\n",
    "        print(f'{i+1} 단 출력')\n",
    "        for j in range(9):\n",
    "            print(f'{i+1}x{j+1}={(i+1) * (j+1)}', end=\" | \")\n",
    "        print()\n",
    "            \n",
    "\n",
    "multiplication_table()"
   ]
  },
  {
   "cell_type": "code",
   "execution_count": 108,
   "id": "b4792fb6-7ef2-4515-a6c3-f99b6da8a5ba",
   "metadata": {
    "tags": []
   },
   "outputs": [
    {
     "name": "stdin",
     "output_type": "stream",
     "text": [
      "몇단을 출력하시겠습니까?  9\n"
     ]
    },
    {
     "name": "stdout",
     "output_type": "stream",
     "text": [
      "9 단 출력\n",
      "9 x 1 = 9\n",
      "9 x 2 = 18\n",
      "9 x 3 = 27\n",
      "9 x 4 = 36\n",
      "9 x 5 = 45\n",
      "9 x 6 = 54\n",
      "9 x 7 = 63\n",
      "9 x 8 = 72\n",
      "9 x 9 = 81\n"
     ]
    }
   ],
   "source": [
    "def multiplication_table():\n",
    "    \n",
    "    n = int(input(\"몇단을 출력하시겠습니까? \"))\n",
    "    print(f'{n} 단 출력')\n",
    "    \n",
    "    for i in range(9):\n",
    "        print(f'{n} x {i+1} = {(n) * (i+1)}')\n",
    "\n",
    "multiplication_table()"
   ]
  },
  {
   "cell_type": "markdown",
   "id": "7361a5e9-194e-47b0-8a61-537b1cbd94d2",
   "metadata": {},
   "source": [
    "# 문19 왼쪽 아래가 직각인 이등변삼각형모양 * 출력하기"
   ]
  },
  {
   "cell_type": "code",
   "execution_count": 118,
   "id": "869c2d87-5b3e-4de3-9752-1f350d710b54",
   "metadata": {
    "tags": []
   },
   "outputs": [
    {
     "name": "stdin",
     "output_type": "stream",
     "text": [
      "한변의 길이를 몇으로 하시겠습니까?  10\n"
     ]
    },
    {
     "name": "stdout",
     "output_type": "stream",
     "text": [
      "*\n",
      "**\n",
      "***\n",
      "****\n",
      "*****\n",
      "******\n",
      "*******\n",
      "********\n",
      "*********\n",
      "**********\n"
     ]
    }
   ],
   "source": [
    "def isosceles_triangle():\n",
    "    \n",
    "    n = int(input(\"한변의 길이를 몇으로 하시겠습니까? \"))\n",
    "    \n",
    "    for i in range(n):\n",
    "        for j in range(i+1):\n",
    "            print(\"*\", end=\"\")\n",
    "        print()\n",
    "            \n",
    "isosceles_triangle()"
   ]
  },
  {
   "cell_type": "markdown",
   "id": "ea8a9f28-472d-47d2-a366-80f5d0461cb2",
   "metadata": {
    "tags": []
   },
   "source": [
    "# 문20 오른쪽 아래가 직각인 이등변삼각형모양 * 출력하기"
   ]
  },
  {
   "cell_type": "code",
   "execution_count": 6,
   "id": "50c1bd02-0c55-4d55-8d2d-c905385c6b19",
   "metadata": {
    "tags": []
   },
   "outputs": [
    {
     "name": "stdin",
     "output_type": "stream",
     "text": [
      "한변의 길이를 몇으로 하시겠습니까?  10\n"
     ]
    },
    {
     "name": "stdout",
     "output_type": "stream",
     "text": [
      "         *\n",
      "        **\n",
      "       ***\n",
      "      ****\n",
      "     *****\n",
      "    ******\n",
      "   *******\n",
      "  ********\n",
      " *********\n",
      "**********\n"
     ]
    }
   ],
   "source": [
    "def isosceles_triangle_1():\n",
    "    \n",
    "    n = int(input(\"한변의 길이를 몇으로 하시겠습니까? \"))\n",
    "    \n",
    "    for i in range(1, n+1):\n",
    "        print(\" \" * (n-i) + \"*\" * i)\n",
    "isosceles_triangle_1()"
   ]
  },
  {
   "cell_type": "markdown",
   "id": "7fd18e76-241c-420f-b9fa-61377883f055",
   "metadata": {},
   "source": [
    "isosceles_triangle_1 함수는 입력을 10만으로 주면 터진다.\n",
    "isosceles_triangle_2 함수는 느리지만 출력은 된다"
   ]
  },
  {
   "cell_type": "code",
   "execution_count": 4,
   "id": "659e7d9c-3510-42b4-b231-929f1afbfe90",
   "metadata": {},
   "outputs": [
    {
     "name": "stdin",
     "output_type": "stream",
     "text": [
      "한변의 길이를 몇으로 하시겠습니까?  10\n"
     ]
    },
    {
     "name": "stdout",
     "output_type": "stream",
     "text": [
      "         *\n",
      "        **\n",
      "       ***\n",
      "      ****\n",
      "     *****\n",
      "    ******\n",
      "   *******\n",
      "  ********\n",
      " *********\n",
      "**********\n"
     ]
    }
   ],
   "source": [
    "def isosceles_triangle_2():\n",
    "    \n",
    "    n = int(input(\"한변의 길이를 몇으로 하시겠습니까? \"))\n",
    "    \n",
    "    for i in range(n):              \n",
    "        for _ in range(n - i - 1):  \n",
    "            print(' ', end='')\n",
    "        for _ in range(i + 1):\n",
    "            print('*', end='')     \n",
    "        print()\n",
    "        \n",
    "isosceles_triangle_2()"
   ]
  },
  {
   "cell_type": "markdown",
   "id": "c8fe863c-306f-4c9c-98bc-b404e38a3ed1",
   "metadata": {},
   "source": [
    "# 문21 파이썬에서 변수의 의미와 객체의 특징"
   ]
  },
  {
   "cell_type": "markdown",
   "id": "e7cc6f32-5c4c-4778-a7f7-676d3fe9e121",
   "metadata": {},
   "source": [
    "    파이썬에서 모든 건 객체이다.\n",
    "\n",
    "    객체는 자료형을 가지며 메모리를 차지한다.\n",
    "\n",
    "    파이썬의 변수는 객체를 참조하는, 객체에 연결된 이름에 불과하다.\n",
    "    \n",
    "    변수가 가리키는 것은 리터럴 자체가 아니라 리터럴의 식별번호다."
   ]
  },
  {
   "cell_type": "code",
   "execution_count": null,
   "id": "ddc78efb-b565-4116-9808-5decd9685c8c",
   "metadata": {},
   "outputs": [],
   "source": []
  }
 ],
 "metadata": {
  "colab": {
   "provenance": []
  },
  "kernelspec": {
   "display_name": "pt",
   "language": "python",
   "name": "pt"
  },
  "language_info": {
   "codemirror_mode": {
    "name": "ipython",
    "version": 3
   },
   "file_extension": ".py",
   "mimetype": "text/x-python",
   "name": "python",
   "nbconvert_exporter": "python",
   "pygments_lexer": "ipython3",
   "version": "3.8.0"
  }
 },
 "nbformat": 4,
 "nbformat_minor": 5
}
