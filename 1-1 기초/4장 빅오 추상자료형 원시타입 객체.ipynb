{
 "cells": [
  {
   "cell_type": "markdown",
   "id": "07e76047-4f3e-47e2-985a-d3e694adc263",
   "metadata": {},
   "source": [
    "    \n",
    "    점근적 실행 시간 : 입력값이 무한대를 향할 때 함수의 실행시간의 추이 \n",
    "    점근적 실행 시간 = 시간복잡도\n",
    "    \n",
    "    시간복잡도 : 어떤 알고리즘을 수행하는데 걸리는 시간을 설명하는 계산복잡도. \n",
    "    빅오 : 시간복잡도를 표기하는 대표적인 방법\n",
    "\n",
    "    빅오로 시간복잡도를 표현할 땐 계수를 무시한 최고차항 만 쓴다. O(n)\n",
    "\n",
    "    O(1) 입력값의 크기와 상관없이 실행시간이 일정하다는 뜻. 1초일수도 있지만 5시간일수도 있음\n",
    "\n",
    "    O(log n) 입력값이 커져도 실행시간은 미미하게 늘어난다. 이진검색\n",
    "\n",
    "    O(n) 입력값에 실행시간이 비례한다 (입력값이 최선인 경우 팀소트 정렬은 O(n)이 될 수 있다)\n",
    "\n",
    "    O(n log n) 대부분의 정렬 알고리즘 \n",
    "\n",
    "    O(n**2) 버블정렬\n",
    "\n",
    "    O(2**n) 피보나치수를 재귀정렬로 찾는 알고리즘 \n",
    "\n",
    "    O(n!) 각 도시를 방문하고 돌아오는 가장 짧은 경로를 찾는 외판원 문제를 브루트포스로 풀때"
   ]
  },
  {
   "cell_type": "markdown",
   "id": "10e1f034-5095-483b-88d4-7fbe05aaef93",
   "metadata": {},
   "source": [
    "    빅오는 어떤 복잡한 함수가 있을 때 이 함수의 실행시간의 상한 upper bound 를 의미한다\n",
    "\n",
    "        가장 오래 걸릴 때가 빅오\n",
    "        가장 빨리 실행될 때가 빅 오메가\n",
    "        평균적인 시간은 빅세타\n",
    "\n"
   ]
  },
  {
   "cell_type": "markdown",
   "id": "c9838de1-baca-44fb-87b2-e9ed157e9d1d",
   "metadata": {},
   "source": [
    "시간과 공간은 일반적으로 트레이드 오프 관계다\n",
    "\n",
    "    알고리즘의\n",
    "    실행시간이 빠르면 메모리를 많이 차지하고, \n",
    "    메모리를 적게 차지하면 실행시간이 느리다"
   ]
  },
  {
   "cell_type": "markdown",
   "id": "a29250ff-79ab-423f-8b7d-5a4a55f0f482",
   "metadata": {},
   "source": [
    "\n",
    "**bool은 논리 자료형이지만**\n",
    "\n",
    "    파이썬에서는 내부적으로 1과 0으로 처리되는 int의 서브클래스다 "
   ]
  },
  {
   "cell_type": "code",
   "execution_count": 8,
   "id": "3ae227c9-fb0e-416c-8de5-02c4c6987583",
   "metadata": {
    "tags": []
   },
   "outputs": [
    {
     "data": {
      "text/plain": [
       "2"
      ]
     },
     "execution_count": 8,
     "metadata": {},
     "output_type": "execute_result"
    }
   ],
   "source": [
    "True + True"
   ]
  },
  {
   "cell_type": "code",
   "execution_count": 10,
   "id": "c91bf0f1-e46c-4942-aaa8-08514644a62d",
   "metadata": {
    "tags": []
   },
   "outputs": [
    {
     "data": {
      "text/plain": [
       "1"
      ]
     },
     "execution_count": 10,
     "metadata": {},
     "output_type": "execute_result"
    }
   ],
   "source": [
    "False + True"
   ]
  },
  {
   "cell_type": "markdown",
   "id": "19e1e103-04cd-4edc-be8a-80307cd0b4fa",
   "metadata": {},
   "source": [
    "파이썬에서 집합과 딕셔너리는 선언시 똑같이 중괄호를 쓴다 { }\n",
    "\n",
    "    차이점은 \n",
    "        딕셔너리는 키와 밸류를 입력하고\n",
    "        집합은 값만 입력한다"
   ]
  },
  {
   "cell_type": "code",
   "execution_count": null,
   "id": "b15df0f7-901d-4331-a9cb-48f2c5a02017",
   "metadata": {},
   "outputs": [],
   "source": []
  },
  {
   "cell_type": "markdown",
   "id": "2eb256e9-7e77-4763-bb43-5fdf025d5f76",
   "metadata": {},
   "source": [
    "**제네릭 generic** : \n",
    "\n",
    "    파라미터 타입이 나중에 지정되게 해서 재활용성을 높일 수 있는 프로그래밍 스타일\n",
    "\n",
    "    파이썬은 동적 파이핑 언어이기 때문에 제네릭이 필요 없다.\n",
    "    동적 타이핑의 단점은 코드의 복잡도가 높아질수록 타입을 명시하지 않을 시 가독성을 낮추고 버그 발생확률을 높인다."
   ]
  },
  {
   "cell_type": "markdown",
   "id": "014c9429-7910-4572-9c86-c32582e485a0",
   "metadata": {},
   "source": [
    "**자료형** \n",
    "\n",
    "    정수, 실수, 문자열, 원시타입(원시자료형) 등 모든 자료의 유형을 말한다.\n",
    "    컴파일러 또는 인터프리터에게 데이터를 어떻게 사용하는지를 알려주는 일종의 데이터 속성이다\n",
    "\n",
    "**자료구조**\n",
    "\n",
    "    일반적으로 원시자료형을 기반으로 하는 배열, 연결리스트, 객체 등을 말한다"
   ]
  },
  {
   "cell_type": "markdown",
   "id": "d1c5c3d4-c1db-494b-b318-3a7525ae8035",
   "metadata": {},
   "source": [
    "**추상 자료형 ADT, Abstract Data Type** : \n",
    "\n",
    "    자료형의 연산을 정의한 것. 실제 구현 방법은 명시하지 않는다.\n",
    "\n",
    "**추상 자료형의 구현** : \n",
    "\n",
    "    자료형의 연산을 구현한 것"
   ]
  },
  {
   "cell_type": "markdown",
   "id": "9d591c8e-2c4f-4611-8a36-bbf69add0bfd",
   "metadata": {},
   "source": [
    "자료형 (Data Type):\n",
    "\n",
    "    정의: 프로그래밍 언어에서 변수나 상수가 어떤 종류의 데이터를 담을 수 있는지를 정의하는 시스템 또는 규칙입니다.\n",
    "    \n",
    "        예시: 정수형(int), 실수형(float), 문자형(char), 불리언형(bool) 등이 자료형의 예시입니다. \n",
    "        예를 들어, Python에서는 다음과 같이 변수에 자료형을 명시할 수 있습니다.\n",
    "\n",
    "            age: int = 25\n",
    "            name: str = \"John\"\n",
    "            \n",
    "자료구조 (Data Structure):\n",
    "\n",
    "    정의: 데이터의 조직, 저장, 관리를 위한 구조를 말합니다. \n",
    "    다양한 자료구조가 데이터를 효과적으로 저장하고 조작하는 데 사용됩니다.\n",
    "    \n",
    "        예시: 배열(Array), 연결 리스트(Linked List), 스택(Stack), 큐(Queue), 해시 테이블(Hash Table) 등이 자료구조의 예시입니다. \n",
    "        예를 들어, Python에서는 리스트(list)가 배열과 유사한 자료구조입니다.\n",
    "\n",
    "            numbers = [1, 2, 3, 4, 5]\n",
    "            \n",
    "추상자료형 (Abstract Data Type - ADT):\n",
    "\n",
    "    정의: 자료형의 연산을 정의한 것.\n",
    "    자료의 논리적 모델을 정의한 것으로, 데이터와 그 데이터에 대한 연산을 포함하는 하나의 단위를 나타냅니다. \n",
    "    구체적인 구현은 정의되어 있지 않으며, 사용자에게는 어떤 동작을 수행할 수 있는 인터페이스만 제공됩니다.\n",
    "    \n",
    "        예시: 스택, 큐, 집합 등이 추상자료형의 예시입니다. 예를 들어, 스택의 추상 자료형은 다음과 같습니다.\n",
    "\n",
    "            class Stack:\n",
    "                def __init__(self):\n",
    "                    self.items = []\n",
    "\n",
    "                def push(self, item):\n",
    "                    self.items.append(item)\n",
    "\n",
    "                def pop(self):\n",
    "                    return self.items.pop()\n",
    "\n",
    "                def peek(self):\n",
    "                    return self.items[-1]\n",
    "\n",
    "                def is_empty(self):\n",
    "                    return len(self.items) == 0"
   ]
  },
  {
   "cell_type": "markdown",
   "id": "acd5531d-eabe-4e4f-8c29-a251569debbb",
   "metadata": {},
   "source": [
    "**구조체 Struct** : \n",
    "\n",
    "    메모리의 어느 영역에나 어떤 크기로든 할당할 수 있는 복합 자료형 \n",
    "    \n",
    "    파이썬에서 구조체와 같은 형태를 정의할 때는 \n",
    "    네임드 튜플을 쓰거나 \n",
    "    3.7이후엔 @dataclass 데코레이션으로 class를 구조체 형태로 정의할 수 있다.\n",
    "    \n",
    "        from dataclasses import dataclass\n",
    "\n",
    "        @dataclass\n",
    "        class Product:\n",
    "            weight: int = None\n",
    "            price: int = None\n",
    "\n",
    "        apple = Product()\n",
    "        apple.price = 10\n",
    "        \n",
    "    파이썬에서 @dataclass 데코레이션을 사용해 클래스를 선언하면\n",
    "    이니셜라이저를 지원하고\n",
    "    출력할 때도 읽기 쉬운 포맷으로 출력해주는 등\n",
    "    여러가지 편리한 기능을 제공한다."
   ]
  },
  {
   "cell_type": "code",
   "execution_count": 3,
   "id": "8be37281-abd3-4df6-92eb-34cdfcc4a3b5",
   "metadata": {
    "tags": []
   },
   "outputs": [
    {
     "name": "stdout",
     "output_type": "stream",
     "text": [
      "12\n"
     ]
    }
   ],
   "source": [
    "from dataclasses import dataclass\n",
    "\n",
    "@dataclass\n",
    "class Rectangle:\n",
    "    width: int\n",
    "    height: int\n",
    "\n",
    "    def area(self):\n",
    "        return self.width * self.height\n",
    "\n",
    "rect = Rectangle(3, 4)\n",
    "print(rect.area())"
   ]
  },
  {
   "cell_type": "markdown",
   "id": "bb1c24ee-0468-4810-b391-10fb869b0544",
   "metadata": {},
   "source": [
    "#### 원시타입과 객체의 차이"
   ]
  },
  {
   "cell_type": "markdown",
   "id": "3e6a8f18-064c-4735-95bb-c34bf65c757d",
   "metadata": {},
   "source": [
    "#### 원시타입\n",
    "    원시타입은 메모리에 정확하게 타입 크기 만큼의 공간을 할당하고\n",
    "    그 공간을 오로지 값으로만 채워 넣는다\n",
    "\n",
    "    배열이라면 물리메로리에 자료형의 크기만큼 공간을 갖는 요소가 연속된 순서로 배치되는 형태가 된다\n",
    "\n",
    "#### 객체\n",
    "    원시타입을 객체로 변환하면 여러 가지 작업을 수행할 수 있게 된다\n",
    "    단순히 메모리에 숫자만 보관하고 있을 때는 하지 못했던 일들이 객체로 만들면 가능해진다\n",
    "    숫자를 문자로 변환한다든가, 16진수로 변환한다든가, 시프팅 같은 비트조작을 한다든가\n",
    "    다만 이를 위한 여러 가지 부가정보가 추가되어 메모리 점유율이 늘어나고 계산속도도 감소한다.\n",
    "\n",
    "**C는 원시타입만 지원하고**\n",
    "\n",
    "**자바는 원시타입과 객체를 동시에 지원한다**\n",
    "\n",
    "**파이썬은 원시타입을 지원하지 않는다. 모든 것이 객체다**\n",
    "\n",
    "    편리한 기능 제공을 위해 속도와 메모리를 포기했다\n",
    "    \n",
    "        단순히 정수형의 덧셈연산을 할 때, 원시타입은 메모리에서 값을 꺼내 한번 연산하면 끝이지만\n",
    "        파이썬의 객체는 변수를 통해 값을 꺼내는 과정에서 PyObject_HEAD에서 타입 코드를 찾는 등\n",
    "        (CPython에서 PyObject는 C의 구조체이고 여기서 타입 코드를 찾아 대응되는 C의 자료형을 확인한다)\n",
    "        여러 단계의 부가작업이 필요하다.  그래서 계산이 훨씬 더 느려진다\n",
    "        \n",
    "            넘파이는 빠른 속도로 유명한데 C로 만들었고 내부적으로 리스트를 C의 원시타입으로 처리하기 때문이다"
   ]
  },
  {
   "cell_type": "markdown",
   "id": "dff03c30-c6d4-4de7-8987-c4a3005fb0d2",
   "metadata": {},
   "source": [
    "#### 파이썬에서 변수를 할당하는 작업은 해당 객체에 대해 참조를 한다는 의미다"
   ]
  },
  {
   "cell_type": "code",
   "execution_count": 2,
   "id": "d46c23c4-14e6-40f9-b40d-97bc4dcfc453",
   "metadata": {
    "tags": []
   },
   "outputs": [
    {
     "name": "stdout",
     "output_type": "stream",
     "text": [
      "8898824\n",
      "8898824\n",
      "8898824\n"
     ]
    },
    {
     "data": {
      "text/plain": [
       "(None, None, None)"
      ]
     },
     "execution_count": 2,
     "metadata": {},
     "output_type": "execute_result"
    }
   ],
   "source": [
    "10\n",
    "a = 10\n",
    "b = a\n",
    "print(id(10)), print(id(a)), print(id(b))"
   ]
  },
  {
   "cell_type": "markdown",
   "id": "00c6f259-9053-4afb-ba5b-626d1413fe21",
   "metadata": {},
   "source": [
    "    만약 모두 원시타입이라면 10, a, b 각각의 값들은 각 메모리의 다른 영역에 위치할 것이다.\n",
    "    그러나 파이썬은 모든 것이 객체이므로 객체의 주소는 모두 동일하다 "
   ]
  },
  {
   "cell_type": "markdown",
   "id": "99340296-86eb-4616-a2b6-b557f6639c54",
   "metadata": {},
   "source": [
    "#### is 는 id값을 비교, == 는 값을 비교"
   ]
  },
  {
   "cell_type": "code",
   "execution_count": null,
   "id": "ce09d1fd-5405-4d3e-8006-07d67c383330",
   "metadata": {},
   "outputs": [],
   "source": []
  }
 ],
 "metadata": {
  "kernelspec": {
   "display_name": "tf",
   "language": "python",
   "name": "tf"
  },
  "language_info": {
   "codemirror_mode": {
    "name": "ipython",
    "version": 3
   },
   "file_extension": ".py",
   "mimetype": "text/x-python",
   "name": "python",
   "nbconvert_exporter": "python",
   "pygments_lexer": "ipython3",
   "version": "3.11.0"
  }
 },
 "nbformat": 4,
 "nbformat_minor": 5
}
