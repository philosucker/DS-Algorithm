{
 "cells": [
  {
   "cell_type": "markdown",
   "id": "b463a7e0-37ba-4359-a0d2-fe152cec2527",
   "metadata": {},
   "source": [
    "리트코드에 기본적으로 import 되어 있는 라이브러리들"
   ]
  },
  {
   "cell_type": "code",
   "execution_count": 1,
   "id": "918e9fd3-b8cf-4a1e-93ac-166b3ee20b8c",
   "metadata": {
    "tags": []
   },
   "outputs": [],
   "source": [
    "import collections\n",
    "import heapq\n",
    "import functools\n",
    "import itertools\n",
    "import re\n",
    "import sys\n",
    "import math\n",
    "import bisect\n",
    "from typing import *"
   ]
  },
  {
   "cell_type": "code",
   "execution_count": 2,
   "id": "6b9c5b77-9b0c-4146-869c-c1049b4c0339",
   "metadata": {
    "tags": []
   },
   "outputs": [],
   "source": [
    "d : Deque = collections.deque()"
   ]
  },
  {
   "cell_type": "code",
   "execution_count": 3,
   "id": "31d0348a-992d-48d1-bf36-5ce5d2e61df7",
   "metadata": {
    "tags": []
   },
   "outputs": [
    {
     "data": {
      "text/plain": [
       "deque([])"
      ]
     },
     "execution_count": 3,
     "metadata": {},
     "output_type": "execute_result"
    }
   ],
   "source": [
    "d"
   ]
  },
  {
   "cell_type": "markdown",
   "id": "b6839c4a-46ef-44bb-aa68-9fb69b81bf87",
   "metadata": {},
   "source": [
    "### 코테 플랫폼을 확인하고 미리 익숙해지면 좋다"
   ]
  },
  {
   "cell_type": "markdown",
   "id": "ab094243-3afa-4b2e-a848-ccc640013909",
   "metadata": {},
   "source": [
    "    해커랭크 : 카카오 경력 수시 채용, 네이버 웹툰\n",
    "        특징 : \n",
    "            테스트 케이스를 보여주지 않음.\n",
    "            타임 아웃이 나도 어떤 입력값 때문인지 알 수 없음\n",
    "            코드를 보며 스스로 유추해내야함\n",
    "\n",
    "    코딜리티 : 네이버, 야놀자\n",
    "\n",
    "    프로그래머스 : 라인, 카카오신입, 네이버 신입\n",
    "\n",
    "    리모트 인터뷰 :\n",
    "        특징 :\n",
    "            테스트 케이스를 단 하나만 통과해도 풀이한 것으로 간주. 시험 종료\n",
    "            그러나 그 이상의 정보를 주지 않음. 디버깅이 필요한지 알 수 없음"
   ]
  },
  {
   "cell_type": "markdown",
   "id": "dd568e50-1581-43d1-b9fc-dc8091da8cb7",
   "metadata": {},
   "source": [
    "# 코테 기본기"
   ]
  },
  {
   "cell_type": "markdown",
   "id": "def733da-5111-49f7-b203-7b8b5f2126e8",
   "metadata": {},
   "source": [
    "    1. 코테 할 때는 연습장과 펜 필수\n",
    "        연습장에 값의 변화를 추적해본다. 머릿속에 떠올린 구조와 비교하면서 푼다\n",
    "\n",
    "    2. 파이썬 스타일 가이드를 준수해라\n",
    "    \n",
    "**3. 처음부터 필요시 입력값에 대한 예외처리를 잘해두자** \n",
    "\n",
    "    4. 주피터 같은 REPL 환경에서 코드를 바로 검증해라\n",
    "\n",
    "    5. 문제당 제한시간을 정해두고\n",
    "        그 시간을 초과할 경우 바로바로 다음 문제로 넘어간다.\n",
    "            나중에 시간이 모자라 쉽게 풀 수 있는 문제 못풂 방지\n",
    "    \n",
    "\n",
    "**6. 마지막 코드 제출 전에 타입 힌트로 타입을 모두 지정해서 보기 좋게 재출해라. 면접관에게 좋은 인상 줄 수 있다**\n",
    "        \n",
    "        mypy 활용 \n",
    "            pip install mypy\n",
    "            mypy solution.py\n",
    "       \n",
    "**주석과 docstring을 잘 작성해라. 가급적 영어로!**\n",
    "\n",
    "    7. 풀이시간을 넘겨도 못푸면\n",
    "        면접관 이메일 주소라도 알아내서 끝나고 나서라도 보내라\n",
    "\n",
    "**8. 깃허브기스트 gist.github.com 에서 코드 스니펫을 만들어두자.**\n",
    "        자신에게 가장 어려운 알고리즘이나 코드 위주로 직접 정리\n",
    "\n",
    "**9. vim 사용법은 익혀두는 게 좋다** \n",
    "\n",
    "    10. 화이트보드 인터뷰시 모르는 게 나오면\n",
    "        면접관에게 어떻게든 힌트를 얻어내야 한다."
   ]
  },
  {
   "cell_type": "markdown",
   "id": "0e48ef29-2b7b-4815-9ebe-4e1fd23bac58",
   "metadata": {},
   "source": [
    "# 코딩 팁"
   ]
  },
  {
   "cell_type": "markdown",
   "id": "212c8137-aa32-4b51-99e6-68785505c629",
   "metadata": {},
   "source": [
    "lambda, map, filter 대신 comprehension을 사용하라"
   ]
  },
  {
   "cell_type": "code",
   "execution_count": 4,
   "id": "2818a507-aa6d-4074-83c3-74187e2ae8f0",
   "metadata": {
    "tags": []
   },
   "outputs": [
    {
     "data": {
      "text/plain": [
       "[2, 6, 10, 14, 18]"
      ]
     },
     "execution_count": 4,
     "metadata": {},
     "output_type": "execute_result"
    }
   ],
   "source": [
    "[n*2 for n in range(1, 11) if n%2 != 0]"
   ]
  },
  {
   "cell_type": "markdown",
   "id": "339bccf0-7611-42d1-a790-4ca22434c86d",
   "metadata": {},
   "source": [
    "range()  함수는 제너레이터 역할을 하는 range 클래스를 리턴한다"
   ]
  },
  {
   "cell_type": "code",
   "execution_count": 12,
   "id": "75dcf36e-ce25-47f0-a463-37ff5293c09e",
   "metadata": {
    "tags": []
   },
   "outputs": [],
   "source": [
    "a = range(1000) # a 에는 생성해야 한다는 조건만 존재한다\n",
    "b = [n for n in range(1000)] # b 에는 이미 생성된 값이 담겨 있다"
   ]
  },
  {
   "cell_type": "code",
   "execution_count": 16,
   "id": "271e09e4-cc42-4543-8b47-0b2680f80799",
   "metadata": {
    "tags": []
   },
   "outputs": [
    {
     "data": {
      "text/plain": [
       "48"
      ]
     },
     "execution_count": 16,
     "metadata": {},
     "output_type": "execute_result"
    }
   ],
   "source": [
    "import sys\n",
    "sys.getsizeof(a) # range 클래스를 이용하는 a변수의 메모리 점유율이 훨씬 더 작다. "
   ]
  },
  {
   "cell_type": "code",
   "execution_count": 17,
   "id": "f89a94e9-b276-4d00-88b2-5d0a87d2930b",
   "metadata": {
    "tags": []
   },
   "outputs": [
    {
     "data": {
      "text/plain": [
       "48"
      ]
     },
     "execution_count": 17,
     "metadata": {},
     "output_type": "execute_result"
    }
   ],
   "source": [
    "c = range(1000000000)\n",
    "sys.getsizeof(c) # 1000개가 아니라 1000000000개여도 똑같다. 생성 조건만 보관하기 때문."
   ]
  },
  {
   "cell_type": "code",
   "execution_count": 7,
   "id": "4dd34800-b819-48f9-9bea-85a6ce4ba2c2",
   "metadata": {
    "tags": []
   },
   "outputs": [
    {
     "data": {
      "text/plain": [
       "8856"
      ]
     },
     "execution_count": 7,
     "metadata": {},
     "output_type": "execute_result"
    }
   ],
   "source": [
    "sys.getsizeof(b)"
   ]
  },
  {
   "cell_type": "markdown",
   "id": "fb79d48f-0469-4b8a-833d-5b89d68e1115",
   "metadata": {
    "tags": []
   },
   "source": [
    "range 클래스는 인덱스로 접근시 바로 생성하도록 구현되어 있어 이터러블과 거의 동일한 느낌으로 사용할 수 있다"
   ]
  },
  {
   "cell_type": "code",
   "execution_count": 14,
   "id": "243d08cb-2a83-47a0-aed6-dc52d619b109",
   "metadata": {
    "tags": []
   },
   "outputs": [
    {
     "data": {
      "text/plain": [
       "109"
      ]
     },
     "execution_count": 14,
     "metadata": {},
     "output_type": "execute_result"
    }
   ],
   "source": [
    "a[109]"
   ]
  },
  {
   "cell_type": "code",
   "execution_count": 15,
   "id": "6e4a5ce8-5e87-43b6-80c0-61c45a3414ae",
   "metadata": {
    "tags": []
   },
   "outputs": [
    {
     "data": {
      "text/plain": [
       "99"
      ]
     },
     "execution_count": 15,
     "metadata": {},
     "output_type": "execute_result"
    }
   ],
   "source": [
    "b[99]"
   ]
  },
  {
   "cell_type": "markdown",
   "id": "a0910b3a-ea80-4ae9-8255-0e7a3e176f24",
   "metadata": {},
   "source": [
    "몫 연산자 // 와  int( / ) 는 같은 결과를 낸다"
   ]
  },
  {
   "cell_type": "code",
   "execution_count": 9,
   "id": "69710444-97a3-4fea-a0db-6d4f178692c1",
   "metadata": {
    "tags": []
   },
   "outputs": [
    {
     "data": {
      "text/plain": [
       "True"
      ]
     },
     "execution_count": 9,
     "metadata": {},
     "output_type": "execute_result"
    }
   ],
   "source": [
    "5 // 3 == int(5/3)"
   ]
  },
  {
   "cell_type": "markdown",
   "id": "3ea8f131-cc4a-495c-8aa4-b72659d5fe0e",
   "metadata": {},
   "source": [
    "몫과 나머지를 한꺼번에 구할 땐\n",
    "divmod() 를 쓴다"
   ]
  },
  {
   "cell_type": "code",
   "execution_count": 10,
   "id": "f00e8fea-9a75-430d-96aa-008b3f38b94a",
   "metadata": {
    "tags": []
   },
   "outputs": [
    {
     "data": {
      "text/plain": [
       "(1, 2)"
      ]
     },
     "execution_count": 10,
     "metadata": {},
     "output_type": "execute_result"
    }
   ],
   "source": [
    "divmod(5, 3)"
   ]
  },
  {
   "cell_type": "markdown",
   "id": "05168931-329b-4b99-b08b-057dbc4aa5ea",
   "metadata": {},
   "source": [
    "코테에서 디버깅은 print() 함수를 쓴다. (실무에서는 쓰지 않는다)"
   ]
  },
  {
   "cell_type": "code",
   "execution_count": 11,
   "id": "a36abbfb-7d1e-4b68-b50f-58fefcabca59",
   "metadata": {
    "tags": []
   },
   "outputs": [
    {
     "name": "stdout",
     "output_type": "stream",
     "text": [
      "a b\n"
     ]
    }
   ],
   "source": [
    "print(\"a\", \"b\")"
   ]
  },
  {
   "cell_type": "code",
   "execution_count": 12,
   "id": "a86f9a00-1f79-47e5-ad34-939322e1ed13",
   "metadata": {
    "tags": []
   },
   "outputs": [
    {
     "name": "stdout",
     "output_type": "stream",
     "text": [
      "a,b\n"
     ]
    }
   ],
   "source": [
    "print(\"a\", \"b\", sep=\",\")"
   ]
  },
  {
   "cell_type": "markdown",
   "id": "f920d84b-6840-4456-87ee-a737ba123aae",
   "metadata": {},
   "source": [
    "print() 함수는 항상 줄바꿈을 한다"
   ]
  },
  {
   "cell_type": "code",
   "execution_count": 13,
   "id": "3451b500-ebb2-4ac0-a21d-a1f08dd72007",
   "metadata": {
    "tags": []
   },
   "outputs": [
    {
     "name": "stdout",
     "output_type": "stream",
     "text": [
      "a\n",
      "b\n"
     ]
    },
    {
     "data": {
      "text/plain": [
       "(None, None)"
      ]
     },
     "execution_count": 13,
     "metadata": {},
     "output_type": "execute_result"
    }
   ],
   "source": [
    "print(\"a\"), print(\"b\")"
   ]
  },
  {
   "cell_type": "code",
   "execution_count": 14,
   "id": "ee1d6b9c-a2db-4dc8-bfd5-f451d238c283",
   "metadata": {
    "tags": []
   },
   "outputs": [
    {
     "name": "stdout",
     "output_type": "stream",
     "text": [
      "a\n",
      "b\n"
     ]
    }
   ],
   "source": [
    "print(\"a\"); print(\"b\")"
   ]
  },
  {
   "cell_type": "code",
   "execution_count": 15,
   "id": "935fde62-9750-4f9f-b41d-42c20957ec5c",
   "metadata": {
    "tags": []
   },
   "outputs": [
    {
     "name": "stdout",
     "output_type": "stream",
     "text": [
      "a\n",
      "b\n"
     ]
    }
   ],
   "source": [
    "print(\"a\")\n",
    "print(\"b\")"
   ]
  },
  {
   "cell_type": "code",
   "execution_count": 16,
   "id": "c77c8793-b7a2-43c5-a9df-79fd4c376daf",
   "metadata": {
    "tags": []
   },
   "outputs": [
    {
     "name": "stdout",
     "output_type": "stream",
     "text": [
      "a b\n"
     ]
    }
   ],
   "source": [
    "print(\"a\", end=\" \"); print(\"b\")"
   ]
  },
  {
   "cell_type": "markdown",
   "id": "8a4741d4-0821-442f-831b-7eba3fbdb978",
   "metadata": {},
   "source": [
    "f-string 을 자유자재로 쓸 줄 알아야 한다"
   ]
  },
  {
   "cell_type": "code",
   "execution_count": 17,
   "id": "b319c415-0ef3-4568-83a1-e2c76d3a4142",
   "metadata": {
    "tags": []
   },
   "outputs": [
    {
     "name": "stdout",
     "output_type": "stream",
     "text": [
      "2 : apple\n"
     ]
    }
   ],
   "source": [
    "idx = 1\n",
    "fruit = \"apple\"\n",
    "\n",
    "print(f'{idx+1} : {fruit}')"
   ]
  },
  {
   "cell_type": "markdown",
   "id": "4c76c62d-7b3a-4754-ba1d-ffa3571dd33a",
   "metadata": {
    "tags": []
   },
   "source": [
    "## locals()를 디버깅하는데 사용해라.  \n",
    "\n",
    "클래스의 특정 메서드 내부나 함수 내부의 로컬 변수를 모두 한번에 조회할 수 있다"
   ]
  },
  {
   "cell_type": "code",
   "execution_count": 27,
   "id": "8c6bac14-5818-465f-99f8-328d3c42f42d",
   "metadata": {
    "tags": []
   },
   "outputs": [],
   "source": [
    "import pprint\n",
    "\n",
    "def a(e):\n",
    "    b = 10\n",
    "    c = 20\n",
    "    d = e * b\n",
    "    pprint.pprint(locals())\n",
    "    return c - d, \n",
    "\n"
   ]
  },
  {
   "cell_type": "code",
   "execution_count": 28,
   "id": "837359d9-2855-4dad-86e6-00819741a806",
   "metadata": {
    "tags": []
   },
   "outputs": [
    {
     "name": "stdout",
     "output_type": "stream",
     "text": [
      "{'b': 10, 'c': 20, 'd': 30, 'e': 3}\n"
     ]
    },
    {
     "data": {
      "text/plain": [
       "(-10,)"
      ]
     },
     "execution_count": 28,
     "metadata": {},
     "output_type": "execute_result"
    }
   ],
   "source": [
    "a(3)"
   ]
  },
  {
   "cell_type": "code",
   "execution_count": 18,
   "id": "5c709a61-ff00-434c-ac75-149413df572a",
   "metadata": {
    "tags": []
   },
   "outputs": [],
   "source": [
    "from typing import List\n",
    "from typing import Dict\n",
    "import pprint\n",
    "\n",
    "def twoSum(nums: List[int], target: int) -> List[int]:\n",
    "    num_to_index : Dict = {}  # 딕셔너리를 사용하여 숫자와 해당 숫자의 인덱스를 저장\n",
    "\n",
    "    for idx, num in enumerate(nums):\n",
    "        complement = target - num\n",
    "        # complement가 딕셔너리에 있다면 해당 숫자의 인덱스와 현재 인덱스를 반환\n",
    "        if complement in num_to_index:\n",
    "            return [num_to_index[complement], idx]\n",
    "        # complement가 딕셔너리에 없다면 현재 숫자와 인덱스를 딕셔너리에 저장\n",
    "        num_to_index[num] = idx\n",
    "    pprint.pprint(locals())\n",
    "    return []  # 만약 두 수의 합이 target이 되는 경우가 없으면 빈 리스트 반환"
   ]
  },
  {
   "cell_type": "code",
   "execution_count": 19,
   "id": "475d6422-4805-4227-a327-592f9de0bf2b",
   "metadata": {
    "tags": []
   },
   "outputs": [
    {
     "data": {
      "text/plain": [
       "[1, 3]"
      ]
     },
     "execution_count": 19,
     "metadata": {},
     "output_type": "execute_result"
    }
   ],
   "source": [
    "twoSum([1,2,3,4,5,6,7,8,9], 6)"
   ]
  },
  {
   "cell_type": "code",
   "execution_count": 29,
   "id": "f3520dc6-3887-41db-9647-04dd1b4842c4",
   "metadata": {
    "tags": []
   },
   "outputs": [
    {
     "name": "stdout",
     "output_type": "stream",
     "text": [
      "The Zen of Python, by Tim Peters\n",
      "\n",
      "Beautiful is better than ugly.\n",
      "Explicit is better than implicit.\n",
      "Simple is better than complex.\n",
      "Complex is better than complicated.\n",
      "Flat is better than nested.\n",
      "Sparse is better than dense.\n",
      "Readability counts.\n",
      "Special cases aren't special enough to break the rules.\n",
      "Although practicality beats purity.\n",
      "Errors should never pass silently.\n",
      "Unless explicitly silenced.\n",
      "In the face of ambiguity, refuse the temptation to guess.\n",
      "There should be one-- and preferably only one --obvious way to do it.\n",
      "Although that way may not be obvious at first unless you're Dutch.\n",
      "Now is better than never.\n",
      "Although never is often better than *right* now.\n",
      "If the implementation is hard to explain, it's a bad idea.\n",
      "If the implementation is easy to explain, it may be a good idea.\n",
      "Namespaces are one honking great idea -- let's do more of those!\n"
     ]
    }
   ],
   "source": [
    "import this"
   ]
  },
  {
   "cell_type": "code",
   "execution_count": null,
   "id": "873fe0ec-54b5-4ede-97e8-1ea58c1c2f36",
   "metadata": {},
   "outputs": [],
   "source": []
  }
 ],
 "metadata": {
  "kernelspec": {
   "display_name": "tf",
   "language": "python",
   "name": "tf"
  },
  "language_info": {
   "codemirror_mode": {
    "name": "ipython",
    "version": 3
   },
   "file_extension": ".py",
   "mimetype": "text/x-python",
   "name": "python",
   "nbconvert_exporter": "python",
   "pygments_lexer": "ipython3",
   "version": "3.11.0"
  }
 },
 "nbformat": 4,
 "nbformat_minor": 5
}
