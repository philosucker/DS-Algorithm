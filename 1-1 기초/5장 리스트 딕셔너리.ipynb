{
 "cells": [
  {
   "cell_type": "markdown",
   "id": "ef60b42e-5062-4271-adeb-8a3bc5392233",
   "metadata": {},
   "source": [
    "# 리스트"
   ]
  },
  {
   "cell_type": "code",
   "execution_count": 2,
   "id": "dbc4160c-99a2-4a94-8807-6018226ddc12",
   "metadata": {
    "tags": []
   },
   "outputs": [],
   "source": [
    "a = []\n",
    "\n",
    "for i in range(10):\n",
    "    a.insert(i,i)"
   ]
  },
  {
   "cell_type": "code",
   "execution_count": 3,
   "id": "339e9070-a8e5-45d4-9f9c-3cc80a6a1581",
   "metadata": {
    "tags": []
   },
   "outputs": [
    {
     "data": {
      "text/plain": [
       "[0, 1, 2, 3, 4, 5, 6, 7, 8, 9]"
      ]
     },
     "execution_count": 3,
     "metadata": {},
     "output_type": "execute_result"
    }
   ],
   "source": [
    "a"
   ]
  },
  {
   "cell_type": "code",
   "execution_count": 4,
   "id": "6d298365-ea27-46f1-9138-5cf0c704a55f",
   "metadata": {
    "tags": []
   },
   "outputs": [],
   "source": [
    "a.append(10)"
   ]
  },
  {
   "cell_type": "code",
   "execution_count": 5,
   "id": "c21ed5a8-7c9c-4720-83c5-5fa98903a616",
   "metadata": {
    "tags": []
   },
   "outputs": [
    {
     "data": {
      "text/plain": [
       "[0, 1, 2, 3, 4, 5, 6, 7, 8, 9, 10]"
      ]
     },
     "execution_count": 5,
     "metadata": {},
     "output_type": "execute_result"
    }
   ],
   "source": [
    "a"
   ]
  },
  {
   "cell_type": "code",
   "execution_count": 6,
   "id": "01c03f4c-8684-40fe-94c2-c074ba51f1cb",
   "metadata": {
    "tags": []
   },
   "outputs": [
    {
     "name": "stdout",
     "output_type": "stream",
     "text": [
      "존재하지 않는 인덱스\n"
     ]
    }
   ],
   "source": [
    "try:\n",
    "    print(a[12])\n",
    "except IndexError:\n",
    "    print(\"존재하지 않는 인덱스\")"
   ]
  },
  {
   "cell_type": "code",
   "execution_count": 7,
   "id": "00327704-fd60-4a4e-af33-a55ac08afb13",
   "metadata": {},
   "outputs": [
    {
     "data": {
      "text/plain": [
       "1"
      ]
     },
     "execution_count": 7,
     "metadata": {},
     "output_type": "execute_result"
    }
   ],
   "source": [
    "a.count(8)"
   ]
  },
  {
   "cell_type": "code",
   "execution_count": 8,
   "id": "3bd70186-02cd-492c-b1fd-cf1e99e4312e",
   "metadata": {
    "tags": []
   },
   "outputs": [
    {
     "data": {
      "text/plain": [
       "8"
      ]
     },
     "execution_count": 8,
     "metadata": {},
     "output_type": "execute_result"
    }
   ],
   "source": [
    "a.index(8)"
   ]
  },
  {
   "cell_type": "code",
   "execution_count": 9,
   "id": "f2e2f202-7a88-4e7a-884b-b5256f8955f4",
   "metadata": {
    "tags": []
   },
   "outputs": [
    {
     "data": {
      "text/plain": [
       "[0, 1, 2, 3, 4, 5, 6, 7, 9, 10]"
      ]
     },
     "execution_count": 9,
     "metadata": {},
     "output_type": "execute_result"
    }
   ],
   "source": [
    "del a[8]\n",
    "a"
   ]
  },
  {
   "cell_type": "code",
   "execution_count": 10,
   "id": "60a298c8-d804-4dff-9f1c-cfd459adae15",
   "metadata": {
    "tags": []
   },
   "outputs": [],
   "source": [
    "a.remove(10)"
   ]
  },
  {
   "cell_type": "code",
   "execution_count": 11,
   "id": "2df21bd4-99be-4dad-a89e-e1fcf25005a6",
   "metadata": {
    "tags": []
   },
   "outputs": [
    {
     "data": {
      "text/plain": [
       "[0, 1, 2, 3, 4, 5, 6, 7, 9]"
      ]
     },
     "execution_count": 11,
     "metadata": {},
     "output_type": "execute_result"
    }
   ],
   "source": [
    "a"
   ]
  },
  {
   "cell_type": "markdown",
   "id": "526ec195-10cf-43db-8a4c-b20281112345",
   "metadata": {},
   "source": [
    "파이썬의 리스트는 객체에 대한 포인터 목록을 배열형태로 관리한다\n",
    "\n",
    "그 덕분에 배열과 연결 리스트를 합친 것과 같은 기능을 가진다. \n",
    "\n",
    "    정수, 문자열, 불리언 같은 모두 제각각인 자료형을 a 라는 단일 리스트에 통합해서 저장할 수 있다\n",
    "    각 자료형의 크기는 저마다 서로 다르기 때문에 이들을 연속된 메모리 공간에 할당하는 건 불가능 하다.\n",
    "    \n",
    "    각각의 객체에 대한 참조로 구현할 수밖에 없다.\n",
    "    인덱스를 조회하는 데에도 모든 포인터의 위치를 찾아가서 타입코드를 확인하고 값을 일일이 살펴봐야 하는 등 추가적인 작업이 필요하기 때문에 속도면에서 불리하다"
   ]
  },
  {
   "cell_type": "markdown",
   "id": "e4d95495-d621-4f90-8a1b-c0e512dfe648",
   "metadata": {},
   "source": [
    "**따라서 리스트는 인덱스 에러가 있을 수 있다**"
   ]
  },
  {
   "cell_type": "markdown",
   "id": "7fa84343-6336-42c0-bf46-a9694f429b40",
   "metadata": {},
   "source": [
    "# 딕셔너리"
   ]
  },
  {
   "cell_type": "markdown",
   "id": "a78b7b9f-0d06-4c43-b584-6be2bc18cb51",
   "metadata": {},
   "source": [
    "파이썬의 딕셔너리는 해시할수만 있다면 숫자뿐만 아니라 문자, 집합까지 불견객체를 모두 키로 사용할 수 있다\n",
    "\n",
    "    리스트는 인덱스를 숫자로만 지정할 수 있다"
   ]
  },
  {
   "cell_type": "markdown",
   "id": "f9eb639a-a67d-4a64-bdfc-3ced571cd4e3",
   "metadata": {
    "tags": []
   },
   "source": [
    "**따라서 딕셔너리는 키에러가 있을 수 있다**"
   ]
  },
  {
   "cell_type": "markdown",
   "id": "fd99c937-f8cb-4eef-86e1-79535a178563",
   "metadata": {},
   "source": [
    "#### defaultdict"
   ]
  },
  {
   "cell_type": "code",
   "execution_count": 13,
   "id": "67a64d73-fe37-4fca-80c3-bf779e307d0c",
   "metadata": {
    "tags": []
   },
   "outputs": [],
   "source": [
    "import collections\n",
    "\n",
    "a = collections.defaultdict(int)"
   ]
  },
  {
   "cell_type": "code",
   "execution_count": 14,
   "id": "f773597d-7380-47f8-b84b-e4c6dae7c82f",
   "metadata": {
    "tags": []
   },
   "outputs": [
    {
     "data": {
      "text/plain": [
       "defaultdict(int, {'A': 5})"
      ]
     },
     "execution_count": 14,
     "metadata": {},
     "output_type": "execute_result"
    }
   ],
   "source": [
    "a['A'] = 5\n",
    "a"
   ]
  },
  {
   "cell_type": "code",
   "execution_count": 15,
   "id": "d4123ca6-fab2-4cf9-8eaa-7c705cc98bea",
   "metadata": {
    "tags": []
   },
   "outputs": [
    {
     "data": {
      "text/plain": [
       "0"
      ]
     },
     "execution_count": 15,
     "metadata": {},
     "output_type": "execute_result"
    }
   ],
   "source": [
    "a['B'] # 디폴트딕트 객체는 존재하지 않는 키를 조회할 경우 디폴트 값 0으로 해당 키의 딕셔너리 아이템을 생성한다"
   ]
  },
  {
   "cell_type": "markdown",
   "id": "b80ce4bd-22a1-4e5c-8b19-49dbae82b394",
   "metadata": {},
   "source": [
    "#### counter"
   ]
  },
  {
   "cell_type": "code",
   "execution_count": 16,
   "id": "29476e12-5b7a-4c66-8b9c-f5286d64b1ef",
   "metadata": {
    "tags": []
   },
   "outputs": [
    {
     "data": {
      "text/plain": [
       "Counter({7: 3, 1: 2, 6: 2, 2: 1, 3: 1, 4: 1, 5: 1})"
      ]
     },
     "execution_count": 16,
     "metadata": {},
     "output_type": "execute_result"
    }
   ],
   "source": [
    "a = [1, 1, 2, 3, 4, 5 ,6, 6, 7, 7, 7]\n",
    "b = collections.Counter(a)\n",
    "b"
   ]
  },
  {
   "cell_type": "code",
   "execution_count": 18,
   "id": "4b0ae6c0-5d92-4b46-afb5-4feed8774090",
   "metadata": {
    "tags": []
   },
   "outputs": [
    {
     "data": {
      "text/plain": [
       "[(7, 3), (1, 2), (6, 2), (2, 1), (3, 1), (4, 1), (5, 1)]"
      ]
     },
     "execution_count": 18,
     "metadata": {},
     "output_type": "execute_result"
    }
   ],
   "source": [
    "b.most_common()"
   ]
  },
  {
   "cell_type": "code",
   "execution_count": 19,
   "id": "477b9b73-ea37-4560-a2b5-75f4689d98f1",
   "metadata": {
    "tags": []
   },
   "outputs": [
    {
     "data": {
      "text/plain": [
       "[(7, 3)]"
      ]
     },
     "execution_count": 19,
     "metadata": {},
     "output_type": "execute_result"
    }
   ],
   "source": [
    "b.most_common(1)"
   ]
  },
  {
   "cell_type": "code",
   "execution_count": 20,
   "id": "51f81fc4-5415-49bc-a541-48270dc86c66",
   "metadata": {
    "tags": []
   },
   "outputs": [
    {
     "data": {
      "text/plain": [
       "[(7, 3), (1, 2)]"
      ]
     },
     "execution_count": 20,
     "metadata": {},
     "output_type": "execute_result"
    }
   ],
   "source": [
    "b.most_common(2)"
   ]
  },
  {
   "cell_type": "markdown",
   "id": "2383df37-3324-4f02-8725-b61360e8c965",
   "metadata": {},
   "source": [
    "#### orderedDict"
   ]
  },
  {
   "cell_type": "code",
   "execution_count": 23,
   "id": "4fe6d368-0798-4d77-9451-65c743720f56",
   "metadata": {
    "tags": []
   },
   "outputs": [
    {
     "data": {
      "text/plain": [
       "OrderedDict([('banana', 3), ('apple', 4), ('pear', 1), ('orange', 2)])"
      ]
     },
     "execution_count": 23,
     "metadata": {},
     "output_type": "execute_result"
    }
   ],
   "source": [
    "c = collections.OrderedDict({\"banana\" : 3, \"apple\" : 4, \"pear\" : 1, \"orange\" : 2})\n",
    "c"
   ]
  },
  {
   "cell_type": "markdown",
   "id": "c154ddb8-9893-48c5-b944-11188ec9649d",
   "metadata": {
    "tags": []
   },
   "source": [
    "OrderedDict는 입력한 순서가 그대로 유지된다"
   ]
  },
  {
   "cell_type": "code",
   "execution_count": null,
   "id": "6b563d40-cfc6-4dba-8462-ff2cc3762a13",
   "metadata": {},
   "outputs": [],
   "source": []
  }
 ],
 "metadata": {
  "kernelspec": {
   "display_name": "tf",
   "language": "python",
   "name": "tf"
  },
  "language_info": {
   "codemirror_mode": {
    "name": "ipython",
    "version": 3
   },
   "file_extension": ".py",
   "mimetype": "text/x-python",
   "name": "python",
   "nbconvert_exporter": "python",
   "pygments_lexer": "ipython3",
   "version": "3.11.0"
  }
 },
 "nbformat": 4,
 "nbformat_minor": 5
}
