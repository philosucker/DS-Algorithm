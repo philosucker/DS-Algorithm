{
 "cells": [
  {
   "cell_type": "markdown",
   "id": "bcaa2e45-b23b-4077-b9d1-ef21fa378fa2",
   "metadata": {},
   "source": [
    "### e: 25, 27\n",
    "### m: 26, 28"
   ]
  },
  {
   "cell_type": "code",
   "execution_count": null,
   "id": "4c857d37-ebe4-4613-b046-3501eab6deb1",
   "metadata": {},
   "outputs": [],
   "source": [
    "파이썬\n",
    "list.sort()\n",
    "sorted(iterable)\n",
    "\n",
    "두 함수는 key, reverse 인자를 받을 수 있다.\n",
    "\n",
    "요점은 key 값에 어떤 함수를 할당하느냐이다.\n",
    "문제에서 주어진 조건에 따라 key값에 적절한 함수를 만들어 할당하는 것이 가장 기본적이고 중요한 풀이방식이다"
   ]
  },
  {
   "cell_type": "code",
   "execution_count": 31,
   "id": "9e77eee9-c608-40ee-b269-787c9494982c",
   "metadata": {
    "tags": []
   },
   "outputs": [
    {
     "ename": "AttributeError",
     "evalue": "'str' object has no attribute 'sort'",
     "output_type": "error",
     "traceback": [
      "\u001b[0;31m---------------------------------------------------------------------------\u001b[0m",
      "\u001b[0;31mAttributeError\u001b[0m                            Traceback (most recent call last)",
      "Cell \u001b[0;32mIn[31], line 2\u001b[0m\n\u001b[1;32m      1\u001b[0m paragraph \u001b[38;5;241m=\u001b[39m \u001b[38;5;124m\"\u001b[39m\u001b[38;5;124mBob hit a ball, the hit BALL flew far after it was hit.\u001b[39m\u001b[38;5;124m\"\u001b[39m\n\u001b[0;32m----> 2\u001b[0m paragraph\u001b[38;5;241m.\u001b[39msort()\n",
      "\u001b[0;31mAttributeError\u001b[0m: 'str' object has no attribute 'sort'"
     ]
    }
   ],
   "source": [
    "paragraph = \"Bob hit a ball, the hit BALL flew far after it was hit.\"\n",
    "paragraph.sort()"
   ]
  },
  {
   "cell_type": "code",
   "execution_count": 30,
   "id": "295bdbb8-51c8-4d15-9e79-a49dd1e13557",
   "metadata": {
    "tags": []
   },
   "outputs": [
    {
     "data": {
      "text/plain": [
       "[' ',\n",
       " ' ',\n",
       " ' ',\n",
       " ' ',\n",
       " ' ',\n",
       " ' ',\n",
       " ' ',\n",
       " ' ',\n",
       " ' ',\n",
       " ' ',\n",
       " ' ',\n",
       " ' ',\n",
       " ',',\n",
       " '.',\n",
       " 'A',\n",
       " 'B',\n",
       " 'B',\n",
       " 'L',\n",
       " 'L',\n",
       " 'a',\n",
       " 'a',\n",
       " 'a',\n",
       " 'a',\n",
       " 'a',\n",
       " 'b',\n",
       " 'b',\n",
       " 'e',\n",
       " 'e',\n",
       " 'e',\n",
       " 'f',\n",
       " 'f',\n",
       " 'f',\n",
       " 'h',\n",
       " 'h',\n",
       " 'h',\n",
       " 'h',\n",
       " 'i',\n",
       " 'i',\n",
       " 'i',\n",
       " 'i',\n",
       " 'l',\n",
       " 'l',\n",
       " 'l',\n",
       " 'o',\n",
       " 'r',\n",
       " 'r',\n",
       " 's',\n",
       " 't',\n",
       " 't',\n",
       " 't',\n",
       " 't',\n",
       " 't',\n",
       " 't',\n",
       " 'w',\n",
       " 'w']"
      ]
     },
     "execution_count": 30,
     "metadata": {},
     "output_type": "execute_result"
    }
   ],
   "source": [
    "paragraph = \"Bob hit a ball, the hit BALL flew far after it was hit.\"\n",
    "sorted(paragraph)"
   ]
  },
  {
   "cell_type": "code",
   "execution_count": null,
   "id": "0a222101-e72a-4594-b99c-54c58a2ac11a",
   "metadata": {},
   "outputs": [],
   "source": [
    "어떤 데이터를 중심으로 정렬할 건지만 정하는 거라면 \n",
    "key 함수가 직접 그 데이터가 뭔지를 반환하기만 하면 된다"
   ]
  },
  {
   "cell_type": "code",
   "execution_count": 5,
   "id": "4614c799-7692-4e8e-ba08-7925f08f1a4c",
   "metadata": {
    "tags": []
   },
   "outputs": [
    {
     "name": "stdout",
     "output_type": "stream",
     "text": [
      "[[0, 4], [1, 3], [0, 2], [2, 1]]\n"
     ]
    },
    {
     "data": {
      "text/plain": [
       "[[2, 1], [0, 2], [1, 3], [0, 4]]"
      ]
     },
     "execution_count": 5,
     "metadata": {},
     "output_type": "execute_result"
    }
   ],
   "source": [
    "lst = [[0,4], [0,2], [1,3], [2,1]]\n",
    "\n",
    "def second(x):\n",
    "    return -x[1]  # 내림차순 정렬을 하고 싶으면 값에 마이너스를 붙이면 된다.\n",
    "\n",
    "print(sorted(lst, key = second))\n",
    "lst.sort(key = lambda x : x[1])\n",
    "lst"
   ]
  },
  {
   "cell_type": "markdown",
   "id": "379105e0-4f9c-48ab-b0e6-b669b4082380",
   "metadata": {},
   "source": [
    "key 값으로 넘길 함수의 인자는  \n",
    "배열 안의 데이터 한개가 기준이다.  \n",
    "  \n",
    "위 lst에서는 리스트 안의 데이터들이 요소를 두개 갖는 리스트이므로  \n",
    "key 함수의 인자는 [a, b] 중 어떤 원소를 기준으로 잡을지를 결정하는 역할을 한다.  \n",
    "만약 키값에 아무것도 할당하지 않으면 첫번째 원소 a를 기준으로 오름차순(사전순, 대문자 우선) 정렬된다.  "
   ]
  },
  {
   "cell_type": "code",
   "execution_count": 2,
   "id": "44b1d8db-2f3c-4930-abfa-2bcc3513b206",
   "metadata": {
    "tags": []
   },
   "outputs": [],
   "source": [
    "students = [('kim', 'B+', 18), ('lee', 'A+', 21), ('choi', 'A', 18)]"
   ]
  },
  {
   "cell_type": "markdown",
   "id": "f04bafdb-1c3e-4a04-a002-e203a1b1b327",
   "metadata": {},
   "source": [
    "학점기준으로는 오름차순 정렬, 학점이 같으면 성적순으로 오름차순 정렬 하려면?"
   ]
  },
  {
   "cell_type": "code",
   "execution_count": null,
   "id": "0f35885e-8162-40d2-bae5-aaaf8f982044",
   "metadata": {},
   "outputs": [],
   "source": [
    "정렬 기준이 여러 개면, functools 라이브러리의 cmp_to_key() 함수를 사용해 직접 정렬기준을 만든다\n",
    "\n",
    "key로 넘기는 인자가 cmp_to_key() 함수일 때, \n",
    "cmp_to_key()함수의 인자로 들어가는 함수, 즉 정렬함수는 두 원소를 비교해서 나온 결과가 필요하므로, 항상 두 개의 인자를 가진다.\n",
    "각 인자는 순서대로 현재와 그 다음 값을 의미한다.\n",
    "현재값과 다음값을 비교해서 반환된 값이 0보다 크면 현재값 뒤에 다음값이 오게 하고\n",
    "반환된 값이 0이면 현재 위치를 그대로 두고\n",
    "반환된 값이 0보다 작으면 다음값이 현재값 앞에 오게 한다."
   ]
  },
  {
   "cell_type": "code",
   "execution_count": 8,
   "id": "d5d6737f-09da-4b7f-9e17-16ce404ac569",
   "metadata": {
    "tags": []
   },
   "outputs": [
    {
     "name": "stdout",
     "output_type": "stream",
     "text": [
      "[('kim', 'B+', 18), ('choi', 'A', 18), ('lee', 'A+', 21)]\n"
     ]
    }
   ],
   "source": [
    "from functools import cmp_to_key\n",
    "\n",
    "def new_sort(n1, n2):\n",
    "    if n1[2] > n2[2]:\n",
    "        return 1\n",
    "    elif n1[2] == n2[2]:\n",
    "        return 0\n",
    "    else:\n",
    "        return -1\n",
    "    \n",
    "students = [('kim', 'B+', 18), ('lee', 'A+', 21), ('choi', 'A', 18)]    \n",
    "\n",
    "print(sorted(students, key = cmp_to_key(new_sort)))"
   ]
  },
  {
   "cell_type": "markdown",
   "id": "e96bc2ae-a984-4739-bcc3-c9464c710dcd",
   "metadata": {},
   "source": [
    "key = cmp_to_key(new_sort) 와 같은 정렬 기준을 람다식으로 만들수도 있다."
   ]
  },
  {
   "cell_type": "code",
   "execution_count": 4,
   "id": "e311ede0-2b72-473a-b208-eee28ca8b543",
   "metadata": {},
   "outputs": [
    {
     "name": "stdout",
     "output_type": "stream",
     "text": [
      "[('lee', 'A+', 21), ('choi', 'A', 18), ('kim', 'B+', 18)]\n"
     ]
    }
   ],
   "source": [
    "students = [('kim', 'B+', 18), ('lee', 'A+', 21), ('choi', 'A', 18)]\n",
    "\n",
    "print(sorted(students, key = lambda x: x[1]+str(x[2])))"
   ]
  },
  {
   "cell_type": "markdown",
   "id": "67896ac5-f19f-4fc9-b1e5-05b9d3917a3c",
   "metadata": {},
   "source": [
    "람다 함수는 각 학생의 성적과 학점을 문자열로 결합하여 하나의 정렬 기준을 만듭니다.  \n",
    "예를 들어, ('kim', 'B+', 18)이라는 튜플에 대해 이 람다 함수는 'B+18'이라는 문자열을 생성합니다.  \n",
    "이렇게 생성된 문자열은 sorted() 함수에 의해 사전 순으로 정렬됩니다.  "
   ]
  },
  {
   "cell_type": "code",
   "execution_count": 10,
   "id": "70fa115e-923e-4c7f-84b2-a2c30d30b8c3",
   "metadata": {
    "tags": []
   },
   "outputs": [
    {
     "data": {
      "text/plain": [
       "True"
      ]
     },
     "execution_count": 10,
     "metadata": {},
     "output_type": "execute_result"
    }
   ],
   "source": [
    "'A+21' < 'A18'"
   ]
  },
  {
   "cell_type": "markdown",
   "id": "aa29e25c-485a-4a56-948e-82fcff05314e",
   "metadata": {},
   "source": [
    "이 경우, 'A+21'과 'A18' 모두 첫 번째 문자인 'A'에서 시작해 동일합니다.  \n",
    "따라서 비교는 다음 문자로 넘어갑니다. 두 번째 문자에서 'A+21'는 '+'를, 'A18'은 '1'을 가지고 있습니다.  \n",
    "ASCII 코드에서 '+'의 값은 43이고, '1'의 값은 49입니다.  \n",
    "따라서, '+'가 '1'보다 ASCII 코드 값이 작기 때문에, 전체 문자열 'A+21'는 'A18'보다 작다고 평가됩니다."
   ]
  },
  {
   "cell_type": "code",
   "execution_count": 11,
   "id": "b4a8368d-9a92-4a1f-b7d6-cc9c4df6a4c3",
   "metadata": {
    "tags": []
   },
   "outputs": [
    {
     "data": {
      "text/plain": [
       "False"
      ]
     },
     "execution_count": 11,
     "metadata": {},
     "output_type": "execute_result"
    }
   ],
   "source": [
    "'A+' < 'A'"
   ]
  },
  {
   "cell_type": "markdown",
   "id": "0fdecf15-6d8d-41cf-951d-208202d3f897",
   "metadata": {},
   "source": [
    "문자열 비교는 첫 번째 문자부터 시작하여 각 문자의 아스키 코드 값을 비교하며,   \n",
    "두 문자열 중 하나가 다른 하나의 접두사인 경우, 더 짧은 문자열이 더 작다고 간주됩니다."
   ]
  },
  {
   "cell_type": "markdown",
   "id": "ed3383c1-0691-497a-b110-e9aa97339492",
   "metadata": {},
   "source": [
    "# 트리정렬"
   ]
  },
  {
   "cell_type": "code",
   "execution_count": 15,
   "id": "37cdedc0-75d9-4b0e-be74-27704596e10e",
   "metadata": {
    "tags": []
   },
   "outputs": [
    {
     "data": {
      "text/plain": [
       "[0, 1, 2, 3, 4, 5, 6, 7, 8, 9]"
      ]
     },
     "execution_count": 15,
     "metadata": {},
     "output_type": "execute_result"
    }
   ],
   "source": [
    "class Node:\n",
    "    \n",
    "    def __init__(self, key = 0, value = 0):\n",
    "        self.key = key\n",
    "        self.value = value\n",
    "        self.left, self.right = None, None\n",
    "        \n",
    "root = Node()\n",
    "\n",
    "def insert(root, key):\n",
    "    if root == None:\n",
    "        root = Node(key)\n",
    "        return root\n",
    "    \n",
    "    if key < root.key:\n",
    "        root.left = insert(root.left, key)\n",
    "    else:\n",
    "        root.right = insert(root.right, key)\n",
    "    \n",
    "    return root\n",
    "\n",
    "def tree_insert(data, root):\n",
    "    for key in data:\n",
    "        root = insert(root, key)\n",
    "        \n",
    "def inorder_record(root, answer = []):\n",
    "    if root != None:\n",
    "        inorder_record(root.left, answer)\n",
    "        answer.append(root.key)\n",
    "        inorder_record(root.right, answer)\n",
    "        \n",
    "    return answer[1:]\n",
    "\n",
    "lst = [3, 0, 1, 8, 7, 2, 5, 4, 6, 9]\n",
    "\n",
    "tree_insert(lst, root)\n",
    "inorder_record(root)"
   ]
  },
  {
   "cell_type": "markdown",
   "id": "82d4cbcb-7d9e-44fb-8743-36b8bc5106aa",
   "metadata": {},
   "source": [
    "# 계수정렬(도수정렬) counting sort"
   ]
  },
  {
   "cell_type": "code",
   "execution_count": 17,
   "id": "5144cb89-613f-4964-a653-b13639e556d0",
   "metadata": {
    "tags": []
   },
   "outputs": [
    {
     "name": "stdout",
     "output_type": "stream",
     "text": [
      "{170: 1, 45: 1, 75: 1, 90: 1, 802: 1, 24: 1, 2: 1, 66: 1}\n"
     ]
    },
    {
     "data": {
      "text/plain": [
       "[2, 24, 45, 66, 75, 90, 170, 802]"
      ]
     },
     "execution_count": 17,
     "metadata": {},
     "output_type": "execute_result"
    }
   ],
   "source": [
    "def counting_sort(data):\n",
    "    count = {}\n",
    "    result = []\n",
    "    \n",
    "    for num in data:\n",
    "        count[num] = count.get(num, 0) + 1\n",
    "        \n",
    "    print(count)\n",
    "    \n",
    "    for num in range(min(data), max(data) + 1):\n",
    "        while num in count and count[num] != 0:\n",
    "            result.append(num)\n",
    "            count[num] -= 1\n",
    "    \n",
    "    return result\n",
    "\n",
    "lst = [170, 45, 75, 90, 802, 24, 2, 66]\n",
    "counting_sort(lst)"
   ]
  },
  {
   "cell_type": "markdown",
   "id": "03ea9f26-c1aa-47b9-8d7c-bc62aa94aef0",
   "metadata": {},
   "source": [
    "# 기수정렬 radix sort"
   ]
  },
  {
   "cell_type": "markdown",
   "id": "06f21893-9661-4959-810f-1c5f47c1b4d6",
   "metadata": {},
   "source": [
    "기수정렬은 계수정렬(도수정렬)이  \n",
    "\"비교적 작은 크기의 배열을 정렬하는데 좋다\"  \n",
    "는 단점을 개선해   \n",
    "자릿수별로 계수를 비교해 정렬을 수행한다  \n",
    "  \n",
    "숫자별로 자릿수를 확인해야하기 때문에  \n",
    "음수가 있으면 음수 양수를 분리해 따로 기수정렬을 해야 하고  \n",
    "부동 소수점이 있다면 소수부분을 따로 분리해 기수정렬 해야 한다.  \n",
    "  \n",
    "아래는 양수를 기준으로 기수정렬하는 코드다  "
   ]
  },
  {
   "cell_type": "code",
   "execution_count": 27,
   "id": "da3081a6-69bc-46a9-838c-d6b0b5b8b372",
   "metadata": {
    "tags": []
   },
   "outputs": [],
   "source": [
    "import random\n",
    "\n",
    "def counting_sort(data, digit):\n",
    "    n = len(data)\n",
    "    \n",
    "    output = [0] * n\n",
    "    count = [0] * 10\n",
    "    \n",
    "    for i in range(0, n):\n",
    "        index = data[i] // digit\n",
    "        count[index % 10] += 1\n",
    "        \n",
    "    for i in range(1, 10):\n",
    "        count[i] += count[i-1]\n",
    "        \n",
    "    i = n-1\n",
    "    while i >= 0:\n",
    "        index = data[i] // digit\n",
    "        output[count[index % 10] - 1] = data[i]\n",
    "        count[index % 10] -= 1\n",
    "        i -= 1\n",
    "    \n",
    "    data[:] = output\n",
    "    \n",
    "def radix_sort(data):\n",
    "    digit = 1\n",
    "    while max(data) // digit > 0:\n",
    "        counting_sort(data, digit)\n",
    "        digit *= 10\n",
    "        \n",
    "    return data\n",
    "\n",
    "lst = []\n",
    "for _ in range(1000000):\n",
    "    lst.append(random.randint(1, 100000000))\n",
    "    \n",
    "result = radix_sort(lst)"
   ]
  },
  {
   "cell_type": "markdown",
   "id": "1be40b6c-a625-44eb-9ad9-87aefbb19119",
   "metadata": {},
   "source": [
    "# 문25 두개 뽑아서 더하기 e\n",
    "https://school.programmers.co.kr/learn/courses/30/lessons/68644"
   ]
  },
  {
   "cell_type": "markdown",
   "id": "3cc0ab99-4903-4ec4-8071-34ce04867e68",
   "metadata": {},
   "source": [
    "# 문27 문자열 내마음대로 정렬하기 e\n",
    "https://school.programmers.co.kr/learn/courses/30/lessons/12915"
   ]
  },
  {
   "cell_type": "markdown",
   "id": "fac22e66-4624-4e31-84ed-b2fd63511920",
   "metadata": {},
   "source": [
    "# 문26 H-index m\n",
    "https://school.programmers.co.kr/learn/courses/30/lessons/42747"
   ]
  },
  {
   "cell_type": "markdown",
   "id": "65eee976-5543-48ba-8caf-3a37897672c3",
   "metadata": {},
   "source": [
    "# 문28 가장 큰 수 m\n",
    "https://school.programmers.co.kr/learn/courses/30/lessons/42746"
   ]
  }
 ],
 "metadata": {
  "kernelspec": {
   "display_name": "Python 3 (ipykernel)",
   "language": "python",
   "name": "python3"
  },
  "language_info": {
   "codemirror_mode": {
    "name": "ipython",
    "version": 3
   },
   "file_extension": ".py",
   "mimetype": "text/x-python",
   "name": "python",
   "nbconvert_exporter": "python",
   "pygments_lexer": "ipython3",
   "version": "3.11.0"
  }
 },
 "nbformat": 4,
 "nbformat_minor": 5
}
