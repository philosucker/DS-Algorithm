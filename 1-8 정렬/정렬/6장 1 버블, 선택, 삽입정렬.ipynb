{
 "cells": [
  {
   "cell_type": "markdown",
   "id": "ea9e07be-a96b-41c5-b0e1-189a3a213ec2",
   "metadata": {},
   "source": [
    "# 문1) ascending order, descending order, 안정적인 정렬, 안정적이지 않은 정렬\n",
    "오름차순 정렬, 내림차순 정렬  \n",
    "\n",
    "안정정렬 : 정렬후 같이 같은 원소의 순서가 유지되는 정렬\n",
    "\n",
    "\t단순교환정렬, 셰이커정렬\n",
    "\t단순삽입정렬\n",
    "    \n",
    "    병합정렬\n",
    "    \n",
    "불안정정렬 : 정렬 후 값이 같은 원소의 순서가 유지 되지 않을 수도 있는 정렬\n",
    "\n",
    "\t단순선택정렬\n",
    "    셸정렬\n",
    "    퀵정렬"
   ]
  },
  {
   "cell_type": "markdown",
   "id": "dfcc10d4-b084-4f1f-872c-4c60f9e2a9cc",
   "metadata": {},
   "source": [
    "# 문2) 버블 정렬이란? (단순 교환 정렬) 구현방법"
   ]
  },
  {
   "cell_type": "markdown",
   "id": "1d721c45-c98d-45dd-88a7-a7770b7929cb",
   "metadata": {},
   "source": [
    "배열의 맨끝에서부터 앞쪽으로 가면서,  \n",
    "원소를 두개씩 뽑아 대소관계를 비교해  \n",
    "작은 원소를 왼쪽에, 큰원소를 오른쪽에 배치.  \n",
    "이 작업을 배열길이의 n-1번 반복  "
   ]
  },
  {
   "cell_type": "code",
   "execution_count": 1,
   "id": "1ee5cf23-0ff0-4722-a0b3-ffb5b53cbb21",
   "metadata": {
    "tags": []
   },
   "outputs": [],
   "source": [
    "from __future__ import annotations"
   ]
  },
  {
   "cell_type": "code",
   "execution_count": null,
   "id": "130d687b-702e-4c1b-a4f6-bcec69491208",
   "metadata": {},
   "outputs": [],
   "source": [
    "def buuble_sort(a):\n",
    "    \n",
    "    n = len(a)\n",
    "    \n",
    "    for i in range(n-1):\n",
    "        for j in range(n-1, i, -1):\n",
    "            if a[j-1] > a[j]:\n",
    "                a[j-1], a[j] = a[j], a[j-1]"
   ]
  },
  {
   "cell_type": "code",
   "execution_count": 3,
   "id": "df35fd9e-1e16-45c1-afd6-2fe3f01de852",
   "metadata": {
    "tags": []
   },
   "outputs": [
    {
     "name": "stdout",
     "output_type": "stream",
     "text": [
      "버블 정렬을 수행합니다.\n"
     ]
    },
    {
     "name": "stdin",
     "output_type": "stream",
     "text": [
      "원소 수를 입력하세요.:  5\n",
      "x[0] :  2\n",
      "x[1] :  2345\n",
      "x[2] :  432\n",
      "x[3] :  5\n",
      "x[4] :  245\n"
     ]
    },
    {
     "name": "stdout",
     "output_type": "stream",
     "text": [
      "오름차순으로 정렬했습니다.\n",
      "x[0] = 2\n",
      "x[1] = 5\n",
      "x[2] = 245\n",
      "x[3] = 432\n",
      "x[4] = 2345\n"
     ]
    }
   ],
   "source": [
    "from typing import MutableSequence\n",
    "\n",
    "def bubble_sort(a: MutableSequence) -> None:\n",
    "    \"\"\"버블 정렬\"\"\"\n",
    "    n = len(a)\n",
    "    for i in range(n - 1):  # 배열의 원소를 끝에서 앞쪽 방향으로 두개씩 비교하면서 바로 스위치하니까, \n",
    "                            # 배열의 (모든 원소 개수 - 1번) 만큼만 반복하면 된다\n",
    "        for j in range(n - 1, i, -1): # 두개씩 비교할 때,맨 첫 시행에 끝에서 앞쪽까지 한번 가면, 가장 작은 원소가 맨앞으로 가게 되므로\n",
    "                                      # 두번째 for문에서 range 범위를 i까지로 두는 이유 : n-1번 반복할 때마다 오름차순으로 한원소씩 정렬되므로\n",
    "                                      # 반복될 때마다 범위를 한 원소길이만큼 짧아지게 하면 된다. \n",
    "            if a[j - 1] > a[j]:                     # 맨 뒤에서 두번째 있는 원소가 맨 뒤의 원소보다 크면\n",
    "                a[j - 1], a[j] = a[j], a[j - 1]     # 맨 뒤의 원소를 그 앞으로, 맨뒤에서 두번째 있는 원소를 맨 뒤로 다시 바인딩해준다.\n",
    "\n",
    "if __name__ == '__main__':\n",
    "    print('버블 정렬을 수행합니다.')\n",
    "    num = int(input('원소 수를 입력하세요.: '))\n",
    "    x = [None] * num  # 원소 수가 num인 배열을 생성\n",
    "\n",
    "    for i in range(num):\n",
    "        x[i] = int(input(f'x[{i}] : '))\n",
    "\n",
    "    bubble_sort(x)  # 배열 x를 버블 정렬\n",
    "\n",
    "    print('오름차순으로 정렬했습니다.')\n",
    "    for i in range(num):\n",
    "        print(f'x[{i}] = {x[i]}')"
   ]
  },
  {
   "cell_type": "code",
   "execution_count": 28,
   "id": "4e0b8e3e-a71c-4620-9521-8263f441538e",
   "metadata": {
    "tags": []
   },
   "outputs": [
    {
     "name": "stdin",
     "output_type": "stream",
     "text": [
      "총 원소의 길이를 입력하세요:  9\n"
     ]
    },
    {
     "name": "stdout",
     "output_type": "stream",
     "text": [
      "입력하신 배열은 다음과 같습니다 : []\n"
     ]
    },
    {
     "name": "stdin",
     "output_type": "stream",
     "text": [
      "배열을 버블정렬 하시겠습니까? 네 / 아니오 :  아니오\n"
     ]
    }
   ],
   "source": [
    "num = int(input(\"총 원소의 길이를 입력하세요: \"))\n",
    "\n",
    "list_ = []\n",
    "for n in range(len(list_)):\n",
    "    number = int(input(f'배열에 넣을 {n}번째 정수를 입력하세요: '))\n",
    "    list_.append(number)\n",
    "\n",
    "print(f'입력하신 배열은 다음과 같습니다 : {list_}')\n",
    "\n",
    "answer = input(\"배열을 버블정렬 하시겠습니까? 네 / 아니오 : \")\n",
    "if answer == \"네\":\n",
    "    print(\"배열을 버블정렬로 정렬한 결과를 출력합니다.\")\n",
    "    bubble_sort(list_)"
   ]
  },
  {
   "cell_type": "markdown",
   "id": "3ff85b82-6f83-4afd-9e0d-140e6aa881d7",
   "metadata": {},
   "source": [
    "    주어진 코드에는 두 가지 문제점이 있습니다:\n",
    "\n",
    "    반복문의 범위 오류: \n",
    "    list_ 리스트의 길이를 입력받기 전에 \n",
    "    range(len(list_))를 사용하여 반복문을 실행하려고 하고 있습니다. \n",
    "    이때 list_는 아직 비어 있으므로 len(list_)는 0이 되고, 따라서 반복문은 실행되지 않습니다. \n",
    "    num 변수의 값을 사용하여 반복문을 설정해야 합니다.\n",
    "\n",
    "        수정된 코드:\n",
    "        num = int(input(\"총 원소의 길이를 입력하세요: \"))\n",
    "\n",
    "        list_ = []\n",
    "        for n in range(num):\n",
    "            number = int(input(f'배열에 넣을 {n}번째 정수를 입력하세요: '))\n",
    "            list_.append(number)\n",
    "\n",
    "    변수 이름 중복: \n",
    "    list는 파이썬에서 내장 함수와 이름이 겹치므로 변수로 사용하는 것은 권장되지 않습니다. \n",
    "    코드에서 사용된 list_ 변수 이름을 다른 것으로 바꾸는 것이 좋습니다.\n",
    "\n",
    "    위 두 가지 문제를 해결한 수정된 코드를 사용하면 올바르게 동작할 것입니다."
   ]
  },
  {
   "cell_type": "code",
   "execution_count": 13,
   "id": "0727f898-b88f-4c90-ae6e-22e803961366",
   "metadata": {
    "tags": []
   },
   "outputs": [
    {
     "name": "stdin",
     "output_type": "stream",
     "text": [
      "총 원소의 길이를 입력하세요:  5\n",
      "배열에 넣을 1번째 정수를 입력하세요:  654\n",
      "배열에 넣을 2번째 정수를 입력하세요:  543\n",
      "배열에 넣을 3번째 정수를 입력하세요:  432\n",
      "배열에 넣을 4번째 정수를 입력하세요:  321\n",
      "배열에 넣을 5번째 정수를 입력하세요:  1\n"
     ]
    },
    {
     "name": "stdout",
     "output_type": "stream",
     "text": [
      "입력하신 배열은 다음과 같습니다 : [654, 543, 432, 321, 1]\n"
     ]
    },
    {
     "name": "stdin",
     "output_type": "stream",
     "text": [
      "배열을 버블정렬 하시겠습니까? 네 / 아니오 :  네\n"
     ]
    },
    {
     "name": "stdout",
     "output_type": "stream",
     "text": [
      "배열을 버블정렬로 정렬한 결과를 출력합니다.\n"
     ]
    }
   ],
   "source": [
    "num = int(input(\"총 원소의 길이를 입력하세요: \"))\n",
    "\n",
    "arr = []\n",
    "for n in range(num):\n",
    "    number = int(input(f'배열에 넣을 {n+1}번째 정수를 입력하세요: '))\n",
    "    arr.append(number)\n",
    "\n",
    "print(f'입력하신 배열은 다음과 같습니다 : {arr}')\n",
    "\n",
    "answer = input(\"배열을 버블정렬 하시겠습니까? 네 / 아니오 : \")\n",
    "if answer == \"네\":\n",
    "    print(\"배열을 버블정렬로 정렬한 결과를 출력합니다.\")\n",
    "    bubble_sort(arr)"
   ]
  },
  {
   "cell_type": "code",
   "execution_count": 14,
   "id": "9ca94a2c-a587-4db5-882a-bc5d244aba8b",
   "metadata": {
    "tags": []
   },
   "outputs": [
    {
     "name": "stdin",
     "output_type": "stream",
     "text": [
      "총 원소의 길이를 입력하세요:  5\n",
      "배열에 넣을 1번째 정수를 입력하세요:  756\n",
      "배열에 넣을 2번째 정수를 입력하세요:  654\n",
      "배열에 넣을 3번째 정수를 입력하세요:  543\n",
      "배열에 넣을 4번째 정수를 입력하세요:  432\n",
      "배열에 넣을 5번째 정수를 입력하세요:  321\n"
     ]
    },
    {
     "name": "stdout",
     "output_type": "stream",
     "text": [
      "입력하신 배열은 다음과 같습니다 : [756, 654, 543, 432, 321]\n"
     ]
    },
    {
     "name": "stdin",
     "output_type": "stream",
     "text": [
      "배열을 버블정렬 하시겠습니까? 네 / 아니오 :  네\n"
     ]
    },
    {
     "name": "stdout",
     "output_type": "stream",
     "text": [
      "배열을 버블정렬로 정렬한 결과를 출력합니다.\n",
      "[321, 432, 543, 654, 756]\n"
     ]
    }
   ],
   "source": [
    "num = int(input(\"총 원소의 길이를 입력하세요: \"))\n",
    "\n",
    "arr = []\n",
    "for n in range(num):\n",
    "    number = int(input(f'배열에 넣을 {n+1}번째 정수를 입력하세요: '))\n",
    "    arr.append(number)\n",
    "\n",
    "print(f'입력하신 배열은 다음과 같습니다 : {arr}')\n",
    "\n",
    "answer = input(\"배열을 버블정렬 하시겠습니까? 네 / 아니오 : \")\n",
    "if answer == \"네\":\n",
    "    print(\"배열을 버블정렬로 정렬한 결과를 출력합니다.\")\n",
    "    bubble_sort(arr)\n",
    "    print(arr)"
   ]
  },
  {
   "cell_type": "code",
   "execution_count": 15,
   "id": "8439de7e-e7b3-4cea-8fe5-6bc200934c4e",
   "metadata": {
    "tags": []
   },
   "outputs": [
    {
     "name": "stdin",
     "output_type": "stream",
     "text": [
      "총 원소의 길이를 입력하세요:  5\n",
      "배열에 넣을 1번째 정수를 입력하세요:  765\n",
      "배열에 넣을 2번째 정수를 입력하세요:  654\n",
      "배열에 넣을 3번째 정수를 입력하세요:  543\n",
      "배열에 넣을 4번째 정수를 입력하세요:  432\n",
      "배열에 넣을 5번째 정수를 입력하세요:  321\n"
     ]
    },
    {
     "name": "stdout",
     "output_type": "stream",
     "text": [
      "입력하신 배열은 다음과 같습니다 : [765, 654, 543, 432, 321]\n"
     ]
    },
    {
     "name": "stdin",
     "output_type": "stream",
     "text": [
      "배열을 버블정렬 하시겠습니까? 네 / 아니오 :  네\n"
     ]
    },
    {
     "name": "stdout",
     "output_type": "stream",
     "text": [
      "배열을 버블정렬로 정렬한 결과를 출력합니다.\n"
     ]
    },
    {
     "data": {
      "text/plain": [
       "[321, 432, 543, 654, 765]"
      ]
     },
     "execution_count": 15,
     "metadata": {},
     "output_type": "execute_result"
    }
   ],
   "source": [
    "num = int(input(\"총 원소의 길이를 입력하세요: \"))\n",
    "\n",
    "arr = []\n",
    "for n in range(num):\n",
    "    number = int(input(f'배열에 넣을 {n+1}번째 정수를 입력하세요: '))\n",
    "    arr.append(number)\n",
    "\n",
    "print(f'입력하신 배열은 다음과 같습니다 : {arr}')\n",
    "\n",
    "answer = input(\"배열을 버블정렬 하시겠습니까? 네 / 아니오 : \")\n",
    "if answer == \"네\":\n",
    "    print(\"배열을 버블정렬로 정렬한 결과를 출력합니다.\")\n",
    "\n",
    "bubble_sort(arr)"
   ]
  },
  {
   "cell_type": "markdown",
   "id": "f434f22e-e229-41d9-8e75-2589ec0a0f2e",
   "metadata": {},
   "source": [
    "#### 그냥 bubble_sort(arr) 만 했을 때 return 값을 보여주는 건 주피터 노트북의 기능이다.\n",
    "### .py 스크립트로 작성하거나 if문 안에 넣었을 땐, return 값을 변수로 받아 출력시켜야 보인다. \n",
    "\n",
    "    bubble_sort(arr) 함수를 if 문 안에 넣으면 \n",
    "    함수의 반환값은 if 문에서만 사용되고, 외부로 반환되지 않기 때문에\n",
    "    if문 밖에서는 반환값을 활용할 수 없습니다."
   ]
  },
  {
   "cell_type": "markdown",
   "id": "3dca5b74-9c0a-400b-a034-459d0876691f",
   "metadata": {},
   "source": [
    "# 교환과정 출력"
   ]
  },
  {
   "cell_type": "code",
   "execution_count": 28,
   "id": "91b5fef4-d5dd-4ffc-b0f2-5d167986b258",
   "metadata": {
    "tags": []
   },
   "outputs": [],
   "source": [
    "# [Do it! 실습 6-2] 버블 정렬 알고리즘 구현(정렬 과정을 출력)\n",
    "\n",
    "from typing import MutableSequence\n",
    "\n",
    "def bubble_sort_verbose(a: MutableSequence) -> None:\n",
    "    \"\"\"버블 정렬(정렬 과정을 출력)\"\"\"\n",
    "    ccnt = 0  # 비교 횟수\n",
    "    scnt = 0  # 교환 횟수\n",
    "    n = len(a)\n",
    "    for i in range(n - 1):\n",
    "        print(f'패스 {i + 1}')                 # 패스 넘버\n",
    "        for j in range(n - 1, i, -1):\n",
    "            for m in range(0, n - 1):        \n",
    "               print(f'{a[m]:2}' + ('  ' if m != j - 1 else\n",
    "                                    ' +' if a[j - 1] > a[j] else ' -'), \n",
    "                                    end='')\n",
    "            print(f'{a[n - 1]:2}')  # 2개씩 비교하는 작업 매반복 라인 전부를 미리 출력\n",
    "            ccnt += 1\n",
    "            if a[j - 1] > a[j]:\n",
    "                scnt += 1\n",
    "                a[j - 1], a[j] = a[j], a[j - 1]\n",
    "        for m in range(0, n - 1):\n",
    "           print(f'{a[m]:2}', end='  ')\n",
    "        print(f'{a[n - 1]:2}')\n",
    "    print(f'비교를 {ccnt}번 했습니다.')\n",
    "    print(f'교환을 {scnt}번 했습니다.')"
   ]
  },
  {
   "cell_type": "code",
   "execution_count": 26,
   "id": "49ad3d1c-d440-4043-811d-77f306f47ec1",
   "metadata": {
    "tags": []
   },
   "outputs": [
    {
     "data": {
      "text/plain": [
       "' 23'"
      ]
     },
     "execution_count": 26,
     "metadata": {},
     "output_type": "execute_result"
    }
   ],
   "source": [
    "a = [1,23,45]\n",
    "f'{a[1]:3}'\n",
    "  "
   ]
  },
  {
   "cell_type": "code",
   "execution_count": 27,
   "id": "86cb3646-7c4a-44a5-92af-1f0068d3ffb5",
   "metadata": {
    "tags": []
   },
   "outputs": [
    {
     "data": {
      "text/plain": [
       "'23 '"
      ]
     },
     "execution_count": 27,
     "metadata": {},
     "output_type": "execute_result"
    }
   ],
   "source": [
    "a = [1,23,45]\n",
    "f'{a[1]:<3}'"
   ]
  },
  {
   "cell_type": "code",
   "execution_count": 31,
   "id": "65013bf5-878a-4845-b15d-21d5f5c1403a",
   "metadata": {
    "tags": []
   },
   "outputs": [],
   "source": [
    "a = [6, 4, 3, 7, 1, 9, 8]"
   ]
  },
  {
   "cell_type": "code",
   "execution_count": 36,
   "id": "7e058289-0c31-49e9-a8fd-833c1b926999",
   "metadata": {
    "tags": []
   },
   "outputs": [
    {
     "name": "stdout",
     "output_type": "stream",
     "text": [
      "패스 1\n",
      " 6   4   3   7   1   9 + 8\n",
      " 6   4   3   7   1 - 9   8\n",
      " 6   4   3   7 + 1   9   8\n",
      " 6   4   3 - 7   1   9   8\n",
      " 6   4 + 3   7   1   9   8\n",
      " 6 + 4   3   7   1   9   8\n",
      "패스 2\n",
      " 6   4   3   7   1   9 + 8\n",
      " 6   4   3   7   1 - 9   8\n",
      " 6   4   3   7 + 1   9   8\n",
      " 6   4   3 - 7   1   9   8\n",
      " 6   4 + 3   7   1   9   8\n",
      "패스 3\n",
      " 6   4   3   7   1   9 + 8\n",
      " 6   4   3   7   1 - 9   8\n",
      " 6   4   3   7 + 1   9   8\n",
      " 6   4   3 - 7   1   9   8\n",
      "패스 4\n",
      " 6   4   3   7   1   9 + 8\n",
      " 6   4   3   7   1 - 9   8\n",
      " 6   4   3   7 + 1   9   8\n",
      "패스 5\n",
      " 6   4   3   7   1   9 + 8\n",
      " 6   4   3   7   1 - 9   8\n",
      "패스 6\n",
      " 6   4   3   7   1   9 + 8\n"
     ]
    }
   ],
   "source": [
    "n = len(a)\n",
    "for i in range(n - 1):\n",
    "    print(f'패스 {i + 1}')                 # 패스 넘버\n",
    "    for j in range(n - 1, i, -1):\n",
    "        for m in range(0, n - 1):         \n",
    "           print(f'{a[m]:2}' + ('  ' if m != j - 1 else\n",
    "                                ' +' if a[j - 1] > a[j] else ' -'), \n",
    "                                end='')\n",
    "        print(f'{a[n - 1]:2}') # 2개씩 비교하는 작업 매반복 라인 전부를 미리 출력"
   ]
  },
  {
   "cell_type": "markdown",
   "id": "256af0da-a9d6-4a71-8cb1-e7230eeace21",
   "metadata": {},
   "source": [
    "# 문3)버블정렬의 시간복잡도\n",
    "비교횟수 : 배열의 길이가 n이면 1부터 n까지 더한 값만큼 비교  \n",
    "n(n+1) / 2 번  \n",
    "따라서 최악의 경우 O(n^2)"
   ]
  },
  {
   "cell_type": "code",
   "execution_count": null,
   "id": "3a8e47e5-86f3-4475-ba4a-ada06dadf1f1",
   "metadata": {},
   "outputs": [],
   "source": [
    "def bubble_sort(a):\n",
    "    n = len(a)\n",
    "    \n",
    "    for i in range(n-1):\n",
    "        exchange = 0\n",
    "        for j in range(n-1, i, -1):\n",
    "            if a[j] < a[j-1]:\n",
    "                a[j], a[j-1] = a[j-1], a[j]\n",
    "                exchange += 1\n",
    "        if exchange == 0:\n",
    "            break"
   ]
  },
  {
   "cell_type": "markdown",
   "id": "96a71b30-5e23-4c9f-903a-eaa57d0ba6b4",
   "metadata": {},
   "source": [
    "# 문4) 버블정렬 알고리즘 개선 1\n",
    "#### 패스 횟수 줄이기"
   ]
  },
  {
   "cell_type": "code",
   "execution_count": 1,
   "id": "4a82a4b8-a018-4355-b4f6-940b1bff080e",
   "metadata": {
    "tags": []
   },
   "outputs": [],
   "source": [
    "from typing import MutableSequence\n",
    "\n",
    "def bubble_sort(a: MutableSequence) -> None:\n",
    "    \"\"\"교환이 한번도 일어나지 않으면, 정렬이 끝난 것이므로 반복 종료\"\"\"\n",
    "    n = len(a)\n",
    "    for i in range(n - 1):\n",
    "        exchng = 0  # 패스에서 교환 횟수\n",
    "        for j in range(n - 1, i, -1):\n",
    "            if a[j - 1] > a[j]:\n",
    "                a[j - 1], a[j] = a[j], a[j - 1]\n",
    "                exchng += 1\n",
    "        if exchng == 0:  # 교환 없었던 패스가 끝난 후에야 탈출\n",
    "            break"
   ]
  },
  {
   "cell_type": "markdown",
   "id": "899f588c-5538-4a08-bdb9-82c97f614bf8",
   "metadata": {
    "tags": []
   },
   "source": [
    "# 문5) 버블정렬 알고리즘 개선2\n",
    "####  패스횟수 줄이기 + 비교횟수 줄이기 = 정렬에 필요한 반복만 하기"
   ]
  },
  {
   "cell_type": "code",
   "execution_count": 26,
   "id": "e1dc28de-7932-4925-8eee-d429c65f0bc0",
   "metadata": {
    "tags": []
   },
   "outputs": [],
   "source": [
    "from typing import MutableSequence\n",
    "\n",
    "def bubble_sort(a: MutableSequence) -> None:\n",
    "    \"\"\"\n",
    "    중간에 교환이 일어나지 않으면, \n",
    "    교환이 일어나지 않은 부분부터는 정렬 완료된 것이므로, \n",
    "    맨끝에서 해당 부분까지로 탐색범위 줄임\n",
    "    \"\"\"\n",
    "    n = len(a)\n",
    "    k = 0\n",
    "    while k < n - 1:\n",
    "        last = n - 1  # 맨 처음부터 교환이 안일어나는 경우(정렬된 배열이 입력되는 경우)도 있을 수 있으므로 초기화 필요\n",
    "                      # (n-1보다 작은 수로 초기화하면 무한루프에 빠진다) \n",
    "        for j in range(n - 1, k, -1):\n",
    "            if a[j - 1] > a[j]:\n",
    "                a[j - 1], a[j] = a[j], a[j - 1]\n",
    "                last = j\n",
    "        k = last\n",
    "        \n",
    "    return a"
   ]
  },
  {
   "cell_type": "code",
   "execution_count": 27,
   "id": "ad6e02a3-58a5-43ea-b69e-63b71d719006",
   "metadata": {
    "tags": []
   },
   "outputs": [
    {
     "data": {
      "text/plain": [
       "[1, 3, 4, 6, 7, 8, 9]"
      ]
     },
     "execution_count": 27,
     "metadata": {},
     "output_type": "execute_result"
    }
   ],
   "source": [
    "bubble_sort([1, 3, 4, 6, 7, 8, 9])"
   ]
  },
  {
   "cell_type": "code",
   "execution_count": 28,
   "id": "f1c1b841-42bb-4cca-8e17-afd69043fae8",
   "metadata": {
    "tags": []
   },
   "outputs": [],
   "source": [
    "from bubble_sort1_verbose import bubble_sort_verbose\n",
    "from bubble_sort2_verbose import bubble_sort2_verbose\n",
    "from bubble_sort3_verbose import bubble_sort3_verbose"
   ]
  },
  {
   "cell_type": "code",
   "execution_count": 14,
   "id": "fc1f4c91-3f53-47f7-ab47-7dea791537b6",
   "metadata": {
    "tags": []
   },
   "outputs": [
    {
     "name": "stdout",
     "output_type": "stream",
     "text": [
      "패스 1\n",
      " 1   3   9   4   7   8 + 6\n",
      " 1   3   9   4   7 + 6   8\n",
      " 1   3   9   4 - 6   7   8\n",
      " 1   3   9 + 4   6   7   8\n",
      " 1   3 - 4   9   6   7   8\n",
      " 1 - 3   4   9   6   7   8\n",
      " 1   3   4   9   6   7   8\n",
      "패스 2\n",
      " 1   3   4   9   6   7 - 8\n",
      " 1   3   4   9   6 - 7   8\n",
      " 1   3   4   9 + 6   7   8\n",
      " 1   3   4 - 6   9   7   8\n",
      " 1   3 - 4   6   9   7   8\n",
      " 1   3   4   6   9   7   8\n",
      "패스 3\n",
      " 1   3   4   6   9   7 - 8\n",
      " 1   3   4   6   9 + 7   8\n",
      " 1   3   4   6 - 7   9   8\n",
      " 1   3   4 - 6   7   9   8\n",
      " 1   3   4   6   7   9   8\n",
      "패스 4\n",
      " 1   3   4   6   7   9 + 8\n",
      " 1   3   4   6   7 - 8   9\n",
      " 1   3   4   6 - 7   8   9\n",
      " 1   3   4   6   7   8   9\n",
      "패스 5\n",
      " 1   3   4   6   7   8 - 9\n",
      " 1   3   4   6   7 - 8   9\n",
      " 1   3   4   6   7   8   9\n",
      "패스 6\n",
      " 1   3   4   6   7   8 - 9\n",
      " 1   3   4   6   7   8   9\n",
      "비교를 21번 했습니다.\n",
      "교환을 6번 했습니다.\n"
     ]
    }
   ],
   "source": [
    "a = [1, 3, 9, 4, 7, 8, 6]\n",
    "bubble_sort_verbose(a)"
   ]
  },
  {
   "cell_type": "code",
   "execution_count": 15,
   "id": "e0f62594-1ed2-47dd-9ad1-4404764fa15e",
   "metadata": {
    "tags": []
   },
   "outputs": [
    {
     "name": "stdout",
     "output_type": "stream",
     "text": [
      "패스 1\n",
      " 1   3   9   4   7   8 + 6\n",
      " 1   3   9   4   7 + 6   8\n",
      " 1   3   9   4 - 6   7   8\n",
      " 1   3   9 + 4   6   7   8\n",
      " 1   3 - 4   9   6   7   8\n",
      " 1 - 3   4   9   6   7   8\n",
      " 1   3   4   9   6   7   8\n",
      "패스 2\n",
      " 1   3   4   9   6   7 - 8\n",
      " 1   3   4   9   6 - 7   8\n",
      " 1   3   4   9 + 6   7   8\n",
      " 1   3   4 - 6   9   7   8\n",
      " 1   3 - 4   6   9   7   8\n",
      " 1   3   4   6   9   7   8\n",
      "패스 3\n",
      " 1   3   4   6   9   7 - 8\n",
      " 1   3   4   6   9 + 7   8\n",
      " 1   3   4   6 - 7   9   8\n",
      " 1   3   4 - 6   7   9   8\n",
      " 1   3   4   6   7   9   8\n",
      "패스 4\n",
      " 1   3   4   6   7   9 + 8\n",
      " 1   3   4   6   7 - 8   9\n",
      " 1   3   4   6 - 7   8   9\n",
      " 1   3   4   6   7   8   9\n",
      "패스 5\n",
      " 1   3   4   6   7   8 - 9\n",
      " 1   3   4   6   7 - 8   9\n",
      " 1   3   4   6   7   8   9\n",
      "비교를 20번 했습니다.\n",
      "교환을 6번 했습니다.\n"
     ]
    }
   ],
   "source": [
    "a = [1, 3, 9, 4, 7, 8, 6]\n",
    "bubble_sort2_verbose(a)"
   ]
  },
  {
   "cell_type": "code",
   "execution_count": 16,
   "id": "04bfce81-bc04-4e51-9eb7-de54b3dd0a90",
   "metadata": {
    "tags": []
   },
   "outputs": [
    {
     "name": "stdout",
     "output_type": "stream",
     "text": [
      "패스 1\n",
      " 1   3   9   4   7   8 + 6\n",
      " 1   3   9   4   7 + 6   8\n",
      " 1   3   9   4 - 6   7   8\n",
      " 1   3   9 + 4   6   7   8\n",
      " 1   3 - 4   9   6   7   8\n",
      " 1 - 3   4   9   6   7   8\n",
      " 1   3   4   9   6   7   8\n",
      "패스 2\n",
      " 1   3   4   9   6   7 - 8\n",
      " 1   3   4   9   6 - 7   8\n",
      " 1   3   4   9 + 6   7   8\n",
      " 1   3   4   6   9   7   8\n",
      "패스 3\n",
      " 1   3   4   6   9   7 - 8\n",
      " 1   3   4   6   9 + 7   8\n",
      " 1   3   4   6   7   9   8\n",
      "패스 4\n",
      " 1   3   4   6   7   9 + 8\n",
      " 1   3   4   6   7   8   9\n",
      "비교를 12번 했습니다.\n",
      "교환을 6번 했습니다.\n"
     ]
    }
   ],
   "source": [
    "a = [1, 3, 9, 4, 7, 8, 6]\n",
    "bubble_sort3_verbose(a)"
   ]
  },
  {
   "cell_type": "markdown",
   "id": "68030c2c-c085-4bee-a2e8-878374be0ed5",
   "metadata": {},
   "source": [
    "# 문6) 세이커 정렬이 필요한 이유, 구현"
   ]
  },
  {
   "cell_type": "markdown",
   "id": "cd9cce83-2e90-4a87-8d10-4dac89d5177b",
   "metadata": {},
   "source": [
    "    버블 정렬의 문제는 초반 이후로 이미 정렬이 다 되어 있고 \n",
    "    앞쪽만 뒤로 보내면 되는 경우에\n",
    "    효율이 안좋다는 것이다.\n",
    "    [9, 1, 3, 4, 6, 7, 8]"
   ]
  },
  {
   "cell_type": "code",
   "execution_count": 31,
   "id": "4453099c-ec90-4770-aeba-00e1fa8638cf",
   "metadata": {
    "tags": []
   },
   "outputs": [],
   "source": [
    "from typing import MutableSequence\n",
    "\n",
    "def shaker_sort(a: MutableSequence) -> None:\n",
    "    \"\"\"셰이커 정렬\"\"\"\n",
    "    left = 0\n",
    "    right = len(a) - 1\n",
    "    \n",
    "    last = right\n",
    "    \n",
    "    while left < right:\n",
    "        for j in range(right, left, -1):  \n",
    "            if a[j - 1] > a[j]:\n",
    "                a[j - 1], a[j] = a[j], a[j - 1]\n",
    "                last = j\n",
    "        left = last\n",
    "\n",
    "        for j in range(left, right):\n",
    "            if a[j] > a[j + 1]:\n",
    "                a[j], a[j + 1] = a[j + 1], a[j]\n",
    "                last = j\n",
    "        right = last\n",
    "        print(left, right)\n",
    "    return a"
   ]
  },
  {
   "cell_type": "code",
   "execution_count": 32,
   "id": "57b5455b-8b8f-4af4-a88a-fde195b70870",
   "metadata": {
    "tags": []
   },
   "outputs": [],
   "source": [
    "a = [1, 9, 3, 4, 6, 7, 8]"
   ]
  },
  {
   "cell_type": "code",
   "execution_count": 33,
   "id": "48c3b577-a3d8-49e6-b2d8-86551eed4e38",
   "metadata": {
    "tags": []
   },
   "outputs": [
    {
     "name": "stdout",
     "output_type": "stream",
     "text": [
      "2 5\n",
      "5 5\n"
     ]
    },
    {
     "data": {
      "text/plain": [
       "[1, 3, 4, 6, 7, 8, 9]"
      ]
     },
     "execution_count": 33,
     "metadata": {},
     "output_type": "execute_result"
    }
   ],
   "source": [
    "shaker_sort([1, 9, 3, 4, 6, 7, 8])"
   ]
  },
  {
   "cell_type": "code",
   "execution_count": 32,
   "id": "c4448834-a4b4-46f5-9c86-52244ba49ee0",
   "metadata": {
    "tags": []
   },
   "outputs": [],
   "source": [
    "left = 0\n",
    "right = len(a) - 1\n",
    "\n",
    "last = right"
   ]
  },
  {
   "cell_type": "code",
   "execution_count": 33,
   "id": "1144caef-98f2-4dd1-99dd-bb8c09191339",
   "metadata": {
    "tags": []
   },
   "outputs": [
    {
     "name": "stdout",
     "output_type": "stream",
     "text": [
      "6\n",
      "5\n",
      "4\n",
      "3\n",
      "2\n",
      "1\n"
     ]
    }
   ],
   "source": [
    "for j in range(right, left, -1):\n",
    "    print(j)"
   ]
  },
  {
   "cell_type": "code",
   "execution_count": 34,
   "id": "6cc02339-4575-46cd-a128-c2c42f8c939e",
   "metadata": {
    "tags": []
   },
   "outputs": [
    {
     "name": "stdout",
     "output_type": "stream",
     "text": [
      "0\n",
      "1\n",
      "2\n",
      "3\n",
      "4\n",
      "5\n"
     ]
    }
   ],
   "source": [
    "for j in range(left, right):\n",
    "    print(j)"
   ]
  },
  {
   "cell_type": "code",
   "execution_count": 35,
   "id": "835505b7-e15f-441a-be76-ff123c8f26dc",
   "metadata": {
    "tags": []
   },
   "outputs": [],
   "source": [
    "for j in range(left, right, -1):\n",
    "    print(j)"
   ]
  },
  {
   "cell_type": "code",
   "execution_count": 36,
   "id": "159d574e-b5eb-4c2b-80ec-ecf76b4e5270",
   "metadata": {
    "tags": []
   },
   "outputs": [],
   "source": [
    "for j in range(right, left):\n",
    "    print(j)"
   ]
  },
  {
   "cell_type": "markdown",
   "id": "0fc3c2f6-f08d-457c-a807-b9bf7cad014d",
   "metadata": {},
   "source": [
    "    첫 번째 루프에서 range(left, right, -1)를 사용하고 있습니다. \n",
    "    이 루프는 left에서 시작해서 right까지 -1씩 감소하는 범위로 돌아갑니다. \n",
    "    하지만 left가 항상 0으로 설정되어 있으므로 range(left, right, -1)은 비어 있는 범위가 됩니다. \n",
    "    따라서 첫 번째 루프에서는 아무 것도 프린트되지 않습니다.\n",
    "\n",
    "    두 번째 루프에서는 range(right, left)를 사용하고 있습니다.  \n",
    "    Python의 range 함수는 시작값이 끝값보다 크면 아무것도 반환하지 않습니다. \n",
    "    그 결과 두 번째 루프에서도 아무 것도 출력되지 않습니다."
   ]
  },
  {
   "cell_type": "code",
   "execution_count": 38,
   "id": "6562c77e-4418-4984-8d6a-03d2c169509f",
   "metadata": {
    "tags": []
   },
   "outputs": [],
   "source": [
    "for i in range(1,1):\n",
    "    print(i)"
   ]
  },
  {
   "cell_type": "code",
   "execution_count": 39,
   "id": "6d61c86d-3e20-4719-bf87-5729156bab27",
   "metadata": {
    "tags": []
   },
   "outputs": [],
   "source": [
    "a = [1, 9, 3, 4, 6, 7, 8]\n",
    "left = 0\n",
    "right = len(a) - 1\n",
    "\n",
    "last = right\n",
    "\n",
    "while left < right:\n",
    "    for j in range(right, left, -1): # 먼저 끝에서 앞으로 비교\n",
    "        if a[j - 1] > a[j]:\n",
    "            a[j - 1], a[j] = a[j], a[j - 1]\n",
    "            last = j                         # 교환이 일어나면 last를 j로 연결, left를 last로 연결, 결국 left가 j로 연결 >>> 알고리즘 개선 2 방법\n",
    "    left = last                  # 패스에서 교환이 한 번도 안일어나면 left를 last(right)로 연결, 결국 정렬 중지\n",
    "                                  \n",
    "\n",
    "    for j in range(left, right):     # left가 j로 연결된 상태에서  j에서 r까지 for문 실행 , 앞에서 뒤로 비교\n",
    "        if a[j] > a[j + 1]:\n",
    "            a[j], a[j + 1] = a[j + 1], a[j]\n",
    "            last = j                          # 교환이 일어나면 last를 j로 연결, right를 last로 연결, 결국 right가 j로 연결 \n",
    "    right = last                 # 패스에서 교환이 한 번도 안일어나면 right를 last, 결국 left, righrt 둘다 last로 연결, 정렬 중지 "
   ]
  },
  {
   "cell_type": "code",
   "execution_count": 41,
   "id": "c4e07f24-7e5c-43cc-8352-220a861af1e9",
   "metadata": {
    "tags": []
   },
   "outputs": [],
   "source": [
    "from shaker_sort_verbose import shaker_sort_verbose"
   ]
  },
  {
   "cell_type": "code",
   "execution_count": 43,
   "id": "b558433a-d29a-450f-95bc-6fe8c4c54e62",
   "metadata": {
    "tags": []
   },
   "outputs": [
    {
     "name": "stdout",
     "output_type": "stream",
     "text": [
      "패스1\n",
      " 1   9   3   4   6   7 - 8\n",
      " 1   9   3   4   6 - 7   8\n",
      " 1   9   3   4 - 6   7   8\n",
      " 1   9   3 - 4   6   7   8\n",
      " 1   9 + 3   4   6   7   8\n",
      " 1 - 3   9   4   6   7   8\n",
      " 1   3   9   4   6   7   8\n",
      "패스 2\n",
      " 1   3   9 + 4   6   7   8\n",
      " 1   3   4   9 + 6   7   8\n",
      " 1   3   4   6   9 + 7   8\n",
      " 1   3   4   6   7   9 + 8\n",
      " 1   3   4   6   7   8   9\n",
      "패스3\n",
      " 1   3   4   6   7 - 8   9\n",
      " 1   3   4   6 - 7   8   9\n",
      " 1   3   4 - 6   7   8   9\n",
      " 1   3   4   6   7   8   9\n",
      "비교를 13번 했습니다.\n",
      "교환을 5번 했습니다.\n"
     ]
    }
   ],
   "source": [
    "a = [1, 9, 3, 4, 6, 7, 8]\n",
    "shaker_sort_verbose(a)"
   ]
  },
  {
   "cell_type": "markdown",
   "id": "0eb0ee65-1901-41f7-a880-f9284c42752b",
   "metadata": {},
   "source": [
    "### 산술연산 내장함수"
   ]
  },
  {
   "cell_type": "code",
   "execution_count": 45,
   "id": "dce067fb-6ea7-4e7b-b987-4942bb12d657",
   "metadata": {
    "tags": []
   },
   "outputs": [
    {
     "data": {
      "text/plain": [
       "17"
      ]
     },
     "execution_count": 45,
     "metadata": {},
     "output_type": "execute_result"
    }
   ],
   "source": [
    "a = [1, 2, 3, 4, 5]\n",
    "sum(a, 2)"
   ]
  },
  {
   "cell_type": "code",
   "execution_count": 46,
   "id": "a3e0fb33-4f2b-483f-8129-f35e33315f3e",
   "metadata": {
    "tags": []
   },
   "outputs": [
    {
     "data": {
      "text/plain": [
       "15"
      ]
     },
     "execution_count": 46,
     "metadata": {},
     "output_type": "execute_result"
    }
   ],
   "source": [
    "sum(range(1, 6))"
   ]
  },
  {
   "cell_type": "code",
   "execution_count": 47,
   "id": "ab66f572-dfbe-4951-ae7e-788f286870ef",
   "metadata": {
    "tags": []
   },
   "outputs": [
    {
     "data": {
      "text/plain": [
       "13.34"
      ]
     },
     "execution_count": 47,
     "metadata": {},
     "output_type": "execute_result"
    }
   ],
   "source": [
    "round(13.3425, 2)"
   ]
  },
  {
   "cell_type": "code",
   "execution_count": 50,
   "id": "ca525684-35e6-4233-bbb2-4b18b31b6d4e",
   "metadata": {
    "tags": []
   },
   "outputs": [
    {
     "data": {
      "text/plain": [
       "(2, 2)"
      ]
     },
     "execution_count": 50,
     "metadata": {},
     "output_type": "execute_result"
    }
   ],
   "source": [
    "divmod(8, 3)"
   ]
  },
  {
   "cell_type": "code",
   "execution_count": 51,
   "id": "ec0c5e3a-0701-4441-9fc8-c448df5427f8",
   "metadata": {
    "tags": []
   },
   "outputs": [
    {
     "data": {
      "text/plain": [
       "6"
      ]
     },
     "execution_count": 51,
     "metadata": {},
     "output_type": "execute_result"
    }
   ],
   "source": [
    "abs(-6)"
   ]
  },
  {
   "cell_type": "code",
   "execution_count": 52,
   "id": "93d3383f-b257-4fe1-af97-9c2b13406223",
   "metadata": {
    "tags": []
   },
   "outputs": [
    {
     "data": {
      "text/plain": [
       "(4+6j)"
      ]
     },
     "execution_count": 52,
     "metadata": {},
     "output_type": "execute_result"
    }
   ],
   "source": [
    "complex(4, 6)"
   ]
  },
  {
   "cell_type": "markdown",
   "id": "6b44b3e9-4a4f-4426-be42-a7957379d173",
   "metadata": {},
   "source": [
    "# 문7) 단순 선택 정렬이란? 구현방법"
   ]
  },
  {
   "cell_type": "markdown",
   "id": "1bb63484-ee04-4689-accf-ab9c7055ea55",
   "metadata": {},
   "source": [
    "배열에서 가장 작은 원소를 찾은 뒤 맨 앞으로 보내고,  \n",
    "남은 구간에서 다시 가장 작은 원소를 찾은뒤 맨 앞 다음으로 보내고 반복"
   ]
  },
  {
   "cell_type": "code",
   "execution_count": 34,
   "id": "538f7159-69a5-4aa9-afa9-b8e8f12c28e3",
   "metadata": {
    "tags": []
   },
   "outputs": [],
   "source": [
    "from __future__ import annotations\n",
    "\n",
    "def selection_sort(a: MutableSequence) -> None:\n",
    "    \"\"\"단순 선택 정렬\"\"\"\n",
    "    n = len(a)\n",
    "    for i in range(n - 1):\n",
    "        min = i  # 정렬 할 부분에서 가장 작은 원소의 인덱스\n",
    "        for j in range(i + 1, n):\n",
    "            if a[j] < a[min]:\n",
    "                min = j\n",
    "        a[i], a[min] = a[min], a[i]  # 정렬 할 부분에서 맨 앞의 원소와 가장 작은 원소를 교환 "
   ]
  },
  {
   "cell_type": "code",
   "execution_count": 35,
   "id": "242b452d-edfb-4ce3-a7cd-484b047fda1d",
   "metadata": {
    "tags": []
   },
   "outputs": [],
   "source": [
    "def selection_sort(a: MutableSequence) -> None:\n",
    "    \"\"\"단순 선택 정렬\"\"\"\n",
    "    n = len(a)\n",
    "    for i in range(n - 1):\n",
    "        m = i\n",
    "        for j in range(i + 1, n):  # for 문을 돌면서 가장 작은 원소의 인덱스를 찾아낸 다음\n",
    "            print(a)\n",
    "            if a[j] < a[m]:\n",
    "                print(f'  j : {j}', end ='    ');print(f' m  : {m}')\n",
    "                print(f'a[j]: {a[j]}', end ='  ');print(f'a[m]: {a[m]}')\n",
    "                m = j              # m을 해당 원소의 인덱스로 맞춰주고 \n",
    "                print(f'  j : {j}', end ='    ');print(f' m  : {m}')\n",
    "                print()\n",
    "        a[i], a[m] = a[m], a[i]  # 정렬되지 않은 부분에서 맨 앞의 원소보다 작은 원소가 있었다면, 맨 앞의 원소와 가장 작은 원소를 교환\n",
    "                                 # 없었다면, m과 i값은 같으므로 다음 패스로 넘어감.\n",
    "        print(a)\n",
    "        print()\n",
    "        print()"
   ]
  },
  {
   "cell_type": "code",
   "execution_count": 36,
   "id": "b182a79e-ff72-4a0a-92cf-369f17d57ebe",
   "metadata": {
    "tags": []
   },
   "outputs": [
    {
     "name": "stdout",
     "output_type": "stream",
     "text": [
      "[11, 21, 13, 44, 5]\n",
      "[11, 21, 13, 44, 5]\n",
      "[11, 21, 13, 44, 5]\n",
      "[11, 21, 13, 44, 5]\n",
      "  j : 4     m  : 0\n",
      "a[j]: 5  a[m]: 11\n",
      "  j : 4     m  : 4\n",
      "\n",
      "[5, 21, 13, 44, 11]\n",
      "\n",
      "\n",
      "[5, 21, 13, 44, 11]\n",
      "  j : 2     m  : 1\n",
      "a[j]: 13  a[m]: 21\n",
      "  j : 2     m  : 2\n",
      "\n",
      "[5, 21, 13, 44, 11]\n",
      "[5, 21, 13, 44, 11]\n",
      "  j : 4     m  : 2\n",
      "a[j]: 11  a[m]: 13\n",
      "  j : 4     m  : 4\n",
      "\n",
      "[5, 11, 13, 44, 21]\n",
      "\n",
      "\n",
      "[5, 11, 13, 44, 21]\n",
      "[5, 11, 13, 44, 21]\n",
      "[5, 11, 13, 44, 21]\n",
      "\n",
      "\n",
      "[5, 11, 13, 44, 21]\n",
      "  j : 4     m  : 3\n",
      "a[j]: 21  a[m]: 44\n",
      "  j : 4     m  : 4\n",
      "\n",
      "[5, 11, 13, 21, 44]\n",
      "\n",
      "\n"
     ]
    },
    {
     "data": {
      "text/plain": [
       "[5, 11, 13, 21, 44]"
      ]
     },
     "execution_count": 36,
     "metadata": {},
     "output_type": "execute_result"
    }
   ],
   "source": [
    "a = [11, 21, 13, 44, 5]\n",
    "selection_sort(a)\n",
    "a"
   ]
  },
  {
   "cell_type": "markdown",
   "id": "e2cdd707-c814-4806-8474-23c1156aba3e",
   "metadata": {},
   "source": [
    "# 문8) 단순 삽입 정렬이란? 구현방법\n",
    "배열의 두번째 원소를 첫 번째 원소와 비교해 오름차순 위치에 삽입,  \n",
    "배열의 세번째 원소를 두번째, 첫번째 원소와 비교해 오름차순 위치에 삽입, 반복..."
   ]
  },
  {
   "cell_type": "code",
   "execution_count": null,
   "id": "19da0164-c031-4bae-91bb-11975583bf81",
   "metadata": {},
   "outputs": [],
   "source": []
  },
  {
   "cell_type": "code",
   "execution_count": null,
   "id": "b9263776-93f3-42da-a48d-1cb2bc7b18bc",
   "metadata": {},
   "outputs": [],
   "source": []
  },
  {
   "cell_type": "code",
   "execution_count": 39,
   "id": "8422be91-8f29-4e7a-88f9-41fda13f5c36",
   "metadata": {
    "tags": []
   },
   "outputs": [
    {
     "data": {
      "text/plain": [
       "[4, 5, 6]"
      ]
     },
     "execution_count": 39,
     "metadata": {},
     "output_type": "execute_result"
    }
   ],
   "source": [
    "from typing import MutableSequence\n",
    "\n",
    "def insertion_sort(a: MutableSequence) -> None:\n",
    "    \"\"\"단순 삽입 정렬\"\"\"\n",
    "    n = len(a)\n",
    "    for i in range(1, n):\n",
    "        j = i       #   j는 배열의 두번째 인덱스부터 마지막 인덱스를 순차적으로 참조\n",
    "        tmp = a[i]  # tmp는 배열의 두번째 원소부터 마지막 원소를 순차적으로 참조\n",
    "        while j > 0 and a[j - 1] > tmp:  # j가 0보다 크고, a[i-1]이 a[i]보다 크면 \n",
    "            a[j] = a[j - 1]                           # a[i] 는 a[i-1] 참조\n",
    "            j -= 1                                    # j = j-1\n",
    "        a[j] = tmp                                    # a[i-1] = a[i] 참조 \n",
    "                   # 즉 i값을 계속 바꿔주기 위해 i.e. 오름차순 삽입을 마치고 다시 for문을 돌면서 뒤 원소를 앞에 정렬된 부분에 오름차순 삽입을 해주기 위해  \n",
    "                                #  j가 i를 참조하게 하고\n",
    "                                #  tmp 변수가 a[i]를 참조하게 해서 삽입시 사용한다.\n",
    "    return a\n",
    "insertion_sort([6,4,5])"
   ]
  },
  {
   "cell_type": "code",
   "execution_count": null,
   "id": "72a550a7-cbdb-4416-a4ed-a9581ba2510e",
   "metadata": {},
   "outputs": [],
   "source": [
    "                                a[i] = tmp\n",
    "                         a[j-1]=a[j]\n",
    "    1     2     3     4     5     0     6\n",
    "                   a[j-1]=a[j]\n",
    "    1     2     3     4     5     5     6\n",
    "             a[j-1]=a[j]\n",
    "    1     2     3     4     4     5     6\n",
    "       a[j-1]=a[j]\n",
    "    1     2     3     3     4     5     6\n",
    " a[j-1]=a[j]\n",
    "    1     2     2     3     4     5     6\n",
    "  a[j] = tmp\n",
    "    0     1     2     3     4     5     6"
   ]
  },
  {
   "cell_type": "code",
   "execution_count": null,
   "id": "858264ca-8071-445f-9f20-d737fc17ea01",
   "metadata": {},
   "outputs": [],
   "source": []
  },
  {
   "cell_type": "code",
   "execution_count": 19,
   "id": "7dc48e64-50db-4ba8-bd67-d1fe6fea0bd5",
   "metadata": {
    "tags": []
   },
   "outputs": [
    {
     "name": "stdout",
     "output_type": "stream",
     "text": [
      "i: 1\n",
      "j: 1\n",
      "\n",
      "tmp = a[1]\n",
      "tmp : 4\n",
      "\n",
      "a[j-1] : 6\n",
      "\n",
      "a[j] : 6\n",
      "\n",
      "[6, 6, 2]\n",
      "\n",
      "j: 0\n",
      "\n",
      "a[j] : 4\n",
      "\n",
      "\n",
      "a : [4, 6, 2]\n",
      "\n",
      "i: 2\n",
      "j: 2\n",
      "\n",
      "tmp = a[2]\n",
      "tmp : 2\n",
      "\n",
      "a[j-1] : 6\n",
      "\n",
      "a[j] : 6\n",
      "\n",
      "[4, 6, 6]\n",
      "\n",
      "j: 1\n",
      "\n",
      "a[j] : 4\n",
      "\n",
      "[4, 4, 6]\n",
      "\n",
      "j: 0\n",
      "\n",
      "a[j] : 2\n",
      "\n",
      "\n",
      "a : [2, 4, 6]\n",
      "\n"
     ]
    }
   ],
   "source": [
    "a = [6, 4, 2]\n",
    "n = len(a)\n",
    "\n",
    "for i in range(1, n):\n",
    "    j = i     # j = i = 1\n",
    "    \n",
    "    print(f'i: {i}'); print(f'j: {j}'); print()\n",
    "    \n",
    "    tmp = a[i]  # tmp = a[1]\n",
    "    \n",
    "    print(f'tmp = a[{i}]'); print(f'tmp : {a[i]}'); print(); print(f'a[j-1] : {a[j-1]}'); print()\n",
    "    \n",
    "    while j > 0 and a[j - 1] > tmp:\n",
    "        \n",
    "        a[j] = a[j-1]\n",
    "        j -= 1\n",
    "        \n",
    "        print(f'a[j] : {a[j]}'); print();\n",
    "        print(a); print()\n",
    "        print(f'j: {j}'); print()\n",
    "    \n",
    "    a[j] = tmp\n",
    "    \n",
    "    print(f'a[j] : {a[j]}'); print(); print()\n",
    "    print(f'a : {a}'); print()"
   ]
  },
  {
   "cell_type": "code",
   "execution_count": 7,
   "id": "780eaa6c-04af-479a-84d4-65974426f247",
   "metadata": {
    "tags": []
   },
   "outputs": [
    {
     "data": {
      "text/plain": [
       "[2, 4, 6]"
      ]
     },
     "execution_count": 7,
     "metadata": {},
     "output_type": "execute_result"
    }
   ],
   "source": [
    "a"
   ]
  },
  {
   "cell_type": "markdown",
   "id": "fcc61d47-4212-4288-9f04-a9725f4ccf1b",
   "metadata": {},
   "source": [
    "### j를 i로 바꿔도 똑같은 코드"
   ]
  },
  {
   "cell_type": "code",
   "execution_count": 40,
   "id": "f817e42c-cd73-48fc-9623-28c50e16e5cf",
   "metadata": {
    "tags": []
   },
   "outputs": [],
   "source": [
    "from typing import MutableSequence\n",
    "\n",
    "def insertion_sort(a: MutableSequence) -> None:\n",
    "    \"\"\"단순 삽입 정렬\"\"\"\n",
    "    n = len(a)\n",
    "    for i in range(1, n):\n",
    "        tmp = a[i]\n",
    "        while i > 0 and a[i - 1] > tmp:\n",
    "            a[i] = a[i - 1]\n",
    "            i -= 1\n",
    "        a[i] = tmp\n",
    "    return a"
   ]
  },
  {
   "cell_type": "code",
   "execution_count": 43,
   "id": "8f193f28-d081-4379-9049-f795cb4b170c",
   "metadata": {
    "tags": []
   },
   "outputs": [
    {
     "data": {
      "text/plain": [
       "[1, 2, 3, 4, 5, 6, 8]"
      ]
     },
     "execution_count": 43,
     "metadata": {},
     "output_type": "execute_result"
    }
   ],
   "source": [
    "insertion_sort([6, 4, 2, 5, 1, 8, 3])"
   ]
  },
  {
   "cell_type": "code",
   "execution_count": 32,
   "id": "813cbfb0-b970-427a-9127-5cde067b5f9e",
   "metadata": {
    "tags": []
   },
   "outputs": [
    {
     "data": {
      "text/plain": [
       "5"
      ]
     },
     "execution_count": 32,
     "metadata": {},
     "output_type": "execute_result"
    }
   ],
   "source": [
    "i = 5\n",
    "j = i\n",
    "j"
   ]
  },
  {
   "cell_type": "code",
   "execution_count": 33,
   "id": "554fb47e-50c0-4dfc-96d4-ba065131a27d",
   "metadata": {
    "tags": []
   },
   "outputs": [
    {
     "data": {
      "text/plain": [
       "5"
      ]
     },
     "execution_count": 33,
     "metadata": {},
     "output_type": "execute_result"
    }
   ],
   "source": [
    "j = 4\n",
    "i"
   ]
  },
  {
   "cell_type": "markdown",
   "id": "cb4ffa26-aa1d-4666-a73f-f8828a2efd2f",
   "metadata": {
    "tags": []
   },
   "source": [
    "근데 j를 i로 다 바꿔버리면 \n",
    "\n",
    "        for i in range(1, n):\n",
    "            tmp = a[i]\n",
    "            while i > 0 and a[i - 1] > tmp:\n",
    "                a[i] = a[i - 1]\n",
    "                i -= 1\n",
    "            a[i] = tmp\n",
    "            \n",
    "        여기서 \n",
    "        tmp = a[i] 과\n",
    "        a[i] = tmp 의 가독성이 좋지 않아지게 되고\n",
    "\n",
    "        i를 다른데서 쓰고자 할때 쓰기 어려워진다."
   ]
  },
  {
   "cell_type": "markdown",
   "id": "c0e309bb-1bba-43ea-a059-779235d6ab0c",
   "metadata": {},
   "source": [
    "# 문9) 이진 삽입 정렬이란? 구현방법"
   ]
  },
  {
   "cell_type": "markdown",
   "id": "60993c84-1b21-4ae9-a188-2ea83d9ebc38",
   "metadata": {},
   "source": [
    "#### 이진검색"
   ]
  },
  {
   "cell_type": "code",
   "execution_count": 44,
   "id": "2b29cda6-53fd-4e06-9acc-fc4e4e6218ce",
   "metadata": {
    "tags": []
   },
   "outputs": [],
   "source": [
    "from typing import Any, Sequence\n",
    "\n",
    "def bin_search(a: Sequence, key: Any) -> int:\n",
    "    \"\"\"시퀀스 a에서 key와 일치하는 원소를 이진 검색\"\"\"\n",
    "    pl = 0           # 검색 범위 맨 앞 원소의 인덱스\n",
    "    pr = len(a) - 1  # 검색 범위 맨 끝 원소의 인덱스\n",
    "\n",
    "    while True:\n",
    "        pc = (pl + pr) // 2  # 중앙 원소의 인덱스\n",
    "        if a[pc] == key:\n",
    "            return pc    # 검색 성공\n",
    "        elif a[pc] < key:\n",
    "            pl = pc + 1  # 검색 범위를 뒤쪽의 절반으로 좁힘\n",
    "        else:\n",
    "            pr = pc - 1  # 검색 범위를 앞쪽의 절반으로 좁힘\n",
    "        if pl > pr:\n",
    "            break\n",
    "    return -1            # 검색 실패"
   ]
  },
  {
   "cell_type": "code",
   "execution_count": 9,
   "id": "17851188-95a2-4235-8b85-8ea79ca1250a",
   "metadata": {
    "tags": []
   },
   "outputs": [],
   "source": [
    "def binary_insertion_sort(a: MutableSequence) -> None:\n",
    "    \"\"\"이진 삽입 정렬\"\"\"\n",
    "    n = len(a)\n",
    "    for i in range(1, n):\n",
    "        key = a[i]  # 오름차순 정렬된 앞부분에 삽입할 원소\n",
    "        pl = 0      # 검색 범위는 키 왼쪽 부분의 맨 앞 원소 인덱스에서\n",
    "        pr = i - 1  #           키 왼쪽 부분의 맨 뒤 원소 인덱스까지 i.e. 이미 정렬된 부분\n",
    "\n",
    "        while True: \n",
    "            pc = (pl + pr) // 2  \n",
    "            if a[pc] == key:    \n",
    "                break\n",
    "            elif a[pc] < key:\n",
    "                pl = pc + 1\n",
    "            else: # a[pc] > key:\n",
    "                pr = pc - 1\n",
    "            if pl > pr:\n",
    "                break\n",
    "    \n",
    "        pd = pc + 1 if pl <= pr else pr + 1  # pl < pr 이면 pc+1이 pd\n",
    "                                             # i.e. 삽입할 원소 key와 같은 값이, 정렬된 앞 부분에 a[pc]가 참조하는 값과 같다는 것이므로\n",
    "                                                   # a[pc] 오른쪽 +1 인덱스 위치에 key 삽입, 그곳을 pd가  참조\n",
    "                                             # 반대로 pl > pr 이면 pr+1 또는 pl이 pd\n",
    "                                             # i.e. 이미 정렬된 앞 부분에 삽입할 원소 key 값과 같은 원소는 없고\n",
    "                                                  # 이진검색을 하면서 key가 삽입될 위치는 pr+1 또는 pl을 참조하게 됨, 그곳을 pd가 참조\n",
    "                                        # 이진검색을 하면 pl,pr,pc는 언젠간 같아지고 a[pc]>key 이냐 a[pc]<key 이냐 둘 중 하나의 경우만 남게 됨.\n",
    "                                        # 구체적으로는 pl=pr=pc 이고 key < a[pc] 이면, pr=pc-1 이 되고 pr+1 또는 pl은 pc와 같음. 즉 a[pc] 자리에 key 삽입\n",
    "                                        # 반대로 pl=pr=pc 이고 key > a[pc] 이면, pl=pc+1이 되고 pr+1 또는 pl은 pc+1과 같음. 즉 a[pc] 오른쪽 옆자리에 삽입\n",
    "        for j in range(i, pd, -1):  # i부터 pd까지, 정렬을 마친 위치에서 삽입할 위치 전까지의 원소들을 한 칸씩 뒤로 이동\n",
    "            a[j] = a[j - 1]\n",
    "        a[pd] = key                 "
   ]
  },
  {
   "cell_type": "code",
   "execution_count": null,
   "id": "aa871aa7-993d-4f96-966d-3321c82ac5d0",
   "metadata": {
    "tags": []
   },
   "outputs": [
    {
     "name": "stdout",
     "output_type": "stream",
     "text": [
      "pc : 0\n",
      "pr : -1\n",
      "pl : 0\n"
     ]
    }
   ],
   "source": [
    "pl = 0      \n",
    "pr = 1 - 1    # 검색범위는 키 왼쪽 부분\n",
    "\n",
    "while True:\n",
    "    pc = (pl + pr) // 2  # 검색 범위의 중앙 원소 인덱스\n",
    "    print(f'pc : {pc}')\n",
    "    if a[pc] == key:     # 검색 성공\n",
    "        break\n",
    "    elif a[pc] < key:\n",
    "        pl = pc + 1\n",
    "        print(f'pl : {pl}')\n",
    "    else:\n",
    "        pr = pc - 1\n",
    "        print(f'pr : {pr}')\n",
    "        print(f'pl : {pl}')\n",
    "    if pl > pr:\n",
    "        break"
   ]
  },
  {
   "cell_type": "code",
   "execution_count": 19,
   "id": "fe961885-a5fe-468a-862d-530d3b098560",
   "metadata": {
    "tags": []
   },
   "outputs": [
    {
     "name": "stdout",
     "output_type": "stream",
     "text": [
      "0\n"
     ]
    }
   ],
   "source": [
    "pd = pc + 1 if pl <= pr else pr + 1  # 삽입할 위치의 인덱스\n",
    "print(pd)"
   ]
  },
  {
   "cell_type": "code",
   "execution_count": 22,
   "id": "55b1d58b-5ee8-471b-99b4-661f8ee4e47e",
   "metadata": {
    "tags": []
   },
   "outputs": [
    {
     "name": "stdout",
     "output_type": "stream",
     "text": [
      "1\n"
     ]
    }
   ],
   "source": [
    "for j in range(1, pd, -1):\n",
    "    print(j)\n",
    "    a[j] = a[j - 1]\n",
    "a[pd] = key"
   ]
  },
  {
   "cell_type": "code",
   "execution_count": 21,
   "id": "618791df-3d9d-42a8-9502-63fb49377ba0",
   "metadata": {
    "tags": []
   },
   "outputs": [
    {
     "data": {
      "text/plain": [
       "[2, 5, 9]"
      ]
     },
     "execution_count": 21,
     "metadata": {},
     "output_type": "execute_result"
    }
   ],
   "source": [
    "a"
   ]
  },
  {
   "cell_type": "code",
   "execution_count": 23,
   "id": "2dbee190-5334-46ca-95ec-6c06954431a5",
   "metadata": {
    "tags": []
   },
   "outputs": [
    {
     "data": {
      "text/plain": [
       "0"
      ]
     },
     "execution_count": 23,
     "metadata": {},
     "output_type": "execute_result"
    }
   ],
   "source": [
    "1//2"
   ]
  },
  {
   "cell_type": "code",
   "execution_count": 24,
   "id": "83bcc21d-8659-4f1d-b6ce-3d095fe44ed4",
   "metadata": {
    "tags": []
   },
   "outputs": [
    {
     "data": {
      "text/plain": [
       "2"
      ]
     },
     "execution_count": 24,
     "metadata": {},
     "output_type": "execute_result"
    }
   ],
   "source": [
    "2//1"
   ]
  }
 ],
 "metadata": {
  "kernelspec": {
   "display_name": "tf",
   "language": "python",
   "name": "tf"
  },
  "language_info": {
   "codemirror_mode": {
    "name": "ipython",
    "version": 3
   },
   "file_extension": ".py",
   "mimetype": "text/x-python",
   "name": "python",
   "nbconvert_exporter": "python",
   "pygments_lexer": "ipython3",
   "version": "3.11.0"
  }
 },
 "nbformat": 4,
 "nbformat_minor": 5
}
