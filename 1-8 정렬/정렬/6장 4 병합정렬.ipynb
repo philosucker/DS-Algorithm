{
 "cells": [
  {
   "cell_type": "code",
   "execution_count": 22,
   "id": "f9bcc56b-7d36-4a4d-b603-2ecd451097c3",
   "metadata": {
    "tags": []
   },
   "outputs": [],
   "source": [
    "from IPython.display import Image "
   ]
  },
  {
   "cell_type": "markdown",
   "id": "7075d825-ccb1-4c95-88d6-5ca820ece304",
   "metadata": {},
   "source": [
    "# 문24) 이미 정렬을 마친 두 배열을 병합하는 코드 구현"
   ]
  },
  {
   "cell_type": "code",
   "execution_count": 6,
   "id": "05d158f6-8d6f-4dc8-add5-64f5b37f21ad",
   "metadata": {
    "tags": []
   },
   "outputs": [],
   "source": [
    "from typing import Sequence, MutableSequence\n",
    "\n",
    "def merge_sorted_list(a: Sequence, b: Sequence, c: MutableSequence) -> None:\n",
    "    \"\"\"정렬을 마친 배열 a와 b를 병합하여 c에 저장\"\"\"\n",
    "    pa, pb, pc = 0, 0, 0                 # 각 배열의 커서\n",
    "    na, nb, nc = len(a), len(b), len(c)  # 각 배열의 원소수 \n",
    "\n",
    "    while pa < na and pb < nb:  \n",
    "        if a[pa] <= b[pb]:    # a[pa]와 b[pb]를 비교하여 작은 값을 c에 저장\n",
    "            c[pc] = a[pa]\n",
    "            pa += 1\n",
    "        else: # a[pa] > b[pb]:\n",
    "            c[pc] = b[pb]\n",
    "            pb += 1\n",
    "        pc += 1                  # 여기까지만 코드를 짜서 돌리면, 두 값중 작은 값만 저장하기 때문에\n",
    "                                 # 마지막에 비교 후 남은 큰 원소들은 복사되지 않는다. \n",
    "    print(pa, pb)"
   ]
  },
  {
   "cell_type": "code",
   "execution_count": 7,
   "id": "3fc31177-001b-47fc-a024-88dc69aec600",
   "metadata": {
    "tags": []
   },
   "outputs": [
    {
     "name": "stdout",
     "output_type": "stream",
     "text": [
      "6 5\n",
      "배열 a와 b를 병합하여 배열 c에 저장하였습니다.\n",
      "배열 a: [2, 4, 6, 8, 11, 13] 6\n",
      "배열 b: [1, 2, 3, 4, 9, 16, 21] 7\n",
      "배열 c: [1, 2, 2, 3, 4, 4, 6, 8, 9, 11, 13, None, None] 13\n"
     ]
    }
   ],
   "source": [
    "a = [2, 4, 6, 8, 11, 13]       # 이 예에선 pa는 6 이되고 pb는 5에서 멈추기 때문에\n",
    "b = [1, 2, 3, 4, 9, 16, 21]    # b[5], b[6]인 16, 21 은 병합되지 않는다\n",
    "c = [None] * (len(a) + len(b))\n",
    "\n",
    "merge_sorted_list(a, b, c)\n",
    "\n",
    "print('배열 a와 b를 병합하여 배열 c에 저장하였습니다.')\n",
    "print(f'배열 a: {a}', len(a))\n",
    "print(f'배열 b: {b}', len(b))\n",
    "print(f'배열 c: {c}', len(c))"
   ]
  },
  {
   "cell_type": "code",
   "execution_count": 8,
   "id": "8be7162a-26f1-42f2-bc62-36d5c09e43bf",
   "metadata": {
    "tags": []
   },
   "outputs": [],
   "source": [
    "from typing import Sequence, MutableSequence\n",
    "\n",
    "def merge_sorted_list(a: Sequence, b: Sequence, c: MutableSequence) -> None:\n",
    "    \"\"\"정렬을 마친 배열 a와 b를 병합하여 c에 저장\"\"\"\n",
    "    pa, pb, pc = 0, 0, 0                 # 각 배열의 커서\n",
    "    na, nb, nc = len(a), len(b), len(c)  # 각 배열의 원소수 \n",
    "\n",
    "    while pa < na and pb < nb:  \n",
    "        if a[pa] <= b[pb]:    # a[pa]와 b[pb]를 비교하여 작은 값을 c에 저장\n",
    "            c[pc] = a[pa]\n",
    "            pa += 1\n",
    "        else: # a[pa] > b[pb]:\n",
    "            c[pc] = b[pb]\n",
    "            pb += 1\n",
    "        pc += 1                \n",
    "\n",
    "    while pa < na:              # a, b 중 어느 게 남을지 모르므로 먼저 a에 남은 원소를 복사\n",
    "        c[pc] = a[pa]           \n",
    "        pa += 1\n",
    "        pc += 1\n",
    "\n",
    "    while pb < nb:              # 그 다음 b에 남은 원소를 복사\n",
    "        c[pc] = b[pb]\n",
    "        pb += 1\n",
    "        pc += 1"
   ]
  },
  {
   "cell_type": "code",
   "execution_count": 10,
   "id": "418b816a-8f86-40cc-ad07-090f9880b42c",
   "metadata": {
    "tags": []
   },
   "outputs": [
    {
     "name": "stdout",
     "output_type": "stream",
     "text": [
      "배열 a와 b를 병합하여 배열 c에 저장하였습니다.\n",
      "배열 a: [2, 4, 6, 8, 11, 13] 6\n",
      "배열 b: [1, 2, 3, 4, 9, 16, 21] 7\n",
      "배열 c: [1, 2, 2, 3, 4, 4, 6, 8, 9, 11, 13, 16, 21] 13\n"
     ]
    }
   ],
   "source": [
    "a = [2, 4, 6, 8, 11, 13]     \n",
    "b = [1, 2, 3, 4, 9, 16, 21]   \n",
    "c = [None] * (len(a) + len(b))\n",
    "\n",
    "merge_sorted_list(a, b, c)\n",
    "\n",
    "print('배열 a와 b를 병합하여 배열 c에 저장하였습니다.')\n",
    "print(f'배열 a: {a}', len(a))\n",
    "print(f'배열 b: {b}', len(b))\n",
    "print(f'배열 c: {c}', len(c))"
   ]
  },
  {
   "cell_type": "markdown",
   "id": "d65d338c-dd1a-42d8-a9f6-251a158825f0",
   "metadata": {},
   "source": [
    "# 문25) sorted와 heapq.merge로 두 배열을 병합하는 방법"
   ]
  },
  {
   "cell_type": "code",
   "execution_count": 1,
   "id": "80b2f315-77cb-465d-af63-f59f75e8e2cc",
   "metadata": {
    "tags": []
   },
   "outputs": [
    {
     "name": "stdout",
     "output_type": "stream",
     "text": [
      "0.8429725170135498\n"
     ]
    }
   ],
   "source": [
    "import time\n",
    "\n",
    "a = list(range(10000000,0,-1))\n",
    "b = list(range(20000000,10000000,-1))\n",
    "start = time.time()\n",
    "c = list(sorted(a+b))\n",
    "end = time.time()\n",
    "print(end - start)"
   ]
  },
  {
   "cell_type": "markdown",
   "id": "3806cc70-71cd-403f-936a-b6e7223fc32a",
   "metadata": {
    "tags": []
   },
   "source": [
    "### heapq.merge 는 병합만 된다. 정렬까지 해주고 병합하는 sorted 보다 속도가 느리다."
   ]
  },
  {
   "cell_type": "code",
   "execution_count": 1,
   "id": "5495403d-5882-4d08-a9d2-4e1594e5985f",
   "metadata": {},
   "outputs": [
    {
     "name": "stdout",
     "output_type": "stream",
     "text": [
      "1.4165737628936768\n"
     ]
    }
   ],
   "source": [
    "import time\n",
    "import heapq\n",
    "\n",
    "a = list(range(10000000,0,-1))\n",
    "b = list(range(20000000,10000000,-1))\n",
    "start = time.time()\n",
    "c = list(heapq.merge(a, b))\n",
    "end = time.time()\n",
    "print(end - start)"
   ]
  },
  {
   "cell_type": "code",
   "execution_count": 2,
   "id": "8412f985-6684-45c3-9f3e-a1086f155bc5",
   "metadata": {},
   "outputs": [
    {
     "name": "stdout",
     "output_type": "stream",
     "text": [
      "0.0001537799835205078\n"
     ]
    },
    {
     "data": {
      "text/plain": [
       "[1, 2, 3, 4, 5, 6, 7, 8, 9, 10, 11, 12, 13, 14, 15, 16, 17, 18, 19, 20]"
      ]
     },
     "execution_count": 2,
     "metadata": {},
     "output_type": "execute_result"
    }
   ],
   "source": [
    "import time\n",
    "\n",
    "a = list(range(10,0,-1))\n",
    "b = list(range(20,10,-1))\n",
    "start = time.time()\n",
    "c = list(sorted(a+b))\n",
    "end = time.time()\n",
    "print(end - start)\n",
    "c"
   ]
  },
  {
   "cell_type": "code",
   "execution_count": 3,
   "id": "5469b4c7-26f9-497e-8181-a6abfcf6b1a2",
   "metadata": {},
   "outputs": [
    {
     "name": "stdout",
     "output_type": "stream",
     "text": [
      "0.0002219676971435547\n"
     ]
    },
    {
     "data": {
      "text/plain": [
       "[10, 9, 8, 7, 6, 5, 4, 3, 2, 1, 20, 19, 18, 17, 16, 15, 14, 13, 12, 11]"
      ]
     },
     "execution_count": 3,
     "metadata": {},
     "output_type": "execute_result"
    }
   ],
   "source": [
    "import time\n",
    "import heapq\n",
    "\n",
    "a = list(range(10,0,-1))\n",
    "b = list(range(20,10,-1))\n",
    "start = time.time()\n",
    "c = list(heapq.merge(a, b))\n",
    "end = time.time()\n",
    "print(end - start)\n",
    "c"
   ]
  },
  {
   "cell_type": "code",
   "execution_count": 1,
   "id": "26165e35-97ed-4f01-9a35-4269a5a0e71e",
   "metadata": {
    "tags": []
   },
   "outputs": [
    {
     "data": {
      "text/plain": [
       "0"
      ]
     },
     "execution_count": 1,
     "metadata": {},
     "output_type": "execute_result"
    }
   ],
   "source": [
    "1//2"
   ]
  },
  {
   "cell_type": "markdown",
   "id": "f6bb360a-6a4d-47d9-b216-5225ce49969d",
   "metadata": {},
   "source": [
    "# 문26) 병합정렬이란? 구현방법\n",
    "\n",
    "    배열을 절반씩 계속 나눠서  \n",
    "    원소가 하나가 될 때까지 나눈 후,\n",
    "    오름차순으로 병합해서 거슬러 올라오는 정렬  \n",
    "  \n",
    "  \n",
    "퀵정렬과 같은 분할정복 알고리즘  \n",
    "\n",
    "병합정렬의 시간복잡도는 O(n log n)  \n",
    "\n",
    "    배열 병합의 시간복잡도는 O(n) (아래 그림에서 보라색 글씨 병합정렬 단계)\n",
    "    데이터 원소 수가 n일 때, 병합정렬의 단계는 log n만큼 필요 (배열을 절반씩 나누므로)\n",
    "\n"
   ]
  },
  {
   "cell_type": "markdown",
   "id": "1f71b168-317c-4c50-ac7c-6553314c0d6a",
   "metadata": {
    "tags": []
   },
   "source": [
    "![\"merge\"](./merge1.png)"
   ]
  },
  {
   "cell_type": "code",
   "execution_count": 5,
   "id": "0e0f8fa8-1353-4601-a8b4-79f57c9ba237",
   "metadata": {
    "tags": []
   },
   "outputs": [],
   "source": [
    "from typing import MutableSequence\n",
    "\n",
    "def merge_sort(a: MutableSequence) -> None:\n",
    "\n",
    "    def _merge_sort(a: MutableSequence, left: int, right: int) -> None:\n",
    "\n",
    "        if left < right:            # 원소 수가 1개가 될때까지 O(log n)\n",
    "            center = (left + right) // 2    \n",
    "\n",
    "            _merge_sort(a, left, center)            # 배열 앞부분을 절반씩 계속 쪼개나간다.\n",
    "            _merge_sort(a, center + 1, right)       # 배열 뒷부분을 병합 정렬\n",
    "            \n",
    "            # 이하 병합과정 O(n)\n",
    "            p = j = 0\n",
    "            i = k = left\n",
    "\n",
    "            while i <= center:      # 배열의 앞부분을 buff에 복사.\n",
    "                buff[p] = a[i]    \n",
    "                p += 1            \n",
    "                i += 1        \n",
    "\n",
    "            while i <= right and j < p:\n",
    "                \n",
    "                if buff[j] <= a[i]: # buff(배열a의 앞부분부터)와 배열a의 뒷부분을 앞에서부터 하나씩 비교해서 \n",
    "                    a[k] = buff[j]  # buff가 a보다 작거나 같으면, a앞부분은 buff와 같게 유지\n",
    "                    j += 1          # buff 인덱스 +1\n",
    "                else:               # buff가 a보다 크면 i.e. 앞부분이 뒷부분보다 크면 \n",
    "                    a[k] = a[i]     # a뒷부분 원소 a[i]가 a앞부분 a[k]에 의해 참조되게\n",
    "                    i += 1          # a뒷부분 인덱스 +1\n",
    "                k += 1      # a앞부분 인덱스 +1\n",
    "\n",
    "            while j < p:             # buff의 원소 중(i.e. a의 앞부분 원소중) a의 뒷부분 원소보다 큰게 있으면 \n",
    "                a[k] = buff[j]       # 배열 a가 buff에 남아 있는 원소를 가리키게 함\n",
    "                k += 1\n",
    "                j += 1\n",
    "\n",
    "    n = len(a)\n",
    "    buff = [None] * n           # 병합결과를 임시 저장하는 작업용 배열 buff를 생성\n",
    "    _merge_sort(a, 0, n - 1)    # 배열 전체를 병합 정렬\n",
    "    del buff                    # 작업용 배열을 소멸\n",
    "    return a"
   ]
  },
  {
   "cell_type": "code",
   "execution_count": 6,
   "id": "35939e52-257e-4e86-870a-bd354e4956dc",
   "metadata": {
    "tags": []
   },
   "outputs": [
    {
     "data": {
      "text/plain": [
       "[3, 6, 7, 8, 9]"
      ]
     },
     "execution_count": 6,
     "metadata": {},
     "output_type": "execute_result"
    }
   ],
   "source": [
    "merge_sort([7,8,3,6,9])"
   ]
  },
  {
   "cell_type": "markdown",
   "id": "c96d29cb-d931-4d1e-bd5b-968bfde23b9b",
   "metadata": {},
   "source": [
    "# 문27) 퀵정렬과 병합정렬 비교"
   ]
  },
  {
   "cell_type": "markdown",
   "id": "3eb16c3c-a669-4ea2-a9cc-1bb8fda3ec10",
   "metadata": {},
   "source": [
    "![quick_merge](./quick_merge.png)"
   ]
  },
  {
   "cell_type": "code",
   "execution_count": null,
   "id": "989d585e-6164-4dd8-bb0c-3b89fa359d23",
   "metadata": {},
   "outputs": [],
   "source": []
  }
 ],
 "metadata": {
  "kernelspec": {
   "display_name": "tf",
   "language": "python",
   "name": "tf"
  },
  "language_info": {
   "codemirror_mode": {
    "name": "ipython",
    "version": 3
   },
   "file_extension": ".py",
   "mimetype": "text/x-python",
   "name": "python",
   "nbconvert_exporter": "python",
   "pygments_lexer": "ipython3",
   "version": "3.11.0"
  }
 },
 "nbformat": 4,
 "nbformat_minor": 5
}
