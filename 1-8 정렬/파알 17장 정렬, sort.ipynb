{
 "cells": [
  {
   "cell_type": "markdown",
   "id": "8b6c8df2-be4a-45e9-a237-865f8c1242cd",
   "metadata": {},
   "source": [
    "### e: 62\n",
    "### m: 61, 60, 63, 59, 58, 64"
   ]
  },
  {
   "cell_type": "markdown",
   "id": "0d18cd38-7a28-489c-a043-5eb549456350",
   "metadata": {
    "tags": []
   },
   "source": [
    "# 문62 유효한 애너그램 e\n",
    "https://leetcode.com/problems/valid-anagram"
   ]
  },
  {
   "cell_type": "code",
   "execution_count": null,
   "id": "22e59f8a-4523-4cd3-891b-1a3334672d0f",
   "metadata": {},
   "outputs": [],
   "source": [
    "Given two strings s and t, return true if t is an anagram of s, and false otherwise.\n",
    "\n",
    "An Anagram is a word or phrase formed by rearranging the letters of a different word or phrase, \n",
    "typically using all the original letters exactly once.\n",
    "\n",
    "Example 1:\n",
    "Input: s = \"anagram\", t = \"nagaram\"\n",
    "Output: true\n",
    "\n",
    "Example 2:\n",
    "Input: s = \"rat\", t = \"car\"\n",
    "Output: false\n",
    "\n",
    "class Solution:\n",
    "    def isAnagram(self, s: str, t: str) -> bool:"
   ]
  },
  {
   "cell_type": "markdown",
   "id": "26c74e30-4cfe-452f-be05-df4a860e6ee5",
   "metadata": {
    "tags": []
   },
   "source": [
    "### 내 풀이"
   ]
  },
  {
   "cell_type": "code",
   "execution_count": 29,
   "id": "479b6c26-fd7d-43a5-9e1c-3a66c0cbef21",
   "metadata": {
    "tags": []
   },
   "outputs": [],
   "source": [
    "import typing\n",
    "def isAnagram(s: str, t: str) -> bool:\n",
    "    if len(s) != len(t):\n",
    "        return False\n",
    "    \n",
    "    s = \" \".join(s).split()\n",
    "    s.sort()\n",
    "    t = \" \".join(t).split()\n",
    "    t.sort()\n",
    "\n",
    "    for cs, ct in zip(s, t):\n",
    "        print(cs)\n",
    "        print(ct)\n",
    "        if cs != ct:\n",
    "            return False\n",
    "    else:\n",
    "        return True"
   ]
  },
  {
   "cell_type": "code",
   "execution_count": 30,
   "id": "65d60f55-eff7-4b8f-960f-95bd598f1cf2",
   "metadata": {
    "tags": []
   },
   "outputs": [
    {
     "data": {
      "text/plain": [
       "False"
      ]
     },
     "execution_count": 30,
     "metadata": {},
     "output_type": "execute_result"
    }
   ],
   "source": [
    "s = \"a\"\n",
    "t = \"ab\"\n",
    "isAnagram(s, t)"
   ]
  },
  {
   "cell_type": "markdown",
   "id": "3edb13b5-8a8e-4953-89eb-aa2bf315df61",
   "metadata": {},
   "source": [
    "### 책풀이"
   ]
  },
  {
   "cell_type": "code",
   "execution_count": 31,
   "id": "30216ec4-5a58-4882-8219-fbc1a6947bd8",
   "metadata": {
    "tags": []
   },
   "outputs": [
    {
     "data": {
      "text/plain": [
       "False"
      ]
     },
     "execution_count": 31,
     "metadata": {},
     "output_type": "execute_result"
    }
   ],
   "source": [
    "import typing\n",
    "def isAnagram(s: str, t: str) -> bool:\n",
    "    return sorted(s) == sorted(t)\n",
    "\n",
    "s = \"a\"\n",
    "t = \"ab\"\n",
    "isAnagram(s, t)"
   ]
  },
  {
   "cell_type": "code",
   "execution_count": null,
   "id": "175a3430-0a9d-43d1-9b81-f14454c395e9",
   "metadata": {},
   "outputs": [],
   "source": [
    "sorted(iterable, key=None, reverse=False)\n",
    "iterable을 받아, 정렬된 리스트를 돌려줍니다."
   ]
  },
  {
   "cell_type": "code",
   "execution_count": 38,
   "id": "d084424e-4d11-4eec-92c8-523a13004e53",
   "metadata": {
    "tags": []
   },
   "outputs": [
    {
     "name": "stdout",
     "output_type": "stream",
     "text": [
      "[1, -2, 3, 4, -5]\n"
     ]
    }
   ],
   "source": [
    "numbers = [-5, -2, 3, 1, 4]\n",
    "sorted_numbers = sorted(numbers, key=abs)\n",
    "print(sorted_numbers) "
   ]
  },
  {
   "cell_type": "code",
   "execution_count": 40,
   "id": "f6ffd9e9-f92c-40c7-875a-0143d449b7b9",
   "metadata": {
    "tags": []
   },
   "outputs": [
    {
     "name": "stdout",
     "output_type": "stream",
     "text": [
      "['pie', 'book', 'banana', 'Washington']\n",
      "['Washington', 'banana', 'book', 'pie']\n"
     ]
    }
   ],
   "source": [
    "words = [\"banana\", \"pie\", \"Washington\", \"book\"]\n",
    "sorted_words_by_key = sorted(words, key=len)\n",
    "sorted_words = sorted(words)\n",
    "print(sorted_words_by_key)\n",
    "print(sorted_words)"
   ]
  },
  {
   "cell_type": "markdown",
   "id": "124b0ad7-efe0-480a-add3-9749b5c09f27",
   "metadata": {},
   "source": [
    "['Washington', 'banana', 'book', 'pie']\n",
    "\n",
    "    이 정렬 순서가 표면적으로 알파벳 순 오름차순 정렬과 일치하지 않는 것처럼 보일 수 있습니다. \n",
    "    그러나 이 정렬 순서는 대소문자 구분에 기인합니다. \n",
    "    Python에서 문자열을 정렬할 때, 대문자는 소문자보다 정렬 순서상 앞에 옵니다. \n",
    "    ASCII 코드에서 대문자는 소문자보다 먼저 나오기 때문입니다."
   ]
  },
  {
   "cell_type": "markdown",
   "id": "846ffc53-2af6-4489-8b7c-c16a22d208c3",
   "metadata": {},
   "source": [
    "### 다른 풀이"
   ]
  },
  {
   "cell_type": "code",
   "execution_count": 41,
   "id": "95980d3d-8d12-45d4-8594-b8ba5ffcca34",
   "metadata": {
    "tags": []
   },
   "outputs": [
    {
     "name": "stdout",
     "output_type": "stream",
     "text": [
      "Counter({'a': 1})\n",
      "Counter({'a': 1, 'b': 1})\n"
     ]
    },
    {
     "data": {
      "text/plain": [
       "False"
      ]
     },
     "execution_count": 41,
     "metadata": {},
     "output_type": "execute_result"
    }
   ],
   "source": [
    "import typing, collections\n",
    "def isAnagram(s: str, t: str) -> bool:\n",
    "    print(collections.Counter(s))\n",
    "    print(collections.Counter(t))\n",
    "    return collections.Counter(s) == collections.Counter(t)\n",
    "\n",
    "s = \"a\"\n",
    "t = \"ab\"\n",
    "isAnagram(s, t)"
   ]
  },
  {
   "cell_type": "markdown",
   "id": "a935da01-4215-4069-a9da-f9204c676d53",
   "metadata": {},
   "source": [
    "n과 m은 각각 문자열 s와 t의 길이\n",
    "\n",
    "### sorted로 두 문자열을 정렬하는 데 \n",
    "O(nlogn+mlogm)의 시간이 소요됩니다  \n",
    "  \n",
    "### collections.Counter 이 방법은 \n",
    "각 문자열에서 문자의 출현 빈도수를 세고, 이 두 빈도수가 동일한지 비교합니다.   \n",
    "Counter 객체를 생성하는 시간 복잡도는 O(n+m)입니다"
   ]
  },
  {
   "cell_type": "markdown",
   "id": "e37a5369-dba1-461d-b89f-e464dedeeb4e",
   "metadata": {},
   "source": [
    "# 문61 가장 큰 수 m\n",
    "https://leetcode.com/problems/largest-number"
   ]
  },
  {
   "cell_type": "code",
   "execution_count": null,
   "id": "00919349-c22b-4d51-b214-086401f8d74a",
   "metadata": {},
   "outputs": [],
   "source": [
    "Given a list of non-negative integers nums, arrange them \n",
    "such that they form the largest number and return it.\n",
    "\n",
    "Since the result may be very large, so you need to return a string instead of an integer.\n",
    "\n",
    "Example 1:\n",
    "\n",
    "Input: nums = [3,30,34,5,9]\n",
    "Output: \"9534330\"\n",
    "\n",
    "Constraints:\n",
    "\n",
    "1 <= nums.length <= 100\n",
    "0 <= nums[i] <= 10^9\n",
    "\n",
    "class Solution:\n",
    "    def largestNumber(self, nums: List[int]) -> str:"
   ]
  },
  {
   "cell_type": "code",
   "execution_count": 23,
   "id": "a160873f-44ea-42ef-a486-00c45f91dfce",
   "metadata": {
    "tags": []
   },
   "outputs": [
    {
     "data": {
      "text/plain": [
       "1000000000"
      ]
     },
     "execution_count": 23,
     "metadata": {},
     "output_type": "execute_result"
    }
   ],
   "source": [
    "10**9"
   ]
  },
  {
   "cell_type": "code",
   "execution_count": null,
   "id": "bd2a5195-7a39-4bc7-b57e-79b0e7366e93",
   "metadata": {},
   "outputs": [],
   "source": [
    "문제해결전략 접근 아이디어\n",
    "\n",
    "각 숫자의 자릿수가 같을 때 lexicographical order로 정렬한 뒤 이어 붙이고 : sort에 reverse 하면 되고\n",
    "한자리 수면 뒤에 0이 붙은 것보단 크게 조정하면 : 어떻게?"
   ]
  },
  {
   "cell_type": "code",
   "execution_count": 65,
   "id": "3e7e5f44-7154-4ea9-8ace-2886b23a0668",
   "metadata": {
    "tags": []
   },
   "outputs": [
    {
     "data": {
      "text/plain": [
       "'9534330'"
      ]
     },
     "execution_count": 65,
     "metadata": {},
     "output_type": "execute_result"
    }
   ],
   "source": [
    "nums = [3,30,34,5,9]\n",
    "\n",
    "num_lst = []\n",
    "for num in nums:\n",
    "    num_lst.append(str(num)) \n",
    "num_lst = sorted(num_lst, reverse=True)\n",
    "\n",
    "for i in range(len(num_lst)-1):\n",
    "    if \"\".join([num_lst[i],num_lst[i+1]]) < \"\".join([num_lst[i+1],num_lst[i]]):\n",
    "        num_lst[i], num_lst[i+1] = num_lst[i+1], num_lst[i]\n",
    "\"\".join(num_lst)\n"
   ]
  },
  {
   "cell_type": "markdown",
   "id": "2f459b6b-cb2b-4e65-9790-e8b20bf29d1b",
   "metadata": {},
   "source": [
    "### 반례"
   ]
  },
  {
   "cell_type": "code",
   "execution_count": 63,
   "id": "14804e99-3b24-4173-a6d6-21355ad1d240",
   "metadata": {
    "tags": []
   },
   "outputs": [],
   "source": [
    "nums = [0,0]\n",
    "\n",
    "Output \"00\"\n",
    "Expected \"0\""
   ]
  },
  {
   "cell_type": "code",
   "execution_count": 66,
   "id": "8fe65bae-e100-49bd-a424-3426e5cb68ca",
   "metadata": {
    "tags": []
   },
   "outputs": [
    {
     "data": {
      "text/plain": [
       "Counter({'0': 2})"
      ]
     },
     "execution_count": 66,
     "metadata": {},
     "output_type": "execute_result"
    }
   ],
   "source": [
    "from collections import Counter\n",
    "\n",
    "nums = [0, 0]\n",
    "\n",
    "num_lst = []\n",
    "for num in nums:\n",
    "    num_lst.append(str(num)) \n",
    "num_lst = sorted(num_lst, reverse=True)\n",
    "\n",
    "for i in range(len(num_lst)-1):\n",
    "    if \"\".join([num_lst[i],num_lst[i+1]]) < \"\".join([num_lst[i+1],num_lst[i]]):\n",
    "        num_lst[i], num_lst[i+1] = num_lst[i+1], num_lst[i]\n",
    "\n",
    "\n",
    "if Counter(num_lst)['0'] == len(num_lst):\n",
    "    return '0'\n",
    "\n",
    "else:\n",
    "    return \"\".join(num_lst)"
   ]
  },
  {
   "cell_type": "markdown",
   "id": "9ce67b3b-cd95-4987-96f3-79bfe75ddba5",
   "metadata": {},
   "source": [
    "### 반례"
   ]
  },
  {
   "cell_type": "code",
   "execution_count": 68,
   "id": "e4f1ae5a-01e5-4604-a27e-18abea9ea816",
   "metadata": {
    "tags": []
   },
   "outputs": [
    {
     "data": {
      "text/plain": [
       "['90', '77', '74', '60', '56', '51', '51', '5', '33', '21']"
      ]
     },
     "execution_count": 68,
     "metadata": {},
     "output_type": "execute_result"
    }
   ],
   "source": [
    "nums =[74,21,33, 51, 77, 51, 90, 60, 5, 56]\n",
    "num_lst = []\n",
    "for num in nums:\n",
    "    num_lst.append(str(num)) \n",
    "num_lst = sorted(num_lst, reverse=True)\n",
    "num_lst"
   ]
  },
  {
   "cell_type": "code",
   "execution_count": null,
   "id": "59068678-b5c9-498e-86d3-ede9a513f678",
   "metadata": {},
   "outputs": [],
   "source": [
    "Output  \"90777460 5651551 3321\" 56 51 5 51\n",
    "Expected\"90777460 5655151 3321\" 56 5 51 51"
   ]
  },
  {
   "cell_type": "code",
   "execution_count": 79,
   "id": "28323050-6a64-42b5-b8c9-4c1c4827b0a4",
   "metadata": {
    "tags": []
   },
   "outputs": [
    {
     "data": {
      "text/plain": [
       "'9077746056551513321'"
      ]
     },
     "execution_count": 79,
     "metadata": {},
     "output_type": "execute_result"
    }
   ],
   "source": [
    "from typing import List\n",
    "\n",
    "nums =[74,21,33, 51, 77, 51, 90, 60, 5, 56]\n",
    "def largestNumber(nums: List[int]) -> str:\n",
    "\n",
    "    num_lst = []\n",
    "    for num in nums:\n",
    "        num_lst.append(str(num)) \n",
    "    num_lst = sorted(num_lst, reverse=True)\n",
    "\n",
    "    def exchange(num_lst):\n",
    "        for i in range(len(num_lst)-1):\n",
    "            if \"\".join([num_lst[i],num_lst[i+1]]) < \"\".join([num_lst[i+1],num_lst[i]]):\n",
    "                num_lst[i], num_lst[i+1] = num_lst[i+1], num_lst[i]\n",
    "        return num_lst\n",
    "\n",
    "    if Counter(num_lst)['0'] == len(num_lst):\n",
    "        return '0'\n",
    "\n",
    "    else:\n",
    "        for _ in range(len(num_lst)):\n",
    "            num_lst = exchange(num_lst)\n",
    "        return \"\".join(num_lst)\n",
    "largestNumber(nums)"
   ]
  },
  {
   "cell_type": "markdown",
   "id": "1086a227-e2c5-445c-9a82-3d20923db89e",
   "metadata": {},
   "source": [
    "### 내풀이 효율화 by chatGPT"
   ]
  },
  {
   "cell_type": "code",
   "execution_count": 92,
   "id": "06b4bcdc-9194-4c15-8ae3-1d3b6181ccae",
   "metadata": {
    "tags": []
   },
   "outputs": [],
   "source": [
    "def largestNumber(nums: List[int]) -> str:\n",
    "    num_lst = [str(num) for num in nums]  # 숫자를 문자열로 변환\n",
    "    num_lst.sort(reverse=True)  # 내림차순으로 정렬\n",
    "\n",
    "    # exchange 함수를 개선하여 한 번의 패스로 최적 정렬을 시도\n",
    "    def exchange(num_lst):\n",
    "        swapped = True\n",
    "        while swapped:\n",
    "            swapped = False\n",
    "            for i in range(len(num_lst)-1):\n",
    "                if num_lst[i] + num_lst[i+1] < num_lst[i+1] + num_lst[i]:\n",
    "                    num_lst[i], num_lst[i+1] = num_lst[i+1], num_lst[i]\n",
    "                    swapped = True\n",
    "        return num_lst\n",
    "\n",
    "    # 모든 요소가 '0'인 경우를 처리 \n",
    "    # all() 함수는 반복 가능한(iterable) 모든 요소가 참(True)인지 확인하는 데 사용됩니다. \n",
    "    # 만약 반복 가능한 객체 내 모든 요소가 참이면 True를 반환하고, 그렇지 않으면 False를 반환\n",
    "    if all(num == '0' for num in num_lst):\n",
    "        return '0'\n",
    "\n",
    "    num_lst = exchange(num_lst)  # 최적화된 교환 로직을 사용하여 정렬\n",
    "    return \"\".join(num_lst)"
   ]
  },
  {
   "cell_type": "markdown",
   "id": "3eaa5c55-2eef-4d9c-a476-c8fa8b48d08d",
   "metadata": {},
   "source": [
    "### chatGPT 풀이"
   ]
  },
  {
   "cell_type": "code",
   "execution_count": null,
   "id": "5b71bed8-db11-4d99-a7a0-07d4f10d36f4",
   "metadata": {},
   "outputs": [],
   "source": [
    "class Solution:\n",
    "    def largestNumber(self, nums: List[int]) -> str:\n",
    "        \n",
    "    # 정수를 문자열로 변환\n",
    "        num_strs = [str(num) for num in nums]\n",
    "        \n",
    "        # 정렬 기준을 커스텀하여 한 번에 정렬\n",
    "        \n",
    "        num_strs.sort(key=lambda x: x*10, reverse=True)\n",
    "        \n",
    "        # 모든 요소가 0인 경우를 처리\n",
    "        if all(num == \"0\" for num in num_strs):\n",
    "            return \"0\"\n",
    "        \n",
    "        # 정렬된 문자열을 합쳐서 반환\n",
    "        return ''.join(num_strs)"
   ]
  },
  {
   "cell_type": "code",
   "execution_count": 100,
   "id": "2e4c0ee0-a74f-4cad-86f2-701474cc9f6b",
   "metadata": {
    "tags": []
   },
   "outputs": [
    {
     "data": {
      "text/plain": [
       "['999999991', '9']"
      ]
     },
     "execution_count": 100,
     "metadata": {},
     "output_type": "execute_result"
    }
   ],
   "source": [
    "nums = [999999991,9]\n",
    "num_strs = [str(num) for num in nums]\n",
    "num_strs"
   ]
  },
  {
   "cell_type": "code",
   "execution_count": 101,
   "id": "280438bf-16e0-41b7-9d12-c44308534681",
   "metadata": {
    "tags": []
   },
   "outputs": [
    {
     "data": {
      "text/plain": [
       "['9', '999999991']"
      ]
     },
     "execution_count": 101,
     "metadata": {},
     "output_type": "execute_result"
    }
   ],
   "source": [
    "# 0 <= nums[i] <= 10*9  입력조건이므로\n",
    "num_strs.sort(key=lambda x: x*10, reverse=True)\n",
    "num_strs"
   ]
  },
  {
   "cell_type": "code",
   "execution_count": 21,
   "id": "b0b48880-d026-4ae4-a2ff-3c6ed6b1c04a",
   "metadata": {
    "tags": []
   },
   "outputs": [
    {
     "data": {
      "text/plain": [
       "True"
      ]
     },
     "execution_count": 21,
     "metadata": {},
     "output_type": "execute_result"
    }
   ],
   "source": [
    "'9' * 10 > '999999991'"
   ]
  },
  {
   "cell_type": "code",
   "execution_count": 105,
   "id": "c8efc42f-2d3e-4d51-8a5f-935b2118b0d8",
   "metadata": {
    "tags": []
   },
   "outputs": [
    {
     "data": {
      "text/plain": [
       "'9999999999'"
      ]
     },
     "execution_count": 105,
     "metadata": {},
     "output_type": "execute_result"
    }
   ],
   "source": [
    "'9' * 10"
   ]
  },
  {
   "cell_type": "code",
   "execution_count": 106,
   "id": "665c494e-5c20-4ea5-9a7b-afc78d4d4c84",
   "metadata": {
    "tags": []
   },
   "outputs": [
    {
     "data": {
      "text/plain": [
       "'999999991999999991999999991999999991999999991999999991999999991999999991999999991999999991'"
      ]
     },
     "execution_count": 106,
     "metadata": {},
     "output_type": "execute_result"
    }
   ],
   "source": [
    "'999999991'*10"
   ]
  },
  {
   "cell_type": "markdown",
   "id": "c389f976-7c70-4734-a7bb-b1fec811a62f",
   "metadata": {},
   "source": [
    "### 다른 풀이"
   ]
  },
  {
   "cell_type": "code",
   "execution_count": 107,
   "id": "16a9b838-46ed-4e1c-87ea-5e510eebca79",
   "metadata": {
    "tags": []
   },
   "outputs": [],
   "source": [
    "class LargerNumKey(str):\n",
    "    def __lt__(x, y):\n",
    "        return x+y > y+x\n",
    "        \n",
    "class Solution:\n",
    "    def largestNumber(self, nums):\n",
    "        largest_num = ''.join(sorted(map(str, nums), key=LargerNumKey))\n",
    "        return '0' if largest_num[0] == '0' else largest_num"
   ]
  },
  {
   "cell_type": "markdown",
   "id": "71165306-2110-45ec-aaa8-0c6579d571dc",
   "metadata": {},
   "source": [
    "LargerNumKey는 str 클래스를 상속받는 커스텀 문자열 클래스\n",
    "\n",
    "    이 클래스는 str 타입의 객체들을 비교할 때 사용되는 특수 메서드 __lt__ (less than, 즉 < 연산자에 대응)를 오버라이드.\n",
    "    __lt__ 메서드는 두 문자열 x와 y를 비교하는데, x+y가 y+x보다 큰 경우에 True를 반환\n",
    "    여기서 x+y와 y+x는 문자열 연결 연산을 의미\n",
    "    이 비교 방식은 두 문자열(숫자)을 연결했을 때 더 큰 숫자를 형성하는 순서를 결정하기 위한 것\n",
    "\n",
    "sorted(map(str, nums), key=LargerNumKey) 에서\n",
    "\n",
    "    key=LargerNumKey 인자를 통해 정렬 기준으로 LargerNumKey 클래스를 사용\n",
    "    각 문자열(숫자)을 LargerNumKey 객체로 변환하여, 정렬 시 __lt__ 메서드에 정의된 비교 로직에 따라 순서를 결정\n",
    "    \n",
    "예를 들어\n",
    "\n",
    "    nums = [3, 30, 34] 은 \n",
    "    map(str, nums) 에 의해 '3', '30', '34' 원소를 가지고 있는 이터레이터가 된다.\n",
    "    이제 sorted() 함수에 key=LargerNumKey 인자를 전달하여 문자열 이터레이터를 정렬합니다. \n",
    "    이 과정에서 각 문자열은 LargerNumKey 객체로 변환되고, __lt__ 메서드에 따라 비교됩니다.\n",
    "\n",
    "    예를 들어, LargerNumKey('3')와 LargerNumKey('30') 비교 시, \n",
    "    __lt__ 메서드는 '3' + '30' ('330')이 '30' + '3' ('303')보다 큰지 비교합니다.\n",
    "    여기서 '330'이 더 크므로, '3'은 '30'보다 \"더 큰\" 것으로 간주됩니다.\n",
    "\n"
   ]
  },
  {
   "cell_type": "markdown",
   "id": "693a01e2-f3e8-46f7-94ac-5294f615f2f9",
   "metadata": {},
   "source": [
    "# 문60 삽입 정렬 리스트 m\n",
    "https://leetcode.com/problems/insertion-sort-list"
   ]
  },
  {
   "cell_type": "code",
   "execution_count": null,
   "id": "44cb636d-44f6-4cdc-bc72-a1e0991f9085",
   "metadata": {},
   "outputs": [],
   "source": [
    "Given the head of a singly linked list, sort the list using insertion sort, and return the sorted list's head\n",
    "\n",
    "Input: head = [4,2,1,3]\n",
    "Output: [1,2,3,4]"
   ]
  },
  {
   "cell_type": "markdown",
   "id": "3dfb765e-f4b2-4c4c-beb5-e8eedb70131f",
   "metadata": {},
   "source": [
    "### 책풀이"
   ]
  },
  {
   "cell_type": "code",
   "execution_count": 120,
   "id": "09369194-d0c2-44a2-8168-1cc65e6f192d",
   "metadata": {
    "tags": []
   },
   "outputs": [],
   "source": [
    "from __future__ import annotations\n",
    "\n",
    "class ListNode:\n",
    "    def __init__(self, val=0, next=None):\n",
    "        self.val = val\n",
    "        self.next = next\n",
    "        \n",
    "\n",
    "class Solution:\n",
    "    def insertionSortList(self, head: Optional[ListNode]) -> Optional[ListNode]:\n",
    "        '''연결 리스트의 각 노드를 순회하면서, 현재 노드를 이미 정렬된 리스트의 적절한 위치에 삽입하는 과정을 반복합니다. \n",
    "        이 과정에서 root 노드는 정렬된 부분의 더미 헤드 역할을 하며, \n",
    "        current는 정렬된 리스트 내에서 현재 노드가 삽입될 위치를 탐색하는 데 사용됩니다.\n",
    "        '''\n",
    "        current = root = ListNode(0) # head는 처음에 4를 가리킵니다. current는 root를 가리키며, root.next는 None입니다.\n",
    "        \n",
    "        while head:                 \n",
    "            while current.next and current.next.val < head.val: \n",
    "                current = current.next\n",
    "            \n",
    "            # current.next, head.next, head = head, current.next, head.next 아래 코드와 같다.\n",
    "            \n",
    "            temp = head.next        \n",
    "            head.next = current.next               \n",
    "            current.next = head      \n",
    "            head = temp              \n",
    "            \n",
    "            if head and current.val > head.val:  \n",
    "                current = root\n",
    "        \n",
    "        return root.next"
   ]
  },
  {
   "cell_type": "markdown",
   "id": "9abd78f5-1cc8-4bfd-8c9c-94ebc9559f61",
   "metadata": {},
   "source": [
    "문13 팰린드롬 연결리스트 런너 기법"
   ]
  },
  {
   "cell_type": "markdown",
   "id": "8e3fd486-31b1-420f-a55c-17e686bc5e0f",
   "metadata": {},
   "source": [
    "### 다른 풀이(꼼수)"
   ]
  },
  {
   "cell_type": "code",
   "execution_count": null,
   "id": "ca45513b-8072-44c7-b0ec-520f4750d91c",
   "metadata": {},
   "outputs": [],
   "source": [
    "class ListNode:\n",
    "    def __init__(self, val=0, next=None):\n",
    "        self.val = val\n",
    "        self.next = next\n",
    "\n",
    "        \n",
    "class Solution:\n",
    "    def insertionSortList(self, head: Optional[ListNode]) -> Optional[ListNode]:\n",
    "        if head == None:\n",
    "            return \n",
    "\n",
    "        tempArr = []\n",
    "        temp = head\n",
    "        while temp is not None:\n",
    "            tempArr.append(temp.val)\n",
    "            temp = temp.next\n",
    "\n",
    "        i = 0\n",
    "        tempArr.sort()\n",
    "        temp = head\n",
    "        while temp is not None:\n",
    "            temp.val = tempArr[i]\n",
    "            i = i + 1\n",
    "            temp = temp.next\n",
    "\n",
    "        return head"
   ]
  },
  {
   "cell_type": "markdown",
   "id": "2c71dd9e-71ca-4f20-b825-7262576ac7fa",
   "metadata": {},
   "source": [
    "# 문63 색정렬 m\n",
    "https://leetcode.com/problems/sort-colors/"
   ]
  },
  {
   "cell_type": "code",
   "execution_count": 5,
   "id": "145450f7-6bcb-4647-aac3-304fc3aef77c",
   "metadata": {
    "tags": []
   },
   "outputs": [
    {
     "data": {
      "text/plain": [
       "[0, 0, 0, 0, 1, 1, 1, 1, 1, 2, 2, 2, 2]"
      ]
     },
     "execution_count": 5,
     "metadata": {},
     "output_type": "execute_result"
    }
   ],
   "source": [
    "a = [2,2,1,0,1,0,0,1,1,2,2,1,0]\n",
    "def quick_sort(a, left, right):\n",
    "    pl = left\n",
    "    pr = right\n",
    "    pivot = (left+right)//2\n",
    "    \n",
    "    while pl<= pr:\n",
    "        while a[pl] < a[pivot]: pl += 1\n",
    "        while a[pr] > a[pivot]: pr -= 1\n",
    "        if pl <= pr:\n",
    "            a[pl], a[pr] = a[pr], a[pl]\n",
    "            pr -= 1\n",
    "            pl += 1\n",
    "    if pr > left: quick_sort(a, left, pr)\n",
    "    if pl < right: quick_sort(a, pl, right)\n",
    "    \n",
    "quick_sort(a, 0, len(a)-1)\n",
    "a"
   ]
  },
  {
   "cell_type": "code",
   "execution_count": null,
   "id": "50b42360-dd0d-414f-ae05-31f58cbedb67",
   "metadata": {},
   "outputs": [],
   "source": [
    "Given an array nums with n objects colored red, white, or blue, \n",
    "sort them in-place so that objects of the same color are adjacent, \n",
    "with the colors in the order red, white, and blue.\n",
    "\n",
    "We will use the integers 0, 1, and 2 to represent the color red, white, and blue, respectively.\n",
    "\n",
    "You must solve this problem without using the library's sort function.\n",
    "\n",
    " \n",
    "\n",
    "Example 1:\n",
    "\n",
    "Input: nums = [2,0,2,1,1,0]\n",
    "Output: [0,0,1,1,2,2]\n",
    "\n",
    "Example 2:\n",
    "\n",
    "Input: nums = [2,0,1]\n",
    "Output: [0,1,2]\n",
    "\n",
    "class Solution:\n",
    "    def sortColors(self, nums: List[int]) -> None:"
   ]
  },
  {
   "cell_type": "code",
   "execution_count": 1,
   "id": "80cdde8d-02e3-4d14-ab22-bff6fb38307c",
   "metadata": {},
   "outputs": [],
   "source": [
    "class Solution:\n",
    "    def sortColors(self, nums: List[int]) -> None:\n",
    "\n",
    "        def qsort(a, left, right):\n",
    "            pl = left                \n",
    "            pr = right                \n",
    "            x = a[(left + right) // 2] \n",
    "\n",
    "            while pl <= pr:   \n",
    "                while a[pl] < x: pl += 1\n",
    "                while a[pr] > x: pr -= 1\n",
    "                if pl <= pr:\n",
    "                    a[pl], a[pr] = a[pr], a[pl]\n",
    "                    pl += 1\n",
    "                    pr -= 1\n",
    "\n",
    "            if left < pr: qsort(a, left, pr)\n",
    "            if pl < right: qsort(a, pl, right)\n",
    "\n",
    "        return qsort(nums, 0, len(nums)-1)"
   ]
  },
  {
   "cell_type": "markdown",
   "id": "eab5d7de-962c-4a10-bc4e-bafbdf453ef1",
   "metadata": {},
   "source": [
    "# 문59 구간 병합 m\n",
    "https://leetcode.com/problems/merge-intervals/"
   ]
  },
  {
   "cell_type": "code",
   "execution_count": null,
   "id": "e8df187f-2aa9-46c7-b2d9-fd4f8414ec9f",
   "metadata": {},
   "outputs": [],
   "source": [
    "Given an array of intervals where intervals[i] = [starti, endi], \n",
    "merge all overlapping intervals, \n",
    "and return an array of the non-overlapping intervals that cover all the intervals in the input.\n",
    "\n",
    "Example 1:\n",
    "Input: intervals = [[1,3],[2,6],[8,10],[15,18]]\n",
    "Output: [[1,6],[8,10],[15,18]]\n",
    "Explanation: Since intervals [1,3] and [2,6] overlap, merge them into [1,6].\n",
    "\n",
    "Example 2:\n",
    "Input: intervals = [[1,4],[4,5]]\n",
    "Output: [[1,5]]\n",
    "Explanation: Intervals [1,4] and [4,5] are considered overlapping."
   ]
  },
  {
   "cell_type": "code",
   "execution_count": 4,
   "id": "284220aa-d6c0-4fe7-b837-05301f1e9787",
   "metadata": {},
   "outputs": [
    {
     "ename": "NameError",
     "evalue": "name 'List' is not defined",
     "output_type": "error",
     "traceback": [
      "\u001b[0;31m---------------------------------------------------------------------------\u001b[0m",
      "\u001b[0;31mNameError\u001b[0m                                 Traceback (most recent call last)",
      "Cell \u001b[0;32mIn[4], line 1\u001b[0m\n\u001b[0;32m----> 1\u001b[0m \u001b[38;5;28;01mclass\u001b[39;00m \u001b[38;5;21;01mSolution\u001b[39;00m:\n\u001b[1;32m      2\u001b[0m     \u001b[38;5;28;01mdef\u001b[39;00m \u001b[38;5;21mmerge\u001b[39m(\u001b[38;5;28mself\u001b[39m, intervals: List[List[\u001b[38;5;28mint\u001b[39m]]) \u001b[38;5;241m-\u001b[39m\u001b[38;5;241m>\u001b[39m List[List[\u001b[38;5;28mint\u001b[39m]]:\n\u001b[1;32m      3\u001b[0m         \u001b[38;5;28;01mpass\u001b[39;00m\n",
      "Cell \u001b[0;32mIn[4], line 2\u001b[0m, in \u001b[0;36mSolution\u001b[0;34m()\u001b[0m\n\u001b[1;32m      1\u001b[0m \u001b[38;5;28;01mclass\u001b[39;00m \u001b[38;5;21;01mSolution\u001b[39;00m:\n\u001b[0;32m----> 2\u001b[0m     \u001b[38;5;28;01mdef\u001b[39;00m \u001b[38;5;21mmerge\u001b[39m(\u001b[38;5;28mself\u001b[39m, intervals: List[List[\u001b[38;5;28mint\u001b[39m]]) \u001b[38;5;241m-\u001b[39m\u001b[38;5;241m>\u001b[39m List[List[\u001b[38;5;28mint\u001b[39m]]:\n\u001b[1;32m      3\u001b[0m         \u001b[38;5;28;01mpass\u001b[39;00m\n",
      "\u001b[0;31mNameError\u001b[0m: name 'List' is not defined"
     ]
    }
   ],
   "source": [
    "class Solution:\n",
    "    def merge(self, intervals: List[List[int]]) -> List[List[int]]:\n",
    "        pass"
   ]
  },
  {
   "cell_type": "code",
   "execution_count": 5,
   "id": "b3e1b85b-bfb2-4236-887a-102868fc77ca",
   "metadata": {},
   "outputs": [
    {
     "data": {
      "text/plain": [
       "[[1, 6], [8, 10], [15, 18]]"
      ]
     },
     "execution_count": 5,
     "metadata": {},
     "output_type": "execute_result"
    }
   ],
   "source": [
    "def merge(intervals):\n",
    "    merged = []\n",
    "    for i in sorted(intervals, key = lambda x: x[0]):\n",
    "        if merged and i[0] <= merged[-1][1]:\n",
    "            merged[-1][1] = max(merged[-1][1], i[1])\n",
    "        else:\n",
    "            merged.append(i)\n",
    "    return merged\n",
    "\n",
    "intervals = [[1,3],[2,6],[8,10],[15,18]]\n",
    "merge(intervals)"
   ]
  },
  {
   "cell_type": "markdown",
   "id": "dee8b37c-14f1-472f-b120-2a41b40990d9",
   "metadata": {},
   "source": [
    "# 문58 리스트 정렬 m\n",
    "http://leetcode.com/problems/sort-list/"
   ]
  },
  {
   "cell_type": "code",
   "execution_count": null,
   "id": "b1eff3b8-3c13-4d10-8aad-36eabb7985ef",
   "metadata": {},
   "outputs": [],
   "source": [
    "Given the head of a linked list, return the list after sorting it in ascending order.\n",
    "\n",
    "sort the linked list in O(n logn) time and O(1) memory\n",
    "\n",
    "\n",
    "Input: head = [4,2,1,3]\n",
    "Output: [1,2,3,4]\n",
    "\n",
    "Input: head = [-1,5,3,4,0]\n",
    "Output: [-1,0,3,4,5]"
   ]
  },
  {
   "cell_type": "code",
   "execution_count": 9,
   "id": "5bd412cd-4a76-4c39-a434-d34a4d468311",
   "metadata": {
    "tags": []
   },
   "outputs": [
    {
     "name": "stdout",
     "output_type": "stream",
     "text": [
      "4\n",
      "2\n",
      "1\n",
      "3\n"
     ]
    }
   ],
   "source": [
    "class ListNode:\n",
    "    \n",
    "    def __init__(self, val = 0, next = None):\n",
    "        self.val = val\n",
    "        self.next = next\n",
    "        \n",
    "def create_linked_list(lst):\n",
    "    head = ListNode(lst[0])\n",
    "    p = head\n",
    "    for i in range(1, len(lst)):  # for element in lst[1:]:\n",
    "        p.next = ListNode(lst[i]) # p.next = ListNode(element)\n",
    "        p = p.next\n",
    "    \n",
    "    return head\n",
    "\n",
    "lst = [4, 2, 1, 3]\n",
    "head = create_linked_list(lst)\n",
    "\n",
    "# head = create_linked_list([4, 2, 1, 3]) # 이 코드를 실행하는 건 아래 코드들을 실행하는 것과 같다\n",
    "head = ListNode(4)\n",
    "head.next = ListNode(2)\n",
    "head.next.next = ListNode(1)\n",
    "head.next.next.next = ListNode(3)\n",
    "\n",
    "def print_linked_list(head):\n",
    "    p = head          \n",
    "                      # lst = []\n",
    "    while p != None:  # while p:\n",
    "        print(p.val)  # lst.append(p.val)\n",
    "        p = p.next\n",
    "                      # print(lst)\n",
    "print_linked_list(head)"
   ]
  },
  {
   "cell_type": "code",
   "execution_count": 8,
   "id": "25c82823-8cba-4397-b1dd-d43c2e858e51",
   "metadata": {
    "tags": []
   },
   "outputs": [],
   "source": [
    "from __future__ import annotations\n",
    "from typing import Optional\n",
    "\n",
    "class ListNode:\n",
    "    def __init__(self, val=0, next=None):\n",
    "        self.val = val\n",
    "        self.next = next\n",
    "        \n",
    "class Solution:\n",
    "    def sortList(self, head: Optional[ListNode]) -> Optional[ListNode]: \n",
    "        # Optional[ListNode]는 이 변수가 ListNode 타입이거나 None일 수 있음을 나타냅니다. \n",
    "        # Optional은 해당 변수가 어떤 특정 타입이거나 None일 수 있다는 것을 의미\n",
    "        \n",
    "        if not head or not head.next: # 기저 조건: 빈 리스트거나 단일 노드일 경우\n",
    "            return head\n",
    "        \n",
    "        # 리스트를 반으로 나누기: slow는 중간 지점, fast는 끝 지점\n",
    "        slow, fast = head, head.next\n",
    "        while fast and fast.next:\n",
    "            slow = slow.next\n",
    "            fast = fast.next.next\n",
    "        \n",
    "        # slow를 기준으로 리스트를 두 부분으로 나눔\n",
    "        mid, slow.next = slow.next, None\n",
    "        \n",
    "        # 각 부분을 재귀적으로 정렬\n",
    "        left = self.sortList(head)\n",
    "        right = self.sortList(mid)\n",
    "        \n",
    "        # 정렬된 두 리스트를 합병\n",
    "        return self.merge(left, right)\n",
    "    \n",
    "    def merge(self, l1: Optional[ListNode], l2: Optional[ListNode]) -> Optional[ListNode]:\n",
    "        # 더미 노드를 사용하여 합병된 리스트의 시작 부분을 가리킴\n",
    "        dummy = tail = ListNode()\n",
    "        while l1 and l2:\n",
    "            if l1.val < l2.val:\n",
    "                tail.next, l1 = l1, l1.next\n",
    "            else:\n",
    "                tail.next, l2 = l2, l2.next\n",
    "            tail = tail.next\n",
    "        # 남은 노드를 연결\n",
    "        tail.next = l1 or l2\n",
    "        return dummy.next\n"
   ]
  },
  {
   "cell_type": "code",
   "execution_count": 2,
   "id": "7ea38b59-c4eb-4880-81af-d5cde2e6c580",
   "metadata": {
    "tags": []
   },
   "outputs": [],
   "source": [
    "from __future__ import annotations\n",
    "\n",
    "class ListNode:\n",
    "    def __init__(self, val=0, next=None):\n",
    "        self.val = val\n",
    "        self.next = next\n",
    "        \n",
    "class Solution:\n",
    "    def sortList(self, head: Optional[ListNode]) -> Optional[ListNode]:\n",
    "        \n",
    "        # 연결 리스트 -> 파이썬 리스트\n",
    "        p = head\n",
    "        \n",
    "        lst = []\n",
    "        while p:\n",
    "            lst.append(p.val)\n",
    "            p = p.next\n",
    "            \n",
    "        lst.sort()\n",
    "        \n",
    "        # 파이썬 리스트 -> 연결 리스트\n",
    "        p = head\n",
    "        for i in range(len(lst)):\n",
    "            p.val = lst[i]\n",
    "            p = p.next\n",
    "            \n",
    "        return head"
   ]
  },
  {
   "cell_type": "markdown",
   "id": "86ce851e-2338-4289-8f7d-4267c592943a",
   "metadata": {},
   "source": [
    "# 문64 원점에서 k번째로 가까운 점 m\n",
    "http://leetcode.com/problems/k-closest-points-to-origin/"
   ]
  },
  {
   "cell_type": "code",
   "execution_count": null,
   "id": "226ca9ea-edb9-4e77-a29b-a9ff60e24d63",
   "metadata": {},
   "outputs": [],
   "source": []
  }
 ],
 "metadata": {
  "kernelspec": {
   "display_name": "Python 3 (ipykernel)",
   "language": "python",
   "name": "python3"
  },
  "language_info": {
   "codemirror_mode": {
    "name": "ipython",
    "version": 3
   },
   "file_extension": ".py",
   "mimetype": "text/x-python",
   "name": "python",
   "nbconvert_exporter": "python",
   "pygments_lexer": "ipython3",
   "version": "3.11.0"
  }
 },
 "nbformat": 4,
 "nbformat_minor": 5
}
