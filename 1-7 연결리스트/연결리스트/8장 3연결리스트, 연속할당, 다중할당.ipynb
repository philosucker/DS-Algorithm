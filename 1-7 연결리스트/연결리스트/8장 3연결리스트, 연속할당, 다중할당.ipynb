{
 "cells": [
  {
   "cell_type": "markdown",
   "id": "a2984cb1-84ee-45ef-99a9-55a8647239f7",
   "metadata": {},
   "source": [
    "# 8장 원형 이중 연결리스트"
   ]
  },
  {
   "cell_type": "markdown",
   "id": "6f17474a-aaf4-4d59-ac1f-e81f98de0cde",
   "metadata": {},
   "source": [
    "# 문14) 원형연결리스트와 링버퍼의 차이  \n",
    "\n",
    "링 버퍼 = 원형 큐(링버퍼 자료구조 책 4장 큐)\n",
    "  \n",
    "링 버퍼는 배열로 구현한 원형연결리스트 with 프리리스트에서 add_last와 remove_first만 가능한 구조와 비슷  \n",
    "\n",
    "원형연결리스트 : 꼬리노드의 포인터가 머리노드를 참조"
   ]
  },
  {
   "cell_type": "markdown",
   "id": "462e6384-7ec6-4001-95ef-c69c1b3bb325",
   "metadata": {},
   "source": [
    "# 문15) 이중연결리스트란?  \n",
    "각 노드에 다음 노드를 참조하는 포인터뿐만 아니라  \n",
    "이전 노드를 참조하는 포인터도 있는 연결리스트  \n",
    "  \n",
    "꼬리노드에서 머리노드 방향으로 검색을 할 수 있게 된다."
   ]
  },
  {
   "cell_type": "markdown",
   "id": "4d0b232f-946b-4aee-b1a9-ee6c11fbf51d",
   "metadata": {
    "tags": []
   },
   "source": [
    "# 문16) 원형 이중 연결리스트란?\n",
    "원형 이중 연결리스트 = 이중 연결리스트 + 원형연결리스트  \n",
    "\n",
    "    머리노드에서 꼬리노드로 가는 포인터는 다시 머리노드와 연결  \n",
    "    꼬리노드에서 머리노드로 가는 포인터는 다시 꼬리노드와 연결된 리스트\n",
    "    \n",
    "이중연결리스트 = 파이썬 덱 (파알 9장 이중연결리스트로 덱 구현 참고)   \n",
    "  \n",
    "따라서 원형이중연결리스트 = 원형 덱"
   ]
  },
  {
   "cell_type": "markdown",
   "id": "22334d79-cc94-46ac-9503-2e3e4e262184",
   "metadata": {},
   "source": [
    "# 문17) 원형 이중 연결리스트 구현방법\n",
    "노드클래스, 연결리스트 클래스, __len__, is_empty(), search(), __contains__, print_current_node(), print(), print_reverse(), next(), prev, add_node_current_after(), add_first(), add_last(), remove_current_ndoe, remove(), remove_first(), remove_last(), clear(), __iter__(), __reversed__, 순방향 이터레이터 클래스, 역방향 이터레이터 클래스"
   ]
  },
  {
   "cell_type": "code",
   "execution_count": 6,
   "id": "88a45817-1a06-4985-878a-6fbdd6785471",
   "metadata": {
    "tags": []
   },
   "outputs": [],
   "source": [
    "from __future__ import annotations\n",
    "from typing import Any, Type\n",
    "\n",
    "\n",
    "class Node:\n",
    "    \n",
    "    \n",
    "    def __init__(self, \n",
    "                 data: Any = None, \n",
    "                 prev: Node = None, \n",
    "                 next: Node = None,\n",
    "                ) -> None:\n",
    "        \n",
    "        self.data = data\n",
    "        self.prev = prev or self  # 노드생성시 생성자의 인자 prev에 None이 입력될 경우 self.prev = self\n",
    "                                  # 논리연산자 or는 왼쪽, 오른쪽 순으로 평가해 참인 값을 반환한다\n",
    "        self.next = next or self  # 노드생성시 생성자의 인자 next에 None이 입력될 경우 self.next = self\n",
    "                                  # 따라서 DoubleLinkedList 클래스 인스턴스를 만들때 이니셜라이저에 의해 \n",
    "                                    # self.head, self.current, \n",
    "                                    # self.head.next, self.head.prev\n",
    "                                    # self.current.next, self.current.prev 모두 더미노드 자기자신을 참조\n",
    "\n",
    "class DoubleLinkedList:\n",
    "    \n",
    "    \n",
    "    def __init__(self) -> None:\n",
    "        \n",
    "        self.head = self.current = Node()  # 더미 노드 self.head를 생성\n",
    "                                           # 이 노드는 삽입/삭제를 원활하게 처리하기 위해 리스트 맨앞에 계속 존재하는 더미노드\n",
    "                                           # 이 노드의 prev와 next는 Node 클래스의 생성자에 의해 자기자신을 참조하게 된다.\n",
    "                                    # self.head, self.current, \n",
    "                                    # self.head.next, self.head.prev\n",
    "                                    # self.current.next, self.current.prev 모두 더미노드 자기자신을 참조\n",
    "        self.no = 0"
   ]
  },
  {
   "cell_type": "code",
   "execution_count": 7,
   "id": "064b80ab-1aa3-48de-b7fd-92af842ac904",
   "metadata": {
    "tags": []
   },
   "outputs": [
    {
     "data": {
      "text/plain": [
       "True"
      ]
     },
     "execution_count": 7,
     "metadata": {},
     "output_type": "execute_result"
    }
   ],
   "source": [
    "DLL = DoubleLinkedList()\n",
    "DLL.head == DLL.current == DLL.head.next == DLL.head.prev == DLL.current.next == DLL.current.prev"
   ]
  },
  {
   "cell_type": "code",
   "execution_count": null,
   "id": "95a39d35-2bef-4043-84fb-67bfaed107d5",
   "metadata": {},
   "outputs": [],
   "source": [
    "원형 이중 연결리스트에서 \n",
    "더미노드, 머리노드, 꼬리노드 3개 노드가 리스트에 있다고 할 때\n",
    "각 노드를 참조하는 필드는 다음과 같다.\n",
    "\n",
    "dummy    : self.head      or b.next or a.next.next or a.prev or b.prev.prev \n",
    "head (a) : self.head.next or b.next.next or b.prev or self.head.prev.prev\n",
    "tail (b) : self.head.prev or self.head.next.next or a.next or a.prev.prev"
   ]
  },
  {
   "cell_type": "code",
   "execution_count": 21,
   "id": "7cebd756-32ec-4f09-8c6b-dcfa8a9e72ac",
   "metadata": {
    "tags": []
   },
   "outputs": [],
   "source": [
    "from __future__ import annotations\n",
    "from typing import Any, Type\n",
    "\n",
    "\n",
    "class Node:\n",
    "    \n",
    "    \n",
    "    def __init__(self, \n",
    "                 data: Any = None, \n",
    "                 prev: Node = None, \n",
    "                 next: Node = None,\n",
    "                ) -> None:\n",
    "        \n",
    "        self.data = data\n",
    "        self.prev = prev or self  # 노드생성시 생성자의 인자 prev에 None이 입력될 경우 self.prev = self\n",
    "                                  # 논리연산자 or는 왼쪽, 오른쪽 순으로 평가해 참인 값을 반환한다\n",
    "        self.next = next or self  # 노드생성시 생성자의 인자 next에 None이 입력될 경우 self.next = self\n",
    "                                  # 따라서 DoubleLinkedList 클래스 인스턴스를 만들때 이니셜라이저에 의해 \n",
    "                                    # self.head, self.current, \n",
    "                                    # self.head.next, self.head.prev\n",
    "                                    # self.current.next, self.current.prev 모두 더미노드 자기자신을 참조\n",
    "\n",
    "class DoubleLinkedList:\n",
    "    \n",
    "    \n",
    "    def __init__(self) -> None:\n",
    "        \n",
    "        self.head = self.current = Node()  # 더미 노드 self.head를 생성\n",
    "                                           # 이 노드는 삽입/삭제를 원활하게 처리하기 위해 리스트 맨앞에 계속 존재하는 더미노드\n",
    "                                           # 이 노드의 prev와 next는 Node 클래스의 생성자에 의해 자기자신을 참조하게 된다.\n",
    "                                    # self.head, self.current, \n",
    "                                    # self.head.next, self.head.prev\n",
    "                                    # self.current.next, self.current.prev 모두 더미노드 자기자신을 참조\n",
    "        self.no = 0\n",
    "        \n",
    "    def __len__(self) -> int:\n",
    "        \n",
    "        return self.no \n",
    "    \n",
    "    def is_empty(self) -> bool:\n",
    "        \n",
    "        return self.head.next is self.head  # 리스트가 비어 있으면, i.e. 리스트에 더미노드 하나밖에 없으면 \n",
    "                                            # self.next = self 에 의해 \n",
    "                                            # self.head.next 와 self.head 모두 더미노드를 참조하게 되어 True 반환  \n",
    "            \n",
    "    def search(self, data: Any) -> Any:  # 검색하려는 값과 일치하는 데이터를 가진 노드의 연결리스트 상 순번을 반환\n",
    "        \n",
    "        cnt = 0\n",
    "        ptr = self.head.next  # 더미 다음 노드를 포인터에 미리 담아두고\n",
    "        while ptr is not self.head:  # 리스트가 비어 있지 않으면 (i.e. 더미노드만 있지 않으면) i.e. 리스트 끝까지 가면서\n",
    "            if data == ptr.data:\n",
    "                self.current = ptr\n",
    "                return cnt\n",
    "            cnt += 1\n",
    "            ptr = ptr.next\n",
    "        return -1\n",
    "    \n",
    "    def __contains__(self, data: Any) -> Bool:\n",
    "        \n",
    "        return self.search(data) >= 0\n",
    "    \n",
    "    def print_current_node(self) -> Node:\n",
    "        \n",
    "        if self.is_empty():\n",
    "            print(\"연결리스트가 비어 있습니다\")\n",
    "        else:\n",
    "            print(self.current.data)\n",
    "            \n",
    "    def print(self) -> None:\n",
    "        \n",
    "        ptr = self.head.next        # 더미 다음 노드(머리노드)를 ptr이 참조하고\n",
    "        while ptr is not self.head: # 리스트 끝까지 가면서 (i.e. 머리노드에서 꼬리노드까지 가면서)\n",
    "            print(ptr.data)         # 노드의 데이터 프린트\n",
    "            ptr = ptr.next\n",
    "            \n",
    "    def print_reverse(self) -> None:\n",
    "        \n",
    "        ptr = self.head.prev        # 더미 이전 노드(꼬리노드)를 ptr이 참조하고\n",
    "        while ptr is not self.head: # 리스트 끝에서 맨앞으로 가면서 (i.e. 꼬리노드에서 머리노드까지 가면서)\n",
    "            print(ptr.data)\n",
    "            ptr = ptr.prev\n",
    "            \n",
    "    def next(self) -> bool:\n",
    "        \n",
    "        if self.is_empty() or self.current.next is self.head: # 리스트가 비었거나, 노드가 하나뿐이면\n",
    "            return False\n",
    "        self.current = self.current.next\n",
    "        return True\n",
    "    \n",
    "    def prev(self) -> bool:\n",
    "        \n",
    "        if self.is_empty() or self.current.prev is self.head: # 리스트가 비었거나, 노드가 하나뿐이면\n",
    "            return False\n",
    "        self.current = self.current.prev\n",
    "        return True\n",
    "    \n",
    "    def add_node_current_after(self, data: Any) -> None:  # current 노드 바로 뒤에 노드를 추가하는 함수 !!!!!!!!!!!!!!!!!!!!!!!!!!!!!\n",
    "        \n",
    "        node = Node(data, self.current, self.current.next) # prev가 current노드, next가 current 다음 노드\n",
    "        self.current.next.prev = node  # self.current.next.prev는 self.current.next 노드의 prev 포인터를 의미\n",
    "                                           # i.e. self.current.next 노드의 prev 포인터는 새로 추가되는 node를 참조\n",
    "        self.current.next = node       # self.current.next는 self.current 노드의 next 포인터를 의미\n",
    "                                           # i.e. self.current 노드의 뒤쪽 포인터는 node를 참조 \n",
    "        self.current = node            # current는 새로 추가되는 노드 node를 참조\n",
    "        self.no += 1        \n",
    "        \n",
    "    def add_first(self, data: Any) -> None:\n",
    "        \n",
    "        self.current = self.head       # current를 더미로 맞추면\n",
    "        self.add_node_current_after(data) # 더미 뒤에 노드 추가 i.e. 머리노드 앞에 노드 추가\n",
    "        \n",
    "    def add_last(self, data: Any) -> None:\n",
    "        \n",
    "        self.current = self.head.prev  # current를 꼬리노드로 맞추면 \n",
    "        self.add_node_current_after(data) # 꼬리 노드 뒤에 노드 추가\n",
    "        \n",
    "    def remove_current_node(self) -> None:\n",
    "        \n",
    "        if not self.is_empty():  # 리스트가 비어 있지 않으면 \n",
    "            self.current.prev.next = self.current.next  # current 이전 노드의 next 포인터가 current 다음 노드를 참조\n",
    "            self.current.next.prev = self.current.prev  # current 다음 노드의 prev 포인터가 current 이전 노드를 참조\n",
    "            self.current = self.current.prev  # self.current는 기존 current 노드의 이전 노드를 참조\n",
    "            self.no -= 1\n",
    "            if self.current is self.head:     # 만약 지우고 난 뒤 남은 노드가 더미노드라면(삭제전 리스트에 노드가 하나뿐이었었다면)\n",
    "                self.current = self.head.next # i.e. 삭제한 노드가 연결리스트의 유일한 노드였다면\n",
    "\n",
    "        #  self.current.prev.next = self.current.next 이 코드는 다음과 같고    head.next = head   head = head.next\n",
    "        #  self.current.next.prev = self.current.prev 이 코드는 다음과 같고    head.prev = head\n",
    "        #  마지막 조건문의 self.current = self.head.next 이 코드는 다음과 같다.   current = head\n",
    "          # current는 head 이므로 current = head 이건 head = head.next 이와 같아져 더미의 next 포인터는 자기자신을 참조하게 된다\n",
    "          # 따라서 맨 마지막 코드 self.current = self.head.next 를 self.current = self.head.prev 이렇게 바꿔도 된다.\n",
    "    \n",
    "    def remove(self, data: Any) -> bool:   # 특정 값을 가진 노드를 찾아 삭제하는 함수\n",
    "        \n",
    "        idx = self.search(data)\n",
    "        if idx == -1:\n",
    "            return False\n",
    "        else:\n",
    "            ptr = self.head.next\n",
    "            for _ in range(idx):\n",
    "                ptr = ptr.next\n",
    "        \n",
    "            self.current = ptr\n",
    "            self.remove_current_node()\n",
    "            return True\n",
    "        \n",
    "    def remove_first(self) -> None:\n",
    "        \n",
    "        self.current = self.head.next  # current는 더미 다음 노드(머리노드)를 참조\n",
    "        self.remove_current_node()\n",
    "        \n",
    "    def remove_last(self) -> None:\n",
    "        \n",
    "        self.current = self.head.prev # current는 더미 이전 노드(꼬리노드)를 참조\n",
    "        self.remove_current_node()\n",
    "        \n",
    "    def clear(self) -> None:\n",
    "        \n",
    "        while not self.is_empty(): # 리스트가 빌 때가지 \n",
    "            self.remove_first()\n",
    "        self.no = 0\n",
    "        \n",
    "    def __iter__(self) -> DoubleLinkedListIterator:      # 오름차순 이터레이터를 반환\n",
    "        \n",
    "        return DoubleLinkedListIterator(self.head)\n",
    "    \n",
    "    def __reversed__(self) -> DoubleLinkedListReverseIterator:  # 내림차순 이터레이터를 반환\n",
    "        # 파이썬에서 __reversed__ 메서드는 \n",
    "        # 객체가 반복 가능(iterable)일 때 \n",
    "        # 그 객체의 역순 반복자(reverse iterator)를 반환하는 매직 메서드\n",
    "        \n",
    "        return DoubleLinkedListReverseIterator(self.head)\n",
    "    \n",
    "\n",
    "class DoubleLinkedListIterator:\n",
    "    \n",
    "    \n",
    "    def __init__(self, head: Node) -> None:\n",
    "        \n",
    "        self.head = head\n",
    "        self.current = head.next\n",
    "        \n",
    "    def __iter__(self) -> DoubleLinkedListIterator:\n",
    "        \n",
    "        return self\n",
    "    \n",
    "    def __next__(self) -> Any:\n",
    "        \n",
    "        if self.current is self.head:  # 한바퀴 다 돌아 더미노드를 만나면\n",
    "            raise StopIteration\n",
    "            \n",
    "        else:\n",
    "            data = self.current.data\n",
    "            self.current = self.current.next\n",
    "            return data\n",
    "        \n",
    "        \n",
    "class DoubleLinkedListReverseIterator:\n",
    "    \n",
    "    \n",
    "    def __init__(self, head: Node) -> None:\n",
    "        \n",
    "        self.head = head\n",
    "        self.current = head.prev\n",
    "        \n",
    "    def __iter__(self) -> DoubleLinkedListReverseIterator:\n",
    "        \n",
    "        return self\n",
    "    \n",
    "    def __next__(self) -> Any:\n",
    "        \n",
    "        if self.current is self.head:\n",
    "            raise StopIteration\n",
    "            \n",
    "        else:\n",
    "            data = self.current.data\n",
    "            self.current = self.current.prev\n",
    "            return data\n",
    "    "
   ]
  },
  {
   "cell_type": "code",
   "execution_count": 22,
   "id": "d59841d7-d927-4d96-8d16-086926a67bc5",
   "metadata": {
    "tags": []
   },
   "outputs": [
    {
     "name": "stdout",
     "output_type": "stream",
     "text": [
      "<__main__.Node object at 0x7fae8e265790>\n",
      "<__main__.Node object at 0x7fae8e265790>\n",
      "<__main__.Node object at 0x7fae8e265790>\n",
      "<__main__.Node object at 0x7fae8e265790>\n"
     ]
    }
   ],
   "source": [
    "DLL = DoubleLinkedList()\n",
    "DLL.add_first(10)\n",
    "DLL.remove_current_node()\n",
    "print(DLL.head)\n",
    "print(DLL.current)\n",
    "print(DLL.head.next)\n",
    "print(DLL.head.prev)"
   ]
  },
  {
   "cell_type": "code",
   "execution_count": 26,
   "id": "e9bdfa09-6a75-4919-b80a-ac766df3713f",
   "metadata": {
    "tags": []
   },
   "outputs": [
    {
     "data": {
      "text/plain": [
       "1"
      ]
     },
     "execution_count": 26,
     "metadata": {},
     "output_type": "execute_result"
    }
   ],
   "source": [
    "DLL = DoubleLinkedList()\n",
    "DLL.add_first(10)\n",
    "DLL.add_first(20)\n",
    "DLL.add_first(30)\n",
    "DLL.add_first(40)\n",
    "DLL.add_first(50)\n",
    "DLL.add_first(60)\n",
    "DLL.add_first(70)\n",
    "DLL.add_first(80)\n",
    "DLL.add_first(90)\n",
    "DLL.search(80)"
   ]
  },
  {
   "cell_type": "code",
   "execution_count": 27,
   "id": "a03df1f4-388b-4a2b-b8a2-5cd2be70a3b3",
   "metadata": {
    "tags": []
   },
   "outputs": [
    {
     "data": {
      "text/plain": [
       "1"
      ]
     },
     "execution_count": 27,
     "metadata": {},
     "output_type": "execute_result"
    }
   ],
   "source": [
    "DLL.remove(80)\n",
    "DLL.search(70)"
   ]
  },
  {
   "cell_type": "code",
   "execution_count": 28,
   "id": "a3e5d4f4-4994-4e2d-a1d3-6e60959c1524",
   "metadata": {
    "tags": []
   },
   "outputs": [
    {
     "name": "stdout",
     "output_type": "stream",
     "text": [
      "90\n",
      "70\n",
      "60\n",
      "50\n",
      "40\n",
      "30\n",
      "20\n",
      "10\n"
     ]
    }
   ],
   "source": [
    "DLL.print()"
   ]
  },
  {
   "cell_type": "code",
   "execution_count": 9,
   "id": "1f2b609b-aedc-4da7-ac21-523d0f0d9556",
   "metadata": {
    "tags": []
   },
   "outputs": [],
   "source": [
    "def search(self, data: Any) -> Any:\n",
    "    front_ptr = self.head.next  # 앞에서 시작하는 포인터\n",
    "    back_ptr = self.head.prev  # 뒤에서 시작하는 포인터\n",
    "    front_idx = 0\n",
    "    back_idx = self.no - 1  # 뒤에서 시작하는 인덱스\n",
    "\n",
    "    while front_ptr is not back_ptr and front_ptr.prev is not back_ptr:\n",
    "        if front_ptr.data == data:\n",
    "            self.current = front_ptr\n",
    "            return front_idx\n",
    "        if back_ptr.data == data:\n",
    "            self.current = back_ptr\n",
    "            return back_idx\n",
    "\n",
    "        front_ptr = front_ptr.next\n",
    "        back_ptr = back_ptr.prev\n",
    "        front_idx += 1\n",
    "        back_idx -= 1\n",
    "\n",
    "    return -1"
   ]
  },
  {
   "cell_type": "markdown",
   "id": "f63355b4-6be0-44ab-bf6c-dfa8bf5b09ba",
   "metadata": {
    "tags": []
   },
   "source": [
    "# 문19) 파이썬에서는 = 기호를 사용해 variable에 무엇을 assign 하나? 그것이 의미하는 것이 무엇인가?\n",
    "value, object 또는 value나 object를 만들어내는 expression을 assign 한다.  \n",
    "이것이 의미하는 것은 해당 value, 객체에 대한 참조를 변수에 할당하는 것이다.  값을 변수에 복사하는 게 아님  \n",
    "다시 말하면 변수는 해당 객체의 식별번호, 메모리 주소를 가리킨다.  \n",
    "\n",
    "파이썬에서 변수는 할당될때 처음 만들어진다.  \n",
    "무언가가 할당되고 나서야만, 변수는 다른것에 의해 참조될 수 있다.  \n",
    "   \n",
    "어떤 변수가 이미 할당되어 있는데, 그 변수에 새로운 value/object를 할당한다면    \n",
    "기존에 참조되었던 객체가 그 변수뿐만 아니라 그 어떤것에도 참조되지 않을 때, 가비지컬렉터에 의해 수거된다.    "
   ]
  },
  {
   "cell_type": "markdown",
   "id": "1de455f8-6034-4d6c-bec9-e7ab511ed870",
   "metadata": {},
   "source": []
  },
  {
   "cell_type": "markdown",
   "id": "003b2b43-7552-48d4-b510-78636af19573",
   "metadata": {},
   "source": [
    "# 파이썬의 대입 assignment\n",
    "\n",
    "파이썬에서 = 는 연산자가 아니다  \n",
    "\n",
    "    = 는 우변의 값 자체가 아니라, 참조하는 객체(object)의 식별번호를 좌변(target)에 대입한다 (자료구조 책 57p)\n",
    "    = 를 이용해 할당을 하면 값을 할당하는 게 아니라 객체에 대한 참조를 할당한다 (파알 책 211p)\n",
    "    = 은 expression 식 이 아니라 statement 문 이다"
   ]
  },
  {
   "cell_type": "markdown",
   "id": "551de478",
   "metadata": {},
   "source": [
    "We use Python assignment statements to assign objects to names.\n",
    "\n",
    "    파이썬에 assignment statements을 사용한다는 건, 객체에 이름을 할당하는 것이다.\n",
    "    \n",
    "The target of an assignment statement is written on the left side of the equal sign (=),   \n",
    "and the object on the right can be an arbitrary expression that computes an object.  \n",
    "    \n",
    "    assignment statements에서 \n",
    "    = 기호 왼쪽에는 target을 쓰고\n",
    "    오른쪽에는 object가 오는데, 이 객체는 value나 object를 만들어내는 임의의 expression일수도 있다.\n",
    "\n",
    "There are some important properties of assignment in Python :\n",
    "\n",
    "1. Assignment creates object references instead of copying the objects.  \n",
    "\n",
    "        assignment는 객체의 복사가 아니라 객체의 참조를 만든다.\n",
    "        \n",
    "2. Python creates a variable name the first time when they are assigned a value.  \n",
    "\n",
    "        파이썬은 변수에 value를 assign할 때 해당 변수 이름을 처음 만든다.\n",
    "        \n",
    "3. Names must be assigned before being referenced.  \n",
    "\n",
    "        변수 이름은 다른 무언가에 의해 참조되기 전에, 반드시 먼저 assign되어 있어야만 한다."
   ]
  },
  {
   "cell_type": "code",
   "execution_count": 2,
   "id": "1a9c03d3-e147-4e28-9c79-cc4791ac3371",
   "metadata": {
    "tags": []
   },
   "outputs": [
    {
     "ename": "SyntaxError",
     "evalue": "invalid syntax (1303908372.py, line 1)",
     "output_type": "error",
     "traceback": [
      "\u001b[0;36m  Cell \u001b[0;32mIn[2], line 1\u001b[0;36m\u001b[0m\n\u001b[0;31m    https://realpython.com/python-assignment-operator/#assignments-and-variables\u001b[0m\n\u001b[0m          ^\u001b[0m\n\u001b[0;31mSyntaxError\u001b[0m\u001b[0;31m:\u001b[0m invalid syntax\n"
     ]
    }
   ],
   "source": [
    "https://realpython.com/python-assignment-operator/#assignments-and-variables\n",
    "\n",
    "# Base assignments\n",
    "variable = value  # A literal, such as None, 0, 3.14, \"Hello\", {}\n",
    "variable = expression  # Math, Boolean, bitwise expression, function calls...\n",
    "\n",
    "# Multiple assignments(chain assignment)\n",
    "variable_1 = variable_2 = ... = variable_n = expression\n",
    "\n",
    "# Parallel assignments(multiple assignment)\n",
    "variable_1, variable_2, ..., variable_n = value_1, value_2, ..., value_n\n",
    "variable_1, variable_2, ..., variable_n = exp_1, exp_2, ..., exp_n\n",
    "\n",
    "# Augmented assignments\n",
    "existing_variable += value\n",
    "existing_variable += expression\n",
    "\n",
    "# Parallel assignments with iterable unpacking\n",
    "variable_1, variable_2, ..., variable_n  = n_length_iterable\n",
    "(variable_1, variable_2, ..., variable_n) = n_length_iterable\n",
    "[variable_1, variable_2, ..., variable_n] = n_length_iterable\n",
    "variable, *bag_variable, ..., variable_n = unknown_length_iterable"
   ]
  },
  {
   "cell_type": "markdown",
   "id": "51462e2d-da57-4bb4-b1d8-66f096245f56",
   "metadata": {},
   "source": [
    "#### variable = expression\n",
    "https://realpython.com/python-assignment-operator/#the-assignment-statement-syntax\n",
    "\n",
    "    Here, variable represents a generic Python variable, \n",
    "    while expression represents any Python object that you can provide \n",
    "    as a concrete value—also known as a \"literal\"\n",
    "    or an expression that evaluates to a value.\n",
    "\n",
    "    To execute an assignment statement like the above, \n",
    "    Python runs the following steps:\n",
    "\n",
    "    1. Evaluate the right-hand expression to produce a concrete value or object. \n",
    "        This value will live at a specific memory address in your computer.\n",
    "\n",
    "    2. Store the object’s memory address in the left-hand variable. \n",
    "        This step creates a new variable if the current one doesn’t already exist \n",
    "        or this step updates the value of an existing variable.\n",
    "\n",
    "The second step shows that variables work differently  \n",
    "in Python than in other programming languages. \n",
    "  \n",
    "    In Python, variables aren’t containers for objects. \n",
    "    Python variables point to a value or object through its memory address. \n",
    "    They store memory addresses rather than objects."
   ]
  },
  {
   "cell_type": "markdown",
   "id": "6d4fcf83-0e4f-468d-b384-1263617f0265",
   "metadata": {},
   "source": [
    "When you use a variable name \n",
    "https://realpython.com/python-assignment-operator/#assignments-and-variables\n",
    "\n",
    "    as the left operand in an assignment statement for the first time, \n",
    "    you’re creating a new variable. \n",
    "    At the same time, \n",
    "    you’re initializing the variable to point to the value of the right operand.\n",
    "\n",
    "On the other hand, \n",
    "\n",
    "    when you use an existing variable in a new assignment, \n",
    "    you’re updating or mutating the variable’s value. \n",
    "\n",
    "#### Strictly speaking, every new assignment \n",
    "\n",
    "    will make the variable refer to a new value \n",
    "    and stop referring to the old one. \n",
    "\n",
    "    Python will garbage-collect all the values \n",
    "    that are no longer referenced by any existing variable."
   ]
  },
  {
   "cell_type": "markdown",
   "id": "609fed0f-8483-4418-aaa9-f8a705d7aa78",
   "metadata": {},
   "source": [
    "# 문20) 파이썬에서 연속할당(chain assignment)은 어떤 순서로 일어나나?"
   ]
  },
  {
   "cell_type": "markdown",
   "id": "1c779e2c-a67d-4761-a554-6029338821b9",
   "metadata": {},
   "source": [
    "The leftmost target is assigned first.   \n",
    "(A similar expression in C may assign in the opposite order.)  \n",
    "\n",
    "https://stackoverflow.com/questions/7601823/how-do-chained-assignments-work"
   ]
  },
  {
   "cell_type": "code",
   "execution_count": 10,
   "id": "a0ded9de-b995-4982-8458-352ab3505b27",
   "metadata": {
    "tags": []
   },
   "outputs": [
    {
     "ename": "SyntaxError",
     "evalue": "invalid syntax (3609255807.py, line 4)",
     "output_type": "error",
     "traceback": [
      "\u001b[0;36m  Cell \u001b[0;32mIn[10], line 4\u001b[0;36m\u001b[0m\n\u001b[0;31m    이 코드를\u001b[0m\n\u001b[0m      ^\u001b[0m\n\u001b[0;31mSyntaxError\u001b[0m\u001b[0;31m:\u001b[0m invalid syntax\n"
     ]
    }
   ],
   "source": [
    "def add_node_current_after(self, data: Any) -> None:  # current 노드 바로 뒤에 노드를 추가하는 함수 !!!!!!!!!!!!!!!!!!!!!!!!!!!!!\n",
    "\n",
    "    node = Node(data, self.current, self.current.next) # prev가 current노드, next가 current 다음 노드\n",
    "    self.current.next.prev = node  # self.current.next.prev는 self.current.next 노드의 prev 포인터를 의미\n",
    "                                       # i.e. self.current.next 노드의 prev 포인터는 새로 추가되는 node를 참조\n",
    "    self.current.next = node       # self.current.next는 self.current 노드의 next 포인터를 의미\n",
    "                                       # i.e. self.current 노드의 뒤쪽 포인터는 node를 참조 \n",
    "    self.current = node            # current는 새로 추가되는 노드 node를 참조\n",
    "    self.no += 1        \n",
    "    \n",
    "위에서 \n",
    "self.current.next.prev = node              \n",
    "self.current.next = node    코드를\n",
    "\n",
    "self.current.next = self.current.next.prev = node 로 고치면\n",
    "C나 Java에선 문제가 없지만\n",
    "파이썬에선 문제가 된다.\n",
    "        \n",
    "        Java, C에서 self.current.next = self.current.next.prev = node  이 코드는\n",
    "       \n",
    "        self.current.next.prev = node              \n",
    "        self.current.next = node  \n",
    "        \n",
    "        이렇게 기능한다 \n",
    "        바꿔 말해 = 를 결합 연산자로 사용해서 self.current.next = self.current.next.prev = node  코드는\n",
    "        self.current.next = (self.current.next.prev = node) \n",
    "        self.current.next = node 처럼 작동한다.\n",
    "        \n",
    "        그런데 파이썬에서 self.current.next = self.current.next.prev = node  이 코드는\n",
    "        \n",
    "        위와 반대 순서로 실행된다 \n",
    "        \n",
    "        self.current.next = node     \n",
    "        self.current.next.prev = node  \n",
    "                                     \n",
    "            다시 말해 \n",
    "            self.current.next = node 에 의해 \n",
    "            self.current.next.prev = node 는 \n",
    "            node.prev = node 가 된다. \n",
    "            \n",
    "            즉 파이썬에서  = 는 왼쪽에서 오른쪽으로 순차적으로 실행\n",
    "            \n",
    "            b = c = a = 3\n",
    "            \n",
    "            이런 코드가 있다면\n",
    "            실행 순서는\n",
    "            \n",
    "            temp = 3\n",
    "            b = temp\n",
    "            c = temp\n",
    "            a = temp\n",
    "            가 된다\n",
    "            \n",
    "            또는 right operand가 expression이면\n",
    "\n",
    "            x = y = some_function()\n",
    "\n",
    "                is equivalent to\n",
    "\n",
    "                temp = some_function()\n",
    "                x = temp\n",
    "                y = temp"
   ]
  },
  {
   "cell_type": "code",
   "execution_count": 28,
   "id": "009ad3d0-4e6b-4ef5-9c6d-943a683e69a0",
   "metadata": {
    "tags": []
   },
   "outputs": [
    {
     "name": "stdout",
     "output_type": "stream",
     "text": [
      "  1           0 RESUME                   0\n",
      "\n",
      "  2           2 LOAD_CONST               1 (3)\n",
      "              4 COPY                     1\n",
      "              6 STORE_FAST               0 (x)\n",
      "              8 COPY                     1\n",
      "             10 STORE_FAST               1 (y)\n",
      "             12 STORE_FAST               2 (z)\n",
      "\n",
      "  3          14 LOAD_FAST                2 (z)\n",
      "             16 RETURN_VALUE\n"
     ]
    }
   ],
   "source": [
    "def chain_assignment():\n",
    "    x = y = z = 3\n",
    "    return z\n",
    "\n",
    "import dis\n",
    "\n",
    "dis.dis(chain_assignment)"
   ]
  },
  {
   "cell_type": "code",
   "execution_count": 30,
   "id": "815d3e2c-66f3-4ccf-b1ee-a8f0de4e6e70",
   "metadata": {
    "tags": []
   },
   "outputs": [
    {
     "name": "stdout",
     "output_type": "stream",
     "text": [
      "  1           0 RESUME                   0\n",
      "\n",
      "  2           2 LOAD_CONST               1 (3)\n",
      "              4 COPY                     1\n",
      "              6 STORE_FAST               0 (x)\n",
      "              8 COPY                     1\n",
      "             10 STORE_FAST               1 (y)\n",
      "             12 STORE_FAST               2 (z)\n",
      "\n",
      "  3          14 LOAD_FAST                2 (z)\n",
      "             16 RETURN_VALUE\n",
      "\n"
     ]
    }
   ],
   "source": [
    "import io\n",
    "import contextlib\n",
    "\n",
    "# Capture the disassembly output\n",
    "disassembly_output = io.StringIO()\n",
    "with contextlib.redirect_stdout(disassembly_output):\n",
    "    dis.dis(chain_assignment)\n",
    "\n",
    "# Get the formatted disassembly output\n",
    "formatted_disassembly = disassembly_output.getvalue()\n",
    "print(formatted_disassembly)"
   ]
  },
  {
   "cell_type": "markdown",
   "id": "c9d75756-b3ae-4858-be29-b8432adc2c24",
   "metadata": {},
   "source": [
    "chatGPT의 출력결과\n",
    "\n",
    "     4           0 LOAD_CONST               1 (3)\n",
    "                  2 DUP_TOP\n",
    "                  4 STORE_FAST               0 (x)\n",
    "                  6 DUP_TOP\n",
    "                  8 STORE_FAST               1 (y)\n",
    "                 10 STORE_FAST               2 (z)\n",
    "\n",
    "      5          12 LOAD_FAST                2 (z)\n",
    "                 14 RETURN_VALUE\n",
    "                 \n",
    "이제 이 결과를 한 줄씩 분석해보겠습니다:\n",
    "\n",
    "    LOAD_CONST 1 (3): \n",
    "        이 명령은 상수 3을 스택에 로드합니다. \n",
    "        Python에서는 모든 것이 객체이며, \n",
    "        이 경우에는 정수 3이 메모리에 상수로 저장되고 그 참조가 스택에 푸시됩니다.\n",
    "\n",
    "    DUP_TOP: \n",
    "        스택의 최상단에 있는 요소 (여기서는 3)를 복제합니다. \n",
    "        이는 연이은 변수 할당을 위해 필요합니다.\n",
    "\n",
    "    STORE_FAST 0 (x): \n",
    "        스택의 최상단 요소 (복제된 3)를 로컬 변수 x에 저장하고 스택에서 제거합니다.\n",
    "\n",
    "    DUP_TOP: \n",
    "        다시 한번 3을 스택의 최상단에 복제합니다.\n",
    "\n",
    "    STORE_FAST 1 (y): \n",
    "        복제된 또 다른 3을 로컬 변수 y에 저장하고 스택에서 제거합니다.\n",
    "\n",
    "    STORE_FAST 2 (z): \n",
    "        이제 스택의 최상단에 남은 3을 로컬 변수 z에 저장하고 스택에서 제거합니다.\n",
    "\n",
    "    LOAD_FAST 2 (z): \n",
    "        함수의 반환 값을 로드하기 위해 z 값을 스택에 푸시합니다.\n",
    "\n",
    "    RETURN_VALUE: \n",
    "        함수의 반환 값으로 스택의 최상단 요소를 반환합니다. \n",
    "        여기서는 z의 값인 3이 반환됩니다."
   ]
  },
  {
   "cell_type": "markdown",
   "id": "b8f3480c-1888-43d0-be5f-9b3acab36295",
   "metadata": {
    "tags": []
   },
   "source": [
    "# 문21) 뮤터블을 연속할당 하는 것은 좋은가 나쁜가?\n",
    "똑같은 mutable을 서로 다른 변수에 할당하는 건 좋지 않다  "
   ]
  },
  {
   "cell_type": "code",
   "execution_count": 19,
   "id": "7b430a43-b89c-4356-bfe6-9b78acac624d",
   "metadata": {
    "tags": []
   },
   "outputs": [],
   "source": [
    "x = y = []   # Wrong. 왜냐면 x(y)의 변화가 y(x)에 영향을 주므로\n",
    "\n",
    "x = []   # Right. 이렇게 따로따로 하는게 좋다\n",
    "y = []"
   ]
  },
  {
   "cell_type": "code",
   "execution_count": 20,
   "id": "f15027b3-e403-4fb5-bc3f-6ffce7a7757f",
   "metadata": {
    "tags": []
   },
   "outputs": [
    {
     "data": {
      "text/plain": [
       "[4]"
      ]
     },
     "execution_count": 20,
     "metadata": {},
     "output_type": "execute_result"
    }
   ],
   "source": [
    "def some_func():\n",
    "    return []\n",
    "\n",
    "x = y = some_func()\n",
    "x.append(4)\n",
    "y"
   ]
  },
  {
   "cell_type": "code",
   "execution_count": 21,
   "id": "25c8cf1f-511e-4c3c-8c5f-f64d4034c15d",
   "metadata": {
    "tags": []
   },
   "outputs": [
    {
     "data": {
      "text/plain": [
       "[]"
      ]
     },
     "execution_count": 21,
     "metadata": {},
     "output_type": "execute_result"
    }
   ],
   "source": [
    "x = some_func()\n",
    "y = some_func()\n",
    "x.append(4)\n",
    "y"
   ]
  },
  {
   "cell_type": "markdown",
   "id": "6765bdcf-291f-4445-b73a-4be05217d3b9",
   "metadata": {},
   "source": [
    "# 문22) 파이썬에서 다중할당(multiple assignment)은 어떤 순서로 일어나나?"
   ]
  },
  {
   "cell_type": "markdown",
   "id": "1daffd71-bc3d-4bec-904d-69a7dec78ced",
   "metadata": {},
   "source": [
    "https://docs.python.org/3/reference/simple_stmts.html#grammar-token-python-grammar-target_list"
   ]
  },
  {
   "cell_type": "markdown",
   "id": "3bee0103-6147-4551-bc79-ec5e270b712b",
   "metadata": {},
   "source": [
    "An assignment statement evaluates the expression list   \n",
    "(remember that this can be a single expression or a comma-separated list, the latter yielding a tuple)   \n",
    "and assigns the single resulting object to each of the target lists, from left to right.  \n",
    "\n",
    "    assignment statement는 ( = 우변의) expression list를 평가하고 \n",
    "        이때 expression은 하나일 수도 있고 쉼표로 구분된 리스트일 수도 있는데, 후자인 경우는 튜플을 생성한다.\n",
    "\n",
    "    단일 결과 개체를 ( = 좌변의) target list에 왼쪽에서 오른쪽 방향으로 각각 동시에 할당합니다.\n",
    "    \n",
    "    If the target list contains one target prefixed with an asterisk, \n",
    "    called a “starred” target: \n",
    "    The object must be an iterable \n",
    "    with at least as many items as there are targets in the target list, minus one. \n",
    "    The first items of the iterable are assigned, from left to right, \n",
    "    to the targets before the starred target. \n",
    "    The final items of the iterable are assigned to the targets after the starred target. \n",
    "    A list of the remaining items in the iterable \n",
    "    is then assigned to the starred target (the list can be empty).\n",
    "\n",
    "    If there is no starred target in the target list, The object must be an iterable \n",
    "    with the same number of items as there are targets in the target list, \n",
    "    and the items are assigned, from left to right, to the corresponding targets.\n",
    "\n",
    "\n"
   ]
  },
  {
   "cell_type": "code",
   "execution_count": 9,
   "id": "c15cedad-00b4-4144-8df2-c4c0a06bb22d",
   "metadata": {
    "tags": []
   },
   "outputs": [],
   "source": [
    "c = [1, 2, 3, 4]\n",
    "a, *b = c"
   ]
  },
  {
   "cell_type": "code",
   "execution_count": 10,
   "id": "326d71c6-e50c-4cd7-9eb9-ce319adeaf44",
   "metadata": {
    "tags": []
   },
   "outputs": [
    {
     "data": {
      "text/plain": [
       "(1, [2, 3, 4])"
      ]
     },
     "execution_count": 10,
     "metadata": {},
     "output_type": "execute_result"
    }
   ],
   "source": [
    "a, b"
   ]
  },
  {
   "cell_type": "code",
   "execution_count": 11,
   "id": "9e58b562-e56a-4b22-8078-952f972d56cf",
   "metadata": {
    "tags": []
   },
   "outputs": [],
   "source": [
    "c = [1, 2, 3, 4]\n",
    "(a, *b) = c"
   ]
  },
  {
   "cell_type": "code",
   "execution_count": 15,
   "id": "17405c4c-79d0-473c-8bf2-7c36d243bcd5",
   "metadata": {
    "tags": []
   },
   "outputs": [],
   "source": [
    "c = [1, 2, 3, 4]\n",
    "a, *b, d = c"
   ]
  },
  {
   "cell_type": "code",
   "execution_count": 17,
   "id": "e5acf3d4-93e7-4043-b706-5b2c2c5a4e01",
   "metadata": {
    "tags": []
   },
   "outputs": [
    {
     "data": {
      "text/plain": [
       "(1, [2, 3], 4)"
      ]
     },
     "execution_count": 17,
     "metadata": {},
     "output_type": "execute_result"
    }
   ],
   "source": [
    "a, b, d"
   ]
  },
  {
   "cell_type": "markdown",
   "id": "5983e75b-b718-449d-b10f-cf4805e4b212",
   "metadata": {},
   "source": [
    "https://stackoverflow.com/questions/12673074/how-should-i-understand-the-output-of-dis-dis"
   ]
  },
  {
   "cell_type": "code",
   "execution_count": 18,
   "id": "ee94872f-8982-49c9-9738-7a23c7212f5f",
   "metadata": {
    "tags": []
   },
   "outputs": [],
   "source": [
    "x = 6\n",
    "y = 2\n",
    "\n",
    "x, y = y+2, x+3"
   ]
  },
  {
   "cell_type": "code",
   "execution_count": 19,
   "id": "762d807f-e4d9-4e57-83e0-8b20fbd10fd3",
   "metadata": {
    "tags": []
   },
   "outputs": [
    {
     "data": {
      "text/plain": [
       "(4, 9)"
      ]
     },
     "execution_count": 19,
     "metadata": {},
     "output_type": "execute_result"
    }
   ],
   "source": [
    "x, y"
   ]
  },
  {
   "cell_type": "markdown",
   "id": "f42b7495-51e4-47c2-b5c3-e05626e24f5e",
   "metadata": {},
   "source": [
    "y에 2가 대입되어 x는 4가 되고\n",
    "\n",
    "    이 4가 x+3 의 x에 대입되는 게 아니라\n",
    "\n",
    "    그 이전 x = 6 에서의 6이 x+3 의 x에 대입되어\n",
    "\n",
    "    y는 9가 된다"
   ]
  },
  {
   "cell_type": "code",
   "execution_count": 25,
   "id": "054f9c87-cb7d-40e6-98a5-395ed59729aa",
   "metadata": {
    "tags": []
   },
   "outputs": [
    {
     "name": "stdout",
     "output_type": "stream",
     "text": [
      "a, b, c, d = 2, 4, 1, 4\n"
     ]
    }
   ],
   "source": [
    "a, b, c, d = 1, 2, 3, 4\n",
    "\n",
    "a, c, b = b, a, d\n",
    "\n",
    "print(f'a, b, c, d = {a}, {b}, {c}, {d}')"
   ]
  },
  {
   "cell_type": "code",
   "execution_count": 27,
   "id": "781f249d-3ad7-4015-afcb-e15a57417df8",
   "metadata": {
    "tags": []
   },
   "outputs": [
    {
     "name": "stdout",
     "output_type": "stream",
     "text": [
      "a, b, c, d = 2, 4, 1, 4\n"
     ]
    }
   ],
   "source": [
    "a, b, c, d = 1, 2, 3, 4\n",
    "# a = 1\n",
    "# b = 2\n",
    "# c = 3\n",
    "# d = 4\n",
    "a, c = b, a\n",
    "# a = 2\n",
    "# b = 2\n",
    "# c = 1\n",
    "# d = 4\n",
    "b = d\n",
    "# a = 2\n",
    "# b = 4\n",
    "# c = 1\n",
    "# d = 4\n",
    "print(f'a, b, c, d = {a}, {b}, {c}, {d}')"
   ]
  },
  {
   "cell_type": "code",
   "execution_count": 26,
   "id": "d0329b6e-02f3-4667-9285-45338a78ced7",
   "metadata": {
    "tags": []
   },
   "outputs": [
    {
     "name": "stdout",
     "output_type": "stream",
     "text": [
      "a, b, c, d = 2, 4, 2, 4\n"
     ]
    }
   ],
   "source": [
    "a, b, c, d = 1, 2, 3, 4\n",
    "# a = 1\n",
    "# b = 2\n",
    "# c = 3\n",
    "# d = 4\n",
    "a = b\n",
    "# a = 2\n",
    "# b = 2\n",
    "# c = 3\n",
    "# d = 4\n",
    "c = a\n",
    "# a = 2\n",
    "# b = 2\n",
    "# c = 2\n",
    "# d = 4\n",
    "b = d\n",
    "# a = 2\n",
    "# b = 4\n",
    "# c = 2\n",
    "# d = 4\n",
    "print(f'a, b, c, d = {a}, {b}, {c}, {d}')"
   ]
  },
  {
   "cell_type": "markdown",
   "id": "2363bb49-dfa5-43e6-9291-5a82c990cf6c",
   "metadata": {},
   "source": [
    "# 문23) 다중할당은 동시에 일어나는 것처럼 보이지만 실제로는 그렇지 않다. \n",
    "### = 오른쪽의 식들이 모두 평가된 후, = 왼쪽의 변수들에 왼쪽에서 오른쪽으로 순서대로 상응하는 값들이 assign 되는데\n",
    "### = 오른쪽에서 평가가 끝난 값들은 = 왼쪽에 의해 영향을 받지 않지만\n",
    "### = 왼쪽의 변수들은 왼쪽에서 일어나는 일의 순서대로 영향을 받는다"
   ]
  },
  {
   "cell_type": "markdown",
   "id": "6e0ab713-8745-48f6-a0a9-fe66abdad22e",
   "metadata": {},
   "source": [
    "    Although the definition of assignment implies that \n",
    "    overlaps between the left-hand side and the right-hand side are ‘simultaneous’, \n",
    "    overlaps within the collection of assigned to variables occur left-to-right, not simultaneous\n",
    "    For instance, the following program prints [0, 2]:\n",
    "    \n",
    "https://docs.python.org/3.8/reference/simple_stmts.html#grammar-token-assignment-stmt"
   ]
  },
  {
   "cell_type": "code",
   "execution_count": 28,
   "id": "8a47a70c-6fe4-4a67-a549-bc180b057d85",
   "metadata": {
    "tags": []
   },
   "outputs": [
    {
     "name": "stdout",
     "output_type": "stream",
     "text": [
      "[0, 2]\n"
     ]
    }
   ],
   "source": [
    "x = [0, 1]\n",
    "i = 0\n",
    "i, x[i] = 1, 2         # i is updated, then x[i] is updated\n",
    "print(x)"
   ]
  },
  {
   "cell_type": "code",
   "execution_count": null,
   "id": "bf9e3d12-6cdc-4be3-b458-008e107eed48",
   "metadata": {},
   "outputs": [],
   "source": [
    "class ListNode:\n",
    "    def __init__(self, val=0, next=None):\n",
    "        self.val = val\n",
    "        self.next = next\n",
    "\n",
    "head = ListNode(0)\n",
    "head.next = ListNode(4)\n",
    "head.next.next = ListNode(3)\n",
    "head.next.next.next = ListNode(5)\n",
    "head.next.next.next.next = ListNode(7)\n",
    "\n",
    "fast = slow = head\n",
    "prev = None  \n",
    "\n",
    "while fast and fast.next:\n",
    "    fast = fast.next.next\n",
    "    prev, prev.next, slow = slow, prev, slow.next\n",
    "    '''위 코드는 파이썬의 assign 규칙 (The leftmost target is assigned first.)에 따라\n",
    "    = 오른쪽의 slow, prev, slow.next 값이 모두 평가 되고 난 다음\n",
    "    prev = slow, \n",
    "    prev.next = prev, \n",
    "    slow = slow.next \n",
    "    순서대로 assignment가 차례대로 일어난다.\n",
    "    이때 두번째 코드에서 = 왼쪽의 prev.next 는 \n",
    "    그 앞 코드인 prev = slow에 의해\n",
    "    slow.next 가 되어 slow.next = prev가 된다.\n",
    "    그러나 두번째 코드에서 = 오른쪽의 prev는 \n",
    "    그 앞 코드인 prev = slow에 영향을 받지 않고\n",
    "    최초 = slow, prev, slow.next 평가시 prev 값으로 참조대상이 된다. \n",
    "    '''\n",
    "if fast:\n",
    "    slow = slow.next\n",
    "    \n",
    "while slow:\n",
    "    print(slow.val)\n",
    "    slow = slow.next\n",
    "    \n",
    "while prev:\n",
    "    print(prev.val)\n",
    "    prev = prev.next"
   ]
  }
 ],
 "metadata": {
  "kernelspec": {
   "display_name": "tf",
   "language": "python",
   "name": "tf"
  },
  "language_info": {
   "codemirror_mode": {
    "name": "ipython",
    "version": 3
   },
   "file_extension": ".py",
   "mimetype": "text/x-python",
   "name": "python",
   "nbconvert_exporter": "python",
   "pygments_lexer": "ipython3",
   "version": "3.11.0"
  }
 },
 "nbformat": 4,
 "nbformat_minor": 5
}
