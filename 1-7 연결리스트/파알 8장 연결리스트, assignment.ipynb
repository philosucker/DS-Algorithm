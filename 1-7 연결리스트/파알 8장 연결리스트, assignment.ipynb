{
 "cells": [
  {
   "cell_type": "markdown",
   "id": "676a34b5-6133-46df-9923-7089f40dfe3d",
   "metadata": {},
   "source": [
    "### e: 13, 14, 15, 19\n",
    "### m: 16, 17, 18"
   ]
  },
  {
   "cell_type": "code",
   "execution_count": null,
   "id": "b15771b0-c7de-47e5-980b-0f8b96b4466a",
   "metadata": {
    "tags": []
   },
   "outputs": [
    {
     "data": {
      "text/plain": [
       "9223372036854775807"
      ]
     },
     "execution_count": 1,
     "metadata": {},
     "output_type": "execute_result"
    }
   ],
   "source": [
    "import sys\n",
    "\n",
    "sys.maxsize"
   ]
  },
  {
   "cell_type": "code",
   "execution_count": 2,
   "id": "cce263e4-a45c-45a5-91c6-2e63a9acce13",
   "metadata": {
    "tags": []
   },
   "outputs": [
    {
     "data": {
      "text/plain": [
       "inf"
      ]
     },
     "execution_count": 2,
     "metadata": {},
     "output_type": "execute_result"
    }
   ],
   "source": [
    "float('inf')"
   ]
  },
  {
   "cell_type": "code",
   "execution_count": 3,
   "id": "c866650e-93a6-45a3-81d2-fa338cb9b5f5",
   "metadata": {
    "tags": []
   },
   "outputs": [
    {
     "data": {
      "text/plain": [
       "-9223372036854775807"
      ]
     },
     "execution_count": 3,
     "metadata": {},
     "output_type": "execute_result"
    }
   ],
   "source": [
    "-sys.maxsize"
   ]
  },
  {
   "cell_type": "code",
   "execution_count": 4,
   "id": "9e0d4bb7-5767-469c-9031-936b7d8e5157",
   "metadata": {
    "tags": []
   },
   "outputs": [
    {
     "data": {
      "text/plain": [
       "-inf"
      ]
     },
     "execution_count": 4,
     "metadata": {},
     "output_type": "execute_result"
    }
   ],
   "source": [
    "float('-inf')"
   ]
  },
  {
   "cell_type": "markdown",
   "id": "f27b82a1-c1a0-41cd-801a-56a9c6288f09",
   "metadata": {},
   "source": [
    "# 문13 팰린드롬 연결리스트 e\n",
    "https://leetcode.com/problems/palindrome-linked-list/"
   ]
  },
  {
   "cell_type": "markdown",
   "id": "1ec2bb08-3008-4f13-95c8-58461089fc75",
   "metadata": {},
   "source": [
    "Given the head of a singly linked list, return true if it is a palindrome or false otherwise.\n",
    "\n",
    "\n",
    "input : head = [1,2,2,1]"
   ]
  },
  {
   "cell_type": "code",
   "execution_count": null,
   "id": "1c84c6cf-8092-4876-988d-308e178f44c8",
   "metadata": {},
   "outputs": [],
   "source": [
    "# Definition for singly-linked list.\n",
    "# class ListNode:\n",
    "#     def __init__(self, val=0, next=None):\n",
    "#         self.val = val\n",
    "#         self.next = next"
   ]
  },
  {
   "cell_type": "markdown",
   "id": "d1efe411-d36c-441f-8869-a0f539f301a9",
   "metadata": {},
   "source": [
    "### 내풀이"
   ]
  },
  {
   "cell_type": "code",
   "execution_count": null,
   "id": "ee6cd0a9-b808-4ab2-abca-b067ea571879",
   "metadata": {},
   "outputs": [],
   "source": [
    "def isPalindrome(lst\n",
    "    p = head\n",
    "    lst = []\n",
    "    while p:\n",
    "        lst.append(p.val)\n",
    "        p = p.next\n",
    "    left = 0\n",
    "    right = len(lst) - 1\n",
    "\n",
    "    flag = True\n",
    "    while True:\n",
    "        if left <= right:\n",
    "            if [left] == lst[right]:\n",
    "                left +=1\n",
    "                right -=1\n",
    "            else:\n",
    "                flag = False\n",
    "                break\n",
    "        else:\n",
    "            flag = True\n",
    "            break\n",
    "    return flag"
   ]
  },
  {
   "cell_type": "code",
   "execution_count": null,
   "id": "9aece455-cc68-4715-baa6-41264c575964",
   "metadata": {},
   "outputs": [],
   "source": [
    "공간 복잡도: O(n). 연결 리스트의 모든 값을 리스트에 복사하기 때문입니다.\n",
    "시간 복잡도: O(n). 연결 리스트를 한 번 순회하여 리스트에 값을 복사하고, 다시 리스트의 양 끝에서 중앙으로 이동하며 값을 비교합니다.\n",
    "효율성: 리스트에 값을 복사하는 과정은 필수적이며, 이후의 투 포인터 비교는 매우 효율적입니다. "
   ]
  },
  {
   "cell_type": "markdown",
   "id": "9a9acd75-6eec-48b7-91f0-440c642a2fb8",
   "metadata": {},
   "source": [
    "### chatGPT 최적화"
   ]
  },
  {
   "cell_type": "code",
   "execution_count": null,
   "id": "45dbbd35-255c-4b25-8ecf-fe1d21c4d7ce",
   "metadata": {},
   "outputs": [],
   "source": [
    "class Solution:\n",
    "    def isPalindrome(self, head: Optional[ListNode]) -> bool:\n",
    "        lst = []\n",
    "        \n",
    "        # 연결 리스트를 순회하면서 모든 값을 리스트에 복사합니다.\n",
    "        while head:\n",
    "            lst.append(head.val)\n",
    "            head = head.next\n",
    "        \n",
    "        # 리스트를 뒤집어서 원본 리스트와 같은지 비교합니다.\n",
    "        ''' 이 방법은 리스트의 전체 복사본을 만들기 때문에, 원본 리스트의 크기에 비례하는 추가 메모리를 사용합니다.\n",
    "        공간 복잡도는 여전히 O(n)입니다.\n",
    "        '''\n",
    "        return lst == lst[::-1]"
   ]
  },
  {
   "cell_type": "code",
   "execution_count": null,
   "id": "1ad29b4a-e718-4ce6-b4f9-3aa41dcb8993",
   "metadata": {},
   "outputs": [],
   "source": [
    "class Solution:\n",
    "    def isPalindrome(self, head: Optional[ListNode]) -> bool:\n",
    "        lst = []\n",
    "        \n",
    "        # 연결 리스트를 순회하면서 모든 값을 리스트에 복사합니다.\n",
    "        while head:\n",
    "            lst.append(head.val)\n",
    "            head = head.next\n",
    "        \n",
    "        # 투 포인터를 사용하여 리스트의 양 끝에서 중앙으로 이동하면서 값을 비교합니다.\n",
    "        # 여기서는 Python의 슬라이싱과 all() 함수를 사용하여 간결하게 표현합니다.\n",
    "        return all(lst[i] == lst[~i] for i in range(len(lst) // 2))\n",
    "'''\n",
    "리스트의 인덱스를 사용할 때, `~i`는 \"비트 반전 연산\"을 의미합니다. \n",
    "Python에서 비트 반전 연산자 `~`는 모든 비트를 반전시키는데, \n",
    "이는 정수 `n`에 대해 `~n`은 `-n-1`과 같습니다. \n",
    "이를 리스트의 인덱스에 적용하면, 리스트의 뒤에서부터 접근할 수 있게 됩니다.\n",
    "\n",
    "### 예시 설명\n",
    "\n",
    "lst = [0, 1, 2, 3, 4, 5, 6, 7]\n",
    "\n",
    "인덱스 `i`가 0부터 시작한다고 할 때,\n",
    "- `i = 0`일 때, `~i`는 `-1`이고, 이는 `lst[0]`과 `lst[-1]` (리스트의 첫 번째 항목과 마지막 항목)을 비교한다는 의미입니다.\n",
    "- `i = 1`일 때, `~i`는 `-2`이고, 이는 `lst[1]`과 `lst[-2]` (리스트의 두 번째 항목과 끝에서 두 번째 항목)을 비교한다는 의미입니다.\n",
    "- 이런 식으로 계속하면, `i`가 리스트의 절반 길이까지 증가함에 따라, \n",
    "리스트의 시작부터 중앙까지의 각 항목이 해당 항목의 대칭 위치에 있는 항목과 비교됩니다.\n",
    "\n",
    "all() 함수는 주어진 iterable 내의 모든 값이 True로 평가될 때 True를 반환합니다.\n",
    "\n",
    "이 방식을 사용하면, 팰린드롬 확인 같은 문제에서 전체 리스트를 반복하지 않고도, \n",
    "리스트의 절반만 검사함으로써 효율적으로 문제를 해결할 수 있습니다. \n",
    "\n",
    "이러한 방식은 리스트의 길이가 짝수든 홀수든 상관없이 적용될 수 있으며, 팰린드롬을 효율적으로 확인할 수 있는 방법입니다.\n",
    "'''"
   ]
  },
  {
   "cell_type": "markdown",
   "id": "83fad45e-3977-4f40-a0fa-8d087b94aa3b",
   "metadata": {},
   "source": [
    "### 책 풀이 리스트로 변환해 풀이"
   ]
  },
  {
   "cell_type": "code",
   "execution_count": 21,
   "id": "c6264a10-242f-4e24-8553-31e882b2ec31",
   "metadata": {
    "tags": []
   },
   "outputs": [],
   "source": [
    "from __future__ import annotations\n",
    "\n",
    "def isPalindrome(head: ListNode) -> bool:\n",
    "    q: List = []\n",
    "    \n",
    "    if not head:     #  이게 있으면 없을 때보다 속도향상에 기여할 수 있다. 빈 노드가 들어오면 아래 코드를 실행하지 않으니까\n",
    "        return True\n",
    "    \n",
    "    node = head\n",
    "    \n",
    "    while node is not None:\n",
    "        q.append(node.val)\n",
    "        node = node.next\n",
    "        \n",
    "    while len(q) > 1:\n",
    "        if q.pop(0) != q.pop():\n",
    "            return False\n",
    "        \n",
    "    return True"
   ]
  },
  {
   "cell_type": "markdown",
   "id": "b1b55701-5854-44a0-bf17-2ffcdce29c3f",
   "metadata": {},
   "source": [
    "#### deque 으로 최적화"
   ]
  },
  {
   "cell_type": "code",
   "execution_count": 4,
   "id": "3be4c851-999f-4a6b-9d51-f26aa9fcbd03",
   "metadata": {
    "tags": []
   },
   "outputs": [],
   "source": [
    "d : Deque = collections.deque([])"
   ]
  },
  {
   "cell_type": "code",
   "execution_count": 10,
   "id": "9ffc2131-347c-4aad-b056-87b568d9dd33",
   "metadata": {
    "tags": []
   },
   "outputs": [],
   "source": [
    "import collections\n",
    "from __future__ import annotations\n",
    "def isPalindrome(head: ListNode) -> bool:\n",
    "    d : Deque = collections.deque([])\n",
    "    if not head:\n",
    "        return True\n",
    "    \n",
    "    node = head\n",
    "    \n",
    "    while node is not None:\n",
    "        d.append(node.val)\n",
    "        node = node.next\n",
    "        \n",
    "    while len(d) > 1:\n",
    "        if d.popleft() != d.pop():\n",
    "            return False\n",
    "        \n",
    "    return True"
   ]
  },
  {
   "cell_type": "markdown",
   "id": "73e5385e-3054-44ef-ae9a-190e247cf4ae",
   "metadata": {},
   "source": [
    "#### Runner 사용"
   ]
  },
  {
   "cell_type": "markdown",
   "id": "84590d1c-f190-4b56-a00e-e7355c315e2d",
   "metadata": {},
   "source": [
    "문60 삽입 정렬 리스트"
   ]
  },
  {
   "cell_type": "code",
   "execution_count": null,
   "id": "5d01e399-c0fa-4f3f-a5ae-ef43fd03eace",
   "metadata": {},
   "outputs": [],
   "source": [
    "class Solution:\n",
    "    def isPalindrome(self, head: Optional[ListNode]) -> bool:\n",
    "        # 연결 리스트가 비어 있거나 노드가 하나만 있는 경우, 팰린드롬으로 간주합니다.\n",
    "        if not head or not head.next:\n",
    "            return True\n",
    "        \n",
    "        # 빠른 포인터(fast)와 느린 포인터(slow)를 초기화합니다.\n",
    "        # 빠른 포인터는 두 노드를 한 번에 이동하고, 느린 포인터는 한 노드를 한 번에 이동합니다.\n",
    "        fast = slow = head\n",
    "        prev = None  # 느린 포인터의 이전 노드를 추적하기 위한 변수입니다.\n",
    "        \n",
    "        # 연결 리스트의 중간까지 이동하면서, 이동하는 동안 느린 포인터가 지나온 노드들의 순서를 뒤집습니다.\n",
    "        while fast and fast.next:\n",
    "            fast = fast.next.next  # 빠른 포인터는 두 노드씩 이동합니다.\n",
    "            \n",
    "            # 느린 포인터가 지나온 노드들의 순서를 뒤집습니다.\n",
    "            # prev, prev.next, slow = slow, prev, slow.next # 아래 코드와 같다.\n",
    "            temp = slow.next\n",
    "            slow.next = prev\n",
    "            prev = slow\n",
    "            slow = temp\n",
    "        \n",
    "        # 연결 리스트의 길이가 홀수인 경우, 중앙에 위치한 노드는 비교에서 제외해야 하므로,\n",
    "        # 느린 포인터를 한 번 더 이동시켜 중앙 노드를 건너뜁니다.\n",
    "        if fast:\n",
    "            slow = slow.next\n",
    "        \n",
    "        # 뒤집힌 리스트의 절반(느린 포인터 이전까지의 부분)과 나머지 절반을 비교합니다.\n",
    "        # prev 포인터는 뒤집힌 절반의 시작점을 가리키고, slow 포인터는 나머지 절반의 시작점을 가리킵니다.\n",
    "        while prev and slow:\n",
    "            if prev.val != slow.val:\n",
    "                return False  # 두 값을 비교하여 다르면 팰린드롬이 아닙니다.\n",
    "            prev = prev.next\n",
    "            slow = slow.next\n",
    "        \n",
    "        # 모든 비교가 성공적으로 완료되면, 연결 리스트는 팰린드롬입니다.\n",
    "        return True\n"
   ]
  },
  {
   "cell_type": "code",
   "execution_count": 19,
   "id": "36e785f2-5800-42ad-82a0-4cbeb551b91a",
   "metadata": {
    "tags": []
   },
   "outputs": [],
   "source": []
  },
  {
   "cell_type": "code",
   "execution_count": 5,
   "id": "261eeb1b-2b25-4b3b-a974-069b7bf1c17c",
   "metadata": {
    "tags": []
   },
   "outputs": [
    {
     "data": {
      "text/plain": [
       "'prev는 slow가 slow.next로 업데이트 되기 전의 slow가 가리키던 노드를 참조함으로써\\n그 노드의 next 포인터(slow.next)를 활용해 prev 자신이 업데이트 되기 전의 값을 참조시켜\\n역순 연결리스트의 헤드가 된다는 것이다\\n'"
      ]
     },
     "execution_count": 5,
     "metadata": {},
     "output_type": "execute_result"
    }
   ],
   "source": [
    "class ListNode:\n",
    "    def __init__(self, val=0, next=None):\n",
    "        self.val = val\n",
    "        self.next = next\n",
    "\n",
    "head = ListNode(0)\n",
    "head.next = ListNode(4)\n",
    "head.next.next = ListNode(3)\n",
    "head.next.next.next = ListNode(5)\n",
    "head.next.next.next.next = ListNode(7)\n",
    "\n",
    "fast = slow = head\n",
    "prev = None  \n",
    "\n",
    "while fast and fast.next:\n",
    "    fast = fast.next.next\n",
    "    temp = slow.next\n",
    "    slow.next = prev\n",
    "    prev = slow\n",
    "    slow = temp\n",
    "    # prev, prev.next, slow = slow, prev, slow.next\n",
    "\n",
    "if fast:\n",
    "    slow = slow.next\n",
    "'''\n",
    "이 코드는  while문이 끝났을 때\n",
    "slow는 연결리스트의 중간지점(홀수면 중간 다음)에 있는 노드를 참조하게 되고\n",
    "prev는 slow가 참조하는 노드의 바로 직전 노드(중간 바로 이전 지점)를 참조하게 된다.\n",
    "prev가 참조하는 노드들은 역순으로 연결된다. \n",
    "\n",
    "1. **초기화:** \n",
    "`fast`와 `slow` 포인터를 리스트의 시작점인 `head`에 위치시킵니다. \n",
    "`prev`는 `None`으로 초기화되어, 현재는 역순 연결 리스트가 비어 있음을 나타냅니다.\n",
    "\n",
    "2. **반복을 통한 리스트 역순 만들기:** \n",
    "`while` 루프는 `fast` 포인터가 리스트의 끝에 도달할 때까지, \n",
    "즉 `fast`가 `None`이거나 `fast.next`가 `None`일 때까지 계속됩니다. \n",
    "왜냐면 fast = fast.next.next 가 되어야 하니까\n",
    "\n",
    "이 과정에서 몇 가지 작업이 수행됩니다:\n",
    "\n",
    "   - `fast` 포인터는 두 노드씩 전진합니다 (`fast = fast.next.next`). \n",
    "   이는 `slow` 포인터를 한 노드씩 전진시켰을 때 `fast`가 리스트의 끝에 도달하면 \n",
    "   'slow'가 리스트의 중간지점에 도달하도록 하기 위해서입니다.\n",
    "   \n",
    "   - `slow` 포인터는 한 번에 한 노드씩 전진시키려면 slow = slow.next 이렇게 하면 됩니다.\n",
    "   하지만 우리는 중간지점까지의 slow 의 연결을 역순으로 뒤집고 싶으므로\n",
    "   slow = slow.next 이렇게 바로 업데이트 시키지 않고\n",
    "   temp = slow.next 임시변수에 slow.next를 참조시킨 후\n",
    "   현재 `slow` 노드의 `next` 포인터를 `prev`로 변경하여, 역순 연결을 만듭니다. \n",
    "   이는 `slow.next = prev`라는 할당을 통해 이루어집니다.\n",
    "   - 다음으로 `prev`는 현재 `slow` 노드를 가리키도록 업데이트됩니다 (`prev = slow`). \n",
    "   그러면 prev 는 slow노드를 가리키게 되고, prev.next 는 None을 가리키게 됩니다.\n",
    "   - 마지막으로, `slow`를 다음 노드로 이동시킵니다 (`slow = temp`),\n",
    "   이런 식으로 반복되면\n",
    "   다음 반복에서 prev는 slow.next를 가리키게 되고 prev.next는 slow를, prev.next.next는 None을 가리키게 됩니다. \n",
    "\n",
    "3. **`while` 루프를 종료 후 중간 지점 이후 조정:** \n",
    "`fast` 포인터가 `None`이 아니면(마지막 노드를 참조하고 있으면) 연결 리스트의 길이가 홀수라는 것이므로\n",
    "`slow` 포인터를 한 칸 전진시킵니다 (`slow = slow.next`). 이는 중간 요소를 건너뛰기 위함입니다.\n",
    "\n",
    "-정리-\n",
    "`prev` 변수가 연결 리스트를 역순으로 만드는 역할을 합니다. \n",
    "초기에 `None`으로 시작하여, 각 반복마다 현재의 `slow` 노드를 가리키게 됩니다. \n",
    "`slow.next = prev`라는 할당을 통해, 현재 `slow` 노드의 `next` 포인터가 이전 노드를 가리키도록 역순으로 재연결됩니다. \n",
    "이 과정이 반복되면서, `prev`는 역순으로 연결된 리스트의 시작 부분(새로운 헤드)을 참조하게 됩니다. \n",
    "따라서, 이 알고리즘은 연결리스트의 중간지점 이전까지의 연결 리스트를 뒤집는 작업을 수행하며,\n",
    "`prev`는 최종적으로 역순으로 만들어진 연결 리스트의 헤드를 참조하게 됩니다.\n",
    "'''\n",
    "\n",
    "'''prev는 slow가 slow.next로 업데이트 되기 전의 slow가 가리키던 노드를 참조함으로써\n",
    "그 노드의 next 포인터(slow.next)를 활용해 prev 자신이 업데이트 되기 전의 값을 참조시켜\n",
    "역순 연결리스트의 헤드가 된다는 것이다\n",
    "'''"
   ]
  },
  {
   "cell_type": "markdown",
   "id": "9e9004ea-7e6d-4d08-b076-2cde39775227",
   "metadata": {},
   "source": [
    "Python에서는 변수가 특정 객체를 참조할 때,  \n",
    "변수는 그 객체의 실제 값을 저장하는 것이 아니라 그 객체의 메모리 주소(참조)를 저장합니다.   \n",
    "따라서 b의 참조가 변경되어도 a가 참조하는 객체나 그 객체의 메모리 주소는 변하지 않습니다.   \n",
    "a와 b는 독립적으로 각각의 객체를 참조하게 됩니다.  "
   ]
  },
  {
   "cell_type": "code",
   "execution_count": 30,
   "id": "b2875ff4-c3f6-48f5-a260-2dc341f262ff",
   "metadata": {
    "tags": []
   },
   "outputs": [
    {
     "data": {
      "text/plain": [
       "(3, 5)"
      ]
     },
     "execution_count": 30,
     "metadata": {},
     "output_type": "execute_result"
    }
   ],
   "source": [
    "a = None\n",
    "b = 3\n",
    "a = b\n",
    "b = 5\n",
    "a, b"
   ]
  },
  {
   "cell_type": "code",
   "execution_count": 6,
   "id": "e79c08b9-05a2-4832-a415-e0f4b2d259f1",
   "metadata": {
    "tags": []
   },
   "outputs": [
    {
     "name": "stdout",
     "output_type": "stream",
     "text": [
      "5\n",
      "7\n",
      "4\n",
      "0\n"
     ]
    }
   ],
   "source": [
    "while slow:\n",
    "    print(slow.val)\n",
    "    slow = slow.next\n",
    "    \n",
    "while prev:\n",
    "    print(prev.val)\n",
    "    prev = prev.next"
   ]
  },
  {
   "cell_type": "markdown",
   "id": "99d71515-c1f2-4def-be4f-88b24eb04a32",
   "metadata": {},
   "source": [
    "chatGPT는 파이썬의 다중할당을 잘못 이해하고 있다.  \n",
    "아래 내 설명이 옳음"
   ]
  },
  {
   "cell_type": "code",
   "execution_count": 9,
   "id": "57c904a5-00bf-4ea2-beb1-a689d52c38d4",
   "metadata": {
    "tags": []
   },
   "outputs": [
    {
     "name": "stdout",
     "output_type": "stream",
     "text": [
      "5\n",
      "7\n",
      "4\n",
      "0\n"
     ]
    }
   ],
   "source": [
    "class ListNode:\n",
    "    def __init__(self, val=0, next=None):\n",
    "        self.val = val\n",
    "        self.next = next\n",
    "\n",
    "head = ListNode(0)\n",
    "head.next = ListNode(4)\n",
    "head.next.next = ListNode(3)\n",
    "head.next.next.next = ListNode(5)\n",
    "head.next.next.next.next = ListNode(7)\n",
    "\n",
    "fast = slow = head\n",
    "prev = None  \n",
    "\n",
    "while fast and fast.next:\n",
    "    fast = fast.next.next\n",
    "    prev, prev.next, slow = slow, prev, slow.next\n",
    "    '''위 코드는 파이썬의 assign 규칙 (The leftmost target is assigned first.)에 따라\n",
    "    = 오른쪽의 slow, prev, slow.next 값이 모두 평가 되고 난 다음\n",
    "    prev = slow, \n",
    "    prev.next = prev, \n",
    "    slow = slow.next \n",
    "    순서대로 assignment가 차례대로 일어난다.\n",
    "    이때 두번째 코드에서 = 왼쪽의 prev.next 는 \n",
    "    그 앞 코드인 prev = slow에 의해\n",
    "    slow.next 가 되어 slow.next = prev가 된다.\n",
    "    그러나 두번째 코드에서 = 오른쪽의 prev는 \n",
    "    그 앞 코드인 prev = slow에 영향을 받지 않고\n",
    "    최초 = slow, prev, slow.next 평가시 prev 값으로 참조대상이 된다. \n",
    "    '''\n",
    "if fast:\n",
    "    slow = slow.next\n",
    "    \n",
    "while slow:\n",
    "    print(slow.val)\n",
    "    slow = slow.next\n",
    "    \n",
    "while prev:\n",
    "    print(prev.val)\n",
    "    prev = prev.next"
   ]
  },
  {
   "cell_type": "code",
   "execution_count": 12,
   "id": "bf3d9577-8b3a-4e5f-910f-c491b60600c1",
   "metadata": {
    "tags": []
   },
   "outputs": [
    {
     "name": "stdout",
     "output_type": "stream",
     "text": [
      "3\n",
      "True\n",
      "True\n",
      "True\n",
      "1\n",
      "True\n",
      "2\n",
      "3\n"
     ]
    },
    {
     "ename": "AttributeError",
     "evalue": "'NoneType' object has no attribute 'next'",
     "output_type": "error",
     "traceback": [
      "\u001b[0;31m---------------------------------------------------------------------------\u001b[0m",
      "\u001b[0;31mAttributeError\u001b[0m                            Traceback (most recent call last)",
      "Cell \u001b[0;32mIn[12], line 23\u001b[0m\n\u001b[1;32m     20\u001b[0m \u001b[38;5;250m\u001b[39m\u001b[38;5;124;03m'''위 와 같이 두줄로 쪼개면 두번째 반복문에서 AttributeError: 'NoneType' object has no attribute 'next' 에러가 난다.\u001b[39;00m\n\u001b[1;32m     21\u001b[0m \u001b[38;5;124;03m'''\u001b[39;00m\n\u001b[1;32m     22\u001b[0m \u001b[38;5;28mprint\u001b[39m(\u001b[38;5;241m3\u001b[39m)\n\u001b[0;32m---> 23\u001b[0m prev, prev\u001b[38;5;241m.\u001b[39mnext \u001b[38;5;241m=\u001b[39m slow, prev  \u001b[38;5;66;03m# 첫번째 반복문에서\u001b[39;00m\n\u001b[1;32m     24\u001b[0m \u001b[38;5;28mprint\u001b[39m(prev \u001b[38;5;241m==\u001b[39m head)           \u001b[38;5;66;03m# prev = slow가 되고\u001b[39;00m\n\u001b[1;32m     25\u001b[0m \u001b[38;5;28mprint\u001b[39m(prev\u001b[38;5;241m.\u001b[39mnext \u001b[38;5;241m==\u001b[39m \u001b[38;5;28;01mNone\u001b[39;00m)      \u001b[38;5;66;03m# prev.next = prev, 따라서 slow.next는 None을 참조하게 된다.\u001b[39;00m\n",
      "\u001b[0;31mAttributeError\u001b[0m: 'NoneType' object has no attribute 'next'"
     ]
    }
   ],
   "source": [
    "class ListNode:\n",
    "    def __init__(self, val=0, next=None):\n",
    "        self.val = val\n",
    "        self.next = next\n",
    "\n",
    "head = ListNode(0)\n",
    "head.next = ListNode(4)\n",
    "head.next.next = ListNode(3)\n",
    "head.next.next.next = ListNode(5)\n",
    "head.next.next.next.next = ListNode(7)\n",
    "\n",
    "fast = slow = head\n",
    "prev = None  \n",
    "\n",
    "while fast and fast.next:\n",
    "    fast = fast.next.next\n",
    "    \n",
    "    # prev, prev.next = slow, prev  \n",
    "    # slow = slow.next\n",
    "    '''위 와 같이 두줄로 쪼개면 두번째 반복문에서 AttributeError: 'NoneType' object has no attribute 'next' 에러가 난다.\n",
    "    '''\n",
    "    print(3)\n",
    "    prev, prev.next = slow, prev  # 첫번째 반복문에서\n",
    "    print(prev == head)           # prev = slow가 되고\n",
    "    print(prev.next == None)      # prev.next = prev, 따라서 slow.next는 None을 참조하게 된다.\n",
    "    print(slow.next == None)\n",
    "    slow = slow.next              # 따라서 여기서 slow는 None을 참조하게 된다. \n",
    "    print(1)\n",
    "    print(slow == None)           # 그에 따라 두번째 반복문에서 prev는 None을 참조하게 되고, 이에 따라 prev.next에서 해당 에러가 나게 되는 것이다. \n",
    "    print(2)"
   ]
  },
  {
   "cell_type": "code",
   "execution_count": 21,
   "id": "25556a51-76d6-4cc0-a9d6-2b33ccac5d04",
   "metadata": {
    "tags": []
   },
   "outputs": [
    {
     "name": "stdout",
     "output_type": "stream",
     "text": [
      "5\n",
      "7\n",
      "4\n",
      "4\n",
      "4\n",
      "4\n",
      "4\n"
     ]
    }
   ],
   "source": [
    "class ListNode:\n",
    "    def __init__(self, val=0, next=None):\n",
    "        self.val = val\n",
    "        self.next = next\n",
    "\n",
    "head = ListNode(0)\n",
    "head.next = ListNode(4)\n",
    "head.next.next = ListNode(3)\n",
    "head.next.next.next = ListNode(5)\n",
    "head.next.next.next.next = ListNode(7)\n",
    "# head.next.next.next.next.next = ListNode(8)\n",
    "# head.next.next.next.next.next.next = ListNode(9)\n",
    "\n",
    "fast = slow = head\n",
    "prev = None  \n",
    "\n",
    "while fast and fast.next:\n",
    "    fast = fast.next.next\n",
    "    \n",
    "    # prev = slow\n",
    "    # prev.next, slow = prev, slow.next  \n",
    "    '''위와 같이 두줄로 쪼개면 반복문에서 에러는 안나고\n",
    "    slow도 중간지점까지 가지만 \n",
    "    prev은 중간지점까지간 slow의 바로 직전노드를 참조하며 prev.next도 자기자신을 참조해 무한루프에 빠진다\n",
    "    head -> 4 -> 3 -> 5-> 7 연결리스트인 경우,\n",
    "    두번째 줄에서 이전 코드의 prev = slow에 의해 prev.next = prev는 slow.next = slow가 되고 여기서 무한루프에 빠진다.\n",
    "    그런데 slow = slow.next가 있으므로 \n",
    "    두번째 반복문을 돌 때 prev는 첫번째 코드에 의해 slow.next를 참조하게 되고\n",
    "    두번째 코드에서 slow.next.next = slow.next가 되어 \n",
    "    prev는 slow.next 즉 head.next인 ListNode(4)를 참조하고, prev.next도 자기자신을 참조하게 되어 무한 루프에 빠진다.\n",
    "    '''\n",
    "\n",
    "    prev = slow\n",
    "    prev.next, slow = prev, slow.next  \n",
    "\n",
    "if fast:\n",
    "    slow = slow.next\n",
    "    \n",
    "while slow:\n",
    "    print(slow.val)\n",
    "    slow  = slow.next\n",
    "    \n",
    "for _ in range(5):\n",
    "    print(prev.val)\n",
    "    prev  = prev.next"
   ]
  },
  {
   "cell_type": "code",
   "execution_count": 31,
   "id": "57a253e3-584c-4a56-9143-07d7b925a1e8",
   "metadata": {
    "tags": []
   },
   "outputs": [
    {
     "name": "stdout",
     "output_type": "stream",
     "text": [
      "0\n",
      "0\n",
      "0\n",
      "0\n",
      "0\n",
      "0\n",
      "0\n",
      "0\n",
      "0\n",
      "0\n"
     ]
    }
   ],
   "source": [
    "class ListNode:\n",
    "    def __init__(self, val=0, next=None):\n",
    "        self.val = val\n",
    "        self.next = next\n",
    "\n",
    "head = ListNode(0)\n",
    "head.next = ListNode(4)\n",
    "head.next.next = ListNode(3)\n",
    "head.next.next.next = ListNode(5)\n",
    "head.next.next.next.next = ListNode(7)\n",
    "# head.next.next.next.next.next = ListNode(8)\n",
    "# head.next.next.next.next.next.next = ListNode(9)\n",
    "\n",
    "fast = slow = head\n",
    "prev = None  \n",
    "\n",
    "while fast and fast.next:\n",
    "    fast = fast.next.next\n",
    "    \n",
    "    # prev = slow\n",
    "    # prev.next = prev\n",
    "    # slow = slow.next  \n",
    "    '''위와 같이 세줄로 쪼개면 반복문에서 에러는 안나지만\n",
    "    slow와 prev 모두 \n",
    "    prev은 중간지점까지간 slow의 바로 직전노드를 참조하며 prev.next도 자기자신을 참조해 무한루프에 빠진다\n",
    "    두번째 줄에서 slow.next = slow 가 되고 \n",
    "    세번째 줄에서 slow = slow.next가 되는데\n",
    "    이건 곧 head.next = head\n",
    "    head = head.next 인 것과 같으므로\n",
    "    반복문을 계속 돌아도 \n",
    "    prev는 계속 slow를 가리키고 (head를 가리키고)\n",
    "    slow.next는 slow를 slow는 slow.next를 가리켜 결국 head는 head.next를 head.next는 head를 가리켜\n",
    "    head노드에서 한발짝도 나아가지 못한 채 무한 루프에 빠진다.\n",
    "    '''\n",
    "\n",
    "    prev = slow\n",
    "    prev.next = prev\n",
    "    slow = slow.next  \n",
    "\n",
    "if fast:\n",
    "    slow = slow.next\n",
    "    \n",
    "for _ in range(5):\n",
    "    print(slow.val)\n",
    "    slow  = slow.next\n",
    "    \n",
    "for _ in range(5):\n",
    "    print(prev.val)\n",
    "    prev  = prev.next"
   ]
  },
  {
   "cell_type": "markdown",
   "id": "db29dd25-de06-4d5c-9237-29cc334d158f",
   "metadata": {},
   "source": [
    "# 문 14 두 정렬리스트의 병합 e\n",
    "https://leetcode.com/problems/merge-two-sorted-lists"
   ]
  },
  {
   "cell_type": "markdown",
   "id": "a8ccae7c-83fd-4592-97ba-a4458fe6398e",
   "metadata": {},
   "source": [
    "정렬되어 있는 두 연결 리스트를 합쳐라"
   ]
  },
  {
   "cell_type": "markdown",
   "id": "6482adb5-90d8-48fc-8724-c20f2c20d0de",
   "metadata": {},
   "source": [
    "입력 : 1 > 2 > 4, 1 > 3 > 4  \n",
    "  \n",
    "출력 : 1 > 1 > 2 > 3 > 4 > 4"
   ]
  },
  {
   "cell_type": "code",
   "execution_count": 1,
   "id": "196f1ea6-35d4-4d1e-b4a8-4a5bb20d8b0c",
   "metadata": {
    "tags": []
   },
   "outputs": [],
   "source": [
    "# Definition for singly-linked list.\n",
    "class ListNode:\n",
    "    def __init__(self, x):\n",
    "        self.val = x\n",
    "        self.next = None\n",
    "\n",
    "def mergeTwoLists(self, l1: ListNode, l2: ListNode) -> ListNode:\n",
    "    if (not l1) or (l2 and l1.val > l2.val):\n",
    "        l1, l2 = l2, l1\n",
    "    if l1:\n",
    "        l1.next = self.mergeTwoLists(l1.next, l2)\n",
    "    return l1"
   ]
  },
  {
   "cell_type": "markdown",
   "id": "4f0ffbba-4d6f-4c82-9160-a1c4bcc9d648",
   "metadata": {},
   "source": [
    "# 다중할당, 연속할당"
   ]
  },
  {
   "cell_type": "code",
   "execution_count": 1,
   "id": "d0555472-aaef-4f92-80d0-cc30b405cfed",
   "metadata": {
    "tags": []
   },
   "outputs": [
    {
     "data": {
      "text/plain": [
       "(2, 1, 1)"
      ]
     },
     "execution_count": 1,
     "metadata": {},
     "output_type": "execute_result"
    }
   ],
   "source": [
    "a, b = 1, 2\n",
    "temp = a\n",
    "a = b\n",
    "b = temp\n",
    "a, b, temp"
   ]
  },
  {
   "cell_type": "code",
   "execution_count": 1,
   "id": "2d50da8f-0e07-4e1d-b2e3-761ecb2b851e",
   "metadata": {
    "tags": []
   },
   "outputs": [
    {
     "ename": "NameError",
     "evalue": "name 'temp' is not defined",
     "output_type": "error",
     "traceback": [
      "\u001b[0;31m---------------------------------------------------------------------------\u001b[0m",
      "\u001b[0;31mNameError\u001b[0m                                 Traceback (most recent call last)",
      "Cell \u001b[0;32mIn[1], line 2\u001b[0m\n\u001b[1;32m      1\u001b[0m a, b \u001b[38;5;241m=\u001b[39m \u001b[38;5;241m1\u001b[39m, \u001b[38;5;241m2\u001b[39m\n\u001b[0;32m----> 2\u001b[0m temp \u001b[38;5;241m=\u001b[39m a \u001b[38;5;241m=\u001b[39m b \u001b[38;5;241m=\u001b[39m temp \u001b[38;5;66;03m# temp 값이 없으므로 에러\u001b[39;00m\n\u001b[1;32m      3\u001b[0m a, b, temp\n",
      "\u001b[0;31mNameError\u001b[0m: name 'temp' is not defined"
     ]
    }
   ],
   "source": [
    "a, b = 1, 2\n",
    "temp = a = b = temp # temp 값이 없으므로 에러\n",
    "a, b, temp"
   ]
  },
  {
   "cell_type": "markdown",
   "id": "b5ee59b1-f2aa-4acf-b1e7-d9a6dd4b36dc",
   "metadata": {
    "tags": []
   },
   "source": [
    "파이썬에서 다중할당(multiple assignment)은 어떤 순서로 일어나나?  \n",
    "  \n",
    "자료구조 책 8장 3연결리스트 참고"
   ]
  },
  {
   "cell_type": "code",
   "execution_count": 2,
   "id": "d0cb5950-2e66-4e5d-b260-26ae3c4eb7e4",
   "metadata": {
    "tags": []
   },
   "outputs": [
    {
     "data": {
      "text/plain": [
       "(1, 1, 1)"
      ]
     },
     "execution_count": 2,
     "metadata": {},
     "output_type": "execute_result"
    }
   ],
   "source": [
    "a, b = 1, 2\n",
    "temp = a \n",
    "a = b = temp  # (맨 왼쪽부터 오른쪽 순서로) a = temp, b = temp\n",
    "a, b, temp"
   ]
  },
  {
   "cell_type": "code",
   "execution_count": 1,
   "id": "e6baee85-e3d6-4b76-97f7-3532fed9d656",
   "metadata": {
    "tags": []
   },
   "outputs": [
    {
     "data": {
      "text/plain": [
       "(2, 2, 2)"
      ]
     },
     "execution_count": 1,
     "metadata": {},
     "output_type": "execute_result"
    }
   ],
   "source": [
    "a, b = 1, 2\n",
    "temp = a = b # temp = b, a = b\n",
    "a, b, temp"
   ]
  },
  {
   "cell_type": "markdown",
   "id": "1f5207dd-0718-435b-8ef7-33b403bcc34c",
   "metadata": {},
   "source": [
    "# 언패킹 응용"
   ]
  },
  {
   "cell_type": "code",
   "execution_count": 2,
   "id": "860b589a-a5aa-478a-8578-8a7d4e0835ee",
   "metadata": {
    "tags": []
   },
   "outputs": [
    {
     "data": {
      "text/plain": [
       "([3, 4], [1, 2])"
      ]
     },
     "execution_count": 2,
     "metadata": {},
     "output_type": "execute_result"
    }
   ],
   "source": [
    "a = [1,2]\n",
    "b = [3,4]\n",
    "\n",
    "a, b = b, a\n",
    "a, b"
   ]
  },
  {
   "cell_type": "markdown",
   "id": "3eeccf84-cc29-42c1-a51e-97828931fbdd",
   "metadata": {},
   "source": [
    "위 코드는 아래와 같다"
   ]
  },
  {
   "cell_type": "code",
   "execution_count": 3,
   "id": "ef3179fb-3fd7-4991-8cfe-f6c4181d33f0",
   "metadata": {
    "tags": []
   },
   "outputs": [
    {
     "data": {
      "text/plain": [
       "([3, 4], [1, 2], [1, 2])"
      ]
     },
     "execution_count": 3,
     "metadata": {},
     "output_type": "execute_result"
    }
   ],
   "source": [
    "a = [1,2]\n",
    "b = [3,4]\n",
    " \n",
    "temp = a  # temp = [1, 2]    a를 b로 바꾸고, b를 a로 바꿔야 하니까, 기존 a를 일단 어디다 담아두고\n",
    "a = b     # a = [3, 4]       a를 먼저 b로 바꾼 다음\n",
    "b = temp  # b = [1, 2]       b를 기존 a로 바꾼다\n",
    "a, b, temp"
   ]
  },
  {
   "cell_type": "markdown",
   "id": "8aaf9589-4b40-4325-904a-1743dc705a14",
   "metadata": {},
   "source": [
    "# assignment 응용"
   ]
  },
  {
   "cell_type": "code",
   "execution_count": 12,
   "id": "77a6fd10-0107-4473-8f66-193dfb896041",
   "metadata": {
    "tags": []
   },
   "outputs": [
    {
     "data": {
      "text/plain": [
       "([3, 4], [0, 2], [0, 2])"
      ]
     },
     "execution_count": 12,
     "metadata": {},
     "output_type": "execute_result"
    }
   ],
   "source": [
    "a = [1,2]\n",
    "b = [3,4]\n",
    "\n",
    "temp = a    # temp = [1, 2]\n",
    "a = b       # a = [3, 4]\n",
    "b = temp    # b = [1, 2]\n",
    "temp[0] = 0    # temp = [0, 2]   temp의 객체 안의 원소를 바꾸면 b도 영향\n",
    "a, b, temp"
   ]
  },
  {
   "cell_type": "code",
   "execution_count": 13,
   "id": "7965ff1c-5572-4652-844c-66da78cbe46b",
   "metadata": {
    "tags": []
   },
   "outputs": [
    {
     "data": {
      "text/plain": [
       "([0, 4], [1, 2], [1, 2])"
      ]
     },
     "execution_count": 13,
     "metadata": {},
     "output_type": "execute_result"
    }
   ],
   "source": [
    "a = [1,2]\n",
    "b = [3,4]\n",
    "\n",
    "temp = a    # temp = [1, 2]  temp는 끝\n",
    "a = b       # a = [3, 4]     a 도 끝\n",
    "b[0] = 0    # b = [0, 4]     b의 객체 안의 원소를 바꾸면 a도 영향\n",
    "b = temp    # b = [1, 2]     그런데 b를 아예 다른 객체로 바꾸면 a는 그대로\n",
    "a, b, temp"
   ]
  },
  {
   "cell_type": "markdown",
   "id": "6c8e5019-c04c-44ea-aa95-08b5a8f8cc48",
   "metadata": {},
   "source": [
    "# call by object reference (call by assginment)\n",
    "\n",
    "https://www.geeksforgeeks.org/is-python-call-by-reference-or-call-by-value/?ref=ml_lbp"
   ]
  },
  {
   "cell_type": "markdown",
   "id": "d52d52be-6ba4-4175-9e64-8d55fa00b3eb",
   "metadata": {},
   "source": [
    "Python utilizes a system, which is known as “Call by Object Reference” or “Call by assignment”. \n",
    "\n",
    "    In the event that you pass (immutable) arguments \n",
    "    like whole numbers, strings or tuples to a function, \n",
    "    the passing is like call-by-value 값에 의한 호출\n",
    "    \n",
    "        because you can not change \n",
    "        the value of the immutable objects being passed to the function. \n",
    "\n",
    "    Whereas passing mutable objects \n",
    "    can be considered as call by reference 참조에 의한 호출 \n",
    "    \n",
    "        because when their values are changed inside the function, \n",
    "        then it will also be reflected outside the function."
   ]
  },
  {
   "cell_type": "code",
   "execution_count": 7,
   "id": "6c6ded30-8df2-43c6-8078-3739a12a726c",
   "metadata": {
    "tags": []
   },
   "outputs": [
    {
     "name": "stdout",
     "output_type": "stream",
     "text": [
      "mutable variable outside function: Geeks\n",
      "id(string) : 139972472668208\n",
      "\n",
      "mutable variable outside function: Geeksfor\n",
      "id(string) : 139972472614576\n",
      "\n",
      "mutable variable inside function GeeksforGeeks\n",
      "id(string) : 139972472604336\n",
      "\n",
      "mutable variable outside function: Geeksfor\n",
      "id(string) : 139972472614576\n",
      "\n"
     ]
    }
   ],
   "source": [
    "string = \"Geeks\"  # immutable object cannot be changed once created. \n",
    "print(\"mutable variable outside function:\", string)\n",
    "print(f'id(string) : {id(string)}'); print()  \n",
    "# so if you want to change value referenced by same variable name, new assignment need\n",
    "\n",
    "    # 참고\n",
    "    # name = \"changho\"\n",
    "    # name = name.replace(\"chang\", \"lee\")\n",
    "    # name\n",
    "\n",
    "string = \"Geeksfor\"\n",
    "print(\"mutable variable outside function:\", string)\n",
    "print(f'id(string) : {id(string)}'); print()  \n",
    "\n",
    "def test(string):\n",
    "    # call by value \n",
    "    string = \"GeeksforGeeks\"  # immutable object cannot be changed once created. \n",
    "        # so in this case, existing variable(string) is assigned for the new string\n",
    "    print(\"mutable variable inside function\", string)\n",
    "    print(f'id(string) : {id(string)}')\n",
    "     \n",
    "test(string)\n",
    "print()\n",
    "print(\"mutable variable outside function:\", string)\n",
    "print(f'id(string) : {id(string)}'); print()  "
   ]
  },
  {
   "cell_type": "code",
   "execution_count": 10,
   "id": "34cb8831-0f2c-4da6-b2a4-4265ef26c0ed",
   "metadata": {
    "tags": []
   },
   "outputs": [
    {
     "name": "stdout",
     "output_type": "stream",
     "text": [
      "mutable variable outside function: [10, 20, 30, 40]\n",
      "id(mylist) : 139972472917120\n",
      "\n",
      "mutable variable outside function: [20, 30, 40]\n",
      "id(mylist) : 139972472917120\n",
      "\n",
      "mutable variable inside function [20, 30, 40, 50]\n",
      "id(list) : 139972472917120\n",
      "\n",
      "mutable variable outside function: [20, 30, 40, 50]\n",
      "id(mylist) : 139972472917120\n",
      "\n"
     ]
    }
   ],
   "source": [
    "mylist = [10,20,30,40]  \n",
    "print(\"mutable variable outside function:\", mylist)\n",
    "print(f'id(mylist) : {id(mylist)}'); print()\n",
    "\n",
    "mylist.pop(0)   # mutable object can be changed in place\n",
    "\n",
    "print(\"mutable variable outside function:\", mylist)\n",
    "print(f'id(mylist) : {id(mylist)}'); print()\n",
    "\n",
    "def add_more(list):\n",
    "    # call by reference\n",
    "    list.append(50)    # mutable object can be changed in place     \n",
    "        # so in this case, argument(list) can reference variable outside function(mylist)\n",
    "    print(\"mutable variable inside function\", list)\n",
    "    print(f'id(list) : {id(list)}')\n",
    " \n",
    "add_more(mylist)\n",
    "print()\n",
    "print(\"mutable variable outside function:\", mylist)\n",
    "print(f'id(mylist) : {id(mylist)}'); print()"
   ]
  },
  {
   "cell_type": "markdown",
   "id": "b80c1128-7816-4067-b829-59437e622cdc",
   "metadata": {},
   "source": [
    "#### immutable은  값을 변경할 수 없으므로,\n",
    "#### multiple(chain) assignment를 해주지 않아도, 서로 다른 변수들로 같은 객체를 참조하는 게 가능하다."
   ]
  },
  {
   "cell_type": "code",
   "execution_count": 13,
   "id": "067e051b-8cb0-4c79-8aa2-ac45b0319f96",
   "metadata": {
    "tags": []
   },
   "outputs": [
    {
     "name": "stdout",
     "output_type": "stream",
     "text": [
      "immutable\n",
      "139972962953904\n",
      "139972962953904\n",
      "True\n"
     ]
    }
   ],
   "source": [
    "a = \"first\" # immutable\n",
    "b = \"first\"\n",
    "\n",
    "print('immutable')\n",
    "print(id(a)) # return the location where the variable references\n",
    "print(id(b))\n",
    "print(a is b) # same location"
   ]
  },
  {
   "cell_type": "code",
   "execution_count": 14,
   "id": "cb756b9a-6a0d-41f7-9c29-a92d9d67e58e",
   "metadata": {
    "tags": []
   },
   "outputs": [
    {
     "name": "stdout",
     "output_type": "stream",
     "text": [
      "immutable\n",
      "139972960205872\n",
      "139972960205872\n",
      "True\n"
     ]
    }
   ],
   "source": [
    "a = b = \"second\" # immutable\n",
    "\n",
    "print('immutable')\n",
    "print(id(a)) # return the location where the variable references\n",
    "print(id(b))\n",
    "print(a is b) # same location"
   ]
  },
  {
   "cell_type": "markdown",
   "id": "ceec6421-4a29-46fd-901b-35fdf270dae4",
   "metadata": {},
   "source": [
    "#### 반면, mutable은 값을 변경할 수 있으므로, \n",
    "#### 서로 다른 변수들에 같은 값을 가진 객체를 독립적으로 할당을 하면, 변수들은 서로 다른 메모리 주소를 참조하게 된다\n"
   ]
  },
  {
   "cell_type": "code",
   "execution_count": 48,
   "id": "594e0a91-0a47-4dd1-94ca-dae052463d5f",
   "metadata": {
    "tags": []
   },
   "outputs": [
    {
     "name": "stdout",
     "output_type": "stream",
     "text": [
      "mutable\n",
      "139652139711680\n",
      "139651762065408\n",
      "False\n"
     ]
    }
   ],
   "source": [
    "a = [10, 20, 30] # mutable\n",
    "b = [10, 20, 30]\n",
    "\n",
    "print('mutable')\n",
    "print(id(a))\n",
    "print(id(b)) \n",
    "print(a is b) # location is not same"
   ]
  },
  {
   "cell_type": "markdown",
   "id": "9312e974-4cb0-4abe-9629-53d8603d2b90",
   "metadata": {},
   "source": [
    "#### 서로 다른 변수들로, 같은 객체를 참조시키려면 multiple assignment(chain assignment)를 해줘야 한다"
   ]
  },
  {
   "cell_type": "code",
   "execution_count": 49,
   "id": "50cac39d-f2a7-42da-8611-46c8a2c977ce",
   "metadata": {
    "tags": []
   },
   "outputs": [
    {
     "name": "stdout",
     "output_type": "stream",
     "text": [
      "mutable\n",
      "139652204075072\n",
      "139652204075072\n",
      "True\n"
     ]
    }
   ],
   "source": [
    "a = b = [10, 20, 30] # mutable\n",
    "\n",
    "print('mutable')\n",
    "print(id(a))\n",
    "print(id(b)) \n",
    "print(a is b) # location is not same"
   ]
  },
  {
   "cell_type": "markdown",
   "id": "ebb20624-73be-452c-927e-de17de5d8681",
   "metadata": {},
   "source": [
    "# 정수형은 immutable이지만 조금 다르다\n",
    "https://realpython.com/python-assignment-operator/#making-multiple-variables-refer-to-the-same-object"
   ]
  },
  {
   "cell_type": "code",
   "execution_count": 15,
   "id": "888cdfd0-767f-4e7d-828f-a477960b378b",
   "metadata": {
    "tags": []
   },
   "outputs": [
    {
     "name": "stdout",
     "output_type": "stream",
     "text": [
      "independent assignment: True\n"
     ]
    }
   ],
   "source": [
    "n = 42\n",
    "m = 42\n",
    "# 정수가 작은 경우 독립할당을 해도 같은 메모리 주소를 참조한다\n",
    "print(f'independent assignment: {id(n) == id(m)}')"
   ]
  },
  {
   "cell_type": "code",
   "execution_count": 16,
   "id": "23b6d648-2f54-4023-a637-8072b914a486",
   "metadata": {
    "tags": []
   },
   "outputs": [
    {
     "name": "stdout",
     "output_type": "stream",
     "text": [
      "independent assignment: False\n",
      "multiple assignment: True\n"
     ]
    }
   ],
   "source": [
    "n = 300\n",
    "m = 300\n",
    "# 정수가 큰 경우 독립할당을 하면 참조 메모리 주소가 달라진다\n",
    "print(f'independent assignment: {id(n) == id(m)}')\n",
    "\n",
    "n = m = 300\n",
    "# 연속할당을 해주면 큰 정수여도 같은 메모리를 참조한다\n",
    "print(f'multiple assignment: {id(n) == id(m)}')"
   ]
  },
  {
   "cell_type": "markdown",
   "id": "279efc8b-0229-4880-96b3-6d67af60aee1",
   "metadata": {},
   "source": [
    "# 위 기능을 interning 이라고 한다"
   ]
  },
  {
   "cell_type": "code",
   "execution_count": 17,
   "id": "b460cc75-f743-43d9-997f-07c8cde74c6c",
   "metadata": {
    "tags": []
   },
   "outputs": [
    {
     "name": "stdout",
     "output_type": "stream",
     "text": [
      "Interning interval for Python 3.11.0 is: [-5 to 256]\n"
     ]
    }
   ],
   "source": [
    "from platform import python_version\n",
    "\n",
    "interning = [\n",
    "    x\n",
    "    for x, y in zip(range(-10, 500), range(-10, 500))\n",
    "    if x is y\n",
    "]\n",
    "\n",
    "print(\n",
    "    f\"Interning interval for Python {python_version()} is:\"\n",
    "    f\" [{interning[0]} to {interning[-1]}]\"\n",
    ")"
   ]
  },
  {
   "cell_type": "markdown",
   "id": "24a59799-5061-40a0-a951-ac275302393c",
   "metadata": {},
   "source": [
    "This output means that \n",
    "\n",
    "    if you use a single number between -5 and 256 \n",
    "    to initialize several variables in independent statements, \n",
    "    then all these variables will point to the same object, \n",
    "    which will help you save small bits of memory in your code.\n",
    "\n",
    "In contrast, \n",
    "\n",
    "    if you use a number that falls outside of the interning interval, \n",
    "    then your variables will point to different objects instead. \n",
    "    Each of these objects will occupy a different memory spot."
   ]
  },
  {
   "cell_type": "markdown",
   "id": "e66bb43a-7413-4264-9ec4-bcd40c064c46",
   "metadata": {},
   "source": [
    "# Implicit Assignments in Python\n",
    "https://realpython.com/python-assignment-operator/#making-multiple-variables-refer-to-the-same-object"
   ]
  },
  {
   "cell_type": "markdown",
   "id": "abb346ee-7764-4559-8306-bf71310de35f",
   "metadata": {
    "tags": []
   },
   "source": [
    "Whenever you complete an action in the following list,   \n",
    "Python runs an implicit assignment for you:\n",
    "  \n",
    "\n",
    "    1. Define or call a function\n",
    "    2. Define or instantiate a class\n",
    "    3. Use the current instance, self\n",
    "    4. Import modules and objects\n",
    "    5. Use a decorator\n",
    "    6. Use the control variable in a for loop or a comprehension\n",
    "    7. Use the as qualifier in with statements, imports, and try … except blocks\n",
    "    8. Access the _ special variable in an interactive session\n",
    "    \n",
    "Behind the scenes, Python performs an assignment in every one of the above situations"
   ]
  },
  {
   "cell_type": "markdown",
   "id": "9aa92b69-6117-44ef-962a-b555ab97506b",
   "metadata": {},
   "source": [
    "**Define or Call a Function**\n",
    "\n",
    "    When you define a function, \n",
    "    the def keyword implicitly assigns a function object to your function’s name. \n",
    "    Here’s an example:"
   ]
  },
  {
   "cell_type": "code",
   "execution_count": 18,
   "id": "ae00068b-a920-43b9-805d-b608e7750b0c",
   "metadata": {
    "tags": []
   },
   "outputs": [
    {
     "data": {
      "text/plain": [
       "<function __main__.greet(name)>"
      ]
     },
     "execution_count": 18,
     "metadata": {},
     "output_type": "execute_result"
    }
   ],
   "source": [
    "def greet(name):\n",
    "   print(id(name))\n",
    "   print(f\"Hello, {name}!\")\n",
    "    \n",
    "greet"
   ]
  },
  {
   "cell_type": "code",
   "execution_count": 19,
   "id": "2eeeecec-71da-4e33-a965-300a4dcca953",
   "metadata": {
    "tags": []
   },
   "outputs": [
    {
     "data": {
      "text/plain": [
       "139972854021344"
      ]
     },
     "execution_count": 19,
     "metadata": {},
     "output_type": "execute_result"
    }
   ],
   "source": [
    "id(greet)"
   ]
  },
  {
   "cell_type": "code",
   "execution_count": 20,
   "id": "5b90fdd7-9edb-4351-8c98-c80ff43c839f",
   "metadata": {
    "tags": []
   },
   "outputs": [
    {
     "name": "stdout",
     "output_type": "stream",
     "text": [
      "139972473021808\n",
      "Hello, Pythonista!\n"
     ]
    }
   ],
   "source": [
    "fellow = \"Pythonista\"\n",
    "greet(fellow)"
   ]
  },
  {
   "cell_type": "markdown",
   "id": "8590e150-9184-4fbd-9993-62208db54819",
   "metadata": {},
   "source": [
    "From this point on, \n",
    "\n",
    "    the name greet refers to a function object \n",
    "    that lives at a given memory address in your computer. \n",
    "\n",
    "    You can call the function \n",
    "    using its name and a pair of parentheses with appropriate arguments. \n",
    "    This way, you can reuse greet() wherever you need it.\n",
    "\n",
    "If you call your greet() function with fellow as an **argument**,  \n",
    "then Python implicitly assigns the **input argument value**  \n",
    "**to the name parameter** on the function’s definition.  \n",
    "  \n",
    "The parameter will hold a reference to the input arguments."
   ]
  },
  {
   "cell_type": "code",
   "execution_count": 53,
   "id": "7c0fbc48-f62c-4fa9-859f-6fad9c96efe2",
   "metadata": {
    "tags": []
   },
   "outputs": [
    {
     "data": {
      "text/plain": [
       "__main__.User"
      ]
     },
     "execution_count": 53,
     "metadata": {},
     "output_type": "execute_result"
    }
   ],
   "source": [
    "class User:\n",
    "    def __init__(self, name, job):\n",
    "        self.name = name\n",
    "        self.job = job\n",
    "\n",
    "User"
   ]
  },
  {
   "cell_type": "code",
   "execution_count": 55,
   "id": "59ace47c-14fe-42cc-b5bb-b29460ddd26f",
   "metadata": {
    "tags": []
   },
   "outputs": [
    {
     "data": {
      "text/plain": [
       "56239760"
      ]
     },
     "execution_count": 55,
     "metadata": {},
     "output_type": "execute_result"
    }
   ],
   "source": [
    "id(User)"
   ]
  },
  {
   "cell_type": "markdown",
   "id": "81a09e34-1ccc-4376-98e0-1a8bdea766f8",
   "metadata": {},
   "source": [
    "**Import statements** are another variant of implicit assignments in Python. \n",
    "\n",
    "    Through an import statement, \n",
    "    you assign a name to a module object, class, function, or any other imported object. \n",
    "    This name is then created in your current namespace \n",
    "    so that you can access it later in your code:"
   ]
  },
  {
   "cell_type": "code",
   "execution_count": 59,
   "id": "bd878976-f1e8-4651-b6ae-6073d6621fb1",
   "metadata": {
    "tags": []
   },
   "outputs": [
    {
     "data": {
      "text/plain": [
       "['In',\n",
       " 'Out',\n",
       " 'User',\n",
       " '_',\n",
       " '_20',\n",
       " '_21',\n",
       " '_32',\n",
       " '_33',\n",
       " '_34',\n",
       " '_36',\n",
       " '_37',\n",
       " '_38',\n",
       " '_39',\n",
       " '_51',\n",
       " '_53',\n",
       " '_54',\n",
       " '_55',\n",
       " '_56',\n",
       " '_57',\n",
       " '__',\n",
       " '___',\n",
       " '__builtin__',\n",
       " '__builtins__',\n",
       " '__doc__',\n",
       " '__loader__',\n",
       " '__name__',\n",
       " '__package__',\n",
       " '__session__',\n",
       " '__spec__',\n",
       " '_dh',\n",
       " '_i',\n",
       " '_i1',\n",
       " '_i10',\n",
       " '_i11',\n",
       " '_i12',\n",
       " '_i13',\n",
       " '_i14',\n",
       " '_i15',\n",
       " '_i16',\n",
       " '_i17',\n",
       " '_i18',\n",
       " '_i19',\n",
       " '_i2',\n",
       " '_i20',\n",
       " '_i21',\n",
       " '_i22',\n",
       " '_i23',\n",
       " '_i24',\n",
       " '_i25',\n",
       " '_i26',\n",
       " '_i27',\n",
       " '_i28',\n",
       " '_i29',\n",
       " '_i3',\n",
       " '_i30',\n",
       " '_i31',\n",
       " '_i32',\n",
       " '_i33',\n",
       " '_i34',\n",
       " '_i35',\n",
       " '_i36',\n",
       " '_i37',\n",
       " '_i38',\n",
       " '_i39',\n",
       " '_i4',\n",
       " '_i40',\n",
       " '_i41',\n",
       " '_i42',\n",
       " '_i43',\n",
       " '_i44',\n",
       " '_i45',\n",
       " '_i46',\n",
       " '_i47',\n",
       " '_i48',\n",
       " '_i49',\n",
       " '_i5',\n",
       " '_i50',\n",
       " '_i51',\n",
       " '_i52',\n",
       " '_i53',\n",
       " '_i54',\n",
       " '_i55',\n",
       " '_i56',\n",
       " '_i57',\n",
       " '_i58',\n",
       " '_i59',\n",
       " '_i6',\n",
       " '_i7',\n",
       " '_i8',\n",
       " '_i9',\n",
       " '_ih',\n",
       " '_ii',\n",
       " '_iii',\n",
       " '_oh',\n",
       " 'a',\n",
       " 'add_more',\n",
       " 'b',\n",
       " 'exit',\n",
       " 'fellow',\n",
       " 'foo',\n",
       " 'get_ipython',\n",
       " 'greet',\n",
       " 'interning',\n",
       " 'm',\n",
       " 'mylist',\n",
       " 'n',\n",
       " 'name',\n",
       " 'open',\n",
       " 'python_version',\n",
       " 'quit',\n",
       " 'string',\n",
       " 'test']"
      ]
     },
     "execution_count": 59,
     "metadata": {},
     "output_type": "execute_result"
    }
   ],
   "source": [
    "dir()"
   ]
  },
  {
   "cell_type": "code",
   "execution_count": 60,
   "id": "4ff91df4-309c-4b62-a055-fc5edd23f5f2",
   "metadata": {
    "tags": []
   },
   "outputs": [
    {
     "data": {
      "text/plain": [
       "['In',\n",
       " 'Out',\n",
       " 'User',\n",
       " '_',\n",
       " '_20',\n",
       " '_21',\n",
       " '_32',\n",
       " '_33',\n",
       " '_34',\n",
       " '_36',\n",
       " '_37',\n",
       " '_38',\n",
       " '_39',\n",
       " '_51',\n",
       " '_53',\n",
       " '_54',\n",
       " '_55',\n",
       " '_56',\n",
       " '_57',\n",
       " '_59',\n",
       " '__',\n",
       " '___',\n",
       " '__builtin__',\n",
       " '__builtins__',\n",
       " '__doc__',\n",
       " '__loader__',\n",
       " '__name__',\n",
       " '__package__',\n",
       " '__session__',\n",
       " '__spec__',\n",
       " '_dh',\n",
       " '_i',\n",
       " '_i1',\n",
       " '_i10',\n",
       " '_i11',\n",
       " '_i12',\n",
       " '_i13',\n",
       " '_i14',\n",
       " '_i15',\n",
       " '_i16',\n",
       " '_i17',\n",
       " '_i18',\n",
       " '_i19',\n",
       " '_i2',\n",
       " '_i20',\n",
       " '_i21',\n",
       " '_i22',\n",
       " '_i23',\n",
       " '_i24',\n",
       " '_i25',\n",
       " '_i26',\n",
       " '_i27',\n",
       " '_i28',\n",
       " '_i29',\n",
       " '_i3',\n",
       " '_i30',\n",
       " '_i31',\n",
       " '_i32',\n",
       " '_i33',\n",
       " '_i34',\n",
       " '_i35',\n",
       " '_i36',\n",
       " '_i37',\n",
       " '_i38',\n",
       " '_i39',\n",
       " '_i4',\n",
       " '_i40',\n",
       " '_i41',\n",
       " '_i42',\n",
       " '_i43',\n",
       " '_i44',\n",
       " '_i45',\n",
       " '_i46',\n",
       " '_i47',\n",
       " '_i48',\n",
       " '_i49',\n",
       " '_i5',\n",
       " '_i50',\n",
       " '_i51',\n",
       " '_i52',\n",
       " '_i53',\n",
       " '_i54',\n",
       " '_i55',\n",
       " '_i56',\n",
       " '_i57',\n",
       " '_i58',\n",
       " '_i59',\n",
       " '_i6',\n",
       " '_i60',\n",
       " '_i7',\n",
       " '_i8',\n",
       " '_i9',\n",
       " '_ih',\n",
       " '_ii',\n",
       " '_iii',\n",
       " '_oh',\n",
       " 'a',\n",
       " 'add_more',\n",
       " 'b',\n",
       " 'exit',\n",
       " 'fellow',\n",
       " 'foo',\n",
       " 'get_ipython',\n",
       " 'greet',\n",
       " 'interning',\n",
       " 'm',\n",
       " 'mylist',\n",
       " 'n',\n",
       " 'name',\n",
       " 'open',\n",
       " 'python_version',\n",
       " 'quit',\n",
       " 'string',\n",
       " 'sys',\n",
       " 'test']"
      ]
     },
     "execution_count": 60,
     "metadata": {},
     "output_type": "execute_result"
    }
   ],
   "source": [
    "import sys\n",
    "dir()"
   ]
  },
  {
   "cell_type": "markdown",
   "id": "a9363bab-d902-4cc9-b0c0-b807fab7e463",
   "metadata": {},
   "source": [
    "# 아래 링크에 들어가서 그 이후 implicit assignment 읽어볼 것\n",
    "https://realpython.com/python-assignment-operator/#use-a-decorator"
   ]
  },
  {
   "cell_type": "markdown",
   "id": "c7f2b6aa-847e-416f-8daa-cc7a44694015",
   "metadata": {},
   "source": [
    "## 연산자 우선순위"
   ]
  },
  {
   "cell_type": "code",
   "execution_count": null,
   "id": "81179e5d-fe27-4ea1-acb2-504b8af361dc",
   "metadata": {},
   "outputs": [],
   "source": [
    "def mergeTwoLists(self, l1: ListNode, l2: ListNode) -> ListNode:\n",
    "    if (not l1) or (l2 and (l1.val > l2.val)):  # 연산자 우선순위, 비교 > not > and > or\n",
    "        l1, l2 = l2, l1\n",
    "    if l1:\n",
    "        l1.next = self.mergeTwoLists(l1.next, l2)\n",
    "    return l1"
   ]
  },
  {
   "cell_type": "code",
   "execution_count": 3,
   "id": "de3d662f-10db-42a9-8b50-8f96038094dd",
   "metadata": {
    "tags": []
   },
   "outputs": [
    {
     "data": {
      "text/plain": [
       "-81"
      ]
     },
     "execution_count": 3,
     "metadata": {},
     "output_type": "execute_result"
    }
   ],
   "source": [
    "-3**4  # 연산자 우선순위, 지수 > 음수 > 곱셈/나눗셈/나머지"
   ]
  },
  {
   "cell_type": "code",
   "execution_count": 4,
   "id": "c1c1467b-654a-4cd4-b260-2146cc4fdd5b",
   "metadata": {
    "tags": []
   },
   "outputs": [
    {
     "data": {
      "text/plain": [
       "-9.0"
      ]
     },
     "execution_count": 4,
     "metadata": {},
     "output_type": "execute_result"
    }
   ],
   "source": [
    "-3**4/9"
   ]
  },
  {
   "cell_type": "markdown",
   "id": "9b5b9534-ca27-4c31-8cbf-3b61c611e999",
   "metadata": {
    "tags": []
   },
   "source": [
    "# 다시 문제로"
   ]
  },
  {
   "cell_type": "code",
   "execution_count": 1,
   "id": "de14a871-ca46-4242-b672-7004872a7456",
   "metadata": {
    "tags": []
   },
   "outputs": [],
   "source": [
    "# Definition for singly-linked list.\n",
    "class ListNode:\n",
    "    def __init__(self, x):\n",
    "        self.val = x\n",
    "        self.next = None\n",
    "\n",
    "def mergeTwoLists(l1: ListNode, l2: ListNode) -> ListNode:\n",
    "    if (not l1) or (l2 and l1.val > l2.val): # l1이 l2보다 크고 l2가 None이 아니다 또는 l1이 None이면\n",
    "        l1, l2 = l2, l1                      # l1과 l2를 스왑한다.\n",
    "    if l1:\n",
    "        l1.next = mergeTwoLists(l1.next, l2)\n",
    "    return l1\n",
    "\n",
    "n1 = ListNode(1)\n",
    "n2 = ListNode(2)\n",
    "n3 = ListNode(4)\n",
    "\n",
    "n4 = ListNode(1)\n",
    "n5 = ListNode(3)\n",
    "n6 = ListNode(4)\n",
    "\n",
    "n1.next = n2\n",
    "n2.next = n3\n",
    "\n",
    "n4.next = n5\n",
    "n5.next = n6\n",
    "\n",
    "l1 = n1\n",
    "l2 = n4"
   ]
  },
  {
   "cell_type": "code",
   "execution_count": 6,
   "id": "0ce31084-7430-40f2-9eb9-264afb074617",
   "metadata": {
    "tags": []
   },
   "outputs": [
    {
     "data": {
      "text/plain": [
       "True"
      ]
     },
     "execution_count": 6,
     "metadata": {},
     "output_type": "execute_result"
    }
   ],
   "source": [
    "temp = None\n",
    "not temp"
   ]
  },
  {
   "cell_type": "markdown",
   "id": "e2b3aa56-67d2-4830-a850-9ccc8d18e030",
   "metadata": {},
   "source": [
    "# chatGPT 순화 버전"
   ]
  },
  {
   "cell_type": "code",
   "execution_count": 4,
   "id": "ba1e398d-02f5-45e1-8c3b-6bec3c15feec",
   "metadata": {},
   "outputs": [],
   "source": [
    "class ListNode:\n",
    "    def __init__(self, x):\n",
    "        self.val = x\n",
    "        self.next = None\n",
    "\n",
    "def mergeTwoLists(l1: ListNode, l2: ListNode) -> ListNode:\n",
    "    if not l1:    # l1이 None이면\n",
    "        return l2\n",
    "    if not l2:    # l2가 None이면 \n",
    "        return l1\n",
    "\n",
    "    # 현재 노드로 더 작은 노드를 선택\n",
    "    if l1.val < l2.val:\n",
    "        l1.next = mergeTwoLists(l1.next, l2)\n",
    "        return l1\n",
    "    else:\n",
    "        l2.next = mergeTwoLists(l1, l2.next)\n",
    "        return l2"
   ]
  },
  {
   "cell_type": "code",
   "execution_count": 12,
   "id": "c2ebab6c-cbcd-4e41-9700-46cd8c138460",
   "metadata": {
    "tags": []
   },
   "outputs": [],
   "source": [
    "class ListNode:\n",
    "    def __init__(self, x):\n",
    "        self.val = x\n",
    "        self.next = None\n",
    "\n",
    "def mergeTwoLists(l1: ListNode, l2: ListNode) -> ListNode:\n",
    "    # 둘 중 하나가 비어있을 때, 비어있지 않은 리스트를 반환\n",
    "    if not l1:   # l1이 None이면\n",
    "        return l2\n",
    "    if not l2:   # l2가 None이면\n",
    "        return l1\n",
    "\n",
    "    # l1의 값이 더 작게 유지\n",
    "    if l1.val > l2.val: # 만약 l1의 값이 l2의 값보다 크다면, 두 리스트를 스왑\n",
    "        l1, l2 = l2, l1\n",
    "\n",
    "    # 재귀 호출\n",
    "    l1.next = mergeTwoLists(l1.next, l2)  # l1.next에 현재 l1.next와 l2를 병합한 결과를 저장\n",
    "\n",
    "    return l1\n",
    "\n",
    "n1, n2, n3  = ListNode(1), ListNode(2), ListNode(4)\n",
    "n4, n5, n6 = ListNode(1), ListNode(3), ListNode(4)\n",
    "n1.next, n2.next = n2, n3\n",
    "n4.next, n5.next = n5, n6\n",
    "l1, l2 = n1, n4"
   ]
  },
  {
   "cell_type": "code",
   "execution_count": 13,
   "id": "2e0bb5c2-65d7-4284-a08b-400d38ffcc06",
   "metadata": {
    "tags": []
   },
   "outputs": [
    {
     "data": {
      "text/plain": [
       "<__main__.ListNode at 0x7efc66c0a510>"
      ]
     },
     "execution_count": 13,
     "metadata": {},
     "output_type": "execute_result"
    }
   ],
   "source": [
    "mergeTwoLists(l1, l2)"
   ]
  },
  {
   "cell_type": "code",
   "execution_count": null,
   "id": "d90c0fdd-ffb3-4ac9-b2aa-38ad554fe208",
   "metadata": {},
   "outputs": [],
   "source": [
    "class Solution:\n",
    "    def mergeTwoLists(self, list1: Optional[ListNode], list2: Optional[ListNode]) -> Optional[ListNode]:\n",
    "        cur = dummy = ListNode()\n",
    "        while list1 and list2:               \n",
    "            if list1.val < list2.val:\n",
    "                cur.next = list1\n",
    "                list1, cur = list1.next, list1\n",
    "            else:\n",
    "                cur.next = list2\n",
    "                list2, cur = list2.next, list2\n",
    "                \n",
    "        if list1 or list2:\n",
    "            cur.next = list1 if list1 else list2\n",
    "            \n",
    "        return dummy.next"
   ]
  },
  {
   "cell_type": "markdown",
   "id": "39e6fd9c-4be5-4c88-b7cc-462c33c90cb4",
   "metadata": {},
   "source": [
    "# 문15 역순 연결리스트 e\n",
    "https://leetcode.com/problems/reverse-linked-list/\n"
   ]
  },
  {
   "cell_type": "code",
   "execution_count": 14,
   "id": "81612322-da79-4bb1-82aa-b23506d68545",
   "metadata": {
    "tags": []
   },
   "outputs": [],
   "source": [
    "class ListNode:\n",
    "    def __init__(self, val=0, next=None):\n",
    "        self.val = val\n",
    "        self.next = next"
   ]
  },
  {
   "cell_type": "code",
   "execution_count": 16,
   "id": "8476a248-f1d7-469f-8ac0-319babc6bb6c",
   "metadata": {
    "tags": []
   },
   "outputs": [],
   "source": [
    "def reverseList(head: ListNode) -> ListNode:\n",
    "    def reverse(node: ListNode, prev: ListNode = None):\n",
    "        if not node:\n",
    "            return prev\n",
    "        next, node.next = node.next, prev\n",
    "        return reverse(next, node)\n",
    "\n",
    "    return reverse(head)"
   ]
  },
  {
   "cell_type": "code",
   "execution_count": 17,
   "id": "7fe966ba-6d83-4fe3-a345-d13ef390695e",
   "metadata": {
    "tags": []
   },
   "outputs": [
    {
     "data": {
      "text/plain": [
       "<__main__.ListNode at 0x7efc66c0cf50>"
      ]
     },
     "execution_count": 17,
     "metadata": {},
     "output_type": "execute_result"
    }
   ],
   "source": [
    "head = ListNode(1, ListNode(2, ListNode(3, ListNode(4))))\n",
    "\n",
    "reverseList(head)"
   ]
  },
  {
   "cell_type": "code",
   "execution_count": 20,
   "id": "82793b2c-2d01-41e8-99fe-1aa44f745eac",
   "metadata": {
    "tags": []
   },
   "outputs": [],
   "source": [
    "def reverseList(head: ListNode) -> ListNode:\n",
    "    node, prev = head, None\n",
    "\n",
    "    while node:\n",
    "        next, node.next = node.next, prev\n",
    "        prev, node = node, next\n",
    "\n",
    "    return prev"
   ]
  },
  {
   "cell_type": "code",
   "execution_count": 21,
   "id": "d9b708df-18e3-4927-a99b-1687e02bfabf",
   "metadata": {
    "tags": []
   },
   "outputs": [
    {
     "data": {
      "text/plain": [
       "<__main__.ListNode at 0x7efc66bfce10>"
      ]
     },
     "execution_count": 21,
     "metadata": {},
     "output_type": "execute_result"
    }
   ],
   "source": [
    "head = ListNode(1, ListNode(2, ListNode(3, ListNode(4))))\n",
    "\n",
    "reverseList(head)"
   ]
  },
  {
   "cell_type": "code",
   "execution_count": 22,
   "id": "34bd67c7-2acd-4e79-aad2-1091ce59c531",
   "metadata": {
    "tags": []
   },
   "outputs": [
    {
     "data": {
      "text/plain": [
       "1"
      ]
     },
     "execution_count": 22,
     "metadata": {},
     "output_type": "execute_result"
    }
   ],
   "source": [
    "head.val"
   ]
  },
  {
   "cell_type": "code",
   "execution_count": 23,
   "id": "a13c07f5-0789-4744-bcfc-b49af5445b5c",
   "metadata": {
    "tags": []
   },
   "outputs": [
    {
     "ename": "AttributeError",
     "evalue": "'NoneType' object has no attribute 'val'",
     "output_type": "error",
     "traceback": [
      "\u001b[0;31m---------------------------------------------------------------------------\u001b[0m",
      "\u001b[0;31mAttributeError\u001b[0m                            Traceback (most recent call last)",
      "Cell \u001b[0;32mIn[23], line 1\u001b[0m\n\u001b[0;32m----> 1\u001b[0m head\u001b[38;5;241m.\u001b[39mnext\u001b[38;5;241m.\u001b[39mval\n",
      "\u001b[0;31mAttributeError\u001b[0m: 'NoneType' object has no attribute 'val'"
     ]
    }
   ],
   "source": [
    "head.next.val"
   ]
  },
  {
   "cell_type": "markdown",
   "id": "d691b903-d461-482e-b7f8-a3579d84fb84",
   "metadata": {},
   "source": [
    "# 문19 역순 연결리스트 e\n",
    "https://leetcode.com/problems/reverse-linked-list"
   ]
  },
  {
   "cell_type": "code",
   "execution_count": null,
   "id": "dd978917-32e7-470e-b84b-ca4948cefbfd",
   "metadata": {},
   "outputs": [],
   "source": [
    "Given the head of a singly linked list, reverse the list, and return the reversed list.\n",
    "\n",
    "Example 1:\n",
    "\n",
    "Input: head = [1,2,3,4,5]\n",
    "Output: [5,4,3,2,1]"
   ]
  },
  {
   "cell_type": "code",
   "execution_count": null,
   "id": "5b27e05d-e0be-4886-afba-d4decf194507",
   "metadata": {},
   "outputs": [],
   "source": [
    "# Definition for singly-linked list.\n",
    "# class ListNode:\n",
    "#     def __init__(self, val=0, next=None):\n",
    "#         self.val = val\n",
    "#         self.next = next\n",
    "class Solution:\n",
    "    def reverseList(self, head: Optional[ListNode]) -> Optional[ListNode]:\n",
    "        "
   ]
  },
  {
   "cell_type": "markdown",
   "id": "fc662f8e-133c-4c65-a74e-98064b8a9d42",
   "metadata": {},
   "source": [
    "# 문16 두 수의 덧셈 m\n",
    "https://leetcode.com/problems/add-two-numbers"
   ]
  },
  {
   "cell_type": "code",
   "execution_count": null,
   "id": "579885ac-5561-4597-adbc-8cc2a0637e1d",
   "metadata": {},
   "outputs": [],
   "source": [
    "You are given two non-empty linked lists representing two non-negative integers. \n",
    "The digits are stored in reverse order, and each of their nodes contains a single digit. \n",
    "Add the two numbers and return the sum as a linked list.\n",
    "\n",
    "You may assume the two numbers do not contain any leading zero, except the number 0 itself.\n",
    "\n",
    "Input: l1 = [2,4,3], l2 = [5,6,4]\n",
    "Output: [7,0,8]\n",
    "Explanation: 342 + 465 = 807.\n",
    "\n",
    "# Definition for singly-linked list.\n",
    "# class ListNode:\n",
    "#     def __init__(self, val=0, next=None):\n",
    "#         self.val = val\n",
    "#         self.next = next\n",
    "class Solution:\n",
    "    def addTwoNumbers(self, l1: Optional[ListNode], l2: Optional[ListNode]) -> Optional[ListNode]:\n",
    "        "
   ]
  },
  {
   "cell_type": "markdown",
   "id": "c69f6976-db78-49cf-b6ff-056e739f3075",
   "metadata": {},
   "source": [
    "# 문17 페어의 노드 스왑 m\n",
    "https://leetcode.com/problems/swap-nodes-in-pairs"
   ]
  },
  {
   "cell_type": "code",
   "execution_count": null,
   "id": "3641deec-b0db-4da9-9d3a-fd1774faa093",
   "metadata": {},
   "outputs": [],
   "source": [
    "Given a linked list, swap every two adjacent nodes and return its head. \n",
    "You must solve the problem without modifying the values in the list's nodes \n",
    "(i.e., only nodes themselves may be changed.)\n",
    "\n",
    "Input: head = [1,2,3,4]\n",
    "Output: [2,1,4,3]\n",
    "\n",
    "# Definition for singly-linked list.\n",
    "# class ListNode:\n",
    "#     def __init__(self, val=0, next=None):\n",
    "#         self.val = val\n",
    "#         self.next = next\n",
    "class Solution:\n",
    "    def swapPairs(self, head: Optional[ListNode]) -> Optional[ListNode]:\n",
    "        "
   ]
  },
  {
   "cell_type": "markdown",
   "id": "fd838249-f23e-4d89-996e-d7cf6fee1208",
   "metadata": {},
   "source": [
    "# 문18 홀짝 연결리스트 m\n",
    "https://leetcode.com/problems/odd-even-linked-list"
   ]
  },
  {
   "cell_type": "code",
   "execution_count": null,
   "id": "7e953bb1-808b-449c-a09e-b1f2ab7e5327",
   "metadata": {},
   "outputs": [],
   "source": [
    "Given the head of a singly linked list, \n",
    "group all the nodes with odd indices together followed by the nodes with even indices, \n",
    "and return the reordered list.\n",
    "\n",
    "The first node is considered odd, and the second node is even, and so on.\n",
    "Note that the relative order inside both the even and odd groups should remain as it was in the input.\n",
    "You must solve the problem in O(1) extra space complexity and O(n) time complexity.\n",
    "\n",
    "\n",
    "Example 1:\n",
    "Input: head = [1,2,3,4,5]\n",
    "Output: [1,3,5,2,4]\n",
    "\n",
    "# Definition for singly-linked list.\n",
    "# class ListNode:\n",
    "#     def __init__(self, val=0, next=None):\n",
    "#         self.val = val\n",
    "#         self.next = next\n",
    "class Solution:\n",
    "    def oddEvenList(self, head: Optional[ListNode]) -> Optional[ListNode]:\n",
    "        "
   ]
  }
 ],
 "metadata": {
  "kernelspec": {
   "display_name": "Python 3 (ipykernel)",
   "language": "python",
   "name": "python3"
  },
  "language_info": {
   "codemirror_mode": {
    "name": "ipython",
    "version": 3
   },
   "file_extension": ".py",
   "mimetype": "text/x-python",
   "name": "python",
   "nbconvert_exporter": "python",
   "pygments_lexer": "ipython3",
   "version": "3.11.0"
  }
 },
 "nbformat": 4,
 "nbformat_minor": 5
}
