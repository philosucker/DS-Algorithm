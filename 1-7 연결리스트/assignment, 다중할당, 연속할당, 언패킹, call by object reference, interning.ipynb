{
 "cells": [
  {
   "cell_type": "markdown",
   "id": "4f0ffbba-4d6f-4c82-9160-a1c4bcc9d648",
   "metadata": {},
   "source": [
    "# 다중할당, 연속할당"
   ]
  },
  {
   "cell_type": "code",
   "execution_count": 1,
   "id": "d0555472-aaef-4f92-80d0-cc30b405cfed",
   "metadata": {
    "tags": []
   },
   "outputs": [
    {
     "data": {
      "text/plain": [
       "(2, 1, 1)"
      ]
     },
     "execution_count": 1,
     "metadata": {},
     "output_type": "execute_result"
    }
   ],
   "source": [
    "a, b = 1, 2\n",
    "temp = a\n",
    "a = b\n",
    "b = temp\n",
    "a, b, temp"
   ]
  },
  {
   "cell_type": "code",
   "execution_count": 1,
   "id": "2d50da8f-0e07-4e1d-b2e3-761ecb2b851e",
   "metadata": {
    "tags": []
   },
   "outputs": [
    {
     "ename": "NameError",
     "evalue": "name 'temp' is not defined",
     "output_type": "error",
     "traceback": [
      "\u001b[0;31m---------------------------------------------------------------------------\u001b[0m",
      "\u001b[0;31mNameError\u001b[0m                                 Traceback (most recent call last)",
      "Cell \u001b[0;32mIn[1], line 2\u001b[0m\n\u001b[1;32m      1\u001b[0m a, b \u001b[38;5;241m=\u001b[39m \u001b[38;5;241m1\u001b[39m, \u001b[38;5;241m2\u001b[39m\n\u001b[0;32m----> 2\u001b[0m temp \u001b[38;5;241m=\u001b[39m a \u001b[38;5;241m=\u001b[39m b \u001b[38;5;241m=\u001b[39m temp \u001b[38;5;66;03m# temp 값이 없으므로 에러\u001b[39;00m\n\u001b[1;32m      3\u001b[0m a, b, temp\n",
      "\u001b[0;31mNameError\u001b[0m: name 'temp' is not defined"
     ]
    }
   ],
   "source": [
    "a, b = 1, 2\n",
    "temp = a = b = temp # temp 값이 없으므로 에러\n",
    "a, b, temp"
   ]
  },
  {
   "cell_type": "markdown",
   "id": "b5ee59b1-f2aa-4acf-b1e7-d9a6dd4b36dc",
   "metadata": {
    "tags": []
   },
   "source": [
    "파이썬에서 다중할당(multiple assignment)은 어떤 순서로 일어나나?  \n",
    "  \n",
    "자료구조 책 8장 3연결리스트 참고"
   ]
  },
  {
   "cell_type": "code",
   "execution_count": 2,
   "id": "d0cb5950-2e66-4e5d-b260-26ae3c4eb7e4",
   "metadata": {
    "tags": []
   },
   "outputs": [
    {
     "data": {
      "text/plain": [
       "(1, 1, 1)"
      ]
     },
     "execution_count": 2,
     "metadata": {},
     "output_type": "execute_result"
    }
   ],
   "source": [
    "a, b = 1, 2\n",
    "temp = a \n",
    "a = b = temp  # (맨 왼쪽부터 오른쪽 순서로) a = temp, b = temp\n",
    "a, b, temp"
   ]
  },
  {
   "cell_type": "code",
   "execution_count": 1,
   "id": "e6baee85-e3d6-4b76-97f7-3532fed9d656",
   "metadata": {
    "tags": []
   },
   "outputs": [
    {
     "data": {
      "text/plain": [
       "(2, 2, 2)"
      ]
     },
     "execution_count": 1,
     "metadata": {},
     "output_type": "execute_result"
    }
   ],
   "source": [
    "a, b = 1, 2\n",
    "temp = a = b # temp = b, a = b\n",
    "a, b, temp"
   ]
  },
  {
   "cell_type": "markdown",
   "id": "1f5207dd-0718-435b-8ef7-33b403bcc34c",
   "metadata": {},
   "source": [
    "# 언패킹 응용"
   ]
  },
  {
   "cell_type": "code",
   "execution_count": 2,
   "id": "860b589a-a5aa-478a-8578-8a7d4e0835ee",
   "metadata": {
    "tags": []
   },
   "outputs": [
    {
     "data": {
      "text/plain": [
       "([3, 4], [1, 2])"
      ]
     },
     "execution_count": 2,
     "metadata": {},
     "output_type": "execute_result"
    }
   ],
   "source": [
    "a = [1,2]\n",
    "b = [3,4]\n",
    "\n",
    "a, b = b, a\n",
    "a, b"
   ]
  },
  {
   "cell_type": "markdown",
   "id": "3eeccf84-cc29-42c1-a51e-97828931fbdd",
   "metadata": {},
   "source": [
    "위 코드는 아래와 같다"
   ]
  },
  {
   "cell_type": "code",
   "execution_count": 3,
   "id": "ef3179fb-3fd7-4991-8cfe-f6c4181d33f0",
   "metadata": {
    "tags": []
   },
   "outputs": [
    {
     "data": {
      "text/plain": [
       "([3, 4], [1, 2], [1, 2])"
      ]
     },
     "execution_count": 3,
     "metadata": {},
     "output_type": "execute_result"
    }
   ],
   "source": [
    "a = [1,2]\n",
    "b = [3,4]\n",
    " \n",
    "temp = a  # temp = [1, 2]    a를 b로 바꾸고, b를 a로 바꿔야 하니까, 기존 a를 일단 어디다 담아두고\n",
    "a = b     # a = [3, 4]       a를 먼저 b로 바꾼 다음\n",
    "b = temp  # b = [1, 2]       b를 기존 a로 바꾼다\n",
    "a, b, temp"
   ]
  },
  {
   "cell_type": "markdown",
   "id": "8aaf9589-4b40-4325-904a-1743dc705a14",
   "metadata": {},
   "source": [
    "# assignment 응용"
   ]
  },
  {
   "cell_type": "code",
   "execution_count": 12,
   "id": "77a6fd10-0107-4473-8f66-193dfb896041",
   "metadata": {
    "tags": []
   },
   "outputs": [
    {
     "data": {
      "text/plain": [
       "([3, 4], [0, 2], [0, 2])"
      ]
     },
     "execution_count": 12,
     "metadata": {},
     "output_type": "execute_result"
    }
   ],
   "source": [
    "a = [1,2]\n",
    "b = [3,4]\n",
    "\n",
    "temp = a    # temp = [1, 2]\n",
    "a = b       # a = [3, 4]\n",
    "b = temp    # b = [1, 2]\n",
    "temp[0] = 0    # temp = [0, 2]   temp의 객체 안의 원소를 바꾸면 b도 영향\n",
    "a, b, temp"
   ]
  },
  {
   "cell_type": "code",
   "execution_count": 13,
   "id": "7965ff1c-5572-4652-844c-66da78cbe46b",
   "metadata": {
    "tags": []
   },
   "outputs": [
    {
     "data": {
      "text/plain": [
       "([0, 4], [1, 2], [1, 2])"
      ]
     },
     "execution_count": 13,
     "metadata": {},
     "output_type": "execute_result"
    }
   ],
   "source": [
    "a = [1,2]\n",
    "b = [3,4]\n",
    "\n",
    "temp = a    # temp = [1, 2]  temp는 끝\n",
    "a = b       # a = [3, 4]     a 도 끝\n",
    "b[0] = 0    # b = [0, 4]     b의 객체 안의 원소를 바꾸면 a도 영향\n",
    "b = temp    # b = [1, 2]     그런데 b를 아예 다른 객체로 바꾸면 a는 그대로\n",
    "a, b, temp"
   ]
  },
  {
   "cell_type": "markdown",
   "id": "6c8e5019-c04c-44ea-aa95-08b5a8f8cc48",
   "metadata": {},
   "source": [
    "# call by object reference (call by assginment)\n",
    "\n",
    "https://www.geeksforgeeks.org/is-python-call-by-reference-or-call-by-value/?ref=ml_lbp"
   ]
  },
  {
   "cell_type": "markdown",
   "id": "d52d52be-6ba4-4175-9e64-8d55fa00b3eb",
   "metadata": {},
   "source": [
    "Python utilizes a system, which is known as “Call by Object Reference” or “Call by assignment”. \n",
    "\n",
    "    In the event that you pass (immutable) arguments \n",
    "    like whole numbers, strings or tuples to a function, \n",
    "    the passing is like call-by-value 값에 의한 호출\n",
    "    \n",
    "        because you can not change \n",
    "        the value of the immutable objects being passed to the function. \n",
    "\n",
    "    Whereas passing mutable objects \n",
    "    can be considered as call by reference 참조에 의한 호출 \n",
    "    \n",
    "        because when their values are changed inside the function, \n",
    "        then it will also be reflected outside the function."
   ]
  },
  {
   "cell_type": "code",
   "execution_count": 7,
   "id": "6c6ded30-8df2-43c6-8078-3739a12a726c",
   "metadata": {
    "tags": []
   },
   "outputs": [
    {
     "name": "stdout",
     "output_type": "stream",
     "text": [
      "mutable variable outside function: Geeks\n",
      "id(string) : 139972472668208\n",
      "\n",
      "mutable variable outside function: Geeksfor\n",
      "id(string) : 139972472614576\n",
      "\n",
      "mutable variable inside function GeeksforGeeks\n",
      "id(string) : 139972472604336\n",
      "\n",
      "mutable variable outside function: Geeksfor\n",
      "id(string) : 139972472614576\n",
      "\n"
     ]
    }
   ],
   "source": [
    "string = \"Geeks\"  # immutable object cannot be changed once created. \n",
    "print(\"mutable variable outside function:\", string)\n",
    "print(f'id(string) : {id(string)}'); print()  \n",
    "# so if you want to change value referenced by same variable name, new assignment need\n",
    "\n",
    "    # 참고\n",
    "    # name = \"changho\"\n",
    "    # name = name.replace(\"chang\", \"lee\")\n",
    "    # name\n",
    "\n",
    "string = \"Geeksfor\"\n",
    "print(\"mutable variable outside function:\", string)\n",
    "print(f'id(string) : {id(string)}'); print()  \n",
    "\n",
    "def test(string):\n",
    "    # call by value \n",
    "    string = \"GeeksforGeeks\"  # immutable object cannot be changed once created. \n",
    "        # so in this case, existing variable(string) is assigned for the new string\n",
    "    print(\"mutable variable inside function\", string)\n",
    "    print(f'id(string) : {id(string)}')\n",
    "     \n",
    "test(string)\n",
    "print()\n",
    "print(\"mutable variable outside function:\", string)\n",
    "print(f'id(string) : {id(string)}'); print()  "
   ]
  },
  {
   "cell_type": "code",
   "execution_count": 10,
   "id": "34cb8831-0f2c-4da6-b2a4-4265ef26c0ed",
   "metadata": {
    "tags": []
   },
   "outputs": [
    {
     "name": "stdout",
     "output_type": "stream",
     "text": [
      "mutable variable outside function: [10, 20, 30, 40]\n",
      "id(mylist) : 139972472917120\n",
      "\n",
      "mutable variable outside function: [20, 30, 40]\n",
      "id(mylist) : 139972472917120\n",
      "\n",
      "mutable variable inside function [20, 30, 40, 50]\n",
      "id(list) : 139972472917120\n",
      "\n",
      "mutable variable outside function: [20, 30, 40, 50]\n",
      "id(mylist) : 139972472917120\n",
      "\n"
     ]
    }
   ],
   "source": [
    "mylist = [10,20,30,40]  \n",
    "print(\"mutable variable outside function:\", mylist)\n",
    "print(f'id(mylist) : {id(mylist)}'); print()\n",
    "\n",
    "mylist.pop(0)   # mutable object can be changed in place\n",
    "\n",
    "print(\"mutable variable outside function:\", mylist)\n",
    "print(f'id(mylist) : {id(mylist)}'); print()\n",
    "\n",
    "def add_more(list):\n",
    "    # call by reference\n",
    "    list.append(50)    # mutable object can be changed in place     \n",
    "        # so in this case, argument(list) can reference variable outside function(mylist)\n",
    "    print(\"mutable variable inside function\", list)\n",
    "    print(f'id(list) : {id(list)}')\n",
    " \n",
    "add_more(mylist)\n",
    "print()\n",
    "print(\"mutable variable outside function:\", mylist)\n",
    "print(f'id(mylist) : {id(mylist)}'); print()"
   ]
  },
  {
   "cell_type": "markdown",
   "id": "b80c1128-7816-4067-b829-59437e622cdc",
   "metadata": {},
   "source": [
    "#### immutable은  값을 변경할 수 없으므로,\n",
    "#### multiple(chain) assignment를 해주지 않아도, 서로 다른 변수들로 같은 객체를 참조하는 게 가능하다."
   ]
  },
  {
   "cell_type": "code",
   "execution_count": 13,
   "id": "067e051b-8cb0-4c79-8aa2-ac45b0319f96",
   "metadata": {
    "tags": []
   },
   "outputs": [
    {
     "name": "stdout",
     "output_type": "stream",
     "text": [
      "immutable\n",
      "139972962953904\n",
      "139972962953904\n",
      "True\n"
     ]
    }
   ],
   "source": [
    "a = \"first\" # immutable\n",
    "b = \"first\"\n",
    "\n",
    "print('immutable')\n",
    "print(id(a)) # return the location where the variable references\n",
    "print(id(b))\n",
    "print(a is b) # same location"
   ]
  },
  {
   "cell_type": "code",
   "execution_count": 14,
   "id": "cb756b9a-6a0d-41f7-9c29-a92d9d67e58e",
   "metadata": {
    "tags": []
   },
   "outputs": [
    {
     "name": "stdout",
     "output_type": "stream",
     "text": [
      "immutable\n",
      "139972960205872\n",
      "139972960205872\n",
      "True\n"
     ]
    }
   ],
   "source": [
    "a = b = \"second\" # immutable\n",
    "\n",
    "print('immutable')\n",
    "print(id(a)) # return the location where the variable references\n",
    "print(id(b))\n",
    "print(a is b) # same location"
   ]
  },
  {
   "cell_type": "markdown",
   "id": "ceec6421-4a29-46fd-901b-35fdf270dae4",
   "metadata": {},
   "source": [
    "#### 반면, mutable은 값을 변경할 수 있으므로, \n",
    "#### 서로 다른 변수들에 같은 값을 가진 객체를 독립적으로 할당을 하면, 변수들은 서로 다른 메모리 주소를 참조하게 된다\n"
   ]
  },
  {
   "cell_type": "code",
   "execution_count": 48,
   "id": "594e0a91-0a47-4dd1-94ca-dae052463d5f",
   "metadata": {
    "tags": []
   },
   "outputs": [
    {
     "name": "stdout",
     "output_type": "stream",
     "text": [
      "mutable\n",
      "139652139711680\n",
      "139651762065408\n",
      "False\n"
     ]
    }
   ],
   "source": [
    "a = [10, 20, 30] # mutable\n",
    "b = [10, 20, 30]\n",
    "\n",
    "print('mutable')\n",
    "print(id(a))\n",
    "print(id(b)) \n",
    "print(a is b) # location is not same"
   ]
  },
  {
   "cell_type": "markdown",
   "id": "9312e974-4cb0-4abe-9629-53d8603d2b90",
   "metadata": {},
   "source": [
    "#### 서로 다른 변수들로, 같은 객체를 참조시키려면 multiple assignment(chain assignment)를 해줘야 한다"
   ]
  },
  {
   "cell_type": "code",
   "execution_count": 49,
   "id": "50cac39d-f2a7-42da-8611-46c8a2c977ce",
   "metadata": {
    "tags": []
   },
   "outputs": [
    {
     "name": "stdout",
     "output_type": "stream",
     "text": [
      "mutable\n",
      "139652204075072\n",
      "139652204075072\n",
      "True\n"
     ]
    }
   ],
   "source": [
    "a = b = [10, 20, 30] # mutable\n",
    "\n",
    "print('mutable')\n",
    "print(id(a))\n",
    "print(id(b)) \n",
    "print(a is b) # location is not same"
   ]
  },
  {
   "cell_type": "markdown",
   "id": "ebb20624-73be-452c-927e-de17de5d8681",
   "metadata": {},
   "source": [
    "# 정수형은 immutable이지만 조금 다르다\n",
    "https://realpython.com/python-assignment-operator/#making-multiple-variables-refer-to-the-same-object"
   ]
  },
  {
   "cell_type": "code",
   "execution_count": 15,
   "id": "888cdfd0-767f-4e7d-828f-a477960b378b",
   "metadata": {
    "tags": []
   },
   "outputs": [
    {
     "name": "stdout",
     "output_type": "stream",
     "text": [
      "independent assignment: True\n"
     ]
    }
   ],
   "source": [
    "n = 42\n",
    "m = 42\n",
    "# 정수가 작은 경우 독립할당을 해도 같은 메모리 주소를 참조한다\n",
    "print(f'independent assignment: {id(n) == id(m)}')"
   ]
  },
  {
   "cell_type": "code",
   "execution_count": 16,
   "id": "23b6d648-2f54-4023-a637-8072b914a486",
   "metadata": {
    "tags": []
   },
   "outputs": [
    {
     "name": "stdout",
     "output_type": "stream",
     "text": [
      "independent assignment: False\n",
      "multiple assignment: True\n"
     ]
    }
   ],
   "source": [
    "n = 300\n",
    "m = 300\n",
    "# 정수가 큰 경우 독립할당을 하면 참조 메모리 주소가 달라진다\n",
    "print(f'independent assignment: {id(n) == id(m)}')\n",
    "\n",
    "n = m = 300\n",
    "# 연속할당을 해주면 큰 정수여도 같은 메모리를 참조한다\n",
    "print(f'multiple assignment: {id(n) == id(m)}')"
   ]
  },
  {
   "cell_type": "markdown",
   "id": "279efc8b-0229-4880-96b3-6d67af60aee1",
   "metadata": {},
   "source": [
    "# 위 기능을 interning 이라고 한다"
   ]
  },
  {
   "cell_type": "code",
   "execution_count": 17,
   "id": "b460cc75-f743-43d9-997f-07c8cde74c6c",
   "metadata": {
    "tags": []
   },
   "outputs": [
    {
     "name": "stdout",
     "output_type": "stream",
     "text": [
      "Interning interval for Python 3.11.0 is: [-5 to 256]\n"
     ]
    }
   ],
   "source": [
    "from platform import python_version\n",
    "\n",
    "interning = [\n",
    "    x\n",
    "    for x, y in zip(range(-10, 500), range(-10, 500))\n",
    "    if x is y\n",
    "]\n",
    "\n",
    "print(\n",
    "    f\"Interning interval for Python {python_version()} is:\"\n",
    "    f\" [{interning[0]} to {interning[-1]}]\"\n",
    ")"
   ]
  },
  {
   "cell_type": "markdown",
   "id": "24a59799-5061-40a0-a951-ac275302393c",
   "metadata": {},
   "source": [
    "This output means that \n",
    "\n",
    "    if you use a single number between -5 and 256 \n",
    "    to initialize several variables in independent statements, \n",
    "    then all these variables will point to the same object, \n",
    "    which will help you save small bits of memory in your code.\n",
    "\n",
    "In contrast, \n",
    "\n",
    "    if you use a number that falls outside of the interning interval, \n",
    "    then your variables will point to different objects instead. \n",
    "    Each of these objects will occupy a different memory spot."
   ]
  },
  {
   "cell_type": "markdown",
   "id": "e66bb43a-7413-4264-9ec4-bcd40c064c46",
   "metadata": {},
   "source": [
    "# Implicit Assignments in Python\n",
    "https://realpython.com/python-assignment-operator/#making-multiple-variables-refer-to-the-same-object"
   ]
  },
  {
   "cell_type": "markdown",
   "id": "abb346ee-7764-4559-8306-bf71310de35f",
   "metadata": {
    "tags": []
   },
   "source": [
    "Whenever you complete an action in the following list,   \n",
    "Python runs an implicit assignment for you:\n",
    "  \n",
    "\n",
    "    1. Define or call a function\n",
    "    2. Define or instantiate a class\n",
    "    3. Use the current instance, self\n",
    "    4. Import modules and objects\n",
    "    5. Use a decorator\n",
    "    6. Use the control variable in a for loop or a comprehension\n",
    "    7. Use the as qualifier in with statements, imports, and try … except blocks\n",
    "    8. Access the _ special variable in an interactive session\n",
    "    \n",
    "Behind the scenes, Python performs an assignment in every one of the above situations"
   ]
  },
  {
   "cell_type": "markdown",
   "id": "9aa92b69-6117-44ef-962a-b555ab97506b",
   "metadata": {},
   "source": [
    "**Define or Call a Function**\n",
    "\n",
    "    When you define a function, \n",
    "    the def keyword implicitly assigns a function object to your function’s name. \n",
    "    Here’s an example:"
   ]
  },
  {
   "cell_type": "code",
   "execution_count": 18,
   "id": "ae00068b-a920-43b9-805d-b608e7750b0c",
   "metadata": {
    "tags": []
   },
   "outputs": [
    {
     "data": {
      "text/plain": [
       "<function __main__.greet(name)>"
      ]
     },
     "execution_count": 18,
     "metadata": {},
     "output_type": "execute_result"
    }
   ],
   "source": [
    "def greet(name):\n",
    "   print(id(name))\n",
    "   print(f\"Hello, {name}!\")\n",
    "    \n",
    "greet"
   ]
  },
  {
   "cell_type": "code",
   "execution_count": 19,
   "id": "2eeeecec-71da-4e33-a965-300a4dcca953",
   "metadata": {
    "tags": []
   },
   "outputs": [
    {
     "data": {
      "text/plain": [
       "139972854021344"
      ]
     },
     "execution_count": 19,
     "metadata": {},
     "output_type": "execute_result"
    }
   ],
   "source": [
    "id(greet)"
   ]
  },
  {
   "cell_type": "code",
   "execution_count": 20,
   "id": "5b90fdd7-9edb-4351-8c98-c80ff43c839f",
   "metadata": {
    "tags": []
   },
   "outputs": [
    {
     "name": "stdout",
     "output_type": "stream",
     "text": [
      "139972473021808\n",
      "Hello, Pythonista!\n"
     ]
    }
   ],
   "source": [
    "fellow = \"Pythonista\"\n",
    "greet(fellow)"
   ]
  },
  {
   "cell_type": "markdown",
   "id": "8590e150-9184-4fbd-9993-62208db54819",
   "metadata": {},
   "source": [
    "From this point on, \n",
    "\n",
    "    the name greet refers to a function object \n",
    "    that lives at a given memory address in your computer. \n",
    "\n",
    "    You can call the function \n",
    "    using its name and a pair of parentheses with appropriate arguments. \n",
    "    This way, you can reuse greet() wherever you need it.\n",
    "\n",
    "If you call your greet() function with fellow as an **argument**,  \n",
    "then Python implicitly assigns the **input argument value**  \n",
    "**to the name parameter** on the function’s definition.  \n",
    "  \n",
    "The parameter will hold a reference to the input arguments."
   ]
  },
  {
   "cell_type": "code",
   "execution_count": 53,
   "id": "7c0fbc48-f62c-4fa9-859f-6fad9c96efe2",
   "metadata": {
    "tags": []
   },
   "outputs": [
    {
     "data": {
      "text/plain": [
       "__main__.User"
      ]
     },
     "execution_count": 53,
     "metadata": {},
     "output_type": "execute_result"
    }
   ],
   "source": [
    "class User:\n",
    "    def __init__(self, name, job):\n",
    "        self.name = name\n",
    "        self.job = job\n",
    "\n",
    "User"
   ]
  },
  {
   "cell_type": "code",
   "execution_count": 55,
   "id": "59ace47c-14fe-42cc-b5bb-b29460ddd26f",
   "metadata": {
    "tags": []
   },
   "outputs": [
    {
     "data": {
      "text/plain": [
       "56239760"
      ]
     },
     "execution_count": 55,
     "metadata": {},
     "output_type": "execute_result"
    }
   ],
   "source": [
    "id(User)"
   ]
  },
  {
   "cell_type": "markdown",
   "id": "81a09e34-1ccc-4376-98e0-1a8bdea766f8",
   "metadata": {},
   "source": [
    "**Import statements** are another variant of implicit assignments in Python. \n",
    "\n",
    "    Through an import statement, \n",
    "    you assign a name to a module object, class, function, or any other imported object. \n",
    "    This name is then created in your current namespace \n",
    "    so that you can access it later in your code:"
   ]
  },
  {
   "cell_type": "code",
   "execution_count": 59,
   "id": "bd878976-f1e8-4651-b6ae-6073d6621fb1",
   "metadata": {
    "tags": []
   },
   "outputs": [
    {
     "data": {
      "text/plain": [
       "['In',\n",
       " 'Out',\n",
       " 'User',\n",
       " '_',\n",
       " '_20',\n",
       " '_21',\n",
       " '_32',\n",
       " '_33',\n",
       " '_34',\n",
       " '_36',\n",
       " '_37',\n",
       " '_38',\n",
       " '_39',\n",
       " '_51',\n",
       " '_53',\n",
       " '_54',\n",
       " '_55',\n",
       " '_56',\n",
       " '_57',\n",
       " '__',\n",
       " '___',\n",
       " '__builtin__',\n",
       " '__builtins__',\n",
       " '__doc__',\n",
       " '__loader__',\n",
       " '__name__',\n",
       " '__package__',\n",
       " '__session__',\n",
       " '__spec__',\n",
       " '_dh',\n",
       " '_i',\n",
       " '_i1',\n",
       " '_i10',\n",
       " '_i11',\n",
       " '_i12',\n",
       " '_i13',\n",
       " '_i14',\n",
       " '_i15',\n",
       " '_i16',\n",
       " '_i17',\n",
       " '_i18',\n",
       " '_i19',\n",
       " '_i2',\n",
       " '_i20',\n",
       " '_i21',\n",
       " '_i22',\n",
       " '_i23',\n",
       " '_i24',\n",
       " '_i25',\n",
       " '_i26',\n",
       " '_i27',\n",
       " '_i28',\n",
       " '_i29',\n",
       " '_i3',\n",
       " '_i30',\n",
       " '_i31',\n",
       " '_i32',\n",
       " '_i33',\n",
       " '_i34',\n",
       " '_i35',\n",
       " '_i36',\n",
       " '_i37',\n",
       " '_i38',\n",
       " '_i39',\n",
       " '_i4',\n",
       " '_i40',\n",
       " '_i41',\n",
       " '_i42',\n",
       " '_i43',\n",
       " '_i44',\n",
       " '_i45',\n",
       " '_i46',\n",
       " '_i47',\n",
       " '_i48',\n",
       " '_i49',\n",
       " '_i5',\n",
       " '_i50',\n",
       " '_i51',\n",
       " '_i52',\n",
       " '_i53',\n",
       " '_i54',\n",
       " '_i55',\n",
       " '_i56',\n",
       " '_i57',\n",
       " '_i58',\n",
       " '_i59',\n",
       " '_i6',\n",
       " '_i7',\n",
       " '_i8',\n",
       " '_i9',\n",
       " '_ih',\n",
       " '_ii',\n",
       " '_iii',\n",
       " '_oh',\n",
       " 'a',\n",
       " 'add_more',\n",
       " 'b',\n",
       " 'exit',\n",
       " 'fellow',\n",
       " 'foo',\n",
       " 'get_ipython',\n",
       " 'greet',\n",
       " 'interning',\n",
       " 'm',\n",
       " 'mylist',\n",
       " 'n',\n",
       " 'name',\n",
       " 'open',\n",
       " 'python_version',\n",
       " 'quit',\n",
       " 'string',\n",
       " 'test']"
      ]
     },
     "execution_count": 59,
     "metadata": {},
     "output_type": "execute_result"
    }
   ],
   "source": [
    "dir()"
   ]
  },
  {
   "cell_type": "code",
   "execution_count": 60,
   "id": "4ff91df4-309c-4b62-a055-fc5edd23f5f2",
   "metadata": {
    "tags": []
   },
   "outputs": [
    {
     "data": {
      "text/plain": [
       "['In',\n",
       " 'Out',\n",
       " 'User',\n",
       " '_',\n",
       " '_20',\n",
       " '_21',\n",
       " '_32',\n",
       " '_33',\n",
       " '_34',\n",
       " '_36',\n",
       " '_37',\n",
       " '_38',\n",
       " '_39',\n",
       " '_51',\n",
       " '_53',\n",
       " '_54',\n",
       " '_55',\n",
       " '_56',\n",
       " '_57',\n",
       " '_59',\n",
       " '__',\n",
       " '___',\n",
       " '__builtin__',\n",
       " '__builtins__',\n",
       " '__doc__',\n",
       " '__loader__',\n",
       " '__name__',\n",
       " '__package__',\n",
       " '__session__',\n",
       " '__spec__',\n",
       " '_dh',\n",
       " '_i',\n",
       " '_i1',\n",
       " '_i10',\n",
       " '_i11',\n",
       " '_i12',\n",
       " '_i13',\n",
       " '_i14',\n",
       " '_i15',\n",
       " '_i16',\n",
       " '_i17',\n",
       " '_i18',\n",
       " '_i19',\n",
       " '_i2',\n",
       " '_i20',\n",
       " '_i21',\n",
       " '_i22',\n",
       " '_i23',\n",
       " '_i24',\n",
       " '_i25',\n",
       " '_i26',\n",
       " '_i27',\n",
       " '_i28',\n",
       " '_i29',\n",
       " '_i3',\n",
       " '_i30',\n",
       " '_i31',\n",
       " '_i32',\n",
       " '_i33',\n",
       " '_i34',\n",
       " '_i35',\n",
       " '_i36',\n",
       " '_i37',\n",
       " '_i38',\n",
       " '_i39',\n",
       " '_i4',\n",
       " '_i40',\n",
       " '_i41',\n",
       " '_i42',\n",
       " '_i43',\n",
       " '_i44',\n",
       " '_i45',\n",
       " '_i46',\n",
       " '_i47',\n",
       " '_i48',\n",
       " '_i49',\n",
       " '_i5',\n",
       " '_i50',\n",
       " '_i51',\n",
       " '_i52',\n",
       " '_i53',\n",
       " '_i54',\n",
       " '_i55',\n",
       " '_i56',\n",
       " '_i57',\n",
       " '_i58',\n",
       " '_i59',\n",
       " '_i6',\n",
       " '_i60',\n",
       " '_i7',\n",
       " '_i8',\n",
       " '_i9',\n",
       " '_ih',\n",
       " '_ii',\n",
       " '_iii',\n",
       " '_oh',\n",
       " 'a',\n",
       " 'add_more',\n",
       " 'b',\n",
       " 'exit',\n",
       " 'fellow',\n",
       " 'foo',\n",
       " 'get_ipython',\n",
       " 'greet',\n",
       " 'interning',\n",
       " 'm',\n",
       " 'mylist',\n",
       " 'n',\n",
       " 'name',\n",
       " 'open',\n",
       " 'python_version',\n",
       " 'quit',\n",
       " 'string',\n",
       " 'sys',\n",
       " 'test']"
      ]
     },
     "execution_count": 60,
     "metadata": {},
     "output_type": "execute_result"
    }
   ],
   "source": [
    "import sys\n",
    "dir()"
   ]
  },
  {
   "cell_type": "markdown",
   "id": "a9363bab-d902-4cc9-b0c0-b807fab7e463",
   "metadata": {},
   "source": [
    "# 아래 링크에 들어가서 그 이후 implicit assignment 읽어볼 것\n",
    "https://realpython.com/python-assignment-operator/#use-a-decorator"
   ]
  }
 ],
 "metadata": {
  "kernelspec": {
   "display_name": "Python 3 (ipykernel)",
   "language": "python",
   "name": "python3"
  },
  "language_info": {
   "codemirror_mode": {
    "name": "ipython",
    "version": 3
   },
   "file_extension": ".py",
   "mimetype": "text/x-python",
   "name": "python",
   "nbconvert_exporter": "python",
   "pygments_lexer": "ipython3",
   "version": "3.11.0"
  }
 },
 "nbformat": 4,
 "nbformat_minor": 5
}
