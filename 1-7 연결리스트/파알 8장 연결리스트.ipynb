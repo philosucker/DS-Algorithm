{
 "cells": [
  {
   "cell_type": "markdown",
   "id": "676a34b5-6133-46df-9923-7089f40dfe3d",
   "metadata": {},
   "source": [
    "### e: 13, 14, 15\n",
    "### m: 19, 16, 17, 18"
   ]
  },
  {
   "cell_type": "code",
   "execution_count": null,
   "id": "b15771b0-c7de-47e5-980b-0f8b96b4466a",
   "metadata": {
    "tags": []
   },
   "outputs": [
    {
     "data": {
      "text/plain": [
       "9223372036854775807"
      ]
     },
     "execution_count": 1,
     "metadata": {},
     "output_type": "execute_result"
    }
   ],
   "source": [
    "import sys\n",
    "\n",
    "sys.maxsize  # Python에서 사용할 수 있는 정수의 최대 크기를 나타내는 값"
   ]
  },
  {
   "cell_type": "code",
   "execution_count": 2,
   "id": "cce263e4-a45c-45a5-91c6-2e63a9acce13",
   "metadata": {
    "tags": []
   },
   "outputs": [
    {
     "data": {
      "text/plain": [
       "inf"
      ]
     },
     "execution_count": 2,
     "metadata": {},
     "output_type": "execute_result"
    }
   ],
   "source": [
    "float('inf')"
   ]
  },
  {
   "cell_type": "code",
   "execution_count": 3,
   "id": "c866650e-93a6-45a3-81d2-fa338cb9b5f5",
   "metadata": {
    "tags": []
   },
   "outputs": [
    {
     "data": {
      "text/plain": [
       "-9223372036854775807"
      ]
     },
     "execution_count": 3,
     "metadata": {},
     "output_type": "execute_result"
    }
   ],
   "source": [
    "-sys.maxsize "
   ]
  },
  {
   "cell_type": "code",
   "execution_count": 4,
   "id": "9e0d4bb7-5767-469c-9031-936b7d8e5157",
   "metadata": {
    "tags": []
   },
   "outputs": [
    {
     "data": {
      "text/plain": [
       "-inf"
      ]
     },
     "execution_count": 4,
     "metadata": {},
     "output_type": "execute_result"
    }
   ],
   "source": [
    "float('-inf')"
   ]
  },
  {
   "cell_type": "code",
   "execution_count": 1,
   "id": "7c2d9449-abd5-4c47-af9b-ce0d0bd63b86",
   "metadata": {
    "tags": []
   },
   "outputs": [
    {
     "data": {
      "text/plain": [
       "3"
      ]
     },
     "execution_count": 1,
     "metadata": {},
     "output_type": "execute_result"
    }
   ],
   "source": [
    "temp = prev = 3\n",
    "\n",
    "prev = 2\n",
    "\n",
    "temp"
   ]
  },
  {
   "cell_type": "code",
   "execution_count": null,
   "id": "26fc31cd-36c3-4b8a-a349-24644dd1ad48",
   "metadata": {},
   "outputs": [],
   "source": []
  },
  {
   "cell_type": "markdown",
   "id": "f27b82a1-c1a0-41cd-801a-56a9c6288f09",
   "metadata": {},
   "source": [
    "# 문13 팰린드롬 연결리스트 e\n",
    "https://leetcode.com/problems/palindrome-linked-list/"
   ]
  },
  {
   "cell_type": "markdown",
   "id": "1ec2bb08-3008-4f13-95c8-58461089fc75",
   "metadata": {},
   "source": [
    "Given the head of a singly linked list, return true if it is a palindrome or false otherwise.\n",
    "\n",
    "\n",
    "input : head = [1,2,2,1]"
   ]
  },
  {
   "cell_type": "code",
   "execution_count": null,
   "id": "1c84c6cf-8092-4876-988d-308e178f44c8",
   "metadata": {},
   "outputs": [],
   "source": [
    "# Definition for singly-linked list.\n",
    "# class ListNode:\n",
    "#     def __init__(self, val=0, next=None):\n",
    "#         self.val = val\n",
    "#         self.next = next"
   ]
  },
  {
   "cell_type": "code",
   "execution_count": null,
   "id": "b39424da-314c-4cfa-924e-f532b05204c6",
   "metadata": {},
   "outputs": [],
   "source": [
    "class Solution:\n",
    "    def isPalindrome(self, head: Optional[ListNode]) -> bool:"
   ]
  },
  {
   "cell_type": "markdown",
   "id": "d1efe411-d36c-441f-8869-a0f539f301a9",
   "metadata": {},
   "source": [
    "### 내풀이"
   ]
  },
  {
   "cell_type": "markdown",
   "id": "e7c11321-296f-4cdd-9348-57dfe8bfef8a",
   "metadata": {},
   "source": [
    "문제해결전략 접근 아이디어\n",
    "\n",
    "1. 런너기법을 쓰기 위해 필요한게 뭘까? head를 참조할 fast, slow 변수\n",
    "2. 런너기법 구현\n",
    "3. 팰린드롬 알고리즘 구현\n",
    "4. 역순 연결리스트 생성 알고리즘 구현"
   ]
  },
  {
   "cell_type": "markdown",
   "id": "c3b6decd-9787-4422-a49b-e840f9d03aa0",
   "metadata": {},
   "source": [
    "![runner](runner.png)"
   ]
  },
  {
   "cell_type": "code",
   "execution_count": null,
   "id": "39a9e2b3-6435-4fb0-b36d-ff6af22451ee",
   "metadata": {},
   "outputs": [],
   "source": [
    "prev = None\n",
    "\n",
    "fast = slow = head\n",
    "\n",
    "while fast and fast.next:\n",
    "    fast = fast.next.next\n",
    "    slow = slow.next           # 연결리스트 길이가 홀수면 slow는 정중앙, 짝수면 정중앙에서 하나 오른쪽\n",
    "    \n",
    "if fast:                       # 연결리스트 길이가 홀수면 fast는 tail노드, 짝수면 fast = None\n",
    "    slow = slow.next           # 연결리스트 길이가 홀수라서 slow가 정중앙이므로, 팰린드롬여부를 확인할 때 정중앙 노드값은 필요없으므로\n",
    "\n",
    "while prev and slow:\n",
    "    if prev.val == slow.val:\n",
    "        slow = slow.next\n",
    "        prev = prev.next\n",
    "    else:\n",
    "        return False\n",
    "return True"
   ]
  },
  {
   "cell_type": "markdown",
   "id": "14a594d2-614e-4b53-9825-4cabef20a191",
   "metadata": {},
   "source": [
    "위 코드가 솔루션 골격이고, 역순연결리스트는 런너 기법이 들어간 반복문에서 만들어져야 한다"
   ]
  },
  {
   "cell_type": "code",
   "execution_count": null,
   "id": "f232512c-0bb5-4cb5-aca7-3a4d4f233bec",
   "metadata": {},
   "outputs": [],
   "source": [
    "prev = None\n",
    "\n",
    "fast = slow = head\n",
    "\n",
    "while fast and fast.next:\n",
    "    fast = fast.next.next\n",
    "    '''\n",
    "    slow가 오른쪽으로 이동하면서 prev는 slow의 역순연결리스트 헤드가 되어야 하는데, \n",
    "    이 과정이 기존 slow = slow.next 코드 이전에 일어나야 한다. 따라서\n",
    "    '''\n",
    "    temp = slow.next      # slow.next 가 참조하는 객체를 임시 변수에 묶어두고\n",
    "    slow.next = prev      # prev.next 역순방향의 노드를 가리키게 되어야 하므로\n",
    "                          # prev = slow 전에 slow.next = prev 가 먼저 실행되게 한다.\n",
    "    prev = slow           \n",
    "    slow = temp           # 연결리스트 길이가 홀수면 slow는 정중앙, 짝수면 정중앙에서 하나 오른쪽\n",
    "    \n",
    "    # slow.next, prev, slow = prev, slow, slow.next 이것도 되는데\n",
    "    \n",
    "    # prev, prev.next, slow = slow, prev, slow.next 이것도 되고, 이 코드가 좀 더 직관적이다.\n",
    "    \n",
    "if fast:                       # 연결리스트 길이가 홀수면 fast는 tail노드, 짝수면 fast = None\n",
    "    slow = slow.next           # 연결리스트 길이가 홀수라서 slow가 정중앙이므로, 팰린드롬여부를 확인할 때 정중앙 노드값은 필요없으므로\n",
    "\n",
    "while prev and slow:\n",
    "    if prev.val == slow.val:\n",
    "        slow = slow.next\n",
    "        prev = prev.next\n",
    "    else:\n",
    "        return False\n",
    "return True"
   ]
  },
  {
   "cell_type": "markdown",
   "id": "e8b2aa5c-092d-4f13-a9d4-94bdfa74fa55",
   "metadata": {},
   "source": [
    "연결리스트를 리스트에 풀어서 푸는 방법"
   ]
  },
  {
   "cell_type": "code",
   "execution_count": null,
   "id": "ee6cd0a9-b808-4ab2-abca-b067ea571879",
   "metadata": {},
   "outputs": [],
   "source": [
    "def isPalindrome(lst\n",
    "    p = head\n",
    "    lst = []\n",
    "    while p:\n",
    "        lst.append(p.val)\n",
    "        p = p.next\n",
    "    left = 0\n",
    "    right = len(lst) - 1\n",
    "\n",
    "    flag = True\n",
    "    while True:\n",
    "        if left <= right:\n",
    "            if [left] == lst[right]:\n",
    "                left +=1\n",
    "                right -=1\n",
    "            else:\n",
    "                flag = False\n",
    "                break\n",
    "        else:\n",
    "            flag = True\n",
    "            break\n",
    "    return flag"
   ]
  },
  {
   "cell_type": "code",
   "execution_count": null,
   "id": "9aece455-cc68-4715-baa6-41264c575964",
   "metadata": {},
   "outputs": [],
   "source": [
    "공간 복잡도: O(n). 연결 리스트의 모든 값을 리스트에 복사하기 때문입니다.\n",
    "시간 복잡도: O(n). 연결 리스트를 한 번 순회하여 리스트에 값을 복사하고, 다시 리스트의 양 끝에서 중앙으로 이동하며 값을 비교합니다.\n",
    "효율성: 리스트에 값을 복사하는 과정은 필수적이며, 이후의 투 포인터 비교는 매우 효율적입니다. "
   ]
  },
  {
   "cell_type": "markdown",
   "id": "9a9acd75-6eec-48b7-91f0-440c642a2fb8",
   "metadata": {},
   "source": [
    "### chatGPT 최적화"
   ]
  },
  {
   "cell_type": "code",
   "execution_count": null,
   "id": "45dbbd35-255c-4b25-8ecf-fe1d21c4d7ce",
   "metadata": {},
   "outputs": [],
   "source": [
    "class Solution:\n",
    "    def isPalindrome(self, head: Optional[ListNode]) -> bool:\n",
    "        lst = []\n",
    "        \n",
    "        # 연결 리스트를 순회하면서 모든 값을 리스트에 복사합니다.\n",
    "        while head:\n",
    "            lst.append(head.val)\n",
    "            head = head.next\n",
    "        \n",
    "        # 리스트를 뒤집어서 원본 리스트와 같은지 비교합니다.\n",
    "        ''' 이 방법은 리스트의 전체 복사본을 만들기 때문에, 원본 리스트의 크기에 비례하는 추가 메모리를 사용합니다.\n",
    "        공간 복잡도는 여전히 O(n)입니다.\n",
    "        '''\n",
    "        return lst == lst[::-1]"
   ]
  },
  {
   "cell_type": "code",
   "execution_count": null,
   "id": "1ad29b4a-e718-4ce6-b4f9-3aa41dcb8993",
   "metadata": {},
   "outputs": [],
   "source": [
    "class Solution:\n",
    "    def isPalindrome(self, head: Optional[ListNode]) -> bool:\n",
    "        lst = []\n",
    "        \n",
    "        # 연결 리스트를 순회하면서 모든 값을 리스트에 복사합니다.\n",
    "        while head:\n",
    "            lst.append(head.val)\n",
    "            head = head.next\n",
    "        \n",
    "        # 투 포인터를 사용하여 리스트의 양 끝에서 중앙으로 이동하면서 값을 비교합니다.\n",
    "        # 여기서는 Python의 슬라이싱과 all() 함수를 사용하여 간결하게 표현합니다.\n",
    "        return all(lst[i] == lst[~i] for i in range(len(lst) // 2))\n",
    "'''\n",
    "리스트의 인덱스를 사용할 때, `~i`는 \"비트 반전 연산\"을 의미합니다. \n",
    "Python에서 비트 반전 연산자 `~`는 모든 비트를 반전시키는데, \n",
    "이는 정수 `n`에 대해 `~n`은 `-n-1`과 같습니다. \n",
    "이를 리스트의 인덱스에 적용하면, 리스트의 뒤에서부터 접근할 수 있게 됩니다.\n",
    "\n",
    "### 예시 설명\n",
    "\n",
    "lst = [0, 1, 2, 3, 4, 5, 6, 7]\n",
    "\n",
    "인덱스 `i`가 0부터 시작한다고 할 때,\n",
    "- `i = 0`일 때, `~i`는 `-1`이고, 이는 `lst[0]`과 `lst[-1]` (리스트의 첫 번째 항목과 마지막 항목)을 비교한다는 의미입니다.\n",
    "- `i = 1`일 때, `~i`는 `-2`이고, 이는 `lst[1]`과 `lst[-2]` (리스트의 두 번째 항목과 끝에서 두 번째 항목)을 비교한다는 의미입니다.\n",
    "- 이런 식으로 계속하면, `i`가 리스트의 절반 길이까지 증가함에 따라, \n",
    "리스트의 시작부터 중앙까지의 각 항목이 해당 항목의 대칭 위치에 있는 항목과 비교됩니다.\n",
    "\n",
    "all() 함수는 주어진 iterable 내의 모든 값이 True로 평가될 때 True를 반환합니다.\n",
    "\n",
    "이 방식을 사용하면, 팰린드롬 확인 같은 문제에서 전체 리스트를 반복하지 않고도, \n",
    "리스트의 절반만 검사함으로써 효율적으로 문제를 해결할 수 있습니다. \n",
    "\n",
    "이러한 방식은 리스트의 길이가 짝수든 홀수든 상관없이 적용될 수 있으며, 팰린드롬을 효율적으로 확인할 수 있는 방법입니다.\n",
    "'''"
   ]
  },
  {
   "cell_type": "markdown",
   "id": "83fad45e-3977-4f40-a0fa-8d087b94aa3b",
   "metadata": {},
   "source": [
    "### 책 풀이 리스트로 변환해 풀이"
   ]
  },
  {
   "cell_type": "code",
   "execution_count": 21,
   "id": "c6264a10-242f-4e24-8553-31e882b2ec31",
   "metadata": {
    "tags": []
   },
   "outputs": [],
   "source": [
    "from __future__ import annotations\n",
    "\n",
    "def isPalindrome(head: ListNode) -> bool:\n",
    "    q: List = []\n",
    "    \n",
    "    if not head:     #  이게 있으면 없을 때보다 속도향상에 기여할 수 있다. 빈 노드가 들어오면 아래 코드를 실행하지 않으니까\n",
    "        return True\n",
    "    \n",
    "    node = head\n",
    "    \n",
    "    while node is not None:\n",
    "        q.append(node.val)\n",
    "        node = node.next\n",
    "        \n",
    "    while len(q) > 1:\n",
    "        if q.pop(0) != q.pop():\n",
    "            return False\n",
    "        \n",
    "    return True"
   ]
  },
  {
   "cell_type": "markdown",
   "id": "b1b55701-5854-44a0-bf17-2ffcdce29c3f",
   "metadata": {},
   "source": [
    "#### deque 으로 최적화"
   ]
  },
  {
   "cell_type": "code",
   "execution_count": 4,
   "id": "3be4c851-999f-4a6b-9d51-f26aa9fcbd03",
   "metadata": {
    "tags": []
   },
   "outputs": [],
   "source": [
    "d : Deque = collections.deque([])"
   ]
  },
  {
   "cell_type": "code",
   "execution_count": 10,
   "id": "9ffc2131-347c-4aad-b056-87b568d9dd33",
   "metadata": {
    "tags": []
   },
   "outputs": [],
   "source": [
    "import collections\n",
    "from __future__ import annotations\n",
    "def isPalindrome(head: ListNode) -> bool:\n",
    "    d : Deque = collections.deque([])\n",
    "    if not head:\n",
    "        return True\n",
    "    \n",
    "    node = head\n",
    "    \n",
    "    while node is not None:\n",
    "        d.append(node.val)\n",
    "        node = node.next\n",
    "        \n",
    "    while len(d) > 1:\n",
    "        if d.popleft() != d.pop():\n",
    "            return False\n",
    "        \n",
    "    return True"
   ]
  },
  {
   "cell_type": "markdown",
   "id": "73e5385e-3054-44ef-ae9a-190e247cf4ae",
   "metadata": {},
   "source": [
    "#### Runner 사용"
   ]
  },
  {
   "cell_type": "markdown",
   "id": "84590d1c-f190-4b56-a00e-e7355c315e2d",
   "metadata": {},
   "source": [
    "문60 삽입 정렬 리스트"
   ]
  },
  {
   "cell_type": "code",
   "execution_count": null,
   "id": "5d01e399-c0fa-4f3f-a5ae-ef43fd03eace",
   "metadata": {},
   "outputs": [],
   "source": [
    "class Solution:\n",
    "    def isPalindrome(self, head: Optional[ListNode]) -> bool:\n",
    "        # 연결 리스트가 비어 있거나 노드가 하나만 있는 경우, 팰린드롬으로 간주합니다.\n",
    "        if not head or not head.next:\n",
    "            return True\n",
    "        \n",
    "        # 빠른 포인터(fast)와 느린 포인터(slow)를 초기화합니다.\n",
    "        # 빠른 포인터는 두 노드를 한 번에 이동하고, 느린 포인터는 한 노드를 한 번에 이동합니다.\n",
    "        fast = slow = head\n",
    "        prev = None  # 느린 포인터의 이전 노드를 추적하기 위한 변수입니다.\n",
    "        \n",
    "        # 연결 리스트의 중간까지 이동하면서, 이동하는 동안 느린 포인터가 지나온 노드들의 순서를 뒤집습니다.\n",
    "        while fast and fast.next:\n",
    "            fast = fast.next.next  # 빠른 포인터는 두 노드씩 이동합니다.\n",
    "            \n",
    "            # 느린 포인터가 지나온 노드들의 순서를 뒤집습니다.\n",
    "            # prev, prev.next, slow = slow, prev, slow.next # 아래 코드와 같다.\n",
    "            temp = slow.next\n",
    "            slow.next = prev\n",
    "            prev = slow\n",
    "            slow = temp\n",
    "        \n",
    "        # 연결 리스트의 길이가 홀수인 경우, 중앙에 위치한 노드는 비교에서 제외해야 하므로,\n",
    "        # 느린 포인터를 한 번 더 이동시켜 중앙 노드를 건너뜁니다.\n",
    "        if fast:\n",
    "            slow = slow.next\n",
    "        \n",
    "        # 뒤집힌 리스트의 절반(느린 포인터 이전까지의 부분)과 나머지 절반을 비교합니다.\n",
    "        # prev 포인터는 뒤집힌 절반의 시작점을 가리키고, slow 포인터는 나머지 절반의 시작점을 가리킵니다.\n",
    "        while prev and slow:\n",
    "            if prev.val != slow.val:\n",
    "                return False  # 두 값을 비교하여 다르면 팰린드롬이 아닙니다.\n",
    "            prev = prev.next\n",
    "            slow = slow.next\n",
    "        \n",
    "        # 모든 비교가 성공적으로 완료되면, 연결 리스트는 팰린드롬입니다.\n",
    "        return True\n"
   ]
  },
  {
   "cell_type": "code",
   "execution_count": 19,
   "id": "36e785f2-5800-42ad-82a0-4cbeb551b91a",
   "metadata": {
    "tags": []
   },
   "outputs": [],
   "source": []
  },
  {
   "cell_type": "code",
   "execution_count": 5,
   "id": "261eeb1b-2b25-4b3b-a974-069b7bf1c17c",
   "metadata": {
    "tags": []
   },
   "outputs": [
    {
     "data": {
      "text/plain": [
       "'prev는 slow가 slow.next로 업데이트 되기 전의 slow가 가리키던 노드를 참조함으로써\\n그 노드의 next 포인터(slow.next)를 활용해 prev 자신이 업데이트 되기 전의 값을 참조시켜\\n역순 연결리스트의 헤드가 된다는 것이다\\n'"
      ]
     },
     "execution_count": 5,
     "metadata": {},
     "output_type": "execute_result"
    }
   ],
   "source": [
    "class ListNode:\n",
    "    def __init__(self, val=0, next=None):\n",
    "        self.val = val\n",
    "        self.next = next\n",
    "\n",
    "head = ListNode(0)\n",
    "head.next = ListNode(4)\n",
    "head.next.next = ListNode(3)\n",
    "head.next.next.next = ListNode(5)\n",
    "head.next.next.next.next = ListNode(7)\n",
    "\n",
    "fast = slow = head\n",
    "prev = None  \n",
    "\n",
    "while fast and fast.next:\n",
    "    fast = fast.next.next\n",
    "    temp = slow.next\n",
    "    slow.next = prev\n",
    "    prev = slow\n",
    "    slow = temp\n",
    "    # prev, prev.next, slow = slow, prev, slow.next\n",
    "\n",
    "if fast:\n",
    "    slow = slow.next\n",
    "'''\n",
    "이 코드는  while문이 끝났을 때\n",
    "slow는 연결리스트의 중간지점(홀수면 중간 다음)에 있는 노드를 참조하게 되고\n",
    "prev는 slow가 참조하는 노드의 바로 직전 노드(중간 바로 이전 지점)를 참조하게 된다.\n",
    "prev가 참조하는 노드들은 역순으로 연결된다. \n",
    "\n",
    "1. **초기화:** \n",
    "`fast`와 `slow` 포인터를 리스트의 시작점인 `head`에 위치시킵니다. \n",
    "`prev`는 `None`으로 초기화되어, 현재는 역순 연결 리스트가 비어 있음을 나타냅니다.\n",
    "\n",
    "2. **반복을 통한 리스트 역순 만들기:** \n",
    "`while` 루프는 `fast` 포인터가 리스트의 끝에 도달할 때까지, \n",
    "즉 `fast`가 `None`이거나 `fast.next`가 `None`일 때까지 계속됩니다. \n",
    "왜냐면 fast = fast.next.next 가 되어야 하니까\n",
    "\n",
    "이 과정에서 몇 가지 작업이 수행됩니다:\n",
    "\n",
    "   - `fast` 포인터는 두 노드씩 전진합니다 (`fast = fast.next.next`). \n",
    "   이는 `slow` 포인터를 한 노드씩 전진시켰을 때 `fast`가 리스트의 끝에 도달하면 \n",
    "   'slow'가 리스트의 중간지점에 도달하도록 하기 위해서입니다.\n",
    "   \n",
    "   - `slow` 포인터는 한 번에 한 노드씩 전진시키려면 slow = slow.next 이렇게 하면 됩니다.\n",
    "   하지만 우리는 중간지점까지의 slow 의 연결을 역순으로 뒤집고 싶으므로\n",
    "   slow = slow.next 이렇게 바로 업데이트 시키지 않고\n",
    "   temp = slow.next 임시변수에 slow.next를 참조시킨 후\n",
    "   현재 `slow` 노드의 `next` 포인터를 `prev`로 변경하여, 역순 연결을 만듭니다. \n",
    "   이는 `slow.next = prev`라는 할당을 통해 이루어집니다.\n",
    "   - 다음으로 `prev`는 현재 `slow` 노드를 가리키도록 업데이트됩니다 (`prev = slow`). \n",
    "   그러면 prev 는 slow노드를 가리키게 되고, prev.next 는 None을 가리키게 됩니다.\n",
    "   - 마지막으로, `slow`를 다음 노드로 이동시킵니다 (`slow = temp`),\n",
    "   이런 식으로 반복되면\n",
    "   다음 반복에서 prev는 slow.next를 가리키게 되고 prev.next는 slow를, prev.next.next는 None을 가리키게 됩니다. \n",
    "\n",
    "3. **`while` 루프를 종료 후 중간 지점 이후 조정:** \n",
    "`fast` 포인터가 `None`이 아니면(마지막 노드를 참조하고 있으면) 연결 리스트의 길이가 홀수라는 것이므로\n",
    "`slow` 포인터를 한 칸 전진시킵니다 (`slow = slow.next`). 이는 중간 요소를 건너뛰기 위함입니다.\n",
    "\n",
    "-정리-\n",
    "`prev` 변수가 연결 리스트를 역순으로 만드는 역할을 합니다. \n",
    "초기에 `None`으로 시작하여, 각 반복마다 현재의 `slow` 노드를 가리키게 됩니다. \n",
    "`slow.next = prev`라는 할당을 통해, 현재 `slow` 노드의 `next` 포인터가 이전 노드를 가리키도록 역순으로 재연결됩니다. \n",
    "이 과정이 반복되면서, `prev`는 역순으로 연결된 리스트의 시작 부분(새로운 헤드)을 참조하게 됩니다. \n",
    "따라서, 이 알고리즘은 연결리스트의 중간지점 이전까지의 연결 리스트를 뒤집는 작업을 수행하며,\n",
    "`prev`는 최종적으로 역순으로 만들어진 연결 리스트의 헤드를 참조하게 됩니다.\n",
    "'''\n",
    "\n",
    "'''prev는 slow가 slow.next로 업데이트 되기 전의 slow가 가리키던 노드를 참조함으로써\n",
    "그 노드의 next 포인터(slow.next)를 활용해 prev 자신이 업데이트 되기 전의 값을 참조시켜\n",
    "역순 연결리스트의 헤드가 된다는 것이다\n",
    "'''"
   ]
  },
  {
   "cell_type": "markdown",
   "id": "9e9004ea-7e6d-4d08-b076-2cde39775227",
   "metadata": {},
   "source": [
    "Python에서는 변수가 특정 객체를 참조할 때,  \n",
    "변수는 그 객체의 실제 값을 저장하는 것이 아니라 그 객체의 메모리 주소(참조)를 저장합니다.   \n",
    "따라서 b의 참조가 변경되어도 a가 참조하는 객체나 그 객체의 메모리 주소는 변하지 않습니다.   \n",
    "a와 b는 독립적으로 각각의 객체를 참조하게 됩니다.  "
   ]
  },
  {
   "cell_type": "code",
   "execution_count": 30,
   "id": "b2875ff4-c3f6-48f5-a260-2dc341f262ff",
   "metadata": {
    "tags": []
   },
   "outputs": [
    {
     "data": {
      "text/plain": [
       "(3, 5)"
      ]
     },
     "execution_count": 30,
     "metadata": {},
     "output_type": "execute_result"
    }
   ],
   "source": [
    "a = None\n",
    "b = 3\n",
    "a = b\n",
    "b = 5\n",
    "a, b"
   ]
  },
  {
   "cell_type": "code",
   "execution_count": 6,
   "id": "e79c08b9-05a2-4832-a415-e0f4b2d259f1",
   "metadata": {
    "tags": []
   },
   "outputs": [
    {
     "name": "stdout",
     "output_type": "stream",
     "text": [
      "5\n",
      "7\n",
      "4\n",
      "0\n"
     ]
    }
   ],
   "source": [
    "while slow:\n",
    "    print(slow.val)\n",
    "    slow = slow.next\n",
    "    \n",
    "while prev:\n",
    "    print(prev.val)\n",
    "    prev = prev.next"
   ]
  },
  {
   "cell_type": "markdown",
   "id": "99d71515-c1f2-4def-be4f-88b24eb04a32",
   "metadata": {},
   "source": [
    "chatGPT는 파이썬의 다중할당을 잘못 이해하고 있다.  \n",
    "아래 내 설명이 옳음"
   ]
  },
  {
   "cell_type": "code",
   "execution_count": 9,
   "id": "57c904a5-00bf-4ea2-beb1-a689d52c38d4",
   "metadata": {
    "tags": []
   },
   "outputs": [
    {
     "name": "stdout",
     "output_type": "stream",
     "text": [
      "5\n",
      "7\n",
      "4\n",
      "0\n"
     ]
    }
   ],
   "source": [
    "class ListNode:\n",
    "    def __init__(self, val=0, next=None):\n",
    "        self.val = val\n",
    "        self.next = next\n",
    "\n",
    "head = ListNode(0)\n",
    "head.next = ListNode(4)\n",
    "head.next.next = ListNode(3)\n",
    "head.next.next.next = ListNode(5)\n",
    "head.next.next.next.next = ListNode(7)\n",
    "\n",
    "fast = slow = head\n",
    "prev = None  \n",
    "\n",
    "while fast and fast.next:\n",
    "    fast = fast.next.next\n",
    "    prev, prev.next, slow = slow, prev, slow.next\n",
    "    '''위 코드는 파이썬의 assign 규칙 (The leftmost target is assigned first.)에 따라\n",
    "    = 오른쪽의 slow, prev, slow.next 값이 모두 평가 되고 난 다음\n",
    "    prev = slow, \n",
    "    prev.next = prev, \n",
    "    slow = slow.next \n",
    "    순서대로 assignment가 차례대로 일어난다.\n",
    "    이때 두번째 코드에서 = 왼쪽의 prev.next 는 \n",
    "    그 앞 코드인 prev = slow에 의해\n",
    "    slow.next 가 되어 slow.next = prev가 된다.\n",
    "    그러나 두번째 코드에서 = 오른쪽의 prev는 \n",
    "    그 앞 코드인 prev = slow에 영향을 받지 않고\n",
    "    최초 = slow, prev, slow.next 평가시 prev 값으로 참조대상이 된다. \n",
    "    '''\n",
    "if fast:\n",
    "    slow = slow.next\n",
    "    \n",
    "while slow:\n",
    "    print(slow.val)\n",
    "    slow = slow.next\n",
    "    \n",
    "while prev:\n",
    "    print(prev.val)\n",
    "    prev = prev.next"
   ]
  },
  {
   "cell_type": "code",
   "execution_count": 12,
   "id": "bf3d9577-8b3a-4e5f-910f-c491b60600c1",
   "metadata": {
    "tags": []
   },
   "outputs": [
    {
     "name": "stdout",
     "output_type": "stream",
     "text": [
      "3\n",
      "True\n",
      "True\n",
      "True\n",
      "1\n",
      "True\n",
      "2\n",
      "3\n"
     ]
    },
    {
     "ename": "AttributeError",
     "evalue": "'NoneType' object has no attribute 'next'",
     "output_type": "error",
     "traceback": [
      "\u001b[0;31m---------------------------------------------------------------------------\u001b[0m",
      "\u001b[0;31mAttributeError\u001b[0m                            Traceback (most recent call last)",
      "Cell \u001b[0;32mIn[12], line 23\u001b[0m\n\u001b[1;32m     20\u001b[0m \u001b[38;5;250m\u001b[39m\u001b[38;5;124;03m'''위 와 같이 두줄로 쪼개면 두번째 반복문에서 AttributeError: 'NoneType' object has no attribute 'next' 에러가 난다.\u001b[39;00m\n\u001b[1;32m     21\u001b[0m \u001b[38;5;124;03m'''\u001b[39;00m\n\u001b[1;32m     22\u001b[0m \u001b[38;5;28mprint\u001b[39m(\u001b[38;5;241m3\u001b[39m)\n\u001b[0;32m---> 23\u001b[0m prev, prev\u001b[38;5;241m.\u001b[39mnext \u001b[38;5;241m=\u001b[39m slow, prev  \u001b[38;5;66;03m# 첫번째 반복문에서\u001b[39;00m\n\u001b[1;32m     24\u001b[0m \u001b[38;5;28mprint\u001b[39m(prev \u001b[38;5;241m==\u001b[39m head)           \u001b[38;5;66;03m# prev = slow가 되고\u001b[39;00m\n\u001b[1;32m     25\u001b[0m \u001b[38;5;28mprint\u001b[39m(prev\u001b[38;5;241m.\u001b[39mnext \u001b[38;5;241m==\u001b[39m \u001b[38;5;28;01mNone\u001b[39;00m)      \u001b[38;5;66;03m# prev.next = prev, 따라서 slow.next는 None을 참조하게 된다.\u001b[39;00m\n",
      "\u001b[0;31mAttributeError\u001b[0m: 'NoneType' object has no attribute 'next'"
     ]
    }
   ],
   "source": [
    "class ListNode:\n",
    "    def __init__(self, val=0, next=None):\n",
    "        self.val = val\n",
    "        self.next = next\n",
    "\n",
    "head = ListNode(0)\n",
    "head.next = ListNode(4)\n",
    "head.next.next = ListNode(3)\n",
    "head.next.next.next = ListNode(5)\n",
    "head.next.next.next.next = ListNode(7)\n",
    "\n",
    "fast = slow = head\n",
    "prev = None  \n",
    "\n",
    "while fast and fast.next:\n",
    "    fast = fast.next.next\n",
    "    \n",
    "    # prev, prev.next = slow, prev  \n",
    "    # slow = slow.next\n",
    "    '''위 와 같이 두줄로 쪼개면 두번째 반복문에서 AttributeError: 'NoneType' object has no attribute 'next' 에러가 난다.\n",
    "    '''\n",
    "    print(3)\n",
    "    prev, prev.next = slow, prev  # 첫번째 반복문에서\n",
    "    print(prev == head)           # prev = slow가 되고\n",
    "    print(prev.next == None)      # prev.next = prev, 따라서 slow.next는 None을 참조하게 된다.\n",
    "    print(slow.next == None)\n",
    "    slow = slow.next              # 따라서 여기서 slow는 None을 참조하게 된다. \n",
    "    print(1)\n",
    "    print(slow == None)           # 그에 따라 두번째 반복문에서 prev는 None을 참조하게 되고, 이에 따라 prev.next에서 해당 에러가 나게 되는 것이다. \n",
    "    print(2)"
   ]
  },
  {
   "cell_type": "code",
   "execution_count": 21,
   "id": "25556a51-76d6-4cc0-a9d6-2b33ccac5d04",
   "metadata": {
    "tags": []
   },
   "outputs": [
    {
     "name": "stdout",
     "output_type": "stream",
     "text": [
      "5\n",
      "7\n",
      "4\n",
      "4\n",
      "4\n",
      "4\n",
      "4\n"
     ]
    }
   ],
   "source": [
    "class ListNode:\n",
    "    def __init__(self, val=0, next=None):\n",
    "        self.val = val\n",
    "        self.next = next\n",
    "\n",
    "head = ListNode(0)\n",
    "head.next = ListNode(4)\n",
    "head.next.next = ListNode(3)\n",
    "head.next.next.next = ListNode(5)\n",
    "head.next.next.next.next = ListNode(7)\n",
    "# head.next.next.next.next.next = ListNode(8)\n",
    "# head.next.next.next.next.next.next = ListNode(9)\n",
    "\n",
    "fast = slow = head\n",
    "prev = None  \n",
    "\n",
    "while fast and fast.next:\n",
    "    fast = fast.next.next\n",
    "    \n",
    "    # prev = slow\n",
    "    # prev.next, slow = prev, slow.next  \n",
    "    '''위와 같이 두줄로 쪼개면 반복문에서 에러는 안나고\n",
    "    slow도 중간지점까지 가지만 \n",
    "    prev은 중간지점까지간 slow의 바로 직전노드를 참조하며 prev.next도 자기자신을 참조해 무한루프에 빠진다\n",
    "    head -> 4 -> 3 -> 5-> 7 연결리스트인 경우,\n",
    "    두번째 줄에서 이전 코드의 prev = slow에 의해 prev.next = prev는 slow.next = slow가 되고 여기서 무한루프에 빠진다.\n",
    "    그런데 slow = slow.next가 있으므로 \n",
    "    두번째 반복문을 돌 때 prev는 첫번째 코드에 의해 slow.next를 참조하게 되고\n",
    "    두번째 코드에서 slow.next.next = slow.next가 되어 \n",
    "    prev는 slow.next 즉 head.next인 ListNode(4)를 참조하고, prev.next도 자기자신을 참조하게 되어 무한 루프에 빠진다.\n",
    "    '''\n",
    "\n",
    "    prev = slow\n",
    "    prev.next, slow = prev, slow.next  \n",
    "\n",
    "if fast:\n",
    "    slow = slow.next\n",
    "    \n",
    "while slow:\n",
    "    print(slow.val)\n",
    "    slow  = slow.next\n",
    "    \n",
    "for _ in range(5):\n",
    "    print(prev.val)\n",
    "    prev  = prev.next"
   ]
  },
  {
   "cell_type": "code",
   "execution_count": 31,
   "id": "57a253e3-584c-4a56-9143-07d7b925a1e8",
   "metadata": {
    "tags": []
   },
   "outputs": [
    {
     "name": "stdout",
     "output_type": "stream",
     "text": [
      "0\n",
      "0\n",
      "0\n",
      "0\n",
      "0\n",
      "0\n",
      "0\n",
      "0\n",
      "0\n",
      "0\n"
     ]
    }
   ],
   "source": [
    "class ListNode:\n",
    "    def __init__(self, val=0, next=None):\n",
    "        self.val = val\n",
    "        self.next = next\n",
    "\n",
    "head = ListNode(0)\n",
    "head.next = ListNode(4)\n",
    "head.next.next = ListNode(3)\n",
    "head.next.next.next = ListNode(5)\n",
    "head.next.next.next.next = ListNode(7)\n",
    "# head.next.next.next.next.next = ListNode(8)\n",
    "# head.next.next.next.next.next.next = ListNode(9)\n",
    "\n",
    "fast = slow = head\n",
    "prev = None  \n",
    "\n",
    "while fast and fast.next:\n",
    "    fast = fast.next.next\n",
    "    \n",
    "    # prev = slow\n",
    "    # prev.next = prev\n",
    "    # slow = slow.next  \n",
    "    '''위와 같이 세줄로 쪼개면 반복문에서 에러는 안나지만\n",
    "    slow와 prev 모두 \n",
    "    prev은 중간지점까지간 slow의 바로 직전노드를 참조하며 prev.next도 자기자신을 참조해 무한루프에 빠진다\n",
    "    두번째 줄에서 slow.next = slow 가 되고 \n",
    "    세번째 줄에서 slow = slow.next가 되는데\n",
    "    이건 곧 head.next = head\n",
    "    head = head.next 인 것과 같으므로\n",
    "    반복문을 계속 돌아도 \n",
    "    prev는 계속 slow를 가리키고 (head를 가리키고)\n",
    "    slow.next는 slow를 slow는 slow.next를 가리켜 결국 head는 head.next를 head.next는 head를 가리켜\n",
    "    head노드에서 한발짝도 나아가지 못한 채 무한 루프에 빠진다.\n",
    "    '''\n",
    "\n",
    "    prev = slow\n",
    "    prev.next = prev\n",
    "    slow = slow.next  \n",
    "\n",
    "if fast:\n",
    "    slow = slow.next\n",
    "    \n",
    "for _ in range(5):\n",
    "    print(slow.val)\n",
    "    slow  = slow.next\n",
    "    \n",
    "for _ in range(5):\n",
    "    print(prev.val)\n",
    "    prev  = prev.next"
   ]
  },
  {
   "cell_type": "markdown",
   "id": "db29dd25-de06-4d5c-9237-29cc334d158f",
   "metadata": {},
   "source": [
    "# 문 14 두 정렬리스트의 병합 e\n",
    "https://leetcode.com/problems/merge-two-sorted-lists"
   ]
  },
  {
   "cell_type": "markdown",
   "id": "a8ccae7c-83fd-4592-97ba-a4458fe6398e",
   "metadata": {},
   "source": [
    "정렬되어 있는 두 연결 리스트를 합쳐라"
   ]
  },
  {
   "cell_type": "markdown",
   "id": "6482adb5-90d8-48fc-8724-c20f2c20d0de",
   "metadata": {},
   "source": [
    "Input: \n",
    "\n",
    "    list1 = [1,2,4],  \n",
    "    list2 = [1,3,4]  \n",
    "Output:   \n",
    "\n",
    "    [1,1,2,3,4,4]"
   ]
  },
  {
   "cell_type": "code",
   "execution_count": null,
   "id": "9c15d5aa-6e97-4308-b46e-00541d5921a4",
   "metadata": {},
   "outputs": [],
   "source": [
    "# Definition for singly-linked list.\n",
    "# class ListNode:\n",
    "#     def __init__(self, val=0, next=None):\n",
    "#         self.val = val\n",
    "#         self.next = next\n",
    "class Solution:\n",
    "    def mergeTwoLists(self, list1: Optional[ListNode], list2: Optional[ListNode]) -> Optional[ListNode]:\n",
    "        "
   ]
  },
  {
   "cell_type": "markdown",
   "id": "c63cdc68-8560-49e2-8ef8-29333288a088",
   "metadata": {},
   "source": [
    "문제해결전략 접근 아이디어  \n",
    "  \n",
    "새로운 연결리스트를 만들어서 여기에 두 연결리스트를 병합  "
   ]
  },
  {
   "cell_type": "code",
   "execution_count": null,
   "id": "221ff5a5-af0a-48a6-9e9b-613f57afd8b5",
   "metadata": {},
   "outputs": [],
   "source": [
    "class Solution:\n",
    "    def mergeTwoLists(self, list1: Optional[ListNode], list2: Optional[ListNode]) -> Optional[ListNode]:\n",
    "        \n",
    "        head = root = ListNode()   # 병합되는 노드들을 연결할 새로운 연결리스트 초기화\n",
    "                                   # head 변수로 list1과 list2의 노드를 참조 \n",
    "        while list1 and list2:\n",
    "            \n",
    "            if list1.val < list2.val:\n",
    "                head.next = list1\n",
    "                \n",
    "                temp = list1\n",
    "                list1 = list1.next\n",
    "                head = temp\n",
    "                # list1, head = list1.next, list1\n",
    "            else:\n",
    "                head.next = list2\n",
    "                \n",
    "                temp = list2\n",
    "                list2 = list2.next\n",
    "                head = temp\n",
    "                # list2, head = list2.next, list2\n",
    "                \n",
    "        if list1 or list2:\n",
    "            if list1:\n",
    "                head.next = list1\n",
    "            else:\n",
    "                head.next = list2\n",
    "            \n",
    "        return root.next"
   ]
  },
  {
   "cell_type": "markdown",
   "id": "e25d2930-0f54-4f88-820d-cf186e7efa68",
   "metadata": {},
   "source": [
    "![merge](mergelist.png)"
   ]
  },
  {
   "cell_type": "markdown",
   "id": "c7f2b6aa-847e-416f-8daa-cc7a44694015",
   "metadata": {},
   "source": [
    "### 재귀로 풀이\n",
    "이해 안됨"
   ]
  },
  {
   "cell_type": "code",
   "execution_count": null,
   "id": "fb0face0-30a9-41b1-8cf7-1d49650bfb12",
   "metadata": {},
   "outputs": [],
   "source": [
    "class ListNode:\n",
    "    def __init__(self, x):\n",
    "        self.val = x\n",
    "        self.next = None\n",
    "        \n",
    "class Solution:\n",
    "    def mergeTwoLists(self, l1: ListNode, l2: ListNode) -> ListNode:\n",
    "        if not l1:    # l1이 None이면\n",
    "            return l2\n",
    "        if not l2:    # l2가 None이면 \n",
    "            return l1\n",
    "\n",
    "        # 현재 노드로 더 작은 노드를 선택\n",
    "        if l1.val < l2.val:\n",
    "            l1.next = self.mergeTwoLists(l1.next, l2)\n",
    "            return l1\n",
    "        else:\n",
    "            l2.next = self.mergeTwoLists(l1, l2.next)\n",
    "            return l2"
   ]
  },
  {
   "cell_type": "code",
   "execution_count": null,
   "id": "690238c3-a838-4211-a690-ba1382027feb",
   "metadata": {},
   "outputs": [],
   "source": []
  },
  {
   "cell_type": "code",
   "execution_count": null,
   "id": "898e680e-9207-426a-8e8a-6f0810e7ad91",
   "metadata": {},
   "outputs": [],
   "source": [
    "class ListNode:\n",
    "    def __init__(self, x):\n",
    "        self.val = x\n",
    "        self.next = None\n",
    "        \n",
    "class Solution:\n",
    "    def mergeTwoLists(self, l1: ListNode, l2: ListNode) -> ListNode:\n",
    "    # 둘 중 하나가 비어있을 때, 비어있지 않은 리스트를 반환\n",
    "        if not l1:   # l1이 None이면\n",
    "            return l2\n",
    "        if not l2:   # l2가 None이면\n",
    "            return l1\n",
    "\n",
    "        # l1의 값이 더 작게 유지\n",
    "        if l1.val > l2.val: # 만약 l1의 값이 l2의 값보다 크다면, 두 리스트를 스왑\n",
    "            l1, l2 = l2, l1\n",
    "\n",
    "        # 재귀 호출\n",
    "        l1.next = self.mergeTwoLists(l1.next, l2)  # l1.next에 현재 l1.next와 l2를 병합한 결과를 저장\n",
    "\n",
    "        return l1"
   ]
  },
  {
   "cell_type": "code",
   "execution_count": 1,
   "id": "196f1ea6-35d4-4d1e-b4a8-4a5bb20d8b0c",
   "metadata": {
    "tags": []
   },
   "outputs": [],
   "source": []
  },
  {
   "cell_type": "code",
   "execution_count": null,
   "id": "81179e5d-fe27-4ea1-acb2-504b8af361dc",
   "metadata": {},
   "outputs": [],
   "source": [
    "class ListNode:\n",
    "    def __init__(self, x):\n",
    "        self.val = x\n",
    "        self.next = None\n",
    "\n",
    "def mergeTwoLists(self, l1: ListNode, l2: ListNode) -> ListNode:\n",
    "    if (not l1) or (l2 and (l1.val > l2.val)):  # 연산자 우선순위 : 비교 > not > and > or\n",
    "         # l1이 l2보다 크고 l2가 None이 아니다 또는 l1이 None이면\n",
    "        l1, l2 = l2, l1 # l1과 l2를 스왑한다.\n",
    "    if l1:\n",
    "        l1.next = self.mergeTwoLists(l1.next, l2)\n",
    "    return l1"
   ]
  },
  {
   "cell_type": "code",
   "execution_count": 3,
   "id": "de3d662f-10db-42a9-8b50-8f96038094dd",
   "metadata": {
    "tags": []
   },
   "outputs": [
    {
     "data": {
      "text/plain": [
       "-81"
      ]
     },
     "execution_count": 3,
     "metadata": {},
     "output_type": "execute_result"
    }
   ],
   "source": [
    "-3**4  # 연산자 우선순위 : 지수 > 음수 > 곱셈/나눗셈/나머지"
   ]
  },
  {
   "cell_type": "code",
   "execution_count": 4,
   "id": "c1c1467b-654a-4cd4-b260-2146cc4fdd5b",
   "metadata": {
    "tags": []
   },
   "outputs": [
    {
     "data": {
      "text/plain": [
       "-9.0"
      ]
     },
     "execution_count": 4,
     "metadata": {},
     "output_type": "execute_result"
    }
   ],
   "source": [
    "-3**4/9"
   ]
  },
  {
   "cell_type": "code",
   "execution_count": 6,
   "id": "8e225264-0884-48c0-8c47-bcbaec8b2232",
   "metadata": {
    "tags": []
   },
   "outputs": [
    {
     "data": {
      "text/plain": [
       "True"
      ]
     },
     "execution_count": 6,
     "metadata": {},
     "output_type": "execute_result"
    }
   ],
   "source": [
    "n1 = ListNode(1)\n",
    "n2 = ListNode(2)\n",
    "n3 = ListNode(4)\n",
    "\n",
    "n4 = ListNode(1)\n",
    "n5 = ListNode(3)\n",
    "n6 = ListNode(4)\n",
    "\n",
    "n1.next = n2\n",
    "n2.next = n3\n",
    "\n",
    "n4.next = n5\n",
    "n5.next = n6\n",
    "\n",
    "l1 = n1\n",
    "l2 = n4\n",
    "\n",
    "temp = None\n",
    "not temp"
   ]
  },
  {
   "cell_type": "markdown",
   "id": "39e6fd9c-4be5-4c88-b7cc-462c33c90cb4",
   "metadata": {},
   "source": [
    "# 문15 역순 연결리스트 e\n",
    "https://leetcode.com/problems/reverse-linked-list/\n",
    "\n",
    "Given the head of a singly linked list, reverse the list, and return the reversed list."
   ]
  },
  {
   "cell_type": "markdown",
   "id": "cb92285c-cf5a-4215-bf0b-8915dcc3b983",
   "metadata": {},
   "source": [
    "### 내 풀이"
   ]
  },
  {
   "cell_type": "code",
   "execution_count": null,
   "id": "0269de1d-ff7d-4c68-a7bb-c6b291800547",
   "metadata": {},
   "outputs": [],
   "source": [
    "class Solution:\n",
    "    def reverseList(self, head: Optional[ListNode]) -> Optional[ListNode]:\n",
    "        prev = None\n",
    "        \n",
    "        while head:\n",
    "            # prev, head.next, head = head, prev, head.next\n",
    "            temp = head.next\n",
    "            head.next = prev\n",
    "            prev = head\n",
    "            head = temp\n",
    "            \n",
    "        return prev"
   ]
  },
  {
   "cell_type": "code",
   "execution_count": 14,
   "id": "81612322-da79-4bb1-82aa-b23506d68545",
   "metadata": {
    "tags": []
   },
   "outputs": [],
   "source": [
    "class Solution:\n",
    "    def reverseList(self, head: Optional[ListNode]) -> Optional[ListNode]:\n",
    "        prev = None\n",
    "        \n",
    "        while head:\n",
    "            # prev, prev.next, head = head, prev, head.next\n",
    "            temp = prev\n",
    "            prev = head\n",
    "            head = head.next\n",
    "            prev.next = temp\n",
    "            \n",
    "        return prev"
   ]
  },
  {
   "cell_type": "markdown",
   "id": "0d600dc4-2359-4701-beb3-33649cb90aa3",
   "metadata": {},
   "source": [
    "### 책, 재귀로 풀이\n",
    "이해 안됨"
   ]
  },
  {
   "cell_type": "code",
   "execution_count": null,
   "id": "8476a248-f1d7-469f-8ac0-319babc6bb6c",
   "metadata": {
    "tags": []
   },
   "outputs": [],
   "source": [
    "class Solution:\n",
    "    def reverseList(self, head: Optional[ListNode]) -> Optional[ListNode]:\n",
    "        def reverse(node: ListNode, prev: ListNode = None):\n",
    "            if not node:\n",
    "                return prev\n",
    "            next, node.next = node.next, prev\n",
    "            return reverse(next, node)\n",
    "\n",
    "        return reverse(head)\n",
    "            "
   ]
  },
  {
   "cell_type": "code",
   "execution_count": null,
   "id": "82793b2c-2d01-41e8-99fe-1aa44f745eac",
   "metadata": {
    "tags": []
   },
   "outputs": [],
   "source": [
    "def reverseList(head: ListNode) -> ListNode:\n",
    "    node, prev = head, None\n",
    "\n",
    "    while node:\n",
    "        next, node.next = node.next, prev\n",
    "        prev, node = node, next\n",
    "\n",
    "    return prev"
   ]
  },
  {
   "cell_type": "markdown",
   "id": "d691b903-d461-482e-b7f8-a3579d84fb84",
   "metadata": {},
   "source": [
    "# 문19 역순 연결리스트2 m\n",
    "https://leetcode.com/problems/reverse-linked-list-ii/description/"
   ]
  },
  {
   "cell_type": "code",
   "execution_count": null,
   "id": "dd978917-32e7-470e-b84b-ca4948cefbfd",
   "metadata": {},
   "outputs": [],
   "source": [
    "Given the head of a singly linked list and two integers left and right where left <= right, \n",
    "reverse the nodes of the list from position left to position right, and return the reversed list.\n",
    "\n",
    "Example 1:\n",
    "\n",
    "Input: head = [1,2,3,4,5], left = 2, right = 4\n",
    "Output: [1,4,3,2,5]\n",
    "\n",
    "\n",
    "Example 2:\n",
    "\n",
    "Input: head = [5], left = 1, right = 1\n",
    "Output: [5]"
   ]
  },
  {
   "cell_type": "markdown",
   "id": "09f0fc37-23c8-4a20-bac5-3ab4e33b18bd",
   "metadata": {},
   "source": [
    "### 더미 노드 사용해 연결리스트를 조작하는 방법"
   ]
  },
  {
   "cell_type": "code",
   "execution_count": 14,
   "id": "d5ca0649-232c-49d5-82c1-2fdd47d59ab9",
   "metadata": {
    "tags": []
   },
   "outputs": [
    {
     "data": {
      "text/plain": [
       "1"
      ]
     },
     "execution_count": 14,
     "metadata": {},
     "output_type": "execute_result"
    }
   ],
   "source": [
    "class ListNode:\n",
    "    def __init__(self, val=0, next=None):\n",
    "        self.val = val\n",
    "        self.next = next\n",
    "\n",
    "numbers = [1, 2, 3, 4, 5]\n",
    "dummy = ListNode()  # 더미 노드 생성. (만들고자 하는 연결리스트의 맨 앞에 존재하는 더미노드를 가리키는 포인터 dummy)\n",
    "current = dummy  # 더미 노드로 시작하는 연결 리스트의 마지막 노드를 가리키게 될 포인터 current\n",
    "\n",
    "for num in numbers:\n",
    "    current.next = ListNode(num)  # current 포인터를 이용해 새로운 노드를 더미 노드에 차례로 추가\n",
    "    current = current.next  # current 포인터를 연결한 새로운 노드를 참조하도록 변경\n",
    "\n",
    "head = dummy.next  # 더미 노드의 다음 노드가 실제 리스트의 시작점, 이 시작점을 가리키는 포인터 head\n",
    "head.val"
   ]
  },
  {
   "cell_type": "markdown",
   "id": "cbc390de-3c25-48bc-8d0c-19aeb8552f71",
   "metadata": {},
   "source": [
    "![dummy](dummy.png)"
   ]
  },
  {
   "cell_type": "markdown",
   "id": "ce39aeff-c373-49ce-97b9-7a1556efca62",
   "metadata": {},
   "source": [
    "### 더미노드를 사용하지 않고 연결리스트를 직접 조작하는 방법\n",
    "코드가 좀 더 복잡해진다"
   ]
  },
  {
   "cell_type": "code",
   "execution_count": 15,
   "id": "2ad7453a-366d-4d4e-a422-e4b659e15ca6",
   "metadata": {
    "tags": []
   },
   "outputs": [
    {
     "data": {
      "text/plain": [
       "1"
      ]
     },
     "execution_count": 15,
     "metadata": {},
     "output_type": "execute_result"
    }
   ],
   "source": [
    "class ListNode:\n",
    "    def __init__(self, val=0, next=None):\n",
    "        self.val = val\n",
    "        self.next = next\n",
    "\n",
    "numbers = [1, 2, 3, 4, 5]\n",
    "\n",
    "head = None  # 처음에는 리스트가 비어 있습니다.\n",
    "for num in numbers:\n",
    "    if head is None:\n",
    "        head = ListNode(num)  # 리스트가 비어 있으면 첫 번째 노드를 만듭니다.\n",
    "        current = head  # 현재 노드를 가리키는 포인터입니다.\n",
    "    else:\n",
    "        current.next = ListNode(num)  # 현재 노드의 다음으로 새 노드를 추가합니다.\n",
    "        current = current.next  # 현재 노드를 새로 추가된 노드로 업데이트합니다.\n",
    "\n",
    "head.val"
   ]
  },
  {
   "cell_type": "markdown",
   "id": "800b2869-67ff-4359-a9a6-d175af98ced8",
   "metadata": {},
   "source": [
    "![nodummy](nodummy.png)"
   ]
  },
  {
   "cell_type": "markdown",
   "id": "8ec95410-d1f9-4a48-8722-e0dc6b75f82a",
   "metadata": {},
   "source": [
    "### 더미노드를 사용하지 않아도, 연결리스트의 노드들을 참조하는 별도의 current 포인터는 여전히 필요하다.\n",
    "### 왜냐면 head 포인터 자체를 업데이트 하게 되면 노드들이 연결되지 않기 때문이다"
   ]
  },
  {
   "cell_type": "code",
   "execution_count": 16,
   "id": "7fe6b9d7-226a-4b7f-a47e-41159a7ea5b7",
   "metadata": {
    "tags": []
   },
   "outputs": [
    {
     "ename": "AttributeError",
     "evalue": "'NoneType' object has no attribute 'val'",
     "output_type": "error",
     "traceback": [
      "\u001b[0;31m---------------------------------------------------------------------------\u001b[0m",
      "\u001b[0;31mAttributeError\u001b[0m                            Traceback (most recent call last)",
      "Cell \u001b[0;32mIn[16], line 7\u001b[0m\n\u001b[1;32m      4\u001b[0m     head \u001b[38;5;241m=\u001b[39m ListNode(num)\n\u001b[1;32m      5\u001b[0m     head \u001b[38;5;241m=\u001b[39m head\u001b[38;5;241m.\u001b[39mnext\n\u001b[0;32m----> 7\u001b[0m head\u001b[38;5;241m.\u001b[39mval\n",
      "\u001b[0;31mAttributeError\u001b[0m: 'NoneType' object has no attribute 'val'"
     ]
    }
   ],
   "source": [
    "numbers = [1, 2, 3, 4, 5]\n",
    "\n",
    "for num in numbers:\n",
    "    head = ListNode(num)\n",
    "    head = head.next\n",
    "\n",
    "head.val"
   ]
  },
  {
   "cell_type": "markdown",
   "id": "5d51710e-e0c2-4090-86a3-37c7e50fe2a2",
   "metadata": {},
   "source": [
    "연결 리스트를 구성할 때 더미노드 방법을 사용하는 이유는 다음과 같습니다:  \n",
    "  \n",
    "1. **일관성 있는 시작점 확보**:   \n",
    "    연결 리스트의 시작 부분을 항상 명확하게 식별할 수 있어야 합니다.   \n",
    "    처음 노드를 추가할 때 `head`가 바로 그 노드를 가리키도록 설정할 수 있지만,   \n",
    "    리스트가 비어있을 때와 그렇지 않을 때를 구분해야 하는 추가적인 로직이 필요합니다.   \n",
    "    더미 노드를 사용하면 이런 구분 없이도 리스트의 시작점을 일관되게 `dummy.next`로 설정할 수 있습니다.  \n",
    "  \n",
    "2. **코드의 단순화**:   \n",
    "    연결 리스트에 노드를 추가할 때마다 \"현재 리스트가 비어 있는가?\"를 확인하고,   \n",
    "    비어 있다면 특별히 첫 번째 노드를 다루는 코드를 작성해야 합니다.   \n",
    "    이는 코드를 복잡하게 만듭니다. 더미 노드를 사용하면 이런 확인이 필요 없어 코드가 훨씬 단순해집니다.  \n",
    "  \n",
    "3. **에러 감소**:   \n",
    "    더미 노드를 사용함으로써,   \n",
    "    실수로 `head`를 잃어버리거나 잘못된 노드를 `head`로 설정하는 실수를 줄일 수 있습니다.   \n",
    "    `head`를 직접 조작하지 않고 `dummy.next`를 통해 간접적으로 접근하기 때문입니다.  \n",
    "  \n",
    "4. **효율적인 노드 추가**:   \n",
    "    새로운 노드를 리스트의 끝에 추가하려면, 현재 리스트의 마지막 노드를 알아야 합니다.   \n",
    "    리스트를 순회하지 않고 마지막 노드에 바로 접근할 수 있도록 `current` 같은 포인터를 유지함으로써,   \n",
    "    새 노드를 빠르고 효율적으로 추가할 수 있습니다.  \n",
    "  \n",
    "5. **유연성 증가**:   \n",
    "    이 방법은 더 복잡한 연결 리스트 조작에도 유리합니다.    \n",
    "    예를 들어, 특정 위치에 노드를 삽입하거나 삭제하는 경우에도,   \n",
    "    더미 노드와 `current` 포인터를 사용하면 로직을 간단하고 명확하게 유지할 수 있습니다.  \n",
    "\n",
    "요약하자면, 더미 노드를 사용하는 것은   \n",
    "연결 리스트를 다룰 때 발생할 수 있는 여러 복잡성과 에러를 줄이는 동시에   \n",
    "코드의 가독성과 유지보수성을 높이는 방법입니다.   \n",
    "연결 리스트와 같은 자료 구조를 사용할 때 이런 접근법은 매우 흔하며,   \n",
    "효과적인 프로그래밍 습관 중 하나입니다.  "
   ]
  },
  {
   "cell_type": "code",
   "execution_count": null,
   "id": "a0b65e9a-5b32-4210-8925-5f41c9e5e914",
   "metadata": {},
   "outputs": [],
   "source": [
    "class Solution:\n",
    "    def reverseBetween(self, head: ListNode, left: int, right: int) -> ListNode:\n",
    "        \n",
    "        dummy = ListNode(0, head)\n",
    "        prev = dummy                # 이전 노드를 추적하기 위한 변수 prev\n",
    "        \n",
    "        for _ in range(left - 1):   # 역순으로 시작할 노드의 바로 앞 노드 위치까지 prev를 이동\n",
    "            prev = prev.next\n",
    "            \n",
    "        reverse = None\n",
    "        current = prev.next         # 역순 시작노드를 참조하는 변수 current\n",
    "        for _ in range(right - left + 1):\n",
    "            temp = current.next\n",
    "            current.next = reverse\n",
    "            reverse = current\n",
    "            current = temp\n",
    "        \n",
    "        # 역순 리스트와 원래 리스트 연결\n",
    "        prev.next.next = current\n",
    "        prev.next = reverse\n",
    "        \n",
    "        return dummy.next"
   ]
  },
  {
   "cell_type": "markdown",
   "id": "5eee51bb-ffd6-4de7-976b-1e747fe2ddc2",
   "metadata": {},
   "source": [
    "이 솔루션에서 for _ in range(left - 1)을 사용하는 이유는, 주어진 연결 리스트에서 left 위치에 있는 노드를 역순으로 만들기 시작하기 전의 노드, 즉 left 위치의 바로 앞 노드(prev)에 대한 참조를 얻기 위함입니다. left에서 1을 빼는 것은, 0-based indexing이 아닌 1-based indexing을 따르기 때문에, prev 노드가 실제로 역순으로 만들어야 할 첫 번째 노드의 바로 이전 노드를 가리키도록 하기 위한 계산입니다\n",
    "\n",
    "일반적으로 프로그래밍 언어에서 배열이나 리스트의 인덱스는 0부터 시작하는 0-based indexing을 사용합니다. 하지만, 많은 알고리즘 문제나 데이터 구조에서는 1부터 시작하는 1-based indexing을 사용하여 설명하곤 합니다. 이러한 차이는 알고리즘을 구현할 때 주의해야 할 점 중 하나입니다.\n",
    "\n",
    "left와 right로 주어진 범위가 1-based indexing을 따른다면, 이 범위를 기반으로 연결 리스트의 특정 부분을 처리할 때 인덱스 조정이 필요합니다. 특히, 연결 리스트에서 특정 범위의 노드들을 역순으로 만들 때, left 위치의 노드를 직접 가리키기 위해서는 실제로는 left - 1번 이동해야 합니다. 왜냐하면, 우리가 처리하고자 하는 시작 노드의 \"이전 노드\"에 도달하기 위해서는 left에서 1을 빼주어야 하기 때문입니다. \n",
    "\n",
    "연결 리스트에서 특정 범위의 노드들을 역순으로 만들기 위해 \"시작 노드의 이전 노드\"에 도달해야 하는 이유\n",
    "\n",
    "연결 유지: 연결 리스트에서 일부 노드들을 역순으로 만들 때, 전체 리스트의 연속성을 유지하기 위해서는 역순으로 만든 부분의 시작점과 끝점을 기존 리스트의 나머지 부분과 올바르게 연결해야 합니다. 이를 위해, 역순으로 만들기 시작할 위치의 이전 노드를 알고 있어야 합니다. 이 이전 노드(prev)의 next 포인터를 역순으로 만든 리스트의 첫 번째 노드에 연결하고, 역순으로 만들었던 마지막 노드의 next 포인터를 역순 범위 다음의 첫 번째 노드에 연결합니다.\n",
    "\n",
    "범위의 정확한 처리: 역순으로 만들기 시작할 노드(left)와 역순으로 만들기를 마칠 노드(right)의 정확한 범위를 처리하기 위해, left 노드의 바로 이전 노드에 대한 참조가 필요합니다. 이를 통해 역순 처리할 범위를 정확히 지정하고, 해당 범위 외의 노드들은 그대로 유지할 수 있습니다.\n",
    "\n",
    "역순 처리의 용이성: 역순 처리 과정에서는 현재 처리하고 있는 노드를 가리키는 포인터(current)와 이전 노드를 가리키는 포인터(prev)를 이용합니다. left 노드의 이전 노드에 대한 참조를 가지고 있지 않으면, 역순으로 만들고 난 후의 연결 처리에서 복잡성이 증가하며, 올바른 연결을 보장하기 어렵습니다."
   ]
  },
  {
   "cell_type": "code",
   "execution_count": null,
   "id": "23deafec-0cf9-432d-9d69-3070b0c1d421",
   "metadata": {},
   "outputs": [],
   "source": [
    "class Solution:\n",
    "    def reverseBetween(self, head: ListNode, left: int, right: int) -> ListNode:\n",
    "        # 더미 노드 생성\n",
    "        dummy = ListNode()\n",
    "        dummy.next = head\n",
    "        \n",
    "        current = dummy               # 이전 노드를 추적하기 위한 변수 current\n",
    "        \n",
    "        for i in range(left - 1):     # current를 역순으로 시작할 노드의 바로 앞 노드까지 이동\n",
    "            current = current.next\n",
    "       \n",
    "        start = current.next          # 역순으로 만들 구간의 시작 노드와 다음 노드\n",
    "        end = start.next\n",
    "        \n",
    "        for _ in range(right - left): # 지정된 범위의 노드들을 역순으로 만듦\n",
    "            start.next = end.next\n",
    "            end.next = current.next\n",
    "            current.next = end\n",
    "            end = start.next\n",
    "        # 수정된 리스트의 헤드 반환\n",
    "        return dummy.next"
   ]
  },
  {
   "cell_type": "code",
   "execution_count": null,
   "id": "418b9e2a-9311-4b66-a03b-1fa11d52fcfd",
   "metadata": {},
   "outputs": [],
   "source": []
  },
  {
   "cell_type": "markdown",
   "id": "fc662f8e-133c-4c65-a74e-98064b8a9d42",
   "metadata": {},
   "source": [
    "# 문16 두 수의 덧셈 m\n",
    "https://leetcode.com/problems/add-two-numbers"
   ]
  },
  {
   "cell_type": "code",
   "execution_count": null,
   "id": "579885ac-5561-4597-adbc-8cc2a0637e1d",
   "metadata": {},
   "outputs": [],
   "source": [
    "You are given two non-empty linked lists representing two non-negative integers. \n",
    "The digits are stored in reverse order, and each of their nodes contains a single digit. \n",
    "Add the two numbers and return the sum as a linked list.\n",
    "\n",
    "You may assume the two numbers do not contain any leading zero, except the number 0 itself.\n",
    "\n",
    "Input: l1 = [2,4,3], l2 = [5,6,4]\n",
    "Output: [7,0,8]\n",
    "Explanation: 342 + 465 = 807.\n",
    "\n",
    "Example 3:\n",
    "\n",
    "Input: l1 = [9,9,9,9,9,9,9], l2 = [9,9,9,9]\n",
    "Output: [8,9,9,9,0,0,0,1]\n",
    " \n",
    "Constraints:\n",
    "\n",
    "The number of nodes in each linked list is in the range [1, 100].\n",
    "# Definition for singly-linked list.\n",
    "# class ListNode:\n",
    "#     def __init__(self, val=0, next=None):\n",
    "#         self.val = val\n",
    "#         self.next = next\n",
    "class Solution:\n",
    "    def addTwoNumbers(self, l1: Optional[ListNode], l2: Optional[ListNode]) -> Optional[ListNode]:\n",
    "        "
   ]
  },
  {
   "cell_type": "code",
   "execution_count": null,
   "id": "b86088f0-7ada-4049-9be7-c34ee779f780",
   "metadata": {},
   "outputs": [],
   "source": [
    "문제해결전략 접근 아이디어\n",
    "\n",
    "두 연결리스트를 리스트에 담아 뒤집은 다음 더한 결과를 다시 뒤집어 연결리스트에 넣는다"
   ]
  },
  {
   "cell_type": "code",
   "execution_count": null,
   "id": "acb0e611-0b1f-4041-b5ab-b2d4eaa32d7c",
   "metadata": {},
   "outputs": [],
   "source": [
    "# Definition for singly-linked list.\n",
    "# class ListNode:\n",
    "#     def __init__(self, val=0, next=None):\n",
    "#         self.val = val\n",
    "#         self.next = next\n",
    "class Solution:\n",
    "    def addTwoNumbers(self, l1: Optional[ListNode], l2: Optional[ListNode]) -> Optional[ListNode]:\n",
    "        head_l1 = l1\n",
    "        head_l2 = l2\n",
    "\n",
    "        l1_lst = []\n",
    "        l2_lst = []\n",
    "\n",
    "        while l1:\n",
    "            l1_lst.append(str(l1.val))\n",
    "            l1 = l1.next\n",
    "        while l2:\n",
    "            l2_lst.append(str(l2.val))\n",
    "            l2 = l2.next\n",
    "            \n",
    "        num_l1 = int(''.join(l1_lst)[::-1])\n",
    "        num_l2 = int(''.join(l2_lst)[::-1])\n",
    "        result = list(map(int, list(str(num_l1+num_l2)[::-1])))\n",
    "\n",
    "        current = head = ListNode()\n",
    "        for num in result:\n",
    "            current.next = ListNode(num)\n",
    "            current = current.next\n",
    "        \n",
    "        return head.next"
   ]
  },
  {
   "cell_type": "code",
   "execution_count": null,
   "id": "03f7fdaa-bce8-4ef3-b7d9-58de9827fd99",
   "metadata": {},
   "outputs": [],
   "source": [
    "Input: l1 = [9,9,9,9,9,9,9], l2 = [9,9,9,9]\n",
    "Output: [8,9,9,9,0,0,0,1]\n",
    "\n",
    "Input: l1 = [2,4,3], l2 = [5,6,4]\n",
    "Output: [7,0,8]"
   ]
  },
  {
   "cell_type": "code",
   "execution_count": null,
   "id": "fc10c2d5-29e0-4a95-89f4-9b31ff6a4ae4",
   "metadata": {},
   "outputs": [],
   "source": [
    "# Definition for singly-linked list.\n",
    "class ListNode:\n",
    "    def __init__(self, val=0, next=None):\n",
    "        self.val = val\n",
    "        self.next = next\n",
    "\n",
    "class Solution:\n",
    "    def addTwoNumbers(self, l1: Optional[ListNode], l2: Optional[ListNode]) -> Optional[ListNode]:\n",
    "        # 더미 노드를 생성하여 시작점을 마킹합니다. 결과 연결 리스트의 헤드 역할을 합니다.\n",
    "        head = current = ListNode(0)\n",
    "        carry = 0  # 올림수를 기억합니다.\n",
    "        \n",
    "        # l1과 l2를 순회합니다. 둘 중 하나라도 None이 아니거나 올림수가 있는 동안 반복합니다.\n",
    "        while l1 or l2 or carry:\n",
    "            val1 = (l1.val if l1 else 0)\n",
    "            val2 = (l2.val if l2 else 0)\n",
    "            \n",
    "            # 두 값과 이전 올림수를 더합니다.\n",
    "            total = val1 + val2 + carry\n",
    "            \n",
    "            # 10으로 나눈 나머지는 현재 노드의 값이 됩니다.\n",
    "            current.next = ListNode(total % 10)\n",
    "            current = current.next\n",
    "            \n",
    "            # 10으로 나눈 몫은 다음 올림수가 됩니다.\n",
    "            carry = total // 10\n",
    "            \n",
    "            # l1과 l2가 None이 아니면 다음 노드로 이동합니다.\n",
    "            if l1:\n",
    "                l1 = l1.next\n",
    "            if l2:\n",
    "                l2 = l2.next\n",
    "                \n",
    "        # 더미 노드의 다음 노드를 반환합니다.\n",
    "        return head.next"
   ]
  },
  {
   "cell_type": "markdown",
   "id": "c69f6976-db78-49cf-b6ff-056e739f3075",
   "metadata": {},
   "source": [
    "# 문17 페어의 노드 스왑 m\n",
    "https://leetcode.com/problems/swap-nodes-in-pairs"
   ]
  },
  {
   "cell_type": "code",
   "execution_count": null,
   "id": "3641deec-b0db-4da9-9d3a-fd1774faa093",
   "metadata": {},
   "outputs": [],
   "source": [
    "Given a linked list, swap every two adjacent nodes and return its head. \n",
    "You must solve the problem without modifying the values in the list's nodes \n",
    "(i.e., only nodes themselves may be changed.)\n",
    "\n",
    "Input: head = [1,2,3,4]\n",
    "Output: [2,1,4,3]\n",
    "\n",
    "# Definition for singly-linked list.\n",
    "# class ListNode:\n",
    "#     def __init__(self, val=0, next=None):\n",
    "#         self.val = val\n",
    "#         self.next = next\n",
    "class Solution:\n",
    "    def swapPairs(self, head: Optional[ListNode]) -> Optional[ListNode]:\n",
    "        "
   ]
  },
  {
   "cell_type": "code",
   "execution_count": null,
   "id": "4d643676-97f5-4c57-ad1a-ab353af229a8",
   "metadata": {},
   "outputs": [],
   "source": [
    "# Definition for singly-linked list.\n",
    "# class ListNode:\n",
    "#     def __init__(self, val=0, next=None):\n",
    "#         self.val = val\n",
    "#         self.next = next\n",
    "class Solution:\n",
    "    def swapPairs(self, head: Optional[ListNode]) -> Optional[ListNode]:\n",
    "        front = rear = head\n",
    "\n",
    "        while front and front.next:\n",
    "\n",
    "            rear = front.next\n",
    "\n",
    "            front.val, rear.val = rear.val, front.val\n",
    "\n",
    "            if front.next.next:\n",
    "                front = front.next.next\n",
    "            else:\n",
    "                break\n",
    "\n",
    "        return head"
   ]
  },
  {
   "cell_type": "markdown",
   "id": "839ea3ce-9652-482c-a227-a31c62fe7eff",
   "metadata": {},
   "source": [
    "노드의 값을 스왑하는 것은 메모리 사용량이 적고 구현이 간단하지만,  \n",
    "노드에 추가적인 데이터 필드나 복잡한 객체가 포함된 경우 이 방식은 최적의 선택이 아닐 수 있습니다"
   ]
  },
  {
   "cell_type": "code",
   "execution_count": null,
   "id": "44817e81-6020-40b7-8bf4-7dc479cc82e4",
   "metadata": {},
   "outputs": [],
   "source": [
    "# Definition for singly-linked list.\n",
    "class ListNode:\n",
    "    def __init__(self, val=0, next=None):\n",
    "        self.val = val\n",
    "        self.next = next\n",
    "\n",
    "class Solution:\n",
    "    def swapPairs(self, head: Optional[ListNode]) -> Optional[ListNode]:\n",
    "        # 더미 노드를 생성하고, 이를 결과 연결 리스트의 헤드 앞에 배치합니다.\n",
    "        dummy = ListNode()\n",
    "        dummy.next = head\n",
    "        current = dummy\n",
    "\n",
    "        # 현재 노드의 다음과 다다음 노드가 모두 존재하는 동안 반복합니다.\n",
    "        while current.next and current.next.next:\n",
    "            # 스왑할 두 노드를 식별합니다.\n",
    "            first = current.next\n",
    "            second = current.next.next\n",
    "\n",
    "            # 노드를 스왑합니다.\n",
    "            first.next = second.next\n",
    "            second.next = first\n",
    "            current.next = second\n",
    "\n",
    "            # 다음 쌍으로 이동합니다.\n",
    "            current = first\n",
    "            # current = current.next.next\n",
    "            \n",
    "        # 더미 노드의 다음 노드를 반환합니다.\n",
    "        return dummy.next\n"
   ]
  },
  {
   "cell_type": "code",
   "execution_count": null,
   "id": "b1c3d798-8c06-42d7-bd0a-70df6ad65ee4",
   "metadata": {},
   "outputs": [],
   "source": [
    "class Solution:\n",
    "    def swapPairs(self, head: Optional[ListNode]) -> Optional[ListNode]:\n",
    "        # 현재 리스트가 비어 있거나 노드가 하나만 있는 경우, 더 이상 스왑할 수 없으므로 현재 리스트를 반환합니다.\n",
    "        if head is None or head.next is None:\n",
    "            return head\n",
    "        \n",
    "        # nextPair은 현재 노드의 다음 쌍을 가리키며, 이를 통해 재귀 호출을 합니다.\n",
    "        # 재귀 호출의 결과는 현재 노드와 스왑할 다음 노드의 next에 연결됩니다.\n",
    "        nextPair = self.swapPairs(head.next.next)\n",
    "        \n",
    "        # nextNode는 현재 노드(head)의 다음 노드를 가리킵니다.\n",
    "        # 이 노드가 새로운 \"헤드\" 노드가 될 것입니다.\n",
    "        nextNode = head.next\n",
    "        \n",
    "        # 스왑 과정에서, nextNode의 next는 현재 노드(head)를 가리키도록 합니다.\n",
    "        nextNode.next = head\n",
    "        \n",
    "        # 현재 노드(head)의 next는 재귀 호출을 통해 반환된 nextPair를 가리키도록 합니다.\n",
    "        head.next = nextPair\n",
    "        \n",
    "        # 스왑된 새로운 \"헤드\" 노드(nextNode)를 반환합니다.\n",
    "        return nextNode\n"
   ]
  },
  {
   "cell_type": "markdown",
   "id": "fd838249-f23e-4d89-996e-d7cf6fee1208",
   "metadata": {},
   "source": [
    "# 문18 홀짝 연결리스트 m\n",
    "https://leetcode.com/problems/odd-even-linked-list"
   ]
  },
  {
   "cell_type": "markdown",
   "id": "7e953bb1-808b-449c-a09e-b1f2ab7e5327",
   "metadata": {},
   "source": [
    "Given the head of a singly linked list, \n",
    "group all the nodes with odd indices together followed by the nodes with even indices, \n",
    "and return the reordered list.\n",
    "\n",
    "The first node is considered odd, and the second node is even, and so on.\n",
    "Note that the relative order inside both the even and odd groups should remain as it was in the input.\n",
    "You must solve the problem in O(1) extra space complexity and O(n) time complexity.\n",
    "\n",
    "\n",
    "Example 1:\n",
    "Input: head = [1,2,3,4,5]\n",
    "Output: [1,3,5,2,4]        "
   ]
  },
  {
   "cell_type": "markdown",
   "id": "4e3be143",
   "metadata": {},
   "source": [
    "문제해결전략 접근 아이디어\n",
    "  \n",
    "연결리스트를 직접 수정한다.  \n",
    "포인터 참조 관계를 변경하는 것만으로 가능하다  \n",
    "종이에 연필로 연결리스트 그림을 그려서,  \n",
    "next 포인터가 어떤 노드를 참조해야 하는지,    \n",
    "노드 포인터가 어디를 참조해야 하는지 그려가면서 코딩  "
   ]
  },
  {
   "cell_type": "code",
   "execution_count": 3,
   "id": "906d17ae",
   "metadata": {},
   "outputs": [],
   "source": [
    "from typing import Optional\n",
    "\n",
    "class ListNode:\n",
    "    def __init__(self, val=0, next=None):\n",
    "        self.val = val\n",
    "        self.next = next\n",
    "\n",
    "class Solution:\n",
    "    def oddEvenList(self, head: Optional[ListNode]) -> Optional[ListNode]:\n",
    "        even = []\n",
    "        odd = []\n",
    "        node = head\n",
    "        cnt = 1\n",
    "        while node:\n",
    "            value = node.val\n",
    "            if cnt % 2 != 0:\n",
    "                odd.append(value)\n",
    "                cnt += 1 \n",
    "            else:\n",
    "                even.append(value)\n",
    "                cnt += 1   \n",
    "            node = node.next\n",
    "\n",
    "        dummy = ListNode()\n",
    "        current = dummy\n",
    "        odd.extend(even)\n",
    "        for n in odd:\n",
    "            current.next = ListNode(n)\n",
    "            current = current.next\n",
    "            \n",
    "        return dummy.next "
   ]
  },
  {
   "cell_type": "markdown",
   "id": "0f87251e",
   "metadata": {},
   "source": [
    "### chatGPT 풀이"
   ]
  },
  {
   "cell_type": "code",
   "execution_count": 8,
   "id": "58d18d0d",
   "metadata": {},
   "outputs": [],
   "source": [
    "from typing import Optional\n",
    "\n",
    "class ListNode:\n",
    "    def __init__(self, val=0, next=None):\n",
    "        self.val = val\n",
    "        self.next = next\n",
    "\n",
    "class Solution:\n",
    "    def oddEvenList(self, head: Optional[ListNode]) -> Optional[ListNode]:\n",
    "        # 연결 리스트가 비어있거나, 노드가 하나 또는 두 개밖에 없는 경우 그대로 반환\n",
    "        if not head or not head.next:\n",
    "            return head\n",
    "        \n",
    "        # 홀수 인덱스를 위한 시작 노드와 짝수 인덱스를 위한 시작 노드 설정\n",
    "        odd_node = head  # 첫 번째 노드는 홀수 인덱스\n",
    "        even_head = even_node = head.next  # 두 번째 노드는 짝수 인덱스의 시작\n",
    "\n",
    "        # 짝수 노드와 그 다음 홀수 노드가 존재하는 동안 반복\n",
    "        while even_node and even_node.next:\n",
    "            # 현재 홀수 노드의 다음 노드를 다음 짝수 노드의 다음 노드로 연결\n",
    "            odd_node.next = even_node.next\n",
    "            odd_node = odd_node.next  # 홀수 노드를 업데이트\n",
    "\n",
    "            # 현재 짝수 노드의 다음 노드를 다음 홀수 노드의 다음 노드로 연결\n",
    "            even_node.next = odd_node.next\n",
    "            even_node = even_node.next  # 짝수 노드를 업데이트\n",
    "\n",
    "        # 모든 홀수 인덱스 노드 처리 후, 마지막 홀수 노드의 다음 노드를 짝수 노드의 첫 노드로 연결\n",
    "        odd_node.next = even_head\n",
    "\n",
    "        # 재정렬된 연결 리스트의 첫 노드 반환\n",
    "        return head\n"
   ]
  },
  {
   "cell_type": "code",
   "execution_count": null,
   "id": "22b9eaf5",
   "metadata": {},
   "outputs": [],
   "source": []
  }
 ],
 "metadata": {
  "kernelspec": {
   "display_name": "Python 3 (ipykernel)",
   "language": "python",
   "name": "python3"
  },
  "language_info": {
   "codemirror_mode": {
    "name": "ipython",
    "version": 3
   },
   "file_extension": ".py",
   "mimetype": "text/x-python",
   "name": "python",
   "nbconvert_exporter": "python",
   "pygments_lexer": "ipython3",
   "version": "3.11.0"
  }
 },
 "nbformat": 4,
 "nbformat_minor": 5
}
