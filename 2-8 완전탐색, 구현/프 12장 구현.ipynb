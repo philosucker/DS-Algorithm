{
 "cells": [
  {
   "cell_type": "markdown",
   "id": "efd89067-755f-4b27-ba38-37ea044164fa",
   "metadata": {},
   "source": [
    "# 문52 키패드 누르기 m\n",
    "https://school.programmers.co.kr/learn/courses/30/lessons/67256"
   ]
  },
  {
   "cell_type": "markdown",
   "id": "8ec56fe0-b1ec-4e18-8395-d8c9031edacd",
   "metadata": {},
   "source": [
    "# 문55 줄 서는 방법 m\n",
    "https://school.programmers.co.kr/learn/courses/30/lessons/12936"
   ]
  },
  {
   "cell_type": "code",
   "execution_count": null,
   "id": "c2f91902-f7ba-4a5b-8fec-eec6c211166b",
   "metadata": {},
   "outputs": [],
   "source": []
  }
 ],
 "metadata": {
  "kernelspec": {
   "display_name": "Python 3 (ipykernel)",
   "language": "python",
   "name": "python3"
  },
  "language_info": {
   "codemirror_mode": {
    "name": "ipython",
    "version": 3
   },
   "file_extension": ".py",
   "mimetype": "text/x-python",
   "name": "python",
   "nbconvert_exporter": "python",
   "pygments_lexer": "ipython3",
   "version": "3.11.0"
  }
 },
 "nbformat": 4,
 "nbformat_minor": 5
}
