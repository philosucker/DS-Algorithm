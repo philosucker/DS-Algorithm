{
 "cells": [
  {
   "cell_type": "markdown",
   "id": "3b550ade-5728-4ee8-bcd5-42dffb46128a",
   "metadata": {
    "tags": []
   },
   "source": [
    "## 구현 simulation 문제는 모든 지식을 총동원해 풀어야 하는 문제다.  \n",
    "\n",
    "### 1. 문제가 요구하는 사항을 정확히 이해하고  \n",
    "### 2. 구현방법을 정한 후  \n",
    "\n",
    "    종이에 연필로 모든 과정을 재현해보면서 직접 규칙을 찾아본다.\n",
    "    비효율적이고 시간낭비처럼 보이지만 \n",
    "    아무것도 없이 가설부터 세우고 접근하는 것보다 훨씬 시행착오가 줄어든다\n",
    "    아무리 실력이 좋고 경험이 많아도\n",
    "    종이와 펜을 드는 건 가장 중요하다.\n",
    "    \n",
    "    구현방법을 어떻게 정해야 할지 모르겠을 때,  \n",
    "    \n",
    "    빠르게 해답을 보고 개념과 코드를 어떻게 연결시켜내야 하는지 해부한다.  \n",
    "### 3. 구현 도중 발생하는 예외처리까지 해야 한다.\n",
    "    (맞는 것 같은데 테스트케이스를 다 통과못한다면  \n",
    "    \n",
    "    극단적인 케이스를 생각해봐라, \n",
    "    입력이 0, 1이거나 아니면 10만 크기의 입력이거나)  "
   ]
  },
  {
   "cell_type": "markdown",
   "id": "d99e8b94-4cb3-4498-ad73-715739db8653",
   "metadata": {},
   "source": [
    "### 구현후 돌렸을 때 에러가 나는 경우  "
   ]
  },
  {
   "cell_type": "code",
   "execution_count": 4,
   "id": "81b40c2e-08c2-4d92-83b5-d44787b6f5d3",
   "metadata": {
    "tags": []
   },
   "outputs": [
    {
     "ename": "SyntaxError",
     "evalue": "incomplete input (842610461.py, line 2)",
     "output_type": "error",
     "traceback": [
      "\u001b[0;36m  Cell \u001b[0;32mIn[4], line 2\u001b[0;36m\u001b[0m\n\u001b[0;31m    numbers[5\u001b[0m\n\u001b[0m             ^\u001b[0m\n\u001b[0;31mSyntaxError\u001b[0m\u001b[0;31m:\u001b[0m incomplete input\n"
     ]
    }
   ],
   "source": [
    "# SyntaxError: 닫는 괄호를 빼먹거나, 조건문에서 :을 빼먹는 등 코드가 어설프게 마무리되면 발생\n",
    "numbers = [1,2,3,4,5]\n",
    "numbers[5"
   ]
  },
  {
   "cell_type": "code",
   "execution_count": 3,
   "id": "c20b4cb5-4eb7-4e55-af39-4e08022d8033",
   "metadata": {
    "tags": []
   },
   "outputs": [
    {
     "ename": "IndexError",
     "evalue": "list index out of range",
     "output_type": "error",
     "traceback": [
      "\u001b[0;31m---------------------------------------------------------------------------\u001b[0m",
      "\u001b[0;31mIndexError\u001b[0m                                Traceback (most recent call last)",
      "Cell \u001b[0;32mIn[3], line 2\u001b[0m\n\u001b[1;32m      1\u001b[0m numbers \u001b[38;5;241m=\u001b[39m [\u001b[38;5;241m1\u001b[39m,\u001b[38;5;241m2\u001b[39m,\u001b[38;5;241m3\u001b[39m,\u001b[38;5;241m4\u001b[39m,\u001b[38;5;241m5\u001b[39m]\n\u001b[0;32m----> 2\u001b[0m numbers[\u001b[38;5;241m5\u001b[39m]\n",
      "\u001b[0;31mIndexError\u001b[0m: list index out of range"
     ]
    }
   ],
   "source": [
    "# IndexError: 없는 위치에 접근하려고 할 때\n",
    "numbers = [1,2,3,4,5]\n",
    "numbers[5]"
   ]
  },
  {
   "cell_type": "code",
   "execution_count": 2,
   "id": "c410f84a-e216-4366-be67-50c88d05f2c1",
   "metadata": {
    "tags": []
   },
   "outputs": [
    {
     "ename": "ValueError",
     "evalue": "6 is not in list",
     "output_type": "error",
     "traceback": [
      "\u001b[0;31m---------------------------------------------------------------------------\u001b[0m",
      "\u001b[0;31mValueError\u001b[0m                                Traceback (most recent call last)",
      "Cell \u001b[0;32mIn[2], line 2\u001b[0m\n\u001b[1;32m      1\u001b[0m numbers \u001b[38;5;241m=\u001b[39m [\u001b[38;5;241m1\u001b[39m,\u001b[38;5;241m2\u001b[39m,\u001b[38;5;241m3\u001b[39m,\u001b[38;5;241m4\u001b[39m,\u001b[38;5;241m5\u001b[39m]\n\u001b[0;32m----> 2\u001b[0m idx \u001b[38;5;241m=\u001b[39m numbers\u001b[38;5;241m.\u001b[39mindex(\u001b[38;5;241m6\u001b[39m)\n",
      "\u001b[0;31mValueError\u001b[0m: 6 is not in list"
     ]
    }
   ],
   "source": [
    "# ValueError: 없는 데이터를 찾으려고 할 때\n",
    "numbers = [1,2,3,4,5]\n",
    "idx = numbers.index(6)"
   ]
  },
  {
   "cell_type": "code",
   "execution_count": 5,
   "id": "514eb7e7-f2df-412f-8010-a1b7bef1193d",
   "metadata": {
    "tags": []
   },
   "outputs": [
    {
     "ename": "KeyError",
     "evalue": "'b'",
     "output_type": "error",
     "traceback": [
      "\u001b[0;31m---------------------------------------------------------------------------\u001b[0m",
      "\u001b[0;31mKeyError\u001b[0m                                  Traceback (most recent call last)",
      "Cell \u001b[0;32mIn[5], line 2\u001b[0m\n\u001b[1;32m      1\u001b[0m data \u001b[38;5;241m=\u001b[39m {\u001b[38;5;124m\"\u001b[39m\u001b[38;5;124ma\u001b[39m\u001b[38;5;124m\"\u001b[39m : \u001b[38;5;241m65\u001b[39m, \u001b[38;5;124m\"\u001b[39m\u001b[38;5;124mz\u001b[39m\u001b[38;5;124m\"\u001b[39m : \u001b[38;5;241m95\u001b[39m}\n\u001b[0;32m----> 2\u001b[0m data[\u001b[38;5;124m\"\u001b[39m\u001b[38;5;124mb\u001b[39m\u001b[38;5;124m\"\u001b[39m]\n",
      "\u001b[0;31mKeyError\u001b[0m: 'b'"
     ]
    }
   ],
   "source": [
    "# KeyError: 없는 데이터를 찾으려고 할 때\n",
    "data = {\"a\" : 65, \"z\" : 95}\n",
    "data[\"b\"]"
   ]
  },
  {
   "cell_type": "code",
   "execution_count": 11,
   "id": "22092b00-b9b5-45aa-9d16-c50dfdc838a2",
   "metadata": {
    "tags": []
   },
   "outputs": [
    {
     "ename": "TypeError",
     "evalue": "func() takes 2 positional arguments but 3 were given",
     "output_type": "error",
     "traceback": [
      "\u001b[0;31m---------------------------------------------------------------------------\u001b[0m",
      "\u001b[0;31mTypeError\u001b[0m                                 Traceback (most recent call last)",
      "Cell \u001b[0;32mIn[11], line 5\u001b[0m\n\u001b[1;32m      3\u001b[0m     \u001b[38;5;28;01mreturn\u001b[39;00m arr[idx]\n\u001b[1;32m      4\u001b[0m numbers \u001b[38;5;241m=\u001b[39m [\u001b[38;5;241m1\u001b[39m,\u001b[38;5;241m2\u001b[39m,\u001b[38;5;241m3\u001b[39m,\u001b[38;5;241m4\u001b[39m,\u001b[38;5;241m5\u001b[39m]\n\u001b[0;32m----> 5\u001b[0m func(numbers,\u001b[38;5;241m2\u001b[39m, \u001b[38;5;241m2\u001b[39m)\n",
      "\u001b[0;31mTypeError\u001b[0m: func() takes 2 positional arguments but 3 were given"
     ]
    }
   ],
   "source": [
    "# TypeError:\n",
    "def func(arr, idx):\n",
    "    return arr[idx]\n",
    "numbers = [1,2,3,4,5]\n",
    "func(numbers,2, 2)"
   ]
  },
  {
   "cell_type": "code",
   "execution_count": 18,
   "id": "d9b93e20-6448-46aa-b5e5-aeca3d9c311f",
   "metadata": {
    "tags": []
   },
   "outputs": [
    {
     "ename": "TypeError",
     "evalue": "can only concatenate str (not \"int\") to str",
     "output_type": "error",
     "traceback": [
      "\u001b[0;31m---------------------------------------------------------------------------\u001b[0m",
      "\u001b[0;31mTypeError\u001b[0m                                 Traceback (most recent call last)",
      "Cell \u001b[0;32mIn[18], line 1\u001b[0m\n\u001b[0;32m----> 1\u001b[0m \u001b[38;5;124m\"\u001b[39m\u001b[38;5;124m1\u001b[39m\u001b[38;5;124m\"\u001b[39m \u001b[38;5;241m+\u001b[39m \u001b[38;5;241m1\u001b[39m\n",
      "\u001b[0;31mTypeError\u001b[0m: can only concatenate str (not \"int\") to str"
     ]
    }
   ],
   "source": [
    "\"1\" + 1"
   ]
  },
  {
   "cell_type": "code",
   "execution_count": 19,
   "id": "0135b873-00f3-4317-9c15-cf620380c0e2",
   "metadata": {
    "tags": []
   },
   "outputs": [
    {
     "ename": "TypeError",
     "evalue": "unsupported operand type(s) for +: 'int' and 'str'",
     "output_type": "error",
     "traceback": [
      "\u001b[0;31m---------------------------------------------------------------------------\u001b[0m",
      "\u001b[0;31mTypeError\u001b[0m                                 Traceback (most recent call last)",
      "Cell \u001b[0;32mIn[19], line 1\u001b[0m\n\u001b[0;32m----> 1\u001b[0m \u001b[38;5;241m1\u001b[39m \u001b[38;5;241m+\u001b[39m \u001b[38;5;124m\"\u001b[39m\u001b[38;5;124m1\u001b[39m\u001b[38;5;124m\"\u001b[39m\n",
      "\u001b[0;31mTypeError\u001b[0m: unsupported operand type(s) for +: 'int' and 'str'"
     ]
    }
   ],
   "source": [
    "1 + \"1\""
   ]
  },
  {
   "cell_type": "code",
   "execution_count": 21,
   "id": "df99c3f3-2aef-4677-828c-2297378e26b2",
   "metadata": {
    "tags": []
   },
   "outputs": [
    {
     "ename": "TypeError",
     "evalue": "'int' object is not subscriptable",
     "output_type": "error",
     "traceback": [
      "\u001b[0;31m---------------------------------------------------------------------------\u001b[0m",
      "\u001b[0;31mTypeError\u001b[0m                                 Traceback (most recent call last)",
      "Cell \u001b[0;32mIn[21], line 4\u001b[0m\n\u001b[1;32m      2\u001b[0m     \u001b[38;5;28;01mreturn\u001b[39;00m arr[idx]\n\u001b[1;32m      3\u001b[0m numbers \u001b[38;5;241m=\u001b[39m [\u001b[38;5;241m1\u001b[39m,\u001b[38;5;241m2\u001b[39m,\u001b[38;5;241m3\u001b[39m,\u001b[38;5;241m4\u001b[39m,\u001b[38;5;241m5\u001b[39m]\n\u001b[0;32m----> 4\u001b[0m func(\u001b[38;5;241m2\u001b[39m, numbers)\n",
      "Cell \u001b[0;32mIn[21], line 2\u001b[0m, in \u001b[0;36mfunc\u001b[0;34m(arr, idx)\u001b[0m\n\u001b[1;32m      1\u001b[0m \u001b[38;5;28;01mdef\u001b[39;00m \u001b[38;5;21mfunc\u001b[39m(arr, idx):\n\u001b[0;32m----> 2\u001b[0m     \u001b[38;5;28;01mreturn\u001b[39;00m arr[idx]\n",
      "\u001b[0;31mTypeError\u001b[0m: 'int' object is not subscriptable"
     ]
    }
   ],
   "source": [
    "# subscriptable 이란 단어는 인덱싱이 가능하다는 의미\n",
    "def func(arr, idx):\n",
    "    return arr[idx]\n",
    "numbers = [1,2,3,4,5]\n",
    "func(2, numbers)"
   ]
  },
  {
   "cell_type": "markdown",
   "id": "efd89067-755f-4b27-ba38-37ea044164fa",
   "metadata": {},
   "source": [
    "## 문52 키패드 누르기 m\n",
    "https://school.programmers.co.kr/learn/courses/30/lessons/67256"
   ]
  },
  {
   "cell_type": "code",
   "execution_count": null,
   "id": "d8d3f091-48af-48f3-b484-97f4ad82cea7",
   "metadata": {},
   "outputs": [],
   "source": [
    "이 전화 키패드에서 왼손과 오른손의 엄지손가락만을 이용해서 숫자만을 입력하려고 합니다.\n",
    "맨 처음 왼손 엄지손가락은 * 키패드에 \n",
    "오른손 엄지손가락은 # 키패드 위치에서 시작하며, \n",
    "엄지손가락을 사용하는 규칙은 다음과 같습니다.\n",
    "\n",
    "엄지손가락은 상하좌우 4가지 방향으로만 이동할 수 있으며 \n",
    "키패드 이동 한 칸은 거리로 1에 해당합니다.\n",
    "    왼쪽 열의 3개의 숫자 1, 4, 7을 입력할 때는 \n",
    "    왼손 엄지손가락을 사용합니다.\n",
    "    오른쪽 열의 3개의 숫자 3, 6, 9를 입력할 때는 \n",
    "    오른손 엄지손가락을 사용합니다.\n",
    "    가운데 열의 4개의 숫자 2, 5, 8, 0을 입력할 때는 \n",
    "    \n",
    "두 엄지손가락의 현재 키패드의 위치에서 더 가까운 엄지손가락을 사용합니다.\n",
    "    만약 두 엄지손가락의 거리가 같다면, \n",
    "    오른손잡이는 오른손 엄지손가락, 왼손잡이는 왼손 엄지손가락을 사용합니다.\n",
    "    \n",
    "순서대로 누를 번호가 담긴 배열 numbers, \n",
    "왼손잡이인지 오른손잡이인 지를 나타내는 문자열 hand가 매개변수로 주어질 때, \n",
    "각 번호를 누른 엄지손가락이 왼손인 지 오른손인 지를 나타내는 \n",
    "연속된 문자열 형태로 return 하도록 solution 함수를 완성해주세요.\n",
    "\n",
    "[제한사항]\n",
    "numbers 배열의 크기는 1 이상 1,000 이하입니다.\n",
    "numbers 배열 원소의 값은 0 이상 9 이하인 정수입니다.\n",
    "hand는 \"left\" 또는 \"right\" 입니다.\n",
    "\"left\"는 왼손잡이, \"right\"는 오른손잡이를 의미합니다.\n",
    "왼손 엄지손가락을 사용한 경우는 L, 오른손 엄지손가락을 사용한 경우는 R을 순서대로 이어붙여 문자열 형태로 return 해주세요.\n",
    "\n",
    "입출력 예\n",
    "numbers\thand\tresult\n",
    "[1, 3, 4, 5, 8, 2, 1, 4, 5, 9, 5]\t\"right\"\t\"LRLLLRLLRRL\""
   ]
  },
  {
   "cell_type": "code",
   "execution_count": null,
   "id": "9607a15d-496a-4c72-b804-7d3ae4a306be",
   "metadata": {},
   "outputs": [],
   "source": [
    "def solution(numbers, hand):\n",
    "    answer = ''\n",
    "    return answer"
   ]
  },
  {
   "cell_type": "markdown",
   "id": "31c73e03-aa0a-4038-9b31-82a29742a465",
   "metadata": {},
   "source": [
    "### chatGPT 풀이"
   ]
  },
  {
   "cell_type": "code",
   "execution_count": null,
   "id": "f1fd6848-e700-44e3-81a8-4ff72ad3011b",
   "metadata": {},
   "outputs": [],
   "source": [
    "문제해결전략을 떠올려내기 위한 아이디어\n",
    "\n",
    "1.\n",
    "키패드의 번호를 키로\n",
    "해당 번호의 위치(2차원 배열 인덱스)를 밸류로 하는 딕셔너리를 사용하는 것\n",
    "\n",
    "2. \n",
    "거리계산은 맨해튼 거리 계산법을 쓰면 되므로 \n",
    "2차원 배열에서 첫번째 인덱스끼리의 절대값 차이와 두번째 인덱스끼리의 절대값 차이를 더한걸 비교하는 것 "
   ]
  },
  {
   "cell_type": "code",
   "execution_count": null,
   "id": "e4ef476c-26d0-4eb8-a272-499592f97a73",
   "metadata": {},
   "outputs": [],
   "source": [
    "def solution(numbers, hand):\n",
    "    # 각 숫자별로 위치를 지정합니다. (행, 열) 형태로 표현\n",
    "    keypad = dict()\n",
    "    dial = [[1,2,3],[4,5,6],[7,8,9],[\"*\",0,\"#\"]]\n",
    "    for i in range(len(dial)):\n",
    "        for j in range(len(dial[0])):\n",
    "            keypad[dial[i][j]] = (i,j)\n",
    "    \n",
    "    # 왼손과 오른손의 시작 위치\n",
    "    left_hand = keypad['*']\n",
    "    right_hand = keypad['#']\n",
    "    \n",
    "    answer = []\n",
    "    \n",
    "    for num in numbers:\n",
    "        if num in [1, 4, 7]:  # 왼쪽 열 숫자는 왼손으로\n",
    "            answer.append('L')\n",
    "            left_hand = keypad[num]\n",
    "        elif num in [3, 6, 9]:  # 오른쪽 열 숫자는 오른손으로\n",
    "            answer.append('R')\n",
    "            right_hand = keypad[num]\n",
    "        else:  # 가운데 열 숫자 처리\n",
    "            current = keypad[num]\n",
    "            left_dist = abs(current[0] - left_hand[0]) + abs(current[1] - left_hand[1])\n",
    "            right_dist = abs(current[0] - right_hand[0]) + abs(current[1] - right_hand[1])\n",
    "            \n",
    "            # 거리에 따라 손을 결정하고, 거리가 같다면 hand 매개변수에 따라 결정\n",
    "            if left_dist < right_dist or (left_dist == right_dist and hand == 'left'):\n",
    "                answer.append('L')\n",
    "                left_hand = current\n",
    "            else:\n",
    "                answer.append('R')\n",
    "                right_hand = current\n",
    "    \n",
    "    return \"\".join(answer)\n"
   ]
  },
  {
   "cell_type": "markdown",
   "id": "8ec56fe0-b1ec-4e18-8395-d8c9031edacd",
   "metadata": {},
   "source": [
    "## 문55 줄 서는 방법 m\n",
    "https://school.programmers.co.kr/learn/courses/30/lessons/12936"
   ]
  },
  {
   "cell_type": "code",
   "execution_count": null,
   "id": "c2f91902-f7ba-4a5b-8fec-eec6c211166b",
   "metadata": {},
   "outputs": [],
   "source": [
    "n명의 사람이 일렬로 줄을 서고 있습니다. n명의 사람들에게는 각각 1번부터 n번까지 번호가 매겨져 있습니다. \n",
    "n명이 사람을 줄을 서는 방법은 여러가지 방법이 있습니다. \n",
    "예를 들어서 3명의 사람이 있다면 다음과 같이 6개의 방법이 있습니다.\n",
    "\n",
    "[1, 2, 3]\n",
    "[1, 3, 2]\n",
    "[2, 1, 3]\n",
    "[2, 3, 1]\n",
    "[3, 1, 2]\n",
    "[3, 2, 1]\n",
    "사람의 수 n과, 자연수 k가 주어질 때, \n",
    "사람을 나열 하는 방법을 사전 순으로 나열 했을 때, \n",
    "k번째 방법을 return하는 solution 함수를 완성해주세요.\n",
    "\n",
    "제한사항\n",
    "n은 20이하의 자연수 입니다.\n",
    "k는 n! 이하의 자연수 입니다.\n",
    "입출력 예\n",
    "n\tk\tresult\n",
    "3\t5\t[3,1,2]\n",
    "\n",
    "def solution(n, k):\n",
    "    answer = []\n",
    "    return answer"
   ]
  },
  {
   "cell_type": "markdown",
   "id": "af7e9837-aa91-498a-97f1-6460abc5cbd2",
   "metadata": {},
   "source": [
    "### 내 풀이\n",
    "시간초과"
   ]
  },
  {
   "cell_type": "code",
   "execution_count": 27,
   "id": "19cf371f-c332-46de-a075-4492da131754",
   "metadata": {
    "tags": []
   },
   "outputs": [
    {
     "data": {
      "text/plain": [
       "(3, 1, 2)"
      ]
     },
     "execution_count": 27,
     "metadata": {},
     "output_type": "execute_result"
    }
   ],
   "source": [
    "from itertools import permutations\n",
    "\n",
    "def solution(n, k):\n",
    "    people = [i for i in range(1,n+1)]\n",
    "    order = list(permutations(people, len(people)))\n",
    "    return order[k-1]\n",
    "\n",
    "solution(3, 5)"
   ]
  },
  {
   "cell_type": "markdown",
   "id": "63ab771f-bc31-4f6d-900e-aec3a8a6248e",
   "metadata": {},
   "source": [
    "### chatGPT 풀이\n",
    "이해 안됨"
   ]
  },
  {
   "cell_type": "code",
   "execution_count": 37,
   "id": "49c93753-0377-4597-995c-f98c94ad1928",
   "metadata": {
    "tags": []
   },
   "outputs": [
    {
     "name": "stdout",
     "output_type": "stream",
     "text": [
      "[1, 4, 2, 3]\n"
     ]
    }
   ],
   "source": [
    "def solution(n, k):\n",
    "    # 1부터 n까지의 숫자를 담은 리스트 생성\n",
    "    numbers = list(range(1, n+1))\n",
    "    \n",
    "    # k를 0부터 시작하는 인덱스로 사용하기 위해 1 감소\n",
    "    k -= 1\n",
    "    \n",
    "    # 팩토리얼을 계산하기 위한 함수\n",
    "    def factorial(x):\n",
    "        if x == 0:\n",
    "            return 1\n",
    "        result = 1\n",
    "        for i in range(1, x+1):\n",
    "            result *= i\n",
    "        return result\n",
    "    \n",
    "    answer = []\n",
    "    \n",
    "    # 숫자를 하나씩 결정해 나갑니다\n",
    "    while n > 0:\n",
    "        # (n-1)!을 구합니다. 현재 위치에서 가능한 순열의 개수\n",
    "        f = factorial(n-1)\n",
    "        # 첫 번째 숫자를 결정합니다. k를 (n-1)!로 나눈 몫이 현재 숫자의 인덱스\n",
    "        index = k // f\n",
    "        # 결정된 숫자를 답에 추가하고 리스트에서 제거\n",
    "        answer.append(numbers.pop(index))\n",
    "        \n",
    "        # k를 업데이트하고, n을 감소시킵니다\n",
    "        k %= f\n",
    "        n -= 1\n",
    "    \n",
    "    return answer\n",
    "\n",
    "# 테스트\n",
    "print(solution(4, 5))  # [3, 1, 2]\n"
   ]
  },
  {
   "cell_type": "code",
   "execution_count": 40,
   "id": "21cd45dc-87b7-4910-8aa9-4118c1c957ae",
   "metadata": {
    "tags": []
   },
   "outputs": [
    {
     "data": {
      "text/plain": [
       "0.0"
      ]
     },
     "execution_count": 40,
     "metadata": {},
     "output_type": "execute_result"
    }
   ],
   "source": [
    "0/1"
   ]
  },
  {
   "cell_type": "code",
   "execution_count": 57,
   "id": "64def948-06f8-4dd5-88ce-d9fe93dbf237",
   "metadata": {
    "tags": []
   },
   "outputs": [
    {
     "name": "stdout",
     "output_type": "stream",
     "text": [
      "[1, 2, 3, 4, 5, 9, 6, 8, 7, 10]\n"
     ]
    }
   ],
   "source": [
    "import math\n",
    "def solution(n, k):\n",
    "    # 1부터 n까지의 숫자를 담은 리스트 생성\n",
    "    numbers = list(range(1, n+1))\n",
    "    \n",
    "    # 팩토리얼을 계산하기 위한 함수\n",
    "    def factorial(x):\n",
    "        if x == 0:\n",
    "            return 1\n",
    "        result = 1\n",
    "        for i in range(1, x+1):\n",
    "            result *= i\n",
    "        return result\n",
    "    \n",
    "    answer = []\n",
    "    \n",
    "    # 숫자를 하나씩 결정해 나갑니다\n",
    "    while n > 0:\n",
    "        \n",
    "        f = factorial(n-1) # 현재 숫자 다음에 올 수 있는 순열의 개수 \n",
    "        num = math.ceil(k / f) # 현재 올 숫자를 결정. 순번 k를 (n-1)!로 나눈 몫이\n",
    "                               # 사전식 순서상 numbers에서 뽑힐 숫자의 순번이 됨.\n",
    "                               # 나머지가 있다면 올린 값이 해당됨.\n",
    "        answer.append(numbers.pop(num-1)) # 결정된 숫자를 답에 추가하고 리스트에서 제거\n",
    "                                          # 인덱스는 0부터 시작하므로 num-1\n",
    "        \n",
    "        n -= 1 # numbers에서 숫자하나를 정했으므로 n을 -1 감소\n",
    "        \n",
    "        k %= f  # 순번 k에서 (n-1)!로 나눈 나머지는 현재 숫자 다음에 올 순열의 순서를 의미\n",
    "        \n",
    "    return answer\n",
    "\n",
    "# 테스트\n",
    "print(solution(10, 75))\n"
   ]
  },
  {
   "cell_type": "code",
   "execution_count": null,
   "id": "db8259a3-19a1-4cd1-a28c-58d98c6754fa",
   "metadata": {},
   "outputs": [],
   "source": []
  }
 ],
 "metadata": {
  "kernelspec": {
   "display_name": "Python 3 (ipykernel)",
   "language": "python",
   "name": "python3"
  },
  "language_info": {
   "codemirror_mode": {
    "name": "ipython",
    "version": 3
   },
   "file_extension": ".py",
   "mimetype": "text/x-python",
   "name": "python",
   "nbconvert_exporter": "python",
   "pygments_lexer": "ipython3",
   "version": "3.11.0"
  }
 },
 "nbformat": 4,
 "nbformat_minor": 5
}
