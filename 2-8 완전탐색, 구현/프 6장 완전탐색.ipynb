{
 "cells": [
  {
   "cell_type": "markdown",
   "id": "036acd9d-a142-4fef-9d9e-bf81402f4567",
   "metadata": {},
   "source": [
    "### e: 20\n",
    "### m: 21, 22\n",
    "### h: 23, 24"
   ]
  },
  {
   "cell_type": "markdown",
   "id": "78d23dee-de05-4fe6-a700-9a3bc04f4c1b",
   "metadata": {},
   "source": [
    "# 완전탐색이란\n",
    "\n",
    "## 모든 경우의 수를 최소의 비용으로 확인하고 그 중에서 답을 구하는 방법\n",
    "\n",
    "\n",
    "### 1. brute force\n",
    "\n",
    "### 2. itertools\n",
    "    순열 permutations(iterable, n)\n",
    "    조합 combinations(iterable, n)\n",
    "    중복순열 permutations_with_replacement(iterable, n)\n",
    "    중복조합 combinations_with_replacement(iterable, n)\n",
    "\n",
    "### 3. 비트마스크\n",
    "\n",
    "### 4. 재귀\n",
    "### 5. DFS 모든 경우의 수 탐색시\n",
    "### 6. BFS 최단 거리, 최소 비용, 가장 적은 횟수의 탐색으로 답을 찾아야 하는 경우\n",
    "### 7. 백트래킹"
   ]
  },
  {
   "cell_type": "markdown",
   "id": "8c92f3a7-c741-4ba4-94e1-1d5df82a25dd",
   "metadata": {},
   "source": [
    "# 문20 모의고사 e\n",
    "https://school.programmers.co.kr/learn/courses/30/lessons/42840"
   ]
  },
  {
   "cell_type": "code",
   "execution_count": null,
   "id": "bca1b9b7-e11d-42f1-993e-1d60f6269c24",
   "metadata": {},
   "outputs": [],
   "source": [
    "답을 찍는 방식\n",
    "a = [1, 2, 3, 4, 5]\n",
    "b = [2, 1, 2, 3, 2, 4, 2, 5]\n",
    "c = [3, 3, 1, 1, 2, 2, 4, 4, 5, 5]\n",
    "\n",
    "1번 문제부터 마지막 문제까지의 정답이 순서대로 들은 배열 answers가 주어졌을 때,\n",
    "a, b, c중 가장 많은 문제를 맞힌 사람이 누구인지 배열에 담아 return 하도록 solution 함수를 작성해주세요.\n",
    "\n",
    "제한 조건\n",
    "시험은 최대 10,000 문제로 구성되어있습니다.\n",
    "문제의 정답은 1, 2, 3, 4, 5중 하나입니다.\n",
    "가장 높은 점수를 받은 사람이 여럿일 경우, return하는 값을 오름차순 정렬해주세요."
   ]
  },
  {
   "cell_type": "code",
   "execution_count": 21,
   "id": "d1ef4a90-74d3-422c-8a2f-7b47524e9136",
   "metadata": {
    "tags": []
   },
   "outputs": [],
   "source": [
    "def solution(answers):\n",
    "    a = [1, 2, 3, 4, 5]\n",
    "    b = [2, 1, 2, 3, 2, 4, 2, 5]\n",
    "    c = [3, 3, 1, 1, 2, 2, 4, 4, 5, 5]\n",
    "\n",
    "    len_answer = len(answers)\n",
    "\n",
    "    qa, ra = divmod(len_answer, len(a))\n",
    "    qb, rb = divmod(len_answer, len(b))\n",
    "    qc, rc = divmod(len_answer, len(c))\n",
    "\n",
    "    a_answer = a*qa + a[:ra]\n",
    "    b_answer = b*qb + b[:rb]\n",
    "    c_answer = c*qc + c[:rc]\n",
    "\n",
    "    a_cnt = 0\n",
    "    for pair in zip(a_answer, answers):\n",
    "        if pair[0] == pair[1]:\n",
    "            a_cnt += 1\n",
    "    b_cnt = 0\n",
    "    for pair in zip(b_answer, answers):\n",
    "        if pair[0] == pair[1]:\n",
    "            b_cnt += 1\n",
    "    c_cnt = 0\n",
    "    for pair in zip(c_answer, answers):\n",
    "        if pair[0] == pair[1]:\n",
    "            c_cnt += 1\n",
    "    result = []\n",
    "    result.append(a_cnt)\n",
    "    result.append(b_cnt)\n",
    "    result.append(c_cnt)\n",
    "\n",
    "    # 최대 점수 찾기\n",
    "    max_score = max(result)\n",
    "\n",
    "    # 최대 점수와 동일한 점수를 가진 참가자 찾기\n",
    "    return [i+1 for i, score in enumerate(result) if score == max_score]"
   ]
  },
  {
   "cell_type": "markdown",
   "id": "2c3d03b9-1616-46fa-8d5c-6d4eaf970912",
   "metadata": {},
   "source": [
    "# chatGPT 버전"
   ]
  },
  {
   "cell_type": "code",
   "execution_count": null,
   "id": "a9220df4-2882-4dfd-8ccd-e0d67b27c947",
   "metadata": {},
   "outputs": [],
   "source": [
    "def solution(answers):\n",
    "    # 각 참가자의 답안 패턴\n",
    "    a = [1, 2, 3, 4, 5]\n",
    "    b = [2, 1, 2, 3, 2, 4, 2, 5]\n",
    "    c = [3, 3, 1, 1, 2, 2, 4, 4, 5, 5]\n",
    "\n",
    "    # 각 참가자의 정답 카운트\n",
    "    scores = [0, 0, 0]\n",
    "\n",
    "    for i, answer in enumerate(answers):\n",
    "        if answer == a[i % len(a)]:\n",
    "            scores[0] += 1\n",
    "        if answer == b[i % len(b)]:\n",
    "            scores[1] += 1\n",
    "        if answer == c[i % len(c)]:\n",
    "            scores[2] += 1\n",
    "\n",
    "    # 최대 점수 찾기\n",
    "    max_score = max(scores)\n",
    "\n",
    "    # 최대 점수와 동일한 점수를 가진 참가자 찾기\n",
    "    return [i+1 for i, score in enumerate(scores) if score == max_score]"
   ]
  },
  {
   "cell_type": "markdown",
   "id": "2c126bdd-507b-46ee-b32b-d4a4cb5523d6",
   "metadata": {},
   "source": [
    "### e: 20\n",
    "### m: 21, 22\n",
    "### h: 23, 24"
   ]
  },
  {
   "cell_type": "markdown",
   "id": "fa7c387a-9032-4ac4-b2ec-678205189bfb",
   "metadata": {},
   "source": [
    "# 문21 카펫 m\n",
    "https://school.programmers.co.kr/learn/courses/30/lessons/42842"
   ]
  },
  {
   "cell_type": "code",
   "execution_count": null,
   "id": "a9da16d2-36d7-4c4c-bf25-9e31d57a338a",
   "metadata": {},
   "outputs": [],
   "source": [
    "Leo는 카펫을 사러 갔다가 \n",
    "중앙에는 노란색으로 칠해져 있고 테두리 1줄은 갈색으로 칠해져 있는 격자 모양 카펫을 봤습니다.\n",
    "Leo는 집으로 돌아와서 아까 본 카펫의 노란색과 갈색으로 색칠된 격자의 개수는 기억했지만, \n",
    "전체 카펫의 크기는 기억하지 못했습니다.\n",
    "\n",
    "Leo가 본 카펫에서 갈색 격자의 수 brown, 노란색 격자의 수 yellow가 매개변수로 주어질 때 \n",
    "카펫의 가로, 세로 크기를 순서대로 배열에 담아 return 하도록 solution 함수를 작성해주세요.\n",
    "\n",
    "제한사항\n",
    "갈색 격자의 수 brown은 8 이상 5,000 이하인 자연수입니다.\n",
    "노란색 격자의 수 yellow는 1 이상 2,000,000 이하인 자연수입니다.\n",
    "카펫의 가로 길이는 세로 길이와 같거나, 세로 길이보다 깁니다.\n",
    "입출력 예\n",
    "brown\tyellow\treturn\n",
    "10\t       2\t[4, 3]\n",
    "8\t       1\t[3, 3]\n",
    "24        24\t[8, 6]\n"
   ]
  },
  {
   "cell_type": "code",
   "execution_count": 7,
   "id": "a0e32b25-7b3e-4101-9079-41b23cec1ea4",
   "metadata": {
    "tags": []
   },
   "outputs": [
    {
     "data": {
      "text/plain": [
       "[4, 3]"
      ]
     },
     "execution_count": 7,
     "metadata": {},
     "output_type": "execute_result"
    }
   ],
   "source": [
    "def solution(brown, yellow):\n",
    "    N = brown+yellow\n",
    "    answer = []\n",
    "    aliquots = []\n",
    "    for n in range(1, int(N**0.5)+1):\n",
    "        if N % n == 0:\n",
    "            if ((N//n)-2) * (n-2) == yellow:\n",
    "                answer.append(N//n)\n",
    "                answer.append(n)\n",
    "\n",
    "    return answer\n",
    "\n",
    "solution(10, 2)"
   ]
  },
  {
   "cell_type": "markdown",
   "id": "bb4a430d-0d60-494e-bf07-117eabfce75e",
   "metadata": {},
   "source": [
    "# 문22 소수찾기 m\n",
    "https://school.programmers.co.kr/learn/courses/30/lessons/42839"
   ]
  },
  {
   "cell_type": "code",
   "execution_count": null,
   "id": "2c66dae0-437c-470d-8128-7c67fa050197",
   "metadata": {},
   "outputs": [],
   "source": [
    "각 종이 조각에 적힌 숫자가 적힌 문자열 numbers가 주어졌을 때, \n",
    "종이 조각으로 만들 수 있는 소수가 몇 개인지 return 하도록 solution 함수를 완성해주세요.\n",
    "\n",
    "제한사항\n",
    "numbers는 길이 1 이상 7 이하인 문자열입니다.\n",
    "numbers는 0~9까지 숫자만으로 이루어져 있습니다.\n",
    "\"013\"은 0, 1, 3 숫자가 적힌 종이 조각이 흩어져있다는 의미입니다.\n",
    "\n",
    "입출력 예\n",
    "numbers\treturn\n",
    "\"17\"\t3\n",
    "\"011\"\t2\n",
    "입출력 예 설명\n",
    "예제 #1\n",
    "[1, 7]으로는 소수 [7, 17, 71]를 만들 수 있습니다."
   ]
  },
  {
   "cell_type": "code",
   "execution_count": 58,
   "id": "28e4f397-50b5-46d7-8122-bdc84c3b40d9",
   "metadata": {
    "tags": []
   },
   "outputs": [
    {
     "name": "stdout",
     "output_type": "stream",
     "text": [
      "[71, 17, 7]\n"
     ]
    },
    {
     "data": {
      "text/plain": [
       "3"
      ]
     },
     "execution_count": 58,
     "metadata": {},
     "output_type": "execute_result"
    }
   ],
   "source": [
    "from itertools import permutations\n",
    "    \n",
    "def solution(numbers):\n",
    "    \n",
    "    perm = []\n",
    "\n",
    "    numbers = list(numbers)\n",
    "    for n in range(1, len(numbers)+1):\n",
    "        perm.extend(list(permutations(numbers, n)))\n",
    "\n",
    "    numbers = []\n",
    "    for t in perm:\n",
    "        string = \"\".join(t)\n",
    "        num = int(string)\n",
    "        numbers.append(num)\n",
    "        \n",
    "    numbers = set(numbers)\n",
    "\n",
    "    def aliquot(N):\n",
    "        aliquots = []\n",
    "        for n in range(1, int(N**0.5)+1):\n",
    "            if N % n == 0:\n",
    "                aliquots.append(n)\n",
    "                aliquots.append(N//n)\n",
    "        aliquots.sort()\n",
    "        return aliquots\n",
    "    \n",
    "    prime = []\n",
    "    for n in numbers:\n",
    "        if n == 1:\n",
    "            continue\n",
    "        if len(aliquot(n)) == 2:\n",
    "            prime.append(n)\n",
    "    print(prime)\n",
    "    answer = len(prime)\n",
    "    return answer"
   ]
  },
  {
   "cell_type": "code",
   "execution_count": 72,
   "id": "b8692201-a489-4717-a90d-54e108572a1e",
   "metadata": {
    "tags": []
   },
   "outputs": [
    {
     "data": {
      "text/plain": [
       "{1, 7, 17, 71}"
      ]
     },
     "execution_count": 72,
     "metadata": {},
     "output_type": "execute_result"
    }
   ],
   "source": [
    "perm"
   ]
  },
  {
   "cell_type": "markdown",
   "id": "cb5d964e-5c0d-4274-9a91-06f0e80a4649",
   "metadata": {},
   "source": [
    "### chatGPT 최적화"
   ]
  },
  {
   "cell_type": "code",
   "execution_count": null,
   "id": "d91ed874-0e58-4a59-a875-8524f072aeee",
   "metadata": {},
   "outputs": [],
   "source": [
    "from itertools import permutations\n",
    "\n",
    "def is_prime(n):\n",
    "    \"\"\"주어진 수가 소수인지 확인합니다.\"\"\"\n",
    "    if n < 2:\n",
    "        return False\n",
    "    for i in range(2, int(n**0.5) + 1):\n",
    "        if n % i == 0:\n",
    "            return False\n",
    "    return True\n",
    "\n",
    "def solution(numbers):\n",
    "    perm_set = set()  # 중복을 허용하지 않는 집합 사용\n",
    "\n",
    "    for n in range(1, len(numbers)+1):\n",
    "        # permutations 결과는 이미 고유하므로, 바로 set에 추가\n",
    "        perm_set.update(int(\"\".join(p)) for p in permutations(numbers, n))\n",
    "\n",
    "    # 소수 검사\n",
    "    prime_numbers = [num for num in perm_set if is_prime(num)]\n",
    "    \n",
    "    return len(prime_numbers)"
   ]
  },
  {
   "cell_type": "markdown",
   "id": "744c2928-3ffd-4d02-962f-78ffd0bee10c",
   "metadata": {},
   "source": [
    "# 문23 불량사용자 h\n",
    "https://school.programmers.co.kr/learn/courses/30/lessons/64064"
   ]
  },
  {
   "cell_type": "markdown",
   "id": "659eae48-293d-46ff-91ee-d7e1c5cb14ec",
   "metadata": {},
   "source": [
    "# 문24 수식 최대화 h\n",
    "https://school.programmers.co.kr/learn/courses/30/lessons/67257"
   ]
  }
 ],
 "metadata": {
  "kernelspec": {
   "display_name": "Python 3 (ipykernel)",
   "language": "python",
   "name": "python3"
  },
  "language_info": {
   "codemirror_mode": {
    "name": "ipython",
    "version": 3
   },
   "file_extension": ".py",
   "mimetype": "text/x-python",
   "name": "python",
   "nbconvert_exporter": "python",
   "pygments_lexer": "ipython3",
   "version": "3.11.0"
  }
 },
 "nbformat": 4,
 "nbformat_minor": 5
}
