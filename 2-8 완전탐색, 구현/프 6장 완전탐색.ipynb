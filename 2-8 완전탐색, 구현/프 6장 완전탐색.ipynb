{
 "cells": [
  {
   "cell_type": "markdown",
   "id": "036acd9d-a142-4fef-9d9e-bf81402f4567",
   "metadata": {},
   "source": [
    "### e: 20\n",
    "### m: 21, 22\n",
    "### h: 23, 24"
   ]
  },
  {
   "cell_type": "markdown",
   "id": "78d23dee-de05-4fe6-a700-9a3bc04f4c1b",
   "metadata": {},
   "source": [
    "# 완전탐색이란\n",
    "\n",
    "## 모든 경우의 수를 최소의 비용으로 확인하고 그 중에서 답을 구하는 방법\n",
    "\n",
    "\n",
    "### 1. brute force\n",
    "\n",
    "### 2. itertools\n",
    "    순열 permutations(iterable, n)\n",
    "    조합 combinations(iterable, n)\n",
    "    중복순열 permutations_with_replacement(iterable, n)\n",
    "    중복조합 combinations_with_replacement(iterable, n)\n",
    "\n",
    "### 3. 비트마스크\n",
    "\n",
    "### 4. 재귀\n",
    "### 5. DFS 모든 경우의 수 탐색시\n",
    "### 6. BFS 최단 거리, 최소 비용, 가장 적은 횟수의 탐색으로 답을 찾아야 하는 경우\n",
    "### 7. 백트래킹"
   ]
  },
  {
   "cell_type": "markdown",
   "id": "8c92f3a7-c741-4ba4-94e1-1d5df82a25dd",
   "metadata": {},
   "source": [
    "# 문20 모의고사 e\n",
    "https://school.programmers.co.kr/learn/courses/30/lessons/42840"
   ]
  },
  {
   "cell_type": "code",
   "execution_count": null,
   "id": "bca1b9b7-e11d-42f1-993e-1d60f6269c24",
   "metadata": {},
   "outputs": [],
   "source": [
    "a = [1, 2, 3, 4, 5]\n",
    "b = [2, 1, 2, 3, 2, 4, 2, 5]\n",
    "c = [3, 3, 1, 1, 2, 2, 4, 4, 5, 5]\n",
    "\n",
    "1번 문제부터 마지막 문제까지의 정답이 순서대로 들은 배열 answers가 주어졌을 때,\n",
    "가장 많은 문제를 맞힌 사람이 누구인지 배열에 담아 return 하도록 solution 함수를 작성해주세요.\n",
    "\n",
    "제한 조건\n",
    "시험은 최대 10,000 문제로 구성되어있습니다.\n",
    "문제의 정답은 1, 2, 3, 4, 5중 하나입니다.\n",
    "가장 높은 점수를 받은 사람이 여럿일 경우, return하는 값을 오름차순 정렬해주세요."
   ]
  },
  {
   "cell_type": "code",
   "execution_count": 21,
   "id": "d1ef4a90-74d3-422c-8a2f-7b47524e9136",
   "metadata": {
    "tags": []
   },
   "outputs": [],
   "source": [
    "def solution(answers):\n",
    "    a = [1, 2, 3, 4, 5]\n",
    "    b = [2, 1, 2, 3, 2, 4, 2, 5]\n",
    "    c = [3, 3, 1, 1, 2, 2, 4, 4, 5, 5]\n",
    "\n",
    "    len_answer = len(answers)\n",
    "\n",
    "    qa, ra = divmod(len_answer, len(a))\n",
    "    qb, rb = divmod(len_answer, len(b))\n",
    "    qc, rc = divmod(len_answer, len(c))\n",
    "\n",
    "    a_answer = a*qa + a[:ra]\n",
    "    b_answer = b*qb + b[:rb]\n",
    "    c_answer = c*qc + c[:rc]\n",
    "\n",
    "    a_cnt = 0\n",
    "    for pair in zip(a_answer, answers):\n",
    "        if pair[0] == pair[1]:\n",
    "            a_cnt += 1\n",
    "    b_cnt = 0\n",
    "    for pair in zip(b_answer, answers):\n",
    "        if pair[0] == pair[1]:\n",
    "            b_cnt += 1\n",
    "    c_cnt = 0\n",
    "    for pair in zip(c_answer, answers):\n",
    "        if pair[0] == pair[1]:\n",
    "            c_cnt += 1\n",
    "    result = []\n",
    "    result.append(a_cnt)\n",
    "    result.append(b_cnt)\n",
    "    result.append(c_cnt)\n",
    "\n",
    "    # 최대 점수 찾기\n",
    "    max_score = max(result)\n",
    "\n",
    "    # 최대 점수와 동일한 점수를 가진 참가자 찾기\n",
    "    return [i+1 for i, score in enumerate(result) if score == max_score]"
   ]
  },
  {
   "cell_type": "markdown",
   "id": "2c3d03b9-1616-46fa-8d5c-6d4eaf970912",
   "metadata": {},
   "source": [
    "# chatGPT 버전"
   ]
  },
  {
   "cell_type": "code",
   "execution_count": null,
   "id": "a9220df4-2882-4dfd-8ccd-e0d67b27c947",
   "metadata": {},
   "outputs": [],
   "source": [
    "def solution(answers):\n",
    "    # 각 참가자의 답안 패턴\n",
    "    a = [1, 2, 3, 4, 5]\n",
    "    b = [2, 1, 2, 3, 2, 4, 2, 5]\n",
    "    c = [3, 3, 1, 1, 2, 2, 4, 4, 5, 5]\n",
    "\n",
    "    # 각 참가자의 정답 카운트\n",
    "    scores = [0, 0, 0]\n",
    "\n",
    "    for i, answer in enumerate(answers):\n",
    "        if answer == a[i % len(a)]:\n",
    "            scores[0] += 1\n",
    "        if answer == b[i % len(b)]:\n",
    "            scores[1] += 1\n",
    "        if answer == c[i % len(c)]:\n",
    "            scores[2] += 1\n",
    "\n",
    "    # 최대 점수 찾기\n",
    "    max_score = max(scores)\n",
    "\n",
    "    # 최대 점수와 동일한 점수를 가진 참가자 찾기\n",
    "    return [i+1 for i, score in enumerate(scores) if score == max_score]"
   ]
  },
  {
   "cell_type": "markdown",
   "id": "2c126bdd-507b-46ee-b32b-d4a4cb5523d6",
   "metadata": {},
   "source": [
    "### e: 20\n",
    "### m: 21, 22\n",
    "### h: 23, 24"
   ]
  },
  {
   "cell_type": "markdown",
   "id": "fa7c387a-9032-4ac4-b2ec-678205189bfb",
   "metadata": {},
   "source": [
    "# 문21 카펫 m\n",
    "https://school.programmers.co.kr/learn/courses/30/lessons/42842"
   ]
  },
  {
   "cell_type": "markdown",
   "id": "bb4a430d-0d60-494e-bf07-117eabfce75e",
   "metadata": {},
   "source": [
    "# 문22 소수찾기 m\n",
    "https://school.programmers.co.kr/learn/courses/30/lessons/42839"
   ]
  },
  {
   "cell_type": "markdown",
   "id": "744c2928-3ffd-4d02-962f-78ffd0bee10c",
   "metadata": {},
   "source": [
    "# 문23 불량사용자 h\n",
    "https://school.programmers.co.kr/learn/courses/30/lessons/64064"
   ]
  },
  {
   "cell_type": "markdown",
   "id": "659eae48-293d-46ff-91ee-d7e1c5cb14ec",
   "metadata": {},
   "source": [
    "# 문24 수식 최대화 h\n",
    "https://school.programmers.co.kr/learn/courses/30/lessons/67257"
   ]
  }
 ],
 "metadata": {
  "kernelspec": {
   "display_name": "Python 3 (ipykernel)",
   "language": "python",
   "name": "python3"
  },
  "language_info": {
   "codemirror_mode": {
    "name": "ipython",
    "version": 3
   },
   "file_extension": ".py",
   "mimetype": "text/x-python",
   "name": "python",
   "nbconvert_exporter": "python",
   "pygments_lexer": "ipython3",
   "version": "3.11.0"
  }
 },
 "nbformat": 4,
 "nbformat_minor": 5
}
