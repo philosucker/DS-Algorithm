{
 "cells": [
  {
   "cell_type": "markdown",
   "id": "62344a4b-0124-440a-9358-9961de67a021",
   "metadata": {},
   "source": [
    "### e: 16\n",
    "### m: 18\n",
    "### h: 17, 18"
   ]
  },
  {
   "cell_type": "markdown",
   "id": "01d54a96-b909-4302-8472-2b4fef3757e0",
   "metadata": {},
   "source": [
    "# 5장 재귀"
   ]
  },
  {
   "cell_type": "markdown",
   "id": "b4ae50b6-a7a9-4d3c-97f4-f33a40e10ca9",
   "metadata": {},
   "source": [
    "피보나치 수열을 반복문과 재귀로 구현"
   ]
  },
  {
   "cell_type": "code",
   "execution_count": 16,
   "id": "cbe49155-ea7c-4b7e-9beb-a31bcb1e4393",
   "metadata": {
    "tags": []
   },
   "outputs": [],
   "source": [
    "def fib_iter(n):\n",
    "    memory = [1, 1]\n",
    "    for i in range(2, n):\n",
    "        memory.append(memory[i - 1] + memory[i - 2])\n",
    "        \n",
    "    return memory"
   ]
  },
  {
   "cell_type": "code",
   "execution_count": 17,
   "id": "a6048747-6ae7-4045-8b79-b96a8d766750",
   "metadata": {
    "tags": []
   },
   "outputs": [
    {
     "data": {
      "text/plain": [
       "[1, 1, 2, 3, 5]"
      ]
     },
     "execution_count": 17,
     "metadata": {},
     "output_type": "execute_result"
    }
   ],
   "source": [
    "fib_iter(5)"
   ]
  },
  {
   "cell_type": "code",
   "execution_count": 18,
   "id": "2d42a57b-f8a4-4255-bd62-70f7afbbb80a",
   "metadata": {},
   "outputs": [],
   "source": [
    "def fib_recur(n):\n",
    "    if n == 0: \n",
    "        return 0\n",
    "    elif n == 1:\n",
    "        return 1\n",
    "    return fib_recur(n - 1) + fib_recur(n - 2)"
   ]
  },
  {
   "cell_type": "code",
   "execution_count": 19,
   "id": "e57db4ef-d5af-41a6-94bd-bda99e47ff2f",
   "metadata": {
    "tags": []
   },
   "outputs": [
    {
     "data": {
      "text/plain": [
       "3"
      ]
     },
     "execution_count": 19,
     "metadata": {},
     "output_type": "execute_result"
    }
   ],
   "source": [
    "fib_recur(4)"
   ]
  },
  {
   "cell_type": "markdown",
   "id": "c9afb608-5e60-4814-935e-6e0527b0647b",
   "metadata": {},
   "source": [
    "파이썬 재귀 제한 횟수 증가"
   ]
  },
  {
   "cell_type": "code",
   "execution_count": 20,
   "id": "aa678e28-3948-435e-b07d-7b6ad2f19336",
   "metadata": {},
   "outputs": [],
   "source": [
    "import sys\n",
    "sys.setrecursionlimit(10000) # 디폴트 1000"
   ]
  },
  {
   "cell_type": "code",
   "execution_count": 21,
   "id": "7943acf3-f1fe-4e5f-943a-cf7bd11d5b0d",
   "metadata": {
    "tags": []
   },
   "outputs": [
    {
     "ename": "NameError",
     "evalue": "name 'fib' is not defined",
     "output_type": "error",
     "traceback": [
      "\u001b[0;31m---------------------------------------------------------------------------\u001b[0m",
      "\u001b[0;31mNameError\u001b[0m                                 Traceback (most recent call last)",
      "Cell \u001b[0;32mIn[21], line 1\u001b[0m\n\u001b[0;32m----> 1\u001b[0m fib(\u001b[38;5;241m10\u001b[39m)\n",
      "\u001b[0;31mNameError\u001b[0m: name 'fib' is not defined"
     ]
    }
   ],
   "source": [
    "fib(10)"
   ]
  },
  {
   "cell_type": "markdown",
   "id": "f919d39e-56c4-4b6c-87f2-399719f7b266",
   "metadata": {},
   "source": [
    "### 꼬리재귀 함수\n",
    "함수의 리턴에 하나의 함수만 재귀호출 하게 만든 함수.  \n",
    "fib()는 fib(n-1) + fib(n-2) 두개의 재귀함수를 연산해 리턴하게 만들어서 함수호출횟수가 빠르게 늘어난다."
   ]
  },
  {
   "cell_type": "code",
   "execution_count": null,
   "id": "11b3980e-b011-40b1-907f-7eea67e6ad58",
   "metadata": {
    "tags": []
   },
   "outputs": [],
   "source": [
    "def fib_tail(n, first, second):\n",
    "    if n == 0:\n",
    "        return 0\n",
    "    elif n == 1: \n",
    "        return second\n",
    "    return fib_tail(n - 1, second, first + second)"
   ]
  },
  {
   "cell_type": "code",
   "execution_count": null,
   "id": "82e19d65-42c0-45ff-ae06-be9a01909d2e",
   "metadata": {
    "tags": []
   },
   "outputs": [
    {
     "data": {
      "text/plain": [
       "'fib_tail(3, 1, 1)\\n   fib_tail(2, 1, 2)\\n   fib_tail(1, 2, 3)\\n0, 1, 1, 2, 3, 5, 8,...'"
      ]
     },
     "execution_count": 55,
     "metadata": {},
     "output_type": "execute_result"
    }
   ],
   "source": [
    "'''fib_tail(3, 1, 1)\n",
    "   fib_tail(2, 1, 2)\n",
    "   fib_tail(1, 2, 3)\n",
    "0, 1, 1, 2, 3, 5, 8,...'''"
   ]
  },
  {
   "cell_type": "code",
   "execution_count": null,
   "id": "a9a4202e-1a79-4a2c-9da5-588ca244848d",
   "metadata": {
    "tags": []
   },
   "outputs": [
    {
     "data": {
      "text/plain": [
       "1"
      ]
     },
     "execution_count": 56,
     "metadata": {},
     "output_type": "execute_result"
    }
   ],
   "source": [
    "fib_tail(1, 0, 1)"
   ]
  },
  {
   "cell_type": "code",
   "execution_count": null,
   "id": "86e25279-6580-46c2-9382-51e9a2f47dad",
   "metadata": {
    "tags": []
   },
   "outputs": [
    {
     "data": {
      "text/plain": [
       "1.6003477573394775"
      ]
     },
     "execution_count": 57,
     "metadata": {},
     "output_type": "execute_result"
    }
   ],
   "source": [
    "import time\n",
    "start = time.time()\n",
    "fib_recur(35)\n",
    "time.time()-start"
   ]
  },
  {
   "cell_type": "code",
   "execution_count": null,
   "id": "f4a88c68-755a-4458-b539-8791f050cf37",
   "metadata": {
    "tags": []
   },
   "outputs": [
    {
     "data": {
      "text/plain": [
       "6.961822509765625e-05"
      ]
     },
     "execution_count": 58,
     "metadata": {},
     "output_type": "execute_result"
    }
   ],
   "source": [
    "start = time.time()\n",
    "fib_tail(35, 0, 1)\n",
    "time.time()-start"
   ]
  },
  {
   "cell_type": "code",
   "execution_count": null,
   "id": "022a9acd-27a5-43bf-bae9-baf742c780c0",
   "metadata": {
    "tags": []
   },
   "outputs": [
    {
     "data": {
      "text/plain": [
       "2"
      ]
     },
     "execution_count": 23,
     "metadata": {},
     "output_type": "execute_result"
    }
   ],
   "source": [
    "fib_tail(3, 0, 1)"
   ]
  },
  {
   "cell_type": "code",
   "execution_count": null,
   "id": "880dd724-a432-4ed0-91d1-cbd5249a285e",
   "metadata": {
    "tags": []
   },
   "outputs": [
    {
     "data": {
      "text/plain": [
       "3"
      ]
     },
     "execution_count": 24,
     "metadata": {},
     "output_type": "execute_result"
    }
   ],
   "source": [
    "fib_tail(4, 0, 1)"
   ]
  },
  {
   "cell_type": "code",
   "execution_count": null,
   "id": "db2f4937-66e8-434a-90a3-bb72f61967dd",
   "metadata": {
    "tags": []
   },
   "outputs": [
    {
     "data": {
      "text/plain": [
       "5"
      ]
     },
     "execution_count": 25,
     "metadata": {},
     "output_type": "execute_result"
    }
   ],
   "source": [
    "fib_tail(5, 0, 1)"
   ]
  },
  {
   "cell_type": "markdown",
   "id": "87894e63",
   "metadata": {},
   "source": [
    "### 재귀 정의하기\n",
    "재귀함수는 \n",
    "작동 중간에 원래 하던 작업을 다른 작업으로 변경할 수 없다.  \n",
    "  \n",
    "따라서 실행하는 함수가 문제를 풀기 위한 최소식을 만족하도록 정확하게 정의할 필요가 있다.  \n",
    "인자의 값을 바꾸는 것만으로 문제를 풀 수 있는 함수를 만들어야 한다.  \n",
    "  \n",
    "## 즉 재귀함수는 자기자신을 호출할 때마다 들어가는 인자가 변해야 한다."
   ]
  },
  {
   "cell_type": "code",
   "execution_count": 15,
   "id": "7600280b",
   "metadata": {
    "tags": []
   },
   "outputs": [
    {
     "name": "stdout",
     "output_type": "stream",
     "text": [
      "4\n",
      "3\n",
      "2\n",
      "1\n"
     ]
    }
   ],
   "source": [
    "def print_list_reverse_recursive1(n):\n",
    "    '''\n",
    "    return 없이 인자값만 바꿔주는 재귀 함수\n",
    "    \n",
    "    Python 함수는 return 문을 명시적으로 포함하지 않을 경우 기본적으로 None을 반환\n",
    "    재귀호출과정에서 각 함수 호출은 호출 스택에 쌓이게 되며, 다음 함수 호출이 완료될 때까지(무언갈 반환할때까지) 대기.\n",
    "    이 함수에서 if n > 0: 종료조건이 거짓이 되면 함수는 더 이상 재귀 호출을 수행하지 않고 자동으로 None을 반환하며 종료. \n",
    "    이 경우, 마지막으로 호출된 함수부터 첫 번째 호출된 함수 순으로 모든 함수가 None을 반환하며 종료.\n",
    "    '''\n",
    "    if n > 0:\n",
    "        print(n)\n",
    "        print_list_reverse_recursive1(n-1)\n",
    "\n",
    "print_list_reverse_recursive1(4)"
   ]
  },
  {
   "cell_type": "code",
   "execution_count": null,
   "id": "8077a17f",
   "metadata": {
    "tags": []
   },
   "outputs": [],
   "source": [
    "def print_list_reverse_recursive2(lst):\n",
    "    '''\n",
    "    return 키워드가 쓰였지만 명시적인 반환값이 없는 함수\n",
    "    \n",
    "    return 키워드만 쓰이고 어떤 걸 return 하는지는 쓰이지 않았을 때, 기본적으로 None을 반환\n",
    "    즉 return None을 쓴것과 동일\n",
    "    또는 return 없는 재귀함수와 동일\n",
    "        def print_list_reverse_recursive2(lst):\n",
    "            if lst:\n",
    "                print(lst.pop())              \n",
    "                print_list_reverse_recursive2(lst)\n",
    "    \n",
    "    재귀호출과정에서 각 함수 호출은 호출 스택에 쌓이게 되며, 다음 함수 호출이 완료될 때까지(무언갈 반환할때까지) 대기.\n",
    "    이 함수에서 if not lst: 종료조건이 참이 되면 함수는 자동으로 None을 반환하며 종료. \n",
    "    이 경우, 마지막으로 호출된 함수부터 첫 번째 호출된 함수 순으로 모든 함수가 None을 반환하며 종료.\n",
    "    '''\n",
    "    if not lst:                  \n",
    "        return\n",
    "    print(lst.pop())              \n",
    "    print_list_reverse_recursive2(lst)\n",
    "\n",
    "print_list_reverse_recursive2([1,2,3,4])"
   ]
  },
  {
   "cell_type": "code",
   "execution_count": 27,
   "id": "3c94a352-9ed0-48ad-99a4-a7d957f21806",
   "metadata": {
    "tags": []
   },
   "outputs": [],
   "source": [
    "def func(lst):\n",
    "    '''\n",
    "    return 키워드가 쓰였지만 명시적인 반환값이 없는 함수\n",
    "    \n",
    "    함수의 인자가 True인 경우 무한재귀호출됨\n",
    "    이 경우, 각 함수 호출은 호출 스택에 계속 쌓임. 즉 종료되는 함수가 없음\n",
    "    False인 경우 None을 반환\n",
    "    '''\n",
    "    if lst:\n",
    "        return func(lst)\n",
    "func([])"
   ]
  },
  {
   "cell_type": "code",
   "execution_count": 1,
   "id": "9877cd08",
   "metadata": {
    "tags": []
   },
   "outputs": [
    {
     "name": "stdout",
     "output_type": "stream",
     "text": [
      "4\n",
      "3\n",
      "2\n",
      "1\n"
     ]
    }
   ],
   "source": [
    "def print_list_reverse_recursive3(lst):\n",
    "    '''\n",
    "    return 키워드가 쓰였지만 명시적인 반환값이 없는 함수\n",
    "    \n",
    "    이 경우, 함수 body에 lst.pop()이 있으므로 if lst: 조건문이 종료조건으로 기능 가능\n",
    "    lst가 True인 한, 재귀호출이 계속되어 각 함수호출은 호출스택에 차례로 쌓임\n",
    "    함수가 종료조건에 걸려 lst가 False가 되는 경우 해당 함수는 None을 반환\n",
    "    이 경우, 그때까지 재귀호출되어 함수 호출 스택에 쌓여있던 모든 함수들도 역순으로 None을 반환하며 종료됨\n",
    "    왜냐면 return으로 반환되는 건 재귀함수호출이었기 때문\n",
    "    '''\n",
    "    \n",
    "    print(lst.pop())\n",
    "    if lst:\n",
    "        return print_list_reverse_recursive3(lst)\n",
    "\n",
    "print_list_reverse_recursive3([1,2,3,4])"
   ]
  },
  {
   "cell_type": "code",
   "execution_count": 2,
   "id": "86e28791-5d6f-43f6-8fb5-5d0bce3ac9d5",
   "metadata": {
    "tags": []
   },
   "outputs": [
    {
     "name": "stdout",
     "output_type": "stream",
     "text": [
      "4\n",
      "3\n",
      "2\n",
      "1\n"
     ]
    }
   ],
   "source": [
    "def print_list_reverse_recursive4(lst):\n",
    "    '''\n",
    "    return 키워드가 쓰였지만 명시적인 반환값이 없는 함수\n",
    "    \n",
    "    return 문에 print_list_reverse_recursive4(lst[:-1]) 함수가 호출 될 때\n",
    "    새로운 리스트 슬라이스가 생성되어 함수에 전달된다.\n",
    "\n",
    "    함수가 종료조건에 걸려 lst가 False가 되는 경우 해당 함수는 None을 반환\n",
    "    이 경우, 그때까지 재귀호출되어 함수 호출 스택에 쌓여있던 모든 함수들도 역순으로 None을 반환하며 종료됨\n",
    "    왜냐면 return으로 반환되는 건 재귀함수호출이었기 때문\n",
    "    '''\n",
    "    if lst:\n",
    "        print(lst[-1])\n",
    "        return print_list_reverse_recursive4(lst[:-1])\n",
    "\n",
    "print_list_reverse_recursive4([1,2,3,4])"
   ]
  },
  {
   "cell_type": "code",
   "execution_count": 4,
   "id": "4f9628ee",
   "metadata": {
    "tags": []
   },
   "outputs": [
    {
     "name": "stdout",
     "output_type": "stream",
     "text": [
      "4\n",
      "3\n",
      "2\n",
      "1\n"
     ]
    }
   ],
   "source": [
    "def print_list_reverse_recursive5(lst, index=0):\n",
    "    '''\n",
    "    마지막으로 호출되는 함수에만 종료조건이 걸려 None이 반환되고\n",
    "    그 직전부터 처음으로 호출된 함수들은\n",
    "    print문 실행 후 None을 자동으로 반환하는 함수\n",
    "    \n",
    "    종료조건에 도달할 때까지 계속 재귀 호출\n",
    "    종료조건에 도달하면, 해당 함수호출은 None을 반환,\n",
    "    그 직전에 호출된 함수는 print문을 실행하고 None을 반환,\n",
    "    이런식으로 처음으로 호출된 함수에 이를 때까지, 재귀호출된 함수들은 print문을 실행하고 None을 반환하고 종료됨\n",
    "    '''\n",
    "\n",
    "    if index == len(lst):\n",
    "        return\n",
    "\n",
    "    print_list_reverse_recursive5(lst, index + 1)\n",
    "    print(lst[index])\n",
    "\n",
    "print_list_reverse_recursive5([1,2,3,4])"
   ]
  },
  {
   "cell_type": "markdown",
   "id": "6e761d49-2cf4-4181-a63e-679ff650fd22",
   "metadata": {},
   "source": [
    "print_list_reverse_recursive5는 위 print_list_reverse_recursive1,2,3,4와 근본적으로 다른 재귀함수  \n",
    "print_list_reverse_recursive1,2,3,4 는 재귀호출 전 결과를 print하지만  \n",
    "print_list_reverse_recursive5는 재귀 호출을 먼저 마치고, 호출 스택에서 돌아오는 과정에서 순서대로 요소를 출력  "
   ]
  },
  {
   "cell_type": "markdown",
   "id": "bcdf1d06-7746-4e00-8456-f0fe2f7ebc79",
   "metadata": {},
   "source": [
    "### 호출스택이 비워지기 위한 요건\n",
    "\n",
    "함수 호출 스택을 비우기 위해서는 각 함수가 종료되어야 합니다.  \n",
    "함수가 종료되면,   \n",
    "해당 함수에 할당된 스택 프레임(함수 호출 시 생성되는 메모리 공간, 지역 변수 및 기타 함수 실행 정보를 포함)이    \n",
    "호출 스택에서 제거됩니다.  \n",
    "\n",
    "### 함수가 종료된다 == 함수의 실행이 완료된다.\n",
    "함수가 마지막 줄까지 실행되거나 return 문에 도달하면, 함수의 실행은 완료됩니다. \n",
    "이때, return 문이 있으면 해당 값이 반환되고, return 문이 없거나 return만 존재하면 None이 반환됩니다.\n",
    "return 문에 또다른 함수 호출이 있다면, 그 함수 실행이 완료되어야 기존 함수의 실행이 완료된다.\n",
    "\n",
    "    (함수에 return 키워드를 쓰고, \n",
    "    해당 리턴문이 실행됐다고 해서 그 함수가 종료되는 게 아니다!! print_list_reverse_recursive3, 4 참고)\n",
    "    \n",
    "    print_list_reverse_recursive4(lst) 함수의 경우,\n",
    "    함수가 자기 자신을 호출한 다음에 바로 종료되는 것이 아니라, \n",
    "    호출한 재귀 함수가 반환될 때까지 기다린다.\n",
    "    즉, 각 재귀 호출이 완료되고 반환되기 전까지는 스택에서 제거되지 않습니다.\n",
    "\n",
    "    print_list_reverse_recursive4([1,2,3]) 호출  > 스택에 쌓임\n",
    "    print(3) 실행\n",
    "    print_list_reverse_recursive4([1,2]) 호출  > 스택에 쌓임\n",
    "    print(2) 실행\n",
    "    print_list_reverse_recursive4([1]) 호출 > 스택에 쌓임\n",
    "    print(1) 실행\n",
    "    print_list_reverse_recursive4([]) 호출 > 스택에 쌓임\n",
    "    if lst: 조건이 거짓이 되어 None 반환  > 스텍에서 제거\n",
    "    print_list_reverse_recursive4([1]) > None 반환 > 스택에서 제거\n",
    "    print_list_reverse_recursive4([1,2]) > None 반환 > 스택에서 제거\n",
    "    print_list_reverse_recursive4([1,2,3]) > None 반환 > 스택에서 제거"
   ]
  },
  {
   "cell_type": "markdown",
   "id": "d14dce43-6523-46ac-838f-fea2c5ee93ff",
   "metadata": {},
   "source": [
    "### 스택 오버플로우의 위험성"
   ]
  },
  {
   "cell_type": "markdown",
   "id": "301f9b34-08d2-4e14-9778-79d3a7e0d663",
   "metadata": {},
   "source": [
    "#### 스택 오버플로우와 함수 호출 시 메모리 사용량이 증가하는 것은 서로 다른 문제입니다.  \n",
    "\n",
    "#### 스택 메모리\n",
    "    스택 메모리는 함수 호출과 그 함수 내에서 선언된 지역 변수들을 저장하는 데 사용됩니다. \n",
    "    각 함수 호출 시 해당 함수의 매개변수, 반환 주소, 지역 변수 등이 스택에 순차적으로 쌓이게 됩니다. \n",
    "    함수의 실행이 완료되고 반환되면, 그 함수에 관련된 데이터는 스택에서 제거(pop)됩니다. \n",
    "    이 과정은 LIFO(Last In, First Out) 원칙을 따릅니다. 즉, 가장 마지막에 쌓인 데이터가 가장 먼저 제거됩니다.\n",
    "\n",
    "#### 스택 오버플로우: \n",
    "    스택 메모리가 제한된 크기를 가지고 있기 때문에, \n",
    "    너무 많은 함수 호출이 중첩될 경우(특히 깊은 재귀 호출 발생 시) \n",
    "    할당된 스택 메모리를 초과하여 스택 오버플로우가 발생할 수 있습니다. \n",
    "    이는 프로그램의 비정상 종료를 초래할 수 있습니다.\n",
    "\n",
    "\n",
    "반면, 함수 호출 시 큰 메모리를 소비하는 연산(예: 큰 리스트를 슬라이싱하는 것)이 포함된 경우,  \n",
    "이는 힙 메모리 사용량이 증가하는 문제로, 직접적으로는 스택 오버플로우와는 다릅니다.  \n",
    "재귀 호출에서 큰 데이터 구조를 슬라이싱하거나 복사하는 것은 힙 메모리 사용량을 빠르게 증가시킬 수 있습니다.    \n",
    "\n",
    "#### 힙 메모리\n",
    "    힙 메모리는 동적으로 할당되고 해제되는 데이터를 저장하는 데 사용됩니다. \n",
    "    힙은 프로그램의 실행 도중 필요에 따라 메모리를 할당받아 사용하며, \n",
    "    더 이상 사용하지 않는 메모리는 해제(또는 가비지 컬렉션에 의한 자동 해제)됩니다. \n",
    "    힙 메모리는 대규모 데이터, 동적으로 생성된 객체 등을 저장하는 데 주로 사용됩니다.\n",
    "\n",
    "#### 메모리 부족 (OOM): \n",
    "    힙 메모리에서 큰 데이터 구조를 다루거나, \n",
    "    메모리 누수(memory leak) 같은 문제로 인해 \n",
    "    힙 메모리 사용량이 시스템의 메모리 용량을 초과할 경우, \n",
    "    메모리 부족(Out of Memory, OOM) 에러가 발생할 수 있습니다. \n",
    "    이는 프로그램이 예기치 않게 종료되는 원인이 될 수 있습니다.\n",
    "    \n",
    "#### 스택과 힙의 차이점\n",
    "메모리 관리: \n",
    "\n",
    "    스택은 컴파일 시간에 크기가 결정되며, 자동으로 관리됩니다. \n",
    "    힙은 런타임에 크기가 결정되고, 프로그래머가 직접 할당 및 해제를 관리해야 합니다(또는 가비지 컬렉터가 자동으로 관리).\n",
    "\n",
    "생성 시기와 속도: \n",
    "\n",
    "    스택 메모리는 함수 호출 시 빠르게 할당되며, 함수 반환 시 자동으로 해제됩니다. \n",
    "    힙 메모리는 필요할 때 할당되고, 더 느린 할당 및 해제 과정을 거칩니다.\n",
    "\n",
    "용도와 크기: \n",
    "\n",
    "    스택은 제한된 크기를 가지며, 주로 실행 중인 함수의 지역 변수 저장에 사용됩니다. \n",
    "    힙은 더 큰 데이터를 저장할 수 있으며, 동적으로 할당되는 데이터에 사용됩니다."
   ]
  },
  {
   "cell_type": "markdown",
   "id": "f30b7f7a-f7e4-4d8e-a04e-ac52e6e88547",
   "metadata": {},
   "source": [
    " \n",
    "print_list_reverse_recursive4:\n",
    "\n",
    "    recursive4 함수는 재귀호출 마다 새롭게 생성된 슬라이스를 가지므로\n",
    "    많은 메모리를 사용합니다.\n",
    "    \n",
    "print_list_reverse_recursive2, 3: \n",
    "\n",
    "    이 함수들은 입력된 리스트에서 pop 메서드를 사용하여 요소를 제거합니다. \n",
    "    pop은 리스트의 크기를 실제로 줄이므로, 추가적인 메모리를 생성하지 않습니다. \n",
    "    따라서, 이 함수들은 print_list_reverse_recursive4보다는 상대적으로 적은 메모리를 사용할 수 있습니다. \n",
    "\n",
    "print_list_reverse_recursive5: \n",
    "\n",
    "    이 함수는 추가적인 메모리 할당을 수행하지 않으며, \n",
    "    단순히 인덱스를 사용하여 리스트 내에서 이동합니다. \n",
    "\n",
    "print_list_reverse_recursive1:\n",
    "\n",
    "    입력 값 n이 매우 크면, n에서 1까지 도달하기 전까지 많은 수의 재귀 호출이 스택에 쌓입니다.\n",
    "    이 함수는 입력값 n에 대해 n-1로 호출 깊이를 증가시킵니다. \n",
    "    각 호출마다 스택 프레임을 소비하므로, n의 값에 직접적으로 비례하여 스택 오버플로우의 위험이 증가합니다.\n",
    "    나머지 2,3,4,5 함수들도 호출의 깊이가 깊어짐에 따른 스택오버플로우 위험성을 똑같이 갖고 있습니다"
   ]
  },
  {
   "cell_type": "markdown",
   "id": "beaca0ff-5b1f-48d5-a400-a17cb337fa4d",
   "metadata": {},
   "source": [
    "### 아래 팩토리얼과 피보나치 함수는\n",
    "### 재귀 호출을 먼저 마치고, 호출 스택이 비워지는 과정에서\n",
    "### 호출된 각 함수의 반환값이, 직전에 호출된 함수의 return문에 전달된다"
   ]
  },
  {
   "cell_type": "code",
   "execution_count": 1,
   "id": "4289646e-cfa3-4996-a93b-22f1a03e70dd",
   "metadata": {},
   "outputs": [],
   "source": [
    "def factorial(n):\n",
    "    if n <= 1:\n",
    "        return 1\n",
    "    return n * factorial(n-1)\n",
    "\n",
    "factorial(5)"
   ]
  },
  {
   "cell_type": "code",
   "execution_count": null,
   "id": "a9bff3bc-0831-4ecf-a6d6-97067e092e41",
   "metadata": {},
   "outputs": [],
   "source": [
    "def fib(n):\n",
    "    if n <= 2:\n",
    "        return 1\n",
    "    return fib(n-1) + fib(n-2)"
   ]
  },
  {
   "cell_type": "markdown",
   "id": "2121583f-dea3-4f10-b205-df353ead763a",
   "metadata": {
    "tags": []
   },
   "source": [
    "재귀 함수의 작동방식을 하나씩 따라가면서 확인하는 건 불가능에 가깝다.  \n",
    "몇십 몇백개쯤 되는 스택이 들어갔다 나갔다하는 상태를 모두 검증하는 일이기 때문  \n",
    "점화식을 잘 만들면 나머지는 다 올바르게 실행될거라는 믿음을 가지고 재귀함수를 만들어 써야한다  "
   ]
  },
  {
   "cell_type": "code",
   "execution_count": null,
   "id": "6c02dd30-af40-46c0-a86f-d6b4dfdfe692",
   "metadata": {},
   "outputs": [],
   "source": [
    "재귀 함수의 가장 큰 문제점은  \n",
    "자기 자신을 계속 호출하다보면 스택을 초과하여 프로그램이 강제제 종료되는 S.O가 발생한다는 것이다.  \n",
    "이를 해결하귀 위해 꼬리재귀를 쓰는 것도 방법이지만  \n",
    "궁극적으로는 실행한 함수가 종료되어 값을 반환하면서 스택을 비워야하므로  \n",
    "종료조건을 정확하게 명시해야 한다."
   ]
  },
  {
   "cell_type": "markdown",
   "id": "33e81e5a-d441-4401-9afe-e03a71a4a8ca",
   "metadata": {
    "tags": []
   },
   "source": [
    "# 문16 콜라츠 추측 e\n",
    "https://school.programmers.co.kr/learn/courses/30/lessons/12943"
   ]
  },
  {
   "cell_type": "markdown",
   "id": "dcd988be-46d4-4120-b2b3-910ad4f18035",
   "metadata": {},
   "source": [
    "    입력된 수가 짝수라면 2로 나누고  \n",
    "    홀수라면 3을 곱하고 1을 더한다.\n",
    "    결과로 나온 수에 같은 작업을 반복한다.\n",
    "    그러면 모든 수를 1로 만들 수 있다"
   ]
  },
  {
   "cell_type": "markdown",
   "id": "4352b81e-7d37-41fa-bb6c-91020347708a",
   "metadata": {},
   "source": [
    "어떤 수가 입력됐을 때, 몇 번을 반복해야 1이 되는 지 출력하는 함수를 만들어라.  \n",
    "\n",
    "단 1이 입력되면 0, 500번 반복해도 1이 되지 않으면 -1을 반환시켜라 "
   ]
  },
  {
   "cell_type": "markdown",
   "id": "1daf31ce-cc3c-4205-be2c-07a11265df2e",
   "metadata": {},
   "source": [
    "### 내 풀이"
   ]
  },
  {
   "cell_type": "code",
   "execution_count": null,
   "id": "e4ca4011-3324-4716-8408-adbf9adefef1",
   "metadata": {},
   "outputs": [],
   "source": [
    "def solution(num):\n",
    "    cnt = 0\n",
    "    \n",
    "    def collatz(num, cnt):\n",
    "        if num != 1 and cnt < 500:\n",
    "            cnt+=1\n",
    "            if num % 2 == 0:\n",
    "                num //= 2\n",
    "            else:\n",
    "                num = num * 3 + 1\n",
    "            return collatz(num, cnt)\n",
    "        \n",
    "        elif num == 1:\n",
    "            return cnt\n",
    "        \n",
    "        else:\n",
    "            return -1\n",
    "        \n",
    "    answer = collatz(num, cnt)\n",
    "    \n",
    "    return answer"
   ]
  },
  {
   "cell_type": "code",
   "execution_count": null,
   "id": "f10dff76-8d08-409a-9e18-48f78292ca15",
   "metadata": {},
   "outputs": [],
   "source": [
    "def collatz(num, cnt):\n",
    "    if num != 1 and cnt < 500:\n",
    "        cnt+=1\n",
    "        if num % 2 == 0:\n",
    "            num //= 2\n",
    "        else:\n",
    "            num = num * 3 + 1\n",
    "        return collatz(num, cnt)\n",
    "\n",
    "    elif num == 1:\n",
    "        return cnt\n",
    "\n",
    "    else:\n",
    "        return -1\n",
    "    \n",
    "def solution(num):\n",
    "    return collatz(num, 0)"
   ]
  },
  {
   "cell_type": "markdown",
   "id": "2f4af638-d1a3-40e1-ba53-e4258e2f58d6",
   "metadata": {
    "tags": []
   },
   "source": [
    "### 책 풀이"
   ]
  },
  {
   "cell_type": "code",
   "execution_count": 16,
   "id": "d097384d-a9a2-4f9d-9b2f-1c8b3dae454a",
   "metadata": {
    "tags": []
   },
   "outputs": [],
   "source": [
    "def collatz(num, answer):\n",
    "    if num == 1: return answer\n",
    "    if answer == 500 : return -1\n",
    "\n",
    "    if num % 2 == 0:\n",
    "        return collatz(num // 2, answer + 1)\n",
    "    elif num % 2 == 1:\n",
    "        return collatz(num * 3 + 1, answer + 1)\n",
    "    \n",
    "def solution(num):\n",
    "    return collatz(num, 0)"
   ]
  },
  {
   "cell_type": "markdown",
   "id": "f550a94b-3f88-4e80-a357-ab41164e5bf7",
   "metadata": {},
   "source": [
    "#### chatGPT 풀이"
   ]
  },
  {
   "cell_type": "markdown",
   "id": "8dd79f8a-2973-48b1-8c99-b7c782dc5ce4",
   "metadata": {
    "tags": []
   },
   "source": [
    "가독성과 명확성:  \n",
    "두 번째 방식은 기저 조건을 함수의 시작 부분에서 처리함으로써 가독성과 코드의 명확성 측면에서 약간 더 우수합니다.  \n",
    "또한, 조건의 분리가 코드의 실행 흐름을 더 직관적으로 만듭니다.  "
   ]
  },
  {
   "cell_type": "markdown",
   "id": "fde0a0d3-f62f-4ae4-acc4-1a3ddcff849d",
   "metadata": {},
   "source": [
    "#### 반복문으로 짜기"
   ]
  },
  {
   "cell_type": "code",
   "execution_count": 24,
   "id": "52093724-b952-4c97-93a2-2ce64358b9bd",
   "metadata": {
    "tags": []
   },
   "outputs": [],
   "source": [
    "def collatz(n):\n",
    "    if n == 1: return 0\n",
    "    for i in range(500):\n",
    "        if n % 2 == 0:\n",
    "            n = n // 2\n",
    "            if n == 1:\n",
    "                return i+1\n",
    "        elif n % 2 == 1:\n",
    "            n = n * 3 + 1\n",
    "            if n == 1:\n",
    "                return i+1\n",
    "    return - 1\n",
    "        "
   ]
  },
  {
   "cell_type": "code",
   "execution_count": 25,
   "id": "5fb44702-f37e-45a2-81cb-4d7adb2a267e",
   "metadata": {
    "tags": []
   },
   "outputs": [
    {
     "data": {
      "text/plain": [
       "8"
      ]
     },
     "execution_count": 25,
     "metadata": {},
     "output_type": "execute_result"
    }
   ],
   "source": [
    "collatz(6)"
   ]
  },
  {
   "cell_type": "code",
   "execution_count": 26,
   "id": "66a7d12e-e376-47ec-a4b6-82808f438b19",
   "metadata": {
    "tags": []
   },
   "outputs": [
    {
     "data": {
      "text/plain": [
       "-1"
      ]
     },
     "execution_count": 26,
     "metadata": {},
     "output_type": "execute_result"
    }
   ],
   "source": [
    "collatz(626331)"
   ]
  },
  {
   "cell_type": "code",
   "execution_count": 27,
   "id": "9bde505c-c4a3-43c1-8c93-3a016d6fd4e3",
   "metadata": {
    "tags": []
   },
   "outputs": [
    {
     "data": {
      "text/plain": [
       "4"
      ]
     },
     "execution_count": 27,
     "metadata": {},
     "output_type": "execute_result"
    }
   ],
   "source": [
    "collatz(16)"
   ]
  },
  {
   "cell_type": "markdown",
   "id": "7329ba55-f305-4663-a62d-0c78230b44f2",
   "metadata": {},
   "source": [
    "chatGPT 풀이"
   ]
  },
  {
   "cell_type": "code",
   "execution_count": 28,
   "id": "fbbca048-9f54-4365-ac93-a2b43ef3f605",
   "metadata": {
    "tags": []
   },
   "outputs": [],
   "source": [
    "def collatz(n):\n",
    "    steps = 0\n",
    "    while n != 1:\n",
    "        if n % 2 == 0:\n",
    "            n //= 2\n",
    "        else:\n",
    "            n = n * 3 + 1\n",
    "        steps += 1\n",
    "        if steps >= 500:  # 최대 500번까지만 계산\n",
    "            return -1\n",
    "    return steps"
   ]
  },
  {
   "cell_type": "code",
   "execution_count": 29,
   "id": "1d1fe80a-1a7c-48bd-a077-74760b07d339",
   "metadata": {
    "tags": []
   },
   "outputs": [],
   "source": [
    "def collatz(n):\n",
    "    for steps in range(500):  # 최대 500번까지만 계산\n",
    "        if n == 1:\n",
    "            return steps\n",
    "        elif n % 2 == 0:\n",
    "            n //= 2\n",
    "        else:\n",
    "            n = n * 3 + 1\n",
    "    return -1"
   ]
  },
  {
   "cell_type": "code",
   "execution_count": 30,
   "id": "793abf9c-fa29-4d29-a235-f812ec01542f",
   "metadata": {
    "tags": []
   },
   "outputs": [
    {
     "data": {
      "text/plain": [
       "4"
      ]
     },
     "execution_count": 30,
     "metadata": {},
     "output_type": "execute_result"
    }
   ],
   "source": [
    "collatz(16)"
   ]
  },
  {
   "cell_type": "markdown",
   "id": "b2e1d8b8-154b-490b-bf17-4a44fada1aab",
   "metadata": {},
   "source": [
    "# 문18 모음사전 m\n",
    "https://school.programmers.co.kr/learn/courses/30/lessons/84512/\n",
    "\n",
    "    문제 설명\n",
    "    사전에 알파벳 모음 'A', 'E', 'I', 'O', 'U'만을 사용하여 만들 수 있는, \n",
    "    길이 5 이하의 모든 단어가 수록되어 있습니다. \n",
    "    사전에서 첫 번째 단어는 \"A\"이고, 그다음은 \"AA\"이며, 마지막 단어는 \"UUUUU\"입니다.\n",
    "\n",
    "    단어 하나 word가 매개변수로 주어질 때,\n",
    "    이 단어가 사전에서 몇 번째 단어인지 return 하도록 solution 함수를 완성해주세요.\n",
    "\n",
    "    제한사항\n",
    "    word의 길이는 1 이상 5 이하입니다.\n",
    "    word는 알파벳 대문자 'A', 'E', 'I', 'O', 'U'로만 이루어져 있습니다.\n",
    "\n",
    "    입출력 예\n",
    "    word\tresult\n",
    "    \"AAAAE\"\t6\n",
    "    \"AAAE\"\t10\n",
    "    \"I\"\t1563\n",
    "    \"EIO\"\t1189\n",
    "\n",
    "\n",
    "    입출력 예 #1\n",
    "    \"A\", \"AA\", \"AAA\", \"AAAA\", \"AAAAA\", \"AAAAE\", ... \n",
    "    \"AAAAE\"는 사전에서 6번째 단어입니다.\n",
    "\n",
    "    입출력 예 #2\n",
    "    \"A\", \"AA\", \"AAA\", \"AAAA\", \"AAAAA\", \n",
    "    \"AAAAE\", \"AAAAI\", \"AAAAO\", \"AAAAU\"의 다음인 10번째 단어입니다."
   ]
  },
  {
   "cell_type": "code",
   "execution_count": null,
   "id": "c503f29e-7b23-4be8-a113-565780ae54c7",
   "metadata": {},
   "outputs": [],
   "source": [
    "def solution(word):\n",
    "    answer = 0\n",
    "    return answer"
   ]
  },
  {
   "cell_type": "code",
   "execution_count": null,
   "id": "7ef98330-fce5-49b1-9342-3e240a1f2c35",
   "metadata": {},
   "outputs": [],
   "source": []
  },
  {
   "cell_type": "markdown",
   "id": "060dc3d7-8a55-4e23-9569-f25a12abd68d",
   "metadata": {},
   "source": [
    "### 재귀 풀이\n",
    "리스트 사용"
   ]
  },
  {
   "cell_type": "code",
   "execution_count": 6,
   "id": "4332bc35-efbe-4f9e-9f39-bf8efd3a171d",
   "metadata": {
    "tags": []
   },
   "outputs": [],
   "source": [
    "def making(d, p, s, idx=1):\n",
    "\n",
    "    if s == 6:\n",
    "        return\n",
    "\n",
    "    if p != '':\n",
    "        d.append(p)                  \n",
    "\n",
    "    for c in ['A','E', 'I', 'O', 'U']:\n",
    "        making(d, ''.join([p+c]), s+1)\n",
    "\n",
    "def solution(word):\n",
    "    \n",
    "    d = []\n",
    "    making(d, '', 0)\n",
    "    \n",
    "    cnt = 1\n",
    "    for w in d:\n",
    "        if word == w:\n",
    "            return cnt\n",
    "        cnt += 1"
   ]
  },
  {
   "cell_type": "markdown",
   "id": "1b72a590-8944-402f-a735-e938188267e6",
   "metadata": {},
   "source": [
    "### 재귀 풀이\n",
    "순함수로 만든 버전\n",
    "\n",
    "#### d, idx를 리턴해야 하는 이유"
   ]
  },
  {
   "cell_type": "code",
   "execution_count": 6,
   "id": "b442b706-8a95-452c-99be-0230deb84e02",
   "metadata": {
    "tags": []
   },
   "outputs": [],
   "source": [
    "def making(p='', s=0, vowels='AEIOU', depth=6, idx=1):\n",
    "\n",
    "    if s == depth:\n",
    "        return {}, idx  # 여기서 반환되는 {}는 업데이트 대상이 아니므로 빈 딕셔너리를 반환시킨다.\n",
    "                        # 여기서 반환되는 idx는 depth 조건에 걸려 다음 순서의 vowel을 딕셔너리에 추가할 때 쓸 idx로 사용된다.\n",
    "    \n",
    "    d = dict()          # 결과가 담길 딕셔너리를 함수 내에서 생성한다. 순함수 요건 만족\n",
    "    \n",
    "    if p != '':\n",
    "        d[p] = idx \n",
    "        idx = idx + 1   # idx 업데이트는 함수 안에서 이뤄지게 한다. 순함수 요건 만족.     \n",
    "        \n",
    "    for v in vowels:\n",
    "    # for c in ['A','B']:\n",
    "        # print(f'idx : {idx}')\n",
    "        new_d, idx = making(p+v, s+1, vowels, depth, idx)\n",
    "        d.update(new_d) \n",
    "        \n",
    "    return d, idx       # new_d, idx = making(p+v, s+1, vowels, depth, idx) 라인의 재귀 호출 결과 반환되는 d, idx가 각각\n",
    "                        # new_d, idx 에 assign 되어 d.update(new_d) 에서 딕셔너리가 업데이트 되고, \n",
    "                        # 함께 업데이트된 idx가 다시 재귀함수의 인자로 들어가도록 하여 idx 업데이트도 이뤄지도록 한다. 순함수 요건 만족\n",
    "\n",
    "def solution(word):\n",
    "    \n",
    "    d, _ = making()\n",
    "    return d[word]"
   ]
  },
  {
   "cell_type": "code",
   "execution_count": null,
   "id": "69e42868-0bde-4424-b4af-8bdc1bf57595",
   "metadata": {},
   "outputs": [],
   "source": [
    "                                          making(d,'',0,1)\n",
    "                                         /\n",
    "                               making(d,'A',1,1) <<< 여기서 'B'를 뽑기 바로 전 idx=3이 적용됨\n",
    "                              /                 \\\n",
    "               making(d,'AA',2,2)          making(d,'AB',2,3)  \n",
    "                /              \\\n",
    "  making(d,'AAA',3,3)         making(d,'AAB',3,3)  \n",
    "              /                   \\\n",
    "         if s==3:              if s==3:\n",
    "             return idx            return idx   \n",
    "        여기서 \"idx=3\" 으로 \n",
    "        for문 내에서 할당된다."
   ]
  },
  {
   "cell_type": "markdown",
   "id": "0fbfa7ee-fbae-4ed9-98e8-cd07f7cc66ab",
   "metadata": {},
   "source": [
    "### chatGPT 풀이\n",
    "이해 안됨"
   ]
  },
  {
   "cell_type": "code",
   "execution_count": null,
   "id": "545d97aa-128a-4989-b1cd-8a96ad0e20e9",
   "metadata": {},
   "outputs": [],
   "source": [
    "def solution(word):\n",
    "    # 각 알파벳별로 사전에서 차지하는 순서 값을 미리 계산\n",
    "    value = {'A': 0, 'E': 1, 'I': 2, 'O': 3, 'U': 4}\n",
    "    # 각 자릿수별로 가능한 단어의 수\n",
    "    weights = [781, 156, 31, 6, 1]  # 이 값들은 각 자리수마다 변화하는 패턴을 따릅니다. 예를 들어, 첫 번째 자리가 바뀔 때 마다 뒤에 올 수 있는 조합은 5^4 = 625가지, 그 다음은 5^3 = 125가지...\n",
    "\n",
    "    def calculate(word, depth=0):\n",
    "        # 기저 조건: 단어의 길이가 0이면 더 이상 계산할 것이 없으므로 0 반환\n",
    "        if len(word) == 0:\n",
    "            return 0\n",
    "        # 현재 글자의 순서 값(value[word[0]])에 현재 깊이의 가중치를 곱하고, 그 뒤에 올 수 있는 단어들의 수를 더합니다.\n",
    "        # 그리고 나서 다음 글자로 넘어가서 계산을 계속합니다.\n",
    "        return value[word[0]] * weights[depth] + 1 + calculate(word[1:], depth+1)\n",
    "    \n",
    "    # 전체 단어에 대해 계산을 시작\n",
    "    return calculate(word)"
   ]
  },
  {
   "cell_type": "code",
   "execution_count": null,
   "id": "d7211370-3a96-4c50-9207-afa9336a2818",
   "metadata": {},
   "outputs": [],
   "source": [
    "def solution(word):\n",
    "    answer = 0\n",
    "    for i, char in enumerate(word):\n",
    "        # 알파벳 순서: A=0, E=1, I=2, O=3, U=4\n",
    "        char_value = 'AEIOU'.index(char)\n",
    "        # 각 자리수마다 기여하는 가중치 계산\n",
    "        for j in range(5 - i):\n",
    "            answer += char_value * (5 ** j)\n",
    "        answer += 1  # 해당 글자를 완성하기 위한 기본 단계 추가\n",
    "    return answer\n",
    "    "
   ]
  },
  {
   "cell_type": "code",
   "execution_count": null,
   "id": "7f33ae60-ee7f-4fb3-8aab-860f4e2b15f0",
   "metadata": {},
   "outputs": [],
   "source": [
    "['A',\n",
    " 'AA',\n",
    " 'AAA',\n",
    " 'AAAA',\n",
    " 'AAAAA',\n",
    " 'AAAAE',\n",
    " 'AAAAI',\n",
    " 'AAAAO',\n",
    " 'AAAAU',\n",
    " 'AAAE',\n",
    " 'AAAEA',\n",
    " ...\n",
    " 'AAEUO',\n",
    " 'AAEUU',\n",
    " 'AAI',\n",
    " 'AAIA',\n",
    " 'AAIAA',\n",
    " ...\n",
    " 'AUUUI',\n",
    " 'AUUUO',\n",
    " 'AUUUU', 맨 앞자리가 A일때, 만들수 있는 단어의 총 개수는 5^4 + 5^3 + 5^2 + 5^1 = 780개\n",
    " 'E',     맨 앞자리가 E일때 마찬가지 780개\n",
    " 'EA',\n",
    " 'EAA',\n",
    " 'EAAA',\n",
    " 'EAAAA',\n",
    " ...]"
   ]
  },
  {
   "cell_type": "markdown",
   "id": "059a4d8f-8da7-478f-be15-e44e8c500d42",
   "metadata": {},
   "source": [
    "# 문17 하노이의 탑 h\n",
    "https://school.programmers.co.kr/learn/courses/30/lessons/12946\n",
    "\n",
    "\n",
    "하노이 탑의 세 개의 기둥을 왼쪽 부터 1번, 2번, 3번이라고 하겠습니다.   \n",
    "1번에는 n개의 원판이 있고 이 n개의 원판을 3번 원판으로 최소 횟수로 옮기려고 합니다.  \n",
    "\n",
    "한 번에 하나의 원판만 옮길 수 있습니다.    \n",
    "큰 원판이 작은 원판 위에 있어서는 안됩니다.    \n",
    "  \n",
    "1번 기둥에 있는 원판의 개수 n이 매개변수로 주어질 때,  \n",
    "n개의 원판을 3번 원판으로 최소로 옮기는 방법을 return하는 solution를 완성해주세요.    \n",
    "\n",
    "    입력 n : 2 (원판 개수)\n",
    "\n",
    "    출력 리스트 : [[1, 2], [1, 3], [2, 3]]"
   ]
  },
  {
   "cell_type": "code",
   "execution_count": 8,
   "id": "9e069fd3-e148-4ba4-9c05-63db6ac0b044",
   "metadata": {
    "tags": []
   },
   "outputs": [],
   "source": [
    "from __future__ import annotations\n",
    "\n",
    "def solution(n):\n",
    "    def move(no: int, x: int, y: int, answer =[]) -> None:\n",
    "        pass"
   ]
  },
  {
   "cell_type": "markdown",
   "id": "9af4bb5c-33b8-45af-a153-43d2393a0f4d",
   "metadata": {},
   "source": [
    "```python\n",
    "원판 n개를 옮기는 과정은\n",
    "원판 n-1개를 옮기는 과정을 포함하고 있다. (정확히 말하면 옮겨지는 원판 순서)\n",
    "\n",
    "옮겨지는 기둥 위치는 계속 달라진다\n",
    "\n",
    "# 기둥 1 2 3\n",
    "# 원반 1개\n",
    "\n",
    "    \"첫번째 원반 1 > 3\"  \n",
    "\n",
    "# 기둥 1 2 3\n",
    "# 원반 2개\n",
    "\n",
    "    \"첫번째 원반 1 > 2\"\n",
    "    \"두번째 원반 1 > 3\"\n",
    "    \"첫번째 원반 2 > 3\"\n",
    "\n",
    "    기둥 1 2 3\n",
    "    원반 3개\n",
    "\n",
    "    \"첫번째 원반 1 > 3  두번째 원반 1 > 2  첫번째 원반 3 > 2\"\n",
    "    \"세번째 원반 1 > 3\"  \n",
    "    \"첫번째 원반 2 > 1  두번째 원반 2 > 3  첫번째 원반 1 > 3\"\n",
    "\n",
    "# 기둥 1 2 3\n",
    "# 원반 4개\n",
    "\n",
    "    첫번째 원반 1 > 2, 두번째 원반 1 > 3, 첫번째 원반 2 > 3\n",
    "    \"세번째 원반 1 > 2\"  \n",
    "    첫번째 원반 3 > 1, 두번째 원반 3 > 2, 첫번째 원반 1 > 2   \n",
    "\n",
    "    \"네번째 원반 1 > 3\"  \n",
    "\n",
    "    첫번째 원반 2 > 3, 두번째 원반 2 > 1, 첫번째 원반 3 > 1   \n",
    "    \"세번째 원반 2 > 3\"\n",
    "    첫번째 원반 1 > 2, 두번째 원반 1 > 3, 첫번째 원반 2 > 3\n",
    "\n",
    "# 기둥 1 2 3\n",
    "# 원반 5개\n",
    "\n",
    "    첫번째 원반 1 > 3, 두번째 원반 1 > 2, 첫번째 원반 3 > 2   \n",
    "    세번째 원반 1 > 3   \n",
    "    첫번째 원반 2 > 1, 두번째 원반 2 > 3, 첫번째 원반 1 > 3    \n",
    "    \"네번째 원반 1 > 2\"   \n",
    "    첫번째 원반 3 > 2, 두번째 원반 3 > 1, 첫번째 원반 2 > 1   \n",
    "    세번째 원반 3 > 2\n",
    "    첫번째 원반 1 > 3, 두번째 원반 1 > 2, 첫번째 원반 3 > 2 \n",
    "    \n",
    "    \"다섯번째 원반 1 > 3\"\n",
    "    \n",
    "    첫번째 원반 2 > 1, 두번째 원반 2 > 3, 첫번째 원반 1 > 3 \n",
    "    세번째 원반 2 > 1  \n",
    "    첫번째 원반 3 > 2, 두번째 원반 3 > 1, 첫번째 원반 2 > 1   \n",
    "    \"네번째 원반 2 > 3\"   \n",
    "    첫번째 원반 1 > 3, 두번째 원반 1 > 2, 첫번째 원반 3 > 2   \n",
    "    세번째 원반 1 > 3\n",
    "    첫번째 원반 2 > 1, 두번째 원반 2 > 3, 첫번째 원반 1 > 3\n",
    "```"
   ]
  },
  {
   "cell_type": "code",
   "execution_count": 21,
   "id": "a9e26576-9efe-4153-884b-97cb2c8317d4",
   "metadata": {
    "tags": []
   },
   "outputs": [
    {
     "name": "stdout",
     "output_type": "stream",
     "text": [
      "원반 [1]을 1기둥에서 3기둥으로 옮깁니다.\n",
      "원반 [2]을 1기둥에서 2기둥으로 옮깁니다.\n",
      "원반 [1]을 3기둥에서 2기둥으로 옮깁니다.\n",
      "원반 [3]을 1기둥에서 3기둥으로 옮깁니다.\n",
      "원반 [1]을 2기둥에서 1기둥으로 옮깁니다.\n",
      "원반 [2]을 2기둥에서 3기둥으로 옮깁니다.\n",
      "원반 [1]을 1기둥에서 3기둥으로 옮깁니다.\n"
     ]
    }
   ],
   "source": [
    "def move(n, x, y):\n",
    "    \"\"\"원반을 n개를 x 기둥에서 y 기둥으로 옮김\"\"\"\n",
    "    # 세 기둥의 번호 합은 항상 6이므로, 6-x-y를 통해 보조 기둥의 번호를 계산할 수 있다\n",
    "    \n",
    "    if n > 1:                # 원판이 2개 이상이면 \n",
    "        move(n-1, x, 6-x-y)  # 원판을 시작기둥1에서 보조기둥2로 옮김 \n",
    "        \n",
    "    print(f'원반 [{n}]을 {x}기둥에서 {y}기둥으로 옮깁니다.') # 원판을 시작기둥1에서 목표기둥3으로 옮김\n",
    "    # n이 1이 될 때, 즉 재귀 호출 끝에서 print문 실행 후 자동으로 None 반환\n",
    "    # 원판이 1개라면, 시작기둥에서 목표기둥으로 바로 옮기면 되니까\n",
    "    \n",
    "    if n > 1:               # 원판이 2개 이상이면\n",
    "        move(n-1, 6-x-y, y) # 원판을 보조기둥2에서 목표기둥3으로 옮김\n",
    "        \n",
    "move(3, 1, 3)"
   ]
  },
  {
   "cell_type": "code",
   "execution_count": 22,
   "id": "7f6ea7df-edeb-438b-8d69-722120df7080",
   "metadata": {
    "tags": []
   },
   "outputs": [
    {
     "name": "stdout",
     "output_type": "stream",
     "text": [
      "원반 [1]을 1기둥에서 3기둥으로 옮깁니다.\n",
      "원반 [2]을 1기둥에서 2기둥으로 옮깁니다.\n",
      "원반 [1]을 3기둥에서 2기둥으로 옮깁니다.\n",
      "원반 [3]을 1기둥에서 3기둥으로 옮깁니다.\n",
      "원반 [1]을 2기둥에서 1기둥으로 옮깁니다.\n",
      "원반 [2]을 2기둥에서 3기둥으로 옮깁니다.\n",
      "원반 [1]을 1기둥에서 3기둥으로 옮깁니다.\n"
     ]
    }
   ],
   "source": [
    "def hanoi(n, start, target, aux):\n",
    "    if n == 1:\n",
    "        print(f\"원반 [1]을 {start}기둥에서 {target}기둥으로 옮깁니다.\")\n",
    "    else:\n",
    "        hanoi(n-1, start, aux, target)  # 시작 기둥에서 보조 기둥으로 n-1 개의 원반을 옮깁니다.\n",
    "        print(f\"원반 [{n}]을 {start}기둥에서 {target}기둥으로 옮깁니다.\")  # 가장 큰 원반을 목표 기둥으로 옮깁니다.\n",
    "        hanoi(n-1, aux, target, start)  # 보조 기둥에서 목표 기둥으로 n-1 개의 원반을 옮깁니다.\n",
    "\n",
    "hanoi(3, 1, 3, 2)"
   ]
  },
  {
   "cell_type": "code",
   "execution_count": 23,
   "id": "2cbc59ad-3bc7-4ee1-8d93-fbb05ca52f6b",
   "metadata": {
    "tags": []
   },
   "outputs": [
    {
     "data": {
      "text/plain": [
       "[[1, 3], [1, 2], [3, 2], [1, 3], [2, 1], [2, 3], [1, 3]]"
      ]
     },
     "execution_count": 23,
     "metadata": {},
     "output_type": "execute_result"
    }
   ],
   "source": [
    "def hanoi(n, start, target, aux, answer=None):\n",
    "    if answer is None:\n",
    "        answer = []\n",
    "    if n == 1:\n",
    "        answer.append([start, target])\n",
    "        return answer\n",
    "    else:\n",
    "        hanoi(n-1, start, aux, target, answer)\n",
    "        answer.append([start, target])\n",
    "        hanoi(n-1, aux, target, start, answer)\n",
    "    return answer\n",
    "\n",
    "answer = hanoi(3, 1, 3, 2)\n",
    "answer"
   ]
  },
  {
   "cell_type": "markdown",
   "id": "bd7cd101-f184-43c8-b243-13d875940b89",
   "metadata": {},
   "source": [
    "### 차이점\n",
    "보조 기둥 결정 방식: \n",
    "\n",
    "    move 함수는 보조 기둥을 자동으로 계산하는 반면, \n",
    "    hanoi 함수는 보조 기둥을 명시적인 인자로 받습니다. \n",
    "    이는 move 함수에서 보조 기둥의 위치를 각 단계마다 동적으로 계산하는 것과 대비됩니다.\n",
    "\n",
    "코드의 명시성과 재사용성: \n",
    "\n",
    "    hanoi 함수는 인자를 통해 각 기둥의 역할을 명시적으로 지정함으로써, 코드의 명시성과 재사용성을 높입니다. \n",
    "    반면 move 함수는 기둥 번호만으로 모든 것을 처리하여, 더 간결하지만 기둥 번호의 의미를 기억해야 합니다.\n",
    "\n"
   ]
  },
  {
   "cell_type": "markdown",
   "id": "786929b6-8885-4be3-8654-74f3b1937a48",
   "metadata": {},
   "source": [
    "# 문18 호텔방 배정 h\n",
    "https://school.programmers.co.kr/learn/courses/30/lessons/64063"
   ]
  },
  {
   "cell_type": "code",
   "execution_count": null,
   "id": "c5cf6fee-b0b0-414e-9cda-aade0f8d20fe",
   "metadata": {},
   "outputs": [],
   "source": []
  }
 ],
 "metadata": {
  "kernelspec": {
   "display_name": "Python 3 (ipykernel)",
   "language": "python",
   "name": "python3"
  },
  "language_info": {
   "codemirror_mode": {
    "name": "ipython",
    "version": 3
   },
   "file_extension": ".py",
   "mimetype": "text/x-python",
   "name": "python",
   "nbconvert_exporter": "python",
   "pygments_lexer": "ipython3",
   "version": "3.11.0"
  }
 },
 "nbformat": 4,
 "nbformat_minor": 5
}
