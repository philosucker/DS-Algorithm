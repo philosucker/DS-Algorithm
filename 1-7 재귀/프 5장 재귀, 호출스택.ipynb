{
 "cells": [
  {
   "cell_type": "markdown",
   "id": "62344a4b-0124-440a-9358-9961de67a021",
   "metadata": {},
   "source": [
    "### e: 16\n",
    "### m: 18\n",
    "### h: 17, 19"
   ]
  },
  {
   "cell_type": "markdown",
   "id": "01d54a96-b909-4302-8472-2b4fef3757e0",
   "metadata": {},
   "source": [
    "# 5장 재귀"
   ]
  },
  {
   "cell_type": "markdown",
   "id": "b4ae50b6-a7a9-4d3c-97f4-f33a40e10ca9",
   "metadata": {},
   "source": [
    "피보나치 수열을 반복문과 재귀로 구현"
   ]
  },
  {
   "cell_type": "code",
   "execution_count": 16,
   "id": "cbe49155-ea7c-4b7e-9beb-a31bcb1e4393",
   "metadata": {
    "tags": []
   },
   "outputs": [],
   "source": [
    "def fib_iter(n):\n",
    "    memory = [1, 1]\n",
    "    for i in range(2, n):\n",
    "        memory.append(memory[i - 1] + memory[i - 2])\n",
    "        \n",
    "    return memory"
   ]
  },
  {
   "cell_type": "code",
   "execution_count": 17,
   "id": "a6048747-6ae7-4045-8b79-b96a8d766750",
   "metadata": {
    "tags": []
   },
   "outputs": [
    {
     "data": {
      "text/plain": [
       "[1, 1, 2, 3, 5]"
      ]
     },
     "execution_count": 17,
     "metadata": {},
     "output_type": "execute_result"
    }
   ],
   "source": [
    "fib_iter(5)"
   ]
  },
  {
   "cell_type": "code",
   "execution_count": 18,
   "id": "2d42a57b-f8a4-4255-bd62-70f7afbbb80a",
   "metadata": {},
   "outputs": [],
   "source": [
    "def fib_recur(n):\n",
    "    if n == 0: \n",
    "        return 0\n",
    "    elif n == 1:\n",
    "        return 1\n",
    "    return fib_recur(n - 1) + fib_recur(n - 2)"
   ]
  },
  {
   "cell_type": "code",
   "execution_count": 19,
   "id": "e57db4ef-d5af-41a6-94bd-bda99e47ff2f",
   "metadata": {
    "tags": []
   },
   "outputs": [
    {
     "data": {
      "text/plain": [
       "3"
      ]
     },
     "execution_count": 19,
     "metadata": {},
     "output_type": "execute_result"
    }
   ],
   "source": [
    "fib_recur(4)"
   ]
  },
  {
   "cell_type": "markdown",
   "id": "c9afb608-5e60-4814-935e-6e0527b0647b",
   "metadata": {},
   "source": [
    "파이썬 재귀 제한 횟수 증가"
   ]
  },
  {
   "cell_type": "code",
   "execution_count": 20,
   "id": "aa678e28-3948-435e-b07d-7b6ad2f19336",
   "metadata": {},
   "outputs": [],
   "source": [
    "import sys\n",
    "sys.setrecursionlimit(10000) # 디폴트 1000"
   ]
  },
  {
   "cell_type": "code",
   "execution_count": 21,
   "id": "7943acf3-f1fe-4e5f-943a-cf7bd11d5b0d",
   "metadata": {
    "tags": []
   },
   "outputs": [
    {
     "ename": "NameError",
     "evalue": "name 'fib' is not defined",
     "output_type": "error",
     "traceback": [
      "\u001b[0;31m---------------------------------------------------------------------------\u001b[0m",
      "\u001b[0;31mNameError\u001b[0m                                 Traceback (most recent call last)",
      "Cell \u001b[0;32mIn[21], line 1\u001b[0m\n\u001b[0;32m----> 1\u001b[0m fib(\u001b[38;5;241m10\u001b[39m)\n",
      "\u001b[0;31mNameError\u001b[0m: name 'fib' is not defined"
     ]
    }
   ],
   "source": [
    "fib(10)"
   ]
  },
  {
   "cell_type": "markdown",
   "id": "f919d39e-56c4-4b6c-87f2-399719f7b266",
   "metadata": {},
   "source": [
    "### 꼬리재귀 함수\n",
    "함수의 리턴에 하나의 함수만 재귀호출 하게 만든 함수.  \n",
    "fib()는 fib(n-1) + fib(n-2) 두개의 재귀함수를 연산해 리턴하게 만들어서 함수호출횟수가 빠르게 늘어난다."
   ]
  },
  {
   "cell_type": "code",
   "execution_count": null,
   "id": "11b3980e-b011-40b1-907f-7eea67e6ad58",
   "metadata": {
    "tags": []
   },
   "outputs": [],
   "source": [
    "def fib_tail(n, first, second):\n",
    "    if n == 0:\n",
    "        return 0\n",
    "    elif n == 1: \n",
    "        return second\n",
    "    return fib_tail(n - 1, second, first + second)"
   ]
  },
  {
   "cell_type": "code",
   "execution_count": null,
   "id": "82e19d65-42c0-45ff-ae06-be9a01909d2e",
   "metadata": {
    "tags": []
   },
   "outputs": [
    {
     "data": {
      "text/plain": [
       "'fib_tail(3, 1, 1)\\n   fib_tail(2, 1, 2)\\n   fib_tail(1, 2, 3)\\n0, 1, 1, 2, 3, 5, 8,...'"
      ]
     },
     "execution_count": 55,
     "metadata": {},
     "output_type": "execute_result"
    }
   ],
   "source": [
    "'''fib_tail(3, 1, 1)\n",
    "   fib_tail(2, 1, 2)\n",
    "   fib_tail(1, 2, 3)\n",
    "0, 1, 1, 2, 3, 5, 8,...'''"
   ]
  },
  {
   "cell_type": "code",
   "execution_count": null,
   "id": "a9a4202e-1a79-4a2c-9da5-588ca244848d",
   "metadata": {
    "tags": []
   },
   "outputs": [
    {
     "data": {
      "text/plain": [
       "1"
      ]
     },
     "execution_count": 56,
     "metadata": {},
     "output_type": "execute_result"
    }
   ],
   "source": [
    "fib_tail(1, 0, 1)"
   ]
  },
  {
   "cell_type": "code",
   "execution_count": null,
   "id": "86e25279-6580-46c2-9382-51e9a2f47dad",
   "metadata": {
    "tags": []
   },
   "outputs": [
    {
     "data": {
      "text/plain": [
       "1.6003477573394775"
      ]
     },
     "execution_count": 57,
     "metadata": {},
     "output_type": "execute_result"
    }
   ],
   "source": [
    "import time\n",
    "start = time.time()\n",
    "fib_recur(35)\n",
    "time.time()-start"
   ]
  },
  {
   "cell_type": "code",
   "execution_count": null,
   "id": "f4a88c68-755a-4458-b539-8791f050cf37",
   "metadata": {
    "tags": []
   },
   "outputs": [
    {
     "data": {
      "text/plain": [
       "6.961822509765625e-05"
      ]
     },
     "execution_count": 58,
     "metadata": {},
     "output_type": "execute_result"
    }
   ],
   "source": [
    "start = time.time()\n",
    "fib_tail(35, 0, 1)\n",
    "time.time()-start"
   ]
  },
  {
   "cell_type": "code",
   "execution_count": null,
   "id": "022a9acd-27a5-43bf-bae9-baf742c780c0",
   "metadata": {
    "tags": []
   },
   "outputs": [
    {
     "data": {
      "text/plain": [
       "2"
      ]
     },
     "execution_count": 23,
     "metadata": {},
     "output_type": "execute_result"
    }
   ],
   "source": [
    "fib_tail(3, 0, 1)"
   ]
  },
  {
   "cell_type": "code",
   "execution_count": null,
   "id": "880dd724-a432-4ed0-91d1-cbd5249a285e",
   "metadata": {
    "tags": []
   },
   "outputs": [
    {
     "data": {
      "text/plain": [
       "3"
      ]
     },
     "execution_count": 24,
     "metadata": {},
     "output_type": "execute_result"
    }
   ],
   "source": [
    "fib_tail(4, 0, 1)"
   ]
  },
  {
   "cell_type": "code",
   "execution_count": null,
   "id": "db2f4937-66e8-434a-90a3-bb72f61967dd",
   "metadata": {
    "tags": []
   },
   "outputs": [
    {
     "data": {
      "text/plain": [
       "5"
      ]
     },
     "execution_count": 25,
     "metadata": {},
     "output_type": "execute_result"
    }
   ],
   "source": [
    "fib_tail(5, 0, 1)"
   ]
  },
  {
   "cell_type": "markdown",
   "id": "87894e63",
   "metadata": {},
   "source": [
    "### 재귀 정의하기\n",
    "재귀함수는 \n",
    "작동 중간에 원래 하던 작업을 다른 작업으로 변경할 수 없다.  \n",
    "  \n",
    "따라서 실행하는 함수가 문제를 풀기 위한 최소식을 만족하도록 정확하게 정의할 필요가 있다.  \n",
    "인자의 값을 바꾸는 것만으로 문제를 풀 수 있는 함수를 만들어야 한다.  \n",
    "  \n",
    "# 즉 재귀함수는 자기자신을 호출할 때마다 들어가는 인자가 변해야 한다."
   ]
  },
  {
   "cell_type": "code",
   "execution_count": 15,
   "id": "7600280b",
   "metadata": {
    "tags": []
   },
   "outputs": [
    {
     "name": "stdout",
     "output_type": "stream",
     "text": [
      "4\n",
      "3\n",
      "2\n",
      "1\n"
     ]
    }
   ],
   "source": [
    "# return 없이 인자값만 바꿔줘서 본문에서 계속 재귀호출, \n",
    "# 조건문에 인자가 종료조건으로 걸리면 호출 중단. 그 이전까지 호출됐던 함수들은 종료되지 않음\n",
    "def print_list_reverse_recursive1(n):\n",
    "                                  \n",
    "    if n > 0:\n",
    "        print(n)\n",
    "        print_list_reverse_recursive1(n-1)\n",
    "\n",
    "print_list_reverse_recursive1(4)"
   ]
  },
  {
   "cell_type": "code",
   "execution_count": null,
   "id": "8077a17f",
   "metadata": {
    "tags": []
   },
   "outputs": [],
   "source": [
    "# return은 종료조건으로만 쓰고, 본문에서 return없이 인자값만 바꿔줘서 계속 재귀호출, \n",
    "# 조건문에 인자가 종료조건으로 걸리면 반환값 없는 return으로 함수종료\n",
    "def print_list_reverse_recursive2(lst):\n",
    "    \n",
    "    if not lst:                  \n",
    "        return\n",
    "    print(lst.pop())              \n",
    "    print_list_reverse_recursive2(lst)\n",
    "\n",
    "print_list_reverse_recursive2([1,2,3,4])"
   ]
  },
  {
   "cell_type": "code",
   "execution_count": 27,
   "id": "3c94a352-9ed0-48ad-99a4-a7d957f21806",
   "metadata": {
    "tags": []
   },
   "outputs": [],
   "source": [
    "def func(lst):\n",
    "    if lst:\n",
    "        return func(lst)\n",
    "func([])"
   ]
  },
  {
   "cell_type": "code",
   "execution_count": 18,
   "id": "9877cd08",
   "metadata": {
    "tags": []
   },
   "outputs": [
    {
     "name": "stdout",
     "output_type": "stream",
     "text": [
      "4\n",
      "3\n",
      "2\n",
      "1\n",
      "4\n",
      "3\n",
      "2\n",
      "1\n"
     ]
    }
   ],
   "source": [
    "# 인자값을 계속 바꿔주면서 리턴으로 꼬리재귀 호출, 조건문에 인자가 종료조건으로 걸리기 전까지 return으로 매번 호출된 함수 종료\n",
    "# 조건문에 인자가 걸리면 꼬리재귀 호출 종료, 맨 마지막으로 호출된 함수는 종료되지 않음\n",
    "def print_list_reverse_recursive3(lst):\n",
    "    \n",
    "    print(lst.pop())\n",
    "    if lst:\n",
    "        return print_list_reverse_recursive3(lst)\n",
    "\n",
    "print_list_reverse_recursive3([1,2,3,4])\n",
    "\n",
    "\n",
    "\n",
    "def print_list_reverse_recursive4(lst):\n",
    "    \n",
    "    if lst:\n",
    "        print(lst[-1])\n",
    "        return print_list_reverse_recursive4(lst[:-1])\n",
    "\n",
    "print_list_reverse_recursive4([1,2,3,4])"
   ]
  },
  {
   "cell_type": "code",
   "execution_count": 6,
   "id": "4f9628ee",
   "metadata": {
    "tags": []
   },
   "outputs": [
    {
     "name": "stdout",
     "output_type": "stream",
     "text": [
      "4\n",
      "3\n",
      "2\n",
      "1\n"
     ]
    }
   ],
   "source": [
    "# print_list_reverse_recursive5는 위 print_list_reverse_recursive1,2,3,4와 근본적으로 다른 재귀호출\n",
    "# print_list_reverse_recursive1,2,3,4 는 재귀호출 전 결과를 print하지만\n",
    "# print_list_reverse_recursive5는 인자가 종료조건에 걸릴 때까지 일단 재귀호출을 끝까지 하고\n",
    "# 종료조건으로만 return을 써서 함수가 종료되면\n",
    "   # 이전에 호출된 재귀함수들에서 재귀호출 다음 코드라인이 차례대로 실행되면서 결과가 print되는 구조\n",
    "\n",
    "# 즉 재귀 호출을 먼저 마치고, 호출 스택에서 돌아오는 과정에서 순서대로 요소를 출력\n",
    "\n",
    "def print_list_reverse_recursive5(lst, index=0):\n",
    "\n",
    "    if index == len(lst):\n",
    "        return\n",
    "\n",
    "    print_list_reverse_recursive5(lst, index + 1)\n",
    "    print(lst[index])\n",
    "\n",
    "\n",
    "print_list_reverse_recursive5([1,2,3,4])\n"
   ]
  },
  {
   "cell_type": "markdown",
   "id": "f30b7f7a-f7e4-4d8e-a04e-ac52e6e88547",
   "metadata": {},
   "source": [
    "함수 호출 스택을 비우기 위해서는 각 함수가 종료되어야 합니다. \n",
    "함수가 종료되면,  \n",
    "해당 함수에 할당된 스택 프레임(함수 호출 시 생성되는 메모리 공간, 지역 변수 및 기타 함수 실행 정보를 포함)이  \n",
    "호출 스택에서 제거됩니다.\n",
    "\n",
    "    (함수에 리턴문을 쓰고, 리턴문이 실행됐다고 해서 그 함수가 종료되는 건 아니다!! print_list_reverse_recursive4 참고)\n",
    "\n",
    "호출 스택이 비워지려면 함수가 return 문을 만나 최종적으로 반환값이 전달되어야 끝난다.   \n",
    "   \n",
    "   \n",
    "스택 오버플로우의 위험성은 함수가 처리해야 하는 데이터의 양과 호출 깊이에 직접적으로 관련이 있습니다.    \n",
    "그러나 print_list_reverse_recursive1,2,3,4,5 모두 단일 재귀 호출을 사용하므로,    \n",
    "주된 차이점은 데이터 구조를 어떻게 다루는가에 있습니다.  \n",
    "  \n",
    "    \n",
    "### print_list_reverse_recursive4:     \n",
    "    print_list_reverse_recursive4(lst) 함수에서 lst[:-1]을 사용하여 재귀 호출을 할 때, \n",
    "    실제로는 각 호출마다 새로운 리스트 슬라이스가 생성되어 재귀 함수에 전달됩니다. \n",
    "    그리고 이 함수는 print 문을 실행한 후, 새로운 슬라이스와 함께 자기 자신을 재귀적으로 호출합니다. \n",
    "\n",
    "    여기서 중요한 점은, 함수가 자기 자신을 호출한 다음에 바로 종료되는 것이 아니라, \n",
    "    호출한 재귀 함수가 반환될 때까지 기다린다는 것입니다. \n",
    "    즉, 각 재귀 호출이 완료되고 반환되기 전까지는 스택에서 제거되지 않습니다.\n",
    "\n",
    "    이 과정에서 스택에는 다음과 같이 여러 함수 호출이 쌓이게 됩니다:\n",
    "\n",
    "    print_list_reverse_recursive4([1,2,3]) 호출\n",
    "    print(3) 실행\n",
    "    print_list_reverse_recursive4([1,2]) 호출\n",
    "    print(2) 실행\n",
    "    print_list_reverse_recursive4([1]) 호출\n",
    "    print(1) 실행\n",
    "    print_list_reverse_recursive4([]) 호출\n",
    "    if lst: 조건이 거짓이 되어 반환\n",
    "\n",
    "    여기서 각 단계에서 함수는 자신이 호출한 재귀 함수가 완료될 때까지 스택에 남아 있습니다. \n",
    "    즉, print_list_reverse_recursive4([1,2])는 \n",
    "    print_list_reverse_recursive4([1])가 완료되고 반환될 때까지 스택에서 제거되지 않습니다. \n",
    "    이 패턴은 리스트가 빈 리스트가 될 때까지 계속됩니다.\n",
    "\n",
    "    따라서, 재귀 함수의 각 호출은 이전 호출이 완료될 때까지 스택에 남아 있으므로,\n",
    "    매 순간 스택에는 여러 개의 함수 호출이 존재할 수 있습니다. \n",
    "    이는 리스트의 크기가 매우 크거나 \n",
    "    시스템의 스택 크기가 제한적인 경우 스택 오버플로우를 일으킬 수 있음을 의미합니다.\n",
    "    \n",
    "### print_list_reverse_recursive2, 3: \n",
    "    이 함수들은 입력된 리스트에서 pop 메서드를 사용하여 요소를 제거합니다. \n",
    "    pop은 리스트의 크기를 실제로 줄이므로, 추가적인 메모리를 생성하지 않습니다. \n",
    "    따라서, 이 함수들은 print_list_reverse_recursive4보다는 상대적으로 적은 메모리를 사용할 수 있습니다. \n",
    "    그러나 스택 오버플로우의 위험은 여전히 입력 리스트의 크기에 비례하여 존재합니다.\n",
    "    print_list_reverse_recursive4는 2, 3에 비해 추가적인 메모리 사용량이 더 클 수 있다는 점에서\n",
    "    가장 나쁘다.\n",
    "\n",
    "### print_list_reverse_recursive5: \n",
    "    이 함수는 추가적인 메모리 할당을 수행하지 않으며, \n",
    "    단순히 인덱스를 사용하여 리스트 내에서 이동합니다. \n",
    "    따라서 스택 오버플로우의 위험은 주로 호출 깊이에 의해 결정되며, \n",
    "    이 함수는 입력 리스트의 크기에 비례하는 호출 깊이를 가지게 됩니다.\n",
    "    이 함수는 재귀 호출 후에 결과를 출력하기 때문에, \n",
    "    재귀 호출이 return을 만나 종료될 때까지 호출된 함수들이 스택에 남아 있어야 합니다. \n",
    "\n",
    "### print_list_reverse_recursive1: \n",
    "    입력 값 n이 매우 크면, n에서 1까지 도달하기 전까지 많은 수의 재귀 호출이 스택에 쌓입니다.\n",
    "    이 함수는 입력값 n에 대해 n-1로 호출 깊이를 증가시킵니다. \n",
    "    각 호출마다 스택 프레임을 소비하므로, n의 값에 직접적으로 비례하여 스택 오버플로우의 위험이 증가합니다.\n",
    "\n",
    " "
   ]
  },
  {
   "cell_type": "markdown",
   "id": "beaca0ff-5b1f-48d5-a400-a17cb337fa4d",
   "metadata": {},
   "source": [
    "### 아래 팩토리얼과 피보나치도 \n",
    "### print_list_reverse_recursive5 와 마찬가지로\n",
    "### 재귀 호출을 먼저 마치고, 호출 스택에서 돌아오는 과정에서\n",
    "### 각각의 호출된 함수가 반환(return) 값을 이전 호출된 함수로 전달하는 방식"
   ]
  },
  {
   "cell_type": "code",
   "execution_count": 1,
   "id": "4289646e-cfa3-4996-a93b-22f1a03e70dd",
   "metadata": {},
   "outputs": [],
   "source": [
    "def factorial(n):\n",
    "    if n <= 1:\n",
    "        return 1\n",
    "    return n * factorial(n-1)\n",
    "\n",
    "factorial(5)"
   ]
  },
  {
   "cell_type": "code",
   "execution_count": null,
   "id": "a9bff3bc-0831-4ecf-a6d6-97067e092e41",
   "metadata": {},
   "outputs": [],
   "source": [
    "def fib(n):\n",
    "    if n <= 2:\n",
    "        return 1\n",
    "    return fib(n-1) + fib(n-2)"
   ]
  },
  {
   "cell_type": "markdown",
   "id": "2121583f-dea3-4f10-b205-df353ead763a",
   "metadata": {
    "tags": []
   },
   "source": [
    "재귀 함수의 작동방식을 하나씩 따라가면서 확인하는 건 불가능에 가깝다.  \n",
    "몇십 몇백개쯤 되는 스택이 들어갔다 나갔다하는 상태를 모두 검증하는 일이기 때문  \n",
    "점화식을 잘 만들면 나머지는 다 올바르게 실행될거라는 믿음을 가지고 재귀함수를 만들어 써야한다  "
   ]
  },
  {
   "cell_type": "code",
   "execution_count": null,
   "id": "6c02dd30-af40-46c0-a86f-d6b4dfdfe692",
   "metadata": {},
   "outputs": [],
   "source": [
    "재귀 함수의 가장 큰 문제점은  \n",
    "자기 자신을 계속 호출하다보면 스택을 초과하여 프로그램이 강제제 종료되는 S.O가 발생한다는 것이다.  \n",
    "이를 해결하귀 위해 꼬리재귀를 쓰는 것도 방법이지만  \n",
    "궁극적으로는 실행한 함수가 종료되어 값을 반환하면서 스택을 비워야하므로  \n",
    "종료조건을 정확하게 명시해야 한다."
   ]
  },
  {
   "cell_type": "markdown",
   "id": "33e81e5a-d441-4401-9afe-e03a71a4a8ca",
   "metadata": {
    "tags": []
   },
   "source": [
    "# 문16 콜라츠 추측 e\n",
    "https://school.programmers.co.kr/learn/courses/30/lessons/12943"
   ]
  },
  {
   "cell_type": "code",
   "execution_count": null,
   "id": "2433c989-374c-491e-a12a-e3870d96dbe1",
   "metadata": {},
   "outputs": [],
   "source": []
  },
  {
   "cell_type": "code",
   "execution_count": null,
   "id": "5d8f4226-f4b6-4acc-8d13-cc1dfa92d908",
   "metadata": {},
   "outputs": [],
   "source": []
  },
  {
   "cell_type": "code",
   "execution_count": null,
   "id": "cc2a8305-5daf-4f2f-b72c-13e8d1d11869",
   "metadata": {},
   "outputs": [],
   "source": []
  },
  {
   "cell_type": "code",
   "execution_count": null,
   "id": "c1bb171c-f8ff-4228-9317-1b434f23cb65",
   "metadata": {},
   "outputs": [],
   "source": []
  },
  {
   "cell_type": "markdown",
   "id": "dcd988be-46d4-4120-b2b3-910ad4f18035",
   "metadata": {},
   "source": [
    "    입력된 수가 짝수라면 2로 나누고  \n",
    "    홀수라면 3을 곱하고 1을 더한다.\n",
    "    결과로 나온 수에 같은 작업을 반복한다.\n",
    "    그러면 모든 수를 1로 만들 수 있다"
   ]
  },
  {
   "cell_type": "markdown",
   "id": "4352b81e-7d37-41fa-bb6c-91020347708a",
   "metadata": {},
   "source": [
    "어떤 수가 입력됐을 때, 몇 번을 반복해야 1이 되는 지 출력하는 함수를 만들어라.  \n",
    "\n",
    "단 1이 입력되면 0, 500번 반복해도 1이 되지 않으면 -1을 반환시켜라 "
   ]
  },
  {
   "cell_type": "markdown",
   "id": "1daf31ce-cc3c-4205-be2c-07a11265df2e",
   "metadata": {},
   "source": [
    "### 내 풀이"
   ]
  },
  {
   "cell_type": "code",
   "execution_count": null,
   "id": "e4ca4011-3324-4716-8408-adbf9adefef1",
   "metadata": {},
   "outputs": [],
   "source": [
    "def solution(num):\n",
    "    cnt = 0\n",
    "    \n",
    "    def collatz(num, cnt):\n",
    "        if num != 1 and cnt < 500:\n",
    "            cnt+=1\n",
    "            if num % 2 == 0:\n",
    "                num //= 2\n",
    "            else:\n",
    "                num = num * 3 + 1\n",
    "            return collatz(num, cnt)\n",
    "        \n",
    "        elif num == 1:\n",
    "            return cnt\n",
    "        \n",
    "        else:\n",
    "            return -1\n",
    "        \n",
    "    answer = collatz(num, cnt)\n",
    "    \n",
    "    return answer"
   ]
  },
  {
   "cell_type": "code",
   "execution_count": null,
   "id": "f10dff76-8d08-409a-9e18-48f78292ca15",
   "metadata": {},
   "outputs": [],
   "source": [
    "def collatz(num, cnt):\n",
    "    if num != 1 and cnt < 500:\n",
    "        cnt+=1\n",
    "        if num % 2 == 0:\n",
    "            num //= 2\n",
    "        else:\n",
    "            num = num * 3 + 1\n",
    "        return collatz(num, cnt)\n",
    "\n",
    "    elif num == 1:\n",
    "        return cnt\n",
    "\n",
    "    else:\n",
    "        return -1\n",
    "    \n",
    "def solution(num):\n",
    "    return collatz(num, 0)"
   ]
  },
  {
   "cell_type": "markdown",
   "id": "2f4af638-d1a3-40e1-ba53-e4258e2f58d6",
   "metadata": {
    "tags": []
   },
   "source": [
    "### 책 풀이"
   ]
  },
  {
   "cell_type": "code",
   "execution_count": 16,
   "id": "d097384d-a9a2-4f9d-9b2f-1c8b3dae454a",
   "metadata": {
    "tags": []
   },
   "outputs": [],
   "source": [
    "def collatz(num, answer):\n",
    "    if num == 1: return answer\n",
    "    if answer == 500 : return -1\n",
    "\n",
    "    if num % 2 == 0:\n",
    "        return collatz(num // 2, answer + 1)\n",
    "    elif num % 2 == 1:\n",
    "        return collatz(num * 3 + 1, answer + 1)\n",
    "    \n",
    "def solution(num):\n",
    "    return collatz(num, 0)"
   ]
  },
  {
   "cell_type": "markdown",
   "id": "f550a94b-3f88-4e80-a357-ab41164e5bf7",
   "metadata": {},
   "source": [
    "#### chatGPT 풀이"
   ]
  },
  {
   "cell_type": "markdown",
   "id": "8dd79f8a-2973-48b1-8c99-b7c782dc5ce4",
   "metadata": {
    "tags": []
   },
   "source": [
    "가독성과 명확성:  \n",
    "두 번째 방식은 기저 조건을 함수의 시작 부분에서 처리함으로써 가독성과 코드의 명확성 측면에서 약간 더 우수합니다.  \n",
    "또한, 조건의 분리가 코드의 실행 흐름을 더 직관적으로 만듭니다.  "
   ]
  },
  {
   "cell_type": "markdown",
   "id": "fde0a0d3-f62f-4ae4-acc4-1a3ddcff849d",
   "metadata": {},
   "source": [
    "#### 반복문으로 짜기"
   ]
  },
  {
   "cell_type": "code",
   "execution_count": 24,
   "id": "52093724-b952-4c97-93a2-2ce64358b9bd",
   "metadata": {
    "tags": []
   },
   "outputs": [],
   "source": [
    "def collatz(n):\n",
    "    if n == 1: return 0\n",
    "    for i in range(500):\n",
    "        if n % 2 == 0:\n",
    "            n = n // 2\n",
    "            if n == 1:\n",
    "                return i+1\n",
    "        elif n % 2 == 1:\n",
    "            n = n * 3 + 1\n",
    "            if n == 1:\n",
    "                return i+1\n",
    "    return - 1\n",
    "        "
   ]
  },
  {
   "cell_type": "code",
   "execution_count": 25,
   "id": "5fb44702-f37e-45a2-81cb-4d7adb2a267e",
   "metadata": {
    "tags": []
   },
   "outputs": [
    {
     "data": {
      "text/plain": [
       "8"
      ]
     },
     "execution_count": 25,
     "metadata": {},
     "output_type": "execute_result"
    }
   ],
   "source": [
    "collatz(6)"
   ]
  },
  {
   "cell_type": "code",
   "execution_count": 26,
   "id": "66a7d12e-e376-47ec-a4b6-82808f438b19",
   "metadata": {
    "tags": []
   },
   "outputs": [
    {
     "data": {
      "text/plain": [
       "-1"
      ]
     },
     "execution_count": 26,
     "metadata": {},
     "output_type": "execute_result"
    }
   ],
   "source": [
    "collatz(626331)"
   ]
  },
  {
   "cell_type": "code",
   "execution_count": 27,
   "id": "9bde505c-c4a3-43c1-8c93-3a016d6fd4e3",
   "metadata": {
    "tags": []
   },
   "outputs": [
    {
     "data": {
      "text/plain": [
       "4"
      ]
     },
     "execution_count": 27,
     "metadata": {},
     "output_type": "execute_result"
    }
   ],
   "source": [
    "collatz(16)"
   ]
  },
  {
   "cell_type": "markdown",
   "id": "7329ba55-f305-4663-a62d-0c78230b44f2",
   "metadata": {},
   "source": [
    "chatGPT 풀이"
   ]
  },
  {
   "cell_type": "code",
   "execution_count": 28,
   "id": "fbbca048-9f54-4365-ac93-a2b43ef3f605",
   "metadata": {
    "tags": []
   },
   "outputs": [],
   "source": [
    "def collatz(n):\n",
    "    steps = 0\n",
    "    while n != 1:\n",
    "        if n % 2 == 0:\n",
    "            n //= 2\n",
    "        else:\n",
    "            n = n * 3 + 1\n",
    "        steps += 1\n",
    "        if steps >= 500:  # 최대 500번까지만 계산\n",
    "            return -1\n",
    "    return steps"
   ]
  },
  {
   "cell_type": "code",
   "execution_count": 29,
   "id": "1d1fe80a-1a7c-48bd-a077-74760b07d339",
   "metadata": {
    "tags": []
   },
   "outputs": [],
   "source": [
    "def collatz(n):\n",
    "    for steps in range(500):  # 최대 500번까지만 계산\n",
    "        if n == 1:\n",
    "            return steps\n",
    "        elif n % 2 == 0:\n",
    "            n //= 2\n",
    "        else:\n",
    "            n = n * 3 + 1\n",
    "    return -1"
   ]
  },
  {
   "cell_type": "code",
   "execution_count": 30,
   "id": "793abf9c-fa29-4d29-a235-f812ec01542f",
   "metadata": {
    "tags": []
   },
   "outputs": [
    {
     "data": {
      "text/plain": [
       "4"
      ]
     },
     "execution_count": 30,
     "metadata": {},
     "output_type": "execute_result"
    }
   ],
   "source": [
    "collatz(16)"
   ]
  },
  {
   "cell_type": "markdown",
   "id": "059a4d8f-8da7-478f-be15-e44e8c500d42",
   "metadata": {},
   "source": [
    "# 문17 하노이의 탑 h\n",
    "https://school.programmers.co.kr/learn/courses/30/lessons/12946"
   ]
  },
  {
   "cell_type": "markdown",
   "id": "7405dbf0-722f-4104-9fb3-b9bf5ec5b1f8",
   "metadata": {},
   "source": [
    "    입력 n : 2 (원판 개수)\n",
    "\n",
    "    출력 리스트 : [[1, 2], [1, 3], [2, 3]] (1, 2, 3 기둥)"
   ]
  },
  {
   "cell_type": "code",
   "execution_count": 39,
   "id": "61105b1d-e237-4d94-958f-a559c01ac3db",
   "metadata": {
    "tags": []
   },
   "outputs": [],
   "source": [
    "from __future__ import annotations"
   ]
  },
  {
   "cell_type": "code",
   "execution_count": 45,
   "id": "a9e26576-9efe-4153-884b-97cb2c8317d4",
   "metadata": {
    "tags": []
   },
   "outputs": [
    {
     "name": "stdout",
     "output_type": "stream",
     "text": [
      "원반 [1]을 1기둥에서 3기둥으로 옮깁니다.\n",
      "원반 [2]을 1기둥에서 2기둥으로 옮깁니다.\n",
      "원반 [1]을 3기둥에서 2기둥으로 옮깁니다.\n",
      "원반 [3]을 1기둥에서 3기둥으로 옮깁니다.\n",
      "원반 [1]을 2기둥에서 1기둥으로 옮깁니다.\n",
      "원반 [2]을 2기둥에서 3기둥으로 옮깁니다.\n",
      "원반 [1]을 1기둥에서 3기둥으로 옮깁니다.\n"
     ]
    }
   ],
   "source": [
    "def move(no: int, x: int, y: int) -> None:\n",
    "    \"\"\"원반을 no개를 x 기둥에서 y 기둥으로 옮김\"\"\"\n",
    "\n",
    "    if no > 1: \n",
    "        move(no - 1, x, 6 - x - y)\n",
    "        \n",
    "    print(f'원반 [{no}]을 {x}기둥에서 {y}기둥으로 옮깁니다.')\n",
    "    \n",
    "    if no > 1: \n",
    "        move(no - 1, 6 - x - y, y)\n",
    "\n",
    "move(3, 1, 3)"
   ]
  },
  {
   "cell_type": "code",
   "execution_count": 49,
   "id": "38984130-00c3-4001-9208-748cf5662561",
   "metadata": {
    "tags": []
   },
   "outputs": [
    {
     "name": "stdout",
     "output_type": "stream",
     "text": [
      "원반 [1]을 1기둥에서 3기둥으로 옮깁니다.\n",
      "원반 [2]을 1기둥에서 2기둥으로 옮깁니다.\n",
      "원반 [1]을 3기둥에서 2기둥으로 옮깁니다.\n",
      "원반 [3]을 1기둥에서 3기둥으로 옮깁니다.\n",
      "원반 [1]을 2기둥에서 1기둥으로 옮깁니다.\n",
      "원반 [2]을 2기둥에서 3기둥으로 옮깁니다.\n",
      "원반 [1]을 1기둥에서 3기둥으로 옮깁니다.\n"
     ]
    }
   ],
   "source": [
    "def hanoi(n, start, target, aux):\n",
    "    if n == 1:\n",
    "        print(f\"원반 [1]을 {start}기둥에서 {target}기둥으로 옮깁니다.\")\n",
    "        return\n",
    "    \n",
    "    hanoi(n-1, start, aux, target)  \n",
    "    \n",
    "    print(f\"원반 [{n}]을 {start}기둥에서 {target}기둥으로 옮깁니다.\")\n",
    "    \n",
    "    hanoi(n-1, aux, target, start)\n",
    "    \n",
    "hanoi(3, 1, 3, 2)"
   ]
  },
  {
   "cell_type": "code",
   "execution_count": 37,
   "id": "cb3d8da4-b820-490f-9219-9d2d6cc5de55",
   "metadata": {
    "tags": []
   },
   "outputs": [
    {
     "data": {
      "text/plain": [
       "[[1, 3],\n",
       " [1, 2],\n",
       " [3, 2],\n",
       " [1, 3],\n",
       " [2, 1],\n",
       " [2, 3],\n",
       " [1, 3],\n",
       " [1, 2],\n",
       " [3, 2],\n",
       " [3, 1],\n",
       " [2, 1],\n",
       " [3, 2],\n",
       " [1, 3],\n",
       " [1, 2],\n",
       " [3, 2],\n",
       " [1, 3],\n",
       " [2, 1],\n",
       " [2, 3],\n",
       " [1, 3],\n",
       " [2, 1],\n",
       " [3, 2],\n",
       " [3, 1],\n",
       " [2, 1],\n",
       " [2, 3],\n",
       " [1, 3],\n",
       " [1, 2],\n",
       " [3, 2],\n",
       " [1, 3],\n",
       " [2, 1],\n",
       " [2, 3],\n",
       " [1, 3]]"
      ]
     },
     "execution_count": 37,
     "metadata": {},
     "output_type": "execute_result"
    }
   ],
   "source": [
    "def move(no: int, x: int, y: int, answer =[]) -> None:\n",
    "    \"\"\"원반을 no개를 x 기둥에서 y 기둥으로 옮김\"\"\"\n",
    "\n",
    "    if no > 1: \n",
    "        move(no - 1, x, 6 - x - y)\n",
    "        \n",
    "    answer.append([x, y])\n",
    "    \n",
    "    if no > 1: \n",
    "        move(no - 1, 6 - x - y, y)\n",
    "        \n",
    "    return answer\n",
    "\n",
    "move(5, 1, 3)"
   ]
  },
  {
   "cell_type": "code",
   "execution_count": 39,
   "id": "2cbc59ad-3bc7-4ee1-8d93-fbb05ca52f6b",
   "metadata": {
    "tags": []
   },
   "outputs": [
    {
     "data": {
      "text/plain": [
       "[[1, 3], [1, 2], [3, 2], [1, 3], [2, 1], [2, 3], [1, 3]]"
      ]
     },
     "execution_count": 39,
     "metadata": {},
     "output_type": "execute_result"
    }
   ],
   "source": [
    "def hanoi(n, start, target, aux, answer=None):\n",
    "    if answer is None:\n",
    "        answer = []\n",
    "    if n == 1:\n",
    "        answer.append([start, target])\n",
    "        return answer\n",
    "    hanoi(n-1, start, aux, target, answer)\n",
    "    answer.append([start, target])\n",
    "    hanoi(n-1, aux, target, start, answer)\n",
    "    return answer\n",
    "\n",
    "answer = hanoi(3, 1, 3, 2)\n",
    "answer"
   ]
  },
  {
   "cell_type": "markdown",
   "id": "bd7cd101-f184-43c8-b243-13d875940b89",
   "metadata": {},
   "source": [
    "### 차이점\n",
    "보조 기둥 결정 방식: \n",
    "\n",
    "    move 함수는 보조 기둥을 자동으로 계산하는 반면, \n",
    "    hanoi 함수는 보조 기둥을 명시적인 인자로 받습니다. \n",
    "    이는 move 함수에서 보조 기둥의 위치를 각 단계마다 동적으로 계산하는 것과 대비됩니다.\n",
    "\n",
    "코드의 명시성과 재사용성: \n",
    "\n",
    "    hanoi 함수는 인자를 통해 각 기둥의 역할을 명시적으로 지정함으로써, 코드의 명시성과 재사용성을 높입니다. \n",
    "    반면 move 함수는 기둥 번호만으로 모든 것을 처리하여, 더 간결하지만 기둥 번호의 의미를 기억해야 합니다.\n",
    "\n"
   ]
  },
  {
   "cell_type": "markdown",
   "id": "ce84cfe4-d5d7-4c57-a2cd-042214292579",
   "metadata": {},
   "source": [
    "    원판 n개를 옮기는 과정은\n",
    "    원판 n-1개를 옮기는 과정을 포함하고 있다. (정확히 말하면 옮겨지는 원판 순서)\n",
    "\n",
    "    옮겨지는 기둥 위치는 계속 달라진다."
   ]
  },
  {
   "cell_type": "code",
   "execution_count": 22,
   "id": "68ea8c91-760b-4ff9-a4ba-4f79504134cc",
   "metadata": {
    "tags": []
   },
   "outputs": [
    {
     "data": {
      "text/plain": [
       "[[1, 1, 2], [2, 1, 3], [1, 2, 3]]"
      ]
     },
     "execution_count": 22,
     "metadata": {},
     "output_type": "execute_result"
    }
   ],
   "source": [
    "solution(2) # 첫번째 원반 > 두번째 원반 > 첫번째 원반"
   ]
  },
  {
   "cell_type": "code",
   "execution_count": 24,
   "id": "e085d493-12f5-4af6-8ff2-0f5fb9a9b5c5",
   "metadata": {
    "tags": []
   },
   "outputs": [
    {
     "data": {
      "text/plain": [
       "[[1, 1, 3], [2, 1, 2], [1, 3, 2], [3, 1, 3], [1, 2, 1], [2, 2, 3], [1, 1, 3]]"
      ]
     },
     "execution_count": 24,
     "metadata": {},
     "output_type": "execute_result"
    }
   ],
   "source": [
    "solution(3) # 첫번째 원반 > 두번째 원반 > 첫번째 원반   >   세번째 원반   >   \n",
    "            # 첫번째 원반 > 두번째 원반 > 첫번째 원반"
   ]
  },
  {
   "cell_type": "code",
   "execution_count": 28,
   "id": "0232674c-8ed1-4499-a0fa-d92d5a4a4585",
   "metadata": {
    "tags": []
   },
   "outputs": [
    {
     "data": {
      "text/plain": [
       "[[1, 1, 2],\n",
       " [2, 1, 3],\n",
       " [1, 2, 3],\n",
       " [3, 1, 2],\n",
       " [1, 3, 1],\n",
       " [2, 3, 2],\n",
       " [1, 1, 2],\n",
       " [4, 1, 3],\n",
       " [1, 2, 3],\n",
       " [2, 2, 1],\n",
       " [1, 3, 1],\n",
       " [3, 2, 3],\n",
       " [1, 1, 2],\n",
       " [2, 1, 3],\n",
       " [1, 2, 3]]"
      ]
     },
     "execution_count": 28,
     "metadata": {},
     "output_type": "execute_result"
    }
   ],
   "source": [
    "solution(4) # 첫번째 원반 > 두번째 원반 > 첫번째 원반   >   세번째 원반   >   \n",
    "            # 첫번째 원반 > 두번째 원반 > 첫번째 원반   >   네번째 원반   >   \n",
    "            # 첫번째 원반 > 두번째 원반 > 첫번째 원반   >   세번째 원반   >\n",
    "            # 첫번째 원반 > 두번째 원반 > 첫번째 원반"
   ]
  },
  {
   "cell_type": "code",
   "execution_count": 30,
   "id": "949a364e-4f49-432c-9f6d-4dbe4e8e451f",
   "metadata": {
    "tags": []
   },
   "outputs": [
    {
     "data": {
      "text/plain": [
       "[[1, 1, 3],\n",
       " [2, 1, 2],\n",
       " [1, 3, 2],\n",
       " [3, 1, 3],\n",
       " [1, 2, 1],\n",
       " [2, 2, 3],\n",
       " [1, 1, 3],\n",
       " [4, 1, 2],\n",
       " [1, 3, 2],\n",
       " [2, 3, 1],\n",
       " [1, 2, 1],\n",
       " [3, 3, 2],\n",
       " [1, 1, 3],\n",
       " [2, 1, 2],\n",
       " [1, 3, 2],\n",
       " [5, 1, 3],\n",
       " [1, 2, 1],\n",
       " [2, 2, 3],\n",
       " [1, 1, 3],\n",
       " [3, 2, 1],\n",
       " [1, 3, 2],\n",
       " [2, 3, 1],\n",
       " [1, 2, 1],\n",
       " [4, 2, 3],\n",
       " [1, 1, 3],\n",
       " [2, 1, 2],\n",
       " [1, 3, 2],\n",
       " [3, 1, 3],\n",
       " [1, 2, 1],\n",
       " [2, 2, 3],\n",
       " [1, 1, 3]]"
      ]
     },
     "execution_count": 30,
     "metadata": {},
     "output_type": "execute_result"
    }
   ],
   "source": [
    "solution(5) # 첫번째 원반 > 두번째 원반 > 첫번째 원반   >   세번째 원반   >   \n",
    "            # 첫번째 원반 > 두번째 원반 > 첫번째 원반   >   네번째 원반   >   \n",
    "            # 첫번째 원반 > 두번째 원반 > 첫번째 원반   >   세번째 원반   >\n",
    "            # 첫번째 원반 > 두번째 원반 > 첫번째 원반   >   다섯번째 원반  >\n",
    "            # 첫번째 원반 > 두번째 원반 > 첫번째 원반   >   세번째 원반   >   \n",
    "            # 첫번째 원반 > 두번째 원반 > 첫번째 원반   >   네번째 원반   >   \n",
    "            # 첫번째 원반 > 두번째 원반 > 첫번째 원반   >   세번째 원반   >\n",
    "            # 첫번째 원반 > 두번째 원반 > 첫번째 원반"
   ]
  },
  {
   "cell_type": "code",
   "execution_count": null,
   "id": "db87515c-7e39-4641-b5fc-98a6dde698a2",
   "metadata": {},
   "outputs": [],
   "source": [
    "[[1, 1, 3], [2, 1, 2], [1, 3, 2], [3, 1, 3], [1, 2, 1], [2, 2, 3], [1, 1, 3]]"
   ]
  },
  {
   "cell_type": "markdown",
   "id": "b2e1d8b8-154b-490b-bf17-4a44fada1aab",
   "metadata": {},
   "source": [
    "# 문18 모음사전 m\n",
    "https://school.programmers.co.kr/learn/courses/30/lessons/84512/"
   ]
  },
  {
   "cell_type": "markdown",
   "id": "786929b6-8885-4be3-8654-74f3b1937a48",
   "metadata": {},
   "source": [
    "# 문18 호텔방 배정 h\n",
    "https://school.programmers.co.kr/learn/courses/30/lessons/64063"
   ]
  },
  {
   "cell_type": "code",
   "execution_count": null,
   "id": "c5cf6fee-b0b0-414e-9cda-aade0f8d20fe",
   "metadata": {},
   "outputs": [],
   "source": []
  }
 ],
 "metadata": {
  "kernelspec": {
   "display_name": "Python 3 (ipykernel)",
   "language": "python",
   "name": "python3"
  },
  "language_info": {
   "codemirror_mode": {
    "name": "ipython",
    "version": 3
   },
   "file_extension": ".py",
   "mimetype": "text/x-python",
   "name": "python",
   "nbconvert_exporter": "python",
   "pygments_lexer": "ipython3",
   "version": "3.11.0"
  }
 },
 "nbformat": 4,
 "nbformat_minor": 5
}
