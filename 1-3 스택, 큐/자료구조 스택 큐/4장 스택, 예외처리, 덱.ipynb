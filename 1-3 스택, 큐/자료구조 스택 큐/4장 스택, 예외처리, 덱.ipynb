{
 "cells": [
  {
   "cell_type": "markdown",
   "id": "f7434b16-ac58-4d7f-bf97-602b4053b763",
   "metadata": {},
   "source": [
    "# 문1) LIFO를 push, pop, bottom, top 개념을 가지고 설명\n",
    "\n",
    "stack에 data를 push하면 bottom에 쌓이고, pop하면 top부터 빠져나간다."
   ]
  },
  {
   "cell_type": "markdown",
   "id": "bb60fdf1-5213-478d-83a2-9390d1da7916",
   "metadata": {},
   "source": [
    "# 문2) 스택 구현 \n",
    "스택 구현은 기본적으로 배열과 스택 포인터를 사용한다."
   ]
  },
  {
   "cell_type": "code",
   "execution_count": 35,
   "id": "3b05f765-4f8d-45f7-b696-e82801570fa5",
   "metadata": {
    "tags": []
   },
   "outputs": [
    {
     "data": {
      "text/plain": [
       "'\\n구현 항목: 예외처리 클래스, __init__, __len__, is_empty, is_full, push, pop, find, count, __contains__, dump, clear\\n'"
      ]
     },
     "execution_count": 35,
     "metadata": {},
     "output_type": "execute_result"
    }
   ],
   "source": [
    "\"\"\"\n",
    "구현 항목: 예외처리 클래스, __init__, __len__, is_empty, is_full, push, pop, find, count, __contains__, dump, clear\n",
    "\"\"\""
   ]
  },
  {
   "cell_type": "code",
   "execution_count": 60,
   "id": "8485520a-932a-4c6b-89cf-1ebe80713632",
   "metadata": {
    "tags": []
   },
   "outputs": [],
   "source": [
    "from typing import Any\n",
    "\n",
    "\n",
    "class FixedStack:\n",
    "    \n",
    "    \n",
    "    class Empty(Exception):\n",
    "        \"\"\"pop, peek 시 스택이 비어있으면 내보내는 예외처리\"\"\"\n",
    "        pass\n",
    "    \n",
    "    \n",
    "    class Full(Exception):\n",
    "        \"\"\"push시 스택이 가득 차있으면 내보내는 예외처리\"\"\"\n",
    "        pass\n",
    "    \n",
    "    def __init__(self, capacity: int=256) -> None:\n",
    "        \n",
    "        self.stk = [None]*capacity\n",
    "        self.capacity = capacity\n",
    "        self.ptr = 0                 # 스택 포인터\n",
    "        \n",
    "    def __len__(self) -> int:    \n",
    "        \"\"\"외장함수 len() 사용 가능해짐\"\"\"\n",
    "        return self.ptr\n",
    "    \n",
    "    def is_empty(self) -> bool:\n",
    "        \n",
    "        return self.ptr <= 0\n",
    "    \n",
    "    def is_full(self) -> bool:\n",
    "        \n",
    "        return self.ptr == self.capacity\n",
    "    \n",
    "    def push(self, value: Any) -> None:\n",
    "        \n",
    "        if self.is_full():\n",
    "            raise FixedStack.Full\n",
    "        self.stk[self.ptr] = value   # 스택에 푸시는 배열의 스택포인터 인덱스 위치에 값을 직접 할당\n",
    "        self.ptr += 1\n",
    "        \n",
    "    def pop(self) -> Any:\n",
    "        \n",
    "        if self.is_empty():\n",
    "            raise FixedStack.Empty\n",
    "        self.ptr -= 1\n",
    "        return self.stk[self.ptr]\n",
    "    \n",
    "    def peek(self) -> Any:\n",
    "        \"\"\"top에 있는 value 확인\"\"\"\n",
    "        if self.is_empty():\n",
    "            raise FixedClass.Empty\n",
    "        return self.stk[self.ptr-1]\n",
    "    \n",
    "    def clear(self) -> None:\n",
    "        \n",
    "        self.stk = [None]*self.capacity\n",
    "        self.ptr = 0\n",
    "        \n",
    "    def find(self, value: Any) -> Any:\n",
    "        \"\"\"top에서 bottom으로 value가 stack에 있는지 검색\"\"\"\n",
    "        for i in range(self.ptr-1, -1, -1):\n",
    "            if self.stk[i] == value:\n",
    "                return i\n",
    "        return -1\n",
    "    \n",
    "    def count(self, value) -> int:\n",
    "        \"\"\"bottom에서 top으로 value의 개수를 카운트\"\"\"\n",
    "        c = 0\n",
    "        for i in range(self.ptr):\n",
    "            if self.stk[i] == value:\n",
    "                c += 1\n",
    "        return c\n",
    "    \n",
    "    def __contains__(self, value: Any) -> bool:\n",
    "        \"\"\"in, not in 연산자 사용 가능해짐\"\"\"\n",
    "        return self.count(value) > 0\n",
    "    \n",
    "    def dump(self) -> None:\n",
    "        \"\"\"top에서 bottom 순으로 모든 원소 출력\"\"\"\n",
    "        if self.is_empty():\n",
    "            raise FixedStack.Empty\n",
    "        for i in range(self.ptr-1, -1, -1):\n",
    "            print(f'{i}번째 원소 : {self.stk[i]}')"
   ]
  },
  {
   "cell_type": "code",
   "execution_count": 61,
   "id": "a3496c5d-693a-4a73-b32c-729ebdaa59ca",
   "metadata": {},
   "outputs": [
    {
     "ename": "Empty",
     "evalue": "",
     "output_type": "error",
     "traceback": [
      "\u001b[0;31m---------------------------------------------------------------------------\u001b[0m",
      "\u001b[0;31mEmpty\u001b[0m                                     Traceback (most recent call last)",
      "Cell \u001b[0;32mIn[61], line 2\u001b[0m\n\u001b[1;32m      1\u001b[0m stack \u001b[38;5;241m=\u001b[39m FixedStack(\u001b[38;5;241m10\u001b[39m)\n\u001b[0;32m----> 2\u001b[0m stack\u001b[38;5;241m.\u001b[39mdump()\n",
      "Cell \u001b[0;32mIn[60], line 81\u001b[0m, in \u001b[0;36mFixedStack.dump\u001b[0;34m(self)\u001b[0m\n\u001b[1;32m     79\u001b[0m \u001b[38;5;250m\u001b[39m\u001b[38;5;124;03m\"\"\"top에서 bottom 순으로 모든 원소 출력\"\"\"\u001b[39;00m\n\u001b[1;32m     80\u001b[0m \u001b[38;5;28;01mif\u001b[39;00m \u001b[38;5;28mself\u001b[39m\u001b[38;5;241m.\u001b[39mis_empty():\n\u001b[0;32m---> 81\u001b[0m     \u001b[38;5;28;01mraise\u001b[39;00m FixedStack\u001b[38;5;241m.\u001b[39mEmpty\n\u001b[1;32m     82\u001b[0m \u001b[38;5;28;01mfor\u001b[39;00m i \u001b[38;5;129;01min\u001b[39;00m \u001b[38;5;28mrange\u001b[39m(\u001b[38;5;28mself\u001b[39m\u001b[38;5;241m.\u001b[39mptr\u001b[38;5;241m-\u001b[39m\u001b[38;5;241m1\u001b[39m, \u001b[38;5;241m-\u001b[39m\u001b[38;5;241m1\u001b[39m, \u001b[38;5;241m-\u001b[39m\u001b[38;5;241m1\u001b[39m):\n\u001b[1;32m     83\u001b[0m     \u001b[38;5;28mprint\u001b[39m(\u001b[38;5;124mf\u001b[39m\u001b[38;5;124m'\u001b[39m\u001b[38;5;132;01m{\u001b[39;00mi\u001b[38;5;132;01m}\u001b[39;00m\u001b[38;5;124m번째 원소 : \u001b[39m\u001b[38;5;132;01m{\u001b[39;00m\u001b[38;5;28mself\u001b[39m\u001b[38;5;241m.\u001b[39mstk[i]\u001b[38;5;132;01m}\u001b[39;00m\u001b[38;5;124m'\u001b[39m)\n",
      "\u001b[0;31mEmpty\u001b[0m: "
     ]
    }
   ],
   "source": [
    "stack = FixedStack(10)\n",
    "stack.dump()"
   ]
  },
  {
   "cell_type": "code",
   "execution_count": 62,
   "id": "323259ce-195b-4a33-a9a2-ce4558c429da",
   "metadata": {
    "tags": []
   },
   "outputs": [
    {
     "data": {
      "text/plain": [
       "False"
      ]
     },
     "execution_count": 62,
     "metadata": {},
     "output_type": "execute_result"
    }
   ],
   "source": [
    "1 in stack  # __contains__ 매직 메서드 구현으로 가능해짐"
   ]
  },
  {
   "cell_type": "code",
   "execution_count": 63,
   "id": "ba1756b2-bce4-4570-a54c-8180431d9ad9",
   "metadata": {
    "tags": []
   },
   "outputs": [
    {
     "data": {
      "text/plain": [
       "True"
      ]
     },
     "execution_count": 63,
     "metadata": {},
     "output_type": "execute_result"
    }
   ],
   "source": [
    "10 not in stack"
   ]
  },
  {
   "cell_type": "code",
   "execution_count": 64,
   "id": "76dc3f74-a6fe-4cfa-84df-67a41e9dc485",
   "metadata": {
    "tags": []
   },
   "outputs": [
    {
     "name": "stdout",
     "output_type": "stream",
     "text": [
      "4번째 원소 : 1\n",
      "3번째 원소 : 1\n",
      "2번째 원소 : 1\n",
      "1번째 원소 : 1\n",
      "0번째 원소 : 1\n"
     ]
    },
    {
     "data": {
      "text/plain": [
       "[None, None, None, None, None, None, None, None, None, None]"
      ]
     },
     "execution_count": 64,
     "metadata": {},
     "output_type": "execute_result"
    }
   ],
   "source": [
    "stack = FixedStack(10)\n",
    "stack.push(1)\n",
    "stack.push(1)\n",
    "stack.push(1)\n",
    "stack.push(1)\n",
    "stack.push(1)\n",
    "stack.dump()\n",
    "stack.clear()\n",
    "stack.stk "
   ]
  },
  {
   "cell_type": "code",
   "execution_count": 66,
   "id": "b0aa6786-e6e0-4d16-9333-6e3f68458c7c",
   "metadata": {
    "tags": []
   },
   "outputs": [
    {
     "data": {
      "text/plain": [
       "0"
      ]
     },
     "execution_count": 66,
     "metadata": {},
     "output_type": "execute_result"
    }
   ],
   "source": [
    "len(stack) # __len__ 매직 메서드 구현으로 가능해짐"
   ]
  },
  {
   "cell_type": "code",
   "execution_count": 67,
   "id": "51fdeabd-6360-4042-af6b-998ccc7b9187",
   "metadata": {
    "tags": []
   },
   "outputs": [
    {
     "name": "stdout",
     "output_type": "stream",
     "text": [
      "9번째 원소 : 23465\n",
      "8번째 원소 : 22134\n",
      "7번째 원소 : 243\n",
      "6번째 원소 : 2231\n",
      "5번째 원소 : 2234\n",
      "4번째 원소 : -21343\n",
      "3번째 원소 : 34\n",
      "2번째 원소 : 5432\n",
      "1번째 원소 : 245\n",
      "0번째 원소 : 1234\n"
     ]
    }
   ],
   "source": [
    "stack.push(1234)\n",
    "stack.push(245)\n",
    "stack.push(5432)\n",
    "stack.push(34)\n",
    "stack.push(-21343)\n",
    "stack.push(2234)\n",
    "stack.push(2231)\n",
    "stack.push(243)\n",
    "stack.push(22134)\n",
    "stack.push(23465)\n",
    "stack.dump()"
   ]
  },
  {
   "cell_type": "code",
   "execution_count": 68,
   "id": "918b7f84-2667-48a4-a527-674db5306055",
   "metadata": {
    "tags": []
   },
   "outputs": [
    {
     "ename": "Full",
     "evalue": "",
     "output_type": "error",
     "traceback": [
      "\u001b[0;31m---------------------------------------------------------------------------\u001b[0m",
      "\u001b[0;31mFull\u001b[0m                                      Traceback (most recent call last)",
      "Cell \u001b[0;32mIn[68], line 1\u001b[0m\n\u001b[0;32m----> 1\u001b[0m stack\u001b[38;5;241m.\u001b[39mpush(\u001b[38;5;241m2\u001b[39m)\n",
      "Cell \u001b[0;32mIn[60], line 37\u001b[0m, in \u001b[0;36mFixedStack.push\u001b[0;34m(self, value)\u001b[0m\n\u001b[1;32m     34\u001b[0m \u001b[38;5;28;01mdef\u001b[39;00m \u001b[38;5;21mpush\u001b[39m(\u001b[38;5;28mself\u001b[39m, value: Any) \u001b[38;5;241m-\u001b[39m\u001b[38;5;241m>\u001b[39m \u001b[38;5;28;01mNone\u001b[39;00m:\n\u001b[1;32m     36\u001b[0m     \u001b[38;5;28;01mif\u001b[39;00m \u001b[38;5;28mself\u001b[39m\u001b[38;5;241m.\u001b[39mis_full():\n\u001b[0;32m---> 37\u001b[0m         \u001b[38;5;28;01mraise\u001b[39;00m FixedStack\u001b[38;5;241m.\u001b[39mFull\n\u001b[1;32m     38\u001b[0m     \u001b[38;5;28mself\u001b[39m\u001b[38;5;241m.\u001b[39mstk[\u001b[38;5;28mself\u001b[39m\u001b[38;5;241m.\u001b[39mptr] \u001b[38;5;241m=\u001b[39m value   \u001b[38;5;66;03m# 스택에 푸시는 배열의 스택포인터 인덱스 위치에 값을 직접 할당\u001b[39;00m\n\u001b[1;32m     39\u001b[0m     \u001b[38;5;28mself\u001b[39m\u001b[38;5;241m.\u001b[39mptr \u001b[38;5;241m+\u001b[39m\u001b[38;5;241m=\u001b[39m \u001b[38;5;241m1\u001b[39m\n",
      "\u001b[0;31mFull\u001b[0m: "
     ]
    }
   ],
   "source": [
    "stack.push(2)"
   ]
  },
  {
   "cell_type": "code",
   "execution_count": null,
   "id": "f202c322-a7ea-4127-8f15-c002e4ba8f97",
   "metadata": {},
   "outputs": [],
   "source": []
  },
  {
   "cell_type": "markdown",
   "id": "b1a04c49-d6bf-4d57-84e8-c9db8fe7bd90",
   "metadata": {
    "tags": []
   },
   "source": [
    "# 문3) 내장 예외를 처리하는 방법"
   ]
  },
  {
   "cell_type": "markdown",
   "id": "f262f316-ca01-4707-8feb-bad768361f0b",
   "metadata": {
    "tags": []
   },
   "source": [
    "try, except 구문을 사용해서  \n",
    "try 절의 코드를 실행했을 때 예외(내장예외)가 발생하면  \n",
    "해당 예외가 except 뒤의 키워드(BaseException에서 파생된 모든 예외 클래스)와 일치하는 경우  \n",
    "except 절은 해당 예외를 어떻게 처리할지 보여준다  \n",
    "https://docs.python.org/ko/3/tutorial/errors.html#handling-exceptions\n",
    "  \n",
    "내장예외 클래스 참고\n",
    "https://docs.python.org/ko/3/library/exceptions.html#exception-hierarchy"
   ]
  },
  {
   "cell_type": "code",
   "execution_count": 55,
   "id": "a9b3494a-d63e-41de-b82c-b78b3c118752",
   "metadata": {
    "tags": []
   },
   "outputs": [
    {
     "name": "stdin",
     "output_type": "stream",
     "text": [
      "Please enter a number:  \"34\"\n"
     ]
    },
    {
     "name": "stdout",
     "output_type": "stream",
     "text": [
      "Oops!  That was no valid number.  Try again...\n"
     ]
    },
    {
     "name": "stdin",
     "output_type": "stream",
     "text": [
      "Please enter a number:  34\n"
     ]
    }
   ],
   "source": [
    "while True:\n",
    "    try:\n",
    "        x = int(input(\"Please enter a number: \"))\n",
    "        break\n",
    "    except ValueError:\n",
    "        print(\"Oops!  That was no valid number.  Try again...\")"
   ]
  },
  {
   "cell_type": "markdown",
   "id": "bad7652f-21e0-4417-aeb5-6b8c2ce4d069",
   "metadata": {},
   "source": [
    "# 문4) raise 문을 통한 사용자 정의 예외처리 방법"
   ]
  },
  {
   "cell_type": "markdown",
   "id": "b8f557f8-809e-43e8-b753-0fb519df7b18",
   "metadata": {},
   "source": [
    "Exception 클래스를 상속받은 사용자 정의 예외 클래스(이때 클래스명은 예외이름이 된다)를 만든 후  \n",
    "raise 구문을 써서 해당 클래스 예외를 일으킨다."
   ]
  },
  {
   "cell_type": "markdown",
   "id": "2aeca15f-aebf-4163-b387-37dce263b4dc",
   "metadata": {
    "tags": []
   },
   "source": [
    "# 문5) 예외처리시 else 구문을 사용하는 경우"
   ]
  },
  {
   "cell_type": "markdown",
   "id": "ca1d0c66-5882-4ee2-adaa-64b0a5c398c5",
   "metadata": {},
   "source": [
    "try: 예외가 발생할 수 있는 코드를 실행합니다.  \n",
    "except: try 블록에서 예외가 발생했을 때 실행될 코드를 정의합니다.  \n",
    "else: try 블록에서 예외가 발생하지 않았을 때 실행될 코드를 정의합니다.  \n",
    "\n",
    "    else를 쓰는 이유는\n",
    "    try에 에러 발생확률이 높고 분명한 코드를 넣고\n",
    "    그보다 낮은 발생확률 또는 불분명한 코드를\n",
    "    else에 구분해 놓음으로써\n",
    "    \n",
    "    각 코드 블록에서 발생하는 예외를 더 정확하게 구분하고 처리할 수 있다."
   ]
  },
  {
   "cell_type": "markdown",
   "id": "2d43c61a-85d2-4432-8709-86a3c29e6f02",
   "metadata": {
    "tags": []
   },
   "source": [
    "# 문6) finally 절 사용법"
   ]
  },
  {
   "cell_type": "markdown",
   "id": "c4d9347a-d011-464f-ac77-23843e194215",
   "metadata": {},
   "source": [
    "finally 절은 에러가 발생하든 안하든 모든 경우에 실행됩니다. \n",
    "  \n",
    "실제 세상의 응용 프로그램에서, finally 절은 외부 자원을 사용할 때, 성공적인지 아닌지와 관계없이, 그 자원을 반납하는 데 유용합니다  \n",
    "(파일이나 네트워크 연결 같은 것들)."
   ]
  },
  {
   "cell_type": "code",
   "execution_count": 36,
   "id": "e80d4290-eacc-467b-b41c-2720c6fc568e",
   "metadata": {
    "tags": []
   },
   "outputs": [],
   "source": [
    "def divide(x, y):\n",
    "    try:\n",
    "        result = x / y\n",
    "    except ZeroDivisionError:\n",
    "        print(\"division by zero!\")\n",
    "    else:\n",
    "        print(\"result is\", result)\n",
    "    finally:\n",
    "        print(\"executing finally clause\")"
   ]
  },
  {
   "cell_type": "code",
   "execution_count": 37,
   "id": "698b3d58-4ad0-4b20-9f1e-565355135c43",
   "metadata": {
    "tags": []
   },
   "outputs": [
    {
     "name": "stdout",
     "output_type": "stream",
     "text": [
      "result is 2.0\n",
      "executing finally clause\n"
     ]
    }
   ],
   "source": [
    "divide(2, 1)"
   ]
  },
  {
   "cell_type": "code",
   "execution_count": 38,
   "id": "aa3b51ca-c210-4f90-bec7-847f688ce216",
   "metadata": {
    "tags": []
   },
   "outputs": [
    {
     "name": "stdout",
     "output_type": "stream",
     "text": [
      "division by zero!\n",
      "executing finally clause\n"
     ]
    }
   ],
   "source": [
    "divide(2, 0)"
   ]
  },
  {
   "cell_type": "code",
   "execution_count": 39,
   "id": "9d53211e-fb1a-448c-ba55-75c61b083c89",
   "metadata": {
    "tags": []
   },
   "outputs": [
    {
     "name": "stdout",
     "output_type": "stream",
     "text": [
      "executing finally clause\n"
     ]
    },
    {
     "ename": "TypeError",
     "evalue": "unsupported operand type(s) for /: 'str' and 'str'",
     "output_type": "error",
     "traceback": [
      "\u001b[0;31m---------------------------------------------------------------------------\u001b[0m",
      "\u001b[0;31mTypeError\u001b[0m                                 Traceback (most recent call last)",
      "Cell \u001b[0;32mIn[39], line 1\u001b[0m\n\u001b[0;32m----> 1\u001b[0m divide(\u001b[38;5;124m\"\u001b[39m\u001b[38;5;124m2\u001b[39m\u001b[38;5;124m\"\u001b[39m, \u001b[38;5;124m\"\u001b[39m\u001b[38;5;124m1\u001b[39m\u001b[38;5;124m\"\u001b[39m)\n",
      "Cell \u001b[0;32mIn[36], line 3\u001b[0m, in \u001b[0;36mdivide\u001b[0;34m(x, y)\u001b[0m\n\u001b[1;32m      1\u001b[0m \u001b[38;5;28;01mdef\u001b[39;00m \u001b[38;5;21mdivide\u001b[39m(x, y):\n\u001b[1;32m      2\u001b[0m     \u001b[38;5;28;01mtry\u001b[39;00m:\n\u001b[0;32m----> 3\u001b[0m         result \u001b[38;5;241m=\u001b[39m x \u001b[38;5;241m/\u001b[39m y\n\u001b[1;32m      4\u001b[0m     \u001b[38;5;28;01mexcept\u001b[39;00m \u001b[38;5;167;01mZeroDivisionError\u001b[39;00m:\n\u001b[1;32m      5\u001b[0m         \u001b[38;5;28mprint\u001b[39m(\u001b[38;5;124m\"\u001b[39m\u001b[38;5;124mdivision by zero!\u001b[39m\u001b[38;5;124m\"\u001b[39m)\n",
      "\u001b[0;31mTypeError\u001b[0m: unsupported operand type(s) for /: 'str' and 'str'"
     ]
    }
   ],
   "source": [
    "divide(\"2\", \"1\") # 두 문자열을 나눠서 발생한 TypeError 는 except 절에 의해 처리되지 않고 finally 절이 실행된 후에 다시 일어납니다."
   ]
  },
  {
   "cell_type": "code",
   "execution_count": null,
   "id": "4bb5cea6-4c0a-45c3-b478-0063746056d4",
   "metadata": {},
   "outputs": [],
   "source": []
  },
  {
   "cell_type": "code",
   "execution_count": null,
   "id": "8eb4138d-2a88-48d0-8826-40656c09d8f3",
   "metadata": {},
   "outputs": [],
   "source": []
  },
  {
   "cell_type": "markdown",
   "id": "e879d4fb-53b0-4fa2-9a4c-53dbb5a99754",
   "metadata": {},
   "source": [
    "# 문7) 덱 사용법\n",
    "popleft, appendleft, extendleft, rotate"
   ]
  },
  {
   "cell_type": "code",
   "execution_count": 74,
   "id": "2abb14e6-d2e5-432e-882f-58e98d68fb9b",
   "metadata": {},
   "outputs": [],
   "source": [
    "import collections"
   ]
  },
  {
   "cell_type": "code",
   "execution_count": 84,
   "id": "101d38ca-7048-4aec-94a6-f6d1c26c4430",
   "metadata": {},
   "outputs": [],
   "source": [
    "deque = collections.deque([], 20)"
   ]
  },
  {
   "cell_type": "code",
   "execution_count": 85,
   "id": "29b56db2-7e30-49d6-9094-6b82fa1bb2f2",
   "metadata": {
    "tags": []
   },
   "outputs": [
    {
     "data": {
      "text/plain": [
       "deque([5, 3], maxlen=20)"
      ]
     },
     "execution_count": 85,
     "metadata": {},
     "output_type": "execute_result"
    }
   ],
   "source": [
    "deque.append(3)\n",
    "deque.appendleft(5)\n",
    "deque"
   ]
  },
  {
   "cell_type": "code",
   "execution_count": 86,
   "id": "d24ab33d-b356-48a0-a163-e42990c19b1b",
   "metadata": {
    "tags": []
   },
   "outputs": [
    {
     "data": {
      "text/plain": [
       "deque([5, 3, 0, 1, 2, 3, 4, 5, 6, 7, 8, 9], maxlen=20)"
      ]
     },
     "execution_count": 86,
     "metadata": {},
     "output_type": "execute_result"
    }
   ],
   "source": [
    "deque.extend(range(10))\n",
    "deque"
   ]
  },
  {
   "cell_type": "code",
   "execution_count": 87,
   "id": "35aff922-396f-4bf5-9394-4744f6de6efd",
   "metadata": {
    "tags": []
   },
   "outputs": [
    {
     "data": {
      "text/plain": [
       "deque([4, 3, 2, 1, 0, 5, 3, 0, 1, 2, 3, 4, 5, 6, 7, 8, 9], maxlen=20)"
      ]
     },
     "execution_count": 87,
     "metadata": {},
     "output_type": "execute_result"
    }
   ],
   "source": [
    "deque.extendleft(range(5))\n",
    "deque"
   ]
  },
  {
   "cell_type": "code",
   "execution_count": 88,
   "id": "a3cd8b49-c245-4e8a-a592-0d72925c7d98",
   "metadata": {
    "tags": []
   },
   "outputs": [
    {
     "data": {
      "text/plain": [
       "deque([6, 7, 8, 9, 4, 3, 2, 1, 0, 5, 3, 0, 1, 2, 3, 4, 5], maxlen=20)"
      ]
     },
     "execution_count": 88,
     "metadata": {},
     "output_type": "execute_result"
    }
   ],
   "source": [
    "deque.rotate(4)\n",
    "deque"
   ]
  },
  {
   "cell_type": "code",
   "execution_count": 89,
   "id": "cd8b429f-c897-476a-98c6-a858c7bd8728",
   "metadata": {
    "tags": []
   },
   "outputs": [
    {
     "data": {
      "text/plain": [
       "deque([4, 3, 2, 1, 0, 5, 3, 0, 1, 2, 3, 4, 5, 6, 7, 8, 9], maxlen=20)"
      ]
     },
     "execution_count": 89,
     "metadata": {},
     "output_type": "execute_result"
    }
   ],
   "source": [
    "deque.rotate(-4)\n",
    "deque"
   ]
  },
  {
   "cell_type": "code",
   "execution_count": 90,
   "id": "bd68c214-4a3e-43d9-96e1-218151babcca",
   "metadata": {
    "tags": []
   },
   "outputs": [
    {
     "data": {
      "text/plain": [
       "deque([3, 2, 1, 0, 5, 3, 0, 1, 2, 3, 4, 5, 6, 7, 8, 9], maxlen=20)"
      ]
     },
     "execution_count": 90,
     "metadata": {},
     "output_type": "execute_result"
    }
   ],
   "source": [
    "deque.popleft()\n",
    "deque"
   ]
  },
  {
   "cell_type": "code",
   "execution_count": null,
   "id": "2adcc012-0acf-4eb7-88f2-b2324989326a",
   "metadata": {},
   "outputs": [],
   "source": []
  },
  {
   "cell_type": "code",
   "execution_count": null,
   "id": "494a6bb3-6ee6-45e5-8db7-28990b4657fe",
   "metadata": {},
   "outputs": [],
   "source": []
  }
 ],
 "metadata": {
  "kernelspec": {
   "display_name": "tf",
   "language": "python",
   "name": "tf"
  },
  "language_info": {
   "codemirror_mode": {
    "name": "ipython",
    "version": 3
   },
   "file_extension": ".py",
   "mimetype": "text/x-python",
   "name": "python",
   "nbconvert_exporter": "python",
   "pygments_lexer": "ipython3",
   "version": "3.11.0"
  }
 },
 "nbformat": 4,
 "nbformat_minor": 5
}
