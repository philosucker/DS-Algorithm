{
 "cells": [
  {
   "cell_type": "markdown",
   "id": "c9431580-2063-478d-ba45-1cbcfc322aea",
   "metadata": {},
   "source": [
    "# 문1) FIFO를 enqueue, dequeue, front, rear 개념으로 설명"
   ]
  },
  {
   "cell_type": "markdown",
   "id": "e2f3ca89-6245-444d-af43-467159e911dd",
   "metadata": {
    "tags": []
   },
   "source": [
    "큐는 rear로 데이터를 enqueue하고 front로 데이터를 dequeue 한다."
   ]
  },
  {
   "cell_type": "markdown",
   "id": "843ffe60-1010-412b-86b6-c57a7f79e54a",
   "metadata": {},
   "source": [
    "# 문2) 링버퍼에 대해 설명\n",
    "배열에 인큐하다가 디큐하면, 디큐하고 난 후 배열의 모든 원소를 다 앞으로 당겨줘야 한다. O(n)  \n",
    "배열안의 원소를 옮기지 않고도 인큐, 디큐 할 수 있는 자료구조  \n",
    "  \n",
    "\n",
    "링버퍼에서 front는 맨 앞 원소의 인덱스  \n",
    "rear는 맨 뒤 원소 바로 뒤의 인덱스(스택포인터와 같음)\n",
    "\n",
    "인큐시에는 rear 포인터를 +1  \n",
    "디큐시에는 front 포인터를 +1  \n",
    "front와 rear두개의 포인터로 디큐와 인큐를 수행  \n",
    "\n",
    "링버퍼가 가득 차면 front와 rear값은 같다.  \n",
    "링버퍼가 비어 있으면 front와 rear값은 같을 수도 있고 다를 수도 있다."
   ]
  },
  {
   "cell_type": "markdown",
   "id": "b68422a6-488a-45cd-abeb-5c61806370d0",
   "metadata": {},
   "source": [
    "# 문3) 링버퍼로 큐 구현\n",
    "예외처리, 큐 클래스, __len__, is_empty, is_full, enque, deque, find, count, __contains__, peek, dump, clear"
   ]
  },
  {
   "cell_type": "code",
   "execution_count": 20,
   "id": "4b6558a8-85de-47ab-8b35-0a1e537806cd",
   "metadata": {
    "tags": []
   },
   "outputs": [],
   "source": [
    "from typing import Any\n",
    "\n",
    "\n",
    "class FixedQueue:\n",
    "    \n",
    "    \n",
    "    class Empty(Exception):\n",
    "        \n",
    "        pass\n",
    "    \n",
    "    class Full(Exception):\n",
    "        \n",
    "        pass\n",
    "    \n",
    "    def __init__(self, capacity: int = 10) -> None:\n",
    "        \n",
    "        self.no = 0     # 현재 데이터 개수\n",
    "        self.front = 0\n",
    "        self.rear = 0\n",
    "        self.capacity = capacity\n",
    "        self.que = [None]*capacity\n",
    "        \n",
    "    def __len__(self) -> int:\n",
    "        \n",
    "        return self.no\n",
    "    \n",
    "    def is_empty(self) -> bool:\n",
    "        \n",
    "        return self.no <= 0\n",
    "    \n",
    "    def is_full(self) -> bool:\n",
    "        \n",
    "        return self.no >= self.capacity\n",
    "    \n",
    "    def enque(self, value: Any) -> None:\n",
    "        \n",
    "        if self.is_full():\n",
    "            raise FixedQueue.Full\n",
    "            \n",
    "        self.que[self.rear] = value\n",
    "        self.rear += 1\n",
    "        self.no += 1\n",
    "        if self.rear == self.capacity: # 인큐 후 rear 값이 배열의 크기(배열의 마지막 인덱스)와 같아지면, \n",
    "             self.rear = 0             # (그 다음 인큐시 rear값이 +1 되면 배열인덱스를 넘어가게 되므로) rear를 배열의 맨 앞 인덱스로.\n",
    "        \n",
    "    def deque(self) -> Any:\n",
    "        \n",
    "        if self.is_empty():\n",
    "            raise FixedQueue.Empty\n",
    "        value = self.que[self.front]\n",
    "        self.front += 1\n",
    "        self.no -= 1\n",
    "        if self.front == self.capacity: # 디큐후 front값이 배열의 크기(배열의 마지막 인덱스)와 같아지면, \n",
    "            self.front = 0              # 그 다음 디큐시 front값이 +1이 되면 배열인덱스를 넘어가게 되므로) front를 배열의 맨 앞 인덱스로.\n",
    "        return value\n",
    "    \n",
    "    def peek(self) -> Any:\n",
    "        \"\"\"맨 앞에 있는 데이터를 확인\"\"\"\n",
    "        if self.is_empty():\n",
    "            raise FixedEnque.Empty\n",
    "        return self.que[self.front]\n",
    "    \n",
    "    def find(self, value: Any) -> Any:\n",
    "        \"\"\"front부터 시작해 value와 같은 원소값을 찾으면 그 인덱스를 반환\"\"\"\n",
    "        for i in range(self.no):\n",
    "            idx = (i+self.front) % self.capacity\n",
    "            if self.que[idx] == value:\n",
    "                return idx\n",
    "        return -1\n",
    "    \n",
    "    def count(self, value: Any) -> int:\n",
    "        \"\"\"value와 같은 원소가 큐에 몇개 있는지 확인\"\"\"\n",
    "        c = 0\n",
    "        for i in range(self.no):\n",
    "            idx = (i+self.front) % self.capacity\n",
    "            if self.que[idx] == value:\n",
    "                c+=1\n",
    "        return c\n",
    "    \n",
    "    def __contains__(self, value: Any) -> bool:\n",
    "        \n",
    "        return self.count(value) > 0\n",
    "    \n",
    "    def clear(self) -> None:\n",
    "        \n",
    "        self.que = [None]*self.capacity\n",
    "        self.front = 0\n",
    "        self.rear = 0\n",
    "        self.no = 0\n",
    "        \n",
    "    def dump(self) -> None:\n",
    "        \n",
    "        if self.is_empty():\n",
    "            raise FixedQueue.Empty\n",
    "        for i in range(self.no):\n",
    "            idx = (i+self.front) % self.capacity\n",
    "            print(f'{idx}번째 원소값 : {self.que[idx]}')    "
   ]
  },
  {
   "cell_type": "code",
   "execution_count": 21,
   "id": "f06d212a-f9cf-4d73-a4e4-09c71e3fdba6",
   "metadata": {
    "tags": []
   },
   "outputs": [],
   "source": [
    "que = FixedQueue()"
   ]
  },
  {
   "cell_type": "code",
   "execution_count": 22,
   "id": "72ee89e1-7fa6-428a-acea-b20b50309b7c",
   "metadata": {
    "tags": []
   },
   "outputs": [
    {
     "name": "stdout",
     "output_type": "stream",
     "text": [
      "0번째 원소값 : 4235\n",
      "1번째 원소값 : 234\n",
      "2번째 원소값 : 456\n",
      "3번째 원소값 : 568\n",
      "4번째 원소값 : 3456\n"
     ]
    }
   ],
   "source": [
    "que.enque(4235)\n",
    "que.enque(234)\n",
    "que.enque(456)\n",
    "que.enque(568)\n",
    "que.enque(3456)\n",
    "que.dump()"
   ]
  },
  {
   "cell_type": "code",
   "execution_count": 23,
   "id": "9edb3bec-7de7-4f40-8ea6-7f5f4c7ef07a",
   "metadata": {
    "tags": []
   },
   "outputs": [
    {
     "name": "stdout",
     "output_type": "stream",
     "text": [
      "2번째 원소값 : 456\n",
      "3번째 원소값 : 568\n",
      "4번째 원소값 : 3456\n"
     ]
    }
   ],
   "source": [
    "que.deque()\n",
    "que.deque()\n",
    "que.dump()"
   ]
  },
  {
   "cell_type": "code",
   "execution_count": 24,
   "id": "67adab13-ecbd-428c-b1b3-6d75fb161269",
   "metadata": {
    "tags": []
   },
   "outputs": [
    {
     "data": {
      "text/plain": [
       "0"
      ]
     },
     "execution_count": 24,
     "metadata": {},
     "output_type": "execute_result"
    }
   ],
   "source": [
    "que.count(1)"
   ]
  },
  {
   "cell_type": "markdown",
   "id": "69ee102f-d6f9-4653-a6d0-bf0653b996e7",
   "metadata": {},
   "source": [
    "# 문4) modulo 연산 응용 구현"
   ]
  },
  {
   "cell_type": "code",
   "execution_count": 25,
   "id": "674a91e2-d6ed-47ad-809e-59dc146c9f03",
   "metadata": {
    "tags": []
   },
   "outputs": [
    {
     "name": "stdout",
     "output_type": "stream",
     "text": [
      "7는 홀수입니다.\n"
     ]
    }
   ],
   "source": [
    "# 짝수 또는 홀수 확인\n",
    "number = 7\n",
    "if number % 2 == 0:\n",
    "    print(f\"{number}는 짝수입니다.\")\n",
    "else:\n",
    "    print(f\"{number}는 홀수입니다.\")"
   ]
  },
  {
   "cell_type": "code",
   "execution_count": 26,
   "id": "1543dfaf-26fa-4c57-af45-8d05a9d1b3d7",
   "metadata": {
    "tags": []
   },
   "outputs": [
    {
     "name": "stdout",
     "output_type": "stream",
     "text": [
      "23시간 후 5시간 뒤의 시간: 4시\n"
     ]
    }
   ],
   "source": [
    "# 시간 계산\n",
    "hour = 23\n",
    "added_hours = 5\n",
    "new_hour = (hour + added_hours) % 24\n",
    "print(f\"{hour}시간 후 {added_hours}시간 뒤의 시간: {new_hour}시\")"
   ]
  },
  {
   "cell_type": "code",
   "execution_count": 27,
   "id": "a62b9756-e457-4d2c-8bb8-6a2bb92924a9",
   "metadata": {
    "tags": []
   },
   "outputs": [
    {
     "name": "stdout",
     "output_type": "stream",
     "text": [
      "7번째 색은 초록입니다.\n"
     ]
    }
   ],
   "source": [
    "# 리스트 순환\n",
    "colors = [\"빨강\", \"노랑\", \"파랑\", \"초록\"]\n",
    "position = 7\n",
    "selected_color = colors[position % len(colors)]\n",
    "print(f\"{position}번째 색은 {selected_color}입니다.\")"
   ]
  },
  {
   "cell_type": "markdown",
   "id": "d14e767c-049e-4ea0-9ba9-313825b382ea",
   "metadata": {},
   "source": [
    "# 문5) 오래된 데이터는 들어온 순서대로 밀어내고 계속 인큐되는 배열을 구현하고, 입력한 순서와 입력한 값을 출력하는 코드를 짜보세요 "
   ]
  },
  {
   "cell_type": "code",
   "execution_count": 50,
   "id": "747d67ed-1629-4395-8d92-138c48fe8c51",
   "metadata": {
    "tags": []
   },
   "outputs": [
    {
     "name": "stdin",
     "output_type": "stream",
     "text": [
      "정수를 몇 개 저장할까요?  10\n",
      "1번째 정수를 입력하세요:  1\n",
      "2번째 정수를 입력하세요:  2\n",
      "3번째 정수를 입력하세요:  3\n",
      "4번째 정수를 입력하세요:  4\n",
      "5번째 정수를 입력하세요:  5\n",
      "6번째 정수를 입력하세요:  6\n",
      "7번째 정수를 입력하세요:  7\n",
      "8번째 정수를 입력하세요:  8\n",
      "9번째 정수를 입력하세요:  9\n",
      "10번째 정수를 입력하세요:  10\n",
      "배열이 가득 찼습니다. 계속 할까요? yes or no yes\n"
     ]
    },
    {
     "name": "stdout",
     "output_type": "stream",
     "text": [
      "[1, 2, 3, 4, 5, 6, 7, 8, 9, 10]\n"
     ]
    },
    {
     "name": "stdin",
     "output_type": "stream",
     "text": [
      "11번째 정수를 입력하세요:  11\n",
      "배열이 가득 찼습니다. 계속 할까요? yes or no yes\n"
     ]
    },
    {
     "name": "stdout",
     "output_type": "stream",
     "text": [
      "[11, 2, 3, 4, 5, 6, 7, 8, 9, 10]\n"
     ]
    },
    {
     "name": "stdin",
     "output_type": "stream",
     "text": [
      "12번째 정수를 입력하세요:  12\n",
      "배열이 가득 찼습니다. 계속 할까요? yes or no yes\n"
     ]
    },
    {
     "name": "stdout",
     "output_type": "stream",
     "text": [
      "[11, 12, 3, 4, 5, 6, 7, 8, 9, 10]\n"
     ]
    },
    {
     "name": "stdin",
     "output_type": "stream",
     "text": [
      "13번째 정수를 입력하세요:  13\n",
      "배열이 가득 찼습니다. 계속 할까요? yes or no no\n"
     ]
    },
    {
     "name": "stdout",
     "output_type": "stream",
     "text": [
      "4번째 = 4\n",
      "5번째 = 5\n",
      "6번째 = 6\n",
      "7번째 = 7\n",
      "8번째 = 8\n",
      "9번째 = 9\n",
      "10번째 = 10\n",
      "11번째 = 11\n",
      "12번째 = 12\n",
      "13번째 = 13\n"
     ]
    }
   ],
   "source": [
    "n = int(input('정수를 몇 개 저장할까요? '))\n",
    "a = [None]*n\n",
    "\n",
    "cnt = 0\n",
    "while True:\n",
    "    a[cnt%n] = int(input(f'{cnt+1}번째 정수를 입력하세요: '))\n",
    "    cnt += 1\n",
    "    \n",
    "    if cnt >= 10:\n",
    "        retry = input(f'배열이 가득 찼습니다. 계속 할까요? yes or no')\n",
    "        if retry == \"yes\":\n",
    "            print(a)\n",
    "        else:\n",
    "            break\n",
    "            \n",
    "i = cnt - n\n",
    "if i < 0: i = 0\n",
    "\n",
    "while i < cnt:\n",
    "    print(f'{i+1}번째 = {a[i%n]}')\n",
    "    i+=1"
   ]
  },
  {
   "cell_type": "markdown",
   "id": "f7eb1fd4-7c4a-4c44-aa06-848bf70caea3",
   "metadata": {},
   "source": [
    "# 문6) 큐가 가득 찼을 때, 새로 인큐하면 오래된 데이터를 밀어내고 인큐가 되도록 구현"
   ]
  },
  {
   "cell_type": "code",
   "execution_count": 41,
   "id": "2035355c-4c2f-4879-8d0c-73153c801f1b",
   "metadata": {
    "tags": []
   },
   "outputs": [],
   "source": [
    "from typing import Any\n",
    "\n",
    "class CircularQueue:\n",
    "    \n",
    "    class Empty(Exception):\n",
    "        \n",
    "        pass\n",
    "    \n",
    "    def __init__(self, capacity: int=10) -> None:\n",
    "        \n",
    "        self.no = 0\n",
    "        self.front = 0\n",
    "        self.rear = 0\n",
    "        self.capacity = capacity\n",
    "        self.que = [None]*self.capacity\n",
    "        \n",
    "    def is_empty(self) -> bool:\n",
    "        \n",
    "        return self.no == 0\n",
    "    \n",
    "    def is_full(self) -> bool:\n",
    "        \n",
    "        return self.no == self.capacity\n",
    "    \n",
    "    def enque(self, value: int) -> None:\n",
    "        \n",
    "        if self.is_full():\n",
    "            print(\"큐가 가득 찬 상태이므로 맨 앞 원소를 디큐합니다\")\n",
    "            self.deque()\n",
    "        self.que[self.rear] = value\n",
    "        self.rear += 1\n",
    "        self.no += 1\n",
    "        if self.rear == self.capacity:\n",
    "            self.rear = 0\n",
    "            \n",
    "    def deque(self) -> Any:\n",
    "        \n",
    "        if self.is_empty():\n",
    "            raise CircularQueue.Empty\n",
    "        value = self.que[self.front]\n",
    "        self.no -= 1\n",
    "        self.front +=1\n",
    "        if self.front == self.capacity:\n",
    "            self.front = 0\n",
    "        return value\n",
    "    \n",
    "    def find(self, value: Any) -> Any:\n",
    "        \n",
    "        for i in range(self.no):\n",
    "            idx = (i+self.front) % self.capacity\n",
    "            if self.que[idx] == value:\n",
    "                return idx\n",
    "        return -1\n",
    "    \n",
    "    def count(self, value: Any) -> Any:\n",
    "        \n",
    "        c = 0\n",
    "        for i in range(self.no):\n",
    "            idx = (i+self.front) % self.capacity\n",
    "            if self.que[idx] == value:\n",
    "                c +=1\n",
    "        return c\n",
    "    \n",
    "    def __contains__(self, value: Any) -> bool:\n",
    "        \n",
    "        return self.count(value) > 0\n",
    "    \n",
    "    def peek(self) -> Any:\n",
    "        if self.is_empty():\n",
    "            raise CircularQueue.Empty\n",
    "        return self.que[self.front]\n",
    "    \n",
    "    def dump(self) -> None:\n",
    "        \n",
    "        if self.is_empty():\n",
    "            raise CircularQueue.Empty \n",
    "        \n",
    "        for i in range(self.no):\n",
    "            idx = (i+self.front) % self.capacity\n",
    "            print(f'{idx} 번째 원소값 : {self.que[idx]}')\n",
    "            \n",
    "    def clear(self) -> None:\n",
    "        \n",
    "        self.front = self.rear = self.no = 0\n",
    "        self.que = [None]*self.capacity"
   ]
  },
  {
   "cell_type": "code",
   "execution_count": 42,
   "id": "9b8361dd-8cd7-4550-99da-474323bacbdb",
   "metadata": {
    "tags": []
   },
   "outputs": [],
   "source": [
    "que = CircularQueue()"
   ]
  },
  {
   "cell_type": "code",
   "execution_count": 43,
   "id": "781d4c68-4c9d-45f1-9187-d39f7902c979",
   "metadata": {
    "tags": []
   },
   "outputs": [
    {
     "name": "stdout",
     "output_type": "stream",
     "text": [
      "0 번째 원소값 : 1\n",
      "1 번째 원소값 : 2\n",
      "2 번째 원소값 : 3\n",
      "3 번째 원소값 : 4\n",
      "4 번째 원소값 : 5\n",
      "5 번째 원소값 : 6\n",
      "6 번째 원소값 : 7\n",
      "7 번째 원소값 : 8\n",
      "8 번째 원소값 : 9\n",
      "9 번째 원소값 : 10\n"
     ]
    }
   ],
   "source": [
    "que.enque(1)\n",
    "que.enque(2)\n",
    "que.enque(3)\n",
    "que.enque(4)\n",
    "que.enque(5)\n",
    "que.enque(6)\n",
    "que.enque(7)\n",
    "que.enque(8)\n",
    "que.enque(9)\n",
    "que.enque(10)\n",
    "que.dump()"
   ]
  },
  {
   "cell_type": "code",
   "execution_count": 44,
   "id": "571baf40-05c6-4d4c-9b08-9deedd28348b",
   "metadata": {
    "tags": []
   },
   "outputs": [
    {
     "name": "stdout",
     "output_type": "stream",
     "text": [
      "큐가 가득 찬 상태이므로 맨 앞 원소를 디큐합니다\n"
     ]
    }
   ],
   "source": [
    "que.enque(100)"
   ]
  },
  {
   "cell_type": "code",
   "execution_count": 45,
   "id": "7d2b891a-bbf1-448f-ae61-171a6e7ed3cf",
   "metadata": {
    "tags": []
   },
   "outputs": [
    {
     "name": "stdout",
     "output_type": "stream",
     "text": [
      "1 번째 원소값 : 2\n",
      "2 번째 원소값 : 3\n",
      "3 번째 원소값 : 4\n",
      "4 번째 원소값 : 5\n",
      "5 번째 원소값 : 6\n",
      "6 번째 원소값 : 7\n",
      "7 번째 원소값 : 8\n",
      "8 번째 원소값 : 9\n",
      "9 번째 원소값 : 10\n",
      "0 번째 원소값 : 100\n"
     ]
    }
   ],
   "source": [
    "que.dump()"
   ]
  },
  {
   "cell_type": "code",
   "execution_count": 46,
   "id": "8cec4c3c-66dc-4a91-a526-67691c7ec3df",
   "metadata": {
    "tags": []
   },
   "outputs": [],
   "source": [
    "for _ in range(10):\n",
    "    que.deque()"
   ]
  },
  {
   "cell_type": "code",
   "execution_count": 47,
   "id": "fd7eeef7-7fcd-4e41-9c00-076c0f774390",
   "metadata": {
    "tags": []
   },
   "outputs": [
    {
     "ename": "Empty",
     "evalue": "",
     "output_type": "error",
     "traceback": [
      "\u001b[0;31m---------------------------------------------------------------------------\u001b[0m",
      "\u001b[0;31mEmpty\u001b[0m                                     Traceback (most recent call last)",
      "Cell \u001b[0;32mIn[47], line 1\u001b[0m\n\u001b[0;32m----> 1\u001b[0m que\u001b[38;5;241m.\u001b[39mdump()\n",
      "Cell \u001b[0;32mIn[41], line 76\u001b[0m, in \u001b[0;36mCircularQueue.dump\u001b[0;34m(self)\u001b[0m\n\u001b[1;32m     73\u001b[0m \u001b[38;5;28;01mdef\u001b[39;00m \u001b[38;5;21mdump\u001b[39m(\u001b[38;5;28mself\u001b[39m) \u001b[38;5;241m-\u001b[39m\u001b[38;5;241m>\u001b[39m \u001b[38;5;28;01mNone\u001b[39;00m:\n\u001b[1;32m     75\u001b[0m     \u001b[38;5;28;01mif\u001b[39;00m \u001b[38;5;28mself\u001b[39m\u001b[38;5;241m.\u001b[39mis_empty():\n\u001b[0;32m---> 76\u001b[0m         \u001b[38;5;28;01mraise\u001b[39;00m CircularQueue\u001b[38;5;241m.\u001b[39mEmpty \n\u001b[1;32m     78\u001b[0m     \u001b[38;5;28;01mfor\u001b[39;00m i \u001b[38;5;129;01min\u001b[39;00m \u001b[38;5;28mrange\u001b[39m(\u001b[38;5;28mself\u001b[39m\u001b[38;5;241m.\u001b[39mno):\n\u001b[1;32m     79\u001b[0m         idx \u001b[38;5;241m=\u001b[39m (i\u001b[38;5;241m+\u001b[39m\u001b[38;5;28mself\u001b[39m\u001b[38;5;241m.\u001b[39mfront) \u001b[38;5;241m%\u001b[39m \u001b[38;5;28mself\u001b[39m\u001b[38;5;241m.\u001b[39mcapacity\n",
      "\u001b[0;31mEmpty\u001b[0m: "
     ]
    }
   ],
   "source": [
    "que.dump()"
   ]
  },
  {
   "cell_type": "code",
   "execution_count": null,
   "id": "387768a7-af53-471e-a9b1-fc4d3c458188",
   "metadata": {},
   "outputs": [],
   "source": []
  },
  {
   "cell_type": "code",
   "execution_count": 49,
   "id": "3497bed9-64dc-411f-b103-e019c3b1f95e",
   "metadata": {
    "tags": []
   },
   "outputs": [
    {
     "data": {
      "text/plain": [
       "[2, 13, 17, 100, 5, 6, 7, 8, 9, 10]"
      ]
     },
     "execution_count": 49,
     "metadata": {},
     "output_type": "execute_result"
    }
   ],
   "source": [
    "a"
   ]
  },
  {
   "cell_type": "code",
   "execution_count": null,
   "id": "1962ddf6-3021-4c86-92c0-6ade3ed2bcbe",
   "metadata": {},
   "outputs": [],
   "source": []
  }
 ],
 "metadata": {
  "kernelspec": {
   "display_name": "tf",
   "language": "python",
   "name": "tf"
  },
  "language_info": {
   "codemirror_mode": {
    "name": "ipython",
    "version": 3
   },
   "file_extension": ".py",
   "mimetype": "text/x-python",
   "name": "python",
   "nbconvert_exporter": "python",
   "pygments_lexer": "ipython3",
   "version": "3.11.0"
  }
 },
 "nbformat": 4,
 "nbformat_minor": 5
}
