{
 "cells": [
  {
   "cell_type": "markdown",
   "id": "0270a299-f5d4-496b-ac43-71c4048fa5d7",
   "metadata": {},
   "source": [
    "### m : 43, 44, 54"
   ]
  },
  {
   "cell_type": "code",
   "execution_count": null,
   "id": "20edf6f9-ef2a-4ee5-813d-9a2463fbb538",
   "metadata": {},
   "outputs": [],
   "source": []
  },
  {
   "cell_type": "markdown",
   "id": "e02f4737-376c-4c55-b527-fb9eab2cc096",
   "metadata": {},
   "source": [
    "# 문43 주식가격 m\n",
    "https://school.programmers.co.kr/learn/courses/30/lessons/42584\n",
    "\n",
    "```python\n",
    "문제 설명\n",
    "초 단위로 기록된 주식가격이 담긴 배열 prices가 매개변수로 주어질 때, \n",
    "가격이 떨어지지 않은 기간은 몇 초인지를 return 하도록 solution 함수를 완성하세요.\n",
    "\n",
    "제한사항\n",
    "prices의 각 가격은 1 이상 10,000 이하인 자연수입니다.\n",
    "prices의 길이는 2 이상 100,000 이하입니다.\n",
    "\n",
    "입출력 예\n",
    "prices\treturn\n",
    "[1, 2, 3, 2, 3]\t[4, 3, 1, 1, 0]\n",
    "\n",
    "입출력 예 설명\n",
    "1초 시점의 ₩1은 끝까지 가격이 떨어지지 않았습니다.\n",
    "2초 시점의 ₩2은 끝까지 가격이 떨어지지 않았습니다.\n",
    "3초 시점의 ₩3은 1초뒤에 가격이 떨어집니다. 따라서 1초간 가격이 떨어지지 않은 것으로 봅니다.\n",
    "4초 시점의 ₩2은 1초간 가격이 떨어지지 않았습니다.\n",
    "5초 시점의 ₩3은 0초간 가격이 떨어지지 않았습니다.\n",
    "```"
   ]
  },
  {
   "cell_type": "markdown",
   "id": "131e29b5-c8b9-4e98-aa85-350d91ffacb4",
   "metadata": {},
   "source": [
    "```python\n",
    "문제해결전략 접근 아이디어\n",
    "\n",
    "스택은 가장 마지막에 담긴 데이터를 먼저 뽑을 수 있다.\n",
    "가장 마지막에 입력한 주식가격보다 현재가격이 떨어지면\n",
    "스택을 꺼내서 현재가격과의 인덱스 차이를 계산한다. \n",
    "이 값을 주식가격이 떨어지지 않고 유지된 시간으로 해석할 수 있다.\n",
    "그럼 스택에 남아 있는 값들은\n",
    "주식가격이 유지되거나 오른 것들만 남은 것으로 해석할 수 있다.\n",
    "스택에 입력된 건 인덱스이므로\n",
    "prices의 마지막 인덱스에서 각각의 값들을 빼면\n",
    "해당 주식가격이 떨어지지 않고 유지된 시간을 구할 수 있다.\n",
    "```"
   ]
  },
  {
   "cell_type": "markdown",
   "id": "92895868-cf81-45a8-9c77-6b25dc0a08b6",
   "metadata": {},
   "source": [
    "## 파알 9장 스택 22번 문제와 유사"
   ]
  },
  {
   "cell_type": "markdown",
   "id": "bf12ff6a-44ce-4b4a-90b5-7810bb863d0f",
   "metadata": {},
   "source": [
    "### 책 풀이"
   ]
  },
  {
   "cell_type": "markdown",
   "id": "3694ab84-dbc5-4b05-ada1-9940e6fb741f",
   "metadata": {},
   "source": [
    "연속적으로 벌어지는 일에서 특정시점을 끄집어 내고 싶다면 스택을 활용하면 된다"
   ]
  },
  {
   "cell_type": "code",
   "execution_count": 9,
   "id": "c5dc1a0d-9b15-4f1d-8723-8da6d685a04a",
   "metadata": {
    "tags": []
   },
   "outputs": [],
   "source": [
    "def solution(prices):\n",
    "    stack = []\n",
    "    answer = [0] * len(prices)\n",
    "    \n",
    "    for idx in range(len(prices)):                       # for문을 순회하면서 스택에 현재 가격의 인덱스를 담는다\n",
    "        while stack and prices[stack[-1]] > prices[idx]: # 현재 주식가격이 직전가격보다 떨어지면\n",
    "            prev_idx = stack.pop()                       # 스택을 pop 해서\n",
    "            answer[prev_idx] = idx - prev_idx            # 현재가격의 인덱스와 해당 주식 가격의 인덱스와의 차이를(시간을)\n",
    "                                                         # 정답배열의 해당 주식가격 위치에 기록   \n",
    "        stack.append(idx)                \n",
    "\n",
    "    last_idx = len(prices)-1\n",
    "    for idx in stack:                      # 스택에 남은 값들을 꺼내서 (주식가격이 떨어지지 않았거나 유지된 경우들)\n",
    "        answer[idx] = last_idx - idx       # 정답배열에 각각의 주식가격들이 얼마 동안이나 유지됐는지 또는 상승했는지 기록 \n",
    "     \n",
    "    return answer"
   ]
  },
  {
   "cell_type": "code",
   "execution_count": 10,
   "id": "8ed1e24a-4600-4420-92e4-9d8d4dbac085",
   "metadata": {
    "tags": []
   },
   "outputs": [
    {
     "name": "stdout",
     "output_type": "stream",
     "text": [
      "[0, 1, 3, 4]\n",
      "[0, 0, 1, 0, 0]\n"
     ]
    },
    {
     "data": {
      "text/plain": [
       "[4, 3, 1, 1, 0]"
      ]
     },
     "execution_count": 10,
     "metadata": {},
     "output_type": "execute_result"
    }
   ],
   "source": [
    "solution([1, 2, 3, 2, 3])"
   ]
  },
  {
   "cell_type": "markdown",
   "id": "8247abc2-fed5-4b13-8ff6-2ad245fb60ad",
   "metadata": {},
   "source": [
    "### 내 풀이"
   ]
  },
  {
   "cell_type": "code",
   "execution_count": null,
   "id": "fcef1b70-3084-439d-b8e4-e83a510930a6",
   "metadata": {},
   "outputs": [],
   "source": [
    "def solution(prices):\n",
    "    answer = []\n",
    "    for i in range(len(prices)):\n",
    "        cnt = 0\n",
    "        for j in range(i+1, len(prices)):\n",
    "            if prices[i] <= prices[j]:\n",
    "                cnt += 1\n",
    "            else: \n",
    "                cnt += 1\n",
    "                break\n",
    "        answer.append(cnt)   \n",
    "    return answer"
   ]
  },
  {
   "cell_type": "markdown",
   "id": "2b917714-77b8-48f1-9e79-1881fdb1ddf8",
   "metadata": {
    "tags": []
   },
   "source": [
    "채점 결과\n",
    "\n",
    "    정확성: 66.7\n",
    "    효율성: 33.3\n",
    "    합계: 100.0 / 100.0"
   ]
  },
  {
   "cell_type": "markdown",
   "id": "edc69b0d-1122-4c35-9899-eca755b4c7c2",
   "metadata": {},
   "source": [
    "### 다른 사람 풀이"
   ]
  },
  {
   "cell_type": "code",
   "execution_count": 5,
   "id": "d2131f53-f7fe-4ee4-bb6d-f24ebd7e9128",
   "metadata": {
    "tags": []
   },
   "outputs": [],
   "source": [
    "def solution(prices):\n",
    "    answer = [0] * len(prices)\n",
    "    for i in range(len(prices)):\n",
    "        for j in range(i+1, len(prices)):\n",
    "            if prices[i] <= prices[j]:\n",
    "                answer[i] += 1\n",
    "            else:\n",
    "                answer[i] += 1\n",
    "                break\n",
    "    return answer"
   ]
  },
  {
   "cell_type": "markdown",
   "id": "b3281924-31b6-4fd2-8591-fb2b2f5ce45e",
   "metadata": {
    "tags": []
   },
   "source": [
    "# 문54 스킬트리 m\n",
    "https://school.programmers.co.kr/learn/courses/30/lessons/49993/\n",
    "\n",
    "```python\n",
    "문제 설명\n",
    "선행 스킬이란 어떤 스킬을 배우기 전에 먼저 배워야 하는 스킬을 뜻합니다.\n",
    "\n",
    "예를 들어 선행 스킬 순서가 스파크 → 라이트닝 볼트 → 썬더일때, \n",
    "썬더를 배우려면 먼저 라이트닝 볼트를 배워야 하고,\n",
    "라이트닝 볼트를 배우려면 먼저 스파크를 배워야 합니다.\n",
    "\n",
    "위 순서에 없는 다른 스킬(힐링 등)은 순서에 상관없이 배울 수 있습니다. \n",
    "따라서 스파크 → 힐링 → 라이트닝 볼트 → 썬더와 같은 스킬트리는 가능하지만,\n",
    "썬더 → 스파크나 라이트닝 볼트 → 스파크 → 힐링 → 썬더와 같은 스킬트리는 불가능합니다.\n",
    "\n",
    "선행 스킬 순서 skill과 유저들이 만든 스킬트리를 담은 배열 skill_trees가 매개변수로 주어질 때, \n",
    "가능한 스킬트리 개수를 return 하는 solution 함수를 작성해주세요.\n",
    "\n",
    "제한 조건\n",
    "스킬은 알파벳 대문자로 표기하며, 모든 문자열은 알파벳 대문자로만 이루어져 있습니다.\n",
    "\n",
    "스킬 순서와 스킬트리는 문자열로 표기합니다.\n",
    "예를 들어, C → B → D 라면 \"CBD\"로 표기합니다\n",
    "\n",
    "선행 스킬 순서 skill의 길이는 1 이상 26 이하이며, 스킬은 중복해 주어지지 않습니다.\n",
    "skill_trees는 길이 1 이상 20 이하인 배열입니다.\n",
    "skill_trees의 원소는 스킬을 나타내는 문자열입니다.\n",
    "skill_trees의 원소는 길이가 2 이상 26 이하인 문자열이며, 스킬이 중복해 주어지지 않습니다.\n",
    "\n",
    "입출력 예\n",
    "skill\tskill_trees                     \treturn\n",
    "\"CBD\"\t[\"BACDE\", \"CBADF\", \"AECB\", \"BDA\"]\t2\n",
    "입출력 예 설명\n",
    "\"BACDE\": B 스킬을 배우기 전에 C 스킬을 먼저 배워야 합니다. 불가능한 스킬트립니다.\n",
    "\"CBADF\": 가능한 스킬트리입니다.\n",
    "\"AECB\": 가능한 스킬트리입니다.\n",
    "\"BDA\": B 스킬을 배우기 전에 C 스킬을 먼저 배워야 합니다. 불가능한 스킬트리입니다.\n",
    "'''\n"
   ]
  },
  {
   "cell_type": "code",
   "execution_count": 23,
   "id": "9e7197c6-f66c-4e92-8e96-97f28b0a2fcc",
   "metadata": {},
   "outputs": [
    {
     "data": {
      "text/plain": [
       "2"
      ]
     },
     "execution_count": 23,
     "metadata": {},
     "output_type": "execute_result"
    }
   ],
   "source": [
    "import collections\n",
    "def solution(skill, skill_trees):\n",
    "    answer = 0\n",
    "    for skills in skill_trees:\n",
    "        skill_order = collections.deque(skill)\n",
    "        for s in skills:\n",
    "            if s not in skill:\n",
    "                continue\n",
    "            prior_skill = skill_order.popleft()\n",
    "            if prior_skill != s:\n",
    "                break\n",
    "        else:\n",
    "            answer += 1\n",
    "    \n",
    "    return answer \n",
    "skill = \"CBD\"   \n",
    "skill_trees =  [\"BACDE\", \"CBADF\", \"AECB\", \"BDA\"]  \n",
    "solution(skill, skill_trees)"
   ]
  },
  {
   "cell_type": "code",
   "execution_count": null,
   "id": "96b9cb1c-e6b6-4f03-b62c-3f16060cb50c",
   "metadata": {},
   "outputs": [],
   "source": []
  },
  {
   "cell_type": "markdown",
   "id": "7a6e5633-c7e3-4652-9a32-11c69d91edd2",
   "metadata": {},
   "source": [
    "# 문44 기능개발 m\n",
    "https://school.programmers.co.kr/learn/courses/30/lessons/42586\n",
    "\n",
    "```python\n",
    "문제 설명\n",
    "팀에서는 기능 개선 작업을 수행 중입니다. 각 기능은 진도가 100%일 때 서비스에 반영할 수 있습니다.\n",
    "\n",
    "또, 각 기능의 개발속도는 모두 다르기 때문에\n",
    "뒤에 있는 기능이 앞에 있는 기능보다 먼저 개발될 수 있고, \n",
    "이때 뒤에 있는 기능은 앞에 있는 기능이 배포될 때 함께 배포됩니다.\n",
    "\n",
    "먼저 배포되어야 하는 순서대로 작업의 진도가 적힌 정수 배열 progresses와 \n",
    "각 작업의 개발 속도가 적힌 정수 배열 speeds가 주어질 때 \n",
    "각 배포마다 몇 개의 기능이 배포되는지를 return 하도록 solution 함수를 완성하세요.\n",
    "\n",
    "제한 사항\n",
    "작업의 개수(progresses, speeds배열의 길이)는 100개 이하입니다.\n",
    "작업 진도는 100 미만의 자연수입니다.\n",
    "작업 속도는 100 이하의 자연수입니다.\n",
    "\n",
    "배포는 하루에 한 번만 할 수 있으며, 하루의 끝에 이루어진다고 가정합니다. \n",
    "예를 들어 진도율이 95%인 작업의 개발 속도가 하루에 4%라면 배포는 2일 뒤에 이루어집니다.\n",
    "입출력 예\n",
    "progresses              \tspeeds\t            return\n",
    "[93, 30, 55]\t            [1, 30, 5]\t        [2, 1]\n",
    "[95, 90, 99, 99, 80, 99]\t[1, 1, 1, 1, 1, 1]\t[1, 3, 2]\n",
    "```"
   ]
  },
  {
   "cell_type": "markdown",
   "id": "1d750cbf-290d-4c02-81ce-255cfc2c37a8",
   "metadata": {},
   "source": [
    "### 내 풀이"
   ]
  },
  {
   "cell_type": "code",
   "execution_count": null,
   "id": "22c9516b-ff3e-4423-bbfa-7e2d5aefed16",
   "metadata": {},
   "outputs": [],
   "source": [
    "import collections\n",
    "def solution(progresses, speeds):\n",
    "    progresses = collections.deque(progresses)\n",
    "    speeds = collections.deque(speeds)\n",
    "    answer = []\n",
    "    while progresses:\n",
    "        complete = 0\n",
    "        for i in range(len(speeds)):\n",
    "            progresses[i] += speeds[i]\n",
    "\n",
    "        while progresses and progresses[0] >= 100:\n",
    "            progresses.popleft()\n",
    "            speeds.popleft()\n",
    "            complete += 1\n",
    "        if complete:\n",
    "            answer.append(complete)\n",
    "    return answer"
   ]
  },
  {
   "cell_type": "markdown",
   "id": "bcb819cc-af73-4917-959b-b3f009ee4e97",
   "metadata": {
    "tags": []
   },
   "source": [
    "# 책 풀이"
   ]
  },
  {
   "cell_type": "markdown",
   "id": "af7911c1-4f46-495e-b244-4aec969769d6",
   "metadata": {},
   "source": [
    "큐 활용 풀이법"
   ]
  },
  {
   "cell_type": "code",
   "execution_count": 2,
   "id": "fdb5a1bb-22f8-4dd3-a3f7-3d63ca15a62b",
   "metadata": {
    "tags": []
   },
   "outputs": [
    {
     "data": {
      "text/plain": [
       "[1, 3, 2]"
      ]
     },
     "execution_count": 2,
     "metadata": {},
     "output_type": "execute_result"
    }
   ],
   "source": [
    "import collections\n",
    "\n",
    "progresses = [95, 90, 99, 99, 80, 99]\n",
    "speeds = [1, 1, 1, 1, 1, 1]\n",
    "\n",
    "prog = collections.deque(progresses)\n",
    "spd =  collections.deque(speeds)\n",
    "\n",
    "answer = []\n",
    "while prog:\n",
    "    for i in range(len(prog)):     # 일단 모든 작업들을 작업당 작업속도대로 한번씩 다 진행한다. \n",
    "        prog[i] += spd[i]\n",
    "    \n",
    "    cnt = 0\n",
    "    while prog and prog[0] >= 100: # 작업대기열이 비어있지 않고, 대기열의 첫번째 작업 진행도가 100이 넘으면 \n",
    "                                       # (작업속도대로 작업했을 때 100이 넘어버리거나, 앞 작업보다 먼저 끝난경우가 있을 수 있으므로 \n",
    "                                       # prog[0] == 100 이 아니라 prog[0] >= 100\n",
    "        prog.popleft()             # 완료된 작업을 빼고\n",
    "        spd.popleft()\n",
    "        cnt += 1                   # 배포된 기능 수를 카운트한다.\n",
    "        \n",
    "                                    # 첫번째 작업 진행도가 100이 안되면 while문을 나오는데\n",
    "    if cnt > 0 : answer.append(cnt) # if cnt > 0:  없이 바로 answer.append(cnt) 하면, \n",
    "                                    # 앞에 있는 작업 진행도가 100이 넘을때까지의 작업일수만큼 cnt = 0 이 계속 추가된다.\n",
    "        \n",
    "answer"
   ]
  },
  {
   "cell_type": "markdown",
   "id": "6952b527-a097-48e9-88cb-46fa5dd16b21",
   "metadata": {},
   "source": [
    "내 풀이 전략 (남은 작업일수를 구해서 활용하는 방법)  막힌 지점 푼 해법"
   ]
  },
  {
   "cell_type": "code",
   "execution_count": 20,
   "id": "81b231a8-da45-4aa9-a18e-6fbf5738eea9",
   "metadata": {
    "tags": []
   },
   "outputs": [
    {
     "data": {
      "text/plain": [
       "[1, 3, 2]"
      ]
     },
     "execution_count": 20,
     "metadata": {},
     "output_type": "execute_result"
    }
   ],
   "source": [
    "prog = [95, 90, 99, 99, 80, 99]\n",
    "spd = [1, 1, 1, 1, 1, 1]\n",
    "\n",
    "answer = []\n",
    "\n",
    "answer.append([math.ceil((100-progresses[0])/speeds[0]), 1]) # 맨 처음 작업의 남은 일수와 \n",
    "                                                             # 해당 작업이 완료됐을 때 배포될 수 있는 기능수 그룹을 answer에 추가\n",
    "for p, s in zip(progresses[1:], speeds[1:]):\n",
    "    left = math.ceil((100-p)/s)\n",
    "    if answer[-1][0] < left:      # 현재 작업의 남은 일수(left)가 이전 작업의 남은 일수 (answer[-1][0])보다 많을 경우\n",
    "        answer.append([left, 1])  # 새로운 배포 그룹을 추가\n",
    "                                  # left는 작업이 완료되기까지 남은 일수, 1은 배포될 수 있는 작업의 수 \n",
    "    else:\n",
    "        answer[-1][1] += 1        # 현재 작업의 남은 일수(left)가 이전 작업의 남은 일수 (answer[-1][0])보다 적거나 같을 경우\n",
    "                                  # 마지막으로 추가된 배포 그룹에서 배포될 수 있는 작업의 수를 증가시킴\n",
    "[pair[1] for pair in answer]"
   ]
  }
 ],
 "metadata": {
  "kernelspec": {
   "display_name": "tf",
   "language": "python",
   "name": "tf"
  },
  "language_info": {
   "codemirror_mode": {
    "name": "ipython",
    "version": 3
   },
   "file_extension": ".py",
   "mimetype": "text/x-python",
   "name": "python",
   "nbconvert_exporter": "python",
   "pygments_lexer": "ipython3",
   "version": "3.11.0"
  }
 },
 "nbformat": 4,
 "nbformat_minor": 5
}
