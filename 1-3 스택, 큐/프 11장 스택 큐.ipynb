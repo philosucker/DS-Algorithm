{
 "cells": [
  {
   "cell_type": "markdown",
   "id": "0270a299-f5d4-496b-ac43-71c4048fa5d7",
   "metadata": {},
   "source": [
    "### m : 43, 44, 54"
   ]
  },
  {
   "cell_type": "code",
   "execution_count": null,
   "id": "20edf6f9-ef2a-4ee5-813d-9a2463fbb538",
   "metadata": {},
   "outputs": [],
   "source": []
  },
  {
   "cell_type": "code",
   "execution_count": 2,
   "id": "2daf43b1-9dfc-4406-ad53-9d1762af85ca",
   "metadata": {
    "tags": []
   },
   "outputs": [],
   "source": [
    "def fibo(n):\n",
    "    if n < 2:\n",
    "        return 1\n",
    "    return fibo(n-1) + fibo(n-2)"
   ]
  },
  {
   "cell_type": "markdown",
   "id": "e02f4737-376c-4c55-b527-fb9eab2cc096",
   "metadata": {},
   "source": [
    "# 문43 주식가격 m\n",
    "https://school.programmers.co.kr/learn/courses/30/lessons/42584"
   ]
  },
  {
   "cell_type": "markdown",
   "id": "92895868-cf81-45a8-9c77-6b25dc0a08b6",
   "metadata": {},
   "source": [
    "## 파알 9장 스택 22번 문제와 유사"
   ]
  },
  {
   "cell_type": "markdown",
   "id": "8247abc2-fed5-4b13-8ff6-2ad245fb60ad",
   "metadata": {},
   "source": [
    "# 내 풀이"
   ]
  },
  {
   "cell_type": "code",
   "execution_count": null,
   "id": "fcef1b70-3084-439d-b8e4-e83a510930a6",
   "metadata": {},
   "outputs": [],
   "source": [
    "def solution(prices):\n",
    "    answer = []\n",
    "    for i in range(len(prices)):\n",
    "        cnt = 0\n",
    "        for j in range(i+1, len(prices)):\n",
    "            if prices[i] <= prices[j]:\n",
    "                cnt += 1\n",
    "            else: \n",
    "                cnt += 1\n",
    "                break\n",
    "        answer.append(cnt)   \n",
    "    return answer"
   ]
  },
  {
   "cell_type": "markdown",
   "id": "2b917714-77b8-48f1-9e79-1881fdb1ddf8",
   "metadata": {
    "tags": []
   },
   "source": [
    "채점 결과\n",
    "\n",
    "    정확성: 66.7\n",
    "    효율성: 33.3\n",
    "    합계: 100.0 / 100.0"
   ]
  },
  {
   "cell_type": "markdown",
   "id": "edc69b0d-1122-4c35-9899-eca755b4c7c2",
   "metadata": {},
   "source": [
    "## 다른 사람 풀이"
   ]
  },
  {
   "cell_type": "code",
   "execution_count": 5,
   "id": "d2131f53-f7fe-4ee4-bb6d-f24ebd7e9128",
   "metadata": {
    "tags": []
   },
   "outputs": [],
   "source": [
    "def solution(prices):\n",
    "    answer = [0] * len(prices)\n",
    "    for i in range(len(prices)):\n",
    "        for j in range(i+1, len(prices)):\n",
    "            if prices[i] <= prices[j]:\n",
    "                answer[i] += 1\n",
    "            else:\n",
    "                answer[i] += 1\n",
    "                break\n",
    "    return answer"
   ]
  },
  {
   "cell_type": "markdown",
   "id": "bf12ff6a-44ce-4b4a-90b5-7810bb863d0f",
   "metadata": {},
   "source": [
    "# 책 풀이"
   ]
  },
  {
   "cell_type": "markdown",
   "id": "3694ab84-dbc5-4b05-ada1-9940e6fb741f",
   "metadata": {},
   "source": [
    "연속적으로 벌어지는 일에서 특정시점을 끄집어 내고 싶다면 스택을 활용하면 된다"
   ]
  },
  {
   "cell_type": "code",
   "execution_count": 25,
   "id": "c5dc1a0d-9b15-4f1d-8723-8da6d685a04a",
   "metadata": {
    "tags": []
   },
   "outputs": [],
   "source": [
    "def solution(prices):\n",
    "    stack = []\n",
    "    answer = [0] * len(prices)\n",
    "    \n",
    "    for i in range(len(prices)):\n",
    "        while stack and prices[stack[-1]] > prices[i]: #2 문제 배열의 다음 위치에 있는 값이, 스택에 담긴 최신위치보다 작으면\n",
    "            past = stack.pop()                         #3 스택의 최신값을 pop하고\n",
    "            answer[past] = i - past  #4 정답 배열에, #2 에서 문제 배열의 값이 작아지기 전까지, 인덱스가 얼마나 증가했는지 기록한다   \n",
    "        stack.append(i)                 #1 for문을 순회하면서 스택에 현재 위치를 담는다\n",
    "        \n",
    "        print(f'stack : {stack}')\n",
    "        print(f'answer : {answer}'); print()\n",
    "    \n",
    "    print(f'마지막 stack : {stack}')\n",
    "    print(f'마지막 answer : {answer}'); print()\n",
    "    for i in stack:                  #5 스택의 남은 값들을 꺼내서 (문제 배열에서 다음 위치가 상승 또는 기존값 유지한 위치들)\n",
    "        answer[i] = len(prices)-1-i  #6 정답 배열에 얼마 동안이나 상승(또는 기존값 유지)했는지 기록 \n",
    "     \n",
    "    return answer"
   ]
  },
  {
   "cell_type": "code",
   "execution_count": 26,
   "id": "8ed1e24a-4600-4420-92e4-9d8d4dbac085",
   "metadata": {
    "tags": []
   },
   "outputs": [
    {
     "name": "stdout",
     "output_type": "stream",
     "text": [
      "stack : [0]\n",
      "answer : [0, 0, 0, 0, 0]\n",
      "\n",
      "stack : [0, 1]\n",
      "answer : [0, 0, 0, 0, 0]\n",
      "\n",
      "stack : [2]\n",
      "answer : [2, 1, 0, 0, 0]\n",
      "\n",
      "stack : [2, 3]\n",
      "answer : [2, 1, 0, 0, 0]\n",
      "\n",
      "stack : [4]\n",
      "answer : [2, 1, 2, 1, 0]\n",
      "\n",
      "마지막 stack : [4]\n",
      "마지막 answer : [2, 1, 2, 1, 0]\n",
      "\n"
     ]
    },
    {
     "data": {
      "text/plain": [
       "[2, 1, 2, 1, 0]"
      ]
     },
     "execution_count": 26,
     "metadata": {},
     "output_type": "execute_result"
    }
   ],
   "source": [
    "solution([3,3,2,2,1])"
   ]
  },
  {
   "cell_type": "code",
   "execution_count": 28,
   "id": "074752db-42af-4fff-b068-2574544a37be",
   "metadata": {
    "tags": []
   },
   "outputs": [
    {
     "name": "stdout",
     "output_type": "stream",
     "text": [
      "stack : [0]\n",
      "answer : [0, 0, 0, 0, 0]\n",
      "\n",
      "stack : [0, 1]\n",
      "answer : [0, 0, 0, 0, 0]\n",
      "\n",
      "stack : [0, 2]\n",
      "answer : [0, 1, 0, 0, 0]\n",
      "\n",
      "stack : [0, 2, 3]\n",
      "answer : [0, 1, 0, 0, 0]\n",
      "\n",
      "stack : [0, 2, 3, 4]\n",
      "answer : [0, 1, 0, 0, 0]\n",
      "\n",
      "마지막 stack : [0, 2, 3, 4]\n",
      "마지막 answer : [0, 1, 0, 0, 0]\n",
      "\n"
     ]
    },
    {
     "data": {
      "text/plain": [
       "[4, 1, 2, 1, 0]"
      ]
     },
     "execution_count": 28,
     "metadata": {},
     "output_type": "execute_result"
    }
   ],
   "source": [
    "solution([3,4,3,3,5])"
   ]
  },
  {
   "cell_type": "markdown",
   "id": "7a6e5633-c7e3-4652-9a32-11c69d91edd2",
   "metadata": {},
   "source": [
    "# 문44 기능개발 m\n",
    "https://school.programmers.co.kr/learn/courses/30/lessons/42586"
   ]
  },
  {
   "cell_type": "markdown",
   "id": "bcb819cc-af73-4917-959b-b3f009ee4e97",
   "metadata": {
    "tags": []
   },
   "source": [
    "# 책 풀이"
   ]
  },
  {
   "cell_type": "markdown",
   "id": "af7911c1-4f46-495e-b244-4aec969769d6",
   "metadata": {},
   "source": [
    "큐 활용 풀이법"
   ]
  },
  {
   "cell_type": "code",
   "execution_count": 2,
   "id": "fdb5a1bb-22f8-4dd3-a3f7-3d63ca15a62b",
   "metadata": {
    "tags": []
   },
   "outputs": [
    {
     "data": {
      "text/plain": [
       "[1, 3, 2]"
      ]
     },
     "execution_count": 2,
     "metadata": {},
     "output_type": "execute_result"
    }
   ],
   "source": [
    "import collections\n",
    "\n",
    "progresses = [95, 90, 99, 99, 80, 99]\n",
    "speeds = [1, 1, 1, 1, 1, 1]\n",
    "\n",
    "prog = collections.deque(progresses)\n",
    "spd =  collections.deque(speeds)\n",
    "\n",
    "answer = []\n",
    "while prog:\n",
    "    for i in range(len(prog)):     # 일단 모든 작업들을 작업당 작업속도대로 한번씩 다 진행한다. \n",
    "        prog[i] += spd[i]\n",
    "    \n",
    "    cnt = 0\n",
    "    while prog and prog[0] >= 100: # 작업대기열이 비어있지 않고, 대기열의 첫번째 작업 진행도가 100이 넘으면 \n",
    "                                       # (작업속도대로 작업했을 때 100이 넘어버리거나, 앞 작업보다 먼저 끝난경우가 있을 수 있으므로 \n",
    "                                       # prog[0] == 100 이 아니라 prog[0] >= 100\n",
    "        prog.popleft()             # 완료된 작업을 빼고\n",
    "        spd.popleft()\n",
    "        cnt += 1                   # 배포된 기능 수를 카운트한다.\n",
    "        \n",
    "                                    # 첫번째 작업 진행도가 100이 안되면 while문을 나오는데\n",
    "    if cnt > 0 : answer.append(cnt) # if cnt > 0:  없이 바로 answer.append(cnt) 하면, \n",
    "                                    # 앞에 있는 작업 진행도가 100이 넘을때까지의 작업일수만큼 cnt = 0 이 계속 추가된다.\n",
    "        \n",
    "answer"
   ]
  },
  {
   "cell_type": "markdown",
   "id": "6952b527-a097-48e9-88cb-46fa5dd16b21",
   "metadata": {},
   "source": [
    "내 풀이 전략 (남은 작업일수를 구해서 활용하는 방법)  막힌 지점 푼 해법"
   ]
  },
  {
   "cell_type": "code",
   "execution_count": 20,
   "id": "81b231a8-da45-4aa9-a18e-6fbf5738eea9",
   "metadata": {
    "tags": []
   },
   "outputs": [
    {
     "data": {
      "text/plain": [
       "[1, 3, 2]"
      ]
     },
     "execution_count": 20,
     "metadata": {},
     "output_type": "execute_result"
    }
   ],
   "source": [
    "prog = [95, 90, 99, 99, 80, 99]\n",
    "spd = [1, 1, 1, 1, 1, 1]\n",
    "\n",
    "answer = []\n",
    "\n",
    "answer.append([math.ceil((100-progresses[0])/speeds[0]), 1]) # 맨 처음 작업의 남은 일수와 \n",
    "                                                             # 해당 작업이 완료됐을 때 배포될 수 있는 기능수 그룹을 answer에 추가\n",
    "for p, s in zip(progresses[1:], speeds[1:]):\n",
    "    left = math.ceil((100-p)/s)\n",
    "    if answer[-1][0] < left:      # 현재 작업의 남은 일수(left)가 이전 작업의 남은 일수 (answer[-1][0])보다 많을 경우\n",
    "        answer.append([left, 1])  # 새로운 배포 그룹을 추가\n",
    "                                  # left는 작업이 완료되기까지 남은 일수, 1은 배포될 수 있는 작업의 수 \n",
    "    else:\n",
    "        answer[-1][1] += 1        # 현재 작업의 남은 일수(left)가 이전 작업의 남은 일수 (answer[-1][0])보다 적거나 같을 경우\n",
    "                                  # 마지막으로 추가된 배포 그룹에서 배포될 수 있는 작업의 수를 증가시킴\n",
    "[pair[1] for pair in answer]"
   ]
  },
  {
   "cell_type": "markdown",
   "id": "b3281924-31b6-4fd2-8591-fb2b2f5ce45e",
   "metadata": {},
   "source": [
    "# 문54 스킬트리 m\n",
    "https://school.programmers.co.kr/learn/courses/30/lessons/49993/"
   ]
  },
  {
   "cell_type": "code",
   "execution_count": null,
   "id": "9e7197c6-f66c-4e92-8e96-97f28b0a2fcc",
   "metadata": {},
   "outputs": [],
   "source": []
  }
 ],
 "metadata": {
  "kernelspec": {
   "display_name": "tf",
   "language": "python",
   "name": "tf"
  },
  "language_info": {
   "codemirror_mode": {
    "name": "ipython",
    "version": 3
   },
   "file_extension": ".py",
   "mimetype": "text/x-python",
   "name": "python",
   "nbconvert_exporter": "python",
   "pygments_lexer": "ipython3",
   "version": "3.11.0"
  }
 },
 "nbformat": 4,
 "nbformat_minor": 5
}
