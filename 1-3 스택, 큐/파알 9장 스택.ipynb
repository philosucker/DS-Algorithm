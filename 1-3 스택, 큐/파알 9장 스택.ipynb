{
 "cells": [
  {
   "cell_type": "markdown",
   "id": "71b8cd3d-3d4d-4f66-aec4-afcccf67b5dc",
   "metadata": {},
   "source": [
    "### e: 20, 23, 24\n",
    "### m: 21, 22, 25\n"
   ]
  },
  {
   "cell_type": "code",
   "execution_count": 2,
   "id": "1e36d567-5dbd-4171-99f3-cb30558e77dc",
   "metadata": {
    "tags": []
   },
   "outputs": [],
   "source": [
    "from IPython.display import Image "
   ]
  },
  {
   "cell_type": "markdown",
   "id": "b066658d-6c4f-45e2-bbf7-a93b1d877072",
   "metadata": {},
   "source": [
    "스택은 \n",
    "\n",
    "    메모리 영역에서 \n",
    "    LIFO 형태로 할당하고 접근하는 구조인 아키텍처 레벨의 하드웨어 스택의 \n",
    "    이름으로도 널리 사용된다."
   ]
  },
  {
   "cell_type": "markdown",
   "id": "0bd04ff2-23e1-4562-99ac-391e21097170",
   "metadata": {
    "tags": []
   },
   "source": [
    "## 연결리스트로 스택 ADT 구현"
   ]
  },
  {
   "cell_type": "code",
   "execution_count": 19,
   "id": "02c48daf-ecc5-48e0-bac1-fd7a26d153c5",
   "metadata": {
    "tags": []
   },
   "outputs": [],
   "source": [
    "class Node:\n",
    "    def __init__(self, item, next):\n",
    "        self.item = item\n",
    "        self.next = next\n",
    "        \n",
    "class Stack:\n",
    "    def __init__(self):\n",
    "        self.last = None\n",
    "        \n",
    "    def push(self, item):\n",
    "        self.last = Node(item, self.last)"
   ]
  },
  {
   "cell_type": "markdown",
   "id": "7d1c10cb-20e0-4abf-882e-db24498e64de",
   "metadata": {},
   "source": [
    "```python\n",
    "스택생성 self.last -> None\n",
    "1 푸시  self.last -> 노드1  -> None\n",
    "2 푸시  self.last -> 노드2  -> 노드1 -> None\n",
    "3 푸시  self.last -> 노드3  -> 노드2 -> 노드1 -> None\n",
    "```"
   ]
  },
  {
   "cell_type": "markdown",
   "id": "073b99e5-9c2a-4689-9bb7-8620bb05115d",
   "metadata": {
    "tags": []
   },
   "source": [
    "    이제 stack에 push를 할 때마다\n",
    "    self.last는 항상 새로 추가된 Node 인스턴스를 가리키게 되고, \n",
    "    해당 Node 인스턴스의 인스턴스 변수 next는 기존 self.last가 가리키던 Node 인스턴스를 가리키게 되므로\n",
    "    스택에 새로운 요소가 추가될 때마다 연결 리스트가 역순으로 구성됩니다. \n",
    "    새로운 노드의 next가 기존의 last가 가리키던 노드를 가리키기 때문에, \n",
    "    이전의 요소들은 역순으로 연결되게 됩니다."
   ]
  },
  {
   "cell_type": "code",
   "execution_count": 20,
   "id": "d08a5d5d-9eae-45c3-9af3-8964a6cf3d8e",
   "metadata": {},
   "outputs": [],
   "source": [
    "class Node:\n",
    "    def __init__(self, item, next):\n",
    "        self.item = item\n",
    "        self.next = next\n",
    "        \n",
    "class Stack:\n",
    "    def __init__(self):\n",
    "        self.last = None\n",
    "        \n",
    "    def push(self, item):\n",
    "        self.last = Node(item, self.last)\n",
    "        \n",
    "    def pop(self):\n",
    "        item = self.last.item\n",
    "        self.last = self.last.next\n",
    "        return item"
   ]
  },
  {
   "cell_type": "markdown",
   "id": "e9f038fe-29c7-4398-b0ee-c548d3db89fe",
   "metadata": {},
   "source": [
    "    pop 메서드를 실행하면 현재 stack.last가 가리키는 item을 리턴하고\n",
    "    stack.last가 stack.last.next 를 가리키게 바꾼다.\n",
    "    다시 말해 stack.last가 현재 노드가 아니라 그 다음 노드를 가리키게 만든다"
   ]
  },
  {
   "cell_type": "markdown",
   "id": "f8c8ddbd-0c1b-473b-bc20-1b903856892c",
   "metadata": {},
   "source": [
    "# 문20 유효한 괄호 e\n",
    "https://leetcode.com/problems/valid-parentheses/\n"
   ]
  },
  {
   "cell_type": "markdown",
   "id": "64de2a96-c27a-40f2-b5c3-4cb505d3cb29",
   "metadata": {},
   "source": [
    "    Given a string s containing just the characters \n",
    "    '(', ')', '{', '}', '[' and ']', \n",
    "    determine if the input string is valid.\n",
    "\n",
    "    An input string is valid if:\n",
    "\n",
    "    1. Open brackets must be closed by the same type of brackets.\n",
    "    2. Open brackets must be closed in the correct order.\n",
    "    3. Every close bracket has a corresponding open bracket of the same type.\n",
    "    \n",
    "    Example 1:\n",
    "\n",
    "    Input: s = \"()\"\n",
    "    Output: true\n",
    "    Example 2:\n",
    "\n",
    "    Input: s = \"()[]{}\"\n",
    "    Output: true\n",
    "    Example 3:\n",
    "\n",
    "    Input: s = \"(]\"\n",
    "    Output: false\n",
    "    \n",
    "    Constraints:\n",
    "\n",
    "        1 <= s.length <= 10^4\n",
    "        \n",
    "        s consists of parentheses only '()[]{}'.\n"
   ]
  },
  {
   "cell_type": "markdown",
   "id": "6388d2cf-0ec6-4cbf-aaa7-1ab6009471ca",
   "metadata": {},
   "source": [
    "### 내 풀이"
   ]
  },
  {
   "cell_type": "code",
   "execution_count": 36,
   "id": "0e7ac74c-18a9-40fa-90eb-c2f45fd3f71f",
   "metadata": {
    "tags": []
   },
   "outputs": [],
   "source": [
    "class Solution:\n",
    "    def isValid(self, s: str) -> bool:\n",
    "        brackets = {\"(\" : \")\", \"{\" : \"}\", \"[\" : \"]\"}\n",
    "        stack = []\n",
    "        for bracket in s:\n",
    "            if bracket in brackets.keys():\n",
    "                stack.append(brackets[bracket])\n",
    "            else:\n",
    "                if not stack or bracket != stack.pop():\n",
    "                    return False\n",
    "\n",
    "        if not stack:\n",
    "            return True\n",
    "        else:\n",
    "            return False"
   ]
  },
  {
   "cell_type": "markdown",
   "id": "6441e221-6067-4e1f-a2fd-baab0adacf41",
   "metadata": {},
   "source": [
    "### 책 풀이"
   ]
  },
  {
   "cell_type": "code",
   "execution_count": 22,
   "id": "2d53623d-686b-4b50-9b2b-b7522b1bd6fd",
   "metadata": {
    "tags": []
   },
   "outputs": [],
   "source": [
    "s = \"{[]}(){}\""
   ]
  },
  {
   "cell_type": "code",
   "execution_count": 23,
   "id": "3d301bc1-b1e6-45d1-98c4-ede9241586fb",
   "metadata": {
    "tags": []
   },
   "outputs": [],
   "source": [
    "class Solution:\n",
    "    def isValid(self, s: str) -> bool:\n",
    "        stack = []\n",
    "\n",
    "        table = {\n",
    "            \")\" : \"(\",\n",
    "            \"}\" : \"{\",\n",
    "            \"]\" : \"[\",\n",
    "        }\n",
    "        for char in s:\n",
    "            if char not in table:\n",
    "                stack.append(char)\n",
    "            elif not stack or table[char] != stack.pop():\n",
    "                return False\n",
    "        return len(stack) == 0"
   ]
  },
  {
   "cell_type": "markdown",
   "id": "133bb104-7ee0-4088-b346-a279c2c50f92",
   "metadata": {},
   "source": [
    "# 문23 큐를 이용한 스택 구현 e\n",
    "https://leetcode.com/problems/implement-stack-using-queues/"
   ]
  },
  {
   "cell_type": "code",
   "execution_count": null,
   "id": "e1eab72d-383a-422b-9e24-fa9fe53135f5",
   "metadata": {},
   "outputs": [],
   "source": [
    "Implement a last-in-first-out (LIFO) stack using only two queues. \n",
    "The implemented stack should support all the functions of a normal stack (push, top, pop, and empty).\n",
    "\n",
    "Implement the MyStack class:\n",
    "\n",
    "void push(int x) Pushes element x to the top of the stack.\n",
    "int pop() Removes the element on the top of the stack and returns it.\n",
    "int top() Returns the element on the top of the stack.\n",
    "boolean empty() Returns true if the stack is empty, false otherwise.\n",
    "\n",
    "Notes:\n",
    "You must use only standard operations of a queue, \n",
    "which means that only push to back, peek/pop from front, size and is empty operations are valid.\n",
    "Depending on your language, the queue may not be supported natively. \n",
    "You may simulate a queue using a list or deque (double-ended queue) as long as you use only a queue's standard operations.\n",
    " \n",
    "\n",
    "Example 1:\n",
    "\n",
    "Input\n",
    "[\"MyStack\", \"push\", \"push\", \"top\", \"pop\", \"empty\"]\n",
    "[[], [1], [2], [], [], []]\n",
    "\n",
    "Output\n",
    "[null, null, null, 2, 2, false]"
   ]
  },
  {
   "cell_type": "code",
   "execution_count": null,
   "id": "816f8d83-afca-42f0-92cd-067f9f2b4352",
   "metadata": {},
   "outputs": [],
   "source": [
    "class MyStack:\n",
    "\n",
    "    def __init__(self):\n",
    "        \n",
    "\n",
    "    def push(self, x: int) -> None:\n",
    "        \n",
    "\n",
    "    def pop(self) -> int:\n",
    "        \n",
    "\n",
    "    def top(self) -> int:\n",
    "        \n",
    "\n",
    "    def empty(self) -> bool:\n",
    "        \n",
    "# Your MyStack object will be instantiated and called as such:\n",
    "# obj = MyStack()\n",
    "# obj.push(x)\n",
    "# param_2 = obj.pop()\n",
    "# param_3 = obj.top()\n",
    "# param_4 = obj.empty()"
   ]
  },
  {
   "cell_type": "markdown",
   "id": "9e5ae279-f026-4c38-9955-a28703160787",
   "metadata": {},
   "source": [
    "### 내 풀이"
   ]
  },
  {
   "cell_type": "code",
   "execution_count": null,
   "id": "0dfcb0d4-5912-4839-95e7-f6fac03e4f50",
   "metadata": {},
   "outputs": [],
   "source": [
    "from collections import deque\n",
    "\n",
    "class MyStack:\n",
    "\n",
    "    def __init__(self):\n",
    "        self.main_queue = deque([])\n",
    "        self.aux_queue = deque([])\n",
    "\n",
    "    def push(self, x: int) -> None:\n",
    "        self.main_queue.append(x)\n",
    "\n",
    "    def pop(self) -> int:\n",
    "        if self.main_queue:\n",
    "            if len(self.main_queue) == 1:\n",
    "                return self.main_queue.popleft()\n",
    "            else:\n",
    "                for _ in range(len(self.main_queue)-1):\n",
    "                    self.aux_queue.append(self.main_queue.popleft())\n",
    "                item = self.main_queue.popleft()\n",
    "                self.main_queue = self.aux_queue\n",
    "                self.aux_queue = deque([])\n",
    "                return item\n",
    "\n",
    "    def top(self) -> int:\n",
    "        if self.main_queue: \n",
    "            return self.main_queue[-1]\n",
    "\n",
    "    def empty(self) -> bool:\n",
    "        if self.main_queue:\n",
    "            return False\n",
    "        else: \n",
    "            return True"
   ]
  },
  {
   "cell_type": "markdown",
   "id": "6ffefd64-d679-492f-bcd8-72c3c6f5f37d",
   "metadata": {},
   "source": [
    "push 연산의 빈도가 상대적으로 높은 상황에서는 위 구현이 더 효율적이지만  \n",
    "pop 연산 빈도가 높은 경우엔 아래 구현이 더 효율적이다."
   ]
  },
  {
   "cell_type": "code",
   "execution_count": null,
   "id": "c3e9c8fa-15e6-46de-bc96-f545b21ac505",
   "metadata": {},
   "outputs": [],
   "source": [
    "from collections import deque\n",
    "\n",
    "class MyStack:\n",
    "    def __init__(self):\n",
    "        self.main_queue = deque()\n",
    "        self.aux_queue = deque()\n",
    "\n",
    "    def push(self, x: int) -> None:\n",
    "        # 새 요소를 aux_queue의 시작에 추가합니다.\n",
    "        self.aux_queue.append(x)\n",
    "        # main_queue의 모든 요소를 aux_queue로 옮깁니다.\n",
    "        while self.main_queue:\n",
    "            self.aux_queue.append(self.main_queue.popleft())\n",
    "        # 두 큐의 역할을 교환합니다.\n",
    "        self.main_queue, self.aux_queue = self.aux_queue, self.main_queue\n",
    "\n",
    "    def pop(self) -> int:\n",
    "        # main_queue의 \"앞\"에서 요소를 제거하고 반환합니다.\n",
    "        return self.main_queue.popleft()\n",
    "\n",
    "    def top(self) -> int:\n",
    "        # main_queue의 \"앞\"에 있는 요소를 조회합니다.\n",
    "        return self.main_queue[0]\n",
    "\n",
    "    def empty(self) -> bool:\n",
    "        # main_queue가 비어 있는지 확인합니다.\n",
    "        return not self.main_queue\n"
   ]
  },
  {
   "cell_type": "code",
   "execution_count": 50,
   "id": "0e962c4b-208e-49dc-8791-9f7b7c1f9c2d",
   "metadata": {
    "tags": []
   },
   "outputs": [],
   "source": [
    "from collections import deque\n",
    "class MyStack:\n",
    "    def __init__(self):\n",
    "        self.queue = deque([])\n",
    "        self.temp = []\n",
    "        self.top_item = None\n",
    "        \n",
    "    def push(self, item):\n",
    "        for _ in range(len(self.queue)):\n",
    "            self.temp.append(self.pop())\n",
    "        self.queue.appendleft(item)\n",
    "        self.top_item = item\n",
    "        for n in self.temp:\n",
    "            self.queue.appendleft(n)\n",
    "        self.temp = []\n",
    "\n",
    "    def pop(self):\n",
    "        if self.stack:\n",
    "            item = self.stack.pop()\n",
    "            if self.stack:\n",
    "                self.top_item = self.stack[-1]\n",
    "            return item\n",
    "        \n",
    "    def top(self):\n",
    "        return self.top_item\n",
    "        \n",
    "    def empty(self):\n",
    "        return not self.stack"
   ]
  },
  {
   "cell_type": "markdown",
   "id": "96d2dfeb-94af-4154-bf97-e7aea386537f",
   "metadata": {},
   "source": [
    "# 문24 스택을 이용한 큐 구현 e\n",
    "https://leetcode.com/problems/implement-queue-using-stacks/"
   ]
  },
  {
   "cell_type": "code",
   "execution_count": null,
   "id": "894a17df-6977-4bad-bd95-90ca79a09465",
   "metadata": {},
   "outputs": [],
   "source": [
    "Implement a first in first out (FIFO) queue using only two stacks. \n",
    "The implemented queue should support all the functions of a normal queue (push, peek, pop, and empty).\n",
    "\n",
    "Implement the MyQueue class:\n",
    "\n",
    "Notes:\n",
    "You must use only standard operations of a stack, \n",
    "which means only push to top, peek/pop from top, size, and is empty operations are valid.\n",
    "\n",
    "Example 1:\n",
    "\n",
    "Input\n",
    "[\"MyQueue\", \"push\", \"push\", \"peek\", \"pop\", \"empty\"]\n",
    "[[], [1], [2], [], [], []]\n",
    "\n",
    "Output\n",
    "[null, null, null, 1, 1, false]\n",
    "\n",
    "class MyQueue:\n",
    "    # append, pop 만 쓸 수 있다.\n",
    "    def __init__(self):\n",
    "        \n",
    "\n",
    "    def push(self, x: int) -> None:\n",
    "        \n",
    "\n",
    "    def pop(self) -> int:\n",
    "        \n",
    "\n",
    "    def peek(self) -> int:\n",
    "        \n",
    "\n",
    "    def empty(self) -> bool:\n",
    "        \n",
    "\n",
    "# Your MyQueue object will be instantiated and called as such:\n",
    "# obj = MyQueue()\n",
    "# obj.push(x)\n",
    "# param_2 = obj.pop()\n",
    "# param_3 = obj.peek()\n",
    "# param_4 = obj.empty()"
   ]
  },
  {
   "cell_type": "code",
   "execution_count": null,
   "id": "37ec77c1-1dff-4f8d-8c72-ed51033df07d",
   "metadata": {},
   "outputs": [],
   "source": [
    "class MyQueue:\n",
    "# append, pop만 쓸 수 있다.\n",
    "    def __init__(self):\n",
    "        self.stack = []\n",
    "        self.temp = []\n",
    "\n",
    "    def push(self, x: int) -> None:\n",
    "        for _ in range(len(self.stack)):\n",
    "            self.temp.append(self.stack.pop())\n",
    "        self.stack.append(x)\n",
    "        for _ in range(len(self.temp)):\n",
    "            self.stack.append(self.temp.pop())\n",
    "        \n",
    "    def pop(self) -> int:\n",
    "        if self.stack:\n",
    "            return self.stack.pop()\n",
    "\n",
    "    def peek(self) -> int:\n",
    "        if self.stack:\n",
    "            return self.stack[-1]\n",
    "\n",
    "    def empty(self) -> bool:\n",
    "        return not self.stack"
   ]
  },
  {
   "cell_type": "markdown",
   "id": "60fc6be7-8bd6-4524-8b96-d24880fe1298",
   "metadata": {},
   "source": [
    "# 문25 원형큐 디자인 m\n",
    "https://leetcode.com/problems/design-circular-queue"
   ]
  },
  {
   "cell_type": "code",
   "execution_count": null,
   "id": "9396ecf6-2f3d-4b77-bbe6-136530f0780c",
   "metadata": {},
   "outputs": [],
   "source": [
    "Design your implementation of the circular queue. \n",
    "The circular queue is a linear data structure \n",
    "in which the operations are performed based on FIFO (First In First Out) principle, \n",
    "and the last position is connected back to the first position to make a circle. \n",
    "It is also called \"Ring Buffer\".\n",
    "\n",
    "One of the benefits of the circular queue is that we can make use of the spaces in front of the queue. \n",
    "In a normal queue, once the queue becomes full, \n",
    "we cannot insert the next element even if there is a space in front of the queue. \n",
    "But using the circular queue, we can use the space to store new values.\n",
    "\n",
    "Implement the MyCircularQueue class:\n",
    "\n",
    "MyCircularQueue(k) Initializes the object with the size of the queue to be k.\n",
    "int Front() Gets the front item from the queue. If the queue is empty, return -1.\n",
    "int Rear() Gets the last item from the queue. If the queue is empty, return -1.\n",
    "boolean enQueue(int value) Inserts an element into the circular queue. Return true if the operation is successful.\n",
    "boolean deQueue() Deletes an element from the circular queue. Return true if the operation is successful.\n",
    "boolean isEmpty() Checks whether the circular queue is empty or not.\n",
    "boolean isFull() Checks whether the circular queue is full or not.\n",
    "You must solve the problem without using the built-in queue data structure in your programming language. \n",
    "\n",
    "Example 1:\n",
    "\n",
    "Input\n",
    "[\"MyCircularQueue\", \"enQueue\", \"enQueue\", \"enQueue\", \"enQueue\", \"Rear\", \"isFull\", \"deQueue\", \"enQueue\", \"Rear\"]\n",
    "[[3], [1], [2], [3], [4], [], [], [], [4], []]\n",
    "\n",
    "Output\n",
    "[null, true, true, true, false, 3, true, true, true, 4]\n",
    "\n",
    "class MyCircularQueue:\n",
    "\n",
    "    def __init__(self, k: int):\n",
    "        \n",
    "\n",
    "    def enQueue(self, value: int) -> bool:\n",
    "        return True\n",
    "        \n",
    "\n",
    "    def deQueue(self) -> bool:\n",
    "        return True\n",
    "\n",
    "    def Front(self) -> int:\n",
    "        return -1\n",
    "\n",
    "    def Rear(self) -> int:\n",
    "        return -1\n",
    "\n",
    "    def isEmpty(self) -> bool:\n",
    "        return True\n",
    "        \n",
    "\n",
    "    def isFull(self) -> bool:\n",
    "        return True\n",
    "\n",
    "\n",
    "# Your MyCircularQueue object will be instantiated and called as such:\n",
    "# obj = MyCircularQueue(k)\n",
    "# param_1 = obj.enQueue(value)\n",
    "# param_2 = obj.deQueue()\n",
    "# param_3 = obj.Front()\n",
    "# param_4 = obj.Rear()\n",
    "# param_5 = obj.isEmpty()\n",
    "# param_6 = obj.isFull()\n"
   ]
  },
  {
   "cell_type": "markdown",
   "id": "9addbbe0-2581-4ce3-a4d4-51225e086abb",
   "metadata": {},
   "source": [
    "### 내 풀이"
   ]
  },
  {
   "cell_type": "code",
   "execution_count": null,
   "id": "7f9fffa2-ae90-4c25-8622-33d0c48eb013",
   "metadata": {},
   "outputs": [],
   "source": [
    "class MyCircularQueue:\n",
    "\n",
    "    def __init__(self, k: int):\n",
    "        self.array = [None]*k\n",
    "        self.front = 0\n",
    "        self.rear = 0\n",
    "        self.count = 0\n",
    "        self.size = len(self.array)\n",
    "\n",
    "    def enQueue(self, value: int) -> bool:\n",
    "        if self.size == self.count:\n",
    "            return False\n",
    "            # self.deQueue()\n",
    "            # self.rear = 0\n",
    "        self.array[self.rear] = value\n",
    "        self.count += 1\n",
    "        self.rear = (self.rear + 1 + self.size) % self.size\n",
    "        # if self.size == self.count:\n",
    "        #     self.rear = 0\n",
    "        return True\n",
    "        \n",
    "\n",
    "    def deQueue(self) -> bool:\n",
    "        if not self.count:\n",
    "            return False\n",
    "        self.array[self.front] = None\n",
    "        self.count -= 1\n",
    "        self.front = (self.front + 1 + self.size) % self.size\n",
    "        return True\n",
    "\n",
    "    def Front(self) -> int:\n",
    "        if self.count:\n",
    "            return self.array[self.front]\n",
    "        else:\n",
    "            return -1\n",
    "\n",
    "    def Rear(self) -> int:\n",
    "        if self.count:\n",
    "            return self.array[self.rear-1]\n",
    "        else:\n",
    "            return -1\n",
    "\n",
    "    def isEmpty(self) -> bool:\n",
    "        return not self.count\n",
    "        \n",
    "    def isFull(self) -> bool:\n",
    "        if self.count == self.size:\n",
    "            return True"
   ]
  },
  {
   "cell_type": "markdown",
   "id": "0e4c6a41-fc39-4080-83fd-00ce0d548d47",
   "metadata": {},
   "source": [
    "# 문21 중복 문자열 제거 m\n",
    "https://leetcode.com/problems/remove-duplicate-letters"
   ]
  },
  {
   "cell_type": "markdown",
   "id": "a2c297f0-d7e6-4cda-aeb0-f4dc910651f9",
   "metadata": {
    "tags": []
   },
   "source": [
    "```python\n",
    "    Given a string s, \n",
    "    remove duplicate letters so that every letter appears once and only once. \n",
    "    You must make sure your result is the smallest in lexicographical order among all possible results.\n",
    "    '''\n",
    "    문자열에서 중복을 제거했을 때, 사전순으로 가장 앞서는 문자 순서대로 배치되는 문자열이 되게 만들어라\n",
    "    \n",
    "    Smallest: 여기서는 \"가장 작은\"이라는 표현이 문자열의 길이를 의미하는 것이 아니라, \n",
    "    사전 순으로 비교했을 때 가장 앞서는 순서를 말합니다.\n",
    "    예를 들어, 문자열 \"abc\"는 \"bca\"보다 사전 순으로 작습니다. \n",
    "    문자열의 길이와는 무관하게, 알파벳 순서에 따라 어느 것이 먼저 나오는지를 기준으로 합니다.\n",
    "    '''\n",
    "    Lexicographically Smaller\n",
    "    A \"string a\" is lexicographically smaller than a \"string b\"\n",
    "        if in the first position where a and b differ, \n",
    "        \"string a\" has a letter that appears earlier in the alphabet than the corresponding letter in b.\n",
    "\n",
    "        If the first min(a.length, b.length) characters do not differ, \n",
    "        then the shorter string is the lexicographically smaller one.\n",
    "\n",
    "    Example 1:\n",
    "\n",
    "        Input: s = \"ecbacba\"\n",
    "        Expected Output: \"eacb\"\n",
    "                               \"ecbacba\"\n",
    "                                ecba\n",
    "                                e bac\n",
    "                                e  acb  <<<  the smallest in lexicographical order \n",
    "    \n",
    "    Example 2:\n",
    "\n",
    "        Input: s = \"cbacdcbc\"\n",
    "        Output: \"acdb\"\n",
    "                               \"cbacdcbc\"\n",
    "                                cba d\n",
    "                                 bacd\n",
    "                                  acd b <<<  the smallest in lexicographical order \n",
    "                                  a dcb\n",
    "\n",
    "\n",
    "    Constraints:\n",
    "\n",
    "    1 <= s.length <= 104\n",
    "    s consists of lowercase English letters.\n",
    "```"
   ]
  },
  {
   "cell_type": "markdown",
   "id": "dd07f0b2-6f2e-4a10-9fca-5163a4ace0e8",
   "metadata": {},
   "source": [
    "### 스택 풀이"
   ]
  },
  {
   "cell_type": "code",
   "execution_count": 17,
   "id": "93cda4d9-72e0-460f-b89f-bf1fd5ab3e73",
   "metadata": {
    "tags": []
   },
   "outputs": [
    {
     "data": {
      "text/plain": [
       "{'c': 7, 'b': 6, 'a': 2, 'd': 4}"
      ]
     },
     "execution_count": 17,
     "metadata": {},
     "output_type": "execute_result"
    }
   ],
   "source": [
    "c = \"cbacdcbc\"\n",
    "last_occurrence_idx = {}\n",
    "for i, c in enumerate(s):\n",
    "    last_occurrence_idx[c] = i\n",
    "last_occurrence_idx"
   ]
  },
  {
   "cell_type": "code",
   "execution_count": null,
   "id": "116cc401-f8c2-4900-88fb-f5b490a3dc68",
   "metadata": {},
   "outputs": [],
   "source": [
    "class Solution:\n",
    "    def removeDuplicateLetters(self, s: str) -> str:\n",
    "        last_occurrence_idx = {}\n",
    "        for idx, char in enumerate(s):\n",
    "            last_occurrence_idx[char] = idx   # 문자열의 각 고유문자가 문자열 내에서 마지막으로 등장했을 때의 인덱스를 기록\n",
    "\n",
    "        stack = []    # 정답 문자열을 담을 스택\n",
    "        seen = set()  # 중복 검토 제외 대상을 모아놓는 집합\n",
    "\n",
    "        for idx, char in enumerate(s): # \"cbacdcbc\"\n",
    "            if not char in seen:       # 앞서 검토했던 문자는 패스\n",
    "                while stack and char < stack[-1] and last_occurrence_idx[stack[-1]] > idx:\n",
    "                    # 스택이 차 있고, \n",
    "                    # 현재 검토하는 문자가 스택에 있는 문자보다 사전순서상 앞에 있고\n",
    "                    # 스택에 있는 문자가 문자열에서 마지막으로 등장했을 때의 인덱스보다 현재 검토하는 문자의 인덱스가 작으면\n",
    "                    # 지금 스택에 있는 문자는 뒤에 또 있다는 뜻이므로\n",
    "                    seen.remove(stack[-1]) # 중복 검토 제외 대상에서 삭제하고\n",
    "                    stack.pop()            # 스택에서도 뺀다.\n",
    "                seen.add(char)      # 현재 검토한 문자를 중복 검토 제외 대상에 추가\n",
    "                stack.append(char)  # 현재 검토한 문자를 스택에 추가\n",
    "        \n",
    "        return \"\".join(stack)"
   ]
  },
  {
   "cell_type": "markdown",
   "id": "af888748-3346-43ca-920b-a6b2d8374738",
   "metadata": {},
   "source": [
    "### 재귀 풀이"
   ]
  },
  {
   "cell_type": "code",
   "execution_count": 11,
   "id": "7a402816-61ab-4de1-a2f2-7beeef54db5d",
   "metadata": {
    "tags": []
   },
   "outputs": [
    {
     "data": {
      "text/plain": [
       "'eacb'"
      ]
     },
     "execution_count": 11,
     "metadata": {},
     "output_type": "execute_result"
    }
   ],
   "source": [
    "def removeDuplicateLetters(s: str) -> str:\n",
    "    for char in sorted(set(s)): # 중복 제거후 알파벳 순서로 늘어뜨린 후\n",
    "        suffix = s[s.index(char):] # 문자를 뽑아 해당 문자 포함 그 이후 원본문자열을 해당 문자의 suffix로 설정 \n",
    "        if set(s) == set(suffix):\n",
    "            return char + removeDuplicateLetters(suffix.replace(char, \"\"))\n",
    "    return ''\n",
    "\n",
    "removeDuplicateLetters(\"ecbacba\")"
   ]
  },
  {
   "cell_type": "code",
   "execution_count": 14,
   "id": "16ee2d93-2a3e-4ae2-af88-18fe10793f75",
   "metadata": {
    "tags": []
   },
   "outputs": [
    {
     "data": {
      "text/plain": [
       "NoneType"
      ]
     },
     "execution_count": 14,
     "metadata": {},
     "output_type": "execute_result"
    }
   ],
   "source": [
    "def func():\n",
    "    for i in range(0):\n",
    "        return i\n",
    "a = func()\n",
    "type(a)"
   ]
  },
  {
   "cell_type": "code",
   "execution_count": 12,
   "id": "237c7e08-1e9b-42fc-a577-cf61253e273b",
   "metadata": {
    "tags": []
   },
   "outputs": [
    {
     "data": {
      "text/plain": [
       "'c'"
      ]
     },
     "execution_count": 12,
     "metadata": {},
     "output_type": "execute_result"
    }
   ],
   "source": [
    "'' + 'c'"
   ]
  },
  {
   "cell_type": "code",
   "execution_count": 9,
   "id": "0c571ba9-a378-4fb3-a182-0acc45484d8c",
   "metadata": {
    "tags": []
   },
   "outputs": [],
   "source": [
    "def removeDuplicateLetters(s: str) -> str:\n",
    "    for char in sorted(set(s)): # 중복 제거후 알파벳 순서로 늘어뜨린 후\n",
    "        suffix = s[s.index(char):] # 문자를 뽑아 해당 문자 포함 그 이후 원본문자열을 해당 문자의 suffix로 설정 \n",
    "        if set(s) == set(suffix):\n",
    "            '''\n",
    "            if set(s) == set(suffix)는 \n",
    "            원본 문자열 s의 모든 고유 문자가 현재 문자 char 뒤에 오는 접미사 suffix 안에도 존재하는지를 검사합니다. \n",
    "            이는 만약 접미사가 원본 문자열의 모든 고유 문자를 포함한다면, \n",
    "            현재 문자를 결과 문자열에 포함시키고 나머지 문자열을 재귀적으로 처리할 수 있다는 것을 의미합니다.\n",
    "            '''\n",
    "            return char + removeDuplicateLetters(suffix.replace(char, \"\"))\n",
    "        '''\n",
    "        마지막 재귀 호출에서 빈 문자열을 인자로 받게 되면, for 루프는 실행되지 않게 됩니다.\n",
    "        그대로 함수가 종료돼 None 이 반환.\n",
    "        그 전까지 더해진 모든 문자들이 정답 문자열로 반환\n",
    "        '''\n",
    "    return ''    "
   ]
  },
  {
   "cell_type": "code",
   "execution_count": 14,
   "id": "7c97ddeb-d5c9-4530-91c2-74c774760d89",
   "metadata": {
    "tags": []
   },
   "outputs": [
    {
     "data": {
      "text/plain": [
       "['a', 'b', 'c', 'd']"
      ]
     },
     "execution_count": 14,
     "metadata": {},
     "output_type": "execute_result"
    }
   ],
   "source": [
    "'''for문의 첫번째 문자 a''' \n",
    "s = \"cbacdcbc\"\n",
    "sorted(set(s)) "
   ]
  },
  {
   "cell_type": "code",
   "execution_count": 15,
   "id": "995b07bf-b1a8-4816-93ea-5d96d14fa3a0",
   "metadata": {
    "tags": []
   },
   "outputs": [
    {
     "data": {
      "text/plain": [
       "'acdcbc'"
      ]
     },
     "execution_count": 15,
     "metadata": {},
     "output_type": "execute_result"
    }
   ],
   "source": [
    "suffix = s[s.index('a'):] # 해당 알파벳 포함 그 이후 문자열을 suffix로 설정\n",
    "suffix"
   ]
  },
  {
   "cell_type": "code",
   "execution_count": 16,
   "id": "5e5961b7-b87d-4246-95ab-de234721a0df",
   "metadata": {
    "tags": []
   },
   "outputs": [
    {
     "data": {
      "text/plain": [
       "{'a', 'b', 'c', 'd'}"
      ]
     },
     "execution_count": 16,
     "metadata": {},
     "output_type": "execute_result"
    }
   ],
   "source": [
    "set(s)    # 중복 제거한 집합과 "
   ]
  },
  {
   "cell_type": "code",
   "execution_count": 17,
   "id": "b2302944-3669-4ee6-a828-b73abf13e3a0",
   "metadata": {
    "tags": []
   },
   "outputs": [
    {
     "data": {
      "text/plain": [
       "{'a', 'b', 'c', 'd'}"
      ]
     },
     "execution_count": 17,
     "metadata": {},
     "output_type": "execute_result"
    }
   ],
   "source": [
    "set(suffix)  # 중복 제거한 suffix 집합이 같을 경우, 현재 문자 a를 정답문자열에 추가하고 재귀호출."
   ]
  },
  {
   "cell_type": "code",
   "execution_count": 19,
   "id": "a71be08c-f0b4-44aa-a2bf-a5a89596305f",
   "metadata": {
    "tags": []
   },
   "outputs": [
    {
     "data": {
      "text/plain": [
       "'cdcbc'"
      ]
     },
     "execution_count": 19,
     "metadata": {},
     "output_type": "execute_result"
    }
   ],
   "source": [
    "s = suffix.replace('a', \"\")\n",
    "s"
   ]
  },
  {
   "cell_type": "code",
   "execution_count": null,
   "id": "25cfaa74-47b3-4e99-af19-aba2a3113cfc",
   "metadata": {},
   "outputs": [],
   "source": [
    "'''첫번째 재귀 호출의 \n",
    "for문의 첫번째 문자 b'''"
   ]
  },
  {
   "cell_type": "code",
   "execution_count": 20,
   "id": "0cfdd2cd-6875-4e6e-ac06-18743ebd3a1c",
   "metadata": {
    "tags": []
   },
   "outputs": [
    {
     "data": {
      "text/plain": [
       "['b', 'c', 'd']"
      ]
     },
     "execution_count": 20,
     "metadata": {},
     "output_type": "execute_result"
    }
   ],
   "source": [
    "sorted(set(s))"
   ]
  },
  {
   "cell_type": "code",
   "execution_count": 21,
   "id": "97564f1c-2bb6-41e1-9a77-a7c2e8ad1b3c",
   "metadata": {
    "tags": []
   },
   "outputs": [
    {
     "data": {
      "text/plain": [
       "'bc'"
      ]
     },
     "execution_count": 21,
     "metadata": {},
     "output_type": "execute_result"
    }
   ],
   "source": [
    "suffix = s[s.index('b'):]\n",
    "suffix"
   ]
  },
  {
   "cell_type": "code",
   "execution_count": 22,
   "id": "462fa422-db3b-4077-96ed-b4ddc697742c",
   "metadata": {
    "tags": []
   },
   "outputs": [
    {
     "data": {
      "text/plain": [
       "{'b', 'c', 'd'}"
      ]
     },
     "execution_count": 22,
     "metadata": {},
     "output_type": "execute_result"
    }
   ],
   "source": [
    "set(s)"
   ]
  },
  {
   "cell_type": "code",
   "execution_count": 23,
   "id": "5c1b20a7-40ef-4e41-820e-7de47bd78c52",
   "metadata": {
    "tags": []
   },
   "outputs": [
    {
     "data": {
      "text/plain": [
       "{'b', 'c'}"
      ]
     },
     "execution_count": 23,
     "metadata": {},
     "output_type": "execute_result"
    }
   ],
   "source": [
    "# 현재 문자를 선택한다는 것은 그 문자를 결과 문자열의 일부로 만든다는 의미입니다. \n",
    "# 그렇게 하려면, 현재 문자를 선택한 후(제외한 후) 남은 suffix가 원래 문자열에서 해당 문자를 제외한 모든 고유 문자를 여전히 포함할 수 있어야 합니다.\n",
    "\n",
    "# if set(s) == set(suffix): 조건문은 suffix가 원본 문자열의 모든 유니크 문자를 포함하는 최소한의 문자열이어야 한다는 조건을 충족시키는지 검사\n",
    "\n",
    "set(suffix)  # set(s) 와 set(suffix) 가 같지 않다는 건, \n",
    "# 현재 문자를 정답문자열에 추가할 경우, 원본 문자열에서 중복을 제거한 고유 문자가 이후 만들어질 suffix에서 누락된다는 걸 의미한다."
   ]
  },
  {
   "cell_type": "code",
   "execution_count": null,
   "id": "da24450d-e245-4257-a096-6a30b6daf959",
   "metadata": {},
   "outputs": [],
   "source": [
    "'''첫번째 재귀 호출의 \n",
    "for문의 두번째 문자 c'''"
   ]
  },
  {
   "cell_type": "code",
   "execution_count": 24,
   "id": "25017e9a-10c2-4d60-97d0-f4e741bf6139",
   "metadata": {
    "tags": []
   },
   "outputs": [
    {
     "data": {
      "text/plain": [
       "'cdcbc'"
      ]
     },
     "execution_count": 24,
     "metadata": {},
     "output_type": "execute_result"
    }
   ],
   "source": [
    "suffix = s[s.index('c'):]\n",
    "suffix"
   ]
  },
  {
   "cell_type": "code",
   "execution_count": 25,
   "id": "eac8149f-2ad8-4ea1-bbb5-b931b4becf1f",
   "metadata": {
    "tags": []
   },
   "outputs": [
    {
     "data": {
      "text/plain": [
       "{'b', 'c', 'd'}"
      ]
     },
     "execution_count": 25,
     "metadata": {},
     "output_type": "execute_result"
    }
   ],
   "source": [
    "set(s)"
   ]
  },
  {
   "cell_type": "code",
   "execution_count": 26,
   "id": "5dc2fab2-9174-47bc-a0bf-f90cd0289692",
   "metadata": {
    "tags": []
   },
   "outputs": [
    {
     "data": {
      "text/plain": [
       "{'b', 'c', 'd'}"
      ]
     },
     "execution_count": 26,
     "metadata": {},
     "output_type": "execute_result"
    }
   ],
   "source": [
    "set(suffix)  # 같으므로 정답문자열에 현재 문자 c를 추가하고 재귀호출"
   ]
  },
  {
   "cell_type": "code",
   "execution_count": 27,
   "id": "3b20bac2-89f1-46bd-a5bf-79235c51797d",
   "metadata": {
    "tags": []
   },
   "outputs": [
    {
     "data": {
      "text/plain": [
       "'db'"
      ]
     },
     "execution_count": 27,
     "metadata": {},
     "output_type": "execute_result"
    }
   ],
   "source": [
    "s = suffix.replace('c', \"\")\n",
    "s"
   ]
  },
  {
   "cell_type": "code",
   "execution_count": null,
   "id": "acae84a1-ff98-4e14-b8b2-77000ec25615",
   "metadata": {},
   "outputs": [],
   "source": [
    "'''두번째 재귀 호출의 \n",
    "for문의 첫번째 문자 d'''"
   ]
  },
  {
   "cell_type": "code",
   "execution_count": 28,
   "id": "f7caf307-4a49-427e-8e4f-82f2a041cb2f",
   "metadata": {
    "tags": []
   },
   "outputs": [
    {
     "data": {
      "text/plain": [
       "['b', 'd']"
      ]
     },
     "execution_count": 28,
     "metadata": {},
     "output_type": "execute_result"
    }
   ],
   "source": [
    "sorted(set(s))"
   ]
  },
  {
   "cell_type": "code",
   "execution_count": 29,
   "id": "a24f2af1-71b3-402e-9a64-d438852dd7ee",
   "metadata": {
    "tags": []
   },
   "outputs": [
    {
     "data": {
      "text/plain": [
       "'db'"
      ]
     },
     "execution_count": 29,
     "metadata": {},
     "output_type": "execute_result"
    }
   ],
   "source": [
    "suffix = s[s.index('d'):]\n",
    "suffix"
   ]
  },
  {
   "cell_type": "code",
   "execution_count": 30,
   "id": "a613927c-9635-4c64-941f-9eae074c036d",
   "metadata": {
    "tags": []
   },
   "outputs": [
    {
     "data": {
      "text/plain": [
       "{'b', 'd'}"
      ]
     },
     "execution_count": 30,
     "metadata": {},
     "output_type": "execute_result"
    }
   ],
   "source": [
    "set(s)"
   ]
  },
  {
   "cell_type": "code",
   "execution_count": 31,
   "id": "a66116b2-ac62-47e3-9e0f-b1d1b42566ec",
   "metadata": {
    "tags": []
   },
   "outputs": [
    {
     "data": {
      "text/plain": [
       "{'b', 'd'}"
      ]
     },
     "execution_count": 31,
     "metadata": {},
     "output_type": "execute_result"
    }
   ],
   "source": [
    "set(suffix)  # 같으므로 현재문자 d를 정답문자열에 추가하고 재귀호출"
   ]
  },
  {
   "cell_type": "code",
   "execution_count": 32,
   "id": "72b2c080-36db-404b-bf34-b3e7ac3f2fa3",
   "metadata": {
    "tags": []
   },
   "outputs": [
    {
     "data": {
      "text/plain": [
       "'b'"
      ]
     },
     "execution_count": 32,
     "metadata": {},
     "output_type": "execute_result"
    }
   ],
   "source": [
    "s = suffix.replace('d', \"\")\n",
    "s"
   ]
  },
  {
   "cell_type": "code",
   "execution_count": null,
   "id": "ae549cea-8a33-431c-ba3b-5aaec6383ab9",
   "metadata": {},
   "outputs": [],
   "source": [
    "'''세번째 재귀 호출의 \n",
    "for문의 첫번째 문자 b'''"
   ]
  },
  {
   "cell_type": "code",
   "execution_count": 33,
   "id": "f36dc83b-7363-4e8b-a55c-6432decb33e5",
   "metadata": {
    "tags": []
   },
   "outputs": [
    {
     "data": {
      "text/plain": [
       "['b']"
      ]
     },
     "execution_count": 33,
     "metadata": {},
     "output_type": "execute_result"
    }
   ],
   "source": [
    "sorted(set(s))"
   ]
  },
  {
   "cell_type": "code",
   "execution_count": 34,
   "id": "d03d2d46-6016-4b6b-8fbd-1c486d73a9f2",
   "metadata": {
    "tags": []
   },
   "outputs": [
    {
     "data": {
      "text/plain": [
       "'b'"
      ]
     },
     "execution_count": 34,
     "metadata": {},
     "output_type": "execute_result"
    }
   ],
   "source": [
    "suffix = s[s.index('b'):]\n",
    "suffix"
   ]
  },
  {
   "cell_type": "code",
   "execution_count": 35,
   "id": "d18b79ff-208c-4991-95e8-2731b9ba01aa",
   "metadata": {
    "tags": []
   },
   "outputs": [
    {
     "data": {
      "text/plain": [
       "{'b'}"
      ]
     },
     "execution_count": 35,
     "metadata": {},
     "output_type": "execute_result"
    }
   ],
   "source": [
    "set(s)"
   ]
  },
  {
   "cell_type": "code",
   "execution_count": 36,
   "id": "b743c006-750b-4488-8e05-b7c2c38aba2c",
   "metadata": {
    "tags": []
   },
   "outputs": [
    {
     "data": {
      "text/plain": [
       "{'b'}"
      ]
     },
     "execution_count": 36,
     "metadata": {},
     "output_type": "execute_result"
    }
   ],
   "source": [
    "set(suffix)   # 같으므로 현재문자 b를 정답문자열에 추가하고 재귀 호출"
   ]
  },
  {
   "cell_type": "code",
   "execution_count": 37,
   "id": "22cd192e-0a2d-455d-b467-a5d45d9c3cb3",
   "metadata": {
    "tags": []
   },
   "outputs": [
    {
     "data": {
      "text/plain": [
       "''"
      ]
     },
     "execution_count": 37,
     "metadata": {},
     "output_type": "execute_result"
    }
   ],
   "source": [
    "s = suffix.replace('b', \"\")\n",
    "s"
   ]
  },
  {
   "cell_type": "code",
   "execution_count": null,
   "id": "d441b0db-6a1b-46e4-9dd8-e87811992079",
   "metadata": {},
   "outputs": [],
   "source": [
    "'''네번째 재귀 호출의 \n",
    "for문의 첫번째 문자는 빈문자열 '''"
   ]
  },
  {
   "cell_type": "code",
   "execution_count": 40,
   "id": "44ae5f1c-c8c3-4c1d-a55a-485f6d956c7f",
   "metadata": {
    "tags": []
   },
   "outputs": [],
   "source": [
    "for char in sorted(set(s)):\n",
    "    suffix = s[s.index(char):]\n",
    "    if set(s) == set(suffix):\n",
    "        print(\"True\")"
   ]
  },
  {
   "cell_type": "code",
   "execution_count": null,
   "id": "2c227c8c-6f52-44c7-9d65-752b7f3395ef",
   "metadata": {},
   "outputs": [],
   "source": [
    "# 마지막 재귀 호출에서 빈문자열을 인자로 받았으므로 for문이 돌지 않아 코드 실행 종료.\n",
    "# 지금까지 추가된 a, c, d, b 가 정답문자열로 반환."
   ]
  },
  {
   "cell_type": "markdown",
   "id": "019664b6-e0bf-45cb-8c40-2d05e198a08d",
   "metadata": {},
   "source": [
    "# 문22 일일온도 m\n",
    "https://leetcode.com/problems/daily-temperatures/"
   ]
  },
  {
   "cell_type": "markdown",
   "id": "56a2da1b-24a6-4e77-a7e2-b8a468bc61d3",
   "metadata": {
    "tags": []
   },
   "source": [
    "# 프 11장 43번 문제와 유사"
   ]
  },
  {
   "cell_type": "markdown",
   "id": "9723269c-96d8-4ebb-b23f-39939f1bad87",
   "metadata": {},
   "source": [
    "    Given an array of integers temperatures represents the daily temperatures, \n",
    "    return an array answer such that \n",
    "    answer[i] is the number of days you have to wait after the ith day to get a warmer temperature. \n",
    "    If there is no future day for which this is possible,\n",
    "    keep answer[i] == 0 instead.\n",
    "\n",
    "    Example 1:\n",
    "\n",
    "    Input: temperatures = [73,74,75,71,69,72,76,73]\n",
    "    Output: [1,1,4,2,1,1,0,0]"
   ]
  },
  {
   "cell_type": "markdown",
   "id": "5a5f998d-17ff-4f9f-95a2-ff731def943a",
   "metadata": {},
   "source": [
    "### 브루트 포스\n",
    "시간초과"
   ]
  },
  {
   "cell_type": "code",
   "execution_count": 35,
   "id": "e87379d3-4f0e-4afb-a717-f5c21a30c4a8",
   "metadata": {
    "tags": []
   },
   "outputs": [],
   "source": [
    "temperatures = [73,74,75,71,69,72,76,73]\n",
    "answer = [0] * len(temperatures)        # answer = [] 그냥 빈 리스트가 아니라 0으로 초기화된 배열을 쓴다는 아이디어를 떠올리는 것\n",
    "for i in range(len(temperatures)):\n",
    "    for j in range(i+1, len(temperatures)):\n",
    "        if temperatures[i] < temperatures[j]:\n",
    "            answer[i] = j-i\n",
    "            break"
   ]
  },
  {
   "cell_type": "code",
   "execution_count": 36,
   "id": "37d67c93-940f-4aaa-bd6f-ee9acb28997c",
   "metadata": {
    "tags": []
   },
   "outputs": [
    {
     "data": {
      "text/plain": [
       "[1, 1, 4, 2, 1, 1, 0, 0]"
      ]
     },
     "execution_count": 36,
     "metadata": {},
     "output_type": "execute_result"
    }
   ],
   "source": [
    "answer"
   ]
  },
  {
   "cell_type": "markdown",
   "id": "679567f4-769c-44f0-9b9c-6a7054a7e852",
   "metadata": {},
   "source": [
    "### chatGPT 수정버전"
   ]
  },
  {
   "cell_type": "code",
   "execution_count": 37,
   "id": "aa98125b-6248-482f-8cd4-ac581dd8ad3b",
   "metadata": {
    "tags": []
   },
   "outputs": [
    {
     "name": "stdout",
     "output_type": "stream",
     "text": [
      "[1, 1, 4, 2, 1, 1, 0, 0]\n"
     ]
    }
   ],
   "source": [
    "temperatures = [73,74,75,71,69,72,76,73]\n",
    "answer = [0] * len(temperatures)  # 초기화: 모든 값을 0으로 설정\n",
    "\n",
    "for i in range(len(temperatures)-2, -1, -1):  # 역순으로 순회시킬 수 있다는 아이디어를 떠올리는 것\n",
    "    j = i + 1\n",
    "    while j < len(temperatures) and temperatures[i] >= temperatures[j]:\n",
    "        if answer[j] > 0:  # 이미 계산된 값이 있는 경우\n",
    "            j += answer[j]\n",
    "        else:\n",
    "            j = len(temperatures)  # 현재 온도보다 높은 값이 없으면 종료\n",
    "    if j < len(temperatures):  # 현재 온도보다 높은 값이 있는 경우\n",
    "        answer[i] = j - i\n",
    "\n",
    "print(answer)"
   ]
  },
  {
   "cell_type": "markdown",
   "id": "3abc9461-e17d-4c48-baa6-26b3d983e85f",
   "metadata": {},
   "source": [
    "# 책 풀이"
   ]
  },
  {
   "cell_type": "code",
   "execution_count": 52,
   "id": "e6d482ff-aa73-43f2-a51f-23b271bcf54a",
   "metadata": {
    "tags": []
   },
   "outputs": [
    {
     "data": {
      "text/plain": [
       "[1, 1, 4, 2, 1, 1, 0, 0]"
      ]
     },
     "execution_count": 52,
     "metadata": {},
     "output_type": "execute_result"
    }
   ],
   "source": [
    "temperatures = [73, 74, 75, 71, 69, 72, 76, 73]\n",
    "\n",
    "stack = []\n",
    "answer = [0]*len(temperatures)\n",
    "\n",
    "for idx, t in enumerate(temperatures):\n",
    "\n",
    "    while stack and t > temperatures[stack[-1]]:\n",
    "        top = stack.pop()\n",
    "        answer[top] = idx - top\n",
    "    stack.append(idx)\n",
    "answer"
   ]
  }
 ],
 "metadata": {
  "kernelspec": {
   "display_name": "tf",
   "language": "python",
   "name": "tf"
  },
  "language_info": {
   "codemirror_mode": {
    "name": "ipython",
    "version": 3
   },
   "file_extension": ".py",
   "mimetype": "text/x-python",
   "name": "python",
   "nbconvert_exporter": "python",
   "pygments_lexer": "ipython3",
   "version": "3.11.0"
  }
 },
 "nbformat": 4,
 "nbformat_minor": 5
}
