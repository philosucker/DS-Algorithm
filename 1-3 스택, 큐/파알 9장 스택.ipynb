{
 "cells": [
  {
   "cell_type": "markdown",
   "id": "71b8cd3d-3d4d-4f66-aec4-afcccf67b5dc",
   "metadata": {},
   "source": [
    "### e: 20, 23, 24, 25\n",
    "### m: 22\n",
    "### h: 21"
   ]
  },
  {
   "cell_type": "code",
   "execution_count": 2,
   "id": "1e36d567-5dbd-4171-99f3-cb30558e77dc",
   "metadata": {
    "tags": []
   },
   "outputs": [],
   "source": [
    "from IPython.display import Image "
   ]
  },
  {
   "cell_type": "markdown",
   "id": "b066658d-6c4f-45e2-bbf7-a93b1d877072",
   "metadata": {},
   "source": [
    "스택은 \n",
    "\n",
    "    메모리 영역에서 \n",
    "    LIFO 형태로 할당하고 접근하는 구조인 아키텍처 레벨의 하드웨어 스택의 \n",
    "    이름으로도 널리 사용된다."
   ]
  },
  {
   "cell_type": "markdown",
   "id": "0bd04ff2-23e1-4562-99ac-391e21097170",
   "metadata": {
    "tags": []
   },
   "source": [
    "연결리스트로 스택 ADT 구현"
   ]
  },
  {
   "cell_type": "code",
   "execution_count": 3,
   "id": "3c19fbe1-f5bd-41ca-8c11-dce0418a6a9a",
   "metadata": {
    "tags": []
   },
   "outputs": [],
   "source": [
    "class Node:\n",
    "    def __init__(self, item, next):\n",
    "        self.item = item\n",
    "        self.next = next"
   ]
  },
  {
   "cell_type": "code",
   "execution_count": 4,
   "id": "e01530a8-fa9a-4f98-82a0-77b5205ef9b6",
   "metadata": {
    "tags": []
   },
   "outputs": [],
   "source": [
    "class Stack:\n",
    "    def __init__(self):\n",
    "        self.last = None\n",
    "        \n",
    "    def push(self, item):\n",
    "        self.last = Node(item, self.last)\n",
    "        \n",
    "    def pop(self):\n",
    "        item = self.last.item\n",
    "        self.last = self.last.next\n",
    "        return item"
   ]
  },
  {
   "cell_type": "code",
   "execution_count": 5,
   "id": "bce88353-53d0-4d3d-afa0-5032a5fc17c9",
   "metadata": {
    "tags": []
   },
   "outputs": [],
   "source": [
    "stack = Stack()  # 인스턴스 stack의 인스턴스 변수 last는 None을 가리키게 된다.\n",
    "stack.last           # 다시 말해 stack은 비어 있으므로 self.last는 None을 가리킨다."
   ]
  },
  {
   "cell_type": "code",
   "execution_count": 6,
   "id": "6941eeeb-be4d-4140-a459-4a21843bb575",
   "metadata": {
    "tags": []
   },
   "outputs": [],
   "source": [
    "stack.push(1)   # self.last = Node(item, self.last) 코드가 실행되면\n",
    "                    # 먼저 Node 클래스의 인스턴스를 생성합니다. \n",
    "                    # 이때, item은 현재 넘겨받은 값으로, \n",
    "                    # next는 기존의 stack 인스턴스의 인스턴스 변수 self.last가 가리키던 객체를 가리키게 됩니다.\n",
    "                    # 다시 말해 기존에 stack.last는 None을 가리키고 있었으므로 stack.last.next는 None을 가리키게 됩니다.\n",
    "                \n",
    "                        # 이제 stack.last는 Node(1, None)로 생성된 인스턴스를 가리키게 된다."
   ]
  },
  {
   "cell_type": "markdown",
   "id": "b2443229-ba96-428b-b5c6-b9cbffca7120",
   "metadata": {},
   "source": [
    "![img](self.last.png)"
   ]
  },
  {
   "cell_type": "code",
   "execution_count": 7,
   "id": "194d3504-aad1-4860-8c72-7befb442dcc0",
   "metadata": {
    "tags": []
   },
   "outputs": [
    {
     "data": {
      "text/plain": [
       "1"
      ]
     },
     "execution_count": 7,
     "metadata": {},
     "output_type": "execute_result"
    }
   ],
   "source": [
    "stack.last.item "
   ]
  },
  {
   "cell_type": "code",
   "execution_count": 8,
   "id": "75defed5-1075-49ed-b153-ab8cca9f7360",
   "metadata": {
    "tags": []
   },
   "outputs": [],
   "source": [
    "stack.last.next"
   ]
  },
  {
   "cell_type": "markdown",
   "id": "073b99e5-9c2a-4689-9bb7-8620bb05115d",
   "metadata": {
    "tags": []
   },
   "source": [
    "    이제 stack에 push를 할 때마다\n",
    "    self.last는 항상 새로 추가된 Node 인스턴스를 가리키게 되고, \n",
    "    해당 Node 인스턴스의 인스턴스 변수 next는 기존 self.last가 가리키던 Node 인스턴스를 가리키게 되므로\n",
    "    스택에 새로운 요소가 추가될 때마다 연결 리스트가 역순으로 구성됩니다. \n",
    "    새로운 노드의 next가 기존의 last가 가리키던 노드를 가리키기 때문에, \n",
    "    이전의 요소들은 역순으로 연결되게 됩니다."
   ]
  },
  {
   "cell_type": "code",
   "execution_count": 9,
   "id": "ac5aa73d-d61a-49eb-95a5-fc2dce0b8645",
   "metadata": {
    "tags": []
   },
   "outputs": [],
   "source": [
    "stack.push(2) # 예를 들어 이 코드를 실행하면, \n",
    "              # item이 2이고 next가 (기존 stack.last가 가리키고 있는) 이전 Node 인스턴스ㅡNode(1, None)ㅡ인 \n",
    "              # 새로운 Node 인스턴스를 stack.last가 가리키게 된다.\n",
    "              # 따라서 stack.last.next는  Node(1, None) 를 가리키고, stack.last.next.next는 None을 가리키게 된다. "
   ]
  },
  {
   "cell_type": "code",
   "execution_count": 10,
   "id": "8f149b22-87ec-4080-b10a-e59482246cf7",
   "metadata": {
    "tags": []
   },
   "outputs": [
    {
     "data": {
      "text/plain": [
       "2"
      ]
     },
     "execution_count": 10,
     "metadata": {},
     "output_type": "execute_result"
    }
   ],
   "source": [
    "stack.last.item"
   ]
  },
  {
   "cell_type": "code",
   "execution_count": 11,
   "id": "97f172d5-eba9-4731-a0dc-bb0b801dee6a",
   "metadata": {
    "tags": []
   },
   "outputs": [
    {
     "data": {
      "text/plain": [
       "1"
      ]
     },
     "execution_count": 11,
     "metadata": {},
     "output_type": "execute_result"
    }
   ],
   "source": [
    "stack.last.next.item"
   ]
  },
  {
   "cell_type": "code",
   "execution_count": 12,
   "id": "9179aac0-8e49-45f7-a069-a6e836c111ee",
   "metadata": {
    "tags": []
   },
   "outputs": [],
   "source": [
    "stack.push(3)\n",
    "stack.push(4)\n",
    "stack.push(5)"
   ]
  },
  {
   "cell_type": "code",
   "execution_count": 13,
   "id": "7ac665fd-950b-4d7b-aa92-87383912a490",
   "metadata": {
    "tags": []
   },
   "outputs": [
    {
     "data": {
      "text/plain": [
       "5"
      ]
     },
     "execution_count": 13,
     "metadata": {},
     "output_type": "execute_result"
    }
   ],
   "source": [
    "stack.last.item "
   ]
  },
  {
   "cell_type": "code",
   "execution_count": 14,
   "id": "471f5175-accb-4518-8540-12451bef4eb1",
   "metadata": {
    "tags": []
   },
   "outputs": [
    {
     "data": {
      "text/plain": [
       "4"
      ]
     },
     "execution_count": 14,
     "metadata": {},
     "output_type": "execute_result"
    }
   ],
   "source": [
    "stack.last.next.item"
   ]
  },
  {
   "cell_type": "code",
   "execution_count": 15,
   "id": "7391fb6e-a82a-42cc-9bce-b113b6f2a883",
   "metadata": {
    "tags": []
   },
   "outputs": [
    {
     "data": {
      "text/plain": [
       "3"
      ]
     },
     "execution_count": 15,
     "metadata": {},
     "output_type": "execute_result"
    }
   ],
   "source": [
    "stack.last.next.next.item"
   ]
  },
  {
   "cell_type": "code",
   "execution_count": 16,
   "id": "89ab5070-03aa-46a5-b364-f2f3c79aca0c",
   "metadata": {
    "tags": []
   },
   "outputs": [
    {
     "data": {
      "text/plain": [
       "2"
      ]
     },
     "execution_count": 16,
     "metadata": {},
     "output_type": "execute_result"
    }
   ],
   "source": [
    "stack.last.next.next.next.item"
   ]
  },
  {
   "cell_type": "code",
   "execution_count": 17,
   "id": "3b8588e6-a2e9-4059-9754-0ed18366c162",
   "metadata": {
    "tags": []
   },
   "outputs": [
    {
     "data": {
      "text/plain": [
       "1"
      ]
     },
     "execution_count": 17,
     "metadata": {},
     "output_type": "execute_result"
    }
   ],
   "source": [
    "stack.last.next.next.next.next.item"
   ]
  },
  {
   "cell_type": "code",
   "execution_count": 18,
   "id": "99a42e46-c34e-4f7d-af97-132447b96641",
   "metadata": {
    "tags": []
   },
   "outputs": [],
   "source": [
    "stack.last.next.next.next.next.next"
   ]
  },
  {
   "cell_type": "code",
   "execution_count": 20,
   "id": "d08a5d5d-9eae-45c3-9af3-8964a6cf3d8e",
   "metadata": {},
   "outputs": [],
   "source": [
    "def pop(self):\n",
    "    item = self.last.item\n",
    "    self.last = self.last.next\n",
    "    return item"
   ]
  },
  {
   "cell_type": "markdown",
   "id": "e9f038fe-29c7-4398-b0ee-c548d3db89fe",
   "metadata": {},
   "source": [
    "    pop 메서드를 실행하면 현재 stack.last가 가리키는 item을 리턴하고\n",
    "    stack.last가 stack.last.next 를 가리키게 바꾼다.\n",
    "    다시 말해 stack.last가 현재 노드가 아니라 이전 노드를 가리키게 만든다"
   ]
  },
  {
   "cell_type": "code",
   "execution_count": 21,
   "id": "0439b218-0525-4342-b4d2-83b4b396fa66",
   "metadata": {
    "tags": []
   },
   "outputs": [
    {
     "data": {
      "text/plain": [
       "5"
      ]
     },
     "execution_count": 21,
     "metadata": {},
     "output_type": "execute_result"
    }
   ],
   "source": [
    "stack.pop()"
   ]
  },
  {
   "cell_type": "code",
   "execution_count": 23,
   "id": "a5ca02d4-3c72-4d08-9705-f924b31d0d15",
   "metadata": {
    "tags": []
   },
   "outputs": [
    {
     "data": {
      "text/plain": [
       "4"
      ]
     },
     "execution_count": 23,
     "metadata": {},
     "output_type": "execute_result"
    }
   ],
   "source": [
    "stack.last.item"
   ]
  },
  {
   "cell_type": "markdown",
   "id": "133bb104-7ee0-4088-b346-a279c2c50f92",
   "metadata": {},
   "source": [
    "# 문23 큐를 이용한 스택 구현 e\n",
    "https://leetcode.com/problems/implement-stack-using-queues/"
   ]
  },
  {
   "cell_type": "code",
   "execution_count": null,
   "id": "e1eab72d-383a-422b-9e24-fa9fe53135f5",
   "metadata": {},
   "outputs": [],
   "source": [
    "Implement a last-in-first-out (LIFO) stack using only two queues. \n",
    "The implemented stack should support all the functions of a normal stack (push, top, pop, and empty).\n",
    "\n",
    "Implement the MyStack class:\n",
    "\n",
    "void push(int x) Pushes element x to the top of the stack.\n",
    "int pop() Removes the element on the top of the stack and returns it.\n",
    "int top() Returns the element on the top of the stack.\n",
    "boolean empty() Returns true if the stack is empty, false otherwise.\n",
    "\n",
    "Notes:\n",
    "You must use only standard operations of a queue, \n",
    "which means that only push to back, peek/pop from front, size and is empty operations are valid.\n",
    "Depending on your language, the queue may not be supported natively. \n",
    "You may simulate a queue using a list or deque (double-ended queue) as long as you use only a queue's standard operations.\n",
    " \n",
    "\n",
    "Example 1:\n",
    "\n",
    "Input\n",
    "[\"MyStack\", \"push\", \"push\", \"top\", \"pop\", \"empty\"]\n",
    "[[], [1], [2], [], [], []]\n",
    "\n",
    "Output\n",
    "[null, null, null, 2, 2, false]"
   ]
  },
  {
   "cell_type": "code",
   "execution_count": null,
   "id": "0dfcb0d4-5912-4839-95e7-f6fac03e4f50",
   "metadata": {},
   "outputs": [],
   "source": [
    "class MyStack:\n",
    "\n",
    "    def __init__(self):\n",
    "        \n",
    "\n",
    "    def push(self, x: int) -> None:\n",
    "        \n",
    "\n",
    "    def pop(self) -> int:\n",
    "        \n",
    "\n",
    "    def top(self) -> int:\n",
    "        \n",
    "\n",
    "    def empty(self) -> bool:\n",
    "        \n",
    "\n",
    "\n",
    "# Your MyStack object will be instantiated and called as such:\n",
    "# obj = MyStack()\n",
    "# obj.push(x)\n",
    "# param_2 = obj.pop()\n",
    "# param_3 = obj.top()\n",
    "# param_4 = obj.empty()"
   ]
  },
  {
   "cell_type": "markdown",
   "id": "96d2dfeb-94af-4154-bf97-e7aea386537f",
   "metadata": {},
   "source": [
    "# 문24 스택을 이용한 큐 구현 e\n",
    "https://leetcode.com/problems/implement-queue-using-stacks/"
   ]
  },
  {
   "cell_type": "code",
   "execution_count": null,
   "id": "894a17df-6977-4bad-bd95-90ca79a09465",
   "metadata": {},
   "outputs": [],
   "source": [
    "Implement a first in first out (FIFO) queue using only two stacks. \n",
    "The implemented queue should support all the functions of a normal queue (push, peek, pop, and empty).\n",
    "\n",
    "Implement the MyQueue class:\n",
    "\n",
    "void push(int x) Pushes element x to the back of the queue.\n",
    "int pop() Removes the element from the front of the queue and returns it.\n",
    "int peek() Returns the element at the front of the queue.\n",
    "boolean empty() Returns true if the queue is empty, false otherwise.\n",
    "\n",
    "Notes:\n",
    "You must use only standard operations of a stack, \n",
    "which means only push to top, peek/pop from top, size, and is empty operations are valid.\n",
    "Depending on your language, the stack may not be supported natively. \n",
    "You may simulate a stack using a list or deque (double-ended queue) as long as you use only a stack's standard operations.\n",
    " \n",
    "\n",
    "Example 1:\n",
    "\n",
    "Input\n",
    "[\"MyQueue\", \"push\", \"push\", \"peek\", \"pop\", \"empty\"]\n",
    "[[], [1], [2], [], [], []]\n",
    "\n",
    "Output\n",
    "[null, null, null, 1, 1, false]\n"
   ]
  },
  {
   "cell_type": "code",
   "execution_count": null,
   "id": "37ec77c1-1dff-4f8d-8c72-ed51033df07d",
   "metadata": {},
   "outputs": [],
   "source": [
    "class MyQueue:\n",
    "\n",
    "    def __init__(self):\n",
    "        \n",
    "\n",
    "    def push(self, x: int) -> None:\n",
    "        \n",
    "\n",
    "    def pop(self) -> int:\n",
    "        \n",
    "\n",
    "    def peek(self) -> int:\n",
    "        \n",
    "\n",
    "    def empty(self) -> bool:\n",
    "        \n",
    "\n",
    "\n",
    "# Your MyQueue object will be instantiated and called as such:\n",
    "# obj = MyQueue()\n",
    "# obj.push(x)\n",
    "# param_2 = obj.pop()\n",
    "# param_3 = obj.peek()\n",
    "# param_4 = obj.empty()"
   ]
  },
  {
   "cell_type": "markdown",
   "id": "60fc6be7-8bd6-4524-8b96-d24880fe1298",
   "metadata": {},
   "source": [
    "# 문25 원형큐 디자인 m\n",
    "https://leetcode.com/problems/design-circular-queue"
   ]
  },
  {
   "cell_type": "code",
   "execution_count": null,
   "id": "9396ecf6-2f3d-4b77-bbe6-136530f0780c",
   "metadata": {},
   "outputs": [],
   "source": [
    "Design your implementation of the circular queue. \n",
    "The circular queue is a linear data structure in which the operations are performed based on FIFO (First In First Out) principle, \n",
    "and the last position is connected back to the first position to make a circle. \n",
    "It is also called \"Ring Buffer\".\n",
    "\n",
    "One of the benefits of the circular queue is that we can make use of the spaces in front of the queue. \n",
    "In a normal queue, once the queue becomes full, \n",
    "we cannot insert the next element even if there is a space in front of the queue. \n",
    "But using the circular queue, we can use the space to store new values.\n",
    "\n",
    "Implement the MyCircularQueue class:\n",
    "\n",
    "MyCircularQueue(k) Initializes the object with the size of the queue to be k.\n",
    "int Front() Gets the front item from the queue. If the queue is empty, return -1.\n",
    "int Rear() Gets the last item from the queue. If the queue is empty, return -1.\n",
    "boolean enQueue(int value) Inserts an element into the circular queue. Return true if the operation is successful.\n",
    "boolean deQueue() Deletes an element from the circular queue. Return true if the operation is successful.\n",
    "boolean isEmpty() Checks whether the circular queue is empty or not.\n",
    "boolean isFull() Checks whether the circular queue is full or not.\n",
    "You must solve the problem without using the built-in queue data structure in your programming language. \n",
    "\n",
    " \n",
    "\n",
    "Example 1:\n",
    "\n",
    "Input\n",
    "[\"MyCircularQueue\", \"enQueue\", \"enQueue\", \"enQueue\", \"enQueue\", \"Rear\", \"isFull\", \"deQueue\", \"enQueue\", \"Rear\"]\n",
    "[[3], [1], [2], [3], [4], [], [], [], [4], []]\n",
    "\n",
    "Output\n",
    "[null, true, true, true, false, 3, true, true, true, 4]"
   ]
  },
  {
   "cell_type": "code",
   "execution_count": null,
   "id": "636f6571-fb15-4301-94fc-2c654ab5bc00",
   "metadata": {
    "tags": []
   },
   "outputs": [],
   "source": [
    "class MyCircularQueue:\n",
    "\n",
    "    def __init__(self, k: int):\n",
    "        \n",
    "\n",
    "    def enQueue(self, value: int) -> bool:\n",
    "        \n",
    "\n",
    "    def deQueue(self) -> bool:\n",
    "        \n",
    "\n",
    "    def Front(self) -> int:\n",
    "        \n",
    "\n",
    "    def Rear(self) -> int:\n",
    "        \n",
    "\n",
    "    def isEmpty(self) -> bool:\n",
    "        \n",
    "\n",
    "    def isFull(self) -> bool:\n",
    "        \n",
    "\n",
    "\n",
    "# Your MyCircularQueue object will be instantiated and called as such:\n",
    "# obj = MyCircularQueue(k)\n",
    "# param_1 = obj.enQueue(value)\n",
    "# param_2 = obj.deQueue()\n",
    "# param_3 = obj.Front()\n",
    "# param_4 = obj.Rear()\n",
    "# param_5 = obj.isEmpty()\n",
    "# param_6 = obj.isFull()"
   ]
  },
  {
   "cell_type": "markdown",
   "id": "f8c8ddbd-0c1b-473b-bc20-1b903856892c",
   "metadata": {},
   "source": [
    "# 문20 유효한 괄호 e\n",
    "https://leetcode.com/problems/valid-parentheses/\n"
   ]
  },
  {
   "cell_type": "markdown",
   "id": "64de2a96-c27a-40f2-b5c3-4cb505d3cb29",
   "metadata": {},
   "source": [
    "    Given a string s containing just the characters \n",
    "    '(', ')', '{', '}', '[' and ']', \n",
    "    determine if the input string is valid.\n",
    "\n",
    "    An input string is valid if:\n",
    "\n",
    "    1. Open brackets must be closed by the same type of brackets.\n",
    "    2. Open brackets must be closed in the correct order.\n",
    "    3. Every close bracket has a corresponding open bracket of the same type.\n",
    "    \n",
    "    Example 1:\n",
    "\n",
    "    Input: s = \"()\"\n",
    "    Output: true\n",
    "    Example 2:\n",
    "\n",
    "    Input: s = \"()[]{}\"\n",
    "    Output: true\n",
    "    Example 3:\n",
    "\n",
    "    Input: s = \"(]\"\n",
    "    Output: false\n",
    "    \n",
    "    Constraints:\n",
    "\n",
    "        1 <= s.length <= 10^4\n",
    "        \n",
    "        s consists of parentheses only '()[]{}'.\n"
   ]
  },
  {
   "cell_type": "markdown",
   "id": "6388d2cf-0ec6-4cbf-aaa7-1ab6009471ca",
   "metadata": {},
   "source": [
    "# 내 풀이"
   ]
  },
  {
   "cell_type": "code",
   "execution_count": 1,
   "id": "a3689f96-f760-4e86-820d-cb6a02ada1dd",
   "metadata": {
    "tags": []
   },
   "outputs": [],
   "source": [
    "from __future__ import annotations\n",
    "\n",
    "def isValidParentheses(s: str) -> bool:\n",
    "    vocab1 = dict()\n",
    "    vocab1[\"(\"] = \")\"\n",
    "    vocab1[\"{\"] = \"}\"\n",
    "    vocab1[\"[\"] = \"]\"\n",
    "\n",
    "    vocab2 = dict()\n",
    "    vocab2[\")\"] = \"(\"\n",
    "    vocab2[\"}\"] = \"{\"\n",
    "    vocab2[\"]\"] = \"[\"\n",
    "\n",
    "    first = \"({[\"\n",
    "    second = \")}]\"\n",
    "\n",
    "    cnt = 0\n",
    "    for idx in range(0, len(s), 2):\n",
    "        if s[idx] in first and s[idx+1] in second:\n",
    "            if vocab2[vocab1[s[idx]]] == s[idx] and vocab1[vocab2[s[idx+1]]] == s[idx+1]:\n",
    "                cnt+=1  \n",
    "    \n",
    "    if cnt == (len(s))/2:\n",
    "        return True"
   ]
  },
  {
   "cell_type": "markdown",
   "id": "a1e1bce3-0d53-4e0e-8777-dd2028fdd0d0",
   "metadata": {
    "tags": []
   },
   "source": [
    "\n",
    "    위 함수는 s = \"(]\" 이 문자열도 True를 반환. False 여야 함"
   ]
  },
  {
   "cell_type": "code",
   "execution_count": 6,
   "id": "5827ee24-dcb0-4468-8fdf-4d96cdb37bef",
   "metadata": {
    "tags": []
   },
   "outputs": [],
   "source": [
    "from __future__ import annotations\n",
    "\n",
    "def isValidParentheses(s: str) -> bool:\n",
    "    vocab = dict()\n",
    "    vocab[\"(\"] = \")\"\n",
    "    vocab[\"{\"] = \"}\"\n",
    "    vocab[\"[\"] = \"]\"\n",
    "    first = \"({[\"\n",
    "    second = \")}]\"\n",
    "    \n",
    "    cnt = 0\n",
    "    for idx in range(0, len(s), 2):\n",
    "        if s[idx] in first and s[idx+1] in second and vocab[s[idx]] == s[idx+1]:\n",
    "            cnt+=1  \n",
    "\n",
    "    if cnt == (len(s))/2:\n",
    "        return True"
   ]
  },
  {
   "cell_type": "markdown",
   "id": "8e19b9b2-ab86-40eb-aac3-b82bfac3e45b",
   "metadata": {
    "tags": []
   },
   "source": [
    "    위 함수는 s = \"{[]}\" 이걸 False로 반환. True 여야 함"
   ]
  },
  {
   "cell_type": "markdown",
   "id": "6441e221-6067-4e1f-a2fd-baab0adacf41",
   "metadata": {},
   "source": [
    "# 책 풀이"
   ]
  },
  {
   "cell_type": "code",
   "execution_count": 22,
   "id": "2d53623d-686b-4b50-9b2b-b7522b1bd6fd",
   "metadata": {
    "tags": []
   },
   "outputs": [],
   "source": [
    "s = \"{[]}(){}\""
   ]
  },
  {
   "cell_type": "code",
   "execution_count": 23,
   "id": "3d301bc1-b1e6-45d1-98c4-ede9241586fb",
   "metadata": {
    "tags": []
   },
   "outputs": [],
   "source": [
    "def isValid(s: str) -> bool:\n",
    "    stack = []\n",
    "\n",
    "    table = {\n",
    "        \")\" : \"(\",\n",
    "        \"}\" : \"{\",\n",
    "        \"]\" : \"[\",\n",
    "    }\n",
    "    for char in s:\n",
    "        if char not in table:\n",
    "            stack.append(char)\n",
    "        elif not stack or table[char] != stack.pop():\n",
    "            return False\n",
    "    return len(stack) == 0"
   ]
  },
  {
   "cell_type": "code",
   "execution_count": 29,
   "id": "fc1450ce-9275-45e3-a7f8-621a4b4bc3dd",
   "metadata": {
    "tags": []
   },
   "outputs": [
    {
     "data": {
      "text/plain": [
       "True"
      ]
     },
     "execution_count": 29,
     "metadata": {},
     "output_type": "execute_result"
    }
   ],
   "source": [
    "s = \"{[]}(){}\"\n",
    "isValid(s)"
   ]
  },
  {
   "cell_type": "markdown",
   "id": "c0982864-af0a-4a7e-8583-c8d2cfde2859",
   "metadata": {},
   "source": [
    "elif not stack이 없으면 문제가 되는 경우\n",
    "\n",
    "    문자열 \"]\" 이 입력으로 들어오면 빈스택에서 팝을 해야하므로 \n",
    "        IndexError: pop from empty list\n",
    "        elif vocab[char] != stack.pop():   에러가 난다"
   ]
  },
  {
   "cell_type": "markdown",
   "id": "0e4c6a41-fc39-4080-83fd-00ce0d548d47",
   "metadata": {},
   "source": [
    "# 문21 중복 문자열 제거 h\n",
    "https://leetcode.com/problems/remove-duplicate-letters"
   ]
  },
  {
   "cell_type": "markdown",
   "id": "81e7509e-ac12-40ad-8404-0619bb68217a",
   "metadata": {},
   "source": [
    "    Given a string s, \n",
    "    remove duplicate letters so that every letter appears once and only once. \n",
    "    You must make sure your result is the smallest in lexicographical order among all possible results.\n",
    "\n",
    "\n",
    "\n",
    "    Example 1:\n",
    "\n",
    "    Input: s = \"bcabc\"\n",
    "    Output: \"abc\"\n",
    "    Example 2:\n",
    "\n",
    "    Input: s = \"cbacdcbc\"\n",
    "    Output: \"acdb\"\n",
    "\n",
    "\n",
    "    Constraints:\n",
    "\n",
    "    1 <= s.length <= 104\n",
    "    s consists of lowercase English letters."
   ]
  },
  {
   "cell_type": "markdown",
   "id": "4e7bdcc9-9700-47bf-aac1-d3cd3898498a",
   "metadata": {},
   "source": [
    "# 내 풀이"
   ]
  },
  {
   "cell_type": "code",
   "execution_count": 59,
   "id": "087f8920-588e-4759-ad36-74f1f46bbdbb",
   "metadata": {
    "tags": []
   },
   "outputs": [],
   "source": [
    "def removeDuplicateLetters(s: str) -> str:\n",
    "    ls = list(s)\n",
    "    sorted(set(ls))\n",
    "    answer = \"\".join(sorted(set(ls)))\n",
    "\n",
    "    return answer"
   ]
  },
  {
   "cell_type": "markdown",
   "id": "9b65b040-7fa5-41d0-96a0-69f3abda03c5",
   "metadata": {},
   "source": [
    "문제이해 못했음. lexicographical order\n",
    "\n",
    "    Input:\"cbacdcbc\"\n",
    "    Output: \"acdb\""
   ]
  },
  {
   "cell_type": "markdown",
   "id": "af888748-3346-43ca-920b-a6b2d8374738",
   "metadata": {},
   "source": [
    "# 책 풀이"
   ]
  },
  {
   "cell_type": "markdown",
   "id": "04ea5215-5562-4022-ae51-50436bb170a5",
   "metadata": {},
   "source": [
    "### 뭔소린지 모르겠음"
   ]
  },
  {
   "cell_type": "code",
   "execution_count": 84,
   "id": "0c571ba9-a378-4fb3-a182-0acc45484d8c",
   "metadata": {
    "tags": []
   },
   "outputs": [],
   "source": [
    "def removeDuplicateLetters(s: str) -> str:\n",
    "    for char in sorted(set(s)):\n",
    "        suffix = s[s.index(char):]\n",
    "        if set(s) == set(suffix):\n",
    "            return char + self.removeDuplicateLetters(suffix.replace(char, \"\"))"
   ]
  },
  {
   "cell_type": "code",
   "execution_count": 85,
   "id": "7c97ddeb-d5c9-4530-91c2-74c774760d89",
   "metadata": {
    "tags": []
   },
   "outputs": [
    {
     "data": {
      "text/plain": [
       "['a', 'b', 'c', 'd']"
      ]
     },
     "execution_count": 85,
     "metadata": {},
     "output_type": "execute_result"
    }
   ],
   "source": [
    "s = \"cbacdcbc\"\n",
    "sorted(set(s)) # 중복 제거후 알파벳 순서로 늘어뜨린 후"
   ]
  },
  {
   "cell_type": "code",
   "execution_count": 75,
   "id": "995b07bf-b1a8-4816-93ea-5d96d14fa3a0",
   "metadata": {
    "tags": []
   },
   "outputs": [
    {
     "data": {
      "text/plain": [
       "'acdcbc'"
      ]
     },
     "execution_count": 75,
     "metadata": {},
     "output_type": "execute_result"
    }
   ],
   "source": [
    "suffix = s[s.index('a'):] # 해당 알파벳 포함 그 이후 문자열을 suffix로 설정\n",
    "suffix"
   ]
  },
  {
   "cell_type": "code",
   "execution_count": 86,
   "id": "5e5961b7-b87d-4246-95ab-de234721a0df",
   "metadata": {
    "tags": []
   },
   "outputs": [
    {
     "data": {
      "text/plain": [
       "{'a', 'b', 'c', 'd'}"
      ]
     },
     "execution_count": 86,
     "metadata": {},
     "output_type": "execute_result"
    }
   ],
   "source": [
    "set(s)"
   ]
  },
  {
   "cell_type": "code",
   "execution_count": 76,
   "id": "b2302944-3669-4ee6-a828-b73abf13e3a0",
   "metadata": {
    "tags": []
   },
   "outputs": [
    {
     "data": {
      "text/plain": [
       "{'a', 'b', 'c', 'd'}"
      ]
     },
     "execution_count": 76,
     "metadata": {},
     "output_type": "execute_result"
    }
   ],
   "source": [
    "set(suffix)"
   ]
  },
  {
   "cell_type": "code",
   "execution_count": 77,
   "id": "97564f1c-2bb6-41e1-9a77-a7c2e8ad1b3c",
   "metadata": {
    "tags": []
   },
   "outputs": [
    {
     "data": {
      "text/plain": [
       "'bacdcbc'"
      ]
     },
     "execution_count": 77,
     "metadata": {},
     "output_type": "execute_result"
    }
   ],
   "source": [
    "suffix = s[s.index('b'):]\n",
    "suffix"
   ]
  },
  {
   "cell_type": "code",
   "execution_count": 78,
   "id": "5c1b20a7-40ef-4e41-820e-7de47bd78c52",
   "metadata": {
    "tags": []
   },
   "outputs": [
    {
     "data": {
      "text/plain": [
       "{'a', 'b', 'c', 'd'}"
      ]
     },
     "execution_count": 78,
     "metadata": {},
     "output_type": "execute_result"
    }
   ],
   "source": [
    "set(suffix)"
   ]
  },
  {
   "cell_type": "code",
   "execution_count": 79,
   "id": "25017e9a-10c2-4d60-97d0-f4e741bf6139",
   "metadata": {
    "tags": []
   },
   "outputs": [
    {
     "data": {
      "text/plain": [
       "'cbacdcbc'"
      ]
     },
     "execution_count": 79,
     "metadata": {},
     "output_type": "execute_result"
    }
   ],
   "source": [
    "suffix = s[s.index('c'):]\n",
    "suffix"
   ]
  },
  {
   "cell_type": "code",
   "execution_count": 80,
   "id": "5dc2fab2-9174-47bc-a0bf-f90cd0289692",
   "metadata": {
    "tags": []
   },
   "outputs": [
    {
     "data": {
      "text/plain": [
       "{'a', 'b', 'c', 'd'}"
      ]
     },
     "execution_count": 80,
     "metadata": {},
     "output_type": "execute_result"
    }
   ],
   "source": [
    "set(suffix)"
   ]
  },
  {
   "cell_type": "code",
   "execution_count": 82,
   "id": "96c19714-d6a6-45ba-8b82-fcef63396d87",
   "metadata": {
    "tags": []
   },
   "outputs": [
    {
     "data": {
      "text/plain": [
       "'dcbc'"
      ]
     },
     "execution_count": 82,
     "metadata": {},
     "output_type": "execute_result"
    }
   ],
   "source": [
    "suffix = s[s.index('d'):]\n",
    "suffix"
   ]
  },
  {
   "cell_type": "code",
   "execution_count": 83,
   "id": "2b219c45-3233-4586-8c95-9c5a0fb2b708",
   "metadata": {
    "tags": []
   },
   "outputs": [
    {
     "data": {
      "text/plain": [
       "{'b', 'c', 'd'}"
      ]
     },
     "execution_count": 83,
     "metadata": {},
     "output_type": "execute_result"
    }
   ],
   "source": [
    "set(suffix)"
   ]
  },
  {
   "cell_type": "markdown",
   "id": "44cd23e5-859c-4b5b-b9ce-f36ede97f2ec",
   "metadata": {},
   "source": [
    "## 스택 풀이법"
   ]
  },
  {
   "cell_type": "code",
   "execution_count": 1,
   "id": "75076628-bf9a-4618-b0fa-859d12e3e8ff",
   "metadata": {},
   "outputs": [
    {
     "data": {
      "text/plain": [
       "'acdb'"
      ]
     },
     "execution_count": 1,
     "metadata": {},
     "output_type": "execute_result"
    }
   ],
   "source": [
    "import collections\n",
    "\n",
    "def removeDuplicateLetters(s: str) -> str:\n",
    "    counter = collections.Counter(s)\n",
    "    seen = set()\n",
    "    stack = []\n",
    "    \n",
    "    for char in s:\n",
    "        counter[char] -= 1\n",
    "        if char in seen:\n",
    "            continue\n",
    "        \n",
    "        while stack and char < stack[-1] and counter[stack[-1]] > 0:\n",
    "            seen.remove(stack.pop())\n",
    "        stack.append(char)\n",
    "        seen.add(char)\n",
    "    \n",
    "    return ''.join(stack)\n",
    "\n",
    "removeDuplicateLetters(\"cbacdcbc\")"
   ]
  },
  {
   "cell_type": "markdown",
   "id": "dd07f0b2-6f2e-4a10-9fca-5163a4ace0e8",
   "metadata": {},
   "source": [
    "# 리트코드 풀이"
   ]
  },
  {
   "cell_type": "code",
   "execution_count": 2,
   "id": "a4ff9645-fe06-4333-b0b1-842d9385f780",
   "metadata": {
    "tags": []
   },
   "outputs": [],
   "source": [
    "def removeDuplicateLetters(s: str) -> str:\n",
    "\n",
    "    last_occ = {}\n",
    "    stack = []\n",
    "    visited = set()\n",
    "\n",
    "    for i in range(len(s)): \n",
    "        last_occ[s[i]] = i  # 문자열에 각 char가 마지막으로 등장했을 때의 인덱스를 기록한 딕셔너리 \n",
    "\n",
    "    for i in range(len(s)):\n",
    "\n",
    "        if s[i] not in visited:\n",
    "            while (stack and stack[-1] > s[i] and last_occ[stack[-1]] > i):\n",
    "                visited.remove(stack.pop())\n",
    "\n",
    "            stack.append(s[i])\n",
    "            visited.add(s[i])\n",
    "\n",
    "    return ''.join(stack)"
   ]
  },
  {
   "cell_type": "code",
   "execution_count": null,
   "id": "02004352-b34f-41b0-8b02-709296695932",
   "metadata": {},
   "outputs": [],
   "source": []
  },
  {
   "cell_type": "code",
   "execution_count": 3,
   "id": "f5d2daaa-d3b0-4877-98d9-e6bd9c14b17c",
   "metadata": {
    "tags": []
   },
   "outputs": [],
   "source": [
    "s = \"cbacdcbc\"\n",
    "last_occ = {}\n",
    "stack = []\n",
    "visited = set()\n",
    "\n",
    "for i in range(len(s)):\n",
    "    last_occ[s[i]] = i"
   ]
  },
  {
   "cell_type": "code",
   "execution_count": 4,
   "id": "7f0dfeb9-e0bd-498f-a770-f56880215ca4",
   "metadata": {
    "tags": []
   },
   "outputs": [
    {
     "data": {
      "text/plain": [
       "{'c': 7, 'b': 6, 'a': 2, 'd': 4}"
      ]
     },
     "execution_count": 4,
     "metadata": {},
     "output_type": "execute_result"
    }
   ],
   "source": [
    "last_occ"
   ]
  },
  {
   "cell_type": "markdown",
   "id": "08456f3c-2580-4399-8264-58cdc79a5c03",
   "metadata": {},
   "source": [
    "last_occ = 문자열에서 마지막 문자를 캡처하는 데 사용됩니다.\n",
    "\n",
    "    1. 문자열을 순차적으로 탐색합니다.\n",
    "    2. 각 s[i]에 대해 이미 스택에 있는지 여부를 확인합니다.\n",
    "    3. 스택에 없으면 스택에 푸시해야 합니다. 하지만 Push하기 전에 또 다른 조건을 확인해야 합니다.\n",
    "    4. s[i]가 스택에 없고(세트를 사용하여 O(1)에서 이것을 사용하여 확인할 수 있음) \n",
    "        스택의 이전 요소보다 작고(사전순으로) \n",
    "        해당 요소가 미래에 반복되는 경우( last_occ로 확인), \n",
    "        이러한 요소를 팝해야 합니다.\n",
    "    5. 이제 s[i]를 스택에 넣을 수 있습니다.\n",
    "    6. 마지막으로 스택의 문자를 결합하여 결과를 만듭니다.\n",
    "\n",
    "우리는 시간 복잡도를 개선하기 위해 s[i]가 O(1) 시간에 스택에 있는지 여부를 확인하기 위해 방문 세트를 사용하고 있습니다."
   ]
  },
  {
   "cell_type": "markdown",
   "id": "019664b6-e0bf-45cb-8c40-2d05e198a08d",
   "metadata": {},
   "source": [
    "# 문22 일일온도 m\n",
    "https://leetcode.com/problems/daily-temperatures/"
   ]
  },
  {
   "cell_type": "markdown",
   "id": "56a2da1b-24a6-4e77-a7e2-b8a468bc61d3",
   "metadata": {
    "tags": []
   },
   "source": [
    "# 프 11장 43번 문제와 유사"
   ]
  },
  {
   "cell_type": "markdown",
   "id": "9723269c-96d8-4ebb-b23f-39939f1bad87",
   "metadata": {},
   "source": [
    "    Given an array of integers temperatures represents the daily temperatures, \n",
    "    return an array answer such that \n",
    "    answer[i] is the number of days you have to wait after the ith day to get a warmer temperature. \n",
    "    If there is no future day for which this is possible,\n",
    "    keep answer[i] == 0 instead.\n",
    "\n",
    "    Example 1:\n",
    "\n",
    "    Input: temperatures = [73,74,75,71,69,72,76,73]\n",
    "    Output: [1,1,4,2,1,1,0,0]"
   ]
  },
  {
   "cell_type": "markdown",
   "id": "5a5f998d-17ff-4f9f-95a2-ff731def943a",
   "metadata": {},
   "source": [
    "### 브루트 포스\n",
    "시간초과"
   ]
  },
  {
   "cell_type": "code",
   "execution_count": 35,
   "id": "e87379d3-4f0e-4afb-a717-f5c21a30c4a8",
   "metadata": {
    "tags": []
   },
   "outputs": [],
   "source": [
    "temperatures = [73,74,75,71,69,72,76,73]\n",
    "answer = [0] * len(temperatures)        # answer = [] 그냥 빈 리스트가 아니라 0으로 초기화된 배열을 쓴다는 아이디어를 떠올리는 것\n",
    "for i in range(len(temperatures)):\n",
    "    for j in range(i+1, len(temperatures)):\n",
    "        if temperatures[i] < temperatures[j]:\n",
    "            answer[i] = j-i\n",
    "            break"
   ]
  },
  {
   "cell_type": "code",
   "execution_count": 36,
   "id": "37d67c93-940f-4aaa-bd6f-ee9acb28997c",
   "metadata": {
    "tags": []
   },
   "outputs": [
    {
     "data": {
      "text/plain": [
       "[1, 1, 4, 2, 1, 1, 0, 0]"
      ]
     },
     "execution_count": 36,
     "metadata": {},
     "output_type": "execute_result"
    }
   ],
   "source": [
    "answer"
   ]
  },
  {
   "cell_type": "markdown",
   "id": "679567f4-769c-44f0-9b9c-6a7054a7e852",
   "metadata": {},
   "source": [
    "### chatGPT 수정버전"
   ]
  },
  {
   "cell_type": "code",
   "execution_count": 37,
   "id": "aa98125b-6248-482f-8cd4-ac581dd8ad3b",
   "metadata": {
    "tags": []
   },
   "outputs": [
    {
     "name": "stdout",
     "output_type": "stream",
     "text": [
      "[1, 1, 4, 2, 1, 1, 0, 0]\n"
     ]
    }
   ],
   "source": [
    "temperatures = [73,74,75,71,69,72,76,73]\n",
    "answer = [0] * len(temperatures)  # 초기화: 모든 값을 0으로 설정\n",
    "\n",
    "for i in range(len(temperatures)-2, -1, -1):  # 역순으로 순회시킬 수 있다는 아이디어를 떠올리는 것\n",
    "    j = i + 1\n",
    "    while j < len(temperatures) and temperatures[i] >= temperatures[j]:\n",
    "        if answer[j] > 0:  # 이미 계산된 값이 있는 경우\n",
    "            j += answer[j]\n",
    "        else:\n",
    "            j = len(temperatures)  # 현재 온도보다 높은 값이 없으면 종료\n",
    "    if j < len(temperatures):  # 현재 온도보다 높은 값이 있는 경우\n",
    "        answer[i] = j - i\n",
    "\n",
    "print(answer)"
   ]
  },
  {
   "cell_type": "markdown",
   "id": "3abc9461-e17d-4c48-baa6-26b3d983e85f",
   "metadata": {},
   "source": [
    "# 책 풀이"
   ]
  },
  {
   "cell_type": "code",
   "execution_count": 52,
   "id": "e6d482ff-aa73-43f2-a51f-23b271bcf54a",
   "metadata": {
    "tags": []
   },
   "outputs": [
    {
     "data": {
      "text/plain": [
       "[1, 1, 4, 2, 1, 1, 0, 0]"
      ]
     },
     "execution_count": 52,
     "metadata": {},
     "output_type": "execute_result"
    }
   ],
   "source": [
    "temperatures = [73, 74, 75, 71, 69, 72, 76, 73]\n",
    "\n",
    "stack = []\n",
    "answer = [0]*len(temperatures)\n",
    "\n",
    "for idx, t in enumerate(temperatures):\n",
    "\n",
    "    while stack and t > temperatures[stack[-1]]:\n",
    "        top = stack.pop()\n",
    "        answer[top] = idx - top\n",
    "    stack.append(idx)\n",
    "answer"
   ]
  }
 ],
 "metadata": {
  "kernelspec": {
   "display_name": "tf",
   "language": "python",
   "name": "tf"
  },
  "language_info": {
   "codemirror_mode": {
    "name": "ipython",
    "version": 3
   },
   "file_extension": ".py",
   "mimetype": "text/x-python",
   "name": "python",
   "nbconvert_exporter": "python",
   "pygments_lexer": "ipython3",
   "version": "3.11.0"
  }
 },
 "nbformat": 4,
 "nbformat_minor": 5
}
