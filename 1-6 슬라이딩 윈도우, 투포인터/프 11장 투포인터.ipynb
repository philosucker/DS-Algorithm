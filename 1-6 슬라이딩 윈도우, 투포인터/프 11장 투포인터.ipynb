{
 "cells": [
  {
   "cell_type": "markdown",
   "id": "ed3dddaf-1b79-4f21-939c-f94bb8b723b5",
   "metadata": {},
   "source": [
    "## h: 49"
   ]
  },
  {
   "cell_type": "markdown",
   "id": "447d7c67-ee3b-4595-b340-b66e34bbf9e5",
   "metadata": {},
   "source": [
    "### 크기가 큰 배열이 입력으로 올 수 있고\n",
    "### 문제 정답이 \n",
    "### 특정 숫자를 찾는 거든가\n",
    "### 특정 구간을 찾으라는 거면 \n",
    "### 투포인터/슬라이딩 윈도우 기법을 써볼수 있다. \n",
    "#### O(n^2) 의 알고리즘 대신 O(n) 알고리즘으로 끝낼 수 있다.\n",
    "\n",
    "# 슬라이딩 윈도우\n",
    "\n",
    "    정렬되지 않은 배열에\n",
    "    (포인터 두개를 사용하거나 슬라이싱으로) 고정길이 윈도우를 만들어 (또는 윈도우 사이즈가 변해가면서)\n",
    "    단방향(왼>오 / 왼<오) 으로 움직이면서 \n",
    "    특정 연산을 하는 알고리즘\n",
    "\n",
    "# 투포인터\n",
    "\n",
    "    일반적으로 정렬된 배열에\n",
    "    (포인터 두개를 사용해) \n",
    "    양방향 (왼> <오)으로 포인터를 움직이면서(i.e. 윈도우사이즈가 계속 변함)\n",
    "    특정 연산을 하는 알고리즘\n",
    "    \n",
    "\n",
    "    \n",
    "투포인터 \n",
    "\n",
    "    1. 이진검색\n",
    "    2. 이진삽입정렬\n",
    "    3. 셰이커정렬\n",
    "    4. 퀵정렬\n",
    "    \n",
    "슬라이딩 윈도우\n",
    "\n",
    "    1. 연결리스트에서 remove_last 시 ptr = self.head, pre = self.head\n",
    "    2. 문자열 검색 (브루트포스, KMP, 보이어무어) \n",
    "    3. 런너기법?\n",
    "    \n",
    "포인터 한개 사용\n",
    "\n",
    "    1. 스택에서 스택 포인터\n",
    "    2. 원형큐에서 front/rear 포인터\n",
    "    3. 연결리스트 ptr = self.head\n",
    "    4. 프리리스트 rec = self.deleted\n",
    "    5. 이진검색트리 p = self.root  \n",
    "    \n",
    "    6. 단순선택정렬\n",
    "    \n",
    "포인터 두개 사용\n",
    "\n",
    "    1. 버블정렬개선2\n",
    "    2. 단순삽입정렬\n",
    "    3. 셸정렬\n",
    "    \n",
    "포인터 여러개 사용\n",
    "    \n",
    "    1. 병합정렬 (슬라이딩 윈도우, 투포인터 다 들어가 있는 듯)\n",
    "    2. 힙정렬\n",
    "    3. 이진검색트리"
   ]
  },
  {
   "cell_type": "markdown",
   "id": "7009b129-b542-4722-9a08-9bdbcabeb696",
   "metadata": {},
   "source": [
    "# 두 개의 포인터로 중복값 찾기\n"
   ]
  },
  {
   "cell_type": "code",
   "execution_count": 13,
   "id": "3b0d5393-3f6f-4913-b5c7-8e072026e097",
   "metadata": {
    "tags": []
   },
   "outputs": [
    {
     "name": "stdout",
     "output_type": "stream",
     "text": [
      "---===phase1===---\n",
      "turtle : 1\n",
      "rabbit : 1\n",
      "\n",
      "start\n",
      "\n",
      "turtle : 4\n",
      "rabbit : 6\n",
      "turtle : 6\n",
      "rabbit : 3\n",
      "turtle : 5\n",
      "rabbit : 6\n",
      "turtle : 3\n",
      "rabbit : 3\n",
      "\n",
      "---===phase2===---\n",
      "turtle : 3\n",
      "rabbit : 1\n",
      "\n",
      "start\n",
      "\n",
      "rabbit : 4\n",
      "turtle : 2\n",
      "rabbit : 6\n",
      "turtle : 6\n"
     ]
    },
    {
     "data": {
      "text/plain": [
       "6"
      ]
     },
     "execution_count": 13,
     "metadata": {},
     "output_type": "execute_result"
    }
   ],
   "source": [
    "def find_duplicate(nums):\n",
    "    rabbit = turtle = nums[0]\n",
    "    print(\"---===phase1===---\")\n",
    "    print(f'turtle : {turtle}')\n",
    "    print(f'rabbit : {rabbit}')\n",
    "    print();print(\"start\");print()\n",
    "    while True:\n",
    "        turtle = nums[turtle]\n",
    "        print(f'turtle : {turtle}')\n",
    "        rabbit = nums[nums[rabbit]]\n",
    "        print(f'rabbit : {rabbit}')\n",
    "        if turtle == rabbit: break\n",
    "    \n",
    "    print(); print(\"---===phase2===---\")\n",
    "    rabbit = nums[0]\n",
    "    print(f'turtle : {turtle}')\n",
    "    print(f'rabbit : {rabbit}')\n",
    "    print();print(\"start\");print()\n",
    "    while rabbit != turtle:\n",
    "        rabbit = nums[rabbit]\n",
    "        print(f'rabbit : {rabbit}')\n",
    "        turtle = nums[turtle]\n",
    "        print(f'turtle : {turtle}')\n",
    "        \n",
    "    return rabbit\n",
    "\n",
    "nums = [1,4,6,2,6,3,5]\n",
    "find_duplicate(nums)"
   ]
  },
  {
   "cell_type": "code",
   "execution_count": 6,
   "id": "844f4a96-76f7-4e4e-b3f5-0db3d6c4fe32",
   "metadata": {
    "tags": []
   },
   "outputs": [],
   "source": [
    "def find_duplicate(nums):\n",
    "    rabbit = turtle = nums[0]\n",
    "    while True:\n",
    "        turtle = nums[turtle]\n",
    "        rabbit = nums[nums[rabbit]]\n",
    "        if turtle == rabbit: break\n",
    "    rabbit = nums[0]\n",
    "    while rabbit != turtle:\n",
    "        rabbit = nums[rabbit]\n",
    "        turtle = nums[turtle]\n",
    "        \n",
    "    return rabbit\n",
    "nums = [1,4,6,2,6,3,5]"
   ]
  },
  {
   "cell_type": "code",
   "execution_count": null,
   "id": "f5c97db3-0259-44a1-94ff-68ca93cc7920",
   "metadata": {},
   "outputs": [],
   "source": [
    "idx      0   1   2   3   4   5   6\n",
    "\n",
    "pahse1   1   4   6   2   6   3   5   \n",
    "start    tr         \n",
    "   1         t           r\n",
    "   2                     t   r\n",
    "   3             r               t\n",
    "   4                         tr\n",
    "\n",
    "idx      0   1   2   3   4   5   6\n",
    "\n",
    "phase2   1   4   6   2   6   3   5   \n",
    "start    r                   t\n",
    "   1         r       t\n",
    "   2             t       r"
   ]
  },
  {
   "cell_type": "code",
   "execution_count": null,
   "id": "b3f3ba4c-a55d-4de8-a8b9-d89a1695c3b3",
   "metadata": {},
   "outputs": [],
   "source": [
    "이 알고리즘은 특히 링크드 리스트에서 순환을 찾는 데 자주 사용됩니다. \n",
    "배열의 경우, \n",
    "    조건1 배열의 값의 최대값은 배열의 마지막 인덱스보다 크면 안 되고\n",
    "    조건2 각 요소의 값이 배열의 인덱스를 가리키는 형태여야 합니다.\n",
    "    조건3 배열의 값 중 중복값이 있어야 한다.\n",
    "\n",
    "이 상태에서 배열 내의 숫자들이 인덱스로서 사용되게 하면 \n",
    "순환 구조가 발생합니다\n",
    "\n",
    "초기화 단계: '토끼'와 '거북이' 포인터는 배열의 첫 번째 요소에서 시작합니다.\n",
    "\n",
    "첫 번째 단계 - 순환 찾기:\n",
    "\n",
    "'거북이'는 한 번에 한 단계씩 이동합니다 (turtle = nums[turtle]).\n",
    "'토끼'는 한 번에 두 단계씩 이동합니다 (rabbit = nums[nums[rabbit]]).\n",
    "이 두 포인터가 같은 위치에 도달하면 순환을 발견한 것입니다. \n",
    "\n",
    "idx      0   1   2   3   4   5   6\n",
    "arr      1   4   6   2   6   3   5\n",
    "\n",
    "거북이의 경우 \n",
    "arr[1] = 4\n",
    "arr[4] = 6 두번째6\n",
    "arr[6] = 5 \n",
    "arr[5] = 3\n",
    "arr[3] = 2\n",
    "arr[2] = 6 첫번째6 <<< 순환 시작점, 즉 \n",
    "arr[6] = 5 \n",
    "arr[5] = 3\n",
    "arr[3] = 2 <<< 다시 말해 여기까지가 순환구조가 일어나는 구간이다. \n",
    "arr[2] = 6 \n",
    "거북이는 이제 6532...이 순환구조에 갇혀 계속 돌게 된다.\n",
    "\n",
    "\n",
    "idx      0   1   2   3   4   5   6\n",
    "arr      1   4   6   2   6   3   5\n",
    "\n",
    "토끼의 경우\n",
    "arr[arr[1]] = 6 두번째6\n",
    "arr[arr[6]] = 3 \n",
    "arr[arr[3]] = 6 첫번째6  <<< 순환시작점, 즉\n",
    "arr[arr[6]] = 3 <<< 다시말해 여기까지가 순환구조가 일어나는 구간이다.\n",
    "arr[arr[3]] = 6 \n",
    "arr[arr[6]] = 3\n",
    "토끼는 이제 6363...이 순환구조에 갇혀 계속 돌게 된다.\n",
    "토끼'는 한 번에 두 단계씩 이동하기 때문에,\n",
    "(즉 거북이가 \n",
    "arr[1] = 4\n",
    "arr[4] = 6 \n",
    "두단계를 거쳐야 도달할 곳을\n",
    " 토끼는\n",
    "arr[arr[1]] = 6\n",
    " 한번에 간다)\n",
    "'거북이'와 같은 경로를 따라가지 않습니다. \n",
    "정확히 말하면 거북이와 똑같은 경로를 가되 두단계씩 점프해서 간다.\n",
    "결국 '토끼'는 더 빠르게 이동하여 순환 구조 내에서 '거북이'를 따라잡습니다.\n",
    "결과적으로\n",
    "거북이는 6532 안을 계속 돌고\n",
    "토끼는 63을 계속 도므로\n",
    "계속 돌리다보면\n",
    "6이나 3에서 둘다 멈추는 순간이 생긴다. \n",
    "이는 곧 순환의 존재를 확인하는 것과 같다.\n",
    "즉 phase1 은 배열안에 순환이 있다는 걸 확인하는 과정이다.\n",
    "\n",
    "이들이 처음으로 만나는 지점은 순환의 시작점이 아니라 \n",
    "순환 구조 내의 어떤 점일 뿐입니다. \n",
    "\n",
    "\n",
    "이제 둘의 순환이 시작되는 지점을 찾는다.\n",
    "순환의 실제 시작점은 배열에서 중복된 값이 위치하는 곳이다.\n",
    "\n",
    "두 번째 단계 - 순환 시작점 찾기:\n",
    "\n",
    "'토끼'를 배열의 시작점으로 다시 옮깁니다.\n",
    "이후, '토끼'와 '거북이'는 각각 한 번에 한 단계씩 이동합니다.\n",
    "이 두 포인터가 다시 만나는 지점이 순환의 시작점입니다. 배열에서 중복된 값입니다.\n",
    "\n",
    "idx      0   1   2   3   4   5   6\n",
    "arr      1   4   6   2   6   3   5\n",
    "         r                   t\n",
    "             r       t\n",
    "                 t       r\n",
    "거북이의 경우\n",
    "arr[3] = 2\n",
    "arr[2] = 6 <<<\n",
    "arr[6] = 5\n",
    "arr[5] = 3\n",
    "arr[3] = 2\n",
    "arr[2] = 6\n",
    "한칸씩 진행시키면 자기고 돌던 6532루프를 계속 돌게 되고 \n",
    "\n",
    "토끼의 경우\n",
    "arr[1] = 4\n",
    "arr[4] = 6 <<<\n",
    "arr[6] = 5\n",
    "arr[5] = 3\n",
    "arr[3] = 2\n",
    "arr[2] = 6\n",
    "한칸씩 진행시키면 거북이의 루프에 들어가게 되는데"
   ]
  },
  {
   "cell_type": "markdown",
   "id": "f23d2b43-8063-45ac-bd4c-366554300f4e",
   "metadata": {},
   "source": [
    "# 문49 보석쇼핑 h\n",
    "https://school.programmers.co.kr/learn/courses/30/lessons/67258"
   ]
  },
  {
   "cell_type": "code",
   "execution_count": null,
   "id": "f6a9ec39-46df-4821-9803-b13a202935ae",
   "metadata": {},
   "outputs": [],
   "source": []
  },
  {
   "cell_type": "code",
   "execution_count": null,
   "id": "23829027-5981-490f-947c-25acc88432ed",
   "metadata": {},
   "outputs": [],
   "source": [
    "gems = [\"DIA\", \"RUBY\", \"RUBY\", \"DIA\", \"DIA\", \"EMERALD\", \"SAPPHIRE\", \"DIA\"]\treturn [3, 7]\n",
    "[\"AA\", \"AB\", \"AC\", \"AA\", \"AC\"]\t[1, 3]\n",
    "[\"XYZ\", \"XYZ\", \"XYZ\"]\t[1, 1]\n",
    "[\"ZZZ\", \"YYY\", \"NNNN\", \"YYY\", \"BBB\"]\t[1, 5]"
   ]
  },
  {
   "cell_type": "code",
   "execution_count": 5,
   "id": "bd2f44d9-2669-4110-aa44-750527cff4b2",
   "metadata": {
    "tags": []
   },
   "outputs": [
    {
     "data": {
      "text/plain": [
       "{'DIA', 'EMERALD', 'RUBY', 'SAPPHIRE'}"
      ]
     },
     "execution_count": 5,
     "metadata": {},
     "output_type": "execute_result"
    }
   ],
   "source": [
    "gems = [\"DIA\", \"RUBY\", \"RUBY\", \"DIA\", \"DIA\", \"EMERALD\", \"SAPPHIRE\", \"DIA\"]\n",
    "uniq = set(gems)\n",
    "uniq"
   ]
  },
  {
   "cell_type": "code",
   "execution_count": 9,
   "id": "e45b407d-11d3-4126-a5b3-fb079c7adc41",
   "metadata": {
    "tags": []
   },
   "outputs": [
    {
     "ename": "SyntaxError",
     "evalue": "'return' outside function (1659683485.py, line 3)",
     "output_type": "error",
     "traceback": [
      "\u001b[0;36m  Cell \u001b[0;32mIn[9], line 3\u001b[0;36m\u001b[0m\n\u001b[0;31m    return [1, len(gems)]\u001b[0m\n\u001b[0m    ^\u001b[0m\n\u001b[0;31mSyntaxError\u001b[0m\u001b[0;31m:\u001b[0m 'return' outside function\n"
     ]
    }
   ],
   "source": [
    "uniq = set(gems)\n",
    "if len(uniq) == len(gems):\n",
    "    return [1, len(gems)]\n",
    "else:\n",
    "    pl = 0\n",
    "    pr = len(gems)-1\n",
    "    l_stop = False\n",
    "    r_stop = False\n",
    "\n",
    "    while l_stop == False and r_stop == False:\n",
    "\n",
    "        for gem in uniq:\n",
    "            if gem not in gems:\n",
    "                l_stop = True\n",
    "                break\n",
    "        else:\n",
    "            pl += 1\n",
    "            gems = gems[pl:pr]\n",
    "\n",
    "        for gem in uniq:\n",
    "            if gem not in gems:\n",
    "                r_stop = True\n",
    "                break\n",
    "        else:\n",
    "            pr -= 1\n",
    "            gems = gems[pl:pr]\n",
    "    return [pl+1, pr+1]"
   ]
  },
  {
   "cell_type": "code",
   "execution_count": 65,
   "id": "d32be403-ccc0-4ac9-b098-2313e2f52f80",
   "metadata": {
    "tags": []
   },
   "outputs": [
    {
     "data": {
      "text/plain": [
       "(1, 6)"
      ]
     },
     "execution_count": 65,
     "metadata": {},
     "output_type": "execute_result"
    }
   ],
   "source": [
    "# gems = [\"DIA\", \"RUBY\", \"RUBY\", \"DIA\", \"DIA\", \"EMERALD\", \"SAPPHIRE\", \"DIA\"] # [3, 7] 2  8\n",
    "# gems = [\"AA\", \"AB\", \"AC\", \"AA\", \"AC\"] # [1, 3] 0  5\n",
    "# gems = [\"XYZ\", \"XYZ\", \"XYZ\"] # [1, 1] 2 3 \n",
    "gems = [\"ZZZ\", \"YYY\", \"NNNN\", \"YYY\", \"BBB\"] # [1, 5]\n",
    "\n",
    "uniq = set(gems)\n",
    "\n",
    "pl = 0\n",
    "pr = len(gems)\n",
    "gems = gems[pl:pr]\n",
    "\n",
    "l_stop = False\n",
    "r_stop = False\n",
    "\n",
    "while l_stop == False and r_stop == False:\n",
    "    \n",
    "    if l_stop == False:\n",
    "        for gem in uniq:\n",
    "            if gem not in gems:\n",
    "                l_stop = True\n",
    "                pl -= 1\n",
    "                break\n",
    "        else:\n",
    "            pl += 1\n",
    "            gems = gems[pl:pr]\n",
    "\n",
    "    if r_stop == False:\n",
    "        for gem in uniq:\n",
    "            if gem not in gems:\n",
    "                r_stop = True\n",
    "                pr += 1\n",
    "                break\n",
    "        else:\n",
    "            pr -= 1\n",
    "            gems = gems[pl:pr]\n",
    "pl, pr"
   ]
  },
  {
   "cell_type": "code",
   "execution_count": null,
   "id": "c8172a51-6475-482a-bf5d-64dcd42b3a61",
   "metadata": {},
   "outputs": [],
   "source": []
  }
 ],
 "metadata": {
  "kernelspec": {
   "display_name": "Python 3 (ipykernel)",
   "language": "python",
   "name": "python3"
  },
  "language_info": {
   "codemirror_mode": {
    "name": "ipython",
    "version": 3
   },
   "file_extension": ".py",
   "mimetype": "text/x-python",
   "name": "python",
   "nbconvert_exporter": "python",
   "pygments_lexer": "ipython3",
   "version": "3.11.0"
  }
 },
 "nbformat": 4,
 "nbformat_minor": 5
}
