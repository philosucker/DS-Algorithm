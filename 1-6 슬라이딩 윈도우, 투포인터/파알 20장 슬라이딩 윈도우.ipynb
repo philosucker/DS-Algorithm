{
 "cells": [
  {
   "cell_type": "markdown",
   "id": "329696d1-a229-401d-97c9-571be8406925",
   "metadata": {
    "tags": []
   },
   "source": [
    "### m: 77\n",
    "### h: 75, 76"
   ]
  },
  {
   "cell_type": "markdown",
   "id": "cd34ca83-530a-40c4-9124-6a41e10f4649",
   "metadata": {},
   "source": [
    "# 문77 가장 긴 반복 문자 대체 m\n",
    "https://leetcode.com/problems/longest-repeating-character-replacement/"
   ]
  },
  {
   "cell_type": "code",
   "execution_count": null,
   "id": "ff118e48-5bfd-44ee-a80e-9a99b24ed1d7",
   "metadata": {},
   "outputs": [],
   "source": [
    "You are given a string s and an integer k. \n",
    "You can choose any character of the string and change it to any other uppercase English character. \n",
    "You can perform this operation at most k times.\n",
    "\n",
    "Return the length of the longest substring containing the same letter you can get after performing the above operations.\n",
    "\n",
    "Example 1:\n",
    "\n",
    "Input: s = \"ABAB\", k = 2\n",
    "Output: 4\n",
    "Explanation: Replace the two 'A's with two 'B's or vice versa.\n",
    "\n",
    "Example 2:\n",
    "\n",
    "Input: s = \"AABABBA\", k = 1\n",
    "Output: 4\n",
    "Explanation: Replace the one 'A' in the middle with 'B' and form \"AABBBBA\".\n",
    "The substring \"BBBB\" has the longest repeating letters, which is 4.\n",
    "There may exists other ways to achieve this answer too.\n",
    " \n",
    "Constraints:\n",
    "\n",
    "1 <= s.length <= 105\n",
    "s consists of only uppercase English letters.\n",
    "0 <= k <= s.length"
   ]
  },
  {
   "cell_type": "markdown",
   "id": "4ebb867c-f6bc-40eb-937a-946f07ea00ec",
   "metadata": {
    "tags": []
   },
   "source": [
    "# 문76 부분 문자열이 포함된 최소 윈도우 h\n",
    "https://leetcode.com/problems/minimum-window-substring/"
   ]
  },
  {
   "cell_type": "code",
   "execution_count": null,
   "id": "0a7171f4-de12-4d59-8d38-0fe31b0b6e4a",
   "metadata": {},
   "outputs": [],
   "source": [
    "Given two strings s and t of lengths m and n respectively, \n",
    "return the minimum window substring of s such that every character in t (including duplicates) is included in the window. \n",
    "If there is no such substring, return the empty string \"\".\n",
    "\n",
    "The testcases will be generated such that the answer is unique.\n",
    "\n",
    "Example 1:\n",
    "\n",
    "Input: s = \"ADOBECODEBANC\", t = \"ABC\"\n",
    "Output: \"BANC\"\n",
    "Explanation: The minimum window substring \"BANC\" includes 'A', 'B', and 'C' from string t.\n",
    "\n",
    "\n",
    "Example 2:\n",
    "Input: s = \"a\", t = \"a\"\n",
    "Output: \"a\"\n",
    "Explanation: The entire string s is the minimum window.\n",
    "\n",
    "\n",
    "Example 3:\n",
    "Input: s = \"a\", t = \"aa\"\n",
    "Output: \"\"\n",
    "Explanation: Both 'a's from t must be included in the window.\n",
    "Since the largest window of s only has one 'a', return empty string.\n",
    " \n",
    "Constraints:\n",
    "\n",
    "m == s.length\n",
    "n == t.length\n",
    "1 <= m, n <= 105\n",
    "s and t consist of uppercase and lowercase English letters."
   ]
  },
  {
   "cell_type": "markdown",
   "id": "075ac1bd-c3aa-4004-85f3-dce97dfe5b10",
   "metadata": {},
   "source": [
    "### 크기가 큰 배열이 입력으로 올 수 있고\n",
    "### 문제 정답이 \n",
    "### 특정 숫자를 찾는 거든가\n",
    "### 특정 구간을 찾으라는 거면 \n",
    "### 투포인터/슬라이딩 윈도우 기법을 써볼수 있다. \n",
    "#### O(n^2) 의 알고리즘 대신 O(n) 알고리즘으로 끝낼 수 있다.\n",
    "\n",
    "# 슬라이딩 윈도우\n",
    "\n",
    "    정렬되지 않은 배열에\n",
    "    (포인터 두개를 사용하거나 슬라이싱으로) 고정길이 윈도우를 만들어 (또는 윈도우 사이즈가 변해가면서)\n",
    "    단방향(왼>오 / 왼<오) 으로 움직이면서 \n",
    "    특정 연산을 하는 알고리즘\n",
    "\n",
    "# 투포인터\n",
    "\n",
    "    일반적으로 정렬된 배열에\n",
    "    (포인터 두개를 사용해) \n",
    "    양방향 (왼> <오)으로 포인터를 움직이면서(i.e. 윈도우사이즈가 계속 변함)\n",
    "    특정 연산을 하는 알고리즘\n",
    "    \n",
    "\n",
    "    \n",
    "투포인터 \n",
    "\n",
    "    1. 이진검색\n",
    "    2. 이진삽입정렬\n",
    "    3. 셰이커정렬\n",
    "    4. 퀵정렬\n",
    "    \n",
    "슬라이딩 윈도우\n",
    "\n",
    "    1. 연결리스트에서 remove_last 시 ptr = self.head, pre = self.head\n",
    "    2. 문자열 검색 (브루트포스, KMP, 보이어무어) \n",
    "    3. 런너기법?\n",
    "    \n",
    "포인터 한개 사용\n",
    "\n",
    "    1. 스택에서 스택 포인터\n",
    "    2. 원형큐에서 front/rear 포인터\n",
    "    3. 연결리스트 ptr = self.head\n",
    "    4. 프리리스트 rec = self.deleted\n",
    "    5. 이진검색트리 p = self.root  \n",
    "    \n",
    "    6. 단순선택정렬\n",
    "    \n",
    "포인터 두개 사용\n",
    "\n",
    "    1. 버블정렬개선2\n",
    "    2. 단순삽입정렬\n",
    "    3. 셸정렬\n",
    "    \n",
    "포인터 여러개 사용\n",
    "    \n",
    "    1. 병합정렬 (슬라이딩 윈도우, 투포인터 다 들어가 있는 듯)\n",
    "    2. 힙정렬\n",
    "    3. 이진검색트리"
   ]
  },
  {
   "cell_type": "markdown",
   "id": "930b31e4-0711-4afb-9205-ba3be55c4c06",
   "metadata": {},
   "source": [
    "# 문75 최대 슬라이딩 윈도우 h\n",
    "https://leetcode.com/problems/sliding-window-maximum/\n",
    "\n",
    "    Input: nums = [1,3,-1,-3,5,3,6,7], k = 3\n",
    "    Output: [3,3,5,5,6,7]\n",
    "    Explanation: \n",
    "    Window position                Max\n",
    "    ---------------               -----\n",
    "    [1  3  -1] -3  5  3  6  7       3\n",
    "     1 [3  -1  -3] 5  3  6  7       3\n",
    "     1  3 [-1  -3  5] 3  6  7       5\n",
    "     1  3  -1 [-3  5  3] 6  7       5\n",
    "     1  3  -1  -3 [5  3  6] 7       6\n",
    "     1  3  -1  -3  5 [3  6  7]      7"
   ]
  },
  {
   "cell_type": "code",
   "execution_count": 1,
   "id": "fdf1be89-2fa8-4a88-9928-a8b325843b13",
   "metadata": {
    "tags": []
   },
   "outputs": [],
   "source": [
    "from __future__ import annotations"
   ]
  },
  {
   "cell_type": "markdown",
   "id": "ea489543-7eac-4574-8b3a-00e9120196c4",
   "metadata": {},
   "source": [
    "# 첫번째 내 풀이\n",
    "시간 초과 남"
   ]
  },
  {
   "cell_type": "code",
   "execution_count": 10,
   "id": "ebc041fb-4c9f-416d-9d5c-3a6f694f57ed",
   "metadata": {
    "tags": []
   },
   "outputs": [
    {
     "data": {
      "text/plain": [
       "[3, 3, 5, 5, 6, 7]"
      ]
     },
     "execution_count": 10,
     "metadata": {},
     "output_type": "execute_result"
    }
   ],
   "source": [
    "def maxSlidingWindow(nums: List[int], k: int) -> List[int]:\n",
    "    if not nums:\n",
    "        return nums\n",
    "    iter_nums = (len(nums)+1) - k\n",
    "    answer = []\n",
    "    for i in range(iter_nums):\n",
    "        answer.append(max(nums[i:k+i]))\n",
    "    return answer\n",
    "        \n",
    "maxSlidingWindow([1,3,-1,-3,5,3,6,7], 3)"
   ]
  },
  {
   "cell_type": "markdown",
   "id": "eae6622e-4c6e-4e7a-aeec-c6ecd735f91f",
   "metadata": {},
   "source": [
    "# 큐로 개선한 버젼, 리트코드 풀이\n",
    "책풀이도 시간초과 남"
   ]
  },
  {
   "cell_type": "code",
   "execution_count": 17,
   "id": "0df9864a-d932-4a93-b8b6-86d4b12274c3",
   "metadata": {
    "tags": []
   },
   "outputs": [],
   "source": [
    "from collections import deque\n",
    "\n",
    "def maxSlidingWindow(self, nums: List[int], k: int) -> List[int]:\n",
    "    '''\n",
    "    덱을 활용하여 각 슬라이딩 윈도우에서 최대값의 위치를 유지하고,\n",
    "    윈도우가 이동할 때마다 필요하지 않은 요소들을 제거하며 새 요소를 추가\n",
    "    '''\n",
    "    q = deque() # q는 슬라이딩 윈도우 내에서 최대값의 인덱스를 유지하는 데 사용.\n",
    "    output = [] # 각 슬라이딩 윈도우에서의 최대값을 output에 저장\n",
    "\n",
    "    for idx, n in enumerate(nums): # `nums` 리스트의 각 요소와 그 인덱스를 순회\n",
    "\n",
    "        while q and q[0] < idx - k + 1: # 덱의 맨 앞쪽에 있는 인덱스가 현재 윈도우에 속하지 않는 경우(윈도우 범위를 벗어난 경우) 제거\n",
    "                                        # `idx - k + 1`은 현재 윈도우의 시작 인덱스\n",
    "            q.popleft()                 # 덱의 첫 번째 요소가 이 인덱스보다 작으면,\n",
    "                                        # 그 요소는 더 이상 유효하지 않은 것으로 간주되어 덱에서 제거\n",
    "                \n",
    "        while q and n > nums[q[-1]]: # 현재 요소 `n`이 덱의 끝에 있는 요소보다 큰 경우, 덱의 끝에서부터 작은 요소들을 모두 제거\n",
    "            q.pop()                  # 이렇게 함으로써 덱의 앞쪽에는 항상 현재 윈도우에서의 최대값의 인덱스가 유지\n",
    "\n",
    "        q.append(idx)                # 현재 요소의 인덱스를 덱에 추가\n",
    "\n",
    "        if idx >= k-1:                # 최소한의 윈도우 크기(`k`)에 도달했을 때만 최대값을 `output` 리스트에 추가\n",
    "            output.append(nums[q[0]]) # 슬라이딩 윈도우의 크기가 `k`에 도달하면, 덱의 맨 앞에 있는 인덱스가 현재 윈도우의 최대값을 나타냄\n",
    "                                      # `nums[q[0]]`은 현재 윈도우의 최대값\n",
    "    return output "
   ]
  },
  {
   "cell_type": "code",
   "execution_count": null,
   "id": "9620a63a-456a-4088-b63d-214626e0c717",
   "metadata": {},
   "outputs": [],
   "source": []
  }
 ],
 "metadata": {
  "kernelspec": {
   "display_name": "Python 3 (ipykernel)",
   "language": "python",
   "name": "python3"
  },
  "language_info": {
   "codemirror_mode": {
    "name": "ipython",
    "version": 3
   },
   "file_extension": ".py",
   "mimetype": "text/x-python",
   "name": "python",
   "nbconvert_exporter": "python",
   "pygments_lexer": "ipython3",
   "version": "3.11.0"
  }
 },
 "nbformat": 4,
 "nbformat_minor": 5
}
