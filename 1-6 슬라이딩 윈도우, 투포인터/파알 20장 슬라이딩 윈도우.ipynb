{
 "cells": [
  {
   "cell_type": "markdown",
   "id": "329696d1-a229-401d-97c9-571be8406925",
   "metadata": {
    "tags": []
   },
   "source": [
    "### m: 77\n",
    "### h: 75, 76"
   ]
  },
  {
   "cell_type": "markdown",
   "id": "075ac1bd-c3aa-4004-85f3-dce97dfe5b10",
   "metadata": {},
   "source": [
    "### 크기가 큰 배열이 입력으로 올 수 있고\n",
    "### 문제 정답이 \n",
    "### 특정 숫자를 찾는 거든가\n",
    "### 특정 구간을 찾으라는 거면 \n",
    "### 투포인터/슬라이딩 윈도우 기법을 써볼수 있다. \n",
    "#### O(n^2) 의 알고리즘 대신 O(n) 알고리즘으로 끝낼 수 있다.\n",
    "\n",
    "# 슬라이딩 윈도우\n",
    "\n",
    "    정렬되지 않은 배열에\n",
    "    (포인터 두개를 사용하거나 슬라이싱으로) 고정길이 윈도우를 만들어 (또는 윈도우 사이즈가 변해가면서)\n",
    "    단방향(왼>오 / 왼<오) 으로 움직이면서 \n",
    "    특정 연산을 하는 알고리즘\n",
    "\n",
    "# 투포인터\n",
    "\n",
    "    일반적으로 정렬된 배열에\n",
    "    (포인터 두개를 사용해) \n",
    "    양방향 (왼> <오)으로 포인터를 움직이면서(i.e. 윈도우사이즈가 계속 변함)\n",
    "    특정 연산을 하는 알고리즘\n",
    "    \n",
    "\n",
    "    \n",
    "투포인터 \n",
    "\n",
    "    1. 이진검색\n",
    "    2. 이진삽입정렬\n",
    "    3. 셰이커정렬\n",
    "    4. 퀵정렬\n",
    "    \n",
    "슬라이딩 윈도우\n",
    "\n",
    "    1. 연결리스트에서 remove_last 시 ptr = self.head, pre = self.head\n",
    "    2. 문자열 검색 (브루트포스, KMP, 보이어무어) \n",
    "    3. 런너기법?\n",
    "    \n",
    "포인터 한개 사용\n",
    "\n",
    "    1. 스택에서 스택 포인터\n",
    "    2. 원형큐에서 front/rear 포인터\n",
    "    3. 연결리스트 ptr = self.head\n",
    "    4. 프리리스트 rec = self.deleted\n",
    "    5. 이진검색트리 p = self.root  \n",
    "    \n",
    "    6. 단순선택정렬\n",
    "    \n",
    "포인터 두개 사용\n",
    "\n",
    "    1. 버블정렬개선2\n",
    "    2. 단순삽입정렬\n",
    "    3. 셸정렬\n",
    "    \n",
    "포인터 여러개 사용\n",
    "    \n",
    "    1. 병합정렬 (슬라이딩 윈도우, 투포인터 다 들어가 있는 듯)\n",
    "    2. 힙정렬\n",
    "    3. 이진검색트리"
   ]
  },
  {
   "cell_type": "markdown",
   "id": "cd34ca83-530a-40c4-9124-6a41e10f4649",
   "metadata": {},
   "source": [
    "# 문77 가장 긴 반복 문자 대체 m\n",
    "https://leetcode.com/problems/longest-repeating-character-replacement/"
   ]
  },
  {
   "cell_type": "code",
   "execution_count": null,
   "id": "ff118e48-5bfd-44ee-a80e-9a99b24ed1d7",
   "metadata": {},
   "outputs": [],
   "source": [
    "You are given a string s and an integer k. \n",
    "You can choose any character of the string \n",
    "and change it to any other uppercase English character. \n",
    "You can perform this operation at most k times.\n",
    "\n",
    "Return the length of the longest substring \n",
    "containing the same letter you can get after performing the above operations.\n",
    "\n",
    "Example 1:\n",
    "\n",
    "Input: s = \"ABAB\", k = 2\n",
    "Output: 4\n",
    "Explanation: Replace the two 'A's with two 'B's or vice versa.\n",
    "\n",
    "Example 2:\n",
    "\n",
    "Input: s = \"AABABBA\", k = 1\n",
    "Output: 4\n",
    "Explanation: Replace the one 'A' in the middle with 'B' and form \"AABBBBA\".\n",
    "The substring \"BBBB\" has the longest repeating letters, which is 4.\n",
    "There may exists other ways to achieve this answer too.\n",
    " \n",
    "Constraints:\n",
    "\n",
    "1 <= s.length <= 105\n",
    "s consists of only uppercase English letters.\n",
    "0 <= k <= s.length\n",
    "\n",
    "class Solution:\n",
    "    def characterReplacement(self, s: str, k: int) -> int:\n",
    "        "
   ]
  },
  {
   "cell_type": "markdown",
   "id": "57426b1a-a085-4005-ada8-108ba26962ea",
   "metadata": {},
   "source": [
    "### chatGPT 풀이\n",
    "\n",
    "문제 해결 전략 접근 아이디어\n",
    "\n",
    "    1. 윈도우 맨왼쪽 인덱스를 참조하는 변수 left 사용\n",
    "    2. 윈도우 내에 등장한 단어들의 등장횟수를 카운트하는 딕셔너리 사용\n",
    "    3. 윈도우 내에 최다 등장한 단어 수를 참조하는 변수 사용\n",
    "    4. for문 인덱스로 윈도우 맨오른쪽 인덱스 참조하는 변수 사용\n",
    "\n",
    "    로직: left는 고정시켜두고 for문으로 문자열을 순회하면서 \n",
    "    문자들의 등장횟수를 업데이트하고, 윈도우를 늘려나가다가\n",
    "    윈도우 길이 - 최다등장단어 횟수 > 문자변경가능 횟수 k 이면\n",
    "    현재 윈도우 내에서 최다등장단어가 되도록 다른 문자를 변경했을 때\n",
    "    변경가능한 횟수를 초과하게 되므로 윈도우를 줄여야 한다.\n",
    "    이때 left인덱스가 위치한 곳의 문자 등장횟수를 딕셔너리에서 -1 차감하고\n",
    "    (왜냐하면 윈도우를 늘려나갈 때마다 \n",
    "    해당 인덱스에 위치한 문자의 등장횟수를 딕셔너리에서 +1해줬으므로)\n",
    "    윈도우 왼쪽 인덱스를 오른쪽으로 +1 옮긴다\n"
   ]
  },
  {
   "cell_type": "code",
   "execution_count": null,
   "id": "dab1b8b5-0bca-491d-87cc-b0f2669b0ccc",
   "metadata": {},
   "outputs": [],
   "source": [
    "class Solution:\n",
    "    def characterReplacement(self, s: str, k: int) -> int:\n",
    "\n",
    "        left = 0\n",
    "        count = collections.defaultdict(int)\n",
    "        max_count = 0\n",
    "        # max_length = 0\n",
    "\n",
    "        for right in range(len(s)):\n",
    "            count[s[right]] += 1\n",
    "            max_count = max(count.values()) # 이렇게 하면 매번 전체 딕셔너리를 체크하므로\n",
    "            max_count = max(max_count, count[s[right]]) \n",
    "                      # 매번 딕셔너리에 추가할 때마다 이전 최대값과만 비교해 바로 업데이트 해준다.\n",
    "            if (right - left + 1) - max_count > k:\n",
    "                count[s[left]] -= 1\n",
    "                left += 1\n",
    "            # max_length = max(max_length, right-left+1) 마지막에 이런식으로\n",
    "            # 최대 길이도 업데이트 한 다음 max_length를 리턴해도 되지만 불필요하다.\n",
    "        return right - left + 1"
   ]
  },
  {
   "cell_type": "markdown",
   "id": "4ebb867c-f6bc-40eb-937a-946f07ea00ec",
   "metadata": {
    "tags": []
   },
   "source": [
    "# 문76 부분 문자열이 포함된 최소 윈도우 h\n",
    "https://leetcode.com/problems/minimum-window-substring/"
   ]
  },
  {
   "cell_type": "code",
   "execution_count": null,
   "id": "0a7171f4-de12-4d59-8d38-0fe31b0b6e4a",
   "metadata": {},
   "outputs": [],
   "source": [
    "Given two strings s and t of lengths m and n respectively, \n",
    "return the minimum window substring of s \n",
    "such that every character in t (including duplicates) is included in the window. \n",
    "If there is no such substring, return the empty string \"\".\n",
    "\n",
    "The testcases will be generated such that the answer is unique.\n",
    "\n",
    "Example 1:\n",
    "\n",
    "Input: s = \"ADOBECODEBANC\", t = \"ABC\"\n",
    "Output: \"BANC\"\n",
    "\n",
    "Constraints:\n",
    "\n",
    "m == s.length\n",
    "n == t.length\n",
    "1 <= m, n <= 105\n",
    "s and t consist of uppercase and lowercase English letters.\n",
    "\n",
    "class Solution:\n",
    "    def minWindow(self, s: str, t: str) -> str:"
   ]
  },
  {
   "cell_type": "markdown",
   "id": "182c754d-f879-42b9-9ab3-75c545d21b77",
   "metadata": {},
   "source": [
    "문제해결 전략 접근 아이디어\n",
    "\n",
    "1. t 카운터 준비하기: \n",
    "(t문자열에 중복된 문자가 있을 수 있으므로)\n",
    "t 문자열의 각 문자가 몇 번 등장하는지 기록합니다. \n",
    "이는 윈도우가 t의 모든 문자를 포함하고 있는지 확인하는 데 필요합니다.\n",
    "\n",
    "2. 윈도우 초기화: \n",
    "두 개의 포인터, start와 end를 사용해 s 문자열을 탐색합니다. \n",
    "초기에 두 포인터는 문자열의 시작 부분에 위치합니다.\n",
    "\n",
    "3. 윈도우 확장: \n",
    "end 포인터를 오른쪽으로 이동시키며 윈도우를 확장합니다. \n",
    "\n",
    "4. 윈도우 축소: \n",
    "t의 모든 문자를, 요구하는 횟수만큼 포함하는 윈도우를 찾았다면, \n",
    "이제 start 포인터를 오른쪽으로 이동시켜 윈도우의 크기를 가능한 한 줄입니다. \n",
    "윈도우가 여전히 t의 모든 문자를 요구하는 횟수만큼 포함하고 있는 동안에만 이 작업을 수행합니다.\n",
    "\n",
    "5. 최소 윈도우 기록하기: \n",
    "윈도우를 축소하는 과정에서, \n",
    "현재 윈도우의 길이가 이전에 찾은 최소 윈도우의 길이보다 작다면, \n",
    "최소 윈도우 정보(시작 인덱스, 끝 인덱스, 윈도우 길이)를 업데이트합니다.\n",
    "\n",
    "6. 반복: end 포인터가 s 문자열의 끝에 도달할 때까지 3~5단계를 반복합니다.\n",
    "\n",
    "7. 결과 반환: \n",
    "최소 윈도우 길이와 시작 인덱스를 기반으로 부분 문자열을 반환합니다. \n",
    "만약 t의 모든 문자를 포함하는 윈도우를 찾지 못했다면, 빈 문자열 \"\"을 반환합니다."
   ]
  },
  {
   "cell_type": "code",
   "execution_count": 33,
   "id": "ddf9e255-a917-4b76-aaeb-0efa455722cc",
   "metadata": {},
   "outputs": [
    {
     "data": {
      "text/plain": [
       "'ABCA'"
      ]
     },
     "execution_count": 33,
     "metadata": {},
     "output_type": "execute_result"
    }
   ],
   "source": [
    "import collections \n",
    "def minWindow(s: str, t: str) -> str:\n",
    "    '''\n",
    "    문자열 s와 t가 주어졌을 때, t의 모든 문자가 s의 부분문자열에 들어 있을 경우 \n",
    "    가장 짧은 부분문자열을 반환하라\n",
    "    그런 부분문자열이 없다면 \"\"를 반환\n",
    "    필요한 것들\n",
    "    1. counter_t: t의 카운터\n",
    "    2. counter_w: 윈도우의 카운터\n",
    "    3. included: 윈도우 내에 t의 모든 고유한 문자가 요구되는 횟수만큼 등장했는지 추적하는 변수\n",
    "    4. 투포인터: start, end\n",
    "    5. 정답을 기록할 변수: answer\n",
    "    '''\n",
    "    if not t or not s: # 예외처리\n",
    "        return \"\"\n",
    "\n",
    "    counter_t = collections.Counter(t) # t 문자열 내 각 문자의 출현 횟수를 기록하는 딕셔너리\n",
    "    nunique_t = len(counter_t) # t 문자열 내에 있는 고유 문자의 수\n",
    "                           # 윈도우가 t의 모든 고유 문자를 포함하는지 여부를 판단하는 데 사용\n",
    "    start, end = 0, 0\n",
    "    included = 0 \n",
    "    # t에 있는 각 고유 문자가, 현재 윈도우 내에서, 요구되는 출현 횟수를 만족했을 때만 증가하는 카운터\n",
    "    # t = \"AABC\" 일 때, A가 윈도우 내에 2번 나오면 +1, B와 C가 각각 1번씩 나오면 +2\n",
    "    # 이 경우 included 의 값이 nunique_t와 같고 이는 현재 윈도우가 요구조건을 충족함을 의미\n",
    "    \n",
    "    # counter_w = {} # 현재 윈도우 내 각 문자의 출현 횟수를 기록하는 딕셔너리\n",
    "    counter_w = collections.defaultdict(int)\n",
    "    answer = float(\"inf\"), None, None  # 정답 튜플 (윈도우 크기, 시작 인덱스, 종료 인덱스)\n",
    "\n",
    "    while end < len(s):\n",
    "        \n",
    "        char = s[end]\n",
    "        \n",
    "        # counter_w[char] = counter_w.get(char, 0) + 1\n",
    "        counter_w[char] += 1  # 문자를 추출해서 윈도우 카운터에 넣고\n",
    "        \n",
    "        if counter_w[char] == counter_t[char]:\n",
    "            # 추출한 문자가, 윈도우 내에, 요구되는 출현횟수만큼 등장했다면\n",
    "            included += 1\n",
    "\n",
    "        while included == nunique_t and start <= end: \n",
    "            # 윈도우 내에, 모든 고유한 t문자가, 요구되는 출현횟수만큼 등장했다면\n",
    "            # 윈도우를 순회하며 윈도우 길이 단축 가능성 확인\n",
    "            \n",
    "            if end - start + 1 < answer[0]: # 윈도우 길이가 이전보다 줄어들었다면\n",
    "                answer = (end - start + 1, start, end) # 줄어든 윈도우 길이로 갱신\n",
    "                \n",
    "            char = s[start]\n",
    "            counter_w[char] -= 1 # 위에서 최소 윈도우 길이를 answer에 할당해놨기 때문에\n",
    "                     # 윈도우가 계속 단축가능하거나\n",
    "                     # 단축불가능하더라도 윈도우를 슬라이딩 시켜야 하므로. \n",
    "                     # 먼저 윈도우 맨왼쪽 문자를 윈도우 카운터에서 차감\n",
    "            \n",
    "            if char in counter_t and counter_w[char] < counter_t[char]:\n",
    "                # 윈도우 맨 왼쪽 문자가 t에 있었고, 윈도우 내에 요구되는 출현 횟수가 부족해졌다면\n",
    "                included -= 1\n",
    "\n",
    "            start += 1 # 윈도우 단축 또는 슬라이딩\n",
    "\n",
    "        end += 1 # 윈도우 오른쪽으로 확장\n",
    "\n",
    "    if answer[0] == float(\"inf\"):\n",
    "        return \"\"\n",
    "    else:\n",
    "        return s[answer[1]:answer[2] + 1]\n",
    "\n",
    "minWindow(\"ABCABBCABCA\", \"AABC\")"
   ]
  },
  {
   "cell_type": "code",
   "execution_count": 16,
   "id": "3918aaae-ce1b-4593-abaf-974d88f98691",
   "metadata": {},
   "outputs": [
    {
     "data": {
      "text/plain": [
       "tuple"
      ]
     },
     "execution_count": 16,
     "metadata": {},
     "output_type": "execute_result"
    }
   ],
   "source": [
    "ans = float(\"inf\"), None, None\n",
    "type(ans)"
   ]
  },
  {
   "cell_type": "code",
   "execution_count": 29,
   "id": "6c06442f-2d88-47a1-94d7-3b5e9c647ef7",
   "metadata": {},
   "outputs": [
    {
     "data": {
      "text/plain": [
       "'\\ndictionary.get(key, default=None)\\nkey: 딕셔너리에서 값을 조회하고자 하는 키입니다.\\ndefault: (선택적 인자) 키가 딕셔너리에 없을 경우 반환할 기본값입니다. \\n이 인자를 생략하면 기본값은 None입니다.\\n'"
      ]
     },
     "execution_count": 29,
     "metadata": {},
     "output_type": "execute_result"
    }
   ],
   "source": [
    "        # counter_w[char] = counter_w.get(char, 0) + 1\n",
    "        '''\n",
    "        dictionary.get(key, default=None)\n",
    "        key: 딕셔너리에서 값을 조회하고자 하는 키입니다.\n",
    "        default: (선택적 인자) 키가 딕셔너리에 없을 경우 반환할 기본값입니다. \n",
    "        이 인자를 생략하면 기본값은 None입니다.\n",
    "        '''"
   ]
  },
  {
   "cell_type": "markdown",
   "id": "930b31e4-0711-4afb-9205-ba3be55c4c06",
   "metadata": {},
   "source": [
    "# 문75 최대 슬라이딩 윈도우 h\n",
    "https://leetcode.com/problems/sliding-window-maximum/\n",
    "\n",
    "    Input: nums = [1,3,-1,-3,5,3,6,7], k = 3\n",
    "    Output: [3,3,5,5,6,7]\n",
    "    Explanation: \n",
    "    Window position                Max\n",
    "    ---------------               -----\n",
    "    [1  3  -1] -3  5  3  6  7       3\n",
    "     1 [3  -1  -3] 5  3  6  7       3\n",
    "     1  3 [-1  -3  5] 3  6  7       5\n",
    "     1  3  -1 [-3  5  3] 6  7       5\n",
    "     1  3  -1  -3 [5  3  6] 7       6\n",
    "     1  3  -1  -3  5 [3  6  7]      7"
   ]
  },
  {
   "cell_type": "code",
   "execution_count": 1,
   "id": "fdf1be89-2fa8-4a88-9928-a8b325843b13",
   "metadata": {
    "tags": []
   },
   "outputs": [],
   "source": [
    "from __future__ import annotations"
   ]
  },
  {
   "cell_type": "markdown",
   "id": "ea489543-7eac-4574-8b3a-00e9120196c4",
   "metadata": {},
   "source": [
    "# 첫번째 내 풀이\n",
    "시간 초과 남"
   ]
  },
  {
   "cell_type": "code",
   "execution_count": 10,
   "id": "ebc041fb-4c9f-416d-9d5c-3a6f694f57ed",
   "metadata": {
    "tags": []
   },
   "outputs": [
    {
     "data": {
      "text/plain": [
       "[3, 3, 5, 5, 6, 7]"
      ]
     },
     "execution_count": 10,
     "metadata": {},
     "output_type": "execute_result"
    }
   ],
   "source": [
    "def maxSlidingWindow(nums: List[int], k: int) -> List[int]:\n",
    "    if not nums:\n",
    "        return nums\n",
    "    iter_nums = (len(nums)+1) - k\n",
    "    answer = []\n",
    "    for i in range(iter_nums):\n",
    "        answer.append(max(nums[i:k+i]))\n",
    "    return answer\n",
    "        \n",
    "maxSlidingWindow([1,3,-1,-3,5,3,6,7], 3)"
   ]
  },
  {
   "cell_type": "markdown",
   "id": "eae6622e-4c6e-4e7a-aeec-c6ecd735f91f",
   "metadata": {},
   "source": [
    "# 큐로 개선한 버젼, 리트코드 풀이\n",
    "책풀이도 시간초과 남"
   ]
  },
  {
   "cell_type": "code",
   "execution_count": 17,
   "id": "0df9864a-d932-4a93-b8b6-86d4b12274c3",
   "metadata": {
    "tags": []
   },
   "outputs": [],
   "source": [
    "from collections import deque\n",
    "\n",
    "def maxSlidingWindow(self, nums: List[int], k: int) -> List[int]:\n",
    "    '''\n",
    "    덱을 활용하여 각 슬라이딩 윈도우에서 최대값의 위치를 유지하고,\n",
    "    윈도우가 이동할 때마다 필요하지 않은 요소들을 제거하며 새 요소를 추가\n",
    "    '''\n",
    "    q = deque() # q는 슬라이딩 윈도우 내에서 최대값의 인덱스를 유지하는 데 사용.\n",
    "    output = [] # 각 슬라이딩 윈도우에서의 최대값을 output에 저장\n",
    "\n",
    "    for idx, n in enumerate(nums): # `nums` 리스트의 각 요소와 그 인덱스를 순회\n",
    "\n",
    "        while q and q[0] < idx - k + 1: # 덱의 맨 앞쪽에 있는 인덱스가 현재 윈도우에 속하지 않는 경우(윈도우 범위를 벗어난 경우) 제거\n",
    "                                        # `idx - k + 1`은 현재 윈도우의 시작 인덱스\n",
    "            q.popleft()                 # 덱의 첫 번째 요소가 이 인덱스보다 작으면,\n",
    "                                        # 그 요소는 더 이상 유효하지 않은 것으로 간주되어 덱에서 제거\n",
    "                \n",
    "        while q and n > nums[q[-1]]: # 현재 요소 `n`이 덱의 끝에 있는 요소보다 큰 경우, 덱의 끝에서부터 작은 요소들을 모두 제거\n",
    "            q.pop()                  # 이렇게 함으로써 덱의 앞쪽에는 항상 현재 윈도우에서의 최대값의 인덱스가 유지\n",
    "\n",
    "        q.append(idx)                # 현재 요소의 인덱스를 덱에 추가\n",
    "\n",
    "        if idx >= k-1:                # 최소한의 윈도우 크기(`k`)에 도달했을 때만 최대값을 `output` 리스트에 추가\n",
    "            output.append(nums[q[0]]) # 슬라이딩 윈도우의 크기가 `k`에 도달하면, 덱의 맨 앞에 있는 인덱스가 현재 윈도우의 최대값을 나타냄\n",
    "                                      # `nums[q[0]]`은 현재 윈도우의 최대값\n",
    "    return output "
   ]
  },
  {
   "cell_type": "code",
   "execution_count": null,
   "id": "9620a63a-456a-4088-b63d-214626e0c717",
   "metadata": {},
   "outputs": [],
   "source": []
  }
 ],
 "metadata": {
  "kernelspec": {
   "display_name": "Python 3 (ipykernel)",
   "language": "python",
   "name": "python3"
  },
  "language_info": {
   "codemirror_mode": {
    "name": "ipython",
    "version": 3
   },
   "file_extension": ".py",
   "mimetype": "text/x-python",
   "name": "python",
   "nbconvert_exporter": "python",
   "pygments_lexer": "ipython3",
   "version": "3.11.0"
  }
 },
 "nbformat": 4,
 "nbformat_minor": 5
}
