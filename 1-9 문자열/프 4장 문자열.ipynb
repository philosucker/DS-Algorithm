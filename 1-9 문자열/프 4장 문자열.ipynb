{
 "cells": [
  {
   "cell_type": "markdown",
   "id": "efd3c90c-a0b8-429b-a251-382876fddc25",
   "metadata": {},
   "source": [
    "### e: 6, 7, 14, 15, 11, 13\n",
    "### m: 8, 9, 10, 12"
   ]
  },
  {
   "cell_type": "markdown",
   "id": "32b96dff-a8b3-4180-84c3-575c50334e0a",
   "metadata": {},
   "source": [
    "# 4장 문자열"
   ]
  },
  {
   "cell_type": "markdown",
   "id": "0c7bfd70-80e5-47b8-9770-8e7e94f9d057",
   "metadata": {},
   "source": [
    "**파이썬에서 문자열은 immutable 이다.**  \n",
    "\n",
    "    따라서 문자열을 + 연산자로 합치면 \n",
    "    상수 + 상수 = 새로운 상수\n",
    "    가 되어, + 연산자로 문자열을 합칠 때마다 새로운 상수가 생겨난다\n",
    "    \n",
    "**그런데 리스트는 mutable 이다**\n",
    "\n",
    "    따라서 문자열을 원소로 가진 리스트에\n",
    "    join() 함수를 써서 새로운 문자열로 합치는 방식은\n",
    "    리스트를 직접 수정하는 방식이므로 \n",
    "    문자열 + 문자열 방식보다 빠르다.\n",
    "\n",
    "        문자열을 원소로하는 리스트를 만들어 .join()을 쓰는게 \n",
    "        문자열을 바로 더하는것보다 \n",
    "        2배 정도 더 빨랐다.\n",
    "[참고](https://colab.research.google.com/drive/170CoV0iKyjSwrA5QrwtRiWqQZ6gTgAtj?hl=ko#scrollTo=zL4cFMAjQpZq)"
   ]
  },
  {
   "cell_type": "markdown",
   "id": "f2b6ef3c-7e5b-47a3-a680-d9e76a4a7c28",
   "metadata": {
    "tags": []
   },
   "source": [
    " 투포인터 스왑"
   ]
  },
  {
   "cell_type": "code",
   "execution_count": null,
   "id": "02580b60-3466-424d-af0b-0815c21203d3",
   "metadata": {},
   "outputs": [],
   "source": [
    "example = [\"ㄱ\", \"ㄴ\", \"ㄷ\", \"ㄹ\", \"ㅁ\", \"ㅂ\"]"
   ]
  },
  {
   "cell_type": "code",
   "execution_count": null,
   "id": "71940cec-801c-4bae-84cb-7edffa7710f7",
   "metadata": {},
   "outputs": [],
   "source": [
    "def reverse_string(s: List[str]) -> None:\n",
    "    left, right = 0, len(s)-1\n",
    "    while left < right:\n",
    "        s[left], s[right] = s[right], s[left]\n",
    "        print(s)\n",
    "        left += 1\n",
    "        right -= 1"
   ]
  },
  {
   "cell_type": "code",
   "execution_count": null,
   "id": "225502b7-4e84-4186-ae49-0ceed4a3d155",
   "metadata": {},
   "outputs": [],
   "source": [
    "reverse_string(example)"
   ]
  },
  {
   "cell_type": "markdown",
   "id": "cf65486d-c7a9-4ea9-aa55-bb8fb956e6df",
   "metadata": {
    "tags": []
   },
   "source": [
    "# 문6 [시저암호](https://school.programmers.co.kr/learn/courses/30/lessons/12926?language=python3) e"
   ]
  },
  {
   "cell_type": "markdown",
   "id": "ff413357-6c90-45a8-a797-0a06a0bdfd07",
   "metadata": {},
   "source": [
    "### 내 풀이"
   ]
  },
  {
   "cell_type": "code",
   "execution_count": 166,
   "id": "b78e8333-32c7-40a1-8c99-09ec0c8a00f3",
   "metadata": {
    "tags": []
   },
   "outputs": [],
   "source": [
    "def caesar(s: str, n: int) -> str:\n",
    "    \"\"\" 공백을 포함한 알파벳으로 이뤄진 문자열s를 입력받아 \n",
    "    각 알파벳 순서상 n만큼 밀린 위치의 알파벳으로 바뀐 문자열을 반환하는 함수.\n",
    "    \n",
    "    joined_strs : 입력받은 문자열을 공백을 포함해 소문자로 바꾼 문자열.\n",
    "    alpha_idx, idx_alpha :알파벳 25자를 순서대로 인덱스로 가지는 딕셔너리.\n",
    "    caesar_list : 밀린 길이 n만큼 바뀐 인덱스에 해당하는 알파벳값을 찾아 추가한 리스트.\n",
    "    answer_list : 원본 문자열과 caesar_list를 활용해 공백과 암호를 추가한 리스트.\n",
    "    \"\"\"\n",
    "    \n",
    "    splited_strs = s.split(\" \")\n",
    "    joined_strs = \"\".join(splited_strs).lower()\n",
    "\n",
    "    alphabet = \"abcdefghijklmnopqrstuvwxyz\"\n",
    "    alpha_idx = {}\n",
    "    idx_alpha ={}\n",
    "    for idx, alpha in enumerate(alphabet):\n",
    "        idx_alpha[idx] = alpha\n",
    "\n",
    "    for idx, alpha in enumerate(alphabet):\n",
    "        alpha_idx[alpha] = idx\n",
    "\n",
    "    idx_list = []\n",
    "    for alpha in joined_strs:\n",
    "        n_idx = alpha_idx[alpha] + n\n",
    "        if n_idx > 25:\n",
    "            n_idx = n_idx % 26\n",
    "\n",
    "        idx_list.append(n_idx)\n",
    "\n",
    "    caesar_list = []\n",
    "    for n_idx in idx_list:\n",
    "        caesar_list.append(idx_alpha[n_idx])\n",
    "\n",
    "    answer_list = []\n",
    "    for char in s:\n",
    "        if char.isspace():\n",
    "            answer_list.append(\" \")\n",
    "        elif char.islower():\n",
    "            answer_list.append(caesar_list.pop(0))\n",
    "        elif char.isupper():\n",
    "            answer_list.append(caesar_list.pop(0).upper())\n",
    "\n",
    "    answer = \"\".join(answer_list)\n",
    "\n",
    "    return answer"
   ]
  },
  {
   "cell_type": "markdown",
   "id": "f7eecabd-b023-4171-a7dd-c58b653f0209",
   "metadata": {},
   "source": [
    "    테스트 1 〉\t통과 (0.02ms, 10.3MB)\n",
    "    테스트 2 〉\t통과 (0.02ms, 10.4MB)\n",
    "    테스트 3 〉\t통과 (0.02ms, 10.3MB)\n",
    "    테스트 4 〉\t통과 (0.03ms, 10.2MB)\n",
    "    테스트 5 〉\t통과 (0.03ms, 10.2MB)\n",
    "    테스트 6 〉\t통과 (0.03ms, 10.3MB)\n",
    "    테스트 7 〉\t통과 (0.02ms, 10.2MB)\n",
    "    테스트 8 〉\t통과 (0.02ms, 10.4MB)\n",
    "    테스트 9 〉\t통과 (0.03ms, 10.2MB)\n",
    "    테스트 10 〉\t통과 (0.02ms, 10.3MB)\n",
    "    테스트 11 〉\t통과 (0.05ms, 10.2MB)\n",
    "    테스트 12 〉\t통과 (0.04ms, 10.2MB)\n",
    "    테스트 13 〉\t통과 (4.12ms, 10.3MB)"
   ]
  },
  {
   "cell_type": "markdown",
   "id": "86511543-4617-44ad-924f-945bad29bcfb",
   "metadata": {},
   "source": [
    "### 내 풀이 개선"
   ]
  },
  {
   "cell_type": "code",
   "execution_count": 5,
   "id": "bed496b3-d038-456e-a423-0300f03bad18",
   "metadata": {
    "tags": []
   },
   "outputs": [],
   "source": [
    "def caesar(s: str, n: int) -> str:\n",
    "    alphabet = \"abcdefghijklmnopqrstuvwxyz\"\n",
    "    alpha_idx = {char: idx for idx, char in enumerate(alphabet)}\n",
    "\n",
    "    answer_list = []\n",
    "    for char in s:\n",
    "        if char.isspace():\n",
    "            answer_list.append(\" \")\n",
    "        elif char.islower():\n",
    "            n_idx = (alpha_idx[char] + n) % 26\n",
    "            answer_list.append(alphabet[n_idx])\n",
    "        elif char.isupper():\n",
    "            n_idx = (alpha_idx[char.lower()] + n) % 26\n",
    "            answer_list.append(alphabet[n_idx].upper())\n",
    "\n",
    "    return \"\".join(answer_list)"
   ]
  },
  {
   "cell_type": "markdown",
   "id": "ef4405f2-7f6f-4848-95e3-65ec3e4c4478",
   "metadata": {},
   "source": [
    "    테스트 1 〉\t통과 (0.01ms, 10.1MB)\n",
    "    테스트 2 〉\t통과 (0.02ms, 10.2MB)\n",
    "    테스트 3 〉\t통과 (0.01ms, 10.2MB)\n",
    "    테스트 4 〉\t통과 (0.01ms, 10.2MB)\n",
    "    테스트 5 〉\t통과 (0.01ms, 10.1MB)\n",
    "    테스트 6 〉\t통과 (0.02ms, 10.1MB)\n",
    "    테스트 7 〉\t통과 (0.02ms, 10.2MB)\n",
    "    테스트 8 〉\t통과 (0.01ms, 10.1MB)\n",
    "    테스트 9 〉\t통과 (0.02ms, 10.3MB)\n",
    "    테스트 10 〉\t통과 (0.01ms, 10.3MB)\n",
    "    테스트 11 〉\t통과 (0.03ms, 10.2MB)\n",
    "    테스트 12 〉\t통과 (0.03ms, 10.1MB)\n",
    "    테스트 13 〉\t통과 (2.02ms, 10.2MB)"
   ]
  },
  {
   "cell_type": "markdown",
   "id": "e98ae7d2-3648-4d0e-b51d-9b8ec4266afd",
   "metadata": {},
   "source": [
    "### 책 풀이"
   ]
  },
  {
   "cell_type": "code",
   "execution_count": null,
   "id": "e8baa950-45d1-4f77-9269-29a6104aa746",
   "metadata": {},
   "outputs": [],
   "source": [
    "def solution(s, n):\n",
    "    \"\"\"문자열을 입력받아 리스트로 변환한 후, 리스트 길이 만큼 반복문을 돌리면서\n",
    "    리스트 자체를 수정하는 방식으로 리스트 각 원소를 알파벳 순서상 n만큼 떨어진 알파벳으로 바꾼 암호를 반환.\n",
    "    \n",
    "    corr : 현재 주목하는 알파벳이 대문자일 경우 corr을 ord('A') = 65에 바인딩, 소문자일 경우 ord('a') = 97에 바인딩\n",
    "    알파벳을 숫자로 바꿔주기 위해 아스키 변환 코드를 적용한 변수\n",
    "    s[i] : 알파벳 길이는 고정되어 있으므로, \n",
    "    현재 주목하는 알파벳의 서수에 n만큼 밀린 값에 알파벳 전체 길이를 나눠준 나머지를 사용하면\n",
    "    n만큼 밀렸을 때의 알파벳 서수를 구할 수 있다.\n",
    "    알파벳을 아스키 넘버로 바꿔서 사용하므로, 알파벳 순서상 n만큼 밀린 값의 아스키 넘버를 구하려면\n",
    "    소문자, 대문자 첫 알파벳인 a, A의 아스키 넘버를 corr에 바인딩 한후,\n",
    "    corr 값을 일단 뺀 후 n만큼 밀린 알파벳 서수를 구한후 다시 corr을 더해줌으로써\n",
    "    구하고자 하는 값을 구할 수 있다.\n",
    "    \"\"\"\n",
    "    s = list(s)\n",
    "    for i in range(len(s)):\n",
    "        if s[i] == ' ':continue\n",
    "        corr = ord('A') if s[i].isupper() else ord('a')\n",
    "        s[i] = chr((ord(s[i]) - corr + n) % 26 + corr)\n",
    "        \n",
    "    return ''.join(s)"
   ]
  },
  {
   "cell_type": "markdown",
   "id": "8469c32d-607c-480b-9f3a-83c1c36ad2ce",
   "metadata": {},
   "source": [
    "    테스트 1 〉\t통과 (0.01ms, 10.1MB)\n",
    "    테스트 2 〉\t통과 (0.01ms, 10.3MB)\n",
    "    테스트 3 〉\t통과 (0.01ms, 10.2MB)\n",
    "    테스트 4 〉\t통과 (0.01ms, 10.1MB)\n",
    "    테스트 5 〉\t통과 (0.01ms, 10.2MB)\n",
    "    테스트 6 〉\t통과 (0.01ms, 10.2MB)\n",
    "    테스트 7 〉\t통과 (0.02ms, 10.1MB)\n",
    "    테스트 8 〉\t통과 (0.01ms, 10.1MB)\n",
    "    테스트 9 〉\t통과 (0.02ms, 10.1MB)\n",
    "    테스트 10 〉\t통과 (0.01ms, 10.2MB)\n",
    "    테스트 11 〉\t통과 (0.02ms, 10.2MB)\n",
    "    테스트 12 〉\t통과 (0.02ms, 10.3MB)\n",
    "    테스트 13 〉\t통과 (1.98ms, 10.2MB)"
   ]
  },
  {
   "cell_type": "code",
   "execution_count": 1,
   "id": "31a25a28-b10d-4f1e-88f0-91da9b62357b",
   "metadata": {
    "tags": []
   },
   "outputs": [
    {
     "data": {
      "text/plain": [
       "65"
      ]
     },
     "execution_count": 1,
     "metadata": {},
     "output_type": "execute_result"
    }
   ],
   "source": [
    "ord('A')"
   ]
  },
  {
   "cell_type": "code",
   "execution_count": 4,
   "id": "9fb048d1-e244-4c78-841a-031f8b2b1f43",
   "metadata": {
    "tags": []
   },
   "outputs": [
    {
     "data": {
      "text/plain": [
       "'A'"
      ]
     },
     "execution_count": 4,
     "metadata": {},
     "output_type": "execute_result"
    }
   ],
   "source": [
    "chr(65)"
   ]
  },
  {
   "cell_type": "code",
   "execution_count": 11,
   "id": "ea16aa04-1c0d-43e4-bd8f-9744d1e0c8a4",
   "metadata": {
    "tags": []
   },
   "outputs": [
    {
     "data": {
      "text/plain": [
       "97"
      ]
     },
     "execution_count": 11,
     "metadata": {},
     "output_type": "execute_result"
    }
   ],
   "source": [
    "ord('a')"
   ]
  },
  {
   "cell_type": "code",
   "execution_count": 21,
   "id": "ad7e5f76-a9de-4f09-b619-0bc14e0c5501",
   "metadata": {
    "tags": []
   },
   "outputs": [
    {
     "name": "stdout",
     "output_type": "stream",
     "text": [
      "corr : 97\n",
      "ord(s[i]) : 97\n",
      "ord(s[i]) - corr + 4 : 4\n",
      "(ord(s[i]) - corr + 4) % 26 : 4\n",
      "(ord(s[i]) - corr + 4) % 26 + corr : 101\n",
      "s[i] : e\n",
      "\n",
      "corr : 65\n",
      "ord(s[i]) : 66\n",
      "ord(s[i]) - corr + 4 : 5\n",
      "(ord(s[i]) - corr + 4) % 26 : 5\n",
      "(ord(s[i]) - corr + 4) % 26 + corr : 70\n",
      "s[i] : F\n",
      "\n",
      "corr : 97\n",
      "ord(s[i]) : 122\n",
      "ord(s[i]) - corr + 4 : 29\n",
      "(ord(s[i]) - corr + 4) % 26 : 3\n",
      "(ord(s[i]) - corr + 4) % 26 + corr : 100\n",
      "s[i] : d\n",
      "\n"
     ]
    }
   ],
   "source": [
    "s = list(\"a B z\")\n",
    "\n",
    "for i in range(len(s)):\n",
    "    if s[i] == ' ':continue\n",
    "    corr = ord('A') if s[i].isupper() else ord('a')\n",
    "    print(f'corr : {corr}')\n",
    "    print(f'ord(s[i]) : {ord(s[i])}')\n",
    "    print(f'ord(s[i]) - corr + 4 : {ord(s[i]) - corr + 4}')\n",
    "    print(f'(ord(s[i]) - corr + 4) % 26 : {(ord(s[i]) - corr + 4) % 26}')\n",
    "    print(f'(ord(s[i]) - corr + 4) % 26 + corr : {(ord(s[i]) - corr + 4) % 26 + corr}')\n",
    "    s[i] = chr((ord(s[i]) - corr + 4) % 26 + corr)\n",
    "    print(f's[i] : {s[i]}')\n",
    "    print()\n"
   ]
  },
  {
   "cell_type": "code",
   "execution_count": 22,
   "id": "9b17965d-aa58-41fb-85f0-3db1e0b8a917",
   "metadata": {
    "tags": []
   },
   "outputs": [
    {
     "name": "stdout",
     "output_type": "stream",
     "text": [
      "corr : 97\n",
      "ord(s[i]) : 101\n",
      "ord(s[i]) + 4 : 105\n",
      "(ord(s[i]) + 4) % 26 : 1\n",
      "(ord(s[i]) + 4) % 26 + corr : 98\n",
      "s[i] : \u0001\n",
      "\n",
      "corr : 65\n",
      "ord(s[i]) : 70\n",
      "ord(s[i]) + 4 : 74\n",
      "(ord(s[i]) + 4) % 26 : 22\n",
      "(ord(s[i]) + 4) % 26 + corr : 87\n",
      "s[i] : \u0016\n",
      "\n",
      "corr : 97\n",
      "ord(s[i]) : 100\n",
      "ord(s[i]) + 4 : 104\n",
      "(ord(s[i]) + 4) % 26 : 0\n",
      "(ord(s[i]) + 4) % 26 + corr : 97\n",
      "s[i] : \u0000\n",
      "\n"
     ]
    }
   ],
   "source": [
    "for i in range(len(s)):\n",
    "    if s[i] == ' ':continue\n",
    "    corr = ord('A') if s[i].isupper() else ord('a')\n",
    "    print(f'corr : {corr}')\n",
    "    print(f'ord(s[i]) : {ord(s[i])}')\n",
    "    print(f'ord(s[i]) + 4 : {ord(s[i]) + 4}')\n",
    "    print(f'(ord(s[i]) + 4) % 26 : {(ord(s[i]) + 4) % 26}')\n",
    "    print(f'(ord(s[i]) + 4) % 26 + corr : {(ord(s[i]) + 4) % 26 + corr}')\n",
    "    s[i] = chr((ord(s[i]) + 4) % 26)\n",
    "    print(f's[i] : {s[i]}')\n",
    "    print()"
   ]
  },
  {
   "cell_type": "markdown",
   "id": "ab11cd4b-dff7-4c07-8899-9c04a0059ffa",
   "metadata": {},
   "source": [
    "# 문7 [이상한 문자 만들기](https://school.programmers.co.kr/learn/courses/30/lessons/12930) e"
   ]
  },
  {
   "cell_type": "markdown",
   "id": "83c298de-bfeb-4f08-b8fb-5c85b3462c50",
   "metadata": {},
   "source": [
    "### 내 풀이"
   ]
  },
  {
   "cell_type": "code",
   "execution_count": 50,
   "id": "00468ae3-eb5a-42f5-beee-6d76cfe70d58",
   "metadata": {
    "tags": []
   },
   "outputs": [],
   "source": [
    "def odd_word(s: str) -> str:\n",
    "    \"\"\"공백 기준으로 나뉜 영어 단어들로 이뤄진 문자열을 입력 받아, 각 단어들의 짝수번째 문자는 대문자로\n",
    "    홀수번째 문자는 소문자로 (단 첫번째 문자는 대문자로) 변환해 반환하는 함수\n",
    "    \n",
    "    word_list : 공백 기준으로 단어들을 split한 리스트\n",
    "    answer_list1 : enumerate를 써서\n",
    "        각 단어들에 대해 첫번째 그리고 짝수번째 문자는 대문자로, 홀수번째 문자는 소문자로 변환한 뒤 추가한 리스트\n",
    "    answer_list2 : answer_list1을 문자열로 변환한 temp_answer를 원소로 추가한 리스트\n",
    "    answer : answer_list2를 공백을 기준으로 다시 문자열로 변환한 값\n",
    "    \"\"\"\n",
    "    \n",
    "    \n",
    "    word_list = s.split(\" \")\n",
    "    answer_list2 = []\n",
    "    for word in word_list:\n",
    "        answer_list1 = []\n",
    "        for idx, char in enumerate(word.lower()):\n",
    "            if idx % 2 == 0:\n",
    "                answer_list1.append(char.upper())\n",
    "            else:\n",
    "                answer_list1.append(char)\n",
    "        temp_answer = \"\".join(answer_list1)\n",
    "        answer_list2.append(temp_answer)\n",
    "\n",
    "    answer = \" \".join(answer_list2)\n",
    "\n",
    "    return answer       "
   ]
  },
  {
   "cell_type": "markdown",
   "id": "39a6eeaf-eeb6-4faf-b852-15b904d087f6",
   "metadata": {},
   "source": [
    "    테스트 1 〉\t통과 (0.02ms, 10.2MB)\n",
    "    테스트 2 〉\t통과 (0.01ms, 10.1MB)\n",
    "    테스트 3 〉\t통과 (0.01ms, 10.1MB)\n",
    "    테스트 4 〉\t통과 (0.04ms, 10.1MB)\n",
    "    테스트 5 〉\t통과 (0.02ms, 10.2MB)\n",
    "    테스트 6 〉\t통과 (0.01ms, 10.1MB)\n",
    "    테스트 7 〉\t통과 (0.01ms, 10.1MB)\n",
    "    테스트 8 〉\t통과 (0.04ms, 10.3MB)\n",
    "    테스트 9 〉\t통과 (0.02ms, 10.1MB)\n",
    "    테스트 10 〉\t통과 (0.04ms, 10.1MB)\n",
    "    테스트 11 〉\t통과 (0.05ms, 10.1MB)\n",
    "    테스트 12 〉\t통과 (0.03ms, 10.2MB)\n",
    "    테스트 13 〉\t통과 (0.02ms, 10.1MB)\n",
    "    테스트 14 〉\t통과 (0.01ms, 10.1MB)\n",
    "    테스트 15 〉\t통과 (0.02ms, 10.1MB)\n",
    "    테스트 16 〉\t통과 (0.02ms, 10.2MB)"
   ]
  },
  {
   "cell_type": "code",
   "execution_count": 31,
   "id": "a14adfff-e607-4931-af5f-fc07977d7258",
   "metadata": {
    "tags": []
   },
   "outputs": [
    {
     "data": {
      "text/plain": [
       "'   TrY HeLlO      WoRlD  E  '"
      ]
     },
     "execution_count": 31,
     "metadata": {},
     "output_type": "execute_result"
    }
   ],
   "source": [
    "odd_word(\"   try hello      world  e  \")"
   ]
  },
  {
   "cell_type": "code",
   "execution_count": 32,
   "id": "d498a6f2-6468-47e4-b479-921cf16495e1",
   "metadata": {},
   "outputs": [],
   "source": [
    "s = \"   try hello      world  e  \""
   ]
  },
  {
   "cell_type": "code",
   "execution_count": 34,
   "id": "fbb92856-d781-495f-898a-6115fba9c23a",
   "metadata": {
    "tags": []
   },
   "outputs": [
    {
     "name": "stdout",
     "output_type": "stream",
     "text": [
      "[]\n",
      "[]\n",
      "[]\n",
      "['T', 'r', 'Y']\n",
      "['H', 'e', 'L', 'l', 'O']\n",
      "[]\n",
      "[]\n",
      "[]\n",
      "[]\n",
      "[]\n",
      "['W', 'o', 'R', 'l', 'D']\n",
      "[]\n",
      "['E']\n",
      "[]\n",
      "[]\n",
      "['', '', '', 'try', 'hello', '', '', '', '', '', 'world', '', 'e', '', '']\n"
     ]
    }
   ],
   "source": [
    "word_list = s.split(\" \")\n",
    "answer_list2 = []\n",
    "for word in word_list:\n",
    "    answer_list1 = []\n",
    "    for idx, char in enumerate(word.lower()):\n",
    "        if idx % 2 == 0:\n",
    "            answer_list1.append(char.upper())\n",
    "        else:\n",
    "            answer_list1.append(char)\n",
    "    print(answer_list1)\n",
    "    temp_answer = \"\".join(answer_list1)\n",
    "    answer_list2.append(temp_answer)\n",
    "\n",
    "answer = \" \".join(answer_list2)\n",
    "\n",
    "word_list = s.split(\" \")\n",
    "print(word_list)"
   ]
  },
  {
   "cell_type": "markdown",
   "id": "157ed611-3160-4327-a4b6-42eb5ebef8ba",
   "metadata": {},
   "source": [
    "### 시행착오\n",
    "테스트케이스에서 실패가 계속 뜸"
   ]
  },
  {
   "cell_type": "markdown",
   "id": "264f6cda-5202-4ccd-b0fe-3d8a269f0ebd",
   "metadata": {},
   "source": [
    "**맨 처음 코드를 짰을 땐, word_list를 그냥  split() 을 써서 받게 함**\n",
    "\n",
    "    split() 과 split(\" \")은 차이가 있음  \n",
    "\n",
    "        둘다 공백 기준으로 split 하지만\"\n",
    "        split()의 경우 공백이 연속으로 있으면 단일 공백으로 간주\n",
    "        split(\" \") 이렇게 공백을 구분자로 지정해주면 공백 하나하나가 체크됨\n",
    "        \n",
    "[참고](https://docs.python.org/ko/3/library/stdtypes.html?highlight=split#str.split)\n",
    "\n"
   ]
  },
  {
   "cell_type": "code",
   "execution_count": 47,
   "id": "d60eed91-caad-4d31-b20c-255cd2634866",
   "metadata": {
    "tags": []
   },
   "outputs": [],
   "source": [
    "def odd_word(s: str) -> str:\n",
    "    \n",
    "    word_list = s.split()  \n",
    "    answer_list2 = []\n",
    "    for word in word_list:\n",
    "        answer_list1 = []\n",
    "        for idx, char in enumerate(word.lower()):\n",
    "            if idx % 2 == 0:\n",
    "                answer_list1.append(char.upper())\n",
    "            else:\n",
    "                answer_list1.append(char)\n",
    "        temp_answer = \"\".join(answer_list1)\n",
    "        answer_list2.append(temp_answer)\n",
    "\n",
    "    answer = \" \".join(answer_list2)\n",
    "\n",
    "    return answer       "
   ]
  },
  {
   "cell_type": "code",
   "execution_count": 48,
   "id": "7be5e350-2627-4b9e-8574-b415ca0edf2a",
   "metadata": {
    "tags": []
   },
   "outputs": [
    {
     "data": {
      "text/plain": [
       "'TrY HeLlO WoRlD'"
      ]
     },
     "execution_count": 48,
     "metadata": {},
     "output_type": "execute_result"
    }
   ],
   "source": [
    "odd_word(\"try hello world\") # 정답을 출력하는 것처럼 보이지만"
   ]
  },
  {
   "cell_type": "code",
   "execution_count": 49,
   "id": "b23469b9-6331-4918-ac51-84ad29c48047",
   "metadata": {
    "tags": []
   },
   "outputs": [
    {
     "data": {
      "text/plain": [
       "'TrY HeLlO WoRlD E'"
      ]
     },
     "execution_count": 49,
     "metadata": {},
     "output_type": "execute_result"
    }
   ],
   "source": [
    "s = \"   try hello      world  e  \" # 각 단어에 공백이 있을 경우 오답 출력\n",
    "odd_word(s)"
   ]
  },
  {
   "cell_type": "code",
   "execution_count": 51,
   "id": "e03d5b8b-96a0-45bb-8c01-71e2bc3bd7fc",
   "metadata": {
    "tags": []
   },
   "outputs": [
    {
     "data": {
      "text/plain": [
       "'   TrY HeLlO      WoRlD  E  '"
      ]
     },
     "execution_count": 51,
     "metadata": {},
     "output_type": "execute_result"
    }
   ],
   "source": [
    "odd_word(s) # 아래와 같이 출력돼야 함"
   ]
  },
  {
   "cell_type": "markdown",
   "id": "ed77040d-370f-4106-a5f8-6d021aa4fbfe",
   "metadata": {},
   "source": [
    "### 책 풀이"
   ]
  },
  {
   "cell_type": "code",
   "execution_count": 56,
   "id": "f8e7bf09-099a-44ce-940c-5586f6f6c401",
   "metadata": {
    "tags": []
   },
   "outputs": [],
   "source": [
    "def solution(s):\n",
    "    \"\"\" 문자열을 입력받아 리스트로 변환한 후, \n",
    "    문자열 내에서 공백을 만나면 건너뛰고\n",
    "    카운터 변수를 써서\n",
    "    짝수번째(첫번째 포함) 단어는 대문자로, 홀수번째 단어는 소문자로 바꾼 후 \n",
    "    카운터 변수를 increment 하여 \n",
    "    반복문을 돌 때마다 조건문 header가 짝수번째, 홀수번째 순서를 자동으로 번갈아 참이 되게끔 하여\n",
    "    원하는 문자열을 반환하는 함수\n",
    "    \n",
    "    cnt : 카운터 변수\n",
    "    \"\"\"\n",
    "    s = list(s)\n",
    "    cnt = 0\n",
    "    for i in range(len(s)):\n",
    "        if s[i] == ' ':\n",
    "            cnt = 0\n",
    "            continue\n",
    "        s[i] = s[i].upper() if cnt % 2 == 0 else s[i].lower()\n",
    "        cnt += 1\n",
    "    return ''.join(s)"
   ]
  },
  {
   "cell_type": "code",
   "execution_count": 264,
   "id": "247ad6ca-8a13-48d6-9468-3e6632036694",
   "metadata": {
    "tags": []
   },
   "outputs": [
    {
     "data": {
      "text/plain": [
       "'TrY HeLlO    WoRlD    '"
      ]
     },
     "execution_count": 264,
     "metadata": {},
     "output_type": "execute_result"
    }
   ],
   "source": [
    "solution(\"try hello    world    \")"
   ]
  },
  {
   "cell_type": "code",
   "execution_count": 14,
   "id": "5cfebfdd-b411-4adf-833b-ae62e0bbd0ca",
   "metadata": {},
   "outputs": [
    {
     "data": {
      "text/plain": [
       "'   TrY HeLlO      WoRlD  E  '"
      ]
     },
     "execution_count": 14,
     "metadata": {},
     "output_type": "execute_result"
    }
   ],
   "source": [
    "solution(\"   try hello      world  e  \")"
   ]
  },
  {
   "cell_type": "markdown",
   "id": "925acdd5-2040-4b58-8a0a-a6fd4916c3ba",
   "metadata": {
    "tags": []
   },
   "source": [
    "## 문7의 핵심\n",
    "\n",
    "#### 1. 단어들이 내부에 공백을 포함하거나 단어앞 또는 단어뒤에 공백을 포함했을 수 있다는 점을 고려해야 함\n",
    "\n",
    "#### 2. 입출력 예시에서 하나의 공백을 기준으로 단어들이 나눠져 있기 때문에\n",
    "    단어 사이에 여러 개의 공백이 있을 경우, \n",
    "    어느 공백을 기준으로 삼아서 풀어야 할까 라는 생각에 빠지게 되면\n",
    "    문제 풀이 전략이 매우 어려워짐.\n",
    "\n",
    "약간 문제 워딩과 예시가 교묘한, 더러운 문제라고 생각 됨"
   ]
  },
  {
   "cell_type": "markdown",
   "id": "0fa40b7b-a59f-4dcd-acee-4e369677792b",
   "metadata": {},
   "source": [
    "# 문6과 문7의 공통패턴\n",
    "\n",
    "이뮤터블인 문자열을  \n",
    "  \n",
    "  뮤터블인 리스트로 바꿔서 해결하려는 전략을 공통적으로 사용.  \n",
    "\n"
   ]
  },
  {
   "cell_type": "markdown",
   "id": "f03f1f08-dccf-4c66-8d7c-d124bed71ad5",
   "metadata": {},
   "source": [
    "# 문14 문자열 다루기 기본 e\n",
    "https://programmers.co.kr/learn/courses/30/lessons/12918"
   ]
  },
  {
   "cell_type": "code",
   "execution_count": null,
   "id": "68a78f7e-db76-47fd-9469-1762250f6ff8",
   "metadata": {},
   "outputs": [],
   "source": [
    "문자열 s의 길이가 4 혹은 6이고, 숫자로만 구성돼있는지 확인해주는 함수, solution을 완성하세요. \n",
    "예를 들어 s가 \"a234\"이면 False를 리턴하고 \"1234\"라면 True를 리턴하면 됩니다.\n",
    "\n",
    "제한 사항\n",
    "s는 길이 1 이상, 길이 8 이하인 문자열입니다.\n",
    "s는 영문 알파벳 대소문자 또는 0부터 9까지 숫자로 이루어져 있습니다."
   ]
  },
  {
   "cell_type": "markdown",
   "id": "c7e108c4-d315-4170-b502-bc6c62d0d083",
   "metadata": {},
   "source": [
    "#### 내 풀이"
   ]
  },
  {
   "cell_type": "code",
   "execution_count": 13,
   "id": "ea14a69d-b511-4964-98f3-86bb6243e272",
   "metadata": {
    "tags": []
   },
   "outputs": [],
   "source": [
    "def solution(s):\n",
    "    # if s.isdecimal() and (len(s) == 4 or len(s) == 6):\n",
    "    # if s.isdigit() and (len(s) == 4 or len(s) == 6):\n",
    "    if s.isnumeric() and (len(s) == 4 or len(s) == 6):\n",
    "        return True\n",
    "    else: \n",
    "        return False"
   ]
  },
  {
   "cell_type": "markdown",
   "id": "fb4a9516-aa47-42fd-88d4-5aa05b72a7d5",
   "metadata": {},
   "source": [
    "\n",
    "### .isdecimal()\n",
    "문자열이 십진수로만 구성되어 있을 때 True를 반환합니다.  \n",
    "이 메소드는 \"순수한\" 숫자, 즉 0-9까지의 기본 숫자만을 포함합니다.  \n",
    "  \n",
    "### .isdigit()\n",
    "문자열이 숫자(0-9)로만 구성되어 있거나   \n",
    "문자열 내에 다른 숫자 문자(예: 유니코드로 인코딩된 숫자)를 포함할 때 True를 반환합니다.  \n",
    "\"²\" 이런 슈퍼스크립트나 , 아래 첨자로 붙는 서브스크립트도 True  \n",
    "  \n",
    "### .isnumeric() \n",
    ".isdigit()보다 더 넓은 범위의 숫자 유니코드 문자를 포함하여 문자열이 숫자로만 구성되어 있을 때 True를 반환합니다.  \n",
    "이 메소드는 숫자, 분수, 로마 숫자, 일부 국가의 숫자 체계(예: 중국 숫자), 통화 분수 등을 포함합니다.  "
   ]
  },
  {
   "cell_type": "markdown",
   "id": "4dfa8f86-53ec-4880-96f5-a9cdd343323b",
   "metadata": {
    "tags": []
   },
   "source": [
    "## 정규표현식으로 풀기"
   ]
  },
  {
   "cell_type": "code",
   "execution_count": 49,
   "id": "5f5503bc-2d1e-44c5-850f-b6dbd83a01f2",
   "metadata": {
    "tags": []
   },
   "outputs": [],
   "source": [
    "import re\n",
    "def solution(s):\n",
    "    return bool(re.match(\"^(\\d{4}|\\d{6})$\", s))"
   ]
  },
  {
   "cell_type": "code",
   "execution_count": null,
   "id": "14826192-d413-492f-897b-027e7af41ad4",
   "metadata": {},
   "outputs": [],
   "source": [
    "^X  패턴이 X로 시작\n",
    "[^X] 패턴 X를 제외한 모든 문자 중 하나\n",
    "X$ 패턴이 X로 끝남\n",
    "\n",
    ". 임의의 한 문자\n",
    "\n",
    "X* 패턴 X가 0번 이상 반복, 즉 아예 없거나 여러번 반복되거나\n",
    "X+ 패턴 X가 최소 1번 이상 반복 == X{1,}\n",
    "X? 패턴 X가 존재할 수도 안할 수도 있음\n",
    "X|Y 패턴 X 또는 Y가 존재함\n",
    "(X) 패턴 X를 정규표현식 그룹으로 처리\n",
    "\n",
    "X{n} 앞의 패턴 X가 n번 반복\n",
    "X{n,} 앞의 패턴 X가 n번 이상 반복 == X+\n",
    "X{n,m} 앞의 패턴 X가 n번 이상 m번 이하 반복\n",
    "\n",
    "[XY] 문자X 또는 Y 중 하나\n",
    "\n",
    "[A-Z] A 부터 Z까지 어떤 문자 하나\n",
    "[가-힣] 한음절 짜리 한글 단어 중 하나\n",
    "\n",
    "\\d == [0-9]  0부터 9까지의 어떤 숫자 하나\n",
    "\\D == [^0-9] 숫자가 아닌 것 하나\n",
    "\n",
    "\\w == [a-zA-Z0-9_] 문자+숫자+언더스코어 중 하나\n",
    "\\W == [^a-zA-Z0-9_] 문자+숫자+언더스코어가 아닌 것 하나\n",
    "\n",
    "\\s == [\\t\\n\\r\\f\\v] 공백문자\n",
    "\\S == [^\\t\\n\\r\\f\\v] 공백문자가 아닌 것 하나"
   ]
  },
  {
   "cell_type": "code",
   "execution_count": null,
   "id": "82a0ae10-f1f5-47f9-9678-179bd96ae3a5",
   "metadata": {},
   "outputs": [],
   "source": [
    "^[0-9]{1,}$ : 문자열이 숫자만으로 구성되어 있는지 확인하는 패턴"
   ]
  },
  {
   "cell_type": "code",
   "execution_count": null,
   "id": "cbf683e3-d7a9-4d2e-a8b7-855525d09ef3",
   "metadata": {},
   "outputs": [],
   "source": [
    "re.match(pattern, string, flags=0)\n",
    "목적: 문자열의 시작에서부터 패턴과 일치하는지 검사합니다.\n",
    "인자:\n",
    "    pattern: 사용할 정규표현식 패턴입니다.\n",
    "    string: 검사할 대상 문자열입니다.\n",
    "    flags: 정규표현식의 컴파일 옵션입니다.\n",
    "반환값: 문자열의 시작 부분이 주어진 패턴과 일치하면 Match 객체를 반환합니다. \n",
    "문자열의 시작 부분이 주어진 패턴과 일치하지 않으면 바로 None을 반환합니다."
   ]
  },
  {
   "cell_type": "code",
   "execution_count": null,
   "id": "eb6bc555-f067-4b4f-ab0d-2800921d3bc8",
   "metadata": {},
   "outputs": [],
   "source": [
    "re.search(pattern, string, flags=0):\n",
    "문자열 전체에서 정규표현식과 일치하는 첫 번째 위치를 검색합니다. \n",
    "re.search는 문자열의 어느 곳에서든 일치하는 패턴이 있으면 값을 반환합니다. 꼭 시작부분이 아니어도 됨.\n",
    "반환값은 Match 객체이며, 일치하는 것이 없으면 None을 반환합니다."
   ]
  },
  {
   "cell_type": "code",
   "execution_count": null,
   "id": "239af08d-b787-4c5c-8a37-ae517fa28cba",
   "metadata": {},
   "outputs": [],
   "source": [
    "re.findall(pattern, string, flags=0)\n",
    "목적: 문자열 내에서 정규표현식과 일치하는 모든 부분을 찾습니다.\n",
    "인자:\n",
    "    pattern: 사용할 정규표현식 패턴입니다.\n",
    "    string: 검사할 대상 문자열입니다.\n",
    "    flags: 정규표현식의 컴파일 옵션입니다.\n",
    "반환값: 일치하는 모든 문자열을 리스트로 반환합니다."
   ]
  },
  {
   "cell_type": "code",
   "execution_count": null,
   "id": "2b63ab0a-1daa-47c6-83af-62e772376bb8",
   "metadata": {},
   "outputs": [],
   "source": [
    "re.sub(pattern, repl, string, count=0, flags=0)\n",
    "목적: 문자열에서 정규표현식과 일치하는 부분을 다른 문자열로 대체합니다.\n",
    "인자:\n",
    "    pattern: 찾고자 하는 정규표현식 패턴입니다.\n",
    "    repl: 일치하는 부분에 대체할 문자열입니다.\n",
    "    string: 대상 문자열입니다.\n",
    "    count: 대체를 수행할 최대 횟수입니다. 0은 제한 없음을 의미합니다.\n",
    "    flags: 정규표현식의 컴파일 옵션입니다.\n",
    "반환값: 대체가 완료된 문자열을 반환합니다.\n"
   ]
  },
  {
   "cell_type": "code",
   "execution_count": null,
   "id": "47e08568-2ce5-4674-800a-f96dbf177cc5",
   "metadata": {},
   "outputs": [],
   "source": [
    "re.split(pattern, string, maxsplit=0, flags=0):\n",
    "\n",
    "정규표현식에 일치하는 모든 경우를 기준으로 문자열을 분할합니다.\n",
    "maxsplit은 분할의 최대 횟수를 지정하며, 0은 제한 없음을 의미합니다.\n",
    "반환값은 분할된 문자열의 리스트입니다."
   ]
  },
  {
   "cell_type": "code",
   "execution_count": null,
   "id": "10bb7079-79c6-4fc0-a15e-7b0adb06fb69",
   "metadata": {},
   "outputs": [],
   "source": [
    "re.compile(pattern, flags=0):\n",
    "\n",
    "정규표현식 패턴을 컴파일하여 re.Pattern 객체를 생성합니다. \n",
    "이 객체는 위에 언급된 메서드(match, search, findall, sub, split 등)를 메서드 형태로 제공하며, \n",
    "여러 번 사용될 정규표현식을 컴파일해두면 성능상의 이점을 얻을 수 있습니다."
   ]
  },
  {
   "cell_type": "markdown",
   "id": "26db8537-1a71-4036-8c7c-3619aaa66924",
   "metadata": {},
   "source": [
    "# 문15 핸드폰 번호 가리기 e\n",
    "https://school.programmers.co.kr/learn/courses/30/lessons/12948"
   ]
  },
  {
   "cell_type": "code",
   "execution_count": null,
   "id": "55d09687-2694-4e9f-b697-fc2db1030099",
   "metadata": {},
   "outputs": [],
   "source": [
    "전화번호가 문자열 phone_number로 주어졌을 때, \n",
    "전화번호의 뒷 4자리를 제외한 나머지 숫자를 전부 *으로 가린 문자열을 리턴하는 함수, solution을 완성해주세요.\n",
    "\n",
    "제한 조건\n",
    "phone_number는 길이 4 이상, 20이하인 문자열입니다.\n",
    "\n",
    "phone_number\treturn\n",
    "\"01033334444\"\t\"*******4444\"\n",
    "\"027778888\"\t\"*****8888\""
   ]
  },
  {
   "cell_type": "markdown",
   "id": "0c6db9bb-a9cd-469d-978a-ed655f4d40e1",
   "metadata": {},
   "source": [
    "#### 내 풀이"
   ]
  },
  {
   "cell_type": "code",
   "execution_count": 56,
   "id": "9a17819c-cd33-4e55-83cd-15d5ac2fb57f",
   "metadata": {
    "tags": []
   },
   "outputs": [],
   "source": [
    "def solution(s):\n",
    "    return s.replace(s[:-4], \"*\"*len(s[:-4]))"
   ]
  },
  {
   "cell_type": "code",
   "execution_count": 57,
   "id": "f4602c97-72f2-41e3-921e-20b5935f00e8",
   "metadata": {
    "tags": []
   },
   "outputs": [
    {
     "data": {
      "text/plain": [
       "'*******1012'"
      ]
     },
     "execution_count": 57,
     "metadata": {},
     "output_type": "execute_result"
    }
   ],
   "source": [
    "solution(\"01099151012\")"
   ]
  },
  {
   "cell_type": "markdown",
   "id": "4ee5f70d-a99f-4f6e-b620-dc48f16c385f",
   "metadata": {},
   "source": [
    "#### 정규 표현식으로 풀기"
   ]
  },
  {
   "cell_type": "code",
   "execution_count": 24,
   "id": "1486df13-b193-4196-8aef-4ebd7e0a0407",
   "metadata": {
    "tags": []
   },
   "outputs": [],
   "source": [
    "import re\n",
    "\n",
    "def solution(s):\n",
    "    return re.sub('\\d(?=\\d{4})', '*', s)"
   ]
  },
  {
   "cell_type": "code",
   "execution_count": null,
   "id": "e2427cd0-f037-4156-b727-83c8cb1f14ce",
   "metadata": {},
   "outputs": [],
   "source": [
    "re.sub('\\d(?=\\d{4})', '*', s)   # 긍정형 전방탐색, 앞에서부터 숫자 하나씩을 * 로 대체, 마지막 4개 숫자는 무시\n",
    "\n",
    "re.sub('\\d{1,}(?=\\d{4})', '*', s) # 긍정형 전방탐색, 뒤 4개 숫자를 제외한 앞의 숫자 시퀀스 전체를 * 하나로 대체\n",
    "re.sub('\\d+(?=\\d{4})', '*', s) # 위와 같음 \n",
    "\n"
   ]
  },
  {
   "cell_type": "markdown",
   "id": "ab91ab3b-1c4e-4c57-8e50-9459bb1df2dd",
   "metadata": {},
   "source": [
    "## 긍정형 전방탐색\n",
    "<표현식>(?=X) 패턴 X에 일치하는 문자를 문자열에서 제외"
   ]
  },
  {
   "cell_type": "code",
   "execution_count": 27,
   "id": "08bc98a2-00b2-48f3-874d-ac5d32c9087e",
   "metadata": {
    "tags": []
   },
   "outputs": [
    {
     "name": "stdout",
     "output_type": "stream",
     "text": [
      "['apple1']\n"
     ]
    }
   ],
   "source": [
    "text = \"apple123\"\n",
    "pattern = re.compile(r\"\\w+(?=\\d{2})\")  \n",
    "'''\n",
    "\\w+: 하나 이상의 단어 문자(알파벳 대소문자, 숫자, 언더스코어 _)와 일치합니다.\n",
    "(?=\\d{2}): 긍정적 전방 탐색(lookahead)을 의미하며, \n",
    "이는 바로 뒤에 2개의 숫자(\\d{2})가 오는 위치를 찾지만, 이 2개의 숫자는 포함하지 않고 일치 결과에서 제외합니다.\n",
    "따라서 이 정규 표현식은 \"뒤에 정확히 2개의 숫자가 오는 단어 문자의 시퀀스\"와 일치합니다. \n",
    "이때, 일치하는 부분은 그 2개의 숫자를 포함하지 않으며, 오직 단어 문자(알파벳, 숫자, 언더스코어)로 구성된 시퀀스만을 포함합니다.\n",
    "'''\n",
    "\n",
    "result = pattern.findall(text)\n",
    "print(result)"
   ]
  },
  {
   "cell_type": "code",
   "execution_count": 29,
   "id": "7b82916b-3191-43f5-84d4-09beb66a7982",
   "metadata": {
    "tags": []
   },
   "outputs": [
    {
     "name": "stdout",
     "output_type": "stream",
     "text": [
      "['e', '1']\n"
     ]
    }
   ],
   "source": [
    "text = \"apple123\"\n",
    "pattern = re.compile(r\"\\w(?=\\d{2})\")  # text에서 \"e12\", \"123\" 요 두놈을 찾아내는 패턴이다\n",
    "'''\n",
    "이 정규 표현식은 \"바로 뒤에 2개의 숫자가 오는 단일 단어 문자\"와 일치합니다. \n",
    "이때, 일치하는 부분은 해당 단일 단어 문자만을 포함하며, 뒤에 오는 2개의 숫자는 포함하지 않습니다.\n",
    "'''\n",
    "result = pattern.findall(text)\n",
    "print(result)\n"
   ]
  },
  {
   "cell_type": "markdown",
   "id": "4a088a48-b3a8-4008-95d9-1141e4735267",
   "metadata": {},
   "source": [
    "## 긍정형 후방탐색 \n",
    "(?<=X)<표현식> 패턴 X와 일치하는 문자를 문자열에서 제외"
   ]
  },
  {
   "cell_type": "code",
   "execution_count": 64,
   "id": "873811f3-108a-45dd-916f-d68d19f00aa0",
   "metadata": {
    "tags": []
   },
   "outputs": [
    {
     "name": "stdout",
     "output_type": "stream",
     "text": [
      "['apple']\n"
     ]
    }
   ],
   "source": [
    "import re\n",
    "\n",
    "text = \"123apple\"\n",
    "pattern = re.compile(r\"(?<=\\d{3})\\w+\") # 뒤에서 앞으로 \n",
    "\n",
    "result = pattern.findall(text)\n",
    "print(result)"
   ]
  },
  {
   "cell_type": "markdown",
   "id": "c838c1f6-d714-4627-8ada-8dd7d9cea5b0",
   "metadata": {},
   "source": [
    "## 부정형 전방탐색\n",
    "<표현식>(?!X) 패턴 X와 일치하지 않는 문자를 문자열에서 제외"
   ]
  },
  {
   "cell_type": "code",
   "execution_count": 2,
   "id": "62a160ff-362f-4f46-80b5-74f695da2964",
   "metadata": {
    "tags": []
   },
   "outputs": [
    {
     "name": "stdout",
     "output_type": "stream",
     "text": [
      "['apple', ' orange', ' banana']\n"
     ]
    }
   ],
   "source": [
    "import re\n",
    "\n",
    "text = \"apple123 orange456 banana789\"\n",
    "pattern = re.compile(r\"[^\\d]+(?!\\D)\")\n",
    "\n",
    "result = pattern.findall(text)\n",
    "print(result)"
   ]
  },
  {
   "cell_type": "code",
   "execution_count": 3,
   "id": "a8c5f3ca-1378-419b-b88a-5cd530c7c17b",
   "metadata": {
    "tags": []
   },
   "outputs": [
    {
     "name": "stdout",
     "output_type": "stream",
     "text": [
      "['apple', 'orange', 'banana']\n"
     ]
    }
   ],
   "source": [
    "import re\n",
    "\n",
    "text = \"apple123 orange456 banana789\"\n",
    "pattern = re.compile(r\"[a-zA-Z]+(?!\\s)\")\n",
    "\n",
    "result = pattern.findall(text)\n",
    "print(result)"
   ]
  },
  {
   "cell_type": "markdown",
   "id": "c9a17907-5937-40ba-8a34-535c4579d264",
   "metadata": {},
   "source": [
    "## 부정형 후방탐색\n",
    "(?<!X)<표현식> 패턴 X와 일치하지 않는 문자를 문자열에서 제외"
   ]
  },
  {
   "cell_type": "code",
   "execution_count": 4,
   "id": "0ec1e284-d8b2-4e06-ad49-1c28d96016b1",
   "metadata": {
    "tags": []
   },
   "outputs": [
    {
     "name": "stdout",
     "output_type": "stream",
     "text": [
      "['apple']\n"
     ]
    }
   ],
   "source": [
    "import re\n",
    "\n",
    "text = \"123apple\"\n",
    "pattern = re.compile(r\"[^\\d]+(?!<\\D)\")\n",
    "\n",
    "result = pattern.findall(text)\n",
    "print(result)"
   ]
  },
  {
   "cell_type": "code",
   "execution_count": 2,
   "id": "1e908ab1-a1a5-49e4-a700-06b554f55741",
   "metadata": {
    "tags": []
   },
   "outputs": [
    {
     "name": "stdout",
     "output_type": "stream",
     "text": [
      "['apple']\n"
     ]
    }
   ],
   "source": [
    "import re\n",
    "\n",
    "text = \"123apple\"\n",
    "pattern = re.compile(r\"(?<!\\s)[a-zA-Z]+\")\n",
    "\n",
    "result = pattern.findall(text)\n",
    "print(result)"
   ]
  },
  {
   "cell_type": "markdown",
   "id": "98a9df63-ef1d-42a7-aef3-392f04e3b21a",
   "metadata": {},
   "source": [
    "# 문11 3진법 뒤집기\n",
    "https://programmers.co.kr/learn/courses/30/lessons/68935"
   ]
  },
  {
   "cell_type": "markdown",
   "id": "8b995fc9-f9a2-4a5f-bb03-5f41c31f68f7",
   "metadata": {},
   "source": [
    "### 내풀이"
   ]
  },
  {
   "cell_type": "code",
   "execution_count": 8,
   "id": "1179293b-4221-40c8-a967-88ca52c573ec",
   "metadata": {
    "tags": []
   },
   "outputs": [
    {
     "data": {
      "text/plain": [
       "'0021'"
      ]
     },
     "execution_count": 8,
     "metadata": {},
     "output_type": "execute_result"
    }
   ],
   "source": [
    "def solution(n):\n",
    "    three =''\n",
    "    while n != 0:\n",
    "        rest = n%3\n",
    "        three += str(rest)\n",
    "        n = n//3\n",
    "\n",
    "    answer = 0\n",
    "    for i in range(len(three)):\n",
    "        answer += int(three[i]) * (3**(len(three)-1-i))\n",
    "    return answer"
   ]
  },
  {
   "cell_type": "markdown",
   "id": "5dbf1008-9e12-48ac-bbe4-10976d9337a4",
   "metadata": {
    "tags": []
   },
   "source": [
    "### chatGPT 최적화"
   ]
  },
  {
   "cell_type": "code",
   "execution_count": 16,
   "id": "4b73258d-007f-431e-9a19-6e45258ad867",
   "metadata": {
    "tags": []
   },
   "outputs": [],
   "source": [
    "def solution(n):\n",
    "    three = ''\n",
    "    while n > 0:\n",
    "        three += str(n % 3)\n",
    "        n //= 3\n",
    "\n",
    "    # 뒤집힌 3진법을 바로 10진법으로 변환\n",
    "    return int(three, 3)"
   ]
  },
  {
   "cell_type": "code",
   "execution_count": 18,
   "id": "64e6e9d2-2c7d-49a7-8e71-2ecd57ea002a",
   "metadata": {
    "tags": []
   },
   "outputs": [
    {
     "data": {
      "text/plain": [
       "7"
      ]
     },
     "execution_count": 18,
     "metadata": {},
     "output_type": "execute_result"
    }
   ],
   "source": [
    "int(\"21\", 3)"
   ]
  },
  {
   "cell_type": "markdown",
   "id": "472b285a-d3bd-4e0c-86a8-56fa1ece4ce9",
   "metadata": {},
   "source": [
    "# 문13 신규아이디 추천 e\n",
    "https://programmers.co.kr/learn/courses/30/lessons/72410"
   ]
  },
  {
   "cell_type": "code",
   "execution_count": null,
   "id": "d97525fa-2870-4900-90e5-e607b972993f",
   "metadata": {},
   "outputs": [],
   "source": [
    "new_id는 길이 1 이상 1,000 이하인 문자열입니다.\n",
    "new_id는 알파벳 대문자, 알파벳 소문자, 숫자, 특수문자로 구성되어 있습니다.\n",
    "new_id에 나타날 수 있는 특수문자는 -_.~!@#$%^&*()=+[{]}:?,<>/ 로 한정됩니다.\n",
    "\n",
    "신규 유저가 입력한 아이디가 new_id 라고 한다면,\n",
    "\n",
    "1단계 new_id의 모든 대문자를 대응되는 소문자로 치환합니다.\n",
    "2단계 new_id에서 알파벳 소문자, 숫자, 빼기(-), 밑줄(_), 마침표(.)를 제외한 모든 문자를 제거합니다.\n",
    "3단계 new_id에서 마침표(.)가 2번 이상 연속된 부분을 하나의 마침표(.)로 치환합니다.\n",
    "4단계 new_id에서 마침표(.)가 처음이나 끝에 위치한다면 제거합니다.\n",
    "5단계 new_id가 빈 문자열이라면, new_id에 \"a\"를 대입합니다.\n",
    "6단계 new_id의 길이가 16자 이상이면, new_id의 첫 15개의 문자를 제외한 나머지 문자들을 모두 제거합니다.\n",
    "     만약 제거 후 마침표(.)가 new_id의 끝에 위치한다면 끝에 위치한 마침표(.) 문자를 제거합니다.\n",
    "7단계 new_id의 길이가 2자 이하라면, new_id의 마지막 문자를 new_id의 길이가 3이 될 때까지 반복해서 끝에 붙입니다.\n",
    "\n",
    "7단계의 처리 과정을 거친 후의 추천 아이디를 return 하도록 solution 함수\n",
    "\n",
    "def solution(new_id):\n",
    "    answer = ''\n",
    "    return answer\n",
    "\n",
    "\n",
    "예1\t\"...!@BaT#*..y.abcdefghijklm\"\t\"bat.y.abcdefghi\""
   ]
  },
  {
   "cell_type": "markdown",
   "id": "b0a78fc7-5aed-4ed7-9b64-f9d554de383a",
   "metadata": {},
   "source": [
    "### 내 풀이"
   ]
  },
  {
   "cell_type": "code",
   "execution_count": null,
   "id": "8ac35d4a-b7e9-438c-ba27-342cce3b0563",
   "metadata": {},
   "outputs": [],
   "source": [
    "def solution(new_id):\n",
    "    banned = \"~!@#$%^&*()=+[{]}:?,<>/\"\n",
    "    new_id = new_id.lower()\n",
    "    string = ''\n",
    "    for char in new_id:\n",
    "        if char not in banned:\n",
    "            string += char\n",
    "    new_id = string\n",
    "    while \"..\" in new_id:\n",
    "        new_id = new_id.replace(\"..\", \".\")\n",
    "    new_id = new_id.strip(\".\")\n",
    "    if not new_id:\n",
    "        new_id += \"a\"\n",
    "    if len(new_id) >= 16:\n",
    "        new_id = new_id[:15]\n",
    "    if new_id[-1] == \".\":\n",
    "        new_id = new_id.rstrip(\".\")\n",
    "    if len(new_id) <= 2:\n",
    "        while len(new_id) < 3:\n",
    "            new_id += new_id[-1]\n",
    "    return new_id"
   ]
  },
  {
   "cell_type": "markdown",
   "id": "1bc60af4-9017-4807-a818-fbcb8343f6c6",
   "metadata": {},
   "source": [
    "### chatGPT 최적화"
   ]
  },
  {
   "cell_type": "code",
   "execution_count": 44,
   "id": "acfae88b-48f5-4d67-8432-1989d084956a",
   "metadata": {
    "tags": []
   },
   "outputs": [],
   "source": [
    "import re\n",
    "\n",
    "def solution(new_id):\n",
    "    # 1단계: 모든 대문자를 소문자로 치환\n",
    "    new_id = new_id.lower()\n",
    "    # 2단계: 금지된 문자 제거 (정규 표현식 사용)\n",
    "    new_id = re.sub(r\"[^a-z0-9-_.]\", \"\", new_id)\n",
    "    # 3단계: 연속된 마침표를 하나로 축약\n",
    "    new_id = re.sub(r\"\\.{2,}\", \".\", new_id)\n",
    "    # 4단계: 양 끝의 마침표 제거\n",
    "    new_id = new_id.strip(\".\")\n",
    "    # 5단계: 빈 문자열이면 \"a\" 대입\n",
    "    if not new_id:\n",
    "        new_id = \"a\"\n",
    "    # 6단계: 길이 조정 (16자 이상이면 처음 15자만 사용, 마지막 문자가 마침표면 제거)\n",
    "    new_id = new_id[:15].rstrip(\".\")\n",
    "    # 7단계: 길이가 2자 이하라면 마지막 문자를 길이가 3이 될 때까지 반복\n",
    "    while len(new_id) < 3:\n",
    "        new_id += new_id[-1]\n",
    "    \n",
    "    return new_id\n"
   ]
  },
  {
   "cell_type": "code",
   "execution_count": null,
   "id": "b7970eaa-5680-4701-96bd-f290b9ad73d8",
   "metadata": {},
   "outputs": [],
   "source": [
    "new_id = re.sub(r\"\\.{2,}\", \".\", new_id) \n",
    "\n",
    "- `re.sub(pattern, repl, string)`: 이 함수는 `string` 내에서 `pattern`에 해당하는 부분을 `repl`로 대체합니다.\n",
    "  - `pattern`: 검색할 정규 표현식 패턴입니다.\n",
    "  - `repl`: 찾은 패턴을 대체할 문자열입니다.\n",
    "  - `string`: 대상 문자열입니다.\n",
    "\n",
    "정규 표현식 `r\"\\.{2,}\"`의 구성 요소를 분석해 보겠습니다:\n",
    "- `\\.`: 마침표(`.`)는 정규 표현식에서 특별한 의미를 가지는 문자이므로, \n",
    "리터럴 마침표 자체를 나타내기 위해 역슬래시(`\\`)로 이스케이프 처리합니다. \n",
    "따라서 `\\.`는 문자열 내의 실제 마침표를 의미합니다.\n",
    "\n",
    "- `{2,}`: 중괄호를 사용한 이 표현은 바로 앞에 있는 문자 또는 패턴이 최소 2번 이상 반복될 때 일치함을 나타냅니다. \n",
    "따라서 `.{2,}`는 연속된 두 개 이상의 마침표에 일치합니다.\n",
    "\n",
    "결론적으로, `re.sub(r\"\\.{2,}\", \".\", new_id)`는 `new_id` 문자열 내에서 연속된 두 개 이상의 마침표가 나타나는 모든 부분을 \n",
    "단일 마침표(`.`)로 치환합니다."
   ]
  },
  {
   "cell_type": "markdown",
   "id": "a737b482-5697-489d-92ba-9023f18b33ef",
   "metadata": {
    "tags": []
   },
   "source": [
    "# 문8 [튜플](https://school.programmers.co.kr/learn/courses/30/lessons/64065) m"
   ]
  },
  {
   "cell_type": "code",
   "execution_count": 15,
   "id": "a6d84071-f421-4f47-b9cb-ff646a1576c4",
   "metadata": {
    "tags": []
   },
   "outputs": [],
   "source": [
    "from __future__ import annotations\n",
    "import collections\n",
    "import copy"
   ]
  },
  {
   "cell_type": "markdown",
   "id": "9b9d0326-3e41-4c33-a598-9b19dfce0b49",
   "metadata": {},
   "source": [
    "### 내 풀이"
   ]
  },
  {
   "cell_type": "code",
   "execution_count": null,
   "id": "9f3c4539-588f-4f84-ad4d-dc0a46c18be8",
   "metadata": {
    "tags": []
   },
   "outputs": [],
   "source": [
    "def represent_tuple(s: str) -> List[int]:\n",
    "    \"\"\"특정 문자열을 입력받아, 특정 규칙에 따르는 문자열을 반환하는 함수\n",
    "    \"\"\"\n",
    "    s = s[1:-1].split(\",\")\n",
    "    temp1 = []\n",
    "\n",
    "    for word in s:\n",
    "        temp1.append(word.replace(\"{\", \"\"))\n",
    "\n",
    "    temp2 = []\n",
    "    temp_answer = []\n",
    "\n",
    "    for word in temp1:\n",
    "        if \"}\" not in word:\n",
    "            temp2.append(int(word))\n",
    "        elif \"}\" in word:\n",
    "            temp2.append(int(word.replace(\"}\", \"\")))\n",
    "            temp_answer.append(temp2)\n",
    "            temp2 = []\n",
    "\n",
    "    return max(temp_answer)"
   ]
  },
  {
   "cell_type": "markdown",
   "id": "dda3beac-fd3e-49dc-9025-9614c02efeb8",
   "metadata": {},
   "source": [
    "    테스트 1\n",
    "    입력값 〉\t\"{{2},{2,1},{2,1,3},{2,1,3,4}}\"\n",
    "    기댓값 〉\t[2, 1, 3, 4]\n",
    "    실행 결과 〉\t테스트를 통과하였습니다.\n",
    "    \n",
    "    테스트 2\n",
    "    입력값 〉\t\"{{1,2,3},{2,1},{1,2,4,3},{2}}\"\n",
    "    기댓값 〉\t[2, 1, 3, 4]\n",
    "    실행 결과 〉\t실행한 결괏값 [2,1]이 기댓값 [2,1,3,4]과 다릅니다.\n",
    "    \n",
    "    테스트 3\n",
    "    입력값 〉\t\"{{20,111},{111}}\"\n",
    "    기댓값 〉\t[111, 20]\n",
    "    실행 결과 〉\t실행한 결괏값 [111]이 기댓값 [111,20]과 다릅니다.\n",
    "    \n",
    "    테스트 4\n",
    "    입력값 〉\t\"{{123}}\"\n",
    "    기댓값 〉\t[123]\n",
    "    실행 결과 〉\t테스트를 통과하였습니다.\n",
    "    \n",
    "    테스트 5\n",
    "    입력값 〉\t\"{{4,2,3},{3},{2,3,4,1},{2,3}}\"\n",
    "    기댓값 〉\t[3, 2, 4, 1]\n",
    "    실행 결과 〉\t실행한 결괏값 [4,2,3]이 기댓값 [3,2,4,1]과 다릅니다."
   ]
  },
  {
   "cell_type": "code",
   "execution_count": null,
   "id": "349d2327-a08b-43c2-ada2-bbd586156171",
   "metadata": {},
   "outputs": [],
   "source": []
  },
  {
   "cell_type": "code",
   "execution_count": 148,
   "id": "a1881f2c-5eb7-408e-a176-d2ef2aec3fd7",
   "metadata": {
    "tags": []
   },
   "outputs": [
    {
     "name": "stdout",
     "output_type": "stream",
     "text": [
      "[[2], [13, 2], [111, 13, 2]]\n"
     ]
    }
   ],
   "source": [
    "s = \"{{13,2},{111,13,2},{2}}\"\n",
    "\n",
    "s = s[1:-1].split(\",\")\n",
    "temp1 = []\n",
    "\n",
    "for word in s:\n",
    "    temp1.append(word.replace(\"{\", \"\"))\n",
    "\n",
    "temp2 = []\n",
    "temp_answer = []\n",
    "\n",
    "for word in temp1:\n",
    "    if \"}\" not in word:\n",
    "        temp2.append(int(word))\n",
    "    elif \"}\" in word:\n",
    "        temp2.append(int(word.replace(\"}\", \"\")))\n",
    "        temp_answer.append(temp2)\n",
    "        temp2 = []\n",
    "\n",
    "temp_answer.sort()\n",
    "print(temp_answer)"
   ]
  },
  {
   "cell_type": "code",
   "execution_count": 152,
   "id": "2a5ab59d-59a6-4323-9b08-20c0d4bcafe3",
   "metadata": {
    "tags": []
   },
   "outputs": [
    {
     "data": {
      "text/plain": [
       "[[2], [2, 13], [2, 13, 111]]"
      ]
     },
     "execution_count": 152,
     "metadata": {},
     "output_type": "execute_result"
    }
   ],
   "source": [
    "s = \"{{13,2},{111,13,2},{2}}\"\n",
    "\n",
    "s = s[1:-1].split(\",\")\n",
    "temp1 = []\n",
    "\n",
    "for word in s:\n",
    "    temp1.append(word.replace(\"{\", \"\"))\n",
    "\n",
    "temp2 = []\n",
    "temp_answer = []\n",
    "\n",
    "for word in temp1:\n",
    "    if \"}\" not in word:\n",
    "        temp2.append(int(word))\n",
    "    elif \"}\" in word:\n",
    "        temp2.append(int(word.replace(\"}\", \"\")))\n",
    "        temp_answer.append(temp2)\n",
    "        temp2 = []\n",
    "\n",
    "temp_answer.sort()\n",
    "\n",
    "for n in range(len(temp_answer)-1):\n",
    "    for element in temp_answer[1:]:\n",
    "        if temp_answer[n] != element[n]:\n",
    "            element.sort()\n",
    "\n",
    "temp_answer"
   ]
  },
  {
   "cell_type": "markdown",
   "id": "95a1c981-5d40-4e6f-b0a7-3fa288e4f48b",
   "metadata": {},
   "source": [
    "### 책 풀이"
   ]
  },
  {
   "cell_type": "code",
   "execution_count": 69,
   "id": "3bc79760-2f23-4be4-a888-061c0d3520d0",
   "metadata": {
    "tags": []
   },
   "outputs": [
    {
     "data": {
      "text/plain": [
       "['4,2,3', '3', '2,3,4,1', '2,3']"
      ]
     },
     "execution_count": 69,
     "metadata": {},
     "output_type": "execute_result"
    }
   ],
   "source": [
    "s = \"{{4,2,3},{3},{2,3,4,1},{2,3}}\"\n",
    "s = s[2:-2].split(\"},{\")\n",
    "s"
   ]
  },
  {
   "cell_type": "code",
   "execution_count": 70,
   "id": "411894b4-e7be-4f19-9f66-246b5d7f23fd",
   "metadata": {
    "tags": []
   },
   "outputs": [
    {
     "data": {
      "text/plain": [
       "['2,3', '2,3,4,1', '3', '4,2,3']"
      ]
     },
     "execution_count": 70,
     "metadata": {},
     "output_type": "execute_result"
    }
   ],
   "source": [
    "s.sort()\n",
    "s"
   ]
  },
  {
   "cell_type": "code",
   "execution_count": 72,
   "id": "df918451-07ff-4225-a5d8-d4acdca33481",
   "metadata": {
    "tags": []
   },
   "outputs": [
    {
     "data": {
      "text/plain": [
       "['2,3', '2,3,4,1', '3', '4,2,3']"
      ]
     },
     "execution_count": 72,
     "metadata": {},
     "output_type": "execute_result"
    }
   ],
   "source": [
    "s = \"{{4,2,3},{3},{2,3,4,1},{2,3}}\"\n",
    "s = s[2:-2].split(\"},{\")\n",
    "data = sorted(s)\n",
    "data"
   ]
  },
  {
   "cell_type": "markdown",
   "id": "c3963769-212a-45f1-a481-8273750ea5cc",
   "metadata": {},
   "source": [
    "### 그냥 sorted(s) 를 쓰면 안되는 이유"
   ]
  },
  {
   "cell_type": "code",
   "execution_count": 73,
   "id": "c1810253-219a-48e8-9786-def65a57482c",
   "metadata": {
    "tags": []
   },
   "outputs": [
    {
     "name": "stdout",
     "output_type": "stream",
     "text": [
      "Sorted by Lexicographical Order: ['2,3', '2,3,4,1', '3', '4,2,3']\n",
      "Sorted by Value: ['3', '2,3', '4,2,3', '2,3,4,1']\n"
     ]
    }
   ],
   "source": [
    "numbers = ['2,3', '2,3,4,1', '3', '4,2,3']\n",
    "\n",
    "# sorted의 디폴트는 숫자의 경우는 숫자 크기에 따라, 문자열의 경우는 사전식 순서에 따라 정렬\n",
    "sorted_by_lex = sorted(numbers)                              \n",
    "print(\"Sorted by Lexicographical Order:\", sorted_by_lex)\n",
    "\n",
    "# 문자열이지만 키를 적용해서 숫자 크기에 따라 정렬\n",
    "sorted_by_value = sorted(numbers, key=lambda x: len(x))\n",
    "print(\"Sorted by Value:\", sorted_by_value)"
   ]
  },
  {
   "cell_type": "code",
   "execution_count": 68,
   "id": "c9d6cc6f-9066-4f16-9cba-d294b96b985f",
   "metadata": {
    "tags": []
   },
   "outputs": [
    {
     "data": {
      "text/plain": [
       "[2, 1, 3, 4]"
      ]
     },
     "execution_count": 68,
     "metadata": {},
     "output_type": "execute_result"
    }
   ],
   "source": [
    "answer = []\n",
    "for item in data:\n",
    "    item = list(map(int, item.split(\",\")))\n",
    "    for value in item:\n",
    "        if value not in answer:\n",
    "            answer.append(value)\n",
    "answer"
   ]
  },
  {
   "cell_type": "code",
   "execution_count": 27,
   "id": "4b478f07-a019-4c11-bcba-328bde7e0f43",
   "metadata": {
    "tags": []
   },
   "outputs": [
    {
     "data": {
      "text/plain": [
       "[2, 1, 3]"
      ]
     },
     "execution_count": 27,
     "metadata": {},
     "output_type": "execute_result"
    }
   ],
   "source": [
    "list(map(int, '2,1,3'.split(\",\")))"
   ]
  },
  {
   "cell_type": "code",
   "execution_count": 30,
   "id": "409a9964-212d-4dae-a274-393e44b245b7",
   "metadata": {
    "tags": []
   },
   "outputs": [
    {
     "data": {
      "text/plain": [
       "[2, 1, 3]"
      ]
     },
     "execution_count": 30,
     "metadata": {},
     "output_type": "execute_result"
    }
   ],
   "source": [
    "[int(s) for s in '2,1,3'.split(\",\")]"
   ]
  },
  {
   "cell_type": "code",
   "execution_count": 51,
   "id": "0ff0da47-afa2-4ec1-9279-565fb9b5e4ee",
   "metadata": {
    "tags": []
   },
   "outputs": [],
   "source": [
    "def solution(s):\n",
    "    s = s[2:-2].split(\"},{\")\n",
    "    data = sorted(s, key=lambda x : len(x))\n",
    "\n",
    "    answer = []\n",
    "    for item in data:\n",
    "        temp = [int(s) for s in item.split(\",\")]\n",
    "        for i in temp:\n",
    "            if i not in answer:\n",
    "                answer.append(i)\n",
    "        \n",
    "    return answer"
   ]
  },
  {
   "cell_type": "markdown",
   "id": "5cad382a-38f9-44ea-a861-5a613b93421d",
   "metadata": {
    "tags": []
   },
   "source": [
    "    테스트 12 〉\t통과 (386.22ms, 12.4MB)\n",
    "    테스트 13 〉\t통과 (323.85ms, 12MB)\n",
    "    테스트 14 〉\t통과 (347.13ms, 12.4MB)"
   ]
  },
  {
   "cell_type": "markdown",
   "id": "ec18ab3e-ad7e-4ebd-91a4-191466311da4",
   "metadata": {},
   "source": [
    "    in 문법을 사용하면 배열에 존재하는 모든 인덱스를 검사해야 한다.\n",
    "    data 전체 탐색은 O(n)소요, data 안에 temp마다 검색해야 하므로 O(n^2) 소요"
   ]
  },
  {
   "cell_type": "markdown",
   "id": "6092a145-88da-4abc-94d0-516abbb72c55",
   "metadata": {},
   "source": [
    "#### 딕셔너리를 사용해서 최적화"
   ]
  },
  {
   "cell_type": "code",
   "execution_count": 74,
   "id": "4d0ee10a-601f-4741-a868-99ff25c54db2",
   "metadata": {
    "tags": []
   },
   "outputs": [],
   "source": [
    "s = \"{{4,2,3},{3},{2,3,4,1},{2,3}}\"\n",
    "\n",
    "def solution(s):\n",
    "    s = s[2:-2].split(\"},{\")\n",
    "    data = sorted(s, key=lambda x : len(x))\n",
    "\n",
    "    answer = {}\n",
    "    for item in data:\n",
    "        temp = [int(s) for s in item.split(\",\")]\n",
    "        for i in temp:\n",
    "            if i not in answer:\n",
    "                answer[i] = 0\n",
    "        \n",
    "    return list(answer)"
   ]
  },
  {
   "cell_type": "code",
   "execution_count": 75,
   "id": "dfef0919-8715-4b8a-a6cd-af47e5100da9",
   "metadata": {
    "tags": []
   },
   "outputs": [
    {
     "data": {
      "text/plain": [
       "[3, 2, 4, 1]"
      ]
     },
     "execution_count": 75,
     "metadata": {},
     "output_type": "execute_result"
    }
   ],
   "source": [
    "solution(s)"
   ]
  },
  {
   "cell_type": "markdown",
   "id": "afaee1cf-8c5d-4cdb-80a4-cb6740f7d1cb",
   "metadata": {},
   "source": [
    "    테스트 12 〉\t통과 (27.61ms, 12.3MB)\n",
    "    테스트 13 〉\t통과 (26.87ms, 12.3MB)\n",
    "    테스트 14 〉\t통과 (26.77ms, 12.4MB)"
   ]
  },
  {
   "cell_type": "markdown",
   "id": "d2ff0105-e96b-46b9-947f-fb14b838eadc",
   "metadata": {},
   "source": [
    "    ms = milli second = 1/1000 초\n",
    "    즉 0.02초 대가 걸린 것."
   ]
  },
  {
   "cell_type": "markdown",
   "id": "9d8ae6b3-505d-410d-9c0b-dd8310e5aa42",
   "metadata": {},
   "source": [
    "#### 딕셔너리를 그대로 리스트에 넣어버리면 키들만 원소로 가진 리스트가 된다"
   ]
  },
  {
   "cell_type": "code",
   "execution_count": 76,
   "id": "31e96005-253c-47d7-80d2-9b642060cf39",
   "metadata": {
    "tags": []
   },
   "outputs": [
    {
     "data": {
      "text/plain": [
       "{2: 0, 1: 0, 3: 0, 4: 0}"
      ]
     },
     "execution_count": 76,
     "metadata": {},
     "output_type": "execute_result"
    }
   ],
   "source": [
    "answer = {}\n",
    "\n",
    "l = [2, 1, 3, 4]\n",
    "\n",
    "for i in l:\n",
    "    answer[i] = 0\n",
    "    \n",
    "answer"
   ]
  },
  {
   "cell_type": "code",
   "execution_count": 77,
   "id": "bc1356f1-0a50-41fb-a9c1-17e89ff2ae1e",
   "metadata": {
    "tags": []
   },
   "outputs": [
    {
     "data": {
      "text/plain": [
       "[2, 1, 3, 4]"
      ]
     },
     "execution_count": 77,
     "metadata": {},
     "output_type": "execute_result"
    }
   ],
   "source": [
    "list(answer)"
   ]
  },
  {
   "cell_type": "markdown",
   "id": "fd5ca2c8-8787-4068-ba28-307c6776bdc6",
   "metadata": {
    "tags": []
   },
   "source": [
    "# 딕셔너리를 제대로 쓰는 방법"
   ]
  },
  {
   "cell_type": "code",
   "execution_count": 11,
   "id": "1ea27bc6-995b-40d9-9ed4-18f4994ac93f",
   "metadata": {
    "tags": []
   },
   "outputs": [],
   "source": [
    "s = \"{{4,2,3},{3},{2,3,4,1},{2,3}}\"\n",
    "\n",
    "\n",
    "s = s[2:-2].split(\"},{\")\n",
    "# data = sorted(s, key=lambda x : len(x)) 정렬을 할 필요가 없다.\n",
    "\n",
    "answer = []\n",
    "for item in s:\n",
    "    temp = [int(s) for s in item.split(\",\")]\n",
    "    answer.append(temp)"
   ]
  },
  {
   "cell_type": "code",
   "execution_count": 12,
   "id": "c5adcce3-2798-4460-af1b-435b7af22ef3",
   "metadata": {
    "tags": []
   },
   "outputs": [
    {
     "data": {
      "text/plain": [
       "[[4, 2, 3], [3], [2, 3, 4, 1], [2, 3]]"
      ]
     },
     "execution_count": 12,
     "metadata": {},
     "output_type": "execute_result"
    }
   ],
   "source": [
    "answer"
   ]
  },
  {
   "cell_type": "code",
   "execution_count": 13,
   "id": "1aa39375-550e-4a65-97fb-0198fe9df278",
   "metadata": {
    "tags": []
   },
   "outputs": [],
   "source": [
    "import collections"
   ]
  },
  {
   "cell_type": "code",
   "execution_count": 14,
   "id": "dc40cb83-4da2-4fbc-8619-4c7e2f8cd414",
   "metadata": {
    "tags": []
   },
   "outputs": [],
   "source": [
    "cnt = collections.Counter()\n",
    "for n in answer:\n",
    "    for i in n:\n",
    "        cnt[i] += 1"
   ]
  },
  {
   "cell_type": "code",
   "execution_count": 15,
   "id": "bb5ff08e-a08e-4454-85e4-332dccdd96a8",
   "metadata": {
    "tags": []
   },
   "outputs": [
    {
     "data": {
      "text/plain": [
       "Counter({3: 4, 2: 3, 4: 2, 1: 1})"
      ]
     },
     "execution_count": 15,
     "metadata": {},
     "output_type": "execute_result"
    }
   ],
   "source": [
    "cnt"
   ]
  },
  {
   "cell_type": "code",
   "execution_count": 25,
   "id": "f0b9f822-dd50-4721-a5ea-4b37323c1ade",
   "metadata": {
    "tags": []
   },
   "outputs": [
    {
     "data": {
      "text/plain": [
       "[4, 2, 3, 1]"
      ]
     },
     "execution_count": 25,
     "metadata": {},
     "output_type": "execute_result"
    }
   ],
   "source": [
    "list(cnt.keys())"
   ]
  },
  {
   "cell_type": "code",
   "execution_count": 16,
   "id": "cbf20f26-626c-4c76-92da-4f49f9c97c92",
   "metadata": {
    "tags": []
   },
   "outputs": [
    {
     "data": {
      "text/plain": [
       "[4, 2, 3, 1]"
      ]
     },
     "execution_count": 16,
     "metadata": {},
     "output_type": "execute_result"
    }
   ],
   "source": [
    "list(cnt)"
   ]
  },
  {
   "cell_type": "markdown",
   "id": "959b47ae-dd9d-4c9b-9169-951160fe1b93",
   "metadata": {
    "tags": []
   },
   "source": [
    "    만약 Python 3.11에서 [4, 2, 3, 1]을 얻고 있다면, \n",
    "    이는 딕셔너리의 순회 결과인 리스트의 원소 순서가 삽입된 순서와 일치한다는 것을 의미합니다. \n",
    "    [4, 2, 3] 먼저 들어가서 각각 세고\n",
    "    그다음 [3] 들어가서 세고\n",
    "    그다음 [2, 3, 4, 1] 들어가서 셌으니까\n",
    "\n",
    "    이는 Python 3.7 이후 버전에서 딕셔너리와 Counter 객체에서 원소의 삽입 순서가 유지된다는 특성에 기인합니다.\n",
    "    list(cnt.values()) 이것도 리스트 삽입 순서와 일치"
   ]
  },
  {
   "cell_type": "code",
   "execution_count": 18,
   "id": "9e0c5d3e-e7f3-493f-b4d9-47ab0359f494",
   "metadata": {
    "tags": []
   },
   "outputs": [
    {
     "data": {
      "text/plain": [
       "[2, 3, 4, 1]"
      ]
     },
     "execution_count": 18,
     "metadata": {},
     "output_type": "execute_result"
    }
   ],
   "source": [
    "list(cnt.values())"
   ]
  },
  {
   "cell_type": "markdown",
   "id": "e51fc783-f43c-4728-973f-699cab0a42b6",
   "metadata": {},
   "source": [
    "#### 그럼 여기서 밸류값이 큰 순서대로 키들을 리스트로 만드려면 어떻게 해야하지?"
   ]
  },
  {
   "cell_type": "code",
   "execution_count": 30,
   "id": "d1037f40-eca1-4b1f-8266-806aa05e9e15",
   "metadata": {
    "tags": []
   },
   "outputs": [
    {
     "name": "stdout",
     "output_type": "stream",
     "text": [
      "[3, 2, 4, 1]\n"
     ]
    }
   ],
   "source": [
    "result = [key for key, _ in cnt.most_common()]\n",
    "print(result)"
   ]
  },
  {
   "cell_type": "code",
   "execution_count": 7,
   "id": "2858a860-df48-4839-b87a-47f354a89a13",
   "metadata": {
    "tags": []
   },
   "outputs": [],
   "source": [
    "import collections\n",
    "def solution2(s):\n",
    "    s = s[2:-2].split(\"},{\")\n",
    "    answer = []\n",
    "    for item in s:\n",
    "        temp = [int(s) for s in item.split(\",\")]\n",
    "        answer.append(temp)\n",
    "    cnt = collections.Counter()\n",
    "    for n in answer:\n",
    "        for i in n:\n",
    "            cnt[i] += 1\n",
    "    result = [key for key, _ in cnt.most_common()]\n",
    "    return result"
   ]
  },
  {
   "cell_type": "markdown",
   "id": "7d778d2b-13c8-4c08-88e9-8ba10fc4d745",
   "metadata": {},
   "source": [
    "    테스트 12 〉\t통과 (66.19ms, 16.5MB)\n",
    "    테스트 13 〉\t통과 (51.99ms, 16.5MB)\n",
    "    테스트 14 〉\t통과 (53.38ms, 16.6MB)"
   ]
  },
  {
   "cell_type": "markdown",
   "id": "d9d15791-da48-4771-bc85-f0e2fa4ce77a",
   "metadata": {},
   "source": [
    "# 문9 짝지어 제거하기 m\n",
    "https://programmers.co.kr/learn/courses/30/lessons/12973/"
   ]
  },
  {
   "cell_type": "markdown",
   "id": "22cb56f2-2c4a-4de8-a238-e621ddd3cbee",
   "metadata": {},
   "source": [
    "짝지어 제거하기는, 알파벳 소문자로 이루어진 문자열을 가지고 시작합니다. \n",
    "먼저 문자열에서 같은 알파벳이 2개 붙어 있는 짝을 찾습니다. \n",
    "그다음, 그 둘을 제거한 뒤, 앞뒤로 문자열을 이어 붙입니다. \n",
    "이 과정을 반복해서 문자열을 모두 제거한다면 짝지어 제거하기가 종료됩니다. \n",
    "\n",
    "문자열 S가 주어졌을 때, 짝지어 제거하기를 성공적으로 수행할 수 있는지 반환하는 함수를 완성해 주세요. \n",
    "성공적으로 수행할 수 있으면 1을, 아닐 경우 0을 리턴해주면 됩니다.\n",
    "\n",
    "문자열의 길이 : 1,000,000이하의 자연수\n",
    "문자열은 모두 소문자로 이루어져 있습니다.\n",
    "\n",
    "baabaa\t1\n",
    "cdcd\t0"
   ]
  },
  {
   "cell_type": "markdown",
   "id": "a46d44ca-15a3-460f-b641-8ef511d97606",
   "metadata": {},
   "source": [
    "### 내 풀이 chatGPT 개선버전\n",
    "시간 초과"
   ]
  },
  {
   "cell_type": "code",
   "execution_count": 69,
   "id": "aef3a08f-e19b-48ae-b653-ad16f5b4030c",
   "metadata": {
    "tags": []
   },
   "outputs": [],
   "source": [
    "def solution(s):\n",
    "\n",
    "    strings = [chr(i) * 2 for i in range(97, 123)]\n",
    "    \n",
    "    # 문자열에 더 이상 변화가 없을 때까지 루프를 실행합니다.\n",
    "    while True:\n",
    "        original_s = s  # 현재 문자열 상태를 저장합니다.\n",
    "        for pair in strings:\n",
    "            s = s.replace(pair, \"\")  # 문자 쌍을 찾아 제거합니다.\n",
    "        \n",
    "        # 문자열이 이전 상태와 동일하면 더 이상 제거할 문자 쌍이 없음을 의미하므로 루프를 종료합니다.\n",
    "        if s == original_s:\n",
    "            break\n",
    "\n",
    "    # 최종적으로 문자열이 비어 있다면 1을, 그렇지 않다면 0을 반환합니다.\n",
    "    return 1 if not s else 0\n"
   ]
  },
  {
   "cell_type": "markdown",
   "id": "c0b74055-0dd5-4548-9c0f-c7404045404e",
   "metadata": {},
   "source": [
    "### chatGPT 풀이"
   ]
  },
  {
   "cell_type": "code",
   "execution_count": 71,
   "id": "61e47dc7-95a0-470f-abfd-d6e61d4ea6d6",
   "metadata": {
    "tags": []
   },
   "outputs": [
    {
     "data": {
      "text/plain": [
       "1"
      ]
     },
     "execution_count": 71,
     "metadata": {},
     "output_type": "execute_result"
    }
   ],
   "source": [
    "def solution(s):\n",
    "    stack = []\n",
    "    for char in s:\n",
    "        if stack and stack[-1] == char:\n",
    "            stack.pop()\n",
    "        else:\n",
    "            stack.append(char)\n",
    "    if not stack:\n",
    "        return 1\n",
    "    else:\n",
    "        return 0\n",
    "    \n",
    "s = \"abbbccbbba\"\n",
    "solution(s)"
   ]
  },
  {
   "cell_type": "markdown",
   "id": "737a8a30-01f2-48c6-bd3b-2338cbf2e928",
   "metadata": {},
   "source": [
    "# 문10 문자열 압축 m\n",
    "https://programmers.co.kr/learn/courses/30/lessons/60057/"
   ]
  },
  {
   "cell_type": "code",
   "execution_count": null,
   "id": "0d8f66d6-d6c2-432c-ad85-ecfdbe51318f",
   "metadata": {},
   "outputs": [],
   "source": [
    "압축할 문자열 s가 매개변수로 주어질 때, \n",
    "1개 이상 단위로 문자열을 잘라 압축하여 표현한 문자열 중 \n",
    "가장 짧은 것의 길이를 return 하도록 solution 함수를 완성해주세요.\n",
    "\n",
    "제한사항\n",
    "s의 길이는 1 이상 1,000 이하입니다.\n",
    "s는 알파벳 소문자로만 이루어져 있습니다.\n",
    "문자열은 제일 앞부터 정해진 길이만큼 잘라야 합니다.\n",
    "\n",
    "s\tresult\n",
    "\"aabbaccc\"\t7\n",
    "\"ababcdcdababcdcd\"\t9\n",
    "\"abcabcdede\"\t8"
   ]
  },
  {
   "cell_type": "code",
   "execution_count": null,
   "id": "2fcd5798-f5e9-47df-b176-82b520f28f53",
   "metadata": {},
   "outputs": [],
   "source": [
    "최대 500개로 잘랐을 때, 501이 답인 경우가 있을 수 있다.\n",
    "\n",
    "문자열 길이의 절반 길이 까지만 잘라보면 된다.\n",
    "\n"
   ]
  },
  {
   "cell_type": "markdown",
   "id": "bc351684-eb42-4614-bd4d-7c86b255a4e1",
   "metadata": {
    "tags": []
   },
   "source": [
    "### 책 풀이"
   ]
  },
  {
   "cell_type": "markdown",
   "id": "97827197-4a64-4f38-bfcd-ed0071dd8992",
   "metadata": {
    "tags": []
   },
   "source": [
    "### chatGPT 풀이"
   ]
  },
  {
   "cell_type": "code",
   "execution_count": 104,
   "id": "9c8c3218-15e7-468c-9ee3-7c2b338c20b7",
   "metadata": {
    "tags": []
   },
   "outputs": [],
   "source": [
    "def compress_string(s, step):\n",
    "    \"\"\"\n",
    "    s (str): 압축할 원본 문자열.\n",
    "    step (int): 압축할 때 사용할 문자열의 단위 길이.\n",
    "    반환값: 압축된 문자열.\n",
    "    \"\"\"\n",
    "    compressed_parts = []  # 압축 과정에서 생성된 문자열 조각들을 저장할 리스트.\n",
    "    prev = s[0:step]  # 처음 비교 대상이 될 문자열 조각.\n",
    "    count = 1  # prev가 반복되는 횟수. 처음 발견 시 1로 시작.\n",
    "\n",
    "    # 주어진 단위(step)만큼 문자열을 순회하며 압축을 시도.\n",
    "    # for문에 들어가기 전 맨 처음 비교 대상이 될 문자열 조각을 떼놓고, \n",
    "    # 그 다음 step만큼 떨어진 거리의 문자열 조각을 for문 안에서 비교하면서, 같으면 count를 올리고, 다르면 compressed_parts에 추가한다.\n",
    "    # 따라서 맨 마지막 문자열 조각은 prev와 같은 경우 count만 올라가고 추가는 안되고\n",
    "    # prev와 다른 경우 그 이전까지만 compressed_parts에 추가되므로 \n",
    "    # for문이 다 돌고 난 후 마지막 문자열 조각을 compressed_parts에 추가해줘야 한다.\n",
    "    \n",
    "    for i in range(step, len(s), step):\n",
    "        # 현재 조각이 이전 조각과 같다면, 반복 횟수를 증가.\n",
    "        if prev == s[i:i+step]:\n",
    "            count += 1\n",
    "        else:\n",
    "            # 이전 조각과 다르면, 지금까지의 반복 횟수와 조각을 기반으로 압축 문자열 생성.\n",
    "            # 반복 횟수가 2 이상이면, 횟수와 조각을 문자열로 만들어 리스트에 추가.\n",
    "            # 반복 횟수가 1이면, 조각만 리스트에 추가.\n",
    "            compressed_parts.append(f\"{count}{prev}\" if count >= 2 else prev)\n",
    "            prev = s[i:i+step]  # 다음 비교를 위해 현재 조각을 이전 조각으로 설정.\n",
    "            count = 1  # 반복 횟수 초기화.\n",
    "    # 마지막 문자열 조각 처리\n",
    "    compressed_parts.append(f\"{count}{prev}\" if count >= 2 else prev)\n",
    "\n",
    "    return ''.join(compressed_parts)  # 리스트에 저장된 모든 문자열 조각을 합쳐서 반환.\n",
    "\n",
    "def solution(s):\n",
    "\n",
    "    answer = len(s)  # 초기값 설정. 압축하지 않았을 때의 문자열 길이로 시작.\n",
    "    \n",
    "    # 1개 단위부터 len(s)//2 단위까지의 모든 가능한 압축 단위를 시도.\n",
    "    for step in range(1, len(s) // 2 + 1):\n",
    "        compressed = compress_string(s, step)  # 압축된 문자열 생성.\n",
    "        answer = min(answer, len(compressed))  # 생성된 압축 문자열 중 가장 짧은 길이를 선택.\n",
    "        \n",
    "    return answer\n"
   ]
  },
  {
   "cell_type": "markdown",
   "id": "07e48f0a-6522-49de-a330-8af1914fd96f",
   "metadata": {},
   "source": [
    "# 문12 이진변환 반복하기 m\n",
    "https://programmers.co.kr/learn/courses/30/lessons/70129"
   ]
  },
  {
   "cell_type": "code",
   "execution_count": null,
   "id": "12b244ed-74bb-4ce8-afaf-0cca2d306df2",
   "metadata": {},
   "outputs": [],
   "source": []
  }
 ],
 "metadata": {
  "kernelspec": {
   "display_name": "tf",
   "language": "python",
   "name": "tf"
  },
  "language_info": {
   "codemirror_mode": {
    "name": "ipython",
    "version": 3
   },
   "file_extension": ".py",
   "mimetype": "text/x-python",
   "name": "python",
   "nbconvert_exporter": "python",
   "pygments_lexer": "ipython3",
   "version": "3.11.0"
  }
 },
 "nbformat": 4,
 "nbformat_minor": 5
}
