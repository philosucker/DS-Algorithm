{
 "cells": [
  {
   "cell_type": "markdown",
   "id": "56047954-36b6-4199-ac5e-8e0a1a52e9fb",
   "metadata": {},
   "source": [
    "### e: 70, 71, 74\n",
    "### m: 72, 73"
   ]
  },
  {
   "cell_type": "markdown",
   "id": "8e2b1860-8ff6-4fbd-a6ef-accecc2a99d6",
   "metadata": {},
   "source": [
    "# XOR 게이트"
   ]
  },
  {
   "cell_type": "code",
   "execution_count": 23,
   "id": "40a18170-3d62-48ff-b37f-8e0078271a04",
   "metadata": {
    "tags": []
   },
   "outputs": [
    {
     "name": "stdout",
     "output_type": "stream",
     "text": [
      "True\n",
      "True\n",
      "False\n",
      "False\n"
     ]
    }
   ],
   "source": [
    "def xor_gate(x: int, y: int) -> bool:\n",
    "    return bool((x and not y) or (not x and y))\n",
    "\n",
    "print(xor_gate(1, 0))\n",
    "print(xor_gate(0, 1))\n",
    "print(xor_gate(0, 0))\n",
    "print(xor_gate(1, 1))"
   ]
  },
  {
   "cell_type": "code",
   "execution_count": 27,
   "id": "dafd40be-0a83-41c8-be9c-97574648796b",
   "metadata": {
    "tags": []
   },
   "outputs": [
    {
     "name": "stdout",
     "output_type": "stream",
     "text": [
      "True\n",
      "True\n",
      "False\n",
      "False\n"
     ]
    }
   ],
   "source": [
    "def and_gate(x: int, y:int) -> bool:\n",
    "    return bool(x and y)\n",
    "\n",
    "def nand_gate(x: int, y:int) -> bool:\n",
    "    return not(and_gate(x, y))\n",
    "\n",
    "def or_gate(x: int, y:int) -> bool:\n",
    "    return bool(x or y)\n",
    "\n",
    "def XOR_gate(x:int, y:int) -> bool:\n",
    "    return and_gate(nand_gate(x, y), or_gate(x, y))\n",
    "\n",
    "print(XOR_gate(1, 0))\n",
    "print(XOR_gate(0, 1))\n",
    "print(XOR_gate(0, 0))\n",
    "print(XOR_gate(1, 1))\n"
   ]
  },
  {
   "cell_type": "markdown",
   "id": "a4f2e61a-2c0f-4546-a7ea-2ae555df67ba",
   "metadata": {},
   "source": [
    "# 접두어  \n",
    "2진수: 0b  \n",
    "8진수: 0o  \n",
    "16진수: 0x  "
   ]
  },
  {
   "cell_type": "markdown",
   "id": "31f8ced8-86ff-4abb-a0ce-e95b12d1f35e",
   "metadata": {
    "tags": []
   },
   "source": [
    "# 비트연산자"
   ]
  },
  {
   "cell_type": "markdown",
   "id": "e3bbf786-c3b3-49ab-9b5a-95799e5d0431",
   "metadata": {},
   "source": [
    "### 더하기"
   ]
  },
  {
   "cell_type": "code",
   "execution_count": 26,
   "id": "1c9945a4-2243-4e2e-8394-ba185e962c8f",
   "metadata": {
    "tags": []
   },
   "outputs": [
    {
     "data": {
      "text/plain": [
       "8"
      ]
     },
     "execution_count": 26,
     "metadata": {},
     "output_type": "execute_result"
    }
   ],
   "source": [
    "0b110 + 0b0010 # 기본적으로 이진수 사칙연산결과는 십진수로 바꾼 값을 계산해 돌려준다"
   ]
  },
  {
   "cell_type": "code",
   "execution_count": 27,
   "id": "340cc272-332c-402f-8b88-f04fe0faee5a",
   "metadata": {
    "tags": []
   },
   "outputs": [
    {
     "data": {
      "text/plain": [
       "'0b1000'"
      ]
     },
     "execution_count": 27,
     "metadata": {},
     "output_type": "execute_result"
    }
   ],
   "source": [
    "bin(0b110 + 0b0010)"
   ]
  },
  {
   "cell_type": "markdown",
   "id": "57761d53-a85a-4d3e-93b0-82c95b54a6c9",
   "metadata": {},
   "source": [
    "### 곱하기"
   ]
  },
  {
   "cell_type": "code",
   "execution_count": 30,
   "id": "b70666a2-fbb2-473e-b2f5-7ef5fe07b583",
   "metadata": {
    "tags": []
   },
   "outputs": [
    {
     "data": {
      "text/plain": [
       "15"
      ]
     },
     "execution_count": 30,
     "metadata": {},
     "output_type": "execute_result"
    }
   ],
   "source": [
    "0b0011 * 0b0101     # 3 * 5를 돌려준다"
   ]
  },
  {
   "cell_type": "code",
   "execution_count": 32,
   "id": "7c05e4f1-ee9d-4e66-ac52-3d185ecd46f0",
   "metadata": {
    "tags": []
   },
   "outputs": [
    {
     "data": {
      "text/plain": [
       "'0b1111'"
      ]
     },
     "execution_count": 32,
     "metadata": {},
     "output_type": "execute_result"
    }
   ],
   "source": [
    "bin(0b0011 * 0b0101)"
   ]
  },
  {
   "cell_type": "code",
   "execution_count": null,
   "id": "2a4cf3a5-b68a-4eba-97d1-a0ec083d306e",
   "metadata": {},
   "outputs": [],
   "source": [
    " 101\n",
    "x 11\n",
    "----\n",
    " 101\n",
    "101\n",
    "1111"
   ]
  },
  {
   "cell_type": "markdown",
   "id": "309c8bf9-0be7-4da7-a717-9153392ba33f",
   "metadata": {},
   "source": [
    "### 시프트"
   ]
  },
  {
   "cell_type": "code",
   "execution_count": 42,
   "id": "67e89b65-d809-420f-a950-0403aab3a4ba",
   "metadata": {
    "tags": []
   },
   "outputs": [
    {
     "data": {
      "text/plain": [
       "16"
      ]
     },
     "execution_count": 42,
     "metadata": {},
     "output_type": "execute_result"
    }
   ],
   "source": [
    "2 << 3 # A << B : A 비트를 B만큼 자리 이동(이동하면서 빈 부분은 0으로 채움)"
   ]
  },
  {
   "cell_type": "code",
   "execution_count": 43,
   "id": "73a29183-1f37-44e0-a26e-88d8dc946e06",
   "metadata": {
    "tags": []
   },
   "outputs": [
    {
     "data": {
      "text/plain": [
       "16"
      ]
     },
     "execution_count": 43,
     "metadata": {},
     "output_type": "execute_result"
    }
   ],
   "source": [
    "0b10 << 3"
   ]
  },
  {
   "cell_type": "code",
   "execution_count": 38,
   "id": "4ab8ab33-fa8f-41d2-b355-8e71619726c5",
   "metadata": {
    "tags": []
   },
   "outputs": [
    {
     "data": {
      "text/plain": [
       "13"
      ]
     },
     "execution_count": 38,
     "metadata": {},
     "output_type": "execute_result"
    }
   ],
   "source": [
    "int(\"0b1101\", 2)"
   ]
  },
  {
   "cell_type": "code",
   "execution_count": 41,
   "id": "391a304e-ecf7-40a5-9dd8-dee59c024217",
   "metadata": {
    "tags": []
   },
   "outputs": [
    {
     "data": {
      "text/plain": [
       "'0b110100'"
      ]
     },
     "execution_count": 41,
     "metadata": {},
     "output_type": "execute_result"
    }
   ],
   "source": [
    "bin(0b1101 << 2)"
   ]
  },
  {
   "cell_type": "code",
   "execution_count": 44,
   "id": "4d83e302-b08b-470e-9da3-8094d0b16cd3",
   "metadata": {
    "tags": []
   },
   "outputs": [
    {
     "data": {
      "text/plain": [
       "'0b11'"
      ]
     },
     "execution_count": 44,
     "metadata": {},
     "output_type": "execute_result"
    }
   ],
   "source": [
    "bin(0b1101 >> 2)"
   ]
  },
  {
   "cell_type": "markdown",
   "id": "9ee82a2e-4083-44a6-a884-627c5352cf15",
   "metadata": {},
   "source": [
    "### ^ 연산자"
   ]
  },
  {
   "cell_type": "code",
   "execution_count": 63,
   "id": "5f7b7c14-a927-4f14-810a-d988367b8d4f",
   "metadata": {
    "tags": []
   },
   "outputs": [
    {
     "data": {
      "text/plain": [
       "'0b1111'"
      ]
     },
     "execution_count": 63,
     "metadata": {},
     "output_type": "execute_result"
    }
   ],
   "source": [
    "bin(0b1100 ^ 0b0011)  # A ^ B : XOR, A 또는 B의 비트가 둘 중 하나만1일 때 1을 반환, "
   ]
  },
  {
   "cell_type": "code",
   "execution_count": 46,
   "id": "5b6cd9b7-9f6c-4732-a078-9a2d46d297bf",
   "metadata": {
    "tags": []
   },
   "outputs": [
    {
     "data": {
      "text/plain": [
       "'0b1001'"
      ]
     },
     "execution_count": 46,
     "metadata": {},
     "output_type": "execute_result"
    }
   ],
   "source": [
    "bin(0b0101 ^ 0b1100)\n",
    "# 0101\n",
    "# 1010 \n",
    "#-----\n",
    "# 1001"
   ]
  },
  {
   "cell_type": "markdown",
   "id": "7a93732f-4830-4521-a27e-5a0c8e69fb05",
   "metadata": {
    "tags": []
   },
   "source": [
    "### NOT 연산자"
   ]
  },
  {
   "cell_type": "code",
   "execution_count": 52,
   "id": "2589fdd8-304f-4903-9616-888d0cb1a379",
   "metadata": {
    "tags": []
   },
   "outputs": [
    {
     "data": {
      "text/plain": [
       "-14"
      ]
     },
     "execution_count": 52,
     "metadata": {},
     "output_type": "execute_result"
    }
   ],
   "source": [
    "~ 13  # ~A : A를 십진수로 바꾸고 부호를 바꾼 뒤 1을 뺀 값과 같다 ~ x = -x-1 이 된다."
   ]
  },
  {
   "cell_type": "code",
   "execution_count": 51,
   "id": "21c7c1c1-95a6-403a-b06d-22283f56c988",
   "metadata": {
    "tags": []
   },
   "outputs": [
    {
     "data": {
      "text/plain": [
       "12"
      ]
     },
     "execution_count": 51,
     "metadata": {},
     "output_type": "execute_result"
    }
   ],
   "source": [
    "int(\"0b1100\", 2)"
   ]
  },
  {
   "cell_type": "code",
   "execution_count": 49,
   "id": "7f0a2db0-e0e2-49d4-ad79-8b7493508ad0",
   "metadata": {
    "tags": []
   },
   "outputs": [
    {
     "data": {
      "text/plain": [
       "-13"
      ]
     },
     "execution_count": 49,
     "metadata": {},
     "output_type": "execute_result"
    }
   ],
   "source": [
    "~0b1100"
   ]
  },
  {
   "cell_type": "code",
   "execution_count": 57,
   "id": "39beb1f6-6572-48a4-8927-a93f8a8d422d",
   "metadata": {
    "tags": []
   },
   "outputs": [
    {
     "data": {
      "text/plain": [
       "'-0b1010'"
      ]
     },
     "execution_count": 57,
     "metadata": {},
     "output_type": "execute_result"
    }
   ],
   "source": [
    "bin(0b0101 ^ ~0b1100) # == bin(0b0101 ^ -0b1101)\n",
    "#  0101\n",
    "#  0011 <<< -13을 2의 보수로 표현한 것\n",
    "# ----- \n",
    "#  0110 >>> 6을 다시 2의 보수로 표현하면 -10,\n",
    "# -10을 다시 2진수로 바꾸면 -1010"
   ]
  },
  {
   "cell_type": "code",
   "execution_count": 54,
   "id": "ea9791fb-7894-486d-be27-4b692a3b03d6",
   "metadata": {
    "tags": []
   },
   "outputs": [
    {
     "data": {
      "text/plain": [
       "-13"
      ]
     },
     "execution_count": 54,
     "metadata": {},
     "output_type": "execute_result"
    }
   ],
   "source": [
    "~0b1100"
   ]
  },
  {
   "cell_type": "code",
   "execution_count": 55,
   "id": "ac2cdf0d-573c-4473-be41-423312a68667",
   "metadata": {
    "tags": []
   },
   "outputs": [
    {
     "data": {
      "text/plain": [
       "'-0b1101'"
      ]
     },
     "execution_count": 55,
     "metadata": {},
     "output_type": "execute_result"
    }
   ],
   "source": [
    "bin(-13)"
   ]
  },
  {
   "cell_type": "code",
   "execution_count": 56,
   "id": "18fbd39e-4938-4bd4-a2df-0275b6952722",
   "metadata": {
    "tags": []
   },
   "outputs": [
    {
     "data": {
      "text/plain": [
       "'-0b1010'"
      ]
     },
     "execution_count": 56,
     "metadata": {},
     "output_type": "execute_result"
    }
   ],
   "source": [
    "bin(0b0101 ^ -0b1101)"
   ]
  },
  {
   "cell_type": "code",
   "execution_count": 60,
   "id": "e1a54cb9-18c5-4c22-98e2-1b65fb8cce40",
   "metadata": {
    "tags": []
   },
   "outputs": [
    {
     "data": {
      "text/plain": [
       "'0b110'"
      ]
     },
     "execution_count": 60,
     "metadata": {},
     "output_type": "execute_result"
    }
   ],
   "source": [
    "MASK = 0b1111\n",
    "bin(0b0101 ^ (0b1100 ^ MASK))  # bin(0b0101 ^ ~0b1100) 연산을 bin(0b0101 ^ 0b0011)로 바꾸는 방법. \n",
    "# i.e. ~ 비트연산자를 부호반전 연산자로 바로 쓰는 방법"
   ]
  },
  {
   "cell_type": "markdown",
   "id": "6d56a0c4-ece8-43af-88d4-6bf339d35109",
   "metadata": {},
   "source": [
    "### & 연산자"
   ]
  },
  {
   "cell_type": "code",
   "execution_count": 28,
   "id": "f0f81565-343d-4a0d-9191-5598c3dd5506",
   "metadata": {
    "tags": []
   },
   "outputs": [
    {
     "data": {
      "text/plain": [
       "False"
      ]
     },
     "execution_count": 28,
     "metadata": {},
     "output_type": "execute_result"
    }
   ],
   "source": [
    "True & False   # A & B : A와 B의 비트가 모두 1일 때만 1을 반환"
   ]
  },
  {
   "cell_type": "code",
   "execution_count": 40,
   "id": "11445a9b-fa42-4310-b2cb-64356c084d28",
   "metadata": {
    "tags": []
   },
   "outputs": [
    {
     "name": "stdout",
     "output_type": "stream",
     "text": [
      "전부 사용중\n"
     ]
    }
   ],
   "source": [
    "'''데이터에서 어떤 상태를 체크할 때 이런 코드를 짠다면'''\n",
    "subs = [1,1,1,1,0]\n",
    "if subs[1] ==1 and subs[2] ==1 and subs[3] ==1: print(\"전부 사용중\")\n",
    "else: print(\"설치 빠진 거 있음\")"
   ]
  },
  {
   "cell_type": "code",
   "execution_count": 20,
   "id": "a19c4025-92c4-4bb0-81e5-48d47a8e5965",
   "metadata": {
    "tags": []
   },
   "outputs": [
    {
     "name": "stdout",
     "output_type": "stream",
     "text": [
      "설치 빠진 거 있음\n"
     ]
    }
   ],
   "source": [
    "'''비슷한 기능을 2진수로 하는게 비트조작(비트마스크)'''\n",
    "subs_bin = 0b10110\n",
    "if subs_bin & 0b01110 == 0b01110: print(\"전부 사용중\")\n",
    "else: print(\"설치 빠진 거 있음\")"
   ]
  },
  {
   "cell_type": "code",
   "execution_count": 24,
   "id": "17dd554c-55de-404f-9ac3-351a3b6ec5c6",
   "metadata": {
    "tags": []
   },
   "outputs": [
    {
     "name": "stdout",
     "output_type": "stream",
     "text": [
      "이진수 0b10110을 십진수로 나타내는 함수는 int('0b10110',2) : 22\n",
      "십진수 22를 이진수로 나타내는 함수는 bin(22) : 0b10110\n"
     ]
    }
   ],
   "source": [
    "print(f\"이진수 0b10110을 십진수로 나타내는 함수는 int('0b10110',2) : {int('0b10110', 2)}\")\n",
    "print(f\"십진수 22를 이진수로 나타내는 함수는 bin(22) : {bin(22)}\")"
   ]
  },
  {
   "cell_type": "code",
   "execution_count": 22,
   "id": "792e7811-76de-4d8c-9f48-8373356a9c67",
   "metadata": {
    "tags": []
   },
   "outputs": [
    {
     "data": {
      "text/plain": [
       "6"
      ]
     },
     "execution_count": 22,
     "metadata": {},
     "output_type": "execute_result"
    }
   ],
   "source": [
    "subs_bin & 0b01110\n",
    "# subs_bin:  10110  과\n",
    "# 0b01110:   01110  의  각 자릿수를 비교해서 둘다 1이면 1을 반환 아니면 0을 반환\n",
    "#----------------\n",
    "# 결과:       00110"
   ]
  },
  {
   "cell_type": "code",
   "execution_count": 19,
   "id": "37072a7b-d08c-4647-8c93-449b0fab460c",
   "metadata": {
    "tags": []
   },
   "outputs": [
    {
     "data": {
      "text/plain": [
       "'0b110'"
      ]
     },
     "execution_count": 19,
     "metadata": {},
     "output_type": "execute_result"
    }
   ],
   "source": [
    "bin(6)"
   ]
  },
  {
   "cell_type": "code",
   "execution_count": 25,
   "id": "97ce72cc-b237-4e76-a667-2bb0b5fee60d",
   "metadata": {
    "tags": []
   },
   "outputs": [
    {
     "data": {
      "text/plain": [
       "6"
      ]
     },
     "execution_count": 25,
     "metadata": {},
     "output_type": "execute_result"
    }
   ],
   "source": [
    "0b00110 & 0b01110\n",
    "# 00110\n",
    "# 01110\n",
    "#------\n",
    "# 00110   두번째 비트 둘 중 하나가 0이다."
   ]
  },
  {
   "cell_type": "code",
   "execution_count": 30,
   "id": "f7bf82d3-ebb3-45b8-855f-0f557e16eaa6",
   "metadata": {
    "tags": []
   },
   "outputs": [
    {
     "data": {
      "text/plain": [
       "0"
      ]
     },
     "execution_count": 30,
     "metadata": {},
     "output_type": "execute_result"
    }
   ],
   "source": [
    "1 & 0"
   ]
  },
  {
   "cell_type": "markdown",
   "id": "952bb832-985f-4798-be88-ba7e230d6fb4",
   "metadata": {},
   "source": [
    "### | 연산자"
   ]
  },
  {
   "cell_type": "code",
   "execution_count": 3,
   "id": "f0526dc9-9081-435c-a689-f74f84dfdbdb",
   "metadata": {
    "tags": []
   },
   "outputs": [
    {
     "data": {
      "text/plain": [
       "True"
      ]
     },
     "execution_count": 3,
     "metadata": {},
     "output_type": "execute_result"
    }
   ],
   "source": [
    "True | False # A | B : A 또는 B의 비트가 1일 때 1을 반환"
   ]
  },
  {
   "cell_type": "code",
   "execution_count": 32,
   "id": "2395e858-f3fe-496e-8fb4-eb457f58f4c6",
   "metadata": {
    "tags": []
   },
   "outputs": [
    {
     "data": {
      "text/plain": [
       "1"
      ]
     },
     "execution_count": 32,
     "metadata": {},
     "output_type": "execute_result"
    }
   ],
   "source": [
    "1 | 0"
   ]
  },
  {
   "cell_type": "code",
   "execution_count": null,
   "id": "46c0a643-539c-4c7a-9595-7f3807db6456",
   "metadata": {},
   "outputs": [],
   "source": []
  },
  {
   "cell_type": "markdown",
   "id": "b2950cab-6135-4919-b105-8bac3e66b557",
   "metadata": {},
   "source": []
  },
  {
   "cell_type": "markdown",
   "id": "6ac986bb-b161-458f-8e22-f082dd8b101b",
   "metadata": {},
   "source": [
    "# 2의 보수"
   ]
  },
  {
   "cell_type": "code",
   "execution_count": null,
   "id": "e3f80a97-b493-4986-b24a-c24df6d7246d",
   "metadata": {},
   "outputs": [],
   "source": [
    "하스켈에서 int의 size는 64비트 CPU인 경우 -2^63 ~ 2^63-1 까지 표현 가능하다\n",
    "(C언어의 표준에 따르면 64비트 시스템에서 int는 보통 32비트를 사용하고, long이나 long long이 64비트를 사용)\n",
    "\n",
    "이 범위를 가지는 이유는\n",
    "컴퓨터가 음수 표현시 2의 보수 숫자 포맷을 사용하기 때문이다.\n",
    "\n",
    "2^64를 양수로만 표현하게 사용하면 음수를 표현할 수 없으므로, 절반을 잘라서\n",
    "2^63은 음수, 2^63-1은 양수, 맨 앞은 부호비트 MSB Most significant Bit 로 사용한다.\n",
    "\n",
    "4비트로만 표현하는 예를 들어보면,\n",
    "\n",
    "양수는 1의 경우 0001\n",
    "음수는 -1의 경우 1111 이 된다.\n",
    "십진수에선 양수에서 음수로 부호만 바뀐다고 했을 때 \n",
    "2진수에서의 표현법은\n",
    "2진수 양수의 모든 자릿수 비트를 반전한 후 \n",
    "1의 자리에 1을 더한 것과 같다.                  >>> 이게 2의 보수 수학 연산이다. 즉 컴퓨터에서 양수를 음수로 표현하는 방법\n",
    "\n",
    "1: 0001    2: 0010    6: 0110\n",
    "   1110       1101       1001\n",
    "-1:1111    -2:1110    -6:1010\n",
    "\n",
    "이제 비트를 0부터 1씩 증가시켜 쭉 늘어뜨려보면\n",
    "아래처럼 된다\n",
    "\n",
    "십진수  0    1    2    3    4    5    6    7    -8   -7   -6   -5   -4   -3   -2   -1\n",
    "이진수 0000 0001 0010 0011 0100 0101 0110 0111 1000 1001 1010 1011 1100 1101 1110 1111\n",
    "\n",
    "\n",
    "십진수 양수/음수를 \n",
    "이진수 양수/2의 보수(이진수 양수에 상응하는 음수)로\n",
    "곧바로 나타내는 방법은 마스크를 쓰는 것이다."
   ]
  },
  {
   "cell_type": "code",
   "execution_count": 10,
   "id": "ca32f2e5-c354-457e-9495-c928bf167391",
   "metadata": {
    "tags": []
   },
   "outputs": [
    {
     "name": "stdout",
     "output_type": "stream",
     "text": [
      "0b1\n",
      "0b1111\n",
      "\n",
      "0b111\n",
      "0b1001\n"
     ]
    }
   ],
   "source": [
    "Mask = 0xF\n",
    "print(bin(1 & Mask))\n",
    "print(bin(-1 & Mask))\n",
    "print()\n",
    "print(bin(7 & Mask))\n",
    "print(bin(-7 & Mask))"
   ]
  },
  {
   "cell_type": "markdown",
   "id": "81ef59ee-8c81-4e6e-8a4b-296c60d17267",
   "metadata": {
    "tags": []
   },
   "source": [
    "그런데 2진수 양수에 이렇게 2의 보수 연산을 해서 얻은   \n",
    "음수 이진수는  \n",
    "십진수로 바꿔보면 전혀 다른 수가 된다. 하지만 괜찮다.  \n",
    "  \n",
    "파이썬에서는   \n",
    "음수를 이진수로 바꿀 때   \n",
    "2의 보수 값을 실제로 보여주지 않고  \n",
    "이진수 양수에 부호만 바뀐 값을 바로 보여준다  "
   ]
  },
  {
   "cell_type": "code",
   "execution_count": 11,
   "id": "b1f7727b-bfc5-4c03-8e05-852c87275055",
   "metadata": {
    "tags": []
   },
   "outputs": [
    {
     "name": "stdout",
     "output_type": "stream",
     "text": [
      "-0b1\n",
      "-0b111\n"
     ]
    }
   ],
   "source": [
    "print(bin(-1))\n",
    "print(bin(-7))"
   ]
  },
  {
   "cell_type": "code",
   "execution_count": 14,
   "id": "81a47ad2-db78-4f48-8a99-d500e072c42c",
   "metadata": {
    "tags": []
   },
   "outputs": [
    {
     "name": "stdout",
     "output_type": "stream",
     "text": [
      "-1\n",
      "-7\n"
     ]
    }
   ],
   "source": [
    "print(int(bin(-1), 2))\n",
    "print(int(bin(-7), 2))"
   ]
  },
  {
   "cell_type": "code",
   "execution_count": null,
   "id": "8f31af9c-2024-49af-96e0-1f3a5e7340aa",
   "metadata": {},
   "outputs": [],
   "source": []
  },
  {
   "cell_type": "markdown",
   "id": "93f5d3c4-d3ca-4b9d-8b44-61b3ccf6ba46",
   "metadata": {},
   "source": [
    "비트연산자를 쓸 때도   \n",
    "파이썬에선    \n",
    "십진수 음수를 이진수로 표현시 2의 보수로 바꾼 값을 가지고 비트연산을 하지 않고  \n",
    "이진수 양수에 부호만 바꾼 값을 가지고 비트 연산을 한다  \n",
    "(편의성이 좋은 것)"
   ]
  },
  {
   "cell_type": "code",
   "execution_count": 29,
   "id": "1fa8eafd-1334-4182-ae9c-b5e324077041",
   "metadata": {
    "tags": []
   },
   "outputs": [
    {
     "name": "stdout",
     "output_type": "stream",
     "text": [
      "0b100\n",
      "0b1100\n",
      "\n",
      "0b101\n",
      "-0b100\n"
     ]
    }
   ],
   "source": [
    "Mask = 0b1111\n",
    "print(bin(4))   \n",
    "print(bin(-4 & Mask))  # 4를 2의 보수로 표현\n",
    "print()\n",
    "print(bin(5))\n",
    "print(bin(-4))"
   ]
  },
  {
   "cell_type": "code",
   "execution_count": 30,
   "id": "a2938c4b-5e97-4301-a9b8-271f969be61f",
   "metadata": {
    "tags": []
   },
   "outputs": [
    {
     "data": {
      "text/plain": [
       "4"
      ]
     },
     "execution_count": 30,
     "metadata": {},
     "output_type": "execute_result"
    }
   ],
   "source": [
    "5 & -4 "
   ]
  },
  {
   "cell_type": "code",
   "execution_count": 31,
   "id": "b29b0702-53ca-4bdf-9fd6-7f64fcc2aaea",
   "metadata": {
    "tags": []
   },
   "outputs": [
    {
     "data": {
      "text/plain": [
       "4"
      ]
     },
     "execution_count": 31,
     "metadata": {},
     "output_type": "execute_result"
    }
   ],
   "source": [
    "0b0101 & -0b0100 # 음수를 입력할 때 2의 보수를 직접 입력할 필요가 없다. 내부적으로 알아서 변환해 연산한다."
   ]
  },
  {
   "cell_type": "code",
   "execution_count": 34,
   "id": "ed20a9d6-451d-462d-8fff-5500659737af",
   "metadata": {
    "tags": []
   },
   "outputs": [
    {
     "data": {
      "text/plain": [
       "4"
      ]
     },
     "execution_count": 34,
     "metadata": {},
     "output_type": "execute_result"
    }
   ],
   "source": [
    "# 0b1100: -4(0b0100)를 2의 보수로 표현\n",
    "0b0101 & 0b1100  # 2의 보수를 직접 입력해줘도 같은 십진수 결과를 반환한다. \n",
    "\n",
    "# 이 경우 우리는 0b1100이 4를 2의 보수로 표현했다고 생각하고 쓴거지만\n",
    "# 파이썬에겐 12를 입력한 것과 같다."
   ]
  },
  {
   "cell_type": "code",
   "execution_count": 36,
   "id": "b1370e45-4dcb-4649-aa61-7bf27b0debf2",
   "metadata": {
    "tags": []
   },
   "outputs": [
    {
     "data": {
      "text/plain": [
       "12"
      ]
     },
     "execution_count": 36,
     "metadata": {},
     "output_type": "execute_result"
    }
   ],
   "source": [
    "int(\"0b1100\", 2)"
   ]
  },
  {
   "cell_type": "code",
   "execution_count": 37,
   "id": "d191a7ac-f585-4a34-8551-0fa7d2418c4a",
   "metadata": {
    "tags": []
   },
   "outputs": [
    {
     "data": {
      "text/plain": [
       "4"
      ]
     },
     "execution_count": 37,
     "metadata": {},
     "output_type": "execute_result"
    }
   ],
   "source": [
    "0b0101 & 12"
   ]
  },
  {
   "cell_type": "markdown",
   "id": "d76769c0-be2e-40f0-bd28-275d60ca62a7",
   "metadata": {},
   "source": [
    "정리하면  \n",
    "파이썬에서는 비트연산자를 쓸 때  \n",
    "우리가 생각하는 정수를 이진수로 바꾼 것에 부호만 바꿔서 입력해줘도(i.e. 해당 정수를 그대로 입력해줘도)   \n",
    "우리가 의도하는 각 자릿수의 비트만 반전시킨 이진수에 해당하는 정수를 반환한다.  \n",
    "### 즉 비트 연산자를 쓸 때는 2의 보수를 생각할 필요가 없다"
   ]
  },
  {
   "cell_type": "code",
   "execution_count": 62,
   "id": "6d6ce42e-ccda-4f6b-a985-1a182ac2ee50",
   "metadata": {
    "tags": []
   },
   "outputs": [
    {
     "data": {
      "text/plain": [
       "-5"
      ]
     },
     "execution_count": 62,
     "metadata": {},
     "output_type": "execute_result"
    }
   ],
   "source": [
    "~0b0100"
   ]
  },
  {
   "cell_type": "markdown",
   "id": "e755d23c-5b99-417b-ab8f-50056ddc1173",
   "metadata": {
    "tags": []
   },
   "source": [
    "# 문제는 NOT 연산자\n",
    "파이썬에서 비트연산자인 NOT 연산자는  \n",
    "입력한 수를 음수로 바꿔 -1을 한 값을 반환한다.  \n",
    "\n",
    "따라서 NOT 연산자를 써서 음수를 표현하려면 +1을 해줘야 한다.  \n",
    "십진수든 이진수든 마찬가지.  "
   ]
  },
  {
   "cell_type": "code",
   "execution_count": 41,
   "id": "4d6205b6-a14b-4a15-96c0-446f75074031",
   "metadata": {
    "tags": []
   },
   "outputs": [
    {
     "data": {
      "text/plain": [
       "-9"
      ]
     },
     "execution_count": 41,
     "metadata": {},
     "output_type": "execute_result"
    }
   ],
   "source": [
    "~8"
   ]
  },
  {
   "cell_type": "code",
   "execution_count": 42,
   "id": "27386240-d7e3-42ad-8ed4-8248e3087b8a",
   "metadata": {
    "tags": []
   },
   "outputs": [
    {
     "data": {
      "text/plain": [
       "-8"
      ]
     },
     "execution_count": 42,
     "metadata": {},
     "output_type": "execute_result"
    }
   ],
   "source": [
    "~8+1"
   ]
  },
  {
   "cell_type": "code",
   "execution_count": 64,
   "id": "e1ad93f6-da15-4f92-ab07-2315a814a964",
   "metadata": {
    "tags": []
   },
   "outputs": [
    {
     "data": {
      "text/plain": [
       "4"
      ]
     },
     "execution_count": 64,
     "metadata": {},
     "output_type": "execute_result"
    }
   ],
   "source": [
    "0b0100"
   ]
  },
  {
   "cell_type": "code",
   "execution_count": 68,
   "id": "e2f09926-1d05-4e7b-b783-12a58ae55ac6",
   "metadata": {
    "tags": []
   },
   "outputs": [
    {
     "data": {
      "text/plain": [
       "-5"
      ]
     },
     "execution_count": 68,
     "metadata": {},
     "output_type": "execute_result"
    }
   ],
   "source": [
    "~0b0100"
   ]
  },
  {
   "cell_type": "code",
   "execution_count": 63,
   "id": "4c51ea83-87f1-4813-8b0e-622fdeb34d39",
   "metadata": {
    "tags": []
   },
   "outputs": [
    {
     "data": {
      "text/plain": [
       "-4"
      ]
     },
     "execution_count": 63,
     "metadata": {},
     "output_type": "execute_result"
    }
   ],
   "source": [
    "~0b0100+1 # ~0b0100+1 == 0b1011+1 ==-0b1100"
   ]
  },
  {
   "cell_type": "markdown",
   "id": "708c8d9f-1877-422a-aea3-60daa6aeda6a",
   "metadata": {},
   "source": [
    "## NOT 연산자에 어떤 이진수를 입력했을 때 비트만 반전되어 리턴되게 하려면?"
   ]
  },
  {
   "cell_type": "code",
   "execution_count": 56,
   "id": "18bc246a-6031-46a0-8e26-deca2c550439",
   "metadata": {
    "tags": []
   },
   "outputs": [
    {
     "data": {
      "text/plain": [
       "-5"
      ]
     },
     "execution_count": 56,
     "metadata": {},
     "output_type": "execute_result"
    }
   ],
   "source": [
    "~0b0100"
   ]
  },
  {
   "cell_type": "code",
   "execution_count": 55,
   "id": "d8ad908e-e6c1-4f37-a43e-08329d2036de",
   "metadata": {
    "tags": []
   },
   "outputs": [
    {
     "data": {
      "text/plain": [
       "'0b1011'"
      ]
     },
     "execution_count": 55,
     "metadata": {},
     "output_type": "execute_result"
    }
   ],
   "source": [
    "Mask = 0xF\n",
    "bin(~0b0100 & Mask)"
   ]
  },
  {
   "cell_type": "code",
   "execution_count": 70,
   "id": "259784ab-8faf-446b-95c3-ccdca482a4e1",
   "metadata": {
    "tags": []
   },
   "outputs": [
    {
     "data": {
      "text/plain": [
       "True"
      ]
     },
     "execution_count": 70,
     "metadata": {},
     "output_type": "execute_result"
    }
   ],
   "source": [
    "~0b0100 == -0b0101 # ~4는 -5와 같다."
   ]
  },
  {
   "cell_type": "code",
   "execution_count": 58,
   "id": "266f6f91-aeb0-4100-99d9-4752b6eac2c5",
   "metadata": {
    "tags": []
   },
   "outputs": [
    {
     "data": {
      "text/plain": [
       "'-0b101'"
      ]
     },
     "execution_count": 58,
     "metadata": {},
     "output_type": "execute_result"
    }
   ],
   "source": [
    "bin(-5)"
   ]
  },
  {
   "cell_type": "code",
   "execution_count": 59,
   "id": "d95b32f6-fa66-4534-b8d6-1a73904db62b",
   "metadata": {
    "tags": []
   },
   "outputs": [
    {
     "data": {
      "text/plain": [
       "-13"
      ]
     },
     "execution_count": 59,
     "metadata": {},
     "output_type": "execute_result"
    }
   ],
   "source": [
    "~0b1100"
   ]
  },
  {
   "cell_type": "markdown",
   "id": "a2709966-b842-480e-87d9-0578d9c33817",
   "metadata": {},
   "source": [
    "# 문70 싱글넘버 e\n",
    "https://leetcode.com/problems/single-number"
   ]
  },
  {
   "cell_type": "code",
   "execution_count": null,
   "id": "b1c79697-db20-4b04-a60b-5bbe26186cf3",
   "metadata": {},
   "outputs": [],
   "source": [
    "Given a non-empty array of integers nums, every element appears twice except for one. Find that single one.\n",
    "You must implement a solution with a linear runtime complexity and use only constant extra space.\n",
    "\n",
    "Example 1:\n",
    "\n",
    "Input: nums = [2,2,1]\n",
    "Output: 1\n",
    "\n",
    "Example 2:\n",
    "\n",
    "Input: nums = [4,1,2,1,2]\n",
    "Output: 4"
   ]
  },
  {
   "cell_type": "code",
   "execution_count": null,
   "id": "2f0adbb0-5717-43dc-a647-e4fe51b71f59",
   "metadata": {},
   "outputs": [],
   "source": [
    "class Solution:\n",
    "    def singleNumber(self, nums: List[int]) -> int:\n",
    "        "
   ]
  },
  {
   "cell_type": "markdown",
   "id": "84c2f23a-b001-42d2-bd8f-2ea2ba090fcd",
   "metadata": {},
   "source": [
    "# 문71 해밍거리 e\n",
    "https://leetcode.com/problems/hamming-distance"
   ]
  },
  {
   "cell_type": "code",
   "execution_count": null,
   "id": "6402299f-c48b-4e5c-a2bf-b90238a19bb0",
   "metadata": {},
   "outputs": [],
   "source": [
    "The Hamming distance between two integers is the number of positions at which the corresponding bits are different.\n",
    "\n",
    "Given two integers x and y, return the Hamming distance between them.\n",
    "\n",
    " \n",
    "\n",
    "Example 1:\n",
    "\n",
    "Input: x = 1, y = 4\n",
    "Output: 2\n",
    "Explanation:\n",
    "1   (0 0 0 1)\n",
    "4   (0 1 0 0)\n",
    "       ↑   ↑\n",
    "The above arrows point to positions where the corresponding bits are different."
   ]
  },
  {
   "cell_type": "code",
   "execution_count": null,
   "id": "a8e0c26a-b8a4-47c0-963c-8638bf0fb401",
   "metadata": {},
   "outputs": [],
   "source": [
    "class Solution:\n",
    "    def hammingDistance(self, x: int, y: int) -> int:\n",
    "        "
   ]
  },
  {
   "cell_type": "markdown",
   "id": "1d87035f-2902-4857-b19a-0db26df39938",
   "metadata": {},
   "source": [
    "# 문74 1비트의 개수 e\n",
    "https://leetcode.com/problems/number-of-1-bits"
   ]
  },
  {
   "cell_type": "code",
   "execution_count": null,
   "id": "e25f6527-92bf-4f27-a1b4-e6670e483e17",
   "metadata": {},
   "outputs": [],
   "source": [
    "Write a function that takes the binary representation of an unsigned integer \n",
    "and returns the number of '1' bits it has (also known as the Hamming weight).\n",
    "\n",
    "Note:\n",
    "\n",
    "Note that in some languages, such as Java, there is no unsigned integer type. \n",
    "In this case, the input will be given as a signed integer type. \n",
    "It should not affect your implementation, as the integer's internal binary representation is the same, whether it is signed or unsigned.\n",
    "In Java, the compiler represents the signed integers using 2's complement notation. \n",
    "Therefore, in Example 3, the input represents the signed integer. -3.\n",
    " \n",
    "\n",
    "Example 1:\n",
    "\n",
    "Input: n = 00000000000000000000000000001011\n",
    "Output: 3\n",
    "Explanation: The input binary string 00000000000000000000000000001011 has a total of three '1' bits."
   ]
  },
  {
   "cell_type": "code",
   "execution_count": null,
   "id": "8518f54a-7434-42bd-bde4-04ee230fe21f",
   "metadata": {},
   "outputs": [],
   "source": [
    "class Solution:\n",
    "    def hammingWeight(self, n: int) -> int:\n",
    "        "
   ]
  },
  {
   "cell_type": "markdown",
   "id": "32d981ee-462a-49e2-86b1-3457dbc7b92e",
   "metadata": {},
   "source": [
    "# 문72 두 정수의 합 m\n",
    "https://leetcode.com/problems/sum-of-two-integers"
   ]
  },
  {
   "cell_type": "code",
   "execution_count": null,
   "id": "0279bfc7-49e6-4a2b-95cf-3473e2baca83",
   "metadata": {},
   "outputs": [],
   "source": [
    "Given two integers a and b, return the sum of the two integers without using the operators + and -.\n",
    "\n",
    " \n",
    "\n",
    "Example 1:\n",
    "\n",
    "Input: a = 1, b = 2\n",
    "Output: 3\n",
    "\n",
    "Example 2:\n",
    "\n",
    "Input: a = 2, b = 3\n",
    "Output: 5"
   ]
  },
  {
   "cell_type": "markdown",
   "id": "005c4897-c7cc-4c79-a657-d3c3a771bd92",
   "metadata": {},
   "source": [
    "# 문73 UTF-8 검증 m\n",
    "https://leetcode.com/problems/utf-8-validation"
   ]
  },
  {
   "cell_type": "code",
   "execution_count": null,
   "id": "6b45b77c-f975-466f-8d46-400631a5fcc6",
   "metadata": {},
   "outputs": [],
   "source": [
    "Given an integer array data representing the data, return whether it is a valid UTF-8 encoding \n",
    "(i.e. it translates to a sequence of valid UTF-8 encoded characters).\n",
    "\n",
    "A character in UTF8 can be from 1 to 4 bytes long, subjected to the following rules:\n",
    "\n",
    "For a 1-byte character, the first bit is a 0, followed by its Unicode code.\n",
    "For an n-bytes character, the first n bits are all one's, the n + 1 bit is 0, followed by n - 1 bytes with the most significant 2 bits being 10.\n",
    "This is how the UTF-8 encoding would work:\n",
    "\n",
    "     Number of Bytes   |        UTF-8 Octet Sequence\n",
    "                       |              (binary)\n",
    "   --------------------+-----------------------------------------\n",
    "            1          |   0xxxxxxx\n",
    "            2          |   110xxxxx 10xxxxxx\n",
    "            3          |   1110xxxx 10xxxxxx 10xxxxxx\n",
    "            4          |   11110xxx 10xxxxxx 10xxxxxx 10xxxxxx\n",
    "x denotes a bit in the binary form of a byte that may be either 0 or 1.\n",
    "\n",
    "Note: The input is an array of integers. Only the least significant 8 bits of each integer is used to store the data. \n",
    "This means each integer represents only 1 byte of data.\n",
    "\n",
    " \n",
    "\n",
    "Example 1:\n",
    "\n",
    "Input: data = [197,130,1]\n",
    "Output: true\n",
    "Explanation: data represents the octet sequence: 11000101 10000010 00000001.\n",
    "It is a valid utf-8 encoding for a 2-bytes character followed by a 1-byte character."
   ]
  },
  {
   "cell_type": "code",
   "execution_count": null,
   "id": "46d0ada6-9311-4ee1-a199-f19ce7c495b1",
   "metadata": {},
   "outputs": [],
   "source": [
    "class Solution:\n",
    "    def validUtf8(self, data: List[int]) -> bool:\n",
    "        "
   ]
  }
 ],
 "metadata": {
  "kernelspec": {
   "display_name": "tf",
   "language": "python",
   "name": "tf"
  },
  "language_info": {
   "codemirror_mode": {
    "name": "ipython",
    "version": 3
   },
   "file_extension": ".py",
   "mimetype": "text/x-python",
   "name": "python",
   "nbconvert_exporter": "python",
   "pygments_lexer": "ipython3",
   "version": "3.11.0"
  }
 },
 "nbformat": 4,
 "nbformat_minor": 5
}
