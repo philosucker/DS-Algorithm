{
 "cells": [
  {
   "cell_type": "markdown",
   "id": "56047954-36b6-4199-ac5e-8e0a1a52e9fb",
   "metadata": {},
   "source": [
    "### e: 70, 71, 74\n",
    "### m: 72, 73"
   ]
  },
  {
   "cell_type": "code",
   "execution_count": null,
   "id": "d1234c6e-bfdc-4790-a63d-fd43137588b0",
   "metadata": {},
   "outputs": [],
   "source": [
    "비트 연산자   부울 연산자\n",
    "    &     =    and\n",
    "    |     =     or\n",
    "    ~                 ~는 틸드라고 읽는다. 틸드연산자, 비트not연산자\n",
    "    ^                 xor 게이트와 같다.\n",
    "비트 연산자   산술 연산자\n",
    "    +     =     +\n",
    "    *     =     *\n",
    "\n",
    "\n",
    "    >>  시프트\n",
    "    <<"
   ]
  },
  {
   "cell_type": "markdown",
   "id": "8e2b1860-8ff6-4fbd-a6ef-accecc2a99d6",
   "metadata": {},
   "source": [
    "# XOR 게이트"
   ]
  },
  {
   "cell_type": "code",
   "execution_count": 23,
   "id": "40a18170-3d62-48ff-b37f-8e0078271a04",
   "metadata": {
    "tags": []
   },
   "outputs": [
    {
     "name": "stdout",
     "output_type": "stream",
     "text": [
      "True\n",
      "True\n",
      "False\n",
      "False\n"
     ]
    }
   ],
   "source": [
    "def xor_gate(x: int, y: int) -> bool:\n",
    "    return bool((x and not y) or (not x and y))\n",
    "\n",
    "print(xor_gate(1, 0))\n",
    "print(xor_gate(0, 1))\n",
    "print(xor_gate(0, 0))\n",
    "print(xor_gate(1, 1))"
   ]
  },
  {
   "cell_type": "code",
   "execution_count": 27,
   "id": "dafd40be-0a83-41c8-be9c-97574648796b",
   "metadata": {
    "tags": []
   },
   "outputs": [
    {
     "name": "stdout",
     "output_type": "stream",
     "text": [
      "True\n",
      "True\n",
      "False\n",
      "False\n"
     ]
    }
   ],
   "source": [
    "def and_gate(x: int, y:int) -> bool:\n",
    "    return bool(x and y)\n",
    "\n",
    "def nand_gate(x: int, y:int) -> bool:\n",
    "    return not(and_gate(x, y))\n",
    "\n",
    "def or_gate(x: int, y:int) -> bool:\n",
    "    return bool(x or y)\n",
    "\n",
    "def XOR_gate(x:int, y:int) -> bool:\n",
    "    return and_gate(nand_gate(x, y), or_gate(x, y))\n",
    "\n",
    "print(XOR_gate(1, 0))\n",
    "print(XOR_gate(0, 1))\n",
    "print(XOR_gate(0, 0))\n",
    "print(XOR_gate(1, 1))\n"
   ]
  },
  {
   "cell_type": "markdown",
   "id": "a4f2e61a-2c0f-4546-a7ea-2ae555df67ba",
   "metadata": {},
   "source": [
    "# 접두어  \n",
    "2진수: 0b  \n",
    "8진수: 0o  \n",
    "16진수: 0x  "
   ]
  },
  {
   "cell_type": "markdown",
   "id": "e7e1aaf9-8f3c-4cde-88d5-6dadb212761c",
   "metadata": {},
   "source": [
    "### 파이썬 인터프리터는 기본적으로 이진수를 십진수로 바꿔 출력한다."
   ]
  },
  {
   "cell_type": "code",
   "execution_count": 8,
   "id": "b4b2956f-62e7-4205-8531-339570f3a4dd",
   "metadata": {
    "tags": []
   },
   "outputs": [
    {
     "data": {
      "text/plain": [
       "22"
      ]
     },
     "execution_count": 8,
     "metadata": {},
     "output_type": "execute_result"
    }
   ],
   "source": [
    "0b10110 "
   ]
  },
  {
   "cell_type": "markdown",
   "id": "a19e6c8e-b86f-42c3-b833-b928b4113202",
   "metadata": {
    "tags": []
   },
   "source": [
    "### 파이썬 인터프리터는 기본적으로 이진수로 비트연산을 하면 결과를 십진수로 출력한다.\n",
    "연산은 내부적으로 이진수로 한다음"
   ]
  },
  {
   "cell_type": "code",
   "execution_count": 25,
   "id": "97ce72cc-b237-4e76-a667-2bb0b5fee60d",
   "metadata": {
    "tags": []
   },
   "outputs": [
    {
     "data": {
      "text/plain": [
       "6"
      ]
     },
     "execution_count": 25,
     "metadata": {},
     "output_type": "execute_result"
    }
   ],
   "source": [
    "0b00110 & 0b01110\n",
    "# 00110\n",
    "# 01110\n",
    "#------\n",
    "# 00110   두번째 비트 둘 중 하나가 0이다."
   ]
  },
  {
   "cell_type": "markdown",
   "id": "5654b5fb-9eb1-4dcf-9773-8cc2b26cde38",
   "metadata": {},
   "source": [
    "### 이진수를 나타내는 방법 : bin() 함수"
   ]
  },
  {
   "cell_type": "markdown",
   "id": "efa220a4-f341-428b-956e-989584ef2467",
   "metadata": {},
   "source": [
    "이진수를 이진수 그대로"
   ]
  },
  {
   "cell_type": "code",
   "execution_count": 9,
   "id": "5c5a0687-d33d-430d-975f-fa4f35200383",
   "metadata": {
    "tags": []
   },
   "outputs": [
    {
     "data": {
      "text/plain": [
       "'0b10110'"
      ]
     },
     "execution_count": 9,
     "metadata": {},
     "output_type": "execute_result"
    }
   ],
   "source": [
    "bin(0b10110)"
   ]
  },
  {
   "cell_type": "markdown",
   "id": "ef60dce3-da88-4334-885c-0f29bc3d3922",
   "metadata": {},
   "source": [
    "십진수를 이진수로"
   ]
  },
  {
   "cell_type": "code",
   "execution_count": 10,
   "id": "6c1f12e4-d766-41b7-b237-533ebee3c281",
   "metadata": {
    "tags": []
   },
   "outputs": [
    {
     "data": {
      "text/plain": [
       "'0b10110'"
      ]
     },
     "execution_count": 10,
     "metadata": {},
     "output_type": "execute_result"
    }
   ],
   "source": [
    "bin(22)"
   ]
  },
  {
   "cell_type": "markdown",
   "id": "e319b853-023c-4e6d-8e88-0d9215116b8e",
   "metadata": {
    "tags": []
   },
   "source": [
    "### 이진수를 십진수로 나타내는 방법 : int() 함수"
   ]
  },
  {
   "cell_type": "code",
   "execution_count": 11,
   "id": "8181971e-6548-42a2-8732-a46e48e3ed42",
   "metadata": {
    "tags": []
   },
   "outputs": [
    {
     "data": {
      "text/plain": [
       "22"
      ]
     },
     "execution_count": 11,
     "metadata": {},
     "output_type": "execute_result"
    }
   ],
   "source": [
    "int('0b10110', 2)"
   ]
  },
  {
   "cell_type": "markdown",
   "id": "31f8ced8-86ff-4abb-a0ce-e95b12d1f35e",
   "metadata": {
    "tags": []
   },
   "source": [
    "# 비트연산자 예시"
   ]
  },
  {
   "cell_type": "markdown",
   "id": "6d56a0c4-ece8-43af-88d4-6bf339d35109",
   "metadata": {},
   "source": [
    "### & 연산자"
   ]
  },
  {
   "cell_type": "code",
   "execution_count": 28,
   "id": "f0f81565-343d-4a0d-9191-5598c3dd5506",
   "metadata": {
    "tags": []
   },
   "outputs": [
    {
     "data": {
      "text/plain": [
       "False"
      ]
     },
     "execution_count": 28,
     "metadata": {},
     "output_type": "execute_result"
    }
   ],
   "source": [
    "True & False   # A & B : A와 B의 비트가 모두 1일 때만 1을 반환"
   ]
  },
  {
   "cell_type": "code",
   "execution_count": 40,
   "id": "11445a9b-fa42-4310-b2cb-64356c084d28",
   "metadata": {
    "tags": []
   },
   "outputs": [
    {
     "name": "stdout",
     "output_type": "stream",
     "text": [
      "전부 사용중\n"
     ]
    }
   ],
   "source": [
    "'''데이터에서 어떤 상태를 체크할 때 이런 코드를 짠다면'''\n",
    "subs = [1,1,1,1,0]\n",
    "if subs[1] == 1 and subs[2] ==1 and subs[3] ==1: print(\"전부 사용중\")\n",
    "else: print(\"설치 빠진 거 있음\")"
   ]
  },
  {
   "cell_type": "code",
   "execution_count": 5,
   "id": "a19c4025-92c4-4bb0-81e5-48d47a8e5965",
   "metadata": {
    "tags": []
   },
   "outputs": [
    {
     "name": "stdout",
     "output_type": "stream",
     "text": [
      "전부 사용중\n"
     ]
    }
   ],
   "source": [
    "'''비슷한 기능을 2진수로 하는게 비트조작(비트마스크)'''\n",
    "subs_bin = 0b11110\n",
    "if subs_bin & 0b11110 == 0b11110: print(\"전부 사용중\")\n",
    "else: print(\"설치 빠진 거 있음\")"
   ]
  },
  {
   "cell_type": "code",
   "execution_count": 19,
   "id": "37072a7b-d08c-4647-8c93-449b0fab460c",
   "metadata": {
    "tags": []
   },
   "outputs": [
    {
     "data": {
      "text/plain": [
       "'0b110'"
      ]
     },
     "execution_count": 19,
     "metadata": {},
     "output_type": "execute_result"
    }
   ],
   "source": [
    "bin(6)"
   ]
  },
  {
   "cell_type": "markdown",
   "id": "952bb832-985f-4798-be88-ba7e230d6fb4",
   "metadata": {},
   "source": [
    "### | 연산자"
   ]
  },
  {
   "cell_type": "code",
   "execution_count": 3,
   "id": "f0526dc9-9081-435c-a689-f74f84dfdbdb",
   "metadata": {
    "tags": []
   },
   "outputs": [
    {
     "data": {
      "text/plain": [
       "True"
      ]
     },
     "execution_count": 3,
     "metadata": {},
     "output_type": "execute_result"
    }
   ],
   "source": [
    "True | False # A | B : A 또는 B의 비트가 1일 때 1을 반환"
   ]
  },
  {
   "cell_type": "code",
   "execution_count": 32,
   "id": "2395e858-f3fe-496e-8fb4-eb457f58f4c6",
   "metadata": {
    "tags": []
   },
   "outputs": [
    {
     "data": {
      "text/plain": [
       "1"
      ]
     },
     "execution_count": 32,
     "metadata": {},
     "output_type": "execute_result"
    }
   ],
   "source": [
    "1 | 0"
   ]
  },
  {
   "cell_type": "markdown",
   "id": "9ee82a2e-4083-44a6-a884-627c5352cf15",
   "metadata": {},
   "source": [
    "### ^ 연산자"
   ]
  },
  {
   "cell_type": "code",
   "execution_count": 63,
   "id": "5f7b7c14-a927-4f14-810a-d988367b8d4f",
   "metadata": {
    "tags": []
   },
   "outputs": [
    {
     "data": {
      "text/plain": [
       "'0b1111'"
      ]
     },
     "execution_count": 63,
     "metadata": {},
     "output_type": "execute_result"
    }
   ],
   "source": [
    "bin(0b1100 ^ 0b0011)  # A ^ B : XOR, A 또는 B의 비트가 둘 중 하나만1일 때 1을 반환, "
   ]
  },
  {
   "cell_type": "code",
   "execution_count": 2,
   "id": "5b6cd9b7-9f6c-4732-a078-9a2d46d297bf",
   "metadata": {
    "tags": []
   },
   "outputs": [
    {
     "data": {
      "text/plain": [
       "'0b1001'"
      ]
     },
     "execution_count": 2,
     "metadata": {},
     "output_type": "execute_result"
    }
   ],
   "source": [
    "bin(0b0101 ^ 0b1100)"
   ]
  },
  {
   "cell_type": "code",
   "execution_count": 4,
   "id": "a15ff29b-8825-4c55-9ea9-bf78f930d5e8",
   "metadata": {
    "tags": []
   },
   "outputs": [
    {
     "data": {
      "text/plain": [
       "9"
      ]
     },
     "execution_count": 4,
     "metadata": {},
     "output_type": "execute_result"
    }
   ],
   "source": [
    "0b0101 ^ 0b1100"
   ]
  },
  {
   "cell_type": "markdown",
   "id": "e3bbf786-c3b3-49ab-9b5a-95799e5d0431",
   "metadata": {},
   "source": [
    "### + 연산자"
   ]
  },
  {
   "cell_type": "code",
   "execution_count": 26,
   "id": "1c9945a4-2243-4e2e-8394-ba185e962c8f",
   "metadata": {
    "tags": []
   },
   "outputs": [
    {
     "data": {
      "text/plain": [
       "8"
      ]
     },
     "execution_count": 26,
     "metadata": {},
     "output_type": "execute_result"
    }
   ],
   "source": [
    "0b110 + 0b0010 # 기본적으로 이진수 사칙연산결과는 십진수로 바꾼 값을 계산해 돌려준다"
   ]
  },
  {
   "cell_type": "code",
   "execution_count": 27,
   "id": "340cc272-332c-402f-8b88-f04fe0faee5a",
   "metadata": {
    "tags": []
   },
   "outputs": [
    {
     "data": {
      "text/plain": [
       "'0b1000'"
      ]
     },
     "execution_count": 27,
     "metadata": {},
     "output_type": "execute_result"
    }
   ],
   "source": [
    "bin(0b110 + 0b0010)"
   ]
  },
  {
   "cell_type": "markdown",
   "id": "57761d53-a85a-4d3e-93b0-82c95b54a6c9",
   "metadata": {},
   "source": [
    "### * 연산자"
   ]
  },
  {
   "cell_type": "code",
   "execution_count": 30,
   "id": "b70666a2-fbb2-473e-b2f5-7ef5fe07b583",
   "metadata": {
    "tags": []
   },
   "outputs": [
    {
     "data": {
      "text/plain": [
       "15"
      ]
     },
     "execution_count": 30,
     "metadata": {},
     "output_type": "execute_result"
    }
   ],
   "source": [
    "0b0011 * 0b0101     # 3 * 5를 돌려준다"
   ]
  },
  {
   "cell_type": "code",
   "execution_count": 32,
   "id": "7c05e4f1-ee9d-4e66-ac52-3d185ecd46f0",
   "metadata": {
    "tags": []
   },
   "outputs": [
    {
     "data": {
      "text/plain": [
       "'0b1111'"
      ]
     },
     "execution_count": 32,
     "metadata": {},
     "output_type": "execute_result"
    }
   ],
   "source": [
    "bin(0b0011 * 0b0101)"
   ]
  },
  {
   "cell_type": "markdown",
   "id": "309c8bf9-0be7-4da7-a717-9153392ba33f",
   "metadata": {},
   "source": [
    "## 시프트 연산자"
   ]
  },
  {
   "cell_type": "markdown",
   "id": "e59bb052-6c30-4d55-ac2c-35d57b4c0e9b",
   "metadata": {},
   "source": [
    "### A << B  :  A 비트를 B자리만큼 왼쪽으로 이동\n",
    "(이동하면서 빈 부분은 0으로 채움)"
   ]
  },
  {
   "cell_type": "code",
   "execution_count": 17,
   "id": "60cafd3a-43c0-49b7-8315-b71fcfd36a67",
   "metadata": {
    "tags": []
   },
   "outputs": [
    {
     "data": {
      "text/plain": [
       "'0b10000'"
      ]
     },
     "execution_count": 17,
     "metadata": {},
     "output_type": "execute_result"
    }
   ],
   "source": [
    "bin(0b10 << 0b11)"
   ]
  },
  {
   "cell_type": "code",
   "execution_count": 18,
   "id": "01f2c9da-f683-4681-b957-d698833e2610",
   "metadata": {
    "tags": []
   },
   "outputs": [
    {
     "data": {
      "text/plain": [
       "'0b10000'"
      ]
     },
     "execution_count": 18,
     "metadata": {},
     "output_type": "execute_result"
    }
   ],
   "source": [
    "bin(0b10 << 3)"
   ]
  },
  {
   "cell_type": "code",
   "execution_count": 19,
   "id": "67e89b65-d809-420f-a950-0403aab3a4ba",
   "metadata": {
    "tags": []
   },
   "outputs": [
    {
     "data": {
      "text/plain": [
       "'0b10000'"
      ]
     },
     "execution_count": 19,
     "metadata": {},
     "output_type": "execute_result"
    }
   ],
   "source": [
    "bin(2 << 3) "
   ]
  },
  {
   "cell_type": "markdown",
   "id": "5c401ff6-852c-4ddd-be14-5b0cda2ca1b2",
   "metadata": {},
   "source": [
    "십진수를 시프트해도 내부적으로는 이진수를 비트연산 한 다음 그 결과를 십진수로 보여주는 것 뿐"
   ]
  },
  {
   "cell_type": "code",
   "execution_count": 22,
   "id": "798cd3e9-907c-42f0-8d60-250d6dc0308c",
   "metadata": {
    "tags": []
   },
   "outputs": [
    {
     "data": {
      "text/plain": [
       "16"
      ]
     },
     "execution_count": 22,
     "metadata": {},
     "output_type": "execute_result"
    }
   ],
   "source": [
    "2 << 3"
   ]
  },
  {
   "cell_type": "code",
   "execution_count": 23,
   "id": "d801a64a-4bbd-4a78-b82e-423930779181",
   "metadata": {
    "tags": []
   },
   "outputs": [
    {
     "data": {
      "text/plain": [
       "16"
      ]
     },
     "execution_count": 23,
     "metadata": {},
     "output_type": "execute_result"
    }
   ],
   "source": [
    "0b10 << 0b11"
   ]
  },
  {
   "cell_type": "markdown",
   "id": "e6edfe06-b4a4-4edd-8625-91436d54395c",
   "metadata": {
    "tags": []
   },
   "source": [
    "## A >> B : A 비트를 B자리만큼 오른쪽으로 이동\n",
    "(이동하면서 빈 부분은 0으로 채움)"
   ]
  },
  {
   "cell_type": "code",
   "execution_count": 29,
   "id": "4d83e302-b08b-470e-9da3-8094d0b16cd3",
   "metadata": {
    "tags": []
   },
   "outputs": [
    {
     "data": {
      "text/plain": [
       "'0b0'"
      ]
     },
     "execution_count": 29,
     "metadata": {},
     "output_type": "execute_result"
    }
   ],
   "source": [
    "'''\n",
    "0b10 >> 0b11 는\n",
    "원래 비트 10을 3자리만큼 오른쪽으로 이동시키므로\n",
    "첫째자리를 기준으로 세자리 이동하면 0이 된다\n",
    "10|\n",
    "01|0\n",
    "00|10\n",
    "00|010\n",
    "''' \n",
    "bin(0b10 >> 0b11)"
   ]
  },
  {
   "cell_type": "code",
   "execution_count": 36,
   "id": "ffa15169-2eed-4e89-bafb-382efa4b5a6d",
   "metadata": {
    "tags": []
   },
   "outputs": [
    {
     "data": {
      "text/plain": [
       "'0b11'"
      ]
     },
     "execution_count": 36,
     "metadata": {},
     "output_type": "execute_result"
    }
   ],
   "source": [
    "bin(0b1101 >> 2)"
   ]
  },
  {
   "cell_type": "code",
   "execution_count": 30,
   "id": "da9b3e80-5845-44f3-b54c-e56a2c19e04c",
   "metadata": {
    "tags": []
   },
   "outputs": [
    {
     "data": {
      "text/plain": [
       "1"
      ]
     },
     "execution_count": 30,
     "metadata": {},
     "output_type": "execute_result"
    }
   ],
   "source": [
    "0b10 >> 0b1"
   ]
  },
  {
   "cell_type": "markdown",
   "id": "6ac986bb-b161-458f-8e22-f082dd8b101b",
   "metadata": {},
   "source": [
    "# 2의 보수"
   ]
  },
  {
   "cell_type": "markdown",
   "id": "26066562-56a5-44ef-8bb8-bd4748e55fc9",
   "metadata": {
    "tags": []
   },
   "source": [
    "sys.maxsize는 파이썬이 인덱스로 사용할 수 있는 가장 큰 정수의 값을 반환하며,   \n",
    "이는 실제로 시스템의 포인터 크기와 관련이 있습니다.  \n",
    "\n",
    "```python\n",
    "import sys\n",
    "print(sys.maxsize)\n",
    "```\n",
    "    이 값은 64비트 시스템에서 대략 9.2e+18 정도이며, \n",
    "    이는 파이썬이 리스트 인덱싱 등에서 사용할 수 있는 최대 정수 값을 나타냅니다. \n",
    "    하지만 이것은 int 타입의 최대 크기를 나타내는 것이 아니라, \n",
    "    단지 파이썬 내부에서 특정 용도로 사용되는 값의 한계를 나타냅니다 \n",
    "\n",
    "    파이썬에서는 정수(int)의 표현 범위에 제한이 없습니다.\n",
    "    즉, 메모리가 허용하는 한 어떤 크기의 정수든지 표현할 수 있습니다. \n",
    "    이는 파이썬의 int 타입이 자동으로 메모리를 할당하여 큰 숫자를 저장할 수 있게 해주기 때문입니다. \n",
    "\n",
    "이러한 특성 때문에 파이썬은 임의 정밀도 산술(arbitrary-precision arithmetic)을 지원합니다.\n",
    "  \n",
    "그러나 다른 언어들에선 최대정수 표현에 한계가 있다  \n",
    "  \n",
    "하스켈에서 int의 size는 64비트 CPU인 경우 -2^63 ~ 2^63-1 까지 표현 가능하다  \n",
    "(C언어의 표준에 따르면 64비트 시스템에서 int는 보통 32비트를 사용하고, long이나 long long이 64비트를 사용)  \n",
    "  \n",
    "이 범위를 가지는 이유는  \n",
    "컴퓨터가 음수 표현시 2의 보수 숫자 포맷을 사용하기 때문이다.  \n",
    "  \n",
    "## 파이썬도 음수를 표현하기 위해 2의 보수 포맷을 사용한다\n",
    "\n",
    "### 2^64를 양수로만 표현하게 사용하면 음수를 표현할 수 없으므로, 절반을 잘라서\n",
    "### 2^63은 음수, (2^63)-1은 양수, 맨 앞은 부호비트 MSB Most significant Bit 로 사용한다."
   ]
  },
  {
   "cell_type": "markdown",
   "id": "dfa22b08-cf34-4347-87bd-528f4fdfcb07",
   "metadata": {
    "tags": []
   },
   "source": [
    "# 구체적으로 2진수를 \"2의 보수 포맷\"을 써서 음수로 표현하는 법은 다음과 같다\n",
    "  \n",
    "십진수에선 음수를 표현하기 위해 양수에 -부호만 붙여주면 된다\n",
    "  \n",
    "### 이진수에선,  \n",
    "### 1. 2진수 양수의 모든 자릿수 비트를 반전시킨 후\n",
    "### 2. 1의 자리에 1을 더한 것과 같다.\n",
    "  \n",
    "예를 쉽게 들기 위해 4비트로만 수를 표현할 수 있다고 할 때,\n",
    "\n",
    "표현할 수 있는 총 16개의 수 중 음수는 2의 보수로 표현하겠다면\n",
    "\n",
    "그러면 전체 수는 다음과 같이 나타난다.\n",
    "\n",
    "    십진수  0    1    2    3    4    5    6    7    -8   -7   -6   -5   -4   -3   -2   -1  \n",
    "    이진수 0000 0001 0010 0011 0100 0101 0110 0111 1000 1001 1010 1011 1100 1101 1110 1111  \n",
    "\n",
    "네번째 자리, 다시말해 맨 왼쪽 비트가 MSB가 된다.  \n",
    "양수는 0, 음수는 1임을 알 수 있다  \n",
    "\n",
    "### 이것이 2의 보수 수학 연산이다.\n"
   ]
  },
  {
   "cell_type": "markdown",
   "id": "26d424ec-6995-4fce-8e6a-36c041adaabc",
   "metadata": {},
   "source": [
    "2의 보수 표현의 한계  \n",
    "2**n을 2의 보수로 나타내면 자기 자신이 된다.  \n",
    "위에서처럼 8을 2의 보수로 나타내면 1000 > 111+1 > 1000 자기 자신이 된다. 즉  \n",
    "2**n 까지의 수를 2의 보수를 써서 음수로도 나타낼 때   \n",
    "-2**(n-1)에서 2**(n-1)-1까지만 나타낼 수 있다  "
   ]
  },
  {
   "cell_type": "markdown",
   "id": "fc4b00e2-339c-48a0-b787-e8f252af26f9",
   "metadata": {},
   "source": [
    "## 비트마스크\n",
    "\n",
    "### 2의 보수 연산 결과를 쉽게 보는 방법은 음수에 비트마스크를 쓰는 것이다\n",
    "예를 쉽게 들기 위해 4비트로만 수를 표현할 수 있다고 할 때,  \n",
    "마스크는 1111이 된다"
   ]
  },
  {
   "cell_type": "code",
   "execution_count": 55,
   "id": "58093143-c16e-4e6a-a2d2-99aec0680a24",
   "metadata": {
    "tags": []
   },
   "outputs": [
    {
     "data": {
      "text/plain": [
       "15"
      ]
     },
     "execution_count": 55,
     "metadata": {},
     "output_type": "execute_result"
    }
   ],
   "source": [
    "Mask = 0xF # 16진수 0xF는 십진수로 15, 이진수로는 1111 이다.\n",
    "Mask"
   ]
  },
  {
   "cell_type": "code",
   "execution_count": 53,
   "id": "d276afcd-6eca-4920-b0ae-6f4976d9bf50",
   "metadata": {
    "tags": []
   },
   "outputs": [
    {
     "data": {
      "text/plain": [
       "'0b1111'"
      ]
     },
     "execution_count": 53,
     "metadata": {},
     "output_type": "execute_result"
    }
   ],
   "source": [
    "bin(0xf)"
   ]
  },
  {
   "cell_type": "code",
   "execution_count": 52,
   "id": "cf27d44c-4a37-46d2-9fa2-288865c437e6",
   "metadata": {
    "tags": []
   },
   "outputs": [
    {
     "data": {
      "text/plain": [
       "15"
      ]
     },
     "execution_count": 52,
     "metadata": {},
     "output_type": "execute_result"
    }
   ],
   "source": [
    "int('0xf', 16)"
   ]
  },
  {
   "cell_type": "code",
   "execution_count": null,
   "id": "5eff6c62-70e4-418b-a72d-af4cf88905c5",
   "metadata": {},
   "outputs": [
    {
     "data": {
      "text/plain": [
       "'-0b111'"
      ]
     },
     "execution_count": 56,
     "metadata": {},
     "output_type": "execute_result"
    }
   ],
   "source": [
    "bin(-7)"
   ]
  },
  {
   "cell_type": "code",
   "execution_count": 67,
   "id": "ca32f2e5-c354-457e-9495-c928bf167391",
   "metadata": {
    "tags": []
   },
   "outputs": [
    {
     "name": "stdout",
     "output_type": "stream",
     "text": [
      "0b1\n",
      "0b1111\n",
      "\n",
      "0b111\n",
      "0b1001\n",
      "0b1001\n"
     ]
    }
   ],
   "source": [
    "print(bin(1 & Mask))\n",
    "print(bin(-1 & Mask))  # 이진수 0001의 음수 표현은 비트를 반전시킨 1110에 1을 더한 1111 이다.\n",
    "print()\n",
    "print(bin(7 & Mask))   #\n",
    "print(bin(-7 & Mask))  # 십진수로 7인 이진수 111의 음수표현은 \n",
    "                       # 비트를 반전시킨 1000에 +1을 한 1001이다.\n",
    "                       # 여기에 마스크 1111을 씌우면 그대로 1111\n",
    "print(bin(-0b111 & Mask))"
   ]
  },
  {
   "cell_type": "markdown",
   "id": "81ef59ee-8c81-4e6e-8a4b-296c60d17267",
   "metadata": {
    "tags": []
   },
   "source": [
    "#### 파이썬에서는  \n",
    "#### 음수를 표현하기 위해   \n",
    "#### 내부적으로 2의 보수 연산을 사용하지만,   \n",
    "### 실제로 사용자가 이진수 음수를 쓸 땐,   \n",
    "(바꿔 말해, 파이썬이 외부적으로 사용자에게 이진수 음수를 표현해줄 땐) \n",
    "  \n",
    "### 예를 들어, -0b111을 쓰고 싶을 땐  \n",
    "### 2의 보수 값을 실제로 보여주지 않고,   \n",
    "(다시 말해 -0b111을 이진수로 표현하는 과정은 내부적으로 처리되고)  \n",
    "### 해당 음수의 이진수 양수 0b111에 부호만 바뀐 값을 바로 보여준다.    "
   ]
  },
  {
   "cell_type": "code",
   "execution_count": 11,
   "id": "b1f7727b-bfc5-4c03-8e05-852c87275055",
   "metadata": {
    "tags": []
   },
   "outputs": [
    {
     "name": "stdout",
     "output_type": "stream",
     "text": [
      "-0b1\n",
      "-0b111\n"
     ]
    }
   ],
   "source": [
    "print(bin(-1))\n",
    "print(bin(-7))"
   ]
  },
  {
   "cell_type": "markdown",
   "id": "f5b6c6bb-8b87-4cf1-9fa2-67ab5bd23f1d",
   "metadata": {},
   "source": [
    "    파이썬에서 정수의 내부 표현은 시스템의 아키텍처(32비트 또는 64비트)에 따라 다르며, \n",
    "    실제로는 사용 가능한 메모리에 의해 결정됩니다\n",
    "\n",
    "    64비트 아키텍처에서 -0b111 (십진수로 -7)을 2의 보수로 표현하는 과정\n",
    "\n",
    "    1. 원래의 이진수를 구합니다.\n",
    "    0b111은 십진수로 7을 나타냅니다. 이를 64비트 이진수로 확장하면, \n",
    "    앞쪽을 0으로 채워서 \n",
    "    0000 0000 0000 0000 0000 0000 0000 0000 0000 0000 0000 0000 0000 0111이 됩니다.\n",
    "\n",
    "    2. 모든 비트를 반전시킵니다.\n",
    "    위의 이진수의 모든 비트를 반전시키면 \n",
    "    1111 1111 1111 1111 1111 1111 1111 1111 1111 1111 1111 1111 1111 1000이 됩니다.\n",
    "\n",
    "    3. 반전된 비트에 1을 더합니다.\n",
    "    위의 반전된 비트에 1을 더하면 \n",
    "    1111 1111 1111 1111 1111 1111 1111 1111 1111 1111 1111 1111 1111 1001이 됩니다. \n",
    "    이는 64비트 체계에서 -7을 나타냅니다.\n",
    "\n",
    "    이 예시는 단순화된 설명으로, \n",
    "    실제 파이썬의 정수 표현은 내부적으로 임의 정밀도 산술을 사용하여 표현될 수 있으므로, \n",
    "    이론상으로는 메모리의 한계까지 어떤 크기의 정수든 표현할 수 있습니다"
   ]
  },
  {
   "cell_type": "markdown",
   "id": "93f5d3c4-d3ca-4b9d-8b44-61b3ccf6ba46",
   "metadata": {},
   "source": [
    "### 따라서 비트연산자를 쓸 때 \n",
    "### 음수를 피연산자로 쓰는 경우\n",
    "### 사용자는 음수 이진수를 2의 보수로 바꿔 입력할 필요가 없이\n",
    "### 이진수 양수를 부호만 마이너스로 바꿔 사용하면 된다.\n",
    "### 그러면 파이썬은 내부적으로 해당 음수 이진수를 2의 보수로 바꿔 비트연산을 한 후\n",
    "### 그 결과를 10진수로 보여준다\n",
    "(편의성이 좋은 것)"
   ]
  },
  {
   "cell_type": "code",
   "execution_count": 69,
   "id": "05c0378c-7775-4f46-a260-bc20148a2d97",
   "metadata": {
    "tags": []
   },
   "outputs": [
    {
     "data": {
      "text/plain": [
       "4"
      ]
     },
     "execution_count": 69,
     "metadata": {},
     "output_type": "execute_result"
    }
   ],
   "source": [
    "5 & 4"
   ]
  },
  {
   "cell_type": "code",
   "execution_count": 70,
   "id": "a2938c4b-5e97-4301-a9b8-271f969be61f",
   "metadata": {
    "tags": []
   },
   "outputs": [
    {
     "data": {
      "text/plain": [
       "4"
      ]
     },
     "execution_count": 70,
     "metadata": {},
     "output_type": "execute_result"
    }
   ],
   "source": [
    "5 & -4 "
   ]
  },
  {
   "cell_type": "code",
   "execution_count": 71,
   "id": "b29b0702-53ca-4bdf-9fd6-7f64fcc2aaea",
   "metadata": {
    "tags": []
   },
   "outputs": [
    {
     "data": {
      "text/plain": [
       "4"
      ]
     },
     "execution_count": 71,
     "metadata": {},
     "output_type": "execute_result"
    }
   ],
   "source": [
    "0b0101 & -0b0100 # 음수를 입력할 때 2의 보수를 직접 입력할 필요가 없다. 내부적으로 알아서 변환해 연산한다.\n",
    "# 0b0100 의 2의 보수는 (다시 말해 -0b0100 은 내부적으로)\n",
    "# 0b1100 으로 바뀌고 이 값이 0b0101과 비트연산된다. 따라서\n",
    "# 0101\n",
    "# 1100 의 & 비트연산은\n",
    "# 0100 이므로 4가 출력된다"
   ]
  },
  {
   "cell_type": "markdown",
   "id": "d76769c0-be2e-40f0-bd28-275d60ca62a7",
   "metadata": {},
   "source": [
    "정리하면  \n",
    "\n",
    "### 비트 연산자를 쓸 때는 2의 보수를 생각할 필요가 없다"
   ]
  },
  {
   "cell_type": "code",
   "execution_count": null,
   "id": "3bd14fed-d5a9-49ad-8c21-2e41945c68dd",
   "metadata": {},
   "outputs": [],
   "source": []
  },
  {
   "cell_type": "markdown",
   "id": "5d68a818-882a-411c-b34f-e900033714dd",
   "metadata": {
    "tags": []
   },
   "source": [
    "~연산자 는 모든 비트를 반전시킨다.  \n",
    "~1101을 하면 1101 의 모든 비트가 반전되어  \n",
    "0010 이 되어야 할 것 같은데 왜 -14가 될까?  "
   ]
  },
  {
   "cell_type": "markdown",
   "id": "e755d23c-5b99-417b-ab8f-50056ddc1173",
   "metadata": {
    "tags": []
   },
   "source": [
    "# ~연산자\n",
    "(틸드연산자, 비트 not연산자)\n",
    "### 파이썬에서 어떤수 n에 비트연산자인 ~연산자를 적용하면  \n",
    "### 내부적으로 n을 이진수로 바꿔 모든 비트를 반전시킨다.  \n",
    "### 이 반전된 비트 패턴은 결과적으로 -n - 1로 해석됩니다. \n",
    "### 왜냐하면 -n을 나타내는 2의 보수 표현에서 1을 빼는 것과 같기 때문입니다.  \n",
    "  \n",
    "다시 말하면, 어떤수 n을 -n으로 표현할 때는  \n",
    "n의 2의 보수 연산 결과를(n의 모든 비트를 반전시키고 +1을 해준 값을) n의 음수 표현, 즉 -n에 상응시키는데  \n",
    "그 음수에 -1을 해준다는 것은, n의 모든 비트를 반전시킨 연산과 같기 때문에  \n",
    "~n은 -n-1을 나타내게 된다.  \n",
    "\n",
    "#### 따라서 ~n+1을 해주면 n의 음수표현인 -n을 곧바로 얻어낼 수 있다  "
   ]
  },
  {
   "cell_type": "code",
   "execution_count": 76,
   "id": "258b83f8-486c-456c-b015-15699b375d36",
   "metadata": {
    "tags": []
   },
   "outputs": [
    {
     "data": {
      "text/plain": [
       "13"
      ]
     },
     "execution_count": 76,
     "metadata": {},
     "output_type": "execute_result"
    }
   ],
   "source": [
    "0b1101"
   ]
  },
  {
   "cell_type": "code",
   "execution_count": 33,
   "id": "21c7c1c1-95a6-403a-b06d-22283f56c988",
   "metadata": {
    "tags": []
   },
   "outputs": [
    {
     "data": {
      "text/plain": [
       "-14"
      ]
     },
     "execution_count": 33,
     "metadata": {},
     "output_type": "execute_result"
    }
   ],
   "source": [
    "~0b1101"
   ]
  },
  {
   "cell_type": "code",
   "execution_count": 85,
   "id": "71f14d94-7d59-44e3-8370-f72ecda3908a",
   "metadata": {
    "tags": []
   },
   "outputs": [
    {
     "data": {
      "text/plain": [
       "'-0b1101'"
      ]
     },
     "execution_count": 85,
     "metadata": {},
     "output_type": "execute_result"
    }
   ],
   "source": [
    "bin(~0b1101+1)"
   ]
  },
  {
   "cell_type": "markdown",
   "id": "708c8d9f-1877-422a-aea3-60daa6aeda6a",
   "metadata": {},
   "source": [
    "## ~연산자를 써서 모든 비트를 반전시킨 결과를 얻으려면 \n",
    "## 모든 비트가 1인 비트마스크와 & 연산을 하면 된다\n",
    "~ 연산자를 사용하면 주어진 숫자의 모든 비트가 반전됩니다.  \n",
    "예를 들어, 0b0011에 대해 ~ 연산을 수행하면,  \n",
    "모든 비트가 반전되어 실제 메모리 상에서는  \n",
    "...111100와 같은 형태로 나타납니다(여기서 ...은 더 많은 반전된 비트를 나타냅니다).  \n",
    "  \n",
    "여기서 모든 비트가 1인 비트마스크와 & 연산을 수행하면,   \n",
    "예를 들어 8비트 비트마스크 0xFF와 반전된 결과를 & 연산하면   \n",
    "하위 8비트만 보존됩니다.   \n",
    "  \n",
    "~n & Mask 같은 처리는    \n",
    "반전된 비트 중 일부분만을 선택하거나,   \n",
    "특정 비트 길이의 범위 내에서 결과를 제한하고자 할 때 유용합니다  "
   ]
  },
  {
   "cell_type": "code",
   "execution_count": 93,
   "id": "d8ad908e-e6c1-4f37-a43e-08329d2036de",
   "metadata": {
    "tags": []
   },
   "outputs": [
    {
     "data": {
      "text/plain": [
       "'0b1011'"
      ]
     },
     "execution_count": 93,
     "metadata": {},
     "output_type": "execute_result"
    }
   ],
   "source": [
    "Mask = 0xF\n",
    "bin(~0b0100 & Mask)\n",
    "# ~0b0100 연산은 0b0100의 모든 비트를 반전시킨다.\n",
    "# 결과적으로 ~0b0100 은 파이썬에서 -5로 평가된다. -5는 5의 2의 보수표현으로 얻어진 결과다. \n",
    "# 5는 ...0101이고(앞의 ...은 0이 많음을 의미) \n",
    "# ...0101의 2의 보수는 ...1011이다. (여기서 앞의 ...은 1이 많음을 의미한다)\n",
    "# 이제 ...1011과 1111의 & 연산은 하위 4비트에서 1만 남기게 되므로 \n",
    "# bin(~0b0100 & Mask) 은 0b1011이 된다."
   ]
  },
  {
   "cell_type": "code",
   "execution_count": 96,
   "id": "3218ba33-6e5d-44be-98c2-2db5858bf87d",
   "metadata": {
    "tags": []
   },
   "outputs": [
    {
     "data": {
      "text/plain": [
       "'0b1011'"
      ]
     },
     "execution_count": 96,
     "metadata": {},
     "output_type": "execute_result"
    }
   ],
   "source": [
    "bin(-0b101 & Mask)"
   ]
  },
  {
   "cell_type": "markdown",
   "id": "24979803-9995-4793-838b-6f427db6dbed",
   "metadata": {},
   "source": [
    "# 응용"
   ]
  },
  {
   "cell_type": "code",
   "execution_count": 97,
   "id": "c35669bd-e314-4fbc-97ef-9b79fc08dc7a",
   "metadata": {
    "tags": []
   },
   "outputs": [
    {
     "data": {
      "text/plain": [
       "'-0b1010'"
      ]
     },
     "execution_count": 97,
     "metadata": {},
     "output_type": "execute_result"
    }
   ],
   "source": [
    "Mask = 0xF\n",
    "bin(0b0101 ^ ~0b1100)\n",
    "# ~0b1100 은 0b1100의 모든 비트를 반전시킨다.\n",
    "# 그 결과 0b1100은 -13으로 평가된다. -13은 13의 2의 보수 표현으로 얻어진다.\n",
    "# 13은 ...01101 이고(여기서 ...은 0이 많음을 의미) 여기에 2의 보수연산을 하면 ...10011 이 된다.(여기서 ...1이 많음을 의미)\n",
    "# 즉 ~0b1100 는  메모리 상에서 ...10011 과 같다.\n",
    "# ...10011과 0b0101을 ^ 연산하게 되면 \n",
    "# ...10110이 된다. (여기서 ...은 1이 많음을 의미)\n",
    "# ...10110은 어떤 수의 2의 보수와 같다. 다시 말해 어떤 수의 음수표현과 같다. \n",
    "# 여기서 어떤수를 알아내려면 ...10110의 2의 보수를 다시 구하면 된다. 즉 ...10110의 비트를 다 반전시키고 +1을 하면 된다\n",
    "# 어떤 수는 ...01010 즉 10이었다. \n",
    "# 결과적으로 ...10110은 10의 2의 보수를 나타낸 것으로 이는 -10과 같다.\n",
    "# -10에 bin() 함수를 적용하면\n",
    "# 10에 2의 보수 연산을 한 결과에 마이너스 부호를 붙인게 되므로 -0b1010으로 출력된다."
   ]
  },
  {
   "cell_type": "code",
   "execution_count": 89,
   "id": "020e199a-f409-4dd8-ab55-a9ba211a176a",
   "metadata": {
    "tags": []
   },
   "outputs": [
    {
     "data": {
      "text/plain": [
       "'-0b1010'"
      ]
     },
     "execution_count": 89,
     "metadata": {},
     "output_type": "execute_result"
    }
   ],
   "source": [
    "bin(0b0101 ^ -0b1101) # 간단하게 -0b1101은 -13으로 평가되고 이후 과정은 위와 같다. "
   ]
  },
  {
   "cell_type": "code",
   "execution_count": null,
   "id": "3b759510-55ff-4da7-8b2b-e15d3847d454",
   "metadata": {},
   "outputs": [],
   "source": []
  },
  {
   "cell_type": "markdown",
   "id": "e6177ef9-05bf-4b90-8de9-06970ed93c08",
   "metadata": {},
   "source": [
    "# 파이썬의 수 처리 방식"
   ]
  },
  {
   "cell_type": "code",
   "execution_count": 102,
   "id": "a141d5ff-c6a1-4f83-a3ff-ccab1366ffa6",
   "metadata": {
    "tags": []
   },
   "outputs": [
    {
     "data": {
      "text/plain": [
       "True"
      ]
     },
     "execution_count": 102,
     "metadata": {},
     "output_type": "execute_result"
    }
   ],
   "source": [
    "a = 0b0110\n",
    "b = 6\n",
    "id(a) == id(b)"
   ]
  },
  {
   "cell_type": "markdown",
   "id": "5ef699c9-91f5-4aef-adfb-05bd62c3d87e",
   "metadata": {},
   "source": [
    "파이썬에서 a = 0b0110과 b = 6을 할당할 때,  \n",
    "0b0110은 이진수 표현이지만 실제로는 십진수 6과 동일한 값을 나타냅니다.  \n",
    "파이썬에서 숫자 값은 내부적으로 동일한 방식으로 저장되며,  \n",
    "이진수 표현, 십진수 표현, 심지어 16진수 표현 등이 내부적으로 같은 값으로 처리됩니다.   \n",
    "\n",
    "따라서, a와 b는 동일한 값을 갖게 되며,  \n",
    "파이썬은 이러한 동일한 값을 갖는 불변 객체에 대해 같은 메모리 주소(ID)를 할당합니다.   \n",
    "  \n",
    "id(a) == id(b)가 True를 반환하는 이유는,  \n",
    "a와 b 모두 내부적으로 십진수 6을 나타내는 동일한 객체를 참조하기 때문입니다.  \n",
    "여기서는 a가 이진수 표현에서 시작했지만, 결국 십진수 6으로 평가되어 b와 동일한 값으로 처리됩니다."
   ]
  },
  {
   "cell_type": "markdown",
   "id": "95405ef5-7e28-45de-bbd4-d798720b4c2d",
   "metadata": {},
   "source": [
    "파이썬에서 이진수든 십육진수든 어떤 진법으로 나타내든  \n",
    "결국 int로 평가되는건가?  \n",
    "\n",
    "    네, 맞습니다. \n",
    "    파이썬에서 이진수(2진법), 십육진수(16진법), 십진수(10진법), 팔진수(8진법) 등 어떤 진법으로 수를 나타내든 간에, \n",
    "    이들은 모두 int 타입으로 평가됩니다. \n",
    "    진법 표기법은 단지 수를 표현하는 방법일 뿐,\n",
    "    파이썬 내부에서는 이 모든 수치를 int 타입의 정수로 처리합니다.\n",
    "\n",
    "    이진수 표현: 0b 또는 0B 접두사를 사용 (예: 0b1010)\n",
    "    십진수 표현: 숫자를 직접 입력 (예: 10)\n",
    "    팔진수 표현: 0o 또는 0O 접두사를 사용 (예: 0o12)\n",
    "    십육진수 표현: 0x 또는 0X 접두사를 사용 (예: 0xA)\n",
    "    이러한 다양한 진법 표현은 모두 파이썬에서 동일한 int 값으로 평가되며, \n",
    "    이는 파이썬이 다양한 수치 표현 방식을 지원함을 의미합니다. \n",
    "    따라서, 진법 표기법의 차이에 관계없이, \n",
    "    이들은 모두 파이썬 내부에서 int 타입으로 처리되고, 이에 대응하는 동일한 정수 값을 나타냅니다."
   ]
  },
  {
   "cell_type": "code",
   "execution_count": 106,
   "id": "4541afda-476f-48ae-bbf7-f9e4143ca394",
   "metadata": {
    "tags": []
   },
   "outputs": [
    {
     "data": {
      "text/plain": [
       "True"
      ]
     },
     "execution_count": 106,
     "metadata": {},
     "output_type": "execute_result"
    }
   ],
   "source": [
    "c = 0xFF\n",
    "d = 255\n",
    "id(c) == id(d)"
   ]
  },
  {
   "cell_type": "markdown",
   "id": "adc76ec0-4d22-4af3-9d0f-6b4f69a0f3ed",
   "metadata": {},
   "source": [
    "### 정리\n",
    "\n",
    "파이썬에서 수치를 처리하는 과정\n",
    "\n",
    "1. **수치 입력과 평가:** \n",
    "    파이썬 인터프리터가 수를 입력받을 때, \n",
    "    그 수가 이진수, 십진수, 팔진수, 십육진수 등 어떤 진법으로 표현되었든 간에,\n",
    "    파이썬은 그 값을 `int` 타입의 정수로 평가합니다. \n",
    "    이 과정에서 입력된 수의 진법 표기는 중요하지 않으며, 모든 수치는 내부적으로 동일한 `int` 형태로 처리됩니다.\n",
    "\n",
    "2. **내부 연산:** \n",
    "    파이썬 내부에서 수치 연산이 수행될 때, 이 연산은 기본적으로 이진수 형태로 이루어집니다. \n",
    "    컴퓨터 하드웨어와 중앙 처리 장치(CPU)는 모든 정보를 이진수로 처리하기 때문입니다. \n",
    "    그러나 이 과정은 파이썬 사용자나 프로그래머가 직접 인식하거나 관리할 필요가 없습니다.\n",
    "\n",
    "3. **결과의 표현:** \n",
    "    연산 결과가 인터프리터 단계로 \"올라올\" 때, 즉 사용자에게 결과가 보여질 때, \n",
    "    이 결과는 일반적으로 십진수 형태로 표현됩니다. \n",
    "    특별한 형식의 문자열 변환 함수(`bin()`, `hex()`, `oct()`)를 사용하지 않는 한, \n",
    "    모든 정수 결과는 십진수 형태로 표시됩니다.\n",
    "\n",
    "4. **변환 함수:** \n",
    "    만약 사용자가 결과를 이진수, 팔진수, 십육진수 등 특정 진법으로 보고 싶다면, \n",
    "    `bin()`, `oct()`, `hex()` 같은 변환 함수를 사용하여 결과의 표현 형식을 명시적으로 변환할 수 있습니다."
   ]
  },
  {
   "cell_type": "markdown",
   "id": "a2709966-b842-480e-87d9-0578d9c33817",
   "metadata": {},
   "source": [
    "# 문70 싱글넘버 e\n",
    "https://leetcode.com/problems/single-number"
   ]
  },
  {
   "cell_type": "code",
   "execution_count": 117,
   "id": "5c69caad-6e25-41f8-8ac8-57ae2759aba4",
   "metadata": {
    "tags": []
   },
   "outputs": [
    {
     "data": {
      "text/plain": [
       "2"
      ]
     },
     "execution_count": 117,
     "metadata": {},
     "output_type": "execute_result"
    }
   ],
   "source": [
    "1 << 1"
   ]
  },
  {
   "cell_type": "code",
   "execution_count": null,
   "id": "b1c79697-db20-4b04-a60b-5bbe26186cf3",
   "metadata": {},
   "outputs": [],
   "source": [
    "Given a non-empty array of integers nums, \n",
    "every element appears twice except for one. Find that single one.\n",
    "배열에서 한번만 나타나는 요소를 제외하면 나머지 요소들은 두번씩 나온다.\n",
    "하나만 나타나는 요소를 찾아라\n",
    "You must implement a solution with a linear runtime complexity and use only constant extra space.\n",
    "\n",
    "Example 1:\n",
    "\n",
    "Input: nums = [2,2,1]\n",
    "Output: 1\n",
    "\n",
    "Example 2:\n",
    "Input: nums = [4,1,2,1,2]\n",
    "Output: 4"
   ]
  },
  {
   "cell_type": "code",
   "execution_count": null,
   "id": "2f0adbb0-5717-43dc-a647-e4fe51b71f59",
   "metadata": {},
   "outputs": [],
   "source": [
    "class Solution:\n",
    "    def singleNumber(self, nums: List[int]) -> int:\n",
    "        "
   ]
  },
  {
   "cell_type": "markdown",
   "id": "1e2ab7e5-8b9a-4eba-84d6-4da8e415138d",
   "metadata": {},
   "source": [
    "### 내 풀이"
   ]
  },
  {
   "cell_type": "code",
   "execution_count": 133,
   "id": "c6a97b7d-5fed-4926-ae9a-88ef603f9ad5",
   "metadata": {
    "tags": []
   },
   "outputs": [
    {
     "data": {
      "text/plain": [
       "4"
      ]
     },
     "execution_count": 133,
     "metadata": {},
     "output_type": "execute_result"
    }
   ],
   "source": [
    "class Solution:\n",
    "    def singleNumber(self, nums: List[int]) -> int:\n",
    "        counter = collections.Counter(nums)\n",
    "        return counter.most_common()[-1][0]"
   ]
  },
  {
   "cell_type": "code",
   "execution_count": null,
   "id": "92cae496-34c2-43f7-93f2-65d74142322f",
   "metadata": {},
   "outputs": [],
   "source": []
  },
  {
   "cell_type": "markdown",
   "id": "a8193512-cc33-4e74-b107-cfe2be695ffd",
   "metadata": {},
   "source": [
    "### 비트연산 풀이"
   ]
  },
  {
   "cell_type": "code",
   "execution_count": 135,
   "id": "ef8d9fb9-8e91-48bf-9ed1-5998b5930363",
   "metadata": {
    "tags": []
   },
   "outputs": [
    {
     "data": {
      "text/plain": [
       "3"
      ]
     },
     "execution_count": 135,
     "metadata": {},
     "output_type": "execute_result"
    }
   ],
   "source": [
    "0 ^ 4 ^ 4 ^ 1 ^ 2 ^ 1 ^ 2 ^ 3"
   ]
  },
  {
   "cell_type": "code",
   "execution_count": null,
   "id": "9f575325-611b-4910-8408-d29ae9825291",
   "metadata": {},
   "outputs": [],
   "source": [
    "class Solution:\n",
    "    def singleNumber(self, nums: List[int]) -> int:\n",
    "        result = 0\n",
    "        for num in nums:\n",
    "            result ^= num\n",
    "        return result\n",
    "    \n"
   ]
  },
  {
   "cell_type": "markdown",
   "id": "84c2f23a-b001-42d2-bd8f-2ea2ba090fcd",
   "metadata": {},
   "source": [
    "# 문71 해밍거리 e\n",
    "https://leetcode.com/problems/hamming-distance"
   ]
  },
  {
   "cell_type": "code",
   "execution_count": null,
   "id": "6402299f-c48b-4e5c-a2bf-b90238a19bb0",
   "metadata": {},
   "outputs": [],
   "source": [
    "The Hamming distance between two integers is the number of positions at which the corresponding bits are different.\n",
    "\n",
    "Given two integers x and y, return the Hamming distance between them.\n",
    "\n",
    " \n",
    "\n",
    "Example 1:\n",
    "\n",
    "Input: x = 1, y = 4\n",
    "Output: 2\n",
    "Explanation:\n",
    "1   (0 0 0 1)\n",
    "4   (0 1 0 0)\n",
    "       ↑   ↑\n",
    "The above arrows point to positions where the corresponding bits are different."
   ]
  },
  {
   "cell_type": "code",
   "execution_count": null,
   "id": "a8e0c26a-b8a4-47c0-963c-8638bf0fb401",
   "metadata": {},
   "outputs": [],
   "source": [
    "class Solution:\n",
    "    def hammingDistance(self, x: int, y: int) -> int:\n",
    "        "
   ]
  },
  {
   "cell_type": "markdown",
   "id": "1d87035f-2902-4857-b19a-0db26df39938",
   "metadata": {},
   "source": [
    "# 문74 1비트의 개수 e\n",
    "https://leetcode.com/problems/number-of-1-bits"
   ]
  },
  {
   "cell_type": "code",
   "execution_count": null,
   "id": "e25f6527-92bf-4f27-a1b4-e6670e483e17",
   "metadata": {},
   "outputs": [],
   "source": [
    "Write a function that takes the binary representation of an unsigned integer \n",
    "and returns the number of '1' bits it has (also known as the Hamming weight).\n",
    "\n",
    "Note:\n",
    "\n",
    "Note that in some languages, such as Java, there is no unsigned integer type. \n",
    "In this case, the input will be given as a signed integer type. \n",
    "It should not affect your implementation, as the integer's internal binary representation is the same, whether it is signed or unsigned.\n",
    "In Java, the compiler represents the signed integers using 2's complement notation. \n",
    "Therefore, in Example 3, the input represents the signed integer. -3.\n",
    " \n",
    "\n",
    "Example 1:\n",
    "\n",
    "Input: n = 00000000000000000000000000001011\n",
    "Output: 3\n",
    "Explanation: The input binary string 00000000000000000000000000001011 has a total of three '1' bits."
   ]
  },
  {
   "cell_type": "code",
   "execution_count": null,
   "id": "8518f54a-7434-42bd-bde4-04ee230fe21f",
   "metadata": {},
   "outputs": [],
   "source": [
    "class Solution:\n",
    "    def hammingWeight(self, n: int) -> int:\n",
    "        "
   ]
  },
  {
   "cell_type": "markdown",
   "id": "32d981ee-462a-49e2-86b1-3457dbc7b92e",
   "metadata": {},
   "source": [
    "# 문72 두 정수의 합 m\n",
    "https://leetcode.com/problems/sum-of-two-integers"
   ]
  },
  {
   "cell_type": "code",
   "execution_count": null,
   "id": "0279bfc7-49e6-4a2b-95cf-3473e2baca83",
   "metadata": {},
   "outputs": [],
   "source": [
    "Given two integers a and b, return the sum of the two integers without using the operators + and -.\n",
    "\n",
    " \n",
    "\n",
    "Example 1:\n",
    "\n",
    "Input: a = 1, b = 2\n",
    "Output: 3\n",
    "\n",
    "Example 2:\n",
    "\n",
    "Input: a = 2, b = 3\n",
    "Output: 5"
   ]
  },
  {
   "cell_type": "markdown",
   "id": "005c4897-c7cc-4c79-a657-d3c3a771bd92",
   "metadata": {},
   "source": [
    "# 문73 UTF-8 검증 m\n",
    "https://leetcode.com/problems/utf-8-validation"
   ]
  },
  {
   "cell_type": "code",
   "execution_count": null,
   "id": "6b45b77c-f975-466f-8d46-400631a5fcc6",
   "metadata": {},
   "outputs": [],
   "source": [
    "Given an integer array data representing the data, return whether it is a valid UTF-8 encoding \n",
    "(i.e. it translates to a sequence of valid UTF-8 encoded characters).\n",
    "\n",
    "A character in UTF8 can be from 1 to 4 bytes long, subjected to the following rules:\n",
    "\n",
    "For a 1-byte character, the first bit is a 0, followed by its Unicode code.\n",
    "For an n-bytes character, the first n bits are all one's, the n + 1 bit is 0, followed by n - 1 bytes with the most significant 2 bits being 10.\n",
    "This is how the UTF-8 encoding would work:\n",
    "\n",
    "     Number of Bytes   |        UTF-8 Octet Sequence\n",
    "                       |              (binary)\n",
    "   --------------------+-----------------------------------------\n",
    "            1          |   0xxxxxxx\n",
    "            2          |   110xxxxx 10xxxxxx\n",
    "            3          |   1110xxxx 10xxxxxx 10xxxxxx\n",
    "            4          |   11110xxx 10xxxxxx 10xxxxxx 10xxxxxx\n",
    "x denotes a bit in the binary form of a byte that may be either 0 or 1.\n",
    "\n",
    "Note: The input is an array of integers. Only the least significant 8 bits of each integer is used to store the data. \n",
    "This means each integer represents only 1 byte of data.\n",
    "\n",
    " \n",
    "\n",
    "Example 1:\n",
    "\n",
    "Input: data = [197,130,1]\n",
    "Output: true\n",
    "Explanation: data represents the octet sequence: 11000101 10000010 00000001.\n",
    "It is a valid utf-8 encoding for a 2-bytes character followed by a 1-byte character."
   ]
  },
  {
   "cell_type": "code",
   "execution_count": null,
   "id": "46d0ada6-9311-4ee1-a199-f19ce7c495b1",
   "metadata": {},
   "outputs": [],
   "source": [
    "class Solution:\n",
    "    def validUtf8(self, data: List[int]) -> bool:\n",
    "        "
   ]
  }
 ],
 "metadata": {
  "kernelspec": {
   "display_name": "tf",
   "language": "python",
   "name": "tf"
  },
  "language_info": {
   "codemirror_mode": {
    "name": "ipython",
    "version": 3
   },
   "file_extension": ".py",
   "mimetype": "text/x-python",
   "name": "python",
   "nbconvert_exporter": "python",
   "pygments_lexer": "ipython3",
   "version": "3.11.0"
  }
 },
 "nbformat": 4,
 "nbformat_minor": 5
}
