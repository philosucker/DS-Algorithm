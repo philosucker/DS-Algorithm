{
 "cells": [
  {
   "cell_type": "markdown",
   "id": "9e80dd1a-cd1a-4bfc-a5e3-95a813a78cc6",
   "metadata": {},
   "source": [
    "### m : 1, 2, 5, 3, 4"
   ]
  },
  {
   "cell_type": "markdown",
   "id": "961e7e47-905d-486b-80cf-dddb392762be",
   "metadata": {},
   "source": [
    "## 문1 교점에 별 만들기 m\n",
    "\n",
    "https://programmers.co.kr/learn/courses/30/lessons/87377"
   ]
  },
  {
   "cell_type": "markdown",
   "id": "5d9f6a8e-cefe-487d-ab8d-24bd8f47988c",
   "metadata": {},
   "source": [
    "### 내 풀이 1시간 40분 소요"
   ]
  },
  {
   "cell_type": "code",
   "execution_count": 110,
   "id": "30d23e60-8580-471a-8ccb-51d665566b30",
   "metadata": {
    "tags": []
   },
   "outputs": [
    {
     "name": "stdout",
     "output_type": "stream",
     "text": [
      "[[-4, -4], [-4, 1], [0, 4], [4, -4], [4, 1]]\n",
      "[[0, 0], [0, 5], [4, 8], [8, 0], [8, 5]]\n",
      "[[0, 0], [5, 0], [8, 4], [0, 8], [5, 8]]\n"
     ]
    },
    {
     "data": {
      "text/plain": [
       "['....*....',\n",
       " '.........',\n",
       " '.........',\n",
       " '*.......*',\n",
       " '.........',\n",
       " '.........',\n",
       " '.........',\n",
       " '.........',\n",
       " '*.......*']"
      ]
     },
     "execution_count": 110,
     "metadata": {},
     "output_type": "execute_result"
    }
   ],
   "source": [
    "line = [[2, -1, 4], [-2, -1, 4], [0, -1, 1], [5, -8, -12], [5, 8, 12]]\n",
    "# line = [[0, 1, -1], [1, 0, -1], [1, 0, 1]]\n",
    "\n",
    "# 교점 구하기\n",
    "cross = []\n",
    "for i in range(len(line)):\n",
    "    for j in range(i+1, len(line)):\n",
    "        A, B, E = line[i]\n",
    "        C, D, F = line[j]\n",
    "        if A*D-B*C == 0:\n",
    "            continue\n",
    "        else:\n",
    "            str_x = str((B*F-E*D) / (A*D-B*C))\n",
    "            str_y = str((E*C-A*F) / (A*D-B*C))\n",
    "            x = (B*F-E*D) / (A*D-B*C)\n",
    "            y = (E*C-A*F) / (A*D-B*C)\n",
    "            if str_x[-1] == \"0\" and str_y[-1] == \"0\":\n",
    "                cross.append([int(x), int(y)])\n",
    "                \n",
    "cross.sort()\n",
    "print(cross)\n",
    "# 1사분면으로 평행이동시키기 위해 x, y 최소값 구하기\n",
    "x_min = float(\"inf\")\n",
    "y_min = float(\"inf\")\n",
    "for pair in cross:\n",
    "    if pair[0] < x_min:\n",
    "        x_min = pair[0]\n",
    "    if pair[1] < y_min:\n",
    "        y_min = pair[1]\n",
    "\n",
    "x_min = -(x_min)\n",
    "y_min = -(y_min)\n",
    "\n",
    "# 1사분면으로 평행이동\n",
    "moved_cross = []\n",
    "for pair in cross:\n",
    "    x = pair[0] + x_min\n",
    "    y = pair[1] + y_min\n",
    "    moved_cross.append([x,y])\n",
    "    \n",
    "moved_cross.sort()\n",
    "print(moved_cross)\n",
    "\n",
    "# 좌표평면' 상의 x,y 좌표값들을                  (-4, -4), (-4, 1), (0, 4), (4, -4), (4, 1)\n",
    "# 원점 기준으로 1사분면에 모두 평행이동 시킨 후,     (0, 0),   (0, 5),  (4, 8), (8, 0), (8, 5)\n",
    "# 해당 좌표쌍 리스트를 원소로 하는 리스트를 만들면,   [[0, 0], [0, 5], [4, 8], [8, 0], [8, 5]]\n",
    "# 이때 리스트의 각 원소를 0행, 0열부터 시작하는 행렬의 각 원소를 나타내는 값으로도 볼 수 있는데\n",
    "# 이때 좌표평면' 상의 평행이동된 x좌표값은 행렬의 행 번호에\n",
    "# 좌표평면' 상의 평행이동된 y좌표값은 행렬의 열 번호에 상응시킬수 있다. \n",
    "# 따라서 [[0, 0], [0, 5], [4, 8], [8, 0], [8, 5]] 리스트의 각 원소를 행렬에 표시해보면\n",
    "# (0, 0), (0, 5),  (4, 8), (8, 0), (8, 5) 의 x, y 값을 서로 바꾼 값 (0, 0), (5, 0), (8, 4), (0, 8), (5, 8) 를\n",
    "# 좌표평면' 에 표시한 것과 같아진다. 다시 말해  좌표평면' 상에서 x, y좌표값을 y=x에 대해 대칭이동 시킨 좌표들의 위치와 같아진다.\n",
    "\n",
    "# 따라서 행렬 [[0, 0], [0, 5], [4, 8], [8, 0], [8, 5]] 을 좌표평면' 위 (0, 0), (0, 5), (4, 8), (8, 0), (8, 5)과 똑같이 나타내려면\n",
    "# 먼저 [[0, 0], [0, 5], [4, 8], [8, 0], [8, 5]] 리스트 각 원소의 첫번째 요소와 두번째 요소 위치를 바꿔준다. 그러면 \n",
    "# [[0, 0], [5, 0], [8, 4], [0, 8], [5, 8]] 이렇게 되는데, \n",
    "# 이는 행렬상에서 각 좌표를 y=-x에 대칭이동 시켜준 것과 같아진다.\n",
    "# 따라서 [[0, 0], [5, 0], [8, 4], [0, 8], [5, 8]]를 역순으로 출력하면 \n",
    "# 좌표평면' 에서 (0, 0), (0, 5), (4, 8), (8, 0), (8, 5) 의 위치와 같아진다.\n",
    "# 왜냐면 좌표평면 1사분면 상에선 y축값이 클수록 위로 가지만 행렬 상에선 행렬의 행값이 클수록 아래로 가고 \n",
    "# 이는 좌표평면상에서의 y축값이 음수가 아닌 양수인 3사분면과 같다.\n",
    "# 바꿔 말해 행렬상에서 y=-x 대칭 시킨후 역순으로 출력하는 것은, 좌표평면에서 위에서부터 아래 방향으로 출력하는 것과 같다. \n",
    "\n",
    "rotated_cross = []\n",
    "for pair in moved_cross: \n",
    "    pair[0], pair[1] = pair[1], pair[0]\n",
    "    rotated_cross.append([pair[0], pair[1]])\n",
    "print(rotated_cross)\n",
    "\n",
    "# 별을 찍을 최소 면적의 canvas를 구하기 위해 x, y 최대값 구하기\n",
    "x_max = float(\"-inf\")\n",
    "y_max = float(\"-inf\")\n",
    "for pair in rotated_cross:\n",
    "    if pair[0] > x_max:\n",
    "        x_max = pair[0]\n",
    "    if pair[1] > y_max:\n",
    "        y_max = pair[1]\n",
    "        \n",
    "# canvas 만들기\n",
    "# canvas = [[\".\"] * (x_max+1) for _ in range(y_max+1)] 이렇게 하면 왜 안되는 거지? 이렇게 하면 y_max가 행값이 되므로 틀렸다.\n",
    "canvas = [[\".\"] * (y_max+1) for _ in range(x_max+1)]\n",
    "\n",
    "# 별점 찍기\n",
    "for pair in rotated_cross:\n",
    "    canvas[pair[0]][pair[1]] = \"*\"\n",
    "\n",
    "# 역순으로 출력  \n",
    "answer = []\n",
    "for star in canvas[::-1]:  \n",
    "    answer.append(\"\".join(star))\n",
    "    \n",
    "answer"
   ]
  },
  {
   "cell_type": "markdown",
   "id": "d4960e74-2e55-4b01-bce7-02e8212b8fb8",
   "metadata": {},
   "source": [
    "### 저자 solution"
   ]
  },
  {
   "cell_type": "code",
   "execution_count": 47,
   "id": "6fb7de65-5e74-49dc-aca1-487c88c101ce",
   "metadata": {
    "tags": []
   },
   "outputs": [],
   "source": [
    "pos, answer = [], []\n",
    "n = len(line)\n",
    "\n",
    "x_min = y_min = int(1e15)\n",
    "x_max = y_max = -int(1e15)\n",
    "\n",
    "for i in range(n):\n",
    "    a, b, e = line[i]\n",
    "    for j in range(i + 1, n):\n",
    "        c, d, f = line[j]\n",
    "        if a * d == b * c:\n",
    "            continue\n",
    "\n",
    "        x = (b*f - e*d) / (a*d - b*c)\n",
    "        y = (e*c - a*f) / (a*d - b*c)\n",
    "\n",
    "        if x == int(x) and y == int(y):\n",
    "            x = int(x)\n",
    "            y = int(y)\n",
    "            pos.append([x,y])\n",
    "            if x_min > x: x_min = x\n",
    "            if y_min > y: y_min = y\n",
    "            if x_max < x: x_max = x \n",
    "            if y_max < y: y_max = y \n",
    "\n",
    "x_len = x_max - x_min + 1\n",
    "y_len = y_max - y_min + 1\n",
    "coord = [['.'] * x_len for _ in range(y_len)]\n",
    "\n",
    "for star_x, star_y in pos:\n",
    "    nx = star_x + abs(x_min) if x_min < 0 else star_x - x_min\n",
    "    ny = star_y + abs(y_min) if y_min < 0 else star_y - y_min\n",
    "    coord[ny][nx] = '*'"
   ]
  },
  {
   "cell_type": "code",
   "execution_count": 48,
   "id": "1ede550c-71f5-4f85-a81c-29d16a255cd3",
   "metadata": {
    "tags": []
   },
   "outputs": [
    {
     "data": {
      "text/plain": [
       "[[0, 4], [-4, -4], [4, -4], [-4, 1], [4, 1]]"
      ]
     },
     "execution_count": 48,
     "metadata": {},
     "output_type": "execute_result"
    }
   ],
   "source": [
    "pos"
   ]
  },
  {
   "cell_type": "code",
   "execution_count": 49,
   "id": "27d2beb8-f00f-4553-be0d-76dc60d26802",
   "metadata": {
    "tags": []
   },
   "outputs": [
    {
     "data": {
      "text/plain": [
       "[['*', '.', '.', '.', '.', '.', '.', '.', '*'],\n",
       " ['.', '.', '.', '.', '.', '.', '.', '.', '.'],\n",
       " ['.', '.', '.', '.', '.', '.', '.', '.', '.'],\n",
       " ['.', '.', '.', '.', '.', '.', '.', '.', '.'],\n",
       " ['.', '.', '.', '.', '.', '.', '.', '.', '.'],\n",
       " ['*', '.', '.', '.', '.', '.', '.', '.', '*'],\n",
       " ['.', '.', '.', '.', '.', '.', '.', '.', '.'],\n",
       " ['.', '.', '.', '.', '.', '.', '.', '.', '.'],\n",
       " ['.', '.', '.', '.', '*', '.', '.', '.', '.']]"
      ]
     },
     "execution_count": 49,
     "metadata": {},
     "output_type": "execute_result"
    }
   ],
   "source": [
    "coord"
   ]
  },
  {
   "cell_type": "markdown",
   "id": "2892118d-5eca-4d71-acd1-f86e262fce24",
   "metadata": {},
   "source": [
    "### chatGPT 솔루션"
   ]
  },
  {
   "cell_type": "code",
   "execution_count": 195,
   "id": "6496db65-81d2-46cf-a1ed-ece0eb39fde2",
   "metadata": {
    "tags": []
   },
   "outputs": [
    {
     "name": "stdout",
     "output_type": "stream",
     "text": [
      "* . . . . . . . *\n",
      ". . . . . . . . .\n",
      ". . . . * . . . .\n",
      ". * . . . . * . .\n",
      ". . . . . . . . .\n",
      "* . * . . * . . *\n",
      ". . . . . . . . .\n",
      ". . . . . . . . .\n",
      ". . . . * . . . .\n"
     ]
    }
   ],
   "source": [
    "line = [[2, -1, 4], [5, 8, 12], [-2, -1, 4], [0, -1, 1], [5, -8, -12]]\n",
    "\n",
    "cross_points = []\n",
    "for i in range(len(line)):\n",
    "    a, b, e = line[i]\n",
    "    for j in range(i + 1, len(line)):\n",
    "        c, d, f = line[j]\n",
    "        if a * d == b * c:\n",
    "            continue\n",
    "        x = (b * f - e * d) / (a * d - b * c)\n",
    "        y = (e * c - a * f) / (a * d - b * c)\n",
    "        cross_points.append([x, y])\n",
    "\n",
    "x_max = max(x for x, _ in cross_points)\n",
    "x_min = min(x for x, _ in cross_points)\n",
    "y_max = max(y for _, y in cross_points)\n",
    "y_min = min(y for _, y in cross_points)\n",
    "\n",
    "x = int(x_max - x_min + 1)\n",
    "y = int(y_max - y_min + 1)\n",
    "\n",
    "coordinates = [['.'] * x for _ in range(y)]\n",
    "\n",
    "for x, y in cross_points:\n",
    "    x = int(x + abs(x_min)) if x_min < 0 else int(x - x_min)\n",
    "    y = int(y + abs(y_min)) if y_min < 0 else int(y - y_min)\n",
    "    coordinates[y][x] = \"*\"\n",
    "\n",
    "for row in coordinates:\n",
    "    print(\" \".join(row))"
   ]
  },
  {
   "cell_type": "markdown",
   "id": "2d11cb5b-26f3-45cd-b6fb-25fee6309332",
   "metadata": {},
   "source": [
    "# 문2 행렬 테두리 회전하기 m\n",
    "https://programmers.co.kr/learn/courses/30/lessons/77485"
   ]
  },
  {
   "cell_type": "markdown",
   "id": "99943f3b-5a8e-4f66-9349-c63f1552c6e2",
   "metadata": {},
   "source": [
    "# 못풂"
   ]
  },
  {
   "cell_type": "markdown",
   "id": "ce074eb9-f0ca-4d60-86bd-bf2811ade53f",
   "metadata": {
    "tags": []
   },
   "source": [
    "# 책 풀이"
   ]
  },
  {
   "cell_type": "code",
   "execution_count": 45,
   "id": "eeb80fb2-0926-4051-82e4-df0632b30af4",
   "metadata": {
    "tags": []
   },
   "outputs": [],
   "source": [
    "def solution(rows, columns, queries):\n",
    "    \n",
    "    # 행렬판 만들기\n",
    "    matrix = [[j + columns*i for j in range(1, columns+1)] for i in range(rows)]\n",
    "        \n",
    "    #회전함수\n",
    "    def rotate(x1, y1, x2, y2, matrix): \n",
    "        first = matrix[x1][y1]\n",
    "        min_value = first\n",
    "\n",
    "        for k in range(x1, x2):  # 2행부터 5행까지 2열 스위치\n",
    "            matrix[k][y1] = matrix[k+1][y1]\n",
    "            min_value = min(min_value, matrix[k+1][y1])\n",
    "\n",
    "        for k in range(y1, y2): # 2열부터 4열까지 5행 스위치\n",
    "            matrix[x2][k] = matrix[x2][k+1]\n",
    "            min_value = min(min_value, matrix[x2][k+1])\n",
    "\n",
    "        for k in range(x2, x1, -1): # 5행부터 2행까지 4열 스위치\n",
    "            matrix[k][y2] = matrix[k-1][y2]\n",
    "            min_value = min(min_value, matrix[k-1][y2])\n",
    "\n",
    "        for k in range(y2, y1+1, -1): # 4열부터 3열까지 2행 스위치\n",
    "            matrix[x1][k] = matrix[x1][k-1] \n",
    "            min_value = min(min_value, matrix[x1][k-1])\n",
    "\n",
    "        matrix[x1][y1+1] = first\n",
    "\n",
    "        return min_value\n",
    "    \n",
    "    # 쿼리를 회전 함수에 입력해 정답 배열에 입력\n",
    "    result = []\n",
    "    for x1, y1, x2, y2 in queries: \n",
    "        result.append(rotate(x1-1, y1-1, x2-1, y2-1, matrix)) # 행렬의 위치를 인덱싱할 때 0부터 시작하므로 query 좌표값에서 -1\n",
    "\n",
    "    return result"
   ]
  },
  {
   "cell_type": "markdown",
   "id": "6bcb08da-df52-469b-bebb-76770f7c7580",
   "metadata": {},
   "source": [
    "### 최적화"
   ]
  },
  {
   "cell_type": "code",
   "execution_count": 85,
   "id": "264aafb3-c714-4cfe-abe3-468c25bb3a23",
   "metadata": {
    "tags": []
   },
   "outputs": [],
   "source": [
    "def solution(rows, columns, queries):\n",
    "    answer = []\n",
    "    board = [[(columns*i) + (j+1) for j in range(columns)] for i in range(rows)]\n",
    "    for query in queries:\n",
    "        a, b, c, d = query[0]-1, query[1]-1, query[2]-1, query[3]-1\n",
    "        row1, row2 = board[a][b:d], board[c][b+1:d+1]\n",
    "        min_ = min(row1 + row2)\n",
    "        \n",
    "        for i in range(c, a, -1):\n",
    "            board[i][d] = board[i-1][d]\n",
    "            if board[i][d] < min_ : min_ = board[i][d]\n",
    "            \n",
    "        for i in range(a, c):\n",
    "            board[i][b] = board[i+1][b]\n",
    "            if board[i][b] < min_ : min_ = board[i][b]\n",
    "            \n",
    "        board[a][b+1:d+1], board[c][b:d] = row1, row2\n",
    "        \n",
    "        answer.append(min_)\n",
    "        \n",
    "    return answer"
   ]
  },
  {
   "cell_type": "code",
   "execution_count": 138,
   "id": "faec5a85-0bd5-4ec5-abd9-c966f61f776d",
   "metadata": {
    "tags": []
   },
   "outputs": [
    {
     "data": {
      "text/plain": [
       "[[1, 2, 3, 4, 5, 6],\n",
       " [7, 8, 9, 10, 11, 12],\n",
       " [13, 14, 15, 16, 17, 18],\n",
       " [19, 20, 21, 22, 23, 24],\n",
       " [25, 26, 27, 28, 29, 30],\n",
       " [31, 32, 33, 34, 35, 36]]"
      ]
     },
     "execution_count": 138,
     "metadata": {},
     "output_type": "execute_result"
    }
   ],
   "source": [
    "rows = 6\n",
    "columns = 6\n",
    "board = [[(columns*i)+(j+1) for j in range(columns)]for i in range(rows)]\n",
    "board"
   ]
  },
  {
   "cell_type": "code",
   "execution_count": 140,
   "id": "dff10fb9-c88e-4712-9334-0f2e8178a7a9",
   "metadata": {
    "tags": []
   },
   "outputs": [
    {
     "data": {
      "text/plain": [
       "(1, 1, 4, 3)"
      ]
     },
     "execution_count": 140,
     "metadata": {},
     "output_type": "execute_result"
    }
   ],
   "source": [
    "queries = [[2,2,5,4]]\n",
    "for query in queries:\n",
    "    a, b, c, d = query[0]-1, query[1]-1, query[2]-1, query[3]-1\n",
    "    \n",
    "a, b, c, d"
   ]
  },
  {
   "cell_type": "code",
   "execution_count": 141,
   "id": "ddb8e3d9-b8aa-4003-9e5f-469fce4f189f",
   "metadata": {
    "tags": []
   },
   "outputs": [
    {
     "name": "stdout",
     "output_type": "stream",
     "text": [
      "[8, 9]\n",
      "[27, 28]\n"
     ]
    }
   ],
   "source": [
    "row1, row2 = board[a][b:d], board[c][b+1:d+1]\n",
    "print(row1)\n",
    "print(row2)"
   ]
  },
  {
   "cell_type": "code",
   "execution_count": 142,
   "id": "1e7b8062-ea21-46ba-907f-e0ab0c114add",
   "metadata": {
    "tags": []
   },
   "outputs": [
    {
     "data": {
      "text/plain": [
       "8"
      ]
     },
     "execution_count": 142,
     "metadata": {},
     "output_type": "execute_result"
    }
   ],
   "source": [
    "min_ = min(row1 + row2)\n",
    "min_"
   ]
  },
  {
   "cell_type": "code",
   "execution_count": 143,
   "id": "7e41d238-8645-44af-8a72-ada48b967642",
   "metadata": {
    "tags": []
   },
   "outputs": [
    {
     "data": {
      "text/plain": [
       "[[1, 2, 3, 4, 5, 6],\n",
       " [7, 8, 9, 10, 11, 12],\n",
       " [13, 14, 15, 10, 17, 18],\n",
       " [19, 20, 21, 16, 23, 24],\n",
       " [25, 26, 27, 22, 29, 30],\n",
       " [31, 32, 33, 34, 35, 36]]"
      ]
     },
     "execution_count": 143,
     "metadata": {},
     "output_type": "execute_result"
    }
   ],
   "source": [
    "for i in range(c, a, -1): # 우변 스위치\n",
    "    board[i][d] = board[i-1][d]\n",
    "    if board[i][d] < min_ : min_ = board[i][d]\n",
    "board"
   ]
  },
  {
   "cell_type": "code",
   "execution_count": 144,
   "id": "a1004ec3-4329-490b-b769-0e79a76dc724",
   "metadata": {
    "tags": []
   },
   "outputs": [
    {
     "data": {
      "text/plain": [
       "[[1, 2, 3, 4, 5, 6],\n",
       " [7, 14, 9, 10, 11, 12],\n",
       " [13, 20, 15, 10, 17, 18],\n",
       " [19, 26, 21, 16, 23, 24],\n",
       " [25, 26, 27, 22, 29, 30],\n",
       " [31, 32, 33, 34, 35, 36]]"
      ]
     },
     "execution_count": 144,
     "metadata": {},
     "output_type": "execute_result"
    }
   ],
   "source": [
    "for i in range(a, c): # 좌변 스위치\n",
    "    board[i][b] = board[i+1][b]\n",
    "    if board[i][b] < min_ : min_ = board[i][b]\n",
    "board"
   ]
  },
  {
   "cell_type": "code",
   "execution_count": 145,
   "id": "beeacd68-e7a2-4b33-a1fc-8658de2a369d",
   "metadata": {
    "tags": []
   },
   "outputs": [
    {
     "data": {
      "text/plain": [
       "[[1, 2, 3, 4, 5, 6],\n",
       " [7, 14, 8, 9, 11, 12],\n",
       " [13, 20, 15, 10, 17, 18],\n",
       " [19, 26, 21, 16, 23, 24],\n",
       " [25, 27, 28, 22, 29, 30],\n",
       " [31, 32, 33, 34, 35, 36]]"
      ]
     },
     "execution_count": 145,
     "metadata": {},
     "output_type": "execute_result"
    }
   ],
   "source": [
    "board[a][b+1:d+1], board[c][b:d] = row1, row2  # 윗변, 아랫변 스위치\n",
    "board"
   ]
  },
  {
   "cell_type": "code",
   "execution_count": 146,
   "id": "bcb7f21b-fcbc-4865-926d-e61f8bc7c6b0",
   "metadata": {
    "tags": []
   },
   "outputs": [
    {
     "data": {
      "text/plain": [
       "8"
      ]
     },
     "execution_count": 146,
     "metadata": {},
     "output_type": "execute_result"
    }
   ],
   "source": [
    "min_"
   ]
  },
  {
   "cell_type": "markdown",
   "id": "2bc28c07-ee2c-4d84-8ab5-38157d28697a",
   "metadata": {
    "jp-MarkdownHeadingCollapsed": true,
    "tags": []
   },
   "source": [
    "# 문5 행렬의 곱셈 m\n",
    "https://programmers.co.kr/learn/courses/30/lessons/12949"
   ]
  },
  {
   "cell_type": "markdown",
   "id": "70f7e64d-882a-4f0f-981f-d308b389dcba",
   "metadata": {},
   "source": [
    "### 내 풀이\n"
   ]
  },
  {
   "cell_type": "code",
   "execution_count": 180,
   "id": "1a10ccf9-1133-4b56-a618-1cb0335e87c2",
   "metadata": {
    "tags": []
   },
   "outputs": [
    {
     "data": {
      "text/plain": [
       "[[22, 22, 11], [36, 28, 18], [29, 20, 14]]"
      ]
     },
     "execution_count": 180,
     "metadata": {},
     "output_type": "execute_result"
    }
   ],
   "source": [
    "arr1 = \t[[2, 3, 2], \n",
    "         [4, 2, 4],\n",
    "         [3, 1, 4]]\n",
    "\n",
    "arr2 = [[5, 4, 3], \n",
    "        [2, 4, 1], \n",
    "        [3, 1, 1]]\n",
    "\n",
    "rows, columns = len(arr1), len(arr2[0]) # 정답 행렬의 행수, 열수 계산\n",
    "\n",
    "answer = [[0]*columns for _ in range(rows)] # 정답 행렬 만들기\n",
    "\n",
    "arr2_t = [[0]*len(arr2) for _ in range(len(arr2[0]))] # arr2 전치행렬 초기화\n",
    "\n",
    "for i in range(len(arr2)):\n",
    "    for j in range(len(arr2[0])):\n",
    "        arr2_t[j][i] = arr2[i][j]    # arr2 전치행렬 만들기\n",
    "\n",
    "for i in range(len(arr1)):  \n",
    "    for j in range(len(arr2_t)): \n",
    "        temp = 0\n",
    "        for k in range(len(arr1[0])): \n",
    "            temp += arr1[i][k] * arr2_t[j][k]\n",
    "        answer[i][j] = temp\n",
    "\n",
    "answer"
   ]
  },
  {
   "cell_type": "code",
   "execution_count": 109,
   "id": "a79e13fb-2be4-47d7-a49f-bb254d10874b",
   "metadata": {
    "tags": []
   },
   "outputs": [],
   "source": [
    "arr1 = [[1, 4], \n",
    "        [3, 2], \n",
    "        [4, 1]]\n",
    "\n",
    "arr2 = [[3, 3], \n",
    "        [3, 3]]\n",
    "\n",
    "행렬 arr1, arr2의 행과 열의 길이는 2 이상 100 이하입니다.\n",
    "행렬 arr1, arr2의 원소는 -10 이상 20 이하인 자연수입니다.\n",
    "곱할 수 있는 배열만 주어집니다."
   ]
  },
  {
   "cell_type": "markdown",
   "id": "0b56d37a-bad8-4cdc-af11-3a27d23c1964",
   "metadata": {},
   "source": [
    "### 책 풀이"
   ]
  },
  {
   "cell_type": "markdown",
   "id": "acb801dd-7fe1-4eb6-a2b6-37bfbbb3fabd",
   "metadata": {},
   "source": [
    "#### 먼저 정답 행렬을 초기화 한다"
   ]
  },
  {
   "cell_type": "code",
   "execution_count": 11,
   "id": "37f58b8d-b376-4e33-bb2e-dbb72c2e19e4",
   "metadata": {
    "tags": []
   },
   "outputs": [
    {
     "data": {
      "text/plain": [
       "[[0, 0], [0, 0], [0, 0]]"
      ]
     },
     "execution_count": 11,
     "metadata": {},
     "output_type": "execute_result"
    }
   ],
   "source": [
    "answer = [[0 for _ in range(len(arr2[0]))] for _ in range(len(arr1))]\n",
    "answer = []\n",
    "for _ in range(len(arr1)):\n",
    "    temp = []\n",
    "    for _ in range(len(arr2[0])):\n",
    "        temp.append(0)\n",
    "    answer.append(temp)\n",
    "answer"
   ]
  },
  {
   "cell_type": "code",
   "execution_count": 12,
   "id": "a44ab32e-2d41-41e2-a2ab-8505700717ec",
   "metadata": {
    "tags": []
   },
   "outputs": [],
   "source": [
    "for i in range(len(arr1)):\n",
    "    for j in range(len(arr2[0])):\n",
    "        for k in range(len(arr1[0])):\n",
    "            answer[i][j] += arr1[i][k] * arr2[k][j]"
   ]
  },
  {
   "cell_type": "code",
   "execution_count": 13,
   "id": "a3ab78e0-70c1-4f0c-b53c-20442916b300",
   "metadata": {
    "tags": []
   },
   "outputs": [
    {
     "data": {
      "text/plain": [
       "[[15, 15], [15, 15], [15, 15]]"
      ]
     },
     "execution_count": 13,
     "metadata": {},
     "output_type": "execute_result"
    }
   ],
   "source": [
    "answer"
   ]
  },
  {
   "cell_type": "code",
   "execution_count": 14,
   "id": "e184d5c6-2ea0-44fd-8246-74b5df46147a",
   "metadata": {
    "tags": []
   },
   "outputs": [],
   "source": [
    "def solution(arr1, arr2):\n",
    "    # answer = [[0 for _ in range(len(arr2[0]))] for _ in range(len(arr1))]\n",
    "    answer = []\n",
    "    for _ in range(len(arr1)):\n",
    "        temp = []\n",
    "        for _ in range(len(arr2[0])):\n",
    "            temp.append(0)\n",
    "        answer.append(temp)\n",
    "        \n",
    "    for i in range(len(arr1)):\n",
    "        for j in range(len(arr2[0])):\n",
    "            for k in range(len(arr1[0])):\n",
    "                answer[i][j] += arr1[i][k] * arr2[k][j]\n",
    "            print(answer)\n",
    "    return answer"
   ]
  },
  {
   "cell_type": "code",
   "execution_count": 15,
   "id": "bf8cb6cc-1a7f-4279-8845-8d16219a0776",
   "metadata": {
    "tags": []
   },
   "outputs": [
    {
     "name": "stdout",
     "output_type": "stream",
     "text": [
      "[[15, 0], [0, 0], [0, 0]]\n",
      "[[15, 15], [0, 0], [0, 0]]\n",
      "[[15, 15], [15, 0], [0, 0]]\n",
      "[[15, 15], [15, 15], [0, 0]]\n",
      "[[15, 15], [15, 15], [15, 0]]\n",
      "[[15, 15], [15, 15], [15, 15]]\n"
     ]
    },
    {
     "data": {
      "text/plain": [
       "[[15, 15], [15, 15], [15, 15]]"
      ]
     },
     "execution_count": 15,
     "metadata": {},
     "output_type": "execute_result"
    }
   ],
   "source": [
    "arr1 = [[1, 4], \n",
    "        [3, 2], \n",
    "        [4, 1]]\n",
    "\n",
    "arr2 = [[3, 3], \n",
    "        [3, 3]]\n",
    "\n",
    "solution(arr1, arr2)"
   ]
  },
  {
   "cell_type": "markdown",
   "id": "25d4e506-a483-408e-8294-fca938a38e70",
   "metadata": {},
   "source": [
    "#### 다른 풀이"
   ]
  },
  {
   "cell_type": "code",
   "execution_count": 118,
   "id": "e0eef0c9-f16d-4b40-8c0e-a2e125e0e4ba",
   "metadata": {
    "tags": []
   },
   "outputs": [],
   "source": [
    "def matrix_multiply(arr1, arr2):\n",
    "    # Get the dimensions of the matrices\n",
    "    rows_arr1, cols_arr1 = len(arr1), len(arr1[0])\n",
    "    rows_arr2, cols_arr2 = len(arr2), len(arr2[0])\n",
    "\n",
    "    # Check if the matrices can be multiplied 행렬곱이 가능한지 확인 후 예외처리\n",
    "    if cols_arr1 != rows_arr2:\n",
    "        raise ValueError(\"Number of columns in arr1 must be equal to the number of rows in arr2\")\n",
    "\n",
    "    # Initialize the result matrix with zeros 정답행렬 0으로 초기화\n",
    "    result = [[0 for _ in range(cols_arr2)] for _ in range(rows_arr1)]\n",
    "\n",
    "    # Transpose the second matrix for easier iteration\n",
    "    arr2_transposed = list(map(list, zip(*arr2))) # arr2의 행들을 \n",
    "\n",
    "    # Perform matrix multiplication\n",
    "    for i in range(rows_arr1):\n",
    "        for j in range(cols_arr2):\n",
    "            result[i][j] = sum(x * y for x, y in zip(arr1[i], arr2_transposed[j]))\n",
    "\n",
    "    return result"
   ]
  },
  {
   "cell_type": "code",
   "execution_count": 16,
   "id": "b802edbe-fc62-423a-b311-41d8d6c0007a",
   "metadata": {
    "tags": []
   },
   "outputs": [],
   "source": [
    "arr1 = [[1, 2], \n",
    "        [3, 4], \n",
    "        [5, 6]]\n",
    "\n",
    "arr2 = [[1, 2], \n",
    "        [3, 4]]"
   ]
  },
  {
   "cell_type": "code",
   "execution_count": 17,
   "id": "78fb8414-2eae-4c90-b047-9998b3faad8c",
   "metadata": {
    "tags": []
   },
   "outputs": [
    {
     "data": {
      "text/plain": [
       "[[1, 3], [2, 4]]"
      ]
     },
     "execution_count": 17,
     "metadata": {},
     "output_type": "execute_result"
    }
   ],
   "source": [
    "arr2_transposed = list(map(list, zip(*arr2)))\n",
    "arr2_transposed"
   ]
  },
  {
   "cell_type": "markdown",
   "id": "9bed91b9-e1ae-4d8a-9107-8b82afecc85f",
   "metadata": {
    "tags": []
   },
   "source": [
    "    zip 함수: \n",
    "    zip 함수는 여러 개의 이터러블을 받아 \n",
    "    각 이터러블에서 순서대로 하나씩 요소를 묶어 \n",
    "    튜플을 생성하는 이터레이터를 반환합니다. \n",
    "\n",
    "    예를 들어, zip([1, 2], [3, 4])는 \n",
    "    (1, 3)과 (2, 4)라는 \n",
    "    두 개의 튜플을 생성하는 이터레이터를 반환합니다.\n",
    "\n",
    "    * (언패킹) 연산자: \n",
    "    * 연산자는 시퀀스 언패킹에 사용되며, \n",
    "    시퀀스(리스트, 튜플 등)의 요소를 \n",
    "    개별 인자로 분리합니다. 예를 들어, \n",
    "\n",
    "    func(*[1, 2, 3])은 func(1, 2, 3)과 동일합니다."
   ]
  },
  {
   "cell_type": "code",
   "execution_count": 117,
   "id": "dd5fb512-4ad1-4ea1-a4e4-44ead0b39dae",
   "metadata": {
    "tags": []
   },
   "outputs": [],
   "source": [
    "def productMatrix(A, B):\n",
    "    return [[sum(a*b for a, b in zip(A_row,B_col)) for B_col in zip(*B)] for A_row in A]"
   ]
  },
  {
   "cell_type": "code",
   "execution_count": null,
   "id": "3509b6ce-087c-4264-82d4-f8531ee70284",
   "metadata": {},
   "outputs": [],
   "source": [
    "def matmul(arr1, arr2):\n",
    "    result = []\n",
    "    for _ in range(len(arr1)):\n",
    "        temp = []\n",
    "        for _ in range(len(arr2[0])):\n",
    "            temp.append(0)\n",
    "        result.append(temp)\n",
    "    \n",
    "    for i in range(len(arr1)):\n",
    "        for j in range(len(arr2[0])):\n",
    "            for k in range(len(arr1[0])):\n",
    "                result[i][j] += arr"
   ]
  },
  {
   "cell_type": "markdown",
   "id": "557ba46b-3f1e-4248-a4d7-65978183bcb7",
   "metadata": {},
   "source": [
    "# 문3, 문4 는 BFS, DFS 와 관련 있다"
   ]
  },
  {
   "cell_type": "markdown",
   "id": "b993ac3a-e312-4747-bac0-cd0323074c49",
   "metadata": {},
   "source": [
    "# 문3 삼각 달팽이 m\n",
    "https://programmers.co.kr/learn/courses/30/lessons/68645"
   ]
  },
  {
   "cell_type": "code",
   "execution_count": null,
   "id": "845aa5a6-a3dd-460d-9ebd-53853c21908d",
   "metadata": {},
   "outputs": [],
   "source": []
  },
  {
   "cell_type": "markdown",
   "id": "398885b9-a6b3-44b1-b7ff-026b36789f34",
   "metadata": {},
   "source": [
    "    정수 n이 주어지면,  \n",
    "    밑변길이와 높이가 n인 삼각형을 만들고\n",
    "    맨 위 꼭지점에서 반시계방향으로 돌며 1부터 숫자를 채운 다음\n",
    "    맨 위 행부터 맨 아래 행까지 숫자들을 왼쪽에서 오른쪽으로 순서대로 하나의 배열에 담아 반환해라"
   ]
  },
  {
   "cell_type": "markdown",
   "id": "b1c3e6c6-cb80-4a46-97ac-eace555b8842",
   "metadata": {},
   "source": [
    "### 내 아이디어\n",
    "프랙탈 구조가 보이는데, 재귀로 풀수 있을 것 같으나 생각이 더 필요함"
   ]
  },
  {
   "cell_type": "markdown",
   "id": "ede5dcfb-ecb5-487a-b087-dd2abe998138",
   "metadata": {},
   "source": [
    "#### 책 풀이"
   ]
  },
  {
   "cell_type": "code",
   "execution_count": 89,
   "id": "6e88de3c-24e4-44ca-994a-82722e9b2c58",
   "metadata": {
    "tags": []
   },
   "outputs": [],
   "source": [
    "board = []\n",
    "n = 9\n",
    "for i in range(n):\n",
    "    temp = [0] * n\n",
    "    board.append(temp)"
   ]
  },
  {
   "cell_type": "code",
   "execution_count": 93,
   "id": "80a5cd42-7fae-49f2-a895-094b3e5bdec5",
   "metadata": {
    "tags": []
   },
   "outputs": [
    {
     "data": {
      "text/plain": [
       "[[0, 0, 0, 0, 0, 0, 0, 0, 0],\n",
       " [0, 0, 0, 0, 0, 0, 0, 0, 0],\n",
       " [0, 0, 0, 0, 0, 0, 0, 0, 0],\n",
       " [0, 0, 0, 0, 0, 0, 0, 0, 0],\n",
       " [0, 0, 0, 0, 0, 0, 0, 0, 0],\n",
       " [0, 0, 0, 0, 0, 0, 0, 0, 0],\n",
       " [0, 0, 0, 0, 0, 0, 0, 0, 0],\n",
       " [0, 0, 0, 0, 0, 0, 0, 0, 0],\n",
       " [0, 0, 0, 0, 0, 0, 0, 0, 0]]"
      ]
     },
     "execution_count": 93,
     "metadata": {},
     "output_type": "execute_result"
    }
   ],
   "source": [
    "board = [[0] * n for _ in range(n)]\n",
    "board"
   ]
  },
  {
   "cell_type": "code",
   "execution_count": 97,
   "id": "4a595ad8-d71e-4782-bdf0-295c16816a28",
   "metadata": {
    "tags": []
   },
   "outputs": [
    {
     "data": {
      "text/plain": [
       "[[0],\n",
       " [0, 0],\n",
       " [0, 0, 0],\n",
       " [0, 0, 0, 0],\n",
       " [0, 0, 0, 0, 0],\n",
       " [0, 0, 0, 0, 0, 0],\n",
       " [0, 0, 0, 0, 0, 0, 0],\n",
       " [0, 0, 0, 0, 0, 0, 0, 0],\n",
       " [0, 0, 0, 0, 0, 0, 0, 0, 0]]"
      ]
     },
     "execution_count": 97,
     "metadata": {},
     "output_type": "execute_result"
    }
   ],
   "source": [
    "board = [[0] * (i+1) for i in range(n)]\n",
    "board"
   ]
  },
  {
   "cell_type": "markdown",
   "id": "601139e6-660b-4605-8470-e4d9fe6eba7f",
   "metadata": {},
   "source": [
    "### 여기부터 이해 안됨"
   ]
  },
  {
   "cell_type": "code",
   "execution_count": null,
   "id": "56385d45-cf3c-4fe1-9f0b-e4dfd4013c90",
   "metadata": {},
   "outputs": [],
   "source": [
    "dx = [0, 1, -1]\n",
    "dy = [1, 0, -1]\n",
    "\n",
    "x = y = angle = 0\n",
    "\n",
    "cnt = 1\n",
    "size = (n+1) * n // 2\n",
    "\n",
    "while cnt <= size:\n",
    "    board[y][x] = cnt\n",
    "    ny = y + dy[angle]\n",
    "    nx = x + dx[angle]\n",
    "    cnt += 1"
   ]
  },
  {
   "cell_type": "markdown",
   "id": "6aa6fe6b-fc1f-407b-b160-1267d3f9caa0",
   "metadata": {},
   "source": [
    "# 다른 풀이"
   ]
  },
  {
   "cell_type": "code",
   "execution_count": null,
   "id": "25f56857-191f-4ffe-9bb4-26704a19d7fc",
   "metadata": {},
   "outputs": [],
   "source": [
    "def solution(n):\n",
    "    dx=[0,1,-1];dy=[1,0,-1]\n",
    "    b=[[0]*i for i in range(1,n+1)]\n",
    "    x,y=0,0;num=1;d=0\n",
    "    while num<=(n+1)*n//2:\n",
    "        b[y][x]=num\n",
    "        ny=y+dy[d];nx=x+dx[d];num+=1\n",
    "        if 0<=ny<n and 0<=nx<=ny and b[ny][nx]==0:y,x=ny,nx\n",
    "        else:d=(d+1)%3;y+=dy[d];x+=dx[d]\n",
    "    return sum(b,[])"
   ]
  },
  {
   "cell_type": "code",
   "execution_count": null,
   "id": "455d42ee-af09-4f8e-a6f3-60f029794a11",
   "metadata": {},
   "outputs": [],
   "source": [
    "import sys\n",
    "sys.setrecursionlimit(1000000)\n",
    "\n",
    "class Triangle():\n",
    "    def __init__(self,n):\n",
    "        self.board = [[0 for _ in range(n)] for _ in range(n)]\n",
    "        self.cnt = 1\n",
    "        self.answer = []\n",
    "        self.ldown(0,0,n)\n",
    "        for i in range(n):\n",
    "            for j in range(i+1):\n",
    "                self.answer.append(self.board[i][j])\n",
    "\n",
    "    def ldown(self,x,y,n):\n",
    "        if n < 1:\n",
    "            return 0\n",
    "        for i in range(x,x+n):\n",
    "            self.board[i][y] = self.cnt\n",
    "            self.cnt += 1\n",
    "        self.right(i,y+1,n-1)\n",
    "\n",
    "    def right(self,x,y,n):\n",
    "        if n < 1:\n",
    "            return 0\n",
    "        for j in range(y,y+n):\n",
    "            self.board[x][j] = self.cnt\n",
    "            self.cnt += 1\n",
    "        self.lup(x-1,j-1,n-1)\n",
    "\n",
    "    def lup(self,x,y,n):\n",
    "        if n < 1:\n",
    "            return 0\n",
    "        for i in range(x,x-n,-1):\n",
    "            self.board[i][y] = self.cnt\n",
    "            y -= 1\n",
    "            self.cnt += 1\n",
    "        self.ldown(i+1,y+1,n-1)\n",
    "\n",
    "def solution(n):\n",
    "    triangle = Triangle(n)\n",
    "    return triangle.answer"
   ]
  },
  {
   "cell_type": "markdown",
   "id": "93893c99-d082-4ccb-867c-d6c95ac0bc32",
   "metadata": {},
   "source": [
    "# 문4 거리두기 확인하기 m\n",
    "https://programmers.co.kr/learn/courses/30/lessons/81302"
   ]
  },
  {
   "cell_type": "code",
   "execution_count": null,
   "id": "04451b73-b9a7-4a12-8717-bc21902b4ff3",
   "metadata": {},
   "outputs": [],
   "source": []
  },
  {
   "cell_type": "code",
   "execution_count": null,
   "id": "eed31736-32ba-44c5-8b14-f91874ebc09f",
   "metadata": {},
   "outputs": [],
   "source": []
  },
  {
   "cell_type": "code",
   "execution_count": null,
   "id": "7353f23e-a9ff-4697-a389-75adfb8ab0c1",
   "metadata": {},
   "outputs": [],
   "source": []
  },
  {
   "cell_type": "code",
   "execution_count": null,
   "id": "0952745d-4a3b-4106-b48d-5f1b4d7c4e34",
   "metadata": {},
   "outputs": [],
   "source": []
  },
  {
   "cell_type": "code",
   "execution_count": null,
   "id": "9f022f58-22ea-49bc-b75f-7b5542484d85",
   "metadata": {},
   "outputs": [],
   "source": []
  }
 ],
 "metadata": {
  "kernelspec": {
   "display_name": "tf",
   "language": "python",
   "name": "tf"
  },
  "language_info": {
   "codemirror_mode": {
    "name": "ipython",
    "version": 3
   },
   "file_extension": ".py",
   "mimetype": "text/x-python",
   "name": "python",
   "nbconvert_exporter": "python",
   "pygments_lexer": "ipython3",
   "version": "3.11.0"
  }
 },
 "nbformat": 4,
 "nbformat_minor": 5
}
