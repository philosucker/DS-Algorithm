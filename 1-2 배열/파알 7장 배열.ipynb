{
 "cells": [
  {
   "cell_type": "markdown",
   "id": "fbcc280e-86b3-420c-a8b9-8f91d8fb0118",
   "metadata": {},
   "source": [
    "### e : 7, 10, 12, \n",
    "### m : 11, 9, \n",
    "### h : 8\n"
   ]
  },
  {
   "cell_type": "markdown",
   "id": "343e4bf1-383f-42bc-8911-9fefa0b51e7d",
   "metadata": {},
   "source": [
    "# 문7 두 수의 합 e\n",
    "https://leetcode.com/problems/two-sum"
   ]
  },
  {
   "cell_type": "markdown",
   "id": "a108d7bf-bae1-4663-9110-6fbca56b3991",
   "metadata": {},
   "source": [
    "    입력 : nums [2, 7, 11, 15], target = 9\n",
    "\n",
    "    출력 : [0, 1]"
   ]
  },
  {
   "cell_type": "markdown",
   "id": "2411b479-6d2d-49a9-aefd-36a134fccf76",
   "metadata": {},
   "source": [
    "### 내 첫번째 풀이"
   ]
  },
  {
   "cell_type": "code",
   "execution_count": 15,
   "id": "f91b57a7-ebc0-42bc-a015-3789dd9ea48f",
   "metadata": {
    "tags": []
   },
   "outputs": [],
   "source": [
    "from __future__ import annotations\n",
    "import itertools\n",
    "\n",
    "def twoSum(nums: List[int], target: int) -> List[int]:\n",
    "\n",
    "    combi_list = list(itertools.combinations(nums, 2))\n",
    "\n",
    "    temp = []\n",
    "\n",
    "    for p in combi_list:\n",
    "        n, m = p\n",
    "        if n + m == target:\n",
    "            temp.append(n)\n",
    "            temp.append(m)\n",
    "\n",
    "    num_to_indices = {}\n",
    "\n",
    "    for idx, num in enumerate(nums):\n",
    "        if num in num_to_indices:\n",
    "            num_to_indices[num].append(idx)\n",
    "        else:\n",
    "            num_to_indices[num] = [idx]\n",
    "\n",
    "    if temp[0] == temp[1]:\n",
    "        return num_to_indices[temp[0]]\n",
    "\n",
    "    else:\n",
    "        result_indices = [] \n",
    "        for num in temp:\n",
    "            if num in num_to_indices:\n",
    "                result_indices.extend(num_to_indices[num])\n",
    "    return result_indices\n"
   ]
  },
  {
   "cell_type": "code",
   "execution_count": 16,
   "id": "b0aafab4-6868-4184-a4ac-d12cb1a54e8c",
   "metadata": {
    "tags": []
   },
   "outputs": [
    {
     "data": {
      "text/plain": [
       "[0, 1]"
      ]
     },
     "execution_count": 16,
     "metadata": {},
     "output_type": "execute_result"
    }
   ],
   "source": [
    "twoSum([3,3], 6)"
   ]
  },
  {
   "cell_type": "markdown",
   "id": "e03d9d7d-af62-4cce-bac8-11faa63b2ef8",
   "metadata": {},
   "source": [
    "키는 같은 값이 중복될 수 없는데, 입력값이 같은 값으로 들어오는 경우가 있을 수 있어  \n",
    "내 코드는 불완전하다"
   ]
  },
  {
   "cell_type": "markdown",
   "id": "b4dfce40-65a1-49cc-ae08-fef401d246a3",
   "metadata": {},
   "source": [
    "Memory Limit Exceeded  에러 발생"
   ]
  },
  {
   "cell_type": "markdown",
   "id": "96394b7c-c733-41f4-998a-6fc8f694dddc",
   "metadata": {},
   "source": [
    "### 내 두번째 풀이 (브루트포스)"
   ]
  },
  {
   "cell_type": "code",
   "execution_count": 26,
   "id": "09620467-4b57-48e3-9471-f7c45c1b8e13",
   "metadata": {
    "tags": []
   },
   "outputs": [],
   "source": [
    "class Solution:\n",
    "    def twoSum(self, nums: List[int], target: int) -> List[int]:\n",
    "        temp = []\n",
    "        for i, n in enumerate(nums):\n",
    "            temp.append((i, n))\n",
    "\n",
    "        if len(temp) == 0 or len(temp) == 1:\n",
    "            return\n",
    "        elif len(temp) >= 2:\n",
    "            for i in range(len(temp)):\n",
    "                for j in range(i+1, len(temp)):\n",
    "                    if temp[i][1] + temp[j][1] == target:\n",
    "                        return [temp[i][0], temp[j][0]]"
   ]
  },
  {
   "cell_type": "markdown",
   "id": "87c64ca9-d1ee-4c7c-ba5a-733b8cce8253",
   "metadata": {},
   "source": [
    "#### chatGPT 풀이"
   ]
  },
  {
   "cell_type": "code",
   "execution_count": null,
   "id": "86b3b4a4-3a54-4af4-bcde-fa787920c0f7",
   "metadata": {},
   "outputs": [],
   "source": [
    "\n",
    "def twoSum(nums: List[int], target: int) -> List[int]:\n",
    "    num_to_index = {}  # 딕셔너리를 사용하여 숫자와 해당 숫자의 인덱스를 저장\n",
    "\n",
    "    for idx, num in enumerate(nums):\n",
    "        complement = target - num\n",
    "        # complement가 딕셔너리에 있다면 해당 숫자의 인덱스와 현재 인덱스를 반환\n",
    "        if complement in num_to_index:\n",
    "            return [num_to_index[complement], idx]\n",
    "        # complement가 딕셔너리에 없다면 현재 숫자와 인덱스를 딕셔너리에 저장\n",
    "        num_to_index[num] = idx\n",
    "\n",
    "    return []  # 만약 두 수의 합이 target이 되는 경우가 없으면 빈 리스트 반환"
   ]
  },
  {
   "cell_type": "code",
   "execution_count": 85,
   "id": "99ef80e4-7e86-4900-acc8-a7471c0a9baf",
   "metadata": {
    "tags": []
   },
   "outputs": [
    {
     "data": {
      "text/plain": [
       "[0, 1]"
      ]
     },
     "execution_count": 85,
     "metadata": {},
     "output_type": "execute_result"
    }
   ],
   "source": [
    "twoSum([3,3], 6)"
   ]
  },
  {
   "cell_type": "markdown",
   "id": "3654065f-3cd2-4d58-9255-e1d03ebfec80",
   "metadata": {},
   "source": [
    "accept 되긴 하는데 이해 안됨..."
   ]
  },
  {
   "cell_type": "code",
   "execution_count": null,
   "id": "efefdd1e-289c-430d-b9e5-a8e251a1d624",
   "metadata": {},
   "outputs": [],
   "source": []
  },
  {
   "cell_type": "markdown",
   "id": "fdf62619-4238-4b7c-9d59-9208f6b021dd",
   "metadata": {},
   "source": [
    "#### 책 풀이1 브루트포스"
   ]
  },
  {
   "cell_type": "code",
   "execution_count": 107,
   "id": "f8b1a142-a47d-4639-8d5c-2bde0cdab5e7",
   "metadata": {
    "tags": []
   },
   "outputs": [],
   "source": [
    "def twoSum(nums: List[int], target: [int]) -> List[int]:\n",
    "    for i in range(len(nums)):\n",
    "        for j in range(i + 1, len(nums)):\n",
    "            if nums[i] + nums[j] == target:\n",
    "                return [i, j]"
   ]
  },
  {
   "cell_type": "code",
   "execution_count": 108,
   "id": "5179f2ad-6b5e-430f-b655-c526d0534e67",
   "metadata": {
    "tags": []
   },
   "outputs": [
    {
     "data": {
      "text/plain": [
       "[2, 5]"
      ]
     },
     "execution_count": 108,
     "metadata": {},
     "output_type": "execute_result"
    }
   ],
   "source": [
    "twoSum([0, 1, 3, 4, 9, 3], 6)"
   ]
  },
  {
   "cell_type": "markdown",
   "id": "339b7cd6-c09c-43f5-b20a-5ec4deef3730",
   "metadata": {},
   "source": [
    "#### 책 풀이2\n",
    "chatGPT와 비슷한 답, return 값 두 번째 인덱스 이해 안됨"
   ]
  },
  {
   "cell_type": "code",
   "execution_count": 109,
   "id": "cfa5b5af-1306-40a4-bccb-da4dc2b40184",
   "metadata": {
    "tags": []
   },
   "outputs": [],
   "source": [
    "def twoSum(nums: List[int], target: int) -> List[int]:\n",
    "    for i, n in enumerate(nums):\n",
    "        complement = target - n\n",
    "        \n",
    "        if complement in nums[i+1:]:\n",
    "            return [nums.index(n), nums[i+1:].index(complement) + (i + 1)]"
   ]
  },
  {
   "cell_type": "code",
   "execution_count": 110,
   "id": "97a2d2c9-0ad6-4e65-b4be-33d75d558035",
   "metadata": {
    "tags": []
   },
   "outputs": [
    {
     "data": {
      "text/plain": [
       "[2, 5]"
      ]
     },
     "execution_count": 110,
     "metadata": {},
     "output_type": "execute_result"
    }
   ],
   "source": [
    "twoSum([0, 1, 3, 4, 9, 3], 6)"
   ]
  },
  {
   "cell_type": "markdown",
   "id": "311f9554-0b32-42e6-abdb-d65afe56245c",
   "metadata": {},
   "source": [
    "#### 책 풀이3. 이게 Best"
   ]
  },
  {
   "cell_type": "code",
   "execution_count": 31,
   "id": "054c1bd0-9408-4e7e-b9e8-4ca2968dddbd",
   "metadata": {
    "tags": []
   },
   "outputs": [],
   "source": [
    "def twoSum(nums: List[int], target: int) -> List[int]:\n",
    "    nums_map = {}\n",
    "    \n",
    "    for i ,num in enumerate(nums):  # 딕셔너리에 nums 원소를 key, 해당 원소의 인덱스를 value \n",
    "        nums_map[num] = i\n",
    "        \n",
    "    for i, num in enumerate(nums): # nums 원소와 인덱스를 순차적으로 빼서\n",
    "        # if target - num in nums_map: # 이 조건만 걸면 [3,2,4] 의 경우 답을 [0, 0]으로 해버릴 수 있다.\n",
    "        if target - num in nums_map and i != nums_map[target - num]: # target에서 원소를 뺀 게 딕셔너리에 있고,\n",
    "                                # target에서 원소를 뺀 값을 키로 하는 딕셔너리의 값이, 원소의 인덱스와 다르면 \n",
    "                                                                \n",
    "            return [i, nums_map[target - num]]"
   ]
  },
  {
   "cell_type": "code",
   "execution_count": 33,
   "id": "03bf1c72-62a3-41bd-b9eb-4ed12988f197",
   "metadata": {
    "tags": []
   },
   "outputs": [
    {
     "data": {
      "text/plain": [
       "[0, 1]"
      ]
     },
     "execution_count": 33,
     "metadata": {},
     "output_type": "execute_result"
    }
   ],
   "source": [
    "twoSum([3,3], 6)"
   ]
  },
  {
   "cell_type": "markdown",
   "id": "5781c469-63c0-4aab-9d90-bd44572d76e2",
   "metadata": {},
   "source": [
    "#### 책 풀이4, 3번 풀이 좀 더 개선, 딕셔너리를 미리 만들어 놓지 않고, 만들어가면서 비교"
   ]
  },
  {
   "cell_type": "code",
   "execution_count": 40,
   "id": "2265656d-0ce3-4b54-8238-5952f332d778",
   "metadata": {
    "tags": []
   },
   "outputs": [
    {
     "name": "stdout",
     "output_type": "stream",
     "text": [
      "{3: 0, 2: 1}\n"
     ]
    },
    {
     "data": {
      "text/plain": [
       "[1, 2]"
      ]
     },
     "execution_count": 40,
     "metadata": {},
     "output_type": "execute_result"
    }
   ],
   "source": [
    "def twoSum(nums: List[int], target: int) -> List[int]:\n",
    "    nums_map = {}\n",
    "    for i, num in enumerate(nums):\n",
    "        if target - num in nums_map:\n",
    "            print(nums_map)\n",
    "            return [nums_map[target - num], i]\n",
    "        nums_map[num] = i\n",
    "twoSum([3,2,4], 6)"
   ]
  },
  {
   "cell_type": "code",
   "execution_count": 37,
   "id": "333e6cbf-415d-4477-b2d0-581188701659",
   "metadata": {
    "tags": []
   },
   "outputs": [
    {
     "name": "stdout",
     "output_type": "stream",
     "text": [
      "[1, 2]\n"
     ]
    }
   ],
   "source": [
    "nums = [3,2,4]\n",
    "target = 6\n",
    "nums_map = {}\n",
    "for i, num in enumerate(nums):\n",
    "    if target - num in nums_map:\n",
    "        print([nums_map[target - num], i])\n",
    "    nums_map[num] = i"
   ]
  },
  {
   "cell_type": "code",
   "execution_count": 38,
   "id": "db89c74c-4ba3-47d7-b131-a8b967057d1e",
   "metadata": {
    "tags": []
   },
   "outputs": [
    {
     "data": {
      "text/plain": [
       "{3: 0, 2: 1, 4: 2}"
      ]
     },
     "execution_count": 38,
     "metadata": {},
     "output_type": "execute_result"
    }
   ],
   "source": [
    "nums_map"
   ]
  },
  {
   "cell_type": "markdown",
   "id": "d179d7db-f6d3-4dfd-8ea2-61845f274a3f",
   "metadata": {},
   "source": [
    "# 문10 배열 파티션 e\n",
    "https://leetcode.com/problems/array-partition/description/\n",
    "\n"
   ]
  },
  {
   "cell_type": "code",
   "execution_count": null,
   "id": "0a1bbaa9-e41f-485a-945f-9929ded16872",
   "metadata": {},
   "outputs": [],
   "source": [
    "Given an integer array nums of 2n integers, \n",
    "group these integers into n pairs (a1, b1), (a2, b2), ..., (an, bn) \n",
    "such that the sum of min(ai, bi) for all i is maximized. Return the maximized sum.\n",
    "\n",
    "Example 1:\n",
    "\n",
    "Input: nums = [1,4,3,2]\n",
    "Output: 4\n",
    "Explanation: All possible pairings (ignoring the ordering of elements) are:\n",
    "1. (1, 4), (2, 3) -> min(1, 4) + min(2, 3) = 1 + 2 = 3\n",
    "2. (1, 3), (2, 4) -> min(1, 3) + min(2, 4) = 1 + 2 = 3\n",
    "3. (1, 2), (3, 4) -> min(1, 2) + min(3, 4) = 1 + 3 = 4\n",
    "So the maximum possible sum is 4.\n",
    "\n",
    " "
   ]
  },
  {
   "cell_type": "markdown",
   "id": "485fa2ad-1ff7-4ea5-a101-62c734380132",
   "metadata": {},
   "source": [
    "### 내풀이"
   ]
  },
  {
   "cell_type": "code",
   "execution_count": 16,
   "id": "4a2ceaf4-ff15-4416-873b-1ca975fc7901",
   "metadata": {
    "tags": []
   },
   "outputs": [],
   "source": [
    "from __future__ import annotations\n",
    "\n",
    "def arrayPairSum(nums: List[int]) -> int:\n",
    "    nums.sort()\n",
    "    pair_list = []\n",
    "    for i in range(0, len(nums), 2):\n",
    "        pair_list.append(min(nums[i], nums[i+1]))\n",
    "\n",
    "    return sum(pair_list)"
   ]
  },
  {
   "cell_type": "code",
   "execution_count": 17,
   "id": "3e5721b1-ba20-489f-900a-584bcfdba039",
   "metadata": {
    "tags": []
   },
   "outputs": [
    {
     "data": {
      "text/plain": [
       "4"
      ]
     },
     "execution_count": 17,
     "metadata": {},
     "output_type": "execute_result"
    }
   ],
   "source": [
    "arrayPairSum([1,4,3,2])"
   ]
  },
  {
   "cell_type": "markdown",
   "id": "57be455a-11eb-4b2e-ac96-6bcf346a796d",
   "metadata": {},
   "source": [
    "### 좀더 최적화"
   ]
  },
  {
   "cell_type": "code",
   "execution_count": 18,
   "id": "3daa5b16-92cc-4e39-861f-d9fdb99729f9",
   "metadata": {
    "tags": []
   },
   "outputs": [],
   "source": [
    "def arrayPairSum(nums: List[int]) -> int:\n",
    "    \n",
    "    nums.sort()\n",
    "    total = 0\n",
    "    for i in range(0, len(nums), 2):\n",
    "        total += nums[i]\n",
    "    return total"
   ]
  },
  {
   "cell_type": "markdown",
   "id": "462cb38c-3562-4c3f-8b5e-e4dac1a51192",
   "metadata": {},
   "source": [
    "### 더 최적화"
   ]
  },
  {
   "cell_type": "code",
   "execution_count": 23,
   "id": "e3a9f9fd-6d0b-45ae-a13f-a6227ecf6c63",
   "metadata": {
    "tags": []
   },
   "outputs": [],
   "source": [
    "def arrayPairSum(nums: List[int]) -> int:\n",
    "\n",
    "    return sum(sorted(nums)[::2])"
   ]
  },
  {
   "cell_type": "code",
   "execution_count": 24,
   "id": "896b74d2-2ac1-45ac-9120-b42550a81537",
   "metadata": {
    "tags": []
   },
   "outputs": [
    {
     "data": {
      "text/plain": [
       "4"
      ]
     },
     "execution_count": 24,
     "metadata": {},
     "output_type": "execute_result"
    }
   ],
   "source": [
    "arrayPairSum([1,4,3,2])"
   ]
  },
  {
   "cell_type": "markdown",
   "id": "3e25e474-3cc7-49f3-a41a-539f591eaf0b",
   "metadata": {},
   "source": [
    "# 문12) 주식을 사고 팔기 가장 좋은시점 e\n",
    "https://leetcode.com/problems/best-time-to-buy-and-sell-stock/"
   ]
  },
  {
   "cell_type": "code",
   "execution_count": null,
   "id": "5beaa354-d5fb-445e-8809-50a079f392e1",
   "metadata": {},
   "outputs": [],
   "source": [
    "You are given an array prices where prices[i] is the price of a given stock on the ith day.\n",
    "\n",
    "You want to maximize your profit by choosing a single day to buy one stock \n",
    "and choosing a different day in the future to sell that stock.\n",
    "\n",
    "Return the maximum profit you can achieve from this transaction. \n",
    "If you cannot achieve any profit, return 0.\n",
    "\n",
    "Example 1:\n",
    "    \n",
    "Input: prices = [7,1,5,3,6,4]\n",
    "Output: 5\n",
    "Explanation: Buy on day 2 (price = 1) and sell on day 5 (price = 6), profit = 6-1 = 5.\n",
    "Note that buying on day 2 and selling on day 1 is not allowed because you must buy before you sell.\n",
    "\n",
    "Example 2:\n",
    "\n",
    "Input: prices = [7,6,4,3,1]\n",
    "Output: 0\n",
    "Explanation: In this case, no transactions are done and the max profit = 0."
   ]
  },
  {
   "cell_type": "code",
   "execution_count": null,
   "id": "a88144a3-3b8a-4103-9742-d90f0e7de355",
   "metadata": {},
   "outputs": [],
   "source": [
    "class Solution:\n",
    "    def maxProfit(self, prices: List[int]) -> int:"
   ]
  },
  {
   "cell_type": "markdown",
   "id": "bb654762-f397-47ca-9fe2-1780a2319310",
   "metadata": {},
   "source": [
    "# 문11) 자신을 제외한 배열의 곱 m\n",
    "https://leetcode.com/problems/product-of-array-except-self"
   ]
  },
  {
   "cell_type": "code",
   "execution_count": null,
   "id": "64d2e18d-ce1e-4509-9b80-47548bf17c1f",
   "metadata": {},
   "outputs": [],
   "source": [
    "Given an integer array nums, \n",
    "return an array answer such that answer[i] is equal to the product of all the elements of nums except nums[i].\n",
    "\n",
    "The product of any prefix or suffix of nums is guaranteed to fit in a 32-bit integer.\n",
    "\n",
    "You must write an algorithm that runs in O(n) time and without using the division operation.\n",
    "\n",
    "Example 1:\n",
    "\n",
    "Input: nums = [1,2,3,4]\n",
    "Output: [24,12,8,6]\n",
    "\n",
    "Example 2:\n",
    "Input: nums = [-1,1,0,-3,3]\n",
    "Output: [0,0,9,0,0]\n",
    " \n",
    "\n",
    "Constraints:\n",
    "\n",
    "2 <= nums.length <= 105\n",
    "-30 <= nums[i] <= 30\n",
    "The product of any prefix or suffix of nums is guaranteed to fit in a 32-bit integer.\n",
    " \n",
    "Follow up: Can you solve the problem in O(1) extra space complexity? \n",
    "(The output array does not count as extra space for space complexity analysis.)"
   ]
  },
  {
   "cell_type": "code",
   "execution_count": null,
   "id": "6d19abae-80ba-446d-8824-e296f9596ee9",
   "metadata": {},
   "outputs": [],
   "source": [
    "class Solution:\n",
    "    def productExceptSelf(self, nums: List[int]) -> List[int]:\n",
    "        "
   ]
  },
  {
   "cell_type": "markdown",
   "id": "ca99dc58-305a-42fe-83e2-15889261a618",
   "metadata": {},
   "source": [
    "# 문9 세 수의 합 m\n",
    "\n",
    "https://leetcode.com/problems/3sum/"
   ]
  },
  {
   "cell_type": "code",
   "execution_count": null,
   "id": "a4d4a18a-3620-4502-93b7-f8d2ffc712a8",
   "metadata": {},
   "outputs": [],
   "source": [
    "Given an integer array nums, \n",
    "return all the triplets [nums[i], nums[j], nums[k]] \n",
    "such that i != j, i != k, and j != k, \n",
    "and nums[i] + nums[j] + nums[k] == 0.\n",
    "\n",
    "Notice that the solution set must not contain duplicate triplets.\n",
    "\n",
    "Example 1:\n",
    "\n",
    "Input: nums = [-1,0,1,2,-1,-4]\n",
    "Output: [[-1,-1,2],[-1,0,1]]\n",
    "Explanation: \n",
    "nums[0] + nums[1] + nums[2] = (-1) + 0 + 1 = 0.\n",
    "nums[1] + nums[2] + nums[4] = 0 + 1 + (-1) = 0.\n",
    "nums[0] + nums[3] + nums[4] = (-1) + 2 + (-1) = 0.\n",
    "The distinct triplets are [-1,0,1] and [-1,-1,2].\n",
    "\n",
    "Notice that the order of the output and the order of the triplets does not matter.\n",
    "\n",
    "인덱스가 달라야 하고\n",
    "정답 배열의 원소가 중복되면 안된다.\n",
    "순서는 상관 없음\n",
    "\n",
    "3 <= nums.length <= 3000  정도면 브루트포스로 해도 되나?"
   ]
  },
  {
   "cell_type": "code",
   "execution_count": null,
   "id": "9224f903-a7fc-4690-b77d-36e9cef9f364",
   "metadata": {},
   "outputs": [],
   "source": []
  },
  {
   "cell_type": "code",
   "execution_count": null,
   "id": "4580b626-608d-41a0-96e2-3fea383a4547",
   "metadata": {},
   "outputs": [],
   "source": []
  },
  {
   "cell_type": "markdown",
   "id": "099d471d-fdd8-4267-9d59-643ac285c140",
   "metadata": {},
   "source": [
    "### 내 첫번째 풀이, 브루트 포스, 시간초과 남\n",
    "시간초과 안걸릴 줄 알았는데 왜나지?"
   ]
  },
  {
   "cell_type": "code",
   "execution_count": 47,
   "id": "67d4014e-de4f-4daa-843b-90c8bb3c6130",
   "metadata": {
    "tags": []
   },
   "outputs": [],
   "source": [
    "nums = [-1,0,1,2,-1,-4]\n",
    "answer = []\n",
    "for i in range(len(nums)):\n",
    "    for j in range(i+1, len(nums)):\n",
    "        for k in range(j+1, len(nums)):\n",
    "            if nums[i] + nums [j] + nums[k] == 0:\n",
    "                result = [nums[i],nums[j],nums[k]]\n",
    "                result.sort()\n",
    "                if result not in answer:\n",
    "                    answer.append(result)"
   ]
  },
  {
   "cell_type": "code",
   "execution_count": 48,
   "id": "3a5136d2-2d0f-402b-9af0-71eb8a3db464",
   "metadata": {
    "tags": []
   },
   "outputs": [
    {
     "data": {
      "text/plain": [
       "[[-1, 0, 1], [-1, -1, 2]]"
      ]
     },
     "execution_count": 48,
     "metadata": {},
     "output_type": "execute_result"
    }
   ],
   "source": [
    "answer"
   ]
  },
  {
   "cell_type": "markdown",
   "id": "0bde4154-67f2-42f5-ac67-567768d746d5",
   "metadata": {},
   "source": [
    "### 두번째 풀이 좀 더 최적화, 이것도 시간초과 남"
   ]
  },
  {
   "cell_type": "code",
   "execution_count": null,
   "id": "f174f0e2-a0fd-4dd3-a189-24e64fbf5da2",
   "metadata": {},
   "outputs": [],
   "source": [
    "from itertools import combinations\n",
    "\n",
    "def threeSum(nums: List[int]) -> List[List[int]]:        \n",
    "    answer = []\n",
    "\n",
    "    triplet_list = list(combinations(nums, 3))\n",
    "    for triplet in triplet_list:\n",
    "        temp = list(triplet)  # 튜플을 리스트로 변환  <<<<<<<<<<<<<<<<<<<<<<<<< 이 기법!!! 숙지할 것\n",
    "        temp.sort()\n",
    "        if sum(temp) == 0 and temp not in answer:\n",
    "            answer.append(temp)\n",
    "    return answer"
   ]
  },
  {
   "cell_type": "code",
   "execution_count": null,
   "id": "281d7354-e056-4b4c-bcfd-8abba971ddac",
   "metadata": {},
   "outputs": [],
   "source": [
    "def threeSum(nums: List[int]) -> List[List[int]]:\n",
    "\n",
    "    triplet_list = list(combinations(nums, 3))\n",
    "    unique_triplets = set()\n",
    "\n",
    "    for triplet in triplet_list:\n",
    "        if sum(triplet) == 0:\n",
    "            unique_triplets.add(tuple(sorted(triplet))) # 리스트를 튜플로 변환   <<<<<<<<<<<<<<<<<<<<<<<<< 이 기법!!! 숙지할 것\n",
    "\n",
    "    unique_triplets = list(unique_triplets)\n",
    "    unique_triplets\n",
    "\n",
    "    return unique_triplets\n"
   ]
  },
  {
   "cell_type": "markdown",
   "id": "cbb19fda-fe6f-4100-9a08-e6cf1557b7ad",
   "metadata": {},
   "source": [
    "위 알고리즘은 O(n^3)\n",
    "# 결국 투포인터를 써야하는 것인가\n",
    "투포인터를 쓰면 O(n^2)"
   ]
  },
  {
   "cell_type": "code",
   "execution_count": null,
   "id": "2c0ef3e1-2492-414a-9a9d-33644af20672",
   "metadata": {},
   "outputs": [],
   "source": [
    "nums = [-1,0,1,2,-1,-4]\n",
    "\n",
    "results = []\n",
    "nums.sort()\n",
    "\n",
    "for i in range(len(nums)-2):\n",
    "    if i > 0 and nums[i] == nums[i-1]:\n",
    "        continue\n",
    "        \n",
    "    left, right = i+1, len(nums)-1\n",
    "    while left < right:\n",
    "        sum = nums[i] + nums[left] + nums[right]\n",
    "        if sum < 0:\n",
    "            left += 1\n",
    "        elif sum > 0:\n",
    "            right -= 1\n",
    "        else: \n",
    "            results.append([nums[i], nums[left], nums[right]])\n",
    "            while left < right and nums[left] == nums[left+1]:\n",
    "                left += 1\n",
    "            while left < right and nums[right] == nums[right-1]:\n",
    "                right -= 1\n",
    "            left += 1\n",
    "            right -= 1\n",
    "return results\n"
   ]
  },
  {
   "cell_type": "markdown",
   "id": "0b6fdef9-f133-4041-be79-70055dc1328c",
   "metadata": {},
   "source": [
    "# 문8 빗물트래핑 h\n",
    "\n",
    "https://leetcode.com/problems/trapping-rain-water"
   ]
  },
  {
   "cell_type": "markdown",
   "id": "c7dd67fe-363e-4127-9097-07d95f5c92e0",
   "metadata": {},
   "source": [
    "![img](8.png)"
   ]
  },
  {
   "cell_type": "markdown",
   "id": "55f74fdb-931c-46d9-bf10-eb80cae7f96a",
   "metadata": {},
   "source": [
    "내 아이디어  \n",
    "\n",
    "    1. 일단 입력값 배열이 다음과 같을 때 [0, 1, 0, 2, 1, 0, 1, 3, 2, 1, 2, 1]\n",
    "    포인터 두 개 start, end를 써서 조건을 만족하는 구간을 찾는다\n",
    "        조건A : [start] >= 1 이면 해당 인덱스에서 멈추고 거기서부터 [end] <= [start]이 될때까지 end는 계속 슬라이딩\n",
    "        \n",
    "    2. start와 start - (end-1) 구간내에 있는 모든 인덱스에 해당하는1 값들을 더해 정답 리스트에 추가\n",
    "    \n",
    "    4. end는 다시 start가 되고 해당 인덱스에서 [end] <= [start]이 될때까지 end는 계속 슬라이딩\n",
    "    \n",
    "    5. [end] 가 배열의 끝까지 갈때까지 반복.\n",
    "    \n",
    "    6. 정답리스트의 요소 합산해서 리턴\n",
    "    \n",
    "    "
   ]
  },
  {
   "cell_type": "markdown",
   "id": "016f8e19-267d-4960-baa9-2c0ffc0b53dc",
   "metadata": {},
   "source": [
    "### 책 풀이 1\n",
    "이해 안됨 다시 볼 것"
   ]
  },
  {
   "cell_type": "code",
   "execution_count": 21,
   "id": "be3cf150-cddc-46c5-8ea4-3f9c78c8571d",
   "metadata": {
    "tags": []
   },
   "outputs": [],
   "source": [
    "from typing import List\n",
    "\n",
    "\n",
    "class Solution:\n",
    "    def trap(self, height: List[int]) -> int:\n",
    "        if not height:\n",
    "            return 0\n",
    "\n",
    "        volume = 0\n",
    "        left, right = 0, len(height) - 1\n",
    "        left_max, right_max = height[left], height[right]\n",
    "\n",
    "        while left < right: # 두 포인터 사이에 거리가 남아 있으면\n",
    "            left_max, right_max = max(height[left], left_max), max(height[right], right_max)\n",
    "            # 더 높은 쪽을 향해 투 포인터 이동\n",
    "            if left_max <= right_max:\n",
    "                volume += left_max - height[left]\n",
    "                left += 1\n",
    "            else:\n",
    "                volume += right_max - height[right]\n",
    "                right -= 1\n",
    "        return volume"
   ]
  },
  {
   "cell_type": "code",
   "execution_count": 22,
   "id": "c72ae370-a05a-44a9-9bbe-705604827d04",
   "metadata": {
    "tags": []
   },
   "outputs": [
    {
     "data": {
      "text/plain": [
       "[0, 1, 0, 2, 1, 0, 1, 3, 2, 1, 2, 1]"
      ]
     },
     "execution_count": 22,
     "metadata": {},
     "output_type": "execute_result"
    }
   ],
   "source": [
    "height = [0,1,0,2,1,0,1,3,2,1,2,1]\n",
    "height"
   ]
  },
  {
   "cell_type": "code",
   "execution_count": 23,
   "id": "c19575d1-3724-4876-9fcf-34d39fe399d9",
   "metadata": {
    "tags": []
   },
   "outputs": [],
   "source": [
    "volume = 0\n",
    "left, right = 0, len(height) - 1\n",
    "left_max, right_max = height[left], height[right]"
   ]
  },
  {
   "cell_type": "code",
   "execution_count": 24,
   "id": "8152c34e-7379-4266-8839-19c73a231284",
   "metadata": {
    "tags": []
   },
   "outputs": [
    {
     "name": "stdout",
     "output_type": "stream",
     "text": [
      "left : 0 , right : 11\n"
     ]
    }
   ],
   "source": [
    "print(f'left : {left} , right : {right}')"
   ]
  },
  {
   "cell_type": "code",
   "execution_count": 25,
   "id": "5f470f9a-d150-4983-b514-0f0027b53bc3",
   "metadata": {
    "tags": []
   },
   "outputs": [
    {
     "name": "stdout",
     "output_type": "stream",
     "text": [
      "left_max : 0 , right_max : 1\n"
     ]
    }
   ],
   "source": [
    "print(f'left_max : {left_max} , right_max : {right_max}')"
   ]
  },
  {
   "cell_type": "code",
   "execution_count": 26,
   "id": "77660222-4c58-4c29-8a4c-e26a1d5428d8",
   "metadata": {
    "tags": []
   },
   "outputs": [
    {
     "data": {
      "text/plain": [
       "(0, 1)"
      ]
     },
     "execution_count": 26,
     "metadata": {},
     "output_type": "execute_result"
    }
   ],
   "source": [
    "left_max, right_max = max(height[left], left_max), max(height[right], right_max)\n",
    "left_max, right_max"
   ]
  },
  {
   "cell_type": "code",
   "execution_count": null,
   "id": "b6fcdc39-c6ce-42f6-87af-2fc728f61a8c",
   "metadata": {
    "tags": []
   },
   "outputs": [],
   "source": []
  },
  {
   "cell_type": "code",
   "execution_count": 27,
   "id": "034ba722-1049-4790-a7c0-0d1c0e2cead8",
   "metadata": {
    "tags": []
   },
   "outputs": [],
   "source": [
    "# 첫번째 While문 진입\n",
    "if left_max <= right_max:\n",
    "    volume += left_max - height[left]\n",
    "    left += 1"
   ]
  },
  {
   "cell_type": "code",
   "execution_count": 28,
   "id": "991b7978-7d5b-4f13-87da-5ce778c92204",
   "metadata": {
    "tags": []
   },
   "outputs": [
    {
     "data": {
      "text/plain": [
       "0"
      ]
     },
     "execution_count": 28,
     "metadata": {},
     "output_type": "execute_result"
    }
   ],
   "source": [
    "volume"
   ]
  },
  {
   "cell_type": "code",
   "execution_count": 29,
   "id": "20848f30-d82b-4c55-90fd-9e5dad6b4445",
   "metadata": {
    "tags": []
   },
   "outputs": [
    {
     "data": {
      "text/plain": [
       "1"
      ]
     },
     "execution_count": 29,
     "metadata": {},
     "output_type": "execute_result"
    }
   ],
   "source": [
    "left"
   ]
  },
  {
   "cell_type": "code",
   "execution_count": 30,
   "id": "556a1fa4-008a-45f6-a513-b5445cf2e6fb",
   "metadata": {
    "tags": []
   },
   "outputs": [
    {
     "data": {
      "text/plain": [
       "(1, 1)"
      ]
     },
     "execution_count": 30,
     "metadata": {},
     "output_type": "execute_result"
    }
   ],
   "source": [
    "# 두번째 While문 진입\n",
    "left_max, right_max = max(height[left], left_max), max(height[right], right_max)\n",
    "left_max, right_max "
   ]
  },
  {
   "cell_type": "code",
   "execution_count": 31,
   "id": "fbb49a92-94e4-4e58-9e41-f54fb7d9f086",
   "metadata": {
    "tags": []
   },
   "outputs": [
    {
     "data": {
      "text/plain": [
       "1"
      ]
     },
     "execution_count": 31,
     "metadata": {},
     "output_type": "execute_result"
    }
   ],
   "source": [
    "left_max"
   ]
  },
  {
   "cell_type": "code",
   "execution_count": 32,
   "id": "4db016f8-0ce5-402b-8af7-6e73208bc798",
   "metadata": {
    "tags": []
   },
   "outputs": [
    {
     "data": {
      "text/plain": [
       "1"
      ]
     },
     "execution_count": 32,
     "metadata": {},
     "output_type": "execute_result"
    }
   ],
   "source": [
    "height[left]"
   ]
  },
  {
   "cell_type": "code",
   "execution_count": 33,
   "id": "fd5d1e4a-2a5b-4a02-a508-5f77a3df8426",
   "metadata": {
    "tags": []
   },
   "outputs": [],
   "source": [
    "if left_max <= right_max:\n",
    "    volume += left_max - height[left]\n",
    "    left += 1"
   ]
  },
  {
   "cell_type": "code",
   "execution_count": 34,
   "id": "7202f011-2914-44a4-8c5b-5c509ab1b126",
   "metadata": {
    "tags": []
   },
   "outputs": [
    {
     "data": {
      "text/plain": [
       "0"
      ]
     },
     "execution_count": 34,
     "metadata": {},
     "output_type": "execute_result"
    }
   ],
   "source": [
    "volume"
   ]
  },
  {
   "cell_type": "code",
   "execution_count": 35,
   "id": "0b9e8409-2932-4fb7-8b3e-3e9874e52e20",
   "metadata": {
    "tags": []
   },
   "outputs": [
    {
     "data": {
      "text/plain": [
       "2"
      ]
     },
     "execution_count": 35,
     "metadata": {},
     "output_type": "execute_result"
    }
   ],
   "source": [
    "left"
   ]
  },
  {
   "cell_type": "code",
   "execution_count": 36,
   "id": "62c04e8d-d5c0-4bce-b903-e4c0896d206b",
   "metadata": {
    "tags": []
   },
   "outputs": [
    {
     "data": {
      "text/plain": [
       "(1, 1)"
      ]
     },
     "execution_count": 36,
     "metadata": {},
     "output_type": "execute_result"
    }
   ],
   "source": [
    "height[right], right_max"
   ]
  },
  {
   "cell_type": "code",
   "execution_count": 37,
   "id": "eefc1afc-a27a-453a-b6da-1dc6e5e493b2",
   "metadata": {
    "tags": []
   },
   "outputs": [
    {
     "data": {
      "text/plain": [
       "(1, 1)"
      ]
     },
     "execution_count": 37,
     "metadata": {},
     "output_type": "execute_result"
    }
   ],
   "source": [
    "# 세번째 While문 진입\n",
    "left_max, right_max = max(height[left], left_max), max(height[right], right_max)\n",
    "left_max, right_max"
   ]
  },
  {
   "cell_type": "code",
   "execution_count": 38,
   "id": "c6f126e2-73c0-428a-a25a-d8ec0c4cbcae",
   "metadata": {
    "tags": []
   },
   "outputs": [
    {
     "data": {
      "text/plain": [
       "0"
      ]
     },
     "execution_count": 38,
     "metadata": {},
     "output_type": "execute_result"
    }
   ],
   "source": [
    "height[left]"
   ]
  },
  {
   "cell_type": "code",
   "execution_count": 39,
   "id": "409f526b-1d35-4482-8d04-0c7c848f53d6",
   "metadata": {
    "tags": []
   },
   "outputs": [],
   "source": [
    "if left_max <= right_max:\n",
    "    volume += left_max - height[left]\n",
    "    left += 1"
   ]
  },
  {
   "cell_type": "code",
   "execution_count": 40,
   "id": "475ecd7a-c517-4aec-97f8-02b8580c50e7",
   "metadata": {
    "tags": []
   },
   "outputs": [
    {
     "data": {
      "text/plain": [
       "1"
      ]
     },
     "execution_count": 40,
     "metadata": {},
     "output_type": "execute_result"
    }
   ],
   "source": [
    "volume"
   ]
  },
  {
   "cell_type": "code",
   "execution_count": 41,
   "id": "34c702c3-96bb-49d2-81ac-5a46440ac608",
   "metadata": {
    "tags": []
   },
   "outputs": [
    {
     "data": {
      "text/plain": [
       "3"
      ]
     },
     "execution_count": 41,
     "metadata": {},
     "output_type": "execute_result"
    }
   ],
   "source": [
    "left"
   ]
  },
  {
   "cell_type": "code",
   "execution_count": 42,
   "id": "87d2f367-0abd-41e5-a17d-7e451e9746a0",
   "metadata": {
    "tags": []
   },
   "outputs": [
    {
     "data": {
      "text/plain": [
       "(2, 1)"
      ]
     },
     "execution_count": 42,
     "metadata": {},
     "output_type": "execute_result"
    }
   ],
   "source": [
    "# 네번째 While문 진입\n",
    "left_max, right_max = max(height[left], left_max), max(height[right], right_max)\n",
    "left_max, right_max"
   ]
  },
  {
   "cell_type": "code",
   "execution_count": 43,
   "id": "3fb4dc00-e015-43d2-a718-1f380037395c",
   "metadata": {
    "tags": []
   },
   "outputs": [],
   "source": [
    "volume += right_max - height[right]\n",
    "right -= 1"
   ]
  },
  {
   "cell_type": "code",
   "execution_count": 44,
   "id": "b330a257-5b30-4596-81b9-8ead9ce1cdcd",
   "metadata": {
    "tags": []
   },
   "outputs": [
    {
     "data": {
      "text/plain": [
       "1"
      ]
     },
     "execution_count": 44,
     "metadata": {},
     "output_type": "execute_result"
    }
   ],
   "source": [
    "volume"
   ]
  },
  {
   "cell_type": "code",
   "execution_count": 45,
   "id": "1757bd10-2ffc-41ca-a92b-d9d9acbebe48",
   "metadata": {
    "tags": []
   },
   "outputs": [
    {
     "data": {
      "text/plain": [
       "10"
      ]
     },
     "execution_count": 45,
     "metadata": {},
     "output_type": "execute_result"
    }
   ],
   "source": [
    "right"
   ]
  },
  {
   "cell_type": "code",
   "execution_count": 46,
   "id": "3bef374d-39fa-4925-bc2e-ee9f82aa06c7",
   "metadata": {
    "tags": []
   },
   "outputs": [
    {
     "data": {
      "text/plain": [
       "(2, 2)"
      ]
     },
     "execution_count": 46,
     "metadata": {},
     "output_type": "execute_result"
    }
   ],
   "source": [
    "# 다섯번째 While문 진입\n",
    "left_max, right_max = max(height[left], left_max), max(height[right], right_max)\n",
    "left_max, right_max"
   ]
  },
  {
   "cell_type": "code",
   "execution_count": 47,
   "id": "6e8ac190-12f7-4d7a-936a-80d27a1e1515",
   "metadata": {
    "tags": []
   },
   "outputs": [],
   "source": [
    "if left_max <= right_max:\n",
    "    volume += left_max - height[left]\n",
    "    left += 1"
   ]
  },
  {
   "cell_type": "code",
   "execution_count": 49,
   "id": "ae65c9bb-a76a-4c63-b5a8-fc184777fadd",
   "metadata": {
    "tags": []
   },
   "outputs": [
    {
     "data": {
      "text/plain": [
       "1"
      ]
     },
     "execution_count": 49,
     "metadata": {},
     "output_type": "execute_result"
    }
   ],
   "source": [
    "volume"
   ]
  },
  {
   "cell_type": "code",
   "execution_count": 50,
   "id": "1a82eab5-b106-429c-a8aa-6bc98bc5e308",
   "metadata": {
    "tags": []
   },
   "outputs": [
    {
     "data": {
      "text/plain": [
       "4"
      ]
     },
     "execution_count": 50,
     "metadata": {},
     "output_type": "execute_result"
    }
   ],
   "source": [
    "left"
   ]
  },
  {
   "cell_type": "code",
   "execution_count": 51,
   "id": "94653b96-ba5f-41f5-a1b2-58d266a059fc",
   "metadata": {
    "tags": []
   },
   "outputs": [
    {
     "data": {
      "text/plain": [
       "(2, 2)"
      ]
     },
     "execution_count": 51,
     "metadata": {},
     "output_type": "execute_result"
    }
   ],
   "source": [
    "# 여섯번째 While문 진입\n",
    "left_max, right_max = max(height[left], left_max), max(height[right], right_max)\n",
    "left_max, right_max"
   ]
  },
  {
   "cell_type": "code",
   "execution_count": 52,
   "id": "d12eb21e-9ebc-4433-91f2-a0372c59b7b5",
   "metadata": {
    "tags": []
   },
   "outputs": [],
   "source": [
    "if left_max <= right_max:\n",
    "    volume += left_max - height[left]\n",
    "    left += 1"
   ]
  },
  {
   "cell_type": "code",
   "execution_count": 53,
   "id": "11ad1781-030d-494e-9c7a-06202905a4ec",
   "metadata": {
    "tags": []
   },
   "outputs": [
    {
     "data": {
      "text/plain": [
       "2"
      ]
     },
     "execution_count": 53,
     "metadata": {},
     "output_type": "execute_result"
    }
   ],
   "source": [
    "volume"
   ]
  },
  {
   "cell_type": "code",
   "execution_count": 54,
   "id": "0e033f71-a903-4e68-90c2-3e1cec5d818d",
   "metadata": {
    "tags": []
   },
   "outputs": [
    {
     "data": {
      "text/plain": [
       "5"
      ]
     },
     "execution_count": 54,
     "metadata": {},
     "output_type": "execute_result"
    }
   ],
   "source": [
    "left"
   ]
  },
  {
   "cell_type": "code",
   "execution_count": 55,
   "id": "1b7f2130-6440-470f-8d4d-591a0acab8dd",
   "metadata": {
    "tags": []
   },
   "outputs": [
    {
     "data": {
      "text/plain": [
       "(2, 2)"
      ]
     },
     "execution_count": 55,
     "metadata": {},
     "output_type": "execute_result"
    }
   ],
   "source": [
    "# 일곱번째 While문 진입\n",
    "left_max, right_max = max(height[left], left_max), max(height[right], right_max)\n",
    "left_max, right_max"
   ]
  },
  {
   "cell_type": "code",
   "execution_count": 56,
   "id": "6649f2ad-2723-4f61-8ad5-56abe346d51c",
   "metadata": {
    "tags": []
   },
   "outputs": [],
   "source": [
    "if left_max <= right_max:\n",
    "    volume += left_max - height[left]\n",
    "    left += 1"
   ]
  },
  {
   "cell_type": "code",
   "execution_count": 57,
   "id": "a9b95a3b-f07f-4689-8fd6-54e8539cc2e7",
   "metadata": {
    "tags": []
   },
   "outputs": [
    {
     "data": {
      "text/plain": [
       "4"
      ]
     },
     "execution_count": 57,
     "metadata": {},
     "output_type": "execute_result"
    }
   ],
   "source": [
    "volume"
   ]
  },
  {
   "cell_type": "code",
   "execution_count": 58,
   "id": "d3e62d01-5d84-4f32-b300-457f91c7cb97",
   "metadata": {
    "tags": []
   },
   "outputs": [
    {
     "data": {
      "text/plain": [
       "6"
      ]
     },
     "execution_count": 58,
     "metadata": {},
     "output_type": "execute_result"
    }
   ],
   "source": [
    "left"
   ]
  },
  {
   "cell_type": "code",
   "execution_count": 59,
   "id": "34a92d21-f3cb-4103-ae38-4ab28b1039f0",
   "metadata": {
    "tags": []
   },
   "outputs": [
    {
     "data": {
      "text/plain": [
       "(2, 2)"
      ]
     },
     "execution_count": 59,
     "metadata": {},
     "output_type": "execute_result"
    }
   ],
   "source": [
    "# 여덟번째 While문 진입\n",
    "left_max, right_max = max(height[left], left_max), max(height[right], right_max)\n",
    "left_max, right_max"
   ]
  },
  {
   "cell_type": "code",
   "execution_count": 60,
   "id": "2cd71557-3ead-4b5a-8cb5-e467a9e3bbc0",
   "metadata": {
    "tags": []
   },
   "outputs": [],
   "source": [
    "if left_max <= right_max:\n",
    "    volume += left_max - height[left]\n",
    "    left += 1"
   ]
  },
  {
   "cell_type": "code",
   "execution_count": 61,
   "id": "6ee2853a-2cb0-4acd-b3ec-d5c0e433ef8d",
   "metadata": {
    "tags": []
   },
   "outputs": [
    {
     "data": {
      "text/plain": [
       "5"
      ]
     },
     "execution_count": 61,
     "metadata": {},
     "output_type": "execute_result"
    }
   ],
   "source": [
    "volume"
   ]
  },
  {
   "cell_type": "code",
   "execution_count": 62,
   "id": "a0c9cdbe-ad5c-4d55-8b0f-39ceed17c8e2",
   "metadata": {
    "tags": []
   },
   "outputs": [
    {
     "data": {
      "text/plain": [
       "7"
      ]
     },
     "execution_count": 62,
     "metadata": {},
     "output_type": "execute_result"
    }
   ],
   "source": [
    "left"
   ]
  },
  {
   "cell_type": "code",
   "execution_count": 63,
   "id": "c9b0415f-8e1a-41a5-8793-9196cea47d48",
   "metadata": {
    "tags": []
   },
   "outputs": [
    {
     "data": {
      "text/plain": [
       "(3, 2)"
      ]
     },
     "execution_count": 63,
     "metadata": {},
     "output_type": "execute_result"
    }
   ],
   "source": [
    "# 아홉번째 While문 진입\n",
    "left_max, right_max = max(height[left], left_max), max(height[right], right_max)\n",
    "left_max, right_max"
   ]
  },
  {
   "cell_type": "code",
   "execution_count": 64,
   "id": "dc8c8895-c146-4f17-b0b4-4de45ef3f900",
   "metadata": {
    "tags": []
   },
   "outputs": [],
   "source": [
    "volume += right_max - height[right]\n",
    "right -= 1"
   ]
  },
  {
   "cell_type": "code",
   "execution_count": 65,
   "id": "8e8da80b-2105-43b4-ab3b-a4a527305a20",
   "metadata": {
    "tags": []
   },
   "outputs": [
    {
     "data": {
      "text/plain": [
       "5"
      ]
     },
     "execution_count": 65,
     "metadata": {},
     "output_type": "execute_result"
    }
   ],
   "source": [
    "volume"
   ]
  },
  {
   "cell_type": "code",
   "execution_count": 66,
   "id": "09bdc9c2-a418-4236-95c6-d6036c297003",
   "metadata": {
    "tags": []
   },
   "outputs": [
    {
     "data": {
      "text/plain": [
       "9"
      ]
     },
     "execution_count": 66,
     "metadata": {},
     "output_type": "execute_result"
    }
   ],
   "source": [
    "right"
   ]
  },
  {
   "cell_type": "code",
   "execution_count": 67,
   "id": "e90c194b-33ab-4bbb-bc74-157d6fc864ac",
   "metadata": {
    "tags": []
   },
   "outputs": [
    {
     "data": {
      "text/plain": [
       "(3, 2)"
      ]
     },
     "execution_count": 67,
     "metadata": {},
     "output_type": "execute_result"
    }
   ],
   "source": [
    "# 열번째 While문 진입\n",
    "left_max, right_max = max(height[left], left_max), max(height[right], right_max)\n",
    "left_max, right_max"
   ]
  },
  {
   "cell_type": "code",
   "execution_count": 68,
   "id": "439bfb6d-b8ad-4430-bb01-a0ed88efe05c",
   "metadata": {
    "tags": []
   },
   "outputs": [],
   "source": [
    "volume += right_max - height[right]\n",
    "right -= 1"
   ]
  },
  {
   "cell_type": "code",
   "execution_count": 69,
   "id": "d1f40a64-7e97-4a8c-a33a-d5cd519b3ddc",
   "metadata": {
    "tags": []
   },
   "outputs": [
    {
     "data": {
      "text/plain": [
       "6"
      ]
     },
     "execution_count": 69,
     "metadata": {},
     "output_type": "execute_result"
    }
   ],
   "source": [
    "volume"
   ]
  },
  {
   "cell_type": "code",
   "execution_count": 70,
   "id": "6a4f7415-4fa5-4268-8bfe-769934b0c3b8",
   "metadata": {
    "tags": []
   },
   "outputs": [
    {
     "data": {
      "text/plain": [
       "8"
      ]
     },
     "execution_count": 70,
     "metadata": {},
     "output_type": "execute_result"
    }
   ],
   "source": [
    "right"
   ]
  },
  {
   "cell_type": "code",
   "execution_count": 71,
   "id": "8ef1d693-b067-419f-9144-08b2a3e25140",
   "metadata": {
    "tags": []
   },
   "outputs": [
    {
     "data": {
      "text/plain": [
       "7"
      ]
     },
     "execution_count": 71,
     "metadata": {},
     "output_type": "execute_result"
    }
   ],
   "source": [
    "left"
   ]
  },
  {
   "cell_type": "code",
   "execution_count": 72,
   "id": "58b9ff93-f142-4015-99bc-1fd45b1ff6d1",
   "metadata": {
    "tags": []
   },
   "outputs": [
    {
     "data": {
      "text/plain": [
       "(3, 2)"
      ]
     },
     "execution_count": 72,
     "metadata": {},
     "output_type": "execute_result"
    }
   ],
   "source": [
    "# 열한번째 While문 진입\n",
    "left_max, right_max = max(height[left], left_max), max(height[right], right_max)\n",
    "left_max, right_max"
   ]
  },
  {
   "cell_type": "code",
   "execution_count": 73,
   "id": "30d3723f-a878-404f-a461-623f283770dc",
   "metadata": {
    "tags": []
   },
   "outputs": [],
   "source": [
    "volume += right_max - height[right]\n",
    "right -= 1"
   ]
  },
  {
   "cell_type": "code",
   "execution_count": 74,
   "id": "3877d33d-86e6-4b52-ba11-bbdfdb2d63fc",
   "metadata": {
    "tags": []
   },
   "outputs": [
    {
     "data": {
      "text/plain": [
       "6"
      ]
     },
     "execution_count": 74,
     "metadata": {},
     "output_type": "execute_result"
    }
   ],
   "source": [
    "volume"
   ]
  },
  {
   "cell_type": "code",
   "execution_count": 75,
   "id": "03037502-343e-471a-9f84-1c4be1018f6d",
   "metadata": {
    "tags": []
   },
   "outputs": [
    {
     "data": {
      "text/plain": [
       "7"
      ]
     },
     "execution_count": 75,
     "metadata": {},
     "output_type": "execute_result"
    }
   ],
   "source": [
    "right"
   ]
  },
  {
   "cell_type": "code",
   "execution_count": 76,
   "id": "e94696be-17e4-4e22-bfdd-330cc45b6d4f",
   "metadata": {
    "tags": []
   },
   "outputs": [
    {
     "data": {
      "text/plain": [
       "7"
      ]
     },
     "execution_count": 76,
     "metadata": {},
     "output_type": "execute_result"
    }
   ],
   "source": [
    "left"
   ]
  },
  {
   "cell_type": "markdown",
   "id": "7d599860-ab27-46ee-9a44-151db65b5983",
   "metadata": {},
   "source": [
    "### 책 풀이 2"
   ]
  },
  {
   "cell_type": "code",
   "execution_count": 77,
   "id": "3a62fd95-54eb-4954-901b-54c60a4dce65",
   "metadata": {
    "tags": []
   },
   "outputs": [],
   "source": [
    "class Solution:\n",
    "    def trap(self, height: List[int]) -> int:\n",
    "        stack = []\n",
    "        volume = 0\n",
    "\n",
    "        for i in range(len(height)):\n",
    "            # 변곡점을 만나는 경우\n",
    "            while stack and height[i] > height[stack[-1]]:\n",
    "                # 스택에서 꺼낸다\n",
    "                top = stack.pop()\n",
    "\n",
    "                if not len(stack): # 스택이 비어 있으면 브레이크\n",
    "                    break\n",
    "\n",
    "                # 이전과의 차이만큼 물 높이 처리\n",
    "                distance = i - stack[-1] - 1\n",
    "                waters = min(height[i], height[stack[-1]]) - height[top]\n",
    "\n",
    "                volume += distance * waters\n",
    "\n",
    "            stack.append(i)\n",
    "        return volume"
   ]
  },
  {
   "cell_type": "code",
   "execution_count": 78,
   "id": "ed77ec95-4bc4-4a44-a898-9f5f796770ce",
   "metadata": {
    "tags": []
   },
   "outputs": [
    {
     "data": {
      "text/plain": [
       "[0, 1, 0, 2, 1, 0, 1, 3, 2, 1, 2, 1]"
      ]
     },
     "execution_count": 78,
     "metadata": {},
     "output_type": "execute_result"
    }
   ],
   "source": [
    "height = [0,1,0,2,1,0,1,3,2,1,2,1]\n",
    "height"
   ]
  },
  {
   "cell_type": "code",
   "execution_count": 89,
   "id": "66c89797-652f-4697-adf9-4bf8e8eaa67b",
   "metadata": {
    "tags": []
   },
   "outputs": [],
   "source": [
    "height = [0, 1, 0, 1]"
   ]
  },
  {
   "cell_type": "code",
   "execution_count": 90,
   "id": "a19e6f60-9286-4f7a-a272-c5f1a2143d3a",
   "metadata": {
    "tags": []
   },
   "outputs": [],
   "source": [
    "stack = []\n",
    "volume = 0"
   ]
  },
  {
   "cell_type": "code",
   "execution_count": 91,
   "id": "4e9fbaef-b95d-4d9a-a8e0-0dce31fc27d5",
   "metadata": {
    "tags": []
   },
   "outputs": [],
   "source": [
    "for i in range(len(height)):\n",
    "    while stack and height[i] > height[stack[-1]]:\n",
    "        top = stack.pop()\n",
    "        if not len(stack):\n",
    "            break\n",
    "            \n",
    "        distance = i - stack[-1] -1\n",
    "        waters = min(height[i], height[stack[-1]]) - height[top]\n",
    "        \n",
    "        volume += distance * waters\n",
    "        \n",
    "    stack.append(i)                   "
   ]
  },
  {
   "cell_type": "code",
   "execution_count": 92,
   "id": "c9fc2709-2b32-49dd-b0f0-3d7c758141c3",
   "metadata": {
    "tags": []
   },
   "outputs": [
    {
     "data": {
      "text/plain": [
       "1"
      ]
     },
     "execution_count": 92,
     "metadata": {},
     "output_type": "execute_result"
    }
   ],
   "source": [
    "volume"
   ]
  },
  {
   "cell_type": "code",
   "execution_count": null,
   "id": "abea66a4-bde3-4afb-973b-e6b2e840b83c",
   "metadata": {},
   "outputs": [],
   "source": [
    "i가 0일 때, while문 헤더 미충족, 스택에 0 추가 >> [0]\n",
    "i가 1일 때, top = 0, 스택 빔. while문 종료, 스택에 1추가 >> [1]\n",
    "i가 2일 때, while문 헤더 미충족, 스택에 0 추가 >> [1, 0]\n",
    "i가 3일 때, top = 0, 스택 = [1], \n",
    "    distance = 3 - 1 - 1 >> 1\n",
    "    waters = min(height[3] > 1, height[stack[-1]] > 1) - height[0] > 0 >> 1\n",
    "    volume += 0 + 1 * 1 >> 1"
   ]
  },
  {
   "cell_type": "code",
   "execution_count": null,
   "id": "a3eb25a5-1c7b-4ea5-84d2-b57bad4f1102",
   "metadata": {},
   "outputs": [],
   "source": []
  }
 ],
 "metadata": {
  "kernelspec": {
   "display_name": "tf",
   "language": "python",
   "name": "tf"
  },
  "language_info": {
   "codemirror_mode": {
    "name": "ipython",
    "version": 3
   },
   "file_extension": ".py",
   "mimetype": "text/x-python",
   "name": "python",
   "nbconvert_exporter": "python",
   "pygments_lexer": "ipython3",
   "version": "3.11.0"
  }
 },
 "nbformat": 4,
 "nbformat_minor": 5
}
