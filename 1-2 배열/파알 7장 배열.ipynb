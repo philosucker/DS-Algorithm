{
 "cells": [
  {
   "cell_type": "markdown",
   "id": "fbcc280e-86b3-420c-a8b9-8f91d8fb0118",
   "metadata": {},
   "source": [
    "### e : 7, 10, 12, \n",
    "### m : 11, 9, \n",
    "### h : 8\n"
   ]
  },
  {
   "cell_type": "markdown",
   "id": "343e4bf1-383f-42bc-8911-9fefa0b51e7d",
   "metadata": {},
   "source": [
    "# 문7 두 수의 합 e\n",
    "https://leetcode.com/problems/two-sum"
   ]
  },
  {
   "cell_type": "markdown",
   "id": "a108d7bf-bae1-4663-9110-6fbca56b3991",
   "metadata": {},
   "source": [
    "    입력 : nums [2, 7, 11, 15], target = 9\n",
    "\n",
    "    출력 : [0, 1]"
   ]
  },
  {
   "cell_type": "markdown",
   "id": "2411b479-6d2d-49a9-aefd-36a134fccf76",
   "metadata": {},
   "source": [
    "### 내 첫번째 풀이"
   ]
  },
  {
   "cell_type": "code",
   "execution_count": 15,
   "id": "f91b57a7-ebc0-42bc-a015-3789dd9ea48f",
   "metadata": {
    "tags": []
   },
   "outputs": [],
   "source": [
    "from __future__ import annotations\n",
    "import itertools\n",
    "\n",
    "def twoSum(nums: List[int], target: int) -> List[int]:\n",
    "\n",
    "    combi_list = list(itertools.combinations(nums, 2))\n",
    "\n",
    "    temp = []\n",
    "\n",
    "    for p in combi_list:\n",
    "        n, m = p\n",
    "        if n + m == target:\n",
    "            temp.append(n)\n",
    "            temp.append(m)\n",
    "\n",
    "    num_to_indices = {}\n",
    "\n",
    "    for idx, num in enumerate(nums):\n",
    "        if num in num_to_indices:\n",
    "            num_to_indices[num].append(idx)\n",
    "        else:\n",
    "            num_to_indices[num] = [idx]\n",
    "\n",
    "    if temp[0] == temp[1]:\n",
    "        return num_to_indices[temp[0]]\n",
    "\n",
    "    else:\n",
    "        result_indices = [] \n",
    "        for num in temp:\n",
    "            if num in num_to_indices:\n",
    "                result_indices.extend(num_to_indices[num])\n",
    "    return result_indices\n"
   ]
  },
  {
   "cell_type": "code",
   "execution_count": 16,
   "id": "b0aafab4-6868-4184-a4ac-d12cb1a54e8c",
   "metadata": {
    "tags": []
   },
   "outputs": [
    {
     "data": {
      "text/plain": [
       "[0, 1]"
      ]
     },
     "execution_count": 16,
     "metadata": {},
     "output_type": "execute_result"
    }
   ],
   "source": [
    "twoSum([3,3], 6)"
   ]
  },
  {
   "cell_type": "markdown",
   "id": "e03d9d7d-af62-4cce-bac8-11faa63b2ef8",
   "metadata": {},
   "source": [
    "키는 같은 값이 중복될 수 없는데, 입력값이 같은 값으로 들어오는 경우가 있을 수 있어  \n",
    "내 코드는 불완전하다"
   ]
  },
  {
   "cell_type": "markdown",
   "id": "b4dfce40-65a1-49cc-ae08-fef401d246a3",
   "metadata": {},
   "source": [
    "Memory Limit Exceeded  에러 발생"
   ]
  },
  {
   "cell_type": "markdown",
   "id": "96394b7c-c733-41f4-998a-6fc8f694dddc",
   "metadata": {},
   "source": [
    "### 내 두번째 풀이 (브루트포스)"
   ]
  },
  {
   "cell_type": "code",
   "execution_count": 26,
   "id": "09620467-4b57-48e3-9471-f7c45c1b8e13",
   "metadata": {
    "tags": []
   },
   "outputs": [],
   "source": [
    "class Solution:\n",
    "    def twoSum(self, nums: List[int], target: int) -> List[int]:\n",
    "        temp = []\n",
    "        for i, n in enumerate(nums):\n",
    "            temp.append((i, n))\n",
    "\n",
    "        if len(temp) == 0 or len(temp) == 1:\n",
    "            return\n",
    "        elif len(temp) >= 2:\n",
    "            for i in range(len(temp)):\n",
    "                for j in range(i+1, len(temp)):\n",
    "                    if temp[i][1] + temp[j][1] == target:\n",
    "                        return [temp[i][0], temp[j][0]]"
   ]
  },
  {
   "cell_type": "markdown",
   "id": "87c64ca9-d1ee-4c7c-ba5a-733b8cce8253",
   "metadata": {},
   "source": [
    "#### chatGPT 풀이"
   ]
  },
  {
   "cell_type": "code",
   "execution_count": null,
   "id": "86b3b4a4-3a54-4af4-bcde-fa787920c0f7",
   "metadata": {},
   "outputs": [],
   "source": [
    "\n",
    "def twoSum(nums: List[int], target: int) -> List[int]:\n",
    "    num_to_index = {}  # 딕셔너리를 사용하여 숫자와 해당 숫자의 인덱스를 저장\n",
    "\n",
    "    for idx, num in enumerate(nums):\n",
    "        complement = target - num\n",
    "        # complement가 딕셔너리에 있다면 해당 숫자의 인덱스와 현재 인덱스를 반환\n",
    "        if complement in num_to_index:\n",
    "            return [num_to_index[complement], idx]\n",
    "        # complement가 딕셔너리에 없다면 현재 숫자와 인덱스를 딕셔너리에 저장\n",
    "        num_to_index[num] = idx\n",
    "\n",
    "    return []  # 만약 두 수의 합이 target이 되는 경우가 없으면 빈 리스트 반환"
   ]
  },
  {
   "cell_type": "code",
   "execution_count": 85,
   "id": "99ef80e4-7e86-4900-acc8-a7471c0a9baf",
   "metadata": {
    "tags": []
   },
   "outputs": [
    {
     "data": {
      "text/plain": [
       "[0, 1]"
      ]
     },
     "execution_count": 85,
     "metadata": {},
     "output_type": "execute_result"
    }
   ],
   "source": [
    "twoSum([3,3], 6)"
   ]
  },
  {
   "cell_type": "markdown",
   "id": "3654065f-3cd2-4d58-9255-e1d03ebfec80",
   "metadata": {},
   "source": [
    "accept 되긴 하는데 이해 안됨..."
   ]
  },
  {
   "cell_type": "code",
   "execution_count": null,
   "id": "efefdd1e-289c-430d-b9e5-a8e251a1d624",
   "metadata": {},
   "outputs": [],
   "source": []
  },
  {
   "cell_type": "markdown",
   "id": "fdf62619-4238-4b7c-9d59-9208f6b021dd",
   "metadata": {},
   "source": [
    "#### 책 풀이1 브루트포스"
   ]
  },
  {
   "cell_type": "code",
   "execution_count": 107,
   "id": "f8b1a142-a47d-4639-8d5c-2bde0cdab5e7",
   "metadata": {
    "tags": []
   },
   "outputs": [],
   "source": [
    "def twoSum(nums: List[int], target: [int]) -> List[int]:\n",
    "    for i in range(len(nums)):\n",
    "        for j in range(i + 1, len(nums)):\n",
    "            if nums[i] + nums[j] == target:\n",
    "                return [i, j]"
   ]
  },
  {
   "cell_type": "code",
   "execution_count": 108,
   "id": "5179f2ad-6b5e-430f-b655-c526d0534e67",
   "metadata": {
    "tags": []
   },
   "outputs": [
    {
     "data": {
      "text/plain": [
       "[2, 5]"
      ]
     },
     "execution_count": 108,
     "metadata": {},
     "output_type": "execute_result"
    }
   ],
   "source": [
    "twoSum([0, 1, 3, 4, 9, 3], 6)"
   ]
  },
  {
   "cell_type": "markdown",
   "id": "339b7cd6-c09c-43f5-b20a-5ec4deef3730",
   "metadata": {},
   "source": [
    "#### 책 풀이2\n",
    "chatGPT와 비슷한 답, return 값 두 번째 인덱스 이해 안됨"
   ]
  },
  {
   "cell_type": "code",
   "execution_count": 109,
   "id": "cfa5b5af-1306-40a4-bccb-da4dc2b40184",
   "metadata": {
    "tags": []
   },
   "outputs": [],
   "source": [
    "def twoSum(nums: List[int], target: int) -> List[int]:\n",
    "    for i, n in enumerate(nums):\n",
    "        complement = target - n\n",
    "        \n",
    "        if complement in nums[i+1:]:\n",
    "            return [nums.index(n), nums[i+1:].index(complement) + (i + 1)]"
   ]
  },
  {
   "cell_type": "code",
   "execution_count": 110,
   "id": "97a2d2c9-0ad6-4e65-b4be-33d75d558035",
   "metadata": {
    "tags": []
   },
   "outputs": [
    {
     "data": {
      "text/plain": [
       "[2, 5]"
      ]
     },
     "execution_count": 110,
     "metadata": {},
     "output_type": "execute_result"
    }
   ],
   "source": [
    "twoSum([0, 1, 3, 4, 9, 3], 6)"
   ]
  },
  {
   "cell_type": "markdown",
   "id": "311f9554-0b32-42e6-abdb-d65afe56245c",
   "metadata": {},
   "source": [
    "#### 책 풀이3. 이게 Best"
   ]
  },
  {
   "cell_type": "code",
   "execution_count": 31,
   "id": "054c1bd0-9408-4e7e-b9e8-4ca2968dddbd",
   "metadata": {
    "tags": []
   },
   "outputs": [],
   "source": [
    "def twoSum(nums: List[int], target: int) -> List[int]:\n",
    "    nums_map = {}\n",
    "    \n",
    "    for i ,num in enumerate(nums):  # 딕셔너리에 nums 원소를 key, 해당 원소의 인덱스를 value \n",
    "        nums_map[num] = i\n",
    "        \n",
    "    for i, num in enumerate(nums): # nums 원소와 인덱스를 순차적으로 빼서\n",
    "        # if target - num in nums_map: # 이 조건만 걸면 [3,2,4] 의 경우 답을 [0, 0]으로 해버릴 수 있다.\n",
    "        if target - num in nums_map and i != nums_map[target - num]: # target에서 원소를 뺀 게 딕셔너리에 있고,\n",
    "                                # target에서 원소를 뺀 값을 키로 하는 딕셔너리의 값이, 원소의 인덱스와 다르면 \n",
    "                                                                \n",
    "            return [i, nums_map[target - num]]"
   ]
  },
  {
   "cell_type": "code",
   "execution_count": 33,
   "id": "03bf1c72-62a3-41bd-b9eb-4ed12988f197",
   "metadata": {
    "tags": []
   },
   "outputs": [
    {
     "data": {
      "text/plain": [
       "[0, 1]"
      ]
     },
     "execution_count": 33,
     "metadata": {},
     "output_type": "execute_result"
    }
   ],
   "source": [
    "twoSum([3,3], 6)"
   ]
  },
  {
   "cell_type": "markdown",
   "id": "5781c469-63c0-4aab-9d90-bd44572d76e2",
   "metadata": {},
   "source": [
    "#### 책 풀이4, 3번 풀이 좀 더 개선, 딕셔너리를 미리 만들어 놓지 않고, 만들어가면서 비교"
   ]
  },
  {
   "cell_type": "code",
   "execution_count": 40,
   "id": "2265656d-0ce3-4b54-8238-5952f332d778",
   "metadata": {
    "tags": []
   },
   "outputs": [
    {
     "name": "stdout",
     "output_type": "stream",
     "text": [
      "{3: 0, 2: 1}\n"
     ]
    },
    {
     "data": {
      "text/plain": [
       "[1, 2]"
      ]
     },
     "execution_count": 40,
     "metadata": {},
     "output_type": "execute_result"
    }
   ],
   "source": [
    "def twoSum(nums: List[int], target: int) -> List[int]:\n",
    "    nums_map = {}\n",
    "    for i, num in enumerate(nums):\n",
    "        if target - num in nums_map:\n",
    "            print(nums_map)\n",
    "            return [nums_map[target - num], i]\n",
    "        nums_map[num] = i\n",
    "twoSum([3,2,4], 6)"
   ]
  },
  {
   "cell_type": "code",
   "execution_count": 37,
   "id": "333e6cbf-415d-4477-b2d0-581188701659",
   "metadata": {
    "tags": []
   },
   "outputs": [
    {
     "name": "stdout",
     "output_type": "stream",
     "text": [
      "[1, 2]\n"
     ]
    }
   ],
   "source": [
    "nums = [3,2,4]\n",
    "target = 6\n",
    "nums_map = {}\n",
    "for i, num in enumerate(nums):\n",
    "    if target - num in nums_map:\n",
    "        print([nums_map[target - num], i])\n",
    "    nums_map[num] = i"
   ]
  },
  {
   "cell_type": "code",
   "execution_count": 38,
   "id": "db89c74c-4ba3-47d7-b131-a8b967057d1e",
   "metadata": {
    "tags": []
   },
   "outputs": [
    {
     "data": {
      "text/plain": [
       "{3: 0, 2: 1, 4: 2}"
      ]
     },
     "execution_count": 38,
     "metadata": {},
     "output_type": "execute_result"
    }
   ],
   "source": [
    "nums_map"
   ]
  },
  {
   "cell_type": "markdown",
   "id": "d179d7db-f6d3-4dfd-8ea2-61845f274a3f",
   "metadata": {},
   "source": [
    "# 문10 배열 파티션 e\n",
    "https://leetcode.com/problems/array-partition/description/\n",
    "\n"
   ]
  },
  {
   "cell_type": "code",
   "execution_count": null,
   "id": "0a1bbaa9-e41f-485a-945f-9929ded16872",
   "metadata": {},
   "outputs": [],
   "source": [
    "Given an integer array nums of 2n integers, \n",
    "group these integers into n pairs (a1, b1), (a2, b2), ..., (an, bn) \n",
    "such that the sum of min(ai, bi) for all i is maximized. Return the maximized sum.\n",
    "\n",
    "Example 1:\n",
    "\n",
    "Input: nums = [1,4,3,2]\n",
    "Output: 4\n",
    "Explanation: All possible pairings (ignoring the ordering of elements) are:\n",
    "1. (1, 4), (2, 3) -> min(1, 4) + min(2, 3) = 1 + 2 = 3\n",
    "2. (1, 3), (2, 4) -> min(1, 3) + min(2, 4) = 1 + 2 = 3\n",
    "3. (1, 2), (3, 4) -> min(1, 2) + min(3, 4) = 1 + 3 = 4\n",
    "So the maximum possible sum is 4.\n",
    "\n",
    " "
   ]
  },
  {
   "cell_type": "markdown",
   "id": "485fa2ad-1ff7-4ea5-a101-62c734380132",
   "metadata": {},
   "source": [
    "### 내풀이"
   ]
  },
  {
   "cell_type": "code",
   "execution_count": 16,
   "id": "4a2ceaf4-ff15-4416-873b-1ca975fc7901",
   "metadata": {
    "tags": []
   },
   "outputs": [],
   "source": [
    "from __future__ import annotations\n",
    "\n",
    "def arrayPairSum(nums: List[int]) -> int:\n",
    "    nums.sort()\n",
    "    pair_list = []\n",
    "    for i in range(0, len(nums), 2):\n",
    "        pair_list.append(min(nums[i], nums[i+1]))\n",
    "\n",
    "    return sum(pair_list)"
   ]
  },
  {
   "cell_type": "code",
   "execution_count": 17,
   "id": "3e5721b1-ba20-489f-900a-584bcfdba039",
   "metadata": {
    "tags": []
   },
   "outputs": [
    {
     "data": {
      "text/plain": [
       "4"
      ]
     },
     "execution_count": 17,
     "metadata": {},
     "output_type": "execute_result"
    }
   ],
   "source": [
    "arrayPairSum([1,4,3,2])"
   ]
  },
  {
   "cell_type": "markdown",
   "id": "57be455a-11eb-4b2e-ac96-6bcf346a796d",
   "metadata": {},
   "source": [
    "### 좀더 최적화"
   ]
  },
  {
   "cell_type": "code",
   "execution_count": 18,
   "id": "3daa5b16-92cc-4e39-861f-d9fdb99729f9",
   "metadata": {
    "tags": []
   },
   "outputs": [],
   "source": [
    "def arrayPairSum(nums: List[int]) -> int:\n",
    "    \n",
    "    nums.sort()\n",
    "    total = 0\n",
    "    for i in range(0, len(nums), 2):\n",
    "        total += nums[i]\n",
    "    return total"
   ]
  },
  {
   "cell_type": "markdown",
   "id": "462cb38c-3562-4c3f-8b5e-e4dac1a51192",
   "metadata": {},
   "source": [
    "### 더 최적화"
   ]
  },
  {
   "cell_type": "code",
   "execution_count": 23,
   "id": "e3a9f9fd-6d0b-45ae-a13f-a6227ecf6c63",
   "metadata": {
    "tags": []
   },
   "outputs": [],
   "source": [
    "def arrayPairSum(nums: List[int]) -> int:\n",
    "\n",
    "    return sum(sorted(nums)[::2])"
   ]
  },
  {
   "cell_type": "code",
   "execution_count": 24,
   "id": "896b74d2-2ac1-45ac-9120-b42550a81537",
   "metadata": {
    "tags": []
   },
   "outputs": [
    {
     "data": {
      "text/plain": [
       "4"
      ]
     },
     "execution_count": 24,
     "metadata": {},
     "output_type": "execute_result"
    }
   ],
   "source": [
    "arrayPairSum([1,4,3,2])"
   ]
  },
  {
   "cell_type": "markdown",
   "id": "3e25e474-3cc7-49f3-a41a-539f591eaf0b",
   "metadata": {},
   "source": [
    "# 문12) 주식을 사고 팔기 가장 좋은시점 e\n",
    "https://leetcode.com/problems/best-time-to-buy-and-sell-stock/"
   ]
  },
  {
   "cell_type": "code",
   "execution_count": null,
   "id": "5beaa354-d5fb-445e-8809-50a079f392e1",
   "metadata": {},
   "outputs": [],
   "source": [
    "You are given an array prices where prices[i] is the price of a given stock on the ith day.\n",
    "\n",
    "You want to maximize your profit by choosing a single day to buy one stock \n",
    "and choosing a different day in the future to sell that stock.\n",
    "\n",
    "Return the maximum profit you can achieve from this transaction. \n",
    "If you cannot achieve any profit, return 0.\n",
    "\n",
    "Example 1:\n",
    "    \n",
    "Input: prices = [7,1,5,3,6,4]\n",
    "Output: 5\n",
    "Explanation: Buy on day 2 (price = 1) and sell on day 5 (price = 6), profit = 6-1 = 5.\n",
    "Note that buying on day 2 and selling on day 1 is not allowed because you must buy before you sell.\n",
    "\n",
    "Example 2:\n",
    "\n",
    "Input: prices = [7,6,4,3,1]\n",
    "Output: 0\n",
    "Explanation: In this case, no transactions are done and the max profit = 0."
   ]
  },
  {
   "cell_type": "markdown",
   "id": "1113cee1-1b53-4ba7-bb44-5350434c4be5",
   "metadata": {},
   "source": [
    "### 내 풀이\n",
    "시간 초과"
   ]
  },
  {
   "cell_type": "code",
   "execution_count": null,
   "id": "a88144a3-3b8a-4103-9742-d90f0e7de355",
   "metadata": {},
   "outputs": [],
   "source": [
    "class Solution:\n",
    "    def maxProfit(self, prices: List[int]) -> int:\n",
    "        maximum = 0\n",
    "        for i in range(len(prices)-1):\n",
    "            for j in range(i+1, len(prices)):\n",
    "                if prices[j] - prices[i] < 0:\n",
    "                    continue\n",
    "                elif prices[j] - prices[i] > maximum:\n",
    "                    maximum = prices[j] - prices[i]\n",
    "        return maximum"
   ]
  },
  {
   "cell_type": "markdown",
   "id": "6df5862a-106f-4e17-a1d9-72cac20fdc21",
   "metadata": {},
   "source": [
    "### chatGPT 풀이"
   ]
  },
  {
   "cell_type": "code",
   "execution_count": null,
   "id": "b3e8c0a4-3a27-4be4-9076-3f213661fd69",
   "metadata": {},
   "outputs": [],
   "source": [
    "문제 해결 전략 접근 아이디어\n",
    "\n",
    "주식가격을 한번 순회하면서\n",
    "현재시점에서 주식가격이 가장 낮은 때를 참조하는 변수가 필요하고\n",
    "주식 가격이 올랐을 때 이익을 계산해 참조하는 변수가 필요하다."
   ]
  },
  {
   "cell_type": "code",
   "execution_count": null,
   "id": "79b378b3-22f0-4089-8996-2dcad28a8945",
   "metadata": {},
   "outputs": [],
   "source": [
    "from typing import List\n",
    "\n",
    "# Input: prices = [7,6,4,3,1]\n",
    "# Input: prices = [7,1,5,3,6,4]\n",
    "\n",
    "class Solution:\n",
    "    def maxProfit(self, prices: List[int]) -> int:\n",
    "        # 최소 가격과 최대 이익을 초기화합니다.\n",
    "        min_price = float('inf')\n",
    "        max_profit = 0\n",
    "        \n",
    "        # 주식 가격 배열을 순회합니다.\n",
    "        for price in prices:\n",
    "            # 현재 가격이 이전의 최소 가격보다 낮다면, 최소 가격을 업데이트합니다.\n",
    "            if price < min_price:\n",
    "                min_price = price\n",
    "            # 현재 가격에서 최소 가격을 뺀 값이 현재까지의 최대 이익보다 크다면, 최대 이익을 업데이트합니다.\n",
    "            elif price - min_price > max_profit:\n",
    "                max_profit = price - min_price\n",
    "        \n",
    "        # 계산된 최대 이익을 반환합니다.\n",
    "        return max_profit\n"
   ]
  },
  {
   "cell_type": "markdown",
   "id": "bb654762-f397-47ca-9fe2-1780a2319310",
   "metadata": {},
   "source": [
    "# 문11) 자신을 제외한 배열의 곱 m\n",
    "https://leetcode.com/problems/product-of-array-except-self"
   ]
  },
  {
   "cell_type": "code",
   "execution_count": null,
   "id": "64d2e18d-ce1e-4509-9b80-47548bf17c1f",
   "metadata": {},
   "outputs": [],
   "source": [
    "Given an integer array nums, \n",
    "return an array answer such that \n",
    "answer[i] is equal to the product of all the elements of nums except nums[i].\n",
    "\n",
    "The product of any prefix or suffix of nums is guaranteed to fit in a 32-bit integer.\n",
    "\n",
    "You must write an algorithm that runs in O(n) time and without using the division operation.\n",
    "\n",
    "Example 1:\n",
    "\n",
    "Input: nums = [1,2,3,4]\n",
    "Output: [24,12,8,6]\n",
    "\n",
    "Example 2:\n",
    "Input: nums = [-1,1,0,-3,3]\n",
    "Output: [0,0,9,0,0]\n",
    " \n",
    "\n",
    "Constraints:\n",
    "\n",
    "2 <= nums.length <= 105\n",
    "-30 <= nums[i] <= 30\n",
    "The product of any prefix or suffix of nums is guaranteed to fit in a 32-bit integer.\n",
    " \n",
    "Follow up: Can you solve the problem in O(1) extra space complexity? \n",
    "(The output array does not count as extra space for space complexity analysis.)\n",
    "\n",
    "class Solution:\n",
    "    def productExceptSelf(self, nums: List[int]) -> List[int]:"
   ]
  },
  {
   "cell_type": "markdown",
   "id": "cbc71894-47f7-46c4-933a-a6d92a24a130",
   "metadata": {},
   "source": [
    "### 내 풀이\n",
    "시간 초과"
   ]
  },
  {
   "cell_type": "code",
   "execution_count": null,
   "id": "6d19abae-80ba-446d-8824-e296f9596ee9",
   "metadata": {},
   "outputs": [],
   "source": [
    "import collections\n",
    "class Solution:\n",
    "    def productExceptSelf(self, nums: List[int]) -> List[int]:\n",
    "        deque = collections.deque(nums)\n",
    "        answer = [0]*len(nums)\n",
    "        for i in range(len(nums)):\n",
    "            item = deque.popleft()\n",
    "            j = 0\n",
    "            result = 1\n",
    "            while j < len(nums)-1:\n",
    "                result *= deque[j]\n",
    "                j+=1\n",
    "            answer[i] = result\n",
    "            deque.append(item)\n",
    "        return answer "
   ]
  },
  {
   "cell_type": "markdown",
   "id": "24f7a412-5077-46d2-a1ec-ee47bad82652",
   "metadata": {},
   "source": [
    "### 내 풀이\n",
    "나눗셈 연산 썼음"
   ]
  },
  {
   "cell_type": "code",
   "execution_count": null,
   "id": "db4257c0-10f4-4d56-a701-39e81c7d9979",
   "metadata": {},
   "outputs": [],
   "source": [
    "import collections\n",
    "import math\n",
    "class Solution:\n",
    "    def productExceptSelf(self, nums: List[int]) -> List[int]:\n",
    "        deque = collections.deque(nums)\n",
    "        answer = [0]*len(nums)\n",
    "        item = deque.popleft()\n",
    "        result = math.prod(deque)\n",
    "        answer[0] = result\n",
    "        deque.append(item)\n",
    "        for i in range(1, len(nums)):\n",
    "            head = deque.popleft()\n",
    "            if head != 0:\n",
    "                result = result // head\n",
    "            result = result * deque[-1]\n",
    "            if result == 0:\n",
    "                result = math.prod(deque)\n",
    "            answer[i] = result\n",
    "            deque.append(head)\n",
    "        return answer "
   ]
  },
  {
   "cell_type": "markdown",
   "id": "4029ead7-4330-4c18-b498-ebb1bf99988f",
   "metadata": {},
   "source": [
    "### chatGPT 풀이"
   ]
  },
  {
   "cell_type": "code",
   "execution_count": null,
   "id": "357c7f78-faac-4fd2-807d-4aff46c6073f",
   "metadata": {},
   "outputs": [],
   "source": [
    "문제 해결 전략 접근 아이디어\n",
    "\n",
    "1   2   3   4  각 원소에 대해 \n",
    "1   1   2   6  자기 왼쪽에 있는 원소들의 곱을 계산  \n",
    "\n",
    "1   2   3   4  각 원소에 대해 \n",
    "24  12  4      자기 오른쪽에 있는 원소들의 곱을 계산\n",
    "\n",
    "첫번째 결과를 바로 answer 배열에 넣고\n",
    "1   1   2   6 \n",
    "\n",
    "두번째 결과를 계산하는 과정에서 계산 즉시 answer 열의 원소와 순서대로 곱해버리면\n",
    "1   1   2   6 \n",
    "24  12  4 \n",
    "24  12  8   6  정답이 나온다."
   ]
  },
  {
   "cell_type": "code",
   "execution_count": null,
   "id": "447eb90c-2a81-4aed-8740-02a67aec2630",
   "metadata": {},
   "outputs": [],
   "source": [
    "from typing import List\n",
    "\n",
    "class Solution:\n",
    "    def productExceptSelf(self, nums: List[int]) -> List[int]:\n",
    "        # 배열의 길이\n",
    "        length = len(nums)\n",
    "        \n",
    "        # 결과를 저장할 배열, 초기값은 1\n",
    "        answer = [1] * length\n",
    "        \n",
    "        # 왼쪽 누적 곱을 answer 배열에 저장\n",
    "        left_product = 1\n",
    "        for i in range(1, length):\n",
    "            left_product *= nums[i - 1]\n",
    "            answer[i] = left_product\n",
    "        \n",
    "        # 오른쪽 누적 곱을 기존의 answer 배열에 곱해 최종 결과를 얻음\n",
    "        right_product = 1\n",
    "        for i in reversed(range(length - 1)):\n",
    "            right_product *= nums[i + 1]\n",
    "            answer[i] *= right_product\n",
    "        \n",
    "        return answer\n"
   ]
  },
  {
   "cell_type": "code",
   "execution_count": 24,
   "id": "2958636d-f89c-4e95-bca8-06bd846aba92",
   "metadata": {
    "tags": []
   },
   "outputs": [
    {
     "name": "stdout",
     "output_type": "stream",
     "text": [
      "1\n",
      "2\n",
      "6\n"
     ]
    },
    {
     "data": {
      "text/plain": [
       "[1, 1, 2, 6]"
      ]
     },
     "execution_count": 24,
     "metadata": {},
     "output_type": "execute_result"
    }
   ],
   "source": [
    "nums = [1,2,3,4]\n",
    "\n",
    "length = len(nums)\n",
    "\n",
    "# 결과를 저장할 배열, 초기값은 1\n",
    "answer = [1] * length\n",
    "\n",
    "# 왼쪽 누적 곱을 answer 배열에 저장\n",
    "left_product = 1\n",
    "for i in range(1, length):\n",
    "    left_product *= nums[i - 1]\n",
    "    print(left_product)\n",
    "    answer[i] = left_product\n",
    "answer"
   ]
  },
  {
   "cell_type": "code",
   "execution_count": 25,
   "id": "0de8f0a8-3cad-4dd4-a030-15a198ba063c",
   "metadata": {
    "tags": []
   },
   "outputs": [
    {
     "name": "stdout",
     "output_type": "stream",
     "text": [
      "4\n",
      "12\n",
      "24\n"
     ]
    },
    {
     "data": {
      "text/plain": [
       "[24, 12, 8, 6]"
      ]
     },
     "execution_count": 25,
     "metadata": {},
     "output_type": "execute_result"
    }
   ],
   "source": [
    "# 오른쪽 누적 곱을 기존의 answer 배열에 곱해 최종 결과를 얻음\n",
    "right_product = 1\n",
    "for i in reversed(range(length - 1)):\n",
    "    right_product *= nums[i + 1]\n",
    "    print(right_product)\n",
    "    answer[i] *= right_product\n",
    "answer"
   ]
  },
  {
   "cell_type": "code",
   "execution_count": 26,
   "id": "156d3ed2-46be-43a3-8d60-632497b7ff37",
   "metadata": {
    "tags": []
   },
   "outputs": [
    {
     "name": "stdout",
     "output_type": "stream",
     "text": [
      "2\n",
      "1\n",
      "0\n"
     ]
    }
   ],
   "source": [
    "for i in reversed(range(length - 1)):\n",
    "    print(i)"
   ]
  },
  {
   "cell_type": "markdown",
   "id": "ca99dc58-305a-42fe-83e2-15889261a618",
   "metadata": {},
   "source": [
    "# 문9 세 수의 합 m\n",
    "\n",
    "https://leetcode.com/problems/3sum/"
   ]
  },
  {
   "cell_type": "code",
   "execution_count": null,
   "id": "a4d4a18a-3620-4502-93b7-f8d2ffc712a8",
   "metadata": {},
   "outputs": [],
   "source": [
    "Given an integer array nums, \n",
    "return all the triplets [nums[i], nums[j], nums[k]] \n",
    "such that i != j, i != k, and j != k, \n",
    "and nums[i] + nums[j] + nums[k] == 0.\n",
    "\n",
    "Notice that the solution set must not contain duplicate triplets.\n",
    "\n",
    "Example 1:\n",
    "\n",
    "Input: nums = [-1,0,1,2,-1,-4]\n",
    "Output: [[-1,-1,2],[-1,0,1]]\n",
    "Explanation: \n",
    "nums[0] + nums[1] + nums[2] = (-1) + 0 + 1 = 0.\n",
    "nums[1] + nums[2] + nums[4] = 0 + 1 + (-1) = 0.\n",
    "nums[0] + nums[3] + nums[4] = (-1) + 2 + (-1) = 0.\n",
    "The distinct triplets are [-1,0,1] and [-1,-1,2].\n",
    "\n",
    "Notice that the order of the output and the order of the triplets does not matter.\n",
    "\n",
    "인덱스가 달라야 하고\n",
    "정답 배열의 원소가 중복되면 안된다.\n",
    "순서는 상관 없음\n",
    "\n",
    "3 <= nums.length <= 3000"
   ]
  },
  {
   "cell_type": "markdown",
   "id": "099d471d-fdd8-4267-9d59-643ac285c140",
   "metadata": {},
   "source": [
    "### 내 첫번째 풀이, 브루트 포스\n",
    "시간초과 O(n^3)"
   ]
  },
  {
   "cell_type": "code",
   "execution_count": 47,
   "id": "67d4014e-de4f-4daa-843b-90c8bb3c6130",
   "metadata": {
    "tags": []
   },
   "outputs": [],
   "source": [
    "nums = [-1,0,1,2,-1,-4]\n",
    "answer = []\n",
    "for i in range(len(nums)):\n",
    "    for j in range(i+1, len(nums)):\n",
    "        for k in range(j+1, len(nums)):\n",
    "            if nums[i] + nums [j] + nums[k] == 0:\n",
    "                result = [nums[i],nums[j],nums[k]]\n",
    "                result.sort()\n",
    "                if result not in answer:\n",
    "                    answer.append(result)"
   ]
  },
  {
   "cell_type": "code",
   "execution_count": 48,
   "id": "3a5136d2-2d0f-402b-9af0-71eb8a3db464",
   "metadata": {
    "tags": []
   },
   "outputs": [
    {
     "data": {
      "text/plain": [
       "[[-1, 0, 1], [-1, -1, 2]]"
      ]
     },
     "execution_count": 48,
     "metadata": {},
     "output_type": "execute_result"
    }
   ],
   "source": [
    "answer"
   ]
  },
  {
   "cell_type": "markdown",
   "id": "0bde4154-67f2-42f5-ac67-567768d746d5",
   "metadata": {},
   "source": [
    "### 두번째 풀이 좀 더 최적화\n",
    "시간초과 O(n^3)"
   ]
  },
  {
   "cell_type": "code",
   "execution_count": null,
   "id": "f174f0e2-a0fd-4dd3-a189-24e64fbf5da2",
   "metadata": {},
   "outputs": [],
   "source": [
    "from itertools import combinations\n",
    "\n",
    "def threeSum(nums: List[int]) -> List[List[int]]:        \n",
    "    answer = []\n",
    "\n",
    "    triplet_list = list(combinations(nums, 3))\n",
    "    for triplet in triplet_list:\n",
    "        temp = list(triplet)  # 튜플을 리스트로 변환  <<<<<<<<<<<<<<<<<<<<<<<<< 이 기법!!! 숙지할 것\n",
    "        temp.sort()\n",
    "        if sum(temp) == 0 and temp not in answer:\n",
    "            answer.append(temp)\n",
    "    return answer"
   ]
  },
  {
   "cell_type": "code",
   "execution_count": null,
   "id": "281d7354-e056-4b4c-bcfd-8abba971ddac",
   "metadata": {},
   "outputs": [],
   "source": [
    "def threeSum(nums: List[int]) -> List[List[int]]:\n",
    "\n",
    "    triplet_list = list(combinations(nums, 3))\n",
    "    unique_triplets = set()\n",
    "\n",
    "    for triplet in triplet_list:\n",
    "        if sum(triplet) == 0:\n",
    "            unique_triplets.add(tuple(sorted(triplet))) # 리스트를 튜플로 변환   <<<<<<<<<<<<<<<<<<<<<<<<< 이 기법!!! 숙지할 것\n",
    "\n",
    "    unique_triplets = list(unique_triplets)\n",
    "    unique_triplets\n",
    "\n",
    "    return unique_triplets\n"
   ]
  },
  {
   "cell_type": "markdown",
   "id": "aeaa0a8d-7dcb-4676-9e8c-9ec85b1edac2",
   "metadata": {},
   "source": [
    "# set 의 update 와 add의 차이"
   ]
  },
  {
   "cell_type": "code",
   "execution_count": 44,
   "id": "00ffbae5-4ac6-4e37-8a65-344266880c7d",
   "metadata": {
    "tags": []
   },
   "outputs": [
    {
     "data": {
      "text/plain": [
       "{1, 2, 3, 4, 5, 6}"
      ]
     },
     "execution_count": 44,
     "metadata": {},
     "output_type": "execute_result"
    }
   ],
   "source": [
    "s = set()\n",
    "s.update((1,2,3),(4,5,6)) # update는 한번에 여러 요소 추가 가능\n",
    "s"
   ]
  },
  {
   "cell_type": "code",
   "execution_count": 46,
   "id": "23cc1a54-d3d2-448c-8b7c-66796ae38d9e",
   "metadata": {
    "tags": []
   },
   "outputs": [
    {
     "data": {
      "text/plain": [
       "{1, 2, 3, 4, 5, 6, 7, 8, 9}"
      ]
     },
     "execution_count": 46,
     "metadata": {},
     "output_type": "execute_result"
    }
   ],
   "source": [
    "s.update((7,8,9))         # update는 집합의 요소만 추가 가능, 부분집합 생성은 불가\n",
    "s"
   ]
  },
  {
   "cell_type": "code",
   "execution_count": 48,
   "id": "98f3501c-bb53-4a71-ab89-09565067b296",
   "metadata": {
    "tags": []
   },
   "outputs": [
    {
     "data": {
      "text/plain": [
       "{(1, 2, 3)}"
      ]
     },
     "execution_count": 48,
     "metadata": {},
     "output_type": "execute_result"
    }
   ],
   "source": [
    "s = set()\n",
    "s.add((1,2,3))     # add는 한번에 하나의 요소만 추가 가능\n",
    "s"
   ]
  },
  {
   "cell_type": "code",
   "execution_count": 49,
   "id": "aa9e5782-d3a7-470b-9d8b-29aeff83af1e",
   "metadata": {
    "tags": []
   },
   "outputs": [
    {
     "data": {
      "text/plain": [
       "{(1, 2, 3), (4, 5, 6)}"
      ]
     },
     "execution_count": 49,
     "metadata": {},
     "output_type": "execute_result"
    }
   ],
   "source": [
    "s.add((4,5,6))    # add는 부분집합 생성 가능\n",
    "s"
   ]
  },
  {
   "cell_type": "markdown",
   "id": "cbb19fda-fe6f-4100-9a08-e6cf1557b7ad",
   "metadata": {},
   "source": [
    "# 투포인터 풀이법\n",
    "투포인터를 쓰면 O(n^2)"
   ]
  },
  {
   "cell_type": "code",
   "execution_count": null,
   "id": "ac2b6d12-f2cb-4ef0-9710-ab118a8a34b1",
   "metadata": {},
   "outputs": [],
   "source": [
    "class Solution:\n",
    "    def threeSum(self, nums: List[int]) -> List[List[int]]:\n",
    "        nums.sort() # 배열을 먼저 정렬합니다.\n",
    "        answer = [] # 정답을 저장할 리스트를 초기화합니다.\n",
    "        n = len(nums) # 입력 리스트의 길이를 n에 할당합니다.\n",
    "        \n",
    "        for i in range(n):\n",
    "            # 중복된 값을 건너뛰기 위한 조건문입니다.\n",
    "            if i > 0 and nums[i] == nums[i-1]:\n",
    "                continue\n",
    "            left, right = i+1, n-1 # 투 포인터 방식을 사용하기 위해 left와 right 인덱스를 초기화합니다.\n",
    "            while left < right:\n",
    "                sum = nums[i] + nums[left] + nums[right] # 세 수의 합을 구합니다.\n",
    "                if sum < 0: # 합이 0보다 작으면 left를 오른쪽으로 이동시켜 합을 증가시킵니다.\n",
    "                    left += 1\n",
    "                elif sum > 0: # 합이 0보다 크면 right를 왼쪽으로 이동시켜 합을 감소시킵니다.\n",
    "                    right -= 1\n",
    "                else:\n",
    "                    # 합이 0인 경우, 정답 리스트에 추가합니다.\n",
    "                    answer.append([nums[i], nums[left], nums[right]])\n",
    "                    # 중복된 값을 건너뛰기 위해 다음 두 반복문을 실행합니다.\n",
    "                    while left < right and nums[left] == nums[left+1]:\n",
    "                        left += 1\n",
    "                    while left < right and nums[right] == nums[right-1]:\n",
    "                        right -= 1\n",
    "                    # 다음 가능한 조합을 찾기 위해 left와 right 모두를 이동시킵니다.\n",
    "                    left += 1\n",
    "                    right -= 1\n",
    "                    \n",
    "        return answer"
   ]
  },
  {
   "cell_type": "code",
   "execution_count": null,
   "id": "2c184b0f-5003-4cb8-b543-ef4c4fd3eaab",
   "metadata": {},
   "outputs": [],
   "source": [
    "class Solution:\n",
    "    def threeSum(self, nums: List[int]) -> List[List[int]]:\n",
    "        nums.sort()\n",
    "        answer = []\n",
    "        \n",
    "        for i in range(len(nums)-2):\n",
    "            if i > 0 and nums[i] == nums[i-1]:\n",
    "                continue\n",
    "            left = i+1\n",
    "            right = len(nums) - 1\n",
    "            while left < right:\n",
    "                summation = nums[i] + nums[left] + nums[right]\n",
    "                if summation < 0:\n",
    "                    left += 1\n",
    "                elif summation > 0:\n",
    "                    right -=1\n",
    "                else:\n",
    "                    answer.append([nums[i],nums[left],nums[right]])\n",
    "                    while left < right:\n",
    "                        if nums[left] == nums[left+1]:\n",
    "                            left += 1\n",
    "                        else:\n",
    "                            break\n",
    "                    while left < right:\n",
    "                        if nums[right] == nums[right-1]:\n",
    "                            right -= 1\n",
    "                        else:\n",
    "                            break\n",
    "                    left += 1\n",
    "                    right -= 1\n",
    "        return answer\n",
    "                                  "
   ]
  },
  {
   "cell_type": "markdown",
   "id": "9f1730e8-a082-44c6-85bb-ce00a49fbd52",
   "metadata": {},
   "source": [
    "중복 건너뛰기 로직 없이 집합 자료형으로도 풀리는데 시간이 더 오래 걸린다"
   ]
  },
  {
   "cell_type": "code",
   "execution_count": null,
   "id": "2dc2e783-bfcf-419e-aa4b-9a5c3adba7e8",
   "metadata": {},
   "outputs": [],
   "source": [
    "class Solution:\n",
    "    def threeSum(self, nums: List[int]) -> List[List[int]]:\n",
    "        nums.sort() \n",
    "        answer = set() \n",
    "        n = len(nums) \n",
    "        \n",
    "        for i in range(n-2):\n",
    "            left = i+1\n",
    "            right = n-1\n",
    "            while left < right:\n",
    "                summation = nums[i] + nums[left] + nums[right]\n",
    "                if summation == 0:\n",
    "                    answer.add((nums[i], nums[left], nums[right]))\n",
    "                    left += 1\n",
    "                    right -= 1\n",
    "                elif summation < 0:\n",
    "                    left += 1\n",
    "                else:\n",
    "                    right -=1\n",
    "        return answer"
   ]
  },
  {
   "cell_type": "markdown",
   "id": "0b6fdef9-f133-4041-be79-70055dc1328c",
   "metadata": {},
   "source": [
    "# 문8 빗물트래핑 h\n",
    "\n",
    "https://leetcode.com/problems/trapping-rain-water"
   ]
  },
  {
   "cell_type": "markdown",
   "id": "c7dd67fe-363e-4127-9097-07d95f5c92e0",
   "metadata": {},
   "source": [
    "![img](8.png)"
   ]
  },
  {
   "cell_type": "code",
   "execution_count": 53,
   "id": "a27a21de-6b0b-4f95-b803-2eba1c7ad2ad",
   "metadata": {
    "tags": []
   },
   "outputs": [],
   "source": [
    "def trap(height):\n",
    "    n = len(height)\n",
    "    left_max, right_max = [0]*n, [0]*n\n",
    "    water_trapped = 0\n",
    "\n",
    "    # 왼쪽에서 오른쪽으로 각 위치에서의 최대 높이를 계산합니다.\n",
    "    left_max[0] = height[0]\n",
    "    for i in range(1, n):\n",
    "        left_max[i] = max(height[i], left_max[i-1])\n",
    "    print(f'left_max : {left_max}')\n",
    "    # 오른쪽에서 왼쪽으로 각 위치에서의 최대 높이를 계산합니다.\n",
    "    right_max[n-1] = height[n-1]\n",
    "    for i in range(n-2, -1, -1):\n",
    "        right_max[i] = max(height[i], right_max[i+1])\n",
    "    print(f'right_max : {right_max}')\n",
    "    # 각 위치에서 물이 담길 수 있는 양을 계산합니다.\n",
    "    for i in range(n):\n",
    "        water_trapped += min(left_max[i], right_max[i]) - height[i]\n",
    "    return water_trapped"
   ]
  },
  {
   "cell_type": "code",
   "execution_count": 56,
   "id": "6d04e22e-0c3a-4e40-85ae-0c3799a7f139",
   "metadata": {
    "tags": []
   },
   "outputs": [
    {
     "name": "stdout",
     "output_type": "stream",
     "text": [
      "left_max : [4, 4, 4, 4, 4, 5]\n",
      "right_max : [5, 5, 5, 5, 5, 5]\n"
     ]
    },
    {
     "data": {
      "text/plain": [
       "9"
      ]
     },
     "execution_count": 56,
     "metadata": {},
     "output_type": "execute_result"
    }
   ],
   "source": [
    "height = [4,2,0,3,2,5]\n",
    "trap(height)"
   ]
  },
  {
   "cell_type": "code",
   "execution_count": 57,
   "id": "5b759362-98cc-4411-b9e3-f1e63ed183fe",
   "metadata": {
    "tags": []
   },
   "outputs": [
    {
     "name": "stdout",
     "output_type": "stream",
     "text": [
      "left_max : [0, 1, 1, 2, 2, 2, 2, 3, 3, 3, 3, 3]\n",
      "right_max : [3, 3, 3, 3, 3, 3, 3, 3, 2, 2, 2, 1]\n"
     ]
    },
    {
     "data": {
      "text/plain": [
       "6"
      ]
     },
     "execution_count": 57,
     "metadata": {},
     "output_type": "execute_result"
    }
   ],
   "source": [
    "height = [0,1,0,2,1,0,1,3,2,1,2,1]\n",
    "trap(height)"
   ]
  },
  {
   "cell_type": "markdown",
   "id": "125cd039-7f85-497b-986e-12333aa9adb7",
   "metadata": {},
   "source": [
    "### 책풀이1 투포인터 풀이\n",
    "이해 안됨"
   ]
  },
  {
   "cell_type": "code",
   "execution_count": null,
   "id": "be3cf150-cddc-46c5-8ea4-3f9c78c8571d",
   "metadata": {
    "tags": []
   },
   "outputs": [],
   "source": [
    "from typing import List\n",
    "\n",
    "# height = [0,1,0,2,1,0,1,3,2,1,2,1]\n",
    "class Solution:\n",
    "    def trap(self, height: List[int]) -> int:\n",
    "        if not height:  # 예외 처리\n",
    "            return 0\n",
    "\n",
    "        volume = 0\n",
    "        left, right = 0, len(height) - 1\n",
    "        \n",
    "        left_max = height[left]\n",
    "        right_max = height[right]\n",
    "\n",
    "        while left < right: # 두 포인터가 만날때까지 반복\n",
    "            left_max = max(height[left], left_max)    # 왼쪽 최대 높이 갱신\n",
    "            right_max = max(height[right], right_max) # 오른쪽 최대 높이 갱신\n",
    "            \n",
    "            if left_max <= right_max:             # 왼쪽 최대 높이보다 오른쪽 최대 높이가 높으면\n",
    "                volume = volume + (left_max - height[left]) # 왼쪽 낮은 쪽에서 높은 쪽\n",
    "                left += 1\n",
    "            else:\n",
    "                volume = volume + (right_max - height[right])\n",
    "                right -= 1\n",
    "        return volume"
   ]
  },
  {
   "cell_type": "markdown",
   "id": "7d599860-ab27-46ee-9a44-151db65b5983",
   "metadata": {},
   "source": [
    "### 책풀이2 스택 풀이\n",
    "이해 안됨"
   ]
  },
  {
   "cell_type": "code",
   "execution_count": null,
   "id": "3a62fd95-54eb-4954-901b-54c60a4dce65",
   "metadata": {
    "tags": []
   },
   "outputs": [],
   "source": [
    "class Solution:\n",
    "    def trap(self, height: List[int]) -> int:\n",
    "        stack = []\n",
    "        volume = 0\n",
    "\n",
    "        for i in range(len(height)):\n",
    "            # 변곡점을 만나는 경우`\n",
    "            while stack and height[i] > height[stack[-1]]:\n",
    "                # 스택에서 꺼낸다\n",
    "                top = stack.pop()\n",
    "\n",
    "                if not len(stack): # 스택이 비어 있으면 브레이크\n",
    "                    break\n",
    "\n",
    "                # 이전과의 차이만큼 물 높이 처리\n",
    "                distance = i - stack[-1] - 1\n",
    "                waters = min(height[i], height[stack[-1]]) - height[top]\n",
    "\n",
    "                volume += distance * waters\n",
    "\n",
    "            stack.append(i)\n",
    "        return volume"
   ]
  }
 ],
 "metadata": {
  "kernelspec": {
   "display_name": "tf",
   "language": "python",
   "name": "tf"
  },
  "language_info": {
   "codemirror_mode": {
    "name": "ipython",
    "version": 3
   },
   "file_extension": ".py",
   "mimetype": "text/x-python",
   "name": "python",
   "nbconvert_exporter": "python",
   "pygments_lexer": "ipython3",
   "version": "3.11.0"
  }
 },
 "nbformat": 4,
 "nbformat_minor": 5
}
