{
 "cells": [
  {
   "cell_type": "markdown",
   "id": "5005be8c-cdc3-4bfa-a7bb-932b15f529fd",
   "metadata": {},
   "source": [
    "# 7장 문자열"
   ]
  },
  {
   "cell_type": "markdown",
   "id": "e5d4ad65-0bf9-4922-afb3-cc917ae6345a",
   "metadata": {},
   "source": [
    "# 문1) 문자열 검색이란? 브루트 포스법이란? 구현방법\n",
    "\n",
    "텍스트에서 찾고자 하는 패턴과 일치하는 부분을 검색하는 것  \n",
    "  \n",
    "브루트 포스법 : 패턴과 텍스트가 모두 일치하는지  \n",
    "패턴의 인덱스를 하나씩 밀면서 매번 패턴의 모든 인덱스와 텍스트의 해당 인덱스를 비교하는 방법    \n",
    "\n",
    "    패턴과 텍스트가 어느정도 일치하다가 나중에 불일치하는 경우,\n",
    "    일치한 부분이 어느정도 있음에도 다시 이전 검사시작 부분에서 한칸 뒤로 이동해 검사하므로\n",
    "    효율이 좋지 않다."
   ]
  },
  {
   "cell_type": "markdown",
   "id": "7230c979-d9ec-4d96-bc30-488bc0176341",
   "metadata": {},
   "source": [
    "## 브루트 포스 법"
   ]
  },
  {
   "cell_type": "code",
   "execution_count": 16,
   "id": "83d25518-ff96-422e-8e1a-3c4402f0af9a",
   "metadata": {
    "tags": []
   },
   "outputs": [
    {
     "name": "stdout",
     "output_type": "stream",
     "text": [
      "pt : 5\n",
      "pp : 3\n",
      "패턴과 일치가 시작하는 위치는 txt의 2번째 인덱스 입니다\n"
     ]
    }
   ],
   "source": [
    "def bf_match(txt: str, pat: str) -> int:\n",
    "    \"\"\"브루트 포스법으로 문자열 검색\"\"\"\n",
    "    pt = 0  # txt(텍스트)를 따라가는 커서\n",
    "    pp = 0  # pat(패턴)를 따라가는 커서\n",
    "\n",
    "    while pt != len(txt) and pp != len(pat):\n",
    "        # pt != len(txt) and pp != len(pat) 의 반대는 pt == len(txt) or pp == len(pat) 이다.\n",
    "        # 즉 종료 조건은 pt == len(txt) or pp == len(pat) : 텍스트커서가 txt를 전부 봤거나, 문자열의 특정 부분과 패턴이 일치하거나 \n",
    "        \n",
    "        # 다시 말해 while pt != len(txt) and pp != len(pat): 의 의미는\n",
    "                     # 텍스트커서가 문자열을 다 보지 않았고, 패턴과 완전히 일치하는 문자열의 특정부분도 만나지 않았다면 계속 반복하라는 뜻.\n",
    "        # while문으로 pp != len(pat) 이것만 조건을 걸면 txt가 pat보다 짧은 경우 에러가 난다.\n",
    "\n",
    "        if txt[pt] == pat[pp]:\n",
    "            pt += 1\n",
    "            pp += 1\n",
    "        else:\n",
    "            pt = pt - pp + 1\n",
    "            pp = 0\n",
    "            \n",
    "    print(f'pt : {pt}')\n",
    "    print(f'pp : {pp}')\n",
    "\n",
    "    return print(f'패턴과 일치가 시작하는 위치는 txt의 {pt - pp if pp == len(pat) else -1}번째 인덱스 입니다')\n",
    "\n",
    "bf_match(\"ababcde\", \"abc\")"
   ]
  },
  {
   "cell_type": "markdown",
   "id": "38f979ce-5572-468e-bc7b-3923297ee8ec",
   "metadata": {},
   "source": [
    "#### pt = pt + 1   왜 이렇게 하면 안되는 거지?"
   ]
  },
  {
   "cell_type": "markdown",
   "id": "25e753f6-4bcd-44c0-b670-1a5de33e809b",
   "metadata": {},
   "source": [
    "### pt = pt - pp + 1  는\n",
    "### 텍스트와 패턴이 일치하다가 불일치하면, \n",
    "### 패턴이 일치한만큼을 텍스트커서에서 빼고 시프트한다.\n",
    "## 다시 말해 처음으로 돌아간다"
   ]
  },
  {
   "cell_type": "code",
   "execution_count": 57,
   "id": "cb3b6ff9-0f82-48ee-a7ca-4a06a861cc4c",
   "metadata": {
    "tags": []
   },
   "outputs": [
    {
     "name": "stdout",
     "output_type": "stream",
     "text": [
      "패턴 일치시 txt[pt] : A\n",
      "패턴 일치시 pat[pp] : A\n",
      "\n",
      "패턴 일치시 pt : 1\n",
      "패턴 일치시 pp : 1\n",
      "\n",
      "패턴 일치시 txt[pt] : B\n",
      "패턴 일치시 pat[pp] : B\n",
      "\n",
      "패턴 일치시 pt : 2\n",
      "패턴 일치시 pp : 2\n",
      "\n",
      "패턴 불일치시 txt[pt] : A\n",
      "패턴 불일치시 pat[pp] : C\n",
      "\n",
      "패턴 불일치시 pt : 1\n",
      "패턴 불일치시 pp : 0\n",
      "\n",
      "패턴 불일치시 txt[pt] : B\n",
      "패턴 불일치시 pat[pp] : A\n",
      "\n",
      "패턴 불일치시 pt : 2\n",
      "패턴 불일치시 pp : 0\n",
      "\n",
      "패턴 일치시 txt[pt] : A\n",
      "패턴 일치시 pat[pp] : A\n",
      "\n",
      "패턴 일치시 pt : 3\n",
      "패턴 일치시 pp : 1\n",
      "\n",
      "패턴 일치시 txt[pt] : B\n",
      "패턴 일치시 pat[pp] : B\n",
      "\n",
      "패턴 일치시 pt : 4\n",
      "패턴 일치시 pp : 2\n",
      "\n",
      "패턴 일치시 txt[pt] : C\n",
      "패턴 일치시 pat[pp] : C\n",
      "\n",
      "패턴 일치시 pt : 5\n",
      "패턴 일치시 pp : 3\n",
      "\n",
      "pt : 5\n",
      "pp : 3\n"
     ]
    }
   ],
   "source": [
    "txt = \"ABABC\"\n",
    "pat = \"ABC\"\n",
    "\n",
    "pt = 0  # txt(텍스트)를 따라가는 커서\n",
    "pp = 0  # pat(패턴)를 따라가는 커서\n",
    "\n",
    "while pt != len(txt) and pp != len(pat):\n",
    "    if txt[pt] == pat[pp]:\n",
    "        print(f'패턴 일치시 txt[pt] : {txt[pt]}'); print(f'패턴 일치시 pat[pp] : {pat[pp]}'); print()\n",
    "        pt += 1\n",
    "        pp += 1\n",
    "        print(f'패턴 일치시 pt : {pt}'); print(f'패턴 일치시 pp : {pp}'); print()\n",
    "    else:\n",
    "        print(f'패턴 불일치시 txt[pt] : {txt[pt]}'); print(f'패턴 불일치시 pat[pp] : {pat[pp]}'); print()\n",
    "        pt = pt - pp + 1   \n",
    "        pp = 0\n",
    "        print(f'패턴 불일치시 pt : {pt}'); print(f'패턴 불일치시 pp : {pp}'); print()\n",
    "        \n",
    "print(f'pt : {pt}')\n",
    "print(f'pp : {pp}')"
   ]
  },
  {
   "cell_type": "markdown",
   "id": "5332685a-60eb-4834-8852-6aac63d3bf6f",
   "metadata": {},
   "source": [
    "### pt = pt + 1  이렇게 하면 \n",
    "#### 텍스트에 패턴이 일치하든 불일치하든 텍스트 커서는 계속 앞으로 밀고 나가는데\n",
    "## 이렇게 하면 당연히 안된다. \n",
    "#### 불일치하면 텍스트 커서는 맨 처음 인덱스의 다음인덱스부터 패턴과 다시 맞춰봐야 하므로"
   ]
  },
  {
   "cell_type": "code",
   "execution_count": 59,
   "id": "c603ae7c-a7ee-496f-a40b-d1b4bcb0be1c",
   "metadata": {
    "tags": []
   },
   "outputs": [
    {
     "name": "stdout",
     "output_type": "stream",
     "text": [
      "패턴 일치시 txt[pt] : A\n",
      "패턴 일치시 pat[pp] : A\n",
      "\n",
      "패턴 일치시 pt : 1\n",
      "패턴 일치시 pp : 1\n",
      "\n",
      "패턴 일치시 txt[pt] : B\n",
      "패턴 일치시 pat[pp] : B\n",
      "\n",
      "패턴 일치시 pt : 2\n",
      "패턴 일치시 pp : 2\n",
      "\n",
      "패턴 불일치시 txt[pt] : A\n",
      "패턴 불일치시 pat[pp] : C\n",
      "\n",
      "패턴 불일치시 pt : 3\n",
      "패턴 불일치시 pp : 0\n",
      "\n",
      "패턴 불일치시 txt[pt] : B\n",
      "패턴 불일치시 pat[pp] : A\n",
      "\n",
      "패턴 불일치시 pt : 4\n",
      "패턴 불일치시 pp : 0\n",
      "\n",
      "패턴 불일치시 txt[pt] : C\n",
      "패턴 불일치시 pat[pp] : A\n",
      "\n",
      "패턴 불일치시 pt : 5\n",
      "패턴 불일치시 pp : 0\n",
      "\n",
      "pt : 5\n",
      "pp : 0\n"
     ]
    }
   ],
   "source": [
    "txt = \"ABABC\"\n",
    "pat = \"ABC\"\n",
    "\n",
    "pt = 0  # txt(텍스트)를 따라가는 커서\n",
    "pp = 0  # pat(패턴)를 따라가는 커서\n",
    "\n",
    "while pt != len(txt) and pp != len(pat):\n",
    "    if txt[pt] == pat[pp]:\n",
    "        print(f'패턴 일치시 txt[pt] : {txt[pt]}'); print(f'패턴 일치시 pat[pp] : {pat[pp]}'); print()\n",
    "        pt += 1\n",
    "        pp += 1\n",
    "        print(f'패턴 일치시 pt : {pt}'); print(f'패턴 일치시 pp : {pp}'); print()\n",
    "    else:\n",
    "        print(f'패턴 불일치시 txt[pt] : {txt[pt]}'); print(f'패턴 불일치시 pat[pp] : {pat[pp]}'); print()\n",
    "        pt = pt + 1   \n",
    "        pp = 0\n",
    "        print(f'패턴 불일치시 pt : {pt}'); print(f'패턴 불일치시 pp : {pp}'); print()\n",
    "        \n",
    "print(f'pt : {pt}')\n",
    "print(f'pp : {pp}')"
   ]
  },
  {
   "cell_type": "markdown",
   "id": "f193d312-8018-4918-a00b-7cb4bbe9b799",
   "metadata": {},
   "source": [
    "### pt = pt + 1 이 먹히는 경우는 아래처럼 \n",
    "#### 우연히 불이치 이후에 텍스트가 패턴과 동일한 경우밖에 없다."
   ]
  },
  {
   "cell_type": "code",
   "execution_count": 63,
   "id": "d72cbc9d-6bdf-443e-a386-79f12139cf95",
   "metadata": {
    "tags": []
   },
   "outputs": [
    {
     "name": "stdout",
     "output_type": "stream",
     "text": [
      "패턴 일치시 txt[pt] : A\n",
      "패턴 일치시 pat[pp] : A\n",
      "\n",
      "패턴 일치시 pt : 1\n",
      "패턴 일치시 pp : 1\n",
      "\n",
      "패턴 일치시 txt[pt] : B\n",
      "패턴 일치시 pat[pp] : B\n",
      "\n",
      "패턴 일치시 pt : 2\n",
      "패턴 일치시 pp : 2\n",
      "\n",
      "패턴 불일치시 txt[pt] : A\n",
      "패턴 불일치시 pat[pp] : C\n",
      "\n",
      "패턴 불일치시 pt : 3\n",
      "패턴 불일치시 pp : 0\n",
      "\n",
      "패턴 일치시 txt[pt] : A\n",
      "패턴 일치시 pat[pp] : A\n",
      "\n",
      "패턴 일치시 pt : 4\n",
      "패턴 일치시 pp : 1\n",
      "\n",
      "패턴 일치시 txt[pt] : B\n",
      "패턴 일치시 pat[pp] : B\n",
      "\n",
      "패턴 일치시 pt : 5\n",
      "패턴 일치시 pp : 2\n",
      "\n",
      "패턴 일치시 txt[pt] : C\n",
      "패턴 일치시 pat[pp] : C\n",
      "\n",
      "패턴 일치시 pt : 6\n",
      "패턴 일치시 pp : 3\n",
      "\n",
      "pt : 6\n",
      "pp : 3\n"
     ]
    }
   ],
   "source": [
    "txt = \"ABAABC\"\n",
    "pat = \"ABC\"\n",
    "\n",
    "pt = 0  # txt(텍스트)를 따라가는 커서\n",
    "pp = 0  # pat(패턴)를 따라가는 커서\n",
    "\n",
    "while pt != len(txt) and pp != len(pat):\n",
    "    if txt[pt] == pat[pp]:\n",
    "        print(f'패턴 일치시 txt[pt] : {txt[pt]}'); print(f'패턴 일치시 pat[pp] : {pat[pp]}'); print()\n",
    "        pt += 1\n",
    "        pp += 1\n",
    "        print(f'패턴 일치시 pt : {pt}'); print(f'패턴 일치시 pp : {pp}'); print()\n",
    "    else:\n",
    "        print(f'패턴 불일치시 txt[pt] : {txt[pt]}'); print(f'패턴 불일치시 pat[pp] : {pat[pp]}'); print()\n",
    "        pt = pt + 1   \n",
    "        pp = 0\n",
    "        print(f'패턴 불일치시 pt : {pt}'); print(f'패턴 불일치시 pp : {pp}'); print()\n",
    "        \n",
    "print(f'pt : {pt}')\n",
    "print(f'pp : {pp}')"
   ]
  },
  {
   "cell_type": "markdown",
   "id": "90844e37-0683-4c7f-8472-5aadcb378669",
   "metadata": {},
   "source": [
    "#### 텍스트 안에 패턴이 여러번 포함된 경우, 가장 앞쪽에 위치한 인덱스를 반환한다.\n",
    "    \n",
    "    return pt - pp if pp == len(pat) else -1"
   ]
  },
  {
   "cell_type": "code",
   "execution_count": 58,
   "id": "bfd0f018-da7b-4325-a338-bcc857d0c249",
   "metadata": {
    "tags": []
   },
   "outputs": [
    {
     "name": "stdout",
     "output_type": "stream",
     "text": [
      "패턴 일치시 txt[pt] : A\n",
      "패턴 일치시 pat[pp] : A\n",
      "\n",
      "패턴 일치시 pt : 1\n",
      "패턴 일치시 pp : 1\n",
      "\n",
      "패턴 일치시 txt[pt] : B\n",
      "패턴 일치시 pat[pp] : B\n",
      "\n",
      "패턴 일치시 pt : 2\n",
      "패턴 일치시 pp : 2\n",
      "\n",
      "pt : 2\n",
      "pp : 2\n"
     ]
    }
   ],
   "source": [
    "txt = \"ABABC\"\n",
    "pat = \"AB\"\n",
    "\n",
    "pt = 0  # txt(텍스트)를 따라가는 커서\n",
    "pp = 0  # pat(패턴)를 따라가는 커서\n",
    "\n",
    "while pt != len(txt) and pp != len(pat):\n",
    "    if txt[pt] == pat[pp]:\n",
    "        print(f'패턴 일치시 txt[pt] : {txt[pt]}'); print(f'패턴 일치시 pat[pp] : {pat[pp]}'); print()\n",
    "        pt += 1\n",
    "        pp += 1\n",
    "        print(f'패턴 일치시 pt : {pt}'); print(f'패턴 일치시 pp : {pp}'); print()\n",
    "    else:\n",
    "        print(f'패턴 불일치시 txt[pt] : {txt[pt]}'); print(f'패턴 불일치시 pat[pp] : {pat[pp]}'); print()\n",
    "        pt = pt - pp + 1   \n",
    "        pp = 0\n",
    "        print(f'패턴 불일치시 pt : {pt}'); print(f'패턴 불일치시 pp : {pp}'); print()\n",
    "        \n",
    "print(f'pt : {pt}')\n",
    "print(f'pp : {pp}')"
   ]
  },
  {
   "cell_type": "markdown",
   "id": "841d3969-f1b7-496a-8ddd-cc2f893aaacd",
   "metadata": {},
   "source": [
    "# 문2) find 함수, rfind 함수, index 함수, startswith 함수, endswith 함수 사용법"
   ]
  },
  {
   "cell_type": "markdown",
   "id": "c2a0c80b-6c0d-4227-9c57-fd8023f20791",
   "metadata": {
    "tags": []
   },
   "source": [
    "# 문자열 find 함수"
   ]
  },
  {
   "cell_type": "code",
   "execution_count": 72,
   "id": "05e740e8-67db-4acc-9af9-78b5257f07b5",
   "metadata": {
    "tags": []
   },
   "outputs": [
    {
     "data": {
      "text/plain": [
       "8"
      ]
     },
     "execution_count": 72,
     "metadata": {},
     "output_type": "execute_result"
    }
   ],
   "source": [
    "\"changholee\".find(\"e\")    # 문자열에서 찾고자 하는 패턴의 인덱스 반환. 가장 작은 인덱스를 반환. i.e. 전방검색"
   ]
  },
  {
   "cell_type": "code",
   "execution_count": 73,
   "id": "9b9cfb78-0bec-4139-8a86-bf62de0226db",
   "metadata": {
    "tags": []
   },
   "outputs": [
    {
     "data": {
      "text/plain": [
       "9"
      ]
     },
     "execution_count": 73,
     "metadata": {},
     "output_type": "execute_result"
    }
   ],
   "source": [
    "\"changholee\".rfind(\"e\")   # 문자열에서 찾고자 하는 패턴의 인덱스 반환. 가장 큰 인덱스를 반환. i.e. 후방검색"
   ]
  },
  {
   "cell_type": "markdown",
   "id": "0a6d2a03-b92f-461f-b686-1c68a520facd",
   "metadata": {
    "tags": []
   },
   "source": [
    "# 문자열 index 함수"
   ]
  },
  {
   "cell_type": "code",
   "execution_count": 77,
   "id": "a82235b6-a30d-4852-b87f-aca30916a54e",
   "metadata": {
    "tags": []
   },
   "outputs": [
    {
     "data": {
      "text/plain": [
       "8"
      ]
     },
     "execution_count": 77,
     "metadata": {},
     "output_type": "execute_result"
    }
   ],
   "source": [
    "\"changholee\".index(\"e\")"
   ]
  },
  {
   "cell_type": "code",
   "execution_count": 79,
   "id": "6345d153-5a07-4fe4-9625-619ef918c422",
   "metadata": {
    "tags": []
   },
   "outputs": [
    {
     "data": {
      "text/plain": [
       "9"
      ]
     },
     "execution_count": 79,
     "metadata": {},
     "output_type": "execute_result"
    }
   ],
   "source": [
    "\"changholee\".rindex(\"e\") "
   ]
  },
  {
   "cell_type": "markdown",
   "id": "20787a01-b28c-42e8-8ce6-653ac7ef8e27",
   "metadata": {},
   "source": [
    "find() 와 index()의 차이는 없는 패턴을 검색했을 때\n",
    "\n",
    "    find는 -1 반환\n",
    "    index는 ValueError 일으킴\n",
    "        따라서 index는 따로 예외처리를 해줘야 함"
   ]
  },
  {
   "cell_type": "code",
   "execution_count": 81,
   "id": "b64a6ae9-3f94-4e55-a6f0-00e545110764",
   "metadata": {
    "tags": []
   },
   "outputs": [
    {
     "data": {
      "text/plain": [
       "-1"
      ]
     },
     "execution_count": 81,
     "metadata": {},
     "output_type": "execute_result"
    }
   ],
   "source": [
    "\"changholee\".find(\"p\")  "
   ]
  },
  {
   "cell_type": "code",
   "execution_count": 82,
   "id": "29c9c956-a03a-41dc-aa8b-f8df0346d1b0",
   "metadata": {
    "tags": []
   },
   "outputs": [
    {
     "ename": "ValueError",
     "evalue": "substring not found",
     "output_type": "error",
     "traceback": [
      "\u001b[0;31m---------------------------------------------------------------------------\u001b[0m",
      "\u001b[0;31mValueError\u001b[0m                                Traceback (most recent call last)",
      "Cell \u001b[0;32mIn[82], line 1\u001b[0m\n\u001b[0;32m----> 1\u001b[0m \u001b[38;5;124m\"\u001b[39m\u001b[38;5;124mchangholee\u001b[39m\u001b[38;5;124m\"\u001b[39m\u001b[38;5;241m.\u001b[39mindex(\u001b[38;5;124m\"\u001b[39m\u001b[38;5;124mp\u001b[39m\u001b[38;5;124m\"\u001b[39m)\n",
      "\u001b[0;31mValueError\u001b[0m: substring not found"
     ]
    }
   ],
   "source": [
    "\"changholee\".index(\"p\")"
   ]
  },
  {
   "cell_type": "code",
   "execution_count": 85,
   "id": "003118f4-56b6-44cb-afbc-e5572ccbfa7e",
   "metadata": {
    "tags": []
   },
   "outputs": [
    {
     "name": "stdout",
     "output_type": "stream",
     "text": [
      "Not found\n"
     ]
    }
   ],
   "source": [
    "try:\n",
    "    print(\"changholee\".index(\"p\"))\n",
    "except ValueError:\n",
    "    print(\"Not found\")"
   ]
  },
  {
   "cell_type": "markdown",
   "id": "62eb1f49-a150-4cb4-a8ba-9c94dab07523",
   "metadata": {},
   "source": [
    "# 문자열 startswith 함수 "
   ]
  },
  {
   "cell_type": "code",
   "execution_count": 88,
   "id": "c1fd995a-6156-4cae-b356-eb4e720bfcf9",
   "metadata": {
    "tags": []
   },
   "outputs": [
    {
     "data": {
      "text/plain": [
       "True"
      ]
     },
     "execution_count": 88,
     "metadata": {},
     "output_type": "execute_result"
    }
   ],
   "source": [
    "\"changholee\".startswith(\"ch\")"
   ]
  },
  {
   "cell_type": "markdown",
   "id": "846f76c5-63c0-4c63-b9c4-a9241fd6bed2",
   "metadata": {
    "tags": []
   },
   "source": [
    "# 문자열 endswith 함수 "
   ]
  },
  {
   "cell_type": "code",
   "execution_count": 90,
   "id": "65785326-ece8-4222-be98-abd9c1c40932",
   "metadata": {
    "tags": []
   },
   "outputs": [
    {
     "data": {
      "text/plain": [
       "True"
      ]
     },
     "execution_count": 90,
     "metadata": {},
     "output_type": "execute_result"
    }
   ],
   "source": [
    "\"changholee\".endswith(\"lee\")"
   ]
  },
  {
   "cell_type": "code",
   "execution_count": null,
   "id": "3d86f6ff-5fac-48d2-9f4f-64b364347f4f",
   "metadata": {},
   "outputs": [],
   "source": []
  }
 ],
 "metadata": {
  "kernelspec": {
   "display_name": "tf",
   "language": "python",
   "name": "tf"
  },
  "language_info": {
   "codemirror_mode": {
    "name": "ipython",
    "version": 3
   },
   "file_extension": ".py",
   "mimetype": "text/x-python",
   "name": "python",
   "nbconvert_exporter": "python",
   "pygments_lexer": "ipython3",
   "version": "3.11.0"
  }
 },
 "nbformat": 4,
 "nbformat_minor": 5
}
