{
 "cells": [
  {
   "cell_type": "code",
   "execution_count": null,
   "id": "5beb3d33-f0a4-43fe-af05-2d2620708083",
   "metadata": {},
   "outputs": [],
   "source": []
  },
  {
   "cell_type": "code",
   "execution_count": null,
   "id": "cb85f888-4489-4952-9e70-ca1e0189ce39",
   "metadata": {},
   "outputs": [],
   "source": []
  },
  {
   "cell_type": "markdown",
   "id": "1a393255-3ef5-4e36-bf30-f5d6f83408b4",
   "metadata": {},
   "source": [
    "# 7장 문자열 보이어 무어법"
   ]
  },
  {
   "cell_type": "code",
   "execution_count": 1,
   "id": "d624f136-b79b-4ee6-8727-df0d9c48deda",
   "metadata": {
    "tags": []
   },
   "outputs": [
    {
     "data": {
      "text/plain": [
       "9.846153846153847"
      ]
     },
     "execution_count": 1,
     "metadata": {},
     "output_type": "execute_result"
    }
   ],
   "source": [
    "256/26"
   ]
  },
  {
   "cell_type": "code",
   "execution_count": 2,
   "id": "16660643-367a-48d0-af9d-2031ce3ee89a",
   "metadata": {
    "tags": []
   },
   "outputs": [
    {
     "data": {
      "text/plain": [
       "64.0"
      ]
     },
     "execution_count": 2,
     "metadata": {},
     "output_type": "execute_result"
    }
   ],
   "source": [
    "256/4"
   ]
  },
  {
   "cell_type": "markdown",
   "id": "3f3b8f11-eb55-4eb3-b7bf-529669d637a6",
   "metadata": {},
   "source": [
    "# 문6) 보이어 무어법이란?\n",
    "문자열에 패턴을 대고  \n",
    "패턴의 끝에서부터 왼쪽으로 패턴과 문자열을 비교해 나간다. 이때\n",
    "    \n",
    "    A. 문자가 패턴의 끝과 일치하는 경우\n",
    "        패턴길이가 n일 때 n-k-1만큼 패턴을 오른쪽으로 이동시킨 후, 다시 패턴의 끝과 문자열을 비교 \n",
    "            (k는 패턴의 끝과 일치한 문자가 패턴에도 나오는 경우,\n",
    "            패턴내에서 가장 마지막에 등장할 때의 패턴길이상에서의 인덱스값)\n",
    "                따라서 패턴의 끝과 일치한 문자가 패턴내에 중복되어 있든 아니든, \n",
    "                패턴의 끝과 일치한 문자는 패턴내에서 가장 마지막에 등장한 문자이므로\n",
    "                n-k-1 = 0이 되어 \n",
    "                패턴을 이동시키지 않고 왼쪽방향으로 일치여부를 비교해나가게 된다.\n",
    "                계속 비교해서 모두 일치하면 검색성공.\n",
    "                일치하지 않으면, 아래 \"문자가 패턴의 끝과 일치하지 않는 경우B\" 에서 판단\n",
    "                ex) B.1 text DEZCQW\n",
    "                        pat  ABAC       C에선 일치하는데 A에서 Z와 불일치하고 Z는 패턴에 없으므로\n",
    "                                ABAC    오른쪽으로 3칸 이동\n",
    "                ex) B.2 text DWBCQW\n",
    "                        pat  ABAC        C에서 일치하는데 A에서 B와 불일치하고 하지만 B는 패턴에 있으므로 \n",
    "                              ABAC       오른쪽으로 1칸 이동  \n",
    "        \n",
    "    B. 문자가 패턴의 끝과 일치하지 않는 경우\n",
    "        1.일치하지 않은 문자가 패턴안에도 없는 경우\n",
    "         패턴길이가 n일 때 n만큼 패턴을 점프시키고 다시 패턴의 끝과 문자열을 비교\n",
    "            ex) text WERYERTT\n",
    "                pat  ABAC       C와 B가 불일치하고 Y는 패턴 내에 없으므로  \n",
    "                         ABAC   패턴길이 4만큼 이동 \n",
    "        \n",
    "        2. 일치하지 않은 문자가 패턴안에 있는 경우\n",
    "        패턴길이가 n일때 n-k-1 만큼 패턴을 오른쪽으로 이동시킨후, 다시 패턴의 끝과 문자열을 비교\n",
    "            (k는 패턴의 끝과 일치한 문자가 패턴에도 나오는 경우, \n",
    "            패턴내에서 가장 마지막에 등장할 때의 패턴길이상에서의 인덱스값)\n",
    "            ex) text CABAW\n",
    "                pat  ABAC\n",
    "                      ABAC  n-k-1 = 1 따라서 오른쪽으로 1칸 이동\n",
    "        "
   ]
  },
  {
   "cell_type": "markdown",
   "id": "ee85e3e3-855d-4927-bda3-c932e571cf4d",
   "metadata": {},
   "source": [
    "# 문7) 보이어무어 구현방법"
   ]
  },
  {
   "cell_type": "code",
   "execution_count": 10,
   "id": "46b2bbcb-3930-409a-919d-0af314ee2a51",
   "metadata": {},
   "outputs": [],
   "source": [
    "def bm_match(txt: str, pat: str) -> int:\n",
    "    \"\"\"보이어 무어법에 의한 문자열 검색\"\"\"\n",
    "    skip = [None] * 256  # 건너뛰기 표\n",
    "\n",
    "    # 건너뛰기 표 만들기\n",
    "    for pt in range(256):\n",
    "        skip[pt] = len(pat)    # 모든 문자에 대해 패턴의 이동량을 일단 패턴 길이만큼 다 채우고\n",
    "    for pt in range(len(pat)):\n",
    "        skip[ord(pat[pt])] = len(pat) - pt - 1  # 패턴의 문자들을 유니코드 숫자로 바꿔서 해당 숫자를 점프테이블의 인덱스로 사용. \n",
    "                                                # 패턴이 텍스트에서 패턴에 포함된 문자들을 만났을 때 이동량은\n",
    "                                                # 패턴 길이-해당 문자 패턴내에서 가장 마지막에 등장할 때의 패턴 길이상에서의 인덱스값-1 \n",
    "    # 검색하기\n",
    "    while pt < len(txt):          # 검색 대상 텍스트를 다 볼때까지 반복\n",
    "        pp = len(pat) - 1         # 패턴의 끝부터 보기 위해 길이-1을 해서 패턴의 마지막 인덱스를 pp가 참조\n",
    "        while txt[pt] == pat[pp]: # pt도 위 for문의 range 함수 때문에 len(pat)-1 로 초기화 돼 있음 \n",
    "            if pp == 0:           # 문자와 패턴이 일치할 때, 계속 비교해서 계속 일치하면 검색 성공\n",
    "                return pt\n",
    "            pt -= 1\n",
    "            pp -= 1\n",
    "        if skip[ord(txt[pt])] > len(pat) - pp:  # 패턴과 문자가 불일치 하면 패턴을 미는데(pt값이 올라가면 패턴이 오른쪽으로 밀리는 것과 같다) \n",
    "            pt+=skip[ord(txt[pt])]               # 불일치한 부분의 문자가 패턴에 없으면, skip[ord(txt[pt])] 값은 패턴의 길이와 같고, 그 값은 항상 len(pat)-pp보다 크므로,\n",
    "                                                  # 비교가 멈춘 곳(패턴과 문자가 불일치한 곳부터)패턴길이만큼 오른쪽으로 밀고\n",
    "        else:                                   # 불일치한 부분의 문자가 패턴에 있으면, skip[ord(txt[pt])] 값은 len(pat)-pp보다 항상 같거나 작으므로, \n",
    "            pt+=len(pat) - pp                    # (패턴길이-해당문자의 패턴상의 인덱스)만큼 다시 말해 (len(pat) - pp)만큼 오른쪽으로 민다. 결과적으로 패턴과 문자가 불일치한 곳, 패턴내 해당 문자가 있는 곳을 일치시키는 것과 같다 \n",
    "                                                   # 여기서 이동량이 n-k-1 이 아니라 n-k가 되는 이유는?                                                            \n",
    "    return -1                                                                  "
   ]
  },
  {
   "cell_type": "markdown",
   "id": "d0ecfe53-293f-4d4b-8a52-a0f23d37b030",
   "metadata": {},
   "source": [
    "### 코드 작동 흐름\n",
    "A.B.1 case\n",
    "\n",
    "    idx  0  1  2  3  4  5\n",
    "    text D  E  Z  C  W  Q\n",
    "    pat  A  B  A  C\n",
    "    \n",
    "    skip[\"A\"] = 4-2-1 = 1 \n",
    "    skip[\"B\"] = 4-1-1 = 2\n",
    "    skip[\"C\"] = 4-3-1 = 0\n",
    "    skip[\"나머지알파벳\"] = 4\n",
    "    \n",
    "    idx  0  1  2  3  4  5  6  7\n",
    "    text D  E  Z  C  W  Q  T  Y\n",
    "    pat  A  B  A  C\n",
    "                  pt\n",
    "                  pp\n",
    "               pt\n",
    "               pp\n",
    "               skip[\"Z\"] = 4 > len(pat)-pp = 2 따라서 pt=2+4=6\n",
    "    idx  0  1  2  3  4  5  6  7           \n",
    "    text D  E  Z  C  W  Q  T  Y\n",
    "    pat  A  B  A  C                  \n",
    "                  pp       pt  이건 곧\n",
    "                  \n",
    "    text D  E  Z  C  W  Q  T  Y             \n",
    "    pat           A  B  A  C  오른쪽으로 3칸 민것과 같다.    \n",
    "    \n",
    "A.B.2 case    \n",
    "\n",
    "    idx  0  1  2  3  4  5\n",
    "    text D  W  B  C  W  Q\n",
    "    pat  A  B  A  C\n",
    "    \n",
    "    skip[\"A\"] = 4-2-1 = 1 \n",
    "    skip[\"B\"] = 4-1-1 = 2\n",
    "    skip[\"C\"] = 4-3-1 = 0\n",
    "    skip[\"나머지알파벳\"] = 4\n",
    "    \n",
    "    idx  0  1  2  3  4  5\n",
    "    text D  W  B  C  W  Q\n",
    "    pat  A  B  A  C\n",
    "                  pt\n",
    "                  pp\n",
    "               pt\n",
    "               pp\n",
    "               skip[\"B\"] = 2 > len(pat)-pp = 2는 틀렸으므로, len(pat)-pp = 2 만큼 pt에 더해준다. 따라서 pt = 4\n",
    "    idx  0  1  2  3  4  5\n",
    "    text D  W  B  C  W  Q\n",
    "    pat  A  B  A  C    \n",
    "                  pp pt    이건 곧\n",
    "                  \n",
    "    idx  0  1  2  3  4  5\n",
    "    text D  W  B  C  W  Q\n",
    "    pat     A  B  A  C    오른쪽으로 한칸 민것과 같다.             \n",
    "    "
   ]
  },
  {
   "cell_type": "markdown",
   "id": "f929208f-7ea3-489f-a82d-07f98f59ca92",
   "metadata": {
    "tags": []
   },
   "source": [
    "# 문8) KMP와 보이어무어 비교\n",
    "\n",
    "패턴의 특성:\n",
    "\n",
    "    KMP는 패턴 내의 반복되는 부분을 효율적으로 처리할 수 있는 알고리즘입니다. \n",
    "    따라서 패턴에 중복되는 부분이 많은 경우 KMP가 더 효율적일 수 있습니다.\n",
    "\n",
    "    보이어-무어는 패턴의 끝에서 시작하여 문자를 비교합니다.\n",
    "    패턴이 긴데  패턴에 중복이 적고, 특히 패턴의 끝 부분이 텍스트 내에서 드물게 나타나는 경우 이 알고리즘이 더 빠를 수 있습니다.\n",
    "\n",
    "\n",
    "텍스트의 특성:\n",
    "\n",
    "    텍스트가 매우 긴 경우, 보이어-무어 알고리즘이 불일치 발생 시 큰 점프를 통해 검색 시간을 단축시킬 수 있습니다.\n",
    "    텍스트 내에 패턴과 유사한 부분이 많은 경우, KMP는 부분적인 일치를 더 효율적으로 처리할 수 있습니다."
   ]
  },
  {
   "cell_type": "code",
   "execution_count": null,
   "id": "b6257530-169c-48fd-b365-d09311d0738f",
   "metadata": {},
   "outputs": [],
   "source": []
  }
 ],
 "metadata": {
  "kernelspec": {
   "display_name": "tf",
   "language": "python",
   "name": "tf"
  },
  "language_info": {
   "codemirror_mode": {
    "name": "ipython",
    "version": 3
   },
   "file_extension": ".py",
   "mimetype": "text/x-python",
   "name": "python",
   "nbconvert_exporter": "python",
   "pygments_lexer": "ipython3",
   "version": "3.11.0"
  }
 },
 "nbformat": 4,
 "nbformat_minor": 5
}
