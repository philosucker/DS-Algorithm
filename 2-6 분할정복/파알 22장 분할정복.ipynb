{
 "cells": [
  {
   "cell_type": "markdown",
   "id": "c11f7129-9147-4ad3-9846-89bbf6fc12a9",
   "metadata": {},
   "source": [
    "### e: 83\n",
    "### m: 84"
   ]
  },
  {
   "cell_type": "markdown",
   "id": "bfd4c4ae-8c16-46de-8b70-784eb892b8c1",
   "metadata": {},
   "source": [
    "# 22장 분할정복"
   ]
  },
  {
   "cell_type": "markdown",
   "id": "2a6a5899-4fba-4a1f-9df3-6b67bbc346be",
   "metadata": {},
   "source": [
    "분할정복 사례\n",
    "\n",
    "    자료구조 책 6장 퀵정렬, 병합정렬, \n",
    "    자료구조 책 5장 재귀에서 GCD, 하노이의탑, 8퀸 문제\n",
    "    \n",
    "    파알14장 문50 정렬된 배열의 이진탐색트리 변환"
   ]
  },
  {
   "cell_type": "markdown",
   "id": "47aa712d-f7b1-4c63-96d5-189b683b8d93",
   "metadata": {},
   "source": [
    "![퀵병합](quick_merge.png)"
   ]
  },
  {
   "cell_type": "markdown",
   "id": "60b38505-1023-4f57-b941-ca07f42f3a5a",
   "metadata": {},
   "source": [
    "    퀵정렬\n",
    "        문제를 해결하고 (정복)\n",
    "        작은 단위의 부분 문제로 나누고 (분할)\n",
    "        재귀호출 단계에서 정복과 분할이 반복\n",
    "    병합정렬 \n",
    "        문제를 가장 작은 단위의 부분 문제로 나눠서 (분할) >>> 함수 내에 재귀호출 반복\n",
    "        해결하고 (정복) >>> 재귀 호출 이후(이외) 부분\n",
    "        호출된 것들이 계속 닫혀 올라가면서 (조합) (정복) 반복 구조"
   ]
  },
  {
   "cell_type": "markdown",
   "id": "04915b1e-7af2-4f8b-9650-05af160404f5",
   "metadata": {},
   "source": [
    "# 문83 과반수 엘리먼트 e\n",
    "https://leetcode.com/problems/majority-element/"
   ]
  },
  {
   "cell_type": "code",
   "execution_count": null,
   "id": "5ee599b5-37f3-430d-b26d-47f4cc6b328e",
   "metadata": {},
   "outputs": [],
   "source": [
    "Given an array nums of size n, return the majority element.\n",
    "The majority element is the element that appears more than ⌊n / 2⌋ times. \n",
    "You may assume that the majority element always exists in the array.\n",
    "\n",
    "Example 1:\n",
    "\n",
    "Input: nums = [3,2,3]\n",
    "Output: 3\n"
   ]
  },
  {
   "cell_type": "markdown",
   "id": "360018e2-64b0-423d-b0ff-fa01bc185947",
   "metadata": {},
   "source": [
    "### 내 풀이"
   ]
  },
  {
   "cell_type": "code",
   "execution_count": 21,
   "id": "065949c4-fd12-4a08-98f5-7432d01d6e26",
   "metadata": {
    "tags": []
   },
   "outputs": [],
   "source": [
    "import collections\n",
    "from typing import List\n",
    "\n",
    "class Solution:\n",
    "    def majorityElement(self, nums: List[int]) -> int:\n",
    "        \n",
    "        size = len(nums)\n",
    "        counter = collections.Counter(nums)\n",
    "        if counter.most_common(1)[0][1] > size//2:\n",
    "            return counter.most_common(1)[0][0]     "
   ]
  },
  {
   "cell_type": "markdown",
   "id": "3944bb69-87e2-4c7d-90e2-4d63bb927a4b",
   "metadata": {},
   "source": [
    "문제조건에선 다수의 원소가 반드시 존재한다고 했으므로 바로 정답을 return해도 된다\n",
    "```python\n",
    "class Solution:\n",
    "    def majorityElement(self, nums: List[int]) -> int:\n",
    "        counter = collections.Counter(nums)\n",
    "        return counter.most_common(1)[0][0]    \n",
    "```"
   ]
  },
  {
   "cell_type": "markdown",
   "id": "725fc49e-7a7c-4a4e-b5cf-9d56509aa1a8",
   "metadata": {},
   "source": [
    "### chatGPT 풀이\n",
    "보이어무어법"
   ]
  },
  {
   "cell_type": "code",
   "execution_count": null,
   "id": "25d15435-d041-4628-a42a-db477da7b79a",
   "metadata": {},
   "outputs": [],
   "source": [
    "class Solution:\n",
    "    def majorityElement(self, nums: List[int]) -> int:\n",
    "        candidate = None\n",
    "        count = 0\n",
    "        \n",
    "        for num in nums:\n",
    "            if count == 0:\n",
    "                candidate = num\n",
    "                count = 1\n",
    "            elif candidate == num:\n",
    "                count += 1\n",
    "            else:\n",
    "                count -= 1\n",
    "        \n",
    "        # 문제의 조건에 따라 다수의 원소가 반드시 존재한다고 가정한다면,\n",
    "        # 아래 if문 생략 후 candidate 만 return해도 된다\n",
    "        return candidate if nums.count(candidate) > len(nums) // 2 else None"
   ]
  },
  {
   "cell_type": "code",
   "execution_count": null,
   "id": "845872d9-b192-4543-89cb-749eb40318fd",
   "metadata": {},
   "outputs": [],
   "source": [
    "class Solution:\n",
    "    def majorityElement(self, nums: List[int]) -> int:\n",
    "        nums.sort()\n",
    "        return nums[len(nums) // 2]"
   ]
  },
  {
   "cell_type": "markdown",
   "id": "f4a81cc8-26aa-4190-aa9b-b33764e6181e",
   "metadata": {
    "tags": []
   },
   "source": [
    "제가 제시한 중앙값을 반환하는 방법은 \n",
    "배열 내에 다수의 원소가 반드시 존재한다는 조건 아래에서 작동하는 일반적인 해결책입니다. \n",
    "이 방법은 배열 nums에 정수의 종류가 몇 개든지 간에 적용할 수 있습니다. \n",
    "배열이 정렬되면, 다수의 원소는 반드시 배열의 중간에 위치하게 됩니다.\n",
    "왜냐하면 다수의 원소가 배열의 절반 이상을 차지하기 때문에,\n",
    "어떤 방식으로든 중간 지점을 포함하게 되기 때문입니다."
   ]
  },
  {
   "cell_type": "markdown",
   "id": "7025e8cd-d6f5-40ed-af91-789331c51e6e",
   "metadata": {},
   "source": [
    "### 다른 풀이"
   ]
  },
  {
   "cell_type": "code",
   "execution_count": 14,
   "id": "39763908-71b8-4b43-b719-0bc5d1b7fcf0",
   "metadata": {
    "tags": []
   },
   "outputs": [],
   "source": [
    "class Solution:\n",
    "    def majorityElement(self, nums: List[int]) -> int:\n",
    "        n = len(nums)\n",
    "        m = defaultdict(int)\n",
    "        \n",
    "        for num in nums:  \n",
    "            m[num] += 1\n",
    "        \n",
    "        n = n // 2\n",
    "        for key, value in m.items():\n",
    "            if value > n:\n",
    "                return key\n",
    "        \n",
    "        return 0"
   ]
  },
  {
   "cell_type": "markdown",
   "id": "f7cd3173-53a8-4094-ad3a-b79a12f7e240",
   "metadata": {},
   "source": [
    "defaultdict(int)의 사용은,  \n",
    "키에 대응하는 값이 없을 때 자동으로 초기값을 생성해주는 기능을 활용한 것입니다.   \n",
    "이 경우, int를 호출함으로써 기본값으로 0을 설정합니다.   \n",
    "따라서 m[num] += 1은 num 키에 대응하는 값이 없을 경우 자동으로 0을 생성하고,  \n",
    "그 값을 1 증가시킵니다.   \n",
    "이는 각 숫자의 출현 횟수를 계산하기 위해 필요한 작업을 간소화합니다.  "
   ]
  },
  {
   "cell_type": "code",
   "execution_count": 29,
   "id": "bb9722cc-5cc4-4c86-8fe6-cecba3ab8037",
   "metadata": {
    "tags": []
   },
   "outputs": [
    {
     "data": {
      "text/plain": [
       "defaultdict(int, {3: 2, 2: 1})"
      ]
     },
     "execution_count": 29,
     "metadata": {},
     "output_type": "execute_result"
    }
   ],
   "source": [
    "from collections import defaultdict\n",
    "\n",
    "nums = [3,2,3]\n",
    "n = len(nums)\n",
    "m = defaultdict(int)\n",
    "\n",
    "for num in nums:\n",
    "    m[num] += 1\n",
    "m"
   ]
  },
  {
   "cell_type": "code",
   "execution_count": 26,
   "id": "6044c1b8-ba88-4f90-adee-f9789a4ed71f",
   "metadata": {
    "tags": []
   },
   "outputs": [
    {
     "data": {
      "text/plain": [
       "defaultdict(int, {})"
      ]
     },
     "execution_count": 26,
     "metadata": {},
     "output_type": "execute_result"
    }
   ],
   "source": [
    "nums = [3,2,3]\n",
    "n = len(nums)\n",
    "m = defaultdict(int)\n",
    "m"
   ]
  },
  {
   "cell_type": "code",
   "execution_count": 27,
   "id": "9c35df9e-02de-4af0-93a8-59289cfb4c16",
   "metadata": {
    "tags": []
   },
   "outputs": [
    {
     "data": {
      "text/plain": [
       "0"
      ]
     },
     "execution_count": 27,
     "metadata": {},
     "output_type": "execute_result"
    }
   ],
   "source": [
    "m[3]"
   ]
  },
  {
   "cell_type": "code",
   "execution_count": 28,
   "id": "7fb197b4-f21b-4d80-bf0a-575e01571af1",
   "metadata": {
    "tags": []
   },
   "outputs": [
    {
     "data": {
      "text/plain": [
       "defaultdict(int, {3: 1})"
      ]
     },
     "execution_count": 28,
     "metadata": {},
     "output_type": "execute_result"
    }
   ],
   "source": [
    "m[3] = m[3]+1\n",
    "m"
   ]
  },
  {
   "cell_type": "code",
   "execution_count": 31,
   "id": "6f0f0d5c-a4a4-481c-a41e-5ae44da7e75f",
   "metadata": {
    "tags": []
   },
   "outputs": [
    {
     "data": {
      "text/plain": [
       "[1]"
      ]
     },
     "execution_count": 31,
     "metadata": {},
     "output_type": "execute_result"
    }
   ],
   "source": [
    "n = [1]\n",
    "n[:1]"
   ]
  },
  {
   "cell_type": "markdown",
   "id": "a47fa1b1-df34-45e1-b657-2ed4ed4aa44a",
   "metadata": {},
   "source": [
    "### 책 풀이"
   ]
  },
  {
   "cell_type": "markdown",
   "id": "72a17e95-22a4-4f68-84aa-085d7de79506",
   "metadata": {},
   "source": [
    "brute force"
   ]
  },
  {
   "cell_type": "code",
   "execution_count": 15,
   "id": "7ba3730f-4325-4e6a-a019-e9d58d502cb1",
   "metadata": {
    "tags": []
   },
   "outputs": [],
   "source": [
    "def majorityElement(nums: List[int]) -> int:\n",
    "    \n",
    "    for num in nums:\n",
    "        if nums.count(num) > len(nums) // 2:\n",
    "            return num"
   ]
  },
  {
   "cell_type": "markdown",
   "id": "39e981c1-4da8-434d-88b0-6afef2945326",
   "metadata": {},
   "source": [
    "이 방법의 주된 문제점은  \n",
    "nums.count(num) 호출이 각 숫자마다 배열 전체를 다시 순회하게 되므로,  \n",
    "시간 복잡도가 O(n^2)가 됩니다. 이는 대규모 배열에서 매우 비효율적  "
   ]
  },
  {
   "cell_type": "markdown",
   "id": "8d22a1b0-9eb6-46ec-a5e8-3e6f7df2b383",
   "metadata": {
    "tags": []
   },
   "source": [
    "### 분할정복"
   ]
  },
  {
   "cell_type": "code",
   "execution_count": null,
   "id": "4b8aed95-aa47-48c8-bea2-eb4bdfc778d0",
   "metadata": {},
   "outputs": [],
   "source": [
    "class Solution:\n",
    "    def majorityElement(self, nums: List[int]) -> int:\n",
    "        def majority_element_rec(lo, hi):\n",
    "            # 기저 사례: 하나의 원소만 있는 경우\n",
    "            if lo == hi:\n",
    "                return nums[lo]\n",
    "\n",
    "            # 배열을 두 부분으로 나눔\n",
    "            mid = (hi-lo) // 2 + lo\n",
    "            left = majority_element_rec(lo, mid)\n",
    "            right = majority_element_rec(mid+1, hi)\n",
    "\n",
    "            # 만약 두 부분의 다수의 원소가 같다면, 그 원소를 반환\n",
    "            if left == right:\n",
    "                return left\n",
    "\n",
    "            # 왼쪽 부분과 오른쪽 부분에서 각각의 다수의 원소의 개수를 세어 더 많은 쪽을 반환\n",
    "            left_count = sum(1 for i in range(lo, hi+1) if nums[i] == left)\n",
    "            right_count = sum(1 for i in range(lo, hi+1) if nums[i] == right)\n",
    "\n",
    "            return left if left_count > right_count else right\n",
    "\n",
    "        return majority_element_rec(0, len(nums) - 1)\n"
   ]
  },
  {
   "cell_type": "markdown",
   "id": "e861e625-94a9-4aa7-9495-8e5b5aec1ee0",
   "metadata": {},
   "source": [
    "if left == right: 조건문은 중요한 최적화 포인트입니다.  \n",
    "이 조건문이 수행하는 역할을 자세히 살펴보겠습니다.  \n",
    "  \n",
    "분할 정복 알고리즘에서 배열을 두 부분으로 나누어 각 부분의 다수의 원소를 찾은 후,  \n",
    "두 부분이 같은 다수의 원소를 가지고 있는지 확인합니다.  \n",
    "만약 두 부분이 같은 다수의 원소(left와 right가 동일)를 가지고 있다면,  \n",
    "그 원소는 전체 배열에서도 다수의 원소임이 분명합니다.   \n",
    "이 경우, 추가적인 카운트 계산을 수행할 필요가 없으며, 바로 그 원소를 반환할 수 있습니다. \n",
    "\n",
    "    조건문을 제거할 경우, 알고리즘은 여전히 정확하게 동작할 수 있습니다. \n",
    "    왜냐하면 최종적으로는 left_count와 right_count를 비교하여 더 많은 쪽을 반환하기 때문입니다. \n",
    "    그러나, 이 최적화를 생략하면 불필요하게 \n",
    "    left_count와 right_count를 계산하는 작업이 수행될 수 있으며, \n",
    "    이는 특히 left와 right가 같은 경우에는 완전히 불필요한 작업입니다. \n",
    "    따라서, 이 조건문은 효율성을 높이는 데 도움을 줍니다."
   ]
  },
  {
   "cell_type": "code",
   "execution_count": 43,
   "id": "cd82f095-fd5d-4d32-8c79-347ec2e93edf",
   "metadata": {
    "tags": []
   },
   "outputs": [
    {
     "name": "stdout",
     "output_type": "stream",
     "text": [
      "pl, pr: 0, 1\n",
      "left, right: 1, 3\n",
      "\n",
      "pl, pr: 2, 3\n",
      "left, right: 4, 5\n",
      "\n",
      "pl, pr: 0, 3\n",
      "left, right: 3, 5\n",
      "\n",
      "pl, pr: 4, 5\n",
      "left, right: 6, 7\n",
      "\n",
      "pl, pr: 6, 7\n",
      "left, right: 8, 4\n",
      "\n",
      "pl, pr: 4, 7\n",
      "left, right: 7, 4\n",
      "\n",
      "pl, pr: 0, 7\n",
      "left, right: 5, 4\n",
      "\n"
     ]
    },
    {
     "data": {
      "text/plain": [
       "4"
      ]
     },
     "execution_count": 43,
     "metadata": {},
     "output_type": "execute_result"
    }
   ],
   "source": [
    "nums = [1,3,4,5,6,7,8,4]\n",
    "def majority_element_rec(pl, pr):\n",
    "    if pl == pr:\n",
    "        return nums[pl]\n",
    "\n",
    "    mid = (pr-pl) // 2 + pl\n",
    "    '''\n",
    "    center = (left + right) // 2 연산은\n",
    "    굉장히 큰 배열의 경우 오퍼플로를 일으킬 수 있다.\n",
    "    두 수의 합은 항상 각 두 수보다 크므로.\n",
    "    파이썬음 임의 정밀도 정수형을 지원하므로 이 문제에 빠지지 않지만\n",
    "    자료형이 엄격한 언어에서는 발생할 수 있는 문제다.\n",
    "    '''\n",
    "    left = majority_element_rec(pl, mid)\n",
    "    right = majority_element_rec(mid+1, pr)\n",
    "\n",
    "    if left == right:\n",
    "        return left\n",
    "\n",
    "    left_count = sum(1 for i in range(pl, pr+1) if nums[i] == left)\n",
    "    right_count = sum(1 for i in range(pl, pr+1) if nums[i] == right)\n",
    "    print(f'pl, pr: {pl}, {pr}');print(f'left, right: {left}, {right}')\n",
    "    print()\n",
    "    return left if left_count > right_count else right\n",
    "\n",
    "majority_element_rec(0, len(nums) - 1)"
   ]
  },
  {
   "cell_type": "code",
   "execution_count": null,
   "id": "5b0ff917-4649-47a4-b96e-d37c5c9ef705",
   "metadata": {},
   "outputs": [],
   "source": [
    "idx  0 1 2 3 4 5 6 7\n",
    "nums 1,3,4,5,6,7,8,4\n",
    "           m\n",
    "   1,3,4,5    6,7,8,4\n",
    "     m          m\n",
    " 1,3   4,5   6,7  8,4\n",
    "   m     m     m    m\n",
    "  1 3   4 5   6 7  8 4   < 여기서 if pl == pr: 에 걸려서 각 요소들 리턴되고\n",
    "                           left, right 가 다 다르므로 계속 right만 리턴되다가\n",
    "                           맨 마지막 left, right 병합시 왼쪽의 5와 오른쪽의 4를 \n",
    "                           전체 range에서 카운트할때 "
   ]
  },
  {
   "cell_type": "code",
   "execution_count": 44,
   "id": "cab9a10e-b1f5-4eee-8b4e-d906e9e3c2c8",
   "metadata": {
    "tags": []
   },
   "outputs": [
    {
     "name": "stdout",
     "output_type": "stream",
     "text": [
      "pl, pr: 0, 1\n",
      "left, right: 1, 4\n",
      "\n",
      "pl, pr: 2, 3\n",
      "left, right: 4, 5\n",
      "\n",
      "pl, pr: 0, 3\n",
      "left, right: 4, 5\n",
      "\n",
      "pl, pr: 4, 5\n",
      "left, right: 6, 7\n",
      "\n",
      "pl, pr: 6, 7\n",
      "left, right: 8, 3\n",
      "\n",
      "pl, pr: 4, 7\n",
      "left, right: 7, 3\n",
      "\n",
      "pl, pr: 0, 7\n",
      "left, right: 4, 3\n",
      "\n"
     ]
    },
    {
     "data": {
      "text/plain": [
       "4"
      ]
     },
     "execution_count": 44,
     "metadata": {},
     "output_type": "execute_result"
    }
   ],
   "source": [
    "nums = [1,4,4,5,6,7,8,3]\n",
    "majority_element_rec(0, len(nums) - 1)"
   ]
  },
  {
   "cell_type": "code",
   "execution_count": 19,
   "id": "c717436e-352c-4bbc-bed0-e9818d434412",
   "metadata": {
    "tags": []
   },
   "outputs": [],
   "source": [
    "class Solution:\n",
    "    def majorityElement(self, nums: List[int]) -> int:    \n",
    "        if not nums:\n",
    "            return None\n",
    "        if len(nums) == 1:\n",
    "            return nums[0]\n",
    "        \n",
    "        half = len(nums) // 2\n",
    "        a = self.majorityElement(nums[:half])\n",
    "        b = self.majorityElement(nums[half:])\n",
    "        \n",
    "        return [b, a][nums.count(a) > half]  \n",
    "        # a의 개수가 과반수가 넘으면 a를 반환, 안 넘으면 b를 반환"
   ]
  },
  {
   "cell_type": "code",
   "execution_count": 20,
   "id": "cc1fc3b1-5949-4cd7-9c48-4881fc1b2bfd",
   "metadata": {
    "tags": []
   },
   "outputs": [
    {
     "data": {
      "text/plain": [
       "3"
      ]
     },
     "execution_count": 20,
     "metadata": {},
     "output_type": "execute_result"
    }
   ],
   "source": [
    "[4, 3][True]"
   ]
  },
  {
   "cell_type": "code",
   "execution_count": 21,
   "id": "ab19c9d1-2758-4871-9270-3e66b82422ab",
   "metadata": {
    "tags": []
   },
   "outputs": [
    {
     "data": {
      "text/plain": [
       "4"
      ]
     },
     "execution_count": 21,
     "metadata": {},
     "output_type": "execute_result"
    }
   ],
   "source": [
    "[4, 3][False]"
   ]
  },
  {
   "cell_type": "markdown",
   "id": "446191aa-146b-44e9-a0a0-4818932a9da9",
   "metadata": {},
   "source": [
    "# 문84 괄호를 삽입하는 여러 가지 방법 m\n",
    "https://leetcode.com/problems/different-ways-to-add-parentheses/"
   ]
  },
  {
   "cell_type": "code",
   "execution_count": null,
   "id": "c585ab4f-43d5-4495-a09c-54fcb782b75c",
   "metadata": {},
   "outputs": [],
   "source": [
    "Given a string expression of numbers and operators, \n",
    "return all possible results from computing all the different possible ways to group numbers and operators. \n",
    "You may return the answer in any order.\n",
    "\n",
    "The test cases are generated such that the output values fit in a 32-bit integer and the number of different results does not exceed 10^4.\n",
    "\n",
    "Input: expression = \"2*3-4*5\"\n",
    "Output: [-34,-14,-10,-10,10]\n",
    "Explanation:\n",
    "(2*(3-(4*5))) = -34 \n",
    "((2*3)-(4*5)) = -14 \n",
    "((2*(3-4))*5) = -10 \n",
    "(2*((3-4)*5)) = -10 \n",
    "(((2*3)-4)*5) = 10"
   ]
  },
  {
   "cell_type": "markdown",
   "id": "1feb2912-ce9d-4a42-8731-8a23fad7fc67",
   "metadata": {},
   "source": [
    "# 책 풀이"
   ]
  },
  {
   "cell_type": "code",
   "execution_count": null,
   "id": "db78b403-1e4f-46dd-8b23-9b63108809de",
   "metadata": {},
   "outputs": [],
   "source": [
    "class Solution:\n",
    "    def diffWaysToCompute(self, expression: str) -> List[int]:\n",
    "        def compute(left, right, op):\n",
    "            results = []\n",
    "            \n",
    "            for l in left:\n",
    "                for r in right:\n",
    "                    results.append(eval(str(l) + op + str(r)))\n",
    "            return results\n",
    "        \n",
    "        if expression.isdigit():\n",
    "            return [int(expression)]\n",
    "        \n",
    "        results = []\n",
    "        for idx, value in enemerate(expression):\n",
    "            if value in \"-+*\":\n",
    "                left = self.diffWaysToCompute(expression[:idx])\n",
    "                right = self.diffWaysToCompute(expression[idx+1:])\n",
    "                \n",
    "                results.extend(compute(left, right, value))\n",
    "                \n",
    "        return results\n",
    "        "
   ]
  }
 ],
 "metadata": {
  "kernelspec": {
   "display_name": "Python 3 (ipykernel)",
   "language": "python",
   "name": "python3"
  },
  "language_info": {
   "codemirror_mode": {
    "name": "ipython",
    "version": 3
   },
   "file_extension": ".py",
   "mimetype": "text/x-python",
   "name": "python",
   "nbconvert_exporter": "python",
   "pygments_lexer": "ipython3",
   "version": "3.11.0"
  }
 },
 "nbformat": 4,
 "nbformat_minor": 5
}
