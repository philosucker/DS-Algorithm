{
 "cells": [
  {
   "cell_type": "markdown",
   "id": "71d92eb5-5153-4d01-a87a-d5026bada0f8",
   "metadata": {
    "tags": []
   },
   "source": [
    "# 문12) 퀵 정렬이란? "
   ]
  },
  {
   "cell_type": "markdown",
   "id": "b109dd04-7296-470c-844c-e34867835c84",
   "metadata": {
    "jp-MarkdownHeadingCollapsed": true,
    "tags": []
   },
   "source": [
    "\n",
    "    피벗x과 왼쪽 포인터pl, 오른쪽 포인터pr를 설정해서  \n",
    "    a[pl] >= x가 성립하는 원소를 찾을 때까지 pl을 오른쪽으로  \n",
    "    a[pr] <= x가 성립하는 원소를 찾을 때까지 pr을 왼쪽으로 이동시켜서  \n",
    "    둘 다 찾으면 서로 교환  \n",
    "    \n",
    "    피벗을 기준으로 배열을 두 부분으로 나눠서  \n",
    "        위 과정 다시 반복\n",
    "        \n",
    "    원소가 2개 남을 때까지 계속 나눠서 \n",
    "        위 과정 반복\n",
    "    \n",
    "    퀵정렬의 시간복잡도 O(n log n)\n",
    "이진검색트리랑 뭔가 비슷해짐"
   ]
  },
  {
   "cell_type": "markdown",
   "id": "3139f67d-de2f-4df6-b626-92fcc5e30180",
   "metadata": {},
   "source": [
    "# 문13) 한 번만 나누는 과정 구현"
   ]
  },
  {
   "cell_type": "code",
   "execution_count": 28,
   "id": "e011109e-0ee0-42bc-8642-bcbb737c3358",
   "metadata": {
    "tags": []
   },
   "outputs": [
    {
     "name": "stdout",
     "output_type": "stream",
     "text": [
      "피벗은 157입니다.\n",
      "피벗 이하인 그룹입니다.\n",
      "46 68 98\n",
      "피벗 이상인 그룹입니다.\n",
      "157 174 185\n"
     ]
    },
    {
     "data": {
      "text/plain": [
       "[46, 68, 98, 157, 174, 185]"
      ]
     },
     "execution_count": 28,
     "metadata": {},
     "output_type": "execute_result"
    }
   ],
   "source": [
    "def partition(a: MutableSequence) -> None:\n",
    "    \"\"\"배열을 분할하여 출력\"\"\"\n",
    "    n = len(a)\n",
    "    pl = 0                 \n",
    "    pr = n - 1              \n",
    "    x = a[(pl + pr) // 2] \n",
    "\n",
    "    while pl <= pr:  # pl과 pr이 같고 피벗 위치와 일치할 경우, a[pl], a[pr]은 서로 같은 원소를 참조하지만 아래 조건문에 의해 서로 값을 교환한다.\n",
    "                        # while문과 아래 if문에서 pr <= pr 조건을 거는 이유는, 이렇게 하지 않으면 \n",
    "                          # 원소를 교환할 때마다 매번 pl과 pr이 같은 위치에 있는지 체크해야한다.매번 체크하는 비용보다 1번만 같은 원소를 교환하는\n",
    "                            # 비용이 더 적다. 교환후 pl과 pr이 서로 교차해 지나가게 되므로 \n",
    "                           # pl, pr과 피벗과 일치하는 그룹이 생기는 경우는 pl > pr + 1 조건에 해당하는 경우이다.\n",
    "        while a[pl] < x: pl += 1 # 왼쪽 커서가 피벗보다 작으면 오른쪽으로 한칸 이동 (피벗이상이면 탈출)\n",
    "        while a[pr] > x: pr -= 1 # 오른쪽 커서가 피벗보다 크면 왼쪽으로 한칸 이동  (피벗이하면 탈출)\n",
    "        if pl <= pr:                     #\n",
    "            a[pl], a[pr] = a[pr], a[pl]  # 왼쪽커서가 피벗이상이고, 오른쪽커서가 피벗이하면 두 커서값 교환\n",
    "            pl += 1              # 교환 후 왼쪽 커서 오른쪽으로 한칸 이동\n",
    "            pr -= 1              # 교환 후 오른쪽 커서 왼쪽으로 한칸 이동\n",
    "                                    # 얘네가 없으면 무한루프에 빠진다. 왜??\n",
    "                                    # 정렬을 다 마친 후 왼쪽 커서와 오른쪽 커서가 교차되어야 하는데 얘네가 없으면\n",
    "                                    # 계속 멈춰 있는다 (아래 코드 참고)\n",
    "                        \n",
    "    print(f'피벗은 {x}입니다.')\n",
    "\n",
    "    print('피벗 이하인 그룹입니다.')\n",
    "    print(*a[0 : pl])           # a[0] ~ a[pl - 1]\n",
    "\n",
    "    if pl > pr + 1:\n",
    "        print('피벗과 일치하는 그룹입니다.') \n",
    "        print(*a[pr + 1 : pl])  # a[pr + 1] ~ a[pl - 1]\n",
    "\n",
    "    print('피벗 이상인 그룹입니다.')\n",
    "    print(*a[pr + 1 : n])       # a[pr + 1] ~ a[n - 1]\n",
    "    \n",
    "    return a\n",
    "\n",
    "partition([185, 174, 157, 98, 68, 46])   "
   ]
  },
  {
   "cell_type": "markdown",
   "id": "4bdab782-2622-4e8c-86ff-95d6576794f6",
   "metadata": {},
   "source": [
    "#### pl += 1 \n",
    "#### pr -= 1 이 없는 경우"
   ]
  },
  {
   "cell_type": "code",
   "execution_count": 29,
   "id": "7c6eee24-0cc7-4e57-908d-f9a5642433ae",
   "metadata": {},
   "outputs": [
    {
     "name": "stdout",
     "output_type": "stream",
     "text": [
      "0 4\n",
      "1 3\n",
      "2 2\n",
      "2 2\n",
      "2 2\n",
      "2 2\n",
      "2 2\n",
      "2 2\n",
      "2 2\n",
      "2 2\n"
     ]
    }
   ],
   "source": [
    "from typing import MutableSequence\n",
    "\n",
    "def partition(a: MutableSequence) -> None:\n",
    "    \"\"\"배열을 분할하여 출력\"\"\"\n",
    "    n = len(a)\n",
    "    pl = 0                 \n",
    "    pr = n - 1              \n",
    "    x = a[(pl + pr) // 2] \n",
    "    \n",
    "    cnt = 0\n",
    "    while pl <= pr:\n",
    "        while a[pl] < x: pl += 1\n",
    "        while a[pr] > x: pr -= 1\n",
    "        if pl <= pr:\n",
    "            a[pl], a[pr] = a[pr], a[pl]\n",
    "            print(pl, pr)\n",
    "            cnt += 1\n",
    "        if cnt == 10:\n",
    "            break\n",
    "\n",
    "partition([5,4,3,2,1])"
   ]
  },
  {
   "cell_type": "markdown",
   "id": "bceb411e-1c5f-45c1-8241-1ac48fba6ca7",
   "metadata": {},
   "source": [
    "# 문14) *리스트 언팩킹 방법"
   ]
  },
  {
   "cell_type": "markdown",
   "id": "38b0f526-9424-485d-b3e7-d88b763f25e1",
   "metadata": {},
   "source": [
    "\n",
    "    리스트 앞에 *를 사용하는 것은 Python에서 언패킹(Unpacking)을 수행하는 방법 중 하나입니다. \n",
    "    이는 시퀀스(리스트, 튜플 등)의 각 요소를 개별 변수에 할당하는 것을 의미합니다.\n",
    "\n",
    "    예를 들어, 다음과 같은 리스트가 있다고 가정해 봅시다:\n",
    "    *를 사용하여 언패킹하면 다음과 같이 할 수 있습니다:\n",
    "\n",
    "        my_list = [1, 2, 3]\n",
    "        a, *rest = my_list\n",
    "\n",
    "    이 경우, a는 첫 번째 요소인 1이 되고, \n",
    "    rest는 나머지 요소인 [2, 3]이 됩니다. \n",
    "    즉, *를 사용하여 나머지 요소를 할당할 수 있습니다.\n",
    "\n",
    "    리스트를 출력할 때도 \n",
    "    *를 사용하여 리스트를 언패킹하여 아래는 예시입니다:\n",
    "\n",
    "        my_list = [1, 2, 3]\n",
    "        print(*my_list)"
   ]
  },
  {
   "cell_type": "code",
   "execution_count": 31,
   "id": "e71a0675-d2b8-4686-a1df-3fa916f759c6",
   "metadata": {
    "tags": []
   },
   "outputs": [
    {
     "data": {
      "text/plain": [
       "[1, 2, 3, 4, 5, 6, 7, 8, 9]"
      ]
     },
     "execution_count": 31,
     "metadata": {},
     "output_type": "execute_result"
    }
   ],
   "source": [
    "a = list(range(1,10))\n",
    "a"
   ]
  },
  {
   "cell_type": "code",
   "execution_count": 32,
   "id": "05583d31-e65b-45ec-8182-075d652727b1",
   "metadata": {
    "tags": []
   },
   "outputs": [
    {
     "name": "stdout",
     "output_type": "stream",
     "text": [
      "[1, 2, 3, 4, 5, 6, 7, 8, 9]\n"
     ]
    }
   ],
   "source": [
    "print(a)"
   ]
  },
  {
   "cell_type": "code",
   "execution_count": 33,
   "id": "313a0869-ca03-4648-898e-ee28ac6fe908",
   "metadata": {
    "tags": []
   },
   "outputs": [
    {
     "name": "stdout",
     "output_type": "stream",
     "text": [
      "1 2 3 4 5 6 7 8 9\n"
     ]
    }
   ],
   "source": [
    "print(*a)"
   ]
  },
  {
   "cell_type": "code",
   "execution_count": 34,
   "id": "9c0a2e34-4967-44bc-9e1d-eed4a3063bd1",
   "metadata": {
    "tags": []
   },
   "outputs": [
    {
     "data": {
      "text/plain": [
       "[5]"
      ]
     },
     "execution_count": 34,
     "metadata": {},
     "output_type": "execute_result"
    }
   ],
   "source": [
    "a[4:5]"
   ]
  },
  {
   "cell_type": "code",
   "execution_count": 35,
   "id": "a2cadc8c-2652-4503-8720-d6a96d51d64f",
   "metadata": {
    "tags": []
   },
   "outputs": [
    {
     "name": "stdout",
     "output_type": "stream",
     "text": [
      "0 5\n",
      "1 4\n",
      "2 3\n",
      "3 3\n",
      "3 3\n",
      "3 3\n",
      "3 3\n",
      "3 3\n",
      "3 3\n",
      "3 3\n"
     ]
    }
   ],
   "source": [
    "partition([6,5,4,3,2,1])  "
   ]
  },
  {
   "cell_type": "markdown",
   "id": "84dbe795-6c5e-46d6-b429-ac043ecef487",
   "metadata": {},
   "source": [
    "# 문15) 왜 어떤 배열은 pl,pr이 피벗과 일치하는 그룹이 생기고, 어떤 배열은 그룹이 안생길까?"
   ]
  },
  {
   "cell_type": "markdown",
   "id": "77b7479e-dc4b-4366-874c-5d0f10d84c57",
   "metadata": {},
   "source": [
    "**1. 배열 길이는 홀수든 짝수든 상관없다**  \n",
    "**2. 피벗에서 같은 길이만큼 떨어진 위치에서 교환이 일어나고, 그 이후로 교환이 없을 때 생긴다**\n"
   ]
  },
  {
   "cell_type": "markdown",
   "id": "a3a99140-9a5e-4373-a2d5-deff6bae70f7",
   "metadata": {},
   "source": [
    "1, 6, 4, 3, 2\n",
    "\n",
    "    피벗은 4\n",
    "    피벗 이하인 그룹 1 2 3   #  a[0 : pl]\n",
    "    피벗 이상인 그룹 4 6     #  a[pr+1:n]\n",
    "    \n",
    "        1, 6, 4, 3, 2\n",
    "           pl       pr\n",
    "        1, 2, 4, 3, 6\n",
    "              pl pr\n",
    "        1, 2, 3, 4, 6    \n",
    "              pr pl\n",
    "\n",
    "5, 4, 3, 2, 1\n",
    "\n",
    "    피벗은 3\n",
    "    피벗 이하인 그룹 1 2 3    #  a[0 : pl]\n",
    "    피벗과 일치하는 그룹 3     #  a[pr+1:pl]\n",
    "    피벗 이상인 그룹 3 4 5    #  a[pr+1:n]\n",
    "        \n",
    "        5, 4, 3, 2, 1\n",
    "        pl          pr\n",
    "        1, 4, 3, 2, 5\n",
    "           pl    pr\n",
    "        1, 2, 3, 4, 5\n",
    "            pl=pr\n",
    "        1, 2, 3, 4, 5        a[2:3] == pivot\n",
    "           pr    pl"
   ]
  },
  {
   "cell_type": "code",
   "execution_count": 28,
   "id": "e867c816-fa96-4f7a-80ad-95aa51ca81c6",
   "metadata": {
    "tags": []
   },
   "outputs": [
    {
     "data": {
      "text/plain": [
       "[3]"
      ]
     },
     "execution_count": 28,
     "metadata": {},
     "output_type": "execute_result"
    }
   ],
   "source": [
    "a = [1, 2, 3, 4, 5]\n",
    "a[2:3]"
   ]
  },
  {
   "cell_type": "code",
   "execution_count": 36,
   "id": "fdf67f31-4b45-48d7-b67e-377e932ade65",
   "metadata": {
    "tags": []
   },
   "outputs": [
    {
     "name": "stdout",
     "output_type": "stream",
     "text": [
      "1 3\n",
      "[1, 4, 3, 2, 5]\n",
      "2 2\n",
      "[1, 2, 3, 4, 5]\n",
      "3 1\n",
      "[1, 2, 3, 4, 5]\n"
     ]
    }
   ],
   "source": [
    "def partition(a: MutableSequence) -> None:\n",
    "    \"\"\"배열을 분할하여 출력\"\"\"\n",
    "    n = len(a)\n",
    "    pl = 0                 \n",
    "    pr = n - 1              \n",
    "    x = a[(pl + pr) // 2] \n",
    "\n",
    "    while pl <= pr:\n",
    "        while a[pl] < x: pl += 1\n",
    "        while a[pr] > x: pr -= 1\n",
    "        if pl <= pr:\n",
    "            a[pl], a[pr] = a[pr], a[pl]\n",
    "            pl += 1\n",
    "            pr -= 1\n",
    "            print(pl, pr)\n",
    "            print(a)\n",
    "            \n",
    "partition([5,4,3,2,1])"
   ]
  },
  {
   "cell_type": "code",
   "execution_count": 37,
   "id": "557c8b23-60ce-46ac-88d0-ae2702117af7",
   "metadata": {
    "tags": []
   },
   "outputs": [
    {
     "name": "stdout",
     "output_type": "stream",
     "text": [
      "2 3\n",
      "[1, 2, 4, 3, 6]\n",
      "3 2\n",
      "[1, 2, 3, 4, 6]\n"
     ]
    }
   ],
   "source": [
    "partition([1,6,4,3,2])"
   ]
  },
  {
   "cell_type": "markdown",
   "id": "1aec4227-2bfc-454f-b0f3-83567cd7550e",
   "metadata": {},
   "source": [
    "# 문16) 퀵정렬 구현"
   ]
  },
  {
   "cell_type": "code",
   "execution_count": 44,
   "id": "7b8890c6-f2a6-4b7a-bdf3-6a0be9418136",
   "metadata": {
    "tags": []
   },
   "outputs": [
    {
     "name": "stdout",
     "output_type": "stream",
     "text": [
      "2 5\n",
      "[5, 3, 4, 2, 6, 1, 8, 9, 7]\n",
      "5 4\n",
      "[5, 3, 4, 2, 1, 6, 8, 9, 7]\n"
     ]
    }
   ],
   "source": [
    "partition([5, 8, 4, 2, 6, 1, 3, 9 ,7])\n",
    "# 피벗을 가운데 6으로 했을 때 6이하는 왼쪽, 6이상은 오른쪽으로 나뉘어졌다."
   ]
  },
  {
   "cell_type": "markdown",
   "id": "055b66f5-f856-4f29-b072-cc8837fe5bd5",
   "metadata": {
    "tags": []
   },
   "source": [
    "    5, 8, 4, 3, 6, 1, 3, 9, 7\n",
    "    l  pl             pr    r\n",
    "    5, 3, 4, 3, 6, 1, 8, 9, 7\n",
    "               pl  pr\n",
    "    5, 3, 4, 3, 1, 6, 8, 9, 7    \n",
    "               pr  pl\n",
    "               \n",
    "    정렬이 끝나고 나면\n",
    "    l < pr 일 때 왼쪽 그룹을 나누고\n",
    "    pl < r 일 때 오른쪽 그룹을 나눈다\n",
    "    "
   ]
  },
  {
   "cell_type": "code",
   "execution_count": 25,
   "id": "a5cf3f43-c186-4394-8d47-a658d5519c34",
   "metadata": {
    "tags": []
   },
   "outputs": [],
   "source": [
    "from typing import MutableSequence\n",
    "\n",
    "def qsort(a: MutableSequence, left: int, right: int, verbose) -> None:\n",
    "    \"\"\"a[left] ~ a[right]를 퀵 정렬\"\"\"\n",
    "    pl = left                   # 왼쪽 커서\n",
    "    pr = right                  # 오른쪽 커서\n",
    "    x = a[(left + right) // 2]  # 피벗(가운데 요소)\n",
    "    \n",
    "    if verbose == True:\n",
    "        print(f'퀵정렬 전 a[{left}] ~ a[{right}]: ', *a[left : right + 1]) \n",
    "        print(f'피벗 : {a[(left + right) // 2]}')\n",
    "        print(f'정렬 전 pl, pr : {a[pl]}, {a[pr]}'); print()\n",
    "        \n",
    "    while pl <= pr:    # 실습 6-10과 같은 while 문\n",
    "        while a[pl] < x: pl += 1\n",
    "        while a[pr] > x: pr -= 1\n",
    "        if pl <= pr:\n",
    "            a[pl], a[pr] = a[pr], a[pl]\n",
    "            pl += 1\n",
    "            pr -= 1\n",
    "            if verbose == True:\n",
    "                print(f'퀵정렬 후 a[{left}] ~ a[{right}]: ', *a[left : right + 1]) \n",
    "                print(f'정렬 후 pl, pr : {a[pl]}, {a[pr]}'); print()\n",
    "\n",
    "    if left < pr: qsort(a, left, pr, verbose)\n",
    "    if pl < right: qsort(a, pl, right, verbose)\n",
    "\n",
    "def quick_sort(a: MutableSequence, verbose = False) -> None:\n",
    "    \"\"\"퀵 정렬\"\"\"\n",
    "    qsort(a, 0, len(a) - 1, verbose)\n",
    "    return a"
   ]
  },
  {
   "cell_type": "code",
   "execution_count": 10,
   "id": "3dab19ed-cee0-44fb-bcf9-0e2d5265dd7a",
   "metadata": {
    "tags": []
   },
   "outputs": [
    {
     "data": {
      "text/plain": [
       "[1, 2, 3, 4, 5, 6, 7, 8, 9]"
      ]
     },
     "execution_count": 10,
     "metadata": {},
     "output_type": "execute_result"
    }
   ],
   "source": [
    "a = [5, 8, 4, 2, 6, 1, 3, 9, 7]\n",
    "quick_sort(a)"
   ]
  },
  {
   "cell_type": "code",
   "execution_count": 11,
   "id": "66cf3d94-8c3f-4c3f-a6ec-eb40682b09af",
   "metadata": {
    "tags": []
   },
   "outputs": [
    {
     "name": "stdout",
     "output_type": "stream",
     "text": [
      "퀵정렬 전 a[0] ~ a[8]:  5 8 4 2 6 1 3 9 7\n",
      "피벗 : 6\n",
      "정렬 전 pl, pr : 5, 7\n",
      "\n",
      "퀵정렬 후 a[0] ~ a[8]:  5 3 4 2 6 1 8 9 7\n",
      "정렬 후 pl, pr : 4, 1\n",
      "\n",
      "퀵정렬 후 a[0] ~ a[8]:  5 3 4 2 1 6 8 9 7\n",
      "정렬 후 pl, pr : 6, 1\n",
      "\n",
      "퀵정렬 전 a[0] ~ a[4]:  5 3 4 2 1\n",
      "피벗 : 4\n",
      "정렬 전 pl, pr : 5, 1\n",
      "\n",
      "퀵정렬 후 a[0] ~ a[4]:  1 3 4 2 5\n",
      "정렬 후 pl, pr : 3, 2\n",
      "\n",
      "퀵정렬 후 a[0] ~ a[4]:  1 3 2 4 5\n",
      "정렬 후 pl, pr : 4, 2\n",
      "\n",
      "퀵정렬 전 a[0] ~ a[2]:  1 3 2\n",
      "피벗 : 3\n",
      "정렬 전 pl, pr : 1, 2\n",
      "\n",
      "퀵정렬 후 a[0] ~ a[2]:  1 2 3\n",
      "정렬 후 pl, pr : 3, 2\n",
      "\n",
      "퀵정렬 전 a[0] ~ a[1]:  1 2\n",
      "피벗 : 1\n",
      "정렬 전 pl, pr : 1, 2\n",
      "\n",
      "퀵정렬 후 a[0] ~ a[1]:  1 2\n",
      "정렬 후 pl, pr : 2, 7\n",
      "\n",
      "퀵정렬 전 a[3] ~ a[4]:  4 5\n",
      "피벗 : 4\n",
      "정렬 전 pl, pr : 4, 5\n",
      "\n",
      "퀵정렬 후 a[3] ~ a[4]:  4 5\n",
      "정렬 후 pl, pr : 5, 3\n",
      "\n",
      "퀵정렬 전 a[5] ~ a[8]:  6 8 9 7\n",
      "피벗 : 8\n",
      "정렬 전 pl, pr : 6, 7\n",
      "\n",
      "퀵정렬 후 a[5] ~ a[8]:  6 7 9 8\n",
      "정렬 후 pl, pr : 9, 9\n",
      "\n",
      "퀵정렬 전 a[5] ~ a[6]:  6 7\n",
      "피벗 : 6\n",
      "정렬 전 pl, pr : 6, 7\n",
      "\n",
      "퀵정렬 후 a[5] ~ a[6]:  6 7\n",
      "정렬 후 pl, pr : 7, 5\n",
      "\n",
      "퀵정렬 전 a[7] ~ a[8]:  9 8\n",
      "피벗 : 9\n",
      "정렬 전 pl, pr : 9, 8\n",
      "\n",
      "퀵정렬 후 a[7] ~ a[8]:  8 9\n",
      "정렬 후 pl, pr : 9, 8\n",
      "\n"
     ]
    },
    {
     "data": {
      "text/plain": [
       "[1, 2, 3, 4, 5, 6, 7, 8, 9]"
      ]
     },
     "execution_count": 11,
     "metadata": {},
     "output_type": "execute_result"
    }
   ],
   "source": [
    "a = [5, 8, 4, 2, 6, 1, 3, 9, 7]\n",
    "quick_sort(a, verbose = True)"
   ]
  },
  {
   "cell_type": "code",
   "execution_count": null,
   "id": "ec08393b-4622-41d3-a8e7-f59473a746fc",
   "metadata": {},
   "outputs": [],
   "source": []
  },
  {
   "cell_type": "markdown",
   "id": "571260c5-fef6-4c78-bed4-e9eea2e0d49b",
   "metadata": {},
   "source": [
    "# 문17) 비재귀적인 퀵정렬 구현"
   ]
  },
  {
   "cell_type": "code",
   "execution_count": 21,
   "id": "f4e42efb-1fd7-430f-8b22-8bf1c366c14e",
   "metadata": {
    "tags": []
   },
   "outputs": [
    {
     "name": "stdout",
     "output_type": "stream",
     "text": [
      "[(0, 7)]\n",
      "[]\n",
      "[(0, 1)]\n",
      "[(0, 1), (2, 7)]\n",
      "[(0, 1)]\n",
      "[(0, 1), (2, 5)]\n",
      "[(0, 1), (2, 5), (6, 7)]\n",
      "[(0, 1), (2, 5)]\n",
      "[(0, 1)]\n",
      "[(0, 1), (2, 3)]\n",
      "[(0, 1), (2, 3), (4, 5)]\n",
      "[(0, 1), (2, 3)]\n",
      "[(0, 1)]\n",
      "[]\n"
     ]
    },
    {
     "data": {
      "text/plain": [
       "[1, 2, 3, 4, 5, 6, 7, 8]"
      ]
     },
     "execution_count": 21,
     "metadata": {},
     "output_type": "execute_result"
    }
   ],
   "source": [
    "def qsort(a, left: int, right: int) -> None:\n",
    "\n",
    "    stack=[]\n",
    "\n",
    "    stack.append((left, right))\n",
    "    print(stack)\n",
    "    while stack:\n",
    "\n",
    "        pl, pr = left, right = stack.pop()\n",
    "        print(stack)\n",
    "        x = a[(left + right) // 2]         \n",
    "\n",
    "        while pl <= pr:\n",
    "            while a[pl] < x: pl += 1\n",
    "            while a[pr] > x: pr -= 1\n",
    "            if pl <= pr:                     \n",
    "                a[pl], a[pr] = a[pr], a[pl]\n",
    "                pl += 1\n",
    "                pr -= 1\n",
    "                \n",
    "        if left < pr: \n",
    "            stack.append((left, pr));print(stack)\n",
    "        if pl < right: \n",
    "            stack.append((pl, right));print(stack)\n",
    "\n",
    "def quick_sort(a) -> None:\n",
    "\n",
    "    qsort(a, 0, len(a) - 1)\n",
    "    return a\n",
    "\n",
    "quick_sort([6,5,4,2,7,3,1,8])"
   ]
  },
  {
   "cell_type": "markdown",
   "id": "d8a4457e-ab66-476f-babe-415131ad7fec",
   "metadata": {},
   "source": [
    "# 문18) 비재귀적인 퀵정렬을 스택에 쌓이는 데이터 양이 최소가 되게 구현하는 방법"
   ]
  },
  {
   "cell_type": "markdown",
   "id": "cd8d982d-b277-4736-9dc0-4eb2f7e56b8b",
   "metadata": {},
   "source": [
    "원소의 수가 많은 부분을 먼저 푸시한다 \n",
    "\n",
    "    그러면 원소 수가 적은 부분이 나중에 푸시되므로 \n",
    "    원소 수가 적은 부분이 먼저 팝된다.\n",
    "    일반적으로 원소 수가 적은 배열일 수록 나누는 과정을 빠르게 마칠수 있다.\n",
    "    따라서 스택에 쌓이는 데이터 최대 개수가 적어지게 할 수 있다.\n",
    "        원소 수가 100만이라도 스택 최대 크기는 20으로 충분하다.\n",
    "        배열의 원소수가 n이면 스택에 쌓이는 최대 개수는 log n 보다 적기 때문\n",
    "    \n",
    "    원소 수가 적은 부분이 먼저 푸시되면\n",
    "    원소 수가 많은 부분이 먼저 팝되고\n",
    "    그러면 원소 수가 많은 부분이 계속 먼저 팝되서 스택에 쌓이는 개수가 늘어난다."
   ]
  },
  {
   "cell_type": "code",
   "execution_count": 29,
   "id": "3e9cf2f7-0860-4d90-a8a6-0980db207184",
   "metadata": {
    "tags": []
   },
   "outputs": [
    {
     "name": "stdout",
     "output_type": "stream",
     "text": [
      "[(0, 7)]\n",
      "[]\n",
      "[(2, 7)]\n",
      "[(2, 7), (0, 1)]\n",
      "[(2, 7)]\n",
      "[]\n",
      "[(2, 5)]\n",
      "[(2, 5), (6, 7)]\n",
      "[(2, 5)]\n",
      "[]\n",
      "[(2, 3)]\n",
      "[(2, 3), (4, 5)]\n",
      "[(2, 3)]\n",
      "[]\n"
     ]
    },
    {
     "data": {
      "text/plain": [
       "[1, 2, 3, 4, 5, 6, 7, 8]"
      ]
     },
     "execution_count": 29,
     "metadata": {},
     "output_type": "execute_result"
    }
   ],
   "source": [
    "def qsort(a, left: int, right: int) -> None:\n",
    "\n",
    "    stack=[]\n",
    "\n",
    "    stack.append((left, right))\n",
    "    print(stack)\n",
    "    \n",
    "    while stack:\n",
    "        pl, pr = left, right = stack.pop() \n",
    "        print(stack)\n",
    "        \n",
    "        x = a[(left + right) // 2]         \n",
    "\n",
    "        while pl <= pr:\n",
    "            while a[pl] < x: pl += 1\n",
    "            while a[pr] > x: pr -= 1\n",
    "            if pl <= pr:                     \n",
    "                a[pl], a[pr] = a[pr], a[pl]\n",
    "                pl += 1\n",
    "                pr -= 1\n",
    "                \n",
    "        if left < pr and pl < right:\n",
    "            if (pr-left) < (right-pl):\n",
    "                stack.append((pl, right));print(stack)\n",
    "                stack.append((left, pr));print(stack)\n",
    "                \n",
    "            else:\n",
    "                stack.append((left, pr));print(stack)\n",
    "                stack.append((pl, right));print(stack)\n",
    "                \n",
    "                         \n",
    "def quick_sort_2(a) -> None:\n",
    "\n",
    "    qsort(a, 0, len(a) - 1)\n",
    "    return a\n",
    "\n",
    "quick_sort([6,5,4,2,7,3,1,8])"
   ]
  },
  {
   "cell_type": "markdown",
   "id": "899284e5-44c0-4b69-997c-3b6bfd279164",
   "metadata": {},
   "source": [
    "# 문19) 균등분포, 랜덤분포란?\n",
    "\n",
    "    정수 1부터 8까지의 범위에서 숫자를 32번 뽑을 때, \n",
    "    각 정수가 4번씩 나오고 이들이 나오는 순서가 무작위인 배열은 균일분포를 따른다.\n",
    "    \n",
    "    따라서 균일분포를 만들 때는, \n",
    "    1부터 8까지 적힌 공이 각각 4개씩 들어있는 주머니가 필요하고, 비복원추출을 해야한다.\n",
    "    \n",
    "    추출시 확률 : 비복원 추출을 한다는 건 각 추출이 독립적이지 않다는 것이다.\n",
    "                각 추출은 이전 추출의 결과에 의존한다\n",
    "                예를 들어, 숫자 1이 뽑힐 때마다, 숫자 1이 뽑힐 확률은 바뀌고, 4번 다 뽑혔다면, \n",
    "                다음 추출에서 '1'이 뽑힐 확률은 0이 된다. \n",
    "                \n",
    "    완성된 배열에서의 확률 : 1,2,3,4,5,6,7,8 모든 값이 나타날 확률 동일, \n",
    "                        즉 어떤 수가 다른 수보다 더 나오거나 덜 나오지 않는다.\n",
    "    \n",
    "    추출시 순서 : 랜덤분포보다 약한 무작위 \n",
    "                완성된 배열에서의 순서 : 랜덤분포보다 약한 무작위\n",
    "                (배열의 어떤 부분으로 다른 부분을 예측하는 데 사용할 수 있다)\n",
    "\n",
    "    정수 1부터 8까지의 범위에서 숫자를 32번 뽑을 때, \n",
    "    매번 뽑을 때마다 모든 숫자는 1/8의 확률로 선택되고, \n",
    "    매번 뽑을 때마다 이전에 뽑은 숫자가 다음에 뽑을 숫자에 영향을 주지 않으면, \n",
    "    이렇게 만들어진 배열은  랜덤분포를 따른다. \n",
    "    \n",
    "    따라서 랜덤분포를 만들 때는, \n",
    "    1부터 8까지 적힌 공 8개가 들어 있는 주머니가 필요하고, 복원추출을 해야한다.\n",
    "    \n",
    "    추출시 확률 : 복원 추출을 한다는 건 각 추출이 독립적이라는 것이다. \n",
    "                모든 숫자는 매번 뽑을 때마다 뽑힐 확률이 1/8로 같다.\n",
    "    \n",
    "    완성된 배열에서의 확률 : 1,2,3,4,5,6,7,8 모든 값이 나타날 확률은 서로 다름. \n",
    "                        어떤 수가 다른 수보다 더 나올 수도, 덜 나올 수도 있다. \n",
    "    \n",
    "    추출시 순서 : 균일분포보다 높은 무작위\n",
    "                완성된 배열에서의 순서 : 균일분포보다 높은 무작위\n",
    "                (배열의 어떤 부분도 다른 부분을 예측하는 데 사용할 수 없습니다)\n",
    "    \n",
    "    무작위성의 정도를 비교하면\n",
    "    랜덤분포의 무작위성이 균일분포보다 더 크다\n",
    "\n"
   ]
  },
  {
   "cell_type": "markdown",
   "id": "c45cb9eb-90ef-4ffd-af25-e47be25185eb",
   "metadata": {},
   "source": [
    "# 문20) 개선된 재귀 버전 퀵정렬 구현"
   ]
  },
  {
   "cell_type": "markdown",
   "id": "b281b6cf-2b49-4b91-90eb-1890853e9d18",
   "metadata": {},
   "source": [
    "**1. 피벗 선택 방법 개선**  \n",
    "중간값 피벗(Median-of-Three Pivot) 방식  \n",
    "\n",
    "    1. 맨 앞, 중앙값, 맨 끝 원소를 뽑아 오름차순 정렬\n",
    "    2. 중간값을 피벗으로 설정\n",
    "    3. 중간값과 맨끝에서 두번째 원소 교환\n",
    "           맨끝에서 두번째 원소(중간값)위치가 피벗\n",
    "    4. pl은 l+1\n",
    "    5. pr은 r-2 에서 퀵정렬 시작\n",
    "    \n",
    "**2. 원소 개수가 9개 미만인 경우 단순삽입정렬로 정렬**\n",
    "\n",
    "    퀵정렬은 원소 수가 적은 경우 비효율적\n",
    "    \n",
    "    "
   ]
  },
  {
   "cell_type": "markdown",
   "id": "ffbf6c8a-16be-46f5-ad16-e1936c78c9a0",
   "metadata": {
    "tags": []
   },
   "source": [
    "### 위와 같은 방법으로 피벗을 선택해도 되는 이유\n",
    "\n",
    "\n",
    "1. 피벗은 항상 pl과 pr 범위 바깥에 있다 (right-1 위치)  \n",
    "  \n",
    "        최초 배열                  8, 7, 6, 5, 4, 3, 2, 1, 0\n",
    "        중간값 정렬                0, 7, 6, 5, 4, 3, 2, 1, 8\n",
    "        중간값과 right-1 원소 교환  0, 7, 6, 5, 1, 3, 2, 4, 8\n",
    "                                l  pl             pr x  r\n",
    "   \n",
    "### 효과\n",
    "#### 1. 따라서 스캔과 교환이 끝나 pl과 pr이 교차할 때까지, 피벗 위치는 변하지 않고 고정돼 있다\n",
    "#### 2. left, right, pivot 세 원소를 제외한 배열원소들만 퀵정렬 하므로 매번 스캔해야할 원소를 3개씩 줄일수 있다.\n",
    "#### 3. 이미 정렬된 배열에서 맨첫번째나 맨마지막 원소를 피벗으로 선택하는 최악의 경우를 피할 수 있다.\n",
    "i.e.그룹이 한쪽으로 치우쳐져 나눠지는걸 피할 수 있다.  \n",
    "데이터가 랜덤분포 또는 균일분포를 따를 때, 중간값은 배열을 비교적 균등하게 두 부분으로 나눌 가능성이 높습니다.  \n",
    "이는 퀵정렬이 각 부분 배열에 대해 비슷한 양의 작업을 수행하게 하여, 전체적인 정렬 시간을 최소화합니다.  \n",
    "\n",
    "                    중간값 피벗이 만능은 아니다. 치우쳐질 수 도 있다. 어떤 배열에선.\n",
    "                    1,  4,  5,  6,  3,  7,  8,  9,  2 같은 배열은\n",
    "                    1               2               3\n",
    "                    1,  4,  5,  6,  9,  7,  8,  2,  3\n",
    "                    l   pl                  pr  x   r 피벗이 완전 치우쳐지는 경우다.\n",
    "                   l=pr pl                      x   r 교환이 하나도 일어나지 않고 그대로 pl과 pr이 교차한다\n",
    "                    그래서\n",
    "                    1과 4,  5,  6,  9,  7,  8,  2,  3 으로 나뉜다\n",
    "\n",
    "    \n",
    "        중간값과 right-1 원소 교환  0, 7, 6, 5, 1, 3, 2, 4, 8\n",
    "                                l  pl             pr x  r\n",
    "                                0, 2, 6, 5, 1, 3, 7, 4, 8\n",
    "                                      pl       pr    x\n",
    "                                0, 2, 3, 5, 1, 6, 7, 4, 8\n",
    "                                         pl pr       x\n",
    "                                0, 2, 3, 1, 5, 6, 7, 4, 8\n",
    "                                l        pr pl       x  r         \n",
    "2. 나누기 후 \n",
    "\n",
    "        left와 pr사이 (왼쪽부분), \n",
    "        pl과 right사이 (오른쪽 부분)\n",
    "        두 부분 중 \n",
    "        항상 오른쪽 부분 right-1 위치에 나누기 전 배열의 피벗'이 있고\n",
    "        피벗'은 왼쪽 부분의 최대값보다 항상 크다\n",
    "    \n",
    "                                0, 2, 3, 1, 5, 6, 7, 4, 8\n",
    "                                l        pr pl       x' r\n",
    "                                \n",
    "                    나누기       0, 2, 3, 1      5, 6, 7, 4, 8\n",
    "                               l        r      l        x' r\n",
    "                    중간값 정렬  0, 1, 3, 2      5, 6, 7, 4, 8\n",
    "                              l   x    r      l      x    r\n",
    "       중간값과 right-1 원소 교환 0, 3, 1, 2      5, 6, 4, 7, 8\n",
    "                              l     x  r      l        x  r\n",
    "3. 오른쪽 부분에서 퀵정렬을 하면\n",
    "\n",
    "                    5,   6,   4,   7,   8\n",
    "                    l   pl   pr    x    r\n",
    "                    5,   6,   4,   7,   8\n",
    "                            pl=pr  x\n",
    "                    5,   6,   4,   7,   8\n",
    "                             pr   pl=x\n",
    "            \n",
    "              (5, 6, 4)    (7, 8)  두 부분으로 나뉘고  \n",
    "   \n",
    "         여기서 중간값 정렬을 하면 \n",
    "         최초 피벗 4는 맨 왼쪽으로 가게 된다."
   ]
  },
  {
   "cell_type": "code",
   "execution_count": null,
   "id": "eb6aa060-9133-4260-8386-1e0b58963c38",
   "metadata": {},
   "outputs": [],
   "source": []
  },
  {
   "cell_type": "code",
   "execution_count": 31,
   "id": "857019ea-8edd-45c2-a0fb-2913c172d18b",
   "metadata": {
    "tags": []
   },
   "outputs": [
    {
     "name": "stdout",
     "output_type": "stream",
     "text": [
      "퀵정렬 전 a[0] ~ a[8]:  0 7 6 5 1 3 2 4 8\n",
      "피벗 : 4\n",
      "정렬 전 pl, pr : 7, 2\n",
      "\n",
      "퀵정렬 후 a[0] ~ a[8]:  0 2 6 5 1 3 7 4 8\n",
      "정렬 후 pl, pr : 6, 3\n",
      "\n",
      "퀵정렬 후 a[0] ~ a[8]:  0 2 3 5 1 6 7 4 8\n",
      "정렬 후 pl, pr : 5, 1\n",
      "\n",
      "퀵정렬 후 a[0] ~ a[8]:  0 2 3 1 5 6 7 4 8\n",
      "정렬 후 pl, pr : 5, 1\n",
      "\n",
      "퀵정렬 전 a[0] ~ a[3]:  0 3 1 2\n",
      "피벗 : 1\n",
      "정렬 전 pl, pr : 3, 3\n",
      "\n",
      "퀵정렬 후 a[0] ~ a[3]:  0 3 1 2\n",
      "정렬 후 pl, pr : 3, 0\n",
      "\n",
      "퀵정렬 전 a[1] ~ a[3]:  1 2 3\n",
      "피벗 : 2\n",
      "정렬 전 pl, pr : 2, 1\n",
      "\n",
      "퀵정렬 전 a[2] ~ a[3]:  2 3\n",
      "피벗 : 2\n",
      "정렬 전 pl, pr : 3, 1\n",
      "\n",
      "퀵정렬 전 a[4] ~ a[8]:  5 6 4 7 8\n",
      "피벗 : 7\n",
      "정렬 전 pl, pr : 6, 4\n",
      "\n",
      "퀵정렬 후 a[4] ~ a[8]:  5 6 4 7 8\n",
      "정렬 후 pl, pr : 7, 4\n",
      "\n",
      "퀵정렬 전 a[4] ~ a[6]:  4 5 6\n",
      "피벗 : 5\n",
      "정렬 전 pl, pr : 5, 4\n",
      "\n",
      "퀵정렬 전 a[5] ~ a[6]:  5 6\n",
      "피벗 : 5\n",
      "정렬 전 pl, pr : 6, 4\n",
      "\n",
      "퀵정렬 전 a[7] ~ a[8]:  7 8\n",
      "피벗 : 7\n",
      "정렬 전 pl, pr : 8, 6\n",
      "\n"
     ]
    }
   ],
   "source": [
    "from typing import MutableSequence\n",
    "\n",
    "def sort3(a: MutableSequence, idx1: int, idx2: int, idx3: int):\n",
    "\n",
    "    if a[idx2] < a[idx1]: \n",
    "        a[idx2], a[idx1] = a[idx1], a[idx2]\n",
    "    if a[idx3] < a[idx2]: \n",
    "        a[idx3], a[idx2] = a[idx2], a[idx3]\n",
    "    if a[idx2] < a[idx1]: \n",
    "        a[idx2], a[idx1] = a[idx1], a[idx2]\n",
    "    return idx2\n",
    "\n",
    "def qsort(a: MutableSequence, left: int, right: int) -> None:\n",
    "\n",
    "    pl = left                   # 왼쪽 커서\n",
    "    pr = right                  # 오른쪽 커서\n",
    "    m = sort3(a, pl, (pl + pr) // 2, pr) # 중간값 정렬\n",
    "    x = a[m]\n",
    "\n",
    "    a[m], a[pr - 1] = a[pr - 1], a[m]  # 중간값과 맨 오른쪽 끝에서 두번째 원소 교환\n",
    "    pl += 1\n",
    "    pr -= 2\n",
    "\n",
    "    print(f'퀵정렬 전 a[{left}] ~ a[{right}]: ', *a[left : right + 1]) \n",
    "    print(f'피벗 : {a[right-1]}')\n",
    "    print(f'정렬 전 pl, pr : {a[pl]}, {a[pr]}'); print()\n",
    "\n",
    "    while pl <= pr:\n",
    "        while a[pl] < x: pl += 1\n",
    "        while a[pr] > x: pr -= 1\n",
    "        if pl <= pr:\n",
    "            a[pl], a[pr] = a[pr], a[pl]\n",
    "            pl += 1\n",
    "            pr -= 1\n",
    "        print(f'퀵정렬 후 a[{left}] ~ a[{right}]: ', *a[left : right + 1])\n",
    "        print(f'정렬 후 pl, pr : {a[pl]}, {a[pr]}'); print()    \n",
    "\n",
    "    if left < pr: qsort(a, left, pr)\n",
    "    if pl < right: qsort(a, pl, right)\n",
    "\n",
    "def quick_sort(a: MutableSequence) -> None:\n",
    "\n",
    "    qsort(a, 0, len(a) - 1)\n",
    "\n",
    "\n",
    "quick_sort([8,7,6,5,4,3,2,1,0]) \n"
   ]
  },
  {
   "cell_type": "markdown",
   "id": "7f0dfc0d-4fbf-4aec-83ca-8436579d458f",
   "metadata": {},
   "source": [
    "# 원소수가 9개 미만일 땐 단순삽입정렬, 최종 재귀적인 퀵정렬"
   ]
  },
  {
   "cell_type": "code",
   "execution_count": 47,
   "id": "fcd5a101-4e40-4c8f-9dcf-c43c5828a395",
   "metadata": {
    "tags": []
   },
   "outputs": [
    {
     "name": "stdout",
     "output_type": "stream",
     "text": [
      "퀵정렬 전 a[0] ~ a[8]:  0 7 6 5 1 3 2 4 8\n",
      "피벗 : 4\n",
      "정렬 전 pl, pr : 7, 2\n",
      "\n",
      "퀵정렬 후 a[0] ~ a[8]:  0 2 6 5 1 3 7 4 8\n",
      "정렬 후 pl, pr : 6, 3\n",
      "\n",
      "퀵정렬 후 a[0] ~ a[8]:  0 2 3 5 1 6 7 4 8\n",
      "정렬 후 pl, pr : 5, 1\n",
      "\n",
      "퀵정렬 후 a[0] ~ a[8]:  0 2 3 1 5 6 7 4 8\n",
      "정렬 후 pl, pr : 5, 1\n",
      "\n",
      "단순삽입정렬 전 a[0] ~ a[3]:  0 2 3 1\n",
      "단순삽입정렬 후 a[0] ~ a[3]:  0 2 3 1\n",
      "단순삽입정렬 후 a[0] ~ a[3]:  0 2 3 1\n",
      "단순삽입정렬 후 a[0] ~ a[3]:  0 1 2 3\n",
      "단순삽입정렬 전 a[4] ~ a[8]:  5 6 7 4 8\n",
      "단순삽입정렬 후 a[4] ~ a[8]:  5 6 7 4 8\n",
      "단순삽입정렬 후 a[4] ~ a[8]:  5 6 7 4 8\n",
      "단순삽입정렬 후 a[4] ~ a[8]:  4 5 6 7 8\n",
      "단순삽입정렬 후 a[4] ~ a[8]:  4 5 6 7 8\n",
      "\n",
      "최종 정렬값 a : [0, 1, 2, 3, 4, 5, 6, 7, 8]\n"
     ]
    }
   ],
   "source": [
    "from typing import MutableSequence\n",
    "\n",
    "def sort3(a: MutableSequence, idx1: int, idx2: int, idx3: int):\n",
    "\n",
    "    if a[idx2] < a[idx1]: \n",
    "        a[idx2], a[idx1] = a[idx1], a[idx2]\n",
    "    if a[idx3] < a[idx2]: \n",
    "        a[idx3], a[idx2] = a[idx2], a[idx3]\n",
    "    if a[idx2] < a[idx1]: \n",
    "        a[idx2], a[idx1] = a[idx1], a[idx2]\n",
    "    return idx2\n",
    "\n",
    "def insertion_sort(a: MutableSequence, left: int, right: int, verbose) -> None:\n",
    "    \n",
    "    if verbose == True:\n",
    "        print(f'단순삽입정렬 전 a[{left}] ~ a[{right}]: ', *a[left : right + 1]) \n",
    "    for i in range(left + 1, right + 1):\n",
    "        j = i\n",
    "        tmp = a[i]\n",
    "        while j > 0 and a[j - 1] > tmp:\n",
    "            a[j] = a[j - 1]\n",
    "            j -= 1\n",
    "        a[j] = tmp\n",
    "        if verbose == True:\n",
    "            print(f'단순삽입정렬 후 a[{left}] ~ a[{right}]: ', *a[left : right + 1])\n",
    "        \n",
    "def qsort(a: MutableSequence, left: int, right: int, verbose) -> None:\n",
    "\n",
    "    if (right+1) - left < 9:            # 원소 수가 9개 미만이면 단순 삽입 정렬을 호출\n",
    "        insertion_sort(a, left, right, verbose)\n",
    "        \n",
    "    else:                           # 원소 수가 9개 이상이면 재귀적인 퀵 정렬을 수행\n",
    "        pl = left                   # 왼쪽 커서\n",
    "        pr = right                  # 오른쪽 커서\n",
    "        m = sort3(a, pl, (pl + pr) // 2, pr)\n",
    "        x = a[m]\n",
    "\n",
    "        a[m], a[pr - 1] = a[pr - 1], a[m]  # 중간값과 맨 오른쪽 끝에서 두번째 원소 교환\n",
    "        pl += 1\n",
    "        pr -= 2\n",
    "        \n",
    "        if verbose == True:\n",
    "            print(f'퀵정렬 전 a[{left}] ~ a[{right}]: ', *a[left : right + 1]) \n",
    "            print(f'피벗 : {a[right-1]}')\n",
    "            print(f'정렬 전 pl, pr : {a[pl]}, {a[pr]}'); print()\n",
    "\n",
    "        while pl <= pr:\n",
    "            while a[pl] < x: pl += 1\n",
    "            while a[pr] > x: pr -= 1\n",
    "            if pl <= pr:\n",
    "                a[pl], a[pr] = a[pr], a[pl]\n",
    "                pl += 1\n",
    "                pr -= 1\n",
    "                \n",
    "            if verbose == True:    \n",
    "                print(f'퀵정렬 후 a[{left}] ~ a[{right}]: ', *a[left : right + 1])\n",
    "                print(f'정렬 후 pl, pr : {a[pl]}, {a[pr]}'); print()    \n",
    "\n",
    "        if left < pr: qsort(a, left, pr, verbose)\n",
    "        if pl < right: qsort(a, pl, right, verbose)\n",
    "        \n",
    "def quick_sort(a: MutableSequence, verbose = False) -> None:\n",
    "\n",
    "    qsort(a, 0, len(a) - 1, verbose); print()\n",
    "    \n",
    "    if verbose == True:\n",
    "        print(f'최종 정렬값 a : {a}')\n",
    "        \n",
    "quick_sort([8,7,6,5,4,3,2,1,0], verbose = True) "
   ]
  },
  {
   "cell_type": "markdown",
   "id": "0b13cf6e-b3d2-40e1-8457-4a234c74affe",
   "metadata": {},
   "source": [
    "# 문21) 개선된 비재귀 버전 퀵정렬 구현"
   ]
  },
  {
   "cell_type": "code",
   "execution_count": 16,
   "id": "4a9b19c3-36ec-43fe-b11d-78661f2632a2",
   "metadata": {
    "tags": []
   },
   "outputs": [
    {
     "name": "stdout",
     "output_type": "stream",
     "text": [
      "[(0, 8)]\n",
      "[]\n",
      "[(0, 3)]\n",
      "[(0, 3), (4, 8)]\n",
      "[(0, 3)]\n",
      "[(0, 3), (4, 6)]\n",
      "[(0, 3), (4, 6), (7, 8)]\n",
      "[(0, 3), (4, 6)]\n",
      "[(0, 3)]\n",
      "[(0, 3), (5, 6)]\n",
      "[(0, 3)]\n",
      "[]\n",
      "[(1, 3)]\n",
      "[]\n",
      "[(2, 3)]\n",
      "[]\n"
     ]
    },
    {
     "data": {
      "text/plain": [
       "[0, 1, 2, 3, 4, 5, 6, 7, 8]"
      ]
     },
     "execution_count": 16,
     "metadata": {},
     "output_type": "execute_result"
    }
   ],
   "source": [
    "from typing import MutableSequence\n",
    "\n",
    "def sort3(a, idx1, idx2, idx3):\n",
    "\n",
    "    if a[idx2] < a[idx1]: \n",
    "        a[idx2], a[idx1] = a[idx1], a[idx2]\n",
    "    if a[idx3] < a[idx2]: \n",
    "        a[idx3], a[idx2] = a[idx2], a[idx3]\n",
    "    if a[idx2] < a[idx1]: \n",
    "        a[idx2], a[idx1] = a[idx1], a[idx2]\n",
    "    return idx2\n",
    "        \n",
    "def qsort(a, left, right):\n",
    "\n",
    "    stack = []\n",
    "    stack.append((left, right))\n",
    "    print(stack)\n",
    "\n",
    "    while stack:\n",
    "        pl, pr = left, right = stack.pop() \n",
    "        print(stack)\n",
    "\n",
    "        m = sort3(a, pl, (pl + pr) // 2, pr)\n",
    "        x = a[m]\n",
    "        a[m], a[pr - 1] = a[pr - 1], a[m]  \n",
    "        pl += 1\n",
    "        pr -= 2\n",
    "\n",
    "        while pl <= pr:\n",
    "            while a[pl] < x: pl += 1\n",
    "            while a[pr] > x: pr -= 1\n",
    "            if pl <= pr:                     \n",
    "                a[pl], a[pr] = a[pr], a[pl]\n",
    "                pl += 1\n",
    "                pr -= 1\n",
    "                \n",
    "        if left < pr: # 그룹이 치우쳐지 나눠지지 않으므로 그냥 이렇게 구현\n",
    "            stack.append((left, pr));print(stack)\n",
    "        if pl < right: \n",
    "            stack.append((pl, right));print(stack)\n",
    "            \n",
    "def quick_sort(a):\n",
    "\n",
    "    qsort(a, 0, len(a) - 1)\n",
    "    return a   \n",
    "quick_sort([8,7,6,5,4,3,2,1,0]) "
   ]
  },
  {
   "cell_type": "markdown",
   "id": "e8d4813d-48a6-4282-9ed6-6fb7cde8ae41",
   "metadata": {},
   "source": [
    "# 문22) sorted 함수 사용방법\n",
    "\n",
    "sorted 함수는 이터러블을 입력 받아 오름차순으로 정리된 리스트를 반환한다"
   ]
  },
  {
   "cell_type": "code",
   "execution_count": null,
   "id": "48a61bc7-00f3-4685-ab53-303b661b18ce",
   "metadata": {},
   "outputs": [],
   "source": []
  },
  {
   "cell_type": "code",
   "execution_count": 40,
   "id": "3fa54b48-8f46-4341-8f62-84c63ffe6042",
   "metadata": {
    "tags": []
   },
   "outputs": [
    {
     "data": {
      "text/plain": [
       "[1, 2, 3, 4, 5, 6, 7, 8, 9, 10]"
      ]
     },
     "execution_count": 40,
     "metadata": {},
     "output_type": "execute_result"
    }
   ],
   "source": [
    "x = list(range(100, 0, -1))\n",
    "\n",
    "y = sorted(x)\n",
    "y[:10]"
   ]
  },
  {
   "cell_type": "code",
   "execution_count": 33,
   "id": "8c0ffce7-6f99-4905-afd5-03aaaf47f8bb",
   "metadata": {
    "tags": []
   },
   "outputs": [
    {
     "data": {
      "text/plain": [
       "(30, 100)"
      ]
     },
     "execution_count": 33,
     "metadata": {},
     "output_type": "execute_result"
    }
   ],
   "source": [
    "a, b = sorted([100, 30])\n",
    "a, b"
   ]
  },
  {
   "cell_type": "code",
   "execution_count": 34,
   "id": "bce84ba2-d6af-4170-a8da-d1c2b3664c78",
   "metadata": {
    "tags": []
   },
   "outputs": [
    {
     "data": {
      "text/plain": [
       "(100, 30)"
      ]
     },
     "execution_count": 34,
     "metadata": {},
     "output_type": "execute_result"
    }
   ],
   "source": [
    "a, b = sorted([100, 30], reverse=True)\n",
    "a, b"
   ]
  },
  {
   "cell_type": "markdown",
   "id": "8a2a8b7a-4fd5-4d33-9783-fe875ee078c4",
   "metadata": {},
   "source": [
    "# 문23) 튜블을 sorted로 정렬하는 방법\n",
    "정렬된 리스트를 다시 튜플로 변환해줘야 한다"
   ]
  },
  {
   "cell_type": "code",
   "execution_count": null,
   "id": "42f2f343-3415-4103-9cdc-4401a08dc71c",
   "metadata": {},
   "outputs": [],
   "source": []
  },
  {
   "cell_type": "code",
   "execution_count": 19,
   "id": "c386cc60-1096-4aaf-b15c-a33f2f603f97",
   "metadata": {
    "tags": []
   },
   "outputs": [
    {
     "data": {
      "text/plain": [
       "(1, 2, 3, 4, 5, 6, 7, 8, 9, 10)"
      ]
     },
     "execution_count": 19,
     "metadata": {},
     "output_type": "execute_result"
    }
   ],
   "source": [
    "x = tuple(range(50, 0, -1))\n",
    "y = sorted(x)\n",
    "z = tuple(y)\n",
    "z[:10]"
   ]
  },
  {
   "cell_type": "code",
   "execution_count": null,
   "id": "4fd7e339-e4a5-47d2-b19c-05124ce789e1",
   "metadata": {},
   "outputs": [],
   "source": []
  }
 ],
 "metadata": {
  "kernelspec": {
   "display_name": "tf",
   "language": "python",
   "name": "tf"
  },
  "language_info": {
   "codemirror_mode": {
    "name": "ipython",
    "version": 3
   },
   "file_extension": ".py",
   "mimetype": "text/x-python",
   "name": "python",
   "nbconvert_exporter": "python",
   "pygments_lexer": "ipython3",
   "version": "3.11.0"
  }
 },
 "nbformat": 4,
 "nbformat_minor": 5
}
