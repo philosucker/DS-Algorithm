{
 "cells": [
  {
   "cell_type": "markdown",
   "id": "b32fcd0a-b5cd-4f85-9f98-fda8e1b73885",
   "metadata": {},
   "source": [
    "# 파이썬 bisect 모듈 사용"
   ]
  },
  {
   "cell_type": "code",
   "execution_count": 25,
   "id": "f4e391a1-480d-492c-92cd-6ab464008888",
   "metadata": {
    "tags": []
   },
   "outputs": [
    {
     "data": {
      "text/plain": [
       "4"
      ]
     },
     "execution_count": 25,
     "metadata": {},
     "output_type": "execute_result"
    }
   ],
   "source": [
    "from bisect import bisect\n",
    "\n",
    "nums = [1,2,3,4, 7,8,9,10,23, 23, 45, 67, 124, 453, 4532]\n",
    "\n",
    "bisect(nums, 4) # 배열에 4를 넣을 수 있는 인덱스\n",
    "# 그냥 bisect 메서드는 bisect_right 메서드와 같다. 즉 배열에 이미 4가 있다면 그 4의 오른쪽 인덱스를 반환한다.\n"
   ]
  },
  {
   "cell_type": "code",
   "execution_count": 26,
   "id": "f57b7c22-c109-4e60-9669-e43a0cba2cf0",
   "metadata": {
    "tags": []
   },
   "outputs": [
    {
     "data": {
      "text/plain": [
       "4"
      ]
     },
     "execution_count": 26,
     "metadata": {},
     "output_type": "execute_result"
    }
   ],
   "source": [
    "# 배열에 없는 값을 넣으면, 그 값보다 작은 값 다음 인덱스를 반환\n",
    "bisect(nums, 5) "
   ]
  },
  {
   "cell_type": "code",
   "execution_count": 27,
   "id": "88d199b2-65ee-404d-b814-548a43b96d7c",
   "metadata": {
    "tags": []
   },
   "outputs": [
    {
     "data": {
      "text/plain": [
       "0"
      ]
     },
     "execution_count": 27,
     "metadata": {},
     "output_type": "execute_result"
    }
   ],
   "source": [
    "bisect(nums, 0)"
   ]
  },
  {
   "cell_type": "code",
   "execution_count": 28,
   "id": "f882f658-5bf0-43b3-b674-a92749367680",
   "metadata": {
    "tags": []
   },
   "outputs": [
    {
     "data": {
      "text/plain": [
       "15"
      ]
     },
     "execution_count": 28,
     "metadata": {},
     "output_type": "execute_result"
    }
   ],
   "source": [
    "bisect(nums, 5000)"
   ]
  },
  {
   "cell_type": "markdown",
   "id": "2b2308f8-62e9-4a55-a77e-93b6895de11f",
   "metadata": {},
   "source": [
    "### 중복된 값이 있는 경우 bisect 사용법"
   ]
  },
  {
   "cell_type": "code",
   "execution_count": 29,
   "id": "f694ed47-88bf-4161-b2b0-f1e52f03a2e4",
   "metadata": {
    "tags": []
   },
   "outputs": [
    {
     "data": {
      "text/plain": [
       "8"
      ]
     },
     "execution_count": 29,
     "metadata": {},
     "output_type": "execute_result"
    }
   ],
   "source": [
    "from bisect import bisect_left\n",
    "\n",
    "nums = [1,2,3,4,7,8,9,10,23, 23, 45, 67, 124, 453, 4532]\n",
    "\n",
    "bisect_left(nums, 23) # 배열에 23을 넣을 수 있는 인덱스\n",
    "# 배열에 이미 23이 있다면 그 23의 왼쪽 인덱스를 반환한다. i.e. 그 23을 오른쪽으로 밀고, 23이 있던 위치의 인덱스를 반환한다.\n",
    "# bisect 모듈을 이진검색용으로 쓰려면 bisect_left를 써야 한다."
   ]
  },
  {
   "cell_type": "code",
   "execution_count": 30,
   "id": "53f2acd7-023d-4dd2-ba37-b2c8caae6b78",
   "metadata": {
    "tags": []
   },
   "outputs": [
    {
     "data": {
      "text/plain": [
       "0"
      ]
     },
     "execution_count": 30,
     "metadata": {},
     "output_type": "execute_result"
    }
   ],
   "source": [
    "bisect_left(nums, 0)"
   ]
  },
  {
   "cell_type": "code",
   "execution_count": 31,
   "id": "c43af524-e4d8-4bcb-b331-6facad9d18f1",
   "metadata": {
    "tags": []
   },
   "outputs": [
    {
     "data": {
      "text/plain": [
       "15"
      ]
     },
     "execution_count": 31,
     "metadata": {},
     "output_type": "execute_result"
    }
   ],
   "source": [
    "bisect_left(nums, 5000)"
   ]
  },
  {
   "cell_type": "code",
   "execution_count": 32,
   "id": "99e33789-fcbb-4a50-a4e6-70f31dd98b07",
   "metadata": {
    "tags": []
   },
   "outputs": [],
   "source": [
    "def search(nums, target):\n",
    "    index = bisect_left(nums, target)\n",
    "    \n",
    "    if index < len(nums) and nums[index] == target:  # 검색용도로 쓸 땐, 인덱스에러가 나는 상황을 고려해야 한다.\n",
    "        return index\n",
    "    else:\n",
    "        return -1"
   ]
  },
  {
   "cell_type": "code",
   "execution_count": 33,
   "id": "06cea562-cc9f-482c-b01f-fb850c040502",
   "metadata": {
    "tags": []
   },
   "outputs": [
    {
     "data": {
      "text/plain": [
       "-1"
      ]
     },
     "execution_count": 33,
     "metadata": {},
     "output_type": "execute_result"
    }
   ],
   "source": [
    "search(nums, 5000)"
   ]
  },
  {
   "cell_type": "code",
   "execution_count": 34,
   "id": "fb038b2b-a7cd-45af-bd68-5ea803833c13",
   "metadata": {
    "tags": []
   },
   "outputs": [],
   "source": [
    "def search(nums, target):\n",
    "    index = bisect_left(nums, target)\n",
    "    print(index)\n",
    "    if nums[index] == target:\n",
    "        return index\n",
    "    else:\n",
    "        return -1"
   ]
  },
  {
   "cell_type": "code",
   "execution_count": 35,
   "id": "4537eca1-fbc8-49d0-8c59-9d3b1d8c143a",
   "metadata": {
    "tags": []
   },
   "outputs": [
    {
     "name": "stdout",
     "output_type": "stream",
     "text": [
      "0\n"
     ]
    },
    {
     "data": {
      "text/plain": [
       "-1"
      ]
     },
     "execution_count": 35,
     "metadata": {},
     "output_type": "execute_result"
    }
   ],
   "source": [
    "search(nums, 0)"
   ]
  },
  {
   "cell_type": "code",
   "execution_count": 36,
   "id": "2a49f215-00ed-454b-a48b-93bc12e29069",
   "metadata": {
    "tags": []
   },
   "outputs": [
    {
     "name": "stdout",
     "output_type": "stream",
     "text": [
      "15\n"
     ]
    },
    {
     "ename": "IndexError",
     "evalue": "list index out of range",
     "output_type": "error",
     "traceback": [
      "\u001b[0;31m---------------------------------------------------------------------------\u001b[0m",
      "\u001b[0;31mIndexError\u001b[0m                                Traceback (most recent call last)",
      "Cell \u001b[0;32mIn[36], line 1\u001b[0m\n\u001b[0;32m----> 1\u001b[0m search(nums, \u001b[38;5;241m5000\u001b[39m)\n",
      "Cell \u001b[0;32mIn[34], line 4\u001b[0m, in \u001b[0;36msearch\u001b[0;34m(nums, target)\u001b[0m\n\u001b[1;32m      2\u001b[0m index \u001b[38;5;241m=\u001b[39m bisect_left(nums, target)\n\u001b[1;32m      3\u001b[0m \u001b[38;5;28mprint\u001b[39m(index)\n\u001b[0;32m----> 4\u001b[0m \u001b[38;5;28;01mif\u001b[39;00m nums[index] \u001b[38;5;241m==\u001b[39m target:\n\u001b[1;32m      5\u001b[0m     \u001b[38;5;28;01mreturn\u001b[39;00m index\n\u001b[1;32m      6\u001b[0m \u001b[38;5;28;01melse\u001b[39;00m:\n",
      "\u001b[0;31mIndexError\u001b[0m: list index out of range"
     ]
    }
   ],
   "source": [
    "search(nums, 5000)"
   ]
  },
  {
   "cell_type": "code",
   "execution_count": 26,
   "id": "eb71e7b5-6067-422b-b637-cc88e981b826",
   "metadata": {
    "tags": []
   },
   "outputs": [
    {
     "name": "stdout",
     "output_type": "stream",
     "text": [
      "E\n",
      "C\n",
      "L\n",
      "P\n",
      "Y\n",
      "F\n"
     ]
    }
   ],
   "source": [
    "from bisect import bisect_left\n",
    "\n",
    "score = [n for n in range(0, 101, 4)]\n",
    "grade = ''.join([chr(i) for i in range(65, 90)])\n",
    "\n",
    "students = [84, 92, 56, 38, 161, 77]\n",
    "\n",
    "for student in students:\n",
    "    print(grade[25-bisect_left(score, student)])"
   ]
  },
  {
   "cell_type": "code",
   "execution_count": 23,
   "id": "22a4ede6-dd24-411c-a05d-b00d147e8c35",
   "metadata": {
    "tags": []
   },
   "outputs": [
    {
     "name": "stdout",
     "output_type": "stream",
     "text": [
      "[0, 4, 8, 12, 16, 20, 24, 28, 32, 36, 40, 44, 48, 52, 56, 60, 64, 68, 72, 76, 80, 84, 88, 92, 96, 100]\n",
      "26\n",
      "\n",
      "ABCDEFGHIJKLMNOPQRSTUVWXY\n",
      "25\n"
     ]
    }
   ],
   "source": [
    "print(score)\n",
    "print(len(score))\n",
    "print()\n",
    "print(grade)\n",
    "print(len(grade))"
   ]
  },
  {
   "cell_type": "code",
   "execution_count": 25,
   "id": "2addf17d-06bf-472d-9567-05b797c956de",
   "metadata": {
    "tags": []
   },
   "outputs": [
    {
     "data": {
      "text/plain": [
       "24"
      ]
     },
     "execution_count": 25,
     "metadata": {},
     "output_type": "execute_result"
    }
   ],
   "source": [
    "grade.index(\"Y\")"
   ]
  },
  {
   "cell_type": "code",
   "execution_count": 28,
   "id": "1ffa25a7-bad9-435f-bc51-fcd160951de4",
   "metadata": {
    "tags": []
   },
   "outputs": [
    {
     "data": {
      "text/plain": [
       "10"
      ]
     },
     "execution_count": 28,
     "metadata": {},
     "output_type": "execute_result"
    }
   ],
   "source": [
    "bisect_left(score, 38)"
   ]
  },
  {
   "cell_type": "markdown",
   "id": "b506dc6c-c4d7-44c1-8b56-989d23053fa9",
   "metadata": {},
   "source": [
    "# 문30 순위검색 m\n",
    "https://school.programmers.co.kr/learn/courses/30/lessons/72412"
   ]
  },
  {
   "cell_type": "markdown",
   "id": "c72df9d3-3889-4e2a-aadb-41cdeb5f61c9",
   "metadata": {},
   "source": [
    "### 못풂"
   ]
  },
  {
   "cell_type": "markdown",
   "id": "7f417439-e3e1-4cb4-b5e9-4911256d6d0a",
   "metadata": {},
   "source": [
    "### 디폴트딕트 사용"
   ]
  },
  {
   "cell_type": "code",
   "execution_count": 69,
   "id": "5767aec4-c915-41e6-a342-f1932a6e7921",
   "metadata": {
    "tags": []
   },
   "outputs": [
    {
     "data": {
      "text/plain": [
       "defaultdict(list, {})"
      ]
     },
     "execution_count": 69,
     "metadata": {},
     "output_type": "execute_result"
    }
   ],
   "source": [
    "dic = defaultdict(list)\n",
    "dic"
   ]
  },
  {
   "cell_type": "code",
   "execution_count": 70,
   "id": "ddfca0b5-c79f-4987-ba0e-ae0407466037",
   "metadata": {
    "tags": []
   },
   "outputs": [
    {
     "data": {
      "text/plain": [
       "[]"
      ]
     },
     "execution_count": 70,
     "metadata": {},
     "output_type": "execute_result"
    }
   ],
   "source": [
    "dic[\"key\"] # 존재하지 않는 키에 대해서도 빈 리스트를 자동으로 생성"
   ]
  },
  {
   "cell_type": "code",
   "execution_count": 71,
   "id": "9634df4e-ebfc-4392-bcb4-a909d4973ce9",
   "metadata": {
    "tags": []
   },
   "outputs": [
    {
     "data": {
      "text/plain": [
       "defaultdict(list, {'key': [100]})"
      ]
     },
     "execution_count": 71,
     "metadata": {},
     "output_type": "execute_result"
    }
   ],
   "source": [
    "dic[\"key\"].append(100)\n",
    "dic"
   ]
  },
  {
   "cell_type": "code",
   "execution_count": 72,
   "id": "61c9f8e8-73e0-4f45-b000-544a13e54d0a",
   "metadata": {
    "tags": []
   },
   "outputs": [
    {
     "data": {
      "text/plain": [
       "defaultdict(list, {'key': [100, 200]})"
      ]
     },
     "execution_count": 72,
     "metadata": {},
     "output_type": "execute_result"
    }
   ],
   "source": [
    "dic[\"key\"].append(200)\n",
    "dic"
   ]
  },
  {
   "cell_type": "code",
   "execution_count": 74,
   "id": "e98c017e-086f-46e0-8faf-90ebf4b6d13c",
   "metadata": {
    "tags": []
   },
   "outputs": [
    {
     "data": {
      "text/plain": [
       "defaultdict(list, {'key': [100, 200], 'another key': [300]})"
      ]
     },
     "execution_count": 74,
     "metadata": {},
     "output_type": "execute_result"
    }
   ],
   "source": [
    "dic[\"another key\"].append(300) # 존재하지 않는 키에 대해서도 빈 리스트를 자동으로 생성해 밸류를 해당 키로 접근되는 리스트에 추가\n",
    "dic"
   ]
  },
  {
   "cell_type": "code",
   "execution_count": 56,
   "id": "ac1b29cb-19e1-4e77-bf53-9c0a6719a651",
   "metadata": {
    "tags": []
   },
   "outputs": [],
   "source": [
    "info = [\"java backend junior pizza 150\",\n",
    " \"python frontend senior chicken 210\"]\n",
    "\n",
    "query = [\"java and backend and junior and pizza 100\",\n",
    " \"- and - and - and - 150\"]\n",
    "\n",
    "from collections import defaultdict\n",
    "from itertools import combinations\n",
    "from bisect import bisect_left as left_bound\n",
    "\n",
    "applications = defaultdict(list) # 밸류가 리스트에 추가되는 디폴트 딕트\n",
    "for i in info:\n",
    "    application = i.split()\n",
    "    score = int(application.pop())\n",
    "    applications[''.join(application)].append(score) # 일단 info에 있는 지원내용을 디폴트딕트에 추가하고\n",
    "    \n",
    "    for j in range(4):    # 지원자들은 언어,직군,경력,소울푸드를 무조건 선택해야 하므로, i.e. info에는 결측치가 없으므로\n",
    "                          # 지원내용 4개항목에서 4개항목이 다 있는 지원내용은 맨 처음 디폴트딕트에 추가했으므로\n",
    "                          # j = 0 아무것도 선택하지 않는 경우 : 쿼리에 지원내용이 모두 무관 \"-\" 인 경우\n",
    "                          # j = 1, j =2, j = 3 : 지원내용을 4개 중 1개, 2개, 3개 뽑았을 때 가능한 모든 조합 15개를 키로하고\n",
    "                          # 해당 지원내용 문자열 키에 score를 밸류로 추가한다.\n",
    "        candidates = list(combinations(application, j))\n",
    "        for candidate in candidates:\n",
    "            applications[''.join(candidate)].append(score)\n",
    "            \n",
    "# 딕셔너리를 쓰면 info에서 겹치는 지원 내용이 있을 때, 곧바로 score만 밸류 리스트에 추가될 수 있다.\n",
    "for i in applications: applications[i].sort()\n",
    "# 지원내용 디폴트딕트에 있는 모든 키에 대해 점수를 담고 있는 밸류 리스트를 오름차순 정렬한다.\n",
    "\n",
    "answer = []\n",
    "for i in query:\n",
    "    key = i.split()\n",
    "    score = int(key.pop())\n",
    "    key = ''.join(key)\n",
    "    key = key.replace('and', '').replace(' ', '').replace('-', '') \n",
    "    # 쿼리에서 지원내용을 applications 디폴트딕트의 지원내용과 같은 형식으로 맞추고\n",
    "    answer.append(len(applications[key]) - left_bound(applications[key], score))\n",
    "    # 지원내용이 일치하는 경우, 해당 키의 밸류의 길이, 즉 점수 리스트 길이에서\n",
    "    # 쿼리에서 요구하는 점수가 점수 리스트에 들어갔을 때의 인덱스를 빼준다.\n",
    "    # 예를 들어, applications[key]가 [100, 150, 200, 250]이고 score가 150일 때, \n",
    "    # left_bound(applications[key], score)는 1을 반환합니다 (인덱스 1은 값 150을 가리킵니다). \n",
    "    # 따라서, 150 이상의 점수를 가진 지원자의 수는 4 - 1 = 3명입니다.\n",
    "    # 즉 쿼리에서 요구하는 점수 이상의 점수가 몇개 있는지를 계산해 answer 리스트에 추가한다."
   ]
  },
  {
   "cell_type": "code",
   "execution_count": 101,
   "id": "9bdd5136-0628-454c-a59d-d7ac7f4a1d57",
   "metadata": {
    "tags": []
   },
   "outputs": [
    {
     "data": {
      "text/plain": [
       "defaultdict(list, {'javabackendjuniorpizza': [150]})"
      ]
     },
     "execution_count": 101,
     "metadata": {},
     "output_type": "execute_result"
    }
   ],
   "source": [
    "applications = defaultdict(list)\n",
    "application = info[0].split()\n",
    "score = int(application.pop())\n",
    "applications[''.join(application)].append(score)\n",
    "applications"
   ]
  },
  {
   "cell_type": "code",
   "execution_count": 102,
   "id": "f8eee60b-5d00-4acb-9371-0cd16e07ba8e",
   "metadata": {
    "tags": []
   },
   "outputs": [
    {
     "data": {
      "text/plain": [
       "['java', 'backend', 'junior', 'pizza']"
      ]
     },
     "execution_count": 102,
     "metadata": {},
     "output_type": "execute_result"
    }
   ],
   "source": [
    "application"
   ]
  },
  {
   "cell_type": "code",
   "execution_count": 103,
   "id": "d07ffaad-844d-4dae-9a24-39f758f30e70",
   "metadata": {
    "tags": []
   },
   "outputs": [],
   "source": [
    "cnt = 0\n",
    "for j in range(4):\n",
    "    candidates = list(combinations(application, j))\n",
    "    for candidate in candidates:\n",
    "        applications[''.join(candidate)].append(score)\n",
    "        cnt+=1"
   ]
  },
  {
   "cell_type": "code",
   "execution_count": 104,
   "id": "b8dc5e7f-31a1-4b46-b092-f60090c58fc5",
   "metadata": {
    "tags": []
   },
   "outputs": [
    {
     "data": {
      "text/plain": [
       "15"
      ]
     },
     "execution_count": 104,
     "metadata": {},
     "output_type": "execute_result"
    }
   ],
   "source": [
    "cnt"
   ]
  },
  {
   "cell_type": "code",
   "execution_count": 105,
   "id": "1f659dda-7f3a-4de0-954d-616b573bd482",
   "metadata": {
    "tags": []
   },
   "outputs": [
    {
     "data": {
      "text/plain": [
       "defaultdict(list,\n",
       "            {'javabackendjuniorpizza': [150],\n",
       "             '': [150],\n",
       "             'java': [150],\n",
       "             'backend': [150],\n",
       "             'junior': [150],\n",
       "             'pizza': [150],\n",
       "             'javabackend': [150],\n",
       "             'javajunior': [150],\n",
       "             'javapizza': [150],\n",
       "             'backendjunior': [150],\n",
       "             'backendpizza': [150],\n",
       "             'juniorpizza': [150],\n",
       "             'javabackendjunior': [150],\n",
       "             'javabackendpizza': [150],\n",
       "             'javajuniorpizza': [150],\n",
       "             'backendjuniorpizza': [150]})"
      ]
     },
     "execution_count": 105,
     "metadata": {},
     "output_type": "execute_result"
    }
   ],
   "source": [
    "applications"
   ]
  },
  {
   "cell_type": "code",
   "execution_count": 106,
   "id": "ab604b83-77a8-4072-bc5e-a8b00dc70053",
   "metadata": {
    "tags": []
   },
   "outputs": [
    {
     "data": {
      "text/plain": [
       "1"
      ]
     },
     "execution_count": 106,
     "metadata": {},
     "output_type": "execute_result"
    }
   ],
   "source": [
    "len(applications[\"javabackendjuniorpizza\"])"
   ]
  },
  {
   "cell_type": "code",
   "execution_count": 108,
   "id": "cbb74a79-d16f-41c1-92b1-a2d4c9fa21a1",
   "metadata": {
    "tags": []
   },
   "outputs": [
    {
     "data": {
      "text/plain": [
       "0"
      ]
     },
     "execution_count": 108,
     "metadata": {},
     "output_type": "execute_result"
    }
   ],
   "source": [
    "left_bound(applications[\"javabackendjuniorpizza\"], 100)"
   ]
  },
  {
   "cell_type": "markdown",
   "id": "53d97d92-44b5-4684-b1da-7cfb9ee0aebe",
   "metadata": {},
   "source": [
    "### 하한선 찾기"
   ]
  },
  {
   "cell_type": "code",
   "execution_count": 111,
   "id": "58d8fb6c-f99e-4d8b-ac3f-21c7e1e15461",
   "metadata": {
    "tags": []
   },
   "outputs": [
    {
     "data": {
      "text/plain": [
       "(2, 3, 3)"
      ]
     },
     "execution_count": 111,
     "metadata": {},
     "output_type": "execute_result"
    }
   ],
   "source": [
    "points = [100, 120, 130, 140, 150, 160, 180, 200]\n",
    "point = 138\n",
    "\n",
    "left = 0\n",
    "right = len(points) - 1\n",
    "\n",
    "while left < right:\n",
    "    mid = (right-left)//2 + left\n",
    "    if points[mid] >= point:\n",
    "        right = mid\n",
    "    else: # points[mid] < point\n",
    "        left = mid + 1\n",
    "mid, left, right"
   ]
  },
  {
   "cell_type": "markdown",
   "id": "d84b9653-a7aa-4ac5-9f51-008d24f7b8db",
   "metadata": {},
   "source": [
    "### 상한선 찾기"
   ]
  },
  {
   "cell_type": "code",
   "execution_count": 116,
   "id": "e047087c-3ac6-4dc4-a732-faadf77c3efd",
   "metadata": {
    "tags": []
   },
   "outputs": [
    {
     "data": {
      "text/plain": [
       "(6, 6, 6)"
      ]
     },
     "execution_count": 116,
     "metadata": {},
     "output_type": "execute_result"
    }
   ],
   "source": [
    "points = [100, 120, 130, 140, 150, 160, 180, 200]\n",
    "point = 170\n",
    "\n",
    "left = 0\n",
    "right = len(points) - 1\n",
    "\n",
    "while left < right:\n",
    "    mid = (right-left)//2 + left\n",
    "    if point < points[mid]:\n",
    "        right = mid\n",
    "    else: # point > points[mid]\n",
    "        left = mid + 1\n",
    "        \n",
    "mid, left, right"
   ]
  },
  {
   "cell_type": "code",
   "execution_count": 121,
   "id": "8abb4655-f79e-48c7-9c00-5e473c70ced3",
   "metadata": {
    "tags": []
   },
   "outputs": [
    {
     "data": {
      "text/plain": [
       "(0, 1, 1)"
      ]
     },
     "execution_count": 121,
     "metadata": {},
     "output_type": "execute_result"
    }
   ],
   "source": [
    "points = [100, 120, 130, 140, 150, 160, 180, 200]\n",
    "point = 110\n",
    "\n",
    "left = 0\n",
    "right = len(points) - 1\n",
    "\n",
    "while left < right:\n",
    "    mid = (right-left)//2 + left\n",
    "    if point < points[mid]:\n",
    "        right = mid\n",
    "    else: # point > points[mid]\n",
    "        left = mid + 1\n",
    "        \n",
    "mid, left, right"
   ]
  },
  {
   "cell_type": "markdown",
   "id": "73961a12-f700-4709-8557-33d2ef2bdfec",
   "metadata": {},
   "source": [
    "# 문29 입국심사 h\n",
    "https://school.programmers.co.kr/learn/courses/30/lessons/43238"
   ]
  },
  {
   "cell_type": "markdown",
   "id": "20a23bfc-a99f-4fa4-97dd-bf0122bb87e1",
   "metadata": {},
   "source": [
    "    입국심사를 기다리는 사람 수 n, \n",
    "    각 심사관이 한 명을 심사하는데 걸리는 시간이 담긴 배열 times\n",
    "\n",
    "    모든 사람이 심사를 받는데 걸리는 시간의 최솟값을 return \n",
    "\n",
    "    n\ttimes\treturn\n",
    "    6\t[7, 10]\t28\n",
    "\n",
    "    제한사항\n",
    "    입국심사를 기다리는 사람은 1명 이상 1,000,000,000명 이하입니다.\n",
    "    각 심사관이 한 명을 심사하는데 걸리는 시간은 1분 이상 1,000,000,000분 이하입니다.\n",
    "    심사관은 1명 이상 100,000명 이하입니다.\n"
   ]
  },
  {
   "cell_type": "code",
   "execution_count": 35,
   "id": "156bdc43-ea17-4158-bc8b-6b5bb116c2e4",
   "metadata": {
    "tags": []
   },
   "outputs": [],
   "source": [
    "def solution(n, times):\n",
    "    left, right = 1, max(times) * n # left : 최소 시간 = 1분 (가장 빠른 심사관이 한 명을 심사하는 데 걸리는 최소 시간).\n",
    "                                    # right : 최대 시간 = max(times) * n (가장 느린 심사관이 모든 사람을 심사하는 데 걸리는 시간).\n",
    "    while left <= right: \n",
    "        mid = (left + right) // 2                  # 중간 시간(mid)을 구하고, \n",
    "        total = sum(mid // time for time in times) # 이 시간 동안 각 심사관이 심사할 수 있는 사람 수의 총합을 계산합니다.\n",
    "\n",
    "        if total >= n:        # 이 총합이 대기하는 사람 수 n보다 크거나 같으면, \n",
    "            right = mid - 1   # 심사 시간을 줄일 수 있는 가능성을 탐색합니다.\n",
    "        else:                 # 총합이 n보다 작다면, \n",
    "            left = mid + 1    # 심사 시간을 늘려야 합니다.\n",
    " \n",
    "    return left     # 최소 심사 시간을 반환"
   ]
  },
  {
   "cell_type": "code",
   "execution_count": 36,
   "id": "46730539-0779-4d77-b01b-c032d65aab14",
   "metadata": {
    "tags": []
   },
   "outputs": [
    {
     "data": {
      "text/plain": [
       "28"
      ]
     },
     "execution_count": 36,
     "metadata": {},
     "output_type": "execute_result"
    }
   ],
   "source": [
    "solution(6, [7,10])"
   ]
  },
  {
   "cell_type": "markdown",
   "id": "78dcc8cc-dabf-4266-b03e-ff685ddddc49",
   "metadata": {},
   "source": [
    "### m: 30\n",
    "### h: 29, 31, 32"
   ]
  },
  {
   "cell_type": "markdown",
   "id": "9a771b8c-8ff7-446c-8646-72b361c968f3",
   "metadata": {},
   "source": [
    "# 문31 징검다리 h\n",
    "https://school.programmers.co.kr/learn/courses/30/lessons/43236"
   ]
  },
  {
   "cell_type": "markdown",
   "id": "a67e3b2e-ad26-4c1a-91e8-c47f7bac52fc",
   "metadata": {},
   "source": [
    "# 문32 징검다리 건너기 h\n",
    "https://school.programmers.co.kr/learn/courses/30/lessons/64062"
   ]
  },
  {
   "cell_type": "code",
   "execution_count": null,
   "id": "275cbdfc-5644-47ff-9842-d1abd6c5e308",
   "metadata": {},
   "outputs": [],
   "source": []
  }
 ],
 "metadata": {
  "kernelspec": {
   "display_name": "Python 3 (ipykernel)",
   "language": "python",
   "name": "python3"
  },
  "language_info": {
   "codemirror_mode": {
    "name": "ipython",
    "version": 3
   },
   "file_extension": ".py",
   "mimetype": "text/x-python",
   "name": "python",
   "nbconvert_exporter": "python",
   "pygments_lexer": "ipython3",
   "version": "3.11.0"
  }
 },
 "nbformat": 4,
 "nbformat_minor": 5
}
