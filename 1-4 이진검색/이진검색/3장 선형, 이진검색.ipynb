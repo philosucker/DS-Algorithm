{
 "cells": [
  {
   "cell_type": "markdown",
   "id": "41fe464a-3344-41c0-ba88-99ec04979541",
   "metadata": {},
   "source": [
    "# 문1) 검색의 종류"
   ]
  },
  {
   "cell_type": "markdown",
   "id": "3e611918-1502-47a5-a539-15646628bd6f",
   "metadata": {},
   "source": [
    "1. 배열을 사용한 검색 : \n",
    "     \n",
    "     선형검색, 이진검색\n",
    "\n",
    "문자열에서 검색\n",
    "\n",
    "해시법(배열, 연결리스트 사용)\n",
    "\n",
    "2. 연결리스트에서 검색\n",
    "\n",
    "3. 이진검색트리에서 검색"
   ]
  },
  {
   "cell_type": "markdown",
   "id": "aff0c026-c652-487c-9ecc-a7c33d853cec",
   "metadata": {},
   "source": [
    "# 문2) 선형검색에서 배열의 크기가 n일때 평균검색횟수는?"
   ]
  },
  {
   "cell_type": "code",
   "execution_count": 44,
   "id": "ae0a1046-29d0-41cd-8273-c247b452e21e",
   "metadata": {
    "tags": []
   },
   "outputs": [
    {
     "data": {
      "text/plain": [
       "5.5"
      ]
     },
     "execution_count": 44,
     "metadata": {},
     "output_type": "execute_result"
    }
   ],
   "source": [
    "'''\n",
    "크기가 n인 배열의 선형검색에서 검색과정을 반복할때마다 검색 범위는 -1씩 줄어든다.\n",
    "처음에 찾는 경우 n \n",
    "두번째 n-1 \n",
    "세번째 n-2\n",
    "네번째 n-3\n",
    "...\n",
    "n-1번째 2\n",
    "n번째 1\n",
    "\n",
    "선형검색에서 n은 배열의 크기이자 남은 검색범위이며, 남은 검색실행 횟수이기도 하다.\n",
    "따라서 선형검색의 평균 검색실행 횟수는\n",
    "배열의 크기가 n일 때\n",
    "총 검색시도 횟수 k라면\n",
    "각 시도당 검색횟수는 (1+2+3+...+(n-1)+n) 가 되고\n",
    "이를 총 검색시도 횟수로 나눠주면 \n",
    "평균 검색횟수가 나오는데\n",
    "최대 검색시도 횟수는 k=n 이므로\n",
    "(1+2+3+...+(n-1)+n) / n = (n(n+1)/2)/n = n+1/2 가 되어\n",
    "평균 검색 횟수는 대략 n/2가 된다.\n",
    "'''\n",
    "s = 0\n",
    "for i in range(10): \n",
    "    s += i+1\n",
    "s/10"
   ]
  },
  {
   "cell_type": "markdown",
   "id": "29c0111b-b303-41f2-87f9-e8ac8be0dd31",
   "metadata": {},
   "source": [
    "# 문3) 선형검색을 써야하는 경우\n",
    "배열의 데이터가 정렬되어 있지 않은 경우 유일한 검색 방법"
   ]
  },
  {
   "cell_type": "markdown",
   "id": "8bcc8b49-6f95-4aac-93ff-674cb4282f04",
   "metadata": {
    "tags": []
   },
   "source": [
    "# 문4) 선형검색 구현"
   ]
  },
  {
   "cell_type": "code",
   "execution_count": 35,
   "id": "4c257be0-8521-4932-aa4a-d79df23b050f",
   "metadata": {
    "tags": []
   },
   "outputs": [],
   "source": [
    "def sequential_search():\n",
    "    \n",
    "    n = int(input(\"배열의 크기를 몇으로 하시겠습니까? \"))\n",
    "    arr = [None] * n\n",
    "    for i in range(n):\n",
    "        arr[i] = int(input(f'{i}번째 원소를 입력하세요: '))\n",
    "        \n",
    "    key = int(input(\"찾으려는 원소값이 몇입니까? \"))\n",
    "    \n",
    "    i = 0\n",
    "    while True:\n",
    "        if i == len(a):\n",
    "            return -1\n",
    "        \n",
    "        if arr[i] == key:\n",
    "            print(f'찾으려는 값 {arr[i]}는 배열의 {i}번째에 위치해 있습니다')\n",
    "            return \n",
    "     \n",
    "        i += 1\n",
    "        \n",
    "    # 내가 짠 코드. 보초법 필요 없음\n",
    "    # while i <= len(arr)-1:\n",
    "    #     if arr[i] == key:\n",
    "    #         print(f'찾으려는 값 {arr[i]}는 배열의 {i}번째에 위치해 있습니다')\n",
    "    #         return\n",
    "    #     else: i+=1\n",
    "    # return -1\n",
    "    \n",
    "    # 책에서 for문으로 구현한 코드. 이것도 보초법 필요없음\n",
    "    # for i in range(len(arr)):\n",
    "    #     if arr[i] == key:\n",
    "    #         return i\n",
    "    # else: return -1"
   ]
  },
  {
   "cell_type": "code",
   "execution_count": 36,
   "id": "ed185847-5666-4b82-bfae-24d7f79af05f",
   "metadata": {
    "tags": []
   },
   "outputs": [
    {
     "name": "stdin",
     "output_type": "stream",
     "text": [
      "배열의 크기를 몇으로 하시겠습니까?  10\n",
      "0번째 원소를 입력하세요:  1\n",
      "1번째 원소를 입력하세요:  2\n",
      "2번째 원소를 입력하세요:  3\n",
      "3번째 원소를 입력하세요:  4\n",
      "4번째 원소를 입력하세요:  5\n",
      "5번째 원소를 입력하세요:  6\n",
      "6번째 원소를 입력하세요:  7\n",
      "7번째 원소를 입력하세요:  8\n",
      "8번째 원소를 입력하세요:  9\n",
      "9번째 원소를 입력하세요:  10\n",
      "찾으려는 원소값이 몇입니까?  -1\n"
     ]
    },
    {
     "data": {
      "text/plain": [
       "-1"
      ]
     },
     "execution_count": 36,
     "metadata": {},
     "output_type": "execute_result"
    }
   ],
   "source": [
    "sequential_search()"
   ]
  },
  {
   "cell_type": "code",
   "execution_count": null,
   "id": "d0c62540-e6da-4cb3-a623-5f0218cacf10",
   "metadata": {},
   "outputs": [],
   "source": []
  },
  {
   "cell_type": "markdown",
   "id": "34349a16-af4a-4985-a1d5-9ca20ac4a524",
   "metadata": {},
   "source": [
    "# 문5) 보초법을 쓰는 이유\n",
    "검색성공조건과 종료조건을 반복문 내에서 모두 따질 때, 조건판단이 너무 많이 일어나므로  \n",
    "종료조건을 없애기 위해 사용"
   ]
  },
  {
   "cell_type": "markdown",
   "id": "79054905-8d24-4f74-ab10-b6f31b53ee87",
   "metadata": {},
   "source": [
    "# 문6) 보초법 구현"
   ]
  },
  {
   "cell_type": "code",
   "execution_count": 22,
   "id": "3e1220ce-2814-4e6e-81c0-ac1ad137aeb2",
   "metadata": {},
   "outputs": [],
   "source": [
    "import copy\n",
    "\n",
    "def sentinel_search(arr, key):\n",
    "    \n",
    "    a = copy.deepcopy(arr)\n",
    "    a.append(key)         # 보초 투입\n",
    "    for i in range(len(a)):\n",
    "        if a[i] == key:\n",
    "            break\n",
    "    \n",
    "    return -1 if i == len(arr) else i"
   ]
  },
  {
   "cell_type": "code",
   "execution_count": 23,
   "id": "d476269e-7c97-480c-9f12-82556487cca8",
   "metadata": {},
   "outputs": [
    {
     "data": {
      "text/plain": [
       "-1"
      ]
     },
     "execution_count": 23,
     "metadata": {},
     "output_type": "execute_result"
    }
   ],
   "source": [
    "sentinel_search([1,2,3,4,5,6,7,8,9,10], -1)"
   ]
  },
  {
   "cell_type": "code",
   "execution_count": 7,
   "id": "0c146967-2d70-4349-9225-242167c9f986",
   "metadata": {},
   "outputs": [
    {
     "data": {
      "text/plain": [
       "10"
      ]
     },
     "execution_count": 7,
     "metadata": {},
     "output_type": "execute_result"
    }
   ],
   "source": [
    "a = [1,2,3,4,5,6,7,8,9,10]\n",
    "a[9]"
   ]
  },
  {
   "cell_type": "markdown",
   "id": "5877c353-ccf6-4515-a69c-b61abc818caf",
   "metadata": {},
   "source": [
    "# 문7) 이진검색을 사용하는 경우\n",
    "배열의 데이터가 이미 정렬되어 있는 경우"
   ]
  },
  {
   "cell_type": "markdown",
   "id": "6ae04742-0340-4774-a8e1-6f49cb3849cd",
   "metadata": {},
   "source": [
    "# 문8) 이진 검색 구현"
   ]
  },
  {
   "cell_type": "code",
   "execution_count": 2,
   "id": "1ed25262-a7cb-4607-96ed-0c42e4211f84",
   "metadata": {
    "tags": []
   },
   "outputs": [
    {
     "data": {
      "text/plain": [
       "7"
      ]
     },
     "execution_count": 2,
     "metadata": {},
     "output_type": "execute_result"
    }
   ],
   "source": [
    "from typing import Any, Sequence\n",
    "\n",
    "def binary_search(arr: Sequence, key: Any) -> Any:\n",
    "    \n",
    "    n = len(arr)\n",
    "    pl = 0\n",
    "    pr = n-1\n",
    "    \n",
    "    while pl < pr:\n",
    "        pc = (pl+pr) // 2\n",
    "        \n",
    "        if arr[pc] == key:\n",
    "            return pc\n",
    "    \n",
    "        elif arr[pc] < key:\n",
    "            pl = pc+1\n",
    "            \n",
    "        else: # arr[pc] > key:\n",
    "            pr = pc-1\n",
    "    \n",
    "    return -1\n",
    "\n",
    "binary_search([1,2,3,4,5,6,7,8,9,10], 8)"
   ]
  },
  {
   "cell_type": "code",
   "execution_count": 1,
   "id": "3328049d-d29f-4447-8f5e-2f4dd7e7f178",
   "metadata": {
    "tags": []
   },
   "outputs": [
    {
     "data": {
      "text/plain": [
       "7"
      ]
     },
     "execution_count": 1,
     "metadata": {},
     "output_type": "execute_result"
    }
   ],
   "source": [
    "from typing import Any, Sequence\n",
    "\n",
    "def binary_search(arr: Sequence, key: Any) -> Any:\n",
    "    \n",
    "    n = len(arr)\n",
    "    pl = 0\n",
    "    pr = n-1\n",
    "    \n",
    "    while True:\n",
    "        pc = (pl+pr) // 2\n",
    "        \n",
    "        if arr[pc] == key:\n",
    "            return pc\n",
    "    \n",
    "        elif arr[pc] < key:\n",
    "            pl = pc+1\n",
    "            \n",
    "        else: # arr[pc] > key:\n",
    "            pr = pc-1\n",
    "        \n",
    "        if pl > pr:\n",
    "            break\n",
    "    \n",
    "    return -1\n",
    "\n",
    "binary_search([1,2,3,4,5,6,7,8,9,10], 8)"
   ]
  },
  {
   "cell_type": "markdown",
   "id": "c5f56215-ebc9-4a38-af8f-aa603863319b",
   "metadata": {
    "tags": []
   },
   "source": [
    "### 인덱스를 가지고 중앙위치를 구하면\n",
    "\n",
    "#### 길이가 홀수 배열이면 n//2 결과, 정가운데 인덱스를 반환하지만\n",
    "#### 길이가 짝수 배열이면 n//2 결과, 정가운데에서 왼쪽 인덱스를 반환한다\n",
    "    \n",
    "    인덱스  0  1  2  3  4  5  6  7\n",
    "    배열    8, 7, 6, 5, 4, 3, 2, 1\n",
    "    \n",
    "    0+7//2 = 3"
   ]
  },
  {
   "cell_type": "code",
   "execution_count": 42,
   "id": "8ae4ff18-4c53-4f82-9383-7a86eafcd2f2",
   "metadata": {
    "tags": []
   },
   "outputs": [
    {
     "data": {
      "text/plain": [
       "7"
      ]
     },
     "execution_count": 42,
     "metadata": {},
     "output_type": "execute_result"
    }
   ],
   "source": [
    "binary_search([1,2,3,4,5,6,7,8,9,10], 8)"
   ]
  },
  {
   "cell_type": "markdown",
   "id": "1b6062ad-fe10-4c43-8c02-61ae5850908a",
   "metadata": {},
   "source": [
    "# 문9) 이진 검색의 시간복잡도"
   ]
  },
  {
   "cell_type": "code",
   "execution_count": null,
   "id": "fc4082d7-4d60-4631-bea4-1021e354bf45",
   "metadata": {},
   "outputs": [],
   "source": [
    "'''\n",
    "이진검색에서 검색과정이 반복될때마다 검색범위는 절반씩 줄어든다.\n",
    "\n",
    "처음에 찾는 경우 n\n",
    "두번째 n/2\n",
    "세번째 n/4\n",
    "네번째 n/8\n",
    "...\n",
    "k번째 n/2^k\n",
    "\n",
    "여기서 k는 검색시도 횟수이다.\n",
    "크기가 n인 배열의 이진검색에서 최대 검색시도 횟수는 1 = n/2^k 일 때이다.\n",
    "왜냐하면,\n",
    "예를 들어 k가 4였다는 건, 크기가 16인 배열에 이진검색을 했을 때 4번만에 찾았다는 것이고,\n",
    "이 경우 배열의 크기는 검색과정이 반복될 때마다 8, 4, 2, 1로 줄었음을 의미한다.\n",
    "바꿔 말해 4번의 이진검색 시도에 찾고자 하는 값을 찾았다는 것은\n",
    "크기가 16인 배열에 4번의 이진검색을 한 끝에 배열의 길이가, 바꿔말해 검색범위가 1만 남았다는 걸 뜻하게 된다.\n",
    "(다시 말해 1 = n/2^k 이 식은 마지막 검색 단계에1서 검색 범위가 1이 되는 시점을 의미한다)\n",
    "\n",
    "따라서 크기가 n인 배열의 이진검색의 최대검색시도 횟수는\n",
    "2^k = n 를 k에 대해 정리하면 k = logn 가 되고\n",
    "n이 매우 크다면, 예를 들어 2^100 이라고 해도, 이진 검색시 최대 100번 정도면 찾을 수 있다.\n",
    "\n",
    "그러면 이진검색의 평균검색횟수는 어떻게 구하지?\n",
    "'''"
   ]
  },
  {
   "cell_type": "markdown",
   "id": "3b7ff508-dd4a-41ec-991f-3cb839ed2a07",
   "metadata": {},
   "source": [
    "# 문10) 선형검색, 이진검색처럼 찾고자 하는 원소값의 인덱스를 반환하는 파이썬 내장함수"
   ]
  },
  {
   "cell_type": "code",
   "execution_count": 45,
   "id": "2af9951f-dcc3-40c1-b3cf-6c31e56bc2e8",
   "metadata": {
    "tags": []
   },
   "outputs": [
    {
     "data": {
      "text/plain": [
       "7"
      ]
     },
     "execution_count": 45,
     "metadata": {},
     "output_type": "execute_result"
    }
   ],
   "source": [
    "a = [1,2,3,4,5,6,7,8,9,10]\n",
    "\n",
    "a.index(8)"
   ]
  },
  {
   "cell_type": "code",
   "execution_count": null,
   "id": "428c5260-c726-49a1-adcd-583f1614a0af",
   "metadata": {},
   "outputs": [],
   "source": []
  }
 ],
 "metadata": {
  "kernelspec": {
   "display_name": "tf",
   "language": "python",
   "name": "tf"
  },
  "language_info": {
   "codemirror_mode": {
    "name": "ipython",
    "version": 3
   },
   "file_extension": ".py",
   "mimetype": "text/x-python",
   "name": "python",
   "nbconvert_exporter": "python",
   "pygments_lexer": "ipython3",
   "version": "3.11.0"
  }
 },
 "nbformat": 4,
 "nbformat_minor": 5
}
