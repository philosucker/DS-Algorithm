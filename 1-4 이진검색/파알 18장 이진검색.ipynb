{
 "cells": [
  {
   "cell_type": "markdown",
   "id": "9b4f1650-a3d7-4994-9cac-b7893778d67a",
   "metadata": {},
   "source": [
    "### e: 65, 67\n",
    "### m: 66, 68, 69"
   ]
  },
  {
   "cell_type": "markdown",
   "id": "9f9836fd-0cc1-4319-b5ad-3b0db323516e",
   "metadata": {},
   "source": [
    "# 문65 이진검색 e\n",
    "https://leetcode.com/problems/binary-search"
   ]
  },
  {
   "cell_type": "code",
   "execution_count": null,
   "id": "5715e231-bb5d-4a43-8226-df5523f17487",
   "metadata": {},
   "outputs": [],
   "source": [
    "Given an array of integers nums which is sorted in ascending order, a\n",
    "nd an integer target, write a function to search target in nums. \n",
    "If target exists, then return its index. Otherwise, return -1.\n",
    "\n",
    "You must write an algorithm with O(log n) runtime complexity."
   ]
  },
  {
   "cell_type": "markdown",
   "id": "76a60a92-3a33-4e32-ac9b-92604175eb8a",
   "metadata": {},
   "source": [
    "You must write an algorithm with O(log n) runtime complexity.\n",
    "\n",
    "Example 1:\n",
    "\n",
    "    Input: nums = [-1,0,3,5,9,12], target = 9\n",
    "    Output: 4\n",
    "    Explanation: 9 exists in nums and its index is 4\n",
    "\n",
    "Example 2:\n",
    "\n",
    "    Input: nums = [-1,0,3,5,9,12], target = 2\n",
    "    Output: -1\n",
    "    Explanation: 2 does not exist in nums so return -1"
   ]
  },
  {
   "cell_type": "markdown",
   "id": "ce41cb65-f39c-4cdc-9304-5cb88214e6de",
   "metadata": {},
   "source": [
    "### 반복문으로 풀이"
   ]
  },
  {
   "cell_type": "code",
   "execution_count": 2,
   "id": "97f6645f-a888-4fa2-baf2-6bed0060e801",
   "metadata": {},
   "outputs": [
    {
     "ename": "SyntaxError",
     "evalue": "expected ':' (1860788059.py, line 14)",
     "output_type": "error",
     "traceback": [
      "\u001b[0;36m  Cell \u001b[0;32mIn[2], line 14\u001b[0;36m\u001b[0m\n\u001b[0;31m    else target < nums[center]:\u001b[0m\n\u001b[0m         ^\u001b[0m\n\u001b[0;31mSyntaxError\u001b[0m\u001b[0;31m:\u001b[0m expected ':'\n"
     ]
    }
   ],
   "source": [
    "def binary_search(nums, target):\n",
    "    n = len(nums)\n",
    "    left = 0\n",
    "    right = n-1\n",
    "    \n",
    "    while True:\n",
    "        center = (left + right) // 2\n",
    "        if target == nums[center]:\n",
    "            return center\n",
    "        \n",
    "        elif target > nums[center]:\n",
    "            left = center + 1\n",
    "            \n",
    "        else target < nums[center]:\n",
    "            right = center - 1\n",
    "            \n",
    "        if left > right:\n",
    "            break\n",
    "            \n",
    "    return -1"
   ]
  },
  {
   "cell_type": "markdown",
   "id": "1c200678-6e75-4d20-977d-a05b1529fa5f",
   "metadata": {},
   "source": [
    "### 재귀로 풀이"
   ]
  },
  {
   "cell_type": "code",
   "execution_count": 2,
   "id": "bd6922e3-2b75-4c83-9f04-47f04141a265",
   "metadata": {
    "tags": []
   },
   "outputs": [],
   "source": [
    "def search(nums, target):\n",
    "\n",
    "    n = len(nums)\n",
    "    left = 0\n",
    "    right = n-1\n",
    "\n",
    "    def binary_search(nums, left, right):\n",
    "        if left > right:\n",
    "            return -1\n",
    "\n",
    "        center = (left + right) // 2\n",
    "        if target == nums[center]:\n",
    "            return center\n",
    "        elif target > nums[center]:\n",
    "            return binary_search(nums, center + 1, right)\n",
    "        else:\n",
    "            return binary_search(nums, left, center - 1)\n",
    "\n",
    "    return binary_search(nums, left, right)"
   ]
  },
  {
   "cell_type": "code",
   "execution_count": 3,
   "id": "0091899f-7a25-45f3-8e1c-826b93863565",
   "metadata": {
    "tags": []
   },
   "outputs": [
    {
     "data": {
      "text/plain": [
       "3000"
      ]
     },
     "execution_count": 3,
     "metadata": {},
     "output_type": "execute_result"
    }
   ],
   "source": [
    "import sys\n",
    "\n",
    "sys.getrecursionlimit() # 파이썬의 재귀 제한"
   ]
  },
  {
   "cell_type": "markdown",
   "id": "3b81dbeb-954c-4cb4-95d6-24b54ef8c68c",
   "metadata": {},
   "source": [
    "### 파이썬 이진검색 모듈 사용 풀이"
   ]
  },
  {
   "cell_type": "code",
   "execution_count": null,
   "id": "e1d938ea-89e4-44bf-a190-c543c18b96fa",
   "metadata": {},
   "outputs": [],
   "source": [
    "def search(nums, target):\n",
    "    index = bisect.bisect_left(nums, target)\n",
    "    \n",
    "    if index < len(nums) and nums[index] == target:\n",
    "        return index\n",
    "    else:\n",
    "        return -1"
   ]
  },
  {
   "cell_type": "markdown",
   "id": "c33acb22-3329-4dad-9b6b-3be7f4e40cde",
   "metadata": {},
   "source": [
    "### 파이썬 index() 메서드를 사용한 풀이\n"
   ]
  },
  {
   "cell_type": "code",
   "execution_count": null,
   "id": "85c04409-8ab8-4d37-b8f5-bb5cbdf21b76",
   "metadata": {},
   "outputs": [],
   "source": [
    "def search(nums, target):\n",
    "    try:\n",
    "        return nums.index(target)\n",
    "    except ValueError:\n",
    "        return -1"
   ]
  },
  {
   "cell_type": "markdown",
   "id": "dca9b2dc-3240-407c-8c1e-d94f40792639",
   "metadata": {},
   "source": [
    "이건 이진검색을 쓴게 아니므로 페널티를 받을 수 있다    \n",
    "또한 파이썬의 index() 함수는 앞에서부터 선형검색을 해서 target의 인덱스 값을 반환하므로,  \n",
    "입력배열이 크고, target이 뒤에 있다면   \n",
    "문제풀이조건 You must write an algorithm with O(log n) runtime complexity.  \n",
    "을 충족시킬 수도 없다.  "
   ]
  },
  {
   "cell_type": "markdown",
   "id": "a7ff7779-e68b-4c92-9e11-78933743f933",
   "metadata": {},
   "source": [
    "center = (left + right) // 2 연산은  \n",
    "굉장히 큰 배열의 경우 오퍼플로를 일으킬 수 있다.  \n",
    "두 수의 합은 항상 각 두 수보다 크므로.  \n",
    "파이썬음 임의 정밀도 정수형을 지원하므로 이 문제에 빠지지 않지만  \n",
    "자료형이 엄격한 언어에서는 발생할 수 있는 문제다.  \n",
    "  \n",
    "이 문제를 해결하는 방법  \n",
    "   \n",
    "center = left + (right-left) // 2  \n",
    "\n"
   ]
  },
  {
   "cell_type": "code",
   "execution_count": null,
   "id": "8501c96d-0857-4423-a79a-9a45194ba270",
   "metadata": {},
   "outputs": [],
   "source": [
    "class Solution:\n",
    "    def twoSum(self, numbers: List[int], target: int) -> List[int]:\n",
    "        "
   ]
  },
  {
   "cell_type": "markdown",
   "id": "610f7037-32b1-4838-917b-f6e0cfa50eb5",
   "metadata": {},
   "source": [
    "# 문67 두 배열의 교집합 e\n",
    "https://leetcode.com/problems/intersection-of-two-arrays/"
   ]
  },
  {
   "cell_type": "code",
   "execution_count": null,
   "id": "4c774207-00a8-4773-9db4-1d332bf3377a",
   "metadata": {},
   "outputs": [],
   "source": [
    "Given two integer arrays nums1 and nums2, return an array of their intersection. \n",
    "Each element in the result must be unique and you may return the result in any order.\n",
    "\n",
    "Example 1:\n",
    "\n",
    "Input: nums1 = [1,2,2,1], nums2 = [2,2]\n",
    "Output: [2]\n",
    "\n",
    "Example 2:\n",
    "Input: nums1 = [4,9,5], nums2 = [9,4,9,8,4]\n",
    "Output: [9,4]\n",
    "Explanation: [4,9] is also accepted."
   ]
  },
  {
   "cell_type": "code",
   "execution_count": 17,
   "id": "0ebaaecb-8b2c-47fc-a843-b4b8efef6277",
   "metadata": {
    "tags": []
   },
   "outputs": [
    {
     "data": {
      "text/plain": [
       "[4, 8, 9]"
      ]
     },
     "execution_count": 17,
     "metadata": {},
     "output_type": "execute_result"
    }
   ],
   "source": [
    "a = sorted(set([9,4,9,8,4]))\n",
    "a"
   ]
  },
  {
   "cell_type": "markdown",
   "id": "d6f3c7f1-1d62-43d0-a7b8-3cad49a5f4b2",
   "metadata": {},
   "source": [
    "### 내풀이"
   ]
  },
  {
   "cell_type": "code",
   "execution_count": 33,
   "id": "9f2f11dc-0c8c-4176-8f8f-c91a0b2b5138",
   "metadata": {
    "tags": []
   },
   "outputs": [
    {
     "data": {
      "text/plain": [
       "[2]"
      ]
     },
     "execution_count": 33,
     "metadata": {},
     "output_type": "execute_result"
    }
   ],
   "source": [
    "nums1 = [1,2,2,1]\n",
    "nums2 = [2,2]\n",
    "\n",
    "def intersection(nums1, nums2):\n",
    "    def binary_search(nums, targets):\n",
    "        answer = []\n",
    "        for target in targets:\n",
    "            left = 0\n",
    "            right = len(nums)-1\n",
    "            while True:\n",
    "                center = (right-left)//2 + left\n",
    "                if nums[center] == target:\n",
    "                    answer.append(target)\n",
    "                    break                    \n",
    "                elif target > nums[center]:\n",
    "                    left = center + 1\n",
    "                else:\n",
    "                    right = center - 1\n",
    "                if left > right:\n",
    "                    break\n",
    "        return answer\n",
    "    \n",
    "    nums1 = sorted(set(nums1))\n",
    "    nums2 = sorted(set(nums2))\n",
    "    \n",
    "    nums1_len = len(nums1)\n",
    "    nums2_len = len(nums2)\n",
    "    \n",
    "    if nums1_len >= nums2_len:\n",
    "        return binary_search(nums1, nums2)\n",
    "        \n",
    "    else:\n",
    "        return binary_search(nums2, nums1)\n",
    "\n",
    "intersection(nums1, nums2)"
   ]
  },
  {
   "cell_type": "markdown",
   "id": "4db5965f-d1cb-40df-b80d-00eae3d3d74e",
   "metadata": {},
   "source": [
    "# 문66 회전 정렬된 배열 검색 m\n",
    "https://leetcode.com/problems/search-in-rotated-sorted-array/"
   ]
  },
  {
   "cell_type": "code",
   "execution_count": null,
   "id": "65492779-4355-4de6-8559-888fd0842359",
   "metadata": {},
   "outputs": [],
   "source": [
    "There is an integer array nums sorted in ascending order (with distinct values).\n",
    "\n",
    "Prior to being passed to your function, \n",
    "nums is possibly rotated at an unknown pivot index k (1 <= k < nums.length) \n",
    "such that the resulting array is [nums[k], nums[k+1], ..., nums[n-1], nums[0], nums[1], ..., nums[k-1]] (0-indexed). \n",
    "For example, [0,1,2,4,5,6,7] might be rotated at pivot index 3 and become [4,5,6,7,0,1,2].\n",
    "\n",
    "Given the array nums after the possible rotation and an integer target, \n",
    "return the index of target if it is in nums, or -1 if it is not in nums.\n",
    "\n",
    "You must write an algorithm with O(log n) runtime complexity."
   ]
  },
  {
   "cell_type": "code",
   "execution_count": null,
   "id": "16ebde51-de16-44bb-ad35-a04a72d9f372",
   "metadata": {},
   "outputs": [],
   "source": [
    "Example 1:\n",
    "\n",
    "Input: nums = [4,5,6,7,0,1,2], target = 0\n",
    "Output: 4\n",
    "Example 2:\n",
    "\n",
    "Input: nums = [4,5,6,7,0,1,2], target = 3\n",
    "Output: -1"
   ]
  },
  {
   "cell_type": "code",
   "execution_count": 13,
   "id": "3ba51b0f-59a3-42e0-b10e-b22e5dd68e18",
   "metadata": {
    "tags": []
   },
   "outputs": [],
   "source": [
    "from __future__ import annotations\n",
    "\n",
    "def search(nums: List[int], target: int) -> int:\n",
    "    most_left = 0\n",
    "    right = nums.index(max(nums))\n",
    "\n",
    "    left = nums.index(min(nums))\n",
    "    most_right = len(nums)-1\n",
    "\n",
    "    if nums[most_left] <= target <= nums[right]:\n",
    "        while True:\n",
    "            center = (right - most_left)//2 + most_left\n",
    "            if target == nums[center]:\n",
    "                return center\n",
    "            elif target > nums[center]:\n",
    "                most_left = center + 1\n",
    "            else:# target < center:\n",
    "                right = center - 1\n",
    "            if most_left > right:\n",
    "                break\n",
    "        return -1\n",
    "\n",
    "    else:\n",
    "        while True:\n",
    "            center = (most_right - left)//2 + left\n",
    "            if target == nums[center]:\n",
    "                return center\n",
    "            elif target > nums[center]:\n",
    "                left = center + 1\n",
    "            else: # target < center:\n",
    "                most_right = center - 1\n",
    "            if left > most_right:\n",
    "                break\n",
    "        return -1"
   ]
  },
  {
   "cell_type": "code",
   "execution_count": 14,
   "id": "e2e40d03-099e-4f34-8208-f3990c58beef",
   "metadata": {
    "tags": []
   },
   "outputs": [
    {
     "data": {
      "text/plain": [
       "4"
      ]
     },
     "execution_count": 14,
     "metadata": {},
     "output_type": "execute_result"
    }
   ],
   "source": [
    "search([4,5,6,7,0,1,2], 0)"
   ]
  },
  {
   "cell_type": "markdown",
   "id": "d994a50c-cb5f-4030-86b6-953874d82ab7",
   "metadata": {},
   "source": [
    "### 책풀이"
   ]
  },
  {
   "cell_type": "code",
   "execution_count": 60,
   "id": "d2c5970b-2982-418e-ab6e-6df1a10b6696",
   "metadata": {
    "tags": []
   },
   "outputs": [],
   "source": [
    "# 정렬된 배열이 회전된 배열에서 최소값을 찾는 함수\n",
    "def findMin(nums):\n",
    "    left, right = 0, len(nums) - 1\n",
    "    while left < right:\n",
    "        mid = (left + right) // 2\n",
    "        if nums[mid] > nums[right]: # 중앙값이 nums[right]보다 크면, 최소값은 중앙값 오른쪽에 있으므로\n",
    "            left = mid + 1          # left를 중앙값 인덱스 오른쪽으로 밀고\n",
    "            \n",
    "        else:                       # 중앙값이 nums[right]보다 작거나 같으면, 최소값은 중앙값 왼쪽에 있으므로\n",
    "                                      # right를 중앙값 인덱스로 바꾼다 \n",
    "            right = mid\n",
    "    return nums[left]  # nums[right] 를 리턴해도 된다. min도 될 듯"
   ]
  },
  {
   "cell_type": "markdown",
   "id": "472c3eaa-c9dc-4b1e-b5c7-252c38f3ca1c",
   "metadata": {},
   "source": [
    "if nums[mid] > nums[right]는 중앙값이 오른쪽 끝값보다 클 경우를 검사합니다. \n",
    "이 조건이 참이면, 최소값은 mid 인덱스의 오른쪽에 있습니다. \n",
    "왜냐하면 정렬된 배열이 회전되었기 때문에, \n",
    "중앙값이 오른쪽 끝값보다 크다는 것은 최소값이 중앙값 오른쪽에 있어야 한다는 것을 의미하기 때문입니다. \n",
    "따라서, 탐색 범위의 왼쪽 경계를 mid + 1로 조정합니다.\n",
    "\n",
    "그렇지 않으면(즉, nums[mid] <= nums[right]인 경우), \n",
    "최소값은 현재 중앙값이거나 중앙값의 왼쪽에 있습니다. \n",
    "이 경우, 탐색 범위의 오른쪽 경계를 mid로 조정합니다.\n",
    "\n",
    "**nums[left] 반환 이유**\n",
    "while 루프는 left < right인 동안 계속 실행됩니다. \n",
    "이 조건이 거짓이 되어 루프가 종료되는 시점은 left == right일 때입니다.\n",
    "이 시점에서 left와 right는 최소값의 인덱스를 가리키고 있습니다. \n",
    "따라서, nums[left] 또는 nums[right] 둘 중 어느 것을 반환해도 \n",
    "최소값을 올바르게 반환하게 됩니다.\n"
   ]
  },
  {
   "cell_type": "code",
   "execution_count": 63,
   "id": "a2a22acc-ed71-4c62-a873-d487b1484bb5",
   "metadata": {
    "tags": []
   },
   "outputs": [
    {
     "data": {
      "text/plain": [
       "0"
      ]
     },
     "execution_count": 63,
     "metadata": {},
     "output_type": "execute_result"
    }
   ],
   "source": [
    "findMin([7,8,9,0,1,2,3,4,5,6])\n",
    "findMin([6,7,8,9,0,1,2,3,4,5])\n",
    "findMin([4,5,6,7,8,9,0,1,2,3])"
   ]
  },
  {
   "cell_type": "markdown",
   "id": "64cf8d6b-8e80-436a-a389-3fa7b50c07ba",
   "metadata": {},
   "source": [
    "### chatGPT 풀이"
   ]
  },
  {
   "cell_type": "code",
   "execution_count": 15,
   "id": "97a82bce-6d29-400f-b874-9a1d2fbfba67",
   "metadata": {
    "tags": []
   },
   "outputs": [],
   "source": [
    "def search(nums: List[int], target: int) -> int:\n",
    "    left, right = 0, len(nums) - 1\n",
    "\n",
    "    while left <= right:\n",
    "        mid = (left + right) // 2\n",
    "        if nums[mid] == target:\n",
    "            return mid\n",
    "\n",
    "        # 왼쪽 절반 정렬 확인\n",
    "        if nums[left] <= nums[mid]:\n",
    "            if nums[left] <= target < nums[mid]:\n",
    "                right = mid - 1\n",
    "            else:\n",
    "                left = mid + 1\n",
    "        # 오른쪽 절반 정렬 확인\n",
    "        else:\n",
    "            if nums[mid] < target <= nums[right]:\n",
    "                left = mid + 1\n",
    "            else:\n",
    "                right = mid - 1\n",
    "\n",
    "    return -1"
   ]
  },
  {
   "cell_type": "markdown",
   "id": "9c294394-bc7c-49cf-bf0b-e362bf19554e",
   "metadata": {},
   "source": [
    "# 문68 두 배열의 교집합 m\n",
    "https://leetcode.com/problems/two-sum-ii-input-array-is-sorted/"
   ]
  },
  {
   "cell_type": "code",
   "execution_count": null,
   "id": "43dccfde-eef7-4326-8979-6f32bcbba326",
   "metadata": {},
   "outputs": [],
   "source": [
    "Given a 1-indexed array of integers numbers that is already sorted in non-decreasing order, \n",
    "find two numbers such that they add up to a specific target number. \n",
    "Let these two numbers be numbers[index1] and numbers[index2] where 1 <= index1 < index2 <= numbers.length.\n",
    "\n",
    "Return the indices of the two numbers, index1 and index2, added by one as an integer array [index1, index2] of length 2.\n",
    "\n",
    "The tests are generated such that there is exactly one solution. You may not use the same element twice.\n",
    "\n",
    "Your solution must use only constant extra space.\n",
    "\n",
    "Example 1:\n",
    "\n",
    "Input: numbers = [2,7,11,15], target = 9\n",
    "Output: [1,2]\n",
    "Explanation: The sum of 2 and 7 is 9. Therefore, index1 = 1, index2 = 2. We return [1, 2].\n",
    "\n",
    "Example 2:\n",
    "\n",
    "Input: numbers = [2,3,4], target = 6\n",
    "Output: [1,3]\n",
    "Explanation: The sum of 2 and 4 is 6. Therefore index1 = 1, index2 = 3. We return [1, 3].\n"
   ]
  },
  {
   "cell_type": "markdown",
   "id": "86ec8640-d55d-47f0-8125-6930245ecf24",
   "metadata": {},
   "source": [
    "# 문69 2D 행렬검색II\n",
    "https://leetcode.com/problems/search-a-2d-matrix-ii/"
   ]
  },
  {
   "cell_type": "code",
   "execution_count": null,
   "id": "3e43b29b-d03d-43ef-b68b-635b86262cc7",
   "metadata": {},
   "outputs": [],
   "source": [
    "Write an efficient algorithm that searches for a value target in an m x n integer matrix matrix. This matrix has the following properties:\n",
    "\n",
    "Integers in each row are sorted in ascending from left to right.\n",
    "Integers in each column are sorted in ascending from top to bottom.\n",
    "\n",
    "Input: matrix = [[1,4,7,11,15],[2,5,8,12,19],[3,6,9,16,22],[10,13,14,17,24],[18,21,23,26,30]], target = 5\n",
    "Output: true\n",
    "\n",
    "Input: matrix = [[1,4,7,11,15],[2,5,8,12,19],[3,6,9,16,22],[10,13,14,17,24],[18,21,23,26,30]], target = 20\n",
    "Output: false"
   ]
  },
  {
   "cell_type": "code",
   "execution_count": null,
   "id": "222dd9c6-ca19-43ec-860f-32d3212779bf",
   "metadata": {},
   "outputs": [],
   "source": [
    "class Solution:\n",
    "    def searchMatrix(self, matrix: List[List[int]], target: int) -> bool:\n",
    "        "
   ]
  }
 ],
 "metadata": {
  "kernelspec": {
   "display_name": "Python 3 (ipykernel)",
   "language": "python",
   "name": "python3"
  },
  "language_info": {
   "codemirror_mode": {
    "name": "ipython",
    "version": 3
   },
   "file_extension": ".py",
   "mimetype": "text/x-python",
   "name": "python",
   "nbconvert_exporter": "python",
   "pygments_lexer": "ipython3",
   "version": "3.11.0"
  }
 },
 "nbformat": 4,
 "nbformat_minor": 5
}
