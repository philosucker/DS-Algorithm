{
 "cells": [
  {
   "cell_type": "markdown",
   "id": "9b4f1650-a3d7-4994-9cac-b7893778d67a",
   "metadata": {},
   "source": [
    "### e: 65, 67\n",
    "### m: 66, 68, 69"
   ]
  },
  {
   "cell_type": "markdown",
   "id": "9f9836fd-0cc1-4319-b5ad-3b0db323516e",
   "metadata": {},
   "source": [
    "# 문65 이진검색 e\n",
    "https://leetcode.com/problems/binary-search"
   ]
  },
  {
   "cell_type": "code",
   "execution_count": null,
   "id": "5715e231-bb5d-4a43-8226-df5523f17487",
   "metadata": {},
   "outputs": [],
   "source": [
    "Given an array of integers nums which is sorted in ascending order, a\n",
    "nd an integer target, write a function to search target in nums. \n",
    "If target exists, then return its index. Otherwise, return -1.\n",
    "\n",
    "You must write an algorithm with O(log n) runtime complexity."
   ]
  },
  {
   "cell_type": "markdown",
   "id": "76a60a92-3a33-4e32-ac9b-92604175eb8a",
   "metadata": {},
   "source": [
    "You must write an algorithm with O(log n) runtime complexity.\n",
    "\n",
    "Example 1:\n",
    "\n",
    "    Input: nums = [-1,0,3,5,9,12], target = 9\n",
    "    Output: 4\n",
    "    Explanation: 9 exists in nums and its index is 4\n",
    "\n",
    "Example 2:\n",
    "\n",
    "    Input: nums = [-1,0,3,5,9,12], target = 2\n",
    "    Output: -1\n",
    "    Explanation: 2 does not exist in nums so return -1"
   ]
  },
  {
   "cell_type": "markdown",
   "id": "ce41cb65-f39c-4cdc-9304-5cb88214e6de",
   "metadata": {},
   "source": [
    "### 반복문으로 풀이"
   ]
  },
  {
   "cell_type": "code",
   "execution_count": 2,
   "id": "97f6645f-a888-4fa2-baf2-6bed0060e801",
   "metadata": {},
   "outputs": [
    {
     "ename": "SyntaxError",
     "evalue": "expected ':' (1860788059.py, line 14)",
     "output_type": "error",
     "traceback": [
      "\u001b[0;36m  Cell \u001b[0;32mIn[2], line 14\u001b[0;36m\u001b[0m\n\u001b[0;31m    else target < nums[center]:\u001b[0m\n\u001b[0m         ^\u001b[0m\n\u001b[0;31mSyntaxError\u001b[0m\u001b[0;31m:\u001b[0m expected ':'\n"
     ]
    }
   ],
   "source": [
    "def binary_search(nums, target):\n",
    "    n = len(nums)\n",
    "    left = 0\n",
    "    right = n-1\n",
    "    \n",
    "    while True:\n",
    "        center = (left + right) // 2\n",
    "        if target == nums[center]:\n",
    "            return center\n",
    "        \n",
    "        elif target > nums[center]:\n",
    "            left = center + 1\n",
    "            \n",
    "        else target < nums[center]:\n",
    "            right = center - 1\n",
    "            \n",
    "        if left > right:\n",
    "            break\n",
    "            \n",
    "    return -1"
   ]
  },
  {
   "cell_type": "markdown",
   "id": "1c200678-6e75-4d20-977d-a05b1529fa5f",
   "metadata": {},
   "source": [
    "### 재귀로 풀이"
   ]
  },
  {
   "cell_type": "code",
   "execution_count": 2,
   "id": "bd6922e3-2b75-4c83-9f04-47f04141a265",
   "metadata": {
    "tags": []
   },
   "outputs": [],
   "source": [
    "def search(nums, target):\n",
    "\n",
    "    n = len(nums)\n",
    "    left = 0\n",
    "    right = n-1\n",
    "\n",
    "    def binary_search(nums, left, right):\n",
    "        if left > right:\n",
    "            return -1\n",
    "\n",
    "        center = (left + right) // 2\n",
    "        if target == nums[center]:\n",
    "            return center\n",
    "        elif target > nums[center]:\n",
    "            return binary_search(nums, center + 1, right)\n",
    "        else:\n",
    "            return binary_search(nums, left, center - 1)\n",
    "\n",
    "    return binary_search(nums, left, right)"
   ]
  },
  {
   "cell_type": "code",
   "execution_count": 3,
   "id": "0091899f-7a25-45f3-8e1c-826b93863565",
   "metadata": {
    "tags": []
   },
   "outputs": [
    {
     "data": {
      "text/plain": [
       "3000"
      ]
     },
     "execution_count": 3,
     "metadata": {},
     "output_type": "execute_result"
    }
   ],
   "source": [
    "import sys\n",
    "\n",
    "sys.getrecursionlimit() # 파이썬의 재귀 제한"
   ]
  },
  {
   "cell_type": "markdown",
   "id": "3b81dbeb-954c-4cb4-95d6-24b54ef8c68c",
   "metadata": {},
   "source": [
    "### 파이썬 이진검색 모듈 사용 풀이"
   ]
  },
  {
   "cell_type": "code",
   "execution_count": null,
   "id": "e1d938ea-89e4-44bf-a190-c543c18b96fa",
   "metadata": {},
   "outputs": [],
   "source": [
    "def search(nums, target):\n",
    "    index = bisect.bisect_left(nums, target)\n",
    "    \n",
    "    if index < len(nums) and nums[index] == target:\n",
    "        return index\n",
    "    else:\n",
    "        return -1"
   ]
  },
  {
   "cell_type": "markdown",
   "id": "c33acb22-3329-4dad-9b6b-3be7f4e40cde",
   "metadata": {},
   "source": [
    "### 파이썬 index() 메서드를 사용한 풀이\n"
   ]
  },
  {
   "cell_type": "code",
   "execution_count": null,
   "id": "85c04409-8ab8-4d37-b8f5-bb5cbdf21b76",
   "metadata": {},
   "outputs": [],
   "source": [
    "def search(nums, target):\n",
    "    try:\n",
    "        return nums.index(target)\n",
    "    except ValueError:\n",
    "        return -1"
   ]
  },
  {
   "cell_type": "markdown",
   "id": "dca9b2dc-3240-407c-8c1e-d94f40792639",
   "metadata": {},
   "source": [
    "이건 이진검색을 쓴게 아니므로 페널티를 받을 수 있다    \n",
    "또한 파이썬의 index() 함수는 앞에서부터 선형검색을 해서 target의 인덱스 값을 반환하므로,  \n",
    "입력배열이 크고, target이 뒤에 있다면   \n",
    "문제풀이조건 You must write an algorithm with O(log n) runtime complexity.  \n",
    "을 충족시킬 수도 없다.  "
   ]
  },
  {
   "cell_type": "markdown",
   "id": "a7ff7779-e68b-4c92-9e11-78933743f933",
   "metadata": {},
   "source": [
    "center = (left + right) // 2 연산은  \n",
    "굉장히 큰 배열의 경우 오퍼플로를 일으킬 수 있다.  \n",
    "두 수의 합은 항상 각 두 수보다 크므로.  \n",
    "파이썬음 임의 정밀도 정수형을 지원하므로 이 문제에 빠지지 않지만  \n",
    "자료형이 엄격한 언어에서는 발생할 수 있는 문제다.  \n",
    "  \n",
    "이 문제를 해결하는 방법  \n",
    "   \n",
    "center = left + (right-left) // 2  \n",
    "\n"
   ]
  },
  {
   "cell_type": "code",
   "execution_count": null,
   "id": "8501c96d-0857-4423-a79a-9a45194ba270",
   "metadata": {},
   "outputs": [],
   "source": [
    "class Solution:\n",
    "    def twoSum(self, numbers: List[int], target: int) -> List[int]:\n",
    "        "
   ]
  },
  {
   "cell_type": "markdown",
   "id": "610f7037-32b1-4838-917b-f6e0cfa50eb5",
   "metadata": {},
   "source": [
    "# 문67 두 배열의 교집합 e\n",
    "https://leetcode.com/problems/intersection-of-two-arrays/"
   ]
  },
  {
   "cell_type": "code",
   "execution_count": null,
   "id": "4c774207-00a8-4773-9db4-1d332bf3377a",
   "metadata": {},
   "outputs": [],
   "source": [
    "Given two integer arrays nums1 and nums2, return an array of their intersection. \n",
    "Each element in the result must be unique and you may return the result in any order.\n",
    "\n",
    "Example 1:\n",
    "\n",
    "Input: nums1 = [1,2,2,1], nums2 = [2,2]\n",
    "Output: [2]\n",
    "\n",
    "Example 2:\n",
    "Input: nums1 = [4,9,5], nums2 = [9,4,9,8,4]\n",
    "Output: [9,4]\n",
    "Explanation: [4,9] is also accepted."
   ]
  },
  {
   "cell_type": "code",
   "execution_count": 17,
   "id": "0ebaaecb-8b2c-47fc-a843-b4b8efef6277",
   "metadata": {
    "tags": []
   },
   "outputs": [
    {
     "data": {
      "text/plain": [
       "[4, 8, 9]"
      ]
     },
     "execution_count": 17,
     "metadata": {},
     "output_type": "execute_result"
    }
   ],
   "source": [
    "a = sorted(set([9,4,9,8,4]))\n",
    "a"
   ]
  },
  {
   "cell_type": "markdown",
   "id": "d6f3c7f1-1d62-43d0-a7b8-3cad49a5f4b2",
   "metadata": {},
   "source": [
    "### 내풀이"
   ]
  },
  {
   "cell_type": "code",
   "execution_count": 33,
   "id": "9f2f11dc-0c8c-4176-8f8f-c91a0b2b5138",
   "metadata": {
    "tags": []
   },
   "outputs": [
    {
     "data": {
      "text/plain": [
       "[2]"
      ]
     },
     "execution_count": 33,
     "metadata": {},
     "output_type": "execute_result"
    }
   ],
   "source": [
    "nums1 = [1,2,2,1]\n",
    "nums2 = [2,2]\n",
    "\n",
    "def intersection(nums1, nums2):\n",
    "    def binary_search(nums, targets):\n",
    "        answer = []\n",
    "        for target in targets:\n",
    "            left = 0\n",
    "            right = len(nums)-1\n",
    "            while True:\n",
    "                center = (right-left)//2 + left\n",
    "                if nums[center] == target:\n",
    "                    answer.append(target)\n",
    "                    break                    \n",
    "                elif target > nums[center]:\n",
    "                    left = center + 1\n",
    "                else:\n",
    "                    right = center - 1\n",
    "                if left > right:\n",
    "                    break\n",
    "        return answer\n",
    "    \n",
    "    nums1 = sorted(set(nums1))\n",
    "    nums2 = sorted(set(nums2))\n",
    "    \n",
    "    nums1_len = len(nums1)\n",
    "    nums2_len = len(nums2)\n",
    "    \n",
    "    if nums1_len >= nums2_len:\n",
    "        return binary_search(nums1, nums2)\n",
    "        \n",
    "    else:\n",
    "        return binary_search(nums2, nums1)\n",
    "\n",
    "intersection(nums1, nums2)"
   ]
  },
  {
   "cell_type": "markdown",
   "id": "4db5965f-d1cb-40df-b80d-00eae3d3d74e",
   "metadata": {},
   "source": [
    "# 문66 회전 정렬된 배열 검색 m\n",
    "https://leetcode.com/problems/search-in-rotated-sorted-array/"
   ]
  },
  {
   "cell_type": "code",
   "execution_count": null,
   "id": "65492779-4355-4de6-8559-888fd0842359",
   "metadata": {},
   "outputs": [],
   "source": [
    "There is an integer array nums sorted in ascending order (with distinct values).\n",
    "\n",
    "Prior to being passed to your function, \n",
    "nums is possibly rotated at an unknown pivot index k (1 <= k < nums.length) \n",
    "such that the resulting array is [nums[k], nums[k+1], ..., nums[n-1], nums[0], nums[1], ..., nums[k-1]] (0-indexed). \n",
    "For example, [0,1,2,4,5,6,7] might be rotated at pivot index 3 and become [4,5,6,7,0,1,2].\n",
    "\n",
    "Given the array nums after the possible rotation and an integer target, \n",
    "return the index of target if it is in nums, or -1 if it is not in nums.\n",
    "\n",
    "You must write an algorithm with O(log n) runtime complexity."
   ]
  },
  {
   "cell_type": "code",
   "execution_count": null,
   "id": "16ebde51-de16-44bb-ad35-a04a72d9f372",
   "metadata": {},
   "outputs": [],
   "source": [
    "Example 1:\n",
    "\n",
    "Input: nums = [4,5,6,7,0,1,2], target = 0\n",
    "Output: 4\n",
    "Example 2:\n",
    "\n",
    "Input: nums = [4,5,6,7,0,1,2], target = 3\n",
    "Output: -1"
   ]
  },
  {
   "cell_type": "code",
   "execution_count": 13,
   "id": "3ba51b0f-59a3-42e0-b10e-b22e5dd68e18",
   "metadata": {
    "tags": []
   },
   "outputs": [],
   "source": [
    "from __future__ import annotations\n",
    "\n",
    "def search(nums: List[int], target: int) -> int:\n",
    "    most_left = 0\n",
    "    right = nums.index(max(nums))\n",
    "\n",
    "    left = nums.index(min(nums))\n",
    "    most_right = len(nums)-1\n",
    "\n",
    "    if nums[most_left] <= target <= nums[right]:\n",
    "        while True:\n",
    "            center = (right - most_left)//2 + most_left\n",
    "            if target == nums[center]:\n",
    "                return center\n",
    "            elif target > nums[center]:\n",
    "                most_left = center + 1\n",
    "            else:# target < center:\n",
    "                right = center - 1\n",
    "            if most_left > right:\n",
    "                break\n",
    "        return -1\n",
    "\n",
    "    else:\n",
    "        while True:\n",
    "            center = (most_right - left)//2 + left\n",
    "            if target == nums[center]:\n",
    "                return center\n",
    "            elif target > nums[center]:\n",
    "                left = center + 1\n",
    "            else: # target < center:\n",
    "                most_right = center - 1\n",
    "            if left > most_right:\n",
    "                break\n",
    "        return -1"
   ]
  },
  {
   "cell_type": "code",
   "execution_count": 14,
   "id": "e2e40d03-099e-4f34-8208-f3990c58beef",
   "metadata": {
    "tags": []
   },
   "outputs": [
    {
     "data": {
      "text/plain": [
       "4"
      ]
     },
     "execution_count": 14,
     "metadata": {},
     "output_type": "execute_result"
    }
   ],
   "source": [
    "search([4,5,6,7,0,1,2], 0)"
   ]
  },
  {
   "cell_type": "markdown",
   "id": "d994a50c-cb5f-4030-86b6-953874d82ab7",
   "metadata": {},
   "source": [
    "### 책풀이"
   ]
  },
  {
   "cell_type": "code",
   "execution_count": 60,
   "id": "d2c5970b-2982-418e-ab6e-6df1a10b6696",
   "metadata": {
    "tags": []
   },
   "outputs": [],
   "source": [
    "# 정렬된 배열이 회전된 배열에서 최소값을 찾는 함수\n",
    "def findMin(nums):\n",
    "    left, right = 0, len(nums) - 1\n",
    "    while left < right:\n",
    "        mid = (left + right) // 2\n",
    "        if nums[mid] > nums[right]: # 중앙값이 nums[right]보다 크면, 최소값은 중앙값 오른쪽에 있으므로\n",
    "            left = mid + 1          # left를 중앙값 인덱스 오른쪽으로 밀고\n",
    "            \n",
    "        else:                       # 중앙값이 nums[right]보다 작거나 같으면, 최소값은 중앙값 왼쪽에 있으므로\n",
    "                                      # right를 중앙값 인덱스로 바꾼다 \n",
    "            right = mid\n",
    "    return nums[left]  # nums[right] 를 리턴해도 된다. min도 될 듯"
   ]
  },
  {
   "cell_type": "markdown",
   "id": "472c3eaa-c9dc-4b1e-b5c7-252c38f3ca1c",
   "metadata": {},
   "source": [
    "if nums[mid] > nums[right]는 중앙값이 오른쪽 끝값보다 클 경우를 검사합니다. \n",
    "이 조건이 참이면, 최소값은 mid 인덱스의 오른쪽에 있습니다. \n",
    "왜냐하면 정렬된 배열이 회전되었기 때문에, \n",
    "중앙값이 오른쪽 끝값보다 크다는 것은 최소값이 중앙값 오른쪽에 있어야 한다는 것을 의미하기 때문입니다. \n",
    "따라서, 탐색 범위의 왼쪽 경계를 mid + 1로 조정합니다.\n",
    "\n",
    "그렇지 않으면(즉, nums[mid] <= nums[right]인 경우), \n",
    "최소값은 현재 중앙값이거나 중앙값의 왼쪽에 있습니다. \n",
    "이 경우, 탐색 범위의 오른쪽 경계를 mid로 조정합니다.\n",
    "\n",
    "**nums[left] 반환 이유**\n",
    "while 루프는 left < right인 동안 계속 실행됩니다. \n",
    "이 조건이 거짓이 되어 루프가 종료되는 시점은 left == right일 때입니다.\n",
    "이 시점에서 left와 right는 최소값의 인덱스를 가리키고 있습니다. \n",
    "따라서, nums[left] 또는 nums[right] 둘 중 어느 것을 반환해도 \n",
    "최소값을 올바르게 반환하게 됩니다.\n"
   ]
  },
  {
   "cell_type": "code",
   "execution_count": 63,
   "id": "a2a22acc-ed71-4c62-a873-d487b1484bb5",
   "metadata": {
    "tags": []
   },
   "outputs": [
    {
     "data": {
      "text/plain": [
       "0"
      ]
     },
     "execution_count": 63,
     "metadata": {},
     "output_type": "execute_result"
    }
   ],
   "source": [
    "findMin([7,8,9,0,1,2,3,4,5,6])\n",
    "findMin([6,7,8,9,0,1,2,3,4,5])\n",
    "findMin([4,5,6,7,8,9,0,1,2,3])"
   ]
  },
  {
   "cell_type": "markdown",
   "id": "64cf8d6b-8e80-436a-a389-3fa7b50c07ba",
   "metadata": {},
   "source": [
    "### chatGPT 풀이"
   ]
  },
  {
   "cell_type": "code",
   "execution_count": 15,
   "id": "97a82bce-6d29-400f-b874-9a1d2fbfba67",
   "metadata": {
    "tags": []
   },
   "outputs": [],
   "source": [
    "def search(nums: List[int], target: int) -> int:\n",
    "    left, right = 0, len(nums) - 1\n",
    "\n",
    "    while left <= right:\n",
    "        mid = (left + right) // 2\n",
    "        if nums[mid] == target:\n",
    "            return mid\n",
    "\n",
    "        # 왼쪽 절반 정렬 확인\n",
    "        if nums[left] <= nums[mid]:\n",
    "            if nums[left] <= target < nums[mid]:\n",
    "                right = mid - 1\n",
    "            else:\n",
    "                left = mid + 1\n",
    "        # 오른쪽 절반 정렬 확인\n",
    "        else:\n",
    "            if nums[mid] < target <= nums[right]:\n",
    "                left = mid + 1\n",
    "            else:\n",
    "                right = mid - 1\n",
    "\n",
    "    return -1"
   ]
  },
  {
   "cell_type": "markdown",
   "id": "9c294394-bc7c-49cf-bf0b-e362bf19554e",
   "metadata": {},
   "source": [
    "# 문68 두 배열의 교집합 m\n",
    "https://leetcode.com/problems/two-sum-ii-input-array-is-sorted/"
   ]
  },
  {
   "cell_type": "code",
   "execution_count": null,
   "id": "43dccfde-eef7-4326-8979-6f32bcbba326",
   "metadata": {},
   "outputs": [],
   "source": [
    "Given a 1-indexed array of integers numbers that is already sorted in non-decreasing order, \n",
    "find two numbers such that they add up to a specific target number. \n",
    "Let these two numbers be numbers[index1] and numbers[index2] where 1 <= index1 < index2 <= numbers.length.\n",
    "\n",
    "Return the indices of the two numbers, index1 and index2, added by one as an integer array [index1, index2] of length 2.\n",
    "\n",
    "The tests are generated such that there is exactly one solution. You may not use the same element twice.\n",
    "\n",
    "Your solution must use only constant extra space.\n",
    "\n",
    "Example 1:\n",
    "\n",
    "Input: numbers = [2,7,11,15], target = 9\n",
    "Output: [1,2]\n",
    "Explanation: The sum of 2 and 7 is 9. Therefore, index1 = 1, index2 = 2. We return [1, 2].\n",
    "\n",
    "Example 2:\n",
    "\n",
    "Input: numbers = [2,3,4], target = 6\n",
    "Output: [1,3]\n",
    "Explanation: The sum of 2 and 4 is 6. Therefore index1 = 1, index2 = 3. We return [1, 3].\n",
    "\n",
    "2 <= numbers.length <= 3 * 10^4\n",
    "-1000 <= numbers[i] <= 1000\n",
    "numbers is sorted in non-decreasing order.\n",
    "-1000 <= target <= 1000\n",
    "The tests are generated such that there is exactly one solution."
   ]
  },
  {
   "cell_type": "code",
   "execution_count": null,
   "id": "f7f9281b-a399-4114-86ad-cb9d3dbba390",
   "metadata": {},
   "outputs": [],
   "source": [
    "문제해결전략 접근 아이디어 (솔루션 떠올리는데까지 10분 걸림)\n",
    "\n",
    "두 수의 합이 되는 수보다 두 수는 항상 작다.\n",
    "오름차순으로 정렬돼 있으니까 타겟 왼쪽만 보면 된다.\n",
    "아니다.\n",
    "타겟이 0이면 -1000 +1000 도 가능하다.\n",
    "최소 최대값을 활용하는게 중요할까?\n",
    "\n",
    "타겟이 2인데\n",
    "-900 +902가 있을 수 있다는 거다.\n",
    "\n",
    "그러면 완전탐색과 이진탐색을 합치자.\n",
    "앞에서부터 for문을 돌면서\n",
    "추출된 요소를 타겟에서 뺀 값이 추출된 요소 다음숫자와 마지막 숫자 사이까지 있는지 이진검색하는 식으로\n",
    "\n",
    "마지막 정답은 인덱스 +1 을 해서 리스트에 담아 리턴"
   ]
  },
  {
   "cell_type": "markdown",
   "id": "1fb584c0-c555-4275-bc9b-a86e64cac516",
   "metadata": {},
   "source": [
    "### bisect 메서드 옵션 하한,상한 설정 풀이\n",
    "상대적 인덱스를 알아서 절대적 인덱스로 바꿔준다. 빠름"
   ]
  },
  {
   "cell_type": "code",
   "execution_count": null,
   "id": "6acd91b7-0b14-42c8-8d61-28c3cdb64a42",
   "metadata": {},
   "outputs": [],
   "source": [
    "from bisect import bisect_left\n",
    "\n",
    "class Solution:\n",
    "    def twoSum(self, numbers: List[int], target: int) -> List[int]:\n",
    "        for i in range(len(numbers)):\n",
    "            obj = target - numbers[i]\n",
    "            idx = bisect_left(numbers, obj, lo=i+1)\n",
    "            if numbers[i] + numbers[idx] == target:\n",
    "                return [i+1, idx+1]"
   ]
  },
  {
   "cell_type": "markdown",
   "id": "7ffde7b7-fe07-49c6-b772-e10eff91ee11",
   "metadata": {},
   "source": [
    "```python\n",
    "bisect.bisect_left(a, x, lo=0, hi=len(a), *, key=None)\n",
    "정렬된 순서를 유지하도록 a에 x를 삽입할 위치를 찾습니다. \n",
    "매개 변수 lo 와 hi는 고려해야 할 리스트의 부분집합을 지정하는 데 사용될 수 있습니다; \n",
    "기본적으로 전체 리스트가 사용됩니다. \n",
    "x가 a에 이미 있으면, 삽입 위치는 기존 항목 앞(왼쪽)이 됩니다. \n",
    "반환 값은 a가 이미 정렬되었다고 가정할 때 list.insert()의 첫 번째 매개 변수로 사용하기에 적합합니다."
   ]
  },
  {
   "cell_type": "markdown",
   "id": "39659f63-ef29-465f-8385-1aea1fe4853b",
   "metadata": {},
   "source": [
    "### 투 포인터 풀이\n",
    "빠름"
   ]
  },
  {
   "cell_type": "code",
   "execution_count": null,
   "id": "9d3fd484-dcb6-48eb-9fb0-48b8cddac2e7",
   "metadata": {},
   "outputs": [],
   "source": [
    "class Solution:\n",
    "    def twoSum(self, numbers: List[int], target: int) -> List[int]:\n",
    "        left = 0\n",
    "        right = len(numbers) - 1\n",
    "\n",
    "        while left < right:\n",
    "            if numbers[left] + numbers[right] < target:\n",
    "                left += 1\n",
    "            elif numbers[left] + numbers[right] > target:\n",
    "                right -= 1\n",
    "            else:\n",
    "                return [left+1, right+1]"
   ]
  },
  {
   "cell_type": "markdown",
   "id": "3d97c3bb-9a9d-4c07-ae3c-3a620cf6ab26",
   "metadata": {},
   "source": [
    "### bisect + 슬라이싱 풀이\n",
    "입력이 큰 경우 슬라이싱 때문에 느려질 수 있다\n",
    "\n",
    "#### 슬라이싱은 새로운 객체를 생성하므로, 슬라이싱 결과가 큰 배열이거나, 그런 슬라이싱을 여러번 하게 되면 느려진다"
   ]
  },
  {
   "cell_type": "code",
   "execution_count": 63,
   "id": "51cf38e8-cde8-496f-8c2a-b7004b3e3158",
   "metadata": {
    "tags": []
   },
   "outputs": [
    {
     "name": "stdout",
     "output_type": "stream",
     "text": [
      "0 1\n"
     ]
    }
   ],
   "source": [
    "from bisect import bisect_left\n",
    "\n",
    "class Solution:\n",
    "    def twoSum(self, numbers: List[int], target: int) -> List[int]:\n",
    "        for i in range(len(numbers)):\n",
    "            obj = target - numbers[i]\n",
    "            # 상대적 인덱스를 얻음\n",
    "            relative_idx = bisect_left(numbers[i+1:], obj)\n",
    "            # 원본 리스트에서의 절대 인덱스를 계산\n",
    "            absolute_idx = relative_idx + i + 1\n",
    "            # 절대 인덱스가 유효한 범위 내에 있는지 확인하고, 조건을 검사\n",
    "            if absolute_idx < len(numbers) and numbers[i] + numbers[absolute_idx] == target:\n",
    "                return [i+1, absolute_idx+1]\n"
   ]
  },
  {
   "cell_type": "code",
   "execution_count": 74,
   "id": "17270b0d-09d0-45b2-ac1f-5c9d5cba2c94",
   "metadata": {
    "tags": []
   },
   "outputs": [
    {
     "name": "stdout",
     "output_type": "stream",
     "text": [
      "obj : 95\n",
      "relative_idx : 2\n",
      "absolute_idx : 3\n"
     ]
    },
    {
     "ename": "IndexError",
     "evalue": "list index out of range",
     "output_type": "error",
     "traceback": [
      "\u001b[0;31m---------------------------------------------------------------------------\u001b[0m",
      "\u001b[0;31mIndexError\u001b[0m                                Traceback (most recent call last)",
      "Cell \u001b[0;32mIn[74], line 13\u001b[0m\n\u001b[1;32m     11\u001b[0m absolute_idx \u001b[38;5;241m=\u001b[39m relative_idx \u001b[38;5;241m+\u001b[39m i \u001b[38;5;241m+\u001b[39m \u001b[38;5;241m1\u001b[39m             \u001b[38;5;66;03m# 절대적 인덱스는 원본인덱스 범위를 넘어갈 수 있다. \u001b[39;00m\n\u001b[1;32m     12\u001b[0m \u001b[38;5;28mprint\u001b[39m(\u001b[38;5;124mf\u001b[39m\u001b[38;5;124m'\u001b[39m\u001b[38;5;124mabsolute_idx : \u001b[39m\u001b[38;5;132;01m{\u001b[39;00mabsolute_idx\u001b[38;5;132;01m}\u001b[39;00m\u001b[38;5;124m'\u001b[39m)\n\u001b[0;32m---> 13\u001b[0m \u001b[38;5;28;01mif\u001b[39;00m numbers[i] \u001b[38;5;241m+\u001b[39m numbers[absolute_idx] \u001b[38;5;241m==\u001b[39m target:  \u001b[38;5;66;03m# 따라서 절대 인덱스가 유효한 범위 내에 있는지 확인 필요\u001b[39;00m\n\u001b[1;32m     14\u001b[0m     \u001b[38;5;28mprint\u001b[39m(i\u001b[38;5;241m+\u001b[39m\u001b[38;5;241m1\u001b[39m, absolute_idx\u001b[38;5;241m+\u001b[39m\u001b[38;5;241m1\u001b[39m)\n",
      "\u001b[0;31mIndexError\u001b[0m: list index out of range"
     ]
    }
   ],
   "source": [
    "from bisect import bisect_left\n",
    "numbers = [5,25,75]\n",
    "target = 100\n",
    "for i in range(len(numbers)):\n",
    "    obj = target - numbers[i]                       # obj 가 95 일때, 즉 답이 numbers에 없을 때\n",
    "    print(f'obj : {obj}')\n",
    "    # 상대적 인덱스를 얻음\n",
    "    relative_idx = bisect_left(numbers[i+1:], obj)  # bisect_left로 찾는 값이 상한을 넘어가는 경우, 마지막 인덱스+1 값을 반환\n",
    "    print(f'relative_idx : {relative_idx}')         # 상대적 인덱스는 원본인덱스 범위를 넘어가지 않을 수 있지만\n",
    "    # 원본 리스트에서의 절대 인덱스를 계산\n",
    "    absolute_idx = relative_idx + i + 1             # 절대적 인덱스는 원본인덱스 범위를 넘어갈 수 있다. \n",
    "    print(f'absolute_idx : {absolute_idx}')\n",
    "    if numbers[i] + numbers[absolute_idx] == target:  # 따라서 절대 인덱스가 유효한 범위 내에 있는지 확인 필요\n",
    "        print(i+1, absolute_idx+1)"
   ]
  },
  {
   "cell_type": "markdown",
   "id": "86ec8640-d55d-47f0-8125-6930245ecf24",
   "metadata": {},
   "source": [
    "# 문69 2D 행렬검색II\n",
    "https://leetcode.com/problems/search-a-2d-matrix-ii/"
   ]
  },
  {
   "cell_type": "code",
   "execution_count": null,
   "id": "3e43b29b-d03d-43ef-b68b-635b86262cc7",
   "metadata": {},
   "outputs": [],
   "source": [
    "Write an efficient algorithm that \n",
    "\n",
    "searches for a value target in an m x n integer matrix. \n",
    "\n",
    "This matrix has the following properties:\n",
    "\n",
    "Integers in each row are sorted in ascending from left to right.\n",
    "Integers in each column are sorted in ascending from top to bottom.\n",
    "\n",
    "Input: matrix = [[1,4,7,11,15],\n",
    "                 [2,5,8,12,19],\n",
    "                 [3,6,9,16,22],\n",
    "                 [10,13,14,17,24],\n",
    "                 [18,21,23,26,30]], target = 5\n",
    "Output: true\n",
    "\n",
    "Input: matrix = [[1,4,7,11,15],\n",
    "                 [2,5,8,12,19],\n",
    "                 [3,6,9,16,22],\n",
    "                 [10,13,14,17,24],\n",
    "                 [18,21,23,26,30]], target = 20\n",
    "Output: false\n",
    "\n",
    "m == matrix.length\n",
    "n == matrix[i].length\n",
    "1 <= n, m <= 300\n",
    "-109 <= matrix[i][j] <= 109\n",
    "All the integers in each row are sorted in ascending order.\n",
    "All the integers in each column are sorted in ascending order.\n",
    "-109 <= target <= 109"
   ]
  },
  {
   "cell_type": "markdown",
   "id": "01a8ff85-c3a0-4638-8e54-396d3c233546",
   "metadata": {},
   "source": [
    "### 내 풀이"
   ]
  },
  {
   "cell_type": "code",
   "execution_count": null,
   "id": "222dd9c6-ca19-43ec-860f-32d3212779bf",
   "metadata": {},
   "outputs": [],
   "source": [
    "class Solution:\n",
    "    def searchMatrix(self, matrix: List[List[int]], target: int) -> bool:\n",
    "        for row in matrix:\n",
    "            if row[-1] < target or target < row[0]:\n",
    "                continue\n",
    "            idx = bisect_left(row, target)\n",
    "            if idx < len(row) and row[idx] == target:\n",
    "                return True\n",
    "            else:\n",
    "                continue\n",
    "        return False"
   ]
  },
  {
   "cell_type": "markdown",
   "id": "4d04365d-afca-4f5c-bf32-159985208edd",
   "metadata": {},
   "source": [
    "### 투포인터 풀이"
   ]
  },
  {
   "cell_type": "code",
   "execution_count": null,
   "id": "dc56e1fa-7a09-41dc-9705-6d1fd71cedb0",
   "metadata": {},
   "outputs": [],
   "source": [
    "class Solution:\n",
    "    def searchMatrix(self, matrix: List[List[int]], target: int) -> bool:\n",
    "        \n",
    "        n = len(matrix[0])\n",
    "        \n",
    "        row = 0\n",
    "        col = n-1\n",
    "        while row < len(matrix) and col > -1:\n",
    "            if matrix[row][col] < target:\n",
    "                row += 1\n",
    "            elif matrix[row][col] > target:\n",
    "                col -= 1\n",
    "            else:\n",
    "                return True\n",
    "        return False"
   ]
  },
  {
   "cell_type": "markdown",
   "id": "0113ae59-d8d3-4a57-ad8a-75e1b0ee27ed",
   "metadata": {},
   "source": [
    "### any 함수 풀이"
   ]
  },
  {
   "cell_type": "code",
   "execution_count": null,
   "id": "3554d449-40fb-4c2e-a8bf-08d569cedc64",
   "metadata": {},
   "outputs": [],
   "source": [
    "class Solution:\n",
    "    def searchMatrix(self, matrix: List[List[int]], target: int) -> bool:\n",
    "        return any(target in row for row in matrix)"
   ]
  },
  {
   "cell_type": "markdown",
   "id": "1d42a3f6-f2db-4eff-a58e-678261d5c51a",
   "metadata": {},
   "source": [
    "### 기본적으로 이진검색 알고리즘과 투포인터 알고리즘의 논리는 일맥상통한다.\n",
    "#### 1. 정렬된 배열이 필요\n",
    "#### 2. 특정 연산이 부등식으로 삼분법적으로 나눠짐"
   ]
  },
  {
   "cell_type": "code",
   "execution_count": null,
   "id": "48e694e9-7a91-4f7e-8f3a-2b4a9f309fa4",
   "metadata": {},
   "outputs": [],
   "source": []
  }
 ],
 "metadata": {
  "kernelspec": {
   "display_name": "Python 3 (ipykernel)",
   "language": "python",
   "name": "python3"
  },
  "language_info": {
   "codemirror_mode": {
    "name": "ipython",
    "version": 3
   },
   "file_extension": ".py",
   "mimetype": "text/x-python",
   "name": "python",
   "nbconvert_exporter": "python",
   "pygments_lexer": "ipython3",
   "version": "3.11.0"
  }
 },
 "nbformat": 4,
 "nbformat_minor": 5
}
