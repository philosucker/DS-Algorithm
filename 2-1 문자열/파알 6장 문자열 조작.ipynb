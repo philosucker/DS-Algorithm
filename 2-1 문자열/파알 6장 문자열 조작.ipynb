{
 "cells": [
  {
   "cell_type": "markdown",
   "id": "7f2f4441-d473-4626-99c1-47607404b1b2",
   "metadata": {},
   "source": [
    "### e: 1, 2, 4\n",
    "### m: 3, 5, 6"
   ]
  },
  {
   "cell_type": "markdown",
   "id": "00c01699-30f8-4be9-bbf6-2bdeadc1b7e7",
   "metadata": {},
   "source": [
    "# 문1 유효한 팰린드롬 e\n",
    "\n",
    "https://leetcode.com/problems/valid-palindrome"
   ]
  },
  {
   "cell_type": "code",
   "execution_count": null,
   "id": "ef3205b0-3bed-4404-8a57-931146d91dbe",
   "metadata": {},
   "outputs": [],
   "source": [
    "A phrase is a palindrome if, after converting all uppercase letters into lowercase letters and removing all non-alphanumeric characters, \n",
    "it reads the same forward and backward. Alphanumeric characters include letters and numbers.\n",
    "\n",
    "Given a string s, return true if it is a palindrome, or false otherwise.\n",
    "\n",
    "Example 1:\n",
    "\n",
    "Input: s = \"A man, a plan, a canal: Panama\"\n",
    "\n",
    "Output: true\n",
    "Explanation: \"amanaplanacanalpanama\" is a palindrome."
   ]
  },
  {
   "cell_type": "code",
   "execution_count": null,
   "id": "56eabd03-6052-45ef-9593-c23476e9cea4",
   "metadata": {},
   "outputs": [],
   "source": [
    "class Solution:\n",
    "    def isPalindrome(self, s: str) -> bool:\n",
    "        alphanum = []\n",
    "        for num in range(97, 123):\n",
    "            alphanum.append(chr(num))\n",
    "        for num in range(48, 58):\n",
    "            alphanum.append(chr(num))\n",
    "        result = []\n",
    "        phrase = s.split()\n",
    "        phrase = \"\".join(phrase)\n",
    "        for char in phrase:\n",
    "            char = char.lower()\n",
    "            if char in alphanum:\n",
    "                result.append(char)\n",
    "        answer = \"\".join(result)\n",
    "        if answer == answer[::-1]:\n",
    "            return True\n",
    "        else:\n",
    "            False"
   ]
  },
  {
   "cell_type": "code",
   "execution_count": null,
   "id": "bc0cca0a-acce-46a1-a5f2-5ec4ded1b101",
   "metadata": {
    "tags": []
   },
   "outputs": [],
   "source": [
    "def is_palindrome(self, s: str) -> bool:\n",
    "    strs = []\n",
    "    for char in s:\n",
    "        if char.isalnum():\n",
    "            strs.append(char.lower())\n",
    "\n",
    "    while len(strs) > 1:\n",
    "        if strs.pop(0) != strs.pop():  # 리스트의 pop(0) 은 O(N)\n",
    "            return False\n",
    "\n",
    "    return True"
   ]
  },
  {
   "cell_type": "code",
   "execution_count": 1,
   "id": "c8a39077-c5d2-4435-b299-85c5141ac9ed",
   "metadata": {
    "tags": []
   },
   "outputs": [
    {
     "data": {
      "text/plain": [
       "True"
      ]
     },
     "execution_count": 1,
     "metadata": {},
     "output_type": "execute_result"
    }
   ],
   "source": [
    "\"a\".isalnum()"
   ]
  },
  {
   "cell_type": "code",
   "execution_count": 2,
   "id": "da411e13-8a5a-42f7-851e-2f701930448c",
   "metadata": {
    "tags": []
   },
   "outputs": [
    {
     "data": {
      "text/plain": [
       "True"
      ]
     },
     "execution_count": 2,
     "metadata": {},
     "output_type": "execute_result"
    }
   ],
   "source": [
    "\"a\".isalpha()"
   ]
  },
  {
   "cell_type": "code",
   "execution_count": 3,
   "id": "8753d159-d05f-4b33-b665-2fba9898c400",
   "metadata": {
    "tags": []
   },
   "outputs": [
    {
     "data": {
      "text/plain": [
       "True"
      ]
     },
     "execution_count": 3,
     "metadata": {},
     "output_type": "execute_result"
    }
   ],
   "source": [
    "\"9\".isdigit()"
   ]
  },
  {
   "cell_type": "code",
   "execution_count": 6,
   "id": "2e7cd62f-6019-42c7-b69c-84f994287923",
   "metadata": {
    "tags": []
   },
   "outputs": [
    {
     "data": {
      "text/plain": [
       "True"
      ]
     },
     "execution_count": 6,
     "metadata": {},
     "output_type": "execute_result"
    }
   ],
   "source": [
    "\"10\".isdecimal()"
   ]
  },
  {
   "cell_type": "code",
   "execution_count": 10,
   "id": "e8de5be3-de8a-48a2-be54-180b4295e85d",
   "metadata": {
    "tags": []
   },
   "outputs": [],
   "source": [
    "import copy\n",
    "import collections\n",
    "\n",
    "def is_palindrome(s: str) -> bool:\n",
    "    deque = collections.deque([])\n",
    "    for char in s:\n",
    "        if char.isalnum():\n",
    "            deque.append(char.lower())\n",
    "    \n",
    "    while len(deque) > 1:\n",
    "        if deque.pop() != deque.popleft(): # 덱의 popleft() 는 O(1)\n",
    "            return False\n",
    "            \n",
    "    return True"
   ]
  },
  {
   "cell_type": "code",
   "execution_count": 11,
   "id": "1017d9b0-65c7-4304-9cc9-7389cc08fb91",
   "metadata": {
    "tags": []
   },
   "outputs": [
    {
     "data": {
      "text/plain": [
       "True"
      ]
     },
     "execution_count": 11,
     "metadata": {},
     "output_type": "execute_result"
    }
   ],
   "source": [
    "is_palindrome(\"A man, a plan, a canal: Panama\")"
   ]
  },
  {
   "cell_type": "markdown",
   "id": "ec038d5f-9899-4b1d-bea4-3de118d3f59f",
   "metadata": {},
   "source": [
    "따라서 각각 n번씩 반복하면 리스트는 O(n**2), 덱은 O(n) 의 성능차이가 생길 수 있다"
   ]
  },
  {
   "cell_type": "code",
   "execution_count": 7,
   "id": "b25c9f7c-6c8e-4e34-9e38-1efc0e9deca0",
   "metadata": {
    "tags": []
   },
   "outputs": [],
   "source": [
    "class Solution:\n",
    "    def isPalindrome(self, s:str) -> bool:\n",
    "        s = s.lower()\n",
    "        s = re.sub('[^a-z0-9]', '', s)\n",
    "        \n",
    "        left = 0\n",
    "        right = len(s)-1\n",
    "        \n",
    "        while left < right:\n",
    "            if s[left] == s[right]:\n",
    "                left += 1\n",
    "                right -= 1\n",
    "            else:\n",
    "                return False\n",
    "        return True"
   ]
  },
  {
   "cell_type": "markdown",
   "id": "04574408-47f4-48c2-b164-9f09345ab6d8",
   "metadata": {},
   "source": [
    "코드가 매우 짧아졌고, 정규식은 내부적으로 C로 빠르게 구현돼 있어 훨씬 속도가 빠르다."
   ]
  },
  {
   "cell_type": "markdown",
   "id": "128f8696-b540-4b9d-b8db-fc36e8ac51c6",
   "metadata": {},
   "source": [
    "    re.sub(pattern, replacement, string) 함수는 \n",
    "\n",
    "        문자열 string에서 \n",
    "        정규표현식 패턴 pattern을 찾아 \n",
    "        replacement로 대체합니다\n",
    "\n",
    "\n",
    "    '[^a-z0-9]' 정규표현식 패턴은 다음과 같이 해석됩니다:\n",
    "\n",
    "    []: \n",
    "        정규표현식에서 대괄호 []는 문자 클래스(character class)를 나타냅니다. \n",
    "        문자 클래스 내에서 일치시키고자 하는 문자들을 나열합니다.\n",
    "\n",
    "    ^: \n",
    "        대괄호 안에서 사용된 ^는 부정(negation)을 의미합니다. \n",
    "        즉, 이 위치에서 사용된 ^는 패턴 내의 문자 클래스에 부정의 의미를 부여합니다. \n",
    "        즉, 문자 클래스 안의 패턴은 부정됩니다.\n",
    "\n",
    "    a-z: \n",
    "        이는 알파벳 소문자를 나타냅니다. \n",
    "        a부터 z까지의 모든 알파벳 소문자를 의미합니다.\n",
    "\n",
    "    0-9: \n",
    "        이는 숫자 0부터 9까지를 나타냅니다.\n",
    "\n",
    "        따라서, '[^a-z0-9]' 패턴은 다음을 의미합니다:\n",
    "\n",
    "        문자열에서 알파벳 소문자(a부터 z까지)와 숫자(0부터 9까지)를 제외한 모든 문자와 매치됩니다.\n",
    "        이 패턴은 문자열에서 알파벳 소문자와 숫자를 제외한 모든 문자를 찾아내는 데 사용될 수 있습니다.\n",
    "        \n",
    "    re.sub('[^a-z0-9]', '', s) 함수는\n",
    "    s에서 패턴 [^a-z0-9]을 빈 문자열('')로 대체합니다. \n",
    "    즉 알파벳 소문자와 숫자를 제외한 모든 문자를 제거하게 됩니다."
   ]
  },
  {
   "cell_type": "code",
   "execution_count": 17,
   "id": "a0d200d4-aca4-4d05-b8d9-c20a7a2b448e",
   "metadata": {
    "tags": []
   },
   "outputs": [
    {
     "data": {
      "text/plain": [
       "'aaaaaaa'"
      ]
     },
     "execution_count": 17,
     "metadata": {},
     "output_type": "execute_result"
    }
   ],
   "source": [
    "import re\n",
    "s = \"rainbow\"\n",
    "s = re.sub('[a-z]', 'a', s)\n",
    "s"
   ]
  },
  {
   "cell_type": "markdown",
   "id": "62637729-f3d5-4d4c-8fe5-19c51efdc796",
   "metadata": {},
   "source": [
    "점은 개행 문자(\\n)를 제외한 모든 단일 문자와 일치합니다."
   ]
  },
  {
   "cell_type": "code",
   "execution_count": 18,
   "id": "2a6efd85-fb51-47e5-85f1-8fce41d402b2",
   "metadata": {
    "tags": []
   },
   "outputs": [
    {
     "data": {
      "text/plain": [
       "'aaaaaaa'"
      ]
     },
     "execution_count": 18,
     "metadata": {},
     "output_type": "execute_result"
    }
   ],
   "source": [
    "import re\n",
    "s = \"rainbow\"\n",
    "s = re.sub('.', 'a', s) \n",
    "s"
   ]
  },
  {
   "cell_type": "code",
   "execution_count": 8,
   "id": "0fe85003-9228-42a8-800d-0202d1abc4ba",
   "metadata": {
    "tags": []
   },
   "outputs": [
    {
     "data": {
      "text/plain": [
       "'안녕하세요'"
      ]
     },
     "execution_count": 8,
     "metadata": {},
     "output_type": "execute_result"
    }
   ],
   "source": [
    "s = \"안녕하세요\"\n",
    "a = s[:]\n",
    "\n",
    "a"
   ]
  },
  {
   "cell_type": "markdown",
   "id": "311831cb-51cf-45ec-a329-34f13d762fc4",
   "metadata": {},
   "source": [
    "참조가 아닌 값을 복사하기 위해 [:]를 사용할 수 있으며  \n",
    "이 방식은 문자열이나 리스트를 복사하는 파이써닉한 방식이다"
   ]
  },
  {
   "cell_type": "code",
   "execution_count": 26,
   "id": "80bdfb21-fee2-4eac-a016-2023321ad04d",
   "metadata": {
    "tags": []
   },
   "outputs": [
    {
     "data": {
      "text/plain": [
       "['h', 'a', 'n', 'n', 'a', 'H']"
      ]
     },
     "execution_count": 26,
     "metadata": {},
     "output_type": "execute_result"
    }
   ],
   "source": [
    "s = [\"H\",\"a\",\"n\",\"n\",\"a\",\"h\"]\n",
    "s = \"\".join(s)\n",
    "s = s[::-1]\n",
    "[char for char in s]"
   ]
  },
  {
   "cell_type": "markdown",
   "id": "09f0e599-25d9-444a-9c13-2bec9810b87b",
   "metadata": {},
   "source": [
    "# 문2 문자열 뒤집기 e\n",
    "입력값은 문자열을 원소로 하는 리스트이고, 리턴 없이 리스트 내부를 직접 조작하라\n",
    "\n",
    "https://leetcode.com/problems/reverse-string"
   ]
  },
  {
   "cell_type": "code",
   "execution_count": 2,
   "id": "7e0df15d-fd54-4518-bbc1-db5b21da81ea",
   "metadata": {
    "tags": []
   },
   "outputs": [],
   "source": [
    "from __future__ import annotations"
   ]
  },
  {
   "cell_type": "code",
   "execution_count": 9,
   "id": "676b9da9-0521-48ac-ac32-ca8bd38848c2",
   "metadata": {
    "tags": []
   },
   "outputs": [],
   "source": [
    "def reverse_string(self, s: List[str]) -> None:\n",
    "\n",
    "    s.reverse()"
   ]
  },
  {
   "cell_type": "markdown",
   "id": "97616209-bafd-49c3-b6a4-0d96accc56de",
   "metadata": {
    "tags": []
   },
   "source": [
    "reverse() 는 리스트에만 제공되는 함수다"
   ]
  },
  {
   "cell_type": "code",
   "execution_count": 43,
   "id": "fef72b2a-bb6c-45da-a0cd-e22f92b9df04",
   "metadata": {
    "tags": []
   },
   "outputs": [],
   "source": [
    "def reverse_string(self, s: List[str]) -> None:\n",
    "    \n",
    "    s[:] = s[::-1]"
   ]
  },
  {
   "cell_type": "markdown",
   "id": "6569c696-b81b-45bc-a41e-cb0a251cf1c9",
   "metadata": {
    "tags": []
   },
   "source": [
    "    s = s[::-1]\n",
    "    이 코드는 s 변수에 새로운 리스트를 할당합니다. \n",
    "    원래의 리스트 s는 변하지 않고, 새로운 뒤집힌 리스트가 새로운 s 변수에 할당됩니다. \n",
    "    따라서 원래의 리스트는 그대로 남아 있고, 뒤집힌 버전이 s 변수에 저장됩니다.\n",
    "\n",
    "    s[:] = s[::-1]\n",
    "    역순 생성: s[::-1]는 리스트 s의 요소를 역순으로 나열한 새로운 리스트를 생성합니다. \n",
    "    이 시점에서, 메모리상에는 원본 리스트 s와 그 내용이 역순으로 된 새로운 리스트 두 개가 존재합니다.\n",
    "    \n",
    "    슬라이스 할당: s[:] 구문은 리스트 s의 전체 범위를 나타냅니다. \n",
    "    이에 s[::-1]에서 생성된 새로운 리스트의 내용을 할당함으로써, \n",
    "    s의 모든 현재 요소가 새로운 역순 요소들로 교체됩니다. \n",
    "    이 교체 과정은 원본 리스트 객체 내에서 이루어지며, 리스트 객체의 메모리 주소는 변경되지 않습니다.\n",
    "\n"
   ]
  },
  {
   "cell_type": "code",
   "execution_count": 27,
   "id": "1169ff0d-ebad-4ec4-880f-f4417dae3ac8",
   "metadata": {
    "tags": []
   },
   "outputs": [
    {
     "data": {
      "text/plain": [
       "['q', 'w', 'e', 'r']"
      ]
     },
     "execution_count": 27,
     "metadata": {},
     "output_type": "execute_result"
    }
   ],
   "source": [
    "s = [\"q\",\"w\",\"e\",\"r\"]\n",
    "s[:]"
   ]
  },
  {
   "cell_type": "code",
   "execution_count": 76,
   "id": "ee468a0e-2c85-492f-bf70-db0e306e3765",
   "metadata": {
    "tags": []
   },
   "outputs": [
    {
     "data": {
      "text/plain": [
       "['r', 'e', 'w', 'q']"
      ]
     },
     "execution_count": 76,
     "metadata": {},
     "output_type": "execute_result"
    }
   ],
   "source": [
    "s = [\"q\",\"w\",\"e\",\"r\"]\n",
    "\n",
    "s[:] = s[::-1]\n",
    "s"
   ]
  },
  {
   "cell_type": "markdown",
   "id": "426ce9b1-60ce-429d-8dda-b81c9cb610ea",
   "metadata": {},
   "source": [
    "#### 투포인터 스왑"
   ]
  },
  {
   "cell_type": "code",
   "execution_count": 78,
   "id": "6512991c-2105-4a40-a3bd-938990d7e290",
   "metadata": {
    "tags": []
   },
   "outputs": [],
   "source": [
    "class Solution:\n",
    "    def reverseString(self, s: List[str]) -> None:\n",
    "        left = 0\n",
    "        right = len(s) - 1\n",
    "        while left < right:\n",
    "            s[left], s[right] = s[right], s[left]\n",
    "            left += 1\n",
    "            right -=1"
   ]
  },
  {
   "cell_type": "code",
   "execution_count": null,
   "id": "21851d97-1cbc-43e0-a99b-b6364a901890",
   "metadata": {},
   "outputs": [],
   "source": []
  },
  {
   "cell_type": "markdown",
   "id": "c943882d-9f26-4b96-b0a8-07e5d19e55b3",
   "metadata": {},
   "source": [
    "# 문4 가장 흔한 단어 e\n",
    "https://leetcode.com/problems/most-common-word/"
   ]
  },
  {
   "cell_type": "code",
   "execution_count": null,
   "id": "22f35f53-9b14-4c1c-b851-1db09841d6a1",
   "metadata": {},
   "outputs": [],
   "source": [
    "Given a string paragraph and a string array of the banned words banned, \n",
    "return the most frequent word that is not banned. \n",
    "It is guaranteed there is at least one word that is not banned, and that the answer is unique.\n",
    "\n",
    "The words in paragraph are case-insensitive and the answer should be returned in lowercase.\n",
    "\n",
    "Example 1:\n",
    "\n",
    "Input: \n",
    "    paragraph = \"Bob hit a ball, the hit BALL flew far after it was hit.\", \n",
    "    banned = [\"hit\"]\n",
    "Output: \"ball\"\n",
    "Explanation: \n",
    "\"hit\" occurs 3 times, but it is a banned word.\n",
    "\"ball\" occurs twice (and no other word does), so it is the most frequent non-banned word in the paragraph. \n",
    "Note that words in the paragraph are not case sensitive,\n",
    "that punctuation is ignored (even if adjacent to words, such as \"ball,\"), \n",
    "and that \"hit\" isn't the answer even though it occurs more because it is banned.\n",
    "\n",
    "class Solution:\n",
    "    def mostCommonWord(self, paragraph: str, banned: List[str]) -> str:\n",
    "        "
   ]
  },
  {
   "cell_type": "code",
   "execution_count": 85,
   "id": "54f5f4fd-c788-4503-b07d-b0e98fe5efe8",
   "metadata": {
    "tags": []
   },
   "outputs": [],
   "source": [
    "from typing import List\n",
    "class Solution:\n",
    "    def mostCommonWord(self, paragraph: str, banned: List[str]) -> str:\n",
    "        # 금지된 단어 목록을 집합으로 변환합니다.\n",
    "        banned = set(banned)\n",
    "        max_word = \"\"\n",
    "        max_count = 0\n",
    "        word_counts = Counter()\n",
    "        \n",
    "        # 문단을 소문자로 변환합니다.\n",
    "        paragraph = paragraph.lower()\n",
    "        word = \"\"\n",
    "        \n",
    "        # 문단을 순회하면서 단어를 추출합니다.\n",
    "        for char in paragraph + \" \":  # 마지막 단어도 처리하기 위해 공백 추가\n",
    "            if char.isalnum():  # 문자가 알파벳이나 숫자인 경우\n",
    "                word += char\n",
    "            elif word:  # 현재까지의 문자열이 단어를 형성하는 경우\n",
    "                if word not in banned:  # 금지된 단어가 아니라면\n",
    "                    word_counts[word] += 1\n",
    "                    if word_counts[word] > max_count:  # 최대 빈도수를 업데이트\n",
    "                        max_word = word\n",
    "                        max_count = word_counts[word]\n",
    "                word = \"\"  # 단어 초기화\n",
    "        \n",
    "        return max_word"
   ]
  },
  {
   "cell_type": "code",
   "execution_count": null,
   "id": "b8635de7-93b0-4b3d-a84f-993a2b25f6ba",
   "metadata": {},
   "outputs": [],
   "source": [
    "import re\n",
    "from collections import Counter\n",
    "class Solution:\n",
    "    def mostCommonWord(self, paragraph: str, banned: List[str]) -> str:\n",
    "\n",
    "        # words = re.sub(r'[^\\w]', ' ', paragraph).lower().split()\n",
    "        words = re.findall(r'\\w+', paragraph.lower())\n",
    "\n",
    "        # 금지된 단어 목록을 집합으로 변환하여 검색 속도를 향상시킵니다.\n",
    "        banned = set(banned)\n",
    "\n",
    "        word_counts = Counter(word for word in words if word not in banned)\n",
    "\n",
    "        # 가장 많이 등장하는 단어를 반환합니다.\n",
    "        # most_common 메소드는 빈도수가 가장 높은 요소부터 낮은 순으로 정렬된 배열을 반환합니다.\n",
    "        # 여기서는 가장 첫 번째 요소(가장 빈도수가 높은 단어)의 단어 부분을 반환합니다.\n",
    "        return word_counts.most_common(1)[0][0]"
   ]
  },
  {
   "cell_type": "markdown",
   "id": "16dd0511-2977-4615-9200-b1399d181724",
   "metadata": {},
   "source": [
    "```python\n",
    "words = re.sub(r'[^\\w]', ' ', paragraph).lower().split()\n",
    "\n",
    "    정규 표현식 r'[^\\w]': \n",
    "    이 표현은 \"\\w\" 즉, 단어를 구성하는 문자(알파벳, 숫자, 밑줄)가 아닌 모든 것을 의미합니다. \n",
    "    여기서 ^ 기호는 \"아닌\"을 의미하는 부정의 표시입니다.\n",
    "    결과: paragraph에서 단어를 구성하는 문자가 아닌 모든 것(공백, 특수 문자 등)을 공백(\" \")으로 바꿉니다.\n",
    "    그렇게 처리된 paragraph 문자열내의 모든 문자를 소문자로 바꾸고 공백 기반으로 나눠 리스트로 반환한다\n",
    "\n",
    "words = re.findall(r'\\w+', paragraph.lower())\n",
    "    \\w+는 하나 이상의 단어 문자에 해당하는 연속된 문자열(단어)을 의미\n",
    "    문자열에서 단어 문자들로만 구성된 모든 \"단어\"를 직접 찾아 리스트로 반환\n",
    "\n",
    "처리 과정: 첫 번째 방식은 먼저 비단어 문자를 공백으로 치환한 후 단어를 분리하는 반면, \n",
    "두 번째 방식은 정규 표현식을 사용해 직접 단어를 추출합니다. \n",
    "첫 번째 방식은 중간에 공백이 많이 생성될 수 있지만, split()에 의해 자연스럽게 처리됩니다. \n",
    "두 번째 방식에서는 이러한 중간 단계가 없으며, 단어를 직접 추출합니다.\n",
    "\n",
    "효율성: 두 번째 방식이 약간 더 효율적일 수 있습니다. \n",
    "왜냐하면 단어를 직접 찾아내기 때문에 중간에 불필요한 문자열 치환과정을 거치지 않기 때문입니다.\n",
    "\n",
    "결과: 두 방식 모두 최종적으로 같은 결과를 생성합니다. 즉, 주어진 문자열에서 알파벳, 숫자, 밑줄로 구성된 단어들의 리스트를 소문자로 반환합니다.\n",
    "```"
   ]
  },
  {
   "cell_type": "code",
   "execution_count": 86,
   "id": "be39462a-398c-428c-a966-4cb934aba28d",
   "metadata": {
    "tags": []
   },
   "outputs": [
    {
     "data": {
      "text/plain": [
       "['bob',\n",
       " 'hit',\n",
       " 'a',\n",
       " 'ball',\n",
       " 'the',\n",
       " 'hit',\n",
       " 'ball',\n",
       " 'flew',\n",
       " 'far',\n",
       " 'after',\n",
       " 'it',\n",
       " 'was',\n",
       " 'hit']"
      ]
     },
     "execution_count": 86,
     "metadata": {},
     "output_type": "execute_result"
    }
   ],
   "source": [
    "paragraph = \"Bob hit a ball, the hit BALL flew far after it was hit.\"\n",
    "words = re.findall(r'\\w+', paragraph.lower())\n",
    "words"
   ]
  },
  {
   "cell_type": "markdown",
   "id": "bb100399-ea9f-4cb1-8814-eed67a84bcc8",
   "metadata": {},
   "source": [
    "# 문3 로그 파일 재정렬 m\n",
    "\n",
    "https://leetcode.com/problems/reorder-data-in-log-files"
   ]
  },
  {
   "cell_type": "code",
   "execution_count": null,
   "id": "e7a0414d-5889-4de2-acee-3aa14d00ae8f",
   "metadata": {},
   "outputs": [],
   "source": [
    "You are given an array of logs. Each log is a space-delimited string of words, where the first word is the identifier.\n",
    "\n",
    "There are two types of logs:\n",
    "\n",
    "Letter-logs: All words (except the identifier) consist of lowercase English letters.\n",
    "Digit-logs: All words (except the identifier) consist of digits.\n",
    "Reorder these logs so that:\n",
    "\n",
    "The letter-logs come before all digit-logs.\n",
    "The letter-logs are sorted lexicographically by their contents. \n",
    "If their contents are the same, then sort them lexicographically by their identifiers.\n",
    "The digit-logs maintain their relative ordering.\n",
    "Return the final order of the logs.\n",
    "\n",
    " \n",
    "\n",
    "Example 1:\n",
    "\n",
    "Input: logs = [\"dig1 8 1 5 1\",\"let1 art can\",\"dig2 3 6\",\"let2 own kit dig\",\"let3 art zero\"]\n",
    "Output: [\"let1 art can\",\"let3 art zero\",\"let2 own kit dig\",\"dig1 8 1 5 1\",\"dig2 3 6\"]\n",
    "\n",
    "Explanation:\n",
    "The letter-log contents are all different, so their ordering is \"art can\", \"art zero\", \"own kit dig\".\n",
    "The digit-logs have a relative order of \"dig1 8 1 5 1\", \"dig2 3 6\"."
   ]
  },
  {
   "cell_type": "code",
   "execution_count": 135,
   "id": "06cfe47c-9c9c-4a02-a8d0-be0d4dd92594",
   "metadata": {
    "tags": []
   },
   "outputs": [],
   "source": [
    "logs = [\"dig1 8 1 5 1\",\"let1 art can\",\"dig2 3 6\",\"let2 own kit dig\",\"let3 art zero\"]"
   ]
  },
  {
   "cell_type": "code",
   "execution_count": 138,
   "id": "e751bd94-3dba-4be8-ab5f-bf6bb5c92163",
   "metadata": {
    "tags": []
   },
   "outputs": [
    {
     "data": {
      "text/plain": [
       "['let1 art can',\n",
       " 'let3 art zero',\n",
       " 'let2 own kit dig',\n",
       " 'dig1 8 1 5 1',\n",
       " 'dig2 3 6']"
      ]
     },
     "execution_count": 138,
     "metadata": {},
     "output_type": "execute_result"
    }
   ],
   "source": [
    "ordered_let = []\n",
    "for strs in logs:\n",
    "    if strs[-1].isalpha():\n",
    "        ordered_let.append(strs)\n",
    "\n",
    "def func(strs):\n",
    "    return strs.split()[1]\n",
    "\n",
    "ordered_let.sort(key=func)\n",
    "\n",
    "ordered_dig = []\n",
    "for strs in logs:\n",
    "    if strs[-1].isnumeric():\n",
    "        ordered_dig.append(strs)       \n",
    "\n",
    "ordered_let + ordered_dig"
   ]
  },
  {
   "cell_type": "code",
   "execution_count": 145,
   "id": "d245750a-fded-4b5f-a798-ff338ba2ae29",
   "metadata": {
    "tags": []
   },
   "outputs": [],
   "source": [
    "#반례  \n",
    "logs = [\"a1 9 2 3 1\",\"g1 act car\",\"zo4 4 7\",\"ab1 off key dog\",\"a8 act zoo\",\"a2 act car\"]"
   ]
  },
  {
   "cell_type": "code",
   "execution_count": 146,
   "id": "eb76f8b9-3536-4cf9-822e-d8ff5587fa5e",
   "metadata": {
    "tags": []
   },
   "outputs": [
    {
     "data": {
      "text/plain": [
       "['a2 act car',\n",
       " 'g1 act car',\n",
       " 'a8 act zoo',\n",
       " 'ab1 off key dog',\n",
       " 'a1 9 2 3 1',\n",
       " 'zo4 4 7']"
      ]
     },
     "execution_count": 146,
     "metadata": {},
     "output_type": "execute_result"
    }
   ],
   "source": [
    "ordered_let = []\n",
    "for strs in logs:\n",
    "    if strs[-1].isalpha():\n",
    "        ordered_let.append(strs)\n",
    "\n",
    "def func(strs):\n",
    "    return strs.split()[1:], strs.split()[0]\n",
    "\n",
    "ordered_let.sort(key=func)\n",
    "\n",
    "ordered_dig = []\n",
    "for strs in logs:\n",
    "    if strs[-1].isnumeric():\n",
    "        ordered_dig.append(strs)       \n",
    "\n",
    "ordered_let + ordered_dig"
   ]
  },
  {
   "cell_type": "markdown",
   "id": "07757c33-3c0b-4c9c-a9fd-659ec7e34d29",
   "metadata": {
    "tags": []
   },
   "source": [
    "    `logs.sort(key=func)` 코드에서 `key` 매개변수는 정렬에 사용될 함수를 지정합니다. \n",
    "    `func` 함수는 주어진 문자열을 받아서 두 개의 값을 반환합니다. \n",
    "    이 두 개의 값을 튜플로 묶어서 반환되며, 이 튜플이 정렬의 기준이 됩니다.\n",
    "\n",
    "    예를 들어, `logs` 리스트에 다음과 같은 문자열이 있다고 가정해봅시다:\n",
    "\n",
    "    logs = ['a2 act car', 'g1 act car', 'a8 act zoo', 'ab1 off key dog']\n",
    "\n",
    "\n",
    "    `logs.sort(key=func)` 코드를 실행하면, \n",
    "    각 문자열은 `func` 함수에 전달되어 두 개의 값으로 변환됩니다. \n",
    "    예를 들어, 'a2 act car' 문자열은 `func('a2 act car')`를 호출하여 \n",
    "    `(['act', 'car'], 'a2')`와 같이 변환됩니다. \n",
    "    이와 같이 모든 문자열에 대해 `func` 함수가 호출되고 반환된 튜플들이 정렬의 기준이 됩니다.\n",
    "\n",
    "    이러한 튜플들을 기준으로 정렬을 수행하면, \n",
    "    먼저 튜플의 첫 번째 요소인 `(['act', 'car'], 'a2')`와 `(['act', 'car'], 'g1')`을 비교하여 사전식으로 정렬합니다. \n",
    "    여기서 리스트 `['act', 'car']`는 사전식으로 정렬됩니다. \n",
    "    만약 두 리스트가 동일하다면, \n",
    "    두 번째 요소인 문자열 'a2'와 'g1'을 사전식으로 비교하여 정렬을 수행합니다. \n",
    "    이렇게 정렬된 결과가 최종적으로 `logs` 리스트에 저장됩니다.\n",
    "\n",
    "    따라서, `key=func`를 사용하면\n",
    "    각 문자열이 `func` 함수에 의해 튜플로 변환되어 정렬의 기준이 되고, \n",
    "    이를 통해 정렬된 리스트가 얻어지게 됩니다."
   ]
  },
  {
   "cell_type": "markdown",
   "id": "f7fe59d1-744c-44af-9522-86b3c98955c6",
   "metadata": {},
   "source": [
    "교재 풀이"
   ]
  },
  {
   "cell_type": "code",
   "execution_count": 87,
   "id": "f28bc0c0-318c-42f8-9e0d-5601c0812fb1",
   "metadata": {
    "tags": []
   },
   "outputs": [],
   "source": [
    "class Solution:\n",
    "    def reorderLogFiles(self, logs: List[str]) -> List[str]:\n",
    "        letters, digits = [], []\n",
    "        for log in logs:\n",
    "            if log.split()[1].isdigit():\n",
    "                digits.append(log)\n",
    "            else:\n",
    "                letters.append(log)\n",
    "\n",
    "        # 두 개의 키를 람다 표현식으로 정렬\n",
    "        letters.sort(key=lambda x: (x.split()[1:], x.split()[0]))\n",
    "        return letters + digits"
   ]
  },
  {
   "cell_type": "markdown",
   "id": "ac0b1519-75fa-4eaf-a17e-baa008ae7635",
   "metadata": {},
   "source": [
    "최단시간 알고리즘"
   ]
  },
  {
   "cell_type": "code",
   "execution_count": 147,
   "id": "2dd94ce2-e815-4ff5-a756-2cdab7f2e85b",
   "metadata": {
    "tags": []
   },
   "outputs": [],
   "source": [
    "class Solution:\n",
    "    def reorderLogFiles(self, logs: List[str]) -> List[str]:\n",
    "        letter_logs = []\n",
    "        digit_logs = []\n",
    "\n",
    "        for log in logs:\n",
    "            split_log = log.split(\" \", 1)\n",
    "            if split_log[1][0].isnumeric():\n",
    "                digit_logs.append(log)\n",
    "            else:\n",
    "                letter_logs.append(log)\n",
    "\n",
    "        # Sort letter-logs by contents and identifiers\n",
    "        letter_logs.sort(key=lambda x: (x.split(\" \", 1)[1], x.split(\" \", 1)[0]))\n",
    "\n",
    "        # Concatenate letter-logs and digit-logs\n",
    "        return letter_logs + digit_logs"
   ]
  },
  {
   "cell_type": "markdown",
   "id": "01fa4c81-64e3-4600-8f50-65e5bcef367c",
   "metadata": {},
   "source": [
    "# 문5 그룹 애너그램 m\n",
    "https://leetcode.com/problems/group-anagrams/"
   ]
  },
  {
   "cell_type": "code",
   "execution_count": null,
   "id": "0ddf1ddd-a15f-468f-84ba-fc7e0f6defa6",
   "metadata": {},
   "outputs": [],
   "source": [
    "Given an array of strings strs, group the anagrams together. \n",
    "You can return the answer in any order.\n",
    "\n",
    "An Anagram is a word or phrase formed by rearranging the letters of a different word or phrase, \n",
    "typically using all the original letters exactly once.\n",
    "\n",
    "\n",
    "Example 1:\n",
    "Input: strs = [\"eat\",\"tea\",\"tan\",\"ate\",\"nat\",\"bat\"]\n",
    "Output: [[\"bat\"],[\"nat\",\"tan\"],[\"ate\",\"eat\",\"tea\"]]\n",
    "\n",
    "Example 2:\n",
    "Input: strs = [\"\"]\n",
    "Output: [[\"\"]]\n",
    "\n",
    "class Solution:\n",
    "    def groupAnagrams(self, strs: List[str]) -> List[List[str]]:\n",
    "        "
   ]
  },
  {
   "cell_type": "markdown",
   "id": "ef648e51-3336-4cdf-94b8-4ce4ab88778a",
   "metadata": {},
   "source": [
    "### 내 풀이"
   ]
  },
  {
   "cell_type": "code",
   "execution_count": 81,
   "id": "1361341b-1d80-41b6-8147-c505daeb965f",
   "metadata": {
    "tags": []
   },
   "outputs": [
    {
     "data": {
      "text/plain": [
       "[['eat', 'tea', 'ate'], ['tan', 'nat'], ['bat']]"
      ]
     },
     "execution_count": 81,
     "metadata": {},
     "output_type": "execute_result"
    }
   ],
   "source": [
    "from collections import defaultdict\n",
    "strs = [\"eat\",\"tea\",\"tan\",\"ate\",\"nat\",\"bat\"]\n",
    "\n",
    "def groupAnagrams(strs):\n",
    "    anagrams = defaultdict(list)\n",
    "    for idx, char in enumerate(strs):\n",
    "        anagrams[\"\".join(sorted(list(char)))].append(idx) \n",
    "    answer = []\n",
    "    for group in anagrams.values():\n",
    "        temp = []\n",
    "        for idx in group:\n",
    "            temp.append(strs[idx])\n",
    "        answer.append(temp)\n",
    "    return answer\n",
    "\n",
    "groupAnagrams(strs)"
   ]
  },
  {
   "cell_type": "markdown",
   "id": "b7b3c927-5da2-499b-8a5e-fb27c90f44d9",
   "metadata": {
    "tags": []
   },
   "source": [
    "### 책풀이, chatGPT 개선버전"
   ]
  },
  {
   "cell_type": "code",
   "execution_count": 86,
   "id": "c412e2e4-9d90-4ba5-80c4-e176c8555af3",
   "metadata": {
    "tags": []
   },
   "outputs": [
    {
     "name": "stdout",
     "output_type": "stream",
     "text": [
      "defaultdict(<class 'list'>, {'aet': ['eat', 'tea', 'ate'], 'ant': ['tan', 'nat'], 'abt': ['bat']})\n"
     ]
    },
    {
     "data": {
      "text/plain": [
       "[['eat', 'tea', 'ate'], ['tan', 'nat'], ['bat']]"
      ]
     },
     "execution_count": 86,
     "metadata": {},
     "output_type": "execute_result"
    }
   ],
   "source": [
    "from collections import defaultdict\n",
    "\n",
    "def groupAnagrams(strs):\n",
    "    anagrams = defaultdict(list)\n",
    "    for char in strs:\n",
    "        # 단어를 정렬하여 아나그램에 대한 키를 생성하고, 원래 단어를 매핑합니다.\n",
    "        anagrams[\"\".join(sorted(char))].append(char)\n",
    "    print(anagrams)\n",
    "    \n",
    "    # defaultdict의 값들만을 모아서 반환합니다.\n",
    "    return list(anagrams.values())\n",
    "\n",
    "groupAnagrams(strs)"
   ]
  },
  {
   "cell_type": "markdown",
   "id": "6f0a27c7-2997-42c7-9057-c984edb5dce3",
   "metadata": {},
   "source": [
    "### list.sort() 는 리스트만 자체 정렬한다. 리턴 없음"
   ]
  },
  {
   "cell_type": "code",
   "execution_count": 89,
   "id": "425528fb-0823-4ce1-9cd6-eda6ec838b3e",
   "metadata": {
    "tags": []
   },
   "outputs": [
    {
     "ename": "AttributeError",
     "evalue": "'str' object has no attribute 'sort'",
     "output_type": "error",
     "traceback": [
      "\u001b[0;31m---------------------------------------------------------------------------\u001b[0m",
      "\u001b[0;31mAttributeError\u001b[0m                            Traceback (most recent call last)",
      "Cell \u001b[0;32mIn[89], line 2\u001b[0m\n\u001b[1;32m      1\u001b[0m paragraph \u001b[38;5;241m=\u001b[39m \u001b[38;5;124m\"\u001b[39m\u001b[38;5;124mBob hit a ball, the hit BALL flew far after it was hit.\u001b[39m\u001b[38;5;124m\"\u001b[39m\n\u001b[0;32m----> 2\u001b[0m paragraph\u001b[38;5;241m.\u001b[39msort()\n",
      "\u001b[0;31mAttributeError\u001b[0m: 'str' object has no attribute 'sort'"
     ]
    }
   ],
   "source": [
    "paragraph = \"Bob hit a ball, the hit BALL flew far after it was hit.\"\n",
    "paragraph.sort()"
   ]
  },
  {
   "cell_type": "markdown",
   "id": "2da84232-bd0d-4ebc-8acf-401843a5d036",
   "metadata": {
    "tags": []
   },
   "source": [
    "### sorted(iterable) 은 이터러블한건 다 정렬할 수 있다. 리턴 있음 "
   ]
  },
  {
   "cell_type": "code",
   "execution_count": 88,
   "id": "32fac6b2-8612-40f1-9354-3429c5641e4c",
   "metadata": {
    "tags": []
   },
   "outputs": [
    {
     "data": {
      "text/plain": [
       "[' ',\n",
       " ' ',\n",
       " ' ',\n",
       " ' ',\n",
       " ' ',\n",
       " ' ',\n",
       " ' ',\n",
       " ' ',\n",
       " ' ',\n",
       " ' ',\n",
       " ' ',\n",
       " ' ',\n",
       " ',',\n",
       " '.',\n",
       " 'A',\n",
       " 'B',\n",
       " 'B',\n",
       " 'L',\n",
       " 'L',\n",
       " 'a',\n",
       " 'a',\n",
       " 'a',\n",
       " 'a',\n",
       " 'a',\n",
       " 'b',\n",
       " 'b',\n",
       " 'e',\n",
       " 'e',\n",
       " 'e',\n",
       " 'f',\n",
       " 'f',\n",
       " 'f',\n",
       " 'h',\n",
       " 'h',\n",
       " 'h',\n",
       " 'h',\n",
       " 'i',\n",
       " 'i',\n",
       " 'i',\n",
       " 'i',\n",
       " 'l',\n",
       " 'l',\n",
       " 'l',\n",
       " 'o',\n",
       " 'r',\n",
       " 'r',\n",
       " 's',\n",
       " 't',\n",
       " 't',\n",
       " 't',\n",
       " 't',\n",
       " 't',\n",
       " 't',\n",
       " 'w',\n",
       " 'w']"
      ]
     },
     "execution_count": 88,
     "metadata": {},
     "output_type": "execute_result"
    }
   ],
   "source": [
    "paragraph = \"Bob hit a ball, the hit BALL flew far after it was hit.\"\n",
    "sorted(paragraph)"
   ]
  },
  {
   "cell_type": "code",
   "execution_count": null,
   "id": "bb503c3e-495f-42ee-804b-2a9b109c2966",
   "metadata": {},
   "outputs": [],
   "source": [
    "Python의 sort() 메서드와 sorted() 함수는 모두 팀소트(Timsort) 정렬 알고리즘을 사용\n",
    "       최선       최악\n",
    "퀵     n log n   n^2\n",
    "병합   n log n   n log n\n",
    "팀소트  n         n log n"
   ]
  },
  {
   "cell_type": "markdown",
   "id": "b5fdfd67-ce9b-44cd-8ab8-d5747ca42564",
   "metadata": {},
   "source": [
    "팀소트는 데이터를 작은 조각(일반적으로 32개 요소)으로 나누고,\n",
    "각 조각에 대해 삽입 정렬을 사용하여 정렬합니다. 이 초기 단계를 \"런(run)\"이라고 합니다. \n",
    "\n",
    "이후, 병합 정렬을 사용하여 이러한 정렬된 런들을 점점 더 큰 런으로 병합해 나갑니다. \n",
    "팀소트는 병합 과정에서 다양한 최적화를 수행하여 효율성을 극대화합니다."
   ]
  },
  {
   "cell_type": "markdown",
   "id": "d41f6451-5a78-4d96-9f12-5bba08e87e58",
   "metadata": {},
   "source": [
    "# 문6 가장 긴 팰린드롬 부분 문자열\n",
    "https://leetcode.com/problems/longest-palindromic-substring/"
   ]
  },
  {
   "cell_type": "code",
   "execution_count": null,
   "id": "b08c9f84-51d4-4a4a-a3bd-35cbcf71a2be",
   "metadata": {},
   "outputs": [],
   "source": [
    "Given a string s, return the longest \n",
    "palindromic substring in s.\n",
    "\n",
    "Example 1:\n",
    "Input: s = \"babad\"\n",
    "Output: \"bab\"\n",
    "Explanation: \"aba\" is also a valid answer.\n",
    "\n",
    "class Solution:\n",
    "    def longestPalindrome(self, s: str) -> str:"
   ]
  },
  {
   "cell_type": "markdown",
   "id": "3eaa1fe5-e587-4e92-a206-64d2e57d0d81",
   "metadata": {},
   "source": [
    "### 내 풀이\n",
    "브루트포스 풀이, 시간초과 남"
   ]
  },
  {
   "cell_type": "code",
   "execution_count": 82,
   "id": "df2d1f79-e290-48b5-a57f-193bcb338a93",
   "metadata": {
    "tags": []
   },
   "outputs": [
    {
     "name": "stdout",
     "output_type": "stream",
     "text": [
      "\n"
     ]
    }
   ],
   "source": [
    "class Solution:\n",
    "    '''\n",
    "    문자열의 모든 부분에 대해 팰린드롬 검사\n",
    "    먼저 맨왼쪽은 고정시키고, 맨 오른쪽부터 왼쪽 방향으로 문자열을 줄여가면서 검사 (첫번째 while문)\n",
    "    그리고 나면 맨 오른쪽은 고정시키고, 맨 왼쪽부터 오른쪽 방향으로 문자열을 줄여가면서 검사 (두번째 while문)\n",
    "    포인터를 좌우 하나씩 줄이고 난후 위 과정 재귀로 반복\n",
    "    '''\n",
    "    def longestPalindrome(self, s: str) -> str:\n",
    "        left = 0\n",
    "        right = len(s)-1\n",
    "\n",
    "        answer = dict()\n",
    "\n",
    "        def palindrome(s, left, right):\n",
    "            left_original = left\n",
    "            right_original = right\n",
    "            \n",
    "            while right >= left: \n",
    "                if s[left:right+1] == s[left:right+1][::-1]:\n",
    "                    answer[len(s[left:right+1])] = s[left:right+1]\n",
    "                right -= 1\n",
    "\n",
    "            right = right_original\n",
    "\n",
    "            while left <= right:\n",
    "                if s[left:right+1] == s[left:right+1][::-1]:\n",
    "                    answer[len(s[left:right+1])] = s[left:right+1]\n",
    "                left += 1\n",
    "\n",
    "            left = left_original\n",
    "            \n",
    "            left += 1\n",
    "            right -= 1\n",
    "            \n",
    "            if left <= right:\n",
    "                return palindrome(s, left, right)\n",
    "\n",
    "\n",
    "        if len(s) == 0:\n",
    "            return s\n",
    "        else:\n",
    "            palindrome(s, left, right)\n",
    "            return answer[max(answer)]"
   ]
  },
  {
   "cell_type": "markdown",
   "id": "cf80f570-babd-4e7d-b046-6a28385bd2bb",
   "metadata": {},
   "source": [
    "    당신의 방법은 모든 가능한 부분 문자열에 대해 팰린드롬 여부를 검사합니다.\n",
    "    \n",
    "    문자열의 길이를 n이라고 할 때, 부분 문자열의 총 개수는 n(n+1) / 2입니다. \n",
    "    각 부분 문자열에 대해 팰린드롬 여부를 검사하기 위해서는 \n",
    "    해당 부분 문자열의 각 문자를 앞에서부터 뒤로, 또는 뒤에서부터 앞으로 비교해야 합니다. \n",
    "    가장 긴 부분 문자열의 경우, n번의 비교를 의미합니다. \n",
    "    따라서, 이 방법의 시간 복잡도는 O(n^2)의 부분 문자열 생성에 대해 각각 최대 O(n)의 검사 시간이 필요하므로,\n",
    "    총 시간 복잡도는 O(n^3)입니다."
   ]
  },
  {
   "cell_type": "markdown",
   "id": "db576fbd-43cc-4bd2-863a-ceb097fb7edb",
   "metadata": {},
   "source": [
    "### 책 풀이\n",
    "가장 일반적으로 사용되는 효율적인 방식은 \"중앙 확장 알고리즘\"(Center Expansion Algorithm)"
   ]
  },
  {
   "cell_type": "code",
   "execution_count": 83,
   "id": "f52aa9d9-a83a-4111-befa-5a9f329da553",
   "metadata": {
    "tags": []
   },
   "outputs": [],
   "source": [
    "class Solution:\n",
    "    def longestPalindrome(self, s: str) -> str:\n",
    "        def expand(left: int, right: int) -> str:\n",
    "            while left >=0 and right < len(s) and s[left] == s[right]:\n",
    "                left -= 1\n",
    "                right += 1\n",
    "            return s[left+1:right]\n",
    "        \n",
    "        if len(s) < 2 or s==s[::-1]:\n",
    "            return s\n",
    "            \n",
    "        result = ''\n",
    "        \n",
    "        for i in range(len(s) - 1): \n",
    "            # range(len(s) - 1)를 사용하는 이유는 문자열의 마지막 문자를 시작점으로 하는 팰린드롬을 찾을 필요가 없기 때문\n",
    "            result = max(result, expand(i, i+1), expand(i, i+2), key=len)\n",
    "        return result"
   ]
  },
  {
   "cell_type": "markdown",
   "id": "1b44df83-c568-4bcd-90e3-a2de881c6e52",
   "metadata": {},
   "source": [
    "### chatGPT 풀이\n",
    "\n",
    "1. **`expand` 함수**: \n",
    "이 내부 함수는 주어진 `left`와 `right` 인덱스를 중심으로 양쪽으로 확장하면서 팰린드롬을 찾습니다. \n",
    "조건 `left >= 0`과 `right < len(s)`는 확장이 문자열의 경계 내에서 이루어지도록 보장하고, \n",
    "`s[left] == s[right]`는 현재 검사하는 부분 문자열이 팰린드롬인지 확인합니다. \n",
    "팰린드롬이면 `left`는 하나 감소하고, `right`는 하나 증가합니다. 확장이 끝나면, \n",
    "팰린드롬 부분 문자열 `s[left+1:right]`을 반환합니다. \n",
    "(파이썬의 슬라이싱은 종료 인덱스를 포함하지 않으므로 `right` 인덱스가 실제 팰린드롬의 끝 다음 인덱스를 가리킵니다.)\n",
    "\n",
    "2. **기저 조건**: \n",
    "문자열 `s`의 길이가 2 미만이거나, `s`가 이미 팰린드롬인 경우(`s == s[::-1]`)에는 \n",
    "더 이상의 검사 없이 `s`를 반환합니다. 이는 불필요한 계산을 줄이기 위함입니다.\n",
    "\n",
    "3. **가장 긴 팰린드롬 찾기**: \n",
    "빈 문자열 `result`를 초기화하고, \n",
    "문자열 `s`의 각 인덱스에 대해 두 가지 경우를 검사합니다. \n",
    "첫 번째는 짝수 길이 팰린드롬(`expand(i, i+1)`)을 찾고, \n",
    "두 번째는 홀수 길이 팰린드롬(`expand(i, i+2)`)을 찾습니다. \n",
    "`max` 함수와 `key=len`을 사용하여 이 두 팰린드롬과 현재 `result` 중에서 가장 긴 팰린드롬을 선택합니다.\n",
    "        key=len을 준 경우: max 함수는 주어진 문자열들의 길이를 비교하여 가장 긴 문자열을 반환합니다.\n",
    "        key=len을 주지 않은 경우: max 함수는 문자열들을 사전 순으로 비교하여 \"사전적으로\" 가장 큰 값을 반환합니다. \n",
    "        \n",
    "중앙 확장 알고리즘은 모든 가능한 중심점에서 시작하여 최대 길이의 팰린드롬을 효과적으로 식별할 수 있으며, \n",
    "시간 복잡도는 O(n^2)입니다. 여기서 n은 입력 문자열의 길이입니다. 이\n",
    "방식은 브루트 포스 접근법보다 훨씬 효율적이며, 크고 복잡한 입력에 대해서도 잘 작동합니다."
   ]
  },
  {
   "cell_type": "code",
   "execution_count": null,
   "id": "d05fa50a-2ac9-44e4-b488-a2ba288b0f13",
   "metadata": {},
   "outputs": [],
   "source": []
  }
 ],
 "metadata": {
  "kernelspec": {
   "display_name": "tf",
   "language": "python",
   "name": "tf"
  },
  "language_info": {
   "codemirror_mode": {
    "name": "ipython",
    "version": 3
   },
   "file_extension": ".py",
   "mimetype": "text/x-python",
   "name": "python",
   "nbconvert_exporter": "python",
   "pygments_lexer": "ipython3",
   "version": "3.11.0"
  }
 },
 "nbformat": 4,
 "nbformat_minor": 5
}
