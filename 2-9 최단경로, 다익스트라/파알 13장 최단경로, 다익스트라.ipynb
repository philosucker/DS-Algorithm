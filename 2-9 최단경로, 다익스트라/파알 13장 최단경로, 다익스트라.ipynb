{
 "cells": [
  {
   "cell_type": "markdown",
   "id": "502bcaf9-0cda-43b9-89d4-66cb0f43648c",
   "metadata": {},
   "source": [
    "### m: 40, 41"
   ]
  },
  {
   "cell_type": "markdown",
   "id": "bdca744a-b042-452d-943e-bb25c49bb74a",
   "metadata": {},
   "source": [
    "# 13장 최단경로문제"
   ]
  },
  {
   "cell_type": "markdown",
   "id": "40d8ebfa-5875-4015-bf61-9eaf662f9e17",
   "metadata": {
    "tags": []
   },
   "source": [
    "### edge들의 weight합이 최소가 되는\n",
    "### 두 vertex 사이의 경로를 찾는 문제"
   ]
  },
  {
   "cell_type": "markdown",
   "id": "bfa85eb0-a82b-4f09-8d88-2d7512c0ee43",
   "metadata": {},
   "source": [
    "#### 그래프의 종류와 특성에 따라 최적화된 다양한 최단경로 알고리즘이 존재한다."
   ]
  },
  {
   "cell_type": "code",
   "execution_count": null,
   "id": "10b0c85f-ed9b-4661-a613-6c3980ec75c4",
   "metadata": {},
   "outputs": [],
   "source": [
    "다익스트라 : 노드 주변의 최단 경로만을 선택하는 알고리즘 \n",
    "그리디 + BFS(우선순위 큐 사용) : \n",
    "    O((V+E) log V),\n",
    "    모든 vertex 가 출발지에서 도달가능하면 O(E log V)\n",
    "\n",
    "    weight가 음수인 경우는 쓸 수 없다. (벨만 포드 알고리즘은 음수 weight 계산 가능)\n",
    "\n",
    "DFS는 한사람이 미로를 탐색하는 방법\n",
    "BFS는 여러 사람이 각기 서로 다른 갈림길로 흩어져 미로를 탐색하는 방법"
   ]
  },
  {
   "cell_type": "markdown",
   "id": "a4b602e4-baac-421c-87f9-f7a609341704",
   "metadata": {},
   "source": [
    "# 문40 네트워크 딜레이 타임 m\n",
    "https://leetcode.com/problems/network-delay-time"
   ]
  },
  {
   "cell_type": "code",
   "execution_count": null,
   "id": "c49651a2-ba5f-4172-a343-ee0c2d5f0a03",
   "metadata": {},
   "outputs": [],
   "source": [
    "You are given a network of n nodes, labeled from 1 to n. \n",
    "You are also given times, \n",
    "a list of travel times as directed edges times[i] = (ui, vi, wi), \n",
    "where ui is the source node, vi is the target node, \n",
    "and wi is the time it takes for a signal to travel from source to target.\n",
    "\n",
    "We will send a signal from a given node k.\n",
    "Return the minimum time it takes for all the n nodes to receive the signal.\n",
    "If it is impossible for all the n nodes to receive the signal, return -1.\n",
    "\n",
    "\n",
    "Example 1:\n",
    "\n",
    "Input: times = [[2,1,1],[2,3,1],[3,4,1]], n = 4, k = 2\n",
    "Output: 2\n",
    "\n",
    "Input: times = [[1,2,1]], n = 2, k = 2\n",
    "Output: -1\n",
    "\n",
    "class Solution:\n",
    "    def networkDelayTime(self, times: List[List[int]], n: int, k: int) -> int:"
   ]
  },
  {
   "cell_type": "code",
   "execution_count": 7,
   "id": "a0adc167-b7d9-4b2b-b1b0-6249a14d62cf",
   "metadata": {},
   "outputs": [
    {
     "name": "stdout",
     "output_type": "stream",
     "text": [
      "Q : [(0, 2)]\n",
      "dist : defaultdict(<class 'int'>, {2: 0})\n",
      "Q : [(1, 1), (1, 3)]\n",
      "dist : defaultdict(<class 'int'>, {2: 0, 1: 1})\n",
      "Q : [(1, 3)]\n",
      "dist : defaultdict(<class 'int'>, {2: 0, 1: 1, 3: 1})\n",
      "Q : [(2, 4)]\n",
      "dist : defaultdict(<class 'int'>, {2: 0, 1: 1, 3: 1, 4: 2})\n"
     ]
    },
    {
     "data": {
      "text/plain": [
       "2"
      ]
     },
     "execution_count": 7,
     "metadata": {},
     "output_type": "execute_result"
    }
   ],
   "source": [
    "import collections\n",
    "import heapq\n",
    "def network_delay_time(times, n, k):\n",
    "    graph = collections.defaultdict(list) # 그래프를 인접리스트로 구현\n",
    "    for u, v, w in times:        # times의 정보를 바탕으로 그래프 생성\n",
    "        graph[u].append((v, w))  # 인접리스트(그래프)를 딕셔너리로 구현\n",
    "\n",
    "    Q = [(0, k)]  # (소요시간, vertex) 우선순위 큐로 쓸 리스트 초기화\n",
    "\n",
    "    dist = collections.defaultdict(int) # 도달 가능한 노드들에 대해서\n",
    "                                        # 신호가 도달하는데 걸리는 최소 시간을 \n",
    "                                        # 기록하기 위한 딕셔너리 초기화\n",
    "                                # dist의 길이와 n을 비교해\n",
    "                                # 모든 노드가 신호를 받을 수 있는지도 확인 가능                                \n",
    "    while Q:\n",
    "        print(f'Q : {Q}')\n",
    "        \n",
    "        time, node = heapq.heappop(Q) \n",
    "        # 파이썬 힙큐는 최소힙이므로 우선순위큐에서는 가장 짧은 time의 노드가 먼저 나오므로\n",
    "        # 여기가 그리디 알고리즘이 적용된 부분이고, 따라서 \n",
    "        # dist에 키로 기록되는 노드에는 항상 신호가 도달하기까지 걸리는 최소시간이 밸류가 된다.\n",
    "        if node not in dist:  \n",
    "            # 한 번 방문한 노드에 대한 최소 시간을 보장하며, 중복 방문을 방지하는 로직  \n",
    "              \n",
    "            dist[node] = time #\n",
    "            \n",
    "            print(f'dist : {dist}')\n",
    "            \n",
    "            for v, w in graph[node]:\n",
    "                alt = time + w\n",
    "                heapq.heappush(Q, (alt, v))\n",
    "    if len(dist) == n:\n",
    "        return max(dist.values())\n",
    "    return -1\n",
    "    \n",
    "times = [[2,1,1],[2,3,1],[3,4,1]]\n",
    "n = 4\n",
    "k = 2\n",
    "network_delay_time(times, n, k)"
   ]
  },
  {
   "cell_type": "code",
   "execution_count": 10,
   "id": "38831dd4-a092-4024-b143-687629ab0273",
   "metadata": {
    "tags": []
   },
   "outputs": [
    {
     "name": "stdout",
     "output_type": "stream",
     "text": [
      "Q : [(0, 3)]\n",
      "dist : defaultdict(<class 'int'>, {3: 0})\n",
      "Q : [(1, 4), (5, 1), (2, 2)]\n",
      "dist : defaultdict(<class 'int'>, {3: 0, 4: 1})\n",
      "Q : [(2, 2), (5, 1), (2, 5)]\n",
      "dist : defaultdict(<class 'int'>, {3: 0, 4: 1, 2: 2})\n",
      "Q : [(2, 5), (5, 1), (4, 1)]\n",
      "dist : defaultdict(<class 'int'>, {3: 0, 4: 1, 2: 2, 5: 2})\n",
      "Q : [(3, 6), (5, 1), (4, 1)]\n",
      "dist : defaultdict(<class 'int'>, {3: 0, 4: 1, 2: 2, 5: 2, 6: 3})\n",
      "Q : [(4, 1), (5, 1), (6, 1)]\n",
      "dist : defaultdict(<class 'int'>, {3: 0, 4: 1, 2: 2, 5: 2, 6: 3, 1: 4})\n",
      "Q : [(5, 1), (6, 1)]\n",
      "Q : [(6, 1)]\n"
     ]
    },
    {
     "data": {
      "text/plain": [
       "4"
      ]
     },
     "execution_count": 10,
     "metadata": {},
     "output_type": "execute_result"
    }
   ],
   "source": [
    "times = [[3,2,2],[3,1,5],[2,1,2],[3,4,1],[4,5,1],[5,6,1],[6,1,3]]\n",
    "n = 6\n",
    "k = 3\n",
    "network_delay_time(times, n, k)"
   ]
  },
  {
   "cell_type": "markdown",
   "id": "5915ace1-9ad4-4a57-8002-9d6efbc43aa9",
   "metadata": {},
   "source": [
    "# 문41 K경유지 내 가장 저렴한 항공권 m\n",
    "https://leetcode.com/problems/cheapest-flights-within-k-stops"
   ]
  },
  {
   "cell_type": "code",
   "execution_count": null,
   "id": "52383517-9f48-40a6-852a-217e6329a63e",
   "metadata": {},
   "outputs": [],
   "source": [
    "There are n cities connected by some number of flights. \n",
    "You are given an array flights where flights[i] = [fromi, toi, pricei] indicates that there is a flight from city fromi to city toi with cost pricei.\n",
    "\n",
    "You are also given three integers src, dst, and k, return the cheapest price from src to dst with at most k stops. \n",
    "If there is no such route, return -1.\n",
    "\n",
    "Example 1:\n",
    "\n",
    "\n",
    "Input: n = 4, flights = [[0,1,100],[1,2,100],[2,0,100],[1,3,600],[2,3,200]], src = 0, dst = 3, k = 1\n",
    "Output: 700\n",
    "\n",
    "Explanation:\n",
    "The graph is shown above.\n",
    "The optimal path with at most 1 stop from city 0 to 3 is marked in red and has cost 100 + 600 = 700.\n",
    "Note that the path through cities [0,1,2,3] is cheaper but is invalid because it uses 2 stops."
   ]
  },
  {
   "cell_type": "code",
   "execution_count": null,
   "id": "a9bc57f1-16e8-470f-b25a-6347400fa91d",
   "metadata": {},
   "outputs": [],
   "source": [
    "class Solution:\n",
    "    def findCheapestPrice(self, n: int, flights: List[List[int]], src: int, dst: int, k: int) -> int:\n",
    "        "
   ]
  }
 ],
 "metadata": {
  "kernelspec": {
   "display_name": "Python 3 (ipykernel)",
   "language": "python",
   "name": "python3"
  },
  "language_info": {
   "codemirror_mode": {
    "name": "ipython",
    "version": 3
   },
   "file_extension": ".py",
   "mimetype": "text/x-python",
   "name": "python",
   "nbconvert_exporter": "python",
   "pygments_lexer": "ipython3",
   "version": "3.11.0"
  }
 },
 "nbformat": 4,
 "nbformat_minor": 5
}
