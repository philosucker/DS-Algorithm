{
 "cells": [
  {
   "cell_type": "markdown",
   "id": "502bcaf9-0cda-43b9-89d4-66cb0f43648c",
   "metadata": {},
   "source": [
    "### m: 40, 41"
   ]
  },
  {
   "cell_type": "markdown",
   "id": "bdca744a-b042-452d-943e-bb25c49bb74a",
   "metadata": {},
   "source": [
    "# 13장 최단경로문제"
   ]
  },
  {
   "cell_type": "markdown",
   "id": "40d8ebfa-5875-4015-bf61-9eaf662f9e17",
   "metadata": {
    "tags": []
   },
   "source": [
    "### edge들의 weight합이 최소가 되는\n",
    "### 두 vertex 사이의 경로를 찾는 문제"
   ]
  },
  {
   "cell_type": "markdown",
   "id": "bfa85eb0-a82b-4f09-8d88-2d7512c0ee43",
   "metadata": {},
   "source": [
    "#### 그래프의 종류와 특성에 따라 최적화된 다양한 최단경로 알고리즘이 존재한다."
   ]
  },
  {
   "cell_type": "code",
   "execution_count": null,
   "id": "10b0c85f-ed9b-4661-a613-6c3980ec75c4",
   "metadata": {},
   "outputs": [],
   "source": [
    "다익스트라 : 노드 주변의 최단 경로만을 선택하는 알고리즘 \n",
    "그리디 + BFS(우선순위 큐 사용) : O((V+E) log V), 모든 vertex 가 출발지에서 도달가능하면 O(E log V)\n",
    "weight가 음수인 경우는 쓸 수 없다. (벨만 포드 알고리즘은 음수 weight 계산 가능)\n",
    "\n",
    "DFS는 한사람이 미로를 탐색하는 방법\n",
    "BFS는 여러 사람이 각기 서로 다른 갈림길로 흩어져 미로를 탐색하는 방법"
   ]
  },
  {
   "cell_type": "markdown",
   "id": "a4b602e4-baac-421c-87f9-f7a609341704",
   "metadata": {},
   "source": [
    "# 문40 네트워크 딜레이 타임 m\n",
    "https://leetcode.com/problems/network-delay-time"
   ]
  },
  {
   "cell_type": "code",
   "execution_count": null,
   "id": "c49651a2-ba5f-4172-a343-ee0c2d5f0a03",
   "metadata": {},
   "outputs": [],
   "source": [
    "You are given a network of n nodes, labeled from 1 to n. \n",
    "You are also given times, \n",
    "a list of travel times as directed edges times[i] = (ui, vi, wi), where ui is the source node, vi is the target node, \n",
    "and wi is the time it takes for a signal to travel from source to target.\n",
    "\n",
    "We will send a signal from a given node k.\n",
    "Return the minimum time it takes for all the n nodes to receive the signal.\n",
    "If it is impossible for all the n nodes to receive the signal, return -1.\n",
    "\n",
    "\n",
    "Example 1:\n",
    "\n",
    "Input: times = [[2,1,1],[2,3,1],[3,4,1]], n = 4, k = 2\n",
    "Output: 2"
   ]
  },
  {
   "cell_type": "code",
   "execution_count": null,
   "id": "a0adc167-b7d9-4b2b-b1b0-6249a14d62cf",
   "metadata": {},
   "outputs": [],
   "source": [
    "class Solution:\n",
    "    def networkDelayTime(self, times: List[List[int]], n: int, k: int) -> int:\n",
    "        "
   ]
  },
  {
   "cell_type": "markdown",
   "id": "5915ace1-9ad4-4a57-8002-9d6efbc43aa9",
   "metadata": {},
   "source": [
    "# 문41 K경유지 내 가장 저렴한 항공권 m\n",
    "https://leetcode.com/problems/cheapest-flights-within-k-stops"
   ]
  },
  {
   "cell_type": "code",
   "execution_count": null,
   "id": "52383517-9f48-40a6-852a-217e6329a63e",
   "metadata": {},
   "outputs": [],
   "source": [
    "There are n cities connected by some number of flights. \n",
    "You are given an array flights where flights[i] = [fromi, toi, pricei] indicates that there is a flight from city fromi to city toi with cost pricei.\n",
    "\n",
    "You are also given three integers src, dst, and k, return the cheapest price from src to dst with at most k stops. \n",
    "If there is no such route, return -1.\n",
    "\n",
    "Example 1:\n",
    "\n",
    "\n",
    "Input: n = 4, flights = [[0,1,100],[1,2,100],[2,0,100],[1,3,600],[2,3,200]], src = 0, dst = 3, k = 1\n",
    "Output: 700\n",
    "\n",
    "Explanation:\n",
    "The graph is shown above.\n",
    "The optimal path with at most 1 stop from city 0 to 3 is marked in red and has cost 100 + 600 = 700.\n",
    "Note that the path through cities [0,1,2,3] is cheaper but is invalid because it uses 2 stops."
   ]
  },
  {
   "cell_type": "code",
   "execution_count": null,
   "id": "a9bc57f1-16e8-470f-b25a-6347400fa91d",
   "metadata": {},
   "outputs": [],
   "source": [
    "class Solution:\n",
    "    def findCheapestPrice(self, n: int, flights: List[List[int]], src: int, dst: int, k: int) -> int:\n",
    "        "
   ]
  }
 ],
 "metadata": {
  "kernelspec": {
   "display_name": "Python 3 (ipykernel)",
   "language": "python",
   "name": "python3"
  },
  "language_info": {
   "codemirror_mode": {
    "name": "ipython",
    "version": 3
   },
   "file_extension": ".py",
   "mimetype": "text/x-python",
   "name": "python",
   "nbconvert_exporter": "python",
   "pygments_lexer": "ipython3",
   "version": "3.11.0"
  }
 },
 "nbformat": 4,
 "nbformat_minor": 5
}
