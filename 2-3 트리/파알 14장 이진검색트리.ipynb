{
 "cells": [
  {
   "cell_type": "markdown",
   "id": "55fb5be5-e964-4baa-a6bf-6b30eb93dd72",
   "metadata": {},
   "source": [
    "### e: 50, 52, 53\n",
    "### m: 51"
   ]
  },
  {
   "cell_type": "markdown",
   "id": "d9b2f934-e3be-42ec-bbdb-322f28dd6773",
   "metadata": {},
   "source": [
    "BST의 가장 훌륭한 점은 탐색시 시간복잡도가 O(logn) 이라는 점이다.  \n",
    "이진검색트리의 모양이 균형을 이루지 못한 경우 O(n)이 소요될 수 있다.   \n",
    "이런 경우는 연결리스트와 다르지 않다.  \n",
    "\n",
    "그래서 고안해낸 것이 자가 균형 이진탐색트리 이다.  \n",
    "\n",
    "Self-Balanced BST (프 11장 이진트리 참고)  \n",
    "최악의경우에도 이진 트리의 균형이 잘 맞도록 유지한다.  \n",
    "즉 높이를 가능한 낮게 유지한다.  \n",
    "\n",
    "대표적으로 AVL 트리와 레드-블랙 트리 등이 있으며  \n",
    "레드-블랙 트리는 실무에서도 매우 빈번하게 쓰인다.  "
   ]
  },
  {
   "cell_type": "markdown",
   "id": "a5ce3164-eaeb-4075-ae51-69bc57fcd524",
   "metadata": {},
   "source": [
    "# 문50 정렬된 배열의 이진탐색트리 변환 e\n",
    "https://leetcode.com/problems/convert-sorted-array-to-binary-search-tree"
   ]
  },
  {
   "cell_type": "code",
   "execution_count": null,
   "id": "5c49cdec-e325-4624-96ac-248a374a163e",
   "metadata": {},
   "outputs": [],
   "source": [
    "Given an integer array nums where the elements are sorted in ascending order, \n",
    "convert it to a height-balanced  binary search tree.\n",
    "\n",
    "Example 1:\n",
    "\n",
    "Input: nums = [-10,-3,0,5,9]\n",
    "Output: [0,-3,9,-10,null,5]\n",
    "Explanation: [0,-10,5,null,-3,null,9] is also accepted:"
   ]
  },
  {
   "cell_type": "code",
   "execution_count": null,
   "id": "989df1ff-08e4-44f6-88a5-ccfefb567768",
   "metadata": {},
   "outputs": [],
   "source": [
    "# Definition for a binary tree node.\n",
    "# class TreeNode:\n",
    "#     def __init__(self, val=0, left=None, right=None):\n",
    "#         self.val = val\n",
    "#         self.left = left\n",
    "#         self.right = right\n",
    "class Solution:\n",
    "    def sortedArrayToBST(self, nums: List[int]) -> Optional[TreeNode]:\n",
    "        "
   ]
  },
  {
   "cell_type": "markdown",
   "id": "2ff79e4e-1f8f-42ac-87dd-01592d8c81ff",
   "metadata": {},
   "source": [
    "![BST1](BST1.png)"
   ]
  },
  {
   "cell_type": "code",
   "execution_count": null,
   "id": "b1345469-d41c-4b7a-a0dc-b3863a29768e",
   "metadata": {},
   "outputs": [],
   "source": [
    "class TreeNode:\n",
    "    def __init__(self, val=0, left=None, right=None):\n",
    "        self.val = val\n",
    "        self.left = left\n",
    "        self.right = right\n",
    "\n",
    "class Solution:\n",
    "    def sortedArrayToBST(self, nums: List[int]) -> Optional[TreeNode]:\n",
    "        '''\n",
    "        convertListToBST 함수는 왼쪽 인덱스 left와 오른쪽 인덱스 right를 인자로 받습니다.\n",
    "        배열의 중간 지점을 찾아 이를 현재 노드의 값으로 설정하고, \n",
    "        배열의 왼쪽 절반과 오른쪽 절반을 각각 현재 노드의 왼쪽 및 오른쪽 서브트리로 재귀적으로 생성합니다.\n",
    "        이 과정은 배열의 각 부분에 대해 반복됩니다. \n",
    "        배열에 더 이상 요소가 없을 때까지 (즉, left > right일 때까지) 이 재귀적 과정이 계속됩니다.\n",
    "        '''\n",
    "        def convertListToBST(left, right):\n",
    "            # 종료 조건: 왼쪽 인덱스가 오른쪽 인덱스보다 크면 서브트리는 더 이상 생성할 수 없습니다.\n",
    "            if left > right:\n",
    "                return None\n",
    "\n",
    "            # 중앙 값을 찾아 트리의 루트 노드로 설정합니다.\n",
    "            mid = (left + right) // 2\n",
    "            node = TreeNode(nums[mid])\n",
    "\n",
    "            # 분할 정복 방식으로 왼쪽과 오른쪽 서브트리를 재귀적으로 생성합니다.\n",
    "            node.left = convertListToBST(left, mid - 1)\n",
    "            node.right = convertListToBST(mid + 1, right)\n",
    "\n",
    "            return node\n",
    "\n",
    "        # 배열의 전체 범위를 사용하여 함수를 호출합니다.\n",
    "        return convertListToBST(0, len(nums) - 1)\n"
   ]
  },
  {
   "cell_type": "code",
   "execution_count": 18,
   "id": "8530c3f4-db30-4ace-9b0f-6c72fda4b3e9",
   "metadata": {
    "tags": []
   },
   "outputs": [
    {
     "name": "stdout",
     "output_type": "stream",
     "text": [
      "return_count : 17\n",
      "      0\n",
      "   -6   4\n",
      " -8 -2 1 7\n",
      "          9\n"
     ]
    }
   ],
   "source": [
    "class TreeNode:\n",
    "    def __init__(self, val=0, left=None, right=None):\n",
    "        self.val = val\n",
    "        self.left = left\n",
    "        self.right = right\n",
    "        \n",
    "class Solution:\n",
    "    def __init__(self):\n",
    "        pass\n",
    "    \n",
    "    def sortedArrayToBST(self, nums):\n",
    "        return_count = 0\n",
    "        def BST(left, right):\n",
    "            nonlocal return_count\n",
    "            if left > right:\n",
    "                return_count += 1\n",
    "                return\n",
    "            else:\n",
    "                mid = (left+right)//2\n",
    "                node = TreeNode(val = nums[mid])\n",
    "                node.left = BST(left, mid-1)\n",
    "                node.right = BST(mid+1, right)\n",
    "                return_count += 1\n",
    "                return node\n",
    "        node = BST(0, len(nums)-1)\n",
    "        print(f'return_count : {return_count}')\n",
    "        print(f'      {node.val}')\n",
    "        print(f'   {node.left.val}', end= \"   \")\n",
    "        print(node.right.val)\n",
    "        print(f' {node.left.left.val}', end= \" \")\n",
    "        print(node.left.right.val, end= \" \")\n",
    "        print(node.right.left.val, end= \" \")\n",
    "        print(node.right.right.val)\n",
    "        print(f'          {node.right.right.right.val}')\n",
    "        \n",
    "nums = [-8,-6,-2,0,1,4,7,9]        \n",
    "solution = Solution()\n",
    "solution.sortedArrayToBST(nums)"
   ]
  },
  {
   "cell_type": "code",
   "execution_count": null,
   "id": "36b3d0a0-0b50-4dfb-80a1-2e4339ba9578",
   "metadata": {},
   "outputs": [],
   "source": [
    "각 노드를 만들때마다 return node 한번씩 : 8번\n",
    "리프노드 만들고나서 if문에 두번씩 걸림 : 8번\n",
    "7 노드 만들고 왼쪽 자식노드 만들때 if문 한번 걸림 : 1번\n",
    "총 17번 return"
   ]
  },
  {
   "cell_type": "markdown",
   "id": "3106e666-380f-47a1-b244-239097fa95aa",
   "metadata": {},
   "source": [
    "![BST2](BST2.png)"
   ]
  },
  {
   "cell_type": "markdown",
   "id": "ab5692ec-8acd-4245-9a8e-b69ccf43f580",
   "metadata": {},
   "source": [
    "# 문52 이진탐색트리 합의 범위 e\n",
    "https://leetcode.com/problems/range-sum-of-bst"
   ]
  },
  {
   "cell_type": "code",
   "execution_count": null,
   "id": "ee6028c1-5276-4b9b-83ba-2d130b6a0ecc",
   "metadata": {},
   "outputs": [],
   "source": [
    "Given the root node of a binary search tree and two integers low and high, \n",
    "return the sum of values of all nodes with a value in the inclusive range [low, high].\n",
    "\n",
    "Example 1:\n",
    "\n",
    "Input: root = [10,5,15,3,7,null,18], low = 7, high = 15\n",
    "Output: 32\n",
    "Explanation: Nodes 7, 10, and 15 are in the range [7, 15]. 7 + 10 + 15 = 32."
   ]
  },
  {
   "cell_type": "code",
   "execution_count": null,
   "id": "dad6e931-310f-49b5-81fd-8b7fa1d22212",
   "metadata": {},
   "outputs": [],
   "source": [
    "# Definition for a binary tree node.\n",
    "# class TreeNode:\n",
    "#     def __init__(self, val=0, left=None, right=None):\n",
    "#         self.val = val\n",
    "#         self.left = left\n",
    "#         self.right = right\n",
    "class Solution:\n",
    "    def rangeSumBST(self, root: Optional[TreeNode], low: int, high: int) -> int:\n",
    "        "
   ]
  },
  {
   "cell_type": "markdown",
   "id": "2a24310b-6744-466d-b1e9-981994239759",
   "metadata": {},
   "source": [
    "# 문53 이진탐색 트리 노드 간 최소 거리 e\n",
    "https://leetcode.com/problems/minimum-distance-between-bst-nodes"
   ]
  },
  {
   "cell_type": "code",
   "execution_count": null,
   "id": "a50148ac-cae7-4a20-b0a8-b9f83bf6113e",
   "metadata": {},
   "outputs": [],
   "source": [
    "Given the root of a Binary Search Tree (BST), return the minimum difference between the values of any two different nodes in the tree.\n",
    "\n",
    "Example 1:\n",
    "\n",
    "Input: root = [4,2,6,1,3]\n",
    "Output: 1"
   ]
  },
  {
   "cell_type": "code",
   "execution_count": null,
   "id": "587e4fe4-c841-433d-940b-003f4bfe287f",
   "metadata": {},
   "outputs": [],
   "source": [
    "# Definition for a binary tree node.\n",
    "# class TreeNode:\n",
    "#     def __init__(self, val=0, left=None, right=None):\n",
    "#         self.val = val\n",
    "#         self.left = left\n",
    "#         self.right = right\n",
    "class Solution:\n",
    "    def minDiffInBST(self, root: Optional[TreeNode]) -> int:\n",
    "        "
   ]
  },
  {
   "cell_type": "markdown",
   "id": "23613b8d-d94f-465e-95ff-3da2b7e14a02",
   "metadata": {},
   "source": [
    "# 문51 이진탐색 트리를 더 큰 수 합계 트리로 m\n",
    "https://leetcode.com/problems/binary-search-tree-to-greater-sum-tree"
   ]
  },
  {
   "cell_type": "code",
   "execution_count": null,
   "id": "b61c16e1-ab9b-4a03-b37a-cf9d578096e7",
   "metadata": {},
   "outputs": [],
   "source": [
    "Given the root of a Binary Search Tree (BST), convert it to a Greater Tree \n",
    "such that every key of the original BST is changed to the original key plus the sum of all keys greater than the original key in BST.\n",
    "\n",
    "As a reminder, a binary search tree is a tree that satisfies these constraints:\n",
    "\n",
    "The left subtree of a node contains only nodes with keys less than the node's key.\n",
    "The right subtree of a node contains only nodes with keys greater than the node's key.\n",
    "Both the left and right subtrees must also be binary search trees.\n",
    " \n",
    "\n",
    "Example 1:\n",
    "\n",
    "Input: root = [4,1,6,0,2,5,7,null,null,null,3,null,null,null,8]\n",
    "Output: [30,36,21,36,35,26,15,null,null,null,33,null,null,null,8]"
   ]
  },
  {
   "cell_type": "code",
   "execution_count": null,
   "id": "0d4d8234-1411-4b1d-9a06-c5a5e931880c",
   "metadata": {},
   "outputs": [],
   "source": [
    "# Definition for a binary tree node.\n",
    "# class TreeNode:\n",
    "#     def __init__(self, val=0, left=None, right=None):\n",
    "#         self.val = val\n",
    "#         self.left = left\n",
    "#         self.right = right\n",
    "class Solution:\n",
    "    def bstToGst(self, root: TreeNode) -> TreeNode:"
   ]
  },
  {
   "cell_type": "markdown",
   "id": "6d8b43de-7621-4652-b142-1ed15ca97987",
   "metadata": {},
   "source": []
  },
  {
   "cell_type": "markdown",
   "id": "e00491b7-ecba-4088-8d4d-0f5aabb6aaa8",
   "metadata": {},
   "source": []
  }
 ],
 "metadata": {
  "kernelspec": {
   "display_name": "Python 3 (ipykernel)",
   "language": "python",
   "name": "python3"
  },
  "language_info": {
   "codemirror_mode": {
    "name": "ipython",
    "version": 3
   },
   "file_extension": ".py",
   "mimetype": "text/x-python",
   "name": "python",
   "nbconvert_exporter": "python",
   "pygments_lexer": "ipython3",
   "version": "3.11.0"
  }
 },
 "nbformat": 4,
 "nbformat_minor": 5
}
