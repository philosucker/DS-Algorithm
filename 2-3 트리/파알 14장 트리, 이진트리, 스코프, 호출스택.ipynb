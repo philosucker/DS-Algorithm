{
 "cells": [
  {
   "cell_type": "markdown",
   "id": "7f501393-340a-407b-b0b8-fb1acb840bce",
   "metadata": {},
   "source": [
    "### e: 42, 43, 45, 46, 48\n",
    "### m: 44, 49, 54\n",
    "### h: 47"
   ]
  },
  {
   "cell_type": "markdown",
   "id": "df9edda9-bbcd-4023-9570-d8a8fbca1c16",
   "metadata": {},
   "source": [
    "트리 : 추상자료형의 일종\n",
    "\n",
    "    추상 자료형 ADT, Abstract Data Type :\n",
    "    자료형의 연산을 정의한 것. 실제 구현 방법은 명시하지 않는다.\n",
    "    \n",
    "트리(Tree)는 재귀적으로 정의된 자기 참조(Self-referential) 자료구조입니다. \n",
    "트리의 각 노드(Node)는 하나 이상의 자식 노드(Child nodes)를 가리키는 참조(Reference)를 포함하며,  \n",
    "이러한 구조가 반복적으로 나타나 재귀적인 특성을 가집니다. \n",
    "  \n",
    "트리는 하나의 루트 노드와 0개 이상의 서브트리(Subtrees)로 구성되어 있습니다.  \n",
    "각 서브트리 역시 트리의 정의를 만족하는 자기 참조 구조를 가집니다.  \n",
    "이러한 구조 때문에, 트리를 다루는 많은 연산(예: 탐색, 삽입, 삭제)은 재귀적으로 구현될 수 있습니다.   "
   ]
  },
  {
   "cell_type": "markdown",
   "id": "20a43fb5-a064-4271-b84a-390fd5028399",
   "metadata": {},
   "source": [
    "### 트리는 순환구조를 갖지 않는 그래프다\n",
    "그래프는 순환구조를 가질 수 있다."
   ]
  },
  {
   "cell_type": "markdown",
   "id": "2eb18031-a417-4fe9-9de5-e4f318965353",
   "metadata": {
    "tags": []
   },
   "source": [
    "### 계층적 구조를 가지며 모든 자식 노드는 하나의 부모노드를 가지고\n",
    "그래프에서 노드는 모두 동등한 관계다. 하나의 노드가 여러 부모노드를 가질 수 있다.\n",
    "### 최상위 부모노드를 루트라고 한다. 다시말해 트리는 하나의 루트를 반드시 갖는다.\n",
    "그래프는 여러 개의 루트를 가질 수 있다."
   ]
  },
  {
   "cell_type": "markdown",
   "id": "c6c394e1-7e1a-4827-be97-ecf91bf5d558",
   "metadata": {},
   "source": [
    "**프 11장, 자료구조책 9장 참고**"
   ]
  },
  {
   "cell_type": "markdown",
   "id": "6cf665f0-7b30-4245-82c1-7d10514bfebd",
   "metadata": {},
   "source": [
    "# 트리 순회  \n",
    "(자료구조 9장 트리 참고, 파알 12장 그래프 참고)  \n",
    "\n",
    "### 전위순회 pre-order (NLR)\n",
    "### 중위순회 in-order (LNR)\n",
    "### 후위순회 post-order (LRN)\n",
    "\n",
    "NLR 현재 노드, 현재노드의 왼쪽서브트리, 현재노드의 오른쪽서브트리\n",
    "\n",
    "                      F\n",
    "                    /  \\\n",
    "                   B    G\n",
    "                  / \\    \\\n",
    "                 A  D    I\n",
    "                   / \\  /\n",
    "                  C  E H\n",
    "                \n",
    "pre-order : F B A D C E G I H\n",
    "in-order  : A B C D E F G H I\n",
    "post-order: A C E D B H I G F"
   ]
  },
  {
   "cell_type": "markdown",
   "id": "d3c5762e-700d-4bb2-a1d7-4e910a08e4c9",
   "metadata": {},
   "source": [
    "코드로 보면 더 왜 그런지 더 쉽게 이해 된다"
   ]
  },
  {
   "cell_type": "code",
   "execution_count": 14,
   "id": "09952f2d-c04c-48c0-8119-cec2a022f9d4",
   "metadata": {
    "tags": []
   },
   "outputs": [],
   "source": [
    "def preorder(node):\n",
    "    if not node:\n",
    "        return\n",
    "    else:\n",
    "        print(node.val, end=\" \")\n",
    "        preorder(node.left)\n",
    "        preorder(node.right)"
   ]
  },
  {
   "cell_type": "code",
   "execution_count": 11,
   "id": "3544aa0b-bc15-4276-83bc-0457f4263f50",
   "metadata": {
    "tags": []
   },
   "outputs": [],
   "source": [
    "def inorder(node):\n",
    "    if not node:\n",
    "        return\n",
    "    else:\n",
    "        inorder(node.left)\n",
    "        print(node.val)\n",
    "        inorder(node.right)"
   ]
  },
  {
   "cell_type": "code",
   "execution_count": 12,
   "id": "da4c6534-87b5-4144-88ef-438f0dc66992",
   "metadata": {
    "tags": []
   },
   "outputs": [],
   "source": [
    "def postorder(node):\n",
    "    if not node:\n",
    "        return\n",
    "    else:\n",
    "        postorder(node.left)\n",
    "        postorder(node.right)\n",
    "        print(node.val)"
   ]
  },
  {
   "cell_type": "markdown",
   "id": "7a60f934-fb24-427e-8a3e-3c8f8d2240d4",
   "metadata": {},
   "source": [
    "                      F\n",
    "                    /  \\\n",
    "                   B    G\n",
    "                  / \\    \\\n",
    "                 A  D    I\n",
    "                   / \\  /\n",
    "                  C  E H\n",
    "                \n",
    "pre-order : F B A D C E G I H\n",
    "in-order  : A B C D E F G H I\n",
    "post-order: A C E D B H I G F"
   ]
  },
  {
   "cell_type": "code",
   "execution_count": 8,
   "id": "fbc254c7-a1d6-4ce6-81f6-896e572a243b",
   "metadata": {
    "tags": []
   },
   "outputs": [],
   "source": [
    "class Node:\n",
    "    def __init__(self, val, left = None, right = None):\n",
    "        self.val = val\n",
    "        self.left = left\n",
    "        self.right = right\n",
    "node = Node(\"F\", \n",
    "            Node(\"B\", \n",
    "                 Node(\"A\"), Node(\"D\", \n",
    "                                 Node(\"C\"), Node(\"E\"))\n",
    "                ),\n",
    "            Node(\"G\",\n",
    "                 None, Node(\"I\",\n",
    "                            Node(\"H\"))\n",
    "                )\n",
    "           )"
   ]
  },
  {
   "cell_type": "code",
   "execution_count": 15,
   "id": "e0ab297a-fca1-44ab-af69-3c843a15b3db",
   "metadata": {
    "tags": []
   },
   "outputs": [
    {
     "name": "stdout",
     "output_type": "stream",
     "text": [
      "F B A D C E G I H "
     ]
    }
   ],
   "source": [
    "preorder(node)"
   ]
  },
  {
   "cell_type": "markdown",
   "id": "2b24beef-e0d4-463e-98f6-9cc6eb36f3c7",
   "metadata": {
    "tags": []
   },
   "source": [
    "# 문42 이진트리의 최대 깊이 e\n",
    "\n",
    "https://leetcode.com/problems/maximum-depth-of-binary-tree/"
   ]
  },
  {
   "cell_type": "markdown",
   "id": "9a65254f-921f-423e-9d14-dd6217abf153",
   "metadata": {},
   "source": [
    "Given the root of a binary tree, return its maximum depth.\n",
    "\n",
    "A binary tree's maximum depth is \n",
    "the number of nodes along the longest path from the root node down to the farthest leaf node.\n",
    "\n",
    "Input: root = [3,9,20,null,null,15,7]\n",
    "Output: 3\n"
   ]
  },
  {
   "cell_type": "code",
   "execution_count": null,
   "id": "4eecc505-8cde-4cea-83c6-d3a397fe9695",
   "metadata": {},
   "outputs": [],
   "source": [
    "from collections import deque\n",
    "\n",
    "class TreeNode:\n",
    "    def __init__(self, val=0, left=None, right=None):\n",
    "        self.val = val\n",
    "        self.left = left\n",
    "        self.right = right\n",
    "\n",
    "class Solution:\n",
    "    def maxDepth(self, root: Optional[TreeNode]) -> int:\n",
    "        if not root:\n",
    "            return 0\n",
    "\n",
    "        # BFS를 위한 큐 초기화\n",
    "        queue = deque([root])\n",
    "        depth = 0\n",
    "\n",
    "        # 큐가 빌 때까지 반복\n",
    "        while queue:\n",
    "            # 현재 레벨의 노드 수\n",
    "            level_size = len(queue)\n",
    "            \n",
    "            # 현재 레벨의 모든 노드에서 자식노드가 있으면 큐에 추가\n",
    "            for _ in range(level_size):\n",
    "                node = queue.popleft()\n",
    "                # 왼쪽 자식 노드가 있다면 큐에 추가\n",
    "                if node.left:\n",
    "                    queue.append(node.left)\n",
    "                # 오른쪽 자식 노드가 있다면 큐에 추가\n",
    "                if node.right:\n",
    "                    queue.append(node.right)\n",
    "            \n",
    "            # 현재 레벨의 노드들을 큐에서 빼고, 그 자식노드들을 큐에 넣었으므로 깊이를 1 증가\n",
    "            depth += 1\n",
    "\n",
    "        return depth"
   ]
  },
  {
   "cell_type": "code",
   "execution_count": 7,
   "id": "727e4a53-9437-40e0-9ece-a4c209348a62",
   "metadata": {
    "tags": []
   },
   "outputs": [],
   "source": [
    "from __future__ import annotations\n",
    "\n",
    "class TreeNode:\n",
    "    def __init__(self, val=0, left=None, right=None):\n",
    "        self.val = val\n",
    "        self.left = left\n",
    "        self.right = right\n",
    "\n",
    "class Solution:\n",
    "    def maxDepth(self, root: Optional[TreeNode]) -> int:\n",
    "        # 노드가 None인 경우, 깊이를 0으로 반환합니다.\n",
    "        if root is None:\n",
    "            return 0\n",
    "        \n",
    "        # 왼쪽과 오른쪽 서브트리의 최대 깊이를 재귀적으로 계산합니다.\n",
    "        left_depth = self.maxDepth(root.left)\n",
    "        right_depth = self.maxDepth(root.right)\n",
    "        \n",
    "        # 현재 노드를 포함하여 최대 깊이를 계산합니다.\n",
    "        # 현재 노드의 깊이(1) + 왼쪽과 오른쪽 서브트리 중 더 깊은 깊이\n",
    "        return 1 + max(left_depth, right_depth)"
   ]
  },
  {
   "cell_type": "markdown",
   "id": "202ecaf1-9ee4-47b3-8307-4f260c45a1b1",
   "metadata": {},
   "source": [
    "    일단 재귀호출이 리프노드까지 쭉 이어진다.\n",
    "    리프 노드에서는 왼쪽(left)과 오른쪽(right) 자식 노드가 모두 없기 때문에, \n",
    "    left_depth와 right_depth는 모두 0이 됩니다.\n",
    "    i.e. 재귀 호출의 기저 조건에 의해 0을 반환합니다.\n",
    "    즉 리프 노드에서의 재귀 호출은 1 + max(0, 0)을 계산하게 되어, 결과적으로 1을 반환합니다. \n",
    "    이는 리프 노드의 깊이가 1임을 의미하며, \n",
    "    리프노드에서부터 이 값이 리턴되면서 호출스택이 비워지며(트리를 거슬러 올라가며)\n",
    "    각 노드에서의 최대 깊이를 계산한다.\n",
    "\n",
    "    이 과정을 조금 더 자세히 설명하면:\n",
    "\n",
    "    리프 노드의 부모 노드에서는, 리프 노드의 깊이(left_depth 또는 right_depth)가 1로 계산됩니다. \n",
    "    부모 노드의 깊이는 자신의 깊이(1)와 자식 노드의 최대 깊이(1)를 더한 값이 됩니다.\n",
    "\n",
    "    각 노드에서는 자신의 깊이(1)와 자식 노드들의 최대 깊이를 더해 부모 노드로 반환하고\n",
    "    이 과정은 트리를 따라 루트 노드까지 반복되어\n",
    "    전체 트리의 최대 깊이를 계산하게 됩니다.\n",
    "\n",
    "\n",
    "\n",
    "\n",
    "\n"
   ]
  },
  {
   "cell_type": "markdown",
   "id": "2ea2d46f-2c09-4f6e-a545-5a41284c7cde",
   "metadata": {},
   "source": [
    "# 문43 이진트리의 직경 e\n",
    "https://leetcode.com/problems/diameter-of-binary-tree/"
   ]
  },
  {
   "cell_type": "code",
   "execution_count": null,
   "id": "598871b6-5be0-4c19-a9e8-c08ce5f34b21",
   "metadata": {},
   "outputs": [],
   "source": [
    "Given the root of a binary tree, \n",
    "return the length of the diameter of the tree.\n",
    "\n",
    "The diameter of a binary tree is the length of the longest path \n",
    "between any two nodes in a tree. \n",
    "This path may or may not pass through the root.\n",
    "\n",
    "The length of a path between two nodes is represented by the number of edges between them.\n",
    "      root\n",
    "       /\\\n",
    "      /\\\n",
    "     /\\/\\\n",
    "    /\\  /\\\n",
    "루트를 안거치고 가장 긴 경우 6"
   ]
  },
  {
   "cell_type": "code",
   "execution_count": null,
   "id": "0b121c7e-7923-42e5-8e9d-ca886bba8728",
   "metadata": {},
   "outputs": [],
   "source": [
    "# Definition for a binary tree node.\n",
    "class TreeNode:\n",
    "    def __init__(self, val=0, left=None, right=None):\n",
    "        self.val = val\n",
    "        self.left = left\n",
    "        self.right = right\n",
    "        \n",
    "class Solution:\n",
    "    def diameterOfBinaryTree(self, root: Optional[TreeNode]) -> int:\n",
    "        "
   ]
  },
  {
   "cell_type": "markdown",
   "id": "f0ad8a5a-097f-4795-a6d2-db069a12d4a2",
   "metadata": {},
   "source": [
    "### chatGPT 풀이"
   ]
  },
  {
   "cell_type": "code",
   "execution_count": null,
   "id": "3dfb2d40-c504-4005-9af9-20cc519fe426",
   "metadata": {},
   "outputs": [],
   "source": [
    "class TreeNode:\n",
    "    def __init__(self, val=0, left=None, right=None):\n",
    "        self.val = val\n",
    "        self.left = left\n",
    "        self.right = right\n",
    "        \n",
    "class Solution:\n",
    "    def diameterOfBinaryTree(self, root: Optional[TreeNode]) -> int:\n",
    "        self.diameter = 0\n",
    "        # diameter = 0 # 또는 이렇게 diameterOfBinaryTree 의 지역 변수로 diameter를 선언한 후\n",
    "        \n",
    "        def depth(node):\n",
    "            # nonlocal diameter # 이렇게 \n",
    "            # nonlocal 키워드를 써서 diameter 변수가 현재 함수의 지역 변수(local variable)가 아니라, \n",
    "            # 중첩된 함수(nested function) 구조에서 현재 함수를 둘러싸고 있는 바깥쪽 함수의 지역 변수임을 알려준 다음\n",
    "            \n",
    "            if not node:\n",
    "                return 0\n",
    "            # 왼쪽 자식 노드로의 깊이를 재귀적으로 계산\n",
    "            left_depth = depth(node.left)\n",
    "            # 오른쪽 자식 노드로의 깊이를 재귀적으로 계산\n",
    "            right_depth = depth(node.right)\n",
    "            \n",
    "            # 현재 노드를 기준으로 한 최대 지름을 업데이트\n",
    "            # 현재 노드를 거쳐가는 경로의 길이는 left_depth + right_depth\n",
    "            self.diameter = max(self.diameter, left_depth + right_depth)\n",
    "            \n",
    "            # diameter = max(diameter, left_depth + right_depth) 이렇게 써도 된다.\n",
    "            \n",
    "            # 현재 노드를 루트로 하는 서브트리의 깊이를 반환\n",
    "            # 현재 노드를 포함해야 하므로 1을 더함\n",
    "            return max(left_depth, right_depth) + 1\n",
    "        \n",
    "        depth(root)\n",
    "        return self.diameter\n"
   ]
  },
  {
   "cell_type": "code",
   "execution_count": 3,
   "id": "7215e433-ce29-4463-a8fa-ea3da4ca4a4f",
   "metadata": {
    "tags": []
   },
   "outputs": [
    {
     "ename": "UnboundLocalError",
     "evalue": "cannot access local variable 'glo' where it is not associated with a value",
     "output_type": "error",
     "traceback": [
      "\u001b[0;31m---------------------------------------------------------------------------\u001b[0m",
      "\u001b[0;31mUnboundLocalError\u001b[0m                         Traceback (most recent call last)",
      "Cell \u001b[0;32mIn[3], line 7\u001b[0m\n\u001b[1;32m      4\u001b[0m     glo \u001b[38;5;241m+\u001b[39m\u001b[38;5;241m=\u001b[39m n\n\u001b[1;32m      5\u001b[0m     \u001b[38;5;28;01mreturn\u001b[39;00m glo\n\u001b[0;32m----> 7\u001b[0m func(\u001b[38;5;241m3\u001b[39m)\n",
      "Cell \u001b[0;32mIn[3], line 4\u001b[0m, in \u001b[0;36mfunc\u001b[0;34m(n)\u001b[0m\n\u001b[1;32m      3\u001b[0m \u001b[38;5;28;01mdef\u001b[39;00m \u001b[38;5;21mfunc\u001b[39m(n):\n\u001b[0;32m----> 4\u001b[0m     glo \u001b[38;5;241m+\u001b[39m\u001b[38;5;241m=\u001b[39m n\n\u001b[1;32m      5\u001b[0m     \u001b[38;5;28;01mreturn\u001b[39;00m glo\n",
      "\u001b[0;31mUnboundLocalError\u001b[0m: cannot access local variable 'glo' where it is not associated with a value"
     ]
    }
   ],
   "source": [
    "glo = 0\n",
    "\n",
    "def func(n):\n",
    "    glo += n\n",
    "    return glo\n",
    "    \n",
    "func(3)"
   ]
  },
  {
   "cell_type": "markdown",
   "id": "baf8cfd9-6a36-4539-8222-3ab0229ac507",
   "metadata": {},
   "source": [
    "위 코드에서 발생하는 `UnboundLocalError` 오류는  \n",
    "`func` 함수 내에서 전역 변수 `glo`를 수정하려고 시도했지만,   \n",
    "파이썬 인터프리터가 `glo`를 `func` 함수의 지역 변수로 해석하기 때문에 발생합니다.   \n",
    "  \n",
    "파이썬에서 함수 내부에서 변수에 값을 할당하면,   \n",
    "그 변수는 기본적으로 해당 함수의 지역 범위(local scope)에 속하게 됩니다.   \n",
    "따라서, `glo += n`은 `func` 함수의 지역 변수 `glo`에 `n`을 더하려고 시도하지만,   \n",
    "함수 내에서 `glo`가 이전에 정의되지 않았기 때문에 에러가 발생합니다.  \n",
    "  \n",
    "이 문제를 해결하기 위해서는 함수 내에서 전역 변수 `glo`를 사용하겠다고 명시적으로 선언해야 합니다.  \n",
    "이를 위해 `global` 키워드를 사용할 수 있습니다.   \n",
    "`global` 키워드를 사용하면, 해당 변수가 함수 외부에서 정의된 전역 변수임을 파이썬 인터프리터에게 알려줄 수 있습니다.   \n",
    "따라서, 수정된 코드는 다음과 같습니다:  \n",
    "\n",
    "```python\n",
    "glo = 0\n",
    "\n",
    "def func(n):\n",
    "    global glo  # 전역 변수 glo를 사용하겠다고 선언\n",
    "    glo += n\n",
    "    return glo\n",
    "\n",
    "func(3)\n",
    "```\n"
   ]
  },
  {
   "cell_type": "code",
   "execution_count": 4,
   "id": "9bf379e8-b555-4043-aa83-a2455358b70c",
   "metadata": {
    "tags": []
   },
   "outputs": [
    {
     "ename": "UnboundLocalError",
     "evalue": "cannot access local variable 'glo' where it is not associated with a value",
     "output_type": "error",
     "traceback": [
      "\u001b[0;31m---------------------------------------------------------------------------\u001b[0m",
      "\u001b[0;31mUnboundLocalError\u001b[0m                         Traceback (most recent call last)",
      "Cell \u001b[0;32mIn[4], line 13\u001b[0m\n\u001b[1;32m      9\u001b[0m     inner_func(\u001b[38;5;241m3\u001b[39m)\n\u001b[1;32m     11\u001b[0m     \u001b[38;5;28;01mreturn\u001b[39;00m x \u001b[38;5;241m+\u001b[39m glo\n\u001b[0;32m---> 13\u001b[0m outer_func(\u001b[38;5;241m3\u001b[39m)\n",
      "Cell \u001b[0;32mIn[4], line 9\u001b[0m, in \u001b[0;36mouter_func\u001b[0;34m(x)\u001b[0m\n\u001b[1;32m      6\u001b[0m     glo \u001b[38;5;241m+\u001b[39m\u001b[38;5;241m=\u001b[39m n\n\u001b[1;32m      7\u001b[0m     \u001b[38;5;28;01mreturn\u001b[39;00m glo\n\u001b[0;32m----> 9\u001b[0m inner_func(\u001b[38;5;241m3\u001b[39m)\n\u001b[1;32m     11\u001b[0m \u001b[38;5;28;01mreturn\u001b[39;00m x \u001b[38;5;241m+\u001b[39m glo\n",
      "Cell \u001b[0;32mIn[4], line 6\u001b[0m, in \u001b[0;36mouter_func.<locals>.inner_func\u001b[0;34m(n)\u001b[0m\n\u001b[1;32m      5\u001b[0m \u001b[38;5;28;01mdef\u001b[39;00m \u001b[38;5;21minner_func\u001b[39m(n):\n\u001b[0;32m----> 6\u001b[0m     glo \u001b[38;5;241m+\u001b[39m\u001b[38;5;241m=\u001b[39m n\n\u001b[1;32m      7\u001b[0m     \u001b[38;5;28;01mreturn\u001b[39;00m glo\n",
      "\u001b[0;31mUnboundLocalError\u001b[0m: cannot access local variable 'glo' where it is not associated with a value"
     ]
    }
   ],
   "source": [
    "def outer_func(x):\n",
    "    \n",
    "    glo = 0\n",
    "\n",
    "    def inner_func(n):\n",
    "        glo += n\n",
    "        return glo\n",
    "    \n",
    "    inner_func(3)\n",
    "    \n",
    "    return x + glo\n",
    "    \n",
    "outer_func(3)"
   ]
  },
  {
   "cell_type": "markdown",
   "id": "3966b553-c31a-4a27-9e34-cb0d0003e5fa",
   "metadata": {},
   "source": [
    "위 코드에서 발생하는 `UnboundLocalError` 오류는  \n",
    "`inner_func` 함수 내에서, `outer_func` 함수의 지역 변수 `glo`를 수정하려고 시도했기 때문입니다.  \n",
    "파이썬에서 함수 내부에서 변수에 값을 할당하려고 할 때,  \n",
    "해당 변수는 해당 함수의 지역 범위(local scope)에 속하게 됩니다.  \n",
    "  \n",
    "`inner_func` 내에서 `glo += n` 실행 시,  \n",
    "파이썬은 `glo`를 `inner_func`의 지역 변수로 간주합니다.   \n",
    "그러나 `inner_func`에서 `glo`가 이전에 초기화되지 않았기 때문에,   \n",
    "이 변수에 접근하려고 할 때 `UnboundLocalError`가 발생합니다.  \n",
    "  \n",
    "\n",
    "\"이전에 초기화되지 않았기 때문에\"라는 표현은,   \n",
    "함수 내에서 변수를 사용하기 전에   \n",
    "그 변수에 값을 할당해야 한다는 의미입니다.  \n",
    "  \n",
    "특히, 파이썬에서 함수 내부에서 어떤 변수에 값을 할당하려고 할 때,    \n",
    "해당 함수는 그 변수를 자신의 지역 범위(local scope) 내의 변수로 간주합니다.   \n",
    "만약 그 변수에 대한 초기 할당이 함수 내에서 이루어지지 않았다면,   \n",
    "파이썬은 그 변수가 정의되지 않았다고 판단하고, 변수를 사용하려고 할 때 오류를 발생시킵니다.  \n",
    "  \n",
    "이 문제를 해결하기 위해서는  \n",
    "`inner_func` 내에서 `outer_func`의 지역 변수 `glo`를 사용하겠다고 명시적으로 선언해야 합니다.   \n",
    "이 경우, `nonlocal` 키워드를 사용하여   \n",
    "`glo` 변수가 `inner_func`의 상위 함수인 `outer_func`의 지역 변수임을 파이썬에게 알릴 수 있습니다.  \n",
    "따라서, 수정된 코드는 다음과 같습니다:  \n",
    "\n",
    "```python\n",
    "def outer_func(x):\n",
    "    glo = 0\n",
    "\n",
    "    def inner_func(n):\n",
    "        nonlocal glo  # outer_func의 지역 변수 glo를 사용하겠다고 선언\n",
    "        glo += n\n",
    "        return glo\n",
    "    \n",
    "    inner_func(3)\n",
    "    \n",
    "    return x + glo\n",
    "\n",
    "outer_func(3)\n",
    "```"
   ]
  },
  {
   "cell_type": "code",
   "execution_count": 12,
   "id": "ce2fdb75-bd8f-4007-a5f4-d60285d1b950",
   "metadata": {
    "tags": []
   },
   "outputs": [
    {
     "ename": "SyntaxError",
     "evalue": "no binding for nonlocal 'glo' found (3472012565.py, line 6)",
     "output_type": "error",
     "traceback": [
      "\u001b[0;36m  Cell \u001b[0;32mIn[12], line 6\u001b[0;36m\u001b[0m\n\u001b[0;31m    nonlocal glo\u001b[0m\n\u001b[0m    ^\u001b[0m\n\u001b[0;31mSyntaxError\u001b[0m\u001b[0;31m:\u001b[0m no binding for nonlocal 'glo' found\n"
     ]
    }
   ],
   "source": [
    "glo = 0\n",
    "def outer_func(x):\n",
    "    global glo\n",
    "\n",
    "    def inner_func(n):\n",
    "        nonlocal glo\n",
    "        glo += n\n",
    "        return glo\n",
    "    \n",
    "    inner_func(3)\n",
    "    \n",
    "    return x + glo\n",
    "    \n",
    "outer_func(3)"
   ]
  },
  {
   "cell_type": "markdown",
   "id": "00441902-bbf7-424d-90dc-11ffd11841a3",
   "metadata": {},
   "source": [
    "`nonlocal`은  \n",
    "현재 함수의 바로 바깥쪽 함수의 **지역 변수**에 대해서만 사용할 수 있으며,   \n",
    "**전역 변수에는 사용할 수 없습니다.**  \n",
    "  \n",
    "하지만 여기서 `glo`는 전역 변수이며,   \n",
    "`outer_func`에서 `global glo`로 선언되어 있습니다.   \n",
    "따라서, `inner_func`에서 `glo`를 `nonlocal`로 선언하는 것은 올바르지 않습니다.   \n",
    "  \n",
    "이 경우, `inner_func` 내에서 전역 변수 `glo`를 수정하려면,   \n",
    "`global` 키워드를 사용해야 합니다.   \n",
    "`inner_func`에서도 `glo`를 전역 변수로 명시해 주어야 합니다:  \n",
    "  \n",
    "```python\n",
    "glo = 0\n",
    "def outer_func(x):\n",
    "    global glo  # 전역 변수 glo 사용 선언\n",
    "\n",
    "    def inner_func(n):\n",
    "        global glo  # 여기서도 glo가 전역 변수임을 명시\n",
    "        glo += n\n",
    "        return glo\n",
    "    \n",
    "    inner_func(3)\n",
    "    \n",
    "    return x + glo\n",
    "    \n",
    "outer_func(3)\n",
    "```"
   ]
  },
  {
   "cell_type": "code",
   "execution_count": 16,
   "id": "98c08a81-d100-4ba3-ae32-bd62b1faf574",
   "metadata": {
    "tags": []
   },
   "outputs": [],
   "source": [
    "class Solution:\n",
    "    def diameterOfBinaryTree(self, root: Optional[TreeNode]) -> int:\n",
    "        \n",
    "        diameter = 0\n",
    "        \n",
    "        def depth(node):\n",
    "            if not node:\n",
    "                return 0\n",
    "            left_depth = depth(node.left)\n",
    "            right_depth = depth(node.right)\n",
    "            diameter = max(diameter, left_depth + right_depth)\n",
    "            \n",
    "            return max(left_depth, right_depth) + 1\n",
    "        \n",
    "        depth(root)\n",
    "        return diameter"
   ]
  },
  {
   "cell_type": "markdown",
   "id": "8b688e7c-decb-4f94-a53c-932528c4f96c",
   "metadata": {},
   "source": [
    "위 코드에서 diameter는 클래스 변수도, 인스턴스 변수도 아니다.  \n",
    "diameter는  \n",
    "Solution 클래스의 diameterOfBinaryTree 메서드 내에 정의된  \n",
    "지역 변수(local variable)다.   \n",
    "  \n",
    "depth 함수 내에서 diameter 변수를 참조하려고 할 때 문제가 발생합니다.  \n",
    "diameter는 diameterOfBinaryTree 메서드 내에서 지역 변수로 정의되어 있으며,   \n",
    "depth 함수 내에서 직접 수정하려고 할 때 diameter 변수에 대한 \"nonlocal\" 또는 \"global\" 선언이 없기 때문에   \n",
    "파이썬은 depth 함수 내의 diameter에 대한 참조를 시도할 때 새로운 지역 변수 diameter를 생성하려고 합니다.   \n",
    "하지만, 이 변수는 아직 초기화되지 않았기 때문에, 그 값을 읽거나 업데이트하려고 할 때 오류가 발생합니다.  \n",
    "  \n",
    "따라서, 코드를 올바르게 작동시키려면 diameter 변수의 사용 전에 depth 함수 내에서   \n",
    "nonlocal diameter를 선언해야 합니다. 다음은 수정된 코드 예입니다:  \n",
    "\n",
    "```python\n",
    "class Solution:\n",
    "    def diameterOfBinaryTree(self, root: Optional[TreeNode]) -> int:\n",
    "        \n",
    "        diameter = 0\n",
    "        \n",
    "        def depth(node):\n",
    "            nonlocal diameter  # 여기에 nonlocal 선언 추가\n",
    "            if not node:\n",
    "                return 0\n",
    "            left_depth = depth(node.left)\n",
    "            right_depth = depth(node.right)\n",
    "            diameter = max(diameter, left_depth + right_depth)  # 이제 diameter 수정 가능\n",
    "            return max(left_depth, right_depth) + 1\n",
    "        \n",
    "        depth(root)\n",
    "        return diameter\n",
    "```"
   ]
  },
  {
   "cell_type": "code",
   "execution_count": 2,
   "id": "4902e594-f4e7-4b35-be73-16854aae321b",
   "metadata": {
    "tags": []
   },
   "outputs": [],
   "source": [
    "from typing import Optional\n",
    "\n",
    "class TreeNode:\n",
    "    def __init__(self, val=0, left=None, right=None):\n",
    "        self.val = val\n",
    "        self.left = left\n",
    "        self.right = right\n",
    "        \n",
    "class Solution:\n",
    "    def diameterOfBinaryTree(self, root: Optional[TreeNode]) -> int:\n",
    "        \n",
    "        self.diameter = 0\n",
    "        \n",
    "        def depth(node):\n",
    "            if not node:\n",
    "                return 0\n",
    "            left_depth = depth(node.left)\n",
    "            right_depth = depth(node.right)\n",
    "            self.diameter = max(self.diameter, left_depth + right_depth)\n",
    "            \n",
    "            return max(left_depth, right_depth) + 1\n",
    "        \n",
    "        depth(root)\n",
    "        return self.diameter"
   ]
  },
  {
   "cell_type": "markdown",
   "id": "8f44ad71-bf20-48b5-b886-9fd5fd8a4fdd",
   "metadata": {},
   "source": [
    "`self` 키워드는 클래스의 인스턴스 자신을 가리킵니다.  \n",
    "클래스 내에서 `self`를 사용하여 변수를 선언하면, (인스턴스 변수로 선언하면)  \n",
    "그 변수는 해당 클래스의 인스턴스에 속하게 되고, 클래스의 모든 메서드에서 접근할 수 있게 됩니다.  \n",
    "(`diameter`는 `Solution` 클래스의 인스턴스 변수가 됩니다.)  \n",
    "  \n",
    "Solution 클래스의 인스턴스는 diameterOfBinaryTree 메서드를 호출할 때 단 한 번만 생성됩니다.  \n",
    "그 후, 이 메서드 내에서 정의된 depth 함수가 재귀적으로 호출되더라도,  \n",
    "모든 호출은 동일한 Solution 인스턴스의 컨텍스트 내에서 실행됩니다.  \n",
    "  \n",
    "즉, Solution 클래스의 인스턴스가 생성된 후,   \n",
    "해당 인스턴스의 diameterOfBinaryTree 메서드가 호출되면,   \n",
    "이 메서드 내부에서 depth 함수가 재귀적으로 호출되는 과정에서도,   \n",
    "모두 같은 인스턴스의 self.diameter 변수를 참조하고 업데이트합니다.  \n",
    "이는 모든 depth 함수 호출이   \n",
    "같은 Solution 인스턴스의 상태(여기서는 diameter 값)에 대해 작업한다는 것을 의미합니다.  "
   ]
  },
  {
   "cell_type": "code",
   "execution_count": 14,
   "id": "6006581d-7976-48ca-9565-9c283bf548df",
   "metadata": {
    "tags": []
   },
   "outputs": [
    {
     "ename": "SyntaxError",
     "evalue": "no binding for nonlocal 'diameter' found (309516266.py, line 7)",
     "output_type": "error",
     "traceback": [
      "\u001b[0;36m  Cell \u001b[0;32mIn[14], line 7\u001b[0;36m\u001b[0m\n\u001b[0;31m    nonlocal diameter\u001b[0m\n\u001b[0m    ^\u001b[0m\n\u001b[0;31mSyntaxError\u001b[0m\u001b[0;31m:\u001b[0m no binding for nonlocal 'diameter' found\n"
     ]
    }
   ],
   "source": [
    "class Solution:\n",
    "    \n",
    "    diameter = 0\n",
    "    \n",
    "    def diameterOfBinaryTree(self, root: Optional[TreeNode]) -> int:\n",
    "        \n",
    "        nonlocal diameter\n",
    "        \n",
    "        def depth(node):\n",
    "            \n",
    "            nonlocal diameter\n",
    "            \n",
    "            if not node:\n",
    "                return 0\n",
    "            left_depth = depth(node.left)\n",
    "            right_depth = depth(node.right)\n",
    "            diameter = max(diameter, left_depth + right_depth)\n",
    "            \n",
    "            return max(left_depth, right_depth) + 1\n",
    "        \n",
    "        depth(root)\n",
    "        return diameter"
   ]
  },
  {
   "cell_type": "markdown",
   "id": "57600557-3b15-440a-9b07-bd119862eeef",
   "metadata": {},
   "source": [
    "nonlocal` 키워드는 여기에 적합하지 않습니다.   \n",
    "`nonlocal`은 중첩된 함수 내에서 바깥 함수의 지역 변수를 참조하기 위해 사용되며,   \n",
    "클래스 변수에는 적용되지 않습니다.  \n",
    "  \n",
    "코드에서 `diameter`는 `Solution` 클래스의 클래스 변수로 선언되었습니다.   \n",
    "이 말은, `diameter`가 `Solution` 클래스에 속하고  \n",
    "클래스의 모든 인스턴스에 의해 공유된다는 의미입니다.  \n",
    "클래스 변수에 접근하거나 수정하기 위해서는 다음과 같은 방법을 사용할 수 있습니다:  \n",
    "\n",
    "**클래스 이름을 사용하여 접근**:  \n",
    "클래스 변수는 클래스 이름을 통해 접근할 수 있습니다.  \n",
    "따라서 `Solution.diameter`를 사용하여 `diameter` 변수에 접근하고 이를 수정할 수 있습니다.  \n",
    "이 방법은 클래스 메서드, 인스턴스 메서드, 클래스 외부에서 모두 사용할 수 있습니다.  \n",
    "\n",
    "올바른 접근 방법을 사용한 코드 예제는 다음과 같습니다:\n",
    "\n",
    "```python\n",
    "class Solution:\n",
    "    \n",
    "    diameter = 0\n",
    "    \n",
    "    def diameterOfBinaryTree(self, root: Optional[TreeNode]) -> int:\n",
    "        \n",
    "        Solution.diameter = 0  # 클래스 변수를 초기화\n",
    "        \n",
    "        def depth(node):\n",
    "            if not node:\n",
    "                return 0\n",
    "            left_depth = depth(node.left)\n",
    "            right_depth = depth(node.right)\n",
    "            Solution.diameter = max(Solution.diameter, left_depth + right_depth)\n",
    "            \n",
    "            return max(left_depth, right_depth) + 1\n",
    "        \n",
    "        depth(root)\n",
    "        return Solution.diameter\n",
    "```"
   ]
  },
  {
   "cell_type": "code",
   "execution_count": 15,
   "id": "190fce99-0eb8-4b63-91df-987922327886",
   "metadata": {
    "tags": []
   },
   "outputs": [
    {
     "ename": "NameError",
     "evalue": "name 'self' is not defined",
     "output_type": "error",
     "traceback": [
      "\u001b[0;31m---------------------------------------------------------------------------\u001b[0m",
      "\u001b[0;31mNameError\u001b[0m                                 Traceback (most recent call last)",
      "Cell \u001b[0;32mIn[15], line 1\u001b[0m\n\u001b[0;32m----> 1\u001b[0m \u001b[38;5;28;01mclass\u001b[39;00m \u001b[38;5;21;01mSolution\u001b[39;00m:\n\u001b[1;32m      3\u001b[0m     \u001b[38;5;28mself\u001b[39m\u001b[38;5;241m.\u001b[39mdiameter \u001b[38;5;241m=\u001b[39m \u001b[38;5;241m0\u001b[39m\n\u001b[1;32m      5\u001b[0m     \u001b[38;5;28;01mdef\u001b[39;00m \u001b[38;5;21mdiameterOfBinaryTree\u001b[39m(\u001b[38;5;28mself\u001b[39m, root: Optional[TreeNode]) \u001b[38;5;241m-\u001b[39m\u001b[38;5;241m>\u001b[39m \u001b[38;5;28mint\u001b[39m:\n",
      "Cell \u001b[0;32mIn[15], line 3\u001b[0m, in \u001b[0;36mSolution\u001b[0;34m()\u001b[0m\n\u001b[1;32m      1\u001b[0m \u001b[38;5;28;01mclass\u001b[39;00m \u001b[38;5;21;01mSolution\u001b[39;00m:\n\u001b[0;32m----> 3\u001b[0m     \u001b[38;5;28mself\u001b[39m\u001b[38;5;241m.\u001b[39mdiameter \u001b[38;5;241m=\u001b[39m \u001b[38;5;241m0\u001b[39m\n\u001b[1;32m      5\u001b[0m     \u001b[38;5;28;01mdef\u001b[39;00m \u001b[38;5;21mdiameterOfBinaryTree\u001b[39m(\u001b[38;5;28mself\u001b[39m, root: Optional[TreeNode]) \u001b[38;5;241m-\u001b[39m\u001b[38;5;241m>\u001b[39m \u001b[38;5;28mint\u001b[39m:\n\u001b[1;32m      7\u001b[0m         \u001b[38;5;28;01mdef\u001b[39;00m \u001b[38;5;21mdepth\u001b[39m(node):\n",
      "\u001b[0;31mNameError\u001b[0m: name 'self' is not defined"
     ]
    }
   ],
   "source": [
    "class Solution:\n",
    "    \n",
    "    self.diameter = 0\n",
    "    \n",
    "    def diameterOfBinaryTree(self, root: Optional[TreeNode]) -> int:\n",
    "        \n",
    "        def depth(node):\n",
    "            if not node:\n",
    "                return 0\n",
    "            left_depth = depth(node.left)\n",
    "            right_depth = depth(node.right)\n",
    "            self.diameter = max(self.diameter, left_depth + right_depth)\n",
    "            \n",
    "            return max(left_depth, right_depth) + 1\n",
    "        \n",
    "        depth(root)\n",
    "        return self.diameter "
   ]
  },
  {
   "cell_type": "markdown",
   "id": "1be60334-9cde-450c-993e-87d9c409d326",
   "metadata": {},
   "source": [
    "클래스 수준에서 변수를 정의할 때, self 키워드를 사용할 수 없습니다.  \n",
    "self는 클래스의 인스턴스 메서드 내에서 현재 인스턴스를 참조할 때 사용됩니다.  \n",
    "다시 말해 파이썬에서 self는 클래스의 인스턴스 메서드 내에서 사용되는 변수로,  \n",
    "메서드가 호출된 현재 객체(인스턴스)를 참조합니다.  \n",
    "즉 self는 인스턴스 자신을 가리키는 데 사용되며,  \n",
    "이를 통해 인스턴스 변수에 접근하거나 다른 인스턴스 메서드를 호출할 수 있습니다.  \n",
    "  \n",
    "하지만 클래스 정의의 상단 레벨에서, 즉 메서드 외부에서는 self를 사용할 수 없습니다.  \n",
    "클래스 정의 상단 레벨이란, 클래스 내부에서 메서드 정의 밖에 위치한 곳을 말합니다.  \n",
    "이곳에서는 클래스 변수를 선언할 수 있으며, 이 변수들은 클래스의 모든 인스턴스에 의해 공유됩니다.  \n",
    "여기서 self를 사용하는 것은 문법적으로 허용되지 않습니다.  \n",
    "왜냐하면 self는 특정 인스턴스를 가리키는 변수이기 때문입니다.  \n",
    "클래스 변수는 self 없이 직접 클래스 내부에 선언되어야 합니다  "
   ]
  },
  {
   "cell_type": "markdown",
   "id": "d4eea877-6a3e-408b-ae43-5ab0412fce1a",
   "metadata": {},
   "source": [
    "## 좋지 않은 global 사용법"
   ]
  },
  {
   "cell_type": "markdown",
   "id": "748f40f4-a5b8-44de-9c2b-ea02b7a97c2f",
   "metadata": {},
   "source": [
    "그러나 `global` 키워드는 주로 모듈 수준의 전역 변수를 참조할 때 사용한다."
   ]
  },
  {
   "cell_type": "code",
   "execution_count": null,
   "id": "ed209e3f-80e1-408f-a104-aa171f54edd8",
   "metadata": {},
   "outputs": [],
   "source": [
    "class Solution:\n",
    "    \n",
    "    def diameterOfBinaryTree(self, root: Optional[TreeNode]) -> int:\n",
    "        \n",
    "        global diameter\n",
    "        diameter = 0\n",
    "        \n",
    "        def depth(node):\n",
    "            \n",
    "            global diameter\n",
    "            \n",
    "            if not node:\n",
    "                return 0\n",
    "            left_depth = depth(node.left)\n",
    "            right_depth = depth(node.right)\n",
    "            diameter = max(diameter, left_depth + right_depth)\n",
    "            \n",
    "            return max(left_depth, right_depth) + 1\n",
    "        \n",
    "        depth(root)\n",
    "        return diameter\n"
   ]
  },
  {
   "cell_type": "markdown",
   "id": "0de1f986-649b-4c71-b424-c278e1afee04",
   "metadata": {},
   "source": [
    "전역 변수 선언 및 초기화:  \n",
    "diameterOfBinaryTree 메서드가 호출될 때,   \n",
    "global diameter 선언을 통해 diameter를 전역 변수로 명시하고, 이를 0으로 초기화합니다.  \n",
    "이는 메서드의 실행이 시작될 때마다 diameter 전역 변수를 0으로 재설정합니다.  \n",
    "  \n",
    "전역 변수 사용:  \n",
    "중첩된 함수 depth 내부에서도 global diameter 선언을 통해,  \n",
    "이 함수가 전역 변수 diameter를 참조하고 수정할 것임을 나타냅니다.  \n",
    "depth 함수는 주어진 트리 노드의 깊이를 재귀적으로 계산하면서, \n",
    "트리의 어떤 두 노드 간의 가장 긴 경로(지름)를 전역 변수 diameter에 저장합니다.  \n",
    "  \n",
    "전역 변수 반환:  \n",
    "마지막으로, diameterOfBinaryTree 메서드는 계산된 트리의 지름을 나타내는 diameter 전역 변수의 값을 반환합니다.  \n",
    "  \n",
    "global 키워드의 사용:  \n",
    "global 키워드는 함수 내부에서 전역 변수를 참조하거나 수정할 때 사용됩니다.   \n",
    "이 키워드는 해당 변수가 함수 외부에서, 즉 모듈 수준에서 정의된 변수임을 명시합니다.  \n",
    "함수 내부에서 global로 선언된 변수에 값을 할당하면,   \n",
    "해당 변수의 값은 모듈 전체에서 접근 가능한 전역 상태에 영향을 미칩니다.  "
   ]
  },
  {
   "cell_type": "markdown",
   "id": "af58aca3-ec2c-4648-bcab-4b0065206f6f",
   "metadata": {},
   "source": [
    "# 문45 이진 트리 반전 e\n",
    "https://leetcode.com/problems/invert-binary-tree"
   ]
  },
  {
   "cell_type": "code",
   "execution_count": null,
   "id": "c071a60e-afc3-4c5b-848e-e9c04c98698d",
   "metadata": {},
   "outputs": [],
   "source": [
    "Given the root of a binary tree, invert the tree, and return its root.\n",
    "\n",
    "Example 1:\n",
    "\n",
    "Input: root = [4,2,7,1,3,6,9]\n",
    "Output: [4,7,2,9,6,3,1]\n",
    "\n",
    "Example 3:\n",
    "Input: root = []\n",
    "Output: []\n",
    "\n",
    "# Definition for a binary tree node.\n",
    "# class TreeNode:\n",
    "#     def __init__(self, val=0, left=None, right=None):\n",
    "#         self.val = val\n",
    "#         self.left = left\n",
    "#         self.right = right\n",
    "class Solution:\n",
    "    def invertTree(self, root: Optional[TreeNode]) -> Optional[TreeNode]:\n",
    "        "
   ]
  },
  {
   "cell_type": "markdown",
   "id": "9fcb0680-dd3d-4ec9-9134-1e1e337072fb",
   "metadata": {},
   "source": [
    "![반전](트리반전.png)"
   ]
  },
  {
   "cell_type": "code",
   "execution_count": null,
   "id": "be718c80-24a0-46e8-958e-52949d54475a",
   "metadata": {},
   "outputs": [],
   "source": [
    "루트부터 재귀를 써서 한 레벨 씩 내려갈 때마다 모든 부모노드에서 두 자식 노드 left, right 포인터를 바꾸면 될 거 같은데"
   ]
  },
  {
   "cell_type": "markdown",
   "id": "c29d1ee6-583f-4036-8b33-df7cd2aab70d",
   "metadata": {},
   "source": [
    "### 내 풀이"
   ]
  },
  {
   "cell_type": "code",
   "execution_count": null,
   "id": "83f0a122-94a5-437d-ba47-dc578a17c985",
   "metadata": {},
   "outputs": [],
   "source": [
    "class TreeNode:\n",
    "    def __init__(self, val=0, left=None, right=None):\n",
    "        self.val = val\n",
    "        self.left = left\n",
    "        self.right = right\n",
    "\n",
    "class Solution:\n",
    "    def invertTree(self, root: Optional[TreeNode]) -> Optional[TreeNode]:\n",
    "        \n",
    "        def dfs(node):\n",
    "            if not node:\n",
    "                return\n",
    "            \n",
    "            dfs(node.left)\n",
    "            dfs(node.right)\n",
    "            \n",
    "            node.left, node.right = node.right, node.left\n",
    "            return # 이 리턴은 없어도 된다. 왜?\n",
    "            \n",
    "        dfs(root)\n",
    "        return root"
   ]
  },
  {
   "cell_type": "code",
   "execution_count": null,
   "id": "a7e84f30-7817-455d-b54a-80e987ee642c",
   "metadata": {},
   "outputs": [],
   "source": [
    "Python에서 함수가 끝까지 에러 없이 실행되고, \n",
    "명시적으로 return 문이 없을 경우, \n",
    "해당 함수는 자동으로 None을 반환하고 호출 스택에서 정상적으로 제거됩니다. \n",
    "이는 함수가 완료되었음을 의미하며, 함수의 실행 컨텍스트는 메모리에서 해제되어 다음 코드 실행을 위한 공간을 만듭니다.\n",
    "()Java나 C++ 에선 아무것도 return하지 않으면 에러가 난다)\n",
    "\n",
    "함수가 호출 스택에 들어가는 것은 함수가 호출될 때 발생합니다. \n",
    "이후 함수 내의 코드가 순차적으로 실행됩니다. \n",
    "함수의 끝에 도달하거나 return 문을 만나면, 함수는 실행을 마치고, 호출 스택에서 해당 함수에 대한 기록(또는 실행 컨텍스트)이 제거됩니다. \n",
    "return 문이 명시적으로 사용되지 않았다면, Python은 자동으로 None을 반환합니다. \n",
    "그러나 이 자동 반환된 None 값은 대부분의 경우 무시됩니다(즉, 사용하지 않습니다), 특히 반환 값이 중요하지 않은 함수에서 그렇습니다.\n",
    "\n",
    "이 과정은 함수가 작업을 성공적으로 완료하고, 메모리를 효율적으로 관리하며, 프로그램이 다음 작업을 계속할 수 있도록 합니다.\n",
    "호출 스택에서 함수가 제거되는 것은 프로그램 실행의 정상적인 부분이며, \n",
    "이를 통해 프로그램은 여러 작업을 순차적이거나 재귀적으로 처리할 수 있습니다.\n",
    "따라서, 함수를 정의할 때 마지막에 return을 사용하지 않는 것은 완전히 유효하며, \n",
    "함수의 목적이나 필요에 따라 return 사용 여부를 결정할 수 있습니다."
   ]
  },
  {
   "cell_type": "markdown",
   "id": "ec25f355-98c1-4230-b238-e78766ce59e6",
   "metadata": {},
   "source": [
    "`return` 문이 있는 경우와 없는 경우 사이에는 이 함수의 실행 흐름에 있어서 실제로는 아무런 차이가 없습니다.  \n",
    "`dfs` 함수는 탐색 중에 특정 값을 반환할 필요가 없으며,  \n",
    "그 목적은 단지 트리의 노드를 재귀적으로 방문하고 노드의 왼쪽 및 오른쪽 자식을 교환하는 것입니다.  \n",
    "Python에서 함수가 반환 값 없이 종료되면, 함수는 자동으로 `None`을 반환하고 호출 스택에서 제거됩니다  \n",
    "이는 함수가 마지막 코드를 실행한 후에 발생합니다.  \n",
    "재귀 호출된 함수가 작업을 완료하고 더 이상 실행할 코드가 없을 때,   \n",
    "그 함수는 종료되고 호출 스택에서 \"팝(pop)\"됩니다.    \n",
    "이 과정에서 return 문이 명시적으로 사용되지 않았다면, Python은 암묵적으로 None을 반환하게 됩니다.   \n",
    "이는 재귀 호출의 동작에 영향을 미치지 않습니다.  \n",
    "함수가 종료되면, 제어는 이전 재귀 레벨로 돌아가고,  \n",
    "모든 재귀 호출이 완료되면 최종적으로 가장 처음 호출한 지점으로 제어가 반환됩니다.\n",
    "이는 `dfs`와 같이 반환 값이 중요하지 않은 경우에 자주 사용되는 방식입니다.   \n",
    "`dfs` 함수에서는 실제로 반환 값이 필요하지 않으므로, `return` 문 없이 함수를 끝낼 수 있습니다.  \n",
    "\n",
    "- **`return`이 있는 경우**:   \n",
    "명시적으로 `return`을 사용하면, 함수가 그 지점에서 종료되고 호출한 곳으로 제어를 반환합니다.   \n",
    "`return` 문이 없는 경우와 마찬가지로 `None`을 반환하지만, 이는 함수의 실행 흐름에 있어서 명시적인 종료를 나타냅니다.   \n",
    "이 경우, `dfs` 함수 내에서 `return`을 사용하는 것은 함수가 특정 조건에서 조기에 종료되어야 하는 경우에 유용할 수 있습니다.   \n",
    "그러나 당신의 `dfs` 함수에서는 모든 실행 경로의 끝에 도달할 때까지 함수가 계속 실행되기 때문에, `return`은 선택적입니다.  \n",
    "  \n",
    "결론적으로, 당신의 `dfs` 함수에서 마지막에 `return`이 있는 경우와 없는 경우 사이에는 함수의 기능적인 측면에서 차이가 없습니다.   \n",
    "`return`을 사용하는 것은 개발자의 의도를 더 명확하게 전달하고자 하는 스타일의 선택일 뿐입니다.  \n",
    "함수가 어떤 값을 반환할 필요가 없다면, `return` 문을 생략하는 것이 더 깔끔한 코드를 유지하는 방법일 수 있습니다.  "
   ]
  },
  {
   "cell_type": "code",
   "execution_count": 2,
   "id": "cfcf4ef1-6ac3-49ed-900f-9326038ba2a0",
   "metadata": {
    "tags": []
   },
   "outputs": [
    {
     "data": {
      "text/plain": [
       "NoneType"
      ]
     },
     "execution_count": 2,
     "metadata": {},
     "output_type": "execute_result"
    }
   ],
   "source": [
    "def func():\n",
    "    return\n",
    "\n",
    "temp = func()\n",
    "type(temp)"
   ]
  },
  {
   "cell_type": "code",
   "execution_count": 4,
   "id": "1c986afa-528f-4042-92f7-1a9988b344d3",
   "metadata": {
    "tags": []
   },
   "outputs": [
    {
     "data": {
      "text/plain": [
       "NoneType"
      ]
     },
     "execution_count": 4,
     "metadata": {},
     "output_type": "execute_result"
    }
   ],
   "source": [
    "def func():\n",
    "    max(1, 2)\n",
    "\n",
    "temp = func()\n",
    "type(temp)"
   ]
  },
  {
   "cell_type": "code",
   "execution_count": null,
   "id": "5faa7bcf-1f8a-4bb8-ad66-f2ecf79178f5",
   "metadata": {},
   "outputs": [],
   "source": [
    "## 정리하면\n",
    "결과적으로\n",
    "재귀함수를 쓸 때, 다시 말해, 어떤 함수 body어딘가에서 재귀호출을 할 때, 그 body 어딘가에 return이 없으면\n",
    "에러가 나지 않는 한 무한히 호출되고(함수가 끝까지 실행될 수 없으므로. i.e. 함수가 끝까지 실행된다면 return이 없어도 None이 반환되고 함수는 종료되므로)\n",
    "스택오버플로우가 일어난다.\n",
    "\n",
    "body 어딘가에 return이 있고, 코드에 에러가 없어도\n",
    "함수에 입력된 값이 너무 크다든가, 계산할게 많아서 재귀의 깊이가 프로그램의 스택 크기를 초과하는 경우에도, 스택오버 플로우가 일어난다.\n",
    "\n",
    "다시 말해\n",
    "어떤 함수 내에서 재귀호출을 할 땐, 어쨌든 무한한 함수호출을 막기 위해 종료조건으서 return을 한번은 써줘야 한다.\n",
    "이때 return 되는 반환값이 꼭 있을 필요는 없다.\n",
    "재귀함수가 return을 만나면 함수는 더 이상 자기 자신을 호출하지 않고, 호출 스택에서 제거되기 시작합니다. \n",
    "나아가 특정 조건을 걸어 어떤 시점이나 조건에서 함수가 중간에 종료되도록 return을 더 써줄 수도 있다.\n",
    "이는 재귀 호출의 깊이를 잘 제한하는 것일 수도 있다."
   ]
  },
  {
   "cell_type": "markdown",
   "id": "74ce4dca-d1b4-43cc-a0c8-f99d58000f84",
   "metadata": {},
   "source": [
    "호출스택과 호출자\n",
    "\n",
    "호출 스택(call stack)과 호출자(caller)는 밀접하게 연관되어 있지만, \n",
    "정확히 같은 것은 아닙니다. 이 둘의 차이점을 이해하기 위해서는 각 용어의 정의와 역할을 알아보는 것이 중요합니다.\n",
    "\n",
    "### 호출 스택(Call Stack)\n",
    "\n",
    "호출 스택은 프로그램에서 함수 호출과 실행의 히스토리를 관리하는 데이터 구조입니다. \n",
    "프로그램이 함수를 호출할 때마다, \n",
    "그 함수에 대한 정보(함수의 파라미터, 지역 변수, 반환 주소 등)가 호출 스택에 \"푸시(push)\"됩니다. \n",
    "함수가 실행을 마치고 반환될 때, 해당 함수에 대한 정보가 스택에서 \"팝(pop)\"되어 제거됩니다. \n",
    "이 과정은 함수의 실행 순서와 중첩된 함수 호출을 정확하게 관리하는 데 필요합니다.\n",
    "\n",
    "### 호출자(Caller)\n",
    "\n",
    "호출자는 다른 함수를 호출하는 함수를 의미합니다. \n",
    "예를 들어, 함수 A에서 함수 B를 호출한다면, 이 경우 함수 A가 호출자입니다. \n",
    "호출자는 호출 스택의 현재 실행 중인 함수 바로 아래에 위치하며, \n",
    "호출된 함수(이 예에서는 함수 B)의 실행이 완료되고 제어가 돌아오면 다시 활성화됩니다.\n",
    "\n",
    "### 관계\n",
    "\n",
    "- 호출 스택은 프로그램의 실행 동안 함수 호출 관계를 기록하는 역할을 합니다. \n",
    "이는 프로그램이 어느 함수를 현재 실행 중인지, 그리고 각 함수 호출이 어떤 순서로 발생했는지 추적하는 데 사용됩니다.\n",
    "- 호출자는 특정 함수 호출의 주체입니다. \n",
    "이는 스택에서 현재 실행 중인 함수의 직전 위치에 해당하는 개념입니다.\n",
    "\n",
    "따라서, 호출 스택은 프로그램 실행의 전체적인 구조와 함수 호출의 흐름을 관리하는 역할을 하며, \n",
    "호출자는 그 흐름 내에서 특정 함수 호출을 시작하는 역할을 합니다. \n",
    "호출 스택은 실행 중인 모든 함수의 컨텍스트를 포함하지만, 호출자는 그 중 특정 시점에서 다른 함수를 호출하는 특정 함수를 지칭합니다."
   ]
  },
  {
   "cell_type": "markdown",
   "id": "53ca60db-9296-454f-8cff-5e74c030b397",
   "metadata": {},
   "source": [
    "### chatGPT 풀이"
   ]
  },
  {
   "cell_type": "code",
   "execution_count": null,
   "id": "11957806-7ccd-4645-8f64-3d73c13258e9",
   "metadata": {},
   "outputs": [],
   "source": [
    "class Solution:\n",
    "    def invertTree(self, root: Optional[TreeNode]) -> Optional[TreeNode]:\n",
    "        \n",
    "        def dfs(node):\n",
    "            if not node:\n",
    "                return\n",
    "            \n",
    "            node.left, node.right = node.right, node.left  # 먼저 자식 노드를 교환\n",
    "            dfs(node.left)  # 그리고 나서 재귀 호출\n",
    "            dfs(node.right)\n",
    "\n",
    "        dfs(root)\n",
    "        return root\n",
    "        "
   ]
  },
  {
   "cell_type": "markdown",
   "id": "b8de2666-3bf0-41d3-9276-a3ff0dfad6fb",
   "metadata": {},
   "source": [
    "두 코드 사이의 주요 차이점은 노드를 반전시키는 시점에 있습니다. \n",
    "이는 재귀 호출의 순서와 관련된 것으로, 탐색 방법의 차이로 이해할 수 있습니다.\n",
    "\n",
    "1. **당신이 제공한 코드**는 \n",
    "재귀 호출이 먼저 끝까지 이루어진 후 노드를 반전시키므로, **후위 순회(post-order traversal)**를 따릅니다. \n",
    "즉, 함수는 먼저 노드의 모든 자식을 방문하고, 그 다음에 현재 노드에서 작업을 수행합니다. \n",
    "이 방식에서는 트리의 가장 깊은 부분, 즉 마지막 레벨에서부터 시작하여 루트 방향으로 작업을 수행하면서 노드를 반전시킵니다. \n",
    "이 경우, 재귀 호출이 \"닫히면서\" 노드를 반전시키게 됩니다.\n",
    "\n",
    "2. **제가 수정 제안한 코드**는 \n",
    "노드를 반전시킨 후 재귀 호출을 진행하므로, 노드 방문 순서가 다릅니다. \n",
    "이 접근 방법에서는 먼저 현재 노드의 자식 노드를 교환하고, 그 다음에 재귀 호출을 통해 각 자식 노드로 이동합니다.\n",
    "이 방식은 사실상 노드를 방문하는 순서에 큰 차이를 만들지 않지만, \n",
    "코드를 읽는 사람에게는 재귀 호출 전에 노드의 교환이 이루어진다는 점을 더 명확하게 전달할 수 있습니다. \n",
    "이 방법도 후위 순회를 따르나, 노드 교환의 시점을 더 강조합니다.\n",
    "\n",
    "결국 두 코드 모두 트리의 모든 노드를 정확하게 한 번씩 방문하여 트리를 성공적으로 반전시키지만,\n",
    " 이 차이는 성능에는 영향을 주지 않으며, 주로 코드의 가독성과 개발자의 선호에 따라 달라질 수 있는 스타일의 차이점입니다."
   ]
  },
  {
   "cell_type": "markdown",
   "id": "dd7dc8fb-263d-4b05-8cc8-d8318f600d66",
   "metadata": {},
   "source": [
    "### 반복문으로 풀기"
   ]
  },
  {
   "cell_type": "markdown",
   "id": "b534c8a6-6e67-448b-9d3e-036155c39ad6",
   "metadata": {},
   "source": [
    "#### stack / DFS"
   ]
  },
  {
   "cell_type": "code",
   "execution_count": null,
   "id": "270d2fb4-5388-4cb0-9343-7ff2dbc1fc9b",
   "metadata": {},
   "outputs": [],
   "source": [
    "stack = [root]\n",
    "while stack:\n",
    "    node = stack.pop()\n",
    "    if node :\n",
    "        node.left, node.right = node.right, node.left\n",
    "        \n",
    "        stack.append(node.left)\n",
    "        stack.append(node.right)"
   ]
  },
  {
   "cell_type": "code",
   "execution_count": null,
   "id": "9844c8b9-91bc-49fb-86b7-cbf92052bc07",
   "metadata": {},
   "outputs": [],
   "source": [
    "\n",
    "node.left, node.right = node.right, node.left 여기서 좌우 자식 노드를 바꿨으니까\n",
    "\n",
    "stack.append(node.left)\n",
    "stack.append(node.right)\n",
    "\n",
    "node.left, node.right 순서로 append 하면, \n",
    "결과적으로는 오른쪽 자식노드, 왼쪽 자식노드 순서로대로 append가 된거고, \n",
    "여기서 pop을 하면 왼쪽 자식노드가 먼저 나오니까\n",
    "결과적으로 전위순회 DFS가 되는 것"
   ]
  },
  {
   "cell_type": "markdown",
   "id": "e40f1989-885d-4937-8cc2-79c3ce645f94",
   "metadata": {},
   "source": [
    "#### 후위순회"
   ]
  },
  {
   "cell_type": "code",
   "execution_count": null,
   "id": "4bdb791d-9763-4fb8-8579-139e85a0572a",
   "metadata": {},
   "outputs": [],
   "source": [
    "stack = [root]\n",
    "while stack:\n",
    "    node = stack.pop()\n",
    "    if node :\n",
    "        stack.append(node.left)\n",
    "        stack.append(node.right)\n",
    "        \n",
    "        node.left, node.right = node.right, node.left\n",
    "        \n"
   ]
  },
  {
   "cell_type": "markdown",
   "id": "99ec74bd-ca8e-4a22-a7f1-1e2b78d61d4b",
   "metadata": {},
   "source": [
    "#### queue / BFS"
   ]
  },
  {
   "cell_type": "code",
   "execution_count": null,
   "id": "0e585f67-f60f-4af1-bd63-44852219f683",
   "metadata": {},
   "outputs": [],
   "source": [
    "import collections\n",
    "\n",
    "queue = collections.deque([root])\n",
    "\n",
    "while queue:\n",
    "    node = queue.popleft()\n",
    "    if node:\n",
    "        node.left, node.right = node.right, node.left\n",
    "        \n",
    "        queue.append(node.left)\n",
    "        queue.append(node.right)"
   ]
  },
  {
   "cell_type": "markdown",
   "id": "7952737e-21dd-4861-be03-06cb653aa29a",
   "metadata": {},
   "source": [
    "# 문46 두 이진트리 병합 e\n",
    "https://leetcode.com/problems/merge-two-binary-trees"
   ]
  },
  {
   "cell_type": "code",
   "execution_count": null,
   "id": "84d73174-096c-4d3a-8c01-43ee93ac2d8c",
   "metadata": {},
   "outputs": [],
   "source": [
    "You are given two binary trees root1 and root2.\n",
    "\n",
    "Imagine that when you put one of them to cover the other, \n",
    "some nodes of the two trees are overlapped while the others are not. \n",
    "You need to merge the two trees into a new binary tree. \n",
    "The merge rule is that if two nodes overlap, \n",
    "then sum node values up as the new value of the merged node. \n",
    "Otherwise, the NOT null node will be used as the node of the new tree.\n",
    "\n",
    "Return the merged tree.\n",
    "\n",
    "Note: The merging process must start from the root nodes of both trees\n",
    "\n",
    "Example 1:\n",
    "\n",
    "Input: root1 = [1,3,2,5], root2 = [2,1,3,null,4,null,7]\n",
    "Output: [3,4,5,5,4,null,7]\n",
    "\n",
    "# Definition for a binary tree node.\n",
    "# class TreeNode:\n",
    "#     def __init__(self, val=0, left=None, right=None):\n",
    "#         self.val = val\n",
    "#         self.left = left\n",
    "#         self.right = right\n",
    "class Solution:\n",
    "    def mergeTrees(self, root1: Optional[TreeNode], root2: Optional[TreeNode]) -> Optional[TreeNode]:\n",
    "        "
   ]
  },
  {
   "cell_type": "markdown",
   "id": "ad9c6e64-60ff-43b6-a6f0-40eec331844e",
   "metadata": {},
   "source": [
    "![병합](트리병합.png)"
   ]
  },
  {
   "cell_type": "code",
   "execution_count": null,
   "id": "4635918a-4319-4511-9edb-62dd2186fb21",
   "metadata": {},
   "outputs": [],
   "source": [
    "# Definition for a binary tree node.\n",
    "class TreeNode:\n",
    "    def __init__(self, val=0, left=None, right=None):\n",
    "        self.val = val\n",
    "        self.left = left\n",
    "        self.right = right\n",
    "        \n",
    "class Solution:\n",
    "    def mergeTrees(self, root1: Optional[TreeNode], root2: Optional[TreeNode]) -> Optional[TreeNode]:\n",
    "        if root1 and root2:\n",
    "            node = TreeNode(root1.val + root2.val)\n",
    "            node.left = self.mergeTrees(root1.left, root2.left)\n",
    "            node.right = self.mergeTrees(root1.right, root2.right)\n",
    "            \n",
    "            return node\n",
    "        else:\n",
    "            return root1 or root2\n",
    "        "
   ]
  },
  {
   "cell_type": "code",
   "execution_count": null,
   "id": "534e1692-3699-47ea-8d5a-6a99dedd2ca1",
   "metadata": {},
   "outputs": [],
   "source": [
    " 두 트리의 동일한 위치에 있는 노드들의 값을 합산하여 새로운 트리를 생성하는 방식으로 작동"
   ]
  },
  {
   "cell_type": "markdown",
   "id": "b17c9618-c630-4b69-9a80-66628ffd8d02",
   "metadata": {},
   "source": [
    "기본 조건: \n",
    "if root1 and root2: \n",
    "두 입력 트리의 현재 노드가 모두 존재하는 경우, 노드의 값들을 합산하여 새 노드를 생성합니다.\n",
    "\n",
    "재귀 호출: \n",
    "node.left = self.mergeTrees(root1.left, root2.left)\n",
    "node.right = self.mergeTrees(root1.right, root2.right)\n",
    "현재 노드의 왼쪽 및 오른쪽 자식에 대해 동일한 병합 작업을 재귀적으로 수행합니다. \n",
    "이는 트리의 모든 레벨에 대해 수행됩니다.\n",
    "\n",
    "기본 조건 미충족시 반환: \n",
    "else: return root1 or root2\n",
    "두 트리 중 하나의 노드만 존재하는 경우, 존재하는 노드를 반환합니다. \n",
    "둘 다 None인 경우, Python의 or 연산 결과로 None이 반환됩니다.\n"
   ]
  },
  {
   "cell_type": "code",
   "execution_count": null,
   "id": "c59b4773-10cc-487f-8b61-7159cd950f7a",
   "metadata": {},
   "outputs": [],
   "source": [
    "class Solution:\n",
    "    def mergeTrees(self, root1: Optional[TreeNode], root2: Optional[TreeNode]) -> Optional[TreeNode]:\n",
    "        def dfs(root1, root2):\n",
    "            if root1 and root2:\n",
    "                node = TreeNode(val = root1.val + root2.val)\n",
    "                node.left = dfs(root1.left, root2.left)\n",
    "                node.right = dfs(root1.right, root2.right)\n",
    "                return node\n",
    "            else:\n",
    "                return root1 or root2\n",
    "                \n",
    "        return dfs(root1, root2)"
   ]
  },
  {
   "cell_type": "markdown",
   "id": "7b20e511-0c90-4697-9977-f66eea668675",
   "metadata": {},
   "source": [
    "# 오류 사례"
   ]
  },
  {
   "cell_type": "code",
   "execution_count": null,
   "id": "0b0a6d86-3587-4ca4-a4dd-387017bfff4d",
   "metadata": {},
   "outputs": [],
   "source": [
    "'''\n",
    "아래 코드를 실행하면\n",
    "TypeError: TreeNode.__init__() got multiple values for argument 'val'\n",
    "에러가 발생한다.\n",
    "'''\n",
    "        \n",
    "class Solution:\n",
    "    def mergeTrees(self, root1: Optional[TreeNode], root2: Optional[TreeNode]) -> Optional[TreeNode]:\n",
    "        if root1 and root2:\n",
    "            node = TreeNode(self, val = root1.val + root2.val)\n",
    "            node.left = self.mergeTrees(root1.left, root2.left)\n",
    "            node.right = self.mergeTrees(root1.right, root2.right)\n",
    "        else:\n",
    "            return root1 or root2\n",
    "\n",
    "        return node\n",
    "'''\n",
    "클래스의 생성자를 호출할 때 self를 명시적으로 전달하면 안 됩니다.\n",
    "TreeNode 생성자는 val, left, right 세 개의 인자를 받습니다. \n",
    "self는 같은 클래스 내의 메서드를 호출하거나 (생성자에서 정의한) 인스턴스 변수를 참조할 때 사용한다.\n",
    "이 오류는 TreeNode의 생성자 호출에서 self를 TreeNode 생성자에 인자로 전달하고 있기 때문에 발생한다\n",
    "'''"
   ]
  },
  {
   "cell_type": "code",
   "execution_count": null,
   "id": "277fbd00-b070-44e8-8645-3f58530037d1",
   "metadata": {},
   "outputs": [],
   "source": [
    "self는 클래스의 메서드 내에서 현재 인스턴스를 참조할 때 사용 == self는 클래스 내부에서 현재 인스턴스의 메서드나 속성에 접근할 때 사용"
   ]
  },
  {
   "cell_type": "code",
   "execution_count": null,
   "id": "0d9a99f0-c03e-4a34-8621-958001152225",
   "metadata": {},
   "outputs": [],
   "source": [
    "'''\n",
    "아래 코드를 실행하면\n",
    "NameError: name 'mergeTrees' is not defined\n",
    "에러가 발생한다\n",
    "'''\n",
    "\n",
    "class Solution:\n",
    "    def mergeTrees(self, root1: Optional[TreeNode], root2: Optional[TreeNode]) -> Optional[TreeNode]:\n",
    "        if root1 and root2:\n",
    "            node = TreeNode(val = root1.val + root2.val)\n",
    "            node.left = mergeTrees(root1.left, root2.left)\n",
    "            node.right = mergeTrees(root1.right, root2.right)\n",
    "        else:\n",
    "            return root1 or root2\n",
    "\n",
    "        return node\n",
    "'''\n",
    "mergeTrees 메서드 내에서 재귀 호출을 하려고 할 때, self.mergeTrees를 사용해야 합니다\n",
    "\n",
    "제시된 코드에서 mergeTrees는 Solution 클래스의 인스턴스 메서드입니다. \n",
    "self 키워드는 Python에서 클래스의 인스턴스 메서드 내부에서 해당 인스턴스에 대한 참조를 나타냅니다. \n",
    "\n",
    "클래스 내부에서 인스턴스 변수에 접근하거나 \n",
    "다른 인스턴스 메서드를 호출할 때 self를 사용합니다. \n",
    "\n",
    "이는 객체 지향 프로그래밍에서 객체의 현재 인스턴스에 대한 접근을 제공하는 중요한 메커니즘입니다.\n",
    "\n",
    "따라서, 클래스 내부에서 이 메서드를 호출할 때는 메서드 앞에 self.를 붙여야 합니다. \n",
    "이렇게 함으로써 Python 인터프리터는 현재 인스턴스(self)에 속한 mergeTrees 메서드를 호출해야 함을 인식하고, \n",
    "올바른 메서드를 실행할 수 있습니다.\n",
    "\n",
    "node.left = self.mergeTrees(root1.left, root2.left)\n",
    "node.right = self.mergeTrees(root1.right, root2.right)\n",
    "이 코드는 mergeTrees 메서드를 재귀적으로 호출합니다. \n",
    "각 호출은 현재 노드의 왼쪽 및 오른쪽 자식을 병합하기 위해 수행됩니다.\n",
    "이러한 재귀 호출에서 self를 사용함으로써,\n",
    "Python은 현재 객체의 mergeTrees 메서드를 올바르게 찾아 실행할 수 있습니다.\n",
    "\n",
    "self를 생략하고 단순히 mergeTrees(...)와 같이 호출하면, \n",
    "Python은 이를 현재 스코프 또는 전역 함수로 해석하려 시도할 것이기 때문에 오류를 발생시킵니다. \n",
    "따라서, 클래스 내부에서 인스턴스 메서드를 호출할 때는 항상 self. 접두사를 사용해야 합니다.\n",
    "'''\n",
    "\n",
    "class Solution:\n",
    "    def mergeTrees(self, root1: Optional[TreeNode], root2: Optional[TreeNode]) -> Optional[TreeNode]:\n",
    "        if root1 and root2:\n",
    "            node = self.TreeNode(val = root1.val + root2.val)\n",
    "            node.left = self.mergeTrees(root1.left, root2.left)\n",
    "            node.right = self.mergeTrees(root1.right, root2.right)\n",
    "        return node\n",
    "    \n",
    "'''\n",
    "위 코드를 실행하면\n",
    "AttributeError: 'Solution' object has no attribute 'TreeNode'\n",
    "에러가 발생한다.\n",
    "TreeNode는 Solution 클래스와는 다른 별도의 클래스이지, Solution 클래스의 인스턴스가 아니기 때문이다.\n",
    "\n",
    "Solution 클래스의 메서드 내에서 self.TreeNode(...) 형태로 참조하려고 하면 \n",
    "Python은 TreeNode를 Solution 인스턴스의 속성으로 해석하려 시도합니다. \n",
    "TreeNode는 Solution 클래스의 속성이 아니기 때문에 오류를 발생시킵니다.\n",
    "\n",
    "self 키워드는 현재 인스턴스에 속한 메서드나 속성을 참조할 때 사용되므로, 이 경우에는 사용되지 않아야 합니다.\n",
    "\n",
    "'''"
   ]
  },
  {
   "cell_type": "code",
   "execution_count": null,
   "id": "f475b072-4017-4f56-acad-e49d8a116365",
   "metadata": {},
   "outputs": [],
   "source": [
    "class TreeNode:\n",
    "    def __init__(self, val=0, left=None, right=None):\n",
    "        self.val = val\n",
    "        self.left = left\n",
    "        self.right = right\n",
    "class Solution:\n",
    "    def mergeTrees(root1: Optional[TreeNode], root2: Optional[TreeNode]) -> Optional[TreeNode]:\n",
    "        def dfs(root1, root2):\n",
    "            if root1 and root2:\n",
    "                node = TreeNode(val=root1.val + root2.val)\n",
    "                node.left = dfs(root1.left, root2.left)\n",
    "                node.right = dfs(root1.right, root2.right)\n",
    "            else:\n",
    "                return root1 or root2\n",
    "        dfs(root1, root2)\n",
    "'''\n",
    "이 코드는 두 트리의 병합을 제대로 끝내고\n",
    "재귀호출도 무한히 이루어지지 않고 리프노드에서 잘 끝낸다.\n",
    "하지만 재귀호출이 호출스택에서 모두 비워지고, 최종적으로 맨 처음 dfs(root1, root2) 호출까지 호출스택에서 비워져도\n",
    "return 하는 것이 아무것도 없으므로 \n",
    "Solution 클래스의 인스턴스에서 mergeTrees 메서드를 호출하면 \n",
    "아무것도 반환되지 않는다\n",
    "'''"
   ]
  },
  {
   "cell_type": "code",
   "execution_count": null,
   "id": "dfab6892-24f5-4879-a5fe-c8165e0bdbf8",
   "metadata": {},
   "outputs": [],
   "source": []
  },
  {
   "cell_type": "code",
   "execution_count": 5,
   "id": "fc74a423-10d4-417c-b943-79d5c931e908",
   "metadata": {
    "tags": []
   },
   "outputs": [],
   "source": [
    "'''\n",
    "아래 코드를 실행하면 dfs 함수는 트리 병합을 에러없이 잘 끝내지만\n",
    "mergeTrees 함수의 맨 마지막 코드 return node에서\n",
    "NameError: name 'node' is not defined.\n",
    "에러가 발생한다.\n",
    "mergeTrees 메서드가 node를 반환하려면 \n",
    "mergeTrees 함수의 body 내에 (mergeTrees 메서드의 스코프 내에서) node가  정의가 되어 있어야 하는데\n",
    "그렇지 않기 때문이다.\n",
    "'''\n",
    "class Solution:\n",
    "    def mergeTrees(self, root1: Optional[TreeNode], root2: Optional[TreeNode]) -> Optional[TreeNode]:\n",
    "        def dfs(root1, root2):\n",
    "            if root1 and root2:\n",
    "                node = TreeNode(val = root1.val + root2.val)\n",
    "                node.left = dfs(root1.left, root2.left)\n",
    "                node.right = dfs(root1.right, root2.right)\n",
    "            else:\n",
    "                return root1 or root2\n",
    "        dfs(root1, root2)\n",
    "\n",
    "        return node"
   ]
  },
  {
   "cell_type": "code",
   "execution_count": null,
   "id": "af37691d-3a69-4db9-87a0-4972fc5c753e",
   "metadata": {},
   "outputs": [],
   "source": [
    "'''\n",
    "아래 코드에서\n",
    "        if not root1 and not root2: \n",
    "            return None\n",
    "는 없어도 된다. 왜냐면 \n",
    "        else:\n",
    "            return root1 or root2\n",
    "여기에서 root1과 root2가 모두 None이면 함수가 자동으로 None을 리턴하기 때문이다.\n",
    "'''\n",
    "class Solution:\n",
    "    def mergeTrees(self, root1: Optional[TreeNode], root2: Optional[TreeNode]) -> Optional[TreeNode]:\n",
    "        def dfs(root1, root2):\n",
    "            if not root1 and not root2: \n",
    "                return None\n",
    "            \n",
    "            if root1 and root2:\n",
    "                node = TreeNode(val = root1.val + root2.val)\n",
    "                node.left = dfs(root1.left, root2.left)\n",
    "                node.right = dfs(root1.right, root2.right)\n",
    "                return node\n",
    "            else:\n",
    "                return root1 or root2\n",
    "        dfs(root1, root2)\n",
    "\n",
    "        return node"
   ]
  },
  {
   "cell_type": "code",
   "execution_count": null,
   "id": "6385d6b6-38ee-436e-b128-433b2dc1d064",
   "metadata": {},
   "outputs": [],
   "source": []
  },
  {
   "cell_type": "markdown",
   "id": "b3d8f4ad-1555-483d-8c05-63d834eb5793",
   "metadata": {},
   "source": [
    "# 문48 균형 이진 트리 e\n",
    "https://leetcode.com/problems/balanced-binary-tree"
   ]
  },
  {
   "cell_type": "code",
   "execution_count": null,
   "id": "d47b8101-6cf9-4ccc-8398-5b34fe4d708f",
   "metadata": {},
   "outputs": [],
   "source": [
    "Given a binary tree, determine if it is height-balanced\n",
    "\n",
    "Example 1:\n",
    "\n",
    "Input: root = [3,9,20,null,null,15,7]\n",
    "Output: true"
   ]
  },
  {
   "cell_type": "code",
   "execution_count": null,
   "id": "120664ce-f642-4044-b4e2-8ca38558f8c6",
   "metadata": {},
   "outputs": [],
   "source": []
  },
  {
   "cell_type": "markdown",
   "id": "a193bf34-b67e-436e-a9bc-4d55f29152ce",
   "metadata": {},
   "source": [
    "# 문44 가장 긴 동일 값의 경로 m\n",
    "https://leetcode.com/problems/longest-univalue-path"
   ]
  },
  {
   "cell_type": "markdown",
   "id": "5ffdd0fa-f055-4adc-9d3a-10c005ae1f6e",
   "metadata": {},
   "source": [
    "# 문49 최소 높이 트리 m\n",
    "https://leetcode.com/problems/minimum-height-trees"
   ]
  },
  {
   "cell_type": "code",
   "execution_count": null,
   "id": "f5fde2f1-c1fc-4a88-8708-6e38ac484aa1",
   "metadata": {},
   "outputs": [],
   "source": [
    "A tree is an undirected graph in which any two vertices are connected by exactly one path. \n",
    "In other words, any connected graph without simple cycles is a tree.\n",
    "\n",
    "Given a tree of n nodes labelled from 0 to n - 1, \n",
    "and an array of n - 1 edges where edges[i] = [ai, bi] indicates that there is an undirected edge between the two nodes ai and bi in the tree, \n",
    "you can choose any node of the tree as the root. When you select a node x as the root, the result tree has height h. \n",
    "Among all possible rooted trees, those with minimum height (i.e. min(h))  are called minimum height trees (MHTs).\n",
    "\n",
    "Return a list of all MHTs' root labels. You can return the answer in any order.\n",
    "\n",
    "The height of a rooted tree is the number of edges on the longest downward path between the root and a leaf.\n",
    "\n",
    "Example 1:\n",
    "\n",
    "Input: n = 4, edges = [[1,0],[1,2],[1,3]]\n",
    "Output: [1]\n",
    "Explanation: As shown, the height of the tree is 1 when the root is the node with label 1 which is the only MHT."
   ]
  },
  {
   "cell_type": "code",
   "execution_count": null,
   "id": "f882bf82-4ec5-4660-b5ae-8fa9626ffac7",
   "metadata": {},
   "outputs": [],
   "source": [
    "class Solution:\n",
    "    def findMinHeightTrees(self, n: int, edges: List[List[int]]) -> List[int]:\n",
    "        "
   ]
  },
  {
   "cell_type": "markdown",
   "id": "61325077-e538-4976-85e5-8d4f48782288",
   "metadata": {},
   "source": [
    "# 트리 순회"
   ]
  },
  {
   "cell_type": "markdown",
   "id": "ddf4b50a-6365-4e8f-a0ef-ec8f82475eaa",
   "metadata": {},
   "source": [
    "# 문54 전위, 중위 순회 결과로 이진 트리 구축\n",
    "https://leetcode.com/problems/construct-binary-tree-from-preorder-and-inorder-traversal"
   ]
  },
  {
   "cell_type": "code",
   "execution_count": null,
   "id": "7bba085d-f7cd-4b40-bcde-a312f3958989",
   "metadata": {},
   "outputs": [],
   "source": [
    "Given two integer arrays preorder and inorder where preorder is the preorder traversal of a binary tree\n",
    "and inorder is the inorder traversal of the same tree, construct and return the binary tree.\n",
    "\n",
    "Example 1:\n",
    "\n",
    "Input: preorder = [3,9,20,15,7], inorder = [9,3,15,20,7]\n",
    "Output: [3,9,20,null,null,15,7]"
   ]
  },
  {
   "cell_type": "code",
   "execution_count": null,
   "id": "f5992696-ab47-4d15-8740-f8cf899e6791",
   "metadata": {},
   "outputs": [],
   "source": [
    "# Definition for a binary tree node.\n",
    "# class TreeNode:\n",
    "#     def __init__(self, val=0, left=None, right=None):\n",
    "#         self.val = val\n",
    "#         self.left = left\n",
    "#         self.right = right\n",
    "class Solution:\n",
    "    def buildTree(self, preorder: List[int], inorder: List[int]) -> Optional[TreeNode]:\n",
    "        "
   ]
  },
  {
   "cell_type": "markdown",
   "id": "399c513e-a0fa-484b-80f9-b47045dd9081",
   "metadata": {},
   "source": [
    "# 문47 이진트리 직렬화 & 역 직렬화 h\n",
    "https://leetcode.com/problems/serialize-and-deserialize-binary-tree"
   ]
  },
  {
   "cell_type": "code",
   "execution_count": null,
   "id": "df42fd5f-2505-4702-a477-adcba5707d7a",
   "metadata": {},
   "outputs": [],
   "source": [
    "Serialization is the process of converting a data structure \n",
    "or object into a sequence of bits so that it can be stored in a file or memory buffer, \n",
    "or transmitted across a network connection link to be reconstructed later in the same \n",
    "or another computer environment.\n",
    "\n",
    "Design an algorithm to serialize and deserialize a binary tree. \n",
    "There is no restriction on how your serialization/deserialization algorithm should work. \n",
    "You just need to ensure that a binary tree can be serialized to a string \n",
    "and this string can be deserialized to the original tree structure.\n",
    "\n",
    "Clarification: The input/output format is the same as how LeetCode serializes a binary tree. \n",
    "You do not necessarily need to follow this format, so please be creative and come up with different approaches yourself.\n",
    "\n",
    "Example 1:\n",
    "\n",
    "\n",
    "Input: root = [1,2,3,null,null,4,5]\n",
    "Output: [1,2,3,null,null,4,5]\n"
   ]
  },
  {
   "cell_type": "code",
   "execution_count": null,
   "id": "06bb85ff-bd9f-4dde-9e2f-b3ba78162782",
   "metadata": {},
   "outputs": [],
   "source": [
    "# Definition for a binary tree node.\n",
    "# class TreeNode(object):\n",
    "#     def __init__(self, x):\n",
    "#         self.val = x\n",
    "#         self.left = None\n",
    "#         self.right = None\n",
    "\n",
    "class Codec:\n",
    "\n",
    "    def serialize(self, root):\n",
    "        \"\"\"Encodes a tree to a single string.\n",
    "        \n",
    "        :type root: TreeNode\n",
    "        :rtype: str\n",
    "        \"\"\"\n",
    "        \n",
    "\n",
    "    def deserialize(self, data):\n",
    "        \"\"\"Decodes your encoded data to tree.\n",
    "        \n",
    "        :type data: str\n",
    "        :rtype: TreeNode\n",
    "        \"\"\"\n",
    "        \n",
    "\n",
    "# Your Codec object will be instantiated and called as such:\n",
    "# ser = Codec()\n",
    "# deser = Codec()\n",
    "# ans = deser.deserialize(ser.serialize(root))"
   ]
  }
 ],
 "metadata": {
  "kernelspec": {
   "display_name": "Python 3 (ipykernel)",
   "language": "python",
   "name": "python3"
  },
  "language_info": {
   "codemirror_mode": {
    "name": "ipython",
    "version": 3
   },
   "file_extension": ".py",
   "mimetype": "text/x-python",
   "name": "python",
   "nbconvert_exporter": "python",
   "pygments_lexer": "ipython3",
   "version": "3.11.0"
  }
 },
 "nbformat": 4,
 "nbformat_minor": 5
}
