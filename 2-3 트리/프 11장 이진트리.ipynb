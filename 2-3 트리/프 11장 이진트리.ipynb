{
 "cells": [
  {
   "cell_type": "markdown",
   "id": "2d7ea21b-3417-444b-b316-2168ea4cb4bb",
   "metadata": {},
   "source": [
    "# 이진트리"
   ]
  },
  {
   "cell_type": "code",
   "execution_count": null,
   "id": "10f3cc59-d8de-4531-930d-3c126e7028d1",
   "metadata": {},
   "outputs": [],
   "source": []
  },
  {
   "cell_type": "code",
   "execution_count": null,
   "id": "90054a95-0bbb-429e-b51a-f7fbe6ae4ec7",
   "metadata": {},
   "outputs": [],
   "source": []
  },
  {
   "cell_type": "markdown",
   "id": "e045e636-9f21-44e7-9896-9e3e8f1b97ee",
   "metadata": {},
   "source": [
    "정 이진트리 (Full Binary Tree)\n",
    "\n",
    "    모든 노드가 0개 또는 2개의 자식 노드를 가지는 특성을 가진 이진 트리\n",
    "      \n",
    "      /\\\n",
    "     /\\\n",
    "    /\\\n",
    "\n",
    "완전 이진 트리 (Complete Binary Tree)\n",
    "\n",
    "    모든 레벨에 노드가 꽉찬 이진트리\n",
    "    단 마지막 레벨은 왼쪽부터 오른쪽으로 차있되 끝까지 차있지 않아도 된다\n",
    "    \n",
    "       /  \\\n",
    "     / \\  /\\\n",
    "    /\\ /\n",
    "    \n",
    "이진 검색 트리 (이진 탐색 트리) (Binary Search Tree)\n",
    "\n",
    "    노든 노드에 대해 \n",
    "    왼쪽 서브트리는 부모노드보다 작다\n",
    "    오른쪽 서브트리는 부모노드보다 크다\n",
    "    중위 순회(Inorder Traversal)할 경우 오름차순으로 정렬된 데이터를 얻을 수 있다.\n",
    "    이진 검색 트리는 정이진트리를 취할 수도 있고 완전이진트리를 취할 수도 있다.\n",
    "\n",
    "힙\n",
    "\n",
    "    부모의 값이 자식의 값보다 항상 크다(작다)는 조건을 만족하는 완전 이진 트리\n",
    "    \n",
    "\n",
    "포화 이진 트리 (Perfect Binary Tree) \n",
    "\n",
    "    모든 내부 노드가 두 개의 자식 노드를 가지고 있다\n",
    "    모든 리프 노드(leaf node)가 동일한 레벨(level)에 있다\n",
    "    \n",
    "균형 이진 트리 (Balanced Binary Tree) (파일 14장 이진검색트리 참고)  \n",
    "\n",
    "    모든 노드에 대해, 그 노드의 왼쪽과 오른쪽 서브트리의 높이 차이가 일정 범위 내(보통 1 또는 그 이하)로 유지되는 트리\n",
    "    \n",
    "        AVL 트리(AVL Tree): \n",
    "        가장 오래된 균형 이진 트리 중 하나로, 모든 노드에서 왼쪽과 오른쪽 서브트리의 높이 차이가 최대 1을 넘지 않도록 유지합니다.\n",
    "        \n",
    "        레드-블랙 트리(Red-Black Tree): \n",
    "        각 노드에 색깔(빨간색 또는 검은색)을 추가하여 균형을 유지하는 방식으로, 특정 규칙을 만족시키면서 트리의 높이를 최소화합니다.\n",
    "        \n",
    "        B-트리(B-Tree) 및 B+ 트리(B+ Tree): \n",
    "        주로 데이터베이스와 파일 시스템에서 사용되며, 디스크 접근 최적화를 위해 설계된 균형 이진 트리의 일종입니다."
   ]
  },
  {
   "cell_type": "markdown",
   "id": "d9886de4-6685-4f8e-9ae2-9ee77f249a61",
   "metadata": {},
   "source": [
    "# 문47 길 찾기 게임 h\n",
    "https://school.programmers.co.kr/learn/courses/30/lessons/42892"
   ]
  },
  {
   "cell_type": "code",
   "execution_count": null,
   "id": "e2fd0720-0511-4a44-aab3-770e6fff2920",
   "metadata": {},
   "outputs": [],
   "source": []
  }
 ],
 "metadata": {
  "kernelspec": {
   "display_name": "Python 3 (ipykernel)",
   "language": "python",
   "name": "python3"
  },
  "language_info": {
   "codemirror_mode": {
    "name": "ipython",
    "version": 3
   },
   "file_extension": ".py",
   "mimetype": "text/x-python",
   "name": "python",
   "nbconvert_exporter": "python",
   "pygments_lexer": "ipython3",
   "version": "3.11.0"
  }
 },
 "nbformat": 4,
 "nbformat_minor": 5
}
