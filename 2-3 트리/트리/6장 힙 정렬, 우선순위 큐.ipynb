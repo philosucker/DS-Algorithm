{
 "cells": [
  {
   "cell_type": "markdown",
   "id": "7c07ef83-65c3-489c-a07e-c795a4dbf99a",
   "metadata": {},
   "source": [
    "# 문7) 힙이란?\n",
    "부모의 값이 자식의 값보다 항상 크다(작다)는 조건을 만족하는 완전 이진 트리  \n",
    "  \n",
    "힙은 부분 순서 트리다. (이진검색트리는 순서트리다)  \n",
    "  \n",
    "부모 자식간의 대소관계는 정해져 있으나  \n",
    "형제의 대소관계는 정해져 있지 않으므로.   \n",
    "(부모노드의 왼쪽 자식노드와 오른쪽 자식노드 사이에 대소에 따른 순서가 없다)  "
   ]
  },
  {
   "cell_type": "markdown",
   "id": "10bed323-570f-435f-91cf-a329f626ca9e",
   "metadata": {},
   "source": [
    "# 문8) 트리구조를 배열에 저장하는 방법, 트리구조를 저장한 배열에서 나타나는 패턴"
   ]
  },
  {
   "cell_type": "markdown",
   "id": "eb4b165b-d8c2-482c-bda7-bef4465ea8ed",
   "metadata": {},
   "source": [
    "## 트리를 BFS로 스캔하면서 노드의 값들을 배열에 저장한다.\n",
    "## 그러면 트리 구조를 만들어낼 수 있는 패턴이 배열에 들어가게 된다"
   ]
  },
  {
   "cell_type": "code",
   "execution_count": 5,
   "id": "60b2cffb-c537-42da-bd6b-b99b3c40e3d0",
   "metadata": {
    "tags": []
   },
   "outputs": [
    {
     "ename": "IndentationError",
     "evalue": "unindent does not match any outer indentation level (<tokenize>, line 7)",
     "output_type": "error",
     "traceback": [
      "\u001b[0;36m  File \u001b[0;32m<tokenize>:7\u001b[0;36m\u001b[0m\n\u001b[0;31m    배열a 10  9  5  8  3  2  4  6  7  1\u001b[0m\n\u001b[0m    ^\u001b[0m\n\u001b[0;31mIndentationError\u001b[0m\u001b[0;31m:\u001b[0m unindent does not match any outer indentation level\n"
     ]
    }
   ],
   "source": [
    "               10\n",
    "           9        5\n",
    "        8     3   2   4\n",
    "      6   7  1\n",
    "    \n",
    "#인덱스 0  1  2  3  4  5  6  7  8  9 \n",
    " 배열a 10  9  5  8  3  2  4  6  7  1\n",
    "    \n",
    "위 배열a 에는 다음과 같은 패턴이 생긴다. 인덱스값만 주면 해당 인덱스의 배열값의 부모노드와 자식노드를 알 수 있다.\n",
    "\n",
    "부모노드 :   a[(i-1) // 2]  (맨 첫번째 인덱스 0을 제외한)배열의 절반 앞에 있는값들은 모두 부모노드가 가능한 값 10, 9, 5, 8, 3 \n",
    "                          따라서 절반 뒤에 있는 값들은 모두 자식노드만 가능한 값 2, 4, 6, 7, 1\n",
    "                            바꿔 말하면, 배열의 절반 앞에 있는 인덱스들은 모두 부모노드가 가능한 인덱스\n",
    "    \n",
    "왼쪽자식 :   a[(i*2) + 1]   9, 8, 2, 6, 1 배열의 짝수번째 값들은 모두 왼쪽 자식.\n",
    "                          인덱스가 0부터 시작하므로 i*2 + 1을 해야 배열의 짝수에 해당하는 인덱스 수열을 얻을 수 있음\n",
    "    \n",
    "오른쪽 자식 : a[(i*2) + 2]  5, 3, 4, 7 배열의 세번째 원소부터 홀수에 해당하는 인덱스 수열은 모두 오른쪽 자식에 해당"
   ]
  },
  {
   "cell_type": "code",
   "execution_count": 11,
   "id": "3e3cc43b-6102-4348-9d54-522de076694e",
   "metadata": {
    "tags": []
   },
   "outputs": [],
   "source": [
    "a = [10, 9, 5, 8, 3, 2, 4, 6, 7, 1]"
   ]
  },
  {
   "cell_type": "code",
   "execution_count": 12,
   "id": "83ad9c29-2c77-48b8-a1ef-b619b35c74ae",
   "metadata": {
    "tags": []
   },
   "outputs": [
    {
     "name": "stdout",
     "output_type": "stream",
     "text": [
      "a[0] : 10\n",
      "a[(0-1) // 2] : 1\n",
      "a[0*2 + 1] : 9\n",
      "a[0*2 + 2] : 5\n"
     ]
    }
   ],
   "source": [
    "print(f'a[0] : {a[0]}')  # 해당 노드의\n",
    "print(f'a[(0-1) // 2] : {a[(0-1) // 2]}') # 부모 노드\n",
    "print(f'a[0*2 + 1] : {a[0*2 + 1]}')       # 왼쪽 자식노드\n",
    "print(f'a[0*2 + 2] : {a[0*2 + 2]}')       # 오른쪽 자식노드"
   ]
  },
  {
   "cell_type": "code",
   "execution_count": 13,
   "id": "62b35881-c67f-4d80-892c-3ad9160b80e9",
   "metadata": {
    "tags": []
   },
   "outputs": [
    {
     "name": "stdout",
     "output_type": "stream",
     "text": [
      "a[9] : 1\n",
      "a[(9-1) // 2] : 3\n"
     ]
    },
    {
     "ename": "IndexError",
     "evalue": "list index out of range",
     "output_type": "error",
     "traceback": [
      "\u001b[0;31m---------------------------------------------------------------------------\u001b[0m",
      "\u001b[0;31mIndexError\u001b[0m                                Traceback (most recent call last)",
      "Cell \u001b[0;32mIn[13], line 3\u001b[0m\n\u001b[1;32m      1\u001b[0m \u001b[38;5;28mprint\u001b[39m(\u001b[38;5;124mf\u001b[39m\u001b[38;5;124m'\u001b[39m\u001b[38;5;124ma[9] : \u001b[39m\u001b[38;5;132;01m{\u001b[39;00ma[\u001b[38;5;241m9\u001b[39m]\u001b[38;5;132;01m}\u001b[39;00m\u001b[38;5;124m'\u001b[39m)  \u001b[38;5;66;03m# 해당 노드의\u001b[39;00m\n\u001b[1;32m      2\u001b[0m \u001b[38;5;28mprint\u001b[39m(\u001b[38;5;124mf\u001b[39m\u001b[38;5;124m'\u001b[39m\u001b[38;5;124ma[(9-1) // 2] : \u001b[39m\u001b[38;5;132;01m{\u001b[39;00ma[(\u001b[38;5;241m9\u001b[39m\u001b[38;5;241m-\u001b[39m\u001b[38;5;241m1\u001b[39m)\u001b[38;5;250m \u001b[39m\u001b[38;5;241m/\u001b[39m\u001b[38;5;241m/\u001b[39m\u001b[38;5;250m \u001b[39m\u001b[38;5;241m2\u001b[39m]\u001b[38;5;132;01m}\u001b[39;00m\u001b[38;5;124m'\u001b[39m) \u001b[38;5;66;03m# 부모 노드\u001b[39;00m\n\u001b[0;32m----> 3\u001b[0m \u001b[38;5;28mprint\u001b[39m(\u001b[38;5;124mf\u001b[39m\u001b[38;5;124m'\u001b[39m\u001b[38;5;124ma[9*2 + 1] : \u001b[39m\u001b[38;5;132;01m{\u001b[39;00ma[\u001b[38;5;241m9\u001b[39m\u001b[38;5;241m*\u001b[39m\u001b[38;5;241m2\u001b[39m\u001b[38;5;250m \u001b[39m\u001b[38;5;241m+\u001b[39m\u001b[38;5;250m \u001b[39m\u001b[38;5;241m1\u001b[39m]\u001b[38;5;132;01m}\u001b[39;00m\u001b[38;5;124m'\u001b[39m)       \u001b[38;5;66;03m# 왼쪽 자식노드\u001b[39;00m\n\u001b[1;32m      4\u001b[0m \u001b[38;5;28mprint\u001b[39m(\u001b[38;5;124mf\u001b[39m\u001b[38;5;124m'\u001b[39m\u001b[38;5;124ma[9*2 + 2] : \u001b[39m\u001b[38;5;132;01m{\u001b[39;00ma[\u001b[38;5;241m9\u001b[39m\u001b[38;5;241m*\u001b[39m\u001b[38;5;241m2\u001b[39m\u001b[38;5;250m \u001b[39m\u001b[38;5;241m+\u001b[39m\u001b[38;5;250m \u001b[39m\u001b[38;5;241m2\u001b[39m]\u001b[38;5;132;01m}\u001b[39;00m\u001b[38;5;124m'\u001b[39m)\n",
      "\u001b[0;31mIndexError\u001b[0m: list index out of range"
     ]
    }
   ],
   "source": [
    "print(f'a[9] : {a[9]}')  # 해당 노드의\n",
    "print(f'a[(9-1) // 2] : {a[(9-1) // 2]}') # 부모 노드\n",
    "print(f'a[9*2 + 1] : {a[9*2 + 1]}')       # 왼쪽 자식노드\n",
    "print(f'a[9*2 + 2] : {a[9*2 + 2]}')       # 오른쪽 자식노드"
   ]
  },
  {
   "cell_type": "markdown",
   "id": "c53485a3-832c-43a5-90f9-03903eac7737",
   "metadata": {},
   "source": [
    "# 문9) 힙 정렬이란? 구현 순서"
   ]
  },
  {
   "cell_type": "markdown",
   "id": "1f88b808-cb75-4c02-8c3a-8047fad7722f",
   "metadata": {
    "tags": []
   },
   "source": [
    "### 힙정렬은 선택정렬을 응용한 알고리즘\n",
    "### 이제 힙에서 최대(최소)값은 루트에 위치한다는 특징을 이용해 힙정렬 구현"
   ]
  },
  {
   "cell_type": "markdown",
   "id": "72f160b8-0803-4c06-9141-d8e1e575d3c1",
   "metadata": {
    "tags": []
   },
   "source": [
    "오름차순 힙정렬 구현순서\n",
    "\n",
    "    1. 어떤 값들이 담긴 최초 배열을 최대힙 패턴을 가진 배열a로 만든다.\n",
    "        2. 배열a에서 최대값(루트)를 꺼내서 a의 맨 끝 원소와 바꾼다.\n",
    "        3. 다운힙: 맨 끝 원소를 제외한 배열a의 남은 부분을 다시 최대힙 패턴으로 만든다.\n",
    "    4. 맨끝부터 오름차순정렬된 부분을 제외한 남은 부분에 대해 2~3 반복\n",
    "\n"
   ]
  },
  {
   "cell_type": "markdown",
   "id": "a077fb61-970f-40a1-8903-ab5fc3e8414f",
   "metadata": {},
   "source": [
    "# 문10) 다운힙 구현순서\n",
    "## 2~3 부분 구현 (다운힙)"
   ]
  },
  {
   "cell_type": "markdown",
   "id": "af4396f1-be74-43d2-ba4c-535f8e3d47f1",
   "metadata": {},
   "source": [
    "                                        힙     10\n",
    "                                           9        5\n",
    "                                        8     3   2   4\n",
    "                                      6   7  1     \n",
    "    1. 루트를 꺼낸다\n",
    "    2. 마지막 레벨의 맨 오른쪽 원소(마지막 원소)를 루트로 이동시킨다.\n",
    "    \n",
    "        n : 배열의 크기\n",
    "        i : 배열의 마지막 인덱스\n",
    "        \n",
    "            i = n-1\n",
    "            a[0]과 a[i] 교환\n",
    "                                                1\n",
    "                                           9        5\n",
    "                                        8    3    2   4\n",
    "                                      6   7 10\n",
    "    \n",
    "    3. a[0], a[1], ... ,a[i-1]을 힙으로 만든다\n",
    "      3-1. 마지막 원소와 자식노드들을 비교해\n",
    "           큰값과 마지막 원소를 바꾼다.\n",
    "                                                9\n",
    "                                           1        5\n",
    "                                        8    3   2   4\n",
    "                                      6   7 10 \n",
    "      3-2. 마지막 원소가 리프노드가 되거나\n",
    "           마지막 원소의 자식노드들이 마지막 원소보다 작은 경우에 이를 때까지 반복\n",
    "                                                9                     9\n",
    "                                           8        5             8       5\n",
    "                                        1    3    2   4        7    3   2   4\n",
    "                                      6   7 10               6   1 10\n",
    "             \n",
    "    4. i값을 1씩 감소시키면서 힙이 빌 때까지 1~3 반복 \n",
    "    6. 그러면 마지막으로 남는 트리는, 오름차순정렬된 배열이 된다"
   ]
  },
  {
   "cell_type": "markdown",
   "id": "65729da6-a3a3-4e85-9542-f30765f6fb6c",
   "metadata": {},
   "source": [
    "**마지막 레벨의 맨 오른쪽 원소(마지막 원소)를 루트로 이동시키는 이유는?**\n",
    "\n",
    "    힙의 완전이진트리 속성을 유지하기 위해"
   ]
  },
  {
   "cell_type": "markdown",
   "id": "59ab086c-2c2f-4209-9154-3b8e59a168dd",
   "metadata": {},
   "source": [
    "# 문11) 최초배열을 힙으로 만드는 방법"
   ]
  },
  {
   "cell_type": "markdown",
   "id": "cf0fd001-27f4-4000-8415-9c81bee8ab9c",
   "metadata": {},
   "source": [
    "## 1 부분 구현 (최초 배열을 힙으로 만들기)"
   ]
  },
  {
   "cell_type": "markdown",
   "id": "a02bb8f3-c94e-4f9b-975d-66736789470b",
   "metadata": {},
   "source": [
    "### BFS 역방향으로 가면서, 서브트리의 루트마다 다운힙을 쓰면 된다\n",
    "\n",
    "       최초배열    1                     1                       1    \n",
    "            3        5            3        5             3          5\n",
    "        7      9   2   4      7     10V  2   4        8V    10    2   4\n",
    "     6   8   10             6  8   9V               6  7V  9\n",
    "     \n",
    "                1\n",
    "          10V         5            \n",
    "       8      9V    2   4\n",
    "     6  7    3V\n",
    "     \n",
    "               10V\n",
    "          9V        5\n",
    "      8      3V   2   4\n",
    "    6   7   1V"
   ]
  },
  {
   "cell_type": "markdown",
   "id": "53c291da-5149-4bb6-b2a8-0d8c18c440e5",
   "metadata": {},
   "source": [
    "BFS 자료구조 9장 트리, 파알 12장 그래프 참고"
   ]
  },
  {
   "cell_type": "markdown",
   "id": "af511e9a-33d3-4c20-b44f-71a9cac003cd",
   "metadata": {},
   "source": [
    "# 문12) 힙정렬 코드 구현방법"
   ]
  },
  {
   "cell_type": "code",
   "execution_count": 48,
   "id": "c0e1a5b7-c622-484d-a59d-f9009709f59a",
   "metadata": {
    "tags": []
   },
   "outputs": [],
   "source": [
    "from typing import MutableSequence\n",
    "\n",
    "def heap_sort(a: MutableSequence) -> None:\n",
    "    \n",
    "    def down_heap(a: MutableSequence, left: int, right: int) -> None:\n",
    "        # a[left] ~ a[right]를 힙으로 만들기\n",
    "        # a[left] 이외에는 모두 힙상태라고 가정\n",
    "        \n",
    "            # 1단계의 경우\n",
    "                # left에는 마지막 원소부터 역방향 부모노드의 인덱스, \n",
    "                # right에는 배열 a의 마지막 인덱스\n",
    "        temp = a[left]   # temp는 1단계의 경우 마지막 원소부터 역방향 부모노드 참조\n",
    "        \n",
    "        parent = left    # parent는 1단계의 경우 마지막 원소부터 역방향 부모노드의 인덱스\n",
    "        \n",
    "        while parent < (right + 1) // 2: # 배열의 절반 앞에 있는 인덱스들은 모두 부모노드의 인덱스이므로\n",
    "                                 # right는 n-1, 따라서 parent < n // 2 의 의미는 부모노드의 인덱스만 보겠다는 것\n",
    "                                       # while문을 한번 돌면 마지막 parent = child에 의해서 \n",
    "                                       # \"부모노드\"와 바뀐 '자식노드'가 부모노드이기도 할 경우, \n",
    "                                       # '자식노드'의 자식노드와 값비교를 진행\n",
    "                                       # '자식노드'가 자신의 자식노드보다 크다면\n",
    "                                           # while 문 종료 후 a[parent] = temp \"부모노드\"의 값을 참조\n",
    "                                       # '자식노드'가 자신의 자식노드보다 작다면 교체                              \n",
    "                \n",
    "            cl = (parent*2) + 1  # 왼쪽 자식 노드의 인덱스를 cl이 참조\n",
    "            cr = cl + 1          # 오른쪽 자식 노드의 인덱스를 cr이 참조 \n",
    "            \n",
    "            child = cr if cr <= right and a[cr] > a[cl] else cl  # 두 자식노드중 큰값의 인덱스를 child가 참조\n",
    "            if temp >= a[child]: # 부모노드가 자식노드보다 크면 (바꿀 필요 없으면) while문 종료\n",
    "                break                  \n",
    "            a[parent] = a[child] # 부모노드가 자식노드보다 작으면, 배열에서 부모노드의 인덱스는 자식노드의 값을 참조\n",
    "            parent = child       # parent는 위에서 바꾼 자식노드의 인덱스를 참조\n",
    "                                   \n",
    "        a[parent] = temp # 부모노드가 자식노드보다 작은 경우, 위에서 부모노드의 인덱스는 자식노드의 값을 참조했으므로\n",
    "                         # 바뀐 자식노드는 최초 부모노드의 값을 참조 i.e. 부모노드와 자식노드의 값 스위치\n",
    "    n = len(a)\n",
    "# 아래 트리에서 3노드를 루트로 하는 서브트리에 다운힙 쓰는 과정을 생각해 볼 것   left:1  right:9 \n",
    "#                 1\n",
    "#            3        5\n",
    "#         8     10   2   4\n",
    "#       6   7  9\n",
    "    \n",
    "#  인덱스 0  1  2  3  4  5  6  7  8  9 \n",
    "#  배열a 1  3  5  8  10  2  4  6  7  9  \n",
    "    \n",
    "    # 최초 배열 a를 힙으로 만드는 1단계\n",
    "    for i in range((n-1) // 2, -1, -1):  # 가장 마지막 인덱스(n-1)에 있는 값은, 트리에서 가장 마지막 원소\n",
    "                                         # 즉 (n-1) // 2 은 마지막 원소의 부모노드\n",
    "                       # 따라서 위 for문은 가장 마지막 원소부터 루트까지, 부모노드들을 역방향 BFS 순으로 호출해 i에 할당\n",
    "\n",
    "        down_heap(a, i, n-1) # down_heap 함수의 left는 마지막 원소부터 역방향 부모노드, right는 배열 a의 마지막 인덱스(트리의 맨아래 오른쪽 끝 리프노드)\n",
    "                       \n",
    "    # 힙 정렬 2단계\n",
    "    for i in range(n-1, 0, -1):  # 마지막 인덱스부터 루트의 왼쪽 자식노드에 해당하는 인덱스까지 역순으로 i에 할당\n",
    "        a[0], a[i] = a[i], a[0]\n",
    "        down_heap(a, 0, i-1)"
   ]
  },
  {
   "cell_type": "code",
   "execution_count": 38,
   "id": "5f999b8d-da8c-497f-9323-8a461973c251",
   "metadata": {
    "tags": []
   },
   "outputs": [
    {
     "name": "stdout",
     "output_type": "stream",
     "text": [
      "4\n",
      "3\n",
      "2\n",
      "1\n",
      "0\n"
     ]
    }
   ],
   "source": [
    "for i in range( 9//2, -1, -1):\n",
    "    print(i)"
   ]
  },
  {
   "cell_type": "code",
   "execution_count": 39,
   "id": "53aece67-c0b5-4cbb-9d9d-27a2bbc73fbb",
   "metadata": {
    "tags": []
   },
   "outputs": [
    {
     "name": "stdout",
     "output_type": "stream",
     "text": [
      "9\n",
      "8\n",
      "7\n",
      "6\n",
      "5\n",
      "4\n",
      "3\n",
      "2\n",
      "1\n"
     ]
    }
   ],
   "source": [
    "for i in range(9, 0, -1):\n",
    "    print(i)"
   ]
  },
  {
   "cell_type": "code",
   "execution_count": 40,
   "id": "a363651f-5132-4dc5-be8f-c6292d4676ba",
   "metadata": {
    "tags": []
   },
   "outputs": [
    {
     "name": "stdin",
     "output_type": "stream",
     "text": [
      "원소 수를 입력하세요 :  10\n",
      "a[0]에 입력될 원소:  1\n",
      "a[1]에 입력될 원소:  3\n",
      "a[2]에 입력될 원소:  5\n",
      "a[3]에 입력될 원소:  7\n",
      "a[4]에 입력될 원소:  9\n",
      "a[5]에 입력될 원소:  2\n",
      "a[6]에 입력될 원소:  4\n",
      "a[7]에 입력될 원소:  6\n",
      "a[8]에 입력될 원소:  8\n",
      "a[9]에 입력될 원소:  10\n"
     ]
    }
   ],
   "source": [
    "num = int(input('원소 수를 입력하세요 : '))\n",
    "a = [None] * num\n",
    "\n",
    "for i in range(num):\n",
    "    a[i] = int(input(f'a[{i}]에 입력될 원소: '))"
   ]
  },
  {
   "cell_type": "code",
   "execution_count": 41,
   "id": "ac06e31b-8268-44f0-b6a5-db13c65f3fc6",
   "metadata": {
    "tags": []
   },
   "outputs": [
    {
     "data": {
      "text/plain": [
       "[1, 3, 5, 7, 9, 2, 4, 6, 8, 10]"
      ]
     },
     "execution_count": 41,
     "metadata": {},
     "output_type": "execute_result"
    }
   ],
   "source": [
    "a"
   ]
  },
  {
   "cell_type": "code",
   "execution_count": 49,
   "id": "3259681d-ca2f-4151-83cb-1954714b5281",
   "metadata": {
    "tags": []
   },
   "outputs": [],
   "source": [
    "heap_sort(a)"
   ]
  },
  {
   "cell_type": "code",
   "execution_count": 45,
   "id": "2caac5e3-54cb-4387-8de0-f2fbd7241084",
   "metadata": {
    "tags": []
   },
   "outputs": [
    {
     "data": {
      "text/plain": [
       "[1, 2, 3, 4, 5, 6, 7, 8, 9, 10]"
      ]
     },
     "execution_count": 45,
     "metadata": {},
     "output_type": "execute_result"
    }
   ],
   "source": [
    "a"
   ]
  },
  {
   "cell_type": "markdown",
   "id": "d070ffb3-eef5-4f9f-b4db-02ec9fbf2587",
   "metadata": {},
   "source": [
    "# 문13) 힙정렬의 시간복잡도\n",
    "n log n  \n",
    "\n",
    "다운힙 : log n  (이진검색과  비슷하다)  \n",
    "최대힙과 맨끝원소 교환 오름차순 정렬 : n\n"
   ]
  },
  {
   "cell_type": "markdown",
   "id": "d9ff6ead-64d5-45bd-aa15-e4150ad60ef6",
   "metadata": {},
   "source": [
    "# 문14) 우선순위 큐란? 파이썬에서 우선순위 큐 사용하는 방법"
   ]
  },
  {
   "cell_type": "markdown",
   "id": "eb349812-855e-47b1-b460-6fd032656cc8",
   "metadata": {
    "tags": []
   },
   "source": [
    "자료구조 책 169p\n",
    "**파알 27 우선순위 큐**\n",
    "\n",
    "#### 우선순위 큐 : \n",
    "\n",
    "    인큐는 데이터에 우선순위를 부여하여 추가\n",
    "    디큐는 우선순위가 높은 데이터를 꺼냄\n",
    "    \n",
    "heapq: 파이썬에서 우선순위 큐를 제공하는 모듈\n",
    "\n",
    "    heappush : 임의의 배열을 최소힙 구조로 만들어줌\n",
    "    heappop : 호출시 최소힙 구조 유지하면서 원소 push/pop"
   ]
  },
  {
   "cell_type": "code",
   "execution_count": 14,
   "id": "4bb25ba2-6422-4fe0-81e7-84e4c2d931cc",
   "metadata": {
    "tags": []
   },
   "outputs": [],
   "source": [
    "import heapq"
   ]
  },
  {
   "cell_type": "code",
   "execution_count": 17,
   "id": "ff43576e-0a05-456a-8501-aa5259b3437f",
   "metadata": {
    "tags": []
   },
   "outputs": [
    {
     "data": {
      "text/plain": [
       "[1, 3, 2, 6, 9, 5, 4, 7, 8, 10]"
      ]
     },
     "execution_count": 17,
     "metadata": {},
     "output_type": "execute_result"
    }
   ],
   "source": [
    "a = [1, 3, 5, 7, 9, 2, 4, 6, 8, 10]\n",
    "\n",
    "heap = []\n",
    "for i in a:\n",
    "    heapq.heappush(heap, i)\n",
    "    \n",
    "heap\n",
    "\n",
    "    #        1        최소힙\n",
    "    #     3      2\n",
    "    #  6     9\n",
    "    # 7 8  10"
   ]
  },
  {
   "cell_type": "code",
   "execution_count": null,
   "id": "8f4980d3-8365-443e-b9c6-31bf46951280",
   "metadata": {
    "tags": []
   },
   "outputs": [],
   "source": []
  },
  {
   "cell_type": "code",
   "execution_count": 18,
   "id": "2f6d826d-d167-4d6d-bf7b-e5703ee96a0c",
   "metadata": {
    "tags": []
   },
   "outputs": [
    {
     "data": {
      "text/plain": [
       "[2, 3, 4, 6, 9, 5, 10, 7, 8]"
      ]
     },
     "execution_count": 18,
     "metadata": {},
     "output_type": "execute_result"
    }
   ],
   "source": [
    "heapq.heappop(heap)\n",
    "heap\n",
    "    #        2        최소힙\n",
    "    #    3      4\n",
    "    #  6   9  5  10\n",
    "    # 7 8"
   ]
  },
  {
   "cell_type": "code",
   "execution_count": 10,
   "id": "2cadc19f-aef6-4810-b3b4-90276e9131db",
   "metadata": {
    "tags": []
   },
   "outputs": [
    {
     "data": {
      "text/plain": [
       "[3, 6, 4, 7, 9, 5, 10, 8]"
      ]
     },
     "execution_count": 10,
     "metadata": {},
     "output_type": "execute_result"
    }
   ],
   "source": [
    "heapq.heappop(heap)\n",
    "heap                  최소힙\n",
    "    #       3\n",
    "    #    6      4\n",
    "    #  7   9  5   10\n",
    "    # 8"
   ]
  },
  {
   "cell_type": "code",
   "execution_count": null,
   "id": "ba14b7d8-124a-46fb-80bd-9afe0029a74d",
   "metadata": {},
   "outputs": [],
   "source": []
  },
  {
   "cell_type": "markdown",
   "id": "15de9e28-9a60-4c9a-9b37-abeca4cf461e",
   "metadata": {},
   "source": [
    "# 문15) 파이썬 heapq모듈을 사용해서 힙정렬 구현하는 방법 "
   ]
  },
  {
   "cell_type": "code",
   "execution_count": 52,
   "id": "49df7b34-3bb3-498a-9db9-ecd1b7c6c5f6",
   "metadata": {
    "tags": []
   },
   "outputs": [],
   "source": [
    "import heapq\n",
    "from typing import MutableSequence\n",
    "\n",
    "def heapq_heap_sort(a: MutableSequence) -> None:\n",
    "    \n",
    "    heap = []  # 힙 구조대로 원소를 정렬시킬 리스트 초기화\n",
    "    for i in a:\n",
    "        heapq.heappush(heap, i)      # 배열 a를 힙으로 만든다. 파이썬의 heapq는 최소힙이다. i.e. 루트가 최소값\n",
    "    for i in range(len(a)):          \n",
    "        a[i] = heapq.heappop(heap)   # 힙에서 최소값(루트)을 빼서 a에 순서대로 넣는다. heap은 계속 최소힙 유지\n",
    "        \n",
    "    return a"
   ]
  },
  {
   "cell_type": "code",
   "execution_count": 53,
   "id": "ca792642-6756-49cd-a4d7-3c40aa713624",
   "metadata": {
    "tags": []
   },
   "outputs": [
    {
     "data": {
      "text/plain": [
       "[1, 2, 3, 4, 5, 6, 7, 8, 9, 10]"
      ]
     },
     "execution_count": 53,
     "metadata": {},
     "output_type": "execute_result"
    }
   ],
   "source": [
    "heapq_heap_sort([1, 3, 5, 7, 9, 2, 4, 6, 8, 10])"
   ]
  },
  {
   "cell_type": "code",
   "execution_count": null,
   "id": "5dbe2b50-1f0a-42be-9b05-6f08c0e660ee",
   "metadata": {},
   "outputs": [],
   "source": []
  }
 ],
 "metadata": {
  "kernelspec": {
   "display_name": "Python 3 (ipykernel)",
   "language": "python",
   "name": "python3"
  },
  "language_info": {
   "codemirror_mode": {
    "name": "ipython",
    "version": 3
   },
   "file_extension": ".py",
   "mimetype": "text/x-python",
   "name": "python",
   "nbconvert_exporter": "python",
   "pygments_lexer": "ipython3",
   "version": "3.11.0"
  }
 },
 "nbformat": 4,
 "nbformat_minor": 5
}
