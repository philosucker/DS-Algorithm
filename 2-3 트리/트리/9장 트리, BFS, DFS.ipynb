{
 "cells": [
  {
   "cell_type": "markdown",
   "id": "fe6a2c1a-4488-4331-a310-4cee9158b3a6",
   "metadata": {},
   "source": [
    "# 9장 트리"
   ]
  },
  {
   "cell_type": "markdown",
   "id": "3857872e-c599-4b0a-9d12-f1f419b54838",
   "metadata": {},
   "source": [
    "#### 리스트 : 순서를 매긴 데이터를 나열하는 자료구조"
   ]
  },
  {
   "cell_type": "markdown",
   "id": "7e7350c1-8b76-4628-b9a1-bf0c60cdbdd7",
   "metadata": {
    "tags": []
   },
   "source": [
    "# 문1) 트리란? 다음 개념들을 설명하라 \n",
    "\n",
    "    노드, 가지(edge), \n",
    "    루트, 리프, 터미널, 부모, 자식, 형제\n",
    "    차수(degree)\n",
    "    n진 트리\n",
    "    조상 \n",
    "    자손 \n",
    "    레벨 \n",
    "    높이 \n",
    "    서브트리 \n",
    "    순서트리\n",
    "    무순서트리 "
   ]
  },
  {
   "cell_type": "markdown",
   "id": "6f2d9108-d305-4f06-a8c8-4d873ad81d63",
   "metadata": {},
   "source": [
    "트리 : 데이터 사이의 계층관계를 표현하는 자료구조\n",
    "\n",
    "    노드, 가지(edge), \n",
    "    루트, 리프, 터미널, 부모, 자식, 형제: 부모가 같은 노드 \n",
    "    차수(degree): 노드가 가지는 자식의 수\n",
    "    n진 트리 (m-ary 트리, 다항 트리, 다진 트리) : 노드의 차수가 n이하인 트리\n",
    "    조상 : 어떤 노드에서 위쪽으로 가지를 따라가면 만나는 모든 노드\n",
    "    자손 : 어떤 노드에서 아래쪽으로 가지를 따라가면 만나는 모든 노드 \n",
    "    레벨 : 루트에서 떨어진 정도 \n",
    "    높이 : 리프 레벨의 최대값 \n",
    "    서브트리 : 어떤 노드를 루트로 하고 그 자손으로 구성된 트리\n",
    "    순서트리 : 형제 노드의 순서관계가 있는 트기\n",
    "    무순서트리 : 형제노드의 순서관계가 없는 트리"
   ]
  },
  {
   "cell_type": "markdown",
   "id": "418ddc6e-a242-42ae-9078-5681a9e2eb32",
   "metadata": {},
   "source": [
    "# 문2) 순서트리의 노드를 스캔하는 방법\n",
    "                 \n",
    "                   A\n",
    "                /    \\\n",
    "              B       C\n",
    "            /  \\     /  \\\n",
    "           D   E    F    G\n",
    "          /   / \\  / \\   \n",
    "         H   I  J K  L"
   ]
  },
  {
   "cell_type": "markdown",
   "id": "256a1e1c-3768-41a6-805f-fdbabec6568a",
   "metadata": {},
   "source": [
    "BFS: \n",
    "\n",
    "    루트에서 시작해 왼쪽에서 오른쪽으로 검색\n",
    "    다음 레벨에서 다시 왼쪽에서 오른쪽으로\n",
    "    리프 레벨까지 반복\n",
    "    A B C D E F G H I J k L\n",
    "\n",
    "DFS: \n",
    "    \n",
    "**전위**순회 **pre**order  : **(부모)노드방문** -> 왼쪽자식 -> 오른쪽자식  \n",
    "    \n",
    "    A B D H E I J C F K L G\n",
    "    \n",
    "**중위**순회 **in**order   : 왼쪽자식 -> **(부모)노드방문** -> 오른쪽자식  \n",
    "\n",
    "    H D B I E J A K F L C G\n",
    "    \n",
    "**후위**순회 **post**order : 왼쪽자식 -> 오른쪽자식 -> **(부모)노드방문**  \n",
    "    \n",
    "    H D I J E B K L F G C A"
   ]
  },
  {
   "cell_type": "markdown",
   "id": "62deccb4-069f-4136-9058-e758b9cea173",
   "metadata": {},
   "source": [
    "BFS, DFS 파알 12장 그래프 참고"
   ]
  },
  {
   "cell_type": "markdown",
   "id": "92106e99-d790-4f7b-89f6-d4397b3ee9b6",
   "metadata": {},
   "source": [
    "# 문3) 이진트리란? 이진트리에서 왼쪽 서브트리, 오른쪽 서브트리란?\n",
    "차수가 2 이하인 트리  \n",
    "  \n",
    "왼쪽 서브트리 : 어떤 부모노드 기준에서 봤을 때 왼쪽 자식의 모든 자손  \n",
    "오른쪽 서브트리 : 어떤 부모노드 기준에서 봤을 때, 오른쪽 자식의 모든 자손"
   ]
  },
  {
   "cell_type": "markdown",
   "id": "d4116fe6-6566-4e6c-bec0-fa33005e2b91",
   "metadata": {},
   "source": [
    "# 문4) 완전 이진트리란?\n",
    "모든 레벨에 노드가 꽉찬 이진트리  \n",
    "단 마지막 레벨은 왼쪽부터 오른쪽으로 차있되 끝까지 차있지 않아도 된다"
   ]
  },
  {
   "cell_type": "code",
   "execution_count": null,
   "id": "8e210e7c-c4ce-4b76-bf24-1e560e3758fa",
   "metadata": {},
   "outputs": [],
   "source": []
  },
  {
   "cell_type": "markdown",
   "id": "ef3580d7-a202-439b-8206-3f3b7838bc45",
   "metadata": {},
   "source": [
    "# 문5) 이진검색트리란?\n",
    "\n",
    "    완전이진트리에서 모든 노드가 다음 조건을 만족하는 트리\n",
    "    왼쪽 서브트리는 부모노드보다 값이 작다\n",
    "    오른쪽 서브트리는 부모노드보다 값이 작다\n",
    "    \n",
    "    따라서 이진검색트리는 순서트리이고, 중복값이 없다\n",
    "    \n",
    "    이진검색트리는 중위순회 DFS로 스캔하면\n",
    "    모든 노드의 값을 오름차순으로 얻을 수 있다"
   ]
  },
  {
   "cell_type": "markdown",
   "id": "2df8db91-ae3d-4660-952e-17650853026c",
   "metadata": {},
   "source": [
    "# 문6) 이진 검색 트리 구현 방법"
   ]
  },
  {
   "cell_type": "code",
   "execution_count": 4,
   "id": "dcdd753d",
   "metadata": {
    "tags": []
   },
   "outputs": [],
   "source": [
    "from __future__ import annotations\n",
    "from typing import Any, Type\n",
    "\n",
    "\n",
    "class Node:\n",
    "    \n",
    "    \n",
    "    def __init__(self, \n",
    "                 key: Any, \n",
    "                 value: Any, \n",
    "                 left: Node = None, \n",
    "                 right: Node = None,\n",
    "                ) -> None:\n",
    "        \n",
    "        self.key = key       # 이진검색트리는 각 노드의 위치를 나타내는 값에 규칙이 있다.\n",
    "                             # 왼쪽서브트리의 모든 노드는 부모노드보다 작고, 오른쪽 서브트리는 크고, 중복되는 값이 없고\n",
    "                             # 따라서 노드의 위치를 나타내는 값을 key 변수로 잡아 이진검색트리 자료구조를 만들 수 있다.\n",
    "        self.value = value\n",
    "        self.left = left     # 왼쪽 포인터 (왼쪽 자식노드에 대한 참조)\n",
    "        self.right = right   # 오른쪽 포인터 (오른쪽 자식노드에 대한 참조)\n",
    "\n",
    "\n",
    "class Binary_search_tree:\n",
    "    \n",
    "    \n",
    "    def __init__(self):\n",
    "        \n",
    "        self.root = None  # 이진 검색 트리 클래스의 유일한 필드는 \n",
    "                          # 루트에 대한 참조를 유지하는 self.root 이다.\n",
    "            \n",
    "    def search(self, key: Any) -> Any:  \n",
    "        '''키가 key인 노드를 찾아 그 노드에 저장된 데이터를 반환하는 함수'''\n",
    "        p = self.root    # 현재 주목하는 노드를 p가 참조, 루트에서 시작\n",
    "        while True:\n",
    "            if p is None:  # 리프노드를 만나면\n",
    "                return None\n",
    "            if key == p.key:  # 검색하려는 값을 찾으면\n",
    "                return p.value\n",
    "            elif key < p.key: # 검색하려는 값 key 값이 현재 노드의 key보다 작으면\n",
    "                p = p.left    # 왼쪽 서브트리에서 검색\n",
    "            else:             # 크면\n",
    "                p = p.right   # 오른쪽 서브트리에서 검색\n",
    "    \n",
    "    def add(self, key: Any, value: Any) -> bool:  \n",
    "        '''키가 key이고 값이 value인 노드를 삽입하는 함수'''\n",
    "        def add_node(node: Node, key: Any, value: Any) -> None:  # 파라미터 node는 self.root 또는 그 자손을 받는다.\n",
    "            \n",
    "            if key == node.key:\n",
    "                return False                           # key가 루트와 같으면 add 실패\n",
    "            elif key < node.key:                          # key가 루트보다 작고\n",
    "                if node.left is None:                         # 루트에 왼쪽 자식이 없으면 \n",
    "                    node.left = Node(key, value, None, None)    # 루트의 왼쪽 포인터는 새로 추가되는 노드 참조\n",
    "                else:                                         # 루트에 왼쪽 자식이 있으면\n",
    "                    add_node(node.left, key, value)           # add_node 재귀호출, 파라미터 node는 루트의 왼쪽 자식을 받는다\n",
    "            else:                                         # key가 루트보다 크고\n",
    "                if node.right is None:                        # 루트에 오른쪽 자식이 없으면\n",
    "                    node.right = Node(key, value, None, None)   # 루트의 오른쪽 포인터는 새로 추가되는 노드 참조\n",
    "                else:                                         # 루트에 오른쪽 자식이 있으면\n",
    "                    add_node(node.right, key, value)          # add_node 재귀호출, 파라미터 node는 루트의 오른쪽 자식을 받는다\n",
    "            return True\n",
    "        \n",
    "        if self.root is None:                         # 루트가 없으면 add 함수는 루트를 만든다.\n",
    "            self.root = Node(key, value, None, None)\n",
    "            return True\n",
    "        else:                                         # 루트가 있으면 add_node 재귀호출, 파라미터 node는 루트를 받는다\n",
    "            return add_node(self.root, key, value)\n",
    "        \n",
    "    def remove(self, key: Any) -> bool:\n",
    "        \n",
    "        p = self.root         # 현재 주목하는 노드를 p가 참조, 루트노드부터 시작\n",
    "        parent = None         # 현재 주목하는 노드의 부모노드를 parent가 참조\n",
    "        is_left_child = True  # 현재 주목하는 노드가 부모노드의 왼쪽자식인지 확인\n",
    "        \n",
    "        # 삭제하려는 노드 검색\n",
    "        while True:\n",
    "            if p is None:     # 트리가 비었거나, 삭제하려는 노드가 트리에 없으면\n",
    "                return False\n",
    "            if key == p.key:  # 삭제하려는 노드를 발견하면 탈출\n",
    "                break\n",
    "            else:\n",
    "                parent = p   # 현재 주목하는 노드가 삭제하려는 노드가 아니면, parent가 현재 주목하는 노드를 참조하게 하고\n",
    "                if key < p.key: # 삭제하려는 노드가 현재 주목하는 노드보다 작으면\n",
    "                    is_left_child = True\n",
    "                    p = p.left # 왼쪽 서브트리에서 검색  i.e. 왼쪽으로 한 레벨 내려간다\n",
    "                else:           # 크면\n",
    "                    is_left_child = False\n",
    "                    p = p.right # 오른쪽 서브트리에서 검색  i.e. 오른쪽으로 한 레벨 내려간다 \n",
    "        \n",
    "        # 삭제하려는 노드에게는 자식노드가 없거나, 왼쪽자식 또는 오른쪽 자식만 있는 3가지 경우가 있다 \n",
    "        # 삭제하려는 노드의 왼쪽 또는 오른쪽에 자식노드가 1개 있는 경우만 따져도, 자식노드가 하나도 없는 경우를 포함할 수 있다. \n",
    "        # 삭제하려는 노드에게 자식노드가 없다면 p.left, p.right 다 None일테니까.  \n",
    "        if p.left is None: # 삭제하려는 노드 왼쪽에 서브트리가 없을 때, 오른쪽 자식만 있을 때\n",
    "            if p is self.root:   # 삭제하려는 노드가 루트였다면\n",
    "                self.root = p.right  # self.root가 p.right를 참조 i.e. 루트노드를 삭제하고 p.right가 루트노드가 됨\n",
    "            elif is_left_child:   # 왼쪽으로 내려왔던 거라면 i.e. 왼쪽 서브트리를 탄 거라면 \n",
    "                parent.left = p.right # 삭제하려는 노드의 부모노드의 왼쪽 포인터가 삭제하려는 노드의 오른쪽 자식을 가리키게\n",
    "            else:                 # 오른쪽으로 내려왔던 거라면 i.e. 오른쪽 서브트리를 탄 거라면\n",
    "                parent.right = p.right # 삭제하려는 노드의 부모노드의 오른쪽 포인터가 삭제하려는 노드의 오른쪽 자식을 가리키게\n",
    "        \n",
    "        elif p.right is None: # 삭제하려는 노드 오른쪽에 서브트리가 없을 때, 왼쪽 자식만 있을 때\n",
    "            if p is self.root:\n",
    "                self.root = p.left\n",
    "            elif is_left_child:\n",
    "                parent.left = p.left\n",
    "            else:\n",
    "                parent.right = p.left\n",
    "        \n",
    "        # 삭제하려는 노드에게 자식노드가 왼쪽, 오른쪽 둘 다 있는 경우 : \n",
    "          # 삭제하려는 노드의 왼쪽 서브트리에서 가장 큰값X를 삭제하려는 노드에 대입하고, X이하를 정리해야한다.\n",
    "        else: \n",
    "            parent = p  # 왼쪽으로 내려왔다면, 한 레벨 왼쪽으로 내려온 p를 parent가 참조\n",
    "                        # 오른쪽으로 내려왔다면, 한 레벨 오른쪽으로 내려온 p를 parent가 참조\n",
    "            left = p.left  # p의 왼쪽 서브트리의 루트, 즉 p.left를 left가 참조\n",
    "            is_left_child = True\n",
    "            while left.right is not None: # p의 왼쪽 서브트리의 루트의 오른쪽 자식 노드가 있다면 \n",
    "                parent = left  # parent는 p의 왼쪽 서브트리의 루트를 참조\n",
    "                left = left.right # left는 p의 왼쪽 서브트리의 루트의 오른쪽 자식 노드를 참조\n",
    "                                  # 이런식으로 p의 왼쪽 서브트리의 루트의 오른쪽으로만 계속 내려갔을 때\n",
    "                                  # 오른쪽 자식노드의 오른쪽 자식노드가 없다면 while문 탈출\n",
    "                is_left_child = False\n",
    "            \n",
    "            p.key = left.key  # 삭제하려는 노드의 키, 즉 p.key가 위 while문에서 찾은 최종오른쪽 자식노드의 key를 참조\n",
    "                              # i.e. p의 기존 key값을 p의 왼쪽 서브트리에서 가장 큰 값으로 대체\n",
    "                              # p의 왼쪽 서브트리의 루트에게 오른쪽 자식노드가 없었다면 i.e. while문에 들어가지 않았다면\n",
    "                              # p의 왼쪽 서브트리의 루트의 key를 p의 key로 대체\n",
    "            p.value = left.value # value도 복제\n",
    "            if is_left_child: # p의 왼쪽 서브트리의 루트에게 오른쪽 자식노드가 없었다면\n",
    "                parent.left = left.left  # p의 값은 그 왼쪽 자식노드로 바꼈으므로 \n",
    "                                         # p의 left는 p의 왼쪽 자식노드의 왼쪽 자식노드를 참조하게 한다\n",
    "                                         # i.e. 이 부분이 p를 삭제하는 부분\n",
    "            else:  # p의 왼쪽 서브트리의 루트의 오른쪽 자식 노드가 있었고, 값 대체까지 끝났다면\n",
    "                parent.right = left.left  # p의 왼쪽 서브트리의 루트의 오른쪽 자식노드는 \n",
    "                                          # 위 while문에서 찾은 최종 오른쪽 자식노드의 왼쪽 노드를 참조\n",
    "            return True\n",
    "    \n",
    "\n",
    "    def dump(self) -> None:     # 모든 노드를 오름차순으로 출력하는 dump() 함수\n",
    "        \n",
    "        def print_subtree(node: Node): # node를 루트로 하는 서브트리의 노드를 키의 오름차순으로 출력\n",
    "            \n",
    "            if node is not None: # 중위순회 DFS 출력, node가 None이면 아무것도 하지 않고 원래 호출한 곳으로 돌아간다\n",
    "                print_subtree(node.left) # node.left를 루트로 하는 서브트리의 노드를 키의 오름차순으로 출력\n",
    "                print(f'{node.key} {node.value}') # node의 키 \n",
    "                print_subtree(node.right) # node.right를 루트로 하는 서브트리의 노드를 키의 오름차순으로 출력\n",
    "                \n",
    "        print_subtree(self.root)\n",
    "    \n",
    "    def min_key(self) -> Any:\n",
    "        \n",
    "        if self.root is None:\n",
    "            return None\n",
    "        p = self.root\n",
    "        while p.left is not None:\n",
    "            p = p.left\n",
    "            \n",
    "        return p.key\n",
    "    \n",
    "    def max_key(self) -> Any:\n",
    "        \n",
    "        if self.root is None:\n",
    "            return None\n",
    "        p = self.root\n",
    "        while p.right is not None:\n",
    "            p = p.right\n",
    "        return p.key\n",
    "    \n",
    "    def dump_reverse(self) -> None: # 모든 노드를 내림차순으로 출력하는 함수\n",
    "        \n",
    "        def print_subtree(node: Node):\n",
    "            \n",
    "            if node is not None:\n",
    "                print_subtree(node.right)\n",
    "                print(f'{node.key} {node.value}')\n",
    "                print_subtree(node.left)\n",
    "                \n",
    "        print_subtree(self.root)"
   ]
  },
  {
   "cell_type": "code",
   "execution_count": 5,
   "id": "d49b44d1-613d-405a-82de-8748932e4086",
   "metadata": {
    "tags": []
   },
   "outputs": [],
   "source": [
    "tree = Binary_search_tree()"
   ]
  },
  {
   "cell_type": "code",
   "execution_count": 6,
   "id": "7efa79d5-c14f-44fc-9daf-2e1d6441bbc1",
   "metadata": {
    "tags": []
   },
   "outputs": [
    {
     "data": {
      "text/plain": [
       "True"
      ]
     },
     "execution_count": 6,
     "metadata": {},
     "output_type": "execute_result"
    }
   ],
   "source": [
    "tree.add(1, 1)"
   ]
  },
  {
   "cell_type": "code",
   "execution_count": 7,
   "id": "71014ae3-e239-452f-889c-f39d15f9a50b",
   "metadata": {
    "tags": []
   },
   "outputs": [
    {
     "data": {
      "text/plain": [
       "True"
      ]
     },
     "execution_count": 7,
     "metadata": {},
     "output_type": "execute_result"
    }
   ],
   "source": [
    "tree.add(2, 2)"
   ]
  },
  {
   "cell_type": "code",
   "execution_count": 8,
   "id": "8389cf10-2be6-4223-a76f-0d17e4ba7dff",
   "metadata": {
    "tags": []
   },
   "outputs": [
    {
     "data": {
      "text/plain": [
       "True"
      ]
     },
     "execution_count": 8,
     "metadata": {},
     "output_type": "execute_result"
    }
   ],
   "source": [
    "tree.add(3, 3)"
   ]
  },
  {
   "cell_type": "code",
   "execution_count": 10,
   "id": "99d73c87-ab0b-48c5-9ef7-d678e9012c57",
   "metadata": {
    "tags": []
   },
   "outputs": [
    {
     "name": "stdout",
     "output_type": "stream",
     "text": [
      "1 1\n",
      "2 2\n",
      "3 3\n"
     ]
    }
   ],
   "source": [
    "tree.dump()"
   ]
  },
  {
   "cell_type": "code",
   "execution_count": null,
   "id": "b3cc8084-82b0-411b-8065-4f7d7a21c7e6",
   "metadata": {},
   "outputs": [],
   "source": []
  }
 ],
 "metadata": {
  "kernelspec": {
   "display_name": "Python 3 (ipykernel)",
   "language": "python",
   "name": "python3"
  },
  "language_info": {
   "codemirror_mode": {
    "name": "ipython",
    "version": 3
   },
   "file_extension": ".py",
   "mimetype": "text/x-python",
   "name": "python",
   "nbconvert_exporter": "python",
   "pygments_lexer": "ipython3",
   "version": "3.11.0"
  }
 },
 "nbformat": 4,
 "nbformat_minor": 5
}
