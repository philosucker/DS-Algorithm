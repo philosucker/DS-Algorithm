{
 "cells": [
  {
   "cell_type": "markdown",
   "id": "dff82e96-4ef3-4fff-ac0d-77f8144b9b8d",
   "metadata": {},
   "source": [
    "### e: 82\n",
    "### m: 78, 79, 80, 81"
   ]
  },
  {
   "cell_type": "markdown",
   "id": "6a302e5e-e66f-4abd-91b2-b33e1a2f70e9",
   "metadata": {},
   "source": [
    "### 그리디 문제의 대부분은 우선순위큐를 활용해 풀이한다\n",
    "79m 참고"
   ]
  },
  {
   "cell_type": "markdown",
   "id": "5991f0f5-6253-4d2a-a096-fc592fd58f58",
   "metadata": {},
   "source": [
    "# 배낭문제 knapsack problem"
   ]
  },
  {
   "cell_type": "markdown",
   "id": "e6383e68-243b-4dfd-9ad0-a55477692267",
   "metadata": {},
   "source": [
    "배낭에 짐들을 넣어야 한다.  \n",
    "각 짐에는 가치(kg당 단가)를 매길 수 있는 물건들이 들어 있다.\n",
    "\n",
    "    A짐 : 12kg, 4$\n",
    "    \n",
    "    B짐 : 1kg, 2$\n",
    "    \n",
    "    C짐 : 4kg, 10$\n",
    "    \n",
    "    D짐 : 1kg, 1$\n",
    "    \n",
    "    E짐 : 2kg, 2$\n",
    "\n",
    "    베낭에는 최대 15kg의 짐이 담길 수 있다.\n",
    "\n",
    "    베낭에 짐을 넣을 때, 짐들의 가치가 최대가 되도록 넣으려면 어떤 짐들을 넣어야 하는가?\n",
    "    \n",
    "\n",
    "# 짐을 쪼갤 수 있는 경우 : **그리디**\n",
    "\n",
    "    kg당 단가를 계산해서 단가가 가장 높은 짐들을 먼저 넣고, \n",
    "    남은 베낭의 용량엔 남은 짐 중 단가가 높은 짐을 쪼개서 채운다."
   ]
  },
  {
   "cell_type": "markdown",
   "id": "742e4dd0-9a3e-4777-85ab-26350e12caec",
   "metadata": {},
   "source": [
    "#### 그리디 풀이"
   ]
  },
  {
   "cell_type": "code",
   "execution_count": 31,
   "id": "8fbec60a-0103-4cde-9c68-7e7e24a3eaa3",
   "metadata": {
    "tags": []
   },
   "outputs": [
    {
     "data": {
      "text/plain": [
       "deque([(2.5, 10, 4),\n",
       "       (2.0, 2, 1),\n",
       "       (1.0, 2, 2),\n",
       "       (1.0, 1, 1),\n",
       "       (0.3333333333333333, 4, 12)])"
      ]
     },
     "execution_count": 31,
     "metadata": {},
     "output_type": "execute_result"
    }
   ],
   "source": [
    "import collections\n",
    "\n",
    "cargo = [(4, 12), (2, 1), (10, 4), (1, 1), (2, 2)] #  ($, kg)\n",
    "\n",
    "value = []\n",
    "\n",
    "for t in cargo:\n",
    "    v = (t[0] / t[1], t[0], t[1])\n",
    "    value.append(v)\n",
    "    \n",
    "val = collections.deque(sorted(value, reverse=True))  # 단가순 정렬\n",
    "val"
   ]
  },
  {
   "cell_type": "code",
   "execution_count": 46,
   "id": "0c013e5f-8da0-4fd2-98cf-41d9cef5ffa6",
   "metadata": {
    "tags": []
   },
   "outputs": [],
   "source": [
    "import copy\n",
    "\n",
    "capa = 15\n",
    "total_value = 0\n",
    "val_copied = copy.deepcopy(val)\n",
    "\n",
    "for v in range(len(val)):\n",
    "    if capa > val[v][2]:      # 각 짐은 한 개씩만 베낭에 넣을 수 있고, 짐을 쪼갤 수 없는 경우\n",
    "        capa = capa - val[v][2]\n",
    "        total_value += val[v][1]\n",
    "        val_copied.popleft()\n",
    "    else:                     # 각 짐은 한 개씩만 베낭에 넣을 수 있고, 짐을 쪼갤 수 있는 경우 \n",
    "        total_value += (capa * val_copied[0][1]) / val_copied[0][2]\n",
    "        break"
   ]
  },
  {
   "cell_type": "code",
   "execution_count": 47,
   "id": "683e1fe9-a0a6-4839-9520-e169e511cacf",
   "metadata": {
    "tags": []
   },
   "outputs": [
    {
     "data": {
      "text/plain": [
       "deque([(0.3333333333333333, 4, 12)])"
      ]
     },
     "execution_count": 47,
     "metadata": {},
     "output_type": "execute_result"
    }
   ],
   "source": [
    "val_copied"
   ]
  },
  {
   "cell_type": "code",
   "execution_count": 48,
   "id": "80339453-44d3-4b0a-94d3-e4ce9e3c5256",
   "metadata": {
    "tags": []
   },
   "outputs": [
    {
     "data": {
      "text/plain": [
       "7"
      ]
     },
     "execution_count": 48,
     "metadata": {},
     "output_type": "execute_result"
    }
   ],
   "source": [
    "capa"
   ]
  },
  {
   "cell_type": "code",
   "execution_count": 49,
   "id": "8f1aca4e-d59b-4c18-aa1e-875fdf630ebf",
   "metadata": {
    "tags": []
   },
   "outputs": [
    {
     "data": {
      "text/plain": [
       "17.333333333333332"
      ]
     },
     "execution_count": 49,
     "metadata": {},
     "output_type": "execute_result"
    }
   ],
   "source": [
    "total_value"
   ]
  },
  {
   "cell_type": "markdown",
   "id": "b54483f6-1f0e-4a60-a013-7d7eb83c2840",
   "metadata": {},
   "source": [
    "# 짐을 쪼갤 수 없는 경우 : **DP**\n",
    "파알 23장 DP 참고"
   ]
  },
  {
   "cell_type": "markdown",
   "id": "7d4738c7-f1da-4812-867a-e6659dafb87d",
   "metadata": {
    "tags": []
   },
   "source": [
    "    보석함A : 5kg, 50$\n",
    "\n",
    "    보석함B : 10kg, 60$\n",
    "\n",
    "    보석함C : 20kg, 140$\n",
    "\n",
    "배낭에 담을 수 있는 총 무게는 30kg이다.\n",
    "\n",
    "    가장 큰 가치가 되도록 보석함을 베낭에 넣으려면 어떤 보석함들을 넣어야 하는가?\n",
    "\n",
    "**이 문제는 그리디로 풀리지 않는다.**\n",
    "\n",
    "    그리디로 푼다면 각 단가는 \n",
    "\n",
    "    보석함A : 5kg, 50$, 10$/kg\n",
    "\n",
    "    보석함B : 10kg, 60$, 6$/kg\n",
    "\n",
    "    보석함C : 20kg, 140$, 7$/kg\n",
    "\n",
    "        그리디로 풀면 단가가 높은 순서대로\n",
    "        (짐을 1kg기준으로 쪼갰을 때 가장 높은 가치를 가진 짐) \n",
    "        A와 C 2개를 담게 되고 이 경우 190$\n",
    "        \n",
    "        그러나 보석함은 쪼갤 수 없고 하나씩만 담아야 하므로 B와 C를 담으면 200$ 어치를 담을 수 있다.\n",
    "\n"
   ]
  },
  {
   "cell_type": "markdown",
   "id": "91f5256c-238d-4e60-a3b6-764ef57fb0cc",
   "metadata": {},
   "source": [
    "### 임의의 자연수 N이 주어졌을 때 이를 소인수분해하는 알고리즘도  \n",
    "### 그리디 알고리즘의 한 예라고 볼 수 있다"
   ]
  },
  {
   "cell_type": "code",
   "execution_count": 3,
   "id": "b50e4831-a3c6-4f42-ba3e-f67dfd0e508e",
   "metadata": {
    "tags": []
   },
   "outputs": [
    {
     "data": {
      "text/plain": [
       "[97, 103]"
      ]
     },
     "execution_count": 3,
     "metadata": {},
     "output_type": "execute_result"
    }
   ],
   "source": [
    "def prime_factorizer(N):\n",
    "    prime_number = []\n",
    "    for n in range(2, int(N**0.5)+1):\n",
    "        if N <= 1:\n",
    "            return 1\n",
    "        while N % n == 0:\n",
    "            prime_number.append(n)\n",
    "            N = N // n\n",
    "    if N != 0:\n",
    "        prime_number.append(N)\n",
    "    return prime_number\n",
    "prime_factorizer(9991)"
   ]
  },
  {
   "cell_type": "markdown",
   "id": "e8405b2c-0e85-498a-ba34-f859aeccd9b6",
   "metadata": {
    "tags": []
   },
   "source": [
    "# 문82 쿠키부여 e\n",
    "https://leetcode.com/problems/assign-cookies"
   ]
  },
  {
   "cell_type": "code",
   "execution_count": null,
   "id": "a047b5eb-2a58-46f6-a985-ffdc7e39fe35",
   "metadata": {},
   "outputs": [],
   "source": [
    "Assume you are an awesome parent and want to give your children some cookies. \n",
    "But, you should give each child at most one cookie.\n",
    "\n",
    "Each child i has a greed factor g[i], \n",
    "which is the minimum size of a cookie \n",
    "that the child will be content with; and each cookie j has a size s[j].\n",
    "\n",
    "If s[j] >= g[i], we can assign the cookie j to the child i, \n",
    "and the child i will be content. \n",
    "\n",
    "Your goal is to maximize the number of your content children \n",
    "and output the maximum number.\n",
    "\n",
    "Example 1:\n",
    "\n",
    "Input: g = [1,2,3], s = [1,1]\n",
    "Output: 1\n",
    "\n",
    "Explanation: You have 3 children and 2 cookies. \n",
    "The greed factors of 3 children are 1, 2, 3. \n",
    "And even though you have 2 cookies, since their size is both 1, \n",
    "you could only make the child whose greed factor is 1 content.\n",
    "You need to output 1.\n",
    "\n",
    "class Solution:\n",
    "    def findContentChildren(self, g: List[int], s: List[int]) -> int:\n",
    "        "
   ]
  },
  {
   "cell_type": "markdown",
   "id": "c2e70aa5-9e6f-43d4-9747-e408cb58eee2",
   "metadata": {},
   "source": [
    "### 내 풀이"
   ]
  },
  {
   "cell_type": "code",
   "execution_count": null,
   "id": "2eac44ca-d9c7-4309-9967-ea46cf6e620c",
   "metadata": {},
   "outputs": [],
   "source": [
    "class Solution:\n",
    "    def findContentChildren(self, g: List[int], s: List[int]) -> int:\n",
    "        g.sort()\n",
    "        s.sort()\n",
    "        sp = 0\n",
    "        gp = 0\n",
    "        cnt = 0\n",
    "        while gp < len(g) and sp < len(s):\n",
    "            if s[sp] >= g[gp]:\n",
    "                gp += 1\n",
    "                sp += 1\n",
    "                cnt += 1\n",
    "            else:\n",
    "                sp += 1\n",
    "                \n",
    "        return cnt"
   ]
  },
  {
   "cell_type": "markdown",
   "id": "98a8ddd0-37b2-47ee-9361-3260869a4799",
   "metadata": {},
   "source": [
    "### chatGPT 지적"
   ]
  },
  {
   "cell_type": "markdown",
   "id": "436f5b20-adac-46cc-ae7a-247720f4220f",
   "metadata": {},
   "source": [
    "불필요한 변수 제거: cnt 변수는 gp 변수의 역할도 겸하므로, 굳이 별도로 카운트할 필요가 없습니다.   \n",
    "gp가 결국 만족하는 아이들의 수를 나타내기 때문입니다.  \n",
    "바로 gp를 리턴해도 된다  "
   ]
  },
  {
   "cell_type": "markdown",
   "id": "95029388-9dca-452a-a697-5425dbb79cd1",
   "metadata": {},
   "source": [
    "# 문78 주식을 사고 팔기 가장 좋은 시점II m\n",
    "https://leetcode.com/problems/best-time-to-buy-and-sell-stock-ii"
   ]
  },
  {
   "cell_type": "code",
   "execution_count": null,
   "id": "502dfcda-15f5-42a0-9778-d68a406b22c0",
   "metadata": {},
   "outputs": [],
   "source": [
    "You are given an integer array prices \n",
    "where prices[i] is the price of a given stock on the ith day.\n",
    "\n",
    "On each day, you may decide to buy and/or sell the stock. \n",
    "You can only hold at most one share of the stock at any time. \n",
    "However, you can buy it then immediately sell it on the same day.\n",
    "\n",
    "Find and return the maximum profit you can achieve.\n",
    "\n",
    "Example 1:\n",
    "\n",
    "Input: prices = [7,1,5,3,6,4]\n",
    "Output: 7\n",
    "Explanation: Buy on day 2 (price = 1) and sell on day 3 (price = 5), profit = 5-1 = 4.\n",
    "Then buy on day 4 (price = 3) and sell on day 5 (price = 6), profit = 6-3 = 3.\n",
    "Total profit is 4 + 3 = 7.\n",
    "\n",
    "\n",
    "Example 2:\n",
    "\n",
    "Input: prices = [1,2,3,4,5]\n",
    "Output: 4\n",
    "Explanation: Buy on day 1 (price = 1) and sell on day 5 (price = 5), profit = 5-1 = 4.\n",
    "Total profit is 4."
   ]
  },
  {
   "cell_type": "markdown",
   "id": "9706d482-2ecf-405c-bd5d-1b61e1bfb026",
   "metadata": {},
   "source": [
    "### 내 풀이"
   ]
  },
  {
   "cell_type": "code",
   "execution_count": 8,
   "id": "95cb6f6e-cd29-49c1-b0c8-1e6a79eb5956",
   "metadata": {},
   "outputs": [],
   "source": [
    "from typing import List\n",
    "\n",
    "class Solution:\n",
    "    def maxProfit(self, prices: List[int]) -> int:\n",
    "        pl = 0\n",
    "        pr = 1\n",
    "        day = 0\n",
    "        profits = []\n",
    "        while pr <= len(prices)-1:\n",
    "            if prices[pl] < prices[pr]:\n",
    "                profits.append(prices[pr] - prices[pl])\n",
    "                pl+=1\n",
    "                pr+=1\n",
    "            else:\n",
    "                pl+=1\n",
    "                pr+=1\n",
    "        return sum(profits)    "
   ]
  },
  {
   "cell_type": "markdown",
   "id": "a9d5d60a-4320-45cf-afa6-e47502796628",
   "metadata": {},
   "source": [
    "### chatGPT 풀이"
   ]
  },
  {
   "cell_type": "code",
   "execution_count": null,
   "id": "585350ee-9f71-41d8-a12a-486bd6ba75c5",
   "metadata": {},
   "outputs": [],
   "source": [
    "from typing import List\n",
    "\n",
    "class Solution:\n",
    "    def maxProfit(self, prices: List[int]) -> int:\n",
    "        max_profit = 0\n",
    "        for i in range(1, len(prices)):\n",
    "            if prices[i] > prices[i - 1]:\n",
    "                max_profit += prices[i] - prices[i - 1]\n",
    "        return max_profit"
   ]
  },
  {
   "cell_type": "markdown",
   "id": "f2189486-28f6-4a22-8593-2cce205ec3fa",
   "metadata": {},
   "source": [
    "### 재귀로 풀이"
   ]
  },
  {
   "cell_type": "code",
   "execution_count": 9,
   "id": "076df448-0e9b-4a48-aee3-d77543b87df9",
   "metadata": {
    "tags": []
   },
   "outputs": [],
   "source": [
    "from typing import List\n",
    "\n",
    "class Solution:\n",
    "    def maxProfit(self, prices: List[int]) -> int:\n",
    "        pl = 0\n",
    "        pr = 1\n",
    "        profit = 0\n",
    "        def profits(pl, pr, profit):\n",
    "            if pr > len(prices)-1:\n",
    "                return profit\n",
    "            elif prices[pl] < prices[pr]:\n",
    "                profit += (prices[pr] - prices[pl])\n",
    "                return profits(pl+1, pr+1, profit)\n",
    "            else:\n",
    "                return profits(pl+1, pr+1, profit)\n",
    "        return profits(0,1, 0)\n",
    "    "
   ]
  },
  {
   "cell_type": "code",
   "execution_count": null,
   "id": "0b60648c-a80c-48f4-a86c-17c496ade72d",
   "metadata": {},
   "outputs": [],
   "source": [
    "from typing import List\n",
    "\n",
    "class Solution:\n",
    "    def maxProfit(self, prices: List[int]) -> int:\n",
    "        pl = 0\n",
    "        pr = 1\n",
    "        total_profit = 0\n",
    "        def profits():\n",
    "            nonlocal pl, pr, total_profit\n",
    "            if pr > len(prices)-1:\n",
    "                return \n",
    "            elif prices[pl] < prices[pr]:\n",
    "                total_profit += (prices[pr] - prices[pl])\n",
    "            pl+=1\n",
    "            pr+=1\n",
    "            profits()\n",
    "        profits()\n",
    "        return total_profit"
   ]
  },
  {
   "cell_type": "markdown",
   "id": "8f43b202-e985-47d4-825e-faf07cedc970",
   "metadata": {},
   "source": [
    "# 문79 키에 따른 대기열 재구성 m\n",
    "https://leetcode.com/problems/queue-reconstruction-by-height"
   ]
  },
  {
   "cell_type": "code",
   "execution_count": null,
   "id": "cb0b7fad-81f0-4ae9-ab7d-ba66b2c53d97",
   "metadata": {},
   "outputs": [],
   "source": [
    "You are given an array of people, \n",
    "which are the attributes of some people in a queue (not necessarily in order).\n",
    "Each people[i] = [hi, ki] represents the ith person of height hi with \n",
    "exactly ki other people in front who have a height greater than or equal to hi.\n",
    "\n",
    "Reconstruct and return the queue that is represented by the input array people. \n",
    "The returned queue should be formatted as an array queue, \n",
    "where queue[j] = [hj, kj] is the attributes of \n",
    "the jth person in the queue (queue[0] is the person at the front of the queue).\n",
    "\n",
    "Example 1:\n",
    "\n",
    "Input: people = [[7,0],[4,4],[7,1],[5,0],[6,1],[5,2]]\n",
    "Output: [[5,0],[7,0],[5,2],[6,1],[4,4],[7,1]]\n",
    "\n",
    "Explanation:\n",
    "Person 0 has height 5 with no other people taller or the same height in front.\n",
    "Person 1 has height 7 with no other people taller or the same height in front.\n",
    "Person 2 has height 5 with two persons taller or the same height in front, which is person 0 and 1.\n",
    "Person 3 has height 6 with one person taller or the same height in front, which is person 1.\n",
    "Person 4 has height 4 with four people taller or the same height in front, which are people 0, 1, 2, and 3.\n",
    "Person 5 has height 7 with one person taller or the same height in front, which is person 1.\n",
    "Hence [[5,0],[7,0],[5,2],[6,1],[4,4],[7,1]] is the reconstructed queue."
   ]
  },
  {
   "cell_type": "code",
   "execution_count": null,
   "id": "86cfc888-d74a-4585-bb2c-698eec09d976",
   "metadata": {},
   "outputs": [],
   "source": [
    "class Solution:\n",
    "    def reconstructQueue(self, people: List[List[int]]) -> List[List[int]]:\n",
    "        "
   ]
  },
  {
   "cell_type": "markdown",
   "id": "8566c599-ce33-4a47-a58f-52b8398bc6e4",
   "metadata": {},
   "source": [
    "### chatGPT 풀이"
   ]
  },
  {
   "cell_type": "code",
   "execution_count": null,
   "id": "e0c50d65-86a2-493e-9dab-0749fc16df3f",
   "metadata": {},
   "outputs": [],
   "source": [
    "from typing import List\n",
    "\n",
    "class Solution:\n",
    "    def reconstructQueue(self, people: List[List[int]]) -> List[List[int]]:\n",
    "        # 1. 사람들을 키에 따라 내림차순으로, 키가 같다면 k 값에 따라 오름차순으로 정렬한다.\n",
    "        people.sort(key=lambda x: (-x[0], x[1]))\n",
    "\n",
    "        queue = []\n",
    "        # 2. 정렬된 사람들을 순회하면서, 각 사람을 k 값이 가리키는 인덱스에 삽입한다.\n",
    "        for p in people:\n",
    "            queue.insert(p[1], p)\n",
    "        \n",
    "        return queue"
   ]
  },
  {
   "cell_type": "markdown",
   "id": "ddb3c42c-40d8-4fc7-be8b-a1bda407ec12",
   "metadata": {},
   "source": [
    "이 문제를 해결하는 효율적인 방법은 다음과 같습니다:\n",
    "\n",
    "1. 키가 큰 학생순으로 내림차순 정렬하기: \n",
    "    만약 키가 가장 큰 학생부터 줄을 세운다면, \n",
    "    이 학생들이 자리를 잡은 후에는 이후에 오는 키가 작은 다른 학생들에 의해 영향을 받지 않습니다.\n",
    "    왜냐하면 더 이상 자신보다 키가 큰 사람이 앞에 올 수 없기 때문입니다.\n",
    "\n",
    "2. 같은 키일 경우, 앞에 서야 하는 사람의 수(k)가 적은 순으로 오름차순 정렬하기: \n",
    "    같은 키를 가진 학생들 사이에서는, \n",
    "    자신보다 키가 같거나 큰 사람이 더 적게 앞에 있어야 한다고 했을 때, 그\n",
    "    숫자(k)가 작은 학생부터 줄을 세워야 그 조건을 만족시킬 수 있습니다.\n",
    "    \n",
    "3. k의 인덱스 값에 따라 큐의 해당 인덱스에 사람을 삽입하기:\n"
   ]
  },
  {
   "cell_type": "code",
   "execution_count": 22,
   "id": "44487e3f-46a3-4072-b376-f8f4b612e81e",
   "metadata": {
    "tags": []
   },
   "outputs": [
    {
     "data": {
      "text/plain": [
       "[[7, 1], [7, 0], [6, 1], [5, 2], [5, 0], [4, 4]]"
      ]
     },
     "execution_count": 22,
     "metadata": {},
     "output_type": "execute_result"
    }
   ],
   "source": [
    "people = [[7,0],[4,4],[7,1],[5,0],[6,1],[5,2]]\n",
    "people.sort(reverse=True)\n",
    "people"
   ]
  },
  {
   "cell_type": "code",
   "execution_count": 15,
   "id": "4268f286-9bc1-42f1-a78b-0c556c6ee0e7",
   "metadata": {
    "tags": []
   },
   "outputs": [
    {
     "data": {
      "text/plain": [
       "[[7, 0], [7, 1], [6, 1], [5, 0], [5, 2], [4, 4]]"
      ]
     },
     "execution_count": 15,
     "metadata": {},
     "output_type": "execute_result"
    }
   ],
   "source": [
    "people = [[7,0],[4,4],[7,1],[5,0],[6,1],[5,2]]\n",
    "people.sort(key=lambda x: (-x[0], x[1]))\n",
    "people"
   ]
  },
  {
   "cell_type": "code",
   "execution_count": 21,
   "id": "66abcf7c-966d-4cd2-9a3b-fb8334ba24b1",
   "metadata": {
    "tags": []
   },
   "outputs": [
    {
     "name": "stdout",
     "output_type": "stream",
     "text": [
      "[[7, 0]]\n",
      "[[7, 0], [7, 1]]\n",
      "[[7, 0], [6, 1], [7, 1]]\n",
      "[[5, 0], [7, 0], [6, 1], [7, 1]]\n",
      "[[5, 0], [7, 0], [5, 2], [6, 1], [7, 1]]\n",
      "[[5, 0], [7, 0], [5, 2], [6, 1], [4, 4], [7, 1]]\n"
     ]
    }
   ],
   "source": [
    "queue = []\n",
    "for p in people:\n",
    "    queue.insert(p[1], p)\n",
    "    print(queue)"
   ]
  },
  {
   "cell_type": "markdown",
   "id": "a635b74e-3c0b-46aa-baff-3700862d4696",
   "metadata": {},
   "source": [
    "### 책풀이"
   ]
  },
  {
   "cell_type": "code",
   "execution_count": 3,
   "id": "e40ffbd7-545a-4960-99a2-112dadabe391",
   "metadata": {
    "tags": []
   },
   "outputs": [],
   "source": [
    "from typing import List\n",
    "\n",
    "class Solution:\n",
    "    def reconstructQueue(self, people: List[List[int]]) -> List[List[int]]:\n",
    "        heap = []\n",
    "        for person in people:\n",
    "            heapq.heappush(heap, (-person[0], person[1]))\n",
    "            \n",
    "        result = []\n",
    "        \n",
    "        while heap:\n",
    "            person = heapq.heappop(heap)\n",
    "            result.insert(person[1], [-person[0], person[1]])\n",
    "        return result"
   ]
  },
  {
   "cell_type": "markdown",
   "id": "3537362c-a4dd-4082-874f-866456b194f7",
   "metadata": {},
   "source": [
    "Python의 heapq 모듈은 최소 힙(min heap)을 구현하기 때문에,  \n",
    "키(person[0])를 내림차순으로 정렬하기 위해 키의 음수 값을 사용합니다.  \n",
    "  \n",
    "이렇게 함으로써, 가장 키가 큰 사람이 힙의 루트에 오게 되고,   \n",
    "heapq.heappop() 호출 시 가장 키가 큰 사람부터 반환되도록 합니다.   \n",
    "  \n",
    "person[1]은 그대로 사용하여, 키가 같은 사람들 사이에서는 k 값에 따라 정렬되도록 합니다.  "
   ]
  },
  {
   "cell_type": "code",
   "execution_count": 2,
   "id": "14d35fdd-6b1b-4380-aaee-280f60fd0753",
   "metadata": {
    "tags": []
   },
   "outputs": [
    {
     "data": {
      "text/plain": [
       "[(-7, 0), (-6, 1), (-7, 1), (-4, 4), (-5, 0), (-5, 2)]"
      ]
     },
     "execution_count": 2,
     "metadata": {},
     "output_type": "execute_result"
    }
   ],
   "source": [
    "import heapq\n",
    "people = [[7,0],[4,4],[7,1],[5,0],[6,1],[5,2]]\n",
    "heap = []\n",
    "for person in people:\n",
    "    heapq.heappush(heap, (-person[0], person[1]))\n",
    "heap"
   ]
  },
  {
   "cell_type": "code",
   "execution_count": null,
   "id": "ed9beba7-4613-4af4-b61a-0ecb50a5d5cf",
   "metadata": {},
   "outputs": [],
   "source": [
    "     -7\n",
    "    /  \\\n",
    "  -6    -7\n",
    "  / \\   /\n",
    "-4  -5 -5"
   ]
  },
  {
   "cell_type": "code",
   "execution_count": 8,
   "id": "b98efa1a-bf0a-493a-948e-455734c52634",
   "metadata": {
    "tags": []
   },
   "outputs": [
    {
     "name": "stdout",
     "output_type": "stream",
     "text": [
      "person : (-7, 0)\n",
      "[[7, 0]]\n",
      "person : (-7, 1)\n",
      "[[7, 0], [7, 1]]\n",
      "person : (-6, 1)\n",
      "[[7, 0], [6, 1], [7, 1]]\n",
      "person : (-5, 0)\n",
      "[[5, 0], [7, 0], [6, 1], [7, 1]]\n",
      "person : (-5, 2)\n",
      "[[5, 0], [7, 0], [5, 2], [6, 1], [7, 1]]\n",
      "person : (-4, 4)\n",
      "[[5, 0], [7, 0], [5, 2], [6, 1], [4, 4], [7, 1]]\n"
     ]
    }
   ],
   "source": [
    "result = []\n",
    "\n",
    "while heap:\n",
    "    person = heapq.heappop(heap)\n",
    "    print(f'person : {person}')\n",
    "    result.insert(person[1], [-person[0], person[1]])\n",
    "    print(result)"
   ]
  },
  {
   "cell_type": "markdown",
   "id": "9e0f79b5-507e-4dc7-93ae-3e356d6be41a",
   "metadata": {},
   "source": [
    "# 문80 태스크 스케쥴러 m\n",
    "https://leetcode.com/problems/task-scheduler"
   ]
  },
  {
   "cell_type": "code",
   "execution_count": null,
   "id": "7e821fea-84a4-4b1d-afaf-33fd96938409",
   "metadata": {},
   "outputs": [],
   "source": [
    "You are given an array of CPU tasks, each represented by letters A to Z, \n",
    "and a cooling time, n. \n",
    "Each cycle or interval allows the completion of one task.\n",
    "Tasks can be completed in any order, \n",
    "but there's a constraint: \n",
    "identical tasks must be separated by at least n intervals due to cooling time.\n",
    "\n",
    "Return the minimum number of intervals required to complete all tasks.\n",
    "\n",
    "Example 1:\n",
    "\n",
    "Input: tasks = [\"A\",\"A\",\"A\",\"B\",\"B\",\"B\"], n = 2\n",
    "Output: 8\n",
    "\n",
    "Explanation: A possible sequence is: A -> B -> idle -> A -> B -> idle -> A -> B.\n",
    "\n",
    "After completing task A, you must wait two cycles before doing A again.\n",
    "The same applies to task B. \n",
    "In the 3rd interval, neither A nor B can be done, so you idle. \n",
    "By the 4th cycle, you can do A again as 2 intervals have passed."
   ]
  },
  {
   "cell_type": "code",
   "execution_count": null,
   "id": "7d45deaa-9be3-4f11-99b7-41ce0abef243",
   "metadata": {},
   "outputs": [],
   "source": [
    "class Solution:\n",
    "    def leastInterval(self, tasks: List[str], n: int) -> int:\n",
    "        "
   ]
  },
  {
   "cell_type": "markdown",
   "id": "d11bd196-2cbc-47e0-9ddc-92239b4d68b3",
   "metadata": {},
   "source": [
    "### 다른 풀이"
   ]
  },
  {
   "cell_type": "code",
   "execution_count": null,
   "id": "be419607-5dd7-402b-9d0b-416c7da5ea1b",
   "metadata": {},
   "outputs": [],
   "source": [
    "from typing import List\n",
    "from collections import Counter\n",
    "\n",
    "class Solution:\n",
    "    def leastInterval(self, tasks: List[str], n: int) -> int:\n",
    "        # 작업의 빈도수를 계산합니다.\n",
    "        tasks_freq = Counter(tasks)\n",
    "        # A,A,A,B 라면\n",
    "        # {\"A\":3, \"B\":1}\n",
    "        \n",
    "        # 최대빈도작업의 빈도수를 기반으로 필요한 최소 간격을 계산합니다.\n",
    "        max_freq_task = max(tasks_freq.values())\n",
    "        base_tasks_num = (n + 1) * (max_freq_task - 1) \n",
    "        # (n+1): 쿨링시간을 고려한 최대빈도 작업 사이에 필요한 간격\n",
    "            # n은 하나의 작업을 수행하고, \n",
    "            # 그 다음에 동일한 작업을 다시 수행하기까지 필요한 (쿨링시간을 포함한)작업개수를 의미\n",
    "            # 예를들어 n=2 라면 A,idle,idle 에서 보듯이 A를 하고 다시 A를 하려면 \n",
    "            # 맨 처음 A작업 포함해야 하므로 n+1(3)이 지나야함\n",
    "        # (max_tasks-1) : 최대빈도 작업간의 간격 개수\n",
    "            # 최대빈도작업이 A이고 A가 3번 있다면 \n",
    "            # A,A,A 에서 각 A 사이에 쿨링시간을 포함한 다른작업이 들어가야 하므로\n",
    "        # (n+1)과 (max_tasks-1)을 곱하면 \n",
    "        # 최대빈도작업을 중심으로 (쿨링시간을 포함해)필요한 최소 작업 개수를 계산할 수 있습니다. \n",
    "            # A,idle,idle,A,idle,idle\n",
    "            # base_intervals 은 6\n",
    "        \n",
    "        # 최대빈도작업의 개수 계산.\n",
    "        max_freq_tasks_count = 0\n",
    "        for freq in tasks_freq.values():\n",
    "            if freq == max_freq_task:\n",
    "                max_freq_tasks_count += 1\n",
    "\n",
    "        # 쿨링시간을 포함해 필요한 최소 작업 수.\n",
    "        total_tasks = max(base_tasks_num + max_freq_tasks_count, len(tasks))\n",
    "\n",
    "        return total_tasks\n"
   ]
  },
  {
   "cell_type": "markdown",
   "id": "ead85803-8e50-41eb-a1cc-9f234ebf180a",
   "metadata": {},
   "source": [
    "    `base_tasks_num + max_freq_tasks_count`를 반환하게 되는 경우는, \n",
    "    계산된 최소 작업 수가 실제 작업의 총 수(`len(tasks)`)보다 클 때입니다. \n",
    "    이는 특히 다음과 같은 상황에서 발생할 수 있습니다:\n",
    "\n",
    "    1. **쿨링 시간(`n`)이 길어서 동일한 작업 사이에 많은 대기 시간이 필요한 경우**: \n",
    "    \n",
    "    이런 상황에서는 가장 빈도수가 높은 작업(`A`라고 가정) 사이에 쿨링 시간을 충족시키기 위해 \n",
    "    적어도 `n` 간격의 대기 시간이 필요합니다. \n",
    "    만약 `A` 작업이 매우 자주 등장하면, 이러한 작업들 사이에 충분한 대기 시간을 확보하기 위해 \n",
    "    실제 작업 수보다 많은 총 간격이 필요할 수 있습니다.\n",
    "\n",
    "    2. **가장 빈도수가 높은 작업이 여러 개 있고,\n",
    "    그 사이에 배치할 수 있는 다른 작업의 수가 충분하지 않은 경우**: \n",
    "    \n",
    "    가장 빈도수가 높은 작업이 여러 개일 때(`A`와 `B`가 동일한 빈도수를 가지고 있다고 가정), \n",
    "    이 작업들을 쿨링 시간을 준수하며 배치하려면, \n",
    "    각각의 작업 사이에 적절한 수의 다른 작업 또는 대기 시간이 필요합니다. \n",
    "    만약 다른 작업의 종류가 충분히 많지 않아서 이들 사이에 적절히 배치할 수 없다면, \n",
    "    이로 인해 필요한 총 간격이 실제 작업 수보다 늘어날 수 있습니다.\n",
    "\n",
    "    3. **최대 빈도 작업의 빈도수가 높고, 쿨링 시간이 상대적으로 긴 경우**: \n",
    "    \n",
    "    이는 쿨링 시간과 최대 빈도 작업의 빈도수가 모두 높을 때 발생합니다. \n",
    "    이 경우, 가장 빈도수가 높은 작업 사이에 필요한 대기 시간(`base_tasks_num`)과\n",
    "    같은 빈도수를 가진 작업의 수(`max_freq_tasks_count`)를 합한 결과가 \n",
    "    실제 작업 수보다 클 수 있습니다."
   ]
  },
  {
   "cell_type": "markdown",
   "id": "f06af4c6-721d-421e-b093-9390d39ff0bf",
   "metadata": {},
   "source": [
    "    `len(tasks)`를 반환하게 되는 경우는, \n",
    "    계산된 최소 작업 수(`base_tasks_num + max_freq_tasks_count`)가 \n",
    "    실제 작업의 총 수(`len(tasks)`)보다 작거나 같을 때입니다. \n",
    "    이는 다음과 같은 시나리오에서 발생할 수 있습니다:\n",
    "\n",
    "    1. **쿨링 시간(`n`)이 충분히 짧아서 모든 작업을 연속적으로 처리할 수 있는 경우**: \n",
    "    \n",
    "    이 경우, 작업들 사이에 쿨링으로 인한 대기 시간을 추가할 필요가 없거나, \n",
    "    쿨링 시간을 적용해도 다른 작업을 즉시 수행할 수 있어서 \n",
    "    실제 작업 수가 계산된 최소 작업 수보다 결정적인 역할을 합니다.\n",
    "\n",
    "    2. **작업의 종류가 많아서 서로 다른 작업 사이에 자연스럽게 쿨링 시간이 포함될 수 있는 경우**: \n",
    "    \n",
    "    예를 들어, 작업이 `['A', 'B', 'C', 'D', ...]`와 같이 다양하고 \n",
    "    쿨링 시간보다 작업의 종류가 많을 경우, \n",
    "    한 작업을 수행한 후 다음 작업을 바로 수행할 수 있으며, \n",
    "    이 때문에 대기 시간 없이 계속 작업을 진행할 수 있습니다. \n",
    "    이 경우에도 실제 작업 수가 최소 작업 수를 결정합니다.\n",
    "\n",
    "    3. **가장 빈도수가 높은 작업이 여러 개 있지만, \n",
    "    그 사이에 충분히 다른 작업을 배치할 수 있어 추가적인 대기 시간이 필요 없는 경우**: \n",
    "    \n",
    "    가장 빈도수가 높은 작업들 사이에 쿨링 시간을 충족시키면서 다른 작업들을 배치할 수 있어, \n",
    "    실제로 추가적인 대기 시간 없이 모든 작업을 수행할 수 있습니다."
   ]
  },
  {
   "cell_type": "code",
   "execution_count": 22,
   "id": "6f787d9c-7cef-49d8-97e3-8e0d13aa7ef6",
   "metadata": {
    "tags": []
   },
   "outputs": [
    {
     "name": "stdout",
     "output_type": "stream",
     "text": [
      "base_intervals : 4\n",
      "max_freq_tasks_count : 2\n"
     ]
    },
    {
     "data": {
      "text/plain": [
       "7"
      ]
     },
     "execution_count": 22,
     "metadata": {},
     "output_type": "execute_result"
    }
   ],
   "source": [
    "from collections import Counter\n",
    "tasks = [\"A\",\"A\",\"A\",\"B\"]\n",
    "tasks = [\"A\",\"A\",\"A\",\"B\",\"B\",\"B\",\"C\"]\n",
    "n = 1\n",
    "task_freq = Counter(tasks)\n",
    "\n",
    "max_tasks = max(task_freq.values())\n",
    "base_intervals = (n + 1) * (max_tasks - 1) \n",
    "print(f'base_intervals : {base_intervals}')\n",
    "\n",
    "max_freq_tasks_count = 0\n",
    "for freq in task_freq.values():\n",
    "    if freq == max_tasks:\n",
    "        max_freq_tasks_count += 1\n",
    "print(f'max_freq_tasks_count : {max_freq_tasks_count}')\n",
    "\n",
    "total_intervals = max(base_intervals + max_freq_tasks_count, len(tasks))\n",
    "total_intervals"
   ]
  },
  {
   "cell_type": "code",
   "execution_count": 10,
   "id": "f05c42da-c466-412e-979a-f6664079fc6e",
   "metadata": {
    "tags": []
   },
   "outputs": [
    {
     "data": {
      "text/plain": [
       "dict_values([3, 3])"
      ]
     },
     "execution_count": 10,
     "metadata": {},
     "output_type": "execute_result"
    }
   ],
   "source": [
    "task_freq.values()"
   ]
  },
  {
   "cell_type": "code",
   "execution_count": 11,
   "id": "92945113-aa54-46e9-83dd-0a04793a78ad",
   "metadata": {
    "tags": []
   },
   "outputs": [
    {
     "data": {
      "text/plain": [
       "3"
      ]
     },
     "execution_count": 11,
     "metadata": {},
     "output_type": "execute_result"
    }
   ],
   "source": [
    "max(task_freq.values())"
   ]
  },
  {
   "cell_type": "code",
   "execution_count": 13,
   "id": "33abf3c5-4337-413c-9be0-366e9897f42a",
   "metadata": {
    "tags": []
   },
   "outputs": [
    {
     "data": {
      "text/plain": [
       "6"
      ]
     },
     "execution_count": 13,
     "metadata": {},
     "output_type": "execute_result"
    }
   ],
   "source": [
    "(n+1)*(max(task_freq.values())-1) # (2+1) * 2"
   ]
  },
  {
   "cell_type": "markdown",
   "id": "2c895ff4-649a-4779-ae65-e62dbb0ce41e",
   "metadata": {},
   "source": [
    "### 책 풀이\n",
    "이해 안감"
   ]
  },
  {
   "cell_type": "code",
   "execution_count": null,
   "id": "bd304f5a-26cc-4496-83c9-584c0924134c",
   "metadata": {},
   "outputs": [],
   "source": [
    "import collections\n",
    "class Solution:\n",
    "    def leastInterval(self, tasks: List[str], n: int) -> int:\n",
    "        counter = collections.Counter(tasks)\n",
    "        result = 0\n",
    "\n",
    "        while True:\n",
    "            sub_count = 0\n",
    "            \n",
    "            for task, _ in counter.most_common(n+1):\n",
    "                sub_count += 1\n",
    "                result += 1\n",
    "                \n",
    "                counter.subtract(task)\n",
    "                counter += collections.Counter()\n",
    "                \n",
    "            if not counter:\n",
    "                break\n",
    "                \n",
    "            result += n - sub_count + 1\n",
    "            \n",
    "        return result"
   ]
  },
  {
   "cell_type": "markdown",
   "id": "ca968b32-9734-4219-b4eb-a722d6ff2406",
   "metadata": {},
   "source": [
    "# 문81 주유소 m\n",
    "https://leetcode.com/problems/gas-station"
   ]
  },
  {
   "cell_type": "code",
   "execution_count": null,
   "id": "e1abf249-7428-421c-b6ac-76bdbb4f64eb",
   "metadata": {},
   "outputs": [],
   "source": [
    "There are n gas stations along a circular route, where the amount of gas at the ith station is gas[i].\n",
    "\n",
    "You have a car with an unlimited gas tank and it costs cost[i] of gas to travel from the ith station to its next (i + 1)th station.\n",
    "You begin the journey with an empty tank at one of the gas stations.\n",
    "\n",
    "Given two integer arrays gas and cost, \n",
    "return the starting gas station's index if you can travel around the circuit once in the clockwise direction, \n",
    "otherwise return -1. If there exists a solution, it is guaranteed to be unique\n",
    "\n",
    " \n",
    "\n",
    "Example 1:\n",
    "\n",
    "Input: gas = [1,2,3,4,5], cost = [3,4,5,1,2]\n",
    "Output: 3\n",
    "\n",
    "Explanation:\n",
    "Start at station 3 (index 3) and fill up with 4 unit of gas. Your tank = 0 + 4 = 4\n",
    "Travel to station 4. Your tank = 4 - 1 + 5 = 8\n",
    "Travel to station 0. Your tank = 8 - 2 + 1 = 7\n",
    "Travel to station 1. Your tank = 7 - 3 + 2 = 6\n",
    "Travel to station 2. Your tank = 6 - 4 + 3 = 5\n",
    "Travel to station 3. The cost is 5. Your gas is just enough to travel back to station 3.\n",
    "Therefore, return 3 as the starting index."
   ]
  },
  {
   "cell_type": "code",
   "execution_count": null,
   "id": "2b4c6d11-b511-4334-8597-544e7917a67e",
   "metadata": {},
   "outputs": [],
   "source": [
    "class Solution:\n",
    "    def canCompleteCircuit(self, gas: List[int], cost: List[int]) -> int:\n",
    "        "
   ]
  }
 ],
 "metadata": {
  "kernelspec": {
   "display_name": "Python 3 (ipykernel)",
   "language": "python",
   "name": "python3"
  },
  "language_info": {
   "codemirror_mode": {
    "name": "ipython",
    "version": 3
   },
   "file_extension": ".py",
   "mimetype": "text/x-python",
   "name": "python",
   "nbconvert_exporter": "python",
   "pygments_lexer": "ipython3",
   "version": "3.11.0"
  }
 },
 "nbformat": 4,
 "nbformat_minor": 5
}
