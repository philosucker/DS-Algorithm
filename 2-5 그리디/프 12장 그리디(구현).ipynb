{
 "cells": [
  {
   "cell_type": "code",
   "execution_count": null,
   "id": "57e048e9-fdf9-4c42-9cc7-eba23bf412da",
   "metadata": {},
   "outputs": [],
   "source": []
  },
  {
   "cell_type": "markdown",
   "id": "01f74473-a1e3-46f5-bf23-c993b9913cfe",
   "metadata": {},
   "source": [
    "# 그리디 알고리즘으로 풀리는 문제의 조건"
   ]
  },
  {
   "cell_type": "markdown",
   "id": "dcee4758-237f-469b-b944-dfd3771c0f4c",
   "metadata": {},
   "source": [
    " 파알 21장 그리디 참고"
   ]
  },
  {
   "cell_type": "markdown",
   "id": "388d1951-ca07-4edb-ae41-2b024f19917d",
   "metadata": {
    "tags": []
   },
   "source": [
    "### 1. 현재 선택의 결과는 다음 선택(미래)에 영향을 미치지 않는다.\n",
    "미래를 몇수 내다보고 현재 결정을 하지 않는다.  \n",
    "당장 현재 있는 선택지 중 가장 큰 보상을 좇는다.  \n",
    "각 단계의 선택은 독립적이다.  \n",
    "### 2. 매 단계에서의 선택들이 (로컬 최적해 선택들이) \n",
    "### 전체 문제에 대한 최종적인 해결책이 (전역 최적해가) 될 수 있어야 한다.(될 수 있기를 기대한다)\n",
    "i.e. 문제가 최적 부분구조 optimal substructure 를 가진다."
   ]
  },
  {
   "cell_type": "markdown",
   "id": "7aa24f44-7ca2-40db-a2a2-d4220d2d9e03",
   "metadata": {},
   "source": [
    "그리디 알고리즘에서의 \"각 단계\"는 전체 문제에 대한 접근 방식에서 매 순간 최선의 선택을 의미합니다.  \n",
    "이 선택은 부분 문제의 명시적 분할보다는 로컬 최적의 결정에 중점을 둡니다."
   ]
  },
  {
   "cell_type": "markdown",
   "id": "1bc6bc9f-9c9d-4545-bc7c-a2bc1bcbf7c5",
   "metadata": {},
   "source": [
    "그리디 알고리즘은 로컬 최적해를 찾는 문제다.\n",
    "\n",
    "    로컬 최적해가 전역 최적해라는 보장은 없다.\n",
    "    \n",
    "    전역최적해를 찾으려면 완전탐색 또는 DP를 해야한다\n",
    "    (배수관계가 없는 동전이 섞인 거스름돈 문제(DP), 이진트리 최적합 경로문제(완전탐색), 0-1 배낭문제(DP),\n",
    "\n",
    "완전탐색이 불가능할 정도로 너무 입력이 크거나,  \n",
    "모든 경우의 수를 따지기엔 너무 복잡할 땐   \n",
    "그리디로 풀리는 경우가 많다.  \n",
    " \n",
    "**그리디 알고리즘이 적용된 문제**\n",
    "     \n",
    "     분할가능한 배낭문제\n",
    "     허프만 코딩 - 압축알고리즘 (허프만 트리를 빌드할 때 그리디 알고리즘 사용)\n",
    "     의사결정 트리 알고리즘 (ID3)\n",
    "     다익스트라 알고리즘\n",
    "     프림 알고리즘(최소신장트리)\n",
    "     크루스칼 알고리즘\n",
    " \n",
    "**모든 그리디 문제는 DP로 풀 수 있다.**\n",
    " \n",
    "    하지만 DP로 풀리는 문제 중 그리디로는 풀리지 않는 게 있다.(배수관계 없는 거스름돈 문제, 0-1 배낭문제)\n",
    " "
   ]
  },
  {
   "cell_type": "markdown",
   "id": "053d8111-adea-4b50-8e26-8dbfcb980aea",
   "metadata": {},
   "source": [
    "### m: 63, 64, 65\n",
    "### h: 66"
   ]
  },
  {
   "cell_type": "markdown",
   "id": "6a22be0c-54ed-402a-a97d-2dd23a891de7",
   "metadata": {},
   "source": [
    "# 문63 조이스틱 m\n",
    "https://school.programmers.co.kr/learn/courses/30/lessons/42860"
   ]
  },
  {
   "cell_type": "markdown",
   "id": "6f7a0e06-779e-4c6b-a4c1-6181d133bec5",
   "metadata": {},
   "source": [
    "# 문64 큰 수 만들기 m\n",
    "https://school.programmers.co.kr/learn/courses/30/lessons/42883"
   ]
  },
  {
   "cell_type": "markdown",
   "id": "7288c40a-8d5d-42f4-a9a2-5879d4d9f375",
   "metadata": {},
   "source": [
    "# 문65 구명보트 m\n",
    "https://school.programmers.co.kr/learn/courses/30/lessons/42885"
   ]
  },
  {
   "cell_type": "markdown",
   "id": "864f3861-0fb2-4567-85cb-50437f556e34",
   "metadata": {},
   "source": [
    "# 문66 단속 카메라 h\n",
    "https://school.programmers.co.kr/learn/courses/30/lessons/42884"
   ]
  }
 ],
 "metadata": {
  "kernelspec": {
   "display_name": "tf",
   "language": "python",
   "name": "tf"
  },
  "language_info": {
   "codemirror_mode": {
    "name": "ipython",
    "version": 3
   },
   "file_extension": ".py",
   "mimetype": "text/x-python",
   "name": "python",
   "nbconvert_exporter": "python",
   "pygments_lexer": "ipython3",
   "version": "3.11.0"
  }
 },
 "nbformat": 4,
 "nbformat_minor": 5
}
