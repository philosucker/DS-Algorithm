{
 "cells": [
  {
   "cell_type": "markdown",
   "id": "e5649952-d419-4827-9272-5ca6b123b1c7",
   "metadata": {},
   "source": [
    "# 문8) 배열을 이용한 연결 리스트란? 포인터 연결리스트와 비교"
   ]
  },
  {
   "cell_type": "markdown",
   "id": "139a9467-66d1-406f-bbd7-a18eebd48636",
   "metadata": {},
   "source": []
  },
  {
   "cell_type": "markdown",
   "id": "2d7e305f-52db-48bd-a26d-34ad4823ab17",
   "metadata": {},
   "source": [
    "**각 노드를 배열안의 원소로 저장하고, 이 원소들을 연결리스트로 구현하는 방법**  \n",
    "  \n",
    "데이터의 개수가 크게 변하지 않거나  \n",
    "데이터 최대 개수를 예측할 수 있는 경우엔\n",
    "    \n",
    "    이 방법이 더 효율적이다\n",
    "\n",
    "포인터 연결리스트는 \n",
    "\n",
    "    노드를 삽입/삭제할 때마다 \n",
    "    내부에서 노드용 인스턴스를 생성/소멸시켜 \n",
    "    이때 메모리를 확보/해제 하는데 비용이 생긴다"
   ]
  },
  {
   "cell_type": "markdown",
   "id": "98ee3f24-47c9-4d5e-92ae-33fc05b5fe9e",
   "metadata": {
    "tags": []
   },
   "source": [
    "# 문9) 프리리스트란?"
   ]
  },
  {
   "cell_type": "markdown",
   "id": "9a83062e-376b-4490-9008-1d3bc6dc2b5e",
   "metadata": {},
   "source": [
    "### 배열에서 물리적인 위치 관계와 연결리스트이 논리적인 순서 관계가 일치하는 것은 아니다.\n",
    "즉 연결리스트상에서 n번째에 위치하는 노드가, 배열 인덱스 n의 원소에 저장되는 건 아니다\n",
    "\n",
    "    노드가 논리적으로 연결되어 있는 순서와, 노드가 실제로 저장된 위치를 구별하기 위해 \n",
    "    배열 인덱스 n에 노드가 저장되는 곳을 **n번째 레코드** 라고 부르자\n",
    "    \n",
    "    만약 노드 삭제를 여러번 하게 되면\n",
    "    \n",
    "    배열 안에 빈 레코드가 많이 생긴다.\n",
    "    \n",
    "### 프리 리스트 free list는 빈 레코드들이 연결되어 있는 순서를 나타낸다\n",
    "### i.e.프리리스트는, \n",
    "### 배열 n에서 연결리스트의 노드가 사용하지 않는 인덱스를 커서로 사용한다.\n",
    "책 352p 그림 8-19\n",
    "\n",
    "    프리 리스트를 사용하면, 삭제후 비어 있는 배열의 문제를 해결할 수 있다.\n",
    "\n",
    "**연결리스트의 각 노드는**  \n",
    "**연결리스트 상에서 다음 노드가 위치하는 배열의 인덱스를 참조하는 next 필드뿐만 아니라**  \n",
    "**프리리스트 상에서 다음 빈 레코드를 참조하는 **dnext** 필드도** 가지고 있다  \n",
    "\n",
    "### 연결리스트에서 어떤 노드가 처음 삭제되면, 그 노드는 프리리스트의 머리 노드가 된다.\n",
    "### 연결리스트에서 또 다른 어떤 노드가 삭제되면, 그 노드는 프리리스트의 새로운 머리노드가 된다.\n",
    "### 반대로 연결리스트에 어떤 노드가 추가되면 프리리스트의 머리노드가 삭제된다"
   ]
  },
  {
   "cell_type": "markdown",
   "id": "8c4e735a-007d-44e5-abe8-178da8e3889e",
   "metadata": {},
   "source": [
    "# 문10) 커서란?"
   ]
  },
  {
   "cell_type": "markdown",
   "id": "951ab07c-77c8-4e90-ac3e-6d21796562b2",
   "metadata": {},
   "source": [
    "**커서 : 다음 노드가 저장된 배열의 인덱스를 나타내는 int**  \n",
    "\n",
    "    연결리스트 상에서 다음 노드가 위치하는 배열의 인덱스를 참조하는 필드 self.next가 참조하는 값\n",
    "\n",
    "    머리노드의 커서가 1이라는 건\n",
    "        배열의 1번 인덱스에 머리노드의 다음 노드가 있다는 것.\n",
    "\n",
    "    어떤 노드의 커서가 -1이라는 건\n",
    "        그 어떤 노드가 꼬리노드라는 것."
   ]
  },
  {
   "cell_type": "markdown",
   "id": "9fc4dfbf-e564-499e-a96b-5bd7544d5969",
   "metadata": {},
   "source": [
    "커서 연결리스트에서는\n",
    "\n",
    "    머리노드 앞에 노드를 추가하게 되면\n",
    "\n",
    "    self.head의 커서를 새로 추가되는 노드가 위치한 배열의 인덱스로 바꾸고\n",
    "\n",
    "    새로 추가되는 노드의 커서를 기존 머리노드가 위치한 배열의 인덱스로 하면 된다."
   ]
  },
  {
   "cell_type": "markdown",
   "id": "d91c62a1-485d-477e-8784-07dc3774e5fd",
   "metadata": {},
   "source": [
    "# 문11) 배열을 이용한 연결리스트 with 프리리스트 구현방법\n",
    "노드클래스, 연결리스트 클래스, __len__, get_insert_index(), delete_index(), search(), __contains__, add_first(), add_last(), remove_first(), remove_last(), remove(), remove_current_node(), clear(), next(), print_current_node(), print(),m dump(), __iter__, 이터레이터 클래스"
   ]
  },
  {
   "cell_type": "code",
   "execution_count": 15,
   "id": "fafa7557-8110-4f69-bb91-3c26b97d3339",
   "metadata": {
    "tags": []
   },
   "outputs": [],
   "source": [
    "from __future__ import annotations\n",
    "from typing import Any, Type\n",
    "\n",
    "Null = -1\n",
    "\n",
    "\n",
    "class Node:\n",
    "    \n",
    "    \n",
    "    def __init__(self, data = Null, next = Null, dnext = Null):\n",
    "        self.data = data\n",
    "        self.next = next # 연결리스트 상에서 다음 노드가 위치하는 배열의 인덱스를 참조하는 필드\n",
    "        self.dnext = dnext  # 프리리스트 상에서 다음 노드가 위치하는 배열의 인덱스(빈레코드)를 참조하는 필드\n",
    "    \n",
    "    \n",
    "class ArrayLinkedList:\n",
    "    \n",
    "    \n",
    "    def __init__(self, capacity: int):\n",
    "        \n",
    "        self.head = Null       # self.head : 머리노드가 저장된 배열의 인덱스를 참조\n",
    "        self.current = Null    # self.current : 현재 주목하는 노드가 저장된 배열의 인덱스를 참조\n",
    "        self.max = Null        # 배열의 맨 끝 쪽에 저장되는 노드(꼬리 레코드)의 레코드 번호(인덱스) *꼬리노드의 인덱스가 아니다\n",
    "        self.deleted = Null    # self.deleted : 프리 리스트의 머리 노드를 참조 \n",
    "        self.capacity = capacity\n",
    "        self.n = [Node()] * self.capacity # 연결리스트가 저장되는 배열 n\n",
    "        self.no = 0\n",
    "        \n",
    "    def __len__(self) -> int:\n",
    "        \n",
    "        return self.no\n",
    "    \n",
    "    def get_insert_index(self):  # 연결리스트에 노드를 추가할 때, 프리리스트의 머리노드 레코드를 가져오는 함수\n",
    "        \n",
    "        if self.deleted == Null: # 프리리스트가 비었다면, i.e. 삭제된 레코드가 하나도 없었다면 or 배열이 꽉 찼다면\n",
    "            if self.max + 1 < self.capacity:   # max를 1 증가시켰을때, 처음에 설정한 배열 크기보다 작으면 \n",
    "                self.max += 1                  # max +1 하고 self.max값 반환\n",
    "                return self.max                # 이런식으로 초기 빈 배열에 노드를 계속 추가해나가면서 삭제없이 배열을 꽉 채우거나\n",
    "            else:                              # 중간에 삭제와 추가를 반복해서 결국 빈 레코드 없이 배열이 꽉 차도\n",
    "                                               # self.max 값은 배열의 마지막 인덱스가 된다. \n",
    "                                               # 따라서 이때 +1을 하면 self.capacity와 값이 같다. \n",
    "                return Null      # i.e.배열 크기 초과\n",
    "        \n",
    "        else:                    # 프리리스트가 비어있지 않다면\n",
    "            rec = self.deleted   # rec: 프리리스트의 머리노드가 위치해있는 배열의 인덱스를 참조하는 self.deleted를 참조\n",
    "            self.deleted = self.n[rec].dnext  # self.deleted는 프리리스트 머리노드의 다음노드가 위치한 배열의 인덱스를 참조\n",
    "                                              # 즉 프리리스트의 머리노드의 다음노드를 새로운 머리노드로 설정\n",
    "            return rec           # 기존 프리리스트 머리노드가 위치해있는 배열의 인덱스를 반환\n",
    "    \n",
    "    def delete_index(self, idx: int) -> None:    # 삭제할 노드를 프리리스트의 머리노드로 등록하는 함수\n",
    "        \n",
    "        if self.deleted == Null:      # 프리리스트가 비었다면\n",
    "            self.deleted = idx        # self.deleted 필드는 삭제할 노드의 레코드 번호 idx를 참조\n",
    "                                      # 즉 삭제할 노드를 프리리스트의 머리노드로 등록 \n",
    "            self.n[idx].dnext = Null  # 새로 등록된 프리리스트의 머리노드의 dnext 필드는 -1을 참조, 프리리스트에 노드는 하나이므로.\n",
    "            \n",
    "        else:                     # 프리리스트가 비어있지 않다면\n",
    "            rec = self.deleted    # rec : 프리리스트 머리노드를 참조하는 self.deleted를 참조\n",
    "            self.deleted = idx    # self.deleted는 삭제할 노드의 레코드 번호 idx를 참조, \n",
    "                                   # 즉 삭제할 노드가 새로운 프리리스트의 머리노드가 된다.\n",
    "            self.n[idx].dnext = rec # 새로운 프리리스트 머리노드의 다음 노드가 기존 프리리스트 머리노드가 되도록 한다.\n",
    "            \n",
    "            # !!!!!!!!!!!!!! 즉 연결리스트에서 어떤 노드가 삭제되면, 그 노드는 프리리스트의 머리 노드가 되는 것이다.\n",
    "            \n",
    "    def search(self, data: Any) -> int:  # 검색하는 값과 일치하는 데이터를 가진 노드의 연결리스트 상 순번을 반환\n",
    "        cnt = 0\n",
    "        ptr = self.head\n",
    "        while ptr != Null:  # 연결리스트 끝까지 검색\n",
    "            if self.n[ptr].data == data:\n",
    "                self.current = ptr\n",
    "                return cnt\n",
    "            cnt += 1\n",
    "            ptr = self.n[ptr].next\n",
    "        return Null # 검색 실패\n",
    "    \n",
    "    def __contains__(self, data: Any) -> bool:\n",
    "        \n",
    "        return self.search(data) >= 0\n",
    "    \n",
    "    def add_first(self, data: Any):\n",
    "        print(f'rec 참조전 self.head : {self.head}')\n",
    "        print(f'rec 참조전 self.current : {self.current}')\n",
    "        ptr = self.head                 # 비어 있는 연결리스트였다면 ptr은 -1 참조\n",
    "        print(f'ptr : {ptr}')\n",
    "        rec = self.get_insert_index()   # 비어 있는 연결리스트였다면 rec는 0 참조. 왜냐면 self.max 는 -1이었고 여기에 +1\n",
    "        print(f'rec : {rec}')\n",
    "        if rec != Null:  # 배열 크기를 초과하지 않았다면\n",
    "            self.head = self.current = rec\n",
    "            print(f'rec 참조후 self.head : {self.head}')\n",
    "            print(f'rec 참조후 self.current : {self.current}')\n",
    "            self.n[self.head] = Node(data, ptr)  # 비어있는 연결리스트였다면 배열 n의 0번째 인덱스, i.e. 0번 레코드에 노드 추가. \n",
    "                                                 # 비어있는 연결리스트였다면 새로 추가된 노드의 self.next 는 ptr 즉 -1을 참조\n",
    "            self.no += 1"
   ]
  },
  {
   "cell_type": "markdown",
   "id": "091184d4-5dec-459a-b209-1dcd5d341d84",
   "metadata": {},
   "source": [
    "### 커서 연결리스트에서 \n",
    "#### ArrayLinkedList 클래스 생성자의 head, current, max, deleted 그리고 ptr 같은 변수들은 \n",
    "#### 정수 즉 배열 n의 인덱스(레코드)를 참조한다.\n",
    "    해당 인덱스로 접근되는 곳에 연결리스트의 노드가 저장된다\n",
    "## 이 점이 포인터 연결리스트와 큰 차이\n",
    "### 포인터 연결리스트의 생성자의 head, current 그리고 ptr 같은 변수들은 \n",
    "### 노드의 인스턴스를 참조한다."
   ]
  },
  {
   "cell_type": "code",
   "execution_count": null,
   "id": "85957f71-e222-436b-905b-a4d15e8ef9bd",
   "metadata": {},
   "outputs": [],
   "source": []
  },
  {
   "cell_type": "markdown",
   "id": "d243758e-6bab-433d-9ca8-c8b7cf8651fc",
   "metadata": {},
   "source": [
    "# 커서 연결리스트에서 add_first()의 의미는\n",
    "연결리스트 상에서 머리쪽에 노드를 추가한다는 뜻이다.  \n",
    "    배열상에서의 위치는 관련 없다\n",
    "## 레코드, 즉 배열의 인덱스 값의 크기는 무시하고 \n",
    "## head와 current 그리고 head의 next 값을 봐야 알 수 있다.\n",
    "### 빈 배열에서 시작하면, 배열의 인덱스가 +1씩 늘어나면서 노드를 순차적으로 저장하므로\n",
    "### 최근에 추가된 노드의 레코드 값은 크지만, i.e. head와 current 값도 크지만\n",
    "### 연결리스트를 머리부터 꼬리까지 따라가면 next 값은 거꾸로 줄어든다."
   ]
  },
  {
   "cell_type": "code",
   "execution_count": 16,
   "id": "9d4093de-3878-41f8-9484-ec8173fef4f2",
   "metadata": {
    "tags": []
   },
   "outputs": [
    {
     "name": "stdout",
     "output_type": "stream",
     "text": [
      "rec 참조전 self.head : -1\n",
      "rec 참조전 self.current : -1\n",
      "ptr : -1\n",
      "rec : 0\n",
      "rec 참조후 self.head : 0\n",
      "rec 참조후 self.current : 0\n"
     ]
    }
   ],
   "source": [
    "ALL = ArrayLinkedList(10)\n",
    "ALL.add_first(40)"
   ]
  },
  {
   "cell_type": "code",
   "execution_count": 17,
   "id": "58fc5b0a-7dff-492e-8feb-948f6fd8b0a8",
   "metadata": {
    "tags": []
   },
   "outputs": [
    {
     "name": "stdout",
     "output_type": "stream",
     "text": [
      "ALL.head : 0\n",
      "ALL.current : 0\n",
      "ALL.n[0].data : 40\n",
      "ALL.n[0].next : -1\n"
     ]
    }
   ],
   "source": [
    "print(f'ALL.head : {ALL.head}')\n",
    "print(f'ALL.current : {ALL.current}')\n",
    "print(f'ALL.n[0].data : {ALL.n[0].data}')\n",
    "print(f'ALL.n[0].next : {ALL.n[0].next}')  # ptr과 next의 값이 같다. "
   ]
  },
  {
   "cell_type": "code",
   "execution_count": 18,
   "id": "c27a7df1-67bb-4eb2-9fa7-7aa072888a99",
   "metadata": {
    "tags": []
   },
   "outputs": [
    {
     "name": "stdout",
     "output_type": "stream",
     "text": [
      "rec 참조전 self.head : 0\n",
      "rec 참조전 self.current : 0\n",
      "ptr : 0\n",
      "rec : 1\n",
      "rec 참조후 self.head : 1\n",
      "rec 참조후 self.current : 1\n"
     ]
    }
   ],
   "source": [
    "ALL.add_first(30)"
   ]
  },
  {
   "cell_type": "code",
   "execution_count": 19,
   "id": "3d5189bb-42fa-474f-becf-c7054f5df46c",
   "metadata": {
    "tags": []
   },
   "outputs": [
    {
     "name": "stdout",
     "output_type": "stream",
     "text": [
      "ALL.head : 1\n",
      "ALL.current : 1\n",
      "ALL.n[0].data : 40\n",
      "ALL.n[0].next : -1\n",
      "ALL.n[1].data : 30\n",
      "ALL.n[1].next : 0\n"
     ]
    }
   ],
   "source": [
    "print(f'ALL.head : {ALL.head}')\n",
    "print(f'ALL.current : {ALL.current}')\n",
    "print(f'ALL.n[0].data : {ALL.n[0].data}')\n",
    "print(f'ALL.n[0].next : {ALL.n[0].next}')\n",
    "print(f'ALL.n[1].data : {ALL.n[1].data}')\n",
    "print(f'ALL.n[1].next : {ALL.n[1].next}')"
   ]
  },
  {
   "cell_type": "code",
   "execution_count": 20,
   "id": "b30a14e0-2e2d-4a6a-bc0c-36476f2b4328",
   "metadata": {
    "tags": []
   },
   "outputs": [
    {
     "name": "stdout",
     "output_type": "stream",
     "text": [
      "rec 참조전 self.head : 1\n",
      "rec 참조전 self.current : 1\n",
      "ptr : 1\n",
      "rec : 2\n",
      "rec 참조후 self.head : 2\n",
      "rec 참조후 self.current : 2\n"
     ]
    }
   ],
   "source": [
    "ALL.add_first(20)"
   ]
  },
  {
   "cell_type": "code",
   "execution_count": 21,
   "id": "7e1f993a-2dc2-488d-a7c4-ddb1e9809a08",
   "metadata": {
    "tags": []
   },
   "outputs": [
    {
     "name": "stdout",
     "output_type": "stream",
     "text": [
      "ALL.head : 2\n",
      "ALL.current : 2\n",
      "ALL.n[0].data : 40\n",
      "ALL.n[0].next : -1\n",
      "ALL.n[1].data : 30\n",
      "ALL.n[1].next : 0\n",
      "ALL.n[2].data : 20\n",
      "ALL.n[2].next : 1\n"
     ]
    }
   ],
   "source": [
    "print(f'ALL.head : {ALL.head}')\n",
    "print(f'ALL.current : {ALL.current}')\n",
    "print(f'ALL.n[0].data : {ALL.n[0].data}')\n",
    "print(f'ALL.n[0].next : {ALL.n[0].next}')\n",
    "print(f'ALL.n[1].data : {ALL.n[1].data}')\n",
    "print(f'ALL.n[1].next : {ALL.n[1].next}')\n",
    "print(f'ALL.n[2].data : {ALL.n[2].data}')\n",
    "print(f'ALL.n[2].next : {ALL.n[2].next}')"
   ]
  },
  {
   "cell_type": "code",
   "execution_count": 22,
   "id": "32d8a12b-afd8-48d9-ad87-8ec1eaa1e514",
   "metadata": {
    "tags": []
   },
   "outputs": [
    {
     "name": "stdout",
     "output_type": "stream",
     "text": [
      "rec 참조전 self.head : 2\n",
      "rec 참조전 self.current : 2\n",
      "ptr : 2\n",
      "rec : 3\n",
      "rec 참조후 self.head : 3\n",
      "rec 참조후 self.current : 3\n"
     ]
    }
   ],
   "source": [
    "ALL.add_first(10)"
   ]
  },
  {
   "cell_type": "code",
   "execution_count": 23,
   "id": "2c12d37b-0382-444e-8a7e-1f09fa640dbf",
   "metadata": {
    "tags": []
   },
   "outputs": [
    {
     "name": "stdout",
     "output_type": "stream",
     "text": [
      "ALL.head : 3\n",
      "ALL.current : 3\n",
      "ALL.n[0].data : 40\n",
      "ALL.n[0].next : -1\n",
      "ALL.n[1].data : 30\n",
      "ALL.n[1].next : 0\n",
      "ALL.n[2].data : 20\n",
      "ALL.n[2].next : 1\n",
      "ALL.n[3].data : 10\n",
      "ALL.n[3].next : 2\n"
     ]
    }
   ],
   "source": [
    "print(f'ALL.head : {ALL.head}')\n",
    "print(f'ALL.current : {ALL.current}')\n",
    "print(f'ALL.n[0].data : {ALL.n[0].data}')\n",
    "print(f'ALL.n[0].next : {ALL.n[0].next}')\n",
    "print(f'ALL.n[1].data : {ALL.n[1].data}')\n",
    "print(f'ALL.n[1].next : {ALL.n[1].next}')\n",
    "print(f'ALL.n[2].data : {ALL.n[2].data}')\n",
    "print(f'ALL.n[2].next : {ALL.n[2].next}')\n",
    "print(f'ALL.n[3].data : {ALL.n[3].data}')\n",
    "print(f'ALL.n[3].next : {ALL.n[3].next}')"
   ]
  },
  {
   "cell_type": "code",
   "execution_count": 118,
   "id": "8bfd4534-bfc8-4cbc-a62f-d5abe97d8326",
   "metadata": {
    "tags": []
   },
   "outputs": [],
   "source": [
    "from __future__ import annotations\n",
    "from typing import Any, Type\n",
    "\n",
    "Null = -1\n",
    "\n",
    "\n",
    "class Node:\n",
    "    \n",
    "    \n",
    "    def __init__(self, data = Null, next = Null, dnext = Null):\n",
    "        self.data = data\n",
    "        self.next = next # 연결리스트 상에서 다음 노드가 위치하는 배열의 인덱스를 참조하는 필드\n",
    "        self.dnext = dnext  # 프리리스트 상에서 다음 노드가 위치하는 배열의 인덱스(빈레코드)를 참조하는 필드\n",
    "    \n",
    "    \n",
    "class ArrayLinkedList:\n",
    "    \n",
    "    \n",
    "    def __init__(self, capacity: int):\n",
    "        \n",
    "        self.head = Null       # self.head : 머리노드가 저장된 배열의 인덱스를 참조\n",
    "        self.current = Null    # self.current : 현재 주목하는 노드가 저장된 배열의 인덱스를 참조\n",
    "        self.max = Null        # 배열의 맨 끝 쪽에 저장되는 노드(꼬리 레코드)의 레코드 번호(인덱스) *꼬리노드의 인덱스가 아니다\n",
    "        self.deleted = Null    # self.deleted : 프리 리스트의 머리 노드를 참조 \n",
    "        self.capacity = capacity\n",
    "        self.n = [Node()] * self.capacity # 연결리스트가 저장되는 배열 n\n",
    "        self.no = 0\n",
    "        \n",
    "    def __len__(self) -> int:\n",
    "        \n",
    "        return self.no\n",
    "    \n",
    "    def get_insert_index(self):  # 연결리스트에 노드를 추가할 때, 프리리스트의 머리노드 레코드를 가져오는 함수\n",
    "        \n",
    "        if self.deleted == Null: # 프리리스트가 비었다면, i.e. 삭제된 레코드가 하나도 없었다면 or 배열이 꽉 찼다면\n",
    "            if self.max + 1 < self.capacity:   # max를 1 증가시켰을때, 처음에 설정한 배열 크기보다 작으면 \n",
    "                self.max += 1                  # max +1 하고 self.max값 반환\n",
    "                return self.max                # 이런식으로 초기 빈 배열에 노드를 계속 추가해나가면서 삭제없이 배열을 꽉 채우거나\n",
    "            else:                              # 중간에 삭제와 추가를 반복해서 결국 빈 레코드 없이 배열이 꽉 차도\n",
    "                                               # self.max 값은 배열의 마지막 인덱스가 된다. \n",
    "                                               # 따라서 이때 +1을 하면 self.capacity와 값이 같다. \n",
    "                return Null      # i.e.배열 크기 초과\n",
    "        \n",
    "        else:                    # 프리리스트가 비어있지 않다면\n",
    "            rec = self.deleted   # rec: 프리리스트의 머리노드가 위치해있는 배열의 인덱스를 참조하는 self.deleted를 참조\n",
    "            self.deleted = self.n[rec].dnext  # self.deleted는 프리리스트 머리노드의 다음노드가 위치한 배열의 인덱스를 참조\n",
    "                                              # 즉 프리리스트의 머리노드의 다음노드를 새로운 머리노드로 설정\n",
    "            return rec           # 기존 프리리스트 머리노드가 위치해있는 배열의 인덱스를 반환\n",
    "    \n",
    "    def delete_index(self, idx: int) -> None:    # 삭제할 노드를 프리리스트의 머리노드로 등록하는 함수\n",
    "        \n",
    "        if self.deleted == Null:      # 프리리스트가 비었다면\n",
    "            self.deleted = idx        # self.deleted 필드는 삭제할 노드의 레코드 번호 idx를 참조\n",
    "                                      # 즉 삭제할 노드를 프리리스트의 머리노드로 등록 \n",
    "            self.n[idx].dnext = Null  # 새로 등록된 프리리스트의 머리노드의 dnext 필드는 -1을 참조, 프리리스트에 노드는 하나이므로.\n",
    "            \n",
    "        else:                     # 프리리스트가 비어있지 않다면\n",
    "            rec = self.deleted    # rec : 프리리스트 머리노드를 참조하는 self.deleted를 참조\n",
    "            self.deleted = idx    # self.deleted는 삭제할 노드의 레코드 번호 idx를 참조, \n",
    "                                   # 즉 삭제할 노드가 새로운 프리리스트의 머리노드가 된다.\n",
    "            self.n[idx].dnext = rec # 새로운 프리리스트 머리노드의 다음 노드가 기존 프리리스트 머리노드가 되도록 한다.\n",
    "            \n",
    "            # !!!!!!!!!!!!!! 즉 연결리스트에서 어떤 노드가 삭제되면, 그 노드는 프리리스트의 머리 노드가 되는 것이다.\n",
    "            \n",
    "    def search(self, data: Any) -> int:  # 검색하는 값과 일치하는 데이터를 가진 노드의 연결리스트 상 순번을 반환\n",
    "        cnt = 0\n",
    "        ptr = self.head\n",
    "        while ptr != Null:  # 연결리스트 끝까지 검색\n",
    "            if self.n[ptr].data == data:\n",
    "                self.current = ptr\n",
    "                return cnt\n",
    "            cnt += 1\n",
    "            ptr = self.n[ptr].next\n",
    "        return Null # 검색 실패\n",
    "    \n",
    "    def __contains__(self, data: Any) -> bool:\n",
    "        \n",
    "        return self.search(data) >= 0\n",
    "    \n",
    "    def add_first(self, data: Any):\n",
    "        \n",
    "        ptr = self.head                 # 비어 있는 연결리스트였다면 ptr은 -1 참조\n",
    "        rec = self.get_insert_index()   # 비어 있는 연결리스트였다면 rec는 0 참조. 왜냐면 self.max 는 -1이었고 여기에 +1\n",
    "        if rec != Null:  # 배열 크기를 초과하지 않았다면\n",
    "            self.head = self.current = rec\n",
    "            self.n[self.head] = Node(data, ptr)  # 비어있는 연결리스트였다면 배열 n의 0번째 인덱스, i.e. 0번 레코드에 노드 추가. \n",
    "                                                 # 비어있는 연결리스트였다면 새로 추가된 노드의 self.next 는 ptr 즉 -1을 참조\n",
    "            self.no += 1\n",
    "            \n",
    "    def add_last(self, data: Any) -> None:\n",
    "        \n",
    "        if self.head == Null:  # 비어 있는 연결리스트면\n",
    "            self.add_first(data)\n",
    "        else:\n",
    "            ptr = self.head   # 연결리스트에 노드가 하나 있다면 ptr은 0을 참조, 즉 self.head = 0\n",
    "            while self.n[ptr].next != Null: # 연결리스트 끝까지 가서\n",
    "                ptr = self.n[ptr].next\n",
    "            rec = self.get_insert_index()   # 추가될 노드가 저장될 인덱스를 rec가 참조\n",
    "                                            # 아직 프리리스트가 빈 상태이므로 self.max = 1, 즉 rec = 1\n",
    "            if rec != Null:  # 배열 크기를 초과하지 않았다면\n",
    "                self.n[ptr].next = self.current = rec  # 꼬리노드의 다음노드 커서가 새로 추가될 노드가 저장될 배열의 인덱스를 참조\n",
    "                self.n[rec] = Node(data)        # 새로 추가될 노드가 저장될 배열의 인덱스 rec 가 가리키는 곳에 새 노드 저장\n",
    "                self.no += 1\n",
    "                \n",
    "    def remove_first(self) -> None:\n",
    "        \n",
    "        if self.head != Null:   # 연결리스트가 비어있지 않으면\n",
    "            ptr = self.n[self.head].next  # ptr은 연결리스트의 머리노드의 다음 노드를 가리키는 인덱스를 참조\n",
    "            self.delete_index(self.head)  # 연결리스트의 머리노드를 프리리스트의 머리노드로 등록\n",
    "            self.head = self.current = ptr # 연결리스트의 머리노드 삭제\n",
    "            self.no -= 1\n",
    "            \n",
    "    def remove_last(self) -> None:\n",
    "        \n",
    "        if self.head != Null:  # 연결리스트가 비어있지 않으면\n",
    "            if self.n[self.head].next == Null: # 연결리스트에 노드가 하나뿐이면\n",
    "                self.remove_first()\n",
    "            else:              # 연결리스트가 비어있지 않으면\n",
    "                ptr = self.head\n",
    "                pre = self.head\n",
    "                \n",
    "                while self.n[ptr].next != Null:  # 연결리스트 끝까지 가서\n",
    "                    pre = ptr                    # pre 는 꼬리노드 직전 노드를 참조\n",
    "                    ptr = self.n[ptr].next\n",
    "                self.n[pre].next = Null          # 꼬리노드 삭제\n",
    "                self.delete_index(ptr)           # 삭제된 연결리스트의 꼬리노드를 프리리스트의 머리노드로 등록\n",
    "                self.current = pre\n",
    "                self.no -= 1\n",
    "                \n",
    "    def remove(self, p: int) -> None:\n",
    "        \n",
    "        if self.head != Null:   # 연결리스트가 비어있지 않으면\n",
    "            if p == self.head:  # 지우려는 노드가 연결리스트의 머리노드면\n",
    "                self.remove_first()\n",
    "            else:\n",
    "                ptr = self.head # 아니면 ptr은 연결리스트의 머리노드 참조\n",
    "                \n",
    "                while self.n[ptr].next != p: # \"어떤 노드\"의 다음 노드가 지우려는 노드가 될 때까지 반복                                         # p가 참조하는 인덱스면\n",
    "                                             # 지우려는 노드가 current 노드면, \"어떤 노드\"는 연결리스트상 current노드의 직전 노드\n",
    "                    ptr = self.n[ptr].next\n",
    "                    if ptr == Null:          # 만약 \"어떤 노드\"의 다음노드가 -1이면 \"어떤 노드\"는 꼬리노드란 소리이므로\n",
    "                        return               # 검색 종료\n",
    "                                             \n",
    "                self.delete_index(p)               # 지우려는 노드를 프리리스트의 머리노드로 등록\n",
    "                self.n[ptr].next = self.n[p].next  # \"어떤 노드\"의 다음 노드가 지우려는 노드의 다음노드가 되도록 한다. \n",
    "                self.current = ptr                 # self.current는 \"어떤 노드\"를 참조하도록 한다. \n",
    "                self.no -= 1\n",
    "                \n",
    "    def remove_current_node(self) -> None:\n",
    "        \n",
    "        self.remove(self.current)\n",
    "        \n",
    "    def clear(self) -> None:\n",
    "        \n",
    "        while self.head != Null:  # 연결리스트 전체가 빌 때까지\n",
    "            self.remove_first()\n",
    "        self.current = Null\n",
    "        \n",
    "    def next(self) -> bool:\n",
    "        \n",
    "        if self.current == Null or self.n[self.current].next == Null: # 연결리스트가 비어 있거나 노드가 하나밖에 없다면\n",
    "            return False\n",
    "        self.current = self.n[self.current].next\n",
    "        return True\n",
    "    \n",
    "    def print_current_node(self) -> None:\n",
    "        \n",
    "        if self.current == Null:\n",
    "            print(\"연결리스트가 비어있습니다\")\n",
    "        else: print(self.n[self.curent].data)\n",
    "        \n",
    "    def print(self) -> None:\n",
    "        \n",
    "        ptr = self.head\n",
    "        \n",
    "        while ptr != Null:\n",
    "            print(self.n[ptr].data)\n",
    "            ptr = self.n[ptr].next\n",
    "            \n",
    "    def dump(self) -> None:   # dump()는 배열상 노드가 저장된 순서대로 연결리스트를 출력\n",
    "        print(f'머리노드의 레코드 : {self.head}')\n",
    "        for i, n in enumerate(self.n):\n",
    "            print(f'{i}번째 레코드의 [data, next, dnext] : [{n.data}, {n.next}, {n.dnext}]')\n",
    "            \n",
    "    def __iter__(self) -> ArrayLinkedListIterator:\n",
    "        \n",
    "        return ArrayLinkedListIterator(self.n, self.head)\n",
    "    \n",
    "    \n",
    "class ArrayLinkedListIterator:\n",
    "    \n",
    "    \n",
    "    def __init__(self, n: int, head: int):\n",
    "        \n",
    "        self.n = n\n",
    "        self.current = head\n",
    "        \n",
    "    def __iter__(self) -> ArrayLinkedListIterator:\n",
    "        \n",
    "        return self\n",
    "    \n",
    "    def __next__(self) -> Any:\n",
    "        if self.current == Null:\n",
    "            raise StopIteration\n",
    "        else:\n",
    "            data = self.n[self.current].data\n",
    "            self.current = self.n[self.current].next\n",
    "            return data"
   ]
  },
  {
   "cell_type": "code",
   "execution_count": 122,
   "id": "768b77a3-6eb8-4f62-b16c-42896a0aad79",
   "metadata": {
    "tags": []
   },
   "outputs": [
    {
     "name": "stdout",
     "output_type": "stream",
     "text": [
      "\n",
      "\n",
      "\n",
      "\n"
     ]
    }
   ],
   "source": [
    "ALL = ArrayLinkedList(10)\n",
    "ALL.add_first(40); print()\n",
    "ALL.add_first(30); print()\n",
    "ALL.add_first(20); print()\n",
    "ALL.add_first(10); print()\n",
    "ALL.add_last(50)"
   ]
  },
  {
   "cell_type": "code",
   "execution_count": 123,
   "id": "44fa22fd-bb08-448e-b8df-8bf526975989",
   "metadata": {
    "tags": []
   },
   "outputs": [
    {
     "name": "stdout",
     "output_type": "stream",
     "text": [
      "ALL.head : 3\n",
      "ALL.current : 4\n",
      "ALL.n[0].data : 40\n",
      "ALL.n[0].next : 4\n",
      "ALL.n[1].data : 30\n",
      "ALL.n[1].next : 0\n",
      "ALL.n[2].data : 20\n",
      "ALL.n[2].next : 1\n",
      "ALL.n[3].data : 10\n",
      "ALL.n[3].next : 2\n",
      "ALL.n[4].data : 50\n",
      "ALL.n[4].next : -1\n"
     ]
    }
   ],
   "source": [
    "print(f'ALL.head : {ALL.head}')\n",
    "print(f'ALL.current : {ALL.current}')\n",
    "print(f'ALL.n[0].data : {ALL.n[0].data}')\n",
    "print(f'ALL.n[0].next : {ALL.n[0].next}')\n",
    "print(f'ALL.n[1].data : {ALL.n[1].data}')\n",
    "print(f'ALL.n[1].next : {ALL.n[1].next}')\n",
    "print(f'ALL.n[2].data : {ALL.n[2].data}')\n",
    "print(f'ALL.n[2].next : {ALL.n[2].next}')\n",
    "print(f'ALL.n[3].data : {ALL.n[3].data}')\n",
    "print(f'ALL.n[3].next : {ALL.n[3].next}')\n",
    "print(f'ALL.n[4].data : {ALL.n[4].data}')\n",
    "print(f'ALL.n[4].next : {ALL.n[4].next}')"
   ]
  },
  {
   "cell_type": "code",
   "execution_count": 124,
   "id": "2c240528-7324-4557-9155-30c9941f7696",
   "metadata": {
    "tags": []
   },
   "outputs": [
    {
     "name": "stdout",
     "output_type": "stream",
     "text": [
      "머리노드의 레코드 : 3\n",
      "0번째 레코드의 [data, next, dnext] : [40, 4, -1]\n",
      "1번째 레코드의 [data, next, dnext] : [30, 0, -1]\n",
      "2번째 레코드의 [data, next, dnext] : [20, 1, -1]\n",
      "3번째 레코드의 [data, next, dnext] : [10, 2, -1]\n",
      "4번째 레코드의 [data, next, dnext] : [50, -1, -1]\n",
      "5번째 레코드의 [data, next, dnext] : [-1, -1, -1]\n",
      "6번째 레코드의 [data, next, dnext] : [-1, -1, -1]\n",
      "7번째 레코드의 [data, next, dnext] : [-1, -1, -1]\n",
      "8번째 레코드의 [data, next, dnext] : [-1, -1, -1]\n",
      "9번째 레코드의 [data, next, dnext] : [-1, -1, -1]\n"
     ]
    }
   ],
   "source": [
    "ALL.dump()"
   ]
  },
  {
   "cell_type": "code",
   "execution_count": 125,
   "id": "e8e768d0-0cb8-4d55-973c-5047fdbe8a60",
   "metadata": {
    "tags": []
   },
   "outputs": [
    {
     "name": "stdout",
     "output_type": "stream",
     "text": [
      "ALL.head : 3\n",
      "ALL.current : 0\n",
      "ALL.n[0].data : 40\n",
      "ALL.n[0].next : -1\n",
      "ALL.n[1].data : 30\n",
      "ALL.n[1].next : 0\n",
      "ALL.n[2].data : 20\n",
      "ALL.n[2].next : 1\n",
      "ALL.n[3].data : 10\n",
      "ALL.n[3].next : 2\n",
      "ALL.n[4].data : 50\n",
      "ALL.n[4].next : -1\n"
     ]
    }
   ],
   "source": [
    "ALL.remove(ALL.current)\n",
    "print(f'ALL.head : {ALL.head}')\n",
    "print(f'ALL.current : {ALL.current}')\n",
    "print(f'ALL.n[0].data : {ALL.n[0].data}')\n",
    "print(f'ALL.n[0].next : {ALL.n[0].next}')\n",
    "print(f'ALL.n[1].data : {ALL.n[1].data}')\n",
    "print(f'ALL.n[1].next : {ALL.n[1].next}')\n",
    "print(f'ALL.n[2].data : {ALL.n[2].data}')\n",
    "print(f'ALL.n[2].next : {ALL.n[2].next}')\n",
    "print(f'ALL.n[3].data : {ALL.n[3].data}')\n",
    "print(f'ALL.n[3].next : {ALL.n[3].next}')\n",
    "print(f'ALL.n[4].data : {ALL.n[4].data}')\n",
    "print(f'ALL.n[4].next : {ALL.n[4].next}')"
   ]
  },
  {
   "cell_type": "code",
   "execution_count": 126,
   "id": "9eeb91a0-1d0d-4c67-929c-75d99bed19e2",
   "metadata": {
    "tags": []
   },
   "outputs": [
    {
     "name": "stdout",
     "output_type": "stream",
     "text": [
      "머리노드의 레코드 : 3\n",
      "0번째 레코드의 [data, next, dnext] : [40, -1, -1]\n",
      "1번째 레코드의 [data, next, dnext] : [30, 0, -1]\n",
      "2번째 레코드의 [data, next, dnext] : [20, 1, -1]\n",
      "3번째 레코드의 [data, next, dnext] : [10, 2, -1]\n",
      "4번째 레코드의 [data, next, dnext] : [50, -1, -1]\n",
      "5번째 레코드의 [data, next, dnext] : [-1, -1, -1]\n",
      "6번째 레코드의 [data, next, dnext] : [-1, -1, -1]\n",
      "7번째 레코드의 [data, next, dnext] : [-1, -1, -1]\n",
      "8번째 레코드의 [data, next, dnext] : [-1, -1, -1]\n",
      "9번째 레코드의 [data, next, dnext] : [-1, -1, -1]\n"
     ]
    }
   ],
   "source": [
    "ALL.dump()"
   ]
  },
  {
   "cell_type": "markdown",
   "id": "a5d39b62-617b-4037-b925-fefc69b46e86",
   "metadata": {},
   "source": [
    "연결리스트의 current가 꼬리노드를 보고 있을 때,\n",
    "\n",
    "    def remove() 함수로 current 노드를 삭제하게 되면 \n",
    "    self.n[ptr].next = self.n[p].next 에 의해, 새로운 current 노드의 커서는 -1을 참조한다. \n",
    "    왜냐면 삭제된 current 노드는 꼬리노드였으므로 그 커서값은 -1이니까"
   ]
  },
  {
   "cell_type": "code",
   "execution_count": 127,
   "id": "d14b2d81-5eb1-406a-a8e8-51f2bd387975",
   "metadata": {
    "tags": []
   },
   "outputs": [
    {
     "name": "stdout",
     "output_type": "stream",
     "text": [
      "ALL.head : 3\n",
      "ALL.current : 3\n",
      "ALL.n[0].data : 40\n",
      "ALL.n[0].next : -1\n",
      "ALL.n[1].data : 30\n",
      "ALL.n[1].next : 0\n",
      "ALL.n[2].data : 20\n",
      "ALL.n[2].next : 1\n",
      "ALL.n[3].data : 10\n",
      "ALL.n[3].next : 1\n",
      "ALL.n[4].data : 50\n",
      "ALL.n[4].next : -1\n"
     ]
    }
   ],
   "source": [
    "ALL.search(20)\n",
    "ALL.remove(ALL.current)\n",
    "print(f'ALL.head : {ALL.head}')\n",
    "print(f'ALL.current : {ALL.current}')\n",
    "print(f'ALL.n[0].data : {ALL.n[0].data}')\n",
    "print(f'ALL.n[0].next : {ALL.n[0].next}')\n",
    "print(f'ALL.n[1].data : {ALL.n[1].data}')\n",
    "print(f'ALL.n[1].next : {ALL.n[1].next}')\n",
    "print(f'ALL.n[2].data : {ALL.n[2].data}')\n",
    "print(f'ALL.n[2].next : {ALL.n[2].next}')\n",
    "print(f'ALL.n[3].data : {ALL.n[3].data}')\n",
    "print(f'ALL.n[3].next : {ALL.n[3].next}')\n",
    "print(f'ALL.n[4].data : {ALL.n[4].data}')\n",
    "print(f'ALL.n[4].next : {ALL.n[4].next}')"
   ]
  },
  {
   "cell_type": "code",
   "execution_count": 128,
   "id": "4886a3d7-52bc-4c1d-86ca-4f5043ac253d",
   "metadata": {
    "tags": []
   },
   "outputs": [
    {
     "name": "stdout",
     "output_type": "stream",
     "text": [
      "머리노드의 레코드 : 3\n",
      "0번째 레코드의 [data, next, dnext] : [40, -1, -1]\n",
      "1번째 레코드의 [data, next, dnext] : [30, 0, -1]\n",
      "2번째 레코드의 [data, next, dnext] : [20, 1, 4]\n",
      "3번째 레코드의 [data, next, dnext] : [10, 1, -1]\n",
      "4번째 레코드의 [data, next, dnext] : [50, -1, -1]\n",
      "5번째 레코드의 [data, next, dnext] : [-1, -1, -1]\n",
      "6번째 레코드의 [data, next, dnext] : [-1, -1, -1]\n",
      "7번째 레코드의 [data, next, dnext] : [-1, -1, -1]\n",
      "8번째 레코드의 [data, next, dnext] : [-1, -1, -1]\n",
      "9번째 레코드의 [data, next, dnext] : [-1, -1, -1]\n"
     ]
    }
   ],
   "source": [
    "ALL.dump()"
   ]
  },
  {
   "cell_type": "markdown",
   "id": "9d32da36-c884-45f3-be5a-6704cd5c77b2",
   "metadata": {},
   "source": [
    "연결리스트의 current가 꼬리노드가 아닌 노드를 보고 있을 때,\n",
    "\n",
    "    def remove() 함수로 current 노드를 삭제하게 되면 \n",
    "    self.n[ptr].next = self.n[p].next 에 의해\n",
    "    current노드의 직전노드 커서는 current 노드의 커서를 참조하게 된다. \n",
    "    다시 말해 잘 삭제된다.\n",
    "    \n",
    "    그리고 삭제뒤 새로운 current노드는 \n",
    "    삭제 전 current의 직전노드가 된다"
   ]
  },
  {
   "cell_type": "code",
   "execution_count": 129,
   "id": "990bd417-4496-47e7-8ba3-a9b070d6117c",
   "metadata": {
    "tags": []
   },
   "outputs": [
    {
     "name": "stdout",
     "output_type": "stream",
     "text": [
      "ALL.head : 1\n",
      "ALL.current : 1\n",
      "ALL.n[0].data : 40\n",
      "ALL.n[0].next : -1\n",
      "ALL.n[1].data : 30\n",
      "ALL.n[1].next : 0\n",
      "ALL.n[2].data : 20\n",
      "ALL.n[2].next : 1\n",
      "ALL.n[3].data : 10\n",
      "ALL.n[3].next : 1\n",
      "ALL.n[4].data : 50\n",
      "ALL.n[4].next : -1\n"
     ]
    }
   ],
   "source": [
    "ALL.remove(ALL.current)\n",
    "print(f'ALL.head : {ALL.head}')\n",
    "print(f'ALL.current : {ALL.current}')\n",
    "print(f'ALL.n[0].data : {ALL.n[0].data}')\n",
    "print(f'ALL.n[0].next : {ALL.n[0].next}')\n",
    "print(f'ALL.n[1].data : {ALL.n[1].data}')\n",
    "print(f'ALL.n[1].next : {ALL.n[1].next}')\n",
    "print(f'ALL.n[2].data : {ALL.n[2].data}')\n",
    "print(f'ALL.n[2].next : {ALL.n[2].next}')\n",
    "print(f'ALL.n[3].data : {ALL.n[3].data}')\n",
    "print(f'ALL.n[3].next : {ALL.n[3].next}')\n",
    "print(f'ALL.n[4].data : {ALL.n[4].data}')\n",
    "print(f'ALL.n[4].next : {ALL.n[4].next}')"
   ]
  },
  {
   "cell_type": "code",
   "execution_count": 130,
   "id": "cd069867-3a18-4d6b-a93f-f836f9988095",
   "metadata": {
    "tags": []
   },
   "outputs": [
    {
     "name": "stdout",
     "output_type": "stream",
     "text": [
      "프리리스트 머리노드 ALL.deleted : 3\n",
      "프리리스트 머리노드의 커서 ALL.n[ALL.deleted].dnext : 2\n",
      "프리리스트 머리노드의 커서의 커서 ALL.n[ALL.n[ALL.deleted].dnext].dnext : 4\n"
     ]
    }
   ],
   "source": [
    "print(f'프리리스트 머리노드 ALL.deleted : {ALL.deleted}')\n",
    "print(f'프리리스트 머리노드의 커서 ALL.n[ALL.deleted].dnext : {ALL.n[ALL.deleted].dnext}')\n",
    "print(f'프리리스트 머리노드의 커서의 커서 ALL.n[ALL.n[ALL.deleted].dnext].dnext : {ALL.n[ALL.n[ALL.deleted].dnext].dnext}')"
   ]
  },
  {
   "cell_type": "code",
   "execution_count": 131,
   "id": "743bc819-a5fb-4824-84c5-31a0ef294b79",
   "metadata": {
    "tags": []
   },
   "outputs": [
    {
     "name": "stdout",
     "output_type": "stream",
     "text": [
      "머리노드의 레코드 : 1\n",
      "0번째 레코드의 [data, next, dnext] : [40, -1, -1]\n",
      "1번째 레코드의 [data, next, dnext] : [30, 0, -1]\n",
      "2번째 레코드의 [data, next, dnext] : [20, 1, 4]\n",
      "3번째 레코드의 [data, next, dnext] : [10, 1, 2]\n",
      "4번째 레코드의 [data, next, dnext] : [50, -1, -1]\n",
      "5번째 레코드의 [data, next, dnext] : [-1, -1, -1]\n",
      "6번째 레코드의 [data, next, dnext] : [-1, -1, -1]\n",
      "7번째 레코드의 [data, next, dnext] : [-1, -1, -1]\n",
      "8번째 레코드의 [data, next, dnext] : [-1, -1, -1]\n",
      "9번째 레코드의 [data, next, dnext] : [-1, -1, -1]\n"
     ]
    }
   ],
   "source": [
    "ALL.dump()"
   ]
  },
  {
   "cell_type": "code",
   "execution_count": 132,
   "id": "8fd16aae-fe3c-4314-96fd-ea0513967037",
   "metadata": {
    "tags": []
   },
   "outputs": [
    {
     "name": "stdout",
     "output_type": "stream",
     "text": [
      "30\n",
      "40\n"
     ]
    }
   ],
   "source": [
    "for n in ALL:\n",
    "    print(n)"
   ]
  },
  {
   "cell_type": "code",
   "execution_count": null,
   "id": "48fa96d4-b5e4-4b67-b356-7e17c789aeac",
   "metadata": {},
   "outputs": [],
   "source": []
  },
  {
   "cell_type": "markdown",
   "id": "4ab775fe-ec88-4d68-a883-07827eadeedc",
   "metadata": {
    "tags": []
   },
   "source": [
    "# 문12) 파이썬의 논리연산자 and, or, not이 리턴하는 값\n",
    "파이썬의 논리 연산자 and, or는 True, False 를 반환하지 않는다."
   ]
  },
  {
   "cell_type": "code",
   "execution_count": 114,
   "id": "315a5baf-3587-40e4-9b96-fedb22e77274",
   "metadata": {
    "tags": []
   },
   "outputs": [
    {
     "data": {
      "text/plain": [
       "0"
      ]
     },
     "execution_count": 114,
     "metadata": {},
     "output_type": "execute_result"
    }
   ],
   "source": [
    "0 and 2 # and는 왼쪽 오른쪽 순서로 값을 평가해서 거짓이면 그값을 리턴, and는 왼쪽이 거짓이면 오른쪽 평가 생략"
   ]
  },
  {
   "cell_type": "code",
   "execution_count": 115,
   "id": "b191c779-0fa5-4ada-8d0c-9ee99f45ee74",
   "metadata": {
    "tags": []
   },
   "outputs": [
    {
     "data": {
      "text/plain": [
       "0"
      ]
     },
     "execution_count": 115,
     "metadata": {},
     "output_type": "execute_result"
    }
   ],
   "source": [
    "5 and 0 "
   ]
  },
  {
   "cell_type": "code",
   "execution_count": 112,
   "id": "46782ef0-84a4-4ac4-8fe3-da1725a7cd3a",
   "metadata": {
    "tags": []
   },
   "outputs": [
    {
     "data": {
      "text/plain": [
       "0"
      ]
     },
     "execution_count": 112,
     "metadata": {},
     "output_type": "execute_result"
    }
   ],
   "source": [
    "5 and 3 # 둘다 참이면 오른쪽 값을 리턴"
   ]
  },
  {
   "cell_type": "code",
   "execution_count": 116,
   "id": "4b642078-6e8b-47ee-855a-781d98bbdb20",
   "metadata": {
    "tags": []
   },
   "outputs": [
    {
     "data": {
      "text/plain": [
       "3"
      ]
     },
     "execution_count": 116,
     "metadata": {},
     "output_type": "execute_result"
    }
   ],
   "source": [
    "0 or 3 # or는 왼쪽 오른쪽 순서로 값을 평가해서 참이면 그값을 리턴,"
   ]
  },
  {
   "cell_type": "code",
   "execution_count": 51,
   "id": "5088946e-b4f7-4451-afef-cf1f6473dc2a",
   "metadata": {
    "tags": []
   },
   "outputs": [
    {
     "data": {
      "text/plain": [
       "1"
      ]
     },
     "execution_count": 51,
     "metadata": {},
     "output_type": "execute_result"
    }
   ],
   "source": [
    "1 or 0 # or는 왼쪽이 참이면 오른쪽 평가 생략"
   ]
  },
  {
   "cell_type": "code",
   "execution_count": 134,
   "id": "bbb0c016-066c-4b85-8a53-17c30f81713a",
   "metadata": {
    "tags": []
   },
   "outputs": [
    {
     "data": {
      "text/plain": [
       "False"
      ]
     },
     "execution_count": 134,
     "metadata": {},
     "output_type": "execute_result"
    }
   ],
   "source": [
    "False or False"
   ]
  },
  {
   "cell_type": "code",
   "execution_count": 135,
   "id": "0673835b-8c54-46e1-b55c-647e11bf045b",
   "metadata": {
    "tags": []
   },
   "outputs": [
    {
     "data": {
      "text/plain": [
       "0"
      ]
     },
     "execution_count": 135,
     "metadata": {},
     "output_type": "execute_result"
    }
   ],
   "source": [
    "0 or 0"
   ]
  },
  {
   "cell_type": "markdown",
   "id": "3530d106-47ff-4857-9871-99c12ab9196d",
   "metadata": {},
   "source": [
    "not은 True, False를 반환한다.  \n",
    "\n",
    "\n",
    "# 문13) 논리 연산자 and, or, not의 우선순위\n",
    "not, and, or 순이다."
   ]
  },
  {
   "cell_type": "code",
   "execution_count": 53,
   "id": "2fe0efa9-ab3c-4287-9313-0a9dbdb5faa2",
   "metadata": {
    "tags": []
   },
   "outputs": [
    {
     "data": {
      "text/plain": [
       "1"
      ]
     },
     "execution_count": 53,
     "metadata": {},
     "output_type": "execute_result"
    }
   ],
   "source": [
    "not 0 and 1"
   ]
  },
  {
   "cell_type": "code",
   "execution_count": 54,
   "id": "c43fc84d-40ee-432e-beb9-d832554ce1ac",
   "metadata": {
    "tags": []
   },
   "outputs": [
    {
     "data": {
      "text/plain": [
       "False"
      ]
     },
     "execution_count": 54,
     "metadata": {},
     "output_type": "execute_result"
    }
   ],
   "source": [
    "not 1 and 0"
   ]
  },
  {
   "cell_type": "code",
   "execution_count": 55,
   "id": "1be655db-6718-4f7c-bcef-24724fa3d600",
   "metadata": {
    "tags": []
   },
   "outputs": [
    {
     "data": {
      "text/plain": [
       "True"
      ]
     },
     "execution_count": 55,
     "metadata": {},
     "output_type": "execute_result"
    }
   ],
   "source": [
    "not 0 or 0"
   ]
  },
  {
   "cell_type": "code",
   "execution_count": 58,
   "id": "ba8a48cf-0907-4fc6-826e-d0bfded94c51",
   "metadata": {
    "tags": []
   },
   "outputs": [
    {
     "data": {
      "text/plain": [
       "2"
      ]
     },
     "execution_count": 58,
     "metadata": {},
     "output_type": "execute_result"
    }
   ],
   "source": [
    "not 1 or 1 and 2"
   ]
  },
  {
   "cell_type": "code",
   "execution_count": null,
   "id": "82a95675-f6eb-4630-8888-afad7104b25a",
   "metadata": {},
   "outputs": [],
   "source": []
  }
 ],
 "metadata": {
  "kernelspec": {
   "display_name": "tf",
   "language": "python",
   "name": "tf"
  },
  "language_info": {
   "codemirror_mode": {
    "name": "ipython",
    "version": 3
   },
   "file_extension": ".py",
   "mimetype": "text/x-python",
   "name": "python",
   "nbconvert_exporter": "python",
   "pygments_lexer": "ipython3",
   "version": "3.11.0"
  }
 },
 "nbformat": 4,
 "nbformat_minor": 5
}
