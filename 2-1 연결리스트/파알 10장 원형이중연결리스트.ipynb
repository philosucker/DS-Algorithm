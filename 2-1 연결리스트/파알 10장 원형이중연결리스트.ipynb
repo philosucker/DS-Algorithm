{
 "cells": [
  {
   "cell_type": "markdown",
   "id": "375c1b31-0402-426f-ae3d-d83563f81a37",
   "metadata": {},
   "source": [
    "# 문26 원형 데크 디자인 m\n",
    "\n",
    "https://leetcode.com/problems/design-circular-deque"
   ]
  },
  {
   "cell_type": "code",
   "execution_count": null,
   "id": "f6c1c030-be80-4a22-97c8-5fc4cfbec18a",
   "metadata": {},
   "outputs": [],
   "source": []
  },
  {
   "cell_type": "code",
   "execution_count": null,
   "id": "1d1c458c-b79e-45d0-b614-90bb23c77c58",
   "metadata": {},
   "outputs": [],
   "source": []
  },
  {
   "cell_type": "markdown",
   "id": "07754c98-9ce9-41c5-9ff6-4bb953391dd0",
   "metadata": {},
   "source": [
    "파이썬의 collections.deque는 (원형)이중연결리스트로 구현되어 있다. (아마 커서연결리스트로. 프리리스트를 사용하는)\n",
    "\n",
    "    덱 = 이중연결리스트\n",
    "    원형 덱 = 원형이중연결리스트 (자료구조 책 8장 원형이중연결리스트 참고)"
   ]
  },
  {
   "cell_type": "markdown",
   "id": "aa80cc6f-2b03-42cb-949e-f4a99a077f3f",
   "metadata": {},
   "source": [
    "원형 큐 = 링버퍼 (링버퍼 자료구조 책 4장 큐 )"
   ]
  },
  {
   "cell_type": "markdown",
   "id": "6befe057-cea1-495c-8677-1c139d0e6745",
   "metadata": {},
   "source": [
    "    원형으로 구현하는 이유는 뒤쪽으로 요소를 채우다가, \n",
    "    공간이 다 차게 되면 tail과 head를 연결해 앞쪽의 빈 공간을 활용하려는 의도인데\n",
    "    포인터로 구현한 연결리스트에는 애초에 빈공간이라는 개념이 존재하지 않기 때문에 \n",
    "    원형은 아무런 의미가 없다.\n",
    "        \n",
    "        프리리스트를 쓰면?\n",
    "    \n",
    "    원형의 이점을 살리기 위해서라면 연결리스트가 아닌 배열로 풀어야 한다.\n",
    "        \n",
    "        커서 연결리스트?\n",
    "        \n",
    "여기서 원형 이중 연결리스트로 원형 덱을 구현하는 건   \n",
    "단순히 문제풀이를 위해 구현하는 것이다.  \n",
    "즉 반쪽짜리 구현"
   ]
  },
  {
   "cell_type": "code",
   "execution_count": 8,
   "id": "16739376-cb03-4bf8-9ebb-98768087b45b",
   "metadata": {
    "tags": []
   },
   "outputs": [],
   "source": [
    "class ListNode:\n",
    "    def __init__(self, val=0, next=None):\n",
    "        self.val = val\n",
    "        self.next = next\n",
    "        \n",
    "class ListNode:\n",
    "    def __init__(self, x):\n",
    "        self.val = x\n",
    "        self.next = None"
   ]
  },
  {
   "cell_type": "code",
   "execution_count": 9,
   "id": "e6450516-f44a-43da-a9e7-6b12f890184e",
   "metadata": {
    "tags": []
   },
   "outputs": [
    {
     "data": {
      "text/plain": [
       "(1, 4)"
      ]
     },
     "execution_count": 9,
     "metadata": {},
     "output_type": "execute_result"
    }
   ],
   "source": [
    "b = 1\n",
    "a = b\n",
    "b = 4\n",
    "\n",
    "a, b"
   ]
  },
  {
   "cell_type": "code",
   "execution_count": 18,
   "id": "424100aa-a3fc-4518-b115-f27d9f875067",
   "metadata": {
    "tags": []
   },
   "outputs": [],
   "source": [
    "class CircularDeque:\n",
    "    \n",
    "    \n",
    "    def __init__(self, k: int) -> None:\n",
    "\n",
    "        self.head, self.tail = ListNode(None), ListNode(None)\n",
    "        self.k, self.len = k, 0   # self.k : 최대길이  self.len : 현재 길이 \n",
    "        self.head.right, self.tail.left = self.tail, self.head  # head.right 가 tail\n",
    "                                                                # tail.left가 head"
   ]
  },
  {
   "cell_type": "markdown",
   "id": "28ebd82a-37c2-48fb-b74e-fed0ec1dc23a",
   "metadata": {},
   "source": [
    "        즉 head와 tail 필드가 각각 빈 더미 노드를 참조하게 하고\n",
    "        head.right와 tail.left 필드가 각각 tail과 head를 가리키게 한다.\n",
    "        \n",
    "          h -> t\n",
    "             <-    요런 느낌 "
   ]
  },
  {
   "cell_type": "code",
   "execution_count": 10,
   "id": "07b3be04-9794-4993-a769-d6b4e5e70aac",
   "metadata": {
    "tags": []
   },
   "outputs": [],
   "source": [
    "class CircularDeque:\n",
    "    \n",
    "    \n",
    "    def __init__(self, k: int) -> None:\n",
    "\n",
    "        self.head, self.tail = ListNode(None), ListNode(None)\n",
    "        self.k, self.len = k, 0   # self.k : 최대길이  self.len : 현재 길이 \n",
    "        self.head.right, self.tail.left = self.tail, self.head  # head.right 가 tail\n",
    "                                                                # tail.left가 head\n",
    "    def _add(self, node: ListNode, new: ListNode) -> None:\n",
    "        \n",
    "        n = node.right    \n",
    "        node.right = new  # node.right = new  해도 위의 n = node.right는 그대로 \n",
    "                                            # >>> 파알 8장 연결리스트 노트북 assignment응용 참고\n",
    "        new.left, new.right = node, n\n",
    "        n.left = new\n",
    "        \n",
    "    def insert_front(self, value: int) -> bool:\n",
    "        \n",
    "        if self.len == self.k:\n",
    "            return False\n",
    "        self.len += 1\n",
    "        self._add(self.head, ListNode(value))  # head 위치에 노드 삽입\n",
    "        return True"
   ]
  },
  {
   "cell_type": "markdown",
   "id": "5b32b927-c70f-46e0-b723-60007dcc998a",
   "metadata": {},
   "source": [
    "빈 리스트였다면 \n",
    "\n",
    "head  tail  두 더미 노드밖에 없다.\n",
    "\n",
    "    여기에 insert_front 함수로 새 노드를 추가하면\n",
    "    self._add(self.head, ListNode(value)) 코드가 실행된다.\n",
    "\n",
    "_add 함수에서 첫번째 인자 node는 self.head, 두번째 인자 new는 새로 추가한 노드가 된다. \n",
    "\n",
    "    n = node.right\n",
    "        i.e. n = self.head.right   \n",
    "        i.e. self.head.right = self.tail\n",
    "        i.e. n = self.tail\n",
    "    \n",
    "    node.right = new\n",
    "        i.e. self.head.right = new   \n",
    "    \n",
    "                            h -> new\n",
    "        \n",
    "    new.left = node\n",
    "        i.e. new.left = self.head\n",
    "    \n",
    "                            h -> new\n",
    "                              <-\n",
    "          \n",
    "    new.right = n \n",
    "        i.e. new.right = self.tail\n",
    "    \n",
    "                            h -> new -> t\n",
    "                              <-    \n",
    "    \n",
    "    n.left = new\n",
    "        i.e. self.tail.left = new \n",
    "    \n",
    "                            h -> new -> t\n",
    "                              <-      <-\n",
    "                              \n",
    "이제 여기서 insert_front 를 한번 더 하게 되면\n",
    "\n",
    "    n = self.head.right   \n",
    "        여기서 self.head.right = new 이므로 i.e. 새로운 변수 n에 기존의 new를 담아두고\n",
    "    \n",
    "    head와 기존에 추가했던 new 사이에 새로운 노드를 추가하게 된다"
   ]
  },
  {
   "cell_type": "code",
   "execution_count": 20,
   "id": "159ccef4-0e44-4641-968a-f8eaf71704e0",
   "metadata": {
    "tags": []
   },
   "outputs": [],
   "source": [
    "class CircularDeque:\n",
    "    \n",
    "    \n",
    "    def __init__(self, k: int) -> None:\n",
    "\n",
    "        self.head, self.tail = ListNode(None), ListNode(None)\n",
    "        self.k, self.len = k, 0   # self.k : 최대길이  self.len : 현재 길이 \n",
    "        self.head.right, self.tail.left = self.tail, self.head  # head.right 가 tail\n",
    "                                                                # tail.left가 head\n",
    "\n",
    "    def _add(self, node: ListNode, new: ListNode) -> None:\n",
    "        \n",
    "        n = node.right    # n = node.right\n",
    "        node.right = new  # node.right = new  해도 위의 n = node.right는 그대로 \n",
    "                                            # >>> 파알 8장 연결리스트 노트북 assignment응용 참고\n",
    "        new.left, new.right = node, n\n",
    "        n.left = new\n",
    "        \n",
    "    def insert_last(self, value: int) -> bool:\n",
    "        \n",
    "        if self.len == self.k:\n",
    "            return False\n",
    "        self.len += 1\n",
    "        self._add(self.tail.left, ListNode(value))\n",
    "        return True        "
   ]
  },
  {
   "cell_type": "markdown",
   "id": "990d15a4-fdd8-4a24-90df-459b02c66080",
   "metadata": {},
   "source": [
    "빈 리스트에서 insert_last 를 하면\n",
    "  \n",
    "    \n",
    "h  t 더미만 있는 상황에서\n",
    "\n",
    "    n = node.right\n",
    "        n = self.tail.left.right = self.head.right = self.tail\n",
    "        i.e. \n",
    "        n = self.tail\n",
    "\n",
    "\n",
    "    node.right = new\n",
    "        self.tail.left.right = self.head.right = new  \n",
    "        i.e. \n",
    "        self.head.right = new\n",
    "        \n",
    "                        h -> new\n",
    "\n",
    "    new.left = node\n",
    "        new.left = self.tail.left = self.head\n",
    "        i.e.\n",
    "        new.left = self.head\n",
    "        \n",
    "                        h -> new\n",
    "                          <-\n",
    "    new.right = n\n",
    "        new.right = self.tail\n",
    "        \n",
    "                        h -> new -> t\n",
    "                          <-   \n",
    "    n.left = new\n",
    "        self.tail.left = new\n",
    "        \n",
    "                         h -> new -> t\n",
    "                          <-      <-   \n",
    "여기서 한 번 더 insert_last 를 하면\n",
    "\n",
    "    n = node.right\n",
    "        i.e. n = self.tail.left.right \n",
    "        여기서 self.tail.left는 기존에 추가됐던 new가 되므로 \n",
    "        n = new.right 가 된다. new.right는 tail이므로\n",
    "        n = self.tail\n",
    "        \n",
    "        new와 tail 사이에 새로 추가되는 노드를 삽입하게 된다"
   ]
  },
  {
   "cell_type": "code",
   "execution_count": 4,
   "id": "3afba008-d4af-49c3-bbd0-ec5424f1f6e1",
   "metadata": {
    "tags": []
   },
   "outputs": [],
   "source": [
    "class CircularDeque:\n",
    "    \n",
    "    \n",
    "    def __init__(self, k: int) -> None:\n",
    "\n",
    "        self.head, self.tail = ListNode(None), ListNode(None)\n",
    "        self.k, self.len = k, 0   # self.k : 최대길이  self.len : 현재 길이 \n",
    "        self.head.right, self.tail.left = self.tail, self.head  # head.right 가 tail\n",
    "                                                                # tail.left가 head\n",
    "\n",
    "    def _add(self, node: ListNode, new: ListNode) -> None:\n",
    "        \n",
    "        n = node.right    # n = node.right\n",
    "        node.right = new  # node.right = new  해도 위의 n = node.right는 그대로 \n",
    "                                            # >>> 파알 8장 연결리스트 노트북 assignment응용 참고\n",
    "        new.left, new.right = node, n\n",
    "        n.left = new\n",
    "        \n",
    "    def insert_last(self, value: int) -> bool:\n",
    "        \n",
    "        if self.len == self.k:\n",
    "            return False\n",
    "        self.len += 1\n",
    "        self._add(self.tail.left, ListNode(value))\n",
    "        return True        \n",
    "        \n",
    "    def insert_front(self, value: int) -> bool:\n",
    "        \n",
    "        if self.len == self.k:\n",
    "            return False\n",
    "        self.len += 1\n",
    "        self._add(self.head, ListNode(value))  # 빈 리스트였다면 head와 tail 더미노드 사이에 새 노드 삽입\n",
    "        return True\n",
    "    \n",
    "    def _del(self, node: ListNode) -> None:\n",
    "        \n",
    "        n = node.right.right\n",
    "        node.right = n   # delete_front의 경우         head의 right를 head 다음 다음 노드로\n",
    "        n.left = node    #                            head 다음 다음 노드의 left를 헤드로 \n",
    "        \n",
    "        # n = node.right.right  # delete_last의 경우   \n",
    "        # node.right = n                             tail의 이전 이전 노드의 right를 tail로 \n",
    "        # n.left = node                              tail의 left를 tail의 이전 이전 노드로 \n",
    "        \n",
    "    def delete_front(self) -> bool:\n",
    "        \n",
    "        if self.len == 0:\n",
    "            return False\n",
    "        self.len -= 1\n",
    "        self._del(self.head)\n",
    "        return True\n",
    "    \n",
    "    def delete_last(self) -> bool:\n",
    "        \n",
    "        if self.len == 0:\n",
    "            return False\n",
    "        self.len -= 1\n",
    "        self._del(self.tail.left.left)\n",
    "        return True\n",
    "    \n",
    "    def get_front(self) -> int:\n",
    "        \n",
    "        return self.head.right.val if self.len else -1\n",
    "    \n",
    "    def get_rear(self) -> int:\n",
    "        \n",
    "        return self.tail.left.val if self.len else -1\n",
    "    \n",
    "    def is_empty(self) -> bool:\n",
    "        \n",
    "        return self.len == 0\n",
    "    \n",
    "    def is_full(self) -> bool:\n",
    "        \n",
    "        return self.len == self.k\n",
    "        "
   ]
  },
  {
   "cell_type": "code",
   "execution_count": null,
   "id": "1b5cc045-fb0e-4834-a645-51c6c06a12a7",
   "metadata": {},
   "outputs": [],
   "source": []
  }
 ],
 "metadata": {
  "kernelspec": {
   "display_name": "tf",
   "language": "python",
   "name": "tf"
  },
  "language_info": {
   "codemirror_mode": {
    "name": "ipython",
    "version": 3
   },
   "file_extension": ".py",
   "mimetype": "text/x-python",
   "name": "python",
   "nbconvert_exporter": "python",
   "pygments_lexer": "ipython3",
   "version": "3.11.0"
  }
 },
 "nbformat": 4,
 "nbformat_minor": 5
}
