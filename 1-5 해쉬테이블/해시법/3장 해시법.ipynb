{
 "cells": [
  {
   "cell_type": "markdown",
   "id": "6491a5f0-67b3-4789-831b-aadcdbf5fd86",
   "metadata": {},
   "source": [
    "# 문11) 해시법(오픈해시법, 체인법) 이란?"
   ]
  },
  {
   "cell_type": "markdown",
   "id": "67d9ad4d-d7ac-4c04-b38b-495cc6f89077",
   "metadata": {},
   "source": [
    "해시값 hash value, digest \n",
    "\n",
    "    기능 : 해시값을 인덱스로 하는 hash table에 접근할 수 있다.\n",
    "    \n",
    "    계산 :해시값은 해시 함수로 구한다.\n",
    "        \n",
    "        hash value = key % capacity\n",
    "        \n",
    "            key : 유저가 입력할 키 = 해시 테이블(배열)에 입력될 원소의 값\n",
    "            capacity : hash table을 만든 사람이 설정한 해시테이블의 크기, 대개 prime number 사용\n",
    "            key % capacity : hash function의 한 종류\n",
    "            \n",
    "    버킷 : 키와 밸류, 다음 버킷(노드)의 참조 정보를 가진 인스턴스(연결리스트의 노드)\n",
    "        \n",
    "        즉 버킷들은 자신의 해시값을 인덱스로 하는 해시테이블에 저장된다.\n",
    "        \n",
    "    \n",
    "    작동구조 : 이제 사용자가 임의의 키를 입력하면 \n",
    "             해시함수로 해당 키를 해시값으로 바꿔서, \n",
    "             해당 해시값을 인덱스로 하는 해시테이블의 버킷에 접근할 수 있다. 즉 검색할 수 있다. \n",
    "             이런 방식으로 버킷 추가, 삭제도 가능\n",
    "    \n",
    "    해시 충돌 : 서로 다른 키값이 같은 해시값을 가지게 되는 경우\n",
    "    \n",
    "    해시충돌 해결법 : 체인법, 오픈주소법.\n",
    "\n",
    "        체인법(오픈 해시법) : 해시값이 같은 버킷들은 연결리스트로 연결된다. \n",
    "                          각 버킷은 같은 해시값에 특정 규칙으로 연결된 노드들을 참조한다.\n",
    "                          잘 구현하면 O(1), 최악의 경우(모든 해시 충돌이 발생한 경우): O(n)\n",
    "                          \n",
    "                          체인법을 쓰는 언어 : C++, 자바, 고\n",
    "\n",
    "    서로 다른 키가 같은 해시값을 갖는 건 괜찮지만\n",
    "    똑같은 키를 중복해서 해시값에 맵핑할 수 없다.\n",
    "    어떤 밸류를 가져와야 할지 알 수 없으므로.\n",
    "\n",
    "    키만 다르다면 서로 독립된 노드에 접근 가능하게 만들 수 있다. 노드마다 다른 키를 갖게 되므로"
   ]
  },
  {
   "cell_type": "markdown",
   "id": "938a1f5e-b945-4ca8-a745-2434df074257",
   "metadata": {},
   "source": [
    "# 문12) 해시테이블에서 해시충돌가능성과 메모리의 트레이드 오프\n",
    "\n",
    "해시테이블을 아주 크게 만들면, 해시충돌을 더 줄일 수 있지만 메모리 낭비  \n",
    "해시함수가 해시테이블 크기보다 작거나 같은 해시값을 만들어내게 하는 게 좋다"
   ]
  },
  {
   "cell_type": "markdown",
   "id": "8de98a59-899b-4e22-b64d-cf85b367053a",
   "metadata": {},
   "source": [
    "# 문13) 해시함수에 입력되는 키가 int가 아닌 문자열인 경우"
   ]
  },
  {
   "cell_type": "markdown",
   "id": "ba27bb96-64f0-4212-9599-a9ae9ca28863",
   "metadata": {},
   "source": [
    "    1. 문자열을 바이트문자열로 바꾸고 str(key).encode() \n",
    "    2. sha256 알고리즘을 통해 해시값으로 바꾸고 hashlib.sha256(str(key).encode())\n",
    "    3. 바꾼 해시값을 다시 16진수로 바꾸고hashlib.sha256(str(key).encode()).hexdigest()\n",
    "    4. 바꾼 16진수를 다시 10진수 정수로 바꾼다. int(hashlib.sha256(str(key).encode()).hexdigest(), 16)\n",
    "    5. 이 정수로 capacity를 나눈 나머지를 해시값으로 쓴다."
   ]
  },
  {
   "cell_type": "code",
   "execution_count": 81,
   "id": "02878924-6af4-4546-88bd-6407cf84ba7e",
   "metadata": {
    "tags": []
   },
   "outputs": [
    {
     "name": "stdout",
     "output_type": "stream",
     "text": [
      "b'love'\n",
      "b'hotj\\x95\\xb6\\xf86\\xd7\\xd7\\x05g\\xc3\\x02\\xc3\\xf9\\xeb\\xb5\\xee\\r\\xef=\\x12 \\xee\\x9dN\\x9f4\\xf5\\xe11'\n",
      "686f746a95b6f836d7d70567c302c3f9ebb5ee0def3d1220ee9d4e9f34f5e131\n",
      "47237459752947480255640604573901605112751966017541630774679148972986760290609\n",
      "12\n"
     ]
    }
   ],
   "source": [
    "import hashlib \n",
    "\n",
    "key = \"love\"\n",
    "print(str(key).encode())\n",
    "print(hashlib.sha256(str(key).encode()).digest())\n",
    "print(hashlib.sha256(str(key).encode()).hexdigest())\n",
    "print(int(hashlib.sha256(str(key).encode()).hexdigest(), 16))\n",
    "print(int(hashlib.sha256(str(key).encode()).hexdigest(), 16) % 13)"
   ]
  },
  {
   "cell_type": "markdown",
   "id": "8ac05df6-c104-4bd9-b00a-c2ae4c6babb4",
   "metadata": {},
   "source": [
    "# 문14) 체인법 구현"
   ]
  },
  {
   "cell_type": "markdown",
   "id": "fbdfba7d-6b32-4b22-a2a5-b607e88872ca",
   "metadata": {},
   "source": [
    "노드 클래스, 해시클래스, 해시함수, search, add, remove, dump"
   ]
  },
  {
   "cell_type": "code",
   "execution_count": 2,
   "id": "8c7ee2f4-f122-4a4f-ab3d-90572a3d9d8b",
   "metadata": {
    "tags": []
   },
   "outputs": [],
   "source": [
    "from __future__ import annotations\n",
    "from typing import Any, Type\n",
    "import hashlib\n",
    "\n",
    "class Node:\n",
    "    \"\"\"해시를 구성하는 노드(버킷)\"\"\"\n",
    "\n",
    "    def __init__(self, key: Any, value: Any, next: Node) -> None:\n",
    "        \"\"\"초기화\"\"\"\n",
    "        self.key   = key    # 유저가 입력할 키 값\n",
    "        self.value = value  # 해당 키에 저장하고 싶은 데이터\n",
    "        self.next  = next   # 다음 노드를 참조"
   ]
  },
  {
   "cell_type": "code",
   "execution_count": 53,
   "id": "91a00a1f-f80b-4442-80b5-2bb1377f54a5",
   "metadata": {
    "tags": []
   },
   "outputs": [],
   "source": [
    "class ChainedHash:\n",
    "    \"\"\"체인법으로 해시 클래스 구현\"\"\"\n",
    "\n",
    "    def __init__(self, capacity: int) -> None:\n",
    "        \"\"\"초기화\"\"\"\n",
    "        self.capacity = capacity             # 해시 테이블을 만든 사람이 설정한 테이블의 크기\n",
    "        self.table = [None] * self.capacity  # 해시 테이블(리스트)을 선언\n",
    "\n",
    "    def hash_value(self, key: Any) -> int:\n",
    "        \"\"\"해시값을 구함\"\"\"\n",
    "        if isinstance(key, int):\n",
    "            return key % self.capacity       # hash value(digest)를 인덱스로 하여 hash table에 접근\n",
    "        return(int(hashlib.sha256(str(key).encode()).hexdigest(), 16) % self.capacity)\n",
    "    \n",
    "    def search(self, key: Any) -> Any:\n",
    "        \"\"\"key를 입력하면 value를 리턴\"\"\"\n",
    "        hash = self.hash_value(key)  # 키에 해당하는 hash value 계산\n",
    "        p = self.table[hash]         # p는 해당 해시값의 노드(버킷)를 참조\n",
    "\n",
    "        while p is not None:         # 해당 해시값에 연결된 모든 노드를 검색\n",
    "            if p.key == key:\n",
    "                 return p.value  # 검색 성공\n",
    "            p = p.next           # 아니면 p는 다음 노드를 참조\n",
    "\n",
    "        return None              # 검색 실패\n",
    "\n",
    "    def add(self, key: Any, value: Any) -> bool:\n",
    "        \"\"\"추가하려는 key와 해당 키의 value 추가\"\"\"\n",
    "        hash = self.hash_value(key)  # 입력한 키의 해시값\n",
    "        p = self.table[hash]         # p는 해당 해시값의 노드를 참조 (해당 해시가 비었다면 p는 None 을 참조)\n",
    "\n",
    "        while p is not None:         # 빈 해시라면 while문 패스 / 해시 충돌이라면 해당 해시값에 연결된 모든 노드들을 돌며 키가 다른지 확인\n",
    "            if p.key == key:                                # 추가하려는 키가 현재 노드의 키와 같다면\n",
    "                return False                                     # 삽입 실패\n",
    "            p = p.next                                      # 키가 다르다면 p는 다음노드를 참조\n",
    "            \n",
    "        temp = Node(key, value, self.table[hash]) \n",
    "        # 빈 해시였다면 추가하려는 키와 밸류로 새 노드를 만든다. \n",
    "            # 이때 추가된 노드의 self.next는 None을 참조 (self.table[hash] 값은 해당 해시값의 해시테이블 위치가 비어있으므로 None이다)\n",
    "        # 해시 충돌이라면 키 검사를 끝냈으므로 추가하려는 키와 밸류로 새 노드를 만든다. \n",
    "            # 이때 추가된 노드의 self.next는 해당 해시값에 저장돼 있는 맨 첫번째 노드를 참조 \n",
    "                # (self.table[hash] 값은 해당 해시값의 해시테이블의 맨 첫번째 버킷을 참조하고 있으므로)\n",
    "            \n",
    "        self.table[hash] = temp      # 해시테이블에 해당 해시값이 새로 추가된 노드를 참조하게 만든다.\n",
    "                                         # 따라서 새로 추가된 노드는 해당 해시값에 연결된 첫번째 노드가 되고, \n",
    "                                         # 기존 첫번째 노드는 새로 추가된 노드의 다음 노드가 된다\n",
    "        return True                  # 삽입 성공\n",
    "\n",
    "\n",
    "    def remove(self, key: Any) -> bool:\n",
    "        \"\"\"키가 key인 원소를 삭제\"\"\"\n",
    "        hash = self.hash_value(key)  # 삭제할 키의 해시값\n",
    "        p = self.table[hash]         # p는 해당 해시의 노드를 참조\n",
    "        pp = None                    # 바로 앞 주목 노드\n",
    "\n",
    "        while p is not None:         # 해당 해시값에 연결된 모든 노드를 검색\n",
    "            if p.key == key:  # 삭제하려는 key와 같은 키의 노드를 발견하면 \n",
    "                if pp is None:\n",
    "                    self.table[hash] = p.next # 해당노드를 삭제\n",
    "                else:\n",
    "                    pp.next = p.next  # p의 다음 노드는 p의 다음 다음 노드를 참조. i.e. p의 다음노드를 삭제\n",
    "                return True  # key 삭제 성공\n",
    "            pp = p                   # 삭제하려는 key와 노드의 키가 다르면, pp는 p를 참조\n",
    "            p = p.next       # p는 다음 노드를 참조\n",
    "            \n",
    "        return False         # 삭제 실패(key가 존재하지 않음)\n",
    "\n",
    "    def dump(self) -> None:\n",
    "        \"\"\"해시 테이블을 덤프\"\"\"\n",
    "        for i in range(self.capacity):\n",
    "            p = self.table[i]\n",
    "            print(i, end='')\n",
    "            while p is not None:\n",
    "                print(f'  → {p.key} ({p.value})', end='')  # 해시 테이블의 해당 해시값과, 연결된 연결된 모든 노드의 키, 밸류 출력\n",
    "                p = p.next\n",
    "            print()"
   ]
  },
  {
   "cell_type": "code",
   "execution_count": 54,
   "id": "dc6d0299-3f35-4349-b02a-747e10eb3f4f",
   "metadata": {
    "tags": []
   },
   "outputs": [],
   "source": [
    "hash = ChainedHash(13)"
   ]
  },
  {
   "cell_type": "code",
   "execution_count": 55,
   "id": "66efc553-c8cd-4218-8aba-11c6a92ff17c",
   "metadata": {
    "tags": []
   },
   "outputs": [
    {
     "data": {
      "text/plain": [
       "13"
      ]
     },
     "execution_count": 55,
     "metadata": {},
     "output_type": "execute_result"
    }
   ],
   "source": [
    "hash.capacity"
   ]
  },
  {
   "cell_type": "code",
   "execution_count": 56,
   "id": "04a6cd9d-6343-42a2-93ff-7a29ede5fc84",
   "metadata": {
    "tags": []
   },
   "outputs": [
    {
     "data": {
      "text/plain": [
       "[None, None, None, None, None, None, None, None, None, None, None, None, None]"
      ]
     },
     "execution_count": 56,
     "metadata": {},
     "output_type": "execute_result"
    }
   ],
   "source": [
    "hash.table"
   ]
  },
  {
   "cell_type": "code",
   "execution_count": 57,
   "id": "d9a237e6-7773-455d-a939-756fbd3cbf83",
   "metadata": {
    "tags": []
   },
   "outputs": [
    {
     "name": "stdout",
     "output_type": "stream",
     "text": [
      "None\n"
     ]
    }
   ],
   "source": [
    "print(hash.search(13))"
   ]
  },
  {
   "cell_type": "code",
   "execution_count": 58,
   "id": "6d8efa16-1301-4f4d-b3da-a7f86e2ac6b4",
   "metadata": {
    "tags": []
   },
   "outputs": [
    {
     "data": {
      "text/plain": [
       "True"
      ]
     },
     "execution_count": 58,
     "metadata": {},
     "output_type": "execute_result"
    }
   ],
   "source": [
    "hash.add(13, \"창호\")"
   ]
  },
  {
   "cell_type": "code",
   "execution_count": 59,
   "id": "3e4dd424-5336-40d9-8778-a36ae0953eaa",
   "metadata": {
    "tags": []
   },
   "outputs": [
    {
     "data": {
      "text/plain": [
       "13"
      ]
     },
     "execution_count": 59,
     "metadata": {},
     "output_type": "execute_result"
    }
   ],
   "source": [
    "hash.table[0].key"
   ]
  },
  {
   "cell_type": "code",
   "execution_count": 60,
   "id": "c9475efc-e4dc-4008-8ebb-027f1b5322b3",
   "metadata": {
    "tags": []
   },
   "outputs": [
    {
     "data": {
      "text/plain": [
       "'창호'"
      ]
     },
     "execution_count": 60,
     "metadata": {},
     "output_type": "execute_result"
    }
   ],
   "source": [
    "hash.table[0].value"
   ]
  },
  {
   "cell_type": "code",
   "execution_count": 61,
   "id": "386a47bc-e1aa-4183-9611-be70ff1bfc36",
   "metadata": {
    "tags": []
   },
   "outputs": [
    {
     "name": "stdout",
     "output_type": "stream",
     "text": [
      "None\n"
     ]
    }
   ],
   "source": [
    "print(hash.table[0].next)"
   ]
  },
  {
   "cell_type": "code",
   "execution_count": 62,
   "id": "3c8c85f3-2e7d-4ad1-ae78-05c575a1470f",
   "metadata": {
    "tags": []
   },
   "outputs": [
    {
     "name": "stdout",
     "output_type": "stream",
     "text": [
      "0  → 13 (창호)\n",
      "1\n",
      "2\n",
      "3\n",
      "4\n",
      "5\n",
      "6\n",
      "7\n",
      "8\n",
      "9\n",
      "10\n",
      "11\n",
      "12\n"
     ]
    }
   ],
   "source": [
    "hash.dump()"
   ]
  },
  {
   "cell_type": "code",
   "execution_count": 63,
   "id": "11c301fc-c852-4d3d-ad28-9733e5204b3e",
   "metadata": {
    "tags": []
   },
   "outputs": [
    {
     "data": {
      "text/plain": [
       "False"
      ]
     },
     "execution_count": 63,
     "metadata": {},
     "output_type": "execute_result"
    }
   ],
   "source": [
    "hash.add(13, \"화명\")  # 이미 있는 키로는 추가 불가"
   ]
  },
  {
   "cell_type": "code",
   "execution_count": 64,
   "id": "55b83cc5-7997-4709-9e1c-c97b6bb08219",
   "metadata": {
    "tags": []
   },
   "outputs": [
    {
     "data": {
      "text/plain": [
       "True"
      ]
     },
     "execution_count": 64,
     "metadata": {},
     "output_type": "execute_result"
    }
   ],
   "source": [
    "hash.add(0, \"화명\")   # 해시값 충돌시 체인법 작동"
   ]
  },
  {
   "cell_type": "code",
   "execution_count": 65,
   "id": "4a92bba6-71c8-4a92-bd4d-9550c4a4406a",
   "metadata": {
    "tags": []
   },
   "outputs": [
    {
     "name": "stdout",
     "output_type": "stream",
     "text": [
      "0\n"
     ]
    }
   ],
   "source": [
    "print(hash.table[0].key)"
   ]
  },
  {
   "cell_type": "code",
   "execution_count": 66,
   "id": "97f19252-f06d-4b6a-b921-ae1bf347fd6b",
   "metadata": {
    "tags": []
   },
   "outputs": [
    {
     "name": "stdout",
     "output_type": "stream",
     "text": [
      "13\n"
     ]
    }
   ],
   "source": [
    "print(hash.table[0].next.key)"
   ]
  },
  {
   "cell_type": "code",
   "execution_count": 67,
   "id": "4cb1f15a-feb7-4374-9295-f0fe5079919e",
   "metadata": {
    "tags": []
   },
   "outputs": [
    {
     "name": "stdout",
     "output_type": "stream",
     "text": [
      "None\n"
     ]
    }
   ],
   "source": [
    "print(hash.table[0].next.next)"
   ]
  },
  {
   "cell_type": "code",
   "execution_count": 68,
   "id": "06afcf67-2fe6-45b3-8f13-11e30614ab9d",
   "metadata": {
    "tags": []
   },
   "outputs": [
    {
     "name": "stdout",
     "output_type": "stream",
     "text": [
      "0  → 0 (화명)  → 13 (창호)\n",
      "1\n",
      "2\n",
      "3\n",
      "4\n",
      "5\n",
      "6\n",
      "7\n",
      "8\n",
      "9\n",
      "10\n",
      "11\n",
      "12\n"
     ]
    }
   ],
   "source": [
    "hash.dump()"
   ]
  },
  {
   "cell_type": "code",
   "execution_count": 69,
   "id": "0ce4a4ef-4594-4d57-ad60-4a4cae86db6e",
   "metadata": {
    "tags": []
   },
   "outputs": [
    {
     "data": {
      "text/plain": [
       "True"
      ]
     },
     "execution_count": 69,
     "metadata": {},
     "output_type": "execute_result"
    }
   ],
   "source": [
    "hash.add(26, \"하늘\")"
   ]
  },
  {
   "cell_type": "code",
   "execution_count": 70,
   "id": "512ed9c2-6f4e-43c8-9034-9483c3e4e995",
   "metadata": {
    "tags": []
   },
   "outputs": [
    {
     "name": "stdout",
     "output_type": "stream",
     "text": [
      "26\n"
     ]
    }
   ],
   "source": [
    "print(hash.table[0].key)"
   ]
  },
  {
   "cell_type": "code",
   "execution_count": 71,
   "id": "553c4cd4-56d5-4b40-a3b7-0145442c37e6",
   "metadata": {
    "tags": []
   },
   "outputs": [
    {
     "name": "stdout",
     "output_type": "stream",
     "text": [
      "0\n"
     ]
    }
   ],
   "source": [
    "print(hash.table[0].next.key)"
   ]
  },
  {
   "cell_type": "code",
   "execution_count": 72,
   "id": "b438692a-fd84-42b4-819d-054086ff8dc4",
   "metadata": {
    "tags": []
   },
   "outputs": [
    {
     "name": "stdout",
     "output_type": "stream",
     "text": [
      "13\n"
     ]
    }
   ],
   "source": [
    "print(hash.table[0].next.next.key)"
   ]
  },
  {
   "cell_type": "code",
   "execution_count": 73,
   "id": "6fe69229-a13c-4359-9f40-94114ce255c4",
   "metadata": {
    "tags": []
   },
   "outputs": [
    {
     "name": "stdout",
     "output_type": "stream",
     "text": [
      "0  → 26 (하늘)  → 0 (화명)  → 13 (창호)\n",
      "1\n",
      "2\n",
      "3\n",
      "4\n",
      "5\n",
      "6\n",
      "7\n",
      "8\n",
      "9\n",
      "10\n",
      "11\n",
      "12\n"
     ]
    }
   ],
   "source": [
    "hash.dump()"
   ]
  },
  {
   "cell_type": "code",
   "execution_count": 74,
   "id": "d351e91e-91aa-4929-b511-5b0e6cbcc770",
   "metadata": {
    "tags": []
   },
   "outputs": [
    {
     "data": {
      "text/plain": [
       "'화명'"
      ]
     },
     "execution_count": 74,
     "metadata": {},
     "output_type": "execute_result"
    }
   ],
   "source": [
    "hash.search(0)"
   ]
  },
  {
   "cell_type": "code",
   "execution_count": null,
   "id": "347bf5eb-5d8a-4651-a8f4-998c5f99675c",
   "metadata": {},
   "outputs": [],
   "source": []
  },
  {
   "cell_type": "code",
   "execution_count": null,
   "id": "9c2fad8c-ca49-4d9d-bf8b-a0fdfe332229",
   "metadata": {},
   "outputs": [],
   "source": []
  },
  {
   "cell_type": "code",
   "execution_count": null,
   "id": "6999c47d-140a-492c-b292-4895310c67f1",
   "metadata": {},
   "outputs": [],
   "source": []
  },
  {
   "cell_type": "markdown",
   "id": "943a3428-8cbf-49eb-aa18-c6ad9370038f",
   "metadata": {},
   "source": [
    "# 문15) 오픈주소법(닫힌 해시법) 이란? \n",
    "해시충돌이 일어날 경우  \n",
    "재해시함수를 사용해서 빈 해시를 찾는 방법: 파이썬 딕셔너리는 오픈주소법으로 구현돼 있다  \n",
    "파이썬 딕셔너리가 오픈어드레싱을 쓰는 이유는 체이닝을 위한 연결리스트를 만드려면 추가 메모리 할당이 필요한데  \n",
    "이 작업이 느린 작업이기 때문이다.  \n",
    "    \n",
    "    체인법(오픈해시법)은 사실상 무한정 저장이 가능하나\n",
    "    오픈 어드레싱 방법을 쓰면 전체 해시테이블 크기가 저장가능 최대치다. \n",
    "    \n",
    "        따라서 일정 이상 채워지면, 로드팩터가 일정값을 넘어서면 (파알 11장 해쉬테이블 로드팩터 참고)\n",
    "        동적배열처럼 테이블 크기를 늘려줘야 한다.\n",
    "        늘려주지 않으면, 탐사에 점점 더 오랜 시간이 걸린다.\n",
    "        파이썬의 로드팩터는 0.66 (80%가 넘어가면 성능이 급격히 나빠진다)\n",
    "\n",
    "재해시함수는 정하기 나름  \n",
    "아래 방법은 오픈어드레싱 방법중 선형탐사법\n",
    "\n",
    "    ex) 원래 해시함수가 key % capacity 라면\n",
    "        재해시함수는 (기존해시함수값+1) % capacity 를 사용해서 해시충돌이 안날 때까지 키에 반복 적용\n",
    "        예를 들어 capa가 13, 키가 18이었고 해시충돌이 일어 났다면\n",
    "        그 다음엔 5+1 % capacity, 또 충돌나면 그 다음엔 (5+1 % capacity)+1 % capacity...\n",
    "        \n",
    "선형탐사법은 구현이 간단하고 성능이 좋지만 문제가 있다.  \n",
    "클러스터링 : 해시테이블에 저장되는 데이터들이 고르게 분포되지 않고 뭉치는 경향  \n",
    "해시테이블 여기 저기에 연속된 데이터 그룹(클러스터)이 생긴다.  \n",
    "이렇게 되면 해시테이블 특정 위치들에 데이터가 몰리고, 다른 위치에는 상대적으로 데이터가 거의 없는 상태가 될 수 있다.\n"
   ]
  },
  {
   "cell_type": "markdown",
   "id": "15c421e5-2f4f-49b4-bcaf-717197b51a19",
   "metadata": {},
   "source": [
    "# 문16) 오픈주소법을 쓸 때 원소 검색, 추가, 삭제 시 특징\n",
    "\n",
    "    재해시 함수를 사용하면, \n",
    "    키값의 원래해시함수 값과 다른 해시값 위치에 원소가 추가될 수 있다. (교재 145p 참고)\n",
    "\n",
    "    이 경우 검색, 삭제를 할 때\n",
    "    키값의 원래 해시함수 값의 버킷이 비어있더라도, 다른 해시값 위치에 검색 또는 삭제하고자 하는 키가 위치할 수 있다.\n",
    "    \n",
    "    따라서 오픈주소법에서는\n",
    "    버킷의 상태를 알려주는 속성을 추가한다.\n",
    "    EMPTY, OCCUPIED, DELETED\n",
    "    \n",
    "    검색시 해당 키의 해시 위치의 버킷이 EMPTY 라면 검색 중단\n",
    "    OCCUPIED 라면 해당 해시 위치 버킷의 값 반환\n",
    "    DELETED 라면 재해시해서 다른 해시 위치에 있는 해당 키가 있는지 반복문으로 검색한다.\n",
    "    \n",
    "    추가시 해당 키의 해시 위치의 버킷이 EMPTY 또는 DELETED 일 때 새 노드를 해당 해시값이 참조하게 한다.\n",
    "    OCCUPIED 면 재해시\n",
    "    \n",
    "    삭제시 해당 키의 해시위치의 버킷 상태를 그냥 DELETED로만 바꿔놓으면 된다.\n",
    "    \n"
   ]
  },
  {
   "cell_type": "markdown",
   "id": "e2f26629-cb2d-46cf-95d6-a0095991a94a",
   "metadata": {},
   "source": [
    "# 문17) 오픈주소법 구현"
   ]
  },
  {
   "cell_type": "markdown",
   "id": "65417396-2cdf-4754-a6a7-fe783b86d601",
   "metadata": {},
   "source": [
    "상태 클래스, 버킷 클래스, 해시클래스, 해시함수, 재해시함수, search_node, search, add, remove, dump"
   ]
  },
  {
   "cell_type": "code",
   "execution_count": 1,
   "id": "6103a334-a054-4b2f-b358-1db6774321a1",
   "metadata": {},
   "outputs": [],
   "source": [
    "from __future__ import annotations\n",
    "from typing import Any, Type\n",
    "from enum import Enum\n",
    "import hashlib\n",
    "\n",
    "# 버킷의 속성\n",
    "class Status(Enum):\n",
    "    OCCUPIED = 0  # 데이터를 저장\n",
    "    EMPTY = 1     # 비어 있음\n",
    "    DELETED = 2   # 삭제 완료\n",
    "\n",
    "class Bucket:\n",
    "    \"\"\"해시를 구성하는 버킷\"\"\"\n",
    "\n",
    "    def __init__(self, key: Any = None, value: Any = None,\n",
    "                       stat: Status = Status.EMPTY) -> None:\n",
    "        \"\"\"초기화\"\"\"\n",
    "        self.key = key      # 키\n",
    "        self.value = value  # 값\n",
    "        self.stat = stat    # 속성\n",
    "\n",
    "    def set(self, key: Any, value: Any, stat: Status) -> None:\n",
    "        \"\"\"모든 필드에 값을 설정\"\"\"\n",
    "        self.key = key      # 키\n",
    "        self.value = value  # 값\n",
    "        self.stat = stat    # 속성\n",
    "\n",
    "    def set_status(self, stat: Status) -> None:\n",
    "        \"\"\"속성을 설정\"\"\"\n",
    "        self.stat = stat\n",
    "\n",
    "class ClosedHash:\n",
    "    \"\"\"오픈 주소법을 구현하는 해시 클래스\"\"\"\n",
    "\n",
    "    def __init__(self, capacity: int) -> None:\n",
    "        \"\"\"초기화\"\"\"\n",
    "        self.capacity = capacity                 # 해시 테이블의 크기를 지정\n",
    "        self.table = [Bucket()] * self.capacity  # 해시 테이블\n",
    "\n",
    "    def hash_value(self, key: Any) -> int:\n",
    "        \"\"\"해시값을 구함\"\"\"\n",
    "        if isinstance(key, int):\n",
    "            return key % self.capacity\n",
    "        return(int(hashlib.md5(str(key).encode()).hexdigest(), 16)\n",
    "                % self.capacity)\n",
    "\n",
    "    def rehash_value(self, key: Any) -> int:\n",
    "        \"\"\"재해시값을 구함\"\"\"\n",
    "        return(self.hash_value(key) + 1) % self.capacity\n",
    "\n",
    "    def search_node(self, key: Any) -> Any:\n",
    "        \"\"\"키가 key인 버킷을 검색\"\"\"\n",
    "        hash = self.hash_value(key)  # 검색하는 키의 해시값\n",
    "        p = self.table[hash]         # 버킷을 주목\n",
    "\n",
    "        for _ in range(self.capacity):\n",
    "            if p.stat == Status.EMPTY:\n",
    "                break\n",
    "            elif p.stat == Status.OCCUPIED and p.key == key:\n",
    "                return p\n",
    "            hash = self.rehash_value(hash)  # 재해시\n",
    "            p = self.table[hash]\n",
    "        return None\n",
    "\n",
    "    def search(self, key: Any) -> Any:\n",
    "        \"\"\"키가 key인 갖는 원소를 검색하여 값을 반환\"\"\"\n",
    "        p = self.search_node(key)\n",
    "        if p is not None:\n",
    "            return p.value  # 검색 성공\n",
    "        else:\n",
    "            return None     # 검색 실패\n",
    "\n",
    "    def add(self, key: Any, value: Any) -> bool:\n",
    "        \"\"\"키가 key이고 값이 value인 요소를 추가\"\"\"\n",
    "        if self.search(key) is not None:\n",
    "            return False             # 이미 등록된 키\n",
    "\n",
    "        hash = self.hash_value(key)  # 추가하는 키의 해시값\n",
    "        p = self.table[hash]         # 버킷을 주목\n",
    "        for _ in range(self.capacity):\n",
    "            if p.stat == Status.EMPTY or p.stat == Status.DELETED:\n",
    "                self.table[hash] = Bucket(key, value, Status.OCCUPIED)\n",
    "                return True\n",
    "            hash = self.rehash_value(hash)  # 재해시\n",
    "            p = self.table[hash]\n",
    "        return False                        # 해시 테이블이 가득 참\n",
    "\n",
    "    def remove(self, key: Any) -> int:\n",
    "        \"\"\"키가 key인 갖는 요소를 삭제\"\"\"\n",
    "        p = self.search_node(key)  # 버킷을 주목\n",
    "        if p is None:\n",
    "            return False           # 이 키는 등록되어 있지 않음\n",
    "        p.set_status(Status.DELETED)\n",
    "        return True\n",
    "\n",
    "    def dump(self) -> None:\n",
    "        \"\"\"해시 테이블을 덤프\"\"\"\n",
    "        for i in range(self.capacity):\n",
    "            print(f'{i:2} ', end='')\n",
    "            if self.table[i].stat == Status.OCCUPIED:\n",
    "                print(f'{self.table[i].key} ({self.table[i].value})')\n",
    "            elif self.table[i].stat == Status.EMPTY:\n",
    "                print('-- 미등록 --')\n",
    "            elif self.table[i] .stat == Status.DELETED:\n",
    "                print('-- 삭제 완료 --')"
   ]
  },
  {
   "cell_type": "code",
   "execution_count": null,
   "id": "428c5260-c726-49a1-adcd-583f1614a0af",
   "metadata": {},
   "outputs": [],
   "source": []
  }
 ],
 "metadata": {
  "kernelspec": {
   "display_name": "tf",
   "language": "python",
   "name": "tf"
  },
  "language_info": {
   "codemirror_mode": {
    "name": "ipython",
    "version": 3
   },
   "file_extension": ".py",
   "mimetype": "text/x-python",
   "name": "python",
   "nbconvert_exporter": "python",
   "pygments_lexer": "ipython3",
   "version": "3.11.0"
  }
 },
 "nbformat": 4,
 "nbformat_minor": 5
}
