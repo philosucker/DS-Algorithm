{
 "cells": [
  {
   "cell_type": "markdown",
   "id": "1a481f41-e499-49a7-a8fa-b949c418fb04",
   "metadata": {},
   "source": [
    "# 문33 완주하지 못한 선수 e\n",
    "https://school.programmers.co.kr/learn/courses/30/lessons/42576"
   ]
  },
  {
   "cell_type": "markdown",
   "id": "0464de37-e5fd-4259-977a-fd549ea6d05e",
   "metadata": {},
   "source": [
    "# 문34 전화번호 목록 m\n",
    "https://school.programmers.co.kr/learn/courses/30/lessons/42577"
   ]
  },
  {
   "cell_type": "markdown",
   "id": "63128895-4e77-486c-bbc0-dcd63c142aec",
   "metadata": {},
   "source": [
    "# 문35 위장 m\n",
    "https://school.programmers.co.kr/learn/courses/30/lessons/42578"
   ]
  },
  {
   "cell_type": "markdown",
   "id": "5287fd47-d224-4a14-a217-b4e4b5276691",
   "metadata": {},
   "source": [
    "# 문36 오픈채팅방 m\n",
    "https://school.programmers.co.kr/learn/courses/30/lessons/42888"
   ]
  },
  {
   "cell_type": "markdown",
   "id": "c10bf96d-c2db-4582-8e79-c37de9d57b20",
   "metadata": {},
   "source": [
    "# 문37 베스트 앨범 h\n",
    "https://school.programmers.co.kr/learn/courses/30/lessons/42579"
   ]
  }
 ],
 "metadata": {
  "kernelspec": {
   "display_name": "Python 3 (ipykernel)",
   "language": "python",
   "name": "python3"
  },
  "language_info": {
   "codemirror_mode": {
    "name": "ipython",
    "version": 3
   },
   "file_extension": ".py",
   "mimetype": "text/x-python",
   "name": "python",
   "nbconvert_exporter": "python",
   "pygments_lexer": "ipython3",
   "version": "3.11.0"
  }
 },
 "nbformat": 4,
 "nbformat_minor": 5
}
