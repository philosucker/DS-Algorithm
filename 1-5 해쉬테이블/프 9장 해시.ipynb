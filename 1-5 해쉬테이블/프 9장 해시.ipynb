{
 "cells": [
  {
   "cell_type": "markdown",
   "id": "1a481f41-e499-49a7-a8fa-b949c418fb04",
   "metadata": {},
   "source": [
    "# 문33 완주하지 못한 선수 e\n",
    "https://school.programmers.co.kr/learn/courses/30/lessons/42576\n",
    "\n",
    "    마라톤 참여 선수들의 이름이 담긴 배열 participant  \n",
    "    완주한 선수들의 이름이 담긴 배열 completion  \n",
    "    이 주어질 때,   \n",
    "\n",
    "    완주하지 못한 선수의 이름을 return 하도록 solution 함수를 작성해주세요.  \n",
    "\n",
    "    제한사항\n",
    "    마라톤 경기에 참여한 선수의 수는 1명 이상 100,000명 이하입니다.\n",
    "\n",
    "    completion의 길이는 participant의 길이보다 1 작습니다.\n",
    "\n",
    "    참가자의 이름은 1개 이상 20개 이하의 알파벳 소문자로 이루어져 있습니다.\n",
    "\n",
    "    참가자 중에는 동명이인이 있을 수 있습니다.  \n",
    "\n",
    "    입출력 예\n",
    "    participant          \tcompletion           return\n",
    "    [\"leo\", \"kiki\", \"eden\"]\t[\"eden\", \"kiki\"]\t\"leo\""
   ]
  },
  {
   "cell_type": "markdown",
   "id": "866c1b89-6985-4841-a1b5-0a3ae04b9697",
   "metadata": {},
   "source": [
    "### 내 풀이"
   ]
  },
  {
   "cell_type": "code",
   "execution_count": null,
   "id": "a3547cdd-b3bb-4154-a1a5-20d518308c52",
   "metadata": {},
   "outputs": [],
   "source": [
    "from collections import defaultdict\n",
    "\n",
    "def solution(participant, completion):\n",
    "    \n",
    "    players = defaultdict(int)\n",
    "    for player in participant:\n",
    "        players[player] += 1\n",
    "        \n",
    "    for player in completion:\n",
    "        players[player] -= 1\n",
    "        \n",
    "    for name, value in players.items():\n",
    "        if value == 1:\n",
    "            return name"
   ]
  },
  {
   "cell_type": "markdown",
   "id": "abf3d962-4fee-4a53-942a-f292104983e4",
   "metadata": {
    "tags": []
   },
   "source": [
    "### 책 풀이\n",
    "해시 함수를 직접 이용  \n",
    "똑같은 입력에 대해 똑같은 출력을 주는 해시함수의 특징 이용"
   ]
  },
  {
   "cell_type": "code",
   "execution_count": null,
   "id": "ebdd9387-2ec6-4692-8c25-6a2df1ebc94b",
   "metadata": {},
   "outputs": [],
   "source": [
    "def solution(participant, completion):\n",
    "    \n",
    "    answer = dict()\n",
    "    total = 0\n",
    "    for player in participant:\n",
    "        answer[hash(player)] = player\n",
    "        total += hash(player)\n",
    "    for player in completion:\n",
    "        total -= hash(player)\n",
    "        \n",
    "    return answer[total]"
   ]
  },
  {
   "cell_type": "markdown",
   "id": "0464de37-e5fd-4259-977a-fd549ea6d05e",
   "metadata": {},
   "source": [
    "# 문34 전화번호 목록 m\n",
    "https://school.programmers.co.kr/learn/courses/30/lessons/42577"
   ]
  },
  {
   "cell_type": "markdown",
   "id": "63128895-4e77-486c-bbc0-dcd63c142aec",
   "metadata": {},
   "source": [
    "# 문35 위장 m\n",
    "https://school.programmers.co.kr/learn/courses/30/lessons/42578"
   ]
  },
  {
   "cell_type": "markdown",
   "id": "5287fd47-d224-4a14-a217-b4e4b5276691",
   "metadata": {},
   "source": [
    "# 문36 오픈채팅방 m\n",
    "https://school.programmers.co.kr/learn/courses/30/lessons/42888"
   ]
  },
  {
   "cell_type": "markdown",
   "id": "c10bf96d-c2db-4582-8e79-c37de9d57b20",
   "metadata": {},
   "source": [
    "# 문37 베스트 앨범 h\n",
    "https://school.programmers.co.kr/learn/courses/30/lessons/42579"
   ]
  }
 ],
 "metadata": {
  "kernelspec": {
   "display_name": "Python 3 (ipykernel)",
   "language": "python",
   "name": "python3"
  },
  "language_info": {
   "codemirror_mode": {
    "name": "ipython",
    "version": 3
   },
   "file_extension": ".py",
   "mimetype": "text/x-python",
   "name": "python",
   "nbconvert_exporter": "python",
   "pygments_lexer": "ipython3",
   "version": "3.11.0"
  }
 },
 "nbformat": 4,
 "nbformat_minor": 5
}
