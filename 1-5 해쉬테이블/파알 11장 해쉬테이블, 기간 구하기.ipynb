{
 "cells": [
  {
   "cell_type": "markdown",
   "id": "1d7460fe-c2ce-4788-9c63-d0b4cb4e98cd",
   "metadata": {},
   "source": [
    "### e: 28, 29\n",
    "### m: 30, 31"
   ]
  },
  {
   "cell_type": "markdown",
   "id": "3031756e-a35d-49db-95e2-3aaaaa72ef45",
   "metadata": {},
   "source": [
    "# 11장 해쉬테이블"
   ]
  },
  {
   "cell_type": "markdown",
   "id": "b5fe3c21-0426-4a15-8a35-39926bf736c0",
   "metadata": {},
   "source": [
    "해시 테이블 = 해시맵 : 연관배열 ADT를 구현하는 자료구조  \n",
    "  \n",
    "hashing : 해시테이블을 인덱싱하기 위해  \n",
    "해시함수에 키(어떤 간단한 규칙을 통해 만들어낸 충분히 랜덤한 상태의 값)를 통과시켜  \n",
    "고정크기의 특정값으로 맵핑하는 것  \n",
    "해싱에는 다양한 알고리즘이 있으며, 최상의 분포를 제공하는 방법은 데이터에 따라 제각각이다.  \n",
    "  \n",
    "성능 좋은 해시함수의 특징  \n",
    "\n",
    "    해시충돌 최소화\n",
    "    쉽고 빠른 연산\n",
    "    해시테이블 전체에 해시값 균일 분포\n",
    "    사용할 키의 모든 정보를 이용해 해싱\n",
    "    해시 테이블 사용효율이 높음"
   ]
  },
  {
   "cell_type": "markdown",
   "id": "b7c32724-d7f3-4420-a689-81d780828302",
   "metadata": {},
   "source": [
    "### 비둘기집 원리\n",
    "N개의 item을 M개의 서랍에 넣을 때,  \n",
    "N > M 이라면  \n",
    "하나의 서랍에는 반드시 2개 이상의 item이 들어 있다"
   ]
  },
  {
   "cell_type": "markdown",
   "id": "55604dc6-6917-4328-a87e-3aa9e49653c6",
   "metadata": {},
   "source": [
    "### 생일문제\n",
    "1년 365일 중 생일이 겹치는 사람이 있을 확률이 50%가 넘는데 23명만 있으면 된다.  \n",
    "  \n",
    "57명이 있으면 99%에 달한다  \n",
    "  \n",
    "생일문제가 보여주는 건, 생각보다 해시충돌이 쉽게 일어날 수 있다는 것.  "
   ]
  },
  {
   "cell_type": "code",
   "execution_count": 16,
   "id": "5ceac818-9a4d-42a5-888a-064525a1fe11",
   "metadata": {
    "tags": []
   },
   "outputs": [
    {
     "name": "stdout",
     "output_type": "stream",
     "text": [
      "50.561%\n"
     ]
    }
   ],
   "source": [
    "import random\n",
    "\n",
    "TRIALS = 100000\n",
    "same_birthdays = 0\n",
    "\n",
    "for _ in range(TRIALS):\n",
    "    birthdays = []\n",
    "    \n",
    "    for i in range(23):\n",
    "        birthday = random.randint(1, 365)\n",
    "        if birthday in birthdays:\n",
    "            same_birthdays += 1\n",
    "            break\n",
    "        birthdays.append(birthday)\n",
    "\n",
    "print(f'{same_birthdays / TRIALS * 100}%')"
   ]
  },
  {
   "cell_type": "code",
   "execution_count": 17,
   "id": "7f8959c9-6989-4bf1-b48a-7cf0a06fe356",
   "metadata": {
    "tags": []
   },
   "outputs": [
    {
     "data": {
      "text/plain": [
       "50561"
      ]
     },
     "execution_count": 17,
     "metadata": {},
     "output_type": "execute_result"
    }
   ],
   "source": [
    "same_birthdays"
   ]
  },
  {
   "cell_type": "code",
   "execution_count": 6,
   "id": "1891e877-50a1-4d4a-98c5-8ad2928eb8de",
   "metadata": {
    "tags": []
   },
   "outputs": [
    {
     "name": "stdout",
     "output_type": "stream",
     "text": [
      "98.99799999999999%\n"
     ]
    }
   ],
   "source": [
    "import random\n",
    "\n",
    "TRIALS = 10000\n",
    "same_birthdays = 0\n",
    "\n",
    "for _ in range(TRIALS):\n",
    "    birthdays = []\n",
    "    \n",
    "    for i in range(57):\n",
    "        birthday = random.randint(1, 365)\n",
    "        if birthday in birthdays:\n",
    "            same_birthdays += 1\n",
    "            break\n",
    "        birthdays.append(birthday)\n",
    "\n",
    "print(f'{same_birthdays / TRIALS * 100}%')"
   ]
  },
  {
   "cell_type": "code",
   "execution_count": 7,
   "id": "034418f4-71d1-4920-9558-f88ecc77a282",
   "metadata": {
    "tags": []
   },
   "outputs": [
    {
     "data": {
      "text/plain": [
       "98998"
      ]
     },
     "execution_count": 7,
     "metadata": {},
     "output_type": "execute_result"
    }
   ],
   "source": [
    "same_birthdays"
   ]
  },
  {
   "cell_type": "markdown",
   "id": "c5b27a3f-30d2-4ddb-ac3e-7aa72bd03c75",
   "metadata": {},
   "source": [
    "    해시 함수에서의 충돌이란 다른 입력값에 대해 동일한 해시 값을 생성하는 것을 의미합니다. \n",
    "    해시 함수는 일반적으로 많은 가능한 입력값(예: 무한한 문자열)을 \n",
    "    유한한 수의 해시 값(예: 고정된 길이의 비트 문자열)으로 매핑합니다.\n",
    "\n",
    "    비둘기집 원리 적용: \n",
    "    해시 함수의 경우, 가능한 입력값의 수(N)가 해시 값의 수(M)보다 많다면, \n",
    "    비둘기집 원리에 따라 반드시 해시 충돌이 발생해야 합니다. \n",
    "    즉, 두 개 이상의 다른 입력값이 동일한 해시 값을 가질 수밖에 없습니다.\n",
    "\n",
    "    생일 문제와의 관계: \n",
    "    해시 함수에서 충돌의 확률은 생일 문제와 유사하게 생각할 수 있습니다. \n",
    "    생일 문제에서는 사람의 수가 증가함에 따라 \n",
    "    같은 생일을 가진 두 사람이 있을 확률이 급격히 증가합니다.\n",
    "\n",
    "    마찬가지로, 해시 함수에 많은 수의 입력값이 주어질수록, \n",
    "    다른 입력값에 대해 동일한 해시 값을 가질 확률도 증가합니다. \n",
    "    이는 해시 함수의 충돌 확률이 입력값의 수가 증가함에 따라 \n",
    "    생각보다 빠르게 증가한다는 것을 의미합니다."
   ]
  },
  {
   "cell_type": "markdown",
   "id": "b8ec607a-d391-4d72-8cb3-bf0e015ee820",
   "metadata": {},
   "source": [
    "### 로드팩터"
   ]
  },
  {
   "cell_type": "markdown",
   "id": "1f36acdb-4cc9-40f3-b120-779297cadb2d",
   "metadata": {},
   "source": [
    "load factor = n / k  \n",
    "n : 해시테이블에 저장된 데이터 개수  \n",
    "k : 버킷의 개수  \n",
    "  \n",
    "로드팩터가 증가하면 해시테이블 성능은 감소하며   \n",
    "로드팩터가 특정값을 넘기면 해시테이블의 공간을 동적배열처럼 재할당해주기도 한다  "
   ]
  },
  {
   "cell_type": "code",
   "execution_count": 18,
   "id": "e7e08c7c-9249-48e6-8dc3-4a81f0e10dca",
   "metadata": {
    "tags": []
   },
   "outputs": [
    {
     "name": "stdout",
     "output_type": "stream",
     "text": [
      "338\n"
     ]
    }
   ],
   "source": [
    "def hash(s, HASHSIZE):\n",
    "    hashval = 0\n",
    "    for char in s:\n",
    "        hashval = ord(char) + 31 * hashval\n",
    "    return hashval % HASHSIZE\n",
    "\n",
    "# 사용 예시\n",
    "HASHSIZE = 1024  # 예를 들어 해시 테이블 크기가 1024라고 가정\n",
    "s = \"your_string_here\"\n",
    "hash_value = hash(s, HASHSIZE)\n",
    "print(hash_value)"
   ]
  },
  {
   "cell_type": "markdown",
   "id": "53369a57-e70c-4fef-8002-c2f66150ad9b",
   "metadata": {},
   "source": [
    "# 문28 해시맵 디자인 e\n",
    "https://leetcode.com/problems/design-hashmap/"
   ]
  },
  {
   "cell_type": "code",
   "execution_count": null,
   "id": "ec3ff40b-4f01-46eb-bb44-fa844e49224e",
   "metadata": {},
   "outputs": [],
   "source": [
    "Design a HashMap without using any built-in hash table libraries.\n",
    "\n",
    "Implement the MyHashMap class:\n",
    "\n",
    "MyHashMap() initializes the object with an empty map.\n",
    "void put(int key, int value) inserts a (key, value) pair into the HashMap. If the key already exists in the map, update the corresponding value.\n",
    "int get(int key) returns the value to which the specified key is mapped, or -1 if this map contains no mapping for the key.\n",
    "void remove(key) removes the key and its corresponding value if the map contains the mapping for the key.\n",
    " \n",
    "\n",
    "Example 1:\n",
    "\n",
    "Input\n",
    "[\"MyHashMap\", \"put\", \"put\", \"get\", \"get\", \"put\", \"get\", \"remove\", \"get\"]\n",
    "[[], [1, 1], [2, 2], [1], [3], [2, 1], [2], [2], [2]]\n",
    "\n",
    "Output\n",
    "[null, null, null, 1, -1, null, 1, null, -1]"
   ]
  },
  {
   "cell_type": "code",
   "execution_count": null,
   "id": "7c253c1f-851d-4885-819d-082702bf9994",
   "metadata": {},
   "outputs": [],
   "source": [
    "class MyHashMap:\n",
    "\n",
    "    def __init__(self):\n",
    "        \n",
    "\n",
    "    def put(self, key: int, value: int) -> None:\n",
    "        \n",
    "\n",
    "    def get(self, key: int) -> int:\n",
    "        \n",
    "\n",
    "    def remove(self, key: int) -> None:\n",
    "        \n",
    "\n",
    "\n",
    "# Your MyHashMap object will be instantiated and called as such:\n",
    "# obj = MyHashMap()\n",
    "# obj.put(key,value)\n",
    "# param_2 = obj.get(key)\n",
    "# obj.remove(key)"
   ]
  },
  {
   "cell_type": "markdown",
   "id": "23742262-2e6c-4a72-92a4-e246722ceb10",
   "metadata": {},
   "source": [
    "### 책 풀이"
   ]
  },
  {
   "cell_type": "code",
   "execution_count": 1,
   "id": "14bd1d17-a231-4d23-9379-0c342c0124a0",
   "metadata": {
    "tags": []
   },
   "outputs": [],
   "source": [
    "import collections\n",
    "\n",
    "class MyHashMap:\n",
    "\n",
    "    def __init__(self):\n",
    "\n",
    "        self.size = 1000\n",
    "        self.table = collections.defaultdict(ListNode)\n",
    "\n",
    "    def put(self, key: int, value: int) -> None:\n",
    "\n",
    "        index = key % self.size\n",
    "        if self.table[index].value is None:\n",
    "            self.table[index] = ListNode(key, value)\n",
    "            return\n",
    "\n",
    "        p = self.table[index]\n",
    "        while p:\n",
    "            if p.key == key:\n",
    "                p.value = value\n",
    "                return\n",
    "            if p.next is None:\n",
    "                break\n",
    "            p = p.next\n",
    "        p.next = ListNode(key, value)\n",
    "\n",
    "    def get(self, key: int) -> int:\n",
    "\n",
    "        index = key % self.size\n",
    "        if self.table[index].value is None:\n",
    "            return -1\n",
    "\n",
    "        p = self.table[index]\n",
    "        while p:\n",
    "            if p.key == key:\n",
    "                return p.value\n",
    "            p = p.next\n",
    "        return -1\n",
    "\n",
    "    def remove(self, key: int) -> None:\n",
    "\n",
    "        index = key % self.size\n",
    "        if self.table[index].value is None:\n",
    "            return\n",
    "\n",
    "        p = self.table[index]\n",
    "        if p.key == key:\n",
    "            self.table[index] = ListNode() if p.next is None else p.next\n",
    "            return\n",
    "            \n",
    "        prev = p\n",
    "        while p:\n",
    "            if p.key == key:\n",
    "                prev.next = p.next\n",
    "                return\n",
    "            prev, p = p, p.next\n",
    "        \n",
    "class ListNode:\n",
    "    \n",
    "    def __init__(self, key=None, value=None):\n",
    "        self.key = key\n",
    "        self.value = value\n",
    "        self.next = None\n",
    "\n",
    "# Your MyHashMap object will be instantiated and called as such:\n",
    "# obj = MyHashMap()\n",
    "# obj.put(key,value)\n",
    "# param_2 = obj.get(key)\n",
    "# obj.remove(key)"
   ]
  },
  {
   "cell_type": "code",
   "execution_count": 2,
   "id": "3ec19c4b-9c13-4e0e-bcde-11abbb340518",
   "metadata": {
    "tags": []
   },
   "outputs": [],
   "source": [
    "class MyHashMap:\n",
    "\n",
    "    def __init__(self):\n",
    "        self.hmap = {}\n",
    "\n",
    "    def put(self, key: int, value: int) -> None:\n",
    "        self.hmap[key] = value\n",
    "\n",
    "    def get(self, key: int) -> int:\n",
    "        return self.hmap.get(key, -1)\n",
    "        \n",
    "    def remove(self, key: int) -> None:\n",
    "        self.hmap.pop(key, None)"
   ]
  },
  {
   "cell_type": "markdown",
   "id": "30221f72-ba57-4ff7-aa96-739dfe8afabf",
   "metadata": {},
   "source": [
    "# 문29 보석과 돌 e\n",
    "https://leetcode.com/problems/jewels-and-stones/"
   ]
  },
  {
   "cell_type": "code",
   "execution_count": null,
   "id": "d080f486-328f-446a-aaf0-ec19bfbb3add",
   "metadata": {},
   "outputs": [],
   "source": [
    "You're given strings jewels representing the types of stones that are jewels, \n",
    "and stones representing the stones you have. Each character in stones is a type of stone you have. \n",
    "You want to know how many of the stones you have are also jewels.\n",
    "\n",
    "Letters are case sensitive, so \"a\" is considered a different type of stone from \"A\".\n",
    "\n",
    "Example 1:\n",
    "\n",
    "Input: jewels = \"aA\", stones = \"aAAbbbb\"\n",
    "Output: 3\n",
    "\n",
    "Example 2:\n",
    "\n",
    "Input: jewels = \"z\", stones = \"ZZ\"\n",
    "Output: 0\n",
    "\n",
    "class Solution:\n",
    "    def numJewelsInStones(self, jewels: str, stones: str) -> int:\n",
    "        "
   ]
  },
  {
   "cell_type": "markdown",
   "id": "c5b0e65c-4447-4209-9d87-0ea6839855f6",
   "metadata": {},
   "source": [
    "### 내 풀이"
   ]
  },
  {
   "cell_type": "code",
   "execution_count": 42,
   "id": "fe6f1cdf-7d0e-4663-a184-d1737d1909ce",
   "metadata": {
    "tags": []
   },
   "outputs": [],
   "source": [
    "from collections import Counter\n",
    "\n",
    "def numJewelsInStones(jewels, stones):\n",
    "    \n",
    "    jewel = \" \".join(jewels).split()\n",
    "    jewel.append(jewels)\n",
    "    cnt = 0\n",
    "    for j in jewel:\n",
    "        counter = Counter(stones)\n",
    "        cnt += counter[j]\n",
    "        \n",
    "    return cnt"
   ]
  },
  {
   "cell_type": "code",
   "execution_count": 43,
   "id": "35fb01cb-3cf6-4fb9-9ca5-93e8ec946d05",
   "metadata": {
    "tags": []
   },
   "outputs": [
    {
     "data": {
      "text/plain": [
       "3"
      ]
     },
     "execution_count": 43,
     "metadata": {},
     "output_type": "execute_result"
    }
   ],
   "source": [
    "jewels = \"aA\"\n",
    "stones = \"aAAbbbb\"\n",
    "numJewelsInStones(jewels, stones)"
   ]
  },
  {
   "cell_type": "markdown",
   "id": "8b45966e-1ecd-4c6e-b6bf-22a3f49c00ab",
   "metadata": {},
   "source": [
    "### 책 풀이"
   ]
  },
  {
   "cell_type": "code",
   "execution_count": 44,
   "id": "3c920343-01a6-4435-aab4-f4f612d98690",
   "metadata": {
    "tags": []
   },
   "outputs": [
    {
     "data": {
      "text/plain": [
       "3"
      ]
     },
     "execution_count": 44,
     "metadata": {},
     "output_type": "execute_result"
    }
   ],
   "source": [
    "def numJewelsInStones(jewels, stones):\n",
    "    counter = Counter(stones)\n",
    "    cnt = 0\n",
    "    for j in jewels:\n",
    "        cnt += counter[j]\n",
    "\n",
    "    return cnt\n",
    "\n",
    "jewels = \"aA\"\n",
    "stones = \"aAAbbbb\"\n",
    "numJewelsInStones(jewels, stones)"
   ]
  },
  {
   "cell_type": "code",
   "execution_count": 45,
   "id": "7765f4d8-3394-4b70-aa83-e0349ad6e440",
   "metadata": {
    "tags": []
   },
   "outputs": [
    {
     "data": {
      "text/plain": [
       "3"
      ]
     },
     "execution_count": 45,
     "metadata": {},
     "output_type": "execute_result"
    }
   ],
   "source": [
    "def numJewelsInStones(jewels, stones):\n",
    "    cnt = 0\n",
    "    for s in stones:\n",
    "        if s in jewels:\n",
    "            cnt += 1 \n",
    "\n",
    "    return cnt\n",
    "jewels = \"aA\"\n",
    "stones = \"aAAbbbb\"\n",
    "numJewelsInStones(jewels, stones)"
   ]
  },
  {
   "cell_type": "markdown",
   "id": "3d0adc9a-6212-4b27-8b2a-1ac2ea1a0a99",
   "metadata": {},
   "source": [
    "# 문30 중복문자 없는 가장 긴 부분 문자열 m\n",
    "https://leetcode.com/problems/longest-substring-without-repeating-characters\n"
   ]
  },
  {
   "cell_type": "code",
   "execution_count": null,
   "id": "a02d4b2e-fe1b-456e-9fde-22c774799b5f",
   "metadata": {},
   "outputs": [],
   "source": [
    "Given a string s, \n",
    "find the length of the longest substring without repeating characters.\n",
    "\n",
    "Example 1:\n",
    "Input: s = \"abcabcbb\"\n",
    "Output: 3\n",
    "Explanation: The answer is \"abc\", with the length of 3."
   ]
  },
  {
   "cell_type": "code",
   "execution_count": 42,
   "id": "78ea051d-94ad-4eca-b87b-b24b9daeb576",
   "metadata": {
    "tags": []
   },
   "outputs": [
    {
     "data": {
      "text/plain": [
       "{'a': 10, 'b': 7, 'c': 9, 'd': 8}"
      ]
     },
     "execution_count": 42,
     "metadata": {},
     "output_type": "execute_result"
    }
   ],
   "source": [
    "hash_map"
   ]
  },
  {
   "cell_type": "code",
   "execution_count": null,
   "id": "c3e5d43d-64bd-4c7f-ba11-af718a306c70",
   "metadata": {},
   "outputs": [],
   "source": [
    "기간을 구하는 것       \"13일 ~ 21일 (13일부터 21일까지는 총 몇 일인가?)\"\n",
    "\n",
    "구간을 구하는 것       \"107p ~ 127p (107p부터 127p까지는 총 몇 p인가?)\"\n",
    "상한, 하한을 구하는 것  \"93p 이상, 118p 이하\"\n",
    "\n",
    "뒤에서부터 세는 것     \"7, 8, 9, 10 뒤에서 세번째 수는?\"\n",
    "\n",
    "앞에서부터 세는 것     \"1, 2, 3, 4 앞에서 세번째 수는?\"\n",
    "\n",
    "    # 공통점\n",
    "    1. 모두 기준점을 포함하여 세는 일이다.\n",
    "    2. 연속적인 정수 구간이다. 1씩 증가하거나 1씩 감소한다.\n",
    "    3. 기수(기간, 구간), 서수(순서) 모두 해당된다. \n",
    "\n",
    "    # 계산법\n",
    "    1. 기준점이 맨 뒤에 있는 경우\n",
    "    기준점에서 시작점을 빼고 1을 더한다.\n",
    "    21-13+1 = 9일 \n",
    "    127-107+1 = 21p\n",
    "    10-7+1 = 8\n",
    "\n",
    "    2. 기준점이 맨 앞에 있는 경우\n",
    "    기준점에 끝점을 더하고 1을 뺀다.\n",
    "    1+3-1 = 3\n",
    "\n",
    "# 기준점을 포함하지 않고 세는 경우\n",
    "\"오늘은 1일이다. 기한은 오늘부터 3일 뒤다. 기한은 몇일인가?\"\n",
    "\n",
    "    오늘(기준점)을 기한에 포함하지 않는 경우 :\n",
    "        1 + 3 = 4일\n",
    "    \n",
    "    일반적으로는 4일로 보는 게 맞는 것 같다. \n",
    "    \n",
    "따라서 기준점을 포함하지 않을 땐, 기준점이 맨 앞에 있는 경우 끝점에서 기간을 빼기만 하면 기준점이 나온다.\n",
    "\"기한은 시작일로부터 3일 뒤다. 기한은 4일이었다. 시작인은 몇일인가?\n",
    "\n",
    "    4 - 3 = 1\n",
    "\n",
    "# 기준점 포함의 모호함 \n",
    "\"오늘은 1일이다. 기한은 오늘부터 3일 뒤다. 기한은 몇일인가?\"\n",
    "                \n",
    "시작일이 1일이고, 시작일 1일을 포함해 계산하는 것과 포함하지 않고 계산하는 것에 차이가 있다.\n",
    "\n",
    "포함하지 않고 계산 : 1 + 3 = 4일\n",
    "\n",
    "포함하고 계산 : 1 + 3 - 1 = 3일 \n",
    "\n",
    "일상언어에서 \"부터\" 라는 말은 \"시작일을 포함\"을 의미할 수 도 있고  \"시작일을 포함하지 않음\"을 의미할 수도 있는 것 같다.\n",
    "\n",
    "시작일을 포함한다고 해석하는 경우에도 기한이 4일이 될 수 있다.\n",
    "\n",
    "만약 1일 오후 1시에 저 말을 했다면\n",
    "오늘을 포함했을 때 3일 뒤는 \n",
    "\n",
    "2일 오후 1시, \n",
    "3일 오후 1시 \n",
    "4일 오후 1시를 의미하는 것인가? \n",
    "이는 \"오늘은 1일이다. 기한은 지금 시각 오후 1시부터 3일 뒤다. 1일은 24시간으로 한다. 기한은 몇일인가?\" 라고 말했어야 더 정확해 보인다.\n",
    "그리고 이 해석은 기한을 시간단위로 해석한 것처럼 보인다.\n",
    "\n",
    "아니면 \n",
    "1일은 23:59:59 까지를 의미하고, 따라서\n",
    "오늘을 포함했을 때 3일 뒤는\n",
    "1일 23:59:59\n",
    "2일 23:59:59\n",
    "3일 23:59:59를 의미하는 것인가?\n",
    "이 해석은 기한을 일자 단위로 해석한 것처럼 보인다.\n",
    "그리고 이렇게 의미하고자 했다면 \n",
    "\"오늘은 1일이다. 기한은 오늘 포함 3일 뒤다. 1일은 당일 23:59:59까지를 의미한다. 기한은 몇일인가?\" 라고 말했어야 더 정확해 보인다.\n",
    "\n",
    "시작일을 포함하지 않았을 때 3일 뒤는\n",
    "2일 23:59:59\n",
    "3일 23:59:59\n",
    "4일 23:59:59를 의미하는 것인가? 그러면 \"오늘부터\" 가 아니라 \n",
    "\"오늘은 1일이다. 기한은 '오늘 이후' 3일 뒤다. 1일은 24시간으로 한다. 기한은 몇일인가?\" 라고 말했어야 더 정확한 것이 아닐까?\n",
    "\n",
    "일상언어에서는  \"오늘은 1일이다. 기한은 오늘부터 3일 뒤다. 기한은 몇일인가?\" 라고 말했을 땐\n",
    "위 3가지 경우로 해석하고 이해하는 게 모두 가능하다.\n",
    "\n",
    "    오늘(기준점)을 기한에 포함하는 경우 :\n",
    "        1 + 3 = 4일 \n",
    "        1 + 3 - 1 = 3일\n",
    "        둘다 가능\n",
    "        \n",
    "    오늘(기준점)을 기한에 포함하지 않는 경우 :\n",
    "        1 + 3 = 4일 "
   ]
  },
  {
   "cell_type": "code",
   "execution_count": null,
   "id": "6ef1de65-efce-4fd1-9e33-024da11f17c2",
   "metadata": {},
   "outputs": [],
   "source": [
    "s = \"abcabcbbdca\"\n",
    "#    0123456789\n",
    "hash_map = {}\n",
    "left = 0\n",
    "window = 0\n",
    "# left는 윈도우의 시작, idx는 윈도우의 끝을 나타낸다.\n",
    "\n",
    "for idx, char in enumerate(s):\n",
    "    \n",
    "    if char in hash_map and left <= hash_map[char]: # 중복된 문자를 만나고, 해당 중복문자의 위치(index)가 \n",
    "                                                    # 윈도우 시작점(left)보다 크거나 같으면 \n",
    "                                             # 다시 말해 중복된 문자를 만났을 때, \n",
    "                                             # 해당 문자의 직전 등장 위치 hash_map[char]가 윈도우 범위 안에 있는 경우에만\n",
    "                                             # 윈도우 시작점 위치를 중복된 문자 위치 바깥으로 옮겨줘야 하므로\n",
    "                                             # 바꿔 말해 이전에 나왔던 문자(중복된 문자)더라도 윈도우 시작점보다 작으면\n",
    "                                             # i.e. 윈도우 왼쪽 바깥에 있으면, left를 그대로 두고 \n",
    "                                             # 해당 문자 인덱스를 윈도우 끝으로 만들어줘야 하므로 hash_map[char] = idx \n",
    "                                    # left <= hash_map[char] 이 조건이 없으면 중복문자가 윈도우 범위 왼쪽 바깥에 있는 경우를\n",
    "                                    # 제외하지 않게 돼서 left 값이 풀려버려 윈도우 범위가 왼쪽으로 다시 확장하게 된다.\n",
    "                                \n",
    "        left = hash_map[char] + 1     # left 포인터를 해당 중복문자가 바로 직전 등장한 위치(인덱스) 오른쪽에 둔다.\n",
    "                                      # 해당문자가 바로 직전 등장한 위치가, 윈도우 시작점보다 왼쪽에 있으면, 윈도우 시작점을 갱신하지 않는다.\n",
    "\n",
    "\n",
    "    hash_map[char] = idx   # 문자열의 문자를 순서대로 딕셔너리의 키로 집어 넣고, 해당 위치(인덱스)를 밸류로 입력한다.\n",
    "                           # 즉 딕셔너리에는 문자열의 각 문자가 마지막으로 등장한 위치가 저장된다.\n",
    "\n",
    "    window = max(window, idx - left + 1) # window 업데이트"
   ]
  },
  {
   "cell_type": "markdown",
   "id": "23d2ca62-bdfa-4591-aaa3-15fe6264fb42",
   "metadata": {
    "tags": []
   },
   "source": [
    "![image](./window.png)"
   ]
  },
  {
   "cell_type": "markdown",
   "id": "3348ad43-289a-40d5-ae11-f7eedbf16b3f",
   "metadata": {},
   "source": [
    "# 문31 상위 K 빈도 요소\n",
    "https://leetcode.com/problems/top-k-frequent-elements/"
   ]
  },
  {
   "cell_type": "code",
   "execution_count": null,
   "id": "d914ef04-1010-4aab-a573-e30980d6baac",
   "metadata": {},
   "outputs": [],
   "source": [
    "Given an integer array nums and an integer k, \n",
    "return the k most frequent elements. You may return the answer in any order.\n",
    "\n",
    "\n",
    "Example 1:\n",
    "\n",
    "Input: nums = [1,1,1,2,2,3], k = 2\n",
    "Output: [1,2]\n",
    "\n",
    "Example 2:\n",
    "\n",
    "Input: nums = [1], k = 1\n",
    "Output: [1]\n",
    "\n",
    "\n",
    "Constraints:\n",
    "\n",
    "1 <= nums.length <= 105\n",
    "-104 <= nums[i] <= 104\n",
    "k is in the range [1, the number of unique elements in the array].\n",
    "It is guaranteed that the answer is unique.\n",
    " \n",
    "\n",
    "Follow up: Your algorithm's time complexity must be better than O(n log n), where n is the array's size.\n",
    "\n",
    "class Solution:\n",
    "    def topKFrequent(self, nums: List[int], k: int) -> List[int]:\n",
    "        "
   ]
  },
  {
   "cell_type": "code",
   "execution_count": null,
   "id": "e8ada315-ece9-4b2d-810c-2c72085eae06",
   "metadata": {},
   "outputs": [],
   "source": []
  }
 ],
 "metadata": {
  "kernelspec": {
   "display_name": "Python 3 (ipykernel)",
   "language": "python",
   "name": "python3"
  },
  "language_info": {
   "codemirror_mode": {
    "name": "ipython",
    "version": 3
   },
   "file_extension": ".py",
   "mimetype": "text/x-python",
   "name": "python",
   "nbconvert_exporter": "python",
   "pygments_lexer": "ipython3",
   "version": "3.11.0"
  }
 },
 "nbformat": 4,
 "nbformat_minor": 5
}
