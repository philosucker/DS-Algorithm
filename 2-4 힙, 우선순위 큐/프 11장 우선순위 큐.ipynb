{
 "cells": [
  {
   "cell_type": "markdown",
   "id": "ea58a1f2-3f36-4cac-8051-c69e816653da",
   "metadata": {},
   "source": [
    "# 문48 디스크 컨트롤러 h\n",
    "https://school.programmers.co.kr/learn/courses/30/lessons/42627"
   ]
  },
  {
   "cell_type": "code",
   "execution_count": null,
   "id": "e0385e4d-092c-4fb8-91f5-9bc5e5b94fc8",
   "metadata": {},
   "outputs": [],
   "source": []
  }
 ],
 "metadata": {
  "kernelspec": {
   "display_name": "Python 3 (ipykernel)",
   "language": "python",
   "name": "python3"
  },
  "language_info": {
   "codemirror_mode": {
    "name": "ipython",
    "version": 3
   },
   "file_extension": ".py",
   "mimetype": "text/x-python",
   "name": "python",
   "nbconvert_exporter": "python",
   "pygments_lexer": "ipython3",
   "version": "3.11.0"
  }
 },
 "nbformat": 4,
 "nbformat_minor": 5
}
