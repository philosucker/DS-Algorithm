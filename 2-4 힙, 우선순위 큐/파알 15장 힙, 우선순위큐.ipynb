{
 "cells": [
  {
   "cell_type": "markdown",
   "id": "3c0c65fa-b2a5-451b-8a6f-5e8f03925edd",
   "metadata": {},
   "source": [
    "### 우선순위 큐 ADT는 주로 힙으로 구현한다.  \n",
    "\n",
    "    파이썬에서는 최소힙으로 구현된 힙 자료구조를 제공하는 heapq 모듈이 있다.    \n",
    "    즉 우선순위큐를 파이썬에서 구현할 땐 heapq모듈(최소힙)을 쓰면 좋다.    \n",
    "\n",
    "### 힙은 모든 부모노드가 항상 자식노드보다 큰 최대힙, 또는 작은 최소힙이 있고 완전이진트리이다. \n",
    "\n",
    "    (정확히는 자식이 둘인 힙을 Binary Heap이라고 하고 대부분 힙이라고 하면 이진힙이다.)\n",
    "        힙은 항상 균형을 유지하는 특징 때문에 다양한 분야에 널리 활용된다.\n",
    "        1. 우선순위큐\n",
    "        2. 다익스트라 알고리즘\n",
    "        3. 프림 알고리즘 \n",
    "            (최소신장 트리를 구현하는 알고리즘)\n",
    "        4. 중앙값의 근사값을 빠르게 구하기 \n",
    "            (부모 자식간의 대소관계가 정의돼 있으므로, \n",
    "             적절히 중간레벨의 노드를 추출하면 중앙값에 근사한 값을 추출할 수 있다.)\n",
    "\n",
    "\n",
    "### 힙 자료구조는 힙 정렬 알고리즘의 부산물이다.  \n",
    "\n",
    "    힙은 완전이진트리이기 때문에 배열에 순서대로 표현하기에 적합하다.  \n",
    "    i.e.완전이진트리형태인 이진힙은 배열에 빈틈없이 배치가 가능하다.\n",
    "        그래서 힙은 주로 배열로 구현할 수 있다.\n",
    "\n",
    "### 정리하면 힙자료구조를 사용해 우선순위큐 ADT를 구현하거나, 힙정렬을 구현할 수 있다.  \n",
    "\n",
    "\n",
    "\n",
    "449p 힙 연산이하, 나중에 따라해 볼 것 20240307"
   ]
  },
  {
   "cell_type": "markdown",
   "id": "4623056d-52eb-48ae-a82a-1579c5302bef",
   "metadata": {},
   "source": [
    "# 문55 배열의 K번째 큰 요소 m\n",
    "https://leetcode.com/problems/kth-largest-element-in-an-array"
   ]
  },
  {
   "cell_type": "code",
   "execution_count": null,
   "id": "68d69fe2-d2c5-4a6b-bc6d-52145449bcc9",
   "metadata": {},
   "outputs": [],
   "source": [
    "Given an integer array nums and an integer k, return the kth largest element in the array.\n",
    "Note that it is the kth largest element in the sorted order, not the kth distinct element.\n",
    "Can you solve it without sorting?\n",
    "\n",
    "Example 1:\n",
    "\n",
    "Input: nums = [3,2,1,5,6,4], k = 2\n",
    "Output: 5\n",
    "\n",
    "Example 2:\n",
    "\n",
    "Input: nums = [3,2,3,1,2,4,5,5,6], k = 4\n",
    "Output: 4\n"
   ]
  },
  {
   "cell_type": "code",
   "execution_count": null,
   "id": "d7f6fbd9-f120-482b-befd-7a6972d4f2ea",
   "metadata": {},
   "outputs": [],
   "source": []
  },
  {
   "cell_type": "markdown",
   "id": "8b80b25c-9a80-4d2d-91cd-1670c703c38c",
   "metadata": {},
   "source": [
    "### 아래코드는 우선순위큐로 푼것인가 힙정렬로 푼 것인가?"
   ]
  },
  {
   "cell_type": "code",
   "execution_count": null,
   "id": "bd36af10-562a-46d6-8efc-db1ba21b4b47",
   "metadata": {},
   "outputs": [],
   "source": [
    "import heapq\n",
    "class Solution:\n",
    "    def findKthLargest(self, nums: List[int], k: int) -> int:\n",
    "        heap = []\n",
    "        for n in nums:\n",
    "            heapq.heappush(heap, n)\n",
    "\n",
    "        ascending_list = []\n",
    "        for _ in range(len(heap)):\n",
    "            root = heapq.heappop(heap)\n",
    "            ascending_list.append(root)\n",
    "\n",
    "        descending_list = ascending_list[::-1]\n",
    "        return descending_list[k-1]"
   ]
  },
  {
   "cell_type": "markdown",
   "id": "147c39db-39e5-438e-b1f9-43757661f6a7",
   "metadata": {},
   "source": [
    "    코드 분석\n",
    "        우선순위 큐 사용: \n",
    "        코드는 heapq를 사용하여 모든 원소를 최소 힙에 삽입합니다. \n",
    "        이 과정은 우선순위 큐의 구현에 해당합니다.\n",
    "\n",
    "    힙 정렬의 요소: \n",
    "        모든 원소를 힙에 삽입한 후, 힙에서 모든 원소를 제거하면서 오름차순으로 정렬된 리스트를 생성합니다. \n",
    "        이는 힙 정렬 과정의 일부를 반영합니다. \n",
    "        힙 정렬에서는 힙 구조를 활용하여 전체 데이터를 정렬합니다.\n",
    "\n",
    "    k번째로 큰 요소 찾기: \n",
    "        그러나 전체 리스트를 정렬하는 대신, \n",
    "        이 코드는 k번째로 큰 요소를 직접 찾기 위해 정렬된 리스트를 역순으로 뒤집고, \n",
    "        k-1 인덱스에 있는 값을 반환합니다.\n",
    "\n",
    "    결론\n",
    "        이 코드는 우선순위 큐(힙)를 활용하여 특정한 목적(여기서는 k번째로 큰 요소 찾기)을 달성하는 방식으로 작성되었습니다. \n",
    "        힙 정렬의 일부 단계를 포함하고 있으나, \n",
    "        전체 힙 정렬 알고리즘을 구현하는 것이 아니라 문제 해결에 필요한 부분만 사용합니다. \n",
    "        따라서 이 코드를 \"우선순위 큐를 활용한 문제 해결 방법\"으로 보는 것이 더 정확합니다."
   ]
  },
  {
   "cell_type": "code",
   "execution_count": 16,
   "id": "bd7d4ea0-6040-468b-8345-466d8dadea9c",
   "metadata": {
    "tags": []
   },
   "outputs": [
    {
     "data": {
      "text/plain": [
       "[1, 2, 3, 5, 6, 4]"
      ]
     },
     "execution_count": 16,
     "metadata": {},
     "output_type": "execute_result"
    }
   ],
   "source": [
    "import heapq\n",
    "\n",
    "nums = [3,2,1,5,6,4]\n",
    "heapq.heapify(nums)\n",
    "nums"
   ]
  },
  {
   "cell_type": "markdown",
   "id": "299c0f1d-c49e-49b7-9b66-8ca514edd7e7",
   "metadata": {},
   "source": [
    "### heapify 로 풀기"
   ]
  },
  {
   "cell_type": "code",
   "execution_count": null,
   "id": "aaf9b15b-429c-4914-a65a-d98cf0113e88",
   "metadata": {},
   "outputs": [],
   "source": [
    "import heapq\n",
    "class Solution:\n",
    "    def findKthLargest(self, nums: List[int], k: int) -> int:\n",
    "        \n",
    "        heapq.heapify(nums)  # heappush로 값들을 일일이 힙구조로 만들어줄 필요 없이 한방에 inplace로 힙구조로 만들어준다. \n",
    "\n",
    "        ascending_list = []\n",
    "        for _ in range(len(nums)):\n",
    "            root = heapq.heappop(nums)\n",
    "            ascending_list.append(root)\n",
    "\n",
    "        descending_list = ascending_list[::-1]\n",
    "        return descending_list[k-1]"
   ]
  },
  {
   "cell_type": "markdown",
   "id": "158dcb61-bc41-4fb7-815a-f727450a0781",
   "metadata": {},
   "source": [
    "### nlargest 로 풀기"
   ]
  },
  {
   "cell_type": "code",
   "execution_count": 18,
   "id": "558e67dc-a76d-41d0-ac9c-d1eb6e81fc52",
   "metadata": {
    "tags": []
   },
   "outputs": [
    {
     "data": {
      "text/plain": [
       "[6, 5]"
      ]
     },
     "execution_count": 18,
     "metadata": {},
     "output_type": "execute_result"
    }
   ],
   "source": [
    "import heapq\n",
    "nums = [3,2,1,5,6,4]\n",
    "heapq.nlargest(2, nums) # 정렬되지 않은 배열에서 가장 큰 원소부터 2개까지를 내림차순 정렬된 리스트로 반환"
   ]
  },
  {
   "cell_type": "markdown",
   "id": "daa75633-9114-450c-b318-98f97d48e21b",
   "metadata": {},
   "source": [
    "### nsmallest 로 풀기"
   ]
  },
  {
   "cell_type": "code",
   "execution_count": 21,
   "id": "f12a95c7-d0a8-4cb6-be5b-3ea0aab73fdc",
   "metadata": {
    "tags": []
   },
   "outputs": [
    {
     "data": {
      "text/plain": [
       "[1, 2, 3, 4, 5]"
      ]
     },
     "execution_count": 21,
     "metadata": {},
     "output_type": "execute_result"
    }
   ],
   "source": [
    "import heapq\n",
    "\n",
    "nums = [3,2,1,5,6,4]\n",
    "heapq.nsmallest(5, nums)"
   ]
  },
  {
   "cell_type": "code",
   "execution_count": null,
   "id": "37df4536-45a9-4cc9-9b6e-46494daba412",
   "metadata": {},
   "outputs": [],
   "source": []
  }
 ],
 "metadata": {
  "kernelspec": {
   "display_name": "Python 3 (ipykernel)",
   "language": "python",
   "name": "python3"
  },
  "language_info": {
   "codemirror_mode": {
    "name": "ipython",
    "version": 3
   },
   "file_extension": ".py",
   "mimetype": "text/x-python",
   "name": "python",
   "nbconvert_exporter": "python",
   "pygments_lexer": "ipython3",
   "version": "3.11.0"
  }
 },
 "nbformat": 4,
 "nbformat_minor": 5
}
