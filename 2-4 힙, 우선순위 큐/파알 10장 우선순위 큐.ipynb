{
 "cells": [
  {
   "cell_type": "markdown",
   "id": "e98a1e7e-4fcb-4265-b8ef-deb24e466a6e",
   "metadata": {},
   "source": [
    "#### 힙과 우선순위 큐의 관계 \n",
    "**자료구조 6장 힙정렬, 우선순위 큐 참고**  \n",
    "**파알 15장 힙,우선순위큐 참고**  "
   ]
  },
  {
   "cell_type": "markdown",
   "id": "9f1b94f1-ee78-464e-831c-98eb32b03c8b",
   "metadata": {},
   "source": [
    "# 문27 k개 정렬 리스트 병합 h\n",
    "https://leetcode.com/problems/merge-k-sorted-lists/"
   ]
  },
  {
   "cell_type": "markdown",
   "id": "390fcb35-ee88-4f44-877c-7df3d5e0b1fd",
   "metadata": {},
   "source": [
    "\n",
    "    Input: lists = [[1,4,5],[1,3,4],[2,6]]\n",
    "\n",
    "    Output: [1,1,2,3,4,4,5,6]"
   ]
  },
  {
   "cell_type": "markdown",
   "id": "a0a4b02f-60b7-4595-bbe7-e8cb62593836",
   "metadata": {},
   "source": [
    "파이썬의 from queue import PriorityQueue 를 사용하지 않고\n",
    "\n",
    "    import heapq 를 사용하는 이유"
   ]
  },
  {
   "cell_type": "code",
   "execution_count": 300,
   "id": "98daa54e-7bb7-4f9e-844b-ddc95ab3516a",
   "metadata": {
    "tags": []
   },
   "outputs": [],
   "source": [
    "import heapq\n",
    "from __future__ import annotations\n",
    "\n",
    "class ListNode:\n",
    "    def __init__(self, val=0, next=None):\n",
    "        self.val = val\n",
    "        self.next = next\n",
    "\n",
    "def mergeKLists(lists: List[Optional[ListNode]]) -> Optional[ListNode]:\n",
    "\n",
    "    root = result = ListNode(None) # root, result는 동일한 더미노드 객체를 참조\n",
    "                                   # result가 참조하는 더미노드의 val, next가 바뀌면 root의 val, next도 바뀐다.\n",
    "    heap = []\n",
    "\n",
    "    for i in range(len(lists)): # lists는 연결리스트들의 헤드를 담은 리스트\n",
    "        if lists[i]:  # 연결리스트가 비어있지 않으면\n",
    "            heapq.heappush(heap, (lists[i].val, i, lists[i])) \n",
    "                       # 힙에 각 연결리스트의 (헤드값, 리스트상의 인덱스, 헤드 노드)의 튜플을 차례로 푸시, \n",
    "                       # **푸시할때마다 헤드값 기준 최소힙 자동유지**\n",
    "                # 힙구조상 같은 key값을 가진 노드는 넣을 수 없으므로 인덱스 값을 넣어 구분\n",
    "                  # key 값이 중복되면서 동시에 둘다 최소값인 경우, 인덱스가 작은게 루트가 됨\n",
    "\n",
    "    while heap:  # 힙이 빌 때까지 \n",
    "        tup = heapq.heappop(heap) # 힙에서 튜플을 하나씩 꺼냄, \n",
    "                                  # **팝할때마다 나머지 헤드값 기준으로 최소힙 자동유지**\n",
    "        idx = tup[1]              # idx는 팝된 루트의 인덱스를 참조\n",
    "        \n",
    "        result.next = tup[2]      # result의 next 포인터는 팝된 루트 \"노드\"를 참조\n",
    "        result = result.next      # result는 result의 next 포인터 (팝된 루트 \"노드\")를 참조 \n",
    "                                    # 이 코드로 인해 result는 계속 팝된 루트 노드만 참조하게 됨.\n",
    "                                    # 위 두 코드로 인해 root에는 팝된 루트 노드들이 계속 연결됨\n",
    "        \n",
    "        if result.next:           # result.next.next(팝된 루트의 다음 노드)가 비어있지 않으면\n",
    "            heapq.heappush(heap, (result.next.val, idx, result.next))\n",
    "                                # 힙에 (팝된 루트의 다음노드 값, 팝된 루트의 인덱스, 팝된 루트의 다음노드)의 튜플을 푸시\n",
    "    return root.next"
   ]
  },
  {
   "cell_type": "markdown",
   "id": "9dc59539-8044-42f3-ba5f-3e1a1124a01b",
   "metadata": {},
   "source": [
    "#### idx를 추가하지 않은 경우 중복값 오류 발생"
   ]
  },
  {
   "cell_type": "code",
   "execution_count": 195,
   "id": "bf08376d-6947-426d-a9c7-a75ad1951bab",
   "metadata": {
    "tags": []
   },
   "outputs": [
    {
     "data": {
      "text/plain": [
       "[(1, <__main__.ListNode at 0x7f0b9c763e10>)]"
      ]
     },
     "execution_count": 195,
     "metadata": {},
     "output_type": "execute_result"
    }
   ],
   "source": [
    "head1 = ListNode(1, ListNode(4, ListNode(5)))\n",
    "head2 = ListNode(1, ListNode(3, ListNode(4)))\n",
    "head3 = ListNode(2, ListNode(6))\n",
    "\n",
    "lists = [head1, head2, head3]\n",
    "heap = []\n",
    "\n",
    "heapq.heappush(heap, (lists[0].val, lists[0]))\n",
    "heap"
   ]
  },
  {
   "cell_type": "code",
   "execution_count": 196,
   "id": "9302d820-3580-46c7-b714-1d0e107bd08c",
   "metadata": {
    "tags": []
   },
   "outputs": [
    {
     "ename": "TypeError",
     "evalue": "'<' not supported between instances of 'ListNode' and 'ListNode'",
     "output_type": "error",
     "traceback": [
      "\u001b[0;31m---------------------------------------------------------------------------\u001b[0m",
      "\u001b[0;31mTypeError\u001b[0m                                 Traceback (most recent call last)",
      "Cell \u001b[0;32mIn[196], line 1\u001b[0m\n\u001b[0;32m----> 1\u001b[0m heapq\u001b[38;5;241m.\u001b[39mheappush(heap, (lists[\u001b[38;5;241m1\u001b[39m]\u001b[38;5;241m.\u001b[39mval, lists[\u001b[38;5;241m1\u001b[39m]))\n\u001b[1;32m      2\u001b[0m heap\n",
      "\u001b[0;31mTypeError\u001b[0m: '<' not supported between instances of 'ListNode' and 'ListNode'"
     ]
    }
   ],
   "source": [
    "heapq.heappush(heap, (lists[1].val, lists[1]))\n",
    "heap"
   ]
  },
  {
   "cell_type": "markdown",
   "id": "3c830390-ff64-4da4-ba0e-cc8c2e07a5f9",
   "metadata": {},
   "source": [
    "## 결과 확인"
   ]
  },
  {
   "cell_type": "code",
   "execution_count": 301,
   "id": "1f8b09b6-e14a-4b34-a193-0aa6a8029df5",
   "metadata": {
    "tags": []
   },
   "outputs": [
    {
     "data": {
      "text/plain": [
       "<__main__.ListNode at 0x7f93da99a8d0>"
      ]
     },
     "execution_count": 301,
     "metadata": {},
     "output_type": "execute_result"
    }
   ],
   "source": [
    "head1 = ListNode(1, ListNode(4, ListNode(5)))\n",
    "head2 = ListNode(1, ListNode(3, ListNode(4)))\n",
    "head3 = ListNode(2, ListNode(6))\n",
    "\n",
    "lists = [head1, head2, head3]\n",
    "\n",
    "answer = mergeKLists(lists)\n",
    "answer"
   ]
  },
  {
   "cell_type": "code",
   "execution_count": 176,
   "id": "dffcd594-c000-4886-8187-1b1e6dd8cbb5",
   "metadata": {
    "tags": []
   },
   "outputs": [
    {
     "data": {
      "text/plain": [
       "2"
      ]
     },
     "execution_count": 176,
     "metadata": {},
     "output_type": "execute_result"
    }
   ],
   "source": [
    "answer.next.next.val"
   ]
  },
  {
   "cell_type": "code",
   "execution_count": 177,
   "id": "d64bc4e6-9ee0-4981-adf8-c4781ebe4820",
   "metadata": {
    "tags": []
   },
   "outputs": [
    {
     "data": {
      "text/plain": [
       "1"
      ]
     },
     "execution_count": 177,
     "metadata": {},
     "output_type": "execute_result"
    }
   ],
   "source": [
    "answer.next.val"
   ]
  },
  {
   "cell_type": "code",
   "execution_count": 178,
   "id": "4bf717e6-b5c7-412d-bcb1-b38d291dbbd9",
   "metadata": {
    "tags": []
   },
   "outputs": [
    {
     "data": {
      "text/plain": [
       "1"
      ]
     },
     "execution_count": 178,
     "metadata": {},
     "output_type": "execute_result"
    }
   ],
   "source": [
    "answer.val"
   ]
  },
  {
   "cell_type": "code",
   "execution_count": 302,
   "id": "7bf5bb4d-d27a-4bd0-929d-017418fdf437",
   "metadata": {
    "tags": []
   },
   "outputs": [],
   "source": [
    "class ListNode:\n",
    "    def __init__(self, val=0, next=None):\n",
    "        self.val = val\n",
    "        self.next = next\n",
    "    \n",
    "root = result = ListNode(None)"
   ]
  },
  {
   "cell_type": "code",
   "execution_count": 303,
   "id": "7ddf40e8-1cb0-4464-96b8-42892515d130",
   "metadata": {
    "tags": []
   },
   "outputs": [
    {
     "data": {
      "text/plain": [
       "True"
      ]
     },
     "execution_count": 303,
     "metadata": {},
     "output_type": "execute_result"
    }
   ],
   "source": [
    "root is result"
   ]
  },
  {
   "cell_type": "code",
   "execution_count": 304,
   "id": "599bbee8-9782-4e85-9c3f-41dd08a06ce9",
   "metadata": {
    "tags": []
   },
   "outputs": [
    {
     "data": {
      "text/plain": [
       "True"
      ]
     },
     "execution_count": 304,
     "metadata": {},
     "output_type": "execute_result"
    }
   ],
   "source": [
    "root == result"
   ]
  },
  {
   "cell_type": "code",
   "execution_count": 305,
   "id": "b3059eb9-86cd-477c-a151-96dd1a792caa",
   "metadata": {
    "tags": []
   },
   "outputs": [
    {
     "data": {
      "text/plain": [
       "<__main__.ListNode at 0x7f93da97d650>"
      ]
     },
     "execution_count": 305,
     "metadata": {},
     "output_type": "execute_result"
    }
   ],
   "source": [
    "root"
   ]
  },
  {
   "cell_type": "code",
   "execution_count": 306,
   "id": "a319f951-8c64-4c8c-867f-e8b0bd4ac490",
   "metadata": {
    "tags": []
   },
   "outputs": [
    {
     "data": {
      "text/plain": [
       "<__main__.ListNode at 0x7f93da97d650>"
      ]
     },
     "execution_count": 306,
     "metadata": {},
     "output_type": "execute_result"
    }
   ],
   "source": [
    "result"
   ]
  },
  {
   "cell_type": "markdown",
   "id": "91015e43-d47c-4f89-bd65-94912375728a",
   "metadata": {},
   "source": [
    "## root와 result는 동일한 객체를 참조한다.\n",
    "\n",
    "    result가 참조하는 값이 바뀌면\n",
    "    root도 따라 바뀐다."
   ]
  },
  {
   "cell_type": "code",
   "execution_count": 307,
   "id": "dba62938-ba55-491a-aa84-85540364ae0b",
   "metadata": {
    "tags": []
   },
   "outputs": [
    {
     "data": {
      "text/plain": [
       "10"
      ]
     },
     "execution_count": 307,
     "metadata": {},
     "output_type": "execute_result"
    }
   ],
   "source": [
    "result.val = 10\n",
    "root.val"
   ]
  },
  {
   "cell_type": "code",
   "execution_count": 308,
   "id": "e2e9939a-bfac-44b3-9d85-ab9b089797b4",
   "metadata": {
    "tags": []
   },
   "outputs": [
    {
     "data": {
      "text/plain": [
       "True"
      ]
     },
     "execution_count": 308,
     "metadata": {},
     "output_type": "execute_result"
    }
   ],
   "source": [
    "root is result"
   ]
  },
  {
   "cell_type": "code",
   "execution_count": 309,
   "id": "c48ecbf5-713e-417c-99b2-6c2a3230012b",
   "metadata": {
    "tags": []
   },
   "outputs": [
    {
     "data": {
      "text/plain": [
       "True"
      ]
     },
     "execution_count": 309,
     "metadata": {},
     "output_type": "execute_result"
    }
   ],
   "source": [
    "root == result"
   ]
  },
  {
   "cell_type": "markdown",
   "id": "01a22018-3b65-43d2-8c66-0f1050814bdb",
   "metadata": {},
   "source": [
    "### line by line 확인"
   ]
  },
  {
   "cell_type": "code",
   "execution_count": 130,
   "id": "25ae6716-cf7f-4c6f-bb5c-c201aa54324f",
   "metadata": {
    "tags": []
   },
   "outputs": [],
   "source": [
    "import heapq\n",
    "\n",
    "class ListNode:\n",
    "    def __init__(self, val=0, next=None):\n",
    "        self.val = val\n",
    "        self.next = next\n",
    "    \n",
    "root = result = ListNode(None)"
   ]
  },
  {
   "cell_type": "markdown",
   "id": "2948b86d-ff66-4890-8569-0ba06b442c6f",
   "metadata": {},
   "source": [
    "for문"
   ]
  },
  {
   "cell_type": "code",
   "execution_count": 131,
   "id": "731e8e90-b74a-4e54-85a5-2c1897243736",
   "metadata": {
    "tags": []
   },
   "outputs": [
    {
     "data": {
      "text/plain": [
       "<__main__.ListNode at 0x7f410062e110>"
      ]
     },
     "execution_count": 131,
     "metadata": {},
     "output_type": "execute_result"
    }
   ],
   "source": [
    "root"
   ]
  },
  {
   "cell_type": "code",
   "execution_count": 132,
   "id": "ec29c746-21f3-401b-9244-c151edb6e1c4",
   "metadata": {
    "tags": []
   },
   "outputs": [
    {
     "data": {
      "text/plain": [
       "<__main__.ListNode at 0x7f410062e110>"
      ]
     },
     "execution_count": 132,
     "metadata": {},
     "output_type": "execute_result"
    }
   ],
   "source": [
    "result"
   ]
  },
  {
   "cell_type": "code",
   "execution_count": 133,
   "id": "8a516a93-b15c-4ca9-acc0-3435f937c26a",
   "metadata": {
    "tags": []
   },
   "outputs": [
    {
     "data": {
      "text/plain": [
       "[(1, 0, <__main__.ListNode at 0x7f41006bf010>),\n",
       " (1, 1, <__main__.ListNode at 0x7f41006bc910>),\n",
       " (2, 2, <__main__.ListNode at 0x7f41006bc990>)]"
      ]
     },
     "execution_count": 133,
     "metadata": {},
     "output_type": "execute_result"
    }
   ],
   "source": [
    "head1 = ListNode(1, ListNode(4, ListNode(5)))\n",
    "head2 = ListNode(1, ListNode(3, ListNode(4)))\n",
    "head3 = ListNode(2, ListNode(6))\n",
    "\n",
    "lists = [head1, head2, head3]\n",
    "heap = []\n",
    "\n",
    "heapq.heappush(heap, (lists[0].val, 0, lists[0]))\n",
    "heapq.heappush(heap, (lists[1].val, 1, lists[1]))\n",
    "heapq.heappush(heap, (lists[2].val, 2, lists[2]))\n",
    "heap"
   ]
  },
  {
   "cell_type": "markdown",
   "id": "5a38ff2b-aa5b-4e99-b6ea-be428ebe086b",
   "metadata": {},
   "source": [
    "## 첫번째 while문"
   ]
  },
  {
   "cell_type": "code",
   "execution_count": 134,
   "id": "6f45e07a-b3e5-48e3-b70d-ba5c2ea61c26",
   "metadata": {
    "tags": []
   },
   "outputs": [
    {
     "data": {
      "text/plain": [
       "(1, 0, <__main__.ListNode at 0x7f41006bf010>)"
      ]
     },
     "execution_count": 134,
     "metadata": {},
     "output_type": "execute_result"
    }
   ],
   "source": [
    "tup = heapq.heappop(heap)\n",
    "tup"
   ]
  },
  {
   "cell_type": "code",
   "execution_count": 135,
   "id": "f1527037-b684-4830-b8ef-b5262521dd2c",
   "metadata": {
    "tags": []
   },
   "outputs": [
    {
     "data": {
      "text/plain": [
       "[(1, 1, <__main__.ListNode at 0x7f41006bc910>),\n",
       " (2, 2, <__main__.ListNode at 0x7f41006bc990>)]"
      ]
     },
     "execution_count": 135,
     "metadata": {},
     "output_type": "execute_result"
    }
   ],
   "source": [
    "heap"
   ]
  },
  {
   "cell_type": "code",
   "execution_count": 136,
   "id": "fc3803fe-4084-4011-ab07-e98ea6100d7a",
   "metadata": {
    "tags": []
   },
   "outputs": [],
   "source": [
    "idx = tup[1]\n",
    "result.next = tup[2]"
   ]
  },
  {
   "cell_type": "code",
   "execution_count": 137,
   "id": "9e8d69c9-efc6-42d5-a20d-efe6be335121",
   "metadata": {
    "tags": []
   },
   "outputs": [
    {
     "name": "stdout",
     "output_type": "stream",
     "text": [
      "1\n",
      "1\n"
     ]
    },
    {
     "data": {
      "text/plain": [
       "True"
      ]
     },
     "execution_count": 137,
     "metadata": {},
     "output_type": "execute_result"
    }
   ],
   "source": [
    "print(result.next.val)\n",
    "print(root.next.val)\n",
    "result.next is root.next"
   ]
  },
  {
   "cell_type": "code",
   "execution_count": 138,
   "id": "cc045a28-d09b-4413-94c5-ccb7527cfc4d",
   "metadata": {
    "tags": []
   },
   "outputs": [
    {
     "name": "stdout",
     "output_type": "stream",
     "text": [
      "4\n",
      "5\n"
     ]
    }
   ],
   "source": [
    "print(root.next.next.val)\n",
    "print(root.next.next.next.val)"
   ]
  },
  {
   "cell_type": "code",
   "execution_count": 139,
   "id": "3cb2f28c-1030-4d06-bd7f-fb28acdfca26",
   "metadata": {
    "tags": []
   },
   "outputs": [],
   "source": [
    "result = result.next    # result를, 새로 팝한 루트의 next 포인터를 참조 "
   ]
  },
  {
   "cell_type": "code",
   "execution_count": 140,
   "id": "7154428f-4434-41cd-bdad-168c1500fec1",
   "metadata": {
    "tags": []
   },
   "outputs": [
    {
     "name": "stdout",
     "output_type": "stream",
     "text": [
      "1\n",
      "4\n",
      "5\n"
     ]
    }
   ],
   "source": [
    "print(result.val)\n",
    "print(result.next.val)\n",
    "print(result.next.next.val)"
   ]
  },
  {
   "cell_type": "code",
   "execution_count": 141,
   "id": "bbd9576b-74d3-48e2-ba20-8c25d1696b75",
   "metadata": {
    "tags": []
   },
   "outputs": [
    {
     "data": {
      "text/plain": [
       "[(1, 1, <__main__.ListNode at 0x7f41006bc910>),\n",
       " (2, 2, <__main__.ListNode at 0x7f41006bc990>),\n",
       " (4, 0, <__main__.ListNode at 0x7f410063e9d0>)]"
      ]
     },
     "execution_count": 141,
     "metadata": {},
     "output_type": "execute_result"
    }
   ],
   "source": [
    "heapq.heappush(heap, (result.next.val, idx, result.next))\n",
    "heap"
   ]
  },
  {
   "cell_type": "markdown",
   "id": "7bee0de4-3c5b-432d-8c07-1889d3686c37",
   "metadata": {},
   "source": [
    "## 두번째 while문"
   ]
  },
  {
   "cell_type": "code",
   "execution_count": 142,
   "id": "320b65ed-4455-4cc2-a3dd-63cf4d2ee252",
   "metadata": {
    "tags": []
   },
   "outputs": [
    {
     "data": {
      "text/plain": [
       "(1, 1, <__main__.ListNode at 0x7f41006bc910>)"
      ]
     },
     "execution_count": 142,
     "metadata": {},
     "output_type": "execute_result"
    }
   ],
   "source": [
    "tup = heapq.heappop(heap)\n",
    "tup"
   ]
  },
  {
   "cell_type": "code",
   "execution_count": 143,
   "id": "8501068b-7125-4bef-b6f5-317576420525",
   "metadata": {
    "tags": []
   },
   "outputs": [
    {
     "data": {
      "text/plain": [
       "[(2, 2, <__main__.ListNode at 0x7f41006bc990>),\n",
       " (4, 0, <__main__.ListNode at 0x7f410063e9d0>)]"
      ]
     },
     "execution_count": 143,
     "metadata": {},
     "output_type": "execute_result"
    }
   ],
   "source": [
    "heap"
   ]
  },
  {
   "cell_type": "code",
   "execution_count": 144,
   "id": "05a68081-0410-4a53-a0d7-30c3851fe03c",
   "metadata": {
    "tags": []
   },
   "outputs": [],
   "source": [
    "idx = tup[1]\n",
    "result.next = tup[2]  # 이 코드로 인해서 root가 업데이트 되는건가?"
   ]
  },
  {
   "cell_type": "code",
   "execution_count": 145,
   "id": "7c08a2a4-7a73-4652-a564-eec4d06ef7e1",
   "metadata": {
    "tags": []
   },
   "outputs": [
    {
     "name": "stdout",
     "output_type": "stream",
     "text": [
      "1\n",
      "1\n",
      "\n",
      "1\n",
      "1\n"
     ]
    }
   ],
   "source": [
    "print(result.val)   # 이건 [1, 4, 5]에서 1\n",
    "print(root.next.val) # 이것도 [1, 4, 5]에서 1\n",
    "print()\n",
    "print(root.next.next.val) # 그런데 이건 [1, 4, 5]의 4에서  [1, 3, 4]의 1 로 바꼈다. 왜?\n",
    "print(result.next.val)  # 위 result.next = tup[2]  코드로 인해 \n",
    "                        # result.next.val이 [1, 4, 5]의 4에서  [1, 3, 4]의 1로 바꼈기 때문\n",
    "    # root.next는 result를 참조하고 있으므로\n",
    "    # result.next 포인터가 \"새로운 객체\"를 참조하게 하면\n",
    "    # root.next.next 도 \"새로운 객체\"를 참조하게 된다."
   ]
  },
  {
   "cell_type": "code",
   "execution_count": 146,
   "id": "c9244b27-c525-41e4-9e6c-0f5ce62ff3fa",
   "metadata": {
    "tags": []
   },
   "outputs": [
    {
     "data": {
      "text/plain": [
       "True"
      ]
     },
     "execution_count": 146,
     "metadata": {},
     "output_type": "execute_result"
    }
   ],
   "source": [
    "result is root.next  "
   ]
  },
  {
   "cell_type": "code",
   "execution_count": 147,
   "id": "c0305855-b4bd-4886-89ec-c3f6291a017f",
   "metadata": {
    "tags": []
   },
   "outputs": [
    {
     "data": {
      "text/plain": [
       "True"
      ]
     },
     "execution_count": 147,
     "metadata": {},
     "output_type": "execute_result"
    }
   ],
   "source": [
    "result.next is root.next.next"
   ]
  },
  {
   "cell_type": "code",
   "execution_count": 148,
   "id": "6f4fb58a-f375-4c5a-b70e-2629402578fc",
   "metadata": {
    "tags": []
   },
   "outputs": [
    {
     "name": "stdout",
     "output_type": "stream",
     "text": [
      "3\n",
      "4\n",
      "\n",
      "3\n",
      "4\n"
     ]
    }
   ],
   "source": [
    "print(result.next.next.val)\n",
    "print(result.next.next.next.val)\n",
    "print()\n",
    "print(root.next.next.next.val)\n",
    "print(root.next.next.next.next.val)"
   ]
  },
  {
   "cell_type": "code",
   "execution_count": 149,
   "id": "7d5d5357-f519-4c5f-8ada-a3d46c037aa8",
   "metadata": {
    "tags": []
   },
   "outputs": [],
   "source": [
    "result = result.next   # result를, 새로 팝한 루트의 next 포인터를 참조 "
   ]
  },
  {
   "cell_type": "code",
   "execution_count": 152,
   "id": "121ff433-eb13-4317-9ba1-b4f6e01ceb35",
   "metadata": {
    "tags": []
   },
   "outputs": [
    {
     "data": {
      "text/plain": [
       "1"
      ]
     },
     "execution_count": 152,
     "metadata": {},
     "output_type": "execute_result"
    }
   ],
   "source": [
    "result.val"
   ]
  },
  {
   "cell_type": "code",
   "execution_count": 153,
   "id": "ed8d479c-dcf8-4e6f-8075-d7e84fb1ad71",
   "metadata": {
    "tags": []
   },
   "outputs": [
    {
     "data": {
      "text/plain": [
       "3"
      ]
     },
     "execution_count": 153,
     "metadata": {},
     "output_type": "execute_result"
    }
   ],
   "source": [
    "result.next.val  # 그러면 새로 팝한 루트의 다음 노드를 result.next로 호출할수 있게 되고"
   ]
  },
  {
   "cell_type": "code",
   "execution_count": 151,
   "id": "d30201b5-1fea-4649-9ba7-e2cb8c9ad662",
   "metadata": {
    "tags": []
   },
   "outputs": [
    {
     "data": {
      "text/plain": [
       "[(2, 2, <__main__.ListNode at 0x7f41006bc990>),\n",
       " (4, 0, <__main__.ListNode at 0x7f410063e9d0>),\n",
       " (3, 1, <__main__.ListNode at 0x7f41006bc650>)]"
      ]
     },
     "execution_count": 151,
     "metadata": {},
     "output_type": "execute_result"
    }
   ],
   "source": [
    "heapq.heappush(heap, (result.next.val, idx, result.next))\n",
    "heap"
   ]
  },
  {
   "cell_type": "markdown",
   "id": "2fc02a00-e5c6-451e-bca1-910fd1fe1dc8",
   "metadata": {
    "tags": []
   },
   "source": [
    "## 세번째 while문"
   ]
  },
  {
   "cell_type": "code",
   "execution_count": 48,
   "id": "6c58879c-b528-4a32-abc9-0c895edcf508",
   "metadata": {
    "tags": []
   },
   "outputs": [
    {
     "data": {
      "text/plain": [
       "(2, 2, <__main__.ListNode at 0x7f41006519d0>)"
      ]
     },
     "execution_count": 48,
     "metadata": {},
     "output_type": "execute_result"
    }
   ],
   "source": [
    "tup = heapq.heappop(heap)  # 2, 4, 3 에서 2를 빼고 나머지값들 4, 3을 다시 최소힙으로 유지\n",
    "tup"
   ]
  },
  {
   "cell_type": "code",
   "execution_count": 49,
   "id": "33be2d80-7a41-4f90-a6ca-70f4465e6508",
   "metadata": {
    "tags": []
   },
   "outputs": [
    {
     "data": {
      "text/plain": [
       "[(3, 1, <__main__.ListNode at 0x7f41006512d0>),\n",
       " (4, 0, <__main__.ListNode at 0x7f4100652610>)]"
      ]
     },
     "execution_count": 49,
     "metadata": {},
     "output_type": "execute_result"
    }
   ],
   "source": [
    "heap"
   ]
  },
  {
   "cell_type": "code",
   "execution_count": 50,
   "id": "a52c77d4-a758-445d-a9b5-e3b7f74246dd",
   "metadata": {
    "tags": []
   },
   "outputs": [],
   "source": [
    "idx = tup[1]\n",
    "result.next = tup[2]"
   ]
  },
  {
   "cell_type": "code",
   "execution_count": 53,
   "id": "8066cee1-4f30-4920-bbf1-6bcf213256e8",
   "metadata": {
    "tags": []
   },
   "outputs": [],
   "source": [
    "result = result.next"
   ]
  },
  {
   "cell_type": "code",
   "execution_count": 54,
   "id": "01253292-a17f-4343-8e56-59abca16f5b0",
   "metadata": {
    "tags": []
   },
   "outputs": [
    {
     "data": {
      "text/plain": [
       "6"
      ]
     },
     "execution_count": 54,
     "metadata": {},
     "output_type": "execute_result"
    }
   ],
   "source": [
    "result.next.val"
   ]
  },
  {
   "cell_type": "code",
   "execution_count": 55,
   "id": "4debd44e-ea1c-48c5-a17b-ec591b4e2eae",
   "metadata": {
    "tags": []
   },
   "outputs": [
    {
     "data": {
      "text/plain": [
       "[(3, 1, <__main__.ListNode at 0x7f41006512d0>),\n",
       " (4, 0, <__main__.ListNode at 0x7f4100652610>),\n",
       " (6, 2, <__main__.ListNode at 0x7f4100653450>)]"
      ]
     },
     "execution_count": 55,
     "metadata": {},
     "output_type": "execute_result"
    }
   ],
   "source": [
    "heapq.heappush(heap, (result.next.val, idx, result.next))\n",
    "heap"
   ]
  },
  {
   "cell_type": "markdown",
   "id": "72bba487-695f-4708-a927-b139c9cd3d9e",
   "metadata": {},
   "source": [
    "## 네번째 while문"
   ]
  },
  {
   "cell_type": "code",
   "execution_count": 443,
   "id": "88584fbf-03e5-45cc-ac37-6a51d7c3a770",
   "metadata": {
    "tags": []
   },
   "outputs": [
    {
     "data": {
      "text/plain": [
       "(3, 1, <__main__.ListNode at 0x7f93dab82310>)"
      ]
     },
     "execution_count": 443,
     "metadata": {},
     "output_type": "execute_result"
    }
   ],
   "source": [
    "tup = heapq.heappop(heap)  # 3, 4, 6 에서 3를 빼고 나머지값들 4, 6을 다시 최소힙으로 유지\n",
    "tup"
   ]
  },
  {
   "cell_type": "code",
   "execution_count": 444,
   "id": "0a6c5564-c88e-44b6-b283-540d7a7f71c0",
   "metadata": {
    "tags": []
   },
   "outputs": [
    {
     "data": {
      "text/plain": [
       "[(4, 0, <__main__.ListNode at 0x7f93dab80810>),\n",
       " (6, 2, <__main__.ListNode at 0x7f93dabb3a50>)]"
      ]
     },
     "execution_count": 444,
     "metadata": {},
     "output_type": "execute_result"
    }
   ],
   "source": [
    "heap"
   ]
  },
  {
   "cell_type": "code",
   "execution_count": 445,
   "id": "4605e61d-ed6c-498d-a264-9347db0e7b5a",
   "metadata": {
    "tags": []
   },
   "outputs": [],
   "source": [
    "idx = tup[1]\n",
    "result.next = tup[2]\n",
    "result = result.next"
   ]
  },
  {
   "cell_type": "code",
   "execution_count": 446,
   "id": "e833781a-dd7f-4255-90e9-822411a4b3a9",
   "metadata": {
    "tags": []
   },
   "outputs": [
    {
     "data": {
      "text/plain": [
       "4"
      ]
     },
     "execution_count": 446,
     "metadata": {},
     "output_type": "execute_result"
    }
   ],
   "source": [
    "result.next.val"
   ]
  },
  {
   "cell_type": "code",
   "execution_count": 417,
   "id": "54dd4711-2adb-484b-b4f3-1741460508bd",
   "metadata": {
    "tags": []
   },
   "outputs": [
    {
     "data": {
      "text/plain": [
       "[(4, 0, <__main__.ListNode at 0x7f93dabdad10>),\n",
       " (6, 2, <__main__.ListNode at 0x7f93dab9ec10>),\n",
       " (4, 1, <__main__.ListNode at 0x7f93dabd8e10>)]"
      ]
     },
     "execution_count": 417,
     "metadata": {},
     "output_type": "execute_result"
    }
   ],
   "source": [
    "heapq.heappush(heap, (result.next.val, idx, result.next))\n",
    "heap"
   ]
  },
  {
   "cell_type": "markdown",
   "id": "7001066c-a2f8-43e2-b6ee-cb2801d6746f",
   "metadata": {
    "tags": []
   },
   "source": [
    "## 다섯번째 while문"
   ]
  },
  {
   "cell_type": "code",
   "execution_count": 418,
   "id": "e7f29ac1-0eed-4d30-94c1-35832b66b26f",
   "metadata": {
    "tags": []
   },
   "outputs": [
    {
     "data": {
      "text/plain": [
       "(4, 0, <__main__.ListNode at 0x7f93dabdad10>)"
      ]
     },
     "execution_count": 418,
     "metadata": {},
     "output_type": "execute_result"
    }
   ],
   "source": [
    "tup = heapq.heappop(heap)  # 4, 6, 4에서 4를 빼고 나머지값들 6, 4을 다시 최소힙으로 유지\n",
    "tup"
   ]
  },
  {
   "cell_type": "code",
   "execution_count": 419,
   "id": "96d2ef0a-0b9e-4d34-bf0e-b47855170f58",
   "metadata": {
    "tags": []
   },
   "outputs": [
    {
     "data": {
      "text/plain": [
       "[(4, 1, <__main__.ListNode at 0x7f93dabd8e10>),\n",
       " (6, 2, <__main__.ListNode at 0x7f93dab9ec10>)]"
      ]
     },
     "execution_count": 419,
     "metadata": {},
     "output_type": "execute_result"
    }
   ],
   "source": [
    "heap"
   ]
  },
  {
   "cell_type": "code",
   "execution_count": 420,
   "id": "1b6c4cbe-a335-4279-a93a-82031ac5b791",
   "metadata": {
    "tags": []
   },
   "outputs": [],
   "source": [
    "idx = tup[1]\n",
    "result.next = tup[2]\n",
    "result = result.next"
   ]
  },
  {
   "cell_type": "code",
   "execution_count": 421,
   "id": "f074ba2a-775e-40f3-a6d8-10faba2a7527",
   "metadata": {
    "tags": []
   },
   "outputs": [
    {
     "data": {
      "text/plain": [
       "5"
      ]
     },
     "execution_count": 421,
     "metadata": {},
     "output_type": "execute_result"
    }
   ],
   "source": [
    "result.next.val"
   ]
  },
  {
   "cell_type": "code",
   "execution_count": 422,
   "id": "a35a6fe0-48f0-46d6-bd88-45f34696e734",
   "metadata": {
    "tags": []
   },
   "outputs": [
    {
     "data": {
      "text/plain": [
       "[(4, 1, <__main__.ListNode at 0x7f93dabd8e10>),\n",
       " (6, 2, <__main__.ListNode at 0x7f93dab9ec10>),\n",
       " (5, 0, <__main__.ListNode at 0x7f93dabd9e10>)]"
      ]
     },
     "execution_count": 422,
     "metadata": {},
     "output_type": "execute_result"
    }
   ],
   "source": [
    "heapq.heappush(heap, (result.next.val, idx, result.next))\n",
    "heap"
   ]
  },
  {
   "cell_type": "markdown",
   "id": "674fc112-d894-49e0-a46a-f990aafbb8a7",
   "metadata": {},
   "source": [
    "## 여섯번째 while문"
   ]
  },
  {
   "cell_type": "code",
   "execution_count": 423,
   "id": "f3acc275-d71f-4e6d-8919-e5120c86f147",
   "metadata": {
    "tags": []
   },
   "outputs": [
    {
     "data": {
      "text/plain": [
       "(4, 1, <__main__.ListNode at 0x7f93dabd8e10>)"
      ]
     },
     "execution_count": 423,
     "metadata": {},
     "output_type": "execute_result"
    }
   ],
   "source": [
    "tup = heapq.heappop(heap)  # 4, 6, 5 에서 4를 빼고 나머지값들 6, 5을 다시 최소힙으로 유지\n",
    "tup"
   ]
  },
  {
   "cell_type": "code",
   "execution_count": 424,
   "id": "4e0a8f0e-0245-43b2-ade8-8d9d8c944017",
   "metadata": {
    "tags": []
   },
   "outputs": [
    {
     "data": {
      "text/plain": [
       "[(5, 0, <__main__.ListNode at 0x7f93dabd9e10>),\n",
       " (6, 2, <__main__.ListNode at 0x7f93dab9ec10>)]"
      ]
     },
     "execution_count": 424,
     "metadata": {},
     "output_type": "execute_result"
    }
   ],
   "source": [
    "heap"
   ]
  },
  {
   "cell_type": "code",
   "execution_count": 425,
   "id": "d48319c0-bef9-494d-a2f4-ad052218f9ba",
   "metadata": {
    "tags": []
   },
   "outputs": [],
   "source": [
    "idx = tup[1]\n",
    "result.next = tup[2]\n",
    "result = result.next"
   ]
  },
  {
   "cell_type": "code",
   "execution_count": 426,
   "id": "5be38f04-6f60-4ec6-9767-17ba887f6aa8",
   "metadata": {
    "tags": []
   },
   "outputs": [
    {
     "ename": "AttributeError",
     "evalue": "'NoneType' object has no attribute 'val'",
     "output_type": "error",
     "traceback": [
      "\u001b[0;31m---------------------------------------------------------------------------\u001b[0m",
      "\u001b[0;31mAttributeError\u001b[0m                            Traceback (most recent call last)",
      "Cell \u001b[0;32mIn[426], line 1\u001b[0m\n\u001b[0;32m----> 1\u001b[0m result\u001b[38;5;241m.\u001b[39mnext\u001b[38;5;241m.\u001b[39mval\n",
      "\u001b[0;31mAttributeError\u001b[0m: 'NoneType' object has no attribute 'val'"
     ]
    }
   ],
   "source": [
    "result.next.val"
   ]
  },
  {
   "cell_type": "markdown",
   "id": "f475adb1-2dc2-4a35-a9ec-11d0500ed617",
   "metadata": {},
   "source": [
    "## 일곱번째 while문"
   ]
  },
  {
   "cell_type": "code",
   "execution_count": 381,
   "id": "bb8b0df5-4f17-45b6-9863-af441461334a",
   "metadata": {
    "tags": []
   },
   "outputs": [
    {
     "data": {
      "text/plain": [
       "(5, 0, <__main__.ListNode at 0x7f93da944d50>)"
      ]
     },
     "execution_count": 381,
     "metadata": {},
     "output_type": "execute_result"
    }
   ],
   "source": [
    "tup = heapq.heappop(heap)  # 5, 6 에서 5를 빼고 나머지값 6 힙으로 유지\n",
    "tup"
   ]
  },
  {
   "cell_type": "code",
   "execution_count": 382,
   "id": "8f0874aa-06c9-4bff-a1c9-ad1d28dbba06",
   "metadata": {
    "tags": []
   },
   "outputs": [
    {
     "data": {
      "text/plain": [
       "[(6, 2, <__main__.ListNode at 0x7f93da947510>)]"
      ]
     },
     "execution_count": 382,
     "metadata": {},
     "output_type": "execute_result"
    }
   ],
   "source": [
    "heap"
   ]
  },
  {
   "cell_type": "code",
   "execution_count": 383,
   "id": "63257aa2-545e-4a55-b522-ac8d0609da41",
   "metadata": {
    "tags": []
   },
   "outputs": [],
   "source": [
    "idx = tup[1]\n",
    "result.next = tup[2]\n",
    "result = result.next"
   ]
  },
  {
   "cell_type": "code",
   "execution_count": 384,
   "id": "2e79a8bd-1791-4ed2-8360-8ffe40c93179",
   "metadata": {
    "tags": []
   },
   "outputs": [
    {
     "ename": "AttributeError",
     "evalue": "'NoneType' object has no attribute 'val'",
     "output_type": "error",
     "traceback": [
      "\u001b[0;31m---------------------------------------------------------------------------\u001b[0m",
      "\u001b[0;31mAttributeError\u001b[0m                            Traceback (most recent call last)",
      "Cell \u001b[0;32mIn[384], line 1\u001b[0m\n\u001b[0;32m----> 1\u001b[0m result\u001b[38;5;241m.\u001b[39mnext\u001b[38;5;241m.\u001b[39mval\n",
      "\u001b[0;31mAttributeError\u001b[0m: 'NoneType' object has no attribute 'val'"
     ]
    }
   ],
   "source": [
    "result.next.val"
   ]
  },
  {
   "cell_type": "markdown",
   "id": "085d1334-8eef-4cc7-917d-4098f798b456",
   "metadata": {},
   "source": [
    "## 여덟번째 while문"
   ]
  },
  {
   "cell_type": "code",
   "execution_count": 385,
   "id": "95caa69e-0a2b-405f-8da2-352234f01159",
   "metadata": {
    "tags": []
   },
   "outputs": [
    {
     "data": {
      "text/plain": [
       "(6, 2, <__main__.ListNode at 0x7f93da947510>)"
      ]
     },
     "execution_count": 385,
     "metadata": {},
     "output_type": "execute_result"
    }
   ],
   "source": [
    "tup = heapq.heappop(heap)  # 6 에서 6를 빼고 \n",
    "tup"
   ]
  },
  {
   "cell_type": "code",
   "execution_count": 386,
   "id": "867436cc-de0b-40bf-9abd-bc747cad1c42",
   "metadata": {
    "tags": []
   },
   "outputs": [
    {
     "data": {
      "text/plain": [
       "[]"
      ]
     },
     "execution_count": 386,
     "metadata": {},
     "output_type": "execute_result"
    }
   ],
   "source": [
    "heap"
   ]
  },
  {
   "cell_type": "code",
   "execution_count": 395,
   "id": "9b734f7e-cdd6-445c-8334-133eff83adf5",
   "metadata": {
    "tags": []
   },
   "outputs": [
    {
     "data": {
      "text/plain": [
       "6"
      ]
     },
     "execution_count": 395,
     "metadata": {},
     "output_type": "execute_result"
    }
   ],
   "source": [
    "idx = tup[1]\n",
    "result.next = tup[2]\n",
    "result.next.val"
   ]
  },
  {
   "cell_type": "code",
   "execution_count": 396,
   "id": "01909ccc-aa9b-4795-87e1-d515e0e69c2a",
   "metadata": {
    "tags": []
   },
   "outputs": [
    {
     "data": {
      "text/plain": [
       "6"
      ]
     },
     "execution_count": 396,
     "metadata": {},
     "output_type": "execute_result"
    }
   ],
   "source": [
    "result = result.next\n",
    "result.val"
   ]
  },
  {
   "cell_type": "code",
   "execution_count": 397,
   "id": "b6f96d32-1e93-486c-a39a-b187bcaf900b",
   "metadata": {
    "tags": []
   },
   "outputs": [
    {
     "ename": "AttributeError",
     "evalue": "'NoneType' object has no attribute 'val'",
     "output_type": "error",
     "traceback": [
      "\u001b[0;31m---------------------------------------------------------------------------\u001b[0m",
      "\u001b[0;31mAttributeError\u001b[0m                            Traceback (most recent call last)",
      "Cell \u001b[0;32mIn[397], line 1\u001b[0m\n\u001b[0;32m----> 1\u001b[0m result\u001b[38;5;241m.\u001b[39mnext\u001b[38;5;241m.\u001b[39mval\n",
      "\u001b[0;31mAttributeError\u001b[0m: 'NoneType' object has no attribute 'val'"
     ]
    }
   ],
   "source": [
    "result.next.val"
   ]
  },
  {
   "cell_type": "code",
   "execution_count": 113,
   "id": "fda8cbc0-9247-4b85-a756-d8b0b85b352a",
   "metadata": {
    "tags": []
   },
   "outputs": [
    {
     "data": {
      "text/plain": [
       "<__main__.ListNode at 0x7f4112c499d0>"
      ]
     },
     "execution_count": 113,
     "metadata": {},
     "output_type": "execute_result"
    }
   ],
   "source": [
    "root.next  # 최종 리턴값 root.next는 최초 while문에서 팝한 최초의 루트다. \n",
    "            \n",
    "           # result는 계속 바뀌는데 어떻게 root.next 이후에 next로 계속 추가될 수 있는거지?"
   ]
  },
  {
   "cell_type": "code",
   "execution_count": null,
   "id": "6cfc50d9-6062-471d-a707-92a7c90fc114",
   "metadata": {},
   "outputs": [],
   "source": []
  }
 ],
 "metadata": {
  "kernelspec": {
   "display_name": "tf",
   "language": "python",
   "name": "tf"
  },
  "language_info": {
   "codemirror_mode": {
    "name": "ipython",
    "version": 3
   },
   "file_extension": ".py",
   "mimetype": "text/x-python",
   "name": "python",
   "nbconvert_exporter": "python",
   "pygments_lexer": "ipython3",
   "version": "3.11.0"
  }
 },
 "nbformat": 4,
 "nbformat_minor": 5
}
