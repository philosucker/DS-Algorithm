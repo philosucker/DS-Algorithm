{
 "cells": [
  {
   "cell_type": "markdown",
   "id": "e85721e6-7f1a-4808-acfc-fdc854a1dab4",
   "metadata": {},
   "source": [
    "# 25문제\n",
    "문)1000\n",
    "https://www.acmicpc.net/problem/1000\n",
    "\n",
    "문)1008\n",
    "https://www.acmicpc.net/problem/1008\n",
    "\n",
    "문)10926\n",
    "https://www.acmicpc.net/problem/10926\n",
    "\n",
    "문)10171\n",
    "https://www.acmicpc.net/problem/10171\n",
    "\n",
    "문)2753\n",
    "https://www.acmicpc.net/problem/2753\n",
    "\n",
    "문)2884\n",
    "https://www.acmicpc.net/problem/2884\n",
    "\n",
    "문)2525\n",
    "https://www.acmicpc.net/problem/2525\n",
    "\n",
    "문)2480\n",
    "https://www.acmicpc.net/problem/2480\n",
    "\n",
    "문)15552\n",
    "https://www.acmicpc.net/problem/15552\n",
    "\n",
    "문)2439\n",
    "https://www.acmicpc.net/problem/2439\n",
    "\n",
    "문)10952\n",
    "https://www.acmicpc.net/problem/10952\n",
    "\n",
    "문)10951\n",
    "https://www.acmicpc.net/problem/10951\n",
    "\n",
    "문)10807\n",
    "https://www.acmicpc.net/problem/10807\n",
    "\n",
    "문)10871\n",
    "https://www.acmicpc.net/problem/10871\n",
    "\n",
    "문)2562\n",
    "https://www.acmicpc.net/problem/2562\n",
    "\n",
    "문)10810 두번째 시도에도 못 풂, 세번째 풂 20240305\n",
    "https://www.acmicpc.net/problem/10810\n",
    "\n",
    "문)10813\n",
    "https://www.acmicpc.net/problem/10813\n",
    "\n",
    "문)5597\n",
    "https://www.acmicpc.net/problem/5597\n",
    "\n",
    "문)3052\n",
    "https://www.acmicpc.net/problem/3052\n",
    "\n",
    "문)10811 두번째 시도에도 못 풂, 세번째 풂 20240305\n",
    "https://www.acmicpc.net/problem/10811\n",
    "\n",
    "문)10809\n",
    "https://www.acmicpc.net/problem/10809\n",
    "\n",
    "문)2675\n",
    "https://www.acmicpc.net/problem/2675\n",
    "\n",
    "문)1152\n",
    "https://www.acmicpc.net/problem/1152\n",
    "\n",
    "문)5622\n",
    "https://www.acmicpc.net/problem/5622\n",
    "\n",
    "문)11718\n",
    "https://www.acmicpc.net/problem/11718"
   ]
  },
  {
   "cell_type": "markdown",
   "id": "e5afbfcb-95f9-42b2-a24d-f5b798256bc3",
   "metadata": {},
   "source": [
    "# 문1000)\n",
    "https://www.acmicpc.net/problem/1000"
   ]
  },
  {
   "cell_type": "code",
   "execution_count": 7,
   "id": "ed1f736e-ab4e-4e83-b9d8-4941a1121bc3",
   "metadata": {
    "tags": []
   },
   "outputs": [
    {
     "name": "stdin",
     "output_type": "stream",
     "text": [
      " 1 2\n"
     ]
    },
    {
     "name": "stdout",
     "output_type": "stream",
     "text": [
      "3\n"
     ]
    }
   ],
   "source": [
    "a, b = map(int, input().split())\n",
    "print(a+b)"
   ]
  },
  {
   "cell_type": "markdown",
   "id": "1ffc8550-61ad-4fa5-b815-e960200bbe99",
   "metadata": {
    "tags": []
   },
   "source": [
    "## map(func, iterable) :   iterable의 모든 항목에 func를 적용하여 결과를 산출하는 iterator를 반환  \n",
    "\n",
    "모든 Iterator는 iterable 이지만  \n",
    "모든 iterable이 iterator 인건 아니므로\n",
    "(파이썬 list는 이터러블이지만 이터레이터가 아니다. iter() 함수에 리스트를 넣어 이터레이터로 만들 수 있다)  \n",
    "    \n",
    "map함수는 iterator를 반환하면서 iterable을 반환한다고도 볼수 있다.  \n",
    "   \n",
    "## 따라서 map 함수의 리턴값인 map객체는 곧바로 변수에 unpacking 할 수 있다  "
   ]
  },
  {
   "cell_type": "markdown",
   "id": "004a8333-8934-453f-9c7c-2f759a61f890",
   "metadata": {
    "tags": []
   },
   "source": [
    "**input()** : 문자열을 입력받아 반환한다.  \n",
    "## str.split() : 문자열 메서드, 즉 문자열 뒤에 사용. \n",
    "## () 안에 구분자를 넣어 문자열을 구분자대로 나눈 뒤 리스트 객체로 반환한다  "
   ]
  },
  {
   "cell_type": "markdown",
   "id": "a4642649-0fdd-488b-a8c1-a0c7d454b5d5",
   "metadata": {},
   "source": [
    "# 문)1008\n",
    "https://www.acmicpc.net/problem/1008"
   ]
  },
  {
   "cell_type": "code",
   "execution_count": 40,
   "id": "fde2eb97-0e22-42c4-8cbc-6ce3b91d0e89",
   "metadata": {
    "tags": []
   },
   "outputs": [
    {
     "name": "stdout",
     "output_type": "stream",
     "text": [
      "2.3333333333333335\n",
      "<class 'float'>\n",
      "\n",
      "2.33\n",
      "<class 'float'>\n",
      "\n",
      "2.33\n",
      "<class 'str'>\n"
     ]
    }
   ],
   "source": [
    "result = 7 / 3\n",
    "print(result); print(type(result));print()\n",
    "\n",
    "rounded_result = round(result, 2)\n",
    "print(rounded_result); print(type(rounded_result));print()\n",
    "\n",
    "formatted_result = f\"{result:.2f}\"\n",
    "print(formatted_result); print(type(formatted_result))                       "
   ]
  },
  {
   "cell_type": "code",
   "execution_count": 52,
   "id": "7af3059b-87ea-47d0-971f-13d5281e3c48",
   "metadata": {
    "tags": []
   },
   "outputs": [
    {
     "data": {
      "text/plain": [
       "str"
      ]
     },
     "execution_count": 52,
     "metadata": {},
     "output_type": "execute_result"
    }
   ],
   "source": [
    "num = 3.444\n",
    "type(f'{num:.2f}')"
   ]
  },
  {
   "cell_type": "code",
   "execution_count": 38,
   "id": "70754160-3e05-4988-843a-66b4ec397b9d",
   "metadata": {
    "tags": []
   },
   "outputs": [
    {
     "name": "stdout",
     "output_type": "stream",
     "text": [
      "2\n",
      "233\n",
      "2.33\n",
      "<class 'float'>\n"
     ]
    }
   ],
   "source": [
    "print(int(2.7)) \n",
    "print(int(result * 100))\n",
    "truncated_result = int(result * 100) / 100\n",
    "print(truncated_result);print(type(truncated_result))"
   ]
  },
  {
   "cell_type": "markdown",
   "id": "599c3e70-7f24-4964-adb9-f2095b3aaa48",
   "metadata": {
    "tags": []
   },
   "source": [
    "**round(num, n)** : 숫자를 입력받아 n자리까지 반올림한 수를 반환한다.  \n",
    "**f'{num:.2f}** : 숫자를 입력받아 2자리까지 반올림한 숫자를 문자열로 반환한다  \n",
    "   \n",
    "**int(num)** : int함수는 내림 연산이다.  \n",
    "  \n",
    "round() 함수와 포맷 스트링은 반올림을 하지만,    \n",
    "직접 계산하는 방법은 단순히 자릿수를 잘라냅니다.  "
   ]
  },
  {
   "cell_type": "markdown",
   "id": "286d8f16-8b1f-4784-b549-8457fc3ade1d",
   "metadata": {},
   "source": [
    "# 문)10926\n",
    "https://www.acmicpc.net/problem/10926"
   ]
  },
  {
   "cell_type": "markdown",
   "id": "ff53e989-3dfb-43e0-87e7-cb17b53beb96",
   "metadata": {},
   "source": [
    "## \"str\".join(iterable) :  iterable의 문자열들을 구분자 문자열\"str\"을 넣어 이어 붙인 문자열을 반환  \n",
    "iterable 에 bytes 객체나 기타 문자열이 아닌 값이 있으면 TypeError 를 일으킵니다.   "
   ]
  },
  {
   "cell_type": "code",
   "execution_count": 55,
   "id": "9ad080e9-c247-4520-b011-862275c3f8c0",
   "metadata": {
    "tags": []
   },
   "outputs": [
    {
     "name": "stdin",
     "output_type": "stream",
     "text": [
      " 123\n"
     ]
    },
    {
     "name": "stdout",
     "output_type": "stream",
     "text": [
      "123??!\n"
     ]
    }
   ],
   "source": [
    "n = input()\n",
    "print(n+\"??!\")"
   ]
  },
  {
   "cell_type": "code",
   "execution_count": 56,
   "id": "efc2083f-491f-488f-b380-ed06d473a62e",
   "metadata": {
    "tags": []
   },
   "outputs": [
    {
     "name": "stdin",
     "output_type": "stream",
     "text": [
      " 123\n"
     ]
    },
    {
     "data": {
      "text/plain": [
       "'123??!'"
      ]
     },
     "execution_count": 56,
     "metadata": {},
     "output_type": "execute_result"
    }
   ],
   "source": [
    "n = input()\n",
    "\"\".join([n, \"??!\"])"
   ]
  },
  {
   "cell_type": "code",
   "execution_count": null,
   "id": "16f4ca95-0ec3-4cbb-8ea7-c16f1e907360",
   "metadata": {},
   "outputs": [],
   "source": []
  },
  {
   "cell_type": "markdown",
   "id": "553202d9-eb35-41b9-aae4-400693a3a753",
   "metadata": {},
   "source": [
    "# 문)10171\n",
    "https://www.acmicpc.net/problem/10171"
   ]
  },
  {
   "cell_type": "code",
   "execution_count": null,
   "id": "6bf8c8f9-d8cd-4515-87fe-a4ab828000a5",
   "metadata": {},
   "outputs": [],
   "source": [
    "\\    /\\  \n",
    " )  ( ')  \n",
    "(  /  )  \n",
    " \\(__)|  \n",
    "\n",
    "출력"
   ]
  },
  {
   "cell_type": "code",
   "execution_count": null,
   "id": "3f86d121-119d-4e7e-8c1f-32dbda3412f8",
   "metadata": {},
   "outputs": [],
   "source": [
    "print(\"\\    /\\\")\n",
    "print(\" )  ( ')\")\n",
    "print(\"(  /  )\")\n",
    "print(\" \\(__)|\")"
   ]
  },
  {
   "cell_type": "code",
   "execution_count": 62,
   "id": "d0cae720-4d1a-4321-a10b-d83039e6926d",
   "metadata": {
    "tags": []
   },
   "outputs": [
    {
     "name": "stdout",
     "output_type": "stream",
     "text": [
      "\\    /\\\n",
      " )  ( ')\n",
      "(  /  )\n",
      " \\(__)|\n"
     ]
    }
   ],
   "source": [
    "print(\"\\\\    /\\\\\")\n",
    "print(\" )  ( ')\")\n",
    "print(\"(  /  )\")\n",
    "print(\" \\\\(__)|\")"
   ]
  },
  {
   "cell_type": "markdown",
   "id": "01da3e99-6163-465c-b9b9-d67e2a3d4b71",
   "metadata": {},
   "source": [
    "파이썬에서 문자열 내에서 역슬래시 \\\\ 는 이스케이프 문자로 사용됩니다.  \n",
    "따라서 문자열에 역슬래시를 포함시키려면, 이를 이스케이프해야 합니다.   \n",
    "이는 역슬래시를 두 번 연속해서 사용함으로써 할 수 있습니다.   "
   ]
  },
  {
   "cell_type": "markdown",
   "id": "43e6f866-7ed1-455e-8683-23289cdd675a",
   "metadata": {},
   "source": [
    "이스케이프 문자(escape character)는 컴퓨터 프로그래밍에서 특별한 목적을 가진 문자입니다.  \n",
    "일반적인 문자열 데이터로 해석되지 않고, 특정한 제어 기능이나 특별한 문자를 나타내는 데 사용됩니다.   \n",
    "파이썬과 같은 많은 프로그래밍 언어에서 이스케이프 문자는 백슬래시 \\\\ 로 시작합니다.  \n",
    "  \n",
    "  **개행(newline) 이스케이프: \\n**  \n",
    "  \n",
    "문자열에서 새로운 줄을 시작하고 싶을 때 사용합니다.  \n",
    "예: \"Hello\\nWorld\"는 \"Hello\"와 \"World\"를 다른 줄에 출력합니다.  \n",
    "\n",
    "큰따옴표 안에 큰따옴표 출력 : 아래 개 출력 참고"
   ]
  },
  {
   "cell_type": "code",
   "execution_count": null,
   "id": "6da93a7e-a39a-48c0-938d-2ee86d958b61",
   "metadata": {},
   "outputs": [],
   "source": [
    "|\\_/|\n",
    "|q p|   /}\n",
    "( 0 )\"\"\"\\\n",
    "|\"^\"`    |\n",
    "||_/=\\\\__|"
   ]
  },
  {
   "cell_type": "code",
   "execution_count": 65,
   "id": "fd0cb998-c359-4c8e-9e9d-7985119a76bc",
   "metadata": {
    "tags": []
   },
   "outputs": [
    {
     "name": "stdout",
     "output_type": "stream",
     "text": [
      "|\\_/|\n",
      "|q p|   /}\n",
      "( 0 )\"\"\"\\\n",
      "|\"^\"`    |\n",
      "||_/=\\\\__|\n"
     ]
    }
   ],
   "source": [
    "print(\"|\\\\_/|\")\n",
    "print(\"|q p|   /}\")\n",
    "print(\"( 0 )\\\"\\\"\\\"\\\\\")\n",
    "print(\"|\\\"^\\\"`    |\")\n",
    "print(\"||_/=\\\\\\\\__|\")"
   ]
  },
  {
   "cell_type": "markdown",
   "id": "bb2e07a7-dfab-4cc3-aed7-13c927356f36",
   "metadata": {},
   "source": [
    "# 문)2753\n",
    "https://www.acmicpc.net/problem/2753"
   ]
  },
  {
   "cell_type": "markdown",
   "id": "4912b87f-036a-43cc-873f-09fb9107f3cd",
   "metadata": {},
   "source": [
    "연도가 4로 나누어 떨어지면 윤년입니다  \n",
    "하지만, 그 중에서 100으로 나누어 떨어지는 연도는 윤년이 아닙니다  \n",
    "그럼에도 불구하고, 400으로 나누어 떨어지는 연도는 윤년입니다   \n",
    "  \n",
    "연도를 입력받아 해당연도가 윤년이면 1을 출력 아니면 0을 출력하는 코드"
   ]
  },
  {
   "cell_type": "code",
   "execution_count": null,
   "id": "da34b393-356d-41cd-9254-d746927ccc32",
   "metadata": {},
   "outputs": [],
   "source": [
    "n = int(input())\n",
    "\n",
    "if n % 4 == 0 and (n % 100 != 0 or n % 400 == 0):\n",
    "    print(1)\n",
    "else:\n",
    "    print(0)"
   ]
  },
  {
   "cell_type": "code",
   "execution_count": 84,
   "id": "2f0c1145-2bbe-4dc3-ba13-47dadb78148d",
   "metadata": {
    "tags": []
   },
   "outputs": [
    {
     "name": "stdin",
     "output_type": "stream",
     "text": [
      " 1900\n"
     ]
    }
   ],
   "source": [
    "year = int(input())\n",
    "if (year % 4 == 0 and year % 100 != 0) or (year % 400 == 0):\n",
    "    print(year)"
   ]
  },
  {
   "cell_type": "markdown",
   "id": "2e987a2a-fa4d-4b5c-8791-419d80c6c16d",
   "metadata": {
    "tags": []
   },
   "source": [
    "# 문)2884\n",
    "https://www.acmicpc.net/problem/2884\n",
    "\n",
    "알람 45분 일찍 맞추기"
   ]
  },
  {
   "cell_type": "markdown",
   "id": "f8954830-9daf-407c-8e68-82f3bf425845",
   "metadata": {},
   "source": [
    "### 첫번째 풀이"
   ]
  },
  {
   "cell_type": "code",
   "execution_count": 94,
   "id": "729f9362-c683-423c-a53d-d58c7ea991c6",
   "metadata": {
    "tags": []
   },
   "outputs": [
    {
     "name": "stdin",
     "output_type": "stream",
     "text": [
      " 7 17\n"
     ]
    },
    {
     "name": "stdout",
     "output_type": "stream",
     "text": [
      "6 32\n"
     ]
    }
   ],
   "source": [
    "h, m = map(int, input().split())\n",
    "if m == 0:\n",
    "    m = (m + 60) - 45\n",
    "    if 0 < h:\n",
    "        print(h-1, m)\n",
    "    elif h == 0:\n",
    "        print(23, m)\n",
    "    \n",
    "elif 45 <= m <= 59:\n",
    "    m = m - 45\n",
    "    print(h, m)\n",
    "    \n",
    "elif 0 < m < 45:\n",
    "    m = 60 - (45 - m)\n",
    "    if 0 < h:\n",
    "        print(h-1, m)\n",
    "    elif h == 0:\n",
    "        print(23, m)"
   ]
  },
  {
   "cell_type": "markdown",
   "id": "2113622e-b665-4254-98b6-6c3467bdd5a9",
   "metadata": {},
   "source": [
    "### 두번째 풀이 \n",
    "제대로 풀었음"
   ]
  },
  {
   "cell_type": "code",
   "execution_count": null,
   "id": "31bf0313-6e01-496e-b774-65b4f6583ece",
   "metadata": {},
   "outputs": [],
   "source": [
    "import sys\n",
    "\n",
    "input = sys.stdin.readline\n",
    "\n",
    "h, m = map(int, input().split())\n",
    "\n",
    "total_min = h * 60 + m\n",
    "total_min -= 45\n",
    "\n",
    "if total_min < 0:\n",
    "    total_min += 60\n",
    "    print(23, total_min % 60)\n",
    "else:\n",
    "    print(total_min // 60, total_min % 60)"
   ]
  },
  {
   "cell_type": "markdown",
   "id": "db9f20d7-08de-4226-817f-f439aad419cb",
   "metadata": {},
   "source": [
    "### 다른 풀이"
   ]
  },
  {
   "cell_type": "code",
   "execution_count": 96,
   "id": "2baf0bc7-f762-43f7-b8f8-0d788fa9e916",
   "metadata": {
    "tags": []
   },
   "outputs": [
    {
     "name": "stdin",
     "output_type": "stream",
     "text": [
      " 0 24\n"
     ]
    },
    {
     "name": "stdout",
     "output_type": "stream",
     "text": [
      "23 39\n"
     ]
    }
   ],
   "source": [
    "H , M = map(int, input().split())\n",
    "total = H * 60 + M - 45  # 시,분을 총 몇 분으로 먼저 바꿔버리고\n",
    "if total < 0:            # 0시 0분부터 0시 45분 미만인 경우 \n",
    "    total += 60 * 24     \n",
    "H = total // 60\n",
    "M = total % 60\n",
    "print(H, M)"
   ]
  },
  {
   "cell_type": "markdown",
   "id": "8f3ca558-f74a-4b12-983a-779d40fc5dd0",
   "metadata": {
    "tags": []
   },
   "source": [
    "# 문)2525\n",
    "https://www.acmicpc.net/problem/2525"
   ]
  },
  {
   "cell_type": "markdown",
   "id": "22e14423-5151-464b-b95f-a4857388f0c4",
   "metadata": {},
   "source": [
    "### 첫번째 풀이"
   ]
  },
  {
   "cell_type": "code",
   "execution_count": null,
   "id": "ecb24d91-2de5-4cd1-9738-7d8e25bda4b6",
   "metadata": {},
   "outputs": [],
   "source": [
    "h, m = map(int, input().split())\n",
    "c = int(input())\n",
    "\n",
    "total = h * 60 + m + c\n",
    "if 1439 < total:\n",
    "    total -= 1439\n",
    "    h = total // 60\n",
    "    m = total % 60 - 1\n",
    "    print(h, m)\n",
    "else:\n",
    "    h = total // 60\n",
    "    m = total % 60\n",
    "    print(h, m)"
   ]
  },
  {
   "cell_type": "markdown",
   "id": "ea687aec-b4b6-4d99-ac8e-040b46eb46a6",
   "metadata": {},
   "source": [
    "### 두번째 풀이\n",
    "제대로 풀었음  \n",
    "다른 풀이가 더 좋음"
   ]
  },
  {
   "cell_type": "code",
   "execution_count": null,
   "id": "73058438-c11c-4ee7-b19f-a53559c2e08e",
   "metadata": {},
   "outputs": [],
   "source": [
    "import sys\n",
    "\n",
    "h, m = map(int, input().split())\n",
    "\n",
    "t = int(input())\n",
    "\n",
    "total_min = h * 60 + m + t\n",
    "if total_min >= 1440:\n",
    "    total_min -= 1440\n",
    "    print(total_min // 60, total_min % 60)\n",
    "else:\n",
    "    print(total_min // 60, total_min % 60)"
   ]
  },
  {
   "cell_type": "markdown",
   "id": "0f33a0df-cfb4-4016-a332-ff1cd1982c22",
   "metadata": {},
   "source": [
    "### 다른 풀이"
   ]
  },
  {
   "cell_type": "code",
   "execution_count": 53,
   "id": "f051ae8b-03e8-4b7e-9102-9b848c8775c8",
   "metadata": {
    "tags": []
   },
   "outputs": [
    {
     "name": "stdin",
     "output_type": "stream",
     "text": [
      " 23 5\n",
      " 77\n"
     ]
    },
    {
     "name": "stdout",
     "output_type": "stream",
     "text": [
      "0 22\n"
     ]
    }
   ],
   "source": [
    "h, m = map(int, input().split())\n",
    "c = int(input())\n",
    "\n",
    "total = (h * 60 + m + c) % 1440\n",
    "h = total // 60\n",
    "m = total % 60\n",
    "\n",
    "print(h, m)"
   ]
  },
  {
   "cell_type": "code",
   "execution_count": 114,
   "id": "0eb24af7-4fdb-4974-850f-b3b9bfda4474",
   "metadata": {
    "tags": []
   },
   "outputs": [
    {
     "data": {
      "text/plain": [
       "1356"
      ]
     },
     "execution_count": 114,
     "metadata": {},
     "output_type": "execute_result"
    }
   ],
   "source": [
    "h, m = map(int,input().split())\n",
    "c = int(input())\n",
    "print((h+(m+c)//60)%24, (m+c)%60)"
   ]
  },
  {
   "cell_type": "markdown",
   "id": "a65c49ee-00cc-4e41-8968-c13fb9a218d8",
   "metadata": {},
   "source": [
    "# 문)2480\n",
    "https://www.acmicpc.net/problem/2480"
   ]
  },
  {
   "cell_type": "markdown",
   "id": "64ac8144-71e6-4852-9bee-9dc7c83579d4",
   "metadata": {},
   "source": [
    "### 첫번째 풀이"
   ]
  },
  {
   "cell_type": "code",
   "execution_count": 124,
   "id": "fb7b45e0-5908-47ad-993a-ae40fe35baf9",
   "metadata": {
    "tags": []
   },
   "outputs": [
    {
     "name": "stdin",
     "output_type": "stream",
     "text": [
      " 6 5 4\n"
     ]
    },
    {
     "name": "stdout",
     "output_type": "stream",
     "text": [
      "600\n"
     ]
    }
   ],
   "source": [
    "dice = list(map(int, input().split()))\n",
    "\n",
    "if dice[0] == dice[1] == dice[2]:\n",
    "    print(dice[0] * 1000 + 10000)\n",
    "elif dice[0] == dice[1] or dice[0] == dice[2]:\n",
    "    print(dice[0] * 100 + 1000)\n",
    "elif dice[1] == dice[2]:\n",
    "    print(dice[1] * 100 + 1000)\n",
    "else:\n",
    "    print(max(dice) * 100)"
   ]
  },
  {
   "cell_type": "markdown",
   "id": "21e01ddf-fd06-4abf-98b1-e69ab7fe119e",
   "metadata": {},
   "source": [
    "### 두번째 풀이\n",
    "처음 푼 것보다 별로고  \n",
    "다른 풀이가 가장 좋다"
   ]
  },
  {
   "cell_type": "code",
   "execution_count": null,
   "id": "10f15046-9fd7-432a-a3d0-87ae3fab5ea8",
   "metadata": {},
   "outputs": [],
   "source": [
    "import sys\n",
    "\n",
    "input = sys.stdin.readline\n",
    "\n",
    "a, b, c = map(int, input().split())\n",
    "\n",
    "if a == b and b == c and a == c:\n",
    "    print(10000 + a*1000)\n",
    "elif a != b and b != c and c != a:\n",
    "    print(max(a,b,c)*100)\n",
    "elif a == b and b != c:\n",
    "    print(1000 + a*100)\n",
    "elif b == c and a != c:\n",
    "    print(1000 + b*100)\n",
    "elif a == c and a!= b:\n",
    "    print(1000 + a*100)"
   ]
  },
  {
   "cell_type": "markdown",
   "id": "38fb3fe6-04c4-4b2b-9910-2cbac9d16f68",
   "metadata": {},
   "source": [
    "### 다른 풀이"
   ]
  },
  {
   "cell_type": "code",
   "execution_count": 125,
   "id": "99aad172-2365-4304-a3d9-8a50b79a7b64",
   "metadata": {
    "tags": []
   },
   "outputs": [
    {
     "name": "stdin",
     "output_type": "stream",
     "text": [
      " 6 5 5\n"
     ]
    },
    {
     "data": {
      "text/plain": [
       "Counter({5: 2, 6: 1})"
      ]
     },
     "execution_count": 125,
     "metadata": {},
     "output_type": "execute_result"
    }
   ],
   "source": [
    "from collections import Counter\n",
    "\n",
    "dice = list(map(int, input().split()))\n",
    "dice_count = Counter(dice)\n",
    "n, f = dice_count.most_common()[0]\n",
    "if f == 3:\n",
    "    print(n * 1000 + 10000)\n",
    "elif f == 2:\n",
    "    print(n * 100 + 1000)\n",
    "else:\n",
    "    print(max(dice) * 100)"
   ]
  },
  {
   "cell_type": "code",
   "execution_count": 126,
   "id": "ba4e25e4-b545-49aa-9deb-fd864140a8a9",
   "metadata": {
    "tags": []
   },
   "outputs": [
    {
     "data": {
      "text/plain": [
       "[(5, 2), (6, 1)]"
      ]
     },
     "execution_count": 126,
     "metadata": {},
     "output_type": "execute_result"
    }
   ],
   "source": [
    "dice_count.most_common()"
   ]
  },
  {
   "cell_type": "code",
   "execution_count": 127,
   "id": "e7499dc2-5af2-45db-ae86-8b9ffdc97cab",
   "metadata": {
    "tags": []
   },
   "outputs": [
    {
     "name": "stdin",
     "output_type": "stream",
     "text": [
      " 2\n"
     ]
    },
    {
     "name": "stdout",
     "output_type": "stream",
     "text": [
      "2 * 1 = 2\n",
      "2 * 2 = 4\n",
      "2 * 3 = 6\n",
      "2 * 4 = 8\n",
      "2 * 5 = 10\n",
      "2 * 6 = 12\n",
      "2 * 7 = 14\n",
      "2 * 8 = 16\n"
     ]
    }
   ],
   "source": [
    "num = int(input())\n",
    "\n",
    "for n in range(1,9):\n",
    "    print(f'{num} * {n} = {num*n}')"
   ]
  },
  {
   "cell_type": "markdown",
   "id": "d0e742dc-3268-4c9b-8373-9b18ca221f08",
   "metadata": {},
   "source": [
    "# 문)15552 \n",
    "https://www.acmicpc.net/problem/15552"
   ]
  },
  {
   "cell_type": "markdown",
   "id": "c5cc4969-f416-459e-9f6f-029cd1101f2e",
   "metadata": {},
   "source": [
    "#### sys.stdin.readline()."
   ]
  },
  {
   "cell_type": "markdown",
   "id": "cd0010b8-7d86-4709-889a-d0a57e484b66",
   "metadata": {
    "tags": []
   },
   "source": [
    "for문 문제를 풀기 전에 주의해야 할 점이 있다.   \n",
    "입출력 방식이 느리면 input()으로 여러 줄을 입력받거나 출력할 때 시간초과가 날 수 있다는 점이다.  \n",
    "    \n",
    "input 대신 sys.stdin.readline을 사용할 수 있다.    \n",
    "\n",
    "단, 이때는 맨 끝의 개행문자까지 같이 입력받기 때문에   \n",
    "입력받은 문자열 자체를 변수에 저장하고 싶을 경우 .rstrip()을 추가로 해 주는 것이 좋다  \n",
    "\n",
    "    Python에서 rstrip() 함수는 \n",
    "    문자열의 오른쪽 끝에 있는 공백이나 개행 문자와 같은 불필요한 문자들을 제거하는 데 사용됩니다. \n",
    "  \n",
    "정수를 입력받거나, int(sys.stdin.readline())  \n",
    "입력받은 문자열들에 바로 split()을 적용하는 경우, sys.stdin.readline().split()  \n",
    "끝에 .rstrip() 을 해줄 필요가 없다.  \n",
    "\n",
    "    int() 함수는 문자열을 정수로 변환할 때 공백이나 개행 문자를 자동으로 무시합니다. \n",
    "    따라서 int(sys.stdin.readline())와 같이 입력을 받아 정수로 변환할 때, \n",
    "    끝에 개행 문자가 있더라도 영향을 받지 않습니다.\n",
    "\n",
    "    split() 함수도 마찬가지로, 문자열을 분할할 때 공백이나 개행 문자를 구분자로 사용할 수 있으며, \n",
    "    문자열 끝에 있는 개행 문자는 자동으로 처리되어 분할 결과에 영향을 주지 않습니다.\n",
    "\n",
    "\n",
    "sys.stdin.readline 을 아예 input 변수에 바인딩 시켜버려서 사용해도 된다.  \n",
    "\n",
    "    또한, input = sys.stdin.readline을 사용하는 것은 표준 입력을 더 빠르게 받기 위한 일반적인 방법입니다. \n",
    "    이렇게 하면 input() 함수를 호출할 때마다 sys.stdin.readline을 사용하게 되어 입력 처리 속도가 개선됩니다. \n",
    "    input = sys.stdin.readline 구문을 사용하면 \n",
    "    input() 함수의 기능을 sys.stdin.readline으로 대체하게 되므로, \n",
    "    코드의 나머지 부분에서 input()을 호출할 때마다 실제로는 sys.stdin.readline이 호출됩니다.\n",
    "    이 방법은 특히 많은 양의 입력을 빠르게 처리해야 하는 경우에 유용합니다."
   ]
  },
  {
   "cell_type": "code",
   "execution_count": 1,
   "id": "132d113f-18a5-4917-b8a4-47ad79c4397b",
   "metadata": {
    "tags": []
   },
   "outputs": [
    {
     "ename": "ValueError",
     "evalue": "invalid literal for int() with base 10: ''",
     "output_type": "error",
     "traceback": [
      "\u001b[0;31m---------------------------------------------------------------------------\u001b[0m",
      "\u001b[0;31mValueError\u001b[0m                                Traceback (most recent call last)",
      "Cell \u001b[0;32mIn[1], line 4\u001b[0m\n\u001b[1;32m      1\u001b[0m \u001b[38;5;28;01mimport\u001b[39;00m \u001b[38;5;21;01msys\u001b[39;00m\n\u001b[1;32m      2\u001b[0m \u001b[38;5;28minput\u001b[39m \u001b[38;5;241m=\u001b[39m sys\u001b[38;5;241m.\u001b[39mstdin\u001b[38;5;241m.\u001b[39mreadline  \u001b[38;5;66;03m# input() 함수 대체\u001b[39;00m\n\u001b[0;32m----> 4\u001b[0m n \u001b[38;5;241m=\u001b[39m \u001b[38;5;28mint\u001b[39m(\u001b[38;5;28minput\u001b[39m())  \u001b[38;5;66;03m# 사용자로부터 정수 입력 받음, 개행 문자 포함\u001b[39;00m\n\u001b[1;32m      5\u001b[0m \u001b[38;5;28;01mfor\u001b[39;00m _ \u001b[38;5;129;01min\u001b[39;00m \u001b[38;5;28mrange\u001b[39m(n):\n\u001b[1;32m      6\u001b[0m     line \u001b[38;5;241m=\u001b[39m \u001b[38;5;28minput\u001b[39m()\u001b[38;5;241m.\u001b[39mrstrip()\u001b[38;5;241m.\u001b[39msplit()\n",
      "\u001b[0;31mValueError\u001b[0m: invalid literal for int() with base 10: ''"
     ]
    }
   ],
   "source": [
    "import sys\n",
    "\n",
    "input = sys.stdin.readline  #  input 변수에 함수 호출의 결과 sys.stdin.readline ()가 아닌 \n",
    "# 함수 자체를 할당해야 합니다. 즉, input = sys.stdin.readline이 되어야 합니다.\n",
    "n = int(input())  # 사용자로부터 정수 입력 받음, 개행 문자 포함\n",
    "for _ in range(n):\n",
    "    line = input().split()  # 개행 문자 제거 후 문자열 분리"
   ]
  },
  {
   "cell_type": "markdown",
   "id": "148978a7-21df-425c-b714-278e3d7ce5b1",
   "metadata": {},
   "source": [
    "위 코드가 아래코드보다 짧다."
   ]
  },
  {
   "cell_type": "code",
   "execution_count": 28,
   "id": "dac690a0-c8f5-4056-99d4-8d0d2794180f",
   "metadata": {
    "tags": []
   },
   "outputs": [
    {
     "ename": "ValueError",
     "evalue": "invalid literal for int() with base 10: ''",
     "output_type": "error",
     "traceback": [
      "\u001b[0;31m---------------------------------------------------------------------------\u001b[0m",
      "\u001b[0;31mValueError\u001b[0m                                Traceback (most recent call last)",
      "Cell \u001b[0;32mIn[28], line 3\u001b[0m\n\u001b[1;32m      1\u001b[0m \u001b[38;5;28;01mimport\u001b[39;00m \u001b[38;5;21;01msys\u001b[39;00m\n\u001b[0;32m----> 3\u001b[0m num \u001b[38;5;241m=\u001b[39m \u001b[38;5;28mint\u001b[39m(sys\u001b[38;5;241m.\u001b[39mstdin\u001b[38;5;241m.\u001b[39mreadline())\n\u001b[1;32m      4\u001b[0m \u001b[38;5;28;01mfor\u001b[39;00m _ \u001b[38;5;129;01min\u001b[39;00m \u001b[38;5;28mrange\u001b[39m(num):\n\u001b[1;32m      5\u001b[0m     a, b \u001b[38;5;241m=\u001b[39m \u001b[38;5;28mmap\u001b[39m(\u001b[38;5;28mint\u001b[39m, sys\u001b[38;5;241m.\u001b[39mstdin\u001b[38;5;241m.\u001b[39mreadline()\u001b[38;5;241m.\u001b[39msplit())\n",
      "\u001b[0;31mValueError\u001b[0m: invalid literal for int() with base 10: ''"
     ]
    }
   ],
   "source": [
    "import sys\n",
    "\n",
    "num = int(sys.stdin.readline())\n",
    "for _ in range(num):\n",
    "    a, b = map(int, sys.stdin.readline().split())\n",
    "    print(a + b)"
   ]
  },
  {
   "cell_type": "markdown",
   "id": "e90784fa-94af-421a-a5a6-3f87d2b8204a",
   "metadata": {},
   "source": [
    "#### input() 이 느린 이유"
   ]
  },
  {
   "cell_type": "code",
   "execution_count": null,
   "id": "05d96a5e-acab-48e0-9a28-1afa6ac36703",
   "metadata": {},
   "outputs": [],
   "source": [
    "A:\n",
    "num = int(input())\n",
    "for _ in range(num):\n",
    "    a, b = map(int, input().split())\n",
    "    print(a+b)\n",
    "\n",
    "B:\n",
    "import sys\n",
    "input = sys.stdin.readline\n",
    "num = int(input())\n",
    "for _ in range(num):\n",
    "    a, b = map(int, input().split())\n",
    "    print(a+b)\n"
   ]
  },
  {
   "cell_type": "markdown",
   "id": "8e12fd35-0d3a-4a15-b313-4b3eed6e20bb",
   "metadata": {},
   "source": [
    "A와 B 코드 사이의 실행 속도 차이는 주로 입력 데이터의 양과 처리 방식에서 기인합니다. \n",
    "`input()` 함수와 `sys.stdin.readline()` 함수는 입력을 받는 방식에서 차이를 보이며, \n",
    "이 차이는 대량의 입력 데이터를 처리할 때 더욱 두드러집니다.\n",
    "\n",
    "### A 코드의 실행 방식\n",
    "\n",
    "A 코드는 Python의 기본 입력 함수인 `input()`을 사용하여 사용자로부터 입력을 받습니다.\n",
    "`input()` 함수는 내부적으로 `sys.stdin.readline()`을 호출하지만, \n",
    "입력된 문자열에서 끝의 개행 문자(`\\n`)를 제거하는 추가적인 처리를 수행합니다. \n",
    "이 과정은 다음과 같은 특성을 갖습니다:\n",
    "\n",
    "- **사용자 친화적**: 입력 과정에서 사용자의 편의를 위해 개행 문자를 자동으로 제거합니다.\n",
    "- **오버헤드 발생**: 문자열에서 개행 문자를 제거하는 추가적인 처리로 인해 오버헤드가 발생할 수 있습니다.\n",
    "\n",
    "### B 코드의 실행 방식\n",
    "\n",
    "B 코드는 `sys.stdin.readline()` 함수를 직접 사용하여 입력을 받습니다. \n",
    "이 함수는 개행 문자를 포함하여 입력된 한 줄을 반환하므로, \n",
    "사용자가 입력한 내용을 빠르게 읽어올 수 있습니다. 이 방식은 특히 다음과 같은 환경에서 유리합니다:\n",
    "\n",
    "- **대량의 데이터 처리**: \n",
    "`sys.stdin.readline()`은 개행 문자를 포함한 채로 입력을 빠르게 읽어들이므로, 대량의 데이터를 처리할 때 효율적입니다.\n",
    "- **실행 속도 향상**: 문자열 처리에 필요한 오버헤드가 줄어들어, 전체적인 실행 속도가 향상됩니다.\n",
    "\n",
    "### 실행 속도 차이가 현저히 생길 수 있는 경우\n",
    "\n",
    "- **대량의 입력 데이터 처리**: \n",
    "예를 들어, 온라인 코딩 테스트나 알고리즘 문제 해결에서 수천에서 수만 건의 입력 데이터를 빠르게 처리해야 하는 경우 \n",
    "B 코드(`sys.stdin.readline()` 사용)가 A 코드(`input()` 사용)보다 현저히 빠른 실행 속도를 보일 수 있습니다.\n",
    "`input()` 함수의 추가적인 문자열 처리 오버헤드가 누적되어 전체적인 실행 시간에 큰 차이를 만들어 낼 수 있습니다.\n",
    "\n",
    "- **실시간 입력 처리 필요성**: \n",
    "실시간으로 대량의 데이터를 처리해야 하는 시스템이나 애플리케이션에서도 B 코드가 더 효율적일 수 있습니다. \n",
    "입력 처리에 걸리는 시간을 최소화하여 더 많은 데이터를 빠르게 처리할 수 있기 때문입니다.\n",
    "\n",
    "### 결론\n",
    "\n",
    "실행 속도가 중요한 대량의 데이터 처리 상황에서는 \n",
    "`sys.stdin.readline()`을 사용하는 B 코드가 `input()` 함수를 사용하는 A 코드보다 더 나은 성능을 제공합니다.\n",
    "입력 처리에 관련된 오버헤드를 최소화하고 전체적인 프로그램의 효율성을 높일 수 있기 때문입니다."
   ]
  },
  {
   "cell_type": "markdown",
   "id": "8367380e-b69a-46f7-8a7d-ede84d3bc4da",
   "metadata": {},
   "source": [
    "`input() 함수는 입력을 받기 전에 출력 스트림을 플러시한다`라는 말은   \n",
    "`input()` 함수가 사용자에게서 입력을 받기 전에 프로그램의 출력 버퍼를 비운다는 뜻입니다.   \n",
    "이것을 좀 더 쉽게 이해하기 위해 출력 버퍼와 스트림 플러시에 대해 설명드리겠습니다.  \n",
    "\n",
    "### 출력 버퍼란?\n",
    "\n",
    "출력 버퍼는 프로그램이 데이터를 즉시 출력하지 않고 임시적으로 저장하는 메모리 영역입니다.  \n",
    "예를 들어, `print()` 함수를 사용해 출력할 때,  \n",
    "실제로 데이터가 즉시 화면에 표시되는 것이 아니라 먼저 출력 버퍼에 저장됩니다.  \n",
    "이 버퍼는 특정 조건  \n",
    "(예: 버퍼가 가득 찼을 때, 줄바꿈 문자가 나타났을 때, 프로그램이 종료될 때, 또는 수동으로 플러시할 때)  \n",
    "에서만 실제 출력 장치(예: 터미널, 콘솔)로 데이터를 전송합니다.  \n",
    "\n",
    "### 스트림 플러시란?\n",
    "\n",
    "스트림 플러시는 이 출력 버퍼에 저장된 모든 데이터를 강제로 출력 장치로 전송하는 과정입니다.   \n",
    "플러시를 하면 버퍼에 저장된 모든 데이터가 즉시 출력되고, 버퍼는 비워집니다.  "
   ]
  },
  {
   "cell_type": "markdown",
   "id": "9e048eb0-8a1f-445b-971e-5b78a81536b3",
   "metadata": {},
   "source": [
    "### 출력버퍼에 데이터가 저장되는 경우\n",
    "출력 버퍼에 데이터가 저장되는 경우는 여러 상황에서 발생합니다.     \n",
    "이러한 상황들은 프로그램이 데이터를 즉시 출력 장치(예: 콘솔, 파일, 네트워크 스트림 등)로 보내지 않고,  \n",
    "일시적으로 데이터를 모아두는 방식으로 작동합니다. 출력 버퍼링이 발생하는 주요 상황은 다음과 같습니다:  \n",
    "  \n",
    "1. **표준 출력(`stdout`)을 사용할 때**: Python에서 `print()` 함수를 호출하면,  \n",
    "출력 데이터는 기본적으로 표준 출력 버퍼에 저장됩니다.   \n",
    "이는 효율성을 위한 것으로, 작은 양의 데이터를 여러 번 출력할 때 매번 출력 장치로 보내는 것보다 효율적입니다.  \n",
    "  \n",
    "2. **파일 쓰기 작업**: 파일에 데이터를 쓸 때, Python은 파일 출력 버퍼에 데이터를 저장합니다.  \n",
    "이는 파일 시스템과의 상호작용을 최소화하여 성능을 향상시키기 위함입니다.   \n",
    "파일 출력 버퍼는 일정 크기에 도달하거나 플러시 명령이 주어질 때까지 데이터를 모읍니다.  \n",
    "  \n",
    "3. **네트워크 통신**: 네트워크를 통해 데이터를 전송할 때, 데이터는 네트워크 버퍼에 일시적으로 저장됩니다.   \n",
    "이는 네트워크 지연과 효율성을 관리하기 위한 것입니다. 데이터는 버퍼에서 모아진 후에 한 번에 전송됩니다.    \n",
    "  \n",
    "4. **버퍼링 모드가 설정된 스트림 사용**:   \n",
    "Python에서 스트림(예: `sys.stdout`, 파일 객체)의 버퍼링 모드를 설정할 수 있습니다.   \n",
    "이는 `open()` 함수의 `buffering` 매개변수를 통해 조절됩니다.   \n",
    "예를 들어, 버퍼링을 활성화하면 쓰기 작업 시 데이터가 스트림의 버퍼에 저장됩니다.  \n",
    "   \n",
    "5. **임시 데이터 저장**: 일부 경우, 프로그램은 중간 결과나 임시 데이터를 버퍼에 저장할 수 있습니다.   \n",
    "이는 나중에 한 번에 처리하거나 출력하기 위함입니다.  \n",
    "  \n",
    "6. **표준 에러(`stderr`) 스트림**: 표준 에러 스트림도 버퍼링 될 수 있으나,   \n",
    "이는 표준 출력에 비해 덜 일반적입니다. 표준 에러는 주로 디버깅 목적으로 사용되며,  \n",
    "때로는 버퍼링 없이 즉시 에러 메시지를 출력할 필요가 있습니다.  \n",
    "  \n",
    "이러한 버퍼링은 효율성과 성능 최적화를 위해 사용되지만,  \n",
    "경우에 따라 버퍼링으로 인해 데이터가 즉시 출력되지 않는 지연 현상이 발생할 수 있습니다.   \n",
    "따라서 특정 상황에서는 명시적으로 버퍼를 플러시해야 할 필요가 있습니다.  "
   ]
  },
  {
   "cell_type": "markdown",
   "id": "1b7d9bd1-383b-4da1-a618-ffa3ad110e40",
   "metadata": {},
   "source": [
    "### 파이썬 print() 함수의 출력버퍼가 전송되는 경우\n",
    "Python의 `print()` 함수가 사용하는 출력 버퍼는  \n",
    "여러 상황에서 실제 출력 장치(예: 터미널, 콘솔)로 전송됩니다.   \n",
    "이러한 전송은 버퍼가 '플러시(flush)'되는 것으로 불립니다.   \n",
    "출력 버퍼가 플러시되는 주요 상황은 다음과 같습니다: \n",
    "\n",
    "1. **프로그램 종료**: \n",
    "\n",
    "        프로그램이 정상적으로 종료될 때,\n",
    "        Python은 자동으로 모든 출력 버퍼를 플러시합니다. \n",
    "        이는 프로그램 실행이 끝나기 전에 모든 출력이 화면에 표시되도록 보장합니다.\n",
    "        \n",
    "        \n",
    "2. **버퍼가 가득 찼을 때**: \n",
    "\n",
    "        대부분의 출력 버퍼는 한계 용량이 있습니다. \n",
    "        버퍼가 가득 차면, Python은 자동으로 버퍼를 플러시하여 데이터를 출력 장치로 보냅니다.\n",
    "        \n",
    "\n",
    "3. **개행 문자를 만났을 때**: \n",
    "\n",
    "        기본적으로, `print()` 함수는 출력 끝에 자동으로 개행 문자 (`\\n`)를 추가합니다. \n",
    "        많은 경우, 개행 문자를 만날 때 버퍼가 플러시됩니다. \n",
    "        즉, 각 `print()` 호출 후에 버퍼가 비워지는 것입니다.\n",
    "        \n",
    "\n",
    "4. **명시적 플러시 요청**:  \n",
    "  \n",
    "        `print()` 함수에 `flush=True` 인자를 사용하면, \n",
    "        해당 `print()` 호출에서 버퍼를 즉시 플러시할 수 있습니다. \n",
    "        예를 들어, `print(\"some text\", flush=True)`는 \n",
    "        \"some text\"를 출력한 후 즉시 버퍼를 비웁니다.\n",
    "        \n",
    "\n",
    "5. **인터프리터의 대화형 모드**: \n",
    "\n",
    "        Python 인터프리터를 대화형 모드(예: 파이썬 쉘, IPython)에서 사용할 때,\n",
    "        각 명령 후에 출력 버퍼는 자동으로 플러시됩니다.\n",
    "        \n",
    "\n",
    "6. **파일 또는 스트림에 직접 출력하는 경우**: \n",
    "\n",
    "        `print()` 함수로 파일이나 다른 스트림에 직접 출력하는 경우, \n",
    "        버퍼링 동작은 해당 스트림의 버퍼링 설정에 따라 다릅니다. \n",
    "        예를 들어, `open()` 함수로 열린 파일에 `print()`를 사용할 때는\n",
    "        파일 객체의 버퍼링 설정에 영향을 받습니다.\n",
    "        \n",
    "\n",
    "이러한 상황들은 `print()` 함수의 출력이 어떻게 관리되는지 이해하는 데 중요합니다.  \n",
    "특히, 대용량의 데이터를 출력하거나 실시간으로 데이터를 모니터링해야 하는 경우   \n",
    "이러한 동작을 이해하는 것이 중요할 수 있습니다.  "
   ]
  },
  {
   "cell_type": "markdown",
   "id": "6c2e5b90-a214-41fc-866c-11f0ba47d871",
   "metadata": {},
   "source": [
    "표준 입력 스트림과 표준 입력 버퍼에 대해 설명하기 전에, \n",
    "컴퓨터 시스템에서 스트림과 버퍼의 개념을 이해하는 것이 중요합니다.\n",
    "\n",
    "### 스트림(Stream)\n",
    "\n",
    "스트림은 데이터의 연속적인 흐름을 나타냅니다. \n",
    "컴퓨터 프로그래밍에서 스트림은 일련의 데이터 요소를 순차적으로 접근하는데 사용되는 추상적인 개념입니다. \n",
    "스트림은 데이터의 소스(입력 스트림) 또는 목적지(출력 스트림)로 작용할 수 있습니다.\n",
    "\n",
    "#### 표준 입력 스트림(`stdin`)\n",
    "\n",
    "- 표준 입력 스트림은 프로그램에 데이터를 입력하는 기본적인 수단입니다.\n",
    "- 일반적으로 키보드 입력이 표준 입력 스트림으로 연결됩니다.\n",
    "- 프로그래밍에서는 `sys.stdin`과 같은 객체를 통해 표준 입력 스트림에 접근합니다.\n",
    "- 표준 입력 스트림은 데이터를 한 번에 한 개씩 또는 작은 덩어리로 읽어들이는 방식으로 작동합니다.\n",
    "\n",
    "### 버퍼(Buffer)\n",
    "\n",
    "버퍼는 데이터를 임시로 저장하는 메모리 영역입니다. 버퍼링은 효율성을 높이기 위해 사용됩니다.\n",
    "입력 또는 출력 작업 중에 데이터를 임시로 저장함으로써, \n",
    "느린 입출력 작업의 영향을 최소화하고, 빠른 처리를 가능하게 합니다.\n",
    "\n",
    "#### 표준 입력 버퍼\n",
    "\n",
    "- 표준 입력 버퍼는 표준 입력 스트림으로부터 들어오는 데이터를 임시로 저장하는 곳입니다.\n",
    "- 예를 들어, 사용자가 키보드로 입력을 하는 동안, 입력된 데이터는 먼저 표준 입력 버퍼에 저장됩니다.\n",
    "- 프로그램이 준비가 되면, 표준 입력 버퍼에서 데이터를 읽어들여 처리합니다.\n",
    "- 버퍼를 사용함으로써, 프로그램은 자신의 속도에 맞춰 데이터를 처리할 수 있으며,사용자의 입력 속도와는 독립적으로 작동할 수 있습니다.\n",
    "\n",
    "### 스트림과 버퍼의 상호작용\n",
    "\n",
    "프로그램에서 표준 입력 스트림을 통해 데이터를 읽을 때, 이 데이터는 먼저 표준 입력 버퍼를 통과합니다.\n",
    "예를 들어, `sys.stdin.readline()` 함수를 호출하면, \n",
    "이 함수는 표준 입력 버퍼에서 한 줄의 데이터를 읽어들입니다. \n",
    "사용자가 키보드에서 입력한 데이터는 먼저 버퍼에 저장되고, \n",
    "`readline()`과 같은 함수를 통해 프로그램에 전달됩니다.\n",
    "\n",
    "이러한 방식은 데이터 처리의 효율성을 높이고, 프로그램과 사용자 간의 상호작용을 원활하게 만듭니다. \n",
    "버퍼를 사용함으로써 프로그램은 데이터를 더 빠르고 효율적으로 처리할 수 있으며, \n",
    "사용자의 입력과 프로그램의 처리 사이에 발생할 수 있는 지연을 최소화할 수 있습니다.\n",
    "\n",
    "`add_stdin.py < input.txt`를 실행했을 때의 과정을 설명하면, \n",
    "`input.txt`의 내용이 `add_stdin.py` 스크립트의 표준 입력 스트림(`stdin`)으로 리다이렉션되는 것은 맞지만, \n",
    "파일의 모든 내용이 한 번에 표준 입력 버퍼에 저장되는 것은 아닙니다.\n",
    "대신, 스크립트가 표준 입력에서 데이터를 읽을 때마다 필요한 부분이 버퍼에서 읽혀집니다.\n",
    "이 과정을 좀 더 상세히 설명하겠습니다.\n",
    "\n",
    "### `add_stdin.py < input.txt` 실행 과정:\n",
    "\n",
    "1. **입력 리다이렉션**: \n",
    "쉘은 `input.txt` 파일의 내용을 `add_stdin.py` 스크립트의 표준 입력(`stdin`)으로 리다이렉션합니다.\n",
    "이 때, `input.txt` 파일의 내용 전체가 한꺼번에 표준 입력 버퍼로 로드되는 것이 아니라, \n",
    "필요할 때마다 읽혀지게 됩니다.\n",
    "\n",
    "2. **데이터 읽기 요청**: \n",
    "`add_stdin.py` 스크립트 내에서 `sys.stdin.readline()` 함수가 호출될 때마다, \n",
    "표준 입력 스트림에서 데이터를 요청합니다. 이 함수는 표준 입력 버퍼로부터 데이터를 읽어옵니다.\n",
    "\n",
    "3. **버퍼에서 데이터 읽기**: \n",
    "표준 입력 버퍼는 `input.txt`로부터 데이터를 순차적으로 로드합니다. \n",
    "`sys.stdin.readline()` 호출시, \n",
    "버퍼에서 다음 줄의 데이터(개행 문자 `\\n`까지)를 읽어옵니다.\n",
    "\n",
    "4. **데이터 처리**: \n",
    "스크립트는 읽어온 데이터를 처리합니다.\n",
    "예를 들어, 이를 정수로 변환하고 계산을 수행한 후 결과를 출력할 수 있습니다.\n",
    "\n",
    "5. **반복적인 데이터 읽기**: \n",
    "스크립트의 `for` 루프가 계속될 때마다,\n",
    "`sys.stdin.readline()`은 필요한 다음 줄의 데이터를 계속해서 표준 입력 버퍼로부터 읽어옵니다.\n",
    "\n",
    "### 정리:\n",
    "\n",
    "따라서 `input.txt` 파일의 내용이 한 번에 표준 입력 버퍼에 저장되는 것이 아니라, \n",
    "스크립트가 데이터를 필요로 할 때마다 표준 입력 스트림(`stdin`)을 통해 순차적으로 읽어오는 것입니다.\n",
    "이 과정은 파일의 크기가 클 때 특히 중요하며, \n",
    "메모리 사용을 효율적으로 관리하고, 필요한 데이터만을 순차적으로 처리할 수 있도록 합니다."
   ]
  },
  {
   "cell_type": "code",
   "execution_count": 45,
   "id": "105545b0-1019-4998-9832-629c11722ba5",
   "metadata": {
    "tags": []
   },
   "outputs": [
    {
     "ename": "ValueError",
     "evalue": "invalid literal for int() with base 10: ''",
     "output_type": "error",
     "traceback": [
      "\u001b[0;31m---------------------------------------------------------------------------\u001b[0m",
      "\u001b[0;31mValueError\u001b[0m                                Traceback (most recent call last)",
      "Cell \u001b[0;32mIn[45], line 5\u001b[0m\n\u001b[1;32m      1\u001b[0m \u001b[38;5;28;01mimport\u001b[39;00m \u001b[38;5;21;01msys\u001b[39;00m\n\u001b[1;32m      3\u001b[0m \u001b[38;5;28;01mif\u001b[39;00m \u001b[38;5;18m__name__\u001b[39m \u001b[38;5;241m==\u001b[39m \u001b[38;5;124m'\u001b[39m\u001b[38;5;124m__main__\u001b[39m\u001b[38;5;124m'\u001b[39m:\n\u001b[0;32m----> 5\u001b[0m     num \u001b[38;5;241m=\u001b[39m \u001b[38;5;28mint\u001b[39m(sys\u001b[38;5;241m.\u001b[39mstdin\u001b[38;5;241m.\u001b[39mreadline())\n\u001b[1;32m      6\u001b[0m     \u001b[38;5;28;01mfor\u001b[39;00m _ \u001b[38;5;129;01min\u001b[39;00m \u001b[38;5;28mrange\u001b[39m(num):\n\u001b[1;32m      7\u001b[0m         a, b \u001b[38;5;241m=\u001b[39m \u001b[38;5;28mmap\u001b[39m(\u001b[38;5;28mint\u001b[39m, sys\u001b[38;5;241m.\u001b[39mstdin\u001b[38;5;241m.\u001b[39mreadline()\u001b[38;5;241m.\u001b[39msplit())\n",
      "\u001b[0;31mValueError\u001b[0m: invalid literal for int() with base 10: ''"
     ]
    }
   ],
   "source": [
    "import sys\n",
    "\n",
    "if __name__ == '__main__':\n",
    "    \n",
    "    num = int(sys.stdin.readline())\n",
    "    for _ in range(num):\n",
    "        a, b = map(int, sys.stdin.readline().split())\n",
    "        print(a + b)"
   ]
  },
  {
   "cell_type": "markdown",
   "id": "dbb54488-3530-4efb-b5e3-2dc880659643",
   "metadata": {},
   "source": [
    "위와 같은 코드가 쓰인 add_stdin.py 파일과\n",
    "\n",
    "    5\n",
    "    1 2\n",
    "    3 4\n",
    "    5 6\n",
    "    7 8\n",
    "    9 10\n",
    "    \n",
    "위와 같이 입력된 input.txt 파일을 준비한 후\n",
    "\n",
    "터미널에서  \n",
    "python add_stdin.py < input.txt 를 하면  \n",
    "\n",
    "    input.txt 파일의 내용이 add_stdin.py 스크립트의 표준 입력(stdin)으로 리다이렉션됩니다.  \n",
    "    \n",
    "        표준 입력 리다이렉션 (<): 쉘에서 < 기호는 입력 리다이렉션을 나타냅니다.\n",
    "        이는 표준 입력 스트림(stdin)을 파일에서 오는 데이터로 대체합니다. \n",
    "        즉, 키보드 입력 대신 파일의 내용이 프로그램의 입력으로 사용됩니다.\n",
    "            작동 방식: add_stdin.py 스크립트가 실행될 때, \n",
    "            일반적으로 표준 입력(stdin)은 사용자가 키보드로 입력하는 데이터를 받습니다. \n",
    "            하지만 < input.txt 리다이렉션으로 인해, \n",
    "            스크립트는 이제 input.txt 파일의 내용을 표준 입력으로 받게 됩니다.\n",
    "            \n",
    "    if __name__ == '__main__':: 스크립트가 직접 실행될 때만 코드 블록 내의 코드가 실행됩니다.\n",
    "    \n",
    "    sys.stdin은 파일 객체와 유사하게 작동하며, 표준 입력 스트림에서 데이터를 읽는 데 사용됩니다.\n",
    "    sys.stdin.readline()은 표준 입력 버퍼에서 한 줄을 읽는 연산을 수행합니다.\n",
    "    \n",
    "        터미널에서 import sys를 한 다음 sts.stdin.readline() 을 실행하면\n",
    "        키보드 입력을 기다린다. 한줄 안에 입력하고 싶은 걸 다 입력하고 엔터를 치면\n",
    "        마지막 개행문자를 포함해 터미널에 출력된다.\n",
    "        \n",
    "    리다이렉션이 적용되었기 때문에, 이 버퍼는 input.txt 파일의 내용을 포함합니다.\n",
    "    readline() 함수는 내부적으로 표준 입력 버퍼에서 데이터를 한 줄씩 읽습니다. \n",
    "    개행 문자(\\n)를 만날 때까지 읽거나 파일의 끝에 도달하면 읽기를 중지합니다.\n",
    "    읽은 데이터는 문자열로 반환됩니다. 이 문자열에는 일반적으로 개행 문자도 포함되어 있습니다.\n",
    "    \n",
    "        \n",
    "    \n",
    "    \n",
    "터미널에 \n",
    "\n",
    "    3\n",
    "    7\n",
    "    11\n",
    "    15\n",
    "    19\n",
    "이 출력된다 "
   ]
  },
  {
   "cell_type": "markdown",
   "id": "7e13bd06-5b4a-4f3c-aac9-124f6cd68cba",
   "metadata": {},
   "source": [
    "스크립트에서 for 루프가 실행되면서 각 반복에서 print(a + b)를 호출합니다.  \n",
    "이 print() 호출에 의해 생성된 출력은 표준 출력 스트림의 버퍼에 저장될 수 있습니다.  \n",
    "스크립트의 실행이 끝나고 프로그램이 종료될 때,  \n",
    "즉 for 루프와 스크립트의 모든 코드가 실행을 마치면, Python은 자동으로 표준 출력 스트림을 닫습니다.  \n",
    "이때, 표준 출력 스트림에 연결된 버퍼에 남아 있는 모든 데이터가 플러시되어 터미널에 출력됩니다.  "
   ]
  },
  {
   "cell_type": "code",
   "execution_count": 10,
   "id": "34ec90d4-8c07-4946-91f3-b5f93a538871",
   "metadata": {
    "tags": []
   },
   "outputs": [
    {
     "name": "stdout",
     "output_type": "stream",
     "text": [
      "['5\\n', '1 2\\n', '3 4\\n', '5 6\\n', '7 8\\n', '9 10\\n']\n"
     ]
    }
   ],
   "source": [
    "with open(\"./input.txt\", 'r') as file:\n",
    "    contents = file.readlines()\n",
    "    print(contents)"
   ]
  },
  {
   "cell_type": "code",
   "execution_count": 29,
   "id": "78bff907-1f2d-431e-b2f3-908f38846503",
   "metadata": {
    "tags": []
   },
   "outputs": [
    {
     "ename": "ModuleNotFoundError",
     "evalue": "No module named '__pypy__'",
     "output_type": "error",
     "traceback": [
      "\u001b[0;31m---------------------------------------------------------------------------\u001b[0m",
      "\u001b[0;31mModuleNotFoundError\u001b[0m                       Traceback (most recent call last)",
      "Cell \u001b[0;32mIn[29], line 1\u001b[0m\n\u001b[0;32m----> 1\u001b[0m \u001b[38;5;28;01mimport\u001b[39;00m \u001b[38;5;21;01mos\u001b[39;00m\u001b[38;5;241m,\u001b[39m \u001b[38;5;21;01m__pypy__\u001b[39;00m\n\u001b[1;32m      3\u001b[0m \u001b[38;5;28;01mdef\u001b[39;00m \u001b[38;5;21mmain\u001b[39m():\n\u001b[1;32m      4\u001b[0m     stdin \u001b[38;5;241m=\u001b[39m os\u001b[38;5;241m.\u001b[39mread(\u001b[38;5;241m0\u001b[39m, os\u001b[38;5;241m.\u001b[39mfstat(\u001b[38;5;241m0\u001b[39m)\u001b[38;5;241m.\u001b[39mst_size)\n",
      "\u001b[0;31mModuleNotFoundError\u001b[0m: No module named '__pypy__'"
     ]
    }
   ],
   "source": [
    "import os, __pypy__\n",
    "\n",
    "def main():\n",
    "    stdin = os.read(0, os.fstat(0).st_size)\n",
    "    output = __pypy__.builders.StringBuilder(1 << 18)\n",
    "    a = b = 0\n",
    "    for c in stdin[stdin.find(10) + 1:]:\n",
    "        if c == 32:\n",
    "            b = a\n",
    "            a = 0\n",
    "        elif c == 10:\n",
    "            output.append(str(a + b))\n",
    "            output.append('\\n')\n",
    "            a = b = 0\n",
    "        else:\n",
    "            a = a * 10 + c - 48\n",
    "    os.write(1, output.build().encode())\n",
    "    os._exit(0)\n",
    "\n",
    "main()\n",
    "'''\n",
    "이 코드는 PyPy의 특정 기능을 활용하여, 입력받은 데이터를 처리하고 결과를 출력하는 프로그램입니다. \n",
    "코드를 세부적으로 분석해보면 다음과 같습니다:\n",
    "\n",
    "1. **모듈 임포트**: \n",
    "    - `os` 모듈: 시스템과 관련된 기능, 특히 파일 입출력을 위해 사용됩니다.\n",
    "    - `__pypy__` 모듈: PyPy 특유의 기능을 제공합니다. \n",
    "    이 코드에서는 `StringBuilder`를 사용하기 위해 임포트합니다.\n",
    "\n",
    "2. **`main` 함수**:\n",
    "    - `stdin`을 통해 표준 입력(0번 파일 디스크립터)으로부터 전체 데이터를 읽어옵니다. \n",
    "    `os.fstat(0).st_size`는 표준 입력의 크기를 바이트 단위로 반환합니다.\n",
    "    - `__pypy__.builders.StringBuilder`를 사용하여 출력할 문자열을 효율적으로 생성합니다. \n",
    "    `StringBuilder`는 문자열을 동적으로 구성하는 데 사용되며, 메모리 사용과 성능 최적화에 유리합니다.\n",
    "    - `a`와 `b`는 숫자를 파싱하기 위한 변수입니다.\n",
    "\n",
    "3. **입력 처리 루프**:\n",
    "    - `stdin`에서 바이트를 하나씩 읽으며 숫자를 파싱합니다. \n",
    "    여기서 `10`은 개행 문자(`\\n`)의 ASCII 값, `32`는 공백(' ')의 ASCII 값입니다.\n",
    "    - 공백을 만나면 현재까지 파싱한 숫자를 `b`에 저장하고 `a`를 초기화합니다.\n",
    "    - 개행 문자를 만나면 두 숫자의 합을 `output`에 추가합니다.\n",
    "    - 그 외의 경우(숫자일 때), ASCII 값에서 48(숫자 0의 ASCII 값)을 빼서 실제 숫자 값을 얻고, \n",
    "    이를 `a`에 누적합니다.\n",
    "\n",
    "4. **결과 출력**:\n",
    "    - `os.write(1, output.build().encode())`를 통해 \n",
    "    `output`에 저장된 문자열을 표준 출력(1번 파일 디스크립터)으로 전송합니다.\n",
    "    - `os._exit(0)`를 호출하여 프로그램을 종료합니다. \n",
    "    이는 일반적인 Python 종료 방식(`sys.exit()`)과 다르게, \n",
    "    즉시 종료하며 어떠한 정리(clean-up) 작업도 수행하지 않습니다.\n",
    "\n",
    "코드의 주 목적은 빠른 입출력과 문자열 처리를 위해 PyPy의 특성을 활용하는 것입니다. \n",
    "이는 특히 대량의 데이터를 처리하거나 경쟁적인 프로그래밍 환경(예: 알고리즘 대회)에서 유용합니다.\n",
    "'''"
   ]
  },
  {
   "cell_type": "markdown",
   "id": "707df4dd-e701-4352-bc9e-680a4b746f72",
   "metadata": {},
   "source": [
    "# 문)2439\n",
    "https://www.acmicpc.net/problem/2439"
   ]
  },
  {
   "cell_type": "markdown",
   "id": "97960841-98a7-49c0-9bd5-a1c3cb0c6924",
   "metadata": {},
   "source": [
    "### 첫번째 풀이"
   ]
  },
  {
   "cell_type": "code",
   "execution_count": 13,
   "id": "f08b675d-ce20-4a68-a66c-ddcce6c45291",
   "metadata": {
    "tags": []
   },
   "outputs": [
    {
     "name": "stdout",
     "output_type": "stream",
     "text": [
      "         *\n",
      "        **\n",
      "       ***\n",
      "      ****\n",
      "     *****\n",
      "    ******\n",
      "   *******\n",
      "  ********\n",
      " *********\n",
      "**********\n"
     ]
    }
   ],
   "source": [
    "n = 10\n",
    "for i in range(n):\n",
    "    for j in range(n, i+1, -1):\n",
    "        print(\" \", end=\"\")\n",
    "    for k in range(i+1):\n",
    "        print(\"*\", end=\"\")\n",
    "    print()"
   ]
  },
  {
   "cell_type": "code",
   "execution_count": 56,
   "id": "03902a8f-b622-4275-8d06-3d3f71f96e6d",
   "metadata": {
    "tags": []
   },
   "outputs": [
    {
     "name": "stdin",
     "output_type": "stream",
     "text": [
      " 5\n"
     ]
    },
    {
     "name": "stdout",
     "output_type": "stream",
     "text": [
      "    *\n",
      "   **\n",
      "  ***\n",
      " ****\n",
      "*****\n"
     ]
    }
   ],
   "source": []
  },
  {
   "cell_type": "markdown",
   "id": "df645a5c-f9d9-470c-8cf2-feb91fec47d5",
   "metadata": {},
   "source": [
    "### 두번째 풀이\n",
    "다른 풀이가 더 깔끔함"
   ]
  },
  {
   "cell_type": "code",
   "execution_count": 55,
   "id": "80254ab7-89ae-42d2-8a68-958d27e51bb9",
   "metadata": {
    "tags": []
   },
   "outputs": [
    {
     "name": "stdin",
     "output_type": "stream",
     "text": [
      " 5\n"
     ]
    },
    {
     "name": "stdout",
     "output_type": "stream",
     "text": [
      "    *\n",
      "   **\n",
      "  ***\n",
      " ****\n",
      "*****\n"
     ]
    }
   ],
   "source": [
    "import sys\n",
    "\n",
    "n = int(input())\n",
    "\n",
    "for i in range(1, n+1):\n",
    "    for _ in range(n-i):\n",
    "        print(\" \", end='')\n",
    "    print(i*\"*\", end = '')\n",
    "    print()"
   ]
  },
  {
   "cell_type": "markdown",
   "id": "d643e8cf-238a-46ea-a570-cabc85b743d1",
   "metadata": {},
   "source": [
    "### 다른 풀이"
   ]
  },
  {
   "cell_type": "code",
   "execution_count": 57,
   "id": "dca15604-c4e5-492f-8fa8-80bbe5ed75c9",
   "metadata": {
    "tags": []
   },
   "outputs": [
    {
     "name": "stdin",
     "output_type": "stream",
     "text": [
      " 5\n"
     ]
    },
    {
     "name": "stdout",
     "output_type": "stream",
     "text": [
      "    *\n",
      "   **\n",
      "  ***\n",
      " ****\n",
      "*****\n"
     ]
    }
   ],
   "source": [
    "import sys\n",
    "\n",
    "n = int(input())\n",
    "\n",
    "for i in range(1, n+1):\n",
    "    print((\" \" * (n-i)) + (\"*\" * i))"
   ]
  },
  {
   "cell_type": "markdown",
   "id": "b852ac9e-8b6e-4520-b4d2-d68abbfc66d9",
   "metadata": {},
   "source": [
    "# 문)10952\n",
    "https://www.acmicpc.net/problem/10952"
   ]
  },
  {
   "cell_type": "code",
   "execution_count": 18,
   "id": "9ae50c3f-d248-4ca8-ad02-9e65426e486c",
   "metadata": {
    "tags": []
   },
   "outputs": [
    {
     "ename": "ValueError",
     "evalue": "not enough values to unpack (expected 2, got 0)",
     "output_type": "error",
     "traceback": [
      "\u001b[0;31m---------------------------------------------------------------------------\u001b[0m",
      "\u001b[0;31mValueError\u001b[0m                                Traceback (most recent call last)",
      "Cell \u001b[0;32mIn[18], line 6\u001b[0m\n\u001b[1;32m      3\u001b[0m \u001b[38;5;28minput\u001b[39m \u001b[38;5;241m=\u001b[39m sys\u001b[38;5;241m.\u001b[39mstdin\u001b[38;5;241m.\u001b[39mreadline\n\u001b[1;32m      5\u001b[0m \u001b[38;5;28;01mwhile\u001b[39;00m \u001b[38;5;28;01mTrue\u001b[39;00m:\n\u001b[0;32m----> 6\u001b[0m     a, b \u001b[38;5;241m=\u001b[39m \u001b[38;5;28mmap\u001b[39m(\u001b[38;5;28mint\u001b[39m, \u001b[38;5;28minput\u001b[39m()\u001b[38;5;241m.\u001b[39msplit())\n\u001b[1;32m      7\u001b[0m     \u001b[38;5;28;01mif\u001b[39;00m a \u001b[38;5;241m==\u001b[39m \u001b[38;5;241m0\u001b[39m \u001b[38;5;129;01mand\u001b[39;00m b \u001b[38;5;241m==\u001b[39m \u001b[38;5;241m0\u001b[39m:\n\u001b[1;32m      8\u001b[0m         \u001b[38;5;28;01mbreak\u001b[39;00m\n",
      "\u001b[0;31mValueError\u001b[0m: not enough values to unpack (expected 2, got 0)"
     ]
    }
   ],
   "source": [
    "import sys\n",
    "\n",
    "input = sys.stdin.readline\n",
    "\n",
    "while True:\n",
    "    a, b = map(int, input().split())\n",
    "    if a == 0 and b == 0:\n",
    "        break\n",
    "    else:\n",
    "        print(a+b)\n"
   ]
  },
  {
   "cell_type": "markdown",
   "id": "b3b9371c-a3d1-4bba-8406-16438410362d",
   "metadata": {},
   "source": [
    "# 문 10951\n",
    "https://www.acmicpc.net/problem/10951"
   ]
  },
  {
   "cell_type": "markdown",
   "id": "bcdbdd9e-7deb-42f8-a8d3-df6cc3336f78",
   "metadata": {},
   "source": [
    "EOF는 \"End Of File\"의 약자로, 파일의 끝을 나타내는 용어입니다. \n",
    "컴퓨팅에서 EOF는 데이터 소스(예: 파일, 스트림)에서 더 이상 읽을 데이터가 없음을 나타내는 신호나 조건을 말합니다. \n",
    "특히 파일 읽기와 같은 입출력 작업에서 중요한 개념입니다.\n",
    "\n",
    "### EOF의 사용 사례:\n",
    "\n",
    "1. **파일 읽기**: \n",
    "파일에서 데이터를 순차적으로 읽을 때, \n",
    "EOF는 파일의 모든 데이터가 읽혔음을 나타냅니다. \n",
    "예를 들어, 파일을 한 줄씩 읽는 프로그램은 EOF에 도달하면 읽기 작업을 중단합니다.\n",
    "\n",
    "2. **입력 스트림**: \n",
    "표준 입력 스트림(예: 키보드 입력)에서도 EOF를 사용할 수 있습니다. \n",
    "대화형 프로그램이나 스크립트에서 사용자 입력의 끝을 표시할 때 종종 사용됩니다. \n",
    "예를 들어, Unix/Linux 시스템에서는 터미널에서 `Ctrl + D`를 누르면 EOF 신호가 발생합니다.\n",
    "\n",
    "3. **프로그래밍 언어**: \n",
    "많은 프로그래밍 언어와 라이브러리는 파일의 끝을 감지하고 처리하기 위한 메커니즘을 제공합니다. \n",
    "예를 들어, Python에서 `file.read()` 또는 `file.readline()`과 같은 함수는 \n",
    "EOF에 도달하면 빈 문자열이나 특정 값을 반환하여 파일의 끝을 알립니다.\n",
    "\n",
    "### 주의사항:\n",
    "\n",
    "EOF는 실제로 파일 내에 저장되는 물리적인 문자나 마커가 아닙니다.\n",
    "대신, 운영 체제나 파일 시스템, 프로그래밍 언어의 라이브러리에 의해 처리되는 추상적인 개념입니다. \n",
    "파일 읽기 작업 중에 파일의 끝에 도달했음을 나타내는 것으로,\n",
    "파일 시스템 또는 프로그래밍 언어에 의해 내부적으로 관리됩니다.\n",
    "\n",
    "\n",
    "\n",
    "## `sys.stdin.readline()`으로 데이터를 읽을 때 EOF (End Of File)에 도달하면, \n",
    "일반적으로 빈 문자열(`''`)을 반환합니다. \n",
    "이는 더 이상 읽을 데이터가 없음을 나타내며, \n",
    "프로그램에서 이를 조건으로 사용하여 입력 읽기를 중단할 수 있습니다.\n",
    "\n",
    "### Python에서 EOF 처리 예시:\n",
    "\n",
    "```python\n",
    "import sys\n",
    "\n",
    "while True:\n",
    "    line = sys.stdin.readline()\n",
    "    if line == '':\n",
    "        break  # EOF에 도달하면 반복 중단\n",
    "    # 입력 처리 로직\n",
    "    print(line)\n",
    "```\n",
    "\n",
    "이 코드는 `sys.stdin.readline()`을 사용하여 표준 입력으로부터 데이터를 계속 읽습니다. 만약 EOF에 도달하면, `readline()`은 빈 문자열을 반환하고, `if line == '':` 조건이 참이 되어 반복문이 종료됩니다.\n",
    "\n",
    "### EOF의 발생:\n",
    "\n",
    "- 터미널에서 Python 스크립트를 실행하는 경우, \n",
    "사용자가 `Ctrl + D` (Unix/Linux) 또는 \n",
    "`Ctrl + Z` 후 `Enter` (Windows)를 눌러 \n",
    "EOF 신호를 보낼 수 있습니다.\n",
    "\n",
    "- 파일이나 데이터 스트림을 표준 입력으로 리다이렉션하는 경우 \n",
    "(예: `python script.py < input.txt`), \n",
    "파일의 끝에 도달하면 EOF가 발생합니다.\n",
    "\n",
    "### 주의사항:\n",
    "\n",
    "- 대화형 환경이나 터미널에서 `sys.stdin.readline()`을 사용할 때, \n",
    "사용자가 EOF를 명시적으로 발생시켜야만 프로그램이 종료됩니다.\n",
    "- 파일을 표준 입력으로 사용하는 경우, 파일의 끝에 도달하면 자동적으로 EOF가 발생합니다.\n",
    "- EOF는 실제 문자열이나 데이터가 아닌, 입력 스트림의 끝을 나타내는 상태입니다."
   ]
  },
  {
   "cell_type": "code",
   "execution_count": null,
   "id": "db2b7e3b-1439-45f6-ba9f-c3c540a6885b",
   "metadata": {},
   "outputs": [],
   "source": [
    "import sys\n",
    "\n",
    "input = sys.stdin.readline\n",
    "\n",
    "while True:\n",
    "    line = input()\n",
    "    if line == '':\n",
    "        break  \n",
    "    else:\n",
    "        a, b = map(int, line.split())\n",
    "        print(a+b)      "
   ]
  },
  {
   "cell_type": "markdown",
   "id": "71758cef-4d22-466f-85d4-27f20f0221fe",
   "metadata": {},
   "source": [
    "그냥 예외처리를 해도 통과된다"
   ]
  },
  {
   "cell_type": "code",
   "execution_count": null,
   "id": "bee9e21a-f93d-4670-8f2e-30a7cc2b91f9",
   "metadata": {},
   "outputs": [],
   "source": [
    "import sys\n",
    "\n",
    "while True:\n",
    "    try:\n",
    "        a,b = map(int,sys.stdin.readline().split())\n",
    "        print(a+b)\n",
    "    except:\n",
    "        break"
   ]
  },
  {
   "cell_type": "code",
   "execution_count": null,
   "id": "8a7f3aba-8b73-468f-9597-2272a54f09f3",
   "metadata": {},
   "outputs": [],
   "source": []
  },
  {
   "cell_type": "markdown",
   "id": "ef987fda-a4a4-4c2f-9da9-0e6b52f7911a",
   "metadata": {},
   "source": [
    "# 문)10807\n",
    "https://www.acmicpc.net/problem/10807"
   ]
  },
  {
   "cell_type": "markdown",
   "id": "ec1d7f7f-129d-495f-8c0e-513c06f641f8",
   "metadata": {},
   "source": [
    "### 첫번째 풀이"
   ]
  },
  {
   "cell_type": "code",
   "execution_count": null,
   "id": "7a5aec8c-ae07-4225-aee0-6cefcf33ab93",
   "metadata": {},
   "outputs": [],
   "source": [
    "from collections import Counter\n",
    "import sys\n",
    "\n",
    "input = sys.stdin.readline\n",
    "\n",
    "n = int(input())\n",
    "ls = list(map(int, input().split()))\n",
    "num = int(input())\n",
    "\n",
    "print(Counter(ls)[num])"
   ]
  },
  {
   "cell_type": "code",
   "execution_count": null,
   "id": "e09ad323-8b73-4e25-8860-de97151fb2cf",
   "metadata": {},
   "outputs": [],
   "source": [
    "import sys\n",
    "\n",
    "input = sys.stdin.readline\n",
    "\n",
    "n = int(input())\n",
    "ls = list(map(int, input().split()))\n",
    "num = int(input())\n",
    "\n",
    "cnt = 0\n",
    "for n in ls:\n",
    "    if n == num:\n",
    "        cnt+=1\n",
    "        \n",
    "print(cnt)"
   ]
  },
  {
   "cell_type": "markdown",
   "id": "befcb18f-7020-4cda-8588-d516cd5c3969",
   "metadata": {},
   "source": [
    "시간 효율성: 두 방법 모두 시간 복잡도는 O(N)으로 동일합니다.  \n",
    "  \n",
    "공간 효율성: 반복문을 사용하는 방법이 Counter를 사용하는 방법보다 메모리 사용 측면에서 효율적입니다.  \n",
    "  \n",
    "실제 상황에서의 성능: num의 개수만을 세야 한다면,  \n",
    "반복문을 사용하는 방법이 더 효율적입니다.   \n",
    "  전체 빈도수를 알아야 하는 다른 상황에서는 Counter를 사용하는 것이 유용할 수 있습니다."
   ]
  },
  {
   "cell_type": "markdown",
   "id": "e3b15cee-0f5c-4ae4-999d-749cdda88c13",
   "metadata": {},
   "source": [
    "### 두번째 풀이"
   ]
  },
  {
   "cell_type": "code",
   "execution_count": null,
   "id": "874e8eae-5a4b-4e93-b060-36233be5e7ad",
   "metadata": {},
   "outputs": [],
   "source": [
    "\n",
    "import sys\n",
    "\n",
    "input = sys.stdin.readline\n",
    "\n",
    "n = int(input())\n",
    "\n",
    "seq = list(map(int, input().split()))\n",
    "\n",
    "print(seq.count(int(input())))"
   ]
  },
  {
   "cell_type": "markdown",
   "id": "c28f300e-a02e-49b2-8305-721b4c7cfd59",
   "metadata": {
    "tags": []
   },
   "source": [
    "# 문)10871\n",
    "https://www.acmicpc.net/problem/10871"
   ]
  },
  {
   "cell_type": "markdown",
   "id": "eda31c6c-971c-4892-b327-4db92c63ef15",
   "metadata": {},
   "source": [
    "\n",
    "    \"10\" < \"5\" 가 True로 평가되는 이유는 \n",
    "    문자열을 비교할 때 Python이 사전 순서(lexicographical order)를 사용하기 때문입니다. \n",
    "    이는 문자열을 구성하는 개별 문자들을 알파벳 순서로 비교한다는 의미입니다.\n",
    "\n",
    "    문자열 \"10\"과 \"5\"를 비교할 때, \n",
    "    Python은 첫 번째 문자인 '1'과 '5'를 비교합니다. \n",
    "    '1'은 '5'보다 사전 순서상에서 앞에 오기 때문에, \n",
    "    \"10\"이 \"5\"보다 작다고 평가되며,\n",
    "    그 결과 True가 됩니다."
   ]
  },
  {
   "cell_type": "markdown",
   "id": "54e7e154-a511-48f4-a510-dd2123e5765a",
   "metadata": {},
   "source": [
    "### 다른 풀이1"
   ]
  },
  {
   "cell_type": "code",
   "execution_count": 11,
   "id": "65123147-f836-40d1-b74f-29d5c7436d93",
   "metadata": {
    "tags": []
   },
   "outputs": [
    {
     "ename": "ValueError",
     "evalue": "not enough values to unpack (expected 2, got 0)",
     "output_type": "error",
     "traceback": [
      "\u001b[0;31m---------------------------------------------------------------------------\u001b[0m",
      "\u001b[0;31mValueError\u001b[0m                                Traceback (most recent call last)",
      "Cell \u001b[0;32mIn[11], line 4\u001b[0m\n\u001b[1;32m      1\u001b[0m \u001b[38;5;28;01mimport\u001b[39;00m \u001b[38;5;21;01msys\u001b[39;00m\n\u001b[1;32m      3\u001b[0m \u001b[38;5;28minput\u001b[39m \u001b[38;5;241m=\u001b[39m sys\u001b[38;5;241m.\u001b[39mstdin\u001b[38;5;241m.\u001b[39mreadline\n\u001b[0;32m----> 4\u001b[0m n, x \u001b[38;5;241m=\u001b[39m \u001b[38;5;28mmap\u001b[39m(\u001b[38;5;28mint\u001b[39m, \u001b[38;5;28minput\u001b[39m()\u001b[38;5;241m.\u001b[39msplit())\n\u001b[1;32m      5\u001b[0m a \u001b[38;5;241m=\u001b[39m \u001b[38;5;28mlist\u001b[39m(\u001b[38;5;28mmap\u001b[39m(\u001b[38;5;28mint\u001b[39m, \u001b[38;5;28minput\u001b[39m()\u001b[38;5;241m.\u001b[39msplit()))\n\u001b[1;32m      7\u001b[0m \u001b[38;5;28;01mfor\u001b[39;00m i \u001b[38;5;129;01min\u001b[39;00m a:\n",
      "\u001b[0;31mValueError\u001b[0m: not enough values to unpack (expected 2, got 0)"
     ]
    }
   ],
   "source": [
    "import sys\n",
    "\n",
    "input = sys.stdin.readline\n",
    "n, x = map(int, input().split())\n",
    "a = list(map(int, input().split()))\n",
    "\n",
    "for i in a:\n",
    "    if i < x:\n",
    "        print(i, end=\" \")"
   ]
  },
  {
   "cell_type": "markdown",
   "id": "dbcf61dc-15a6-4187-a724-5886511d1d15",
   "metadata": {},
   "source": [
    "### 다른 풀이2"
   ]
  },
  {
   "cell_type": "code",
   "execution_count": 12,
   "id": "c306a780-bc7c-4f66-8ae3-57d0e8bcabf6",
   "metadata": {
    "tags": []
   },
   "outputs": [
    {
     "ename": "ValueError",
     "evalue": "not enough values to unpack (expected 2, got 0)",
     "output_type": "error",
     "traceback": [
      "\u001b[0;31m---------------------------------------------------------------------------\u001b[0m",
      "\u001b[0;31mValueError\u001b[0m                                Traceback (most recent call last)",
      "Cell \u001b[0;32mIn[12], line 4\u001b[0m\n\u001b[1;32m      1\u001b[0m \u001b[38;5;28;01mimport\u001b[39;00m \u001b[38;5;21;01msys\u001b[39;00m\n\u001b[1;32m      3\u001b[0m \u001b[38;5;28minput\u001b[39m \u001b[38;5;241m=\u001b[39m sys\u001b[38;5;241m.\u001b[39mstdin\u001b[38;5;241m.\u001b[39mreadline\n\u001b[0;32m----> 4\u001b[0m n, x \u001b[38;5;241m=\u001b[39m \u001b[38;5;28mmap\u001b[39m(\u001b[38;5;28mint\u001b[39m, \u001b[38;5;28minput\u001b[39m()\u001b[38;5;241m.\u001b[39msplit())\n\u001b[1;32m      5\u001b[0m a \u001b[38;5;241m=\u001b[39m \u001b[38;5;28mlist\u001b[39m(\u001b[38;5;28mmap\u001b[39m(\u001b[38;5;28mint\u001b[39m, \u001b[38;5;28minput\u001b[39m()\u001b[38;5;241m.\u001b[39msplit()))\n\u001b[1;32m      7\u001b[0m \u001b[38;5;28mprint\u001b[39m(\u001b[38;5;124m'\u001b[39m\u001b[38;5;124m \u001b[39m\u001b[38;5;124m'\u001b[39m\u001b[38;5;241m.\u001b[39mjoin([\u001b[38;5;28mstr\u001b[39m(i) \u001b[38;5;28;01mfor\u001b[39;00m i \u001b[38;5;129;01min\u001b[39;00m a \u001b[38;5;28;01mif\u001b[39;00m i \u001b[38;5;241m<\u001b[39m x]))\n",
      "\u001b[0;31mValueError\u001b[0m: not enough values to unpack (expected 2, got 0)"
     ]
    }
   ],
   "source": [
    "import sys\n",
    "\n",
    "input = sys.stdin.readline\n",
    "n, x = map(int, input().split())\n",
    "a = list(map(int, input().split()))\n",
    "\n",
    "print(' '.join([str(i) for i in a if i < x]))"
   ]
  },
  {
   "cell_type": "markdown",
   "id": "4312e24c-14e8-4967-b375-346eb57e9cc0",
   "metadata": {},
   "source": [
    "### 두번째 풀이\n",
    "다른 풀이가 더 낫다"
   ]
  },
  {
   "cell_type": "code",
   "execution_count": null,
   "id": "6f683435-a633-4651-9056-2a0248136044",
   "metadata": {},
   "outputs": [],
   "source": [
    "import sys\n",
    "\n",
    "input = sys.stdin.readline\n",
    "\n",
    "n, x = map(int, input().split())\n",
    "seq = list(map(int, input().split()))\n",
    "\n",
    "answer = []\n",
    "\n",
    "for i in seq:\n",
    "    if i < x:\n",
    "        answer.append(i)\n",
    "print(*answer)"
   ]
  },
  {
   "cell_type": "markdown",
   "id": "4e04fc60-7e5e-4fe6-8e14-4768c5fbe365",
   "metadata": {},
   "source": [
    "# 문)2562\n",
    "https://www.acmicpc.net/problem/2562"
   ]
  },
  {
   "cell_type": "code",
   "execution_count": null,
   "id": "495107cd-3038-416e-b37f-e3961889bd93",
   "metadata": {},
   "outputs": [],
   "source": [
    "import sys\n",
    "\n",
    "input = sys.stdin.readline\n",
    "ls = []\n",
    "for _ in range(9):\n",
    "    n = int(input())\n",
    "    ls.append(n)\n",
    "\n",
    "print(max(ls));print(ls.index(max(ls))+1)"
   ]
  },
  {
   "cell_type": "markdown",
   "id": "f35497a3-f6c6-403f-9090-0cf3f89b9d31",
   "metadata": {},
   "source": [
    "# 문)10810\n",
    "https://www.acmicpc.net/problem/10810"
   ]
  },
  {
   "cell_type": "code",
   "execution_count": null,
   "id": "de1549a4-f2a8-4cbf-a77e-f443624db6dd",
   "metadata": {},
   "outputs": [],
   "source": [
    "\n",
    "문제\n",
    "도현이는 바구니를 총 N개 가지고 있고, \n",
    "각각의 바구니에는 1번부터 N번까지 번호가 매겨져 있다.\n",
    "도현이는 앞으로 M번 공을 넣으려고 한다.\n",
    "\n",
    "입력\n",
    "첫째 줄에 N (1 ≤ N ≤ 100)과 M (1 ≤ M ≤ 100)이 주어진다.\n",
    "둘째 줄부터 M개의 줄에 걸쳐서 공을 넣는 방법이 주어진다. \n",
    "각 방법은 세 정수 i j k로 이루어져 있으며, i번 바구니부터 j번 바구니까지에 k번 번호가 적혀져 있는 공을 넣는다는 뜻이다.\n",
    "예를 들어, 2 5 6은 2번 바구니부터 5번 바구니까지에 6번 공을 넣는다는 뜻이다. (1 ≤ i ≤ j ≤ N, 1 ≤ k ≤ N)\n",
    "도현이는 입력으로 주어진 순서대로 공을 넣는다.\n",
    "\n",
    "출력\n",
    "1번 바구니부터 N번 바구니에 들어있는 공의 번호를 공백으로 구분해 출력한다. 공이 들어있지 않은 바구니는 0을 출력한다.\n",
    "\n",
    "예제 입력 1 \n",
    "5 4\n",
    "1 2 3\n",
    "3 4 4\n",
    "1 4 1\n",
    "2 2 2\n",
    "예제 출력 1 \n",
    "1 2 1 1 0"
   ]
  },
  {
   "cell_type": "markdown",
   "id": "13826ab7-3977-4092-a1e1-74f654ff6366",
   "metadata": {},
   "source": [
    "### 다른 풀이"
   ]
  },
  {
   "cell_type": "code",
   "execution_count": null,
   "id": "38d99b7c-b35d-4c0c-812e-55e0a9cca0af",
   "metadata": {},
   "outputs": [],
   "source": [
    "import sys\n",
    "\n",
    "input = sys.stdin.readline\n",
    "\n",
    "bucket_num, throw_num = map(int, input().split())\n",
    "\n",
    "buckets = [0]*bucket_num\n",
    "\n",
    "for _ in range(throw_num):\n",
    "    start, end, ball_num = map(int, input().split())\n",
    "    for i in range(start-1, end):\n",
    "        if ball_num != 0:\n",
    "            buckets[i] = ball_num\n",
    "print(*buckets)"
   ]
  },
  {
   "cell_type": "markdown",
   "id": "9b3e1462-5d5d-42aa-a82e-fa30cc0dcd77",
   "metadata": {},
   "source": [
    "`print(*arr)` 구문에서 사용된 `*` 연산자는  \n",
    "Python에서 \"unpacking\" 연산자로 사용됩니다.   \n",
    "  \n",
    "이 연산자는 `arr`와 같은 iterable 객체의 요소를 개별적으로 \"풀어\" 함수에 인자로 전달합니다.   \n",
    "즉, `print(*arr)`는 `print(1, 2, 3, 4, 5)`와 동일하게 작동합니다.  \n",
    "  \n",
    "`print` 함수는 기본적으로 여러 인자를 받을 수 있으며, 각 인자 사이에 공백을 두고 출력합니다.   \n",
    "따라서 `print(*arr)` 구문을 사용하면 `arr` 리스트의 각 요소가 공백으로 구분되어 한 줄에 출력됩니다.  \n",
    "  \n",
    "여기서 중요한 점은 `print` 함수가 내부적으로 각 인자를 문자열로 변환한다는 것입니다.  \n",
    "`print` 함수는 전달받은 각 인자에 대해 내부적으로 `str()` 함수를 호출하여 문자열로 변환한 후 출력합니다.   \n",
    "따라서 리스트 `arr`의 정수형 요소들도 출력 시 자동으로 문자열로 변환되어 출력됩니다.  "
   ]
  },
  {
   "cell_type": "markdown",
   "id": "539c97ed-b8c5-465d-ab4b-0d0983afb128",
   "metadata": {},
   "source": [
    "### 첫번째 풀이"
   ]
  },
  {
   "cell_type": "code",
   "execution_count": 26,
   "id": "f2d5dba0-5065-48b1-873e-ee7eab33cd37",
   "metadata": {
    "tags": []
   },
   "outputs": [
    {
     "ename": "ValueError",
     "evalue": "not enough values to unpack (expected 2, got 0)",
     "output_type": "error",
     "traceback": [
      "\u001b[0;31m---------------------------------------------------------------------------\u001b[0m",
      "\u001b[0;31mValueError\u001b[0m                                Traceback (most recent call last)",
      "Cell \u001b[0;32mIn[26], line 5\u001b[0m\n\u001b[1;32m      1\u001b[0m \u001b[38;5;28;01mimport\u001b[39;00m \u001b[38;5;21;01msys\u001b[39;00m\n\u001b[1;32m      3\u001b[0m \u001b[38;5;28minput\u001b[39m \u001b[38;5;241m=\u001b[39m sys\u001b[38;5;241m.\u001b[39mstdin\u001b[38;5;241m.\u001b[39mreadline\n\u001b[0;32m----> 5\u001b[0m n, s \u001b[38;5;241m=\u001b[39m \u001b[38;5;28mmap\u001b[39m(\u001b[38;5;28mint\u001b[39m, \u001b[38;5;28minput\u001b[39m()\u001b[38;5;241m.\u001b[39msplit())\n\u001b[1;32m      7\u001b[0m ls \u001b[38;5;241m=\u001b[39m []\n\u001b[1;32m      8\u001b[0m \u001b[38;5;28;01mfor\u001b[39;00m _ \u001b[38;5;129;01min\u001b[39;00m \u001b[38;5;28mrange\u001b[39m(s):\n",
      "\u001b[0;31mValueError\u001b[0m: not enough values to unpack (expected 2, got 0)"
     ]
    }
   ],
   "source": [
    "import sys\n",
    "\n",
    "input = sys.stdin.readline\n",
    "\n",
    "n, s = map(int, input().split())\n",
    "\n",
    "ls = []\n",
    "for _ in range(s):\n",
    "    m = list(map(int, input().split()))\n",
    "    ls.append(m)\n",
    "\n",
    "matrix = []\n",
    "for _ in range(s):\n",
    "    temp = []\n",
    "    for _ in range(n):\n",
    "        temp.append(0)\n",
    "    matrix.append(temp)\n",
    "    \n",
    "for i, e in enumerate(ls):\n",
    "    a, b = e[0:2]\n",
    "    matrix[i][a-1:b] = [e[2]] * (b - a + 1) \n",
    "'''\n",
    "3 3 0 0 0 \n",
    "0 0 4 4 0\n",
    "1 1 1 1 0\n",
    "0 2 0 0 0\n",
    "'''    \n",
    "transposed_matrix = [[matrix[j][i] for j in range(len(matrix))] for i in range(len(matrix[0]))]\n",
    "\n",
    "'''\n",
    "3 0 1 0\n",
    "3 0 1 2\n",
    "0 4 1 0\n",
    "0 4 1 0\n",
    "0 0 0 0\n",
    "'''\n",
    "new_list = []\n",
    "for sublist in transposed_matrix:\n",
    "    found = False\n",
    "    for element in reversed(sublist):\n",
    "        if element != 0:\n",
    "            new_list.append(element)\n",
    "            found = True\n",
    "            break\n",
    "    if not found:\n",
    "        new_list.append(0)\n",
    "\n",
    "print(*new_list)"
   ]
  },
  {
   "cell_type": "markdown",
   "id": "5f3dbad4-bdb8-4452-a08f-833c47d41d86",
   "metadata": {},
   "source": [
    "### 세번째 시도\n",
    "풂"
   ]
  },
  {
   "cell_type": "code",
   "execution_count": null,
   "id": "7c0e344a-f1c9-4f91-bb7c-5c5db8e6ee2e",
   "metadata": {},
   "outputs": [],
   "source": [
    "import sys\n",
    "\n",
    "input = sys.stdin.readline\n",
    "N, M = map(int, input().split())\n",
    "\n",
    "arr = [0]*N\n",
    "for _ in range(M):\n",
    "    i, j, k = map(int, input().split())\n",
    "    for n in range(i-1, j):\n",
    "        arr[n] = k\n",
    "answer = []\n",
    "for n in arr:\n",
    "    answer.append(str(n))\n",
    "print(\" \".join(answer))"
   ]
  },
  {
   "cell_type": "markdown",
   "id": "b5ce923c-18d8-447d-a93b-af99c96c3e9f",
   "metadata": {},
   "source": [
    "### 최적화"
   ]
  },
  {
   "cell_type": "code",
   "execution_count": null,
   "id": "75ccefbf-b255-4e5f-a672-2226debe92d2",
   "metadata": {},
   "outputs": [],
   "source": [
    "import sys\n",
    "\n",
    "input = sys.stdin.readline\n",
    "N, M = map(int, input().split())\n",
    "\n",
    "arr = [0] * N\n",
    "for _ in range(M):\n",
    "    i, j, k = map(int, input().split())\n",
    "    arr[i-1:j] = [k] * (j-i+1)  # 슬라이스 할당을 사용하여 범위 업데이트\n",
    "\n",
    "print(\" \".join(map(str, arr)))  # 직접 변환과 출력을 동시에 처리\n"
   ]
  },
  {
   "cell_type": "markdown",
   "id": "b8773558-be8b-43e3-95c3-9201e8f462c2",
   "metadata": {},
   "source": [
    "# 문)10813\n",
    "https://www.acmicpc.net/problem/10813"
   ]
  },
  {
   "cell_type": "code",
   "execution_count": 2,
   "id": "5c74950a-352e-4018-8f33-d2ff1d1851d1",
   "metadata": {
    "tags": []
   },
   "outputs": [
    {
     "ename": "ValueError",
     "evalue": "not enough values to unpack (expected 2, got 0)",
     "output_type": "error",
     "traceback": [
      "\u001b[0;31m---------------------------------------------------------------------------\u001b[0m",
      "\u001b[0;31mValueError\u001b[0m                                Traceback (most recent call last)",
      "Cell \u001b[0;32mIn[2], line 5\u001b[0m\n\u001b[1;32m      1\u001b[0m \u001b[38;5;28;01mimport\u001b[39;00m \u001b[38;5;21;01msys\u001b[39;00m\n\u001b[1;32m      3\u001b[0m \u001b[38;5;28minput\u001b[39m \u001b[38;5;241m=\u001b[39m sys\u001b[38;5;241m.\u001b[39mstdin\u001b[38;5;241m.\u001b[39mreadline\n\u001b[0;32m----> 5\u001b[0m n, m \u001b[38;5;241m=\u001b[39m \u001b[38;5;28mmap\u001b[39m(\u001b[38;5;28mint\u001b[39m, \u001b[38;5;28minput\u001b[39m()\u001b[38;5;241m.\u001b[39msplit())\n\u001b[1;32m      7\u001b[0m \u001b[38;5;66;03m# 각 바구니별로 마지막에 담긴 공 번호를 저장할 리스트 초기화\u001b[39;00m\n\u001b[1;32m      8\u001b[0m buckets \u001b[38;5;241m=\u001b[39m [\u001b[38;5;241m0\u001b[39m] \u001b[38;5;241m*\u001b[39m n\n",
      "\u001b[0;31mValueError\u001b[0m: not enough values to unpack (expected 2, got 0)"
     ]
    }
   ],
   "source": [
    "import sys\n",
    "\n",
    "input = sys.stdin.readline\n",
    "\n",
    "bucket_num, change_num = map(int, input.split())\n",
    "\n",
    "buckets = []\n",
    "for i in range(bucket_num):\n",
    "    buckets.append(i+1)\n",
    "\n",
    "for _ in range(change_num):\n",
    "    left, right = map(int, input.split())\n",
    "    buckets[left-1], buckets[right-1] = buckets[right-1], buckets[left-1] \n",
    "\n",
    "print(*buckets)"
   ]
  },
  {
   "cell_type": "code",
   "execution_count": null,
   "id": "455468bc-f4cb-4692-ad2d-331e74e719f8",
   "metadata": {},
   "outputs": [],
   "source": []
  },
  {
   "cell_type": "code",
   "execution_count": null,
   "id": "845759cf-63eb-4bda-9d7b-e6e929e88fad",
   "metadata": {},
   "outputs": [],
   "source": []
  },
  {
   "cell_type": "markdown",
   "id": "8d1d455a-daa5-4756-8cce-69699d9de828",
   "metadata": {},
   "source": [
    "# 문)5597\n",
    "https://www.acmicpc.net/problem/5597"
   ]
  },
  {
   "cell_type": "markdown",
   "id": "2c943403-caad-4406-a312-4190e1e5d4d0",
   "metadata": {},
   "source": [
    "### 두번째 풀이"
   ]
  },
  {
   "cell_type": "code",
   "execution_count": null,
   "id": "39d2e462-9bb6-41c2-9f92-07ad1957d920",
   "metadata": {},
   "outputs": [],
   "source": [
    "import sys\n",
    "\n",
    "input = sys.stdin.readline\n",
    "\n",
    "nums = [n for n in range(1,31)]\n",
    "\n",
    "for _ in range(28):\n",
    "    n = int(input())\n",
    "    if n in nums:\n",
    "        nums.remove(n)\n",
    "nums.sort()\n",
    "print(nums[0])\n",
    "print(nums[1])"
   ]
  },
  {
   "cell_type": "markdown",
   "id": "ebc30dbf-ab86-4e77-b586-0fe4019f4b31",
   "metadata": {},
   "source": [
    "### 좀더 최적화 된 풀이"
   ]
  },
  {
   "cell_type": "code",
   "execution_count": null,
   "id": "77758413-2dd4-406b-9e4a-fc5ff6b3c785",
   "metadata": {},
   "outputs": [],
   "source": [
    "import sys\n",
    "\n",
    "input = sys.stdin.readline\n",
    "\n",
    "answer = [n+1 for n in range(30)]\n",
    "for _ in range(28):\n",
    "    answer.remove(int(input()))\n",
    "\n",
    "print(min(answer))\n",
    "print(max(answer))"
   ]
  },
  {
   "cell_type": "code",
   "execution_count": null,
   "id": "93ed33c7-9e31-494f-9de0-93c56b963aaf",
   "metadata": {},
   "outputs": [],
   "source": []
  },
  {
   "cell_type": "markdown",
   "id": "481bfb94-1cda-4745-a11d-44847fbd5505",
   "metadata": {},
   "source": [
    "# 문)3052\n",
    "https://www.acmicpc.net/problem/3052"
   ]
  },
  {
   "cell_type": "code",
   "execution_count": null,
   "id": "d8b4fbd5-ac89-4918-ac82-093f5c09b668",
   "metadata": {},
   "outputs": [],
   "source": [
    "import sys\n",
    "\n",
    "input = sys.stdin.readline\n",
    "rest = set()\n",
    "for _ in range(10):\n",
    "    n = int(input())\n",
    "    rest.add(n % 42)\n",
    "    \n",
    "print(len(rest))"
   ]
  },
  {
   "cell_type": "markdown",
   "id": "fea42c91-ee4d-47bb-b445-df5e1dccd27d",
   "metadata": {},
   "source": [
    "# 문)10811\n",
    "https://www.acmicpc.net/problem/10811"
   ]
  },
  {
   "cell_type": "code",
   "execution_count": null,
   "id": "df734fdb-d9dd-44bc-8bdd-11ed5082c66f",
   "metadata": {},
   "outputs": [],
   "source": [
    "문제\n",
    "도현이는 바구니를 총 N개 가지고 있고, 각각의 바구니에는 1번부터 N번까지 번호가 순서대로 적혀져 있다.\n",
    "도현이는 바구니의 순서를 역순으로 만들려고 한다. \n",
    "\n",
    "입력\n",
    "첫째 줄에 N (1 ≤ N ≤ 100)과 M (1 ≤ M ≤ 100)이 주어진다.\n",
    "\n",
    "둘째 줄부터 M개의 줄에는 바구니의 순서를 역순으로 만드는 방법이 주어진다. 방법은 i j로 나타내고, \n",
    "왼쪽으로부터 i번째 바구니부터 j번째 바구니의 순서를 역순으로 만든다는 뜻이다. (1 ≤ i ≤ j ≤ N)\n",
    "도현이는 입력으로 주어진 순서대로 바구니의 순서를 바꾼다.\n",
    "\n",
    "출력\n",
    "모든 순서를 바꾼 다음에, 가장 왼쪽에 있는 바구니부터 바구니에 적혀있는 순서를 공백으로 구분해 출력한다.\n",
    "\n",
    "예제 입력 1 \n",
    "5 4\n",
    "1 2\n",
    "3 4\n",
    "1 4\n",
    "2 2\n",
    "예제 출력 1 \n",
    "3 4 1 2 5"
   ]
  },
  {
   "cell_type": "code",
   "execution_count": null,
   "id": "1258d864-6059-4a21-93bf-44ee945677fa",
   "metadata": {},
   "outputs": [],
   "source": []
  },
  {
   "cell_type": "code",
   "execution_count": null,
   "id": "1685fc48-09a4-4389-8e4d-3ac6a903ebe2",
   "metadata": {},
   "outputs": [],
   "source": []
  },
  {
   "cell_type": "code",
   "execution_count": null,
   "id": "f75a2084-84d3-428a-8cd2-1eba0fa9bae5",
   "metadata": {},
   "outputs": [],
   "source": []
  },
  {
   "cell_type": "code",
   "execution_count": null,
   "id": "3fcec4e0-f43f-4844-be35-60671e5412c4",
   "metadata": {},
   "outputs": [],
   "source": []
  },
  {
   "cell_type": "code",
   "execution_count": null,
   "id": "e384f665-3d85-42e1-a023-31ab1ad7369c",
   "metadata": {},
   "outputs": [],
   "source": []
  },
  {
   "cell_type": "code",
   "execution_count": null,
   "id": "4c18a696-d747-4e2c-bcc5-b3fb849e9982",
   "metadata": {},
   "outputs": [],
   "source": []
  },
  {
   "cell_type": "code",
   "execution_count": null,
   "id": "07880b4c-3e85-4cc1-ab5a-9d3050bb9b01",
   "metadata": {},
   "outputs": [],
   "source": []
  },
  {
   "cell_type": "code",
   "execution_count": null,
   "id": "10055331-7167-49a9-b6b4-de7dfd6ffe63",
   "metadata": {},
   "outputs": [],
   "source": []
  },
  {
   "cell_type": "code",
   "execution_count": 4,
   "id": "e398d4c8-4da4-4d42-8344-6809d672c846",
   "metadata": {
    "tags": []
   },
   "outputs": [
    {
     "name": "stdin",
     "output_type": "stream",
     "text": [
      " 5 4\n",
      " 1 2\n",
      " 3 4\n",
      " 1 4\n",
      " 2 2\n"
     ]
    },
    {
     "name": "stdout",
     "output_type": "stream",
     "text": [
      "\n"
     ]
    }
   ],
   "source": [
    "import sys \n",
    "\n",
    "input = sys.stdin.readline\n",
    "\n",
    "bucket_num, iter_num = map(int, input().split())\n",
    "\n",
    "buckets = []\n",
    "for i in range(bucket_num):\n",
    "    buckets.append(i+1)\n",
    "    \n",
    "for _ in range(iter_num):\n",
    "    start, end = map(int, input().split())\n",
    "    buckets[start-1:end] = reversed(buckets[start-1:end])\n",
    "    \n",
    "print(*buckets)"
   ]
  },
  {
   "cell_type": "code",
   "execution_count": null,
   "id": "42e68e7d-a7f3-472d-baac-4a68b9cb37f4",
   "metadata": {},
   "outputs": [],
   "source": [
    "import sys\n",
    "\n",
    "input = sys.stdin.readline\n",
    "\n",
    "bucket_num, iter_num = map(int, input().split())\n",
    "\n",
    "# 리스트 초기화 간소화\n",
    "buckets = list(range(1, bucket_num + 1))\n",
    "\n",
    "for _ in range(iter_num):\n",
    "    start, end = map(int, input().split())\n",
    "    # reversed 결과를 리스트로 변환하여 슬라이스에 할당\n",
    "    buckets[start-1:end] = list(reversed(buckets[start-1:end]))\n",
    "    \n",
    "print(*buckets)"
   ]
  },
  {
   "cell_type": "markdown",
   "id": "f6b3b7d4-3562-4fc8-8352-7faca4677fdf",
   "metadata": {},
   "source": [
    "    실제로 Python에서 `reversed` 함수는 iterator를 반환하고, \n",
    "    이 iterator는 대부분의 경우 직접 사용될 수 있습니다. \n",
    "    `list` 함수로 변환하는 것은 필수적인 단계는 아닙니다. \n",
    "    그러나 특정 상황에서는 명시적으로 리스트로 변환하는 것이 유용할 수 있습니다.\n",
    "\n",
    "    1. **명확성**: \n",
    "    `list(reversed(...))`를 사용함으로써 반환되는 객체가 리스트임을 명확하게 합니다. \n",
    "    이것은 코드를 읽는 다른 사람들에게 이 부분이 리스트임을 분명하게 전달합니다.\n",
    "\n",
    "    2. **호환성**: \n",
    "    특정 상황에서는 iterator 대신 실제 리스트가 필요할 수 있습니다. \n",
    "    예를 들어, 슬라이싱 또는 인덱싱과 같은 연산을 수행할 경우 리스트가 더 적합합니다.\n",
    "\n",
    "    3. **다중 사용**: \n",
    "    iterator는 한 번 사용되면 소진됩니다. \n",
    "    여러 번 사용하려면 매번 새로 생성해야 합니다. 반면, 리스트는 여러 번 재사용할 수 있습니다.\n",
    "\n",
    "    그러나 귀하의 경우와 같이 단순히 리스트 슬라이스에 역순의 요소를 할당하는 경우에는 \n",
    "    `reversed` 함수의 결과를 직접 사용하는 것이 더 효율적일 수 있습니다. \n",
    "    이 경우에는 `list()`로 변환하지 않고 바로 사용하는 것이 더 간결하고 효율적입니다:"
   ]
  },
  {
   "cell_type": "markdown",
   "id": "73475132-fe0f-44b0-ba60-85f9b69b0bdf",
   "metadata": {},
   "source": [
    "### 세번째 시도\n",
    "풂"
   ]
  },
  {
   "cell_type": "code",
   "execution_count": null,
   "id": "83207a47-413f-419c-9b73-dea02a06f3a8",
   "metadata": {},
   "outputs": [],
   "source": [
    "import sys\n",
    "\n",
    "input = sys.stdin.readline\n",
    "N, M = map(int, input().split())\n",
    "\n",
    "arr = [n for n in range(1, N+1)]\n",
    "for _ in range(M):\n",
    "    i, j = map(int, input().split())\n",
    "    left = i-1\n",
    "    right = j-1\n",
    "    while left < right:\n",
    "        arr[left], arr[right] = arr[right], arr[left]\n",
    "        left += 1\n",
    "        right -= 1\n",
    "print(*arr)"
   ]
  },
  {
   "cell_type": "code",
   "execution_count": null,
   "id": "793a90be-ca6c-457c-a3fe-2343ed66d05d",
   "metadata": {},
   "outputs": [],
   "source": [
    "import sys\n",
    "\n",
    "input = sys.stdin.readline\n",
    "N, M = map(int, input().split())\n",
    "\n",
    "arr = [n for n in range(1, N+1)]\n",
    "for _ in range(M):\n",
    "    i, j = map(int, input().split())\n",
    "    arr[i-1:j] = reversed(arr[i-1:j])\n",
    "print(\" \".join(map(str, arr)))"
   ]
  },
  {
   "cell_type": "markdown",
   "id": "1d9020fc-71be-4895-bde0-fd163a8e4a80",
   "metadata": {},
   "source": [
    "# 문)10809\n",
    "https://www.acmicpc.net/problem/10809"
   ]
  },
  {
   "cell_type": "markdown",
   "id": "82e4d171-4281-4646-8868-4c254b32f71f",
   "metadata": {},
   "source": [
    "### 두번째 풀이\n",
    "다른 풀이가 나음"
   ]
  },
  {
   "cell_type": "code",
   "execution_count": 80,
   "id": "40812260-78ac-4027-86a5-2538dc0ce873",
   "metadata": {},
   "outputs": [
    {
     "name": "stdin",
     "output_type": "stream",
     "text": [
      " backjoon\n"
     ]
    }
   ],
   "source": [
    "import sys\n",
    "\n",
    "input = sys.stdin.readline\n",
    "\n",
    "answer = [-1]*26\n",
    "string = input().rstrip()\n",
    "alphabet = \"abcdefghijklmnopqrstuvwxyz\"\n",
    "for char in string:\n",
    "    answer[alphabet.index(char)] = string.index(char)\n",
    "    \n",
    "print(*answer)\n",
    "                                                "
   ]
  },
  {
   "cell_type": "markdown",
   "id": "5ff7e113-3ff5-4cd3-bfa6-76924432b1b6",
   "metadata": {},
   "source": [
    "### 다른 풀이"
   ]
  },
  {
   "cell_type": "code",
   "execution_count": null,
   "id": "530f362f-78a3-47a1-9a09-b4b3661ebbcd",
   "metadata": {},
   "outputs": [],
   "source": [
    "import sys\n",
    "\n",
    "input = sys.stdin.readline\n",
    "\n",
    "string = input().rstrip()\n",
    "\n",
    "alphabet = [chr(c) for c in range(97, 123)]\n",
    "\n",
    "for idx, char in enumerate(alphabet):\n",
    "    alphabet[idx] = string.find(char)\n",
    "    '''find 메서드는 \n",
    "    주어진 서브스트링(substring)이 \n",
    "    문자열 내에서 처음으로 나타나는 위치의 인덱스를 반환합니다. \n",
    "    만약 서브스트링이 문자열에 존재하지 않으면 -1을 반환합니다.\n",
    "    '''\n",
    "    \n",
    "print(*alphabet)    "
   ]
  },
  {
   "cell_type": "code",
   "execution_count": null,
   "id": "2532ad79-7ac7-4b36-9a62-8cb0af85a8bf",
   "metadata": {},
   "outputs": [],
   "source": [
    "print(*map(input().find, map(chr,range(97,123))))"
   ]
  },
  {
   "cell_type": "code",
   "execution_count": null,
   "id": "4dfb47dd-aeed-4c74-bae2-ef383d332452",
   "metadata": {},
   "outputs": [],
   "source": []
  },
  {
   "cell_type": "markdown",
   "id": "cec95e98-413e-4199-9e01-e7f9567a6dea",
   "metadata": {},
   "source": [
    "# 문)2675\n",
    "https://www.acmicpc.net/problem/2675"
   ]
  },
  {
   "cell_type": "markdown",
   "id": "4e71d4cc-ce97-4182-a5ca-475587c29574",
   "metadata": {},
   "source": [
    "### 두번째 풀이"
   ]
  },
  {
   "cell_type": "code",
   "execution_count": 69,
   "id": "fadca52d-aac2-44d3-85bb-16ccbde4b91d",
   "metadata": {
    "tags": []
   },
   "outputs": [
    {
     "name": "stdin",
     "output_type": "stream",
     "text": [
      " 2\n",
      " 3 ABC\n"
     ]
    },
    {
     "name": "stdout",
     "output_type": "stream",
     "text": [
      "AAABBBCCC\n"
     ]
    },
    {
     "name": "stdin",
     "output_type": "stream",
     "text": [
      " 5 ///!!!ffff\n"
     ]
    },
    {
     "name": "stdout",
     "output_type": "stream",
     "text": [
      "///////////////!!!!!!!!!!!!!!!ffffffffffffffffffff\n"
     ]
    }
   ],
   "source": [
    "n = int(input())\n",
    "\n",
    "for _ in range(n):\n",
    "    iter_num, string = input().split()\n",
    "    for i in range(len(string)):\n",
    "        for j in range(int(iter_num)):\n",
    "            print(string[i], end='')\n",
    "    print()"
   ]
  },
  {
   "cell_type": "markdown",
   "id": "3e461383-bccd-48ca-b690-daacf955bf0a",
   "metadata": {},
   "source": [
    "### 다른 풀이"
   ]
  },
  {
   "cell_type": "code",
   "execution_count": 70,
   "id": "675ee5df-d2c2-4441-86b4-51385bfcc224",
   "metadata": {
    "tags": []
   },
   "outputs": [
    {
     "name": "stdin",
     "output_type": "stream",
     "text": [
      " 2\n",
      " 3 ABC\n"
     ]
    },
    {
     "name": "stdout",
     "output_type": "stream",
     "text": [
      "AAABBBCCC\n"
     ]
    },
    {
     "name": "stdin",
     "output_type": "stream",
     "text": [
      " 4 쑈ㅕ\n"
     ]
    },
    {
     "name": "stdout",
     "output_type": "stream",
     "text": [
      "쑈쑈쑈쑈ㅕㅕㅕㅕ\n"
     ]
    }
   ],
   "source": [
    "n = int(input())\n",
    "\n",
    "for _ in range(n):\n",
    "    iter_num, string = input().split()\n",
    "    iter_num = int(iter_num)\n",
    "    \n",
    "    # 각 문자를 iter_num만큼 반복하고 이어 붙이기\n",
    "    result = ''.join(char * iter_num for char in string)\n",
    "    ''' \"str\".join(iterable) : iterable의 문자열들을 구분자 문자열\"str\"을 넣어 이어 붙인 문자열을 반환\n",
    "    '''\n",
    "    \n",
    "    print(result)"
   ]
  },
  {
   "cell_type": "markdown",
   "id": "3f3e6df7-9183-4553-aad6-6929b8d734bf",
   "metadata": {},
   "source": [
    "# 문)1152\n",
    "https://www.acmicpc.net/problem/1152"
   ]
  },
  {
   "cell_type": "code",
   "execution_count": 79,
   "id": "5db0d38d-5dac-418a-95e1-b54746a9a0fc",
   "metadata": {
    "tags": []
   },
   "outputs": [
    {
     "data": {
      "text/plain": [
       "['The', 'first', '', 'character', 'is', 'a', 'blank']"
      ]
     },
     "execution_count": 79,
     "metadata": {},
     "output_type": "execute_result"
    }
   ],
   "source": [
    "import sys\n",
    "\n",
    "input = sys.stdin.readline\n",
    "\n",
    "string = input().split()\n",
    "print(len(string))\n",
    "'''split() 메서드와 split(\" \") 메서드 사이에는 중요한 차이점이 있습니다. \n",
    "이 차이점은 문자열을 분할하는 방식과 관련이 있습니다:\n",
    "\n",
    "split(): 인자 없이 split() 메서드를 사용하면, \n",
    "메서드는 기본적으로 공백(스페이스, 탭, 개행 문자 등)을 기준으로 문자열을 분할합니다. \n",
    "이 메서드는 연속된 공백을 하나의 구분자로 간주합니다. \n",
    "즉, 문자열 중간에 여러 개의 공백이 있어도 하나의 구분자로 처리되어 \n",
    "연속된 공백 사이의 빈 문자열을 결과로 반환하지 않습니다.\n",
    "\n",
    "split(\" \"): split(\" \") 메서드를 사용하면, \n",
    "메서드는 오직 스페이스(' ') 하나만을 구분자로 간주합니다. \n",
    "이 경우, 연속된 스페이스는 각각 별도의 구분자로 처리되며,\n",
    "이로 인해 빈 문자열이 결과에 포함될 수 있습니다.\n",
    "'''\n",
    "\n",
    "print(len(ls))"
   ]
  },
  {
   "cell_type": "markdown",
   "id": "7cea5fdc-5b5b-4c9a-bcf6-d5df418d1630",
   "metadata": {},
   "source": [
    "# 문)5622\n",
    "https://www.acmicpc.net/problem/5622"
   ]
  },
  {
   "cell_type": "markdown",
   "id": "b5ab8ef4-27f9-42f7-8da8-8d8556bf1d00",
   "metadata": {},
   "source": [
    "### 첫번째 풀이"
   ]
  },
  {
   "cell_type": "code",
   "execution_count": 91,
   "id": "4e58c4af-2461-4a5d-83b4-251c6efc7fa3",
   "metadata": {
    "tags": []
   },
   "outputs": [
    {
     "name": "stdin",
     "output_type": "stream",
     "text": [
      " WA\n"
     ]
    },
    {
     "name": "stdout",
     "output_type": "stream",
     "text": [
      "13\n"
     ]
    }
   ],
   "source": [
    "import sys\n",
    "\n",
    "input = sys.stdin.readline\n",
    "\n",
    "characters = input().rstrip()\n",
    "\n",
    "dial = {}\n",
    "alphabet = [\"ABC\",\"DEF\",\"GHI\",\"JKL\",\"MNO\",\"PQRS\",\"TUV\",\"WXYZ\"]\n",
    "for n, word in zip(range(2,10), alphabet):\n",
    "    for char in word:\n",
    "        dial[char] = n\n",
    "\n",
    "total = 0\n",
    "for char in characters:\n",
    "    total+= dial[char] + 1\n",
    "    \n",
    "print(total)"
   ]
  },
  {
   "cell_type": "markdown",
   "id": "11f9c934-57f8-4356-8229-d8c5fc8d3fbc",
   "metadata": {},
   "source": [
    "### 두번째 풀이\n",
    "첫번째 풀이가 더 나음"
   ]
  },
  {
   "cell_type": "code",
   "execution_count": null,
   "id": "173f1783-a646-4b23-ba20-226a1d8ebe48",
   "metadata": {},
   "outputs": [],
   "source": [
    "import sys\n",
    "\n",
    "input = sys.stdin.readline\n",
    "\n",
    "string = input().rstrip()\n",
    "\n",
    "ls = \" \".join(string).split()\n",
    "alphabet = [\"ABC\",\"DEF\",\"GHI\",\"JKL\",\"MNO\",\"PQRS\",\"TUV\",\"WXYZ\"]\n",
    "total = 0\n",
    "for char in ls:\n",
    "    for abc in alphabet:\n",
    "        if char in abc:\n",
    "            total+=alphabet.index(abc)+3\n",
    "print(total)"
   ]
  },
  {
   "cell_type": "markdown",
   "id": "eb350efc-7cd5-4988-83ac-ec99ea821758",
   "metadata": {},
   "source": [
    "# 문)11718\n",
    "https://www.acmicpc.net/problem/11718"
   ]
  },
  {
   "cell_type": "markdown",
   "id": "0c04dc93-9b5f-48e7-9132-857df5a02040",
   "metadata": {},
   "source": [
    "이 문제는 입력받은 텍스트를 그대로 출력하는 프로그램을 작성하는 것입니다. \n",
    "Python에서는 `sys.stdin`을 사용하여 입력을 받을 수 있으며, \n",
    "입력된 각 줄을 그대로 출력하면 됩니다. 문제의 조건에 따르면, \n",
    "입력은 최대 100줄이며 각 줄은 100글자를 넘지 않습니다.\n",
    "\n",
    "다음은 이 문제를 해결하기 위한 파이썬 코드입니다:\n",
    "\n",
    "```python\n",
    "import sys\n",
    "\n",
    "for line in sys.stdin:\n",
    "    print(line.rstrip())  # 오른쪽 끝의 개행 문자를 제거하고 출력\n",
    "```\n",
    "\n",
    "이 for 루프는 sys.stdin (표준 입력 스트림)으로부터 한 줄씩 읽어옵니다. \n",
    "sys.stdin은 파일 객체처럼 취급되며, \n",
    "여기서는 표준 입력으로부터 텍스트를 읽습니다. \n",
    "이 코드는 표준 입력이 종료될 때 자동으로 루프를 종료\n",
    "사용자가 입력을 종료할 때까지 (예: 파일의 끝에 도달하거나, 키보드로 Ctrl+D (Unix/Linux) 또는 Ctrl+Z (Windows)를 누르는 경우) 이 루프는 계속 반복됩니다.\n",
    " 이 방법은 입력 스트림이 종료될 때까지 자동으로 라인을 읽습니다.\n",
    "\n",
    "#### 터미널에서 파이썬 켜고 위 코드 실행가능\n",
    "\n",
    "`rstrip()` 메서드는 각 줄의 오른쪽 끝에 있는 개행 문자를 제거하는 데 사용됩니다. \n",
    "그러나 이 문제의 조건에 따르면 각 줄은 공백으로 시작하거나 끝나지 않으므로, \n",
    "`rstrip()`을 사용하지 않고 그냥 `print(line)`을 사용해도 됩니다.\n",
    "\n",
    "단, 이 코드는 대화식 환경(예: Jupyter 노트북, 대화식 파이썬 셸 등)에서는 제대로 작동하지 않을 수 있습니다. \n",
    "이 코드는 스크립트 형태로 실행되어야 하며, 터미널이나 콘솔에서 표준 입력을 받을 수 있어야 합니다."
   ]
  },
  {
   "cell_type": "markdown",
   "id": "35846499-7f9f-455f-b66d-465d833f0576",
   "metadata": {},
   "source": [
    "`sys.stdin`은 Python에서 표준 입력 스트림을 나타내는 객체입니다. \n",
    "이 객체는 `sys` 모듈의 일부로, 보통 사용자의 입력을 받거나 외부 소스로부터 데이터를 읽을 때 사용됩니다. \n",
    "`sys.stdin`의 주요 특징과 사용 방법에 대해 자세히 설명하겠습니다.\n",
    "\n",
    "### `sys.stdin`의 특징\n",
    "\n",
    "1. **파일 객체로서의 특성**: `sys.stdin`은 파일 객체처럼 취급됩니다. \n",
    "즉, 파일에서 데이터를 읽는 것처럼 `sys.stdin`에서 데이터를 읽을 수 있습니다.\n",
    "이는 `read()`, `readline()`, `readlines()` 등의 메서드를 사용할 수 있음을 의미합니다.\n",
    "\n",
    "2. **표준 입력 스트림**: `sys.stdin`은 표준 입력 스트림을 대표합니다. \n",
    "기본적으로 이는 키보드 입력에 연결되어 있지만, \n",
    "파일 리다이렉션 또는 파이프를 통해 다른 소스로부터의 입력을 받을 수도 있습니다.\n",
    "\n",
    "3. **블로킹 I/O**: `sys.stdin`의 읽기 연산은 기본적으로 블로킹(blocking)입니다. \n",
    "즉, 입력이 준비될 때까지 프로그램의 실행이 중단됩니다. 사용자가 키보드 입력을 제공하거나, \n",
    "리다이렉션된 파일의 끝에 도달할 때까지 기다립니다.\n",
    "\n",
    "### `sys.stdin`의 사용 방법\n",
    "\n",
    "- **단일 라인 읽기**: `input()` 함수나 `sys.stdin.readline()`을 사용하여 한 줄씩 입력을 읽을 수 있습니다. \n",
    "`input()` 함수는 내부적으로 `sys.stdin.readline()`을 사용하며, 끝의 개행 문자를 제거합니다.\n",
    "\n",
    "- **여러 라인 읽기**: `for` 루프를 사용하여 `sys.stdin`에서 여러 줄을 읽을 수 있습니다.\n",
    "이 방법은 입력이 끝날 때까지 계속 라인을 읽습니다.\n",
    "\n",
    "- **파일의 끝(EOF) 처리**: `sys.stdin`에서 파일의 끝(EOF)에 도달했을 때, \n",
    "일반적으로 `EOFError` 예외가 발생하지 않습니다. \n",
    "`readline()` 메서드는 파일의 끝에서 빈 문자열(`''`)을 반환합니다.\n",
    "이를 사용하여 EOF를 감지할 수 있습니다.\n",
    "\n",
    "### 예시 코드\n",
    "\n",
    "```python\n",
    "import sys\n",
    "\n",
    "# sys.stdin으로부터 한 줄씩 읽기\n",
    "for line in sys.stdin:\n",
    "    # 개행 문자 제거 및 처리\n",
    "    processed_line = line.rstrip()\n",
    "    # 처리된 라인 출력\n",
    "    print(processed_line)\n",
    "```\n",
    "\n",
    "### 주의 사항\n",
    "\n",
    "- `sys.stdin`을 사용할 때는 프로그램이 사용자의 입력을 기다리고 있을 수 있으므로,\n",
    "특히 대화형 환경에서 실행할 때 주의가 필요합니다.\n",
    "- 또한 `sys.stdin`은 텍스트 모드로 열려 있으므로, 바이너리 데이터를 읽을 때는 적합하지 않습니다.\n",
    "\n",
    "`sys.stdin`을 사용하면 터미널, 스크립트, 또는 파일 리다이렉션을 통해 유연하게 입력을 받을 수 있으며,\n",
    "다양한 종류의 Python 애플리케이션에서 유용하게 사용됩니다."
   ]
  },
  {
   "cell_type": "markdown",
   "id": "ed15759c-818a-4868-be84-cbe0524db375",
   "metadata": {},
   "source": [
    "파일 리다이렉션과 파이프는 쉘(shell) 또는 명령 줄 인터페이스에서 사용되는 방법으로, \n",
    "이들을 통해 다른 소스로부터 입력을 받는 것은 주로 스크립트가 실행되는 환경에서 이루어집니다. \n",
    "Python 스크립트 내부에서 이를 직접 구현하는 것은 아니지만, 스크립트는 이러한 입력 방식에 대응할 수 있습니다. \n",
    "\n",
    "### 파일 리다이렉션 사용 예시\n",
    "\n",
    "파일 리다이렉션은 쉘에서 파일의 내용을 표준 입력으로 전달하는 방법입니다.\n",
    "예를 들어, `input.txt`라는 텍스트 파일이 있고, 이 파일의 내용을 Python 스크립트로 전달하고 싶다고 가정해 보겠습니다.\n",
    "\n",
    "1. **input.txt**\n",
    "    ```\n",
    "    Hello\n",
    "    World\n",
    "    ```\n",
    "\n",
    "2. **Python 스크립트 (example.py)**\n",
    "    ```python\n",
    "    import sys\n",
    "\n",
    "    for line in sys.stdin:\n",
    "        print(f\"Received: {line.strip()}\")\n",
    "    ```\n",
    "\n",
    "3. **쉘에서의 실행**\n",
    "    ```bash\n",
    "    python example.py < input.txt\n",
    "    ```\n",
    "\n",
    "이 경우, `input.txt`의 내용이 `example.py` 스크립트의 `sys.stdin`으로 전달됩니다.\n",
    "스크립트는 파일의 각 줄을 읽고 \"Received: [line]\"을 출력합니다.\n",
    "\n",
    "### 파이프 사용 예시\n",
    "\n",
    "파이프(`|`)는 한 프로그램의 출력을 다른 프로그램의 입력으로 전달하는 방법입니다.\n",
    "예를 들어, `echo` 명령어의 출력을 Python 스크립트로 전달하는 경우를 생각해 볼 수 있습니다.\n",
    "\n",
    "1. **Python 스크립트 (example.py)**\n",
    "    ```python\n",
    "    import sys\n",
    "\n",
    "    for line in sys.stdin:\n",
    "        print(f\"Received: {line.strip()}\")\n",
    "    ```\n",
    "\n",
    "2. **쉘에서의 실행**\n",
    "    ```bash\n",
    "    echo -e \"Hello\\nWorld\" | python example.py\n",
    "    ```\n",
    "\n",
    "여기서 `echo -e \"Hello\\nWorld\"` 명령은 \"Hello\"와 \"World\"라는 두 줄의 텍스트를 출력하고, 이 출력이 파이프를 통해 `example.py`의 `sys.stdin`으로 전달됩니다. 이 스크립트는 두 줄을 읽고 각각에 대해 \"Received: [line]\"을 출력합니다.\n",
    "\n",
    "### 주의 사항\n",
    "\n",
    "- 이러한 방식은 Python 스크립트가 실행되는 환경(쉘, 커맨드 라인)에 따라 다릅니다.\n",
    "- Python 스크립트 내부에서 파일 리다이렉션 또는 파이프를 직접 구현하는 것은 아니며, 이는 운영 체제의 쉘에서 처리됩니다.\n",
    "- `sys.stdin`은 텍스트 모드로 열려 있기 때문에, 이를 통해 받은 데이터는 문자열로 처리됩니다."
   ]
  },
  {
   "cell_type": "code",
   "execution_count": 92,
   "id": "11d0d0dd-e5b5-4037-ab0d-38d5f1d6f60d",
   "metadata": {
    "tags": []
   },
   "outputs": [
    {
     "name": "stdin",
     "output_type": "stream",
     "text": [
      " online skate\n"
     ]
    },
    {
     "name": "stdout",
     "output_type": "stream",
     "text": [
      "online skate\n"
     ]
    }
   ],
   "source": [
    "import sys\n",
    "\n",
    "input = sys.stdin.readline\n",
    "\n",
    "while True:\n",
    "    try:\n",
    "        string = input().rstrip()\n",
    "        print(string)\n",
    "    except:\n",
    "        break\n",
    "'''\n",
    "\"출력 초과\" 문제는 일반적으로 프로그램이 예상보다 더 많은 데이터를 출력할 때 발생합니다. \n",
    "위 코드에서 이 문제가 발생하는 몇 가지 가능한 이유는 다음과 같습니다:\n",
    "\n",
    "1. **무한 루프**: `while True` 루프는 조건이 항상 참이므로, \n",
    "루프를 탈출하는 명시적인 조건이 없다면 무한히 실행됩니다. \n",
    "입력이 끝났음에도 불구하고 루프가 계속 실행되어 끊임없이 빈 문자열을 출력할 수 있습니다.\n",
    "\n",
    "2. **예외 처리**: `try-except` 블록이 제대로 구성되지 않으면, \n",
    "입력이 종료된 후에도 예외가 발생하지 않거나 잡히지 않아 루프가 계속 실행될 수 있습니다. \n",
    "이는 특히 입력이 끝났을 때 예외가 발생하지 않거나, 다른 유형의 예외가 발생하는 경우에 문제가 될 수 있습니다.\n",
    "\n",
    "3. **표준 입력 처리**: 특히 온라인 코딩 테스트 플랫폼에서는 표준 입력의 끝을 제대로 감지하지 못할 수도 있습니다. \n",
    "이 경우, 프로그램은 끝없이 입력을 기다리며 빈 줄을 출력할 수 있습니다.\n",
    "\n",
    "이 문제를 해결하기 위한 한 가지 방법은 입력 끝에 도달했는지 명시적으로 확인하는 것입니다.\n",
    "예를 들어, `input()` 함수가 빈 문자열을 반환하면 루프를 탈출하도록 할 수 있습니다:\n",
    "\n",
    "아래 코드는 `input()` 함수가 빈 문자열을 반환할 때 루프를 탈출합니다. \n",
    "이는 표준 입력이 종료되었음을 나타냅니다. 이렇게 함으로써 \"출력 초과\" 문제를 해결할 수 있습니다.\n",
    "'''"
   ]
  },
  {
   "cell_type": "code",
   "execution_count": null,
   "id": "c81481f1-bf86-49c8-8c0d-4efb77ac0778",
   "metadata": {},
   "outputs": [],
   "source": [
    "import sys\n",
    "\n",
    "input = sys.stdin.readline\n",
    "\n",
    "while True:\n",
    "    line = input()\n",
    "    if line == '':\n",
    "        break\n",
    "    else:\n",
    "        print(line.rstrip())\n",
    "        "
   ]
  },
  {
   "cell_type": "code",
   "execution_count": 93,
   "id": "9e479e9c-1f19-43a9-babc-2643834db861",
   "metadata": {
    "tags": []
   },
   "outputs": [
    {
     "data": {
      "text/plain": [
       "'\\n입력이 끝났음에도 불구하고 `EOFError`와 같은 예외가 발생하지 않는 상황은 주로 특정 실행 환경이나 프로그램의 구조에 따라 달라질 수 있습니다. 여기 몇 가지 가능한 시나리오를 설명하겠습니다:\\n\\n1. **대화식 인터프리터 또는 IDE 사용**: \\n대화식 Python 인터프리터나 통합 개발 환경(IDE)에서는 표준 입력의 끝(EOF)을 만나도 `EOFError`가 발생하지 않을 수 있습니다. \\n예를 들어, Jupyter Notebook 같은 환경에서는 사용자가 입력을 계속 제공할 수 있기 때문에 `EOFError`가 발생하지 않습니다.\\n\\n2. **입력 리다이렉션 또는 파이프 사용**: 터미널에서 파일로부터의 입력 리다이렉션 또는 파이프라인을 사용할 때, \\n파일 끝(EOF)에 도달하면 `EOFError`가 발생하지만, \\n사용자가 직접 터미널에 입력을 하는 경우 `EOFError`가 자동으로 발생하지 않습니다.\\n\\n3. **표준 입력이 닫히지 않은 경우**: 몇몇 경우에는 표준 입력이 프로그램에 의해 명시적으로 닫히지 않는 경우가 있을 수 있습니다.\\n이 경우에도 `EOFError`는 발생하지 않습니다.\\n\\n4. **다른 예외 처리 로직의 영향**: 이미 `try-except` 블록 내에서 다른 예외를 처리하고 있을 경우, \\n`EOFError`를 명시적으로 잡지 않으면 감지되지 않을 수 있습니다.\\n\\n5. **멀티스레드 또는 비동기 실행 환경**: 멀티스레드나 비동기 실행 환경에서는 표준 입력의 처리 방식이 변경될 수 있으며, \\n이 경우 `EOFError`의 발생 여부가 달라질 수 있습니다.\\n\\n이러한 이유로, 특정 환경에서는 입력이 끝났을 때 `EOFError`가 발생하지 않거나, 예상과 다르게 동작할 수 있습니다. 이런 상황들을 고려하여 프로그램을 작성하는 것이 중요합니다.\\n'"
      ]
     },
     "execution_count": 93,
     "metadata": {},
     "output_type": "execute_result"
    }
   ],
   "source": [
    "'''\n",
    "입력이 끝났음에도 불구하고 `EOFError`와 같은 예외가 발생하지 않는 상황은 주로 특정 실행 환경이나 프로그램의 구조에 따라 달라질 수 있습니다. 여기 몇 가지 가능한 시나리오를 설명하겠습니다:\n",
    "\n",
    "1. **대화식 인터프리터 또는 IDE 사용**: \n",
    "대화식 Python 인터프리터나 통합 개발 환경(IDE)에서는 표준 입력의 끝(EOF)을 만나도 `EOFError`가 발생하지 않을 수 있습니다. \n",
    "예를 들어, Jupyter Notebook 같은 환경에서는 사용자가 입력을 계속 제공할 수 있기 때문에 `EOFError`가 발생하지 않습니다.\n",
    "\n",
    "2. **입력 리다이렉션 또는 파이프 사용**: 터미널에서 파일로부터의 입력 리다이렉션 또는 파이프라인을 사용할 때, \n",
    "파일 끝(EOF)에 도달하면 `EOFError`가 발생하지만, \n",
    "사용자가 직접 터미널에 입력을 하는 경우 `EOFError`가 자동으로 발생하지 않습니다.\n",
    "\n",
    "3. **표준 입력이 닫히지 않은 경우**: 몇몇 경우에는 표준 입력이 프로그램에 의해 명시적으로 닫히지 않는 경우가 있을 수 있습니다.\n",
    "이 경우에도 `EOFError`는 발생하지 않습니다.\n",
    "\n",
    "4. **다른 예외 처리 로직의 영향**: 이미 `try-except` 블록 내에서 다른 예외를 처리하고 있을 경우, \n",
    "`EOFError`를 명시적으로 잡지 않으면 감지되지 않을 수 있습니다.\n",
    "\n",
    "5. **멀티스레드 또는 비동기 실행 환경**: 멀티스레드나 비동기 실행 환경에서는 표준 입력의 처리 방식이 변경될 수 있으며, \n",
    "이 경우 `EOFError`의 발생 여부가 달라질 수 있습니다.\n",
    "\n",
    "이러한 이유로, 특정 환경에서는 입력이 끝났을 때 `EOFError`가 발생하지 않거나, 예상과 다르게 동작할 수 있습니다. 이런 상황들을 고려하여 프로그램을 작성하는 것이 중요합니다.\n",
    "'''"
   ]
  },
  {
   "cell_type": "code",
   "execution_count": null,
   "id": "4317c25e-e3e7-4b1f-bf05-89cc9c13f785",
   "metadata": {},
   "outputs": [],
   "source": []
  }
 ],
 "metadata": {
  "kernelspec": {
   "display_name": "tf",
   "language": "python",
   "name": "tf"
  },
  "language_info": {
   "codemirror_mode": {
    "name": "ipython",
    "version": 3
   },
   "file_extension": ".py",
   "mimetype": "text/x-python",
   "name": "python",
   "nbconvert_exporter": "python",
   "pygments_lexer": "ipython3",
   "version": "3.11.0"
  }
 },
 "nbformat": 4,
 "nbformat_minor": 5
}
