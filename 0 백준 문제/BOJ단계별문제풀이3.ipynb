{
 "cells": [
  {
   "cell_type": "markdown",
   "id": "ffbb1e98-4a70-4704-b3c5-121425a108a0",
   "metadata": {},
   "source": [
    "문)10989  \n",
    "https://www.acmicpc.net/problem/10989  \n",
    "  \n",
    "문)1427  \n",
    "https://www.acmicpc.net/problem/1427\n",
    "\n",
    "문)11651  \n",
    "https://www.acmicpc.net/problem/11651  \n",
    "  \n",
    "문)1181  \n",
    "https://www.acmicpc.net/problem/1181  "
   ]
  },
  {
   "cell_type": "code",
   "execution_count": null,
   "id": "babde5c3-5905-4a1c-8d54-3ce8e9a2e066",
   "metadata": {},
   "outputs": [],
   "source": []
  },
  {
   "cell_type": "markdown",
   "id": "1d1a30d3-0016-4c7d-a6cc-8af50e9dbad5",
   "metadata": {},
   "source": [
    "## 문)10989\n",
    "https://www.acmicpc.net/problem/10989"
   ]
  },
  {
   "cell_type": "code",
   "execution_count": null,
   "id": "2396f4f7-5d7a-489d-b385-92cc9bc46cd8",
   "metadata": {},
   "outputs": [],
   "source": [
    "문제\n",
    "N개의 수가 주어졌을 때, 이를 오름차순으로 정렬하는 프로그램을 작성하시오.\n",
    "\n",
    "입력\n",
    "첫째 줄에 수의 개수 N(1 ≤ N ≤ 10,000,000)이 주어진다. \n",
    "둘째 줄부터 N개의 줄에는 수가 주어진다. 이 수는 10,000보다 작거나 같은 자연수이다.\n",
    "\n",
    "출력\n",
    "첫째 줄부터 N개의 줄에 오름차순으로 정렬한 결과를 한 줄에 하나씩 출력한다."
   ]
  },
  {
   "cell_type": "code",
   "execution_count": null,
   "id": "e1520afe-3d6e-4894-97ec-3749c83f84e9",
   "metadata": {},
   "outputs": [],
   "source": []
  },
  {
   "cell_type": "code",
   "execution_count": 10,
   "id": "ed3e6633-3204-4095-9a09-69c51da01c62",
   "metadata": {
    "tags": []
   },
   "outputs": [
    {
     "name": "stdin",
     "output_type": "stream",
     "text": [
      " 6\n",
      " 1\n",
      " 4\n",
      " 6\n",
      " 7\n",
      " 9\n",
      " 12\n"
     ]
    },
    {
     "name": "stdout",
     "output_type": "stream",
     "text": [
      "1\n",
      "4\n",
      "6\n",
      "7\n",
      "9\n"
     ]
    }
   ],
   "source": [
    "# import sys\n",
    "\n",
    "# 수의 개수 N을 입력받음\n",
    "N = int(input())\n",
    "\n",
    "# 각 숫자의 등장 횟수를 저장할 배열 초기화\n",
    "# 주어지는 수의 최소-최대 범위로 설정\n",
    "count = [0] * 15\n",
    "\n",
    "# 입력받은 숫자들에 대해 등장 횟수를 count 배열에 기록\n",
    "for _ in range(N):\n",
    "    # num = int(sys.stdin.readline())\n",
    "    num = int(input())\n",
    "    count[num] += 1\n",
    "\n",
    "# 0부터 10000까지 각 숫자에 대해, 그 숫자의 등장 횟수만큼 숫자를 출력\n",
    "for i in range(11):\n",
    "    for _ in range(count[i]):\n",
    "        print(i)"
   ]
  },
  {
   "cell_type": "code",
   "execution_count": 11,
   "id": "6312cbfd-d7d7-4c8a-89d1-0ff30663e672",
   "metadata": {
    "tags": []
   },
   "outputs": [
    {
     "data": {
      "text/plain": [
       "[0, 1, 0, 0, 1, 0, 1, 1, 0, 1, 0, 0, 1, 0, 0]"
      ]
     },
     "execution_count": 11,
     "metadata": {},
     "output_type": "execute_result"
    }
   ],
   "source": [
    "count"
   ]
  },
  {
   "cell_type": "markdown",
   "id": "a938ed88-57b7-4573-9607-88f0e12cb676",
   "metadata": {},
   "source": [
    "\n",
    "메모리 초과 문제를 피하면서 주어진 문제를 풀기 위해,  \n",
    "계수 정렬(Counting Sort) 방식이 가장 적합합니다.   \n",
    "계수 정렬은 입력 데이터의 범위가 제한적일 때, 매우 높은 효율을 보이는 정렬 방법입니다.   \n",
    "주어진 문제에서는 모든 수가 10,000보다 작거나 같은 자연수로 제한되어 있으므로, 계수 정렬을 사용할 수 있습니다.  \n",
    "  \n",
    "계수 정렬을 사용할 때, 메모리 초과를 방지하기 위한 핵심은 모든 입력 데이터를 메모리에 저장하지 않고,   \n",
    "입력된 숫자의 등장 횟수만을 기록하는 것입니다.   \n",
    "이를 위해 0부터 10,000까지 각 숫자의 등장 횟수를 저장할 수 있는 배열(또는 딕셔너리)를 만들고,   \n",
    "입력 과정에서 바로바로 등장 횟수를 업데이트 합니다.  \n",
    "  \n",
    "이 방법으로는 각 숫자의 등장 횟수만 기록하므로,  \n",
    "입력 데이터가 아무리 많아도 메모리 사용량이 10,001 크기의 배열(또는 딕셔너리)에만 의존하기 때문에   \n",
    "메모리 초과 문제를 효과적으로 피할 수 있습니다.  \n",
    "\"\n"
   ]
  },
  {
   "cell_type": "code",
   "execution_count": 33,
   "id": "21420af8-bbe5-4942-a872-7a5818a4d1b0",
   "metadata": {
    "tags": []
   },
   "outputs": [
    {
     "name": "stdin",
     "output_type": "stream",
     "text": [
      " 12349872134509834650978\n"
     ]
    },
    {
     "name": "stdout",
     "output_type": "stream",
     "text": [
      "99988877655444333221100\n"
     ]
    }
   ],
   "source": [
    "import sys\n",
    "\n",
    "input = sys.stdin.readline\n",
    "\n",
    "N = list(input().rstrip())\n",
    "\n",
    "counter = [0]*10\n",
    "\n",
    "for num in list(map(int, N)):\n",
    "    counter[num] += 1\n",
    "\n",
    "answer=[]\n",
    "for i in range(9, -1, -1):\n",
    "    for _ in range(counter[i]):\n",
    "        print(i, end=\"\")"
   ]
  },
  {
   "cell_type": "markdown",
   "id": "83ce9e1c-3c99-4cf7-998b-908058e87c46",
   "metadata": {},
   "source": [
    "## 문)11651\n",
    "https://www.acmicpc.net/problem/11651"
   ]
  },
  {
   "cell_type": "code",
   "execution_count": null,
   "id": "89b6bfeb-1217-4e6b-8776-da5c4b45e5de",
   "metadata": {},
   "outputs": [],
   "source": [
    "import sys\n",
    "N = int(input())\n",
    "coordinate = []\n",
    "for _ in range(N):\n",
    "    x, y = map(int, input().split())\n",
    "    coordinate.append((y, x))\n",
    "    \n",
    "coordinate.sort()\n",
    "for y, x in coordinate:\n",
    "    print(x, y)"
   ]
  },
  {
   "cell_type": "code",
   "execution_count": null,
   "id": "d7d36931-2127-4f83-965d-51b40a2c78be",
   "metadata": {},
   "outputs": [],
   "source": [
    "import sys\n",
    "N = int(input())\n",
    "coordinate = []\n",
    "for _ in range(N):\n",
    "    x, y = map(int, input().split())\n",
    "    coordinate.append((x, y))\n",
    "    \n",
    "coordinate.sort(key = lambda x : (x[1], x[0]))\n",
    "for x, y in coordinate:\n",
    "    print(x, y)"
   ]
  },
  {
   "cell_type": "markdown",
   "id": "b101bcd4-37c7-4333-acd1-f291a6865dc8",
   "metadata": {},
   "source": [
    "## 문)1181\n",
    "https://www.acmicpc.net/problem/1181"
   ]
  },
  {
   "cell_type": "code",
   "execution_count": null,
   "id": "6db8096f-b52e-438a-bd0d-ed21263b6bde",
   "metadata": {},
   "outputs": [],
   "source": [
    "import sys\n",
    "input = sys.stdin.readline\n",
    "N = int(input())\n",
    "char_set = set()\n",
    "for _ in range(N):\n",
    "    char_set.add(input().strip())\n",
    "for char in sorted(list(char_set), key=lambda x: (len(x), x)):\n",
    "    print(char)"
   ]
  }
 ],
 "metadata": {
  "kernelspec": {
   "display_name": "Python 3 (ipykernel)",
   "language": "python",
   "name": "python3"
  },
  "language_info": {
   "codemirror_mode": {
    "name": "ipython",
    "version": 3
   },
   "file_extension": ".py",
   "mimetype": "text/x-python",
   "name": "python",
   "nbconvert_exporter": "python",
   "pygments_lexer": "ipython3",
   "version": "3.11.0"
  }
 },
 "nbformat": 4,
 "nbformat_minor": 5
}
