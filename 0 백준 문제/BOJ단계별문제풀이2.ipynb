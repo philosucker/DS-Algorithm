{
 "cells": [
  {
   "cell_type": "markdown",
   "id": "b1293f6a-6b45-4adc-a752-429e273a0b41",
   "metadata": {
    "tags": []
   },
   "source": [
    "# 30문제\n",
    "\n",
    "문)1157 <<< 세번째 시도에서 풂 20240305  \n",
    "https://www.acmicpc.net/problem/1157  \n",
    "\n",
    "문)2941 <<< 세번째 시도에서 풂, 좋은 문제임 20240305  \n",
    "https://www.acmicpc.net/problem/2941  \n",
    "  \n",
    "문)1018 <<< 못풂, 두번째 시도에서 풀었는데 너무 무식하게 풀었음. 다시 풀 것 20240131 20240305  \n",
    "https://www.acmicpc.net/problem/1018  \n",
    "  \n",
    "문)1436 <<< 못풂, 두번째 시도에서도 못 풂, 쉬운 문제.. 20240305  \n",
    "https://www.acmicpc.net/problem/1436  \n",
    "  \n",
    "문)2839 <<< 못풂, 두번째 시도에서도 못 풂, 좋은 문제 20240305  \n",
    "https://www.acmicpc.net/problem/2839    \n",
    "   \n",
    "문)2869 <<< 시간 초과, 못풂, 두번째시도 풂, 좋은 문제임 20240307    \n",
    "https://www.acmicpc.net/problem/2869  \n",
    "\n",
    "문)2501 <<< 못풂, 두번째 시도 풂 20240307  \n",
    "https://www.acmicpc.net/problem/2501  \n",
    "\n",
    "문)1978 <<< 소수 찾기 복습하기 아주 좋음. 20240307   \n",
    "https://www.acmicpc.net/problem/1978  \n",
    "\n",
    "문)11653 <<< 못풂, 두번째 시도에서도 못 풂, 세번째 시도에서 풂. 좋은 문제임 20240130 20240307   \n",
    "https://www.acmicpc.net/problem/11653   \n",
    "     \n",
    "문)1316 <<< 세번째 시도에서 못풂, 좋은 문제임 20240314   \n",
    "https://www.acmicpc.net/problem/1316  \n",
    "  \n",
    "문)11005 <<< 세번째 시도에서도 못풂, 20230314    \n",
    "https://www.acmicpc.net/problem/11005  \n",
    "   \n",
    "문)2563 <<< 못풂, 두번째,세번째 시도에서 풂, 좋은 문제임 20240314     \n",
    "https://www.acmicpc.net/problem/2563   \n",
    "  \n",
    "문)2566 <<< 못풂, 두번째,세번째 시도에서 풂, 좋은 문제임 20240314    \n",
    "https://www.acmicpc.net/problem/2566  \n",
    "  \n",
    "문)2292 <<< 첫번째, 두번째 시도 풂 20240314      \n",
    "https://www.acmicpc.net/problem/2292   \n",
    "  \n",
    "문)1193 <<< 두번째 시도에서 풂, 좋은 문제임   20240129 20240314    \n",
    "https://www.acmicpc.net/problem/1193   \n",
    "  \n",
    "\n",
    "문)3003  \n",
    "https://www.acmicpc.net/problem/3003   \n",
    "\n",
    "문)2444  \n",
    "https://www.acmicpc.net/problem/2444  \n",
    "\n",
    "문)10988  \n",
    "https://www.acmicpc.net/problem/10988  \n",
    "  \n",
    "문)25206  \n",
    "https://www.acmicpc.net/problem/25206  \n",
    "\n",
    "문)2738  \n",
    "https://www.acmicpc.net/problem/2738  \n",
    "  \n",
    "문)10798  \n",
    "https://www.acmicpc.net/problem/10798  \n",
    "  \n",
    "문)2745  \n",
    "https://www.acmicpc.net/problem/2745  \n",
    "  \n",
    "문)2720  \n",
    "https://www.acmicpc.net/problem/2720    \n",
    "\n",
    "문)3009  \n",
    "https://www.acmicpc.net/problem/3009  \n",
    "\n",
    "문)14215  \n",
    "https://www.acmicpc.net/problem/14215  \n",
    "\n",
    "문)24265  \n",
    "https://www.acmicpc.net/problem/24265  \n",
    "\n",
    "문)24267  \n",
    "https://www.acmicpc.net/problem/24267  \n",
    "\n",
    "문)2798  \n",
    "https://www.acmicpc.net/problem/2798  \n",
    "\n",
    "문)2331  \n",
    "https://www.acmicpc.net/problem/2231  \n",
    "\n",
    "문)19532  \n",
    "https://www.acmicpc.net/problem/19532    \n",
    "\n"
   ]
  },
  {
   "cell_type": "markdown",
   "id": "e8189b18-4ac7-4c93-add4-0665d23ed616",
   "metadata": {},
   "source": [
    "# 문)3003\n",
    "https://www.acmicpc.net/problem/3003"
   ]
  },
  {
   "cell_type": "markdown",
   "id": "a1dec56f-12c9-4634-adef-6f5f8b25a37c",
   "metadata": {},
   "source": [
    "### 첫번째 풀이"
   ]
  },
  {
   "cell_type": "code",
   "execution_count": 10,
   "id": "14cf1eab-20a8-4afc-b190-6c2661445d0e",
   "metadata": {
    "tags": []
   },
   "outputs": [
    {
     "name": "stdin",
     "output_type": "stream",
     "text": [
      " 0 1 2 2 2 7\n"
     ]
    },
    {
     "name": "stdout",
     "output_type": "stream",
     "text": [
      "1 0\n",
      "1 1\n",
      "2 2\n",
      "2 2\n",
      "2 2\n",
      "8 7\n"
     ]
    }
   ],
   "source": [
    "import sys \n",
    "\n",
    "input = sys.stdin.readline\n",
    "\n",
    "input_setting = list(map(int, input().split()))\n",
    "right_setting = [1, 1, 2, 2, 2, 8]\n",
    "\n",
    "for r, i in zip(right_setting, input_setting):\n",
    "    print(r-i, end=' ')"
   ]
  },
  {
   "cell_type": "markdown",
   "id": "e84af3d8-3a20-4c66-b9fa-338a64e1963d",
   "metadata": {},
   "source": [
    "### 두번째 풀이"
   ]
  },
  {
   "cell_type": "code",
   "execution_count": null,
   "id": "d1eccca8-ecae-4c7d-baa2-ed9b1053d0f7",
   "metadata": {},
   "outputs": [],
   "source": [
    "import sys\n",
    "\n",
    "input = sys.stdin.readline\n",
    "\n",
    "state = list(map(int, input().split()))\n",
    "orig = [1, 1, 2, 2, 2, 8]\n",
    "answer = \" \".join(str(orig[i] - state[i]) for i in range(6))\n",
    "    \n",
    "print(answer)"
   ]
  },
  {
   "cell_type": "markdown",
   "id": "73b40f88-a58d-4875-b232-3ff09fd0c98e",
   "metadata": {},
   "source": [
    "# 문)2444\n",
    "https://www.acmicpc.net/problem/2444"
   ]
  },
  {
   "cell_type": "markdown",
   "id": "8e2974c4-442d-4100-9fb8-91b4b239c5a0",
   "metadata": {},
   "source": [
    "입력이 매우 클 때,\n",
    "\n",
    "    1) 별을 찍기 위해 `print()` 함수를 직접 사용하는 방법, \n",
    "    2) 문자열을 더하는 방법, \n",
    "    3) 리스트에 문자를 저장한 후 `join()`을 사용하는 방법을 비교하면\n",
    "\n",
    "다음과 같은 순서로 효율성이 정렬됩니다:\n",
    "\n",
    "    1. **리스트에 문자를 저장한 후 `join()`을 사용하는 방법**: \n",
    "    이 방법은 가장 효율적입니다. 리스트는 가변적이므로 요소를 추가하는 데 드는 비용이 상대적으로 낮고, \n",
    "    최종적으로 필요한 문자열을 한 번에 생성합니다. \n",
    "    이 접근법은 메모리 사용량을 최소화하면서도 빠른 실행 시간을 제공합니다.\n",
    "\n",
    "    2. **`print()` 함수를 직접 사용하는 방법**: \n",
    "    이 방법은 각 줄마다 별을 찍기 위해 별도의 문자열 연산을 수행하지 않고 직접 출력합니다.\n",
    "    이는 문자열을 더하는 방법보다 더 효율적일 수 있지만, \n",
    "    매 줄마다 I/O 연산을 수행한다는 단점이 있습니다. \n",
    "    I/O 연산은 일반적으로 CPU 연산보다 느릴 수 있으므로, \n",
    "    매우 큰 입력에서는 성능 저하의 원인이 될 수 있습니다.\n",
    "\n",
    "    3. **문자열을 더하는 방법**: \n",
    "    이 방법은 세 가지 중 가장 비효율적입니다. \n",
    "    문자열은 불변이므로, 문자열을 더할 때마다 새로운 문자열을 생성하고 이전 문자열을 복사해야 합니다. \n",
    "    이는 특히 문자열이 매우 길고 연산이 빈번하게 수행될 때 많은 메모리와 시간을 소모합니다.\n",
    "\n",
    "    따라서, 입력 크기가 매우 클 때는\n",
    "    리스트를 사용한 후 `join()`을 호출하는 방법이 가장 효율적이며, \n",
    "    그 다음으로 `print()` 함수를 직접 사용하는 방법, \n",
    "    마지막으로 문자열을 더하는 방법 순으로 효율성이 높습니다."
   ]
  },
  {
   "cell_type": "code",
   "execution_count": 39,
   "id": "4e6db81b-d12c-401a-9876-ab33638f6ecb",
   "metadata": {
    "tags": []
   },
   "outputs": [
    {
     "name": "stdin",
     "output_type": "stream",
     "text": [
      " 5\n"
     ]
    },
    {
     "name": "stdout",
     "output_type": "stream",
     "text": [
      "    *\n",
      "   ***\n",
      "  *****\n",
      " *******\n",
      "*********\n",
      " *******\n",
      "  *****\n",
      "   ***\n",
      "    *\n"
     ]
    }
   ],
   "source": [
    "# import sys\n",
    "\n",
    "# input = sys.stdin.readline\n",
    "\n",
    "n = int(input())\n",
    "\n",
    "star_nums = []\n",
    "for i in range(n):\n",
    "    star_nums.append(2*i+1)\n",
    "\n",
    "star_nums = star_nums + list(reversed(star_nums[:-1]))\n",
    "\n",
    "space_nums = []\n",
    "for i in range(n-1, -1, -1):\n",
    "    space_nums.append(i)\n",
    "\n",
    "space_nums = space_nums + list(reversed(space_nums[:n-1]))\n",
    "\n",
    "for star, space in zip(star_nums, space_nums):\n",
    "    for _ in range(space):\n",
    "        print(\" \", end=\"\")\n",
    "    for _ in range(star):\n",
    "        print(\"*\", end=\"\")\n",
    "    print()\n",
    "                               "
   ]
  },
  {
   "cell_type": "code",
   "execution_count": 48,
   "id": "d049cf86-4cfa-49d8-81a1-d226d688a950",
   "metadata": {
    "tags": []
   },
   "outputs": [
    {
     "name": "stdout",
     "output_type": "stream",
     "text": [
      "  *\n",
      " ***\n",
      "*****\n",
      " ***\n",
      "  *\n"
     ]
    }
   ],
   "source": [
    "n = int(input())\n",
    "\n",
    "for i in range(n):\n",
    "    line = [' '] * (n - i -1) + ['*'] * (2 * i + 1)\n",
    "    print(''.join(line))\n",
    "\n",
    "for i in range(n-1, 0, -1):\n",
    "    line = [' '] * (n - i) + ['*'] * (2 * i - 1) \n",
    "    print(''.join(line))"
   ]
  },
  {
   "cell_type": "markdown",
   "id": "bf936270-c633-421b-9203-51678456ae95",
   "metadata": {},
   "source": [
    "### 두번째 풀이"
   ]
  },
  {
   "cell_type": "code",
   "execution_count": null,
   "id": "27e51b12-cd11-4a80-9ce1-36df57a4a9b1",
   "metadata": {},
   "outputs": [],
   "source": [
    "import sys\n",
    "\n",
    "input = sys.stdin.readline\n",
    "\n",
    "n = int(input())\n",
    "\n",
    "for i in range(n):\n",
    "    print((n-1-i) * \" \" + (2*i+1) * \"*\")\n",
    "for i in range(n-1, 0, -1):\n",
    "    print((n-i) * \" \" + (2*i-1) * \"*\")"
   ]
  },
  {
   "cell_type": "markdown",
   "id": "8d1e07c0-683c-4399-b02a-f235635896ac",
   "metadata": {},
   "source": [
    "# 문)10988\n",
    "https://www.acmicpc.net/problem/10988"
   ]
  },
  {
   "cell_type": "code",
   "execution_count": null,
   "id": "96f5c8fa-58d6-4fc9-877c-371ece4f20d2",
   "metadata": {},
   "outputs": [],
   "source": [
    "첫째 줄에 팰린드롬이면 1, 아니면 0을 출력한다."
   ]
  },
  {
   "cell_type": "markdown",
   "id": "e34cef1d-186e-4df5-b597-e980898e4c9e",
   "metadata": {},
   "source": [
    "### 첫번째 풀이, 두번째 풀이"
   ]
  },
  {
   "cell_type": "code",
   "execution_count": 53,
   "id": "bafab49e-2be5-492e-994e-66fe5e3ac520",
   "metadata": {
    "tags": []
   },
   "outputs": [
    {
     "name": "stdin",
     "output_type": "stream",
     "text": [
      " level\n"
     ]
    },
    {
     "name": "stdout",
     "output_type": "stream",
     "text": [
      "1\n"
     ]
    }
   ],
   "source": [
    "# import sys\n",
    "\n",
    "# input = sys.stdin.readline\n",
    "\n",
    "string = input().rstrip()\n",
    "\n",
    "pl = 0\n",
    "pr = len(string) - 1\n",
    "\n",
    "while True:\n",
    "    if pl > pr:\n",
    "        print(\"1\")\n",
    "        break\n",
    "        \n",
    "    if string[pl] == string[pr]:\n",
    "        pl += 1\n",
    "        pr -= 1\n",
    "    \n",
    "    else:\n",
    "        print(\"0\")\n",
    "        break\n",
    "    \n"
   ]
  },
  {
   "cell_type": "code",
   "execution_count": 55,
   "id": "ab3883a8-8952-43e0-8d74-dbc3e02d1cce",
   "metadata": {
    "tags": []
   },
   "outputs": [
    {
     "name": "stdin",
     "output_type": "stream",
     "text": [
      " level\n"
     ]
    },
    {
     "name": "stdout",
     "output_type": "stream",
     "text": [
      "1\n"
     ]
    }
   ],
   "source": [
    "string =list(input())\n",
    "\n",
    "if list(reversed(string)) == string:\n",
    "    print(1)\n",
    "else:\n",
    "    print(0)"
   ]
  },
  {
   "cell_type": "markdown",
   "id": "5d9093a2-7898-4eb2-a6fd-79c9424f79b8",
   "metadata": {
    "tags": []
   },
   "source": [
    "    1. **첫 번째 코드**:\n",
    "       - **시간복잡도**: 이 코드는 문자열의 앞과 뒤에서 시작하여 중간으로 이동하면서 문자를 비교합니다. \n",
    "       최악의 경우 (문자열이 회문이거나 중간까지 회문인 경우) 전체 문자열의 절반까지만 검사하므로, \n",
    "       시간복잡도는 O(n/2)이며, 이는 O(n)으로 간주할 수 있습니다.\n",
    "       - **공간복잡도**: 추가적인 공간을 사용하지 않습니다. \n",
    "       문자열의 인덱스만을 이용하여 비교를 수행하므로, 공간복잡도는 O(1)입니다.\n",
    "\n",
    "    2. **두 번째 코드**:\n",
    "       - **시간복잡도**: `reversed()` 함수는 입력 문자열을 뒤집은 새로운 반복 가능 객체를 생성합니다. \n",
    "       `list()`로 이를 리스트로 변환하는 데 O(n)의 시간이 소요됩니다.\n",
    "       그리고 두 리스트를 비교하는 데도 최대 O(n)의 시간이 필요할 수 있습니다. 따라서 전체 시간복잡도는 O(n)입니다.\n",
    "       - **공간복잡도**: 이 코드는 입력 문자열을 뒤집은 새로운 리스트를 생성합니다. \n",
    "       이 때문에 추가적으로 O(n)의 공간이 필요합니다.\n",
    "\n",
    "    결론적으로, 첫 번째 코드는 시간복잡도 측면에서 두 번째 코드와 동일하지만, 공간복잡도 측면에서는 더 효율적입니다. \n",
    "    첫 번째 코드는 추가적인 메모리를 거의 사용하지 않으므로, 입력이 매우 클 때 더 나은 선택일 수 있습니다. \n",
    "    또한, 첫 번째 코드는 문자열이 회문이 아닐 때 더 빨리 종료될 수 있는 장점이 있습니다. \n",
    "    문자열이 회문이 아닌 경우를 빨리 감지하고 반복을 중단하기 때문에, 평균적으로 두 번째 코드보다 더 빠를 수 있습니다."
   ]
  },
  {
   "cell_type": "markdown",
   "id": "db6e80aa-b2d8-4f69-8517-a1f080e10a94",
   "metadata": {},
   "source": [
    "# 문)1157\n",
    "https://www.acmicpc.net/problem/1157"
   ]
  },
  {
   "cell_type": "code",
   "execution_count": null,
   "id": "bf3373f1-bf4e-47e7-a985-c30bc77c0f2c",
   "metadata": {},
   "outputs": [],
   "source": [
    "문제\n",
    "알파벳 대소문자로 된 단어가 주어지면, \n",
    "이 단어에서 가장 많이 사용된 알파벳이 무엇인지 알아내는 프로그램을 작성하시오. \n",
    "단, 대문자와 소문자를 구분하지 않는다.\n",
    "\n",
    "입력\n",
    "첫째 줄에 알파벳 대소문자로 이루어진 단어가 주어진다. 주어지는 단어의 길이는 1,000,000을 넘지 않는다.\n",
    "\n",
    "출력\n",
    "첫째 줄에 이 단어에서 가장 많이 사용된 알파벳을 대문자로 출력한다. \n",
    "단, 가장 많이 사용된 알파벳이 여러 개 존재하는 경우에는 ?를 출력한다.\n",
    "\n",
    "입력 Mississipi\n",
    "?\n",
    "\n",
    "입력 zZa\n",
    "Z"
   ]
  },
  {
   "cell_type": "markdown",
   "id": "f5864c9e-7495-4b2e-b2fc-3796d2a2b3d6",
   "metadata": {},
   "source": [
    "### 세번째 시도\n",
    "풂"
   ]
  },
  {
   "cell_type": "code",
   "execution_count": 12,
   "id": "abd262db-52d1-4907-bf64-61216722dcbe",
   "metadata": {
    "tags": []
   },
   "outputs": [
    {
     "name": "stdin",
     "output_type": "stream",
     "text": [
      " Mississipi\n"
     ]
    }
   ],
   "source": [
    "from collections import Counter\n",
    "\n",
    "word = input().upper()\n",
    "result = Counter(word).most_common()\n",
    "\n",
    "if len(result) > 1 and result[0][1] == result[1][1]:\n",
    "    print(\"?\")\n",
    "else:\n",
    "    print(result[0][0])"
   ]
  },
  {
   "cell_type": "markdown",
   "id": "62cef4e7-2dab-454e-a3db-56e4efae6177",
   "metadata": {},
   "source": [
    "# 문)2941\n",
    "https://www.acmicpc.net/problem/2941"
   ]
  },
  {
   "cell_type": "code",
   "execution_count": null,
   "id": "54816655-302e-4950-a277-85ca39137a2f",
   "metadata": {},
   "outputs": [],
   "source": [
    "입력으로 주어진 단어가 몇 개의 크로아티아 알파벳으로 이루어져 있는지 출력한다.\n",
    "다음은 한 글자로 센다\n",
    "croatia = [\"c=\", \"c-\", \"dz=\", \"d-\", \"lj\", \"nj\", \"s=\", \"z=\"]\n",
    "\n",
    "입력 ljes=njak\n",
    "출력 6"
   ]
  },
  {
   "cell_type": "code",
   "execution_count": 19,
   "id": "1ce6da2a-a4e1-4baf-abca-d317056d2a76",
   "metadata": {
    "tags": []
   },
   "outputs": [
    {
     "data": {
      "text/plain": [
       "False"
      ]
     },
     "execution_count": 19,
     "metadata": {},
     "output_type": "execute_result"
    }
   ],
   "source": [
    "\"ljes=njak\".startswith(\"s=\")"
   ]
  },
  {
   "cell_type": "code",
   "execution_count": null,
   "id": "c5c648fd-182c-41f1-8c7e-95db661f580e",
   "metadata": {},
   "outputs": [
    {
     "name": "stdin",
     "output_type": "stream",
     "text": [
      " ljes=njaks=\n"
     ]
    },
    {
     "name": "stdout",
     "output_type": "stream",
     "text": [
      "7\n"
     ]
    }
   ],
   "source": [
    "\n",
    "word = input()\n",
    "croatia = [\"c=\", \"c-\", \"dz=\", \"d-\", \"lj\", \"nj\", \"s=\", \"z=\"]\n",
    "for char in croatia:\n",
    "    word = word.startswith(char)(char, \"*\")\n",
    "    \n",
    "print(len(word))\n",
    "    \n",
    "\n"
   ]
  },
  {
   "cell_type": "code",
   "execution_count": null,
   "id": "33c5e6d3-a575-413f-bc04-c9355cd336d9",
   "metadata": {},
   "outputs": [],
   "source": [
    "import sys\n",
    "\n",
    "input = sys.stdin.readline\n",
    "\n",
    "def count_croatia_letters(string, croatia_list):\n",
    "    for croatia_letter in croatia_list:\n",
    "        string = string.replace(croatia_letter, \"*\")\n",
    "        '''\n",
    "        str.replace(old, new, count)\n",
    "        원본 문자열에서 old와 일치하는 모든 부분 문자열을 new로 바꾼 새로운 문자열을 반환한다.\n",
    "        즉 replace 메서드를 호출할 때마다 새로운 문자열 객체가 생성된다.\n",
    "        count를 주지 않으면 모든 substring을 바꾸고 \n",
    "        count를 주면 그 수 만큼 등장하는 substring 들만 바꾼다. \n",
    "        '''\n",
    "    return len(string)\n",
    "\n",
    "croatia = [\"c=\", \"c-\", \"dz=\", \"d-\", \"lj\", \"nj\", \"s=\", \"z=\"]\n",
    "\n",
    "word = input().rstrip()\n",
    "length = count_croatia_letters(word, croatia)\n",
    "print(length)"
   ]
  },
  {
   "cell_type": "code",
   "execution_count": null,
   "id": "59f44bb4-2392-4b58-a548-337479bbd279",
   "metadata": {},
   "outputs": [],
   "source": [
    "ljes=njak"
   ]
  },
  {
   "cell_type": "code",
   "execution_count": null,
   "id": "0eb482ed-466b-46c0-95e9-d5f727d35c61",
   "metadata": {},
   "outputs": [],
   "source": [
    "def count_croatia_letters(string, croatia_list):\n",
    "    i = 0\n",
    "    count = 0\n",
    "    while i < len(string):\n",
    "        matched = False\n",
    "        for croatia in croatia_list:\n",
    "            if string.startswith(croatia, i):\n",
    "            '''\n",
    "            str.startswith(prefix, start, end)\n",
    "            문자열이 지정된 prefix 로 시작하면 True 를 돌려주고, 그렇지 않으면 False 를 반환한다.\n",
    "            prefix 는 찾고자 하는 접두사들의 튜플이 될 수도 있습니다. \n",
    "            start 가 제공되면 해당 인덱스에서 검사를 시작\n",
    "            선택적 end 를 사용하면 해당 인덱스에서 비교를 중단합니다.\n",
    "            '''\n",
    "                count += 1\n",
    "                i += len(croatia)\n",
    "                matched = True\n",
    "                break\n",
    "        if not matched:\n",
    "            count += 1\n",
    "            i += 1\n",
    "    return count\n",
    "\n",
    "croatia = [\"c=\", \"c-\", \"dz=\", \"d-\", \"lj\", \"nj\", \"s=\", \"z=\"]\n",
    "\n",
    "word = input().rstrip()\n",
    "length = count_croatia_letters(word, croatia)\n",
    "print(length)"
   ]
  },
  {
   "cell_type": "code",
   "execution_count": null,
   "id": "58f75f27-9266-47de-b46b-0a0834dbf1b9",
   "metadata": {},
   "outputs": [],
   "source": [
    "def count_croatia_letters(string, croatia_list):\n",
    "    \"\"\"\n",
    "    주어진 문자열에서 크로아티아 알파벳을 포함하여 전체 문자의 수를 세는 함수.\n",
    "    크로아티아 알파벳은 하나의 문자로 간주된다.\n",
    "    \"\"\"\n",
    "    i = 0\n",
    "    count = 0\n",
    "    while i < len(string):\n",
    "        for croatia in croatia_list:\n",
    "            if string.startswith(croatia, i):\n",
    "                count += 1\n",
    "                i += len(croatia)\n",
    "                break\n",
    "        else:\n",
    "            # else를 쓰지 않으면 위 for문에서 break에 걸려 for문을 빠져나온 다음에 count와 i를 아래서 또 증가시키게 된다.\n",
    "            # for루프의 else는 for문이 break에 걸리지 않고 반복을 다 마쳤을 때만 실행되는 구문이다.\n",
    "            # break에 걸리면 실행되지 else이하는 실행되지 않는다. \n",
    "            count += 1\n",
    "            i += 1\n",
    "    return count\n",
    "\n",
    "croatia = [\"c=\", \"c-\", \"dz=\", \"d-\", \"lj\", \"nj\", \"s=\", \"z=\"]\n",
    "\n",
    "word = input().rstrip()\n",
    "length = count_croatia_letters(word, croatia)\n",
    "print(length)\n"
   ]
  },
  {
   "cell_type": "markdown",
   "id": "42c1aa8e-f100-4cd4-a158-c3df21806bce",
   "metadata": {
    "tags": []
   },
   "source": [
    "### 두번째 풀이"
   ]
  },
  {
   "cell_type": "code",
   "execution_count": 42,
   "id": "91f1a061-6b53-44cd-8647-e4ea912b4474",
   "metadata": {
    "tags": []
   },
   "outputs": [
    {
     "name": "stdin",
     "output_type": "stream",
     "text": [
      " ljes=njak\n"
     ]
    },
    {
     "name": "stdout",
     "output_type": "stream",
     "text": [
      "6\n",
      "9\n"
     ]
    }
   ],
   "source": [
    "import sys\n",
    "\n",
    "# input = sys.stdin.readline\n",
    "\n",
    "string = input().rstrip()\n",
    "\n",
    "pattern = [\"c=\", \"c-\", \"dz=\", \"d-\", \"lj\", \"nj\", \"s=\", \"z=\"]\n",
    "\n",
    "i = 0\n",
    "count = 0\n",
    "while i < len(string):\n",
    "    for pat in pattern:\n",
    "        if string[i:].startswith(pat):\n",
    "            if len(pat) == 2:\n",
    "                i+=2\n",
    "                count+=1\n",
    "            elif len(pat) == 3:\n",
    "                i+=3\n",
    "                count+=1\n",
    "            break\n",
    "    else:\n",
    "        i+=1\n",
    "        count+=1\n",
    "print(count)\n",
    "print(i)"
   ]
  },
  {
   "cell_type": "markdown",
   "id": "35c4c78c-7aec-4357-84af-1cf2c3df3113",
   "metadata": {},
   "source": [
    "# 문)1316\n",
    "https://www.acmicpc.net/problem/1316"
   ]
  },
  {
   "cell_type": "code",
   "execution_count": null,
   "id": "6caf81f1-4258-43f9-a6d1-8909c8ac11b8",
   "metadata": {},
   "outputs": [],
   "source": [
    "문제\n",
    "그룹 단어란 단어에 존재하는 모든 문자에 대해서, 각 문자가 연속해서 나타나는 경우만을 말한다.\n",
    "예를 들면, ccazzzzbb는 c, a, z, b가 모두 연속해서 나타나고, kin도 k, i, n이 연속해서 나타나기 때문에 그룹 단어이지만, \n",
    "aabbbccb는 b가 떨어져서 나타나기 때문에 그룹 단어가 아니다.\n",
    "\n",
    "단어 N개를 입력으로 받아 그룹 단어의 개수를 출력하는 프로그램을 작성하시오.\n",
    "\n",
    "입력\n",
    "첫째 줄에 단어의 개수 N이 들어온다. N은 100보다 작거나 같은 자연수이다. \n",
    "둘째 줄부터 N개의 줄에 단어가 들어온다. \n",
    "단어는 알파벳 소문자로만 되어있고 중복되지 않으며, 길이는 최대 100이다.\n",
    "\n",
    "출력\n",
    "첫째 줄에 그룹 단어의 개수를 출력한다.\n",
    "\n",
    "예제 입력 1 \n",
    "3\n",
    "happy\n",
    "new\n",
    "year\n",
    "예제 출력 1 \n",
    "3"
   ]
  },
  {
   "cell_type": "markdown",
   "id": "a0550dcc-da0e-4062-9dcf-4576d44ebae2",
   "metadata": {},
   "source": [
    "### 내 풀이"
   ]
  },
  {
   "cell_type": "code",
   "execution_count": 5,
   "id": "24e35213-90a9-4a4f-9803-8b1e1f7b2c57",
   "metadata": {
    "tags": []
   },
   "outputs": [
    {
     "name": "stdin",
     "output_type": "stream",
     "text": [
      " 1\n",
      " aba\n"
     ]
    },
    {
     "name": "stdout",
     "output_type": "stream",
     "text": [
      "0\n"
     ]
    }
   ],
   "source": [
    "N = int(input())\n",
    "cnt = 0\n",
    "for _ in range(N):\n",
    "    word = list(input())\n",
    "    group_word = list(word[0])\n",
    "    for i in range(1, len(word)):\n",
    "        if word[i] == word[i-1] or word[i] not in group_word:\n",
    "            group_word.append(word[i])\n",
    "        else:\n",
    "            break\n",
    "    else:\n",
    "        cnt+=1\n",
    "\n",
    "print(cnt)"
   ]
  },
  {
   "cell_type": "markdown",
   "id": "cfcd0378-1cb6-4900-89dd-8490d6c0e1d5",
   "metadata": {},
   "source": [
    "### chatGPT 풀이"
   ]
  },
  {
   "cell_type": "code",
   "execution_count": 7,
   "id": "31d2502a-f9fa-4882-b6f5-e6f9d0f02292",
   "metadata": {
    "tags": []
   },
   "outputs": [
    {
     "name": "stdin",
     "output_type": "stream",
     "text": [
      " 2\n",
      " happy\n",
      " lol\n"
     ]
    },
    {
     "name": "stdout",
     "output_type": "stream",
     "text": [
      "1\n"
     ]
    }
   ],
   "source": [
    "N = int(input())\n",
    "cnt = 0\n",
    "for _ in range(N):\n",
    "    word = list(input())\n",
    "    seen = set()\n",
    "    prev = None\n",
    "    for char in word:\n",
    "        if char != prev:  # 연이어 같은 문자가 나오면 if문이 실행안될 뿐 break된게 아니니까 cnt된다.\n",
    "            if char in seen:\n",
    "                break\n",
    "            seen.add(char)\n",
    "            prev = char\n",
    "    else:\n",
    "        cnt += 1\n",
    "print(cnt)"
   ]
  },
  {
   "cell_type": "markdown",
   "id": "be45a7ed-df2c-4dbf-b158-25c20d51498c",
   "metadata": {},
   "source": [
    "효율성: 두 번째 코드가 더 효율적입니다. \n",
    "\n",
    "    리스트(list)에서의 in 연산\n",
    "    \n",
    "        리스트는 요소들을 순차적으로 저장하는 데이터 구조입니다.\n",
    "        리스트에서 특정 요소가 존재하는지 확인하는 in 연산은 \n",
    "        리스트의 처음부터 끝까지 요소를 하나씩 비교해야 합니다.\n",
    "        이 과정은 최악의 경우 리스트의 모든 요소를 확인해야 하므로, \n",
    "        in 연산의 시간 복잡도는 O(n)입니다. \n",
    "    \n",
    "    집합(set)에서의 in 연산\n",
    "    \n",
    "        집합은 해시 테이블을 기반으로 구현된 데이터 구조입니다. \n",
    "        이는 요소들이 순서 없이 저장되며, \n",
    "        각 요소는 고유해야 합니다(중복이 허용되지 않습니다).\n",
    "        해시 테이블의 특성 상, 특정 요소가 집합에 포함되어 있는지 확인하는 in 연산은 \n",
    "        평균적으로 상수 시간(O(1))에 이루어집니다. \n",
    "        이는 해시 함수를 사용하여 요소의 존재 여부를 빠르게 검사할 수 있기 때문입니다.\n",
    "        하지만 최악의 경우(해시 충돌이 많을 때), 시간 복잡도는 O(n)에 이를 수 있지만, \n",
    "        이는 극히 드문 경우입니다."
   ]
  },
  {
   "cell_type": "code",
   "execution_count": null,
   "id": "165ea40f-2bc2-438c-aca2-2ea2598366ef",
   "metadata": {},
   "outputs": [
    {
     "name": "stdin",
     "output_type": "stream",
     "text": [
      " 1\n",
      " lol\n"
     ]
    },
    {
     "name": "stdout",
     "output_type": "stream",
     "text": [
      "1\n"
     ]
    }
   ],
   "source": [
    "cnt = 0\n",
    "N = int(input())\n",
    "for _ in range(N):\n",
    "    group_word = []\n",
    "    word = list(input())\n",
    "    for i in range(1, len(word)):\n",
    "        if word[i] == word[i-1] or word[i] not in group_word:\n",
    "            group_word.append(word[i])\n",
    "        else:\n",
    "            break\n",
    "    else:\n",
    "        cnt += 1\n",
    "print(cnt)"
   ]
  },
  {
   "cell_type": "markdown",
   "id": "9b653ec5-c858-401c-99e4-4f290a25bd80",
   "metadata": {},
   "source": [
    "# 문)25206\n",
    "https://www.acmicpc.net/problem/25206"
   ]
  },
  {
   "cell_type": "code",
   "execution_count": null,
   "id": "431390e1-f12a-4a48-9af8-d7f4958fd7c2",
   "metadata": {},
   "outputs": [],
   "source": [
    "import sys \n",
    "input = sys.stdin.readline\n",
    "\n",
    "grades = {\"A+\":4.5, \"A0\":4.0, \"B+\":3.5, \"B0\":3.0, \"C+\":2.5, \"C0\":2.0, \"D+\":1.5, \"D0\":1.0, \"F\":0}\n",
    "\n",
    "total = 0.0\n",
    "grade_total = 0.0\n",
    "\n",
    "for _ in range(20):\n",
    "    record = list(input().split())\n",
    "    if record[-1] == \"P\":\n",
    "        continue\n",
    "    else: \n",
    "        total += (float(grades[record[-1]]) * float(record[-2]))\n",
    "        grade_total += float(record[-2])\n",
    "\n",
    "\n",
    "GPA = total / grade_total\n",
    "\n",
    "print(f'{GPA:.4f}')"
   ]
  },
  {
   "cell_type": "code",
   "execution_count": null,
   "id": "df756ac0-5e7f-457b-904a-47357c44bef3",
   "metadata": {},
   "outputs": [],
   "source": [
    "3 3\n",
    "1 1 1\n",
    "2 2 2\n",
    "0 1 0\n",
    "3 3 3\n",
    "4 4 4\n",
    "5 5 100"
   ]
  },
  {
   "cell_type": "markdown",
   "id": "52bf4bce-69f9-47da-a7c8-afadc8cc11c6",
   "metadata": {},
   "source": [
    "# 문)2738\n",
    "https://www.acmicpc.net/problem/2738"
   ]
  },
  {
   "cell_type": "code",
   "execution_count": 13,
   "id": "4dc9b11f-239f-444e-830e-3065eda9e7e2",
   "metadata": {
    "tags": []
   },
   "outputs": [
    {
     "name": "stdin",
     "output_type": "stream",
     "text": [
      " 3 3\n",
      " 1 1 1\n",
      " 2 2 2\n",
      " 0 1 0\n",
      " 3 3 3\n",
      " 4 4 4\n",
      " 5 5 100\n"
     ]
    },
    {
     "name": "stdout",
     "output_type": "stream",
     "text": [
      "4 4 4\n",
      "6 6 6\n",
      "5 6 100\n"
     ]
    }
   ],
   "source": [
    "import sys\n",
    "\n",
    "input = sys.stdin.readline\n",
    "\n",
    "n, m = map(int, input().split())\n",
    "\n",
    "matrix1 = []\n",
    "matrix2 = []\n",
    "for _ in range(n):\n",
    "    temp = list(map(int, input().split()))\n",
    "    matrix1.append(temp)\n",
    "\n",
    "for _ in range(n):\n",
    "    temp = list(map(int, input().split()))\n",
    "    matrix2.append(temp)\n",
    "\n",
    "answer = []\n",
    "for _ in range(n):\n",
    "    temp = []\n",
    "    for _ in range(m):\n",
    "        temp.append(0)\n",
    "    answer.append(temp)\n",
    "    \n",
    "for i in range(n):\n",
    "    for j in range(m):\n",
    "        answer[i][j] = matrix1[i][j] + matrix2[i][j]\n",
    "        \n",
    "for i in range(n):\n",
    "    print(*answer[i])"
   ]
  },
  {
   "cell_type": "code",
   "execution_count": 25,
   "id": "18221747-af8e-4c28-94b0-a97c6fa49479",
   "metadata": {
    "tags": []
   },
   "outputs": [
    {
     "data": {
      "text/plain": [
       "-inf"
      ]
     },
     "execution_count": 25,
     "metadata": {},
     "output_type": "execute_result"
    }
   ],
   "source": []
  },
  {
   "cell_type": "markdown",
   "id": "f2862186-17cb-4ba5-91e5-28f8089365f6",
   "metadata": {},
   "source": [
    "# 문)2566\n",
    "https://www.acmicpc.net/problem/2566"
   ]
  },
  {
   "cell_type": "code",
   "execution_count": null,
   "id": "c5ad07ef-d201-4648-b496-b72b0ec1822f",
   "metadata": {},
   "outputs": [],
   "source": [
    "9×9 격자판에 쓰여진 81개의 수가 주어질 때, \n",
    "이들 중 최댓값을 찾고 그 최댓값이 몇 행 몇 열에 위치한 수인지 구하는 프로그램을 작성하시오.\n",
    "\n",
    "입력\n",
    "첫째 줄부터 아홉 번째 줄까지 한 줄에 아홉 개씩 수가 주어진다. \n",
    "주어지는 수는 100보다 작은 자연수 또는 0이다.\n",
    "\n",
    "출력\n",
    "첫째 줄에 최댓값을 출력하고, \n",
    "둘째 줄에 최댓값이 위치한 행 번호와 열 번호를 빈칸을 사이에 두고 차례로 출력한다.\n",
    "최댓값이 두 개 이상인 경우 그 중 한 곳의 위치를 출력한다."
   ]
  },
  {
   "cell_type": "markdown",
   "id": "1dd97f64-57b7-490e-91e1-f3a2a8c9d079",
   "metadata": {},
   "source": [
    "### 세번째 풀이"
   ]
  },
  {
   "cell_type": "code",
   "execution_count": null,
   "id": "049300fd-f68d-4e54-a4fc-a65cf3442ec0",
   "metadata": {},
   "outputs": [],
   "source": [
    "grid = []\n",
    "maximum = float('-inf')\n",
    "row = 0\n",
    "col = 0\n",
    "for i in range(1, 10):\n",
    "    rows = list(map(int, input().split()))\n",
    "    if max(rows) > maximum: # > : 처음 나온 최대값을 결과로 출력, >= : 맨 마지막 행에서 처음 나온 최대값\n",
    "        maximum = max(rows)\n",
    "        row = i\n",
    "        col = rows.index(maximum)\n",
    "print(maximum)\n",
    "print(row, col+1)"
   ]
  },
  {
   "cell_type": "markdown",
   "id": "33f048bc-5429-4ad0-8471-c0e25b085ddd",
   "metadata": {},
   "source": [
    "### 다른 풀이"
   ]
  },
  {
   "cell_type": "code",
   "execution_count": null,
   "id": "4fa8495b-b6c8-4c94-acfd-32e069dc0e0f",
   "metadata": {},
   "outputs": [],
   "source": [
    "grid = []\n",
    "maximum = float('-inf')\n",
    "row = 0\n",
    "col = 0\n",
    "for i in range(1, 10):\n",
    "    rows = list(map(int, input().split()))\n",
    "    for j in range(9):\n",
    "        if rows[j] >= maximum:#  >= : 맨 마지막으로 나오는 최대값\n",
    "            maximum = rows[j]\n",
    "            row = i\n",
    "            col = j\n",
    "print(maximum)\n",
    "print(row, col+1)"
   ]
  },
  {
   "cell_type": "markdown",
   "id": "cc4decbe-a1fa-42ff-bcaf-7b4d9ee6da91",
   "metadata": {},
   "source": [
    "# 문)10798\n",
    "https://www.acmicpc.net/problem/10798"
   ]
  },
  {
   "cell_type": "code",
   "execution_count": null,
   "id": "1ef025e2-a900-4888-ba5e-9a31f77cc78b",
   "metadata": {
    "tags": []
   },
   "outputs": [],
   "source": [
    "import sys\n",
    "\n",
    "table = []\n",
    "max_len = float(\"-inf\")\n",
    "for _ in range(5):                \n",
    "    string = input().rstrip()\n",
    "    if len(string) > max_len:\n",
    "        max_len = len(string)\n",
    "    string = \" \".join(string)\n",
    "    temp = string.split(\" \")\n",
    "    table.append(temp)\n",
    "\n",
    "for i in range(5):\n",
    "    for _ in range(max_len - len(table[i])):\n",
    "        table[i].append(\" \")\n",
    "\n",
    "answer = []\n",
    "for i in range(max_len):\n",
    "    vertical = []\n",
    "    for j in range(5):\n",
    "        vertical.append(table[j][i])\n",
    "    answer.append(\"\".join(vertical))\n",
    "result = \"\".join(answer)\n",
    "print(\"\".join(result.split()))"
   ]
  },
  {
   "cell_type": "code",
   "execution_count": null,
   "id": "3af44e13-607f-4fe7-998b-ebe5b37c9c3f",
   "metadata": {},
   "outputs": [],
   "source": [
    "words = [input().rstrip() for _ in range(5)]\n",
    "max_length = max(len(word) for word in words)   \n",
    "'''2차원 배열에 다 넣고, max_len을 구한다.\n",
    "나와 다른 점은 테이블을 만들지 않았고\n",
    "for문을 돌면서 매번 조건문을 확인하긴 해야 하지만 더 짧고 쉬운 코드로 바꿨다.\n",
    "'''\n",
    "\n",
    "words = [input().rstrip() for _ in range(5)]\n",
    "max_len = max(len(word) for word in words)\n",
    "\n",
    "result = []\n",
    "\n",
    "for i in range(max_len):\n",
    "    for word in words:\n",
    "        if i < len(word):  # 이 조건문이 영리한 지점이다.\n",
    "            result.append(word[i])\n",
    "\n",
    "result_str = \"\".join(result)\n",
    "print(result_str)"
   ]
  },
  {
   "cell_type": "code",
   "execution_count": null,
   "id": "0f2e1c70-d6a8-41a6-9d88-140bb6790df8",
   "metadata": {},
   "outputs": [],
   "source": []
  },
  {
   "cell_type": "markdown",
   "id": "327f2ffc-a816-4c1c-8a41-bcbeef5cf82f",
   "metadata": {},
   "source": [
    "# 문)2563\n",
    "https://www.acmicpc.net/problem/2563"
   ]
  },
  {
   "cell_type": "code",
   "execution_count": null,
   "id": "2df59b9d-0a8d-451c-856b-8f56c671672c",
   "metadata": {},
   "outputs": [],
   "source": [
    "문제\n",
    "가로, 세로의 크기가 각각 100인 정사각형 모양의 흰색 도화지가 있다. \n",
    "이 도화지 위에 가로, 세로의 크기가 각각 10인 정사각형 모양의 검은색 색종이를 붙인다. \n",
    "이러한 방식으로 색종이를 한 장 또는 여러 장 붙인 후 \n",
    "색종이가 붙은 검은 영역의 넓이를 구하는 프로그램을 작성하시오.\n",
    "\n",
    "첫째 줄에 색종이의 수가 주어진다. \n",
    "이어 둘째 줄부터 한 줄에 하나씩 색종이를 붙인 위치가 주어진다. \n",
    "색종이를 붙인 위치는 두 개의 자연수로 주어지는데 \n",
    "첫 번째 자연수는 색종이의 왼쪽 변과 도화지의 왼쪽 변 사이의 거리이고, \n",
    "두 번째 자연수는 색종이의 아래쪽 변과 도화지의 아래쪽 변 사이의 거리이다. \n",
    "색종이의 수는 100 이하이며, 색종이가 도화지 밖으로 나가는 경우는 없다\n",
    "\n",
    "출력\n",
    "첫째 줄에 색종이가 붙은 검은 영역의 넓이를 출력한다.\n",
    "\n",
    "예제 입력 1 \n",
    "3\n",
    "3 7\n",
    "15 7\n",
    "5 2\n",
    "예제 출력 1 \n",
    "260\n"
   ]
  },
  {
   "cell_type": "code",
   "execution_count": null,
   "id": "db63d31e-3544-4110-8c81-7d2e50c53227",
   "metadata": {},
   "outputs": [],
   "source": []
  },
  {
   "cell_type": "markdown",
   "id": "44f537af-9073-4914-8d23-f984dd6e846e",
   "metadata": {},
   "source": [
    "### 세번째 풀이"
   ]
  },
  {
   "cell_type": "code",
   "execution_count": 46,
   "id": "40912515-e56d-4229-b1ed-c95597ce6de1",
   "metadata": {
    "tags": []
   },
   "outputs": [
    {
     "name": "stdin",
     "output_type": "stream",
     "text": [
      " 3\n",
      " 3 7\n",
      " 15 7\n",
      " 5 2\n"
     ]
    },
    {
     "name": "stdout",
     "output_type": "stream",
     "text": [
      "260\n"
     ]
    }
   ],
   "source": [
    "N = int(input())\n",
    "grid = [[0 for i in range(100)] for i in range(100)]\n",
    "for _ in range(N):\n",
    "    left, down = map(int, input().split())\n",
    "    for i in range(90-down, 100-down):\n",
    "        for j in range(left, left+10):\n",
    "            grid[i][j] = 1\n",
    "cnt = 0\n",
    "for row in grid:\n",
    "    cnt += sum(row)\n",
    "print(cnt)"
   ]
  },
  {
   "cell_type": "markdown",
   "id": "8c906147-6944-4356-ac42-03fc4f69e831",
   "metadata": {},
   "source": [
    "### 다른 풀이"
   ]
  },
  {
   "cell_type": "code",
   "execution_count": null,
   "id": "be15ad2a-059e-4cb0-958a-ab987661a784",
   "metadata": {},
   "outputs": [],
   "source": [
    "N = int(input())  # 색종이의 수\n",
    "paper = [[0] * 100 for _ in range(100)]  # 100x100 도화지\n",
    "\n",
    "for _ in range(N):\n",
    "    left, bottom = map(int, input().split())  # 색종이의 위치\n",
    "    # 색종이 영역을 1로 표시\n",
    "    for i in range(left, left + 10):\n",
    "        for j in range(bottom, bottom + 10):\n",
    "            paper[i][j] = 1\n",
    "\n",
    "# 색종이가 붙은 영역의 넓이 계산\n",
    "area = sum(sum(row) for row in paper)\n",
    "print(area)"
   ]
  },
  {
   "cell_type": "code",
   "execution_count": 48,
   "id": "f44a6edc-3b5e-4065-a7f0-5fb746fc1464",
   "metadata": {
    "tags": []
   },
   "outputs": [
    {
     "data": {
      "text/plain": [
       "[[None, None, None, None, None, None, None, None, None, None],\n",
       " [None, None, None, None, None, None, None, None, None, None]]"
      ]
     },
     "execution_count": 48,
     "metadata": {},
     "output_type": "execute_result"
    }
   ],
   "source": [
    "a = [None] * 10\n",
    "b = []\n",
    "for _ in range(2):\n",
    "    b.append(a)\n",
    "b"
   ]
  },
  {
   "cell_type": "code",
   "execution_count": 49,
   "id": "80249b47-056a-4709-8f41-723cce48b80a",
   "metadata": {
    "tags": []
   },
   "outputs": [
    {
     "data": {
      "text/plain": [
       "[[3, None, None, None, None, None, None, None, None, None],\n",
       " [3, None, None, None, None, None, None, None, None, None]]"
      ]
     },
     "execution_count": 49,
     "metadata": {},
     "output_type": "execute_result"
    }
   ],
   "source": [
    "b[0][0] = 3\n",
    "b"
   ]
  },
  {
   "cell_type": "markdown",
   "id": "76882029-8bfb-4119-82fa-3a42915714c6",
   "metadata": {},
   "source": [
    "`grid = [[0 for _ in range(100)] for _ in range(100)]`와  \n",
    "`paper = [[0] * 100 for _ in range(100)]`는  \n",
    "두 개의 서로 다른 방식으로 100x100 크기의 2차원 리스트(배열)를 생성합니다. \n",
    "\n",
    "그러나 이 두 방식 사이에는 중요한 차이점이 있습니다:\n",
    "\n",
    "### List Comprehension을 사용한 초기화 (`pixel_board`)\n",
    "```python\n",
    "grid = [[0 for _ in range(100)] for _ in range(100)]\n",
    "```\n",
    "\n",
    "- 이 코드는 list comprehension을 사용하여 각 요소를 개별적으로 초기화합니다.\n",
    "- 각 행마다 별개의 리스트 객체가 생성됩니다.\n",
    "- 따라서 `grid`의 각 행은 서로 다른 메모리 위치에 저장된 독립적인 리스트입니다.\n",
    "- 이 방식은 각 행이 서로 독립적이어야 할 때 사용하는 것이 좋습니다.\n",
    "\n",
    "### 단일 리스트의 곱셈을 사용한 초기화 (`paper`)\n",
    "\n",
    "```python\n",
    "paper = [[0] * 100 for _ in range(100)]\n",
    "```\n",
    "\n",
    "- 이 코드는 단일 리스트 `[0] * 100`을 생성하고, 이를 100번 복제하여 2차원 리스트를 만듭니다.\n",
    "- 각 행은 동일한 리스트 객체의 참조를 가지게 됩니다.\n",
    "- 즉, 한 행의 값을 변경하면 동일한 객체를 참조하는 다른 행도 영향을 받습니다.\n",
    "- 그러나 이 코드는 정수와 같은 불변 객체를 초기값으로 사용하기 때문에, 이런 문제가 발생하지 않습니다.\n",
    "- 만약 가변 객체를 사용한다면 주의가 필요합니다.\n",
    "\n",
    "### 결론\n",
    "\n",
    "이 경우에는 두 방법 모두 100x100 크기의 2차원 리스트를 생성하며, 실제 동작에는 차이가 없습니다.   \n",
    "정수와 같은 불변 객체를 사용하기 때문에, 각 행이 서로 독립적이라는 점에서 두 방식 사이의 차이는 중요하지 않습니다.  \n",
    "그러나 가변 객체를 사용하는 경우에는 이 차이를 주의해야 합니다.  "
   ]
  },
  {
   "cell_type": "code",
   "execution_count": null,
   "id": "47742c05-faa9-4bde-b38f-6f54febb774a",
   "metadata": {},
   "outputs": [],
   "source": []
  },
  {
   "cell_type": "code",
   "execution_count": null,
   "id": "ad413240-cc5c-41ad-bd1e-b85438b63b45",
   "metadata": {},
   "outputs": [],
   "source": []
  },
  {
   "cell_type": "markdown",
   "id": "1b7ff7ed-42d6-417b-b08e-c57f5dd4998f",
   "metadata": {},
   "source": [
    "# 문)2745 \n",
    "https://www.acmicpc.net/problem/2745"
   ]
  },
  {
   "cell_type": "code",
   "execution_count": 1,
   "id": "c9ea383f-3ce3-4709-8cc6-7eb388208493",
   "metadata": {},
   "outputs": [
    {
     "name": "stdin",
     "output_type": "stream",
     "text": [
      " ZZZZZ 36\n"
     ]
    },
    {
     "data": {
      "text/plain": [
       "60466175"
      ]
     },
     "execution_count": 1,
     "metadata": {},
     "output_type": "execute_result"
    }
   ],
   "source": [
    "import sys\n",
    "\n",
    "input = sys.stdin.readline\n",
    "\n",
    "n, b = input().split()\n",
    "\n",
    "b = int(b)\n",
    "\n",
    "dchar = dict()\n",
    "for i in range(65, 91):\n",
    "    dchar[chr(i)] = i-55\n",
    "    \n",
    "for i in range(10):\n",
    "    dchar[str(i)] = i\n",
    "    \n",
    "answer = 0\n",
    "for i in range(len(n)):\n",
    "    answer += int(dchar[n[i]])*(b**((len(n)-1)-i))\n",
    "\n",
    "print(answer)"
   ]
  },
  {
   "cell_type": "code",
   "execution_count": null,
   "id": "79bc2354-88c4-45ba-991b-056c29a53da4",
   "metadata": {},
   "outputs": [],
   "source": [
    "def convert_base_to_decimal(N, B):\n",
    "\n",
    "    digit_map = {str(i): i for i in range(10)}                 # 딕셔너리 컴프리헨션 사용\n",
    "    digit_map.update({chr(i + 55): i for i in range(10, 36)})\n",
    "\n",
    "    decimal_value = 0\n",
    "    for digit in N:\n",
    "        decimal_value = B * decimal_value + digit_map[digit]\n",
    "        '''1568\n",
    "        10 * 0 + 1\n",
    "        10 * 1 + 5\n",
    "        10 * 50 + 6\n",
    "        10 * 156 + 8\n",
    "        '''\n",
    "    return decimal_value\n",
    "\n",
    "# 예시 입력\n",
    "N, B = input().split()\n",
    "B = int(B)\n",
    "\n",
    "answer = convert_base_to_decimal(N, B)\n",
    "print(answer)"
   ]
  },
  {
   "cell_type": "markdown",
   "id": "dfb02425-cf41-49cb-8aeb-f1bef6149c91",
   "metadata": {},
   "source": [
    "# 문)11005\n",
    "https://www.acmicpc.net/problem/11005"
   ]
  },
  {
   "cell_type": "code",
   "execution_count": null,
   "id": "fe61c017-6c31-448b-9818-f3d285cde235",
   "metadata": {},
   "outputs": [],
   "source": [
    "문제\n",
    "10진법 수 N이 주어진다. 이 수를 B진법으로 바꿔 출력하는 프로그램을 작성하시오.\n",
    "\n",
    "10진법을 넘어가는 진법은 숫자로 표시할 수 없는 자리가 있다. 이런 경우에는 다음과 같이 알파벳 대문자를 사용한다.\n",
    "\n",
    "A: 10, B: 11, ..., F: 15, ..., Y: 34, Z: 35\n",
    "\n",
    "입력\n",
    "첫째 줄에 N과 B가 주어진다. (2 ≤ B ≤ 36) N은 10억보다 작거나 같은 자연수이다.\n",
    "\n",
    "출력\n",
    "첫째 줄에 10진법 수 N을 B진법으로 출력한다.\n",
    "\n",
    "예제 입력 1 \n",
    "60466175 36\n",
    "예제 출력 1 \n",
    "ZZZZZ"
   ]
  },
  {
   "cell_type": "code",
   "execution_count": 4,
   "id": "16d9177e-b655-439a-bbbd-01368f535430",
   "metadata": {
    "tags": []
   },
   "outputs": [
    {
     "name": "stdin",
     "output_type": "stream",
     "text": [
      " 60466175 36\n"
     ]
    },
    {
     "name": "stdout",
     "output_type": "stream",
     "text": [
      "ZZZZZ\n"
     ]
    }
   ],
   "source": [
    "import sys\n",
    "\n",
    "N, B = map(int, input().split())\n",
    "\n",
    "dchar = \"0123456789ABCDEFGHIJKLMNOPQRSTUVWXYZ\"\n",
    "\n",
    "answer = \"\"\n",
    "\n",
    "while N > 0:\n",
    "    \n",
    "    answer += dchar[N % B]\n",
    "    N = N // B\n",
    "    \n",
    "print(answer[::-1])\n"
   ]
  },
  {
   "cell_type": "markdown",
   "id": "a48c24c2-181d-43c2-90b9-2855f6b90130",
   "metadata": {},
   "source": [
    "### 두번째 풀이"
   ]
  },
  {
   "cell_type": "code",
   "execution_count": null,
   "id": "3519ae08-4782-49c5-999f-9ed90208d144",
   "metadata": {},
   "outputs": [],
   "source": [
    "import sys\n",
    "\n",
    "input = sys.stdin.readline\n",
    "\n",
    "N, B = map(int, input().split())\n",
    "\n",
    "dchar = \"0123456789ABCDEFGHIJKLMNOPQRSTUVWXYZ\"\n",
    "\n",
    "d = []\n",
    "while N != 0:\n",
    "    rest = N % B\n",
    "    d.append(dchar[rest])\n",
    "    N = N // B\n",
    "\n",
    "answer = reversed(d)\n",
    "print(\"\".join(answer))"
   ]
  },
  {
   "cell_type": "code",
   "execution_count": 29,
   "id": "d47255ac-a2ef-4b8b-a791-f491327ac172",
   "metadata": {
    "tags": []
   },
   "outputs": [
    {
     "name": "stdout",
     "output_type": "stream",
     "text": [
      "0xff\n"
     ]
    }
   ],
   "source": [
    "print(hex(255))"
   ]
  },
  {
   "cell_type": "code",
   "execution_count": 31,
   "id": "3901ae6f-27ab-47c2-87da-1a67868841ed",
   "metadata": {
    "tags": []
   },
   "outputs": [
    {
     "name": "stdout",
     "output_type": "stream",
     "text": [
      "255\n"
     ]
    }
   ],
   "source": [
    "print(int('FF', 16))"
   ]
  },
  {
   "cell_type": "code",
   "execution_count": 34,
   "id": "51738047-0ea7-43c8-bdd5-e2f49de6c92f",
   "metadata": {
    "tags": []
   },
   "outputs": [
    {
     "data": {
      "text/plain": [
       "(15, 15)"
      ]
     },
     "execution_count": 34,
     "metadata": {},
     "output_type": "execute_result"
    }
   ],
   "source": [
    "divmod(255,16)"
   ]
  },
  {
   "cell_type": "code",
   "execution_count": 38,
   "id": "0b05ee5a-6a2f-4747-be11-724308609f45",
   "metadata": {
    "tags": []
   },
   "outputs": [
    {
     "data": {
      "text/plain": [
       "(0, 15)"
      ]
     },
     "execution_count": 38,
     "metadata": {},
     "output_type": "execute_result"
    }
   ],
   "source": [
    "divmod(15, 16)"
   ]
  },
  {
   "cell_type": "markdown",
   "id": "91059c57-7e4d-402e-b923-a16b1f53265b",
   "metadata": {},
   "source": [
    "# 문)2720\n",
    "https://www.acmicpc.net/problem/2720"
   ]
  },
  {
   "cell_type": "code",
   "execution_count": 7,
   "id": "0df79d60-4385-4983-abdc-15b656883f24",
   "metadata": {
    "tags": []
   },
   "outputs": [
    {
     "ename": "ValueError",
     "evalue": "invalid literal for int() with base 10: ''",
     "output_type": "error",
     "traceback": [
      "\u001b[0;31m---------------------------------------------------------------------------\u001b[0m",
      "\u001b[0;31mValueError\u001b[0m                                Traceback (most recent call last)",
      "Cell \u001b[0;32mIn[7], line 6\u001b[0m\n\u001b[1;32m      1\u001b[0m \u001b[38;5;28;01mimport\u001b[39;00m \u001b[38;5;21;01msys\u001b[39;00m\n\u001b[1;32m      4\u001b[0m \u001b[38;5;28minput\u001b[39m \u001b[38;5;241m=\u001b[39m sys\u001b[38;5;241m.\u001b[39mstdin\u001b[38;5;241m.\u001b[39mreadline\n\u001b[0;32m----> 6\u001b[0m n \u001b[38;5;241m=\u001b[39m \u001b[38;5;28mint\u001b[39m(\u001b[38;5;28minput\u001b[39m())\n\u001b[1;32m      8\u001b[0m quater \u001b[38;5;241m=\u001b[39m \u001b[38;5;241m25\u001b[39m\n\u001b[1;32m      9\u001b[0m dime \u001b[38;5;241m=\u001b[39m \u001b[38;5;241m10\u001b[39m\n",
      "\u001b[0;31mValueError\u001b[0m: invalid literal for int() with base 10: ''"
     ]
    }
   ],
   "source": [
    "import sys\n",
    "\n",
    "input = sys.stdin.readline\n",
    "\n",
    "n = int(input())\n",
    "\n",
    "quarter = 25\n",
    "dime = 10\n",
    "nickel = 5\n",
    "penny = 1\n",
    "\n",
    "for _ in range(n):\n",
    "    c = int(input().rstrip())\n",
    "    q = c//quarter\n",
    "    print(q, end=\" \")\n",
    "    q_rest = c % quarter\n",
    "    \n",
    "    d = q_rest // dime\n",
    "    print(d, end=\" \")\n",
    "    d_rest = q_rest % dime\n",
    "    \n",
    "    n = d_rest // nickel \n",
    "    print(n, end=\" \")\n",
    "    n_rest = d_rest % nickel\n",
    "    \n",
    "    p = n_rest // penny\n",
    "    print(p)"
   ]
  },
  {
   "cell_type": "code",
   "execution_count": 2,
   "id": "1ec45a68-1a66-4ae5-8b03-4b80d48450e9",
   "metadata": {
    "tags": []
   },
   "outputs": [
    {
     "name": "stdin",
     "output_type": "stream",
     "text": [
      " 3\n",
      " 124\n"
     ]
    },
    {
     "name": "stdout",
     "output_type": "stream",
     "text": [
      "4 2 0 4\n"
     ]
    },
    {
     "name": "stdin",
     "output_type": "stream",
     "text": [
      " 95\n"
     ]
    },
    {
     "name": "stdout",
     "output_type": "stream",
     "text": [
      "3 2 0 0\n"
     ]
    },
    {
     "name": "stdin",
     "output_type": "stream",
     "text": [
      " 194\n"
     ]
    },
    {
     "name": "stdout",
     "output_type": "stream",
     "text": [
      "7 1 1 4\n"
     ]
    }
   ],
   "source": [
    "import sys\n",
    "\n",
    "input = sys.stdin.readline\n",
    "\n",
    "def calculate_rests(cents):\n",
    "    \n",
    "    coins = [25, 10, 5, 1]  # quarter, dime, nickel, penny\n",
    "    rests = []\n",
    "\n",
    "    for coin in coins:\n",
    "        count, cents = divmod(cents, coin)\n",
    "        rests.append(str(count))\n",
    "\n",
    "    return rests\n",
    "\n",
    "n = int(input())\n",
    "\n",
    "for _ in range(n):\n",
    "    result = calculate_rests(int(input()))\n",
    "    print(\" \".join(result))"
   ]
  },
  {
   "cell_type": "markdown",
   "id": "4d3cfb35-38d5-48cc-9ff1-05b3deffd68a",
   "metadata": {
    "tags": []
   },
   "source": [
    "# 문)2292\n",
    "https://www.acmicpc.net/problem/2292"
   ]
  },
  {
   "cell_type": "code",
   "execution_count": null,
   "id": "91b50fc5-fa3f-4ffa-a476-a74b906b86c0",
   "metadata": {},
   "outputs": [],
   "source": [
    "1 : 2,3,4,5,6,7\n",
    "\n",
    "2 : 8,9,10,11,12,13\n",
    "    14,15,16,17,18,19\n",
    "\n",
    "3 : 20\n",
    "    26\n",
    "    32,33,34,35,36,37\n",
    "\n",
    "입력\n",
    "첫째 줄에 N(1 ≤ N ≤ 1,000,000,000)이 주어진다.\n",
    "\n",
    "출력\n",
    "입력으로 주어진 방까지 최소 개수의 방을 지나서 갈 때 몇 개의 방을 지나는지 출력한다."
   ]
  },
  {
   "cell_type": "markdown",
   "id": "d322b2f4-89e8-4158-8270-2c598ffa483a",
   "metadata": {},
   "source": [
    "![hive](벌집.png)"
   ]
  },
  {
   "cell_type": "markdown",
   "id": "07127cf8-145d-4e16-a178-ef3cb3401cb2",
   "metadata": {},
   "source": [
    "### 첫번째 시도 \n",
    "풂"
   ]
  },
  {
   "cell_type": "code",
   "execution_count": 11,
   "id": "2f4050ca-be7b-4c3b-8a92-2b6462860d35",
   "metadata": {
    "tags": []
   },
   "outputs": [
    {
     "name": "stdin",
     "output_type": "stream",
     "text": [
      " 1\n"
     ]
    },
    {
     "name": "stdout",
     "output_type": "stream",
     "text": [
      "2\n"
     ]
    }
   ],
   "source": [
    "import sys\n",
    "\n",
    "# input = sys.stdin.readline\n",
    "\n",
    "n = int(input())\n",
    "a = 2\n",
    "i = 1\n",
    "while True:\n",
    "    a += (6*i+1)\n",
    "    i += 1\n",
    "    r = a - i\n",
    "    if n <= r:\n",
    "        break\n",
    "if n == 1:\n",
    "    print(1)\n",
    "else:\n",
    "    print(i-1+1)"
   ]
  },
  {
   "cell_type": "markdown",
   "id": "82b3d6ce-61e8-4db5-8a31-2538fa237c95",
   "metadata": {
    "tags": []
   },
   "source": [
    "### 두번째 시도\n",
    "풂"
   ]
  },
  {
   "cell_type": "code",
   "execution_count": 101,
   "id": "ebfa4e6d-0417-4b56-96fa-cc00ea26607e",
   "metadata": {
    "tags": []
   },
   "outputs": [
    {
     "name": "stdin",
     "output_type": "stream",
     "text": [
      " 1\n"
     ]
    },
    {
     "name": "stdout",
     "output_type": "stream",
     "text": [
      "1\n",
      "2\n"
     ]
    }
   ],
   "source": [
    "N = int(input())\n",
    "\n",
    "prev = 0\n",
    "n = 1\n",
    "while True:\n",
    "    left = prev\n",
    "    total = 6*n + prev\n",
    "    prev = total\n",
    "    total += 1\n",
    "    n += 1\n",
    "    if left < N <= total:\n",
    "        break\n",
    "        \n",
    "if N == 1:\n",
    "    print(N)\n",
    "else: print(n)"
   ]
  },
  {
   "cell_type": "markdown",
   "id": "f8cd2d6d-ac79-4c06-a17a-f0771993d0d7",
   "metadata": {},
   "source": [
    "### chatGPT 풀이"
   ]
  },
  {
   "cell_type": "code",
   "execution_count": null,
   "id": "d41ec4ed-9664-4af5-82e0-3401974490c6",
   "metadata": {},
   "outputs": [],
   "source": [
    "from math import sqrt, ceil\n",
    "\n",
    "def find_layer(N):\n",
    "    if N == 1:\n",
    "        return N  # 1일 경우 바로 1을 반환\n",
    "    # 이차방정식의 계수\n",
    "    a = 3\n",
    "    b = -3\n",
    "    c = 1 - N\n",
    "    # 이차방정식의 해 (양의 해만 고려)\n",
    "    n = ( -b + sqrt(b**2 - 4*a*c) ) / (2*a)\n",
    "    # n이 정수가 아닐 수 있으므로 올림 처리하여 레이어 계산\n",
    "    return ceil(n)\n",
    "\n",
    "# 사용 예\n",
    "N = int(input())\n",
    "print(find_layer(N))"
   ]
  },
  {
   "cell_type": "markdown",
   "id": "70aa6f12-c413-458b-8dc6-f8eed28ed83b",
   "metadata": {},
   "source": [
    "# 문)1193\n",
    "https://www.acmicpc.net/problem/1193 "
   ]
  },
  {
   "cell_type": "markdown",
   "id": "59a7f2f7-69ff-4510-b93d-164fe7aa9383",
   "metadata": {},
   "source": [
    "![diagonal](대각선.png)"
   ]
  },
  {
   "cell_type": "code",
   "execution_count": null,
   "id": "9453de81-64e4-45ce-a8c9-7e8df38c400f",
   "metadata": {},
   "outputs": [],
   "source": [
    "이와 같이 나열된 분수들을 \n",
    "1/1 → 1/2 → 2/1 → 3/1 → 2/2 → … 과 같은 지그재그 순서로 \n",
    "차례대로 1번, 2번, 3번, 4번, 5번, … 분수라고 하자.\n",
    "\n",
    "X가 주어졌을 때, X번째 분수를 구하는 프로그램을 작성하시오.\n",
    "\n",
    "입력\n",
    "첫째 줄에 X(1 ≤ X ≤ 10,000,000)가 주어진다.\n",
    "\n",
    "출력\n",
    "첫째 줄에 분수를 출력한다.\n",
    "\n",
    "예제 입력 1 \n",
    "1\n",
    "예제 출력 1 \n",
    "1/1"
   ]
  },
  {
   "cell_type": "markdown",
   "id": "c99bc1bf-1510-44e7-be88-b2e9b49313ad",
   "metadata": {},
   "source": [
    "### 두번째 시도\n",
    "풂"
   ]
  },
  {
   "cell_type": "code",
   "execution_count": 130,
   "id": "f86cbb26-3d42-43a2-9a12-289d59b45c0f",
   "metadata": {
    "tags": []
   },
   "outputs": [
    {
     "name": "stdin",
     "output_type": "stream",
     "text": [
      " 5\n"
     ]
    },
    {
     "name": "stdout",
     "output_type": "stream",
     "text": [
      "2/2\n"
     ]
    }
   ],
   "source": [
    "N = int(input())\n",
    "line_num = 1\n",
    "prev = 0\n",
    "while True:\n",
    "    order = (line_num*(line_num+1))//2\n",
    "    if prev < N <= order:\n",
    "        break\n",
    "    line_num+=1\n",
    "    prev = order\n",
    "order = N - prev\n",
    "\n",
    "result = []\n",
    "if line_num % 2 != 0:\n",
    "    for n in range(1, line_num+1):\n",
    "        result.append(str(line_num-n+1)+'/'+str(n))\n",
    "    print(result[order-1])\n",
    "else:\n",
    "    for n in range(1, line_num+1):\n",
    "        result.append(str(n)+'/'+str(line_num-n+1))\n",
    "    print(result[order-1])"
   ]
  },
  {
   "cell_type": "markdown",
   "id": "9d4d9574-1491-4174-8a2e-84b8d13924c4",
   "metadata": {},
   "source": [
    "### chatGPT 최적화"
   ]
  },
  {
   "cell_type": "code",
   "execution_count": 131,
   "id": "362b4076-d329-4864-96f9-66f717e088cc",
   "metadata": {
    "tags": []
   },
   "outputs": [
    {
     "name": "stdin",
     "output_type": "stream",
     "text": [
      " 5\n"
     ]
    },
    {
     "name": "stdout",
     "output_type": "stream",
     "text": [
      "2/2\n"
     ]
    }
   ],
   "source": [
    "from math import sqrt, ceil\n",
    "\n",
    "def find_fraction(N):\n",
    "    # 대각선 번호(line_num) 찾기\n",
    "    line_num = int(ceil((sqrt(8*N + 1) - 1) / 2))  # 근의 공식 사용\n",
    "\n",
    "    # 해당 대각선 내에서의 순서(order)\n",
    "    prev = (line_num * (line_num - 1)) // 2\n",
    "    order = N - prev\n",
    "\n",
    "    # 분수 계산\n",
    "    if line_num % 2 == 0:\n",
    "        numerator = order\n",
    "        denominator = line_num - order + 1\n",
    "    else:\n",
    "        numerator = line_num - order + 1\n",
    "        denominator = order\n",
    "\n",
    "    return f\"{numerator}/{denominator}\"\n",
    "\n",
    "# 사용 예\n",
    "N = int(input())\n",
    "print(find_fraction(N))"
   ]
  },
  {
   "cell_type": "code",
   "execution_count": 8,
   "id": "a06bdc45-5845-4181-9cff-3bf7f792b2a4",
   "metadata": {
    "tags": []
   },
   "outputs": [
    {
     "name": "stdout",
     "output_type": "stream",
     "text": [
      "None\n",
      "[1, 2, 3, 4, 5, 6, 4, 5, 6]\n"
     ]
    }
   ],
   "source": [
    "'''extend :\n",
    "한 리스트의 모든 요소를 \n",
    "다른 리스트의 끝에 추가하는 데 사용됩니다. \n",
    "extend는 원본 리스트를 직접 수정합니다. 새로운 리스트를 생성하지 않습니다.\n",
    "바꿔말해 extend 메서드의 반환 값은 없습니다(즉, None을 반환합니다).\n",
    "+ 연산자와의 차이: + 연산자를 사용하여 두 리스트를 결합할 수도 있지만, 이는 새로운 리스트를 생성합니다. \n",
    "extend는 기존 리스트를 확장하고, 새로운 리스트를 생성하지 않습니다.\n",
    "'''\n",
    "list1 = [1, 2, 3]\n",
    "list2 = [4, 5, 6]\n",
    "\n",
    "k = list1.extend(list2)\n",
    "print(k)\n",
    "\n",
    "list3 = list1 + list2\n",
    "print(list3)"
   ]
  },
  {
   "cell_type": "markdown",
   "id": "4a45fa7e-cb76-4ca2-b96e-57ff5c065485",
   "metadata": {},
   "source": [
    "### 다른 풀이"
   ]
  },
  {
   "cell_type": "code",
   "execution_count": 138,
   "id": "32c6a946-3417-4c32-a570-f4dd9bbe3289",
   "metadata": {
    "tags": []
   },
   "outputs": [
    {
     "name": "stdin",
     "output_type": "stream",
     "text": [
      " 12\n"
     ]
    },
    {
     "name": "stdout",
     "output_type": "stream",
     "text": [
      "4/2\n"
     ]
    }
   ],
   "source": [
    "# 사용자로부터 순서 번호 x를 입력받음\n",
    "x = int(input())\n",
    "\n",
    "\n",
    "num_in_line = 0         # 현재 대각선에 있는 분수의 개수 (1, 2, 3, 4, ... 자연수 수열) \n",
    "                        # 동시에 대각선의 순번이기도 함.\n",
    "total_num_in_line = 0   # 현재 대각선까지의 총 분수 개수\n",
    "\n",
    "# x가 속한 대각선을 찾기 위한 반복문\n",
    "while x > total_num_in_line:  # x는 찾고자하는 분수의 순번이고, total은 대각선별 분수개수의 누적합이므로, \n",
    "                              # x > total_num_in_line의 뜻은 \n",
    "                              # x의 순번에 이를 때까지 대각선 개수와, 총 분수개수를 계산하겠단 것이다.\n",
    "                              # x <= total_num_in_line 이 되면 \n",
    "                              # 그 때의 num_in_line은 x가 속한 대각선이 되고 \n",
    "                              # x의 순번은 total_num_in_line 안에 들어오게 된다                \n",
    "    num_in_line += 1 # 다음 대각선으로 이동\n",
    "    total_num_in_line += num_in_line  # 대각선의 분수개수를 누적\n",
    "\n",
    "# x가 속한 대각선에서의 위치를 계산\n",
    "position_in_line = num_in_line-(total_num_in_line-x)\n",
    "\n",
    "# 대각선의 방향에 따라 분수의 분자와 분모를 계산\n",
    "if num_in_line % 2 == 1:  # 홀수번째 대각선의 경우 (오른쪽 위 방향) 분자는 감소하고 분모는 증가한다.\n",
    "    \n",
    "    numerator = num_in_line - position_in_line + 1 \n",
    "    # 홀수번째 대각선일 땐, 분자는 감소하므로 뒤에서부터 세야 한다. \n",
    "    denominator = position_in_line  \n",
    "    # 홀수번째 대각선일 땐 분모를 그냥 position_in_line 이 값으로 해줘도 문제가 없다. \n",
    "    # 분모는 +1씩 증가하므로\n",
    "    \n",
    "else:  # 짝수번째 대각선의 경우 (왼쪽 아래 방향) 분자는 증가하고 분모는 감소한다.\n",
    "    \n",
    "    numerator = position_in_line \n",
    "    # 짝수번째 대각선일 땐 분자를 그냥 position_in_line 이 값으로 해줘도 문제가 없다. \n",
    "    # 분자는 +1씩 증가하므로\n",
    "    denominator = num_in_line - position_in_line + 1\n",
    "\n",
    "# 계산된 분수를 출력\n",
    "print(f'{numerator}/{denominator}')\n"
   ]
  },
  {
   "cell_type": "code",
   "execution_count": 139,
   "id": "90193038-0f55-4171-94cb-563cddd34973",
   "metadata": {
    "tags": []
   },
   "outputs": [
    {
     "data": {
      "text/plain": [
       "15"
      ]
     },
     "execution_count": 139,
     "metadata": {},
     "output_type": "execute_result"
    }
   ],
   "source": [
    "total_num_in_line"
   ]
  },
  {
   "cell_type": "code",
   "execution_count": 140,
   "id": "3aa1e56a-8aea-4c9c-a08f-8408997002bc",
   "metadata": {
    "tags": []
   },
   "outputs": [
    {
     "data": {
      "text/plain": [
       "5"
      ]
     },
     "execution_count": 140,
     "metadata": {},
     "output_type": "execute_result"
    }
   ],
   "source": [
    "num_in_line"
   ]
  },
  {
   "cell_type": "code",
   "execution_count": 141,
   "id": "a07134ea-6063-4b54-9e8f-aff88612fbfa",
   "metadata": {
    "tags": []
   },
   "outputs": [
    {
     "data": {
      "text/plain": [
       "12"
      ]
     },
     "execution_count": 141,
     "metadata": {},
     "output_type": "execute_result"
    }
   ],
   "source": [
    "x"
   ]
  },
  {
   "cell_type": "code",
   "execution_count": null,
   "id": "d8afcda0-510f-48e0-b6e5-9a8b4196a805",
   "metadata": {},
   "outputs": [],
   "source": [
    "num_in_line-(total_num_in_line-x)"
   ]
  },
  {
   "cell_type": "code",
   "execution_count": 12,
   "id": "2adee758-ff42-48b6-97c7-7cfc18faf71b",
   "metadata": {
    "tags": []
   },
   "outputs": [
    {
     "data": {
      "text/plain": [
       "6"
      ]
     },
     "execution_count": 12,
     "metadata": {},
     "output_type": "execute_result"
    }
   ],
   "source": [
    "        '''\n",
    "        1 2 3 4 5 6 7 8 9 10\n",
    "    >>> 이 방향으로 세면 서수는\n",
    "      0 부터 시작한다. 다시 말해 \n",
    " 0부터  +1+2+3... 그런데\n",
    "        1 2 3 4 5 6 7 8 9 10\n",
    "                             <<< 이 방향으로 세면 서수는 10부터 시작한다.\n",
    "        예를 들어 뒤에서 세번째 수는\n",
    "        10, 9, 8이 되는데\n",
    "        앞에서 세번째수를 셀 때 3을 더했으니까\n",
    "        뒤에서 세번째 수도 3을 빼면 된다고 생각하면\n",
    "        10-3 = 7, 뒤에서 네번째 수가 나오게 된다. \n",
    "        뒤에서 세번째수는 8이다.\n",
    "        8은 10에서 3을 빼고 1을 더한수다.\n",
    "        앞에서 셀 때처럼 그냥 3만 더하면 안되는 이유는\n",
    "        뒤에서 세면 0이 아니라 10부터 시작하기 때문이다. \n",
    "        좀더 정확히 말하면 10부터 센게 아니라 10을 건너뛰고 9부터 세게 되기 때문이다.\n",
    "        따라서 num_in_line - position_in_line 에 1을 더해줘야 한다.\n",
    "        '''"
   ]
  },
  {
   "cell_type": "markdown",
   "id": "515876c5-51d7-4a04-b487-8b202048ff56",
   "metadata": {},
   "source": [
    "# 문)2869\n",
    "https://www.acmicpc.net/problem/2869"
   ]
  },
  {
   "cell_type": "code",
   "execution_count": null,
   "id": "56655596-887d-41e7-93fe-7c4e899ee2d2",
   "metadata": {},
   "outputs": [],
   "source": [
    "문제\n",
    "땅 위에 달팽이가 있다. 이 달팽이는 높이가 V미터인 나무 막대를 올라갈 것이다.\n",
    "\n",
    "달팽이는 낮에 A미터 올라갈 수 있다. 하지만, 밤에 잠을 자는 동안 B미터 미끄러진다. \n",
    "또, 정상에 올라간 후에는 미끄러지지 않는다.\n",
    "\n",
    "달팽이가 나무 막대를 모두 올라가려면, 며칠이 걸리는지 구하는 프로그램을 작성하시오.\n",
    "\n",
    "입력\n",
    "첫째 줄에 세 정수 A, B, V가 공백으로 구분되어서 주어진다. (1 ≤ B < A ≤ V ≤ 1,000,000,000)\n",
    "\n",
    "출력\n",
    "첫째 줄에 달팽이가 나무 막대를 모두 올라가는데 며칠이 걸리는지 출력한다.\n",
    "\n",
    "예제 입력 1 \n",
    "2 1 5\n",
    "예제 출력 1 \n",
    "4"
   ]
  },
  {
   "cell_type": "code",
   "execution_count": 28,
   "id": "f3f7174b-cd5c-46ec-9302-7d6a6e55aa29",
   "metadata": {
    "tags": []
   },
   "outputs": [
    {
     "name": "stdin",
     "output_type": "stream",
     "text": [
      " 100 99 1000000000\n"
     ]
    },
    {
     "ename": "KeyboardInterrupt",
     "evalue": "",
     "output_type": "error",
     "traceback": [
      "\u001b[0;31m---------------------------------------------------------------------------\u001b[0m",
      "\u001b[0;31mKeyboardInterrupt\u001b[0m                         Traceback (most recent call last)",
      "Cell \u001b[0;32mIn[28], line 9\u001b[0m\n\u001b[1;32m      7\u001b[0m x \u001b[38;5;241m=\u001b[39m \u001b[38;5;241m0\u001b[39m\n\u001b[1;32m      8\u001b[0m days \u001b[38;5;241m=\u001b[39m \u001b[38;5;241m0\u001b[39m\n\u001b[0;32m----> 9\u001b[0m \u001b[38;5;28;01mwhile\u001b[39;00m \u001b[38;5;28;01mTrue\u001b[39;00m:\n\u001b[1;32m     10\u001b[0m     x \u001b[38;5;241m+\u001b[39m\u001b[38;5;241m=\u001b[39m up\n\u001b[1;32m     11\u001b[0m     days \u001b[38;5;241m+\u001b[39m\u001b[38;5;241m=\u001b[39m \u001b[38;5;241m1\u001b[39m\n",
      "\u001b[0;31mKeyboardInterrupt\u001b[0m: "
     ]
    }
   ],
   "source": [
    "import sys\n",
    "\n",
    "# input = sys.stdin.readline\n",
    "\n",
    "up, down, goal = map(int, input().split())\n",
    "\n",
    "x = 0\n",
    "days = 0\n",
    "while True:\n",
    "    x += up\n",
    "    days += 1\n",
    "    if x >= goal:\n",
    "        break\n",
    "    x -= down\n",
    "print(days)"
   ]
  },
  {
   "cell_type": "code",
   "execution_count": null,
   "id": "570c5bb0-eb8f-44b9-a8e9-4a69f09c648d",
   "metadata": {},
   "outputs": [],
   "source": [
    "import math\n",
    "import sys\n",
    "\n",
    "input = sys.stdin.readline\n",
    "\n",
    "def calculate_days_to_climb(up, down, goal):\n",
    "    # 마지막 날을 제외하고 올라가야 하는 높이 \n",
    "    height_before_last_day = goal - up # 일단 목표높이에 올라가면 안떨어지므로 \n",
    "\n",
    "    # 하루에 실제로 올라가는 높이\n",
    "    actual_up = up - down\n",
    "\n",
    "    # 마지막 날을 제외하고 올라가는 데 걸리는 일수\n",
    "    days = math.ceil(height_before_last_day / actual_up)\n",
    "\n",
    "    # 마지막 날 추가\n",
    "    return days + 1\n",
    "\n",
    "# 예시 입력\n",
    "up, down, goal = map(int, input().split())\n",
    "answer = calculate_days_to_climb(up, down, goal)\n",
    "print(answer)"
   ]
  },
  {
   "cell_type": "code",
   "execution_count": 31,
   "id": "f11fd117-4ed2-4f64-ad4b-1214f9c6f99c",
   "metadata": {
    "tags": []
   },
   "outputs": [
    {
     "data": {
      "text/plain": [
       "3"
      ]
     },
     "execution_count": 31,
     "metadata": {},
     "output_type": "execute_result"
    }
   ],
   "source": [
    "round(int(3.6))"
   ]
  },
  {
   "cell_type": "code",
   "execution_count": 1,
   "id": "fee39cb3-dfa5-41e0-906b-ab317dfd4c8e",
   "metadata": {},
   "outputs": [
    {
     "data": {
      "text/plain": [
       "4"
      ]
     },
     "execution_count": 1,
     "metadata": {},
     "output_type": "execute_result"
    }
   ],
   "source": [
    "import math\n",
    "\n",
    "math.ceil(3.1)"
   ]
  },
  {
   "cell_type": "markdown",
   "id": "6bfb53fc-029e-4d9f-9838-fb06c8a2de07",
   "metadata": {},
   "source": [
    "### 두번째 시도"
   ]
  },
  {
   "cell_type": "code",
   "execution_count": null,
   "id": "bd00f5b2-5522-4380-aea4-c9345b12db72",
   "metadata": {},
   "outputs": [],
   "source": [
    "A, B, V = map(int, input().split())\n",
    "\n",
    "up = A-B\n",
    "days, remainder = divmod(V-A, up)\n",
    "if remainder > 0:\n",
    "    print(days+2)\n",
    "else:\n",
    "    print(days+1)"
   ]
  },
  {
   "cell_type": "markdown",
   "id": "4e7cbdc6-92db-4ad6-81f8-02e9e7746dbc",
   "metadata": {},
   "source": [
    "# 문)2501\n",
    "https://www.acmicpc.net/problem/2501"
   ]
  },
  {
   "cell_type": "code",
   "execution_count": null,
   "id": "67c63430-18d2-4812-b1d5-d9c550a44ac0",
   "metadata": {},
   "outputs": [],
   "source": [
    "두 개의 자연수 N과 K가 주어졌을 때,\n",
    "N의 약수들 중 K번째로 작은 수를 출력하는 프로그램을 작성하시오.\n",
    "\n",
    "입력\n",
    "첫째 줄에 N과 K가 빈칸을 사이에 두고 주어진다.\n",
    "N은 1 이상 10,000 이하이다. K는 1 이상 N 이하이다.\n",
    "\n",
    "출력\n",
    "첫째 줄에 N의 약수들 중 K번째로 작은 수를 출력한다. \n",
    "만일 N의 약수의 개수가 K개보다 적어서 K번째 약수가 존재하지 않을 경우에는 0을 출력하시오."
   ]
  },
  {
   "cell_type": "code",
   "execution_count": 48,
   "id": "e4bbfc0f-f8d3-4eff-8a7e-80829098bb86",
   "metadata": {
    "tags": []
   },
   "outputs": [
    {
     "name": "stdin",
     "output_type": "stream",
     "text": [
      " 36 6\n"
     ]
    },
    {
     "name": "stdout",
     "output_type": "stream",
     "text": [
      "9\n"
     ]
    }
   ],
   "source": [
    "import sys\n",
    "\n",
    "# input = sys.stdin.readline\n",
    "\n",
    "    \n",
    "n, k = map(int, input().split())\n",
    "\n",
    "factors1 = []\n",
    "factors2 = []\n",
    "for i in range(1, n+1):\n",
    "    if i*i > n:\n",
    "        break\n",
    "    if n % i == 0:\n",
    "        factors1.append(i)\n",
    "        factors2.append(n//i)\n",
    "factors1.extend(factors2[::-1])\n",
    "factors1 = list(set(factors1))\n",
    "factors1.sort()\n",
    "if len(factors1) < k:\n",
    "    print(0)\n",
    "else:\n",
    "    print(factors1[k-1])"
   ]
  },
  {
   "cell_type": "code",
   "execution_count": 54,
   "id": "a6cfbbcd-d058-48e1-896b-f3fbc6430c16",
   "metadata": {
    "tags": []
   },
   "outputs": [
    {
     "name": "stdin",
     "output_type": "stream",
     "text": [
      " 36 6\n"
     ]
    },
    {
     "name": "stdout",
     "output_type": "stream",
     "text": [
      "9\n"
     ]
    }
   ],
   "source": [
    "n, k = map(int, input().split())\n",
    "\n",
    "factors = []\n",
    "for i in range(1, int(n**0.5) + 1):  # n의 제곱근까지만 반복\n",
    "    if n % i == 0:                   # i가 n의 약수면 리스트에 추가\n",
    "        factors.append(i)\n",
    "        if i * i != n:                 # n이 완전제곱수면 중복된 약수 방지\n",
    "            factors.append(n // i)\n",
    "\n",
    "# 약수 목록 정렬\n",
    "factors.sort()\n",
    "\n",
    "if len(factors) < k:\n",
    "    print(0)\n",
    "else:\n",
    "    print(factors[k-1])"
   ]
  },
  {
   "cell_type": "markdown",
   "id": "19573654-c794-4ac5-86ba-cec8ac98dccf",
   "metadata": {},
   "source": [
    "### 두번째 시도\n",
    "풂"
   ]
  },
  {
   "cell_type": "code",
   "execution_count": 144,
   "id": "2d58fb47-c788-4e5d-bf3c-c0e3befd8ea5",
   "metadata": {
    "tags": []
   },
   "outputs": [
    {
     "name": "stdin",
     "output_type": "stream",
     "text": [
      " 72 5\n"
     ]
    },
    {
     "name": "stdout",
     "output_type": "stream",
     "text": [
      "6\n"
     ]
    }
   ],
   "source": [
    "N, K = map(int, input().split())\n",
    "def aliquot(N):\n",
    "    aliquot_list = set()\n",
    "    for n in range(1, int(N**0.5)+1):\n",
    "        if N % n == 0:\n",
    "            aliquot_list.add(n)\n",
    "            aliquot_list.add(N//2)\n",
    "    return sorted(aliquot_list)\n",
    "\n",
    "answer = aliquot(N)\n",
    "if len(answer) < K:\n",
    "    print(0)\n",
    "else:\n",
    "    print(answer[K-1])"
   ]
  },
  {
   "cell_type": "code",
   "execution_count": null,
   "id": "5c708f94-cc53-4292-a19b-427f5002c06a",
   "metadata": {},
   "outputs": [],
   "source": []
  },
  {
   "cell_type": "markdown",
   "id": "0dffa419-31b5-4d63-94e3-2c6d6332671c",
   "metadata": {},
   "source": [
    "# 문)1978\n",
    "https://www.acmicpc.net/problem/1978"
   ]
  },
  {
   "cell_type": "code",
   "execution_count": null,
   "id": "690bcf2d-d54d-4492-9681-13c69efaf6dd",
   "metadata": {},
   "outputs": [],
   "source": [
    "문제\n",
    "주어진 수 N개 중에서 소수가 몇 개인지 찾아서 출력하는 프로그램을 작성하시오.\n",
    "\n",
    "입력\n",
    "첫 줄에 수의 개수 N이 주어진다. N은 100이하이다. \n",
    "다음으로 N개의 수가 주어지는데 수는 1,000 이하의 자연수이다.\n",
    "\n",
    "출력\n",
    "주어진 수들 중 소수의 개수를 출력한다.\n",
    "\n",
    "예제 입력 1 \n",
    "4\n",
    "1 3 5 7\n",
    "예제 출력 1 \n",
    "3"
   ]
  },
  {
   "cell_type": "code",
   "execution_count": 7,
   "id": "1f429be2-5b62-4e20-83fe-4203335f2e12",
   "metadata": {
    "tags": []
   },
   "outputs": [
    {
     "name": "stdout",
     "output_type": "stream",
     "text": [
      "8\n"
     ]
    }
   ],
   "source": [
    "import sys\n",
    "\n",
    "# input = sys.stdin.readline\n",
    "\n",
    "# num = int(input())\n",
    "\n",
    "# nums = list(map(int, input().split()))\n",
    "\n",
    "prime_nums = [2, 3, 5, 7, 11]\n",
    "for n in range(13, 1000, 2):\n",
    "    \n",
    "    i = 0\n",
    "    while n >= prime_nums[i]**2:    \n",
    "    # while n**0.5 >= prime_nums[i]:\n",
    "    '''만약 n이 소수가 아니라 합성수라면 (1과 자기자신 외에 약수가 또 있는 수)\n",
    "    n은 prime_nums[i]와 또 다른 어떤 수의 곱으로 이뤄질 수 있다.\n",
    "    이때 또 다른 어떤 수는 prime_nums[i]보다 클 수 없다.\n",
    "    왜냐면 만약 prime_nums[i]가 n의 제곱근보다 작거나 같을 때,\n",
    "    다른 어떤 수가 n의 제곱근보다 크다면(i.e. prime_nums[i]보다 크다면) \n",
    "    두 수의 곱은 n보다 커지게 되기 때문이다.\n",
    "    이 때\n",
    "    prime_nums[i] 보다 큰 수로 n을 나눠보지 않아도 되는 이유는\n",
    "    prime_nums[i]로 나눴을 때 나눠 떨어지면, 그때의 몫들이\n",
    "    prime_nums[i] 보다 크면서 n으로 나눠 떨어지는 n의 약수들이 되기 때문이다.\n",
    "    따라서 prime_nums[i]의 제곱이 n보다 같거나 작은 경우에만\n",
    "    n이 prime_nums[i]로 나눠 떨어지는지 보면 된다.    \n",
    "    '''\n",
    "        if n % prime_nums[i] == 0:\n",
    "            break\n",
    "        i += 1\n",
    "\n",
    "    else:\n",
    "        prime_nums.append(n)\n",
    "\n",
    "prime_nums = set(prime_nums)\n",
    "'''\n",
    "집합(set)을 사용하여 검색 성능이 향상되는 이유는 집합의 내부 데이터 구조와 관련이 있습니다. \n",
    "집합은 해시 테이블을 기반으로 구현되어 있으며, 이로 인해 몇 가지 중요한 성능 이점이 있습니다:\n",
    "\n",
    "평균적인 시간 복잡도: 집합에서 요소를 검색하는 평균 시간 복잡도는 O(1)입니다. \n",
    "즉, 집합의 크기에 관계없이 일반적으로 일정한 시간에 요소의 존재 여부를 확인할 수 있습니다. \n",
    "반면, 리스트에서 요소를 검색하는 시간 복잡도는 O(n)으로, 리스트의 크기에 비례하여 시간이 증가합니다.\n",
    "\n",
    "해시 테이블 기반: 집합은 해시 테이블을 사용하여 요소를 저장합니다. \n",
    "해시 테이블은 각 요소에 대해 고유한 해시 값을 계산하고, \n",
    "이 해시 값을 사용하여 요소를 빠르게 검색할 수 있게 합니다.\n",
    "이 때문에 집합에서의 검색은 매우 빠릅니다.\n",
    "\n",
    "이러한 이유로, 특히 대규모 데이터에서 특정 요소의 존재 여부를 자주 확인해야 하는 경우, \n",
    "리스트보다 집합을 사용하는 것이 훨씬 효율적입니다. \n",
    "예를 들어, 소수 목록과 같이 변경되지 않고 여러 번 검색되는 데이터 세트의 경우, \n",
    "집합을 사용하는 것이 성능상 이점을 제공합니다.\n",
    "'''\n",
    "cnt = 0\n",
    "for n in nums:\n",
    "    if n in prime_nums:\n",
    "        cnt += 1\n",
    "\n",
    "print(cnt)"
   ]
  },
  {
   "cell_type": "markdown",
   "id": "caf78ff1-b549-4a89-877d-e3c0172955b5",
   "metadata": {},
   "source": [
    "### 두번째 풀이\n",
    "풂"
   ]
  },
  {
   "cell_type": "code",
   "execution_count": 127,
   "id": "460788d6-9fd8-4387-b127-8b249e0d69ab",
   "metadata": {
    "tags": []
   },
   "outputs": [
    {
     "name": "stdin",
     "output_type": "stream",
     "text": [
      " 3\n",
      " 13 4 5\n"
     ]
    },
    {
     "name": "stdout",
     "output_type": "stream",
     "text": [
      "2\n"
     ]
    }
   ],
   "source": [
    "N = int(input())\n",
    "nums = map(int, input().split())\n",
    "\n",
    "def is_prime(N):\n",
    "    if N <= 1:\n",
    "        return False\n",
    "    for n in range(2, int(N**0.5)+1):\n",
    "        if N % n == 0:\n",
    "            return False\n",
    "    else:\n",
    "        return True\n",
    "\n",
    "cnt = 0\n",
    "for n in nums:\n",
    "    if is_prime(n):\n",
    "        cnt += 1\n",
    "print(cnt)"
   ]
  },
  {
   "cell_type": "code",
   "execution_count": 128,
   "id": "63ed44e1-8506-455f-b621-10af219e9de9",
   "metadata": {
    "tags": []
   },
   "outputs": [
    {
     "name": "stdin",
     "output_type": "stream",
     "text": [
      " 3\n",
      " 13 17 19\n"
     ]
    },
    {
     "name": "stdout",
     "output_type": "stream",
     "text": [
      "3\n"
     ]
    }
   ],
   "source": [
    "N = int(input())\n",
    "nums = map(int, input().split())\n",
    "def aliquot(N):\n",
    "    aliquot_list = set()\n",
    "    for n in range(1, int(N**0.5)+1):\n",
    "        if N % n == 0:\n",
    "            aliquot_list.add(n)\n",
    "            aliquot_list.add(N//n)\n",
    "    return sorted(aliquot_list)\n",
    "\n",
    "cnt = 0\n",
    "for n in nums:\n",
    "    aliquots = aliquot(n)\n",
    "    if len(aliquots) == 2:\n",
    "        cnt += 1\n",
    "print(cnt)"
   ]
  },
  {
   "cell_type": "markdown",
   "id": "d06728a1-4ba2-436d-8099-ca88f8b942dd",
   "metadata": {
    "tags": []
   },
   "source": [
    "# 문)11653\n",
    "https://www.acmicpc.net/problem/11653"
   ]
  },
  {
   "cell_type": "markdown",
   "id": "3a480529-89a5-406d-b316-44ee333cd79b",
   "metadata": {},
   "source": [
    "### 세번째 시도 풀이\n",
    "풂"
   ]
  },
  {
   "cell_type": "code",
   "execution_count": null,
   "id": "1390c3df-d763-4f42-9808-b44a377620c6",
   "metadata": {},
   "outputs": [],
   "source": []
  },
  {
   "cell_type": "code",
   "execution_count": null,
   "id": "858f8679-e7dc-4abb-a4dd-5436981e0eaf",
   "metadata": {},
   "outputs": [],
   "source": [
    "문제\n",
    "정수 N이 주어졌을 때, 소인수분해하는 프로그램을 작성하시오.\n",
    "\n",
    "입력\n",
    "첫째 줄에 정수 N (1 ≤ N ≤ 10,000,000)이 주어진다.\n",
    "\n",
    "출력\n",
    "N의 소인수분해 결과를 한 줄에 하나씩 오름차순으로 출력한다. \n",
    "N이 1인 경우 아무것도 출력하지 않는다.\n",
    "\n",
    "입력 72\n",
    "출력 \n",
    "2\n",
    "2\n",
    "2\n",
    "3\n",
    "3"
   ]
  },
  {
   "cell_type": "code",
   "execution_count": 26,
   "id": "2c1e8bc1-cc2f-42c0-964b-5be4e23fa8a4",
   "metadata": {
    "tags": []
   },
   "outputs": [
    {
     "name": "stdin",
     "output_type": "stream",
     "text": [
      " 14\n"
     ]
    },
    {
     "name": "stdout",
     "output_type": "stream",
     "text": [
      "[2, 3]\n",
      "2\n",
      "7\n"
     ]
    }
   ],
   "source": [
    "N = int(input())\n",
    "\n",
    "# 동적으로 필요한 소수만 생성하는 함수\n",
    "def generate_primes(limit):\n",
    "    primes = [2]\n",
    "    for n in range(3, limit, 2):\n",
    "        i = 0\n",
    "        while primes[i] * primes[i] <= n:\n",
    "            if n % primes[i] == 0:\n",
    "                break\n",
    "            i+=1\n",
    "        else:\n",
    "            primes.append(n)\n",
    "    print(primes)\n",
    "            \n",
    "    return primes\n",
    "\n",
    "# 소인수분해 함수\n",
    "def prime_factorization(N):\n",
    "    primes = generate_primes(int(N**0.5) + 1)  # N의 제곱근까지의 소수 생성\n",
    "    prime_factors = []\n",
    "\n",
    "    for prime in primes:\n",
    "        while N % prime == 0:           # prime이 N의 소인수면\n",
    "            N //= prime                 # N을 prime으로 나눈 몫으로 갱신하고\n",
    "            prime_factors.append(prime) # 소인수를 추가\n",
    "        if N == 1:\n",
    "            break\n",
    "\n",
    "    if N > 1:                     # 1. N 자체가 primes에 없는 소수인 경우, generate_primes 함수에 의해 primes에 추가되지 않으므로 정답 리스트에 따로 추가해줘야 한다.\n",
    "        prime_factors.append(N)   # 2. N을 prime_factorization 함수로 소인수분해 했을 때, 새로운 소수가 나오는 경우 역시 primes에 없으므로 정답 리스트에 따로 추가해줘야 한다.\n",
    "    return prime_factors\n",
    "\n",
    "# 소인수분해 결과\n",
    "result = prime_factorization(N)\n",
    "for i in range(len(result)):\n",
    "    print(result[i])"
   ]
  },
  {
   "cell_type": "code",
   "execution_count": null,
   "id": "c9984206-63cb-4405-be1b-4c8213a42c9e",
   "metadata": {
    "tags": []
   },
   "outputs": [
    {
     "name": "stdin",
     "output_type": "stream",
     "text": [
      " 72\n"
     ]
    },
    {
     "name": "stdout",
     "output_type": "stream",
     "text": [
      "2\n",
      "2\n",
      "2\n",
      "3\n",
      "3\n"
     ]
    }
   ],
   "source": [
    "n = int(input())\n",
    "for i in range(2, int(n**(0.5))+1):\n",
    "    while n % i == 0:\n",
    "        print(i)\n",
    "        n //= i\n",
    "if n != 1:\n",
    "    print(n)"
   ]
  },
  {
   "cell_type": "code",
   "execution_count": null,
   "id": "d0d6e725-992d-417f-b002-fa8b45942dd5",
   "metadata": {},
   "outputs": [],
   "source": [
    "처음엔 A로 풀다가 B도 가능하다는 걸 깨달음.\n",
    "둘다 맞음\n",
    "\n",
    "해결전략 A\n",
    "1단계 : for문을 돌려서 N의 제곱근까지 모든 자연수를 나눠서 나눠 떨어지는 수(약수)를 찾는 함수를 만들고\n",
    "2단계 : 그 약수들 중에서 소수를 찾는 함수를 만들고\n",
    "3단계 : 정답 함수를 만든다\n",
    "\n",
    "해결전략 B\n",
    "1단계 : N의 제곱근까지의 소수를 바로 구하는 함수를 만들고\n",
    "2단계 : 정답 함수를 만든다."
   ]
  },
  {
   "cell_type": "markdown",
   "id": "e74f00e6-8cd8-4a29-995e-4bf8ce065405",
   "metadata": {},
   "source": [
    "# A"
   ]
  },
  {
   "cell_type": "code",
   "execution_count": 84,
   "id": "99bbc480-c402-4081-b89b-cfdf11557963",
   "metadata": {
    "tags": []
   },
   "outputs": [
    {
     "name": "stdin",
     "output_type": "stream",
     "text": [
      " 72\n"
     ]
    },
    {
     "data": {
      "text/plain": [
       "[2, 2, 2, 3, 3]"
      ]
     },
     "execution_count": 84,
     "metadata": {},
     "output_type": "execute_result"
    }
   ],
   "source": [
    "N = int(input())\n",
    "\n",
    "def aliquot(N):\n",
    "    aliquots = set()\n",
    "    for n in range(1, int(N**0.5)+1):\n",
    "        if N % n == 0:\n",
    "            aliquots.add(n)\n",
    "            aliquots.add(N // n)\n",
    "    return sorted(aliquots)\n",
    "\n",
    "def primeFromAliquot(N):\n",
    "    prime_numbers = []\n",
    "    aliquot_list = aliquot(N)\n",
    "    if len(aliquot_list) == 2:\n",
    "        prime_numbers.append(aliquot_list[-1])\n",
    "    else:\n",
    "        for n in aliquot_list[:len(aliquot_list)//2+1]:\n",
    "            if len(aliquot(n)) == 2:\n",
    "                prime_numbers.append(n)\n",
    "    return prime_numbers\n",
    "\n",
    "def prime_factorizer(N):\n",
    "    prime_numbers = primeFromAliquot(N)\n",
    "    prime_factorization = []\n",
    "    for n in prime_numbers:\n",
    "        while N % n == 0:\n",
    "            prime_factorization.append(n)\n",
    "            N = N // n\n",
    "    return prime_factorization\n",
    "    \n",
    "prime_factorizer(N)"
   ]
  },
  {
   "cell_type": "markdown",
   "id": "78cb8565-0c4e-4ef1-8479-5389cee16fe1",
   "metadata": {},
   "source": [
    "### chatGPT 개선안\n",
    "소수판별함수를 써서 aliquot을 한번만 쓰도록"
   ]
  },
  {
   "cell_type": "code",
   "execution_count": 92,
   "id": "2edc8c7b-4230-44d5-a84e-6dd8c4b8e563",
   "metadata": {
    "tags": []
   },
   "outputs": [
    {
     "name": "stdin",
     "output_type": "stream",
     "text": [
      " 72\n"
     ]
    },
    {
     "name": "stdout",
     "output_type": "stream",
     "text": [
      "2\n",
      "2\n",
      "2\n",
      "3\n",
      "3\n"
     ]
    }
   ],
   "source": [
    "N = int(input())\n",
    "\n",
    "def aliquot(N):\n",
    "    aliquots = set()\n",
    "    for n in range(1, int(N**0.5)+1):\n",
    "        if N % n == 0:\n",
    "            aliquots.add(n)\n",
    "            aliquots.add(N // n)\n",
    "    return sorted(aliquots)\n",
    "\n",
    "def is_prime(N):\n",
    "    if N <= 1:\n",
    "        return False\n",
    "    for n in range(2, int(N**0.5)+1):\n",
    "        if N % n == 0:\n",
    "            return False\n",
    "    else:\n",
    "        return True\n",
    "            \n",
    "def prime(N):\n",
    "    prime_numbers = []\n",
    "    aliquot_list = aliquot(N)\n",
    "    for n in aliquot_list:\n",
    "        if is_prime(n):\n",
    "            prime_numbers.append(n)\n",
    "    return prime_numbers\n",
    "            \n",
    "def prime_factorizer(N):\n",
    "    prime_numbers = prime(N)\n",
    "    prime_factorization = []\n",
    "    for n in prime_numbers:\n",
    "        while N % n == 0:\n",
    "            prime_factorization.append(n)\n",
    "            N = N // n\n",
    "    return prime_factorization\n",
    "\n",
    "answer = prime_factorizer(N)\n",
    "for ans in answer:\n",
    "    print(ans)"
   ]
  },
  {
   "cell_type": "code",
   "execution_count": 119,
   "id": "8af7ef39-9b1d-459d-83de-2604299b35da",
   "metadata": {
    "tags": []
   },
   "outputs": [
    {
     "data": {
      "text/plain": [
       "100.95498987044118"
      ]
     },
     "execution_count": 119,
     "metadata": {},
     "output_type": "execute_result"
    }
   ],
   "source": [
    "9991**0.5+1"
   ]
  },
  {
   "cell_type": "markdown",
   "id": "80e80aa5-710f-4c60-88b2-ee68ae612c17",
   "metadata": {},
   "source": [
    "# B"
   ]
  },
  {
   "cell_type": "code",
   "execution_count": 117,
   "id": "defb4a60-b7b2-4659-9483-b0d0efb51287",
   "metadata": {
    "tags": []
   },
   "outputs": [
    {
     "name": "stdin",
     "output_type": "stream",
     "text": [
      " 9991\n"
     ]
    },
    {
     "name": "stdout",
     "output_type": "stream",
     "text": [
      "[97, 103]\n"
     ]
    }
   ],
   "source": [
    "N = int(input())\n",
    "answer = []\n",
    "for n in range(2, int(N**0.5)+1):\n",
    "    while N % n == 0:\n",
    "        answer.append(n)\n",
    "        N = N // n\n",
    "if N != 1: # for 루프가 종료된 후, 만약 N이 1이 아니라면, 이는 N이 1보다 큰 소수로 남아 있다는 것을 의미\n",
    "           # i.e. N의 제곱근보다 큰 소인수가 존재한다는 의미\n",
    "    answer.append(N) \n",
    "print(answer)"
   ]
  },
  {
   "cell_type": "markdown",
   "id": "266f2df9-c646-45d9-8f97-2a3493b9701b",
   "metadata": {},
   "source": [
    "## 문)3009\n",
    "https://www.acmicpc.net/problem/3009\n"
   ]
  },
  {
   "cell_type": "code",
   "execution_count": null,
   "id": "9e73da2b-a2e6-462d-81a1-fb0ea72bb3b5",
   "metadata": {},
   "outputs": [],
   "source": [
    "import sys\n",
    "import collections\n",
    "input = sys.stdin.readline\n",
    "\n",
    "x1, y1 = map(int, input().split())\n",
    "x2, y2 = map(int, input().split())\n",
    "x3, y3 = map(int, input().split())\n",
    "\n",
    "\n",
    "xs = [x1, x2, x3]\n",
    "ys = [y1, y2, y3]\n",
    "\n",
    "x4 = collections.Counter(xs).most_common()[1][0]\n",
    "y4 = collections.Counter(ys).most_common()[1][0]\n",
    "\n",
    "print(x4, y4)\n",
    "    "
   ]
  },
  {
   "cell_type": "code",
   "execution_count": 39,
   "id": "ab49d6a9-bae9-4d6f-ac31-48d3f266654d",
   "metadata": {
    "tags": []
   },
   "outputs": [],
   "source": [
    "x = [5, 5, 7]\n",
    "y = [5, 7, 5]\n",
    "import collections\n",
    "x2 = collections.Counter(x).most_common()\n",
    "y2 = collections.Counter(y).most_common()[1][0]\n",
    "\n"
   ]
  },
  {
   "cell_type": "markdown",
   "id": "47383a49-bd14-44e7-9a3e-d049f9ad0fa4",
   "metadata": {
    "tags": []
   },
   "source": [
    "# 문)14215\n",
    "https://www.acmicpc.net/problem/14215"
   ]
  },
  {
   "cell_type": "code",
   "execution_count": 6,
   "id": "6e6bd6ce-a07f-4372-97c2-e02a716936b6",
   "metadata": {},
   "outputs": [
    {
     "name": "stdin",
     "output_type": "stream",
     "text": [
      " 1 2 3\n"
     ]
    }
   ],
   "source": [
    "import sys\n",
    "\n",
    "input = sys.stdin.readline\n",
    "\n",
    "tri = list(map(int, input().split()))\n",
    "\n",
    "tri.sort()\n",
    "\n",
    "# 삼각형이 성립하지 않는 경우, 가장 긴 변을 조정\n",
    "if tri[0] + tri[1] <= tri[2]:\n",
    "    tri[2] = tri[0] + tri[1] - 1\n",
    "\n",
    "# 삼각형 둘레 출력\n",
    "print(sum(tri))\n"
   ]
  },
  {
   "cell_type": "code",
   "execution_count": 9,
   "id": "f711863a-0ebb-4cd5-b44f-b641c2381947",
   "metadata": {},
   "outputs": [
    {
     "name": "stdout",
     "output_type": "stream",
     "text": [
      "4520000\n"
     ]
    }
   ],
   "source": [
    "import math\n",
    "\n",
    "n = 100000  # 시작 값\n",
    "while n * math.log2(n) <= 100000000:\n",
    "    n += 10000  # 적당한 단계 증가\n",
    "\n",
    "print(n - 10000)  # 마지막으로 조건을 만족했던 n 값"
   ]
  },
  {
   "cell_type": "markdown",
   "id": "2c593589-1336-43bc-96c1-f0df47ca8da4",
   "metadata": {},
   "source": [
    "# 문)24265\n",
    "https://www.acmicpc.net/problem/24265"
   ]
  },
  {
   "cell_type": "code",
   "execution_count": null,
   "id": "6469a800-bc3f-4a91-a473-3c9720d53c73",
   "metadata": {},
   "outputs": [],
   "source": [
    "def MenOfPassion(A, n):\n",
    "    sum = 0\n",
    "    for i in range(n - 1):  # 파이썬에서는 반복문이 0부터 시작하므로 range(n - 1)\n",
    "        for j in range(i + 1, n):  # j는 i + 1부터 시작하여 n까지\n",
    "            sum += A[i] * A[j]  # 코드1\n",
    "    return sum"
   ]
  },
  {
   "cell_type": "code",
   "execution_count": null,
   "id": "f6639f89-357a-47ac-aa90-dd4da99bef04",
   "metadata": {},
   "outputs": [],
   "source": [
    "이중 for 루프의 실행 횟수를 계산해야 합니다. 이중 루프는 다음과 같이 구성됩니다:\n",
    "\n",
    "외부 루프 i는 1부터 n-1까지 반복합니다.\n",
    "내부 루프 j는 i+1부터 n까지 반복합니다."
   ]
  },
  {
   "cell_type": "markdown",
   "id": "8fd29464-e4b5-4fd6-a90a-6baefb597ff4",
   "metadata": {},
   "source": [
    "# 문)24267\n",
    "https://www.acmicpc.net/problem/24267"
   ]
  },
  {
   "cell_type": "code",
   "execution_count": null,
   "id": "e338894f-38ce-45e8-8dbb-f6c35a8a8314",
   "metadata": {},
   "outputs": [],
   "source": [
    "def MenOfPassion(A, n):\n",
    "    sum = 0\n",
    "    for i in range(n - 2):  # 파이썬에서의 반복문은 0부터 시작하므로 range(n - 2)\n",
    "        for j in range(i + 1, n - 1):  # j는 i + 1부터 시작하여 n - 1까지\n",
    "            for k in range(j + 1, n):  # k는 j + 1부터 시작하여 n까지\n",
    "                sum += A[i] * A[j] * A[k]  # 코드1\n",
    "    return sum"
   ]
  },
  {
   "cell_type": "markdown",
   "id": "75f661e5-2977-4f23-98df-7df537c9f0e2",
   "metadata": {},
   "source": [
    "삼중 for 루프는 각기 다른 세 요소 i, j, k를 선택하는 모든 조합을 고려합니다. \n",
    "여기서 i < j < k 조건을 만족하는 조합의 수는 \n",
    "n 개의 요소에서 3개를 선택하는 조합(Combination)의 수와 같습니다. \n",
    "수학적으로 이는 다음과 같이 표현됩니다:\n",
    "    C(n,3)"
   ]
  },
  {
   "cell_type": "markdown",
   "id": "9c23e89b-886e-448b-99ba-94ad313cef03",
   "metadata": {},
   "source": [
    "### 문제풀이시간이 최대 1초일 때, 각 시간복잡도별 알고리즘의 최대입력크기\n",
    "\n",
    "\n",
    "    O(n)인 알고리즘은 입력크기가 10^7에서 10^8까지, 1000만에서 1억이면 1초이내 실행가능\n",
    "    O(nlogn)인 알고리즘은 입력크기가 10^5~10^7까지, 10만에서 1000만이면 1초 이내 실행가능\n",
    "    O(n^2)인 알고리즘은 입력크기가 10^3~10^4까지, 1천에서 1만정도면 1초 이내 실행가능\n",
    "    O(n^3)인 알고리즘은 대략 300에서 10^3 정도까지, 대략 1000 이하 정도면 1초이내 실행 가능 (특정 DP, 그래프 문제)\n",
    "    O(n^2) 또는 O(n!)인 알고리즘은 10에서 20정도면 1초 이내 실행가능"
   ]
  },
  {
   "cell_type": "markdown",
   "id": "ebc84fac-b7e1-4f21-a014-8b55bb3c9e4a",
   "metadata": {},
   "source": [
    "# 문)2798\n",
    "https://www.acmicpc.net/problem/2798"
   ]
  },
  {
   "cell_type": "code",
   "execution_count": null,
   "id": "a950efbd-e0da-413a-b6a2-3274e98c17ef",
   "metadata": {},
   "outputs": [],
   "source": [
    "import sys\n",
    "import itertools\n",
    "\n",
    "input = sys.stdin.readline\n",
    "\n",
    "n, m = map(int, input().split())\n",
    "cards = list(map(int, input().split()))\n",
    "\n",
    "combinations = itertools.combinations(cards, 3)\n",
    "\n",
    "\n",
    "maximum = float(\"-inf\")\n",
    "for cards in combinations:\n",
    "    temp = sum(cards)\n",
    "    if temp <= m and temp > maximum:\n",
    "        maximum = temp\n",
    "\n",
    "print(maximum)"
   ]
  },
  {
   "cell_type": "code",
   "execution_count": null,
   "id": "f5276b7e-0a17-4b43-8db0-94a6c202b5a3",
   "metadata": {},
   "outputs": [],
   "source": [
    "N, M = map(int, input().split())\n",
    "cards = list(map(int, input().split()))\n",
    "\n",
    "max_sum = 0\n",
    "for i in range(N):\n",
    "    for j in range(i + 1, N):\n",
    "        for k in range(j + 1, N):\n",
    "            card_sum = cards[i] + cards[j] + cards[k]\n",
    "            if card_sum <= M:\n",
    "                max_sum = max(max_sum, card_sum)\n",
    "'''\n",
    "이 알고리즘의 시간 복잡도는 O(N^3)입니다.\n",
    "N의 최대 값이 100이므로, \n",
    "이 알고리즘은 실용적인 시간 내에 문제를 해결할 수 있습니다.\n",
    "'''\n",
    "print(max_sum)"
   ]
  },
  {
   "cell_type": "code",
   "execution_count": null,
   "id": "05d5a7ca-6e3c-4a08-b731-6f5945433922",
   "metadata": {},
   "outputs": [],
   "source": [
    "N, M = map(int, input().split())\n",
    "cards = list(map(int, input().split()))\n",
    "\n",
    "max_sum = float(\"-inf\")\n",
    "for i in range(N):\n",
    "    for j in range(i+1, N):\n",
    "        for k in range(j+1, N):\n",
    "            card_sum = cards[i] + cards[j] + cards[k]\n",
    "            if card_sum <= M and card_sum > max_sum:\n",
    "                max_sum = card_sum\n",
    "print(max_sum)"
   ]
  },
  {
   "cell_type": "markdown",
   "id": "db077234-04cf-4ab1-ab73-34d1c8a8b9b8",
   "metadata": {},
   "source": [
    "# 문)2331\n",
    "https://www.acmicpc.net/problem/2231"
   ]
  },
  {
   "cell_type": "code",
   "execution_count": 35,
   "id": "21939a69-0879-41cf-85e0-50f1ddfb6e49",
   "metadata": {
    "tags": []
   },
   "outputs": [
    {
     "name": "stdin",
     "output_type": "stream",
     "text": [
      " 99\n"
     ]
    },
    {
     "name": "stdout",
     "output_type": "stream",
     "text": [
      "90\n"
     ]
    }
   ],
   "source": [
    "N = int(input())  # 분해합 N을 주고\n",
    "\n",
    "def calculate_decomposition_sum(num):    # 어떤 자연수 num이 주어지면(생성자가 주어지면) 그 자연수 num의 (생성자의) 분해합을 계산하는 함수를 만들고\n",
    "    return num + sum(map(int, str(num)))\n",
    "\n",
    "# 생성자 찾기\n",
    "creator = 0\n",
    "for num in range(1, N):                       # 어떤 자연수 num이 생성자라면, num은 자신의 분해합보다 항상 작거나 같으므로  \n",
    "    if calculate_decomposition_sum(num) == N: # 1부터 임의의 분해합 N보다 작은 N-1까지의 자연수 num의 분해합을 다 계산해서, 그 분해합이 N과 일치하면, \n",
    "                                              # 그 때 자연수 num이 N의 생성자가 된다. \n",
    "        creator = num\n",
    "        break\n",
    "''' 이 알고리즘의 시간복잡도는 O(n) 이다.\n",
    "최대 입력이 1백만개이므로\n",
    "브루트포스로 풀어도 괜찮다\n",
    "'''\n",
    "print(creator)"
   ]
  },
  {
   "cell_type": "markdown",
   "id": "b51781b8-e1aa-48e9-a934-32249fb35cb6",
   "metadata": {},
   "source": [
    "# 문)19532\n",
    "https://www.acmicpc.net/problem/19532"
   ]
  },
  {
   "cell_type": "code",
   "execution_count": 3,
   "id": "c40f397a-8988-4df6-844a-59b3e85379e0",
   "metadata": {
    "tags": []
   },
   "outputs": [
    {
     "name": "stdin",
     "output_type": "stream",
     "text": [
      " 2 5 8 3 -4 -11\n"
     ]
    },
    {
     "name": "stdout",
     "output_type": "stream",
     "text": [
      "-1 2\n"
     ]
    }
   ],
   "source": [
    "import sys\n",
    "\n",
    "input = sys.stdin.readline\n",
    "\n",
    "a, b, c, d, e, f = map(int, input().split())\n",
    "\n",
    "print(int((b*f-e*c)/(b*d-a*e)), int((a*f-c*d)/(a*e-b*d)))"
   ]
  },
  {
   "cell_type": "code",
   "execution_count": null,
   "id": "d41d8259-8786-4222-bc00-da56056653c3",
   "metadata": {},
   "outputs": [],
   "source": [
    "import sys\n",
    "\n",
    "input = sys.stdin.readline\n",
    "a, b, c, d, e, f = map(int, input().split())\n",
    "\n",
    "for x in range(-999, 1000):\n",
    "    for y in range(-999, 1000):\n",
    "        if a*x + b*y == c and d*x + e*y == f:\n",
    "            print(x, y)"
   ]
  },
  {
   "cell_type": "code",
   "execution_count": null,
   "id": "d9f492b1-7407-446c-82ab-36dd7a9210c5",
   "metadata": {},
   "outputs": [],
   "source": [
    "import numpy as np\n",
    "import sys\n",
    "\n",
    "input = sys.stdin.readline\n",
    "\n",
    "def solve_linear_equations(a, b, c, d, e, f):\n",
    "    # 계수 행렬과 상수 벡터 생성\n",
    "    coefficients = np.array([[a, b], [d, e]])\n",
    "    constants = np.array([c, f])\n",
    "\n",
    "    # 계수 행렬의 역행렬 계산 및 해 찾기\n",
    "    try:\n",
    "        solution = np.linalg.inv(coefficients).dot(constants)\n",
    "        return solution[0], solution[1]\n",
    "    except np.linalg.LinAlgError:\n",
    "        return \"해가 없거나 무한합니다.\"\n",
    "\n",
    "a, b, c, d, e, f = map(int, input().split())\n",
    "print(solve_linear_equations(a, b, c, d, e, f))"
   ]
  },
  {
   "cell_type": "markdown",
   "id": "582c5f7e-9f8d-447f-961c-dd3187dcb320",
   "metadata": {},
   "source": [
    "# 문)1018\n",
    "https://www.acmicpc.net/problem/1018"
   ]
  },
  {
   "cell_type": "code",
   "execution_count": null,
   "id": "002b373e-ceb1-46ca-b61d-edbad46c71e1",
   "metadata": {},
   "outputs": [],
   "source": [
    "문제\n",
    "M×N 크기의 보드가 주어진다.\n",
    "이 보드를 잘라서 8×8 크기의 체스판으로 만들려고 한다.\n",
    "체스판을 색칠하는 경우는 두 가지뿐이다. \n",
    "맨 왼쪽 위 칸이 흰색으로 시작하는 경우 또는 검은색으로 시작하는 경우\n",
    "\n",
    "입력\n",
    "첫째 줄에 N과 M이 주어진다.  8 <= M, N <= 50\n",
    "둘째 줄부터 N개의 줄에 보드의 각 행의 상태가 주어진다. B는 검은색이며, W는 흰색이다.\n",
    "\n",
    "출력\n",
    "다시 칠해야 하는 정사각형 개수의 최솟값을 출력한다.\n",
    "\n",
    "입력 \n",
    "8 8\n",
    "WBWBWBWB\n",
    "BWBWBWBW\n",
    "WBWBWBWB\n",
    "BWBBBWBW\n",
    "WBWBWBWB\n",
    "BWBWBWBW\n",
    "WBWBWBWB\n",
    "BWBWBWBW\n",
    "\n",
    "출력 \n",
    "1"
   ]
  },
  {
   "cell_type": "code",
   "execution_count": null,
   "id": "a27feab9-ec2f-442c-b866-aa3fede1aa73",
   "metadata": {},
   "outputs": [],
   "source": [
    "'''\n",
    "예를 들어, 다음과 같은 10x10 보드가 있다고 가정합니다:\n",
    "\n",
    "BWBWBWBWBW\n",
    "WBWBWBWBWB\n",
    "BWBWBWBWBW\n",
    "WBWBWBWBWB\n",
    "BWBWBWBWBW\n",
    "WBWBWBWBWB\n",
    "BWBWBWBWBW\n",
    "WBWBWBWBWB\n",
    "BWBWBWBWBW\n",
    "WBWBWBWBWB\n",
    "\n",
    "이 보드에서 8x8 체스판을 만들기 위해 다시 칠해야 하는 정사각형의 최소 개수를 찾는 것이 목표입니다.\n",
    "\n",
    "1. min_repaints 함수는 보드의 모든 8x8 부분을 순회합니다. \n",
    "이 경우 3x3=9개의 8x8 부분 보드가 있습니다.\n",
    "\n",
    "2. 각 8x8 부분 보드에 대해, count_repaints 함수를 두 번 호출합니다. \n",
    "한 번은 흰색으로 시작하는 체스판 패턴을 기준으로, \n",
    "다른 한 번은 검은색으로 시작하는 체스판 패턴을 기준으로 합니다.\n",
    "count_repaints 함수는  주어진 체스판 패턴에 맞게 다시 칠해야 하는 정사각형의 수를 계산합니다.\n",
    "\n",
    "`count_repaints` 함수를 두 번 호출하는 이유는 다음과 같습니다:\n",
    "체스판은 검은색과 흰색 칸이 번갈아 가며 나타나는 특정한 패턴을 가지고 있습니다. \n",
    "이 패턴은 맨 왼쪽 위 칸의 색에 따라 두 가지 방식으로 시작할 수 있습니다: \n",
    "하나는 흰색으로 시작하고, 다른 하나는 검은색으로 시작합니다.\n",
    "\n",
    "이 두 가지 경우 각각에 대해 체스판의 패턴을 만족시키기 위해 필요한 최소한의 색 변경 횟수를 계산해야 합니다.\n",
    "원래 보드의 상태는 이 두 가지 체스판 패턴 중 어느 것과도 일치하지 않을 수 있으므로, \n",
    "두 가지 패턴 모두에 대해 전수 조사를 해야 합니다. \n",
    "\n",
    "이를 통해 특정 부분 보드에 대해 \n",
    "어떤 시작 색(흰색 또는 검은색)이 더 적은 색 변경을 요구하는지 확인할 수 있습니다.\n",
    "따라서 `count_repaints` 함수를 두 번 호출하는 것은, \n",
    "각 부분 보드에 대해 흰색으로 시작하는 체스판 패턴과 검은색으로 시작하는 체스판 패턴, \n",
    "두 가지 경우에 대해 다시 칠해야 하는 정사각형의 수를 각각 계산하기 위함입니다. \n",
    "이를 통해 전체 보드에 대해 가능한 최소한의 색 변경 횟수를 결정할 수 있습니다.\n",
    "\n",
    "3. 모든 부분 보드에 대해 계산된 최소 변경 횟수를 비교하고, \n",
    "전체에서의 최소값을 반환합니다.\n",
    "'''\n",
    "def count_repaints(chessboard, start_color):\n",
    "    \"\"\"\n",
    "    서브보드와 left-top의 시작 색상이 주어지면\n",
    "    해당 색상으로 시작하는 견본체스판과 서브보드를 비교해\n",
    "    다시 칠해야 하는 정사각형의 수를 계산합니다.\n",
    "    \"\"\"\n",
    "    repaints = 0  # 다시 칠해야 하는 정사각형의 수를 세는 변수\n",
    "    color = start_color  # 시작 색상 설정\n",
    "    for row in chessboard:  # 부분보드의 각 행에 대하여\n",
    "        for square in row:  # 행의 각 정사각형에 대하여\n",
    "            if square != color:  # 현재 정사각형의 색상이 견본 색상과 다른 경우\n",
    "                repaints += 1  # 다시 칠해야 하므로 카운트 증가\n",
    "            color = 'B' if color == 'W' else 'W'  # 다음 정사각형이 가져야할 색상으로 변경\n",
    "        color = 'B' if color == 'W' else 'W'  # 매행의 열개수는 8개이므로, \n",
    "                                              # 마지막 칸이 W(B)로 끝났다면 다음 행 첫칸은 그대로 W(B)로 시작해야하지만\n",
    "                                    # 위 내부 루프에서 마지막 칸을 비교한 후 색상이 한번 더 변경되므로\n",
    "                                    # W(B)로 끝났다면 다음행은 B(W)로 시작 색상 변경해줘야 색이 엇갈리게 된다.\n",
    "    return repaints  # 다시 칠해야 하는 정사각형의 총 수 반환\n",
    "\n",
    "def min_repaints(board, N, M):\n",
    "    \"\"\"\n",
    "    이 함수는 원래 보드와 그 크기가 주어지면, \n",
    "    원래보드에서 8x8 크기만큼 순회하면서\n",
    "    (한 행씩 아래로 밀고, 원래보드의 밑변까지 닿으면 한 열씩 오른쪽으로 밀어서 다시 한행씩 아래로 밀기 반복) \n",
    "    원래보드에서 다시 칠해야 하는 정사각형의 최소 수를 계산합니다.\n",
    "    \n",
    "    원래 보드가 기존에 어떻게 칠해져있든, 어디서 서브보드를 취해야 하는지 머리쓸 필요없이\n",
    "    그냥 원래 보드에서의 가능한 모든 8x8 서브보드를 다 비교하는 전략이다. \n",
    "    이 전략이 먹히는 이유는\n",
    "    우리가 원하는 건 어쨌든 8x8 크기의 체스판이고, \n",
    "    그 체스판은 left-top이 흰색으로 시작하거나 검은색으로 시작하거나 둘 중 하나이므로, \n",
    "    두개의 견본체스판에서의 각 정사각형의 색상과 서브보드에서의 각 정사각형의 색상을 비교해\n",
    "    다시 칠해야 하는 정사각형 수가 최소인 서브보드가 어디인지를 찾아낸다.\n",
    "    \n",
    "    위 알고리즘의 시간복잡도를 계산하기 위해 각 부분의 복잡도를 살펴보겠습니다.\n",
    "\n",
    "    1. `min_repaints` 함수:\n",
    "       - 이 함수는 전체 보드의 각 8x8 서브보드에 대해 `count_repaints` 함수를 두 번 호출합니다.\n",
    "       - 전체 보드의 크기가 MxN이라고 할 때, 가능한 8x8 서브보드의 수는 `(M-7) * (N-7)`입니다.\n",
    "       - 따라서, 이 부분의 시간복잡도는 `O((M-7) * (N-7))`입니다.\n",
    "\n",
    "    2. `count_repaints` 함수:\n",
    "       - 이 함수는 주어진 8x8 서브보드의 각 칸을 한 번씩 검사합니다.\n",
    "       - 서브보드의 크기는 항상 8x8이므로, 이 부분의 시간복잡도는 `O(8 * 8)` 또는 간단히 `O(1)`입니다. (상수 시간)\n",
    "\n",
    "    종합적으로, `min_repaints` 함수 내에서 `count_repaints` 함수가 각 서브보드마다 두 번 호출되므로, \n",
    "    전체 시간복잡도는 `O(2 * (M-7) * (N-7))`입니다. 이는 일반적으로 `O(M * N)`으로 표현될 수 있습니다.\n",
    "\n",
    "    따라서, 이 알고리즘의 시간복잡도는 `O(M * N)`입니다. 여기서 M과 N은 각각 보드의 행과 열의 길이입니다.\n",
    "    \"\"\"\n",
    "    min_changes = float('inf')  # 최소 변경 횟수를 저장하는 변수, 초기값은 무한대\n",
    "    for i in range(N - 7):  # 보드의 열에 대해 반복 (8x8 체스판이 가능한 범위까지)\n",
    "        for j in range(M - 7):  # 보드의 행에 대해 반복 (8x8 체스판이 가능한 범위까지)\n",
    "            sub_board = [row[j:j+8] for row in board[i:i+8]]  # 8x8 크기의 부분 보드 추출\n",
    "            repaints1 = count_repaints(sub_board, 'W')  # 부분 보드를 left-top이 흰색으로 시작하는 견본 체스판과 비교\n",
    "            repaints2 = count_repaints(sub_board, 'B')  # 부분 보드를 left-top이 검은색으로 시작하는 견본 체스판과 비교\n",
    "            min_changes = min(min_changes, repaints1, repaints2)  # 둘 중 최소값 비교해서 min_changes 갱신\n",
    "    return min_changes  # 전체 보드에서의 최소 변경 횟수 반환\n",
    "\n",
    "# 입력 부분\n",
    "N, M = map(int, input().split())  # 사용자로부터 N과 M 입력 받음\n",
    "board = [input().strip() for _ in range(N)]  # 사용자로부터 보드의 상태를 입력 받음\n",
    "\n",
    "# 최소 변경 횟수 계산 및 출력\n",
    "print(min_repaints(board, N, M))  # 계산된 최소 변경 횟수 출력\n"
   ]
  },
  {
   "cell_type": "markdown",
   "id": "c9f8478d-ecce-4dc6-b1d9-75917f6eb273",
   "metadata": {},
   "source": [
    "### 두번째 시도,\n",
    "풀렸는데 너무 무식함"
   ]
  },
  {
   "cell_type": "code",
   "execution_count": null,
   "id": "42e835cc-03cb-4ea8-9d2a-cf16d8e0e9af",
   "metadata": {},
   "outputs": [],
   "source": [
    "N, M = map(int, input().split())\n",
    "board = [list(input()) for _ in range(N)]\n",
    "\n",
    "answer = []\n",
    "for i in range(len(board)-7):\n",
    "    for j in range(len(board[0])-7):\n",
    "        first_cnt = 0 # 첫번째, left-top이 W로 시작하는 체스판\n",
    "        second_cnt = 0 # 두번째, left-top이 B로 시작하는 체스판\n",
    "        for a in range(8):\n",
    "            if a % 2 == 0:\n",
    "                for e in range(0,7,2):\n",
    "                    if board[i+a][j+e] != \"W\":\n",
    "                        first_cnt += 1\n",
    "                for o in range(1,8,2):\n",
    "                    if board[i+a][j+o] != \"B\":\n",
    "                        first_cnt += 1\n",
    "            else:\n",
    "                for e in range(0,7,2):\n",
    "                    if board[i+a][j+e] != \"B\":\n",
    "                        first_cnt += 1\n",
    "                for o in range(1,8,2):\n",
    "                    if board[i+a][j+o] != \"W\":\n",
    "                        first_cnt += 1\n",
    "        for a in range(8):\n",
    "            if a % 2 == 0:\n",
    "                for e in range(0,7,2):\n",
    "                    if board[i+a][j+e] != \"B\":\n",
    "                        second_cnt += 1\n",
    "                for o in range(1,8,2):\n",
    "                    if board[i+a][j+o] != \"W\":\n",
    "                        second_cnt += 1\n",
    "            else:\n",
    "                for e in range(0,7,2):\n",
    "                    if board[i+a][j+e] != \"W\":\n",
    "                        second_cnt += 1\n",
    "                for o in range(1,8,2):\n",
    "                    if board[i+a][j+o] != \"B\":\n",
    "                        second_cnt += 1\n",
    "        minimum = min(first_cnt, second_cnt)\n",
    "        answer.append(minimum)\n",
    "                    \n",
    "print(min(answer))"
   ]
  },
  {
   "cell_type": "markdown",
   "id": "3fc4c135-1ca0-4b20-85fd-2d7e6fa1dd55",
   "metadata": {},
   "source": [
    "### 최적화"
   ]
  },
  {
   "cell_type": "code",
   "execution_count": null,
   "id": "0b9b20a0-c827-42e0-9cfb-556ba8d334ef",
   "metadata": {},
   "outputs": [],
   "source": [
    "N, M = map(int, input().split())\n",
    "board = [list(input()) for _ in range(N)]\n",
    "\n",
    "answer = []\n",
    "for i in range(len(board)-7):  # 8x8 크기만큼 보드를 순회\n",
    "    for j in range(len(board[0])-7):\n",
    "        first_cnt = 0 # 첫번째, left-top이 W로 시작하는 체스판\n",
    "        second_cnt = 0 # 두번째, left-top이 B로 시작하는 체스판\n",
    "        for h in range(8):\n",
    "            if h % 2 == 0:\n",
    "                for w in range(0,8,2):\n",
    "                    if board[i+h][j+w] != \"W\":\n",
    "                        first_cnt += 1\n",
    "                    if board[i+h][j+w] != \"B\":\n",
    "                        second_cnt += 1\n",
    "                for w in range(1,8,2):\n",
    "                    if board[i+h][j+w] != \"B\":\n",
    "                        first_cnt += 1\n",
    "                    if board[i+h][j+w] != \"W\":\n",
    "                        second_cnt += 1\n",
    "            else:\n",
    "                for w in range(0,8,2):\n",
    "                    if board[i+h][j+w] != \"B\":\n",
    "                        first_cnt += 1\n",
    "                    if board[i+h][j+w] != \"W\":\n",
    "                        second_cnt += 1\n",
    "                for w in range(1,8,2):\n",
    "                    if board[i+h][j+w] != \"W\":\n",
    "                        first_cnt += 1\n",
    "                    if board[i+h][j+w] != \"B\":\n",
    "                        second_cnt += 1\n",
    "        minimum = min(first_cnt, second_cnt)\n",
    "        answer.append(minimum)\n",
    "                    \n",
    "print(min(answer))"
   ]
  },
  {
   "cell_type": "markdown",
   "id": "25334efa-4d7d-4d4d-ba2e-49cde22503d0",
   "metadata": {},
   "source": [
    "### 좀 더 최적화"
   ]
  },
  {
   "cell_type": "code",
   "execution_count": null,
   "id": "89d8eeac-4f92-484e-afbd-324768b0f2b9",
   "metadata": {},
   "outputs": [],
   "source": [
    "N, M = map(int, input().split())\n",
    "board = [list(input()) for _ in range(N)]\n",
    "\n",
    "min_changes = float('inf')\n",
    "\n",
    "for i in range(N - 7):\n",
    "    for j in range(M - 7):\n",
    "        first_cnt, second_cnt = 0, 0\n",
    "        for h in range(8):\n",
    "            for w in range(8):\n",
    "                if (h + w) % 2 == 0:    \n",
    "                    if board[i+h][j+w] != 'W':  # left-top이 W로 시작하는 체스판에서 W여야 하는데 W가 아닌 곳\n",
    "                        first_cnt += 1\n",
    "                    if board[i+h][j+w] != 'B':  # left-top이 B로 시작하는 체스판에서 B여야 하는데 B가 아닌 곳\n",
    "                        second_cnt += 1\n",
    "                else:                    \n",
    "                    if board[i+h][j+w] != 'B': # left-top이 W로 시작하는 체스판에서 B여야 하는데 B가 아닌 곳\n",
    "                        first_cnt += 1\n",
    "                    if board[i+h][j+w] != 'W': # left-top이 B로 시작하는 체스판에서 W여야 하는데 W가 아닌 곳\n",
    "                        second_cnt += 1\n",
    "        min_changes = min(min_changes, first_cnt, second_cnt)\n",
    "    \n",
    "print(min_changes)"
   ]
  },
  {
   "cell_type": "code",
   "execution_count": null,
   "id": "b677ab9a-2f03-49a0-8e1e-5761f346548d",
   "metadata": {},
   "outputs": [],
   "source": [
    "if (h + w) % 2 == 0:  이 조건문이 의미하는 것은\n",
    "h와 w가 0부터 시작하므로\n",
    "두 변수의 합이 짝수면 left-top이 W 또는 B로 시작하는 체스판을 의미하게 된다.\n",
    "W여야 하는 곳이 W가 아니면 첫번째 경우를 카운트하고\n",
    "B여야 하는 곳이 B가 아니면 두번째 경우를 카운트한다.\n",
    "\n",
    "반대로 else: 에서는\n",
    "left-top이 W 로 시작하는 체스판에서 W가 아닌 모든 곳\n",
    "또는\n",
    "left-top이 B 로 시작하는 체스판에서 B가 아닌 모든 곳을 카운트한다.\n",
    "\n",
    "그림을 그려보면 명약관화해진다."
   ]
  },
  {
   "cell_type": "markdown",
   "id": "ff674632-8368-4b50-b911-3d23663db356",
   "metadata": {},
   "source": [
    "# 문)1436 \n",
    "https://www.acmicpc.net/problem/1436"
   ]
  },
  {
   "cell_type": "code",
   "execution_count": null,
   "id": "77e69de4-dc6d-4c2f-b564-390062207ecf",
   "metadata": {},
   "outputs": [],
   "source": [
    "종말의 수란 어떤 수에 6이 적어도 3개 이상 연속으로 들어가는 수를 말한다. \n",
    "제일 작은 종말의 수는 666이고, 그 다음으로 큰 수는 1666, 2666, 3666, .... 이다. \n",
    "따라서, 첫 번째 영화의 제목은 \"세상의 종말 666\", \n",
    "두 번째 영화의 제목은 \"세상의 종말 1666\"와 같이 이름을 지을 것이다.\n",
    "일반화해서 생각하면, N번째 영화의 제목은 세상의 종말 (N번째로 작은 종말의 수) 와 같다.\n",
    "\n",
    "입력\n",
    "첫째 줄에 N이 주어진다. N은 10,000보다 작거나 같은 자연수이다.\n",
    "\n",
    "출력\n",
    "첫째 줄에 N번째 영화의 제목에 들어간 수를 출력한다.\n",
    "\n",
    "입력 6\n",
    "출력 5666\n",
    "\n",
    "입력 187\n",
    "출력 66666"
   ]
  },
  {
   "cell_type": "code",
   "execution_count": 18,
   "id": "242edf50-f298-4fcb-b62a-f64ca1cfdeb0",
   "metadata": {
    "tags": []
   },
   "outputs": [
    {
     "name": "stdin",
     "output_type": "stream",
     "text": [
      " 7\n"
     ]
    },
    {
     "name": "stdout",
     "output_type": "stream",
     "text": [
      "6660\n"
     ]
    }
   ],
   "source": [
    "'''\n",
    "새로운 서수 체계를 만든다고 보면 된다.\n",
    "이 서수 체계에서는 6이 최소한 3개 이상 연달아 들어 있어야 서수로 인정된다.\n",
    "이 서수 체계에서의 첫번째 서수는 666이다.\n",
    "다음번 서수는 667, 668,......,1665 다음 1666이 두번째 서수가 된다.\n",
    "세번째 서수는 1667, 1668,......,2665 다음 2666이 세번째 서수가 된다.\n",
    "네번째 서수는 3666\n",
    "다섯번째 서수는 4666\n",
    "여섯번째 서수는 5666\n",
    "일곱번째 서수는 5667, 5668,......,6659 다음 6660 이 일곱번째 서수가 된다.\n",
    "이제 일반적인 십진수 체계의 서수를 입력하면 \n",
    "그 순번에 해당하는 이 새로운 서수 체계의 서수를 반환하는 함수는 다음과 같다.\n",
    "'''\n",
    "def find_title_number(N):\n",
    "    number = 666\n",
    "    count = 0\n",
    "\n",
    "    while True:\n",
    "        if '666' in str(number):\n",
    "            count += 1\n",
    "            if count == N:\n",
    "                return number\n",
    "        number += 1\n",
    "\n",
    "\n",
    "# 입력 부분\n",
    "N = int(input()) # 십진수 서수 입력\n",
    "\n",
    "print(find_title_number(N))"
   ]
  },
  {
   "cell_type": "code",
   "execution_count": 50,
   "id": "716cf171-c9b4-438a-84c0-0f78fb1b00aa",
   "metadata": {
    "tags": []
   },
   "outputs": [
    {
     "name": "stdin",
     "output_type": "stream",
     "text": [
      " 187\n"
     ]
    },
    {
     "name": "stdout",
     "output_type": "stream",
     "text": [
      "66666\n"
     ]
    }
   ],
   "source": [
    "\n",
    "N = int(input())\n",
    "\n",
    "cnt_end_num = 0\n",
    "num = 0\n",
    "while cnt_end_num != N:\n",
    "    num += 1\n",
    "    number = str(num)\n",
    "    if '666'in number:\n",
    "        cnt_end_num += 1\n",
    "print(num)"
   ]
  },
  {
   "cell_type": "markdown",
   "id": "421310ee-25af-437f-8c6a-7368f693ea38",
   "metadata": {},
   "source": [
    "# 문)2839\n",
    "https://www.acmicpc.net/problem/2839"
   ]
  },
  {
   "cell_type": "markdown",
   "id": "bdadb673-6af7-4415-9cb1-ad8821681a5b",
   "metadata": {},
   "source": [
    "###### 사탕가게에 설탕을 정확하게 N킬로그램을 배달해야 한다. \n",
    "봉지는 3킬로그램 봉지와 5킬로그램 봉지가 있다.\n",
    "\n",
    "최대한 적은 봉지를 들고 가야 한다. \n",
    "예를 들어, 18킬로그램 설탕을 배달해야 할 때, \n",
    "5킬로그램 3개와 3킬로그램 1개를 배달하면, 더 적은 개수의 봉지를 배달할 수 있다.\n",
    "\n",
    "설탕을 정확하게 N킬로그램 배달해야 할 때, \n",
    "봉지 몇 개를 가져가면 되는지 그 수를 구하는 프로그램을 작성하시오.\n",
    "\n",
    "입력\n",
    "첫째 줄에 N이 주어진다. (3 ≤ N ≤ 5000)\n",
    "\n",
    "출력\n",
    "봉지의 최소 개수를 출력한다. 만약, 정확하게 N킬로그램을 만들 수 없다면 -1을 출력한다.\n",
    "\n",
    "입력 18\n",
    "출력 4\n",
    "\n",
    "입력 4\n",
    "출력-1"
   ]
  },
  {
   "cell_type": "code",
   "execution_count": null,
   "id": "c7c6f83d-f815-435a-87cd-681d7f1bdde0",
   "metadata": {},
   "outputs": [],
   "source": []
  },
  {
   "cell_type": "code",
   "execution_count": null,
   "id": "ff429135-7e53-44dd-ad81-93bcdbfd65df",
   "metadata": {},
   "outputs": [],
   "source": []
  },
  {
   "cell_type": "markdown",
   "id": "4f540399-a64b-47c8-9018-735cb45093b4",
   "metadata": {},
   "source": [
    "### 두번째 시도 실패"
   ]
  },
  {
   "cell_type": "code",
   "execution_count": null,
   "id": "af696e87-6940-4da1-b636-9b70385c3202",
   "metadata": {},
   "outputs": [],
   "source": [
    "import sys\n",
    "\n",
    "N = int(input())\n",
    "\n",
    "five = N // 5\n",
    "while five >= 0:\n",
    "    remainder = N - five * 5\n",
    "    if remainder % 3 == 0:\n",
    "        print(five + remainder // 3)\n",
    "        break\n",
    "    else:\n",
    "        five -= 1\n",
    "else:\n",
    "    print(-1)"
   ]
  },
  {
   "cell_type": "code",
   "execution_count": 44,
   "id": "d33ac252-c720-4414-8fc5-e674a74f2d01",
   "metadata": {
    "tags": []
   },
   "outputs": [
    {
     "name": "stdin",
     "output_type": "stream",
     "text": [
      " 4\n"
     ]
    },
    {
     "name": "stdout",
     "output_type": "stream",
     "text": [
      "-1\n"
     ]
    }
   ],
   "source": [
    "import sys\n",
    "\n",
    "N = int(input())\n",
    "\n",
    "def min_bag(N, three):\n",
    "    if N % 5 == 0:\n",
    "        return N//5 + three\n",
    "    elif N % 5 != 0 and N > 0:\n",
    "        return min_bag(N-3, three+1)\n",
    "    else:\n",
    "        return -1\n",
    "print(min_bag(N, 0))"
   ]
  },
  {
   "cell_type": "code",
   "execution_count": 36,
   "id": "2d817bf8-3d6f-4f79-a732-cf679331e1e6",
   "metadata": {},
   "outputs": [
    {
     "name": "stdin",
     "output_type": "stream",
     "text": [
      " 31\n"
     ]
    },
    {
     "name": "stdout",
     "output_type": "stream",
     "text": [
      "7\n"
     ]
    }
   ],
   "source": [
    "'''\n",
    "가장 효율적인 방법은 가능한 한 많은 5킬로그램 봉지를 사용하는 것입니다. \n",
    "왜냐하면 더 큰 무게를 담을 수 있는 봉지를 사용할수록 총 봉지 수를 줄일 수 있기 때문입니다. \n",
    "따라서, 우리는 먼저 가능한 한 많은 5킬로그램 봉지를 사용하고, \n",
    "남은 무게를 3킬로그램 봉지로 채워야 합니다. \n",
    "\n",
    "만약 남은 무게가 3의 배수가 아니라면, 5킬로그램 봉지의 수를 줄이고 다시 시도합니다. \n",
    "이 과정을 반복하여 최소한의 봉지 수를 찾거나,\n",
    "정확한 무게를 만들 수 없다면 -1을 반환합니다.\n",
    "'''\n",
    "def min_bags(N):\n",
    "    five_count = N // 5       # 5kg 봉지로 담을 수 있는 최대 개수부터 시작\n",
    "    while five_count >= 0:    \n",
    "        rest = N - 5 * five_count # 원래 무게에서 5kg 봉지로 나눠 담을 수 있는 최대 무게를 뺀 나머지 무게 계산\n",
    "        if rest % 3 == 0:            # 남은 무게가 3으로 나눠 떨어지면\n",
    "            three_count = rest // 3  # 3kg 봉지개수 계산\n",
    "            return five_count + three_count\n",
    "        five_count -= 1                 # 남은 무게가 3으로 나눠 떨어지지 않으면\n",
    "                                        # 5kg 봉지 하나를 풀고 다시 계산 \n",
    "        \n",
    "    # 정확하게 N킬로그램을 만들 수 없는 경우\n",
    "    return -1\n",
    "\n",
    "# 입력 부분\n",
    "N = int(input())  # 봉지에 나눠 담을 물건 총 무게\n",
    "\n",
    "# 결과 출력\n",
    "print(min_bags(N))\n"
   ]
  },
  {
   "cell_type": "code",
   "execution_count": 23,
   "id": "113f6ee3-7f95-4e79-a587-e96f32dbccca",
   "metadata": {
    "tags": []
   },
   "outputs": [
    {
     "data": {
      "text/plain": [
       "False"
      ]
     },
     "execution_count": 23,
     "metadata": {},
     "output_type": "execute_result"
    }
   ],
   "source": [
    "# rest = N % five_count  이렇게 하면 안되는 이유가 뭘까. N이 14인 경우, five_count는 2가 되는데 rest는 0이 된다. 4여야 함.\n",
    "# N이 71인 경우 five_count는 14가 되고 rest는 1이 된다. N이 14일 땐 rest 계산이 틀려지는데\n",
    "# N이 71일 땐 옳은 rest가 나온다. 왜 그럴까?\n",
    "'''\n",
    "`rest = N % five_count`가 항상 올바른 결과를 반환하지 않는 이유는 \n",
    "나머지 연산(`%`)의 의미와 그것이 이 문제에 어떻게 적용되는지를 고려할 때 명확해집니다.\n",
    "\n",
    "- **나머지 연산의 의미**: \n",
    "`A % B`는 `A`를 `B`로 나눈 나머지를 반환합니다. \n",
    "즉, `A`에서 `B`의 배수를 최대한 많이 뺀 후 남은 값입니다.\n",
    "\n",
    "- **이 문제에서의 적용**: \n",
    "여기서 `A`는 `N`(총 설탕의 무게), `B`는 `five_count`(5킬로그램 봉지의 최대 개수)입니다. \n",
    "`N % five_count`는 `N`에서 5킬로그램 봉지의 최대 개수(`five_count`)의 배수를 뺀 나머지를 반환합니다. \n",
    "하지만, 이 계산은 우리가 원하는 것이 아닙니다.\n",
    "\n",
    "문제에서 우리가 원하는 것은 `N`에서 5킬로그램 봉지로 담을 수 있는 최대 무게(`5 * five_count`)를 뺀 나머지입니다. \n",
    "이 값은 `N`에서 5킬로그램 봉지로 담을 수 있는 무게를 뺀 후 남은 무게를 의미하며, \n",
    "이것이 바로 3킬로그램 봉지로 채워야 할 남은 무게입니다.\n",
    "\n",
    "따라서, `N % five_count` 대신 `N - 5 * five_count`를 사용하는 것이 올바른 접근 방법입니다.\n",
    "\n",
    "예시를 들어보겠습니다:\n",
    "\n",
    "- **N이 14인 경우**: `five_count`는 2가 됩니다. `14 % 2`는 0을 반환합니다. \n",
    "하지만, 실제로는 14에서 10(5킬로그램 봉지 2개)을 뺀 4킬로그램이 남은 무게입니다. \n",
    "따라서 `14 - 5 * 2`는 4를 올바르게 반환합니다.\n",
    "\n",
    "- **N이 71인 경우**: `five_count`는 14가 됩니다. `71 % 14`는 1을 반환하는데,\n",
    "이는 우연히도 올바른 남은 무게와 일치합니다. \n",
    "그러나 이는 특정한 경우에 해당하며 일반적으로 적용될 수 있는 계산 방식은 아닙니다.\n",
    "'''"
   ]
  },
  {
   "cell_type": "code",
   "execution_count": null,
   "id": "e86b879f-6951-4917-981d-9c1d71df0977",
   "metadata": {},
   "outputs": [],
   "source": [
    "맨 처음 5의 배수인지 확인. 맞으면 5로 나눈 몫 반환\n",
    "\n",
    "아니면 3으로 나눈 나머지가 5의 배수인지 확인. >>> 이 아이디어를 바꿔 표현하면 처음무게에서 3을 뺀 나머지가 5의 배수인지 확인하는 것\n",
    "아니면 다시 3으로 나누고 5의 배수인지 확인\n",
    "반복.\n",
    "\n",
    "5의 배수면 5로 나눈 몫에 3으로 나눈 횟수 더해서 반환\n",
    "3으로 계속 나눠서 나눠 떨어지면 3으로 나눈 횟수 반환\n",
    "3으로 계속 나눴는데 안나눠 떨어지면 -1 반환"
   ]
  },
  {
   "cell_type": "code",
   "execution_count": 19,
   "id": "3639f950-9bf1-43a1-8a80-18a8a0e340cd",
   "metadata": {
    "tags": []
   },
   "outputs": [
    {
     "name": "stdin",
     "output_type": "stream",
     "text": [
      " 14\n"
     ]
    },
    {
     "name": "stdout",
     "output_type": "stream",
     "text": [
      "4\n"
     ]
    }
   ],
   "source": [
    "'''\n",
    "먼저 5킬로그램 봉지로 나눠 떨어지는지 확인하고, \n",
    "그렇지 않으면 3킬로그램 봉지를 하나 추가한 뒤 남은 무게에 대해 다시 함수를 호출합니다. \n",
    "이 과정을 반복하여 최적의 해를 찾습니다.\n",
    "'''\n",
    "def min_bags(N, three_count = 0):\n",
    "    if N % 5 == 0:                     # 5킬로그램 봉지로 나눠 떨어지는 경우\n",
    "        return N // 5 + three_count\n",
    "    elif N >= 3:                       # 5킬로그램 봉지로 안 나눠 떨어지는 경우\n",
    "        return min_bags(N - 3, three_count + 1)     # 3킬로그램 봉지를 하나 추가하고 나머지를 다시 계산\n",
    "    else:                              # 3킬로그램 봉지로도 나눠 떨어지지 않는 경우\n",
    "        return -1\n",
    "\n",
    "# 입력 부분\n",
    "N = int(input()) # 봉지에 나눠 담을 물건 총 무게\n",
    "\n",
    "# 결과 출력\n",
    "print(min_bags(N))"
   ]
  },
  {
   "cell_type": "code",
   "execution_count": null,
   "id": "a71a564a-1d81-4651-bb87-ce4e6fdc38ff",
   "metadata": {},
   "outputs": [],
   "source": []
  }
 ],
 "metadata": {
  "kernelspec": {
   "display_name": "Python 3 (ipykernel)",
   "language": "python",
   "name": "python3"
  },
  "language_info": {
   "codemirror_mode": {
    "name": "ipython",
    "version": 3
   },
   "file_extension": ".py",
   "mimetype": "text/x-python",
   "name": "python",
   "nbconvert_exporter": "python",
   "pygments_lexer": "ipython3",
   "version": "3.11.0"
  }
 },
 "nbformat": 4,
 "nbformat_minor": 5
}
