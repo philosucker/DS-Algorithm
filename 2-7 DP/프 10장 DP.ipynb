{
 "cells": [
  {
   "cell_type": "markdown",
   "id": "d0db38cc-a17d-4ef8-8c26-e65060b4e292",
   "metadata": {},
   "source": [
    "# h: 39, 40, 41, 42"
   ]
  },
  {
   "cell_type": "markdown",
   "id": "0164d527-bc40-47ca-a0ea-c8e3a0f4939a",
   "metadata": {},
   "source": [
    "### 문제를 풀다가 시간초과가 나는 경우\n",
    "\n",
    "    순차탐색이 막히면 >>> 데이터를 정렬해 이진탐색을 하거나\n",
    "\n",
    "    배열말고 >>> 해시 테이블을 쓰거나.\n",
    "\n",
    "\n",
    "**완전탐색의 장점은 최적해를 찾을 수 있다는 것.**\n",
    "\n",
    "    완전탐색 방법 : brute force, (중복)조합, (중복)순열, 비트마스크(비트조작), 재귀, DFS/BFS\n",
    "    완전탐색 효율화 : 방문처리(갔던 곳 다시 가지 않게)/백트래킹(프루닝, 조건을 걸어 필요 없는 부분은 탐색하지 않게)\n",
    "\n",
    "단점은 비용이 높다. 경우의 수가 많으면 시간이 오래걸려.\n",
    "\n",
    "    입력 크기가 일정 크기 이상이면 사용할수 없다.\n",
    "        따라서 완전탐색문제를 출제했다면 입력 크기를 적절히 작게 준다. 평가하려는게 완전탐색 풀이능력이니까\n",
    "    \n",
    "    \n",
    "근데 완전탐색을 써야하는데도 입력이 아주 크다면?\n",
    "\n",
    "    DP를 고려해봐야 한다.\n",
    "\n",
    "    중복되는 하위문제가 있다면 tabulation, memoization으로 최적화할 수 있으니까."
   ]
  },
  {
   "cell_type": "markdown",
   "id": "c4448895-dba2-4555-aa5d-f3d762f4a02e",
   "metadata": {},
   "source": [
    "일단 DP를 쓰려면 두 가지를 만족해야 한다."
   ]
  },
  {
   "cell_type": "markdown",
   "id": "0c8e8508-f2bb-4f4b-90f0-5b7a448f228f",
   "metadata": {},
   "source": [
    "1. 최적부분구조\n",
    "\n",
    "    작은 문제에서 최선의 선택을 했을 때, 큰 문제(최종결과)역시 최선의 선택이 되는 구조\n",
    "    하나의 작은 문제에서의 선택에 나른 문제에서 최선인 선택에 영향을 주면 안되기 때문에\n",
    "    모든 작은 문제는 독립적이어야 한다.\n",
    "\n",
    "2. 중복되는 부분문제\n",
    "\n",
    "    똑같은 작은 문제가 반복적으로 등장하는 구조\n"
   ]
  },
  {
   "cell_type": "markdown",
   "id": "1417860d-0bec-431c-bd75-3a6820ab1059",
   "metadata": {},
   "source": [
    "**파알 23장 DP 참조**"
   ]
  },
  {
   "cell_type": "markdown",
   "id": "038554d0-fb09-4a94-98b4-92a9083b9029",
   "metadata": {},
   "source": [
    "하향식 memoization : \n",
    "\n",
    "    완전탐색 + 중복제거 느낌\n",
    "    작은 문제에 대한 답만 주면, \n",
    "    재귀를 거슬러 올라가면서 최선의 답이 나올거라 가정하고 푸는 방식\n",
    "\n",
    "상향식 tabulation : \n",
    "\n",
    "    반복문 사용. \n",
    "    따라서 몇번 반복해야하는지 알아야 하고\n",
    "    그 사이에 어떤 계산을 해야하는 지 알아야 한다. 여기서 중복처리를 해준다.\n",
    "    즉 전체 문제가 어떻게 쪼개져야 하는지 미리 설계되어야 한다."
   ]
  },
  {
   "cell_type": "markdown",
   "id": "1c5bcea4-8717-4666-a11c-46e3f22a3ea4",
   "metadata": {},
   "source": [
    "# 문39 N으로 표현 h\n",
    "https://school.programmers.co.kr/learn/courses/30/lessons/42895"
   ]
  },
  {
   "cell_type": "markdown",
   "id": "bdefca4a-097d-4f17-896c-2988327b0eaf",
   "metadata": {},
   "source": [
    "# 문40 정수 삼각형\n",
    "https://school.programmers.co.kr/learn/courses/30/lessons/43105"
   ]
  },
  {
   "cell_type": "markdown",
   "id": "08b2b392-97d5-4668-ae83-be3f6e680a7c",
   "metadata": {},
   "source": [
    "# 문41 등교길\n",
    "https://school.programmers.co.kr/learn/courses/30/lessons/42898"
   ]
  },
  {
   "cell_type": "markdown",
   "id": "8d9c581f-dd0b-4eae-a8b4-5c1981221789",
   "metadata": {},
   "source": [
    "# 문42 도둑질\n",
    "https://school.programmers.co.kr/learn/courses/30/lessons/42897"
   ]
  }
 ],
 "metadata": {
  "kernelspec": {
   "display_name": "tf",
   "language": "python",
   "name": "tf"
  },
  "language_info": {
   "codemirror_mode": {
    "name": "ipython",
    "version": 3
   },
   "file_extension": ".py",
   "mimetype": "text/x-python",
   "name": "python",
   "nbconvert_exporter": "python",
   "pygments_lexer": "ipython3",
   "version": "3.11.0"
  }
 },
 "nbformat": 4,
 "nbformat_minor": 5
}
