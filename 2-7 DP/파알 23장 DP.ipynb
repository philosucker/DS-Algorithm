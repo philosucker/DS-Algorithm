{
 "cells": [
  {
   "cell_type": "markdown",
   "id": "2b17974d-1435-4376-821b-f46359237d8c",
   "metadata": {},
   "source": [
    "### e: 85, 87\n",
    "### m: 86, 88"
   ]
  },
  {
   "cell_type": "markdown",
   "id": "0fdf6f5e-b52b-4b2f-af8d-e9dab865fc14",
   "metadata": {},
   "source": [
    "# 23장 DP"
   ]
  },
  {
   "cell_type": "markdown",
   "id": "2f0601f1-349f-49a7-9619-94021c0fcc1e",
   "metadata": {},
   "source": [
    "# 최적부분구조 Optimal Substructure 정의 \n",
    "문제의 최적 해결책이 해당 문제의 부분 문제들의 최적 해결책으로부터 구성될 수 있을 때  \n",
    "그 문제는 최적부분구조를 가진다"
   ]
  },
  {
   "cell_type": "markdown",
   "id": "1548056a-db64-4319-9918-16098f37ebe8",
   "metadata": {
    "tags": []
   },
   "source": [
    "# 1. 분할정복과 DP 비교"
   ]
  },
  {
   "cell_type": "markdown",
   "id": "33eb8f5b-cf85-4714-b168-423ca8c45676",
   "metadata": {},
   "source": [
    "### 분할 정복 (Divide and Conquer):\n",
    "\n",
    "#### 작동 원리: \n",
    "    큰 문제를 동일한 구조의 작은 부분 문제로 나누고, \n",
    "    이들을 개별적으로 해결한 다음, \n",
    "    그 결과를 합쳐서 원래 문제의 해답을 찾는다.\n",
    "\n",
    "## **특징1: 각 부분 문제는 독립적으로 처리된다.** \n",
    "\n",
    "    큰문제와 작은문제의 구조는 같고(최적부분구조)\n",
    "    부분문제의 내용은 대체로 다르다. 중복되는 부분문제가 거의 없다. (있을 수도 있음)\n",
    "    \n",
    "예시: 퀵정렬, 병합정렬, 이진 검색 등.\n",
    "\n",
    "    퀵정렬, 병합정렬에서 정렬 대상이 되는 배열의 쪼개진 각 부분들은 거의 중복되지 않는다. \n",
    "    물론 각 쪼개진 부분들에 중복되는 요소(값)들이 존재할 수 있지만\n",
    "    모든 부분문제에 같은 문제 풀이 방법을 일괄적용한다. == 독립적으로 처리된다\n",
    "    \n",
    "**병합정렬과 퀵정렬은 같은 분할정복이지만 디테일은 약간 다르다**\n",
    "    \n",
    "        퀵정렬은 쪼개는 과정에서 동시에 문제를 푼다.\n",
    "        병합정렬은 다 쪼개놓고 그 다음 문제를 푼다.\n",
    "        \n",
    "        퀵정렬은 분할-정복만 하면 된다.\n",
    "        병합정렬은 분할-정복-조합(결합) 과정이 필요하다.\n",
    "        \n",
    "            분할정복은 정확히 말하면 (파알 책 607p 참고)\n",
    "            \n",
    "            퀵 정렬의 경우 : \n",
    "    분할-정복 ㅡ> 분할-정복 ㅡ> 분할-정복... \n",
    "    의 반복이다. \n",
    "            \n",
    "            병합 정렬의 경우 : \n",
    "    분할-분할...ㅡ> 정복-조합 ㅡ> 분할-분할...ㅡ> 정복-조합...ㅡ> 정복-조합-정복-조합... \n",
    "    의 반복이다. \n",
    "    \n",
    "## **특징2 :부분 문제들을 개별적으로 해결한 다음**\n",
    "## **해결책을 결합하여 전체 문제의 해결책을 구하는 방식이다.**        "
   ]
  },
  {
   "cell_type": "code",
   "execution_count": null,
   "id": "d9a2bff7-d368-45d4-95ea-1b70c0c243d2",
   "metadata": {},
   "outputs": [],
   "source": []
  },
  {
   "cell_type": "markdown",
   "id": "3e7e1b02-5eb0-4cad-b75c-5ef548d37810",
   "metadata": {},
   "source": [
    "        \n",
    "\n",
    "## 동적 프로그래밍 (Dynamic Programming):\n",
    "\n",
    "#### 작동 원리: \n",
    "    큰 문제를 해결할 수 있는 작은 부분 문제들로 나누는데, (i.e. 최적부분구조를 가지는데)\n",
    "    부분문제들이 중복되는 경우가 있다.\n",
    "        (바꿔말해 재귀함수가 새로운 하위문제를 만드는게 아니라, \n",
    "        내용이 중복되는ㅡ따라서 답도 중복되는ㅡ 똑같은 문제를 만드는 경우) \n",
    "\n",
    "    각 부분 문제의 해답을 저장(메모이제이션) 또는 타뷸레이션을 만들어 놓고\n",
    "    중복되는 부분문제가 나오면 저장했던 결과를 재사용(메모이제이션)하면서 또는 타뷸레이션을 써서 문제의 해답을 찾는다.\n",
    "\n",
    "## **특징1: 중복되는 부분 문제들이 있고** \n",
    "    즉 문제 구조만 같은게 아니라 문제 내용(의 답)까지 똑같은 부분문제가 존재한다.\n",
    "\n",
    "## **특징2: 중복되는 문제들은 별도의 알고리즘으로 처리한다**\n",
    "    모든 부분문제에 같은 문제 풀이 방법을 일괄적용하지 않는다. \n",
    "    다시 말해 독립적으로 처리하지 않는다\n",
    "    \n",
    "    메모이제이션, 타뷸레이션\n",
    "\n",
    "예시: 피보나치 수열 계산, 최소 비용 경로 찾기, 0-1 배낭 문제 등."
   ]
  },
  {
   "cell_type": "markdown",
   "id": "307b46dc-2c55-4bee-9a4a-11502dbc6fff",
   "metadata": {},
   "source": [
    "## 분할정복과 DP의 공통점은 \n",
    "### 문제를 같은 구조의 좀 더 작은 단위로 쪼개놓고 푼다는 것이다\n",
    "#### 다시 말해 최적부분구조가 있다\n",
    "\n",
    "## 분할정복과 DP의 차이점은 \n",
    "### 분할정복은 분할된 작은 문제들을 해결하고, 해결된 결과들을 합쳐 전체 문제 해결책을 내놓고\n",
    "### DP는 최적부분구조의 부분문제들 중 중복된 문제들을 별도 알고리즘으로 푼다는 것이다"
   ]
  },
  {
   "cell_type": "markdown",
   "id": "90a085a9-a12a-47c6-996a-4cde6ccefe91",
   "metadata": {},
   "source": [
    "# 2. DP와 그리디 비교\n",
    "#### (프12장 그리디 참고)"
   ]
  },
  {
   "cell_type": "markdown",
   "id": "d0b68028-88f1-4a03-88c2-38f2a8dd2aa4",
   "metadata": {
    "tags": []
   },
   "source": [
    "#### 공통점 : \n",
    "\n",
    "분할정복, DP와 마찬가지로  \n",
    "그리디도 문제가 최적부분구조 Optimal Substructure를 가지고 있다.\n",
    "\n",
    "#### 차이점 :\n",
    "  \n",
    "그리디 알고리즘으로 풀리는 문제가 '최적부분구조를 가진다'는 말의 의미\n",
    "\n",
    "    매 단계에서의 선택들이 (로컬 최적해 선택들이) \n",
    "    전체 문제에 대한 최종적인 해결책이 (전역 최적해가) 될 수 있어야 한다.\n",
    "\n",
    "    그리디 알고리즘에서의 \"각 단계\"는 전체 문제에 대한 접근 방식에서, 매 순간(현재 상황에서) 최선의 선택을 의미합니다.\n",
    "    이 선택은 부분 문제의 명시적 분할보다는 로컬 최적의 결정에 중점을 둡니다.\n",
    "\n",
    "DP에서 최적부분구조의 의미\n",
    "\n",
    "        큰문제의 해결책이 작은문제의 해결책과 동일한 구조의 문제일 뿐만 아니라\n",
    "        중복되기도 해야한다\n",
    "        \n",
    "            분할정복에서 각 부분문제들은 중복되지 않는다. \n",
    "            독립적인 문제들이다. \n",
    "                정확히 말하면 중복되는 문제가 있을수도 있지만 \n",
    "                (예를 들어 어떤 배열을 병합정렬하는데 특정 부분들에 원소값들이 같은 순서로 배열되어 있을 수 있다)\n",
    "                해당 부분에는 동일한 해결책이 독립적으로 새로 적용된다.\n",
    "            따라서 중복되지 않는 문제들은 DP로 풀지 않는다.분할정복으로 푼다.\n",
    "        \n",
    "        중복되는 작은문제(하위문제)가 있어야 DP로 푼다.\n",
    "            정확히 말하면 중복되는 하위문제가 있을 때, 메모이제이션(또는 타뷸레이션)을 쓸수 있으면 DP로 푼다.\n",
    "\n",
    "            하지만 분할정복 알고리즘은 중복된 하위문제들을 푸는게 아니기 때문에 DP로 분류하지 않는다."
   ]
  },
  {
   "cell_type": "code",
   "execution_count": null,
   "id": "637f4aeb-f5e9-4cf2-b4b5-0279fb52bbd6",
   "metadata": {},
   "outputs": [],
   "source": []
  },
  {
   "cell_type": "markdown",
   "id": "7ce7b92b-3a30-4b57-b4ce-4d25be7ccaea",
   "metadata": {},
   "source": [
    "# DP, 그리디, 분할정복 비교"
   ]
  },
  {
   "cell_type": "markdown",
   "id": "80c857f8-54d1-4dfb-b342-341576a7bf03",
   "metadata": {},
   "source": [
    "**분할정복** : \n",
    "\n",
    "    최적부분구조 있음 (모든 경우를 다 봄)\n",
    "    중복된 하위문제 없음 \n",
    "    \n",
    "**DP** : \n",
    "\n",
    "    최적부분구조 있음 (모든 경우를 다 봄) \n",
    "    중복된 하위문제 있음 (메모이제이션 또는 타뷸레이션으로 풀이)\n",
    "    DP로 풀리는 문제는 분할정복 알고리즘으로도 풀 수 있으나 DP를 쓰는 게 효율적이다\n",
    "    \n",
    "**그리디** : \n",
    "\n",
    "    최적부분구조 있음 (모든 경우를 다 보지 않음)\n",
    "    중복된 하위문제 없음\n",
    "    \n",
    "    빠르게 근사해를 구할 수 있음\n",
    "    완전탐색이 불가능할 정도로 너무 입력이 크거나,\n",
    "    모든 경우의 수를 따지기엔 너무 복잡할 땐\n",
    "    그리디로 풀리는 경우가 많다."
   ]
  },
  {
   "cell_type": "markdown",
   "id": "69b0ab16-7f1c-4dbc-aa8f-04536521214c",
   "metadata": {},
   "source": [
    "예외 : 다익스트라 알고리즘은 그리디와 DP 속성을 모두 갖고 있다\n",
    "\n",
    "    최적부분구조(그리디하게 선택함) + 중복된 하위문제 있음(메모이제이션 활용)"
   ]
  },
  {
   "cell_type": "markdown",
   "id": "fc63d954-878b-40b2-86e6-4b84af615fbe",
   "metadata": {},
   "source": [
    "# DP의 중복된 하위문제 풀이 알고리즘\n",
    "## 1. 하향식 Memoization\n",
    "## 2. 상향식 Tabulation"
   ]
  },
  {
   "cell_type": "markdown",
   "id": "0df336d4-fe2e-4a8d-a7bf-f3e5d016398d",
   "metadata": {},
   "source": [
    "# 문85 피보나치수 e\n",
    "https://leetcode.com/problems/fibonacci-number"
   ]
  },
  {
   "cell_type": "markdown",
   "id": "bbc43688-db13-44f5-882b-6270ef8a3aa1",
   "metadata": {},
   "source": [
    "# 하향식 Memoization\n",
    "여기서 하향식은 일단 재귀호출이 끝까지 다 가고 나는 걸 의미"
   ]
  },
  {
   "cell_type": "code",
   "execution_count": 24,
   "id": "24df414d-fa67-45e4-9d68-6e1666ff7781",
   "metadata": {
    "tags": []
   },
   "outputs": [],
   "source": [
    "class Solution:\n",
    "    memo = [0, 1]\n",
    "    def fib(self, n: int) -> int: \n",
    "        if n < len(self.memo):\n",
    "            return self.memo[n]\n",
    "        else:\n",
    "            # n번째 피보나치 수를 계산하고 memo에 저장한 다음 반환\n",
    "            self.memo.append(self.fib(n-1) + self.fib(n-2))\n",
    "            return self.memo[n]"
   ]
  },
  {
   "cell_type": "code",
   "execution_count": 25,
   "id": "c22d19c8-74a2-48be-9730-f99393d358a7",
   "metadata": {
    "tags": []
   },
   "outputs": [
    {
     "data": {
      "text/plain": [
       "5"
      ]
     },
     "execution_count": 25,
     "metadata": {},
     "output_type": "execute_result"
    }
   ],
   "source": [
    "table = [0, 1]\n",
    "\n",
    "def fib(n):\n",
    "    if n < len(table):\n",
    "        return table[n]\n",
    "    table.append(fib(n-2) + fib(n-1))\n",
    "    return table[n]\n",
    "fib(5)"
   ]
  },
  {
   "cell_type": "code",
   "execution_count": 19,
   "id": "7eb5a524-f807-4d99-bd66-d6ffa55c4612",
   "metadata": {
    "tags": []
   },
   "outputs": [
    {
     "name": "stdout",
     "output_type": "stream",
     "text": [
      "defaultdict(<class 'int'>, {0: 0, 1: 1, 2: 1})\n",
      "defaultdict(<class 'int'>, {0: 0, 1: 1, 2: 1, 3: 2})\n",
      "defaultdict(<class 'int'>, {0: 0, 1: 1, 2: 1, 3: 2})\n",
      "defaultdict(<class 'int'>, {0: 0, 1: 1, 2: 1, 3: 2})\n",
      "defaultdict(<class 'int'>, {0: 0, 1: 1, 2: 1, 3: 2})\n",
      "defaultdict(<class 'int'>, {0: 0, 1: 1, 2: 1, 3: 2, 4: 3})\n",
      "defaultdict(<class 'int'>, {0: 0, 1: 1, 2: 1, 3: 2, 4: 3, 5: 5})\n"
     ]
    },
    {
     "data": {
      "text/plain": [
       "5"
      ]
     },
     "execution_count": 19,
     "metadata": {},
     "output_type": "execute_result"
    }
   ],
   "source": [
    "import collections\n",
    "\n",
    "table = collections.defaultdict(int) \n",
    "table[0] = 0\n",
    "table[1] = 1\n",
    "\n",
    "def fib(n):\n",
    "    if n < 2:\n",
    "        return table[n]\n",
    "    table[n] = fib(n-2) + fib(n-1)\n",
    "    print(table)\n",
    "    return table[n]\n",
    "    \n",
    "fib(5)"
   ]
  },
  {
   "cell_type": "code",
   "execution_count": 21,
   "id": "ac050ea8-bb06-4d8e-b032-6061acab5ef0",
   "metadata": {
    "tags": []
   },
   "outputs": [
    {
     "name": "stdout",
     "output_type": "stream",
     "text": [
      "[0, 1, 1, None, None, None, None, None, None, None, None]\n",
      "[0, 1, 1, 2, None, None, None, None, None, None, None]\n",
      "[0, 1, 1, 2, None, None, None, None, None, None, None]\n",
      "[0, 1, 1, 2, None, None, None, None, None, None, None]\n",
      "[0, 1, 1, 2, None, None, None, None, None, None, None]\n",
      "[0, 1, 1, 2, 3, None, None, None, None, None, None]\n",
      "[0, 1, 1, 2, 3, 5, None, None, None, None, None]\n"
     ]
    },
    {
     "data": {
      "text/plain": [
       "5"
      ]
     },
     "execution_count": 21,
     "metadata": {},
     "output_type": "execute_result"
    }
   ],
   "source": [
    "table = [None]*11\n",
    "table[0] = 0\n",
    "table[1] = 1\n",
    "\n",
    "fib(5)"
   ]
  },
  {
   "cell_type": "markdown",
   "id": "74c936ee-54a2-4a19-965a-697654601542",
   "metadata": {},
   "source": [
    "# 상향식 Tabulation\n",
    "이 방법만을 DP 라 지칭하는 경우도 있다  "
   ]
  },
  {
   "cell_type": "code",
   "execution_count": 31,
   "id": "66dcab42-ce76-430a-8b0e-3012e4bc62ec",
   "metadata": {
    "tags": []
   },
   "outputs": [
    {
     "data": {
      "text/plain": [
       "1"
      ]
     },
     "execution_count": 31,
     "metadata": {},
     "output_type": "execute_result"
    }
   ],
   "source": [
    "class Solution:\n",
    "    def fib(self, n: int) -> int:\n",
    "        if n == 0:               # 아래서 table을 초기화하고 0과 1 인덱스에만 값을 초기화해줬으므로\n",
    "            return 0             # 입력으로 0이 들어오면 table[1] = 1 여기서 인덱스 오류가 나게 된다. 따라서 예외 처리를 해준 것\n",
    "        \n",
    "        def tabulation(n):\n",
    "            table = [None]*(n+1)  # tabulation\n",
    "            table[0] = 0\n",
    "            table[1] = 1\n",
    "            for i in range(2, n+1):\n",
    "                table[i] = table[i-2] + table[i-1] # 앞에서부터 테이블을 순서대로 채워가면서 문제풀이\n",
    "\n",
    "            return table[n]\n",
    "\n",
    "        return tabulation(n)"
   ]
  },
  {
   "cell_type": "markdown",
   "id": "e6242352-a22a-482f-8598-b0c63c5c4e68",
   "metadata": {},
   "source": [
    "## 또 다른 피보나치 풀이\n",
    "파이써닉한 풀이"
   ]
  },
  {
   "cell_type": "code",
   "execution_count": 11,
   "id": "d1f2e8ed-ba52-44e7-99c1-115d20a872e1",
   "metadata": {
    "tags": []
   },
   "outputs": [
    {
     "name": "stdout",
     "output_type": "stream",
     "text": [
      "x, y = 1, 1\n",
      "x, y = 1, 2\n",
      "x, y = 2, 3\n",
      "x, y = 3, 5\n",
      "x, y = 5, 8\n",
      "x, y = 8, 13\n",
      "x, y = 13, 21\n",
      "x, y = 21, 34\n",
      "x, y = 34, 55\n",
      "x, y = 55, 89\n"
     ]
    },
    {
     "data": {
      "text/plain": [
       "55"
      ]
     },
     "execution_count": 11,
     "metadata": {},
     "output_type": "execute_result"
    }
   ],
   "source": [
    "def fib(n):\n",
    "    x, y = 0, 1\n",
    "    for _ in range(0, n):\n",
    "        x, y = y, x+y    # 공간복잡도는 O(n)에서 O(1)로 준다. 시간복잡도는 동일하게 O(n)\n",
    "        \n",
    "        print(f'x, y = {x}, {y}')\n",
    "    return x\n",
    "\n",
    "fib(10)"
   ]
  },
  {
   "cell_type": "markdown",
   "id": "8a8d68c6-75f8-4785-9922-4a8ed4f3799a",
   "metadata": {},
   "source": [
    "# 0-1 배낭문제\n",
    "파알 21장 그리디 참고"
   ]
  },
  {
   "cell_type": "code",
   "execution_count": 32,
   "id": "5222bf10-465f-4202-9bf6-02c0589759dc",
   "metadata": {
    "tags": []
   },
   "outputs": [
    {
     "data": {
      "text/plain": [
       "15"
      ]
     },
     "execution_count": 32,
     "metadata": {},
     "output_type": "execute_result"
    }
   ],
   "source": [
    "cargo = [\n",
    "    (4, 12), # $, kg\n",
    "    (2, 1),\n",
    "    (10, 4),\n",
    "    (1, 1),\n",
    "    (2, 2),\n",
    "]\n",
    "def zero_one_knapsack(cargo):\n",
    "    capa = 15\n",
    "    table = []\n",
    "    \n",
    "    for i in range(len(cargo) + 1): # (cargo에 들어있는 순서대로)짐 개수별\n",
    "        table.append([])\n",
    "        for c in range(capa + 1): # 배낭 용량별, 조합가능한 모든 경우의 수를 따졌을 때 최대가치\n",
    "            if i == 0 or c == 0:\n",
    "                table[i].append(0)\n",
    "            elif cargo[i-1][1] <= c: # 현재 짐의 무게가 배낭 용량보다 같거나 작으면\n",
    "                 # 현재 짐의 가치 + 현재 짐을 추가하지 않았을 때 최대가치,\n",
    "                 # 현재 짐을 추가하지 않고 이전에 추가된 짐까지의 최대가치\n",
    "                 # 둘 중 큰 걸 테이블에 기록한다.\n",
    "                table[i].append(\n",
    "                    max(\n",
    "                        cargo[i-1][0] + table[i-1][c-cargo[i-1][1]], table[i-1][c]\n",
    "                    ) \n",
    "                )\n",
    "            else: # 현재 짐의 무게가 배낭 용량보다 크면\n",
    "                  # 현재 짐을 추가하지 않고 이전에 추가된 짐까지의 최대가치를 테이블에 기록\n",
    "                table[i].append(table[i-1][c])\n",
    "                \n",
    "                \n",
    "    return table[-1][-1] # 짐의 개수와 배낭의 용량이 모두 최대일 때 얻을 수 있는 최대 가치\n",
    "\n",
    "zero_one_knapsack(cargo)\n",
    "            \n",
    "        "
   ]
  },
  {
   "cell_type": "markdown",
   "id": "6390d7af-4c9f-4a75-9be2-f70bd11d4b61",
   "metadata": {},
   "source": [
    "### 코드 개선"
   ]
  },
  {
   "cell_type": "code",
   "execution_count": 34,
   "id": "d3816f9c-d37a-41a0-a2ff-16930e496484",
   "metadata": {
    "tags": []
   },
   "outputs": [
    {
     "name": "stdout",
     "output_type": "stream",
     "text": [
      "[[0, 0, 0, 0, 0, 0, 0, 0, 0, 0, 0, 0, 0, 0, 0, 0], [0, 0, 0, 0, 0, 0, 0, 0, 0, 0, 0, 0, 4, 4, 4, 4], [0, 2, 2, 2, 2, 2, 2, 2, 2, 2, 2, 2, 4, 6, 6, 6], [0, 2, 2, 2, 10, 12, 12, 12, 12, 12, 12, 12, 12, 12, 12, 12], [0, 2, 3, 3, 10, 12, 13, 13, 13, 13, 13, 13, 13, 13, 13, 13], [0, 2, 3, 4, 10, 12, 13, 14, 15, 15, 15, 15, 15, 15, 15, 15]]\n",
      "15\n"
     ]
    }
   ],
   "source": [
    "def zero_one_knapsack(cargo, capacity):\n",
    "    # 동적 프로그래밍 테이블 초기화\n",
    "    dp_table = [[0 for _ in range(capacity + 1)] for _ in range(len(cargo) + 1)]\n",
    "    \n",
    "    for i in range(1, len(cargo) + 1):\n",
    "        for weight in range(1, capacity + 1):\n",
    "            value, cargo_weight = cargo[i - 1]\n",
    "            if cargo_weight <= weight:\n",
    "                # 현재 항목을 포함하는 경우와 포함하지 않는 경우 중 최대 가치 선택\n",
    "                dp_table[i][weight] = max(\n",
    "                    value + dp_table[i-1][weight-cargo_weight], \n",
    "                    dp_table[i-1][weight]\n",
    "                )\n",
    "            else:\n",
    "                # 현재 항목을 포함할 수 없는 경우, 이전 결과 사용\n",
    "                dp_table[i][weight] = dp_table[i-1][weight]\n",
    "    print(dp_table)\n",
    "    return dp_table[-1][-1]\n",
    "\n",
    "# 예시 데이터\n",
    "cargo = [\n",
    "    (4, 12), # 가치($), 무게(kg)\n",
    "    (2, 1),\n",
    "    (10, 4),\n",
    "    (1, 1),\n",
    "    (2, 2),\n",
    "]\n",
    "\n",
    "# 함수 실행 예시\n",
    "capacity = 15\n",
    "print(zero_one_knapsack(cargo, capacity))"
   ]
  },
  {
   "cell_type": "code",
   "execution_count": 35,
   "id": "e1309f57-9659-4f04-b35e-eea88682cf43",
   "metadata": {
    "tags": []
   },
   "outputs": [],
   "source": [
    "dp_table = [[0 for _ in range(capacity + 1)] for _ in range(len(cargo) + 1)]"
   ]
  },
  {
   "cell_type": "code",
   "execution_count": 36,
   "id": "efc407c6-6c49-4f03-9611-29f00a39ff38",
   "metadata": {
    "tags": []
   },
   "outputs": [
    {
     "data": {
      "text/plain": [
       "[[0, 0, 0, 0, 0, 0, 0, 0, 0, 0, 0, 0, 0, 0, 0, 0],\n",
       " [0, 0, 0, 0, 0, 0, 0, 0, 0, 0, 0, 0, 0, 0, 0, 0],\n",
       " [0, 0, 0, 0, 0, 0, 0, 0, 0, 0, 0, 0, 0, 0, 0, 0],\n",
       " [0, 0, 0, 0, 0, 0, 0, 0, 0, 0, 0, 0, 0, 0, 0, 0],\n",
       " [0, 0, 0, 0, 0, 0, 0, 0, 0, 0, 0, 0, 0, 0, 0, 0],\n",
       " [0, 0, 0, 0, 0, 0, 0, 0, 0, 0, 0, 0, 0, 0, 0, 0]]"
      ]
     },
     "execution_count": 36,
     "metadata": {},
     "output_type": "execute_result"
    }
   ],
   "source": [
    "dp_table"
   ]
  },
  {
   "cell_type": "markdown",
   "id": "b7c32fbe-25b4-4b49-a472-81ab0b65e93e",
   "metadata": {},
   "source": [
    "# 문87 계단오르기 e\n",
    "https://leetcode.com/problems/climbing-stairs"
   ]
  },
  {
   "cell_type": "code",
   "execution_count": null,
   "id": "afc5bf7c-7d1d-41cc-906a-944bfbe3a2dc",
   "metadata": {},
   "outputs": [],
   "source": [
    "You are climbing a staircase. It takes n steps to reach the top.\n",
    "Each time you can either climb 1 or 2 steps. In how many distinct ways can you climb to the top\n",
    "\n",
    "Example 1:\n",
    "\n",
    "Input: n = 2\n",
    "Output: 2\n",
    "Explanation: There are two ways to climb to the top.\n",
    "1. 1 step + 1 step\n",
    "2. 2 steps"
   ]
  },
  {
   "cell_type": "code",
   "execution_count": null,
   "id": "026317ec-cc89-427a-8d1e-47b6c5941f5f",
   "metadata": {},
   "outputs": [],
   "source": [
    "class Solution:\n",
    "    def climbStairs(self, n: int) -> int:"
   ]
  },
  {
   "cell_type": "code",
   "execution_count": null,
   "id": "04a9252d-e7ee-4be0-9bea-812fabcf886a",
   "metadata": {},
   "outputs": [],
   "source": [
    "class Solution:\n",
    "    def rob(self, nums: List[int]) -> int:\n",
    "        "
   ]
  },
  {
   "cell_type": "markdown",
   "id": "611404e4-8370-4de5-ae88-548bf58ec3e1",
   "metadata": {},
   "source": [
    "# 문86 최대 서브 배열 m\n",
    "https://leetcode.com/problems/maximum-subarray"
   ]
  },
  {
   "cell_type": "code",
   "execution_count": null,
   "id": "354dcbe7-616e-4e1a-a600-0bb635b34b39",
   "metadata": {},
   "outputs": [],
   "source": [
    "Given an integer array nums, find the subarray with the largest sum, and return its sum.\n",
    "\n",
    "Example 1:\n",
    "\n",
    "Input: nums = [-2,1,-3,4,-1,2,1,-5,4]\n",
    "Output: 6\n",
    "Explanation: The subarray [4,-1,2,1] has the largest sum 6\n",
    "\n",
    "Example 2:\n",
    "\n",
    "Input: nums = [1]\n",
    "Output: 1\n",
    "Explanation: The subarray [1] has the largest sum 1."
   ]
  },
  {
   "cell_type": "code",
   "execution_count": null,
   "id": "6b375afd-8dd6-4d6c-950f-08deca341dd3",
   "metadata": {},
   "outputs": [],
   "source": [
    "class Solution:\n",
    "    def maxSubArray(self, nums: List[int]) -> int:\n",
    "        "
   ]
  },
  {
   "cell_type": "markdown",
   "id": "8705893a-b5c0-480c-a637-959fc45ef63c",
   "metadata": {},
   "source": [
    "# 문88 집도둑 m\n",
    "https://leetcode.com/problems/house-robber"
   ]
  },
  {
   "cell_type": "code",
   "execution_count": null,
   "id": "890791a0-edaa-46de-929c-846745518a55",
   "metadata": {},
   "outputs": [],
   "source": [
    "You are a professional robber planning to rob houses along a street. \n",
    "Each house has a certain amount of money stashed, \n",
    "the only constraint stopping you from robbing each of them is that adjacent houses have security systems connected \n",
    "and it will automatically contact the police if two adjacent houses were broken into on the same night.\n",
    "\n",
    "Given an integer array nums representing the amount of money of each house, \n",
    "return the maximum amount of money you can rob tonight without alerting the police.\n",
    "\n",
    "Example 1:\n",
    "\n",
    "Input: nums = [1,2,3,1]\n",
    "Output: 4\n",
    "Explanation: Rob house 1 (money = 1) and then rob house 3 (money = 3).\n",
    "Total amount you can rob = 1 + 3 = 4.\n"
   ]
  }
 ],
 "metadata": {
  "kernelspec": {
   "display_name": "tf",
   "language": "python",
   "name": "tf"
  },
  "language_info": {
   "codemirror_mode": {
    "name": "ipython",
    "version": 3
   },
   "file_extension": ".py",
   "mimetype": "text/x-python",
   "name": "python",
   "nbconvert_exporter": "python",
   "pygments_lexer": "ipython3",
   "version": "3.11.0"
  }
 },
 "nbformat": 4,
 "nbformat_minor": 5
}
